{
 "cells": [
  {
   "cell_type": "code",
   "metadata": {
    "cell_id": "00000-46078528-1e61-475a-8ed9-ab5a6ea12b44",
    "deepnote_to_be_reexecuted": false,
    "source_hash": "f4170944",
    "execution_start": 1621509790124,
    "execution_millis": 1051,
    "deepnote_cell_type": "code"
   },
   "source": "# Start writing code here...\nimport pandas as pd\nimport numpy as np\nimport matplotlib.pyplot as plt\nimport geopandas as gpd\n\nimport seaborn as sns\n\nimport matplotlib.pyplot as plt\nimport matplotlib.mlab as mlab\nimport matplotlib\nplt.style.use('ggplot')\nfrom matplotlib.pyplot import figure",
   "execution_count": 1,
   "outputs": []
  },
  {
   "cell_type": "code",
   "source": "def explore_data(df):\n    print(\"**** Dimensions or Shape (rows x columns)\")\n    display(df.shape)\n    print(\"**** Column Names\")\n    display(df.columns)\n    print(\"**** Data Types\")\n    display(df.dtypes)\n    print(\"**** Descriptive Statistics\")\n    display(df.describe())\n    print(\"**** Head\")\n    display(df.head())\n    print(\"**** Null Checks\")\n    display(df.isnull().sum())\n",
   "metadata": {
    "tags": [],
    "cell_id": "00001-890b820f-b1ad-40f1-b453-8b29c6d75dbb",
    "deepnote_to_be_reexecuted": false,
    "source_hash": "4faf3018",
    "execution_start": 1621509791180,
    "execution_millis": 3,
    "deepnote_cell_type": "code"
   },
   "outputs": [],
   "execution_count": 2
  },
  {
   "cell_type": "markdown",
   "source": "# Data Loading",
   "metadata": {
    "tags": [],
    "cell_id": "00001-39322aa4-2b54-49de-9a37-f845618dc4ac",
    "deepnote_cell_type": "markdown"
   }
  },
  {
   "cell_type": "code",
   "metadata": {
    "cell_id": "00001-23e653f7-2694-41e6-be79-ffeef9f168e8",
    "deepnote_to_be_reexecuted": false,
    "source_hash": "e5f1fe01",
    "execution_start": 1621509791188,
    "execution_millis": 574,
    "deepnote_cell_type": "code"
   },
   "source": "enrol_e = pd.read_csv(\"Enrollment Master Data_2015_E.csv\")[:-1].astype(int)\nenrol_s = (pd.read_csv('Enrollment Master Data_2015_S.csv')[:-1]\n                  .replace(\",\", \"\", regex=True)\n                  .astype(int)\n)\nmasterlist = pd.read_csv(\"Masterlist of Schools.csv\")\nmooe = (pd.read_csv('MOOE data.csv', usecols=[\"school.id\", \" school.mooe \"])\n             .replace(\",\", \"\", regex=True).astype(float))\nroom = pd.read_csv('Rooms data.csv')\nteacher = pd.read_csv(\"Teachers data.csv\")\n",
   "execution_count": 3,
   "outputs": []
  },
  {
   "cell_type": "code",
   "source": "masterlist['school.region'].value_counts()",
   "metadata": {
    "tags": [],
    "cell_id": "00004-78eec7cb-fb7a-4f9c-8bdd-c6d46c0382ba",
    "deepnote_to_be_reexecuted": false,
    "source_hash": "1c383665",
    "execution_start": 1621509791773,
    "execution_millis": 23,
    "deepnote_cell_type": "code"
   },
   "outputs": [
    {
     "output_type": "execute_result",
     "execution_count": 4,
     "data": {
      "text/plain": "Region VIII    4132\nRegion VI      4050\nRegion V       3798\nRegion VII     3737\nRegion III     3621\nRegion IV-A    3392\nRegion I       2926\nRegion II      2583\nARMM           2514\nRegion IX      2488\nRegion X       2441\nRegion IV-B    2198\nRegion XII     2168\nCARAGA         2038\nRegion XI      1933\nCAR            1816\nNCR             768\nName: school.region, dtype: int64"
     },
     "metadata": {}
    }
   ],
   "execution_count": 4
  },
  {
   "cell_type": "code",
   "source": "# replace CARAGA to REGION XIII\nmasterlist['school.region'] = masterlist['school.region'].str.replace('CARAGA','Region XIII')\n",
   "metadata": {
    "tags": [],
    "cell_id": "00004-6390b3c8-28f8-4008-9d2f-6bf0c2f744cb",
    "deepnote_to_be_reexecuted": false,
    "source_hash": "3bc37551",
    "execution_start": 1621509791781,
    "execution_millis": 26,
    "deepnote_cell_type": "code"
   },
   "outputs": [],
   "execution_count": 5
  },
  {
   "cell_type": "code",
   "source": "masterlist['school.region'].value_counts()",
   "metadata": {
    "tags": [],
    "cell_id": "00006-40dfb647-46db-41e7-85c0-60e4d8d42ee2",
    "deepnote_to_be_reexecuted": false,
    "source_hash": "1c383665",
    "execution_start": 1621509791811,
    "execution_millis": 9,
    "deepnote_cell_type": "code"
   },
   "outputs": [
    {
     "output_type": "execute_result",
     "execution_count": 6,
     "data": {
      "text/plain": "Region VIII    4132\nRegion VI      4050\nRegion V       3798\nRegion VII     3737\nRegion III     3621\nRegion IV-A    3392\nRegion I       2926\nRegion II      2583\nARMM           2514\nRegion IX      2488\nRegion X       2441\nRegion IV-B    2198\nRegion XII     2168\nRegion XIII    2038\nRegion XI      1933\nCAR            1816\nNCR             768\nName: school.region, dtype: int64"
     },
     "metadata": {}
    }
   ],
   "execution_count": 6
  },
  {
   "cell_type": "markdown",
   "source": "## Data cleaning",
   "metadata": {
    "tags": [],
    "cell_id": "00003-75787256-f2c3-423e-9d83-906dcbb650c0",
    "deepnote_cell_type": "markdown"
   }
  },
  {
   "cell_type": "code",
   "metadata": {
    "cell_id": "00002-d36bfc7f-75f4-454c-a608-8284770d469a",
    "deepnote_to_be_reexecuted": false,
    "source_hash": "3491318f",
    "execution_start": 1621509791817,
    "execution_millis": 36,
    "deepnote_cell_type": "code"
   },
   "source": "enrol_all = pd.concat([enrol_e, enrol_s], ignore_index = True)\n\nenrol_all[\"SPED NG Male\"] = enrol_s[\"SPED NG Male\"]+enrol_e[\"SPED NG Male\"]\nenrol_all[\"SPED NG Female\"] = enrol_s[\"SPED NG Female\"]+enrol_e[\"SPED NG Female\"]",
   "execution_count": 7,
   "outputs": []
  },
  {
   "cell_type": "code",
   "metadata": {
    "cell_id": "00003-6ee05c0b-f3e1-4df6-ae7e-518e0f7f2060",
    "deepnote_to_be_reexecuted": false,
    "source_hash": "341824ae",
    "execution_start": 1621509791856,
    "execution_millis": 20,
    "deepnote_cell_type": "code"
   },
   "source": "enrol_all.columns",
   "execution_count": 8,
   "outputs": [
    {
     "output_type": "execute_result",
     "execution_count": 8,
     "data": {
      "text/plain": "Index(['School ID', 'Kinder Male', 'Kinder Female', 'Grade 1 Male',\n       'Grade 1 Female', 'Grade 2 Male', 'Grade 2 Female', 'Grade 3 Male',\n       'Grade 3 Female', 'Grade 4 Male', 'Grade 4 Female', 'Grade 5 Male',\n       'Grade 5 Female', 'Grade 6 Male', 'Grade 6 Female', 'SPED NG Male',\n       'SPED NG Female', 'Grade 7 Male', 'Grade 7 Female', 'Grade 8 Male',\n       'Grade 8 Female', 'Grade 9 Male', 'Grade 9 Female', 'Grade 10 Male',\n       'Grade 10 Female', 'Grade 11 Male', 'Grade 11 Female', 'Grade 12 Male',\n       'Grade 12 Female'],\n      dtype='object')"
     },
     "metadata": {}
    }
   ]
  },
  {
   "cell_type": "code",
   "metadata": {
    "cell_id": "00004-1128f151-b12a-4440-b66d-7857bbf38f3a",
    "deepnote_to_be_reexecuted": false,
    "source_hash": "5262d655",
    "execution_start": 1621509791883,
    "execution_millis": 32,
    "deepnote_cell_type": "code"
   },
   "source": "masterlist.columns",
   "execution_count": 9,
   "outputs": [
    {
     "output_type": "execute_result",
     "execution_count": 9,
     "data": {
      "text/plain": "Index(['school.id', 'school.name', 'school.region', 'school.region.name',\n       'school.province', 'school.cityhall', 'school.division',\n       'school.citymuni', 'school.district', 'school.legdistrict',\n       'school.type', 'school.abbrev', 'school.previousname',\n       'school.mother.id', 'school.address', 'school.established',\n       'school.classification', 'school.classification2',\n       'school.curricularclass', 'school.organization', 'school.cityincome',\n       'school.cityclass', 'school.urban'],\n      dtype='object')"
     },
     "metadata": {}
    }
   ]
  },
  {
   "cell_type": "code",
   "metadata": {
    "cell_id": "00005-2451b362-c968-4a99-a1eb-4ce5958e749c",
    "deepnote_to_be_reexecuted": false,
    "source_hash": "8e0324a7",
    "execution_start": 1621509791884,
    "execution_millis": 31,
    "deepnote_cell_type": "code"
   },
   "source": "masterlist.shape",
   "execution_count": 10,
   "outputs": [
    {
     "output_type": "execute_result",
     "execution_count": 10,
     "data": {
      "text/plain": "(46603, 23)"
     },
     "metadata": {}
    }
   ]
  },
  {
   "cell_type": "code",
   "metadata": {
    "cell_id": "00006-43fb2948-18d0-47e9-b2eb-ddec72fcf8c8",
    "deepnote_to_be_reexecuted": false,
    "source_hash": "48dedaa5",
    "execution_start": 1621509791885,
    "execution_millis": 30,
    "deepnote_cell_type": "code"
   },
   "source": "mooe.columns",
   "execution_count": 11,
   "outputs": [
    {
     "output_type": "execute_result",
     "execution_count": 11,
     "data": {
      "text/plain": "Index(['school.id', ' school.mooe '], dtype='object')"
     },
     "metadata": {}
    }
   ]
  },
  {
   "cell_type": "code",
   "metadata": {
    "cell_id": "00007-42ec97c3-27f9-4f9a-9f9e-90040a163dac",
    "deepnote_to_be_reexecuted": false,
    "source_hash": "8ec6d29e",
    "execution_start": 1621509791892,
    "execution_millis": 23,
    "deepnote_cell_type": "code"
   },
   "source": "room.columns",
   "execution_count": 12,
   "outputs": [
    {
     "output_type": "execute_result",
     "execution_count": 12,
     "data": {
      "text/plain": "Index(['School ID', 'rooms.standard.academic', 'rooms.standard.unused',\n       'rooms.nonstandard.academic', 'rooms.nonstandard.unused'],\n      dtype='object')"
     },
     "metadata": {}
    }
   ]
  },
  {
   "cell_type": "code",
   "metadata": {
    "cell_id": "00008-04d9f4fe-7678-425c-a86a-3a6b6176bba1",
    "deepnote_to_be_reexecuted": false,
    "source_hash": "ab12144c",
    "execution_start": 1621509791906,
    "execution_millis": 9,
    "deepnote_cell_type": "code"
   },
   "source": "teacher.columns",
   "execution_count": 13,
   "outputs": [
    {
     "output_type": "execute_result",
     "execution_count": 13,
     "data": {
      "text/plain": "Index(['school.id', 'teachers.instructor', 'teachers.mobile',\n       'teachers.regular', 'teachers.sped'],\n      dtype='object')"
     },
     "metadata": {}
    }
   ]
  },
  {
   "cell_type": "code",
   "metadata": {
    "cell_id": "00009-3489423b-dfff-4d84-843f-9e39c05b9c0c",
    "deepnote_to_be_reexecuted": false,
    "source_hash": "901fd986",
    "execution_start": 1621509791960,
    "execution_millis": 46,
    "deepnote_cell_type": "code"
   },
   "source": "#School ID - enrol_all, room\n#school.id - masterlist, mooe, teacher\nmaster_df = pd.merge(masterlist, enrol_all, left_on =\"school.id\", right_on = \"School ID\", how = \"left\")",
   "execution_count": 14,
   "outputs": []
  },
  {
   "cell_type": "code",
   "metadata": {
    "cell_id": "00010-6b82afa1-f279-4de5-8915-ae5bb0bdc2f9",
    "deepnote_to_be_reexecuted": false,
    "source_hash": "f7e130f3",
    "execution_start": 1621509792006,
    "execution_millis": 141,
    "deepnote_cell_type": "code"
   },
   "source": "master_df.head()",
   "execution_count": 15,
   "outputs": [
    {
     "output_type": "execute_result",
     "execution_count": 15,
     "data": {
      "application/vnd.deepnote.dataframe.v2+json": {
       "row_count": 5,
       "column_count": 52,
       "columns": [
        {
         "name": "school.id",
         "dtype": "int64",
         "stats": {
          "unique_count": 5,
          "nan_count": 0,
          "min": "100043",
          "max": "102193",
          "histogram": [
           {
            "bin_start": 100043,
            "bin_end": 100258,
            "count": 2
           },
           {
            "bin_start": 100258,
            "bin_end": 100473,
            "count": 0
           },
           {
            "bin_start": 100473,
            "bin_end": 100688,
            "count": 0
           },
           {
            "bin_start": 100688,
            "bin_end": 100903,
            "count": 0
           },
           {
            "bin_start": 100903,
            "bin_end": 101118,
            "count": 0
           },
           {
            "bin_start": 101118,
            "bin_end": 101333,
            "count": 1
           },
           {
            "bin_start": 101333,
            "bin_end": 101548,
            "count": 0
           },
           {
            "bin_start": 101548,
            "bin_end": 101763,
            "count": 1
           },
           {
            "bin_start": 101763,
            "bin_end": 101978,
            "count": 0
           },
           {
            "bin_start": 101978,
            "bin_end": 102193,
            "count": 1
           }
          ]
         }
        },
        {
         "name": "school.name",
         "dtype": "object",
         "stats": {
          "unique_count": 5,
          "nan_count": 0,
          "categories": [
           {
            "name": "A. Diaz, Sr. ES",
            "count": 1
           },
           {
            "name": "A. P. Santos ES (SPED Center)",
            "count": 1
           },
           {
            "name": "3 others",
            "count": 3
           }
          ]
         }
        },
        {
         "name": "school.region",
         "dtype": "object",
         "stats": {
          "unique_count": 1,
          "nan_count": 0,
          "categories": [
           {
            "name": "Region I",
            "count": 5
           }
          ]
         }
        },
        {
         "name": "school.region.name",
         "dtype": "object",
         "stats": {
          "unique_count": 1,
          "nan_count": 0,
          "categories": [
           {
            "name": "Ilocos Region",
            "count": 5
           }
          ]
         }
        },
        {
         "name": "school.province",
         "dtype": "object",
         "stats": {
          "unique_count": 2,
          "nan_count": 0,
          "categories": [
           {
            "name": "ILOCOS NORTE",
            "count": 3
           },
           {
            "name": "PANGASINAN",
            "count": 2
           }
          ]
         }
        },
        {
         "name": "school.cityhall",
         "dtype": "object",
         "stats": {
          "unique_count": 2,
          "nan_count": 0,
          "categories": [
           {
            "name": "ILOCOS NORTE",
            "count": 3
           },
           {
            "name": "PANGASINAN",
            "count": 2
           }
          ]
         }
        },
        {
         "name": "school.division",
         "dtype": "object",
         "stats": {
          "unique_count": 4,
          "nan_count": 0,
          "categories": [
           {
            "name": "Ilocos Norte",
            "count": 2
           },
           {
            "name": "Pangasinan II, Binalonan",
            "count": 1
           },
           {
            "name": "2 others",
            "count": 2
           }
          ]
         }
        },
        {
         "name": "school.citymuni",
         "dtype": "object",
         "stats": {
          "unique_count": 5,
          "nan_count": 0,
          "categories": [
           {
            "name": "BAUTISTA",
            "count": 1
           },
           {
            "name": "LAOAG CITY (Capital)",
            "count": 1
           },
           {
            "name": "3 others",
            "count": 3
           }
          ]
         }
        },
        {
         "name": "school.district",
         "dtype": "object",
         "stats": {
          "unique_count": 5,
          "nan_count": 0,
          "categories": [
           {
            "name": "Bautista",
            "count": 1
           },
           {
            "name": "Laoag City District II",
            "count": 1
           },
           {
            "name": "3 others",
            "count": 3
           }
          ]
         }
        },
        {
         "name": "school.legdistrict",
         "dtype": "object",
         "stats": {
          "unique_count": 3,
          "nan_count": 0,
          "categories": [
           {
            "name": "1st District",
            "count": 3
           },
           {
            "name": "5th District",
            "count": 1
           },
           {
            "name": "3rd District",
            "count": 1
           }
          ]
         }
        },
        {
         "name": "school.type",
         "dtype": "object",
         "stats": {
          "unique_count": 1,
          "nan_count": 0,
          "categories": [
           {
            "name": "School with no Annexes",
            "count": 5
           }
          ]
         }
        },
        {
         "name": "school.abbrev",
         "dtype": "object",
         "stats": {
          "unique_count": 3,
          "nan_count": 1,
          "categories": [
           {
            "name": "AES",
            "count": 2
           },
           {
            "name": "2 others",
            "count": 2
           },
           {
            "name": "Missing",
            "count": 1
           }
          ]
         }
        },
        {
         "name": "school.previousname",
         "dtype": "object",
         "stats": {
          "unique_count": 3,
          "nan_count": 0,
          "categories": [
           {
            "name": "none",
            "count": 2
           },
           {
            "name": "-",
            "count": 2
           },
           {
            "name": "A.P. Guevarra IS",
            "count": 1
           }
          ]
         }
        },
        {
         "name": "school.mother.id",
         "dtype": "float64",
         "stats": {
          "unique_count": 5,
          "nan_count": 0,
          "min": "100043.0",
          "max": "102193.0",
          "histogram": [
           {
            "bin_start": 100043,
            "bin_end": 100258,
            "count": 2
           },
           {
            "bin_start": 100258,
            "bin_end": 100473,
            "count": 0
           },
           {
            "bin_start": 100473,
            "bin_end": 100688,
            "count": 0
           },
           {
            "bin_start": 100688,
            "bin_end": 100903,
            "count": 0
           },
           {
            "bin_start": 100903,
            "bin_end": 101118,
            "count": 0
           },
           {
            "bin_start": 101118,
            "bin_end": 101333,
            "count": 1
           },
           {
            "bin_start": 101333,
            "bin_end": 101548,
            "count": 0
           },
           {
            "bin_start": 101548,
            "bin_end": 101763,
            "count": 1
           },
           {
            "bin_start": 101763,
            "bin_end": 101978,
            "count": 0
           },
           {
            "bin_start": 101978,
            "bin_end": 102193,
            "count": 1
           }
          ]
         }
        },
        {
         "name": "school.address",
         "dtype": "object",
         "stats": {
          "unique_count": 5,
          "nan_count": 0,
          "categories": [
           {
            "name": "Brgy. Dias Bautista, Pang",
            "count": 1
           },
           {
            "name": "A.G. Tupaz",
            "count": 1
           },
           {
            "name": "3 others",
            "count": 3
           }
          ]
         }
        },
        {
         "name": "school.established",
         "dtype": "object",
         "stats": {
          "unique_count": 5,
          "nan_count": 0,
          "categories": [
           {
            "name": "1/1/1930",
            "count": 1
           },
           {
            "name": "1/1/1944",
            "count": 1
           },
           {
            "name": "3 others",
            "count": 3
           }
          ]
         }
        },
        {
         "name": "school.classification",
         "dtype": "object",
         "stats": {
          "unique_count": 1,
          "nan_count": 0,
          "categories": [
           {
            "name": "Elementary",
            "count": 5
           }
          ]
         }
        },
        {
         "name": "school.classification2",
         "dtype": "object",
         "stats": {
          "unique_count": 1,
          "nan_count": 0,
          "categories": [
           {
            "name": "DepED Managed",
            "count": 5
           }
          ]
         }
        },
        {
         "name": "school.curricularclass",
         "dtype": "object",
         "stats": {
          "unique_count": 2,
          "nan_count": 0,
          "categories": [
           {
            "name": "Elementary",
            "count": 4
           },
           {
            "name": "Kinder & Elementary",
            "count": 1
           }
          ]
         }
        },
        {
         "name": "school.organization",
         "dtype": "object",
         "stats": {
          "unique_count": 1,
          "nan_count": 0,
          "categories": [
           {
            "name": "Monograde",
            "count": 5
           }
          ]
         }
        },
        {
         "name": "school.cityincome",
         "dtype": "object",
         "stats": {
          "unique_count": 4,
          "nan_count": 0,
          "categories": [
           {
            "name": "P 25 M or more but less than P 35 M",
            "count": 2
           },
           {
            "name": "P 240 M or more but less than P 320 M",
            "count": 1
           },
           {
            "name": "2 others",
            "count": 2
           }
          ]
         }
        },
        {
         "name": "school.cityclass",
         "dtype": "object",
         "stats": {
          "unique_count": 1,
          "nan_count": 4,
          "categories": [
           {
            "name": "Component City",
            "count": 1
           },
           {
            "name": "Missing",
            "count": 4
           }
          ]
         }
        },
        {
         "name": "school.urban",
         "dtype": "object",
         "stats": {
          "unique_count": 1,
          "nan_count": 0,
          "categories": [
           {
            "name": "Partially Urban",
            "count": 5
           }
          ]
         }
        },
        {
         "name": "School ID",
         "dtype": "float64",
         "stats": {
          "unique_count": 5,
          "nan_count": 0,
          "min": "100043.0",
          "max": "102193.0",
          "histogram": [
           {
            "bin_start": 100043,
            "bin_end": 100258,
            "count": 2
           },
           {
            "bin_start": 100258,
            "bin_end": 100473,
            "count": 0
           },
           {
            "bin_start": 100473,
            "bin_end": 100688,
            "count": 0
           },
           {
            "bin_start": 100688,
            "bin_end": 100903,
            "count": 0
           },
           {
            "bin_start": 100903,
            "bin_end": 101118,
            "count": 0
           },
           {
            "bin_start": 101118,
            "bin_end": 101333,
            "count": 1
           },
           {
            "bin_start": 101333,
            "bin_end": 101548,
            "count": 0
           },
           {
            "bin_start": 101548,
            "bin_end": 101763,
            "count": 1
           },
           {
            "bin_start": 101763,
            "bin_end": 101978,
            "count": 0
           },
           {
            "bin_start": 101978,
            "bin_end": 102193,
            "count": 1
           }
          ]
         }
        },
        {
         "name": "Kinder Male",
         "dtype": "float64",
         "stats": {
          "unique_count": 5,
          "nan_count": 0,
          "min": "10.0",
          "max": "57.0",
          "histogram": [
           {
            "bin_start": 10,
            "bin_end": 14.7,
            "count": 2
           },
           {
            "bin_start": 14.7,
            "bin_end": 19.4,
            "count": 1
           },
           {
            "bin_start": 19.4,
            "bin_end": 24.1,
            "count": 1
           },
           {
            "bin_start": 24.1,
            "bin_end": 28.8,
            "count": 0
           },
           {
            "bin_start": 28.8,
            "bin_end": 33.5,
            "count": 0
           },
           {
            "bin_start": 33.5,
            "bin_end": 38.2,
            "count": 0
           },
           {
            "bin_start": 38.2,
            "bin_end": 42.9,
            "count": 0
           },
           {
            "bin_start": 42.9,
            "bin_end": 47.6,
            "count": 0
           },
           {
            "bin_start": 47.6,
            "bin_end": 52.300000000000004,
            "count": 0
           },
           {
            "bin_start": 52.300000000000004,
            "bin_end": 57,
            "count": 1
           }
          ]
         }
        },
        {
         "name": "Kinder Female",
         "dtype": "float64",
         "stats": {
          "unique_count": 5,
          "nan_count": 0,
          "min": "6.0",
          "max": "45.0",
          "histogram": [
           {
            "bin_start": 6,
            "bin_end": 9.9,
            "count": 1
           },
           {
            "bin_start": 9.9,
            "bin_end": 13.8,
            "count": 2
           },
           {
            "bin_start": 13.8,
            "bin_end": 17.7,
            "count": 0
           },
           {
            "bin_start": 17.7,
            "bin_end": 21.6,
            "count": 0
           },
           {
            "bin_start": 21.6,
            "bin_end": 25.5,
            "count": 1
           },
           {
            "bin_start": 25.5,
            "bin_end": 29.4,
            "count": 0
           },
           {
            "bin_start": 29.4,
            "bin_end": 33.3,
            "count": 0
           },
           {
            "bin_start": 33.3,
            "bin_end": 37.2,
            "count": 0
           },
           {
            "bin_start": 37.2,
            "bin_end": 41.1,
            "count": 0
           },
           {
            "bin_start": 41.1,
            "bin_end": 45,
            "count": 1
           }
          ]
         }
        },
        {
         "name": "Grade 1 Male",
         "dtype": "float64",
         "stats": {
          "unique_count": 5,
          "nan_count": 0,
          "min": "10.0",
          "max": "56.0",
          "histogram": [
           {
            "bin_start": 10,
            "bin_end": 14.6,
            "count": 2
           },
           {
            "bin_start": 14.6,
            "bin_end": 19.2,
            "count": 0
           },
           {
            "bin_start": 19.2,
            "bin_end": 23.799999999999997,
            "count": 1
           },
           {
            "bin_start": 23.799999999999997,
            "bin_end": 28.4,
            "count": 0
           },
           {
            "bin_start": 28.4,
            "bin_end": 33,
            "count": 0
           },
           {
            "bin_start": 33,
            "bin_end": 37.599999999999994,
            "count": 0
           },
           {
            "bin_start": 37.599999999999994,
            "bin_end": 42.199999999999996,
            "count": 1
           },
           {
            "bin_start": 42.199999999999996,
            "bin_end": 46.8,
            "count": 0
           },
           {
            "bin_start": 46.8,
            "bin_end": 51.4,
            "count": 0
           },
           {
            "bin_start": 51.4,
            "bin_end": 56,
            "count": 1
           }
          ]
         }
        },
        {
         "name": "Grade 1 Female",
         "dtype": "float64",
         "stats": {
          "unique_count": 5,
          "nan_count": 0,
          "min": "10.0",
          "max": "58.0",
          "histogram": [
           {
            "bin_start": 10,
            "bin_end": 14.8,
            "count": 1
           },
           {
            "bin_start": 14.8,
            "bin_end": 19.6,
            "count": 1
           },
           {
            "bin_start": 19.6,
            "bin_end": 24.4,
            "count": 0
           },
           {
            "bin_start": 24.4,
            "bin_end": 29.2,
            "count": 1
           },
           {
            "bin_start": 29.2,
            "bin_end": 34,
            "count": 1
           },
           {
            "bin_start": 34,
            "bin_end": 38.8,
            "count": 0
           },
           {
            "bin_start": 38.8,
            "bin_end": 43.6,
            "count": 0
           },
           {
            "bin_start": 43.6,
            "bin_end": 48.4,
            "count": 0
           },
           {
            "bin_start": 48.4,
            "bin_end": 53.199999999999996,
            "count": 0
           },
           {
            "bin_start": 53.199999999999996,
            "bin_end": 58,
            "count": 1
           }
          ]
         }
        },
        {
         "name": "Grade 2 Male",
         "dtype": "float64",
         "stats": {
          "unique_count": 5,
          "nan_count": 0,
          "min": "9.0",
          "max": "63.0",
          "histogram": [
           {
            "bin_start": 9,
            "bin_end": 14.4,
            "count": 1
           },
           {
            "bin_start": 14.4,
            "bin_end": 19.8,
            "count": 1
           },
           {
            "bin_start": 19.8,
            "bin_end": 25.200000000000003,
            "count": 1
           },
           {
            "bin_start": 25.200000000000003,
            "bin_end": 30.6,
            "count": 0
           },
           {
            "bin_start": 30.6,
            "bin_end": 36,
            "count": 0
           },
           {
            "bin_start": 36,
            "bin_end": 41.400000000000006,
            "count": 1
           },
           {
            "bin_start": 41.400000000000006,
            "bin_end": 46.800000000000004,
            "count": 0
           },
           {
            "bin_start": 46.800000000000004,
            "bin_end": 52.2,
            "count": 0
           },
           {
            "bin_start": 52.2,
            "bin_end": 57.6,
            "count": 0
           },
           {
            "bin_start": 57.6,
            "bin_end": 63,
            "count": 1
           }
          ]
         }
        },
        {
         "name": "Grade 2 Female",
         "dtype": "float64",
         "stats": {
          "unique_count": 5,
          "nan_count": 0,
          "min": "11.0",
          "max": "61.0",
          "histogram": [
           {
            "bin_start": 11,
            "bin_end": 16,
            "count": 3
           },
           {
            "bin_start": 16,
            "bin_end": 21,
            "count": 1
           },
           {
            "bin_start": 21,
            "bin_end": 26,
            "count": 0
           },
           {
            "bin_start": 26,
            "bin_end": 31,
            "count": 0
           },
           {
            "bin_start": 31,
            "bin_end": 36,
            "count": 0
           },
           {
            "bin_start": 36,
            "bin_end": 41,
            "count": 0
           },
           {
            "bin_start": 41,
            "bin_end": 46,
            "count": 0
           },
           {
            "bin_start": 46,
            "bin_end": 51,
            "count": 0
           },
           {
            "bin_start": 51,
            "bin_end": 56,
            "count": 0
           },
           {
            "bin_start": 56,
            "bin_end": 61,
            "count": 1
           }
          ]
         }
        },
        {
         "name": "Grade 3 Male",
         "dtype": "float64",
         "stats": {
          "unique_count": 5,
          "nan_count": 0,
          "min": "15.0",
          "max": "55.0",
          "histogram": [
           {
            "bin_start": 15,
            "bin_end": 19,
            "count": 2
           },
           {
            "bin_start": 19,
            "bin_end": 23,
            "count": 1
           },
           {
            "bin_start": 23,
            "bin_end": 27,
            "count": 0
           },
           {
            "bin_start": 27,
            "bin_end": 31,
            "count": 1
           },
           {
            "bin_start": 31,
            "bin_end": 35,
            "count": 0
           },
           {
            "bin_start": 35,
            "bin_end": 39,
            "count": 0
           },
           {
            "bin_start": 39,
            "bin_end": 43,
            "count": 0
           },
           {
            "bin_start": 43,
            "bin_end": 47,
            "count": 0
           },
           {
            "bin_start": 47,
            "bin_end": 51,
            "count": 0
           },
           {
            "bin_start": 51,
            "bin_end": 55,
            "count": 1
           }
          ]
         }
        },
        {
         "name": "Grade 3 Female",
         "dtype": "float64",
         "stats": {
          "unique_count": 5,
          "nan_count": 0,
          "min": "12.0",
          "max": "61.0",
          "histogram": [
           {
            "bin_start": 12,
            "bin_end": 16.9,
            "count": 2
           },
           {
            "bin_start": 16.9,
            "bin_end": 21.8,
            "count": 0
           },
           {
            "bin_start": 21.8,
            "bin_end": 26.700000000000003,
            "count": 1
           },
           {
            "bin_start": 26.700000000000003,
            "bin_end": 31.6,
            "count": 0
           },
           {
            "bin_start": 31.6,
            "bin_end": 36.5,
            "count": 1
           },
           {
            "bin_start": 36.5,
            "bin_end": 41.400000000000006,
            "count": 0
           },
           {
            "bin_start": 41.400000000000006,
            "bin_end": 46.300000000000004,
            "count": 0
           },
           {
            "bin_start": 46.300000000000004,
            "bin_end": 51.2,
            "count": 0
           },
           {
            "bin_start": 51.2,
            "bin_end": 56.1,
            "count": 0
           },
           {
            "bin_start": 56.1,
            "bin_end": 61,
            "count": 1
           }
          ]
         }
        },
        {
         "name": "Grade 4 Male",
         "dtype": "float64",
         "stats": {
          "unique_count": 5,
          "nan_count": 0,
          "min": "12.0",
          "max": "62.0",
          "histogram": [
           {
            "bin_start": 12,
            "bin_end": 17,
            "count": 2
           },
           {
            "bin_start": 17,
            "bin_end": 22,
            "count": 0
           },
           {
            "bin_start": 22,
            "bin_end": 27,
            "count": 2
           },
           {
            "bin_start": 27,
            "bin_end": 32,
            "count": 0
           },
           {
            "bin_start": 32,
            "bin_end": 37,
            "count": 0
           },
           {
            "bin_start": 37,
            "bin_end": 42,
            "count": 0
           },
           {
            "bin_start": 42,
            "bin_end": 47,
            "count": 0
           },
           {
            "bin_start": 47,
            "bin_end": 52,
            "count": 0
           },
           {
            "bin_start": 52,
            "bin_end": 57,
            "count": 0
           },
           {
            "bin_start": 57,
            "bin_end": 62,
            "count": 1
           }
          ]
         }
        },
        {
         "name": "Grade 4 Female",
         "dtype": "float64",
         "stats": {
          "unique_count": 4,
          "nan_count": 0,
          "min": "11.0",
          "max": "55.0",
          "histogram": [
           {
            "bin_start": 11,
            "bin_end": 15.4,
            "count": 3
           },
           {
            "bin_start": 15.4,
            "bin_end": 19.8,
            "count": 0
           },
           {
            "bin_start": 19.8,
            "bin_end": 24.200000000000003,
            "count": 0
           },
           {
            "bin_start": 24.200000000000003,
            "bin_end": 28.6,
            "count": 0
           },
           {
            "bin_start": 28.6,
            "bin_end": 33,
            "count": 0
           },
           {
            "bin_start": 33,
            "bin_end": 37.400000000000006,
            "count": 0
           },
           {
            "bin_start": 37.400000000000006,
            "bin_end": 41.800000000000004,
            "count": 1
           },
           {
            "bin_start": 41.800000000000004,
            "bin_end": 46.2,
            "count": 0
           },
           {
            "bin_start": 46.2,
            "bin_end": 50.6,
            "count": 0
           },
           {
            "bin_start": 50.6,
            "bin_end": 55,
            "count": 1
           }
          ]
         }
        },
        {
         "name": "Grade 5 Male",
         "dtype": "float64",
         "stats": {
          "unique_count": 5,
          "nan_count": 0,
          "min": "16.0",
          "max": "61.0",
          "histogram": [
           {
            "bin_start": 16,
            "bin_end": 20.5,
            "count": 1
           },
           {
            "bin_start": 20.5,
            "bin_end": 25,
            "count": 1
           },
           {
            "bin_start": 25,
            "bin_end": 29.5,
            "count": 1
           },
           {
            "bin_start": 29.5,
            "bin_end": 34,
            "count": 0
           },
           {
            "bin_start": 34,
            "bin_end": 38.5,
            "count": 0
           },
           {
            "bin_start": 38.5,
            "bin_end": 43,
            "count": 1
           },
           {
            "bin_start": 43,
            "bin_end": 47.5,
            "count": 0
           },
           {
            "bin_start": 47.5,
            "bin_end": 52,
            "count": 0
           },
           {
            "bin_start": 52,
            "bin_end": 56.5,
            "count": 0
           },
           {
            "bin_start": 56.5,
            "bin_end": 61,
            "count": 1
           }
          ]
         }
        },
        {
         "name": "Grade 5 Female",
         "dtype": "float64",
         "stats": {
          "unique_count": 5,
          "nan_count": 0,
          "min": "7.0",
          "max": "48.0",
          "histogram": [
           {
            "bin_start": 7,
            "bin_end": 11.1,
            "count": 1
           },
           {
            "bin_start": 11.1,
            "bin_end": 15.2,
            "count": 1
           },
           {
            "bin_start": 15.2,
            "bin_end": 19.299999999999997,
            "count": 1
           },
           {
            "bin_start": 19.299999999999997,
            "bin_end": 23.4,
            "count": 0
           },
           {
            "bin_start": 23.4,
            "bin_end": 27.5,
            "count": 1
           },
           {
            "bin_start": 27.5,
            "bin_end": 31.599999999999998,
            "count": 0
           },
           {
            "bin_start": 31.599999999999998,
            "bin_end": 35.699999999999996,
            "count": 0
           },
           {
            "bin_start": 35.699999999999996,
            "bin_end": 39.8,
            "count": 0
           },
           {
            "bin_start": 39.8,
            "bin_end": 43.9,
            "count": 0
           },
           {
            "bin_start": 43.9,
            "bin_end": 48,
            "count": 1
           }
          ]
         }
        },
        {
         "name": "Grade 6 Male",
         "dtype": "float64",
         "stats": {
          "unique_count": 4,
          "nan_count": 0,
          "min": "7.0",
          "max": "48.0",
          "histogram": [
           {
            "bin_start": 7,
            "bin_end": 11.1,
            "count": 1
           },
           {
            "bin_start": 11.1,
            "bin_end": 15.2,
            "count": 1
           },
           {
            "bin_start": 15.2,
            "bin_end": 19.299999999999997,
            "count": 0
           },
           {
            "bin_start": 19.299999999999997,
            "bin_end": 23.4,
            "count": 0
           },
           {
            "bin_start": 23.4,
            "bin_end": 27.5,
            "count": 2
           },
           {
            "bin_start": 27.5,
            "bin_end": 31.599999999999998,
            "count": 0
           },
           {
            "bin_start": 31.599999999999998,
            "bin_end": 35.699999999999996,
            "count": 0
           },
           {
            "bin_start": 35.699999999999996,
            "bin_end": 39.8,
            "count": 0
           },
           {
            "bin_start": 39.8,
            "bin_end": 43.9,
            "count": 0
           },
           {
            "bin_start": 43.9,
            "bin_end": 48,
            "count": 1
           }
          ]
         }
        },
        {
         "name": "Grade 6 Female",
         "dtype": "float64",
         "stats": {
          "unique_count": 5,
          "nan_count": 0,
          "min": "9.0",
          "max": "51.0",
          "histogram": [
           {
            "bin_start": 9,
            "bin_end": 13.2,
            "count": 2
           },
           {
            "bin_start": 13.2,
            "bin_end": 17.4,
            "count": 1
           },
           {
            "bin_start": 17.4,
            "bin_end": 21.6,
            "count": 0
           },
           {
            "bin_start": 21.6,
            "bin_end": 25.8,
            "count": 0
           },
           {
            "bin_start": 25.8,
            "bin_end": 30,
            "count": 1
           },
           {
            "bin_start": 30,
            "bin_end": 34.2,
            "count": 0
           },
           {
            "bin_start": 34.2,
            "bin_end": 38.400000000000006,
            "count": 0
           },
           {
            "bin_start": 38.400000000000006,
            "bin_end": 42.6,
            "count": 0
           },
           {
            "bin_start": 42.6,
            "bin_end": 46.800000000000004,
            "count": 0
           },
           {
            "bin_start": 46.800000000000004,
            "bin_end": 51,
            "count": 1
           }
          ]
         }
        },
        {
         "name": "SPED NG Male",
         "dtype": "float64",
         "stats": {
          "unique_count": 2,
          "nan_count": 0,
          "min": "0.0",
          "max": "32.0",
          "histogram": [
           {
            "bin_start": 0,
            "bin_end": 3.2,
            "count": 4
           },
           {
            "bin_start": 3.2,
            "bin_end": 6.4,
            "count": 0
           },
           {
            "bin_start": 6.4,
            "bin_end": 9.600000000000001,
            "count": 0
           },
           {
            "bin_start": 9.600000000000001,
            "bin_end": 12.8,
            "count": 0
           },
           {
            "bin_start": 12.8,
            "bin_end": 16,
            "count": 0
           },
           {
            "bin_start": 16,
            "bin_end": 19.200000000000003,
            "count": 0
           },
           {
            "bin_start": 19.200000000000003,
            "bin_end": 22.400000000000002,
            "count": 0
           },
           {
            "bin_start": 22.400000000000002,
            "bin_end": 25.6,
            "count": 0
           },
           {
            "bin_start": 25.6,
            "bin_end": 28.8,
            "count": 0
           },
           {
            "bin_start": 28.8,
            "bin_end": 32,
            "count": 1
           }
          ]
         }
        },
        {
         "name": "SPED NG Female",
         "dtype": "float64",
         "stats": {
          "unique_count": 2,
          "nan_count": 0,
          "min": "0.0",
          "max": "22.0",
          "histogram": [
           {
            "bin_start": 0,
            "bin_end": 2.2,
            "count": 4
           },
           {
            "bin_start": 2.2,
            "bin_end": 4.4,
            "count": 0
           },
           {
            "bin_start": 4.4,
            "bin_end": 6.6000000000000005,
            "count": 0
           },
           {
            "bin_start": 6.6000000000000005,
            "bin_end": 8.8,
            "count": 0
           },
           {
            "bin_start": 8.8,
            "bin_end": 11,
            "count": 0
           },
           {
            "bin_start": 11,
            "bin_end": 13.200000000000001,
            "count": 0
           },
           {
            "bin_start": 13.200000000000001,
            "bin_end": 15.400000000000002,
            "count": 0
           },
           {
            "bin_start": 15.400000000000002,
            "bin_end": 17.6,
            "count": 0
           },
           {
            "bin_start": 17.6,
            "bin_end": 19.8,
            "count": 0
           },
           {
            "bin_start": 19.8,
            "bin_end": 22,
            "count": 1
           }
          ]
         }
        },
        {
         "name": "Grade 7 Male",
         "dtype": "float64",
         "stats": {
          "unique_count": 0,
          "nan_count": 5,
          "min": null,
          "max": null,
          "histogram": [
           {
            "bin_start": 0,
            "bin_end": 0.1,
            "count": 0
           },
           {
            "bin_start": 0.1,
            "bin_end": 0.2,
            "count": 0
           },
           {
            "bin_start": 0.2,
            "bin_end": 0.30000000000000004,
            "count": 0
           },
           {
            "bin_start": 0.30000000000000004,
            "bin_end": 0.4,
            "count": 0
           },
           {
            "bin_start": 0.4,
            "bin_end": 0.5,
            "count": 0
           },
           {
            "bin_start": 0.5,
            "bin_end": 0.6000000000000001,
            "count": 0
           },
           {
            "bin_start": 0.6000000000000001,
            "bin_end": 0.7000000000000001,
            "count": 0
           },
           {
            "bin_start": 0.7000000000000001,
            "bin_end": 0.8,
            "count": 0
           },
           {
            "bin_start": 0.8,
            "bin_end": 0.9,
            "count": 0
           },
           {
            "bin_start": 0.9,
            "bin_end": 1,
            "count": 0
           }
          ]
         }
        },
        {
         "name": "Grade 7 Female",
         "dtype": "float64",
         "stats": {
          "unique_count": 0,
          "nan_count": 5,
          "min": null,
          "max": null,
          "histogram": [
           {
            "bin_start": 0,
            "bin_end": 0.1,
            "count": 0
           },
           {
            "bin_start": 0.1,
            "bin_end": 0.2,
            "count": 0
           },
           {
            "bin_start": 0.2,
            "bin_end": 0.30000000000000004,
            "count": 0
           },
           {
            "bin_start": 0.30000000000000004,
            "bin_end": 0.4,
            "count": 0
           },
           {
            "bin_start": 0.4,
            "bin_end": 0.5,
            "count": 0
           },
           {
            "bin_start": 0.5,
            "bin_end": 0.6000000000000001,
            "count": 0
           },
           {
            "bin_start": 0.6000000000000001,
            "bin_end": 0.7000000000000001,
            "count": 0
           },
           {
            "bin_start": 0.7000000000000001,
            "bin_end": 0.8,
            "count": 0
           },
           {
            "bin_start": 0.8,
            "bin_end": 0.9,
            "count": 0
           },
           {
            "bin_start": 0.9,
            "bin_end": 1,
            "count": 0
           }
          ]
         }
        },
        {
         "name": "Grade 8 Male",
         "dtype": "float64",
         "stats": {
          "unique_count": 0,
          "nan_count": 5,
          "min": null,
          "max": null,
          "histogram": [
           {
            "bin_start": 0,
            "bin_end": 0.1,
            "count": 0
           },
           {
            "bin_start": 0.1,
            "bin_end": 0.2,
            "count": 0
           },
           {
            "bin_start": 0.2,
            "bin_end": 0.30000000000000004,
            "count": 0
           },
           {
            "bin_start": 0.30000000000000004,
            "bin_end": 0.4,
            "count": 0
           },
           {
            "bin_start": 0.4,
            "bin_end": 0.5,
            "count": 0
           },
           {
            "bin_start": 0.5,
            "bin_end": 0.6000000000000001,
            "count": 0
           },
           {
            "bin_start": 0.6000000000000001,
            "bin_end": 0.7000000000000001,
            "count": 0
           },
           {
            "bin_start": 0.7000000000000001,
            "bin_end": 0.8,
            "count": 0
           },
           {
            "bin_start": 0.8,
            "bin_end": 0.9,
            "count": 0
           },
           {
            "bin_start": 0.9,
            "bin_end": 1,
            "count": 0
           }
          ]
         }
        },
        {
         "name": "Grade 8 Female",
         "dtype": "float64",
         "stats": {
          "unique_count": 0,
          "nan_count": 5,
          "min": null,
          "max": null,
          "histogram": [
           {
            "bin_start": 0,
            "bin_end": 0.1,
            "count": 0
           },
           {
            "bin_start": 0.1,
            "bin_end": 0.2,
            "count": 0
           },
           {
            "bin_start": 0.2,
            "bin_end": 0.30000000000000004,
            "count": 0
           },
           {
            "bin_start": 0.30000000000000004,
            "bin_end": 0.4,
            "count": 0
           },
           {
            "bin_start": 0.4,
            "bin_end": 0.5,
            "count": 0
           },
           {
            "bin_start": 0.5,
            "bin_end": 0.6000000000000001,
            "count": 0
           },
           {
            "bin_start": 0.6000000000000001,
            "bin_end": 0.7000000000000001,
            "count": 0
           },
           {
            "bin_start": 0.7000000000000001,
            "bin_end": 0.8,
            "count": 0
           },
           {
            "bin_start": 0.8,
            "bin_end": 0.9,
            "count": 0
           },
           {
            "bin_start": 0.9,
            "bin_end": 1,
            "count": 0
           }
          ]
         }
        },
        {
         "name": "Grade 9 Male",
         "dtype": "float64",
         "stats": {
          "unique_count": 0,
          "nan_count": 5,
          "min": null,
          "max": null,
          "histogram": [
           {
            "bin_start": 0,
            "bin_end": 0.1,
            "count": 0
           },
           {
            "bin_start": 0.1,
            "bin_end": 0.2,
            "count": 0
           },
           {
            "bin_start": 0.2,
            "bin_end": 0.30000000000000004,
            "count": 0
           },
           {
            "bin_start": 0.30000000000000004,
            "bin_end": 0.4,
            "count": 0
           },
           {
            "bin_start": 0.4,
            "bin_end": 0.5,
            "count": 0
           },
           {
            "bin_start": 0.5,
            "bin_end": 0.6000000000000001,
            "count": 0
           },
           {
            "bin_start": 0.6000000000000001,
            "bin_end": 0.7000000000000001,
            "count": 0
           },
           {
            "bin_start": 0.7000000000000001,
            "bin_end": 0.8,
            "count": 0
           },
           {
            "bin_start": 0.8,
            "bin_end": 0.9,
            "count": 0
           },
           {
            "bin_start": 0.9,
            "bin_end": 1,
            "count": 0
           }
          ]
         }
        },
        {
         "name": "Grade 9 Female",
         "dtype": "float64",
         "stats": {
          "unique_count": 0,
          "nan_count": 5,
          "min": null,
          "max": null,
          "histogram": [
           {
            "bin_start": 0,
            "bin_end": 0.1,
            "count": 0
           },
           {
            "bin_start": 0.1,
            "bin_end": 0.2,
            "count": 0
           },
           {
            "bin_start": 0.2,
            "bin_end": 0.30000000000000004,
            "count": 0
           },
           {
            "bin_start": 0.30000000000000004,
            "bin_end": 0.4,
            "count": 0
           },
           {
            "bin_start": 0.4,
            "bin_end": 0.5,
            "count": 0
           },
           {
            "bin_start": 0.5,
            "bin_end": 0.6000000000000001,
            "count": 0
           },
           {
            "bin_start": 0.6000000000000001,
            "bin_end": 0.7000000000000001,
            "count": 0
           },
           {
            "bin_start": 0.7000000000000001,
            "bin_end": 0.8,
            "count": 0
           },
           {
            "bin_start": 0.8,
            "bin_end": 0.9,
            "count": 0
           },
           {
            "bin_start": 0.9,
            "bin_end": 1,
            "count": 0
           }
          ]
         }
        },
        {
         "name": "Grade 10 Male",
         "dtype": "float64",
         "stats": {
          "unique_count": 0,
          "nan_count": 5,
          "min": null,
          "max": null,
          "histogram": [
           {
            "bin_start": 0,
            "bin_end": 0.1,
            "count": 0
           },
           {
            "bin_start": 0.1,
            "bin_end": 0.2,
            "count": 0
           },
           {
            "bin_start": 0.2,
            "bin_end": 0.30000000000000004,
            "count": 0
           },
           {
            "bin_start": 0.30000000000000004,
            "bin_end": 0.4,
            "count": 0
           },
           {
            "bin_start": 0.4,
            "bin_end": 0.5,
            "count": 0
           },
           {
            "bin_start": 0.5,
            "bin_end": 0.6000000000000001,
            "count": 0
           },
           {
            "bin_start": 0.6000000000000001,
            "bin_end": 0.7000000000000001,
            "count": 0
           },
           {
            "bin_start": 0.7000000000000001,
            "bin_end": 0.8,
            "count": 0
           },
           {
            "bin_start": 0.8,
            "bin_end": 0.9,
            "count": 0
           },
           {
            "bin_start": 0.9,
            "bin_end": 1,
            "count": 0
           }
          ]
         }
        },
        {
         "name": "Grade 10 Female",
         "dtype": "float64",
         "stats": {
          "unique_count": 0,
          "nan_count": 5,
          "min": null,
          "max": null,
          "histogram": [
           {
            "bin_start": 0,
            "bin_end": 0.1,
            "count": 0
           },
           {
            "bin_start": 0.1,
            "bin_end": 0.2,
            "count": 0
           },
           {
            "bin_start": 0.2,
            "bin_end": 0.30000000000000004,
            "count": 0
           },
           {
            "bin_start": 0.30000000000000004,
            "bin_end": 0.4,
            "count": 0
           },
           {
            "bin_start": 0.4,
            "bin_end": 0.5,
            "count": 0
           },
           {
            "bin_start": 0.5,
            "bin_end": 0.6000000000000001,
            "count": 0
           },
           {
            "bin_start": 0.6000000000000001,
            "bin_end": 0.7000000000000001,
            "count": 0
           },
           {
            "bin_start": 0.7000000000000001,
            "bin_end": 0.8,
            "count": 0
           },
           {
            "bin_start": 0.8,
            "bin_end": 0.9,
            "count": 0
           },
           {
            "bin_start": 0.9,
            "bin_end": 1,
            "count": 0
           }
          ]
         }
        },
        {
         "name": "Grade 11 Male",
         "dtype": "float64",
         "stats": {
          "unique_count": 0,
          "nan_count": 5,
          "min": null,
          "max": null,
          "histogram": [
           {
            "bin_start": 0,
            "bin_end": 0.1,
            "count": 0
           },
           {
            "bin_start": 0.1,
            "bin_end": 0.2,
            "count": 0
           },
           {
            "bin_start": 0.2,
            "bin_end": 0.30000000000000004,
            "count": 0
           },
           {
            "bin_start": 0.30000000000000004,
            "bin_end": 0.4,
            "count": 0
           },
           {
            "bin_start": 0.4,
            "bin_end": 0.5,
            "count": 0
           },
           {
            "bin_start": 0.5,
            "bin_end": 0.6000000000000001,
            "count": 0
           },
           {
            "bin_start": 0.6000000000000001,
            "bin_end": 0.7000000000000001,
            "count": 0
           },
           {
            "bin_start": 0.7000000000000001,
            "bin_end": 0.8,
            "count": 0
           },
           {
            "bin_start": 0.8,
            "bin_end": 0.9,
            "count": 0
           },
           {
            "bin_start": 0.9,
            "bin_end": 1,
            "count": 0
           }
          ]
         }
        },
        {
         "name": "Grade 11 Female",
         "dtype": "float64",
         "stats": {
          "unique_count": 0,
          "nan_count": 5,
          "min": null,
          "max": null,
          "histogram": [
           {
            "bin_start": 0,
            "bin_end": 0.1,
            "count": 0
           },
           {
            "bin_start": 0.1,
            "bin_end": 0.2,
            "count": 0
           },
           {
            "bin_start": 0.2,
            "bin_end": 0.30000000000000004,
            "count": 0
           },
           {
            "bin_start": 0.30000000000000004,
            "bin_end": 0.4,
            "count": 0
           },
           {
            "bin_start": 0.4,
            "bin_end": 0.5,
            "count": 0
           },
           {
            "bin_start": 0.5,
            "bin_end": 0.6000000000000001,
            "count": 0
           },
           {
            "bin_start": 0.6000000000000001,
            "bin_end": 0.7000000000000001,
            "count": 0
           },
           {
            "bin_start": 0.7000000000000001,
            "bin_end": 0.8,
            "count": 0
           },
           {
            "bin_start": 0.8,
            "bin_end": 0.9,
            "count": 0
           },
           {
            "bin_start": 0.9,
            "bin_end": 1,
            "count": 0
           }
          ]
         }
        },
        {
         "name": "Grade 12 Male",
         "dtype": "float64",
         "stats": {
          "unique_count": 0,
          "nan_count": 5,
          "min": null,
          "max": null,
          "histogram": [
           {
            "bin_start": 0,
            "bin_end": 0.1,
            "count": 0
           },
           {
            "bin_start": 0.1,
            "bin_end": 0.2,
            "count": 0
           },
           {
            "bin_start": 0.2,
            "bin_end": 0.30000000000000004,
            "count": 0
           },
           {
            "bin_start": 0.30000000000000004,
            "bin_end": 0.4,
            "count": 0
           },
           {
            "bin_start": 0.4,
            "bin_end": 0.5,
            "count": 0
           },
           {
            "bin_start": 0.5,
            "bin_end": 0.6000000000000001,
            "count": 0
           },
           {
            "bin_start": 0.6000000000000001,
            "bin_end": 0.7000000000000001,
            "count": 0
           },
           {
            "bin_start": 0.7000000000000001,
            "bin_end": 0.8,
            "count": 0
           },
           {
            "bin_start": 0.8,
            "bin_end": 0.9,
            "count": 0
           },
           {
            "bin_start": 0.9,
            "bin_end": 1,
            "count": 0
           }
          ]
         }
        },
        {
         "name": "Grade 12 Female",
         "dtype": "float64",
         "stats": {
          "unique_count": 0,
          "nan_count": 5,
          "min": null,
          "max": null,
          "histogram": [
           {
            "bin_start": 0,
            "bin_end": 0.1,
            "count": 0
           },
           {
            "bin_start": 0.1,
            "bin_end": 0.2,
            "count": 0
           },
           {
            "bin_start": 0.2,
            "bin_end": 0.30000000000000004,
            "count": 0
           },
           {
            "bin_start": 0.30000000000000004,
            "bin_end": 0.4,
            "count": 0
           },
           {
            "bin_start": 0.4,
            "bin_end": 0.5,
            "count": 0
           },
           {
            "bin_start": 0.5,
            "bin_end": 0.6000000000000001,
            "count": 0
           },
           {
            "bin_start": 0.6000000000000001,
            "bin_end": 0.7000000000000001,
            "count": 0
           },
           {
            "bin_start": 0.7000000000000001,
            "bin_end": 0.8,
            "count": 0
           },
           {
            "bin_start": 0.8,
            "bin_end": 0.9,
            "count": 0
           },
           {
            "bin_start": 0.9,
            "bin_end": 1,
            "count": 0
           }
          ]
         }
        },
        {
         "name": "_deepnote_index_column",
         "dtype": "int64"
        }
       ],
       "rows_top": [
        {
         "school.id": 101746,
         "school.name": "A. Diaz, Sr. ES",
         "school.region": "Region I",
         "school.region.name": "Ilocos Region",
         "school.province": "PANGASINAN",
         "school.cityhall": "PANGASINAN",
         "school.division": "Pangasinan II, Binalonan",
         "school.citymuni": "BAUTISTA",
         "school.district": "Bautista",
         "school.legdistrict": "5th District",
         "school.type": "School with no Annexes",
         "school.abbrev": "ADSES",
         "school.previousname": "none",
         "school.mother.id": 101746,
         "school.address": "Brgy. Dias Bautista, Pang",
         "school.established": "1/1/1930",
         "school.classification": "Elementary",
         "school.classification2": "DepED Managed",
         "school.curricularclass": "Elementary",
         "school.organization": "Monograde",
         "school.cityincome": "P 25 M or more but less than P 35 M",
         "school.cityclass": "nan",
         "school.urban": "Partially Urban",
         "School ID": 101746,
         "Kinder Male": 57,
         "Kinder Female": 45,
         "Grade 1 Male": 56,
         "Grade 1 Female": 58,
         "Grade 2 Male": 63,
         "Grade 2 Female": 61,
         "Grade 3 Male": 55,
         "Grade 3 Female": 61,
         "Grade 4 Male": 62,
         "Grade 4 Female": 55,
         "Grade 5 Male": 61,
         "Grade 5 Female": 48,
         "Grade 6 Male": 48,
         "Grade 6 Female": 51,
         "SPED NG Male": 0,
         "SPED NG Female": 0,
         "Grade 7 Male": "nan",
         "Grade 7 Female": "nan",
         "Grade 8 Male": "nan",
         "Grade 8 Female": "nan",
         "Grade 9 Male": "nan",
         "Grade 9 Female": "nan",
         "Grade 10 Male": "nan",
         "Grade 10 Female": "nan",
         "Grade 11 Male": "nan",
         "Grade 11 Female": "nan",
         "Grade 12 Male": "nan",
         "Grade 12 Female": "nan",
         "_deepnote_index_column": 0
        },
        {
         "school.id": 102193,
         "school.name": "A. P. Santos ES (SPED Center)",
         "school.region": "Region I",
         "school.region.name": "Ilocos Region",
         "school.province": "ILOCOS NORTE",
         "school.cityhall": "ILOCOS NORTE",
         "school.division": "Laoag City",
         "school.citymuni": "LAOAG CITY (Capital)",
         "school.district": "Laoag City District II",
         "school.legdistrict": "1st District",
         "school.type": "School with no Annexes",
         "school.abbrev": "APSES",
         "school.previousname": "-",
         "school.mother.id": 102193,
         "school.address": "A.G. Tupaz",
         "school.established": "1/1/1944",
         "school.classification": "Elementary",
         "school.classification2": "DepED Managed",
         "school.curricularclass": "Kinder & Elementary",
         "school.organization": "Monograde",
         "school.cityincome": "P 240 M or more but less than P 320 M",
         "school.cityclass": "Component City",
         "school.urban": "Partially Urban",
         "School ID": 102193,
         "Kinder Male": 20,
         "Kinder Female": 24,
         "Grade 1 Male": 38,
         "Grade 1 Female": 30,
         "Grade 2 Male": 37,
         "Grade 2 Female": 18,
         "Grade 3 Male": 29,
         "Grade 3 Female": 33,
         "Grade 4 Male": 23,
         "Grade 4 Female": 41,
         "Grade 5 Male": 39,
         "Grade 5 Female": 27,
         "Grade 6 Male": 26,
         "Grade 6 Female": 26,
         "SPED NG Male": 32,
         "SPED NG Female": 22,
         "Grade 7 Male": "nan",
         "Grade 7 Female": "nan",
         "Grade 8 Male": "nan",
         "Grade 8 Female": "nan",
         "Grade 9 Male": "nan",
         "Grade 9 Female": "nan",
         "Grade 10 Male": "nan",
         "Grade 10 Female": "nan",
         "Grade 11 Male": "nan",
         "Grade 11 Female": "nan",
         "Grade 12 Male": "nan",
         "Grade 12 Female": "nan",
         "_deepnote_index_column": 1
        },
        {
         "school.id": 101283,
         "school.name": "A.P. Guevara IS",
         "school.region": "Region I",
         "school.region.name": "Ilocos Region",
         "school.province": "PANGASINAN",
         "school.cityhall": "PANGASINAN",
         "school.division": "Pangasinan I, Lingayen",
         "school.citymuni": "BAYAMBANG",
         "school.district": "Bayambang II",
         "school.legdistrict": "3rd District",
         "school.type": "School with no Annexes",
         "school.abbrev": "nan",
         "school.previousname": "A.P. Guevarra IS",
         "school.mother.id": 101283,
         "school.address": "-",
         "school.established": "1/1/1945",
         "school.classification": "Elementary",
         "school.classification2": "DepED Managed",
         "school.curricularclass": "Elementary",
         "school.organization": "Monograde",
         "school.cityincome": "P 55 M or more",
         "school.cityclass": "nan",
         "school.urban": "Partially Urban",
         "School ID": 101283,
         "Kinder Male": 16,
         "Kinder Female": 11,
         "Grade 1 Male": 11,
         "Grade 1 Female": 10,
         "Grade 2 Male": 9,
         "Grade 2 Female": 13,
         "Grade 3 Male": 15,
         "Grade 3 Female": 13,
         "Grade 4 Male": 14,
         "Grade 4 Female": 11,
         "Grade 5 Male": 23,
         "Grade 5 Female": 13,
         "Grade 6 Male": 7,
         "Grade 6 Female": 9,
         "SPED NG Male": 0,
         "SPED NG Female": 0,
         "Grade 7 Male": "nan",
         "Grade 7 Female": "nan",
         "Grade 8 Male": "nan",
         "Grade 8 Female": "nan",
         "Grade 9 Male": "nan",
         "Grade 9 Female": "nan",
         "Grade 10 Male": "nan",
         "Grade 10 Female": "nan",
         "Grade 11 Male": "nan",
         "Grade 11 Female": "nan",
         "Grade 12 Male": "nan",
         "Grade 12 Female": "nan",
         "_deepnote_index_column": 2
        },
        {
         "school.id": 100216,
         "school.name": "Ab-Abut ES",
         "school.region": "Region I",
         "school.region.name": "Ilocos Region",
         "school.province": "ILOCOS NORTE",
         "school.cityhall": "ILOCOS NORTE",
         "school.division": "Ilocos Norte",
         "school.citymuni": "PIDDIG",
         "school.district": "Piddig",
         "school.legdistrict": "1st District",
         "school.type": "School with no Annexes",
         "school.abbrev": "AES",
         "school.previousname": "-",
         "school.mother.id": 100216,
         "school.address": "Sucsuquen",
         "school.established": "1/1/1964",
         "school.classification": "Elementary",
         "school.classification2": "DepED Managed",
         "school.curricularclass": "Elementary",
         "school.organization": "Monograde",
         "school.cityincome": "P 35 M or more but less than P 45 M",
         "school.cityclass": "nan",
         "school.urban": "Partially Urban",
         "School ID": 100216,
         "Kinder Male": 10,
         "Kinder Female": 6,
         "Grade 1 Male": 10,
         "Grade 1 Female": 17,
         "Grade 2 Male": 22,
         "Grade 2 Female": 11,
         "Grade 3 Male": 22,
         "Grade 3 Female": 12,
         "Grade 4 Male": 12,
         "Grade 4 Female": 11,
         "Grade 5 Male": 16,
         "Grade 5 Female": 7,
         "Grade 6 Male": 13,
         "Grade 6 Female": 10,
         "SPED NG Male": 0,
         "SPED NG Female": 0,
         "Grade 7 Male": "nan",
         "Grade 7 Female": "nan",
         "Grade 8 Male": "nan",
         "Grade 8 Female": "nan",
         "Grade 9 Male": "nan",
         "Grade 9 Female": "nan",
         "Grade 10 Male": "nan",
         "Grade 10 Female": "nan",
         "Grade 11 Male": "nan",
         "Grade 11 Female": "nan",
         "Grade 12 Male": "nan",
         "Grade 12 Female": "nan",
         "_deepnote_index_column": 3
        },
        {
         "school.id": 100043,
         "school.name": "Abaca ES",
         "school.region": "Region I",
         "school.region.name": "Ilocos Region",
         "school.province": "ILOCOS NORTE",
         "school.cityhall": "ILOCOS NORTE",
         "school.division": "Ilocos Norte",
         "school.citymuni": "BANGUI",
         "school.district": "Bangui",
         "school.legdistrict": "1st District",
         "school.type": "School with no Annexes",
         "school.abbrev": "AES",
         "school.previousname": "none",
         "school.mother.id": 100043,
         "school.address": "None",
         "school.established": "1/1/1979",
         "school.classification": "Elementary",
         "school.classification2": "DepED Managed",
         "school.curricularclass": "Elementary",
         "school.organization": "Monograde",
         "school.cityincome": "P 25 M or more but less than P 35 M",
         "school.cityclass": "nan",
         "school.urban": "Partially Urban",
         "School ID": 100043,
         "Kinder Male": 12,
         "Kinder Female": 13,
         "Grade 1 Male": 22,
         "Grade 1 Female": 26,
         "Grade 2 Male": 17,
         "Grade 2 Female": 14,
         "Grade 3 Male": 16,
         "Grade 3 Female": 22,
         "Grade 4 Male": 24,
         "Grade 4 Female": 15,
         "Grade 5 Male": 28,
         "Grade 5 Female": 19,
         "Grade 6 Male": 26,
         "Grade 6 Female": 17,
         "SPED NG Male": 0,
         "SPED NG Female": 0,
         "Grade 7 Male": "nan",
         "Grade 7 Female": "nan",
         "Grade 8 Male": "nan",
         "Grade 8 Female": "nan",
         "Grade 9 Male": "nan",
         "Grade 9 Female": "nan",
         "Grade 10 Male": "nan",
         "Grade 10 Female": "nan",
         "Grade 11 Male": "nan",
         "Grade 11 Female": "nan",
         "Grade 12 Male": "nan",
         "Grade 12 Female": "nan",
         "_deepnote_index_column": 4
        }
       ],
       "rows_bottom": null
      },
      "text/plain": "   school.id                    school.name school.region school.region.name  \\\n0     101746                A. Diaz, Sr. ES      Region I      Ilocos Region   \n1     102193  A. P. Santos ES (SPED Center)      Region I      Ilocos Region   \n2     101283                A.P. Guevara IS      Region I      Ilocos Region   \n3     100216                     Ab-Abut ES      Region I      Ilocos Region   \n4     100043                       Abaca ES      Region I      Ilocos Region   \n\n  school.province school.cityhall           school.division  \\\n0      PANGASINAN      PANGASINAN  Pangasinan II, Binalonan   \n1    ILOCOS NORTE    ILOCOS NORTE                Laoag City   \n2      PANGASINAN      PANGASINAN    Pangasinan I, Lingayen   \n3    ILOCOS NORTE    ILOCOS NORTE              Ilocos Norte   \n4    ILOCOS NORTE    ILOCOS NORTE              Ilocos Norte   \n\n        school.citymuni         school.district school.legdistrict  ...  \\\n0              BAUTISTA                Bautista       5th District  ...   \n1  LAOAG CITY (Capital)  Laoag City District II       1st District  ...   \n2             BAYAMBANG            Bayambang II       3rd District  ...   \n3                PIDDIG                  Piddig       1st District  ...   \n4                BANGUI                  Bangui       1st District  ...   \n\n  Grade 8 Male Grade 8 Female Grade 9 Male  Grade 9 Female Grade 10 Male  \\\n0          NaN            NaN          NaN             NaN           NaN   \n1          NaN            NaN          NaN             NaN           NaN   \n2          NaN            NaN          NaN             NaN           NaN   \n3          NaN            NaN          NaN             NaN           NaN   \n4          NaN            NaN          NaN             NaN           NaN   \n\n  Grade 10 Female Grade 11 Male Grade 11 Female Grade 12 Male Grade 12 Female  \n0             NaN           NaN             NaN           NaN             NaN  \n1             NaN           NaN             NaN           NaN             NaN  \n2             NaN           NaN             NaN           NaN             NaN  \n3             NaN           NaN             NaN           NaN             NaN  \n4             NaN           NaN             NaN           NaN             NaN  \n\n[5 rows x 52 columns]",
      "text/html": "<div>\n<style scoped>\n    .dataframe tbody tr th:only-of-type {\n        vertical-align: middle;\n    }\n\n    .dataframe tbody tr th {\n        vertical-align: top;\n    }\n\n    .dataframe thead th {\n        text-align: right;\n    }\n</style>\n<table border=\"1\" class=\"dataframe\">\n  <thead>\n    <tr style=\"text-align: right;\">\n      <th></th>\n      <th>school.id</th>\n      <th>school.name</th>\n      <th>school.region</th>\n      <th>school.region.name</th>\n      <th>school.province</th>\n      <th>school.cityhall</th>\n      <th>school.division</th>\n      <th>school.citymuni</th>\n      <th>school.district</th>\n      <th>school.legdistrict</th>\n      <th>...</th>\n      <th>Grade 8 Male</th>\n      <th>Grade 8 Female</th>\n      <th>Grade 9 Male</th>\n      <th>Grade 9 Female</th>\n      <th>Grade 10 Male</th>\n      <th>Grade 10 Female</th>\n      <th>Grade 11 Male</th>\n      <th>Grade 11 Female</th>\n      <th>Grade 12 Male</th>\n      <th>Grade 12 Female</th>\n    </tr>\n  </thead>\n  <tbody>\n    <tr>\n      <th>0</th>\n      <td>101746</td>\n      <td>A. Diaz, Sr. ES</td>\n      <td>Region I</td>\n      <td>Ilocos Region</td>\n      <td>PANGASINAN</td>\n      <td>PANGASINAN</td>\n      <td>Pangasinan II, Binalonan</td>\n      <td>BAUTISTA</td>\n      <td>Bautista</td>\n      <td>5th District</td>\n      <td>...</td>\n      <td>NaN</td>\n      <td>NaN</td>\n      <td>NaN</td>\n      <td>NaN</td>\n      <td>NaN</td>\n      <td>NaN</td>\n      <td>NaN</td>\n      <td>NaN</td>\n      <td>NaN</td>\n      <td>NaN</td>\n    </tr>\n    <tr>\n      <th>1</th>\n      <td>102193</td>\n      <td>A. P. Santos ES (SPED Center)</td>\n      <td>Region I</td>\n      <td>Ilocos Region</td>\n      <td>ILOCOS NORTE</td>\n      <td>ILOCOS NORTE</td>\n      <td>Laoag City</td>\n      <td>LAOAG CITY (Capital)</td>\n      <td>Laoag City District II</td>\n      <td>1st District</td>\n      <td>...</td>\n      <td>NaN</td>\n      <td>NaN</td>\n      <td>NaN</td>\n      <td>NaN</td>\n      <td>NaN</td>\n      <td>NaN</td>\n      <td>NaN</td>\n      <td>NaN</td>\n      <td>NaN</td>\n      <td>NaN</td>\n    </tr>\n    <tr>\n      <th>2</th>\n      <td>101283</td>\n      <td>A.P. Guevara IS</td>\n      <td>Region I</td>\n      <td>Ilocos Region</td>\n      <td>PANGASINAN</td>\n      <td>PANGASINAN</td>\n      <td>Pangasinan I, Lingayen</td>\n      <td>BAYAMBANG</td>\n      <td>Bayambang II</td>\n      <td>3rd District</td>\n      <td>...</td>\n      <td>NaN</td>\n      <td>NaN</td>\n      <td>NaN</td>\n      <td>NaN</td>\n      <td>NaN</td>\n      <td>NaN</td>\n      <td>NaN</td>\n      <td>NaN</td>\n      <td>NaN</td>\n      <td>NaN</td>\n    </tr>\n    <tr>\n      <th>3</th>\n      <td>100216</td>\n      <td>Ab-Abut ES</td>\n      <td>Region I</td>\n      <td>Ilocos Region</td>\n      <td>ILOCOS NORTE</td>\n      <td>ILOCOS NORTE</td>\n      <td>Ilocos Norte</td>\n      <td>PIDDIG</td>\n      <td>Piddig</td>\n      <td>1st District</td>\n      <td>...</td>\n      <td>NaN</td>\n      <td>NaN</td>\n      <td>NaN</td>\n      <td>NaN</td>\n      <td>NaN</td>\n      <td>NaN</td>\n      <td>NaN</td>\n      <td>NaN</td>\n      <td>NaN</td>\n      <td>NaN</td>\n    </tr>\n    <tr>\n      <th>4</th>\n      <td>100043</td>\n      <td>Abaca ES</td>\n      <td>Region I</td>\n      <td>Ilocos Region</td>\n      <td>ILOCOS NORTE</td>\n      <td>ILOCOS NORTE</td>\n      <td>Ilocos Norte</td>\n      <td>BANGUI</td>\n      <td>Bangui</td>\n      <td>1st District</td>\n      <td>...</td>\n      <td>NaN</td>\n      <td>NaN</td>\n      <td>NaN</td>\n      <td>NaN</td>\n      <td>NaN</td>\n      <td>NaN</td>\n      <td>NaN</td>\n      <td>NaN</td>\n      <td>NaN</td>\n      <td>NaN</td>\n    </tr>\n  </tbody>\n</table>\n<p>5 rows × 52 columns</p>\n</div>"
     },
     "metadata": {}
    }
   ]
  },
  {
   "cell_type": "code",
   "metadata": {
    "cell_id": "00011-859f522d-8566-45b2-a3bf-289a9720d72a",
    "deepnote_to_be_reexecuted": false,
    "source_hash": "6e102559",
    "execution_start": 1621509792186,
    "execution_millis": 0,
    "deepnote_cell_type": "code"
   },
   "source": "master_df = pd.merge(master_df, mooe, on =\"school.id\", how = \"left\")",
   "execution_count": 16,
   "outputs": []
  },
  {
   "cell_type": "code",
   "metadata": {
    "cell_id": "00012-a14f8264-2be7-4270-bdf5-e9ea96476f14",
    "deepnote_to_be_reexecuted": false,
    "source_hash": "98c6b011",
    "execution_start": 1621509792229,
    "execution_millis": 152,
    "deepnote_cell_type": "code"
   },
   "source": "master_df",
   "execution_count": 17,
   "outputs": [
    {
     "output_type": "execute_result",
     "execution_count": 17,
     "data": {
      "application/vnd.deepnote.dataframe.v2+json": {
       "row_count": 46603,
       "column_count": 53,
       "columns": [
        {
         "name": "school.id",
         "dtype": "int64",
         "stats": {
          "unique_count": 46603,
          "nan_count": 0,
          "min": "100001",
          "max": "900279",
          "histogram": [
           {
            "bin_start": 100001,
            "bin_end": 180028.8,
            "count": 37079
           },
           {
            "bin_start": 180028.8,
            "bin_end": 260056.6,
            "count": 1603
           },
           {
            "bin_start": 260056.6,
            "bin_end": 340084.4,
            "count": 7919
           },
           {
            "bin_start": 340084.4,
            "bin_end": 420112.2,
            "count": 1
           },
           {
            "bin_start": 420112.2,
            "bin_end": 500140,
            "count": 0
           },
           {
            "bin_start": 500140,
            "bin_end": 580167.8,
            "count": 0
           },
           {
            "bin_start": 580167.8,
            "bin_end": 660195.6,
            "count": 0
           },
           {
            "bin_start": 660195.6,
            "bin_end": 740223.4,
            "count": 0
           },
           {
            "bin_start": 740223.4,
            "bin_end": 820251.2000000001,
            "count": 0
           },
           {
            "bin_start": 820251.2000000001,
            "bin_end": 900279,
            "count": 1
           }
          ]
         }
        },
        {
         "name": "school.name",
         "dtype": "object",
         "stats": {
          "unique_count": 36901,
          "nan_count": 0,
          "categories": [
           {
            "name": "San Isidro ES",
            "count": 192
           },
           {
            "name": "San Jose ES",
            "count": 155
           },
           {
            "name": "36899 others",
            "count": 46256
           }
          ]
         }
        },
        {
         "name": "school.region",
         "dtype": "object"
        },
        {
         "name": "school.region.name",
         "dtype": "object"
        },
        {
         "name": "school.province",
         "dtype": "object"
        },
        {
         "name": "school.cityhall",
         "dtype": "object"
        },
        {
         "name": "school.division",
         "dtype": "object"
        },
        {
         "name": "school.citymuni",
         "dtype": "object"
        },
        {
         "name": "school.district",
         "dtype": "object"
        },
        {
         "name": "school.legdistrict",
         "dtype": "object"
        },
        {
         "name": "school.type",
         "dtype": "object"
        },
        {
         "name": "school.abbrev",
         "dtype": "object"
        },
        {
         "name": "school.previousname",
         "dtype": "object"
        },
        {
         "name": "school.mother.id",
         "dtype": "float64"
        },
        {
         "name": "school.address",
         "dtype": "object"
        },
        {
         "name": "school.established",
         "dtype": "object"
        },
        {
         "name": "school.classification",
         "dtype": "object"
        },
        {
         "name": "school.classification2",
         "dtype": "object"
        },
        {
         "name": "school.curricularclass",
         "dtype": "object"
        },
        {
         "name": "school.organization",
         "dtype": "object"
        },
        {
         "name": "school.cityincome",
         "dtype": "object"
        },
        {
         "name": "school.cityclass",
         "dtype": "object"
        },
        {
         "name": "school.urban",
         "dtype": "object"
        },
        {
         "name": "School ID",
         "dtype": "float64"
        },
        {
         "name": "Kinder Male",
         "dtype": "float64"
        },
        {
         "name": "Kinder Female",
         "dtype": "float64"
        },
        {
         "name": "Grade 1 Male",
         "dtype": "float64"
        },
        {
         "name": "Grade 1 Female",
         "dtype": "float64"
        },
        {
         "name": "Grade 2 Male",
         "dtype": "float64"
        },
        {
         "name": "Grade 2 Female",
         "dtype": "float64"
        },
        {
         "name": "Grade 3 Male",
         "dtype": "float64"
        },
        {
         "name": "Grade 3 Female",
         "dtype": "float64"
        },
        {
         "name": "Grade 4 Male",
         "dtype": "float64"
        },
        {
         "name": "Grade 4 Female",
         "dtype": "float64"
        },
        {
         "name": "Grade 5 Male",
         "dtype": "float64"
        },
        {
         "name": "Grade 5 Female",
         "dtype": "float64"
        },
        {
         "name": "Grade 6 Male",
         "dtype": "float64"
        },
        {
         "name": "Grade 6 Female",
         "dtype": "float64"
        },
        {
         "name": "SPED NG Male",
         "dtype": "float64"
        },
        {
         "name": "SPED NG Female",
         "dtype": "float64"
        },
        {
         "name": "Grade 7 Male",
         "dtype": "float64"
        },
        {
         "name": "Grade 7 Female",
         "dtype": "float64"
        },
        {
         "name": "Grade 8 Male",
         "dtype": "float64"
        },
        {
         "name": "Grade 8 Female",
         "dtype": "float64"
        },
        {
         "name": "Grade 9 Male",
         "dtype": "float64"
        },
        {
         "name": "Grade 9 Female",
         "dtype": "float64"
        },
        {
         "name": "Grade 10 Male",
         "dtype": "float64"
        },
        {
         "name": "Grade 10 Female",
         "dtype": "float64"
        },
        {
         "name": "Grade 11 Male",
         "dtype": "float64"
        },
        {
         "name": "Grade 11 Female",
         "dtype": "float64"
        },
        {
         "name": "Grade 12 Male",
         "dtype": "float64"
        },
        {
         "name": "Grade 12 Female",
         "dtype": "float64"
        },
        {
         "name": " school.mooe ",
         "dtype": "float64"
        },
        {
         "name": "_deepnote_index_column",
         "dtype": "int64"
        }
       ],
       "rows_top": [
        {
         "school.id": 101746,
         "school.name": "A. Diaz, Sr. ES",
         "school.region": "Region I",
         "school.region.name": "Ilocos Region",
         "school.province": "PANGASINAN",
         "school.cityhall": "PANGASINAN",
         "school.division": "Pangasinan II, Binalonan",
         "school.citymuni": "BAUTISTA",
         "school.district": "Bautista",
         "school.legdistrict": "5th District",
         "school.type": "School with no Annexes",
         "school.abbrev": "ADSES",
         "school.previousname": "none",
         "school.mother.id": 101746,
         "school.address": "Brgy. Dias Bautista, Pang",
         "school.established": "1/1/1930",
         "school.classification": "Elementary",
         "school.classification2": "DepED Managed",
         "school.curricularclass": "Elementary",
         "school.organization": "Monograde",
         "school.cityincome": "P 25 M or more but less than P 35 M",
         "school.cityclass": "nan",
         "school.urban": "Partially Urban",
         "School ID": 101746,
         "Kinder Male": 57,
         "Kinder Female": 45,
         "Grade 1 Male": 56,
         "Grade 1 Female": 58,
         "Grade 2 Male": 63,
         "Grade 2 Female": 61,
         "Grade 3 Male": 55,
         "Grade 3 Female": 61,
         "Grade 4 Male": 62,
         "Grade 4 Female": 55,
         "Grade 5 Male": 61,
         "Grade 5 Female": 48,
         "Grade 6 Male": 48,
         "Grade 6 Female": 51,
         "SPED NG Male": 0,
         "SPED NG Female": 0,
         "Grade 7 Male": "nan",
         "Grade 7 Female": "nan",
         "Grade 8 Male": "nan",
         "Grade 8 Female": "nan",
         "Grade 9 Male": "nan",
         "Grade 9 Female": "nan",
         "Grade 10 Male": "nan",
         "Grade 10 Female": "nan",
         "Grade 11 Male": "nan",
         "Grade 11 Female": "nan",
         "Grade 12 Male": "nan",
         "Grade 12 Female": "nan",
         " school.mooe ": 341000,
         "_deepnote_index_column": 0
        },
        {
         "school.id": 102193,
         "school.name": "A. P. Santos ES (SPED Center)",
         "school.region": "Region I",
         "school.region.name": "Ilocos Region",
         "school.province": "ILOCOS NORTE",
         "school.cityhall": "ILOCOS NORTE",
         "school.division": "Laoag City",
         "school.citymuni": "LAOAG CITY (Capital)",
         "school.district": "Laoag City District II",
         "school.legdistrict": "1st District",
         "school.type": "School with no Annexes",
         "school.abbrev": "APSES",
         "school.previousname": "-",
         "school.mother.id": 102193,
         "school.address": "A.G. Tupaz",
         "school.established": "1/1/1944",
         "school.classification": "Elementary",
         "school.classification2": "DepED Managed",
         "school.curricularclass": "Kinder & Elementary",
         "school.organization": "Monograde",
         "school.cityincome": "P 240 M or more but less than P 320 M",
         "school.cityclass": "Component City",
         "school.urban": "Partially Urban",
         "School ID": 102193,
         "Kinder Male": 20,
         "Kinder Female": 24,
         "Grade 1 Male": 38,
         "Grade 1 Female": 30,
         "Grade 2 Male": 37,
         "Grade 2 Female": 18,
         "Grade 3 Male": 29,
         "Grade 3 Female": 33,
         "Grade 4 Male": 23,
         "Grade 4 Female": 41,
         "Grade 5 Male": 39,
         "Grade 5 Female": 27,
         "Grade 6 Male": 26,
         "Grade 6 Female": 26,
         "SPED NG Male": 32,
         "SPED NG Female": 22,
         "Grade 7 Male": "nan",
         "Grade 7 Female": "nan",
         "Grade 8 Male": "nan",
         "Grade 8 Female": "nan",
         "Grade 9 Male": "nan",
         "Grade 9 Female": "nan",
         "Grade 10 Male": "nan",
         "Grade 10 Female": "nan",
         "Grade 11 Male": "nan",
         "Grade 11 Female": "nan",
         "Grade 12 Male": "nan",
         "Grade 12 Female": "nan",
         " school.mooe ": 275000,
         "_deepnote_index_column": 1
        },
        {
         "school.id": 101283,
         "school.name": "A.P. Guevara IS",
         "school.region": "Region I",
         "school.region.name": "Ilocos Region",
         "school.province": "PANGASINAN",
         "school.cityhall": "PANGASINAN",
         "school.division": "Pangasinan I, Lingayen",
         "school.citymuni": "BAYAMBANG",
         "school.district": "Bayambang II",
         "school.legdistrict": "3rd District",
         "school.type": "School with no Annexes",
         "school.abbrev": "nan",
         "school.previousname": "A.P. Guevarra IS",
         "school.mother.id": 101283,
         "school.address": "-",
         "school.established": "1/1/1945",
         "school.classification": "Elementary",
         "school.classification2": "DepED Managed",
         "school.curricularclass": "Elementary",
         "school.organization": "Monograde",
         "school.cityincome": "P 55 M or more",
         "school.cityclass": "nan",
         "school.urban": "Partially Urban",
         "School ID": 101283,
         "Kinder Male": 16,
         "Kinder Female": 11,
         "Grade 1 Male": 11,
         "Grade 1 Female": 10,
         "Grade 2 Male": 9,
         "Grade 2 Female": 13,
         "Grade 3 Male": 15,
         "Grade 3 Female": 13,
         "Grade 4 Male": 14,
         "Grade 4 Female": 11,
         "Grade 5 Male": 23,
         "Grade 5 Female": 13,
         "Grade 6 Male": 7,
         "Grade 6 Female": 9,
         "SPED NG Male": 0,
         "SPED NG Female": 0,
         "Grade 7 Male": "nan",
         "Grade 7 Female": "nan",
         "Grade 8 Male": "nan",
         "Grade 8 Female": "nan",
         "Grade 9 Male": "nan",
         "Grade 9 Female": "nan",
         "Grade 10 Male": "nan",
         "Grade 10 Female": "nan",
         "Grade 11 Male": "nan",
         "Grade 11 Female": "nan",
         "Grade 12 Male": "nan",
         "Grade 12 Female": "nan",
         " school.mooe ": 132000,
         "_deepnote_index_column": 2
        },
        {
         "school.id": 100216,
         "school.name": "Ab-Abut ES",
         "school.region": "Region I",
         "school.region.name": "Ilocos Region",
         "school.province": "ILOCOS NORTE",
         "school.cityhall": "ILOCOS NORTE",
         "school.division": "Ilocos Norte",
         "school.citymuni": "PIDDIG",
         "school.district": "Piddig",
         "school.legdistrict": "1st District",
         "school.type": "School with no Annexes",
         "school.abbrev": "AES",
         "school.previousname": "-",
         "school.mother.id": 100216,
         "school.address": "Sucsuquen",
         "school.established": "1/1/1964",
         "school.classification": "Elementary",
         "school.classification2": "DepED Managed",
         "school.curricularclass": "Elementary",
         "school.organization": "Monograde",
         "school.cityincome": "P 35 M or more but less than P 45 M",
         "school.cityclass": "nan",
         "school.urban": "Partially Urban",
         "School ID": 100216,
         "Kinder Male": 10,
         "Kinder Female": 6,
         "Grade 1 Male": 10,
         "Grade 1 Female": 17,
         "Grade 2 Male": 22,
         "Grade 2 Female": 11,
         "Grade 3 Male": 22,
         "Grade 3 Female": 12,
         "Grade 4 Male": 12,
         "Grade 4 Female": 11,
         "Grade 5 Male": 16,
         "Grade 5 Female": 7,
         "Grade 6 Male": 13,
         "Grade 6 Female": 10,
         "SPED NG Male": 0,
         "SPED NG Female": 0,
         "Grade 7 Male": "nan",
         "Grade 7 Female": "nan",
         "Grade 8 Male": "nan",
         "Grade 8 Female": "nan",
         "Grade 9 Male": "nan",
         "Grade 9 Female": "nan",
         "Grade 10 Male": "nan",
         "Grade 10 Female": "nan",
         "Grade 11 Male": "nan",
         "Grade 11 Female": "nan",
         "Grade 12 Male": "nan",
         "Grade 12 Female": "nan",
         " school.mooe ": 135000,
         "_deepnote_index_column": 3
        },
        {
         "school.id": 100043,
         "school.name": "Abaca ES",
         "school.region": "Region I",
         "school.region.name": "Ilocos Region",
         "school.province": "ILOCOS NORTE",
         "school.cityhall": "ILOCOS NORTE",
         "school.division": "Ilocos Norte",
         "school.citymuni": "BANGUI",
         "school.district": "Bangui",
         "school.legdistrict": "1st District",
         "school.type": "School with no Annexes",
         "school.abbrev": "AES",
         "school.previousname": "none",
         "school.mother.id": 100043,
         "school.address": "None",
         "school.established": "1/1/1979",
         "school.classification": "Elementary",
         "school.classification2": "DepED Managed",
         "school.curricularclass": "Elementary",
         "school.organization": "Monograde",
         "school.cityincome": "P 25 M or more but less than P 35 M",
         "school.cityclass": "nan",
         "school.urban": "Partially Urban",
         "School ID": 100043,
         "Kinder Male": 12,
         "Kinder Female": 13,
         "Grade 1 Male": 22,
         "Grade 1 Female": 26,
         "Grade 2 Male": 17,
         "Grade 2 Female": 14,
         "Grade 3 Male": 16,
         "Grade 3 Female": 22,
         "Grade 4 Male": 24,
         "Grade 4 Female": 15,
         "Grade 5 Male": 28,
         "Grade 5 Female": 19,
         "Grade 6 Male": 26,
         "Grade 6 Female": 17,
         "SPED NG Male": 0,
         "SPED NG Female": 0,
         "Grade 7 Male": "nan",
         "Grade 7 Female": "nan",
         "Grade 8 Male": "nan",
         "Grade 8 Female": "nan",
         "Grade 9 Male": "nan",
         "Grade 9 Female": "nan",
         "Grade 10 Male": "nan",
         "Grade 10 Female": "nan",
         "Grade 11 Male": "nan",
         "Grade 11 Female": "nan",
         "Grade 12 Male": "nan",
         "Grade 12 Female": "nan",
         " school.mooe ": 182000,
         "_deepnote_index_column": 4
        },
        {
         "school.id": 100554,
         "school.name": "Abaccan ES",
         "school.region": "Region I",
         "school.region.name": "Ilocos Region",
         "school.province": "ILOCOS SUR",
         "school.cityhall": "ILOCOS SUR",
         "school.division": "Ilocos Sur",
         "school.citymuni": "SIGAY",
         "school.district": "Salcedo-Galimuyod-Sigay-Del Pilar",
         "school.legdistrict": "2nd District",
         "school.type": "School with no Annexes",
         "school.abbrev": "nan",
         "school.previousname": "-",
         "school.mother.id": 100554,
         "school.address": "-n/a",
         "school.established": "1/1/2000",
         "school.classification": "Elementary",
         "school.classification2": "DepED Managed",
         "school.curricularclass": "Kinder & Elementary",
         "school.organization": "Combined Monograde and Multigrade",
         "school.cityincome": "P 15 M or more but less than P 25 M",
         "school.cityclass": "nan",
         "school.urban": "Rural",
         "School ID": 100554,
         "Kinder Male": 1,
         "Kinder Female": 1,
         "Grade 1 Male": 0,
         "Grade 1 Female": 2,
         "Grade 2 Male": 3,
         "Grade 2 Female": 0,
         "Grade 3 Male": 5,
         "Grade 3 Female": 4,
         "Grade 4 Male": 3,
         "Grade 4 Female": 7,
         "Grade 5 Male": 2,
         "Grade 5 Female": 3,
         "Grade 6 Male": 4,
         "Grade 6 Female": 3,
         "SPED NG Male": 0,
         "SPED NG Female": 0,
         "Grade 7 Male": "nan",
         "Grade 7 Female": "nan",
         "Grade 8 Male": "nan",
         "Grade 8 Female": "nan",
         "Grade 9 Male": "nan",
         "Grade 9 Female": "nan",
         "Grade 10 Male": "nan",
         "Grade 10 Female": "nan",
         "Grade 11 Male": "nan",
         "Grade 11 Female": "nan",
         "Grade 12 Male": "nan",
         "Grade 12 Female": "nan",
         " school.mooe ": 92000,
         "_deepnote_index_column": 5
        },
        {
         "school.id": 101131,
         "school.name": "Abagatanen IS",
         "school.region": "Region I",
         "school.region.name": "Ilocos Region",
         "school.province": "PANGASINAN",
         "school.cityhall": "PANGASINAN",
         "school.division": "Pangasinan I, Lingayen",
         "school.citymuni": "AGNO",
         "school.district": "Agno",
         "school.legdistrict": "1st District",
         "school.type": "School with no Annexes",
         "school.abbrev": "nan",
         "school.previousname": "Abagatanen ES-",
         "school.mother.id": 101131,
         "school.address": "ABAGATANEN",
         "school.established": "1/1/1955",
         "school.classification": "Elementary",
         "school.classification2": "DepED Managed",
         "school.curricularclass": "Elementary",
         "school.organization": "Monograde",
         "school.cityincome": "P 35 M or more but less than P 45 M",
         "school.cityclass": "nan",
         "school.urban": "Partially Urban",
         "School ID": 101131,
         "Kinder Male": 18,
         "Kinder Female": 18,
         "Grade 1 Male": 14,
         "Grade 1 Female": 18,
         "Grade 2 Male": 27,
         "Grade 2 Female": 17,
         "Grade 3 Male": 28,
         "Grade 3 Female": 16,
         "Grade 4 Male": 16,
         "Grade 4 Female": 20,
         "Grade 5 Male": 19,
         "Grade 5 Female": 12,
         "Grade 6 Male": 10,
         "Grade 6 Female": 13,
         "SPED NG Male": 0,
         "SPED NG Female": 0,
         "Grade 7 Male": "nan",
         "Grade 7 Female": "nan",
         "Grade 8 Male": "nan",
         "Grade 8 Female": "nan",
         "Grade 9 Male": "nan",
         "Grade 9 Female": "nan",
         "Grade 10 Male": "nan",
         "Grade 10 Female": "nan",
         "Grade 11 Male": "nan",
         "Grade 11 Female": "nan",
         "Grade 12 Male": "nan",
         "Grade 12 Female": "nan",
         " school.mooe ": 148000,
         "_deepnote_index_column": 6
        },
        {
         "school.id": 102252,
         "school.name": "Abanon Central School",
         "school.region": "Region I",
         "school.region.name": "Ilocos Region",
         "school.province": "PANGASINAN",
         "school.cityhall": "PANGASINAN",
         "school.division": "San Carlos City",
         "school.citymuni": "SAN CARLOS CITY",
         "school.district": "San Carlos City District IV",
         "school.legdistrict": "3rd District",
         "school.type": "School with no Annexes",
         "school.abbrev": "Abanon CS",
         "school.previousname": "Abanon Central Elementary School",
         "school.mother.id": 102252,
         "school.address": "-Brgy. Abanon, San Carlos City",
         "school.established": "1/1/2000",
         "school.classification": "Elementary",
         "school.classification2": "DepED Managed",
         "school.curricularclass": "Elementary",
         "school.organization": "Monograde",
         "school.cityincome": "P 240 M or more but less than P 320 M",
         "school.cityclass": "Component City",
         "school.urban": "Partially Urban",
         "School ID": 102252,
         "Kinder Male": 53,
         "Kinder Female": 49,
         "Grade 1 Male": 61,
         "Grade 1 Female": 68,
         "Grade 2 Male": 85,
         "Grade 2 Female": 53,
         "Grade 3 Male": 65,
         "Grade 3 Female": 64,
         "Grade 4 Male": 71,
         "Grade 4 Female": 58,
         "Grade 5 Male": 56,
         "Grade 5 Female": 56,
         "Grade 6 Male": 58,
         "Grade 6 Female": 51,
         "SPED NG Male": 5,
         "SPED NG Female": 1,
         "Grade 7 Male": "nan",
         "Grade 7 Female": "nan",
         "Grade 8 Male": "nan",
         "Grade 8 Female": "nan",
         "Grade 9 Male": "nan",
         "Grade 9 Female": "nan",
         "Grade 10 Male": "nan",
         "Grade 10 Female": "nan",
         "Grade 11 Male": "nan",
         "Grade 11 Female": "nan",
         "Grade 12 Male": "nan",
         "Grade 12 Female": "nan",
         " school.mooe ": 440000,
         "_deepnote_index_column": 7
        },
        {
         "school.id": 100307,
         "school.name": "Abkir ES",
         "school.region": "Region I",
         "school.region.name": "Ilocos Region",
         "school.province": "ILOCOS NORTE",
         "school.cityhall": "ILOCOS NORTE",
         "school.division": "Ilocos Norte",
         "school.citymuni": "VINTAR",
         "school.district": "Vintar II",
         "school.legdistrict": "1st District",
         "school.type": "School with no Annexes",
         "school.abbrev": "AES",
         "school.previousname": "-",
         "school.mother.id": 100307,
         "school.address": "Abkir",
         "school.established": "1/1/1947",
         "school.classification": "Elementary",
         "school.classification2": "DepED Managed",
         "school.curricularclass": "Elementary",
         "school.organization": "Monograde",
         "school.cityincome": "P 55 M or more",
         "school.cityclass": "nan",
         "school.urban": "Partially Urban",
         "School ID": 100307,
         "Kinder Male": 5,
         "Kinder Female": 18,
         "Grade 1 Male": 11,
         "Grade 1 Female": 6,
         "Grade 2 Male": 11,
         "Grade 2 Female": 6,
         "Grade 3 Male": 13,
         "Grade 3 Female": 7,
         "Grade 4 Male": 12,
         "Grade 4 Female": 10,
         "Grade 5 Male": 10,
         "Grade 5 Female": 10,
         "Grade 6 Male": 10,
         "Grade 6 Female": 8,
         "SPED NG Male": 0,
         "SPED NG Female": 0,
         "Grade 7 Male": "nan",
         "Grade 7 Female": "nan",
         "Grade 8 Male": "nan",
         "Grade 8 Female": "nan",
         "Grade 9 Male": "nan",
         "Grade 9 Female": "nan",
         "Grade 10 Male": "nan",
         "Grade 10 Female": "nan",
         "Grade 11 Male": "nan",
         "Grade 11 Female": "nan",
         "Grade 12 Male": "nan",
         "Grade 12 Female": "nan",
         " school.mooe ": 119000,
         "_deepnote_index_column": 8
        }
       ],
       "rows_bottom": [
        {
         "school.id": 305451,
         "school.name": "Tugatog NHS",
         "school.region": "NCR",
         "school.region.name": "National Capital Region",
         "school.province": "NCR THIRD DISTRICT",
         "school.cityhall": "CITY OF MALABON",
         "school.division": "Malabon City",
         "school.citymuni": "CITY OF MALABON",
         "school.district": "Malabon District V",
         "school.legdistrict": "Lone District",
         "school.type": "School with no Annexes",
         "school.abbrev": "TNHS",
         "school.previousname": "-",
         "school.mother.id": 305451,
         "school.address": "Dr. Lascano",
         "school.established": "1/1/1969",
         "school.classification": "Secondary",
         "school.classification2": "DepED Managed",
         "school.curricularclass": "Secondary",
         "school.organization": "Monograde",
         "school.cityincome": "P 400 M or more",
         "school.cityclass": "Highly Urbanized City",
         "school.urban": "Urban",
         "School ID": 305451,
         "Kinder Male": "nan",
         "Kinder Female": "nan",
         "Grade 1 Male": "nan",
         "Grade 1 Female": "nan",
         "Grade 2 Male": "nan",
         "Grade 2 Female": "nan",
         "Grade 3 Male": "nan",
         "Grade 3 Female": "nan",
         "Grade 4 Male": "nan",
         "Grade 4 Female": "nan",
         "Grade 5 Male": "nan",
         "Grade 5 Female": "nan",
         "Grade 6 Male": "nan",
         "Grade 6 Female": "nan",
         "SPED NG Male": "nan",
         "SPED NG Female": "nan",
         "Grade 7 Male": 382,
         "Grade 7 Female": 292,
         "Grade 8 Male": 310,
         "Grade 8 Female": 350,
         "Grade 9 Male": 316,
         "Grade 9 Female": 326,
         "Grade 10 Male": 329,
         "Grade 10 Female": 317,
         "Grade 11 Male": 0,
         "Grade 11 Female": 0,
         "Grade 12 Male": 0,
         "Grade 12 Female": 0,
         " school.mooe ": 2236000,
         "_deepnote_index_column": 46594
        },
        {
         "school.id": 320605,
         "school.name": "Upper Bicutan National High School",
         "school.region": "NCR",
         "school.region.name": "National Capital Region",
         "school.province": "NCR FOURTH DISTRICT",
         "school.cityhall": "TAGUIG CITY",
         "school.division": "Taguig",
         "school.citymuni": "TAGUIG CITY",
         "school.district": "Taguig District II",
         "school.legdistrict": "2nd District",
         "school.type": "School with no Annexes",
         "school.abbrev": "UBNHS",
         "school.previousname": "-",
         "school.mother.id": 320605,
         "school.address": "General Santos Avenue",
         "school.established": "1/1/2005",
         "school.classification": "Secondary",
         "school.classification2": "DepED Managed",
         "school.curricularclass": "Secondary",
         "school.organization": "Monograde",
         "school.cityincome": "P 400 M or more",
         "school.cityclass": "Highly Urbanized City",
         "school.urban": "Urban",
         "School ID": 320605,
         "Kinder Male": "nan",
         "Kinder Female": "nan",
         "Grade 1 Male": "nan",
         "Grade 1 Female": "nan",
         "Grade 2 Male": "nan",
         "Grade 2 Female": "nan",
         "Grade 3 Male": "nan",
         "Grade 3 Female": "nan",
         "Grade 4 Male": "nan",
         "Grade 4 Female": "nan",
         "Grade 5 Male": "nan",
         "Grade 5 Female": "nan",
         "Grade 6 Male": "nan",
         "Grade 6 Female": "nan",
         "SPED NG Male": "nan",
         "SPED NG Female": "nan",
         "Grade 7 Male": 695,
         "Grade 7 Female": 595,
         "Grade 8 Male": 536,
         "Grade 8 Female": 548,
         "Grade 9 Male": 548,
         "Grade 9 Female": 543,
         "Grade 10 Male": 511,
         "Grade 10 Female": 473,
         "Grade 11 Male": 0,
         "Grade 11 Female": 0,
         "Grade 12 Male": 0,
         "Grade 12 Female": 0,
         " school.mooe ": 3355000,
         "_deepnote_index_column": 46595
        },
        {
         "school.id": 320401,
         "school.name": "Valenzuela City Science HS",
         "school.region": "NCR",
         "school.region.name": "National Capital Region",
         "school.province": "NCR THIRD DISTRICT",
         "school.cityhall": "CITY OF VALENZUELA",
         "school.division": "Valenzuela City",
         "school.citymuni": "CITY OF VALENZUELA",
         "school.district": "Valenzuela City Central District",
         "school.legdistrict": "1st District",
         "school.type": "School with no Annexes",
         "school.abbrev": "nan",
         "school.previousname": "-",
         "school.mother.id": 320401,
         "school.address": "A. Marcelo",
         "school.established": "1/1/2003",
         "school.classification": "Secondary",
         "school.classification2": "DepED Managed",
         "school.curricularclass": "Secondary",
         "school.organization": "Monograde",
         "school.cityincome": "P 400 M or more",
         "school.cityclass": "Highly Urbanized City",
         "school.urban": "Urban",
         "School ID": 320401,
         "Kinder Male": "nan",
         "Kinder Female": "nan",
         "Grade 1 Male": "nan",
         "Grade 1 Female": "nan",
         "Grade 2 Male": "nan",
         "Grade 2 Female": "nan",
         "Grade 3 Male": "nan",
         "Grade 3 Female": "nan",
         "Grade 4 Male": "nan",
         "Grade 4 Female": "nan",
         "Grade 5 Male": "nan",
         "Grade 5 Female": "nan",
         "Grade 6 Male": "nan",
         "Grade 6 Female": "nan",
         "SPED NG Male": "nan",
         "SPED NG Female": "nan",
         "Grade 7 Male": 102,
         "Grade 7 Female": 180,
         "Grade 8 Male": 93,
         "Grade 8 Female": 142,
         "Grade 9 Male": 69,
         "Grade 9 Female": 79,
         "Grade 10 Male": 52,
         "Grade 10 Female": 52,
         "Grade 11 Male": 0,
         "Grade 11 Female": 0,
         "Grade 12 Male": 0,
         "Grade 12 Female": 0,
         " school.mooe ": 621000,
         "_deepnote_index_column": 46596
        },
        {
         "school.id": 305441,
         "school.name": "Valenzuela NHS",
         "school.region": "NCR",
         "school.region.name": "National Capital Region",
         "school.province": "NCR THIRD DISTRICT",
         "school.cityhall": "CITY OF VALENZUELA",
         "school.division": "Valenzuela City",
         "school.citymuni": "CITY OF VALENZUELA",
         "school.district": "Valenzuela City Central District",
         "school.legdistrict": "2nd District",
         "school.type": "School with no Annexes",
         "school.abbrev": "nan",
         "school.previousname": "-",
         "school.mother.id": 305441,
         "school.address": "A. FERNANDO ST., MARULAS,",
         "school.established": "1/1/1969",
         "school.classification": "Secondary",
         "school.classification2": "DepED Managed",
         "school.curricularclass": "Secondary",
         "school.organization": "Monograde",
         "school.cityincome": "P 400 M or more",
         "school.cityclass": "Highly Urbanized City",
         "school.urban": "Urban",
         "School ID": 305441,
         "Kinder Male": "nan",
         "Kinder Female": "nan",
         "Grade 1 Male": "nan",
         "Grade 1 Female": "nan",
         "Grade 2 Male": "nan",
         "Grade 2 Female": "nan",
         "Grade 3 Male": "nan",
         "Grade 3 Female": "nan",
         "Grade 4 Male": "nan",
         "Grade 4 Female": "nan",
         "Grade 5 Male": "nan",
         "Grade 5 Female": "nan",
         "Grade 6 Male": "nan",
         "Grade 6 Female": "nan",
         "SPED NG Male": "nan",
         "SPED NG Female": "nan",
         "Grade 7 Male": 461,
         "Grade 7 Female": 405,
         "Grade 8 Male": 424,
         "Grade 8 Female": 391,
         "Grade 9 Male": 423,
         "Grade 9 Female": 395,
         "Grade 10 Male": 363,
         "Grade 10 Female": 356,
         "Grade 11 Male": 0,
         "Grade 11 Female": 0,
         "Grade 12 Male": 0,
         "Grade 12 Female": 0,
         " school.mooe ": 2924000,
         "_deepnote_index_column": 46597
        },
        {
         "school.id": 305308,
         "school.name": "Valeriano E. Fugoso Memorial High School",
         "school.region": "NCR",
         "school.region.name": "National Capital Region",
         "school.province": "MANILA, NCR, FIRST DISTRICT",
         "school.cityhall": "MANILA, NCR, FIRST DISTRICT",
         "school.division": "Manila",
         "school.citymuni": "SAMPALOC",
         "school.district": "Sampaloc V",
         "school.legdistrict": "4th District",
         "school.type": "School with no Annexes",
         "school.abbrev": "Fugoso HS",
         "school.previousname": "-",
         "school.mother.id": 305308,
         "school.address": "Boys Town Complex, Parang, Marikina City",
         "school.established": "1/1/1947",
         "school.classification": "Secondary",
         "school.classification2": "DepED Managed",
         "school.curricularclass": "Secondary",
         "school.organization": "Monograde",
         "school.cityincome": "nan",
         "school.cityclass": "Highly Urbanized City",
         "school.urban": "Urban",
         "School ID": 305308,
         "Kinder Male": "nan",
         "Kinder Female": "nan",
         "Grade 1 Male": "nan",
         "Grade 1 Female": "nan",
         "Grade 2 Male": "nan",
         "Grade 2 Female": "nan",
         "Grade 3 Male": "nan",
         "Grade 3 Female": "nan",
         "Grade 4 Male": "nan",
         "Grade 4 Female": "nan",
         "Grade 5 Male": "nan",
         "Grade 5 Female": "nan",
         "Grade 6 Male": "nan",
         "Grade 6 Female": "nan",
         "SPED NG Male": "nan",
         "SPED NG Female": "nan",
         "Grade 7 Male": 92,
         "Grade 7 Female": 132,
         "Grade 8 Male": 85,
         "Grade 8 Female": 106,
         "Grade 9 Male": 76,
         "Grade 9 Female": 112,
         "Grade 10 Male": 58,
         "Grade 10 Female": 83,
         "Grade 11 Male": 0,
         "Grade 11 Female": 0,
         "Grade 12 Male": 0,
         "Grade 12 Female": 0,
         " school.mooe ": 986000,
         "_deepnote_index_column": 46598
        },
        {
         "school.id": 320402,
         "school.name": "Vicente Trinidad NHS (Punturin NHS)",
         "school.region": "NCR",
         "school.region.name": "National Capital Region",
         "school.province": "NCR THIRD DISTRICT",
         "school.cityhall": "CITY OF VALENZUELA",
         "school.division": "Valenzuela City",
         "school.citymuni": "CITY OF VALENZUELA",
         "school.district": "Valenzuela City Central District",
         "school.legdistrict": "1st District",
         "school.type": "School with no Annexes",
         "school.abbrev": "VPTNHS",
         "school.previousname": "Punturin National High School",
         "school.mother.id": 320402,
         "school.address": "Ruby st., Sta. Lucia Village Phase V",
         "school.established": "1/1/2003",
         "school.classification": "Secondary",
         "school.classification2": "DepED Managed",
         "school.curricularclass": "Secondary",
         "school.organization": "Monograde",
         "school.cityincome": "P 400 M or more",
         "school.cityclass": "Highly Urbanized City",
         "school.urban": "Urban",
         "School ID": 320402,
         "Kinder Male": "nan",
         "Kinder Female": "nan",
         "Grade 1 Male": "nan",
         "Grade 1 Female": "nan",
         "Grade 2 Male": "nan",
         "Grade 2 Female": "nan",
         "Grade 3 Male": "nan",
         "Grade 3 Female": "nan",
         "Grade 4 Male": "nan",
         "Grade 4 Female": "nan",
         "Grade 5 Male": "nan",
         "Grade 5 Female": "nan",
         "Grade 6 Male": "nan",
         "Grade 6 Female": "nan",
         "SPED NG Male": "nan",
         "SPED NG Female": "nan",
         "Grade 7 Male": 267,
         "Grade 7 Female": 270,
         "Grade 8 Male": 296,
         "Grade 8 Female": 275,
         "Grade 9 Male": 265,
         "Grade 9 Female": 267,
         "Grade 10 Male": 239,
         "Grade 10 Female": 234,
         "Grade 11 Male": 0,
         "Grade 11 Female": 0,
         "Grade 12 Male": 0,
         "Grade 12 Female": 0,
         " school.mooe ": 1798000,
         "_deepnote_index_column": 46599
        },
        {
         "school.id": 305315,
         "school.name": "Victoriano Mapa High School",
         "school.region": "NCR",
         "school.region.name": "National Capital Region",
         "school.province": "MANILA, NCR, FIRST DISTRICT",
         "school.cityhall": "MANILA, NCR, FIRST DISTRICT",
         "school.division": "Manila",
         "school.citymuni": "SAN MIGUEL",
         "school.district": "Sta. Cruz V",
         "school.legdistrict": "6th District",
         "school.type": "School with no Annexes",
         "school.abbrev": "VMHS",
         "school.previousname": "MANILA EAST HS",
         "school.mother.id": 305315,
         "school.address": "300 San Rafael St., San Miguel,",
         "school.established": "1/1/1923",
         "school.classification": "Secondary",
         "school.classification2": "DepED Managed",
         "school.curricularclass": "Secondary",
         "school.organization": "Monograde",
         "school.cityincome": "nan",
         "school.cityclass": "Highly Urbanized City",
         "school.urban": "Urban",
         "School ID": 305315,
         "Kinder Male": "nan",
         "Kinder Female": "nan",
         "Grade 1 Male": "nan",
         "Grade 1 Female": "nan",
         "Grade 2 Male": "nan",
         "Grade 2 Female": "nan",
         "Grade 3 Male": "nan",
         "Grade 3 Female": "nan",
         "Grade 4 Male": "nan",
         "Grade 4 Female": "nan",
         "Grade 5 Male": "nan",
         "Grade 5 Female": "nan",
         "Grade 6 Male": "nan",
         "Grade 6 Female": "nan",
         "SPED NG Male": "nan",
         "SPED NG Female": "nan",
         "Grade 7 Male": 516,
         "Grade 7 Female": 549,
         "Grade 8 Male": 472,
         "Grade 8 Female": 532,
         "Grade 9 Male": 412,
         "Grade 9 Female": 457,
         "Grade 10 Male": 401,
         "Grade 10 Female": 441,
         "Grade 11 Male": 0,
         "Grade 11 Female": 0,
         "Grade 12 Male": 0,
         "Grade 12 Female": 0,
         " school.mooe ": 3971000,
         "_deepnote_index_column": 46600
        },
        {
         "school.id": 320407,
         "school.name": "Wawangpulo National High School",
         "school.region": "NCR",
         "school.region.name": "National Capital Region",
         "school.province": "NCR THIRD DISTRICT",
         "school.cityhall": "CITY OF VALENZUELA",
         "school.division": "Valenzuela City",
         "school.citymuni": "CITY OF VALENZUELA",
         "school.district": "Valenzuela City North District",
         "school.legdistrict": "1st District",
         "school.type": "School with no Annexes",
         "school.abbrev": "nan",
         "school.previousname": "Valenzuela NHS-Wawang Pulo Annex",
         "school.mother.id": 320407,
         "school.address": "F. Andaya St.",
         "school.established": "1/1/2008",
         "school.classification": "Secondary",
         "school.classification2": "DepED Managed",
         "school.curricularclass": "Secondary",
         "school.organization": "Monograde",
         "school.cityincome": "P 400 M or more",
         "school.cityclass": "Highly Urbanized City",
         "school.urban": "Urban",
         "School ID": 320407,
         "Kinder Male": "nan",
         "Kinder Female": "nan",
         "Grade 1 Male": "nan",
         "Grade 1 Female": "nan",
         "Grade 2 Male": "nan",
         "Grade 2 Female": "nan",
         "Grade 3 Male": "nan",
         "Grade 3 Female": "nan",
         "Grade 4 Male": "nan",
         "Grade 4 Female": "nan",
         "Grade 5 Male": "nan",
         "Grade 5 Female": "nan",
         "Grade 6 Male": "nan",
         "Grade 6 Female": "nan",
         "SPED NG Male": "nan",
         "SPED NG Female": "nan",
         "Grade 7 Male": 98,
         "Grade 7 Female": 76,
         "Grade 8 Male": 106,
         "Grade 8 Female": 54,
         "Grade 9 Male": 80,
         "Grade 9 Female": 58,
         "Grade 10 Male": 55,
         "Grade 10 Female": 44,
         "Grade 11 Male": 0,
         "Grade 11 Female": 0,
         "Grade 12 Male": 0,
         "Grade 12 Female": 0,
         " school.mooe ": 539000,
         "_deepnote_index_column": 46601
        },
        {
         "school.id": 305465,
         "school.name": "Western Bicutan NHS",
         "school.region": "NCR",
         "school.region.name": "National Capital Region",
         "school.province": "NCR FOURTH DISTRICT",
         "school.cityhall": "TAGUIG CITY",
         "school.division": "Taguig",
         "school.citymuni": "TAGUIG CITY",
         "school.district": "Taguig District III",
         "school.legdistrict": "2nd District",
         "school.type": "School with no Annexes",
         "school.abbrev": "WBNHS",
         "school.previousname": "N/.A",
         "school.mother.id": 305465,
         "school.address": "EPVillage,Phase 1,Pinagsama,Taguig City",
         "school.established": "1/1/1997",
         "school.classification": "Secondary",
         "school.classification2": "DepED Managed",
         "school.curricularclass": "Secondary",
         "school.organization": "Monograde",
         "school.cityincome": "P 400 M or more",
         "school.cityclass": "Highly Urbanized City",
         "school.urban": "Urban",
         "School ID": 305465,
         "Kinder Male": "nan",
         "Kinder Female": "nan",
         "Grade 1 Male": "nan",
         "Grade 1 Female": "nan",
         "Grade 2 Male": "nan",
         "Grade 2 Female": "nan",
         "Grade 3 Male": "nan",
         "Grade 3 Female": "nan",
         "Grade 4 Male": "nan",
         "Grade 4 Female": "nan",
         "Grade 5 Male": "nan",
         "Grade 5 Female": "nan",
         "Grade 6 Male": "nan",
         "Grade 6 Female": "nan",
         "SPED NG Male": "nan",
         "SPED NG Female": "nan",
         "Grade 7 Male": 635,
         "Grade 7 Female": 627,
         "Grade 8 Male": 623,
         "Grade 8 Female": 634,
         "Grade 9 Male": 543,
         "Grade 9 Female": 546,
         "Grade 10 Male": 504,
         "Grade 10 Female": 501,
         "Grade 11 Male": 0,
         "Grade 11 Female": 0,
         "Grade 12 Male": 0,
         "Grade 12 Female": 0,
         " school.mooe ": 3595000,
         "_deepnote_index_column": 46602
        }
       ]
      },
      "text/plain": "       school.id                               school.name school.region  \\\n0         101746                           A. Diaz, Sr. ES      Region I   \n1         102193             A. P. Santos ES (SPED Center)      Region I   \n2         101283                           A.P. Guevara IS      Region I   \n3         100216                                Ab-Abut ES      Region I   \n4         100043                                  Abaca ES      Region I   \n...          ...                                       ...           ...   \n46598     305308  Valeriano E. Fugoso Memorial High School           NCR   \n46599     320402       Vicente Trinidad NHS (Punturin NHS)           NCR   \n46600     305315               Victoriano Mapa High School           NCR   \n46601     320407           Wawangpulo National High School           NCR   \n46602     305465                       Western Bicutan NHS           NCR   \n\n            school.region.name              school.province  \\\n0                Ilocos Region                   PANGASINAN   \n1                Ilocos Region                 ILOCOS NORTE   \n2                Ilocos Region                   PANGASINAN   \n3                Ilocos Region                 ILOCOS NORTE   \n4                Ilocos Region                 ILOCOS NORTE   \n...                        ...                          ...   \n46598  National Capital Region  MANILA, NCR, FIRST DISTRICT   \n46599  National Capital Region           NCR THIRD DISTRICT   \n46600  National Capital Region  MANILA, NCR, FIRST DISTRICT   \n46601  National Capital Region           NCR THIRD DISTRICT   \n46602  National Capital Region          NCR FOURTH DISTRICT   \n\n                   school.cityhall           school.division  \\\n0                       PANGASINAN  Pangasinan II, Binalonan   \n1                     ILOCOS NORTE                Laoag City   \n2                       PANGASINAN    Pangasinan I, Lingayen   \n3                     ILOCOS NORTE              Ilocos Norte   \n4                     ILOCOS NORTE              Ilocos Norte   \n...                            ...                       ...   \n46598  MANILA, NCR, FIRST DISTRICT                    Manila   \n46599           CITY OF VALENZUELA           Valenzuela City   \n46600  MANILA, NCR, FIRST DISTRICT                    Manila   \n46601           CITY OF VALENZUELA           Valenzuela City   \n46602                  TAGUIG CITY                    Taguig   \n\n            school.citymuni                   school.district  \\\n0                  BAUTISTA                          Bautista   \n1      LAOAG CITY (Capital)            Laoag City District II   \n2                 BAYAMBANG                      Bayambang II   \n3                    PIDDIG                            Piddig   \n4                    BANGUI                            Bangui   \n...                     ...                               ...   \n46598              SAMPALOC                        Sampaloc V   \n46599    CITY OF VALENZUELA  Valenzuela City Central District   \n46600            SAN MIGUEL                       Sta. Cruz V   \n46601    CITY OF VALENZUELA    Valenzuela City North District   \n46602           TAGUIG CITY               Taguig District III   \n\n      school.legdistrict  ... Grade 8 Female Grade 9 Male Grade 9 Female  \\\n0           5th District  ...            NaN          NaN            NaN   \n1           1st District  ...            NaN          NaN            NaN   \n2           3rd District  ...            NaN          NaN            NaN   \n3           1st District  ...            NaN          NaN            NaN   \n4           1st District  ...            NaN          NaN            NaN   \n...                  ...  ...            ...          ...            ...   \n46598       4th District  ...          106.0         76.0          112.0   \n46599       1st District  ...          275.0        265.0          267.0   \n46600       6th District  ...          532.0        412.0          457.0   \n46601       1st District  ...           54.0         80.0           58.0   \n46602       2nd District  ...          634.0        543.0          546.0   \n\n       Grade 10 Male Grade 10 Female Grade 11 Male Grade 11 Female  \\\n0                NaN             NaN           NaN             NaN   \n1                NaN             NaN           NaN             NaN   \n2                NaN             NaN           NaN             NaN   \n3                NaN             NaN           NaN             NaN   \n4                NaN             NaN           NaN             NaN   \n...              ...             ...           ...             ...   \n46598           58.0            83.0           0.0             0.0   \n46599          239.0           234.0           0.0             0.0   \n46600          401.0           441.0           0.0             0.0   \n46601           55.0            44.0           0.0             0.0   \n46602          504.0           501.0           0.0             0.0   \n\n      Grade 12 Male Grade 12 Female  school.mooe   \n0               NaN             NaN      341000.0  \n1               NaN             NaN      275000.0  \n2               NaN             NaN      132000.0  \n3               NaN             NaN      135000.0  \n4               NaN             NaN      182000.0  \n...             ...             ...           ...  \n46598           0.0             0.0      986000.0  \n46599           0.0             0.0     1798000.0  \n46600           0.0             0.0     3971000.0  \n46601           0.0             0.0      539000.0  \n46602           0.0             0.0     3595000.0  \n\n[46603 rows x 53 columns]",
      "text/html": "<div>\n<style scoped>\n    .dataframe tbody tr th:only-of-type {\n        vertical-align: middle;\n    }\n\n    .dataframe tbody tr th {\n        vertical-align: top;\n    }\n\n    .dataframe thead th {\n        text-align: right;\n    }\n</style>\n<table border=\"1\" class=\"dataframe\">\n  <thead>\n    <tr style=\"text-align: right;\">\n      <th></th>\n      <th>school.id</th>\n      <th>school.name</th>\n      <th>school.region</th>\n      <th>school.region.name</th>\n      <th>school.province</th>\n      <th>school.cityhall</th>\n      <th>school.division</th>\n      <th>school.citymuni</th>\n      <th>school.district</th>\n      <th>school.legdistrict</th>\n      <th>...</th>\n      <th>Grade 8 Female</th>\n      <th>Grade 9 Male</th>\n      <th>Grade 9 Female</th>\n      <th>Grade 10 Male</th>\n      <th>Grade 10 Female</th>\n      <th>Grade 11 Male</th>\n      <th>Grade 11 Female</th>\n      <th>Grade 12 Male</th>\n      <th>Grade 12 Female</th>\n      <th>school.mooe</th>\n    </tr>\n  </thead>\n  <tbody>\n    <tr>\n      <th>0</th>\n      <td>101746</td>\n      <td>A. Diaz, Sr. ES</td>\n      <td>Region I</td>\n      <td>Ilocos Region</td>\n      <td>PANGASINAN</td>\n      <td>PANGASINAN</td>\n      <td>Pangasinan II, Binalonan</td>\n      <td>BAUTISTA</td>\n      <td>Bautista</td>\n      <td>5th District</td>\n      <td>...</td>\n      <td>NaN</td>\n      <td>NaN</td>\n      <td>NaN</td>\n      <td>NaN</td>\n      <td>NaN</td>\n      <td>NaN</td>\n      <td>NaN</td>\n      <td>NaN</td>\n      <td>NaN</td>\n      <td>341000.0</td>\n    </tr>\n    <tr>\n      <th>1</th>\n      <td>102193</td>\n      <td>A. P. Santos ES (SPED Center)</td>\n      <td>Region I</td>\n      <td>Ilocos Region</td>\n      <td>ILOCOS NORTE</td>\n      <td>ILOCOS NORTE</td>\n      <td>Laoag City</td>\n      <td>LAOAG CITY (Capital)</td>\n      <td>Laoag City District II</td>\n      <td>1st District</td>\n      <td>...</td>\n      <td>NaN</td>\n      <td>NaN</td>\n      <td>NaN</td>\n      <td>NaN</td>\n      <td>NaN</td>\n      <td>NaN</td>\n      <td>NaN</td>\n      <td>NaN</td>\n      <td>NaN</td>\n      <td>275000.0</td>\n    </tr>\n    <tr>\n      <th>2</th>\n      <td>101283</td>\n      <td>A.P. Guevara IS</td>\n      <td>Region I</td>\n      <td>Ilocos Region</td>\n      <td>PANGASINAN</td>\n      <td>PANGASINAN</td>\n      <td>Pangasinan I, Lingayen</td>\n      <td>BAYAMBANG</td>\n      <td>Bayambang II</td>\n      <td>3rd District</td>\n      <td>...</td>\n      <td>NaN</td>\n      <td>NaN</td>\n      <td>NaN</td>\n      <td>NaN</td>\n      <td>NaN</td>\n      <td>NaN</td>\n      <td>NaN</td>\n      <td>NaN</td>\n      <td>NaN</td>\n      <td>132000.0</td>\n    </tr>\n    <tr>\n      <th>3</th>\n      <td>100216</td>\n      <td>Ab-Abut ES</td>\n      <td>Region I</td>\n      <td>Ilocos Region</td>\n      <td>ILOCOS NORTE</td>\n      <td>ILOCOS NORTE</td>\n      <td>Ilocos Norte</td>\n      <td>PIDDIG</td>\n      <td>Piddig</td>\n      <td>1st District</td>\n      <td>...</td>\n      <td>NaN</td>\n      <td>NaN</td>\n      <td>NaN</td>\n      <td>NaN</td>\n      <td>NaN</td>\n      <td>NaN</td>\n      <td>NaN</td>\n      <td>NaN</td>\n      <td>NaN</td>\n      <td>135000.0</td>\n    </tr>\n    <tr>\n      <th>4</th>\n      <td>100043</td>\n      <td>Abaca ES</td>\n      <td>Region I</td>\n      <td>Ilocos Region</td>\n      <td>ILOCOS NORTE</td>\n      <td>ILOCOS NORTE</td>\n      <td>Ilocos Norte</td>\n      <td>BANGUI</td>\n      <td>Bangui</td>\n      <td>1st District</td>\n      <td>...</td>\n      <td>NaN</td>\n      <td>NaN</td>\n      <td>NaN</td>\n      <td>NaN</td>\n      <td>NaN</td>\n      <td>NaN</td>\n      <td>NaN</td>\n      <td>NaN</td>\n      <td>NaN</td>\n      <td>182000.0</td>\n    </tr>\n    <tr>\n      <th>...</th>\n      <td>...</td>\n      <td>...</td>\n      <td>...</td>\n      <td>...</td>\n      <td>...</td>\n      <td>...</td>\n      <td>...</td>\n      <td>...</td>\n      <td>...</td>\n      <td>...</td>\n      <td>...</td>\n      <td>...</td>\n      <td>...</td>\n      <td>...</td>\n      <td>...</td>\n      <td>...</td>\n      <td>...</td>\n      <td>...</td>\n      <td>...</td>\n      <td>...</td>\n      <td>...</td>\n    </tr>\n    <tr>\n      <th>46598</th>\n      <td>305308</td>\n      <td>Valeriano E. Fugoso Memorial High School</td>\n      <td>NCR</td>\n      <td>National Capital Region</td>\n      <td>MANILA, NCR, FIRST DISTRICT</td>\n      <td>MANILA, NCR, FIRST DISTRICT</td>\n      <td>Manila</td>\n      <td>SAMPALOC</td>\n      <td>Sampaloc V</td>\n      <td>4th District</td>\n      <td>...</td>\n      <td>106.0</td>\n      <td>76.0</td>\n      <td>112.0</td>\n      <td>58.0</td>\n      <td>83.0</td>\n      <td>0.0</td>\n      <td>0.0</td>\n      <td>0.0</td>\n      <td>0.0</td>\n      <td>986000.0</td>\n    </tr>\n    <tr>\n      <th>46599</th>\n      <td>320402</td>\n      <td>Vicente Trinidad NHS (Punturin NHS)</td>\n      <td>NCR</td>\n      <td>National Capital Region</td>\n      <td>NCR THIRD DISTRICT</td>\n      <td>CITY OF VALENZUELA</td>\n      <td>Valenzuela City</td>\n      <td>CITY OF VALENZUELA</td>\n      <td>Valenzuela City Central District</td>\n      <td>1st District</td>\n      <td>...</td>\n      <td>275.0</td>\n      <td>265.0</td>\n      <td>267.0</td>\n      <td>239.0</td>\n      <td>234.0</td>\n      <td>0.0</td>\n      <td>0.0</td>\n      <td>0.0</td>\n      <td>0.0</td>\n      <td>1798000.0</td>\n    </tr>\n    <tr>\n      <th>46600</th>\n      <td>305315</td>\n      <td>Victoriano Mapa High School</td>\n      <td>NCR</td>\n      <td>National Capital Region</td>\n      <td>MANILA, NCR, FIRST DISTRICT</td>\n      <td>MANILA, NCR, FIRST DISTRICT</td>\n      <td>Manila</td>\n      <td>SAN MIGUEL</td>\n      <td>Sta. Cruz V</td>\n      <td>6th District</td>\n      <td>...</td>\n      <td>532.0</td>\n      <td>412.0</td>\n      <td>457.0</td>\n      <td>401.0</td>\n      <td>441.0</td>\n      <td>0.0</td>\n      <td>0.0</td>\n      <td>0.0</td>\n      <td>0.0</td>\n      <td>3971000.0</td>\n    </tr>\n    <tr>\n      <th>46601</th>\n      <td>320407</td>\n      <td>Wawangpulo National High School</td>\n      <td>NCR</td>\n      <td>National Capital Region</td>\n      <td>NCR THIRD DISTRICT</td>\n      <td>CITY OF VALENZUELA</td>\n      <td>Valenzuela City</td>\n      <td>CITY OF VALENZUELA</td>\n      <td>Valenzuela City North District</td>\n      <td>1st District</td>\n      <td>...</td>\n      <td>54.0</td>\n      <td>80.0</td>\n      <td>58.0</td>\n      <td>55.0</td>\n      <td>44.0</td>\n      <td>0.0</td>\n      <td>0.0</td>\n      <td>0.0</td>\n      <td>0.0</td>\n      <td>539000.0</td>\n    </tr>\n    <tr>\n      <th>46602</th>\n      <td>305465</td>\n      <td>Western Bicutan NHS</td>\n      <td>NCR</td>\n      <td>National Capital Region</td>\n      <td>NCR FOURTH DISTRICT</td>\n      <td>TAGUIG CITY</td>\n      <td>Taguig</td>\n      <td>TAGUIG CITY</td>\n      <td>Taguig District III</td>\n      <td>2nd District</td>\n      <td>...</td>\n      <td>634.0</td>\n      <td>543.0</td>\n      <td>546.0</td>\n      <td>504.0</td>\n      <td>501.0</td>\n      <td>0.0</td>\n      <td>0.0</td>\n      <td>0.0</td>\n      <td>0.0</td>\n      <td>3595000.0</td>\n    </tr>\n  </tbody>\n</table>\n<p>46603 rows × 53 columns</p>\n</div>"
     },
     "metadata": {}
    }
   ]
  },
  {
   "cell_type": "code",
   "metadata": {
    "cell_id": "00013-2d14db4e-aed0-4e9f-b343-eafed27737d4",
    "deepnote_to_be_reexecuted": false,
    "source_hash": "dd742395",
    "execution_start": 1621509792377,
    "execution_millis": 23,
    "deepnote_cell_type": "code"
   },
   "source": "master_df = pd.merge(master_df, room, left_on =\"school.id\", right_on = \"School ID\", how = \"left\")",
   "execution_count": 18,
   "outputs": []
  },
  {
   "cell_type": "code",
   "metadata": {
    "cell_id": "00014-7da516dd-a874-4d6a-a917-b78d0c0697dd",
    "deepnote_to_be_reexecuted": false,
    "source_hash": "98c6b011",
    "execution_start": 1621509792409,
    "execution_millis": 246,
    "deepnote_cell_type": "code"
   },
   "source": "master_df",
   "execution_count": 19,
   "outputs": [
    {
     "output_type": "execute_result",
     "execution_count": 19,
     "data": {
      "application/vnd.deepnote.dataframe.v2+json": {
       "row_count": 46603,
       "column_count": 58,
       "columns": [
        {
         "name": "school.id",
         "dtype": "int64",
         "stats": {
          "unique_count": 46603,
          "nan_count": 0,
          "min": "100001",
          "max": "900279",
          "histogram": [
           {
            "bin_start": 100001,
            "bin_end": 180028.8,
            "count": 37079
           },
           {
            "bin_start": 180028.8,
            "bin_end": 260056.6,
            "count": 1603
           },
           {
            "bin_start": 260056.6,
            "bin_end": 340084.4,
            "count": 7919
           },
           {
            "bin_start": 340084.4,
            "bin_end": 420112.2,
            "count": 1
           },
           {
            "bin_start": 420112.2,
            "bin_end": 500140,
            "count": 0
           },
           {
            "bin_start": 500140,
            "bin_end": 580167.8,
            "count": 0
           },
           {
            "bin_start": 580167.8,
            "bin_end": 660195.6,
            "count": 0
           },
           {
            "bin_start": 660195.6,
            "bin_end": 740223.4,
            "count": 0
           },
           {
            "bin_start": 740223.4,
            "bin_end": 820251.2000000001,
            "count": 0
           },
           {
            "bin_start": 820251.2000000001,
            "bin_end": 900279,
            "count": 1
           }
          ]
         }
        },
        {
         "name": "school.name",
         "dtype": "object",
         "stats": {
          "unique_count": 36901,
          "nan_count": 0,
          "categories": [
           {
            "name": "San Isidro ES",
            "count": 192
           },
           {
            "name": "San Jose ES",
            "count": 155
           },
           {
            "name": "36899 others",
            "count": 46256
           }
          ]
         }
        },
        {
         "name": "school.region",
         "dtype": "object"
        },
        {
         "name": "school.region.name",
         "dtype": "object"
        },
        {
         "name": "school.province",
         "dtype": "object"
        },
        {
         "name": "school.cityhall",
         "dtype": "object"
        },
        {
         "name": "school.division",
         "dtype": "object"
        },
        {
         "name": "school.citymuni",
         "dtype": "object"
        },
        {
         "name": "school.district",
         "dtype": "object"
        },
        {
         "name": "school.legdistrict",
         "dtype": "object"
        },
        {
         "name": "school.type",
         "dtype": "object"
        },
        {
         "name": "school.abbrev",
         "dtype": "object"
        },
        {
         "name": "school.previousname",
         "dtype": "object"
        },
        {
         "name": "school.mother.id",
         "dtype": "float64"
        },
        {
         "name": "school.address",
         "dtype": "object"
        },
        {
         "name": "school.established",
         "dtype": "object"
        },
        {
         "name": "school.classification",
         "dtype": "object"
        },
        {
         "name": "school.classification2",
         "dtype": "object"
        },
        {
         "name": "school.curricularclass",
         "dtype": "object"
        },
        {
         "name": "school.organization",
         "dtype": "object"
        },
        {
         "name": "school.cityincome",
         "dtype": "object"
        },
        {
         "name": "school.cityclass",
         "dtype": "object"
        },
        {
         "name": "school.urban",
         "dtype": "object"
        },
        {
         "name": "School ID_x",
         "dtype": "float64"
        },
        {
         "name": "Kinder Male",
         "dtype": "float64"
        },
        {
         "name": "Kinder Female",
         "dtype": "float64"
        },
        {
         "name": "Grade 1 Male",
         "dtype": "float64"
        },
        {
         "name": "Grade 1 Female",
         "dtype": "float64"
        },
        {
         "name": "Grade 2 Male",
         "dtype": "float64"
        },
        {
         "name": "Grade 2 Female",
         "dtype": "float64"
        },
        {
         "name": "Grade 3 Male",
         "dtype": "float64"
        },
        {
         "name": "Grade 3 Female",
         "dtype": "float64"
        },
        {
         "name": "Grade 4 Male",
         "dtype": "float64"
        },
        {
         "name": "Grade 4 Female",
         "dtype": "float64"
        },
        {
         "name": "Grade 5 Male",
         "dtype": "float64"
        },
        {
         "name": "Grade 5 Female",
         "dtype": "float64"
        },
        {
         "name": "Grade 6 Male",
         "dtype": "float64"
        },
        {
         "name": "Grade 6 Female",
         "dtype": "float64"
        },
        {
         "name": "SPED NG Male",
         "dtype": "float64"
        },
        {
         "name": "SPED NG Female",
         "dtype": "float64"
        },
        {
         "name": "Grade 7 Male",
         "dtype": "float64"
        },
        {
         "name": "Grade 7 Female",
         "dtype": "float64"
        },
        {
         "name": "Grade 8 Male",
         "dtype": "float64"
        },
        {
         "name": "Grade 8 Female",
         "dtype": "float64"
        },
        {
         "name": "Grade 9 Male",
         "dtype": "float64"
        },
        {
         "name": "Grade 9 Female",
         "dtype": "float64"
        },
        {
         "name": "Grade 10 Male",
         "dtype": "float64"
        },
        {
         "name": "Grade 10 Female",
         "dtype": "float64"
        },
        {
         "name": "Grade 11 Male",
         "dtype": "float64"
        },
        {
         "name": "Grade 11 Female",
         "dtype": "float64"
        },
        {
         "name": "Grade 12 Male",
         "dtype": "float64"
        },
        {
         "name": "Grade 12 Female",
         "dtype": "float64"
        },
        {
         "name": " school.mooe ",
         "dtype": "float64"
        },
        {
         "name": "School ID_y",
         "dtype": "float64"
        },
        {
         "name": "rooms.standard.academic",
         "dtype": "float64"
        },
        {
         "name": "rooms.standard.unused",
         "dtype": "float64"
        },
        {
         "name": "rooms.nonstandard.academic",
         "dtype": "float64"
        },
        {
         "name": "rooms.nonstandard.unused",
         "dtype": "float64"
        },
        {
         "name": "_deepnote_index_column",
         "dtype": "int64"
        }
       ],
       "rows_top": [
        {
         "school.id": 101746,
         "school.name": "A. Diaz, Sr. ES",
         "school.region": "Region I",
         "school.region.name": "Ilocos Region",
         "school.province": "PANGASINAN",
         "school.cityhall": "PANGASINAN",
         "school.division": "Pangasinan II, Binalonan",
         "school.citymuni": "BAUTISTA",
         "school.district": "Bautista",
         "school.legdistrict": "5th District",
         "school.type": "School with no Annexes",
         "school.abbrev": "ADSES",
         "school.previousname": "none",
         "school.mother.id": 101746,
         "school.address": "Brgy. Dias Bautista, Pang",
         "school.established": "1/1/1930",
         "school.classification": "Elementary",
         "school.classification2": "DepED Managed",
         "school.curricularclass": "Elementary",
         "school.organization": "Monograde",
         "school.cityincome": "P 25 M or more but less than P 35 M",
         "school.cityclass": "nan",
         "school.urban": "Partially Urban",
         "School ID_x": 101746,
         "Kinder Male": 57,
         "Kinder Female": 45,
         "Grade 1 Male": 56,
         "Grade 1 Female": 58,
         "Grade 2 Male": 63,
         "Grade 2 Female": 61,
         "Grade 3 Male": 55,
         "Grade 3 Female": 61,
         "Grade 4 Male": 62,
         "Grade 4 Female": 55,
         "Grade 5 Male": 61,
         "Grade 5 Female": 48,
         "Grade 6 Male": 48,
         "Grade 6 Female": 51,
         "SPED NG Male": 0,
         "SPED NG Female": 0,
         "Grade 7 Male": "nan",
         "Grade 7 Female": "nan",
         "Grade 8 Male": "nan",
         "Grade 8 Female": "nan",
         "Grade 9 Male": "nan",
         "Grade 9 Female": "nan",
         "Grade 10 Male": "nan",
         "Grade 10 Female": "nan",
         "Grade 11 Male": "nan",
         "Grade 11 Female": "nan",
         "Grade 12 Male": "nan",
         "Grade 12 Female": "nan",
         " school.mooe ": 341000,
         "School ID_y": 101746,
         "rooms.standard.academic": 15,
         "rooms.standard.unused": 0,
         "rooms.nonstandard.academic": 0,
         "rooms.nonstandard.unused": 0,
         "_deepnote_index_column": 0
        },
        {
         "school.id": 102193,
         "school.name": "A. P. Santos ES (SPED Center)",
         "school.region": "Region I",
         "school.region.name": "Ilocos Region",
         "school.province": "ILOCOS NORTE",
         "school.cityhall": "ILOCOS NORTE",
         "school.division": "Laoag City",
         "school.citymuni": "LAOAG CITY (Capital)",
         "school.district": "Laoag City District II",
         "school.legdistrict": "1st District",
         "school.type": "School with no Annexes",
         "school.abbrev": "APSES",
         "school.previousname": "-",
         "school.mother.id": 102193,
         "school.address": "A.G. Tupaz",
         "school.established": "1/1/1944",
         "school.classification": "Elementary",
         "school.classification2": "DepED Managed",
         "school.curricularclass": "Kinder & Elementary",
         "school.organization": "Monograde",
         "school.cityincome": "P 240 M or more but less than P 320 M",
         "school.cityclass": "Component City",
         "school.urban": "Partially Urban",
         "School ID_x": 102193,
         "Kinder Male": 20,
         "Kinder Female": 24,
         "Grade 1 Male": 38,
         "Grade 1 Female": 30,
         "Grade 2 Male": 37,
         "Grade 2 Female": 18,
         "Grade 3 Male": 29,
         "Grade 3 Female": 33,
         "Grade 4 Male": 23,
         "Grade 4 Female": 41,
         "Grade 5 Male": 39,
         "Grade 5 Female": 27,
         "Grade 6 Male": 26,
         "Grade 6 Female": 26,
         "SPED NG Male": 32,
         "SPED NG Female": 22,
         "Grade 7 Male": "nan",
         "Grade 7 Female": "nan",
         "Grade 8 Male": "nan",
         "Grade 8 Female": "nan",
         "Grade 9 Male": "nan",
         "Grade 9 Female": "nan",
         "Grade 10 Male": "nan",
         "Grade 10 Female": "nan",
         "Grade 11 Male": "nan",
         "Grade 11 Female": "nan",
         "Grade 12 Male": "nan",
         "Grade 12 Female": "nan",
         " school.mooe ": 275000,
         "School ID_y": 102193,
         "rooms.standard.academic": 13,
         "rooms.standard.unused": 3,
         "rooms.nonstandard.academic": 0,
         "rooms.nonstandard.unused": 0,
         "_deepnote_index_column": 1
        },
        {
         "school.id": 101283,
         "school.name": "A.P. Guevara IS",
         "school.region": "Region I",
         "school.region.name": "Ilocos Region",
         "school.province": "PANGASINAN",
         "school.cityhall": "PANGASINAN",
         "school.division": "Pangasinan I, Lingayen",
         "school.citymuni": "BAYAMBANG",
         "school.district": "Bayambang II",
         "school.legdistrict": "3rd District",
         "school.type": "School with no Annexes",
         "school.abbrev": "nan",
         "school.previousname": "A.P. Guevarra IS",
         "school.mother.id": 101283,
         "school.address": "-",
         "school.established": "1/1/1945",
         "school.classification": "Elementary",
         "school.classification2": "DepED Managed",
         "school.curricularclass": "Elementary",
         "school.organization": "Monograde",
         "school.cityincome": "P 55 M or more",
         "school.cityclass": "nan",
         "school.urban": "Partially Urban",
         "School ID_x": 101283,
         "Kinder Male": 16,
         "Kinder Female": 11,
         "Grade 1 Male": 11,
         "Grade 1 Female": 10,
         "Grade 2 Male": 9,
         "Grade 2 Female": 13,
         "Grade 3 Male": 15,
         "Grade 3 Female": 13,
         "Grade 4 Male": 14,
         "Grade 4 Female": 11,
         "Grade 5 Male": 23,
         "Grade 5 Female": 13,
         "Grade 6 Male": 7,
         "Grade 6 Female": 9,
         "SPED NG Male": 0,
         "SPED NG Female": 0,
         "Grade 7 Male": "nan",
         "Grade 7 Female": "nan",
         "Grade 8 Male": "nan",
         "Grade 8 Female": "nan",
         "Grade 9 Male": "nan",
         "Grade 9 Female": "nan",
         "Grade 10 Male": "nan",
         "Grade 10 Female": "nan",
         "Grade 11 Male": "nan",
         "Grade 11 Female": "nan",
         "Grade 12 Male": "nan",
         "Grade 12 Female": "nan",
         " school.mooe ": 132000,
         "School ID_y": 101283,
         "rooms.standard.academic": 7,
         "rooms.standard.unused": 0,
         "rooms.nonstandard.academic": 0,
         "rooms.nonstandard.unused": 0,
         "_deepnote_index_column": 2
        },
        {
         "school.id": 100216,
         "school.name": "Ab-Abut ES",
         "school.region": "Region I",
         "school.region.name": "Ilocos Region",
         "school.province": "ILOCOS NORTE",
         "school.cityhall": "ILOCOS NORTE",
         "school.division": "Ilocos Norte",
         "school.citymuni": "PIDDIG",
         "school.district": "Piddig",
         "school.legdistrict": "1st District",
         "school.type": "School with no Annexes",
         "school.abbrev": "AES",
         "school.previousname": "-",
         "school.mother.id": 100216,
         "school.address": "Sucsuquen",
         "school.established": "1/1/1964",
         "school.classification": "Elementary",
         "school.classification2": "DepED Managed",
         "school.curricularclass": "Elementary",
         "school.organization": "Monograde",
         "school.cityincome": "P 35 M or more but less than P 45 M",
         "school.cityclass": "nan",
         "school.urban": "Partially Urban",
         "School ID_x": 100216,
         "Kinder Male": 10,
         "Kinder Female": 6,
         "Grade 1 Male": 10,
         "Grade 1 Female": 17,
         "Grade 2 Male": 22,
         "Grade 2 Female": 11,
         "Grade 3 Male": 22,
         "Grade 3 Female": 12,
         "Grade 4 Male": 12,
         "Grade 4 Female": 11,
         "Grade 5 Male": 16,
         "Grade 5 Female": 7,
         "Grade 6 Male": 13,
         "Grade 6 Female": 10,
         "SPED NG Male": 0,
         "SPED NG Female": 0,
         "Grade 7 Male": "nan",
         "Grade 7 Female": "nan",
         "Grade 8 Male": "nan",
         "Grade 8 Female": "nan",
         "Grade 9 Male": "nan",
         "Grade 9 Female": "nan",
         "Grade 10 Male": "nan",
         "Grade 10 Female": "nan",
         "Grade 11 Male": "nan",
         "Grade 11 Female": "nan",
         "Grade 12 Male": "nan",
         "Grade 12 Female": "nan",
         " school.mooe ": 135000,
         "School ID_y": 100216,
         "rooms.standard.academic": 6,
         "rooms.standard.unused": 0,
         "rooms.nonstandard.academic": 0,
         "rooms.nonstandard.unused": 0,
         "_deepnote_index_column": 3
        },
        {
         "school.id": 100043,
         "school.name": "Abaca ES",
         "school.region": "Region I",
         "school.region.name": "Ilocos Region",
         "school.province": "ILOCOS NORTE",
         "school.cityhall": "ILOCOS NORTE",
         "school.division": "Ilocos Norte",
         "school.citymuni": "BANGUI",
         "school.district": "Bangui",
         "school.legdistrict": "1st District",
         "school.type": "School with no Annexes",
         "school.abbrev": "AES",
         "school.previousname": "none",
         "school.mother.id": 100043,
         "school.address": "None",
         "school.established": "1/1/1979",
         "school.classification": "Elementary",
         "school.classification2": "DepED Managed",
         "school.curricularclass": "Elementary",
         "school.organization": "Monograde",
         "school.cityincome": "P 25 M or more but less than P 35 M",
         "school.cityclass": "nan",
         "school.urban": "Partially Urban",
         "School ID_x": 100043,
         "Kinder Male": 12,
         "Kinder Female": 13,
         "Grade 1 Male": 22,
         "Grade 1 Female": 26,
         "Grade 2 Male": 17,
         "Grade 2 Female": 14,
         "Grade 3 Male": 16,
         "Grade 3 Female": 22,
         "Grade 4 Male": 24,
         "Grade 4 Female": 15,
         "Grade 5 Male": 28,
         "Grade 5 Female": 19,
         "Grade 6 Male": 26,
         "Grade 6 Female": 17,
         "SPED NG Male": 0,
         "SPED NG Female": 0,
         "Grade 7 Male": "nan",
         "Grade 7 Female": "nan",
         "Grade 8 Male": "nan",
         "Grade 8 Female": "nan",
         "Grade 9 Male": "nan",
         "Grade 9 Female": "nan",
         "Grade 10 Male": "nan",
         "Grade 10 Female": "nan",
         "Grade 11 Male": "nan",
         "Grade 11 Female": "nan",
         "Grade 12 Male": "nan",
         "Grade 12 Female": "nan",
         " school.mooe ": 182000,
         "School ID_y": 100043,
         "rooms.standard.academic": 9,
         "rooms.standard.unused": 0,
         "rooms.nonstandard.academic": 0,
         "rooms.nonstandard.unused": 0,
         "_deepnote_index_column": 4
        },
        {
         "school.id": 100554,
         "school.name": "Abaccan ES",
         "school.region": "Region I",
         "school.region.name": "Ilocos Region",
         "school.province": "ILOCOS SUR",
         "school.cityhall": "ILOCOS SUR",
         "school.division": "Ilocos Sur",
         "school.citymuni": "SIGAY",
         "school.district": "Salcedo-Galimuyod-Sigay-Del Pilar",
         "school.legdistrict": "2nd District",
         "school.type": "School with no Annexes",
         "school.abbrev": "nan",
         "school.previousname": "-",
         "school.mother.id": 100554,
         "school.address": "-n/a",
         "school.established": "1/1/2000",
         "school.classification": "Elementary",
         "school.classification2": "DepED Managed",
         "school.curricularclass": "Kinder & Elementary",
         "school.organization": "Combined Monograde and Multigrade",
         "school.cityincome": "P 15 M or more but less than P 25 M",
         "school.cityclass": "nan",
         "school.urban": "Rural",
         "School ID_x": 100554,
         "Kinder Male": 1,
         "Kinder Female": 1,
         "Grade 1 Male": 0,
         "Grade 1 Female": 2,
         "Grade 2 Male": 3,
         "Grade 2 Female": 0,
         "Grade 3 Male": 5,
         "Grade 3 Female": 4,
         "Grade 4 Male": 3,
         "Grade 4 Female": 7,
         "Grade 5 Male": 2,
         "Grade 5 Female": 3,
         "Grade 6 Male": 4,
         "Grade 6 Female": 3,
         "SPED NG Male": 0,
         "SPED NG Female": 0,
         "Grade 7 Male": "nan",
         "Grade 7 Female": "nan",
         "Grade 8 Male": "nan",
         "Grade 8 Female": "nan",
         "Grade 9 Male": "nan",
         "Grade 9 Female": "nan",
         "Grade 10 Male": "nan",
         "Grade 10 Female": "nan",
         "Grade 11 Male": "nan",
         "Grade 11 Female": "nan",
         "Grade 12 Male": "nan",
         "Grade 12 Female": "nan",
         " school.mooe ": 92000,
         "School ID_y": 100554,
         "rooms.standard.academic": 5,
         "rooms.standard.unused": 0,
         "rooms.nonstandard.academic": 0,
         "rooms.nonstandard.unused": 0,
         "_deepnote_index_column": 5
        },
        {
         "school.id": 101131,
         "school.name": "Abagatanen IS",
         "school.region": "Region I",
         "school.region.name": "Ilocos Region",
         "school.province": "PANGASINAN",
         "school.cityhall": "PANGASINAN",
         "school.division": "Pangasinan I, Lingayen",
         "school.citymuni": "AGNO",
         "school.district": "Agno",
         "school.legdistrict": "1st District",
         "school.type": "School with no Annexes",
         "school.abbrev": "nan",
         "school.previousname": "Abagatanen ES-",
         "school.mother.id": 101131,
         "school.address": "ABAGATANEN",
         "school.established": "1/1/1955",
         "school.classification": "Elementary",
         "school.classification2": "DepED Managed",
         "school.curricularclass": "Elementary",
         "school.organization": "Monograde",
         "school.cityincome": "P 35 M or more but less than P 45 M",
         "school.cityclass": "nan",
         "school.urban": "Partially Urban",
         "School ID_x": 101131,
         "Kinder Male": 18,
         "Kinder Female": 18,
         "Grade 1 Male": 14,
         "Grade 1 Female": 18,
         "Grade 2 Male": 27,
         "Grade 2 Female": 17,
         "Grade 3 Male": 28,
         "Grade 3 Female": 16,
         "Grade 4 Male": 16,
         "Grade 4 Female": 20,
         "Grade 5 Male": 19,
         "Grade 5 Female": 12,
         "Grade 6 Male": 10,
         "Grade 6 Female": 13,
         "SPED NG Male": 0,
         "SPED NG Female": 0,
         "Grade 7 Male": "nan",
         "Grade 7 Female": "nan",
         "Grade 8 Male": "nan",
         "Grade 8 Female": "nan",
         "Grade 9 Male": "nan",
         "Grade 9 Female": "nan",
         "Grade 10 Male": "nan",
         "Grade 10 Female": "nan",
         "Grade 11 Male": "nan",
         "Grade 11 Female": "nan",
         "Grade 12 Male": "nan",
         "Grade 12 Female": "nan",
         " school.mooe ": 148000,
         "School ID_y": 101131,
         "rooms.standard.academic": 6,
         "rooms.standard.unused": 0,
         "rooms.nonstandard.academic": 0,
         "rooms.nonstandard.unused": 0,
         "_deepnote_index_column": 6
        },
        {
         "school.id": 102252,
         "school.name": "Abanon Central School",
         "school.region": "Region I",
         "school.region.name": "Ilocos Region",
         "school.province": "PANGASINAN",
         "school.cityhall": "PANGASINAN",
         "school.division": "San Carlos City",
         "school.citymuni": "SAN CARLOS CITY",
         "school.district": "San Carlos City District IV",
         "school.legdistrict": "3rd District",
         "school.type": "School with no Annexes",
         "school.abbrev": "Abanon CS",
         "school.previousname": "Abanon Central Elementary School",
         "school.mother.id": 102252,
         "school.address": "-Brgy. Abanon, San Carlos City",
         "school.established": "1/1/2000",
         "school.classification": "Elementary",
         "school.classification2": "DepED Managed",
         "school.curricularclass": "Elementary",
         "school.organization": "Monograde",
         "school.cityincome": "P 240 M or more but less than P 320 M",
         "school.cityclass": "Component City",
         "school.urban": "Partially Urban",
         "School ID_x": 102252,
         "Kinder Male": 53,
         "Kinder Female": 49,
         "Grade 1 Male": 61,
         "Grade 1 Female": 68,
         "Grade 2 Male": 85,
         "Grade 2 Female": 53,
         "Grade 3 Male": 65,
         "Grade 3 Female": 64,
         "Grade 4 Male": 71,
         "Grade 4 Female": 58,
         "Grade 5 Male": 56,
         "Grade 5 Female": 56,
         "Grade 6 Male": 58,
         "Grade 6 Female": 51,
         "SPED NG Male": 5,
         "SPED NG Female": 1,
         "Grade 7 Male": "nan",
         "Grade 7 Female": "nan",
         "Grade 8 Male": "nan",
         "Grade 8 Female": "nan",
         "Grade 9 Male": "nan",
         "Grade 9 Female": "nan",
         "Grade 10 Male": "nan",
         "Grade 10 Female": "nan",
         "Grade 11 Male": "nan",
         "Grade 11 Female": "nan",
         "Grade 12 Male": "nan",
         "Grade 12 Female": "nan",
         " school.mooe ": 440000,
         "School ID_y": 102252,
         "rooms.standard.academic": 24,
         "rooms.standard.unused": 0,
         "rooms.nonstandard.academic": 0,
         "rooms.nonstandard.unused": 0,
         "_deepnote_index_column": 7
        }
       ],
       "rows_bottom": [
        {
         "school.id": 305451,
         "school.name": "Tugatog NHS",
         "school.region": "NCR",
         "school.region.name": "National Capital Region",
         "school.province": "NCR THIRD DISTRICT",
         "school.cityhall": "CITY OF MALABON",
         "school.division": "Malabon City",
         "school.citymuni": "CITY OF MALABON",
         "school.district": "Malabon District V",
         "school.legdistrict": "Lone District",
         "school.type": "School with no Annexes",
         "school.abbrev": "TNHS",
         "school.previousname": "-",
         "school.mother.id": 305451,
         "school.address": "Dr. Lascano",
         "school.established": "1/1/1969",
         "school.classification": "Secondary",
         "school.classification2": "DepED Managed",
         "school.curricularclass": "Secondary",
         "school.organization": "Monograde",
         "school.cityincome": "P 400 M or more",
         "school.cityclass": "Highly Urbanized City",
         "school.urban": "Urban",
         "School ID_x": 305451,
         "Kinder Male": "nan",
         "Kinder Female": "nan",
         "Grade 1 Male": "nan",
         "Grade 1 Female": "nan",
         "Grade 2 Male": "nan",
         "Grade 2 Female": "nan",
         "Grade 3 Male": "nan",
         "Grade 3 Female": "nan",
         "Grade 4 Male": "nan",
         "Grade 4 Female": "nan",
         "Grade 5 Male": "nan",
         "Grade 5 Female": "nan",
         "Grade 6 Male": "nan",
         "Grade 6 Female": "nan",
         "SPED NG Male": "nan",
         "SPED NG Female": "nan",
         "Grade 7 Male": 382,
         "Grade 7 Female": 292,
         "Grade 8 Male": 310,
         "Grade 8 Female": 350,
         "Grade 9 Male": 316,
         "Grade 9 Female": 326,
         "Grade 10 Male": 329,
         "Grade 10 Female": 317,
         "Grade 11 Male": 0,
         "Grade 11 Female": 0,
         "Grade 12 Male": 0,
         "Grade 12 Female": 0,
         " school.mooe ": 2236000,
         "School ID_y": 305451,
         "rooms.standard.academic": 23,
         "rooms.standard.unused": 0,
         "rooms.nonstandard.academic": 0,
         "rooms.nonstandard.unused": 0,
         "_deepnote_index_column": 46594
        },
        {
         "school.id": 320605,
         "school.name": "Upper Bicutan National High School",
         "school.region": "NCR",
         "school.region.name": "National Capital Region",
         "school.province": "NCR FOURTH DISTRICT",
         "school.cityhall": "TAGUIG CITY",
         "school.division": "Taguig",
         "school.citymuni": "TAGUIG CITY",
         "school.district": "Taguig District II",
         "school.legdistrict": "2nd District",
         "school.type": "School with no Annexes",
         "school.abbrev": "UBNHS",
         "school.previousname": "-",
         "school.mother.id": 320605,
         "school.address": "General Santos Avenue",
         "school.established": "1/1/2005",
         "school.classification": "Secondary",
         "school.classification2": "DepED Managed",
         "school.curricularclass": "Secondary",
         "school.organization": "Monograde",
         "school.cityincome": "P 400 M or more",
         "school.cityclass": "Highly Urbanized City",
         "school.urban": "Urban",
         "School ID_x": 320605,
         "Kinder Male": "nan",
         "Kinder Female": "nan",
         "Grade 1 Male": "nan",
         "Grade 1 Female": "nan",
         "Grade 2 Male": "nan",
         "Grade 2 Female": "nan",
         "Grade 3 Male": "nan",
         "Grade 3 Female": "nan",
         "Grade 4 Male": "nan",
         "Grade 4 Female": "nan",
         "Grade 5 Male": "nan",
         "Grade 5 Female": "nan",
         "Grade 6 Male": "nan",
         "Grade 6 Female": "nan",
         "SPED NG Male": "nan",
         "SPED NG Female": "nan",
         "Grade 7 Male": 695,
         "Grade 7 Female": 595,
         "Grade 8 Male": 536,
         "Grade 8 Female": 548,
         "Grade 9 Male": 548,
         "Grade 9 Female": 543,
         "Grade 10 Male": 511,
         "Grade 10 Female": 473,
         "Grade 11 Male": 0,
         "Grade 11 Female": 0,
         "Grade 12 Male": 0,
         "Grade 12 Female": 0,
         " school.mooe ": 3355000,
         "School ID_y": 320605,
         "rooms.standard.academic": 27,
         "rooms.standard.unused": 0,
         "rooms.nonstandard.academic": 2,
         "rooms.nonstandard.unused": 0,
         "_deepnote_index_column": 46595
        },
        {
         "school.id": 320401,
         "school.name": "Valenzuela City Science HS",
         "school.region": "NCR",
         "school.region.name": "National Capital Region",
         "school.province": "NCR THIRD DISTRICT",
         "school.cityhall": "CITY OF VALENZUELA",
         "school.division": "Valenzuela City",
         "school.citymuni": "CITY OF VALENZUELA",
         "school.district": "Valenzuela City Central District",
         "school.legdistrict": "1st District",
         "school.type": "School with no Annexes",
         "school.abbrev": "nan",
         "school.previousname": "-",
         "school.mother.id": 320401,
         "school.address": "A. Marcelo",
         "school.established": "1/1/2003",
         "school.classification": "Secondary",
         "school.classification2": "DepED Managed",
         "school.curricularclass": "Secondary",
         "school.organization": "Monograde",
         "school.cityincome": "P 400 M or more",
         "school.cityclass": "Highly Urbanized City",
         "school.urban": "Urban",
         "School ID_x": 320401,
         "Kinder Male": "nan",
         "Kinder Female": "nan",
         "Grade 1 Male": "nan",
         "Grade 1 Female": "nan",
         "Grade 2 Male": "nan",
         "Grade 2 Female": "nan",
         "Grade 3 Male": "nan",
         "Grade 3 Female": "nan",
         "Grade 4 Male": "nan",
         "Grade 4 Female": "nan",
         "Grade 5 Male": "nan",
         "Grade 5 Female": "nan",
         "Grade 6 Male": "nan",
         "Grade 6 Female": "nan",
         "SPED NG Male": "nan",
         "SPED NG Female": "nan",
         "Grade 7 Male": 102,
         "Grade 7 Female": 180,
         "Grade 8 Male": 93,
         "Grade 8 Female": 142,
         "Grade 9 Male": 69,
         "Grade 9 Female": 79,
         "Grade 10 Male": 52,
         "Grade 10 Female": 52,
         "Grade 11 Male": 0,
         "Grade 11 Female": 0,
         "Grade 12 Male": 0,
         "Grade 12 Female": 0,
         " school.mooe ": 621000,
         "School ID_y": 320401,
         "rooms.standard.academic": 12,
         "rooms.standard.unused": 0,
         "rooms.nonstandard.academic": 0,
         "rooms.nonstandard.unused": 0,
         "_deepnote_index_column": 46596
        },
        {
         "school.id": 305441,
         "school.name": "Valenzuela NHS",
         "school.region": "NCR",
         "school.region.name": "National Capital Region",
         "school.province": "NCR THIRD DISTRICT",
         "school.cityhall": "CITY OF VALENZUELA",
         "school.division": "Valenzuela City",
         "school.citymuni": "CITY OF VALENZUELA",
         "school.district": "Valenzuela City Central District",
         "school.legdistrict": "2nd District",
         "school.type": "School with no Annexes",
         "school.abbrev": "nan",
         "school.previousname": "-",
         "school.mother.id": 305441,
         "school.address": "A. FERNANDO ST., MARULAS,",
         "school.established": "1/1/1969",
         "school.classification": "Secondary",
         "school.classification2": "DepED Managed",
         "school.curricularclass": "Secondary",
         "school.organization": "Monograde",
         "school.cityincome": "P 400 M or more",
         "school.cityclass": "Highly Urbanized City",
         "school.urban": "Urban",
         "School ID_x": 305441,
         "Kinder Male": "nan",
         "Kinder Female": "nan",
         "Grade 1 Male": "nan",
         "Grade 1 Female": "nan",
         "Grade 2 Male": "nan",
         "Grade 2 Female": "nan",
         "Grade 3 Male": "nan",
         "Grade 3 Female": "nan",
         "Grade 4 Male": "nan",
         "Grade 4 Female": "nan",
         "Grade 5 Male": "nan",
         "Grade 5 Female": "nan",
         "Grade 6 Male": "nan",
         "Grade 6 Female": "nan",
         "SPED NG Male": "nan",
         "SPED NG Female": "nan",
         "Grade 7 Male": 461,
         "Grade 7 Female": 405,
         "Grade 8 Male": 424,
         "Grade 8 Female": 391,
         "Grade 9 Male": 423,
         "Grade 9 Female": 395,
         "Grade 10 Male": 363,
         "Grade 10 Female": 356,
         "Grade 11 Male": 0,
         "Grade 11 Female": 0,
         "Grade 12 Male": 0,
         "Grade 12 Female": 0,
         " school.mooe ": 2924000,
         "School ID_y": 305441,
         "rooms.standard.academic": 33,
         "rooms.standard.unused": 0,
         "rooms.nonstandard.academic": 0,
         "rooms.nonstandard.unused": 0,
         "_deepnote_index_column": 46597
        },
        {
         "school.id": 305308,
         "school.name": "Valeriano E. Fugoso Memorial High School",
         "school.region": "NCR",
         "school.region.name": "National Capital Region",
         "school.province": "MANILA, NCR, FIRST DISTRICT",
         "school.cityhall": "MANILA, NCR, FIRST DISTRICT",
         "school.division": "Manila",
         "school.citymuni": "SAMPALOC",
         "school.district": "Sampaloc V",
         "school.legdistrict": "4th District",
         "school.type": "School with no Annexes",
         "school.abbrev": "Fugoso HS",
         "school.previousname": "-",
         "school.mother.id": 305308,
         "school.address": "Boys Town Complex, Parang, Marikina City",
         "school.established": "1/1/1947",
         "school.classification": "Secondary",
         "school.classification2": "DepED Managed",
         "school.curricularclass": "Secondary",
         "school.organization": "Monograde",
         "school.cityincome": "nan",
         "school.cityclass": "Highly Urbanized City",
         "school.urban": "Urban",
         "School ID_x": 305308,
         "Kinder Male": "nan",
         "Kinder Female": "nan",
         "Grade 1 Male": "nan",
         "Grade 1 Female": "nan",
         "Grade 2 Male": "nan",
         "Grade 2 Female": "nan",
         "Grade 3 Male": "nan",
         "Grade 3 Female": "nan",
         "Grade 4 Male": "nan",
         "Grade 4 Female": "nan",
         "Grade 5 Male": "nan",
         "Grade 5 Female": "nan",
         "Grade 6 Male": "nan",
         "Grade 6 Female": "nan",
         "SPED NG Male": "nan",
         "SPED NG Female": "nan",
         "Grade 7 Male": 92,
         "Grade 7 Female": 132,
         "Grade 8 Male": 85,
         "Grade 8 Female": 106,
         "Grade 9 Male": 76,
         "Grade 9 Female": 112,
         "Grade 10 Male": 58,
         "Grade 10 Female": 83,
         "Grade 11 Male": 0,
         "Grade 11 Female": 0,
         "Grade 12 Male": 0,
         "Grade 12 Female": 0,
         " school.mooe ": 986000,
         "School ID_y": 305308,
         "rooms.standard.academic": 17,
         "rooms.standard.unused": 0,
         "rooms.nonstandard.academic": 0,
         "rooms.nonstandard.unused": 0,
         "_deepnote_index_column": 46598
        },
        {
         "school.id": 320402,
         "school.name": "Vicente Trinidad NHS (Punturin NHS)",
         "school.region": "NCR",
         "school.region.name": "National Capital Region",
         "school.province": "NCR THIRD DISTRICT",
         "school.cityhall": "CITY OF VALENZUELA",
         "school.division": "Valenzuela City",
         "school.citymuni": "CITY OF VALENZUELA",
         "school.district": "Valenzuela City Central District",
         "school.legdistrict": "1st District",
         "school.type": "School with no Annexes",
         "school.abbrev": "VPTNHS",
         "school.previousname": "Punturin National High School",
         "school.mother.id": 320402,
         "school.address": "Ruby st., Sta. Lucia Village Phase V",
         "school.established": "1/1/2003",
         "school.classification": "Secondary",
         "school.classification2": "DepED Managed",
         "school.curricularclass": "Secondary",
         "school.organization": "Monograde",
         "school.cityincome": "P 400 M or more",
         "school.cityclass": "Highly Urbanized City",
         "school.urban": "Urban",
         "School ID_x": 320402,
         "Kinder Male": "nan",
         "Kinder Female": "nan",
         "Grade 1 Male": "nan",
         "Grade 1 Female": "nan",
         "Grade 2 Male": "nan",
         "Grade 2 Female": "nan",
         "Grade 3 Male": "nan",
         "Grade 3 Female": "nan",
         "Grade 4 Male": "nan",
         "Grade 4 Female": "nan",
         "Grade 5 Male": "nan",
         "Grade 5 Female": "nan",
         "Grade 6 Male": "nan",
         "Grade 6 Female": "nan",
         "SPED NG Male": "nan",
         "SPED NG Female": "nan",
         "Grade 7 Male": 267,
         "Grade 7 Female": 270,
         "Grade 8 Male": 296,
         "Grade 8 Female": 275,
         "Grade 9 Male": 265,
         "Grade 9 Female": 267,
         "Grade 10 Male": 239,
         "Grade 10 Female": 234,
         "Grade 11 Male": 0,
         "Grade 11 Female": 0,
         "Grade 12 Male": 0,
         "Grade 12 Female": 0,
         " school.mooe ": 1798000,
         "School ID_y": 320402,
         "rooms.standard.academic": 23,
         "rooms.standard.unused": 0,
         "rooms.nonstandard.academic": 0,
         "rooms.nonstandard.unused": 0,
         "_deepnote_index_column": 46599
        },
        {
         "school.id": 305315,
         "school.name": "Victoriano Mapa High School",
         "school.region": "NCR",
         "school.region.name": "National Capital Region",
         "school.province": "MANILA, NCR, FIRST DISTRICT",
         "school.cityhall": "MANILA, NCR, FIRST DISTRICT",
         "school.division": "Manila",
         "school.citymuni": "SAN MIGUEL",
         "school.district": "Sta. Cruz V",
         "school.legdistrict": "6th District",
         "school.type": "School with no Annexes",
         "school.abbrev": "VMHS",
         "school.previousname": "MANILA EAST HS",
         "school.mother.id": 305315,
         "school.address": "300 San Rafael St., San Miguel,",
         "school.established": "1/1/1923",
         "school.classification": "Secondary",
         "school.classification2": "DepED Managed",
         "school.curricularclass": "Secondary",
         "school.organization": "Monograde",
         "school.cityincome": "nan",
         "school.cityclass": "Highly Urbanized City",
         "school.urban": "Urban",
         "School ID_x": 305315,
         "Kinder Male": "nan",
         "Kinder Female": "nan",
         "Grade 1 Male": "nan",
         "Grade 1 Female": "nan",
         "Grade 2 Male": "nan",
         "Grade 2 Female": "nan",
         "Grade 3 Male": "nan",
         "Grade 3 Female": "nan",
         "Grade 4 Male": "nan",
         "Grade 4 Female": "nan",
         "Grade 5 Male": "nan",
         "Grade 5 Female": "nan",
         "Grade 6 Male": "nan",
         "Grade 6 Female": "nan",
         "SPED NG Male": "nan",
         "SPED NG Female": "nan",
         "Grade 7 Male": 516,
         "Grade 7 Female": 549,
         "Grade 8 Male": 472,
         "Grade 8 Female": 532,
         "Grade 9 Male": 412,
         "Grade 9 Female": 457,
         "Grade 10 Male": 401,
         "Grade 10 Female": 441,
         "Grade 11 Male": 0,
         "Grade 11 Female": 0,
         "Grade 12 Male": 0,
         "Grade 12 Female": 0,
         " school.mooe ": 3971000,
         "School ID_y": 305315,
         "rooms.standard.academic": 39,
         "rooms.standard.unused": 0,
         "rooms.nonstandard.academic": 0,
         "rooms.nonstandard.unused": 0,
         "_deepnote_index_column": 46600
        },
        {
         "school.id": 320407,
         "school.name": "Wawangpulo National High School",
         "school.region": "NCR",
         "school.region.name": "National Capital Region",
         "school.province": "NCR THIRD DISTRICT",
         "school.cityhall": "CITY OF VALENZUELA",
         "school.division": "Valenzuela City",
         "school.citymuni": "CITY OF VALENZUELA",
         "school.district": "Valenzuela City North District",
         "school.legdistrict": "1st District",
         "school.type": "School with no Annexes",
         "school.abbrev": "nan",
         "school.previousname": "Valenzuela NHS-Wawang Pulo Annex",
         "school.mother.id": 320407,
         "school.address": "F. Andaya St.",
         "school.established": "1/1/2008",
         "school.classification": "Secondary",
         "school.classification2": "DepED Managed",
         "school.curricularclass": "Secondary",
         "school.organization": "Monograde",
         "school.cityincome": "P 400 M or more",
         "school.cityclass": "Highly Urbanized City",
         "school.urban": "Urban",
         "School ID_x": 320407,
         "Kinder Male": "nan",
         "Kinder Female": "nan",
         "Grade 1 Male": "nan",
         "Grade 1 Female": "nan",
         "Grade 2 Male": "nan",
         "Grade 2 Female": "nan",
         "Grade 3 Male": "nan",
         "Grade 3 Female": "nan",
         "Grade 4 Male": "nan",
         "Grade 4 Female": "nan",
         "Grade 5 Male": "nan",
         "Grade 5 Female": "nan",
         "Grade 6 Male": "nan",
         "Grade 6 Female": "nan",
         "SPED NG Male": "nan",
         "SPED NG Female": "nan",
         "Grade 7 Male": 98,
         "Grade 7 Female": 76,
         "Grade 8 Male": 106,
         "Grade 8 Female": 54,
         "Grade 9 Male": 80,
         "Grade 9 Female": 58,
         "Grade 10 Male": 55,
         "Grade 10 Female": 44,
         "Grade 11 Male": 0,
         "Grade 11 Female": 0,
         "Grade 12 Male": 0,
         "Grade 12 Female": 0,
         " school.mooe ": 539000,
         "School ID_y": 320407,
         "rooms.standard.academic": 11,
         "rooms.standard.unused": 0,
         "rooms.nonstandard.academic": 0,
         "rooms.nonstandard.unused": 0,
         "_deepnote_index_column": 46601
        },
        {
         "school.id": 305465,
         "school.name": "Western Bicutan NHS",
         "school.region": "NCR",
         "school.region.name": "National Capital Region",
         "school.province": "NCR FOURTH DISTRICT",
         "school.cityhall": "TAGUIG CITY",
         "school.division": "Taguig",
         "school.citymuni": "TAGUIG CITY",
         "school.district": "Taguig District III",
         "school.legdistrict": "2nd District",
         "school.type": "School with no Annexes",
         "school.abbrev": "WBNHS",
         "school.previousname": "N/.A",
         "school.mother.id": 305465,
         "school.address": "EPVillage,Phase 1,Pinagsama,Taguig City",
         "school.established": "1/1/1997",
         "school.classification": "Secondary",
         "school.classification2": "DepED Managed",
         "school.curricularclass": "Secondary",
         "school.organization": "Monograde",
         "school.cityincome": "P 400 M or more",
         "school.cityclass": "Highly Urbanized City",
         "school.urban": "Urban",
         "School ID_x": 305465,
         "Kinder Male": "nan",
         "Kinder Female": "nan",
         "Grade 1 Male": "nan",
         "Grade 1 Female": "nan",
         "Grade 2 Male": "nan",
         "Grade 2 Female": "nan",
         "Grade 3 Male": "nan",
         "Grade 3 Female": "nan",
         "Grade 4 Male": "nan",
         "Grade 4 Female": "nan",
         "Grade 5 Male": "nan",
         "Grade 5 Female": "nan",
         "Grade 6 Male": "nan",
         "Grade 6 Female": "nan",
         "SPED NG Male": "nan",
         "SPED NG Female": "nan",
         "Grade 7 Male": 635,
         "Grade 7 Female": 627,
         "Grade 8 Male": 623,
         "Grade 8 Female": 634,
         "Grade 9 Male": 543,
         "Grade 9 Female": 546,
         "Grade 10 Male": 504,
         "Grade 10 Female": 501,
         "Grade 11 Male": 0,
         "Grade 11 Female": 0,
         "Grade 12 Male": 0,
         "Grade 12 Female": 0,
         " school.mooe ": 3595000,
         "School ID_y": 305465,
         "rooms.standard.academic": 44,
         "rooms.standard.unused": 0,
         "rooms.nonstandard.academic": 0,
         "rooms.nonstandard.unused": 0,
         "_deepnote_index_column": 46602
        }
       ]
      },
      "text/plain": "       school.id                               school.name school.region  \\\n0         101746                           A. Diaz, Sr. ES      Region I   \n1         102193             A. P. Santos ES (SPED Center)      Region I   \n2         101283                           A.P. Guevara IS      Region I   \n3         100216                                Ab-Abut ES      Region I   \n4         100043                                  Abaca ES      Region I   \n...          ...                                       ...           ...   \n46598     305308  Valeriano E. Fugoso Memorial High School           NCR   \n46599     320402       Vicente Trinidad NHS (Punturin NHS)           NCR   \n46600     305315               Victoriano Mapa High School           NCR   \n46601     320407           Wawangpulo National High School           NCR   \n46602     305465                       Western Bicutan NHS           NCR   \n\n            school.region.name              school.province  \\\n0                Ilocos Region                   PANGASINAN   \n1                Ilocos Region                 ILOCOS NORTE   \n2                Ilocos Region                   PANGASINAN   \n3                Ilocos Region                 ILOCOS NORTE   \n4                Ilocos Region                 ILOCOS NORTE   \n...                        ...                          ...   \n46598  National Capital Region  MANILA, NCR, FIRST DISTRICT   \n46599  National Capital Region           NCR THIRD DISTRICT   \n46600  National Capital Region  MANILA, NCR, FIRST DISTRICT   \n46601  National Capital Region           NCR THIRD DISTRICT   \n46602  National Capital Region          NCR FOURTH DISTRICT   \n\n                   school.cityhall           school.division  \\\n0                       PANGASINAN  Pangasinan II, Binalonan   \n1                     ILOCOS NORTE                Laoag City   \n2                       PANGASINAN    Pangasinan I, Lingayen   \n3                     ILOCOS NORTE              Ilocos Norte   \n4                     ILOCOS NORTE              Ilocos Norte   \n...                            ...                       ...   \n46598  MANILA, NCR, FIRST DISTRICT                    Manila   \n46599           CITY OF VALENZUELA           Valenzuela City   \n46600  MANILA, NCR, FIRST DISTRICT                    Manila   \n46601           CITY OF VALENZUELA           Valenzuela City   \n46602                  TAGUIG CITY                    Taguig   \n\n            school.citymuni                   school.district  \\\n0                  BAUTISTA                          Bautista   \n1      LAOAG CITY (Capital)            Laoag City District II   \n2                 BAYAMBANG                      Bayambang II   \n3                    PIDDIG                            Piddig   \n4                    BANGUI                            Bangui   \n...                     ...                               ...   \n46598              SAMPALOC                        Sampaloc V   \n46599    CITY OF VALENZUELA  Valenzuela City Central District   \n46600            SAN MIGUEL                       Sta. Cruz V   \n46601    CITY OF VALENZUELA    Valenzuela City North District   \n46602           TAGUIG CITY               Taguig District III   \n\n      school.legdistrict  ... Grade 11 Male Grade 11 Female Grade 12 Male  \\\n0           5th District  ...           NaN             NaN           NaN   \n1           1st District  ...           NaN             NaN           NaN   \n2           3rd District  ...           NaN             NaN           NaN   \n3           1st District  ...           NaN             NaN           NaN   \n4           1st District  ...           NaN             NaN           NaN   \n...                  ...  ...           ...             ...           ...   \n46598       4th District  ...           0.0             0.0           0.0   \n46599       1st District  ...           0.0             0.0           0.0   \n46600       6th District  ...           0.0             0.0           0.0   \n46601       1st District  ...           0.0             0.0           0.0   \n46602       2nd District  ...           0.0             0.0           0.0   \n\n       Grade 12 Female  school.mooe  School ID_y rooms.standard.academic  \\\n0                  NaN      341000.0    101746.0                    15.0   \n1                  NaN      275000.0    102193.0                    13.0   \n2                  NaN      132000.0    101283.0                     7.0   \n3                  NaN      135000.0    100216.0                     6.0   \n4                  NaN      182000.0    100043.0                     9.0   \n...                ...           ...         ...                     ...   \n46598              0.0      986000.0    305308.0                    17.0   \n46599              0.0     1798000.0    320402.0                    23.0   \n46600              0.0     3971000.0    305315.0                    39.0   \n46601              0.0      539000.0    320407.0                    11.0   \n46602              0.0     3595000.0    305465.0                    44.0   \n\n      rooms.standard.unused rooms.nonstandard.academic  \\\n0                       0.0                        0.0   \n1                       3.0                        0.0   \n2                       0.0                        0.0   \n3                       0.0                        0.0   \n4                       0.0                        0.0   \n...                     ...                        ...   \n46598                   0.0                        0.0   \n46599                   0.0                        0.0   \n46600                   0.0                        0.0   \n46601                   0.0                        0.0   \n46602                   0.0                        0.0   \n\n      rooms.nonstandard.unused  \n0                          0.0  \n1                          0.0  \n2                          0.0  \n3                          0.0  \n4                          0.0  \n...                        ...  \n46598                      0.0  \n46599                      0.0  \n46600                      0.0  \n46601                      0.0  \n46602                      0.0  \n\n[46603 rows x 58 columns]",
      "text/html": "<div>\n<style scoped>\n    .dataframe tbody tr th:only-of-type {\n        vertical-align: middle;\n    }\n\n    .dataframe tbody tr th {\n        vertical-align: top;\n    }\n\n    .dataframe thead th {\n        text-align: right;\n    }\n</style>\n<table border=\"1\" class=\"dataframe\">\n  <thead>\n    <tr style=\"text-align: right;\">\n      <th></th>\n      <th>school.id</th>\n      <th>school.name</th>\n      <th>school.region</th>\n      <th>school.region.name</th>\n      <th>school.province</th>\n      <th>school.cityhall</th>\n      <th>school.division</th>\n      <th>school.citymuni</th>\n      <th>school.district</th>\n      <th>school.legdistrict</th>\n      <th>...</th>\n      <th>Grade 11 Male</th>\n      <th>Grade 11 Female</th>\n      <th>Grade 12 Male</th>\n      <th>Grade 12 Female</th>\n      <th>school.mooe</th>\n      <th>School ID_y</th>\n      <th>rooms.standard.academic</th>\n      <th>rooms.standard.unused</th>\n      <th>rooms.nonstandard.academic</th>\n      <th>rooms.nonstandard.unused</th>\n    </tr>\n  </thead>\n  <tbody>\n    <tr>\n      <th>0</th>\n      <td>101746</td>\n      <td>A. Diaz, Sr. ES</td>\n      <td>Region I</td>\n      <td>Ilocos Region</td>\n      <td>PANGASINAN</td>\n      <td>PANGASINAN</td>\n      <td>Pangasinan II, Binalonan</td>\n      <td>BAUTISTA</td>\n      <td>Bautista</td>\n      <td>5th District</td>\n      <td>...</td>\n      <td>NaN</td>\n      <td>NaN</td>\n      <td>NaN</td>\n      <td>NaN</td>\n      <td>341000.0</td>\n      <td>101746.0</td>\n      <td>15.0</td>\n      <td>0.0</td>\n      <td>0.0</td>\n      <td>0.0</td>\n    </tr>\n    <tr>\n      <th>1</th>\n      <td>102193</td>\n      <td>A. P. Santos ES (SPED Center)</td>\n      <td>Region I</td>\n      <td>Ilocos Region</td>\n      <td>ILOCOS NORTE</td>\n      <td>ILOCOS NORTE</td>\n      <td>Laoag City</td>\n      <td>LAOAG CITY (Capital)</td>\n      <td>Laoag City District II</td>\n      <td>1st District</td>\n      <td>...</td>\n      <td>NaN</td>\n      <td>NaN</td>\n      <td>NaN</td>\n      <td>NaN</td>\n      <td>275000.0</td>\n      <td>102193.0</td>\n      <td>13.0</td>\n      <td>3.0</td>\n      <td>0.0</td>\n      <td>0.0</td>\n    </tr>\n    <tr>\n      <th>2</th>\n      <td>101283</td>\n      <td>A.P. Guevara IS</td>\n      <td>Region I</td>\n      <td>Ilocos Region</td>\n      <td>PANGASINAN</td>\n      <td>PANGASINAN</td>\n      <td>Pangasinan I, Lingayen</td>\n      <td>BAYAMBANG</td>\n      <td>Bayambang II</td>\n      <td>3rd District</td>\n      <td>...</td>\n      <td>NaN</td>\n      <td>NaN</td>\n      <td>NaN</td>\n      <td>NaN</td>\n      <td>132000.0</td>\n      <td>101283.0</td>\n      <td>7.0</td>\n      <td>0.0</td>\n      <td>0.0</td>\n      <td>0.0</td>\n    </tr>\n    <tr>\n      <th>3</th>\n      <td>100216</td>\n      <td>Ab-Abut ES</td>\n      <td>Region I</td>\n      <td>Ilocos Region</td>\n      <td>ILOCOS NORTE</td>\n      <td>ILOCOS NORTE</td>\n      <td>Ilocos Norte</td>\n      <td>PIDDIG</td>\n      <td>Piddig</td>\n      <td>1st District</td>\n      <td>...</td>\n      <td>NaN</td>\n      <td>NaN</td>\n      <td>NaN</td>\n      <td>NaN</td>\n      <td>135000.0</td>\n      <td>100216.0</td>\n      <td>6.0</td>\n      <td>0.0</td>\n      <td>0.0</td>\n      <td>0.0</td>\n    </tr>\n    <tr>\n      <th>4</th>\n      <td>100043</td>\n      <td>Abaca ES</td>\n      <td>Region I</td>\n      <td>Ilocos Region</td>\n      <td>ILOCOS NORTE</td>\n      <td>ILOCOS NORTE</td>\n      <td>Ilocos Norte</td>\n      <td>BANGUI</td>\n      <td>Bangui</td>\n      <td>1st District</td>\n      <td>...</td>\n      <td>NaN</td>\n      <td>NaN</td>\n      <td>NaN</td>\n      <td>NaN</td>\n      <td>182000.0</td>\n      <td>100043.0</td>\n      <td>9.0</td>\n      <td>0.0</td>\n      <td>0.0</td>\n      <td>0.0</td>\n    </tr>\n    <tr>\n      <th>...</th>\n      <td>...</td>\n      <td>...</td>\n      <td>...</td>\n      <td>...</td>\n      <td>...</td>\n      <td>...</td>\n      <td>...</td>\n      <td>...</td>\n      <td>...</td>\n      <td>...</td>\n      <td>...</td>\n      <td>...</td>\n      <td>...</td>\n      <td>...</td>\n      <td>...</td>\n      <td>...</td>\n      <td>...</td>\n      <td>...</td>\n      <td>...</td>\n      <td>...</td>\n      <td>...</td>\n    </tr>\n    <tr>\n      <th>46598</th>\n      <td>305308</td>\n      <td>Valeriano E. Fugoso Memorial High School</td>\n      <td>NCR</td>\n      <td>National Capital Region</td>\n      <td>MANILA, NCR, FIRST DISTRICT</td>\n      <td>MANILA, NCR, FIRST DISTRICT</td>\n      <td>Manila</td>\n      <td>SAMPALOC</td>\n      <td>Sampaloc V</td>\n      <td>4th District</td>\n      <td>...</td>\n      <td>0.0</td>\n      <td>0.0</td>\n      <td>0.0</td>\n      <td>0.0</td>\n      <td>986000.0</td>\n      <td>305308.0</td>\n      <td>17.0</td>\n      <td>0.0</td>\n      <td>0.0</td>\n      <td>0.0</td>\n    </tr>\n    <tr>\n      <th>46599</th>\n      <td>320402</td>\n      <td>Vicente Trinidad NHS (Punturin NHS)</td>\n      <td>NCR</td>\n      <td>National Capital Region</td>\n      <td>NCR THIRD DISTRICT</td>\n      <td>CITY OF VALENZUELA</td>\n      <td>Valenzuela City</td>\n      <td>CITY OF VALENZUELA</td>\n      <td>Valenzuela City Central District</td>\n      <td>1st District</td>\n      <td>...</td>\n      <td>0.0</td>\n      <td>0.0</td>\n      <td>0.0</td>\n      <td>0.0</td>\n      <td>1798000.0</td>\n      <td>320402.0</td>\n      <td>23.0</td>\n      <td>0.0</td>\n      <td>0.0</td>\n      <td>0.0</td>\n    </tr>\n    <tr>\n      <th>46600</th>\n      <td>305315</td>\n      <td>Victoriano Mapa High School</td>\n      <td>NCR</td>\n      <td>National Capital Region</td>\n      <td>MANILA, NCR, FIRST DISTRICT</td>\n      <td>MANILA, NCR, FIRST DISTRICT</td>\n      <td>Manila</td>\n      <td>SAN MIGUEL</td>\n      <td>Sta. Cruz V</td>\n      <td>6th District</td>\n      <td>...</td>\n      <td>0.0</td>\n      <td>0.0</td>\n      <td>0.0</td>\n      <td>0.0</td>\n      <td>3971000.0</td>\n      <td>305315.0</td>\n      <td>39.0</td>\n      <td>0.0</td>\n      <td>0.0</td>\n      <td>0.0</td>\n    </tr>\n    <tr>\n      <th>46601</th>\n      <td>320407</td>\n      <td>Wawangpulo National High School</td>\n      <td>NCR</td>\n      <td>National Capital Region</td>\n      <td>NCR THIRD DISTRICT</td>\n      <td>CITY OF VALENZUELA</td>\n      <td>Valenzuela City</td>\n      <td>CITY OF VALENZUELA</td>\n      <td>Valenzuela City North District</td>\n      <td>1st District</td>\n      <td>...</td>\n      <td>0.0</td>\n      <td>0.0</td>\n      <td>0.0</td>\n      <td>0.0</td>\n      <td>539000.0</td>\n      <td>320407.0</td>\n      <td>11.0</td>\n      <td>0.0</td>\n      <td>0.0</td>\n      <td>0.0</td>\n    </tr>\n    <tr>\n      <th>46602</th>\n      <td>305465</td>\n      <td>Western Bicutan NHS</td>\n      <td>NCR</td>\n      <td>National Capital Region</td>\n      <td>NCR FOURTH DISTRICT</td>\n      <td>TAGUIG CITY</td>\n      <td>Taguig</td>\n      <td>TAGUIG CITY</td>\n      <td>Taguig District III</td>\n      <td>2nd District</td>\n      <td>...</td>\n      <td>0.0</td>\n      <td>0.0</td>\n      <td>0.0</td>\n      <td>0.0</td>\n      <td>3595000.0</td>\n      <td>305465.0</td>\n      <td>44.0</td>\n      <td>0.0</td>\n      <td>0.0</td>\n      <td>0.0</td>\n    </tr>\n  </tbody>\n</table>\n<p>46603 rows × 58 columns</p>\n</div>"
     },
     "metadata": {}
    }
   ]
  },
  {
   "cell_type": "code",
   "metadata": {
    "cell_id": "00015-8d5018ac-ea20-4b42-9cb4-6ee0033f2f9a",
    "deepnote_to_be_reexecuted": false,
    "source_hash": "fe0242af",
    "execution_start": 1621509792651,
    "execution_millis": 29,
    "deepnote_cell_type": "code"
   },
   "source": "master_df = pd.merge(master_df, teacher, on =\"school.id\", how = \"left\")",
   "execution_count": 20,
   "outputs": []
  },
  {
   "cell_type": "code",
   "metadata": {
    "cell_id": "00016-df73ddd8-0ebc-42cf-8187-9b89e6410a6c",
    "deepnote_to_be_reexecuted": false,
    "source_hash": "98c6b011",
    "execution_start": 1621509792699,
    "execution_millis": 220,
    "deepnote_cell_type": "code"
   },
   "source": "master_df",
   "execution_count": 21,
   "outputs": [
    {
     "output_type": "execute_result",
     "execution_count": 21,
     "data": {
      "application/vnd.deepnote.dataframe.v2+json": {
       "row_count": 46603,
       "column_count": 62,
       "columns": [
        {
         "name": "school.id",
         "dtype": "int64",
         "stats": {
          "unique_count": 46603,
          "nan_count": 0,
          "min": "100001",
          "max": "900279",
          "histogram": [
           {
            "bin_start": 100001,
            "bin_end": 180028.8,
            "count": 37079
           },
           {
            "bin_start": 180028.8,
            "bin_end": 260056.6,
            "count": 1603
           },
           {
            "bin_start": 260056.6,
            "bin_end": 340084.4,
            "count": 7919
           },
           {
            "bin_start": 340084.4,
            "bin_end": 420112.2,
            "count": 1
           },
           {
            "bin_start": 420112.2,
            "bin_end": 500140,
            "count": 0
           },
           {
            "bin_start": 500140,
            "bin_end": 580167.8,
            "count": 0
           },
           {
            "bin_start": 580167.8,
            "bin_end": 660195.6,
            "count": 0
           },
           {
            "bin_start": 660195.6,
            "bin_end": 740223.4,
            "count": 0
           },
           {
            "bin_start": 740223.4,
            "bin_end": 820251.2000000001,
            "count": 0
           },
           {
            "bin_start": 820251.2000000001,
            "bin_end": 900279,
            "count": 1
           }
          ]
         }
        },
        {
         "name": "school.name",
         "dtype": "object",
         "stats": {
          "unique_count": 36901,
          "nan_count": 0,
          "categories": [
           {
            "name": "San Isidro ES",
            "count": 192
           },
           {
            "name": "San Jose ES",
            "count": 155
           },
           {
            "name": "36899 others",
            "count": 46256
           }
          ]
         }
        },
        {
         "name": "school.region",
         "dtype": "object"
        },
        {
         "name": "school.region.name",
         "dtype": "object"
        },
        {
         "name": "school.province",
         "dtype": "object"
        },
        {
         "name": "school.cityhall",
         "dtype": "object"
        },
        {
         "name": "school.division",
         "dtype": "object"
        },
        {
         "name": "school.citymuni",
         "dtype": "object"
        },
        {
         "name": "school.district",
         "dtype": "object"
        },
        {
         "name": "school.legdistrict",
         "dtype": "object"
        },
        {
         "name": "school.type",
         "dtype": "object"
        },
        {
         "name": "school.abbrev",
         "dtype": "object"
        },
        {
         "name": "school.previousname",
         "dtype": "object"
        },
        {
         "name": "school.mother.id",
         "dtype": "float64"
        },
        {
         "name": "school.address",
         "dtype": "object"
        },
        {
         "name": "school.established",
         "dtype": "object"
        },
        {
         "name": "school.classification",
         "dtype": "object"
        },
        {
         "name": "school.classification2",
         "dtype": "object"
        },
        {
         "name": "school.curricularclass",
         "dtype": "object"
        },
        {
         "name": "school.organization",
         "dtype": "object"
        },
        {
         "name": "school.cityincome",
         "dtype": "object"
        },
        {
         "name": "school.cityclass",
         "dtype": "object"
        },
        {
         "name": "school.urban",
         "dtype": "object"
        },
        {
         "name": "School ID_x",
         "dtype": "float64"
        },
        {
         "name": "Kinder Male",
         "dtype": "float64"
        },
        {
         "name": "Kinder Female",
         "dtype": "float64"
        },
        {
         "name": "Grade 1 Male",
         "dtype": "float64"
        },
        {
         "name": "Grade 1 Female",
         "dtype": "float64"
        },
        {
         "name": "Grade 2 Male",
         "dtype": "float64"
        },
        {
         "name": "Grade 2 Female",
         "dtype": "float64"
        },
        {
         "name": "Grade 3 Male",
         "dtype": "float64"
        },
        {
         "name": "Grade 3 Female",
         "dtype": "float64"
        },
        {
         "name": "Grade 4 Male",
         "dtype": "float64"
        },
        {
         "name": "Grade 4 Female",
         "dtype": "float64"
        },
        {
         "name": "Grade 5 Male",
         "dtype": "float64"
        },
        {
         "name": "Grade 5 Female",
         "dtype": "float64"
        },
        {
         "name": "Grade 6 Male",
         "dtype": "float64"
        },
        {
         "name": "Grade 6 Female",
         "dtype": "float64"
        },
        {
         "name": "SPED NG Male",
         "dtype": "float64"
        },
        {
         "name": "SPED NG Female",
         "dtype": "float64"
        },
        {
         "name": "Grade 7 Male",
         "dtype": "float64"
        },
        {
         "name": "Grade 7 Female",
         "dtype": "float64"
        },
        {
         "name": "Grade 8 Male",
         "dtype": "float64"
        },
        {
         "name": "Grade 8 Female",
         "dtype": "float64"
        },
        {
         "name": "Grade 9 Male",
         "dtype": "float64"
        },
        {
         "name": "Grade 9 Female",
         "dtype": "float64"
        },
        {
         "name": "Grade 10 Male",
         "dtype": "float64"
        },
        {
         "name": "Grade 10 Female",
         "dtype": "float64"
        },
        {
         "name": "Grade 11 Male",
         "dtype": "float64"
        },
        {
         "name": "Grade 11 Female",
         "dtype": "float64"
        },
        {
         "name": "Grade 12 Male",
         "dtype": "float64"
        },
        {
         "name": "Grade 12 Female",
         "dtype": "float64"
        },
        {
         "name": " school.mooe ",
         "dtype": "float64"
        },
        {
         "name": "School ID_y",
         "dtype": "float64"
        },
        {
         "name": "rooms.standard.academic",
         "dtype": "float64"
        },
        {
         "name": "rooms.standard.unused",
         "dtype": "float64"
        },
        {
         "name": "rooms.nonstandard.academic",
         "dtype": "float64"
        },
        {
         "name": "rooms.nonstandard.unused",
         "dtype": "float64"
        },
        {
         "name": "teachers.instructor",
         "dtype": "float64"
        },
        {
         "name": "teachers.mobile",
         "dtype": "float64"
        },
        {
         "name": "teachers.regular",
         "dtype": "float64"
        },
        {
         "name": "teachers.sped",
         "dtype": "float64"
        },
        {
         "name": "_deepnote_index_column",
         "dtype": "int64"
        }
       ],
       "rows_top": [
        {
         "school.id": 101746,
         "school.name": "A. Diaz, Sr. ES",
         "school.region": "Region I",
         "school.region.name": "Ilocos Region",
         "school.province": "PANGASINAN",
         "school.cityhall": "PANGASINAN",
         "school.division": "Pangasinan II, Binalonan",
         "school.citymuni": "BAUTISTA",
         "school.district": "Bautista",
         "school.legdistrict": "5th District",
         "school.type": "School with no Annexes",
         "school.abbrev": "ADSES",
         "school.previousname": "none",
         "school.mother.id": 101746,
         "school.address": "Brgy. Dias Bautista, Pang",
         "school.established": "1/1/1930",
         "school.classification": "Elementary",
         "school.classification2": "DepED Managed",
         "school.curricularclass": "Elementary",
         "school.organization": "Monograde",
         "school.cityincome": "P 25 M or more but less than P 35 M",
         "school.cityclass": "nan",
         "school.urban": "Partially Urban",
         "School ID_x": 101746,
         "Kinder Male": 57,
         "Kinder Female": 45,
         "Grade 1 Male": 56,
         "Grade 1 Female": 58,
         "Grade 2 Male": 63,
         "Grade 2 Female": 61,
         "Grade 3 Male": 55,
         "Grade 3 Female": 61,
         "Grade 4 Male": 62,
         "Grade 4 Female": 55,
         "Grade 5 Male": 61,
         "Grade 5 Female": 48,
         "Grade 6 Male": 48,
         "Grade 6 Female": 51,
         "SPED NG Male": 0,
         "SPED NG Female": 0,
         "Grade 7 Male": "nan",
         "Grade 7 Female": "nan",
         "Grade 8 Male": "nan",
         "Grade 8 Female": "nan",
         "Grade 9 Male": "nan",
         "Grade 9 Female": "nan",
         "Grade 10 Male": "nan",
         "Grade 10 Female": "nan",
         "Grade 11 Male": "nan",
         "Grade 11 Female": "nan",
         "Grade 12 Male": "nan",
         "Grade 12 Female": "nan",
         " school.mooe ": 341000,
         "School ID_y": 101746,
         "rooms.standard.academic": 15,
         "rooms.standard.unused": 0,
         "rooms.nonstandard.academic": 0,
         "rooms.nonstandard.unused": 0,
         "teachers.instructor": 0,
         "teachers.mobile": 1,
         "teachers.regular": 20,
         "teachers.sped": 0,
         "_deepnote_index_column": 0
        },
        {
         "school.id": 102193,
         "school.name": "A. P. Santos ES (SPED Center)",
         "school.region": "Region I",
         "school.region.name": "Ilocos Region",
         "school.province": "ILOCOS NORTE",
         "school.cityhall": "ILOCOS NORTE",
         "school.division": "Laoag City",
         "school.citymuni": "LAOAG CITY (Capital)",
         "school.district": "Laoag City District II",
         "school.legdistrict": "1st District",
         "school.type": "School with no Annexes",
         "school.abbrev": "APSES",
         "school.previousname": "-",
         "school.mother.id": 102193,
         "school.address": "A.G. Tupaz",
         "school.established": "1/1/1944",
         "school.classification": "Elementary",
         "school.classification2": "DepED Managed",
         "school.curricularclass": "Kinder & Elementary",
         "school.organization": "Monograde",
         "school.cityincome": "P 240 M or more but less than P 320 M",
         "school.cityclass": "Component City",
         "school.urban": "Partially Urban",
         "School ID_x": 102193,
         "Kinder Male": 20,
         "Kinder Female": 24,
         "Grade 1 Male": 38,
         "Grade 1 Female": 30,
         "Grade 2 Male": 37,
         "Grade 2 Female": 18,
         "Grade 3 Male": 29,
         "Grade 3 Female": 33,
         "Grade 4 Male": 23,
         "Grade 4 Female": 41,
         "Grade 5 Male": 39,
         "Grade 5 Female": 27,
         "Grade 6 Male": 26,
         "Grade 6 Female": 26,
         "SPED NG Male": 32,
         "SPED NG Female": 22,
         "Grade 7 Male": "nan",
         "Grade 7 Female": "nan",
         "Grade 8 Male": "nan",
         "Grade 8 Female": "nan",
         "Grade 9 Male": "nan",
         "Grade 9 Female": "nan",
         "Grade 10 Male": "nan",
         "Grade 10 Female": "nan",
         "Grade 11 Male": "nan",
         "Grade 11 Female": "nan",
         "Grade 12 Male": "nan",
         "Grade 12 Female": "nan",
         " school.mooe ": 275000,
         "School ID_y": 102193,
         "rooms.standard.academic": 13,
         "rooms.standard.unused": 3,
         "rooms.nonstandard.academic": 0,
         "rooms.nonstandard.unused": 0,
         "teachers.instructor": 0,
         "teachers.mobile": 2,
         "teachers.regular": 12,
         "teachers.sped": 4,
         "_deepnote_index_column": 1
        },
        {
         "school.id": 101283,
         "school.name": "A.P. Guevara IS",
         "school.region": "Region I",
         "school.region.name": "Ilocos Region",
         "school.province": "PANGASINAN",
         "school.cityhall": "PANGASINAN",
         "school.division": "Pangasinan I, Lingayen",
         "school.citymuni": "BAYAMBANG",
         "school.district": "Bayambang II",
         "school.legdistrict": "3rd District",
         "school.type": "School with no Annexes",
         "school.abbrev": "nan",
         "school.previousname": "A.P. Guevarra IS",
         "school.mother.id": 101283,
         "school.address": "-",
         "school.established": "1/1/1945",
         "school.classification": "Elementary",
         "school.classification2": "DepED Managed",
         "school.curricularclass": "Elementary",
         "school.organization": "Monograde",
         "school.cityincome": "P 55 M or more",
         "school.cityclass": "nan",
         "school.urban": "Partially Urban",
         "School ID_x": 101283,
         "Kinder Male": 16,
         "Kinder Female": 11,
         "Grade 1 Male": 11,
         "Grade 1 Female": 10,
         "Grade 2 Male": 9,
         "Grade 2 Female": 13,
         "Grade 3 Male": 15,
         "Grade 3 Female": 13,
         "Grade 4 Male": 14,
         "Grade 4 Female": 11,
         "Grade 5 Male": 23,
         "Grade 5 Female": 13,
         "Grade 6 Male": 7,
         "Grade 6 Female": 9,
         "SPED NG Male": 0,
         "SPED NG Female": 0,
         "Grade 7 Male": "nan",
         "Grade 7 Female": "nan",
         "Grade 8 Male": "nan",
         "Grade 8 Female": "nan",
         "Grade 9 Male": "nan",
         "Grade 9 Female": "nan",
         "Grade 10 Male": "nan",
         "Grade 10 Female": "nan",
         "Grade 11 Male": "nan",
         "Grade 11 Female": "nan",
         "Grade 12 Male": "nan",
         "Grade 12 Female": "nan",
         " school.mooe ": 132000,
         "School ID_y": 101283,
         "rooms.standard.academic": 7,
         "rooms.standard.unused": 0,
         "rooms.nonstandard.academic": 0,
         "rooms.nonstandard.unused": 0,
         "teachers.instructor": 0,
         "teachers.mobile": 1,
         "teachers.regular": 6,
         "teachers.sped": 0,
         "_deepnote_index_column": 2
        },
        {
         "school.id": 100216,
         "school.name": "Ab-Abut ES",
         "school.region": "Region I",
         "school.region.name": "Ilocos Region",
         "school.province": "ILOCOS NORTE",
         "school.cityhall": "ILOCOS NORTE",
         "school.division": "Ilocos Norte",
         "school.citymuni": "PIDDIG",
         "school.district": "Piddig",
         "school.legdistrict": "1st District",
         "school.type": "School with no Annexes",
         "school.abbrev": "AES",
         "school.previousname": "-",
         "school.mother.id": 100216,
         "school.address": "Sucsuquen",
         "school.established": "1/1/1964",
         "school.classification": "Elementary",
         "school.classification2": "DepED Managed",
         "school.curricularclass": "Elementary",
         "school.organization": "Monograde",
         "school.cityincome": "P 35 M or more but less than P 45 M",
         "school.cityclass": "nan",
         "school.urban": "Partially Urban",
         "School ID_x": 100216,
         "Kinder Male": 10,
         "Kinder Female": 6,
         "Grade 1 Male": 10,
         "Grade 1 Female": 17,
         "Grade 2 Male": 22,
         "Grade 2 Female": 11,
         "Grade 3 Male": 22,
         "Grade 3 Female": 12,
         "Grade 4 Male": 12,
         "Grade 4 Female": 11,
         "Grade 5 Male": 16,
         "Grade 5 Female": 7,
         "Grade 6 Male": 13,
         "Grade 6 Female": 10,
         "SPED NG Male": 0,
         "SPED NG Female": 0,
         "Grade 7 Male": "nan",
         "Grade 7 Female": "nan",
         "Grade 8 Male": "nan",
         "Grade 8 Female": "nan",
         "Grade 9 Male": "nan",
         "Grade 9 Female": "nan",
         "Grade 10 Male": "nan",
         "Grade 10 Female": "nan",
         "Grade 11 Male": "nan",
         "Grade 11 Female": "nan",
         "Grade 12 Male": "nan",
         "Grade 12 Female": "nan",
         " school.mooe ": 135000,
         "School ID_y": 100216,
         "rooms.standard.academic": 6,
         "rooms.standard.unused": 0,
         "rooms.nonstandard.academic": 0,
         "rooms.nonstandard.unused": 0,
         "teachers.instructor": 0,
         "teachers.mobile": 1,
         "teachers.regular": 6,
         "teachers.sped": 0,
         "_deepnote_index_column": 3
        },
        {
         "school.id": 100043,
         "school.name": "Abaca ES",
         "school.region": "Region I",
         "school.region.name": "Ilocos Region",
         "school.province": "ILOCOS NORTE",
         "school.cityhall": "ILOCOS NORTE",
         "school.division": "Ilocos Norte",
         "school.citymuni": "BANGUI",
         "school.district": "Bangui",
         "school.legdistrict": "1st District",
         "school.type": "School with no Annexes",
         "school.abbrev": "AES",
         "school.previousname": "none",
         "school.mother.id": 100043,
         "school.address": "None",
         "school.established": "1/1/1979",
         "school.classification": "Elementary",
         "school.classification2": "DepED Managed",
         "school.curricularclass": "Elementary",
         "school.organization": "Monograde",
         "school.cityincome": "P 25 M or more but less than P 35 M",
         "school.cityclass": "nan",
         "school.urban": "Partially Urban",
         "School ID_x": 100043,
         "Kinder Male": 12,
         "Kinder Female": 13,
         "Grade 1 Male": 22,
         "Grade 1 Female": 26,
         "Grade 2 Male": 17,
         "Grade 2 Female": 14,
         "Grade 3 Male": 16,
         "Grade 3 Female": 22,
         "Grade 4 Male": 24,
         "Grade 4 Female": 15,
         "Grade 5 Male": 28,
         "Grade 5 Female": 19,
         "Grade 6 Male": 26,
         "Grade 6 Female": 17,
         "SPED NG Male": 0,
         "SPED NG Female": 0,
         "Grade 7 Male": "nan",
         "Grade 7 Female": "nan",
         "Grade 8 Male": "nan",
         "Grade 8 Female": "nan",
         "Grade 9 Male": "nan",
         "Grade 9 Female": "nan",
         "Grade 10 Male": "nan",
         "Grade 10 Female": "nan",
         "Grade 11 Male": "nan",
         "Grade 11 Female": "nan",
         "Grade 12 Male": "nan",
         "Grade 12 Female": "nan",
         " school.mooe ": 182000,
         "School ID_y": 100043,
         "rooms.standard.academic": 9,
         "rooms.standard.unused": 0,
         "rooms.nonstandard.academic": 0,
         "rooms.nonstandard.unused": 0,
         "teachers.instructor": 0,
         "teachers.mobile": 1,
         "teachers.regular": 8,
         "teachers.sped": 0,
         "_deepnote_index_column": 4
        },
        {
         "school.id": 100554,
         "school.name": "Abaccan ES",
         "school.region": "Region I",
         "school.region.name": "Ilocos Region",
         "school.province": "ILOCOS SUR",
         "school.cityhall": "ILOCOS SUR",
         "school.division": "Ilocos Sur",
         "school.citymuni": "SIGAY",
         "school.district": "Salcedo-Galimuyod-Sigay-Del Pilar",
         "school.legdistrict": "2nd District",
         "school.type": "School with no Annexes",
         "school.abbrev": "nan",
         "school.previousname": "-",
         "school.mother.id": 100554,
         "school.address": "-n/a",
         "school.established": "1/1/2000",
         "school.classification": "Elementary",
         "school.classification2": "DepED Managed",
         "school.curricularclass": "Kinder & Elementary",
         "school.organization": "Combined Monograde and Multigrade",
         "school.cityincome": "P 15 M or more but less than P 25 M",
         "school.cityclass": "nan",
         "school.urban": "Rural",
         "School ID_x": 100554,
         "Kinder Male": 1,
         "Kinder Female": 1,
         "Grade 1 Male": 0,
         "Grade 1 Female": 2,
         "Grade 2 Male": 3,
         "Grade 2 Female": 0,
         "Grade 3 Male": 5,
         "Grade 3 Female": 4,
         "Grade 4 Male": 3,
         "Grade 4 Female": 7,
         "Grade 5 Male": 2,
         "Grade 5 Female": 3,
         "Grade 6 Male": 4,
         "Grade 6 Female": 3,
         "SPED NG Male": 0,
         "SPED NG Female": 0,
         "Grade 7 Male": "nan",
         "Grade 7 Female": "nan",
         "Grade 8 Male": "nan",
         "Grade 8 Female": "nan",
         "Grade 9 Male": "nan",
         "Grade 9 Female": "nan",
         "Grade 10 Male": "nan",
         "Grade 10 Female": "nan",
         "Grade 11 Male": "nan",
         "Grade 11 Female": "nan",
         "Grade 12 Male": "nan",
         "Grade 12 Female": "nan",
         " school.mooe ": 92000,
         "School ID_y": 100554,
         "rooms.standard.academic": 5,
         "rooms.standard.unused": 0,
         "rooms.nonstandard.academic": 0,
         "rooms.nonstandard.unused": 0,
         "teachers.instructor": 0,
         "teachers.mobile": 1,
         "teachers.regular": 3,
         "teachers.sped": 0,
         "_deepnote_index_column": 5
        },
        {
         "school.id": 101131,
         "school.name": "Abagatanen IS",
         "school.region": "Region I",
         "school.region.name": "Ilocos Region",
         "school.province": "PANGASINAN",
         "school.cityhall": "PANGASINAN",
         "school.division": "Pangasinan I, Lingayen",
         "school.citymuni": "AGNO",
         "school.district": "Agno",
         "school.legdistrict": "1st District",
         "school.type": "School with no Annexes",
         "school.abbrev": "nan",
         "school.previousname": "Abagatanen ES-",
         "school.mother.id": 101131,
         "school.address": "ABAGATANEN",
         "school.established": "1/1/1955",
         "school.classification": "Elementary",
         "school.classification2": "DepED Managed",
         "school.curricularclass": "Elementary",
         "school.organization": "Monograde",
         "school.cityincome": "P 35 M or more but less than P 45 M",
         "school.cityclass": "nan",
         "school.urban": "Partially Urban",
         "School ID_x": 101131,
         "Kinder Male": 18,
         "Kinder Female": 18,
         "Grade 1 Male": 14,
         "Grade 1 Female": 18,
         "Grade 2 Male": 27,
         "Grade 2 Female": 17,
         "Grade 3 Male": 28,
         "Grade 3 Female": 16,
         "Grade 4 Male": 16,
         "Grade 4 Female": 20,
         "Grade 5 Male": 19,
         "Grade 5 Female": 12,
         "Grade 6 Male": 10,
         "Grade 6 Female": 13,
         "SPED NG Male": 0,
         "SPED NG Female": 0,
         "Grade 7 Male": "nan",
         "Grade 7 Female": "nan",
         "Grade 8 Male": "nan",
         "Grade 8 Female": "nan",
         "Grade 9 Male": "nan",
         "Grade 9 Female": "nan",
         "Grade 10 Male": "nan",
         "Grade 10 Female": "nan",
         "Grade 11 Male": "nan",
         "Grade 11 Female": "nan",
         "Grade 12 Male": "nan",
         "Grade 12 Female": "nan",
         " school.mooe ": 148000,
         "School ID_y": 101131,
         "rooms.standard.academic": 6,
         "rooms.standard.unused": 0,
         "rooms.nonstandard.academic": 0,
         "rooms.nonstandard.unused": 0,
         "teachers.instructor": 0,
         "teachers.mobile": 0,
         "teachers.regular": 6,
         "teachers.sped": 0,
         "_deepnote_index_column": 6
        },
        {
         "school.id": 102252,
         "school.name": "Abanon Central School",
         "school.region": "Region I",
         "school.region.name": "Ilocos Region",
         "school.province": "PANGASINAN",
         "school.cityhall": "PANGASINAN",
         "school.division": "San Carlos City",
         "school.citymuni": "SAN CARLOS CITY",
         "school.district": "San Carlos City District IV",
         "school.legdistrict": "3rd District",
         "school.type": "School with no Annexes",
         "school.abbrev": "Abanon CS",
         "school.previousname": "Abanon Central Elementary School",
         "school.mother.id": 102252,
         "school.address": "-Brgy. Abanon, San Carlos City",
         "school.established": "1/1/2000",
         "school.classification": "Elementary",
         "school.classification2": "DepED Managed",
         "school.curricularclass": "Elementary",
         "school.organization": "Monograde",
         "school.cityincome": "P 240 M or more but less than P 320 M",
         "school.cityclass": "Component City",
         "school.urban": "Partially Urban",
         "School ID_x": 102252,
         "Kinder Male": 53,
         "Kinder Female": 49,
         "Grade 1 Male": 61,
         "Grade 1 Female": 68,
         "Grade 2 Male": 85,
         "Grade 2 Female": 53,
         "Grade 3 Male": 65,
         "Grade 3 Female": 64,
         "Grade 4 Male": 71,
         "Grade 4 Female": 58,
         "Grade 5 Male": 56,
         "Grade 5 Female": 56,
         "Grade 6 Male": 58,
         "Grade 6 Female": 51,
         "SPED NG Male": 5,
         "SPED NG Female": 1,
         "Grade 7 Male": "nan",
         "Grade 7 Female": "nan",
         "Grade 8 Male": "nan",
         "Grade 8 Female": "nan",
         "Grade 9 Male": "nan",
         "Grade 9 Female": "nan",
         "Grade 10 Male": "nan",
         "Grade 10 Female": "nan",
         "Grade 11 Male": "nan",
         "Grade 11 Female": "nan",
         "Grade 12 Male": "nan",
         "Grade 12 Female": "nan",
         " school.mooe ": 440000,
         "School ID_y": 102252,
         "rooms.standard.academic": 24,
         "rooms.standard.unused": 0,
         "rooms.nonstandard.academic": 0,
         "rooms.nonstandard.unused": 0,
         "teachers.instructor": 0,
         "teachers.mobile": 4,
         "teachers.regular": 22,
         "teachers.sped": 1,
         "_deepnote_index_column": 7
        }
       ],
       "rows_bottom": [
        {
         "school.id": 320605,
         "school.name": "Upper Bicutan National High School",
         "school.region": "NCR",
         "school.region.name": "National Capital Region",
         "school.province": "NCR FOURTH DISTRICT",
         "school.cityhall": "TAGUIG CITY",
         "school.division": "Taguig",
         "school.citymuni": "TAGUIG CITY",
         "school.district": "Taguig District II",
         "school.legdistrict": "2nd District",
         "school.type": "School with no Annexes",
         "school.abbrev": "UBNHS",
         "school.previousname": "-",
         "school.mother.id": 320605,
         "school.address": "General Santos Avenue",
         "school.established": "1/1/2005",
         "school.classification": "Secondary",
         "school.classification2": "DepED Managed",
         "school.curricularclass": "Secondary",
         "school.organization": "Monograde",
         "school.cityincome": "P 400 M or more",
         "school.cityclass": "Highly Urbanized City",
         "school.urban": "Urban",
         "School ID_x": 320605,
         "Kinder Male": "nan",
         "Kinder Female": "nan",
         "Grade 1 Male": "nan",
         "Grade 1 Female": "nan",
         "Grade 2 Male": "nan",
         "Grade 2 Female": "nan",
         "Grade 3 Male": "nan",
         "Grade 3 Female": "nan",
         "Grade 4 Male": "nan",
         "Grade 4 Female": "nan",
         "Grade 5 Male": "nan",
         "Grade 5 Female": "nan",
         "Grade 6 Male": "nan",
         "Grade 6 Female": "nan",
         "SPED NG Male": "nan",
         "SPED NG Female": "nan",
         "Grade 7 Male": 695,
         "Grade 7 Female": 595,
         "Grade 8 Male": 536,
         "Grade 8 Female": 548,
         "Grade 9 Male": 548,
         "Grade 9 Female": 543,
         "Grade 10 Male": 511,
         "Grade 10 Female": 473,
         "Grade 11 Male": 0,
         "Grade 11 Female": 0,
         "Grade 12 Male": 0,
         "Grade 12 Female": 0,
         " school.mooe ": 3355000,
         "School ID_y": 320605,
         "rooms.standard.academic": 27,
         "rooms.standard.unused": 0,
         "rooms.nonstandard.academic": 2,
         "rooms.nonstandard.unused": 0,
         "teachers.instructor": 0,
         "teachers.mobile": 2,
         "teachers.regular": 99,
         "teachers.sped": 0,
         "_deepnote_index_column": 46595
        },
        {
         "school.id": 320401,
         "school.name": "Valenzuela City Science HS",
         "school.region": "NCR",
         "school.region.name": "National Capital Region",
         "school.province": "NCR THIRD DISTRICT",
         "school.cityhall": "CITY OF VALENZUELA",
         "school.division": "Valenzuela City",
         "school.citymuni": "CITY OF VALENZUELA",
         "school.district": "Valenzuela City Central District",
         "school.legdistrict": "1st District",
         "school.type": "School with no Annexes",
         "school.abbrev": "nan",
         "school.previousname": "-",
         "school.mother.id": 320401,
         "school.address": "A. Marcelo",
         "school.established": "1/1/2003",
         "school.classification": "Secondary",
         "school.classification2": "DepED Managed",
         "school.curricularclass": "Secondary",
         "school.organization": "Monograde",
         "school.cityincome": "P 400 M or more",
         "school.cityclass": "Highly Urbanized City",
         "school.urban": "Urban",
         "School ID_x": 320401,
         "Kinder Male": "nan",
         "Kinder Female": "nan",
         "Grade 1 Male": "nan",
         "Grade 1 Female": "nan",
         "Grade 2 Male": "nan",
         "Grade 2 Female": "nan",
         "Grade 3 Male": "nan",
         "Grade 3 Female": "nan",
         "Grade 4 Male": "nan",
         "Grade 4 Female": "nan",
         "Grade 5 Male": "nan",
         "Grade 5 Female": "nan",
         "Grade 6 Male": "nan",
         "Grade 6 Female": "nan",
         "SPED NG Male": "nan",
         "SPED NG Female": "nan",
         "Grade 7 Male": 102,
         "Grade 7 Female": 180,
         "Grade 8 Male": 93,
         "Grade 8 Female": 142,
         "Grade 9 Male": 69,
         "Grade 9 Female": 79,
         "Grade 10 Male": 52,
         "Grade 10 Female": 52,
         "Grade 11 Male": 0,
         "Grade 11 Female": 0,
         "Grade 12 Male": 0,
         "Grade 12 Female": 0,
         " school.mooe ": 621000,
         "School ID_y": 320401,
         "rooms.standard.academic": 12,
         "rooms.standard.unused": 0,
         "rooms.nonstandard.academic": 0,
         "rooms.nonstandard.unused": 0,
         "teachers.instructor": 0,
         "teachers.mobile": 2,
         "teachers.regular": 16,
         "teachers.sped": 0,
         "_deepnote_index_column": 46596
        },
        {
         "school.id": 305441,
         "school.name": "Valenzuela NHS",
         "school.region": "NCR",
         "school.region.name": "National Capital Region",
         "school.province": "NCR THIRD DISTRICT",
         "school.cityhall": "CITY OF VALENZUELA",
         "school.division": "Valenzuela City",
         "school.citymuni": "CITY OF VALENZUELA",
         "school.district": "Valenzuela City Central District",
         "school.legdistrict": "2nd District",
         "school.type": "School with no Annexes",
         "school.abbrev": "nan",
         "school.previousname": "-",
         "school.mother.id": 305441,
         "school.address": "A. FERNANDO ST., MARULAS,",
         "school.established": "1/1/1969",
         "school.classification": "Secondary",
         "school.classification2": "DepED Managed",
         "school.curricularclass": "Secondary",
         "school.organization": "Monograde",
         "school.cityincome": "P 400 M or more",
         "school.cityclass": "Highly Urbanized City",
         "school.urban": "Urban",
         "School ID_x": 305441,
         "Kinder Male": "nan",
         "Kinder Female": "nan",
         "Grade 1 Male": "nan",
         "Grade 1 Female": "nan",
         "Grade 2 Male": "nan",
         "Grade 2 Female": "nan",
         "Grade 3 Male": "nan",
         "Grade 3 Female": "nan",
         "Grade 4 Male": "nan",
         "Grade 4 Female": "nan",
         "Grade 5 Male": "nan",
         "Grade 5 Female": "nan",
         "Grade 6 Male": "nan",
         "Grade 6 Female": "nan",
         "SPED NG Male": "nan",
         "SPED NG Female": "nan",
         "Grade 7 Male": 461,
         "Grade 7 Female": 405,
         "Grade 8 Male": 424,
         "Grade 8 Female": 391,
         "Grade 9 Male": 423,
         "Grade 9 Female": 395,
         "Grade 10 Male": 363,
         "Grade 10 Female": 356,
         "Grade 11 Male": 0,
         "Grade 11 Female": 0,
         "Grade 12 Male": 0,
         "Grade 12 Female": 0,
         " school.mooe ": 2924000,
         "School ID_y": 305441,
         "rooms.standard.academic": 33,
         "rooms.standard.unused": 0,
         "rooms.nonstandard.academic": 0,
         "rooms.nonstandard.unused": 0,
         "teachers.instructor": 0,
         "teachers.mobile": 18,
         "teachers.regular": 84,
         "teachers.sped": 1,
         "_deepnote_index_column": 46597
        },
        {
         "school.id": 305308,
         "school.name": "Valeriano E. Fugoso Memorial High School",
         "school.region": "NCR",
         "school.region.name": "National Capital Region",
         "school.province": "MANILA, NCR, FIRST DISTRICT",
         "school.cityhall": "MANILA, NCR, FIRST DISTRICT",
         "school.division": "Manila",
         "school.citymuni": "SAMPALOC",
         "school.district": "Sampaloc V",
         "school.legdistrict": "4th District",
         "school.type": "School with no Annexes",
         "school.abbrev": "Fugoso HS",
         "school.previousname": "-",
         "school.mother.id": 305308,
         "school.address": "Boys Town Complex, Parang, Marikina City",
         "school.established": "1/1/1947",
         "school.classification": "Secondary",
         "school.classification2": "DepED Managed",
         "school.curricularclass": "Secondary",
         "school.organization": "Monograde",
         "school.cityincome": "nan",
         "school.cityclass": "Highly Urbanized City",
         "school.urban": "Urban",
         "School ID_x": 305308,
         "Kinder Male": "nan",
         "Kinder Female": "nan",
         "Grade 1 Male": "nan",
         "Grade 1 Female": "nan",
         "Grade 2 Male": "nan",
         "Grade 2 Female": "nan",
         "Grade 3 Male": "nan",
         "Grade 3 Female": "nan",
         "Grade 4 Male": "nan",
         "Grade 4 Female": "nan",
         "Grade 5 Male": "nan",
         "Grade 5 Female": "nan",
         "Grade 6 Male": "nan",
         "Grade 6 Female": "nan",
         "SPED NG Male": "nan",
         "SPED NG Female": "nan",
         "Grade 7 Male": 92,
         "Grade 7 Female": 132,
         "Grade 8 Male": 85,
         "Grade 8 Female": 106,
         "Grade 9 Male": 76,
         "Grade 9 Female": 112,
         "Grade 10 Male": 58,
         "Grade 10 Female": 83,
         "Grade 11 Male": 0,
         "Grade 11 Female": 0,
         "Grade 12 Male": 0,
         "Grade 12 Female": 0,
         " school.mooe ": 986000,
         "School ID_y": 305308,
         "rooms.standard.academic": 17,
         "rooms.standard.unused": 0,
         "rooms.nonstandard.academic": 0,
         "rooms.nonstandard.unused": 0,
         "teachers.instructor": 0,
         "teachers.mobile": 7,
         "teachers.regular": 39,
         "teachers.sped": 0,
         "_deepnote_index_column": 46598
        },
        {
         "school.id": 320402,
         "school.name": "Vicente Trinidad NHS (Punturin NHS)",
         "school.region": "NCR",
         "school.region.name": "National Capital Region",
         "school.province": "NCR THIRD DISTRICT",
         "school.cityhall": "CITY OF VALENZUELA",
         "school.division": "Valenzuela City",
         "school.citymuni": "CITY OF VALENZUELA",
         "school.district": "Valenzuela City Central District",
         "school.legdistrict": "1st District",
         "school.type": "School with no Annexes",
         "school.abbrev": "VPTNHS",
         "school.previousname": "Punturin National High School",
         "school.mother.id": 320402,
         "school.address": "Ruby st., Sta. Lucia Village Phase V",
         "school.established": "1/1/2003",
         "school.classification": "Secondary",
         "school.classification2": "DepED Managed",
         "school.curricularclass": "Secondary",
         "school.organization": "Monograde",
         "school.cityincome": "P 400 M or more",
         "school.cityclass": "Highly Urbanized City",
         "school.urban": "Urban",
         "School ID_x": 320402,
         "Kinder Male": "nan",
         "Kinder Female": "nan",
         "Grade 1 Male": "nan",
         "Grade 1 Female": "nan",
         "Grade 2 Male": "nan",
         "Grade 2 Female": "nan",
         "Grade 3 Male": "nan",
         "Grade 3 Female": "nan",
         "Grade 4 Male": "nan",
         "Grade 4 Female": "nan",
         "Grade 5 Male": "nan",
         "Grade 5 Female": "nan",
         "Grade 6 Male": "nan",
         "Grade 6 Female": "nan",
         "SPED NG Male": "nan",
         "SPED NG Female": "nan",
         "Grade 7 Male": 267,
         "Grade 7 Female": 270,
         "Grade 8 Male": 296,
         "Grade 8 Female": 275,
         "Grade 9 Male": 265,
         "Grade 9 Female": 267,
         "Grade 10 Male": 239,
         "Grade 10 Female": 234,
         "Grade 11 Male": 0,
         "Grade 11 Female": 0,
         "Grade 12 Male": 0,
         "Grade 12 Female": 0,
         " school.mooe ": 1798000,
         "School ID_y": 320402,
         "rooms.standard.academic": 23,
         "rooms.standard.unused": 0,
         "rooms.nonstandard.academic": 0,
         "rooms.nonstandard.unused": 0,
         "teachers.instructor": 0,
         "teachers.mobile": 4,
         "teachers.regular": 41,
         "teachers.sped": 0,
         "_deepnote_index_column": 46599
        },
        {
         "school.id": 305315,
         "school.name": "Victoriano Mapa High School",
         "school.region": "NCR",
         "school.region.name": "National Capital Region",
         "school.province": "MANILA, NCR, FIRST DISTRICT",
         "school.cityhall": "MANILA, NCR, FIRST DISTRICT",
         "school.division": "Manila",
         "school.citymuni": "SAN MIGUEL",
         "school.district": "Sta. Cruz V",
         "school.legdistrict": "6th District",
         "school.type": "School with no Annexes",
         "school.abbrev": "VMHS",
         "school.previousname": "MANILA EAST HS",
         "school.mother.id": 305315,
         "school.address": "300 San Rafael St., San Miguel,",
         "school.established": "1/1/1923",
         "school.classification": "Secondary",
         "school.classification2": "DepED Managed",
         "school.curricularclass": "Secondary",
         "school.organization": "Monograde",
         "school.cityincome": "nan",
         "school.cityclass": "Highly Urbanized City",
         "school.urban": "Urban",
         "School ID_x": 305315,
         "Kinder Male": "nan",
         "Kinder Female": "nan",
         "Grade 1 Male": "nan",
         "Grade 1 Female": "nan",
         "Grade 2 Male": "nan",
         "Grade 2 Female": "nan",
         "Grade 3 Male": "nan",
         "Grade 3 Female": "nan",
         "Grade 4 Male": "nan",
         "Grade 4 Female": "nan",
         "Grade 5 Male": "nan",
         "Grade 5 Female": "nan",
         "Grade 6 Male": "nan",
         "Grade 6 Female": "nan",
         "SPED NG Male": "nan",
         "SPED NG Female": "nan",
         "Grade 7 Male": 516,
         "Grade 7 Female": 549,
         "Grade 8 Male": 472,
         "Grade 8 Female": 532,
         "Grade 9 Male": 412,
         "Grade 9 Female": 457,
         "Grade 10 Male": 401,
         "Grade 10 Female": 441,
         "Grade 11 Male": 0,
         "Grade 11 Female": 0,
         "Grade 12 Male": 0,
         "Grade 12 Female": 0,
         " school.mooe ": 3971000,
         "School ID_y": 305315,
         "rooms.standard.academic": 39,
         "rooms.standard.unused": 0,
         "rooms.nonstandard.academic": 0,
         "rooms.nonstandard.unused": 0,
         "teachers.instructor": 0,
         "teachers.mobile": 27,
         "teachers.regular": 164,
         "teachers.sped": 0,
         "_deepnote_index_column": 46600
        },
        {
         "school.id": 320407,
         "school.name": "Wawangpulo National High School",
         "school.region": "NCR",
         "school.region.name": "National Capital Region",
         "school.province": "NCR THIRD DISTRICT",
         "school.cityhall": "CITY OF VALENZUELA",
         "school.division": "Valenzuela City",
         "school.citymuni": "CITY OF VALENZUELA",
         "school.district": "Valenzuela City North District",
         "school.legdistrict": "1st District",
         "school.type": "School with no Annexes",
         "school.abbrev": "nan",
         "school.previousname": "Valenzuela NHS-Wawang Pulo Annex",
         "school.mother.id": 320407,
         "school.address": "F. Andaya St.",
         "school.established": "1/1/2008",
         "school.classification": "Secondary",
         "school.classification2": "DepED Managed",
         "school.curricularclass": "Secondary",
         "school.organization": "Monograde",
         "school.cityincome": "P 400 M or more",
         "school.cityclass": "Highly Urbanized City",
         "school.urban": "Urban",
         "School ID_x": 320407,
         "Kinder Male": "nan",
         "Kinder Female": "nan",
         "Grade 1 Male": "nan",
         "Grade 1 Female": "nan",
         "Grade 2 Male": "nan",
         "Grade 2 Female": "nan",
         "Grade 3 Male": "nan",
         "Grade 3 Female": "nan",
         "Grade 4 Male": "nan",
         "Grade 4 Female": "nan",
         "Grade 5 Male": "nan",
         "Grade 5 Female": "nan",
         "Grade 6 Male": "nan",
         "Grade 6 Female": "nan",
         "SPED NG Male": "nan",
         "SPED NG Female": "nan",
         "Grade 7 Male": 98,
         "Grade 7 Female": 76,
         "Grade 8 Male": 106,
         "Grade 8 Female": 54,
         "Grade 9 Male": 80,
         "Grade 9 Female": 58,
         "Grade 10 Male": 55,
         "Grade 10 Female": 44,
         "Grade 11 Male": 0,
         "Grade 11 Female": 0,
         "Grade 12 Male": 0,
         "Grade 12 Female": 0,
         " school.mooe ": 539000,
         "School ID_y": 320407,
         "rooms.standard.academic": 11,
         "rooms.standard.unused": 0,
         "rooms.nonstandard.academic": 0,
         "rooms.nonstandard.unused": 0,
         "teachers.instructor": 0,
         "teachers.mobile": 0,
         "teachers.regular": 6,
         "teachers.sped": 0,
         "_deepnote_index_column": 46601
        },
        {
         "school.id": 305465,
         "school.name": "Western Bicutan NHS",
         "school.region": "NCR",
         "school.region.name": "National Capital Region",
         "school.province": "NCR FOURTH DISTRICT",
         "school.cityhall": "TAGUIG CITY",
         "school.division": "Taguig",
         "school.citymuni": "TAGUIG CITY",
         "school.district": "Taguig District III",
         "school.legdistrict": "2nd District",
         "school.type": "School with no Annexes",
         "school.abbrev": "WBNHS",
         "school.previousname": "N/.A",
         "school.mother.id": 305465,
         "school.address": "EPVillage,Phase 1,Pinagsama,Taguig City",
         "school.established": "1/1/1997",
         "school.classification": "Secondary",
         "school.classification2": "DepED Managed",
         "school.curricularclass": "Secondary",
         "school.organization": "Monograde",
         "school.cityincome": "P 400 M or more",
         "school.cityclass": "Highly Urbanized City",
         "school.urban": "Urban",
         "School ID_x": 305465,
         "Kinder Male": "nan",
         "Kinder Female": "nan",
         "Grade 1 Male": "nan",
         "Grade 1 Female": "nan",
         "Grade 2 Male": "nan",
         "Grade 2 Female": "nan",
         "Grade 3 Male": "nan",
         "Grade 3 Female": "nan",
         "Grade 4 Male": "nan",
         "Grade 4 Female": "nan",
         "Grade 5 Male": "nan",
         "Grade 5 Female": "nan",
         "Grade 6 Male": "nan",
         "Grade 6 Female": "nan",
         "SPED NG Male": "nan",
         "SPED NG Female": "nan",
         "Grade 7 Male": 635,
         "Grade 7 Female": 627,
         "Grade 8 Male": 623,
         "Grade 8 Female": 634,
         "Grade 9 Male": 543,
         "Grade 9 Female": 546,
         "Grade 10 Male": 504,
         "Grade 10 Female": 501,
         "Grade 11 Male": 0,
         "Grade 11 Female": 0,
         "Grade 12 Male": 0,
         "Grade 12 Female": 0,
         " school.mooe ": 3595000,
         "School ID_y": 305465,
         "rooms.standard.academic": 44,
         "rooms.standard.unused": 0,
         "rooms.nonstandard.academic": 0,
         "rooms.nonstandard.unused": 0,
         "teachers.instructor": 0,
         "teachers.mobile": 1,
         "teachers.regular": 96,
         "teachers.sped": 0,
         "_deepnote_index_column": 46602
        }
       ]
      },
      "text/plain": "       school.id                               school.name school.region  \\\n0         101746                           A. Diaz, Sr. ES      Region I   \n1         102193             A. P. Santos ES (SPED Center)      Region I   \n2         101283                           A.P. Guevara IS      Region I   \n3         100216                                Ab-Abut ES      Region I   \n4         100043                                  Abaca ES      Region I   \n...          ...                                       ...           ...   \n46598     305308  Valeriano E. Fugoso Memorial High School           NCR   \n46599     320402       Vicente Trinidad NHS (Punturin NHS)           NCR   \n46600     305315               Victoriano Mapa High School           NCR   \n46601     320407           Wawangpulo National High School           NCR   \n46602     305465                       Western Bicutan NHS           NCR   \n\n            school.region.name              school.province  \\\n0                Ilocos Region                   PANGASINAN   \n1                Ilocos Region                 ILOCOS NORTE   \n2                Ilocos Region                   PANGASINAN   \n3                Ilocos Region                 ILOCOS NORTE   \n4                Ilocos Region                 ILOCOS NORTE   \n...                        ...                          ...   \n46598  National Capital Region  MANILA, NCR, FIRST DISTRICT   \n46599  National Capital Region           NCR THIRD DISTRICT   \n46600  National Capital Region  MANILA, NCR, FIRST DISTRICT   \n46601  National Capital Region           NCR THIRD DISTRICT   \n46602  National Capital Region          NCR FOURTH DISTRICT   \n\n                   school.cityhall           school.division  \\\n0                       PANGASINAN  Pangasinan II, Binalonan   \n1                     ILOCOS NORTE                Laoag City   \n2                       PANGASINAN    Pangasinan I, Lingayen   \n3                     ILOCOS NORTE              Ilocos Norte   \n4                     ILOCOS NORTE              Ilocos Norte   \n...                            ...                       ...   \n46598  MANILA, NCR, FIRST DISTRICT                    Manila   \n46599           CITY OF VALENZUELA           Valenzuela City   \n46600  MANILA, NCR, FIRST DISTRICT                    Manila   \n46601           CITY OF VALENZUELA           Valenzuela City   \n46602                  TAGUIG CITY                    Taguig   \n\n            school.citymuni                   school.district  \\\n0                  BAUTISTA                          Bautista   \n1      LAOAG CITY (Capital)            Laoag City District II   \n2                 BAYAMBANG                      Bayambang II   \n3                    PIDDIG                            Piddig   \n4                    BANGUI                            Bangui   \n...                     ...                               ...   \n46598              SAMPALOC                        Sampaloc V   \n46599    CITY OF VALENZUELA  Valenzuela City Central District   \n46600            SAN MIGUEL                       Sta. Cruz V   \n46601    CITY OF VALENZUELA    Valenzuela City North District   \n46602           TAGUIG CITY               Taguig District III   \n\n      school.legdistrict  ...  school.mooe  School ID_y  \\\n0           5th District  ...      341000.0    101746.0   \n1           1st District  ...      275000.0    102193.0   \n2           3rd District  ...      132000.0    101283.0   \n3           1st District  ...      135000.0    100216.0   \n4           1st District  ...      182000.0    100043.0   \n...                  ...  ...           ...         ...   \n46598       4th District  ...      986000.0    305308.0   \n46599       1st District  ...     1798000.0    320402.0   \n46600       6th District  ...     3971000.0    305315.0   \n46601       1st District  ...      539000.0    320407.0   \n46602       2nd District  ...     3595000.0    305465.0   \n\n      rooms.standard.academic  rooms.standard.unused  \\\n0                        15.0                    0.0   \n1                        13.0                    3.0   \n2                         7.0                    0.0   \n3                         6.0                    0.0   \n4                         9.0                    0.0   \n...                       ...                    ...   \n46598                    17.0                    0.0   \n46599                    23.0                    0.0   \n46600                    39.0                    0.0   \n46601                    11.0                    0.0   \n46602                    44.0                    0.0   \n\n      rooms.nonstandard.academic rooms.nonstandard.unused teachers.instructor  \\\n0                            0.0                      0.0                 0.0   \n1                            0.0                      0.0                 0.0   \n2                            0.0                      0.0                 0.0   \n3                            0.0                      0.0                 0.0   \n4                            0.0                      0.0                 0.0   \n...                          ...                      ...                 ...   \n46598                        0.0                      0.0                 0.0   \n46599                        0.0                      0.0                 0.0   \n46600                        0.0                      0.0                 0.0   \n46601                        0.0                      0.0                 0.0   \n46602                        0.0                      0.0                 0.0   \n\n      teachers.mobile teachers.regular teachers.sped  \n0                 1.0             20.0           0.0  \n1                 2.0             12.0           4.0  \n2                 1.0              6.0           0.0  \n3                 1.0              6.0           0.0  \n4                 1.0              8.0           0.0  \n...               ...              ...           ...  \n46598             7.0             39.0           0.0  \n46599             4.0             41.0           0.0  \n46600            27.0            164.0           0.0  \n46601             0.0              6.0           0.0  \n46602             1.0             96.0           0.0  \n\n[46603 rows x 62 columns]",
      "text/html": "<div>\n<style scoped>\n    .dataframe tbody tr th:only-of-type {\n        vertical-align: middle;\n    }\n\n    .dataframe tbody tr th {\n        vertical-align: top;\n    }\n\n    .dataframe thead th {\n        text-align: right;\n    }\n</style>\n<table border=\"1\" class=\"dataframe\">\n  <thead>\n    <tr style=\"text-align: right;\">\n      <th></th>\n      <th>school.id</th>\n      <th>school.name</th>\n      <th>school.region</th>\n      <th>school.region.name</th>\n      <th>school.province</th>\n      <th>school.cityhall</th>\n      <th>school.division</th>\n      <th>school.citymuni</th>\n      <th>school.district</th>\n      <th>school.legdistrict</th>\n      <th>...</th>\n      <th>school.mooe</th>\n      <th>School ID_y</th>\n      <th>rooms.standard.academic</th>\n      <th>rooms.standard.unused</th>\n      <th>rooms.nonstandard.academic</th>\n      <th>rooms.nonstandard.unused</th>\n      <th>teachers.instructor</th>\n      <th>teachers.mobile</th>\n      <th>teachers.regular</th>\n      <th>teachers.sped</th>\n    </tr>\n  </thead>\n  <tbody>\n    <tr>\n      <th>0</th>\n      <td>101746</td>\n      <td>A. Diaz, Sr. ES</td>\n      <td>Region I</td>\n      <td>Ilocos Region</td>\n      <td>PANGASINAN</td>\n      <td>PANGASINAN</td>\n      <td>Pangasinan II, Binalonan</td>\n      <td>BAUTISTA</td>\n      <td>Bautista</td>\n      <td>5th District</td>\n      <td>...</td>\n      <td>341000.0</td>\n      <td>101746.0</td>\n      <td>15.0</td>\n      <td>0.0</td>\n      <td>0.0</td>\n      <td>0.0</td>\n      <td>0.0</td>\n      <td>1.0</td>\n      <td>20.0</td>\n      <td>0.0</td>\n    </tr>\n    <tr>\n      <th>1</th>\n      <td>102193</td>\n      <td>A. P. Santos ES (SPED Center)</td>\n      <td>Region I</td>\n      <td>Ilocos Region</td>\n      <td>ILOCOS NORTE</td>\n      <td>ILOCOS NORTE</td>\n      <td>Laoag City</td>\n      <td>LAOAG CITY (Capital)</td>\n      <td>Laoag City District II</td>\n      <td>1st District</td>\n      <td>...</td>\n      <td>275000.0</td>\n      <td>102193.0</td>\n      <td>13.0</td>\n      <td>3.0</td>\n      <td>0.0</td>\n      <td>0.0</td>\n      <td>0.0</td>\n      <td>2.0</td>\n      <td>12.0</td>\n      <td>4.0</td>\n    </tr>\n    <tr>\n      <th>2</th>\n      <td>101283</td>\n      <td>A.P. Guevara IS</td>\n      <td>Region I</td>\n      <td>Ilocos Region</td>\n      <td>PANGASINAN</td>\n      <td>PANGASINAN</td>\n      <td>Pangasinan I, Lingayen</td>\n      <td>BAYAMBANG</td>\n      <td>Bayambang II</td>\n      <td>3rd District</td>\n      <td>...</td>\n      <td>132000.0</td>\n      <td>101283.0</td>\n      <td>7.0</td>\n      <td>0.0</td>\n      <td>0.0</td>\n      <td>0.0</td>\n      <td>0.0</td>\n      <td>1.0</td>\n      <td>6.0</td>\n      <td>0.0</td>\n    </tr>\n    <tr>\n      <th>3</th>\n      <td>100216</td>\n      <td>Ab-Abut ES</td>\n      <td>Region I</td>\n      <td>Ilocos Region</td>\n      <td>ILOCOS NORTE</td>\n      <td>ILOCOS NORTE</td>\n      <td>Ilocos Norte</td>\n      <td>PIDDIG</td>\n      <td>Piddig</td>\n      <td>1st District</td>\n      <td>...</td>\n      <td>135000.0</td>\n      <td>100216.0</td>\n      <td>6.0</td>\n      <td>0.0</td>\n      <td>0.0</td>\n      <td>0.0</td>\n      <td>0.0</td>\n      <td>1.0</td>\n      <td>6.0</td>\n      <td>0.0</td>\n    </tr>\n    <tr>\n      <th>4</th>\n      <td>100043</td>\n      <td>Abaca ES</td>\n      <td>Region I</td>\n      <td>Ilocos Region</td>\n      <td>ILOCOS NORTE</td>\n      <td>ILOCOS NORTE</td>\n      <td>Ilocos Norte</td>\n      <td>BANGUI</td>\n      <td>Bangui</td>\n      <td>1st District</td>\n      <td>...</td>\n      <td>182000.0</td>\n      <td>100043.0</td>\n      <td>9.0</td>\n      <td>0.0</td>\n      <td>0.0</td>\n      <td>0.0</td>\n      <td>0.0</td>\n      <td>1.0</td>\n      <td>8.0</td>\n      <td>0.0</td>\n    </tr>\n    <tr>\n      <th>...</th>\n      <td>...</td>\n      <td>...</td>\n      <td>...</td>\n      <td>...</td>\n      <td>...</td>\n      <td>...</td>\n      <td>...</td>\n      <td>...</td>\n      <td>...</td>\n      <td>...</td>\n      <td>...</td>\n      <td>...</td>\n      <td>...</td>\n      <td>...</td>\n      <td>...</td>\n      <td>...</td>\n      <td>...</td>\n      <td>...</td>\n      <td>...</td>\n      <td>...</td>\n      <td>...</td>\n    </tr>\n    <tr>\n      <th>46598</th>\n      <td>305308</td>\n      <td>Valeriano E. Fugoso Memorial High School</td>\n      <td>NCR</td>\n      <td>National Capital Region</td>\n      <td>MANILA, NCR, FIRST DISTRICT</td>\n      <td>MANILA, NCR, FIRST DISTRICT</td>\n      <td>Manila</td>\n      <td>SAMPALOC</td>\n      <td>Sampaloc V</td>\n      <td>4th District</td>\n      <td>...</td>\n      <td>986000.0</td>\n      <td>305308.0</td>\n      <td>17.0</td>\n      <td>0.0</td>\n      <td>0.0</td>\n      <td>0.0</td>\n      <td>0.0</td>\n      <td>7.0</td>\n      <td>39.0</td>\n      <td>0.0</td>\n    </tr>\n    <tr>\n      <th>46599</th>\n      <td>320402</td>\n      <td>Vicente Trinidad NHS (Punturin NHS)</td>\n      <td>NCR</td>\n      <td>National Capital Region</td>\n      <td>NCR THIRD DISTRICT</td>\n      <td>CITY OF VALENZUELA</td>\n      <td>Valenzuela City</td>\n      <td>CITY OF VALENZUELA</td>\n      <td>Valenzuela City Central District</td>\n      <td>1st District</td>\n      <td>...</td>\n      <td>1798000.0</td>\n      <td>320402.0</td>\n      <td>23.0</td>\n      <td>0.0</td>\n      <td>0.0</td>\n      <td>0.0</td>\n      <td>0.0</td>\n      <td>4.0</td>\n      <td>41.0</td>\n      <td>0.0</td>\n    </tr>\n    <tr>\n      <th>46600</th>\n      <td>305315</td>\n      <td>Victoriano Mapa High School</td>\n      <td>NCR</td>\n      <td>National Capital Region</td>\n      <td>MANILA, NCR, FIRST DISTRICT</td>\n      <td>MANILA, NCR, FIRST DISTRICT</td>\n      <td>Manila</td>\n      <td>SAN MIGUEL</td>\n      <td>Sta. Cruz V</td>\n      <td>6th District</td>\n      <td>...</td>\n      <td>3971000.0</td>\n      <td>305315.0</td>\n      <td>39.0</td>\n      <td>0.0</td>\n      <td>0.0</td>\n      <td>0.0</td>\n      <td>0.0</td>\n      <td>27.0</td>\n      <td>164.0</td>\n      <td>0.0</td>\n    </tr>\n    <tr>\n      <th>46601</th>\n      <td>320407</td>\n      <td>Wawangpulo National High School</td>\n      <td>NCR</td>\n      <td>National Capital Region</td>\n      <td>NCR THIRD DISTRICT</td>\n      <td>CITY OF VALENZUELA</td>\n      <td>Valenzuela City</td>\n      <td>CITY OF VALENZUELA</td>\n      <td>Valenzuela City North District</td>\n      <td>1st District</td>\n      <td>...</td>\n      <td>539000.0</td>\n      <td>320407.0</td>\n      <td>11.0</td>\n      <td>0.0</td>\n      <td>0.0</td>\n      <td>0.0</td>\n      <td>0.0</td>\n      <td>0.0</td>\n      <td>6.0</td>\n      <td>0.0</td>\n    </tr>\n    <tr>\n      <th>46602</th>\n      <td>305465</td>\n      <td>Western Bicutan NHS</td>\n      <td>NCR</td>\n      <td>National Capital Region</td>\n      <td>NCR FOURTH DISTRICT</td>\n      <td>TAGUIG CITY</td>\n      <td>Taguig</td>\n      <td>TAGUIG CITY</td>\n      <td>Taguig District III</td>\n      <td>2nd District</td>\n      <td>...</td>\n      <td>3595000.0</td>\n      <td>305465.0</td>\n      <td>44.0</td>\n      <td>0.0</td>\n      <td>0.0</td>\n      <td>0.0</td>\n      <td>0.0</td>\n      <td>1.0</td>\n      <td>96.0</td>\n      <td>0.0</td>\n    </tr>\n  </tbody>\n</table>\n<p>46603 rows × 62 columns</p>\n</div>"
     },
     "metadata": {}
    }
   ]
  },
  {
   "cell_type": "code",
   "source": "master_df.columns",
   "metadata": {
    "tags": [],
    "cell_id": "00021-f4ad8906-ea6a-4907-8dd0-842b815ee615",
    "deepnote_to_be_reexecuted": false,
    "source_hash": "c4a5fdd2",
    "execution_start": 1621509792902,
    "execution_millis": 17,
    "deepnote_cell_type": "code"
   },
   "outputs": [
    {
     "output_type": "execute_result",
     "execution_count": 22,
     "data": {
      "text/plain": "Index(['school.id', 'school.name', 'school.region', 'school.region.name',\n       'school.province', 'school.cityhall', 'school.division',\n       'school.citymuni', 'school.district', 'school.legdistrict',\n       'school.type', 'school.abbrev', 'school.previousname',\n       'school.mother.id', 'school.address', 'school.established',\n       'school.classification', 'school.classification2',\n       'school.curricularclass', 'school.organization', 'school.cityincome',\n       'school.cityclass', 'school.urban', 'School ID_x', 'Kinder Male',\n       'Kinder Female', 'Grade 1 Male', 'Grade 1 Female', 'Grade 2 Male',\n       'Grade 2 Female', 'Grade 3 Male', 'Grade 3 Female', 'Grade 4 Male',\n       'Grade 4 Female', 'Grade 5 Male', 'Grade 5 Female', 'Grade 6 Male',\n       'Grade 6 Female', 'SPED NG Male', 'SPED NG Female', 'Grade 7 Male',\n       'Grade 7 Female', 'Grade 8 Male', 'Grade 8 Female', 'Grade 9 Male',\n       'Grade 9 Female', 'Grade 10 Male', 'Grade 10 Female', 'Grade 11 Male',\n       'Grade 11 Female', 'Grade 12 Male', 'Grade 12 Female', ' school.mooe ',\n       'School ID_y', 'rooms.standard.academic', 'rooms.standard.unused',\n       'rooms.nonstandard.academic', 'rooms.nonstandard.unused',\n       'teachers.instructor', 'teachers.mobile', 'teachers.regular',\n       'teachers.sped'],\n      dtype='object')"
     },
     "metadata": {}
    }
   ],
   "execution_count": 22
  },
  {
   "cell_type": "code",
   "source": "",
   "metadata": {
    "tags": [],
    "cell_id": "00022-bd1cec78-2d2b-4965-a9e3-0599cb175a32",
    "deepnote_to_be_reexecuted": false,
    "source_hash": "97f06d6c",
    "execution_start": 1621509792911,
    "execution_millis": 116,
    "deepnote_cell_type": "code"
   },
   "outputs": [
    {
     "output_type": "execute_result",
     "execution_count": 23,
     "data": {
      "application/vnd.deepnote.dataframe.v2+json": {
       "row_count": 0,
       "column_count": 62,
       "columns": [
        {
         "name": "school.id",
         "dtype": "bool",
         "stats": {
          "unique_count": 0,
          "nan_count": 0,
          "categories": []
         }
        },
        {
         "name": "school.name",
         "dtype": "bool",
         "stats": {
          "unique_count": 0,
          "nan_count": 0,
          "categories": []
         }
        },
        {
         "name": "school.region",
         "dtype": "bool",
         "stats": {
          "unique_count": 0,
          "nan_count": 0,
          "categories": []
         }
        },
        {
         "name": "school.region.name",
         "dtype": "bool",
         "stats": {
          "unique_count": 0,
          "nan_count": 0,
          "categories": []
         }
        },
        {
         "name": "school.province",
         "dtype": "bool",
         "stats": {
          "unique_count": 0,
          "nan_count": 0,
          "categories": []
         }
        },
        {
         "name": "school.cityhall",
         "dtype": "bool",
         "stats": {
          "unique_count": 0,
          "nan_count": 0,
          "categories": []
         }
        },
        {
         "name": "school.division",
         "dtype": "bool",
         "stats": {
          "unique_count": 0,
          "nan_count": 0,
          "categories": []
         }
        },
        {
         "name": "school.citymuni",
         "dtype": "bool",
         "stats": {
          "unique_count": 0,
          "nan_count": 0,
          "categories": []
         }
        },
        {
         "name": "school.district",
         "dtype": "bool",
         "stats": {
          "unique_count": 0,
          "nan_count": 0,
          "categories": []
         }
        },
        {
         "name": "school.legdistrict",
         "dtype": "bool",
         "stats": {
          "unique_count": 0,
          "nan_count": 0,
          "categories": []
         }
        },
        {
         "name": "school.type",
         "dtype": "bool",
         "stats": {
          "unique_count": 0,
          "nan_count": 0,
          "categories": []
         }
        },
        {
         "name": "school.abbrev",
         "dtype": "bool",
         "stats": {
          "unique_count": 0,
          "nan_count": 0,
          "categories": []
         }
        },
        {
         "name": "school.previousname",
         "dtype": "bool",
         "stats": {
          "unique_count": 0,
          "nan_count": 0,
          "categories": []
         }
        },
        {
         "name": "school.mother.id",
         "dtype": "bool",
         "stats": {
          "unique_count": 0,
          "nan_count": 0,
          "categories": []
         }
        },
        {
         "name": "school.address",
         "dtype": "bool",
         "stats": {
          "unique_count": 0,
          "nan_count": 0,
          "categories": []
         }
        },
        {
         "name": "school.established",
         "dtype": "bool",
         "stats": {
          "unique_count": 0,
          "nan_count": 0,
          "categories": []
         }
        },
        {
         "name": "school.classification",
         "dtype": "bool",
         "stats": {
          "unique_count": 0,
          "nan_count": 0,
          "categories": []
         }
        },
        {
         "name": "school.classification2",
         "dtype": "bool",
         "stats": {
          "unique_count": 0,
          "nan_count": 0,
          "categories": []
         }
        },
        {
         "name": "school.curricularclass",
         "dtype": "bool",
         "stats": {
          "unique_count": 0,
          "nan_count": 0,
          "categories": []
         }
        },
        {
         "name": "school.organization",
         "dtype": "bool",
         "stats": {
          "unique_count": 0,
          "nan_count": 0,
          "categories": []
         }
        },
        {
         "name": "school.cityincome",
         "dtype": "bool",
         "stats": {
          "unique_count": 0,
          "nan_count": 0,
          "categories": []
         }
        },
        {
         "name": "school.cityclass",
         "dtype": "bool",
         "stats": {
          "unique_count": 0,
          "nan_count": 0,
          "categories": []
         }
        },
        {
         "name": "school.urban",
         "dtype": "bool",
         "stats": {
          "unique_count": 0,
          "nan_count": 0,
          "categories": []
         }
        },
        {
         "name": "School ID_x",
         "dtype": "bool",
         "stats": {
          "unique_count": 0,
          "nan_count": 0,
          "categories": []
         }
        },
        {
         "name": "Kinder Male",
         "dtype": "bool",
         "stats": {
          "unique_count": 0,
          "nan_count": 0,
          "categories": []
         }
        },
        {
         "name": "Kinder Female",
         "dtype": "bool",
         "stats": {
          "unique_count": 0,
          "nan_count": 0,
          "categories": []
         }
        },
        {
         "name": "Grade 1 Male",
         "dtype": "bool",
         "stats": {
          "unique_count": 0,
          "nan_count": 0,
          "categories": []
         }
        },
        {
         "name": "Grade 1 Female",
         "dtype": "bool",
         "stats": {
          "unique_count": 0,
          "nan_count": 0,
          "categories": []
         }
        },
        {
         "name": "Grade 2 Male",
         "dtype": "bool",
         "stats": {
          "unique_count": 0,
          "nan_count": 0,
          "categories": []
         }
        },
        {
         "name": "Grade 2 Female",
         "dtype": "bool",
         "stats": {
          "unique_count": 0,
          "nan_count": 0,
          "categories": []
         }
        },
        {
         "name": "Grade 3 Male",
         "dtype": "bool",
         "stats": {
          "unique_count": 0,
          "nan_count": 0,
          "categories": []
         }
        },
        {
         "name": "Grade 3 Female",
         "dtype": "bool",
         "stats": {
          "unique_count": 0,
          "nan_count": 0,
          "categories": []
         }
        },
        {
         "name": "Grade 4 Male",
         "dtype": "bool",
         "stats": {
          "unique_count": 0,
          "nan_count": 0,
          "categories": []
         }
        },
        {
         "name": "Grade 4 Female",
         "dtype": "bool",
         "stats": {
          "unique_count": 0,
          "nan_count": 0,
          "categories": []
         }
        },
        {
         "name": "Grade 5 Male",
         "dtype": "bool",
         "stats": {
          "unique_count": 0,
          "nan_count": 0,
          "categories": []
         }
        },
        {
         "name": "Grade 5 Female",
         "dtype": "bool",
         "stats": {
          "unique_count": 0,
          "nan_count": 0,
          "categories": []
         }
        },
        {
         "name": "Grade 6 Male",
         "dtype": "bool",
         "stats": {
          "unique_count": 0,
          "nan_count": 0,
          "categories": []
         }
        },
        {
         "name": "Grade 6 Female",
         "dtype": "bool",
         "stats": {
          "unique_count": 0,
          "nan_count": 0,
          "categories": []
         }
        },
        {
         "name": "SPED NG Male",
         "dtype": "bool",
         "stats": {
          "unique_count": 0,
          "nan_count": 0,
          "categories": []
         }
        },
        {
         "name": "SPED NG Female",
         "dtype": "bool",
         "stats": {
          "unique_count": 0,
          "nan_count": 0,
          "categories": []
         }
        },
        {
         "name": "Grade 7 Male",
         "dtype": "bool",
         "stats": {
          "unique_count": 0,
          "nan_count": 0,
          "categories": []
         }
        },
        {
         "name": "Grade 7 Female",
         "dtype": "bool",
         "stats": {
          "unique_count": 0,
          "nan_count": 0,
          "categories": []
         }
        },
        {
         "name": "Grade 8 Male",
         "dtype": "bool",
         "stats": {
          "unique_count": 0,
          "nan_count": 0,
          "categories": []
         }
        },
        {
         "name": "Grade 8 Female",
         "dtype": "bool",
         "stats": {
          "unique_count": 0,
          "nan_count": 0,
          "categories": []
         }
        },
        {
         "name": "Grade 9 Male",
         "dtype": "bool",
         "stats": {
          "unique_count": 0,
          "nan_count": 0,
          "categories": []
         }
        },
        {
         "name": "Grade 9 Female",
         "dtype": "bool",
         "stats": {
          "unique_count": 0,
          "nan_count": 0,
          "categories": []
         }
        },
        {
         "name": "Grade 10 Male",
         "dtype": "bool",
         "stats": {
          "unique_count": 0,
          "nan_count": 0,
          "categories": []
         }
        },
        {
         "name": "Grade 10 Female",
         "dtype": "bool",
         "stats": {
          "unique_count": 0,
          "nan_count": 0,
          "categories": []
         }
        },
        {
         "name": "Grade 11 Male",
         "dtype": "bool",
         "stats": {
          "unique_count": 0,
          "nan_count": 0,
          "categories": []
         }
        },
        {
         "name": "Grade 11 Female",
         "dtype": "bool",
         "stats": {
          "unique_count": 0,
          "nan_count": 0,
          "categories": []
         }
        },
        {
         "name": "Grade 12 Male",
         "dtype": "bool",
         "stats": {
          "unique_count": 0,
          "nan_count": 0,
          "categories": []
         }
        },
        {
         "name": "Grade 12 Female",
         "dtype": "bool",
         "stats": {
          "unique_count": 0,
          "nan_count": 0,
          "categories": []
         }
        },
        {
         "name": " school.mooe ",
         "dtype": "bool",
         "stats": {
          "unique_count": 0,
          "nan_count": 0,
          "categories": []
         }
        },
        {
         "name": "School ID_y",
         "dtype": "bool",
         "stats": {
          "unique_count": 0,
          "nan_count": 0,
          "categories": []
         }
        },
        {
         "name": "rooms.standard.academic",
         "dtype": "bool",
         "stats": {
          "unique_count": 0,
          "nan_count": 0,
          "categories": []
         }
        },
        {
         "name": "rooms.standard.unused",
         "dtype": "bool",
         "stats": {
          "unique_count": 0,
          "nan_count": 0,
          "categories": []
         }
        },
        {
         "name": "rooms.nonstandard.academic",
         "dtype": "bool",
         "stats": {
          "unique_count": 0,
          "nan_count": 0,
          "categories": []
         }
        },
        {
         "name": "rooms.nonstandard.unused",
         "dtype": "bool",
         "stats": {
          "unique_count": 0,
          "nan_count": 0,
          "categories": []
         }
        },
        {
         "name": "teachers.instructor",
         "dtype": "bool",
         "stats": {
          "unique_count": 0,
          "nan_count": 0,
          "categories": []
         }
        },
        {
         "name": "teachers.mobile",
         "dtype": "bool",
         "stats": {
          "unique_count": 0,
          "nan_count": 0,
          "categories": []
         }
        },
        {
         "name": "teachers.regular",
         "dtype": "bool",
         "stats": {
          "unique_count": 0,
          "nan_count": 0,
          "categories": []
         }
        },
        {
         "name": "teachers.sped",
         "dtype": "bool",
         "stats": {
          "unique_count": 0,
          "nan_count": 0,
          "categories": []
         }
        },
        {
         "name": "_deepnote_index_column",
         "dtype": "int64"
        }
       ],
       "rows_top": [],
       "rows_bottom": null
      },
      "text/plain": "Empty DataFrame\nColumns: [school.id, school.name, school.region, school.region.name, school.province, school.cityhall, school.division, school.citymuni, school.district, school.legdistrict, school.type, school.abbrev, school.previousname, school.mother.id, school.address, school.established, school.classification, school.classification2, school.curricularclass, school.organization, school.cityincome, school.cityclass, school.urban, School ID_x, Kinder Male, Kinder Female, Grade 1 Male, Grade 1 Female, Grade 2 Male, Grade 2 Female, Grade 3 Male, Grade 3 Female, Grade 4 Male, Grade 4 Female, Grade 5 Male, Grade 5 Female, Grade 6 Male, Grade 6 Female, SPED NG Male, SPED NG Female, Grade 7 Male, Grade 7 Female, Grade 8 Male, Grade 8 Female, Grade 9 Male, Grade 9 Female, Grade 10 Male, Grade 10 Female, Grade 11 Male, Grade 11 Female, Grade 12 Male, Grade 12 Female,  school.mooe , School ID_y, rooms.standard.academic, rooms.standard.unused, rooms.nonstandard.academic, rooms.nonstandard.unused, teachers.instructor, teachers.mobile, teachers.regular, teachers.sped]\nIndex: []\n\n[0 rows x 62 columns]",
      "text/html": "<div>\n<style scoped>\n    .dataframe tbody tr th:only-of-type {\n        vertical-align: middle;\n    }\n\n    .dataframe tbody tr th {\n        vertical-align: top;\n    }\n\n    .dataframe thead th {\n        text-align: right;\n    }\n</style>\n<table border=\"1\" class=\"dataframe\">\n  <thead>\n    <tr style=\"text-align: right;\">\n      <th></th>\n      <th>school.id</th>\n      <th>school.name</th>\n      <th>school.region</th>\n      <th>school.region.name</th>\n      <th>school.province</th>\n      <th>school.cityhall</th>\n      <th>school.division</th>\n      <th>school.citymuni</th>\n      <th>school.district</th>\n      <th>school.legdistrict</th>\n      <th>...</th>\n      <th>school.mooe</th>\n      <th>School ID_y</th>\n      <th>rooms.standard.academic</th>\n      <th>rooms.standard.unused</th>\n      <th>rooms.nonstandard.academic</th>\n      <th>rooms.nonstandard.unused</th>\n      <th>teachers.instructor</th>\n      <th>teachers.mobile</th>\n      <th>teachers.regular</th>\n      <th>teachers.sped</th>\n    </tr>\n  </thead>\n  <tbody>\n  </tbody>\n</table>\n<p>0 rows × 62 columns</p>\n</div>"
     },
     "metadata": {}
    }
   ],
   "execution_count": 23
  },
  {
   "cell_type": "code",
   "metadata": {
    "cell_id": "00017-ad47569d-eb80-469e-8af9-8ab9c1082d0f",
    "deepnote_to_be_reexecuted": false,
    "source_hash": "1e1ef51",
    "execution_start": 1621509793024,
    "execution_millis": 216,
    "deepnote_cell_type": "code"
   },
   "source": "master_df[\"MOOE\"] = master_df[\" school.mooe \"]\nmaster_df[\"MOOE\"] = pd.to_numeric(master_df[\"MOOE\"].replace(\",\", \"\", regex = True))\nmaster_df.drop([\"School ID_y\", \" school.mooe \"], axis = 1)",
   "execution_count": 24,
   "outputs": [
    {
     "output_type": "execute_result",
     "execution_count": 24,
     "data": {
      "application/vnd.deepnote.dataframe.v2+json": {
       "row_count": 46603,
       "column_count": 61,
       "columns": [
        {
         "name": "school.id",
         "dtype": "int64",
         "stats": {
          "unique_count": 46603,
          "nan_count": 0,
          "min": "100001",
          "max": "900279",
          "histogram": [
           {
            "bin_start": 100001,
            "bin_end": 180028.8,
            "count": 37079
           },
           {
            "bin_start": 180028.8,
            "bin_end": 260056.6,
            "count": 1603
           },
           {
            "bin_start": 260056.6,
            "bin_end": 340084.4,
            "count": 7919
           },
           {
            "bin_start": 340084.4,
            "bin_end": 420112.2,
            "count": 1
           },
           {
            "bin_start": 420112.2,
            "bin_end": 500140,
            "count": 0
           },
           {
            "bin_start": 500140,
            "bin_end": 580167.8,
            "count": 0
           },
           {
            "bin_start": 580167.8,
            "bin_end": 660195.6,
            "count": 0
           },
           {
            "bin_start": 660195.6,
            "bin_end": 740223.4,
            "count": 0
           },
           {
            "bin_start": 740223.4,
            "bin_end": 820251.2000000001,
            "count": 0
           },
           {
            "bin_start": 820251.2000000001,
            "bin_end": 900279,
            "count": 1
           }
          ]
         }
        },
        {
         "name": "school.name",
         "dtype": "object",
         "stats": {
          "unique_count": 36901,
          "nan_count": 0,
          "categories": [
           {
            "name": "San Isidro ES",
            "count": 192
           },
           {
            "name": "San Jose ES",
            "count": 155
           },
           {
            "name": "36899 others",
            "count": 46256
           }
          ]
         }
        },
        {
         "name": "school.region",
         "dtype": "object"
        },
        {
         "name": "school.region.name",
         "dtype": "object"
        },
        {
         "name": "school.province",
         "dtype": "object"
        },
        {
         "name": "school.cityhall",
         "dtype": "object"
        },
        {
         "name": "school.division",
         "dtype": "object"
        },
        {
         "name": "school.citymuni",
         "dtype": "object"
        },
        {
         "name": "school.district",
         "dtype": "object"
        },
        {
         "name": "school.legdistrict",
         "dtype": "object"
        },
        {
         "name": "school.type",
         "dtype": "object"
        },
        {
         "name": "school.abbrev",
         "dtype": "object"
        },
        {
         "name": "school.previousname",
         "dtype": "object"
        },
        {
         "name": "school.mother.id",
         "dtype": "float64"
        },
        {
         "name": "school.address",
         "dtype": "object"
        },
        {
         "name": "school.established",
         "dtype": "object"
        },
        {
         "name": "school.classification",
         "dtype": "object"
        },
        {
         "name": "school.classification2",
         "dtype": "object"
        },
        {
         "name": "school.curricularclass",
         "dtype": "object"
        },
        {
         "name": "school.organization",
         "dtype": "object"
        },
        {
         "name": "school.cityincome",
         "dtype": "object"
        },
        {
         "name": "school.cityclass",
         "dtype": "object"
        },
        {
         "name": "school.urban",
         "dtype": "object"
        },
        {
         "name": "School ID_x",
         "dtype": "float64"
        },
        {
         "name": "Kinder Male",
         "dtype": "float64"
        },
        {
         "name": "Kinder Female",
         "dtype": "float64"
        },
        {
         "name": "Grade 1 Male",
         "dtype": "float64"
        },
        {
         "name": "Grade 1 Female",
         "dtype": "float64"
        },
        {
         "name": "Grade 2 Male",
         "dtype": "float64"
        },
        {
         "name": "Grade 2 Female",
         "dtype": "float64"
        },
        {
         "name": "Grade 3 Male",
         "dtype": "float64"
        },
        {
         "name": "Grade 3 Female",
         "dtype": "float64"
        },
        {
         "name": "Grade 4 Male",
         "dtype": "float64"
        },
        {
         "name": "Grade 4 Female",
         "dtype": "float64"
        },
        {
         "name": "Grade 5 Male",
         "dtype": "float64"
        },
        {
         "name": "Grade 5 Female",
         "dtype": "float64"
        },
        {
         "name": "Grade 6 Male",
         "dtype": "float64"
        },
        {
         "name": "Grade 6 Female",
         "dtype": "float64"
        },
        {
         "name": "SPED NG Male",
         "dtype": "float64"
        },
        {
         "name": "SPED NG Female",
         "dtype": "float64"
        },
        {
         "name": "Grade 7 Male",
         "dtype": "float64"
        },
        {
         "name": "Grade 7 Female",
         "dtype": "float64"
        },
        {
         "name": "Grade 8 Male",
         "dtype": "float64"
        },
        {
         "name": "Grade 8 Female",
         "dtype": "float64"
        },
        {
         "name": "Grade 9 Male",
         "dtype": "float64"
        },
        {
         "name": "Grade 9 Female",
         "dtype": "float64"
        },
        {
         "name": "Grade 10 Male",
         "dtype": "float64"
        },
        {
         "name": "Grade 10 Female",
         "dtype": "float64"
        },
        {
         "name": "Grade 11 Male",
         "dtype": "float64"
        },
        {
         "name": "Grade 11 Female",
         "dtype": "float64"
        },
        {
         "name": "Grade 12 Male",
         "dtype": "float64"
        },
        {
         "name": "Grade 12 Female",
         "dtype": "float64"
        },
        {
         "name": "rooms.standard.academic",
         "dtype": "float64"
        },
        {
         "name": "rooms.standard.unused",
         "dtype": "float64"
        },
        {
         "name": "rooms.nonstandard.academic",
         "dtype": "float64"
        },
        {
         "name": "rooms.nonstandard.unused",
         "dtype": "float64"
        },
        {
         "name": "teachers.instructor",
         "dtype": "float64"
        },
        {
         "name": "teachers.mobile",
         "dtype": "float64"
        },
        {
         "name": "teachers.regular",
         "dtype": "float64"
        },
        {
         "name": "teachers.sped",
         "dtype": "float64"
        },
        {
         "name": "MOOE",
         "dtype": "float64"
        },
        {
         "name": "_deepnote_index_column",
         "dtype": "int64"
        }
       ],
       "rows_top": [
        {
         "school.id": 101746,
         "school.name": "A. Diaz, Sr. ES",
         "school.region": "Region I",
         "school.region.name": "Ilocos Region",
         "school.province": "PANGASINAN",
         "school.cityhall": "PANGASINAN",
         "school.division": "Pangasinan II, Binalonan",
         "school.citymuni": "BAUTISTA",
         "school.district": "Bautista",
         "school.legdistrict": "5th District",
         "school.type": "School with no Annexes",
         "school.abbrev": "ADSES",
         "school.previousname": "none",
         "school.mother.id": 101746,
         "school.address": "Brgy. Dias Bautista, Pang",
         "school.established": "1/1/1930",
         "school.classification": "Elementary",
         "school.classification2": "DepED Managed",
         "school.curricularclass": "Elementary",
         "school.organization": "Monograde",
         "school.cityincome": "P 25 M or more but less than P 35 M",
         "school.cityclass": "nan",
         "school.urban": "Partially Urban",
         "School ID_x": 101746,
         "Kinder Male": 57,
         "Kinder Female": 45,
         "Grade 1 Male": 56,
         "Grade 1 Female": 58,
         "Grade 2 Male": 63,
         "Grade 2 Female": 61,
         "Grade 3 Male": 55,
         "Grade 3 Female": 61,
         "Grade 4 Male": 62,
         "Grade 4 Female": 55,
         "Grade 5 Male": 61,
         "Grade 5 Female": 48,
         "Grade 6 Male": 48,
         "Grade 6 Female": 51,
         "SPED NG Male": 0,
         "SPED NG Female": 0,
         "Grade 7 Male": "nan",
         "Grade 7 Female": "nan",
         "Grade 8 Male": "nan",
         "Grade 8 Female": "nan",
         "Grade 9 Male": "nan",
         "Grade 9 Female": "nan",
         "Grade 10 Male": "nan",
         "Grade 10 Female": "nan",
         "Grade 11 Male": "nan",
         "Grade 11 Female": "nan",
         "Grade 12 Male": "nan",
         "Grade 12 Female": "nan",
         "rooms.standard.academic": 15,
         "rooms.standard.unused": 0,
         "rooms.nonstandard.academic": 0,
         "rooms.nonstandard.unused": 0,
         "teachers.instructor": 0,
         "teachers.mobile": 1,
         "teachers.regular": 20,
         "teachers.sped": 0,
         "MOOE": 341000,
         "_deepnote_index_column": 0
        },
        {
         "school.id": 102193,
         "school.name": "A. P. Santos ES (SPED Center)",
         "school.region": "Region I",
         "school.region.name": "Ilocos Region",
         "school.province": "ILOCOS NORTE",
         "school.cityhall": "ILOCOS NORTE",
         "school.division": "Laoag City",
         "school.citymuni": "LAOAG CITY (Capital)",
         "school.district": "Laoag City District II",
         "school.legdistrict": "1st District",
         "school.type": "School with no Annexes",
         "school.abbrev": "APSES",
         "school.previousname": "-",
         "school.mother.id": 102193,
         "school.address": "A.G. Tupaz",
         "school.established": "1/1/1944",
         "school.classification": "Elementary",
         "school.classification2": "DepED Managed",
         "school.curricularclass": "Kinder & Elementary",
         "school.organization": "Monograde",
         "school.cityincome": "P 240 M or more but less than P 320 M",
         "school.cityclass": "Component City",
         "school.urban": "Partially Urban",
         "School ID_x": 102193,
         "Kinder Male": 20,
         "Kinder Female": 24,
         "Grade 1 Male": 38,
         "Grade 1 Female": 30,
         "Grade 2 Male": 37,
         "Grade 2 Female": 18,
         "Grade 3 Male": 29,
         "Grade 3 Female": 33,
         "Grade 4 Male": 23,
         "Grade 4 Female": 41,
         "Grade 5 Male": 39,
         "Grade 5 Female": 27,
         "Grade 6 Male": 26,
         "Grade 6 Female": 26,
         "SPED NG Male": 32,
         "SPED NG Female": 22,
         "Grade 7 Male": "nan",
         "Grade 7 Female": "nan",
         "Grade 8 Male": "nan",
         "Grade 8 Female": "nan",
         "Grade 9 Male": "nan",
         "Grade 9 Female": "nan",
         "Grade 10 Male": "nan",
         "Grade 10 Female": "nan",
         "Grade 11 Male": "nan",
         "Grade 11 Female": "nan",
         "Grade 12 Male": "nan",
         "Grade 12 Female": "nan",
         "rooms.standard.academic": 13,
         "rooms.standard.unused": 3,
         "rooms.nonstandard.academic": 0,
         "rooms.nonstandard.unused": 0,
         "teachers.instructor": 0,
         "teachers.mobile": 2,
         "teachers.regular": 12,
         "teachers.sped": 4,
         "MOOE": 275000,
         "_deepnote_index_column": 1
        },
        {
         "school.id": 101283,
         "school.name": "A.P. Guevara IS",
         "school.region": "Region I",
         "school.region.name": "Ilocos Region",
         "school.province": "PANGASINAN",
         "school.cityhall": "PANGASINAN",
         "school.division": "Pangasinan I, Lingayen",
         "school.citymuni": "BAYAMBANG",
         "school.district": "Bayambang II",
         "school.legdistrict": "3rd District",
         "school.type": "School with no Annexes",
         "school.abbrev": "nan",
         "school.previousname": "A.P. Guevarra IS",
         "school.mother.id": 101283,
         "school.address": "-",
         "school.established": "1/1/1945",
         "school.classification": "Elementary",
         "school.classification2": "DepED Managed",
         "school.curricularclass": "Elementary",
         "school.organization": "Monograde",
         "school.cityincome": "P 55 M or more",
         "school.cityclass": "nan",
         "school.urban": "Partially Urban",
         "School ID_x": 101283,
         "Kinder Male": 16,
         "Kinder Female": 11,
         "Grade 1 Male": 11,
         "Grade 1 Female": 10,
         "Grade 2 Male": 9,
         "Grade 2 Female": 13,
         "Grade 3 Male": 15,
         "Grade 3 Female": 13,
         "Grade 4 Male": 14,
         "Grade 4 Female": 11,
         "Grade 5 Male": 23,
         "Grade 5 Female": 13,
         "Grade 6 Male": 7,
         "Grade 6 Female": 9,
         "SPED NG Male": 0,
         "SPED NG Female": 0,
         "Grade 7 Male": "nan",
         "Grade 7 Female": "nan",
         "Grade 8 Male": "nan",
         "Grade 8 Female": "nan",
         "Grade 9 Male": "nan",
         "Grade 9 Female": "nan",
         "Grade 10 Male": "nan",
         "Grade 10 Female": "nan",
         "Grade 11 Male": "nan",
         "Grade 11 Female": "nan",
         "Grade 12 Male": "nan",
         "Grade 12 Female": "nan",
         "rooms.standard.academic": 7,
         "rooms.standard.unused": 0,
         "rooms.nonstandard.academic": 0,
         "rooms.nonstandard.unused": 0,
         "teachers.instructor": 0,
         "teachers.mobile": 1,
         "teachers.regular": 6,
         "teachers.sped": 0,
         "MOOE": 132000,
         "_deepnote_index_column": 2
        },
        {
         "school.id": 100216,
         "school.name": "Ab-Abut ES",
         "school.region": "Region I",
         "school.region.name": "Ilocos Region",
         "school.province": "ILOCOS NORTE",
         "school.cityhall": "ILOCOS NORTE",
         "school.division": "Ilocos Norte",
         "school.citymuni": "PIDDIG",
         "school.district": "Piddig",
         "school.legdistrict": "1st District",
         "school.type": "School with no Annexes",
         "school.abbrev": "AES",
         "school.previousname": "-",
         "school.mother.id": 100216,
         "school.address": "Sucsuquen",
         "school.established": "1/1/1964",
         "school.classification": "Elementary",
         "school.classification2": "DepED Managed",
         "school.curricularclass": "Elementary",
         "school.organization": "Monograde",
         "school.cityincome": "P 35 M or more but less than P 45 M",
         "school.cityclass": "nan",
         "school.urban": "Partially Urban",
         "School ID_x": 100216,
         "Kinder Male": 10,
         "Kinder Female": 6,
         "Grade 1 Male": 10,
         "Grade 1 Female": 17,
         "Grade 2 Male": 22,
         "Grade 2 Female": 11,
         "Grade 3 Male": 22,
         "Grade 3 Female": 12,
         "Grade 4 Male": 12,
         "Grade 4 Female": 11,
         "Grade 5 Male": 16,
         "Grade 5 Female": 7,
         "Grade 6 Male": 13,
         "Grade 6 Female": 10,
         "SPED NG Male": 0,
         "SPED NG Female": 0,
         "Grade 7 Male": "nan",
         "Grade 7 Female": "nan",
         "Grade 8 Male": "nan",
         "Grade 8 Female": "nan",
         "Grade 9 Male": "nan",
         "Grade 9 Female": "nan",
         "Grade 10 Male": "nan",
         "Grade 10 Female": "nan",
         "Grade 11 Male": "nan",
         "Grade 11 Female": "nan",
         "Grade 12 Male": "nan",
         "Grade 12 Female": "nan",
         "rooms.standard.academic": 6,
         "rooms.standard.unused": 0,
         "rooms.nonstandard.academic": 0,
         "rooms.nonstandard.unused": 0,
         "teachers.instructor": 0,
         "teachers.mobile": 1,
         "teachers.regular": 6,
         "teachers.sped": 0,
         "MOOE": 135000,
         "_deepnote_index_column": 3
        },
        {
         "school.id": 100043,
         "school.name": "Abaca ES",
         "school.region": "Region I",
         "school.region.name": "Ilocos Region",
         "school.province": "ILOCOS NORTE",
         "school.cityhall": "ILOCOS NORTE",
         "school.division": "Ilocos Norte",
         "school.citymuni": "BANGUI",
         "school.district": "Bangui",
         "school.legdistrict": "1st District",
         "school.type": "School with no Annexes",
         "school.abbrev": "AES",
         "school.previousname": "none",
         "school.mother.id": 100043,
         "school.address": "None",
         "school.established": "1/1/1979",
         "school.classification": "Elementary",
         "school.classification2": "DepED Managed",
         "school.curricularclass": "Elementary",
         "school.organization": "Monograde",
         "school.cityincome": "P 25 M or more but less than P 35 M",
         "school.cityclass": "nan",
         "school.urban": "Partially Urban",
         "School ID_x": 100043,
         "Kinder Male": 12,
         "Kinder Female": 13,
         "Grade 1 Male": 22,
         "Grade 1 Female": 26,
         "Grade 2 Male": 17,
         "Grade 2 Female": 14,
         "Grade 3 Male": 16,
         "Grade 3 Female": 22,
         "Grade 4 Male": 24,
         "Grade 4 Female": 15,
         "Grade 5 Male": 28,
         "Grade 5 Female": 19,
         "Grade 6 Male": 26,
         "Grade 6 Female": 17,
         "SPED NG Male": 0,
         "SPED NG Female": 0,
         "Grade 7 Male": "nan",
         "Grade 7 Female": "nan",
         "Grade 8 Male": "nan",
         "Grade 8 Female": "nan",
         "Grade 9 Male": "nan",
         "Grade 9 Female": "nan",
         "Grade 10 Male": "nan",
         "Grade 10 Female": "nan",
         "Grade 11 Male": "nan",
         "Grade 11 Female": "nan",
         "Grade 12 Male": "nan",
         "Grade 12 Female": "nan",
         "rooms.standard.academic": 9,
         "rooms.standard.unused": 0,
         "rooms.nonstandard.academic": 0,
         "rooms.nonstandard.unused": 0,
         "teachers.instructor": 0,
         "teachers.mobile": 1,
         "teachers.regular": 8,
         "teachers.sped": 0,
         "MOOE": 182000,
         "_deepnote_index_column": 4
        },
        {
         "school.id": 100554,
         "school.name": "Abaccan ES",
         "school.region": "Region I",
         "school.region.name": "Ilocos Region",
         "school.province": "ILOCOS SUR",
         "school.cityhall": "ILOCOS SUR",
         "school.division": "Ilocos Sur",
         "school.citymuni": "SIGAY",
         "school.district": "Salcedo-Galimuyod-Sigay-Del Pilar",
         "school.legdistrict": "2nd District",
         "school.type": "School with no Annexes",
         "school.abbrev": "nan",
         "school.previousname": "-",
         "school.mother.id": 100554,
         "school.address": "-n/a",
         "school.established": "1/1/2000",
         "school.classification": "Elementary",
         "school.classification2": "DepED Managed",
         "school.curricularclass": "Kinder & Elementary",
         "school.organization": "Combined Monograde and Multigrade",
         "school.cityincome": "P 15 M or more but less than P 25 M",
         "school.cityclass": "nan",
         "school.urban": "Rural",
         "School ID_x": 100554,
         "Kinder Male": 1,
         "Kinder Female": 1,
         "Grade 1 Male": 0,
         "Grade 1 Female": 2,
         "Grade 2 Male": 3,
         "Grade 2 Female": 0,
         "Grade 3 Male": 5,
         "Grade 3 Female": 4,
         "Grade 4 Male": 3,
         "Grade 4 Female": 7,
         "Grade 5 Male": 2,
         "Grade 5 Female": 3,
         "Grade 6 Male": 4,
         "Grade 6 Female": 3,
         "SPED NG Male": 0,
         "SPED NG Female": 0,
         "Grade 7 Male": "nan",
         "Grade 7 Female": "nan",
         "Grade 8 Male": "nan",
         "Grade 8 Female": "nan",
         "Grade 9 Male": "nan",
         "Grade 9 Female": "nan",
         "Grade 10 Male": "nan",
         "Grade 10 Female": "nan",
         "Grade 11 Male": "nan",
         "Grade 11 Female": "nan",
         "Grade 12 Male": "nan",
         "Grade 12 Female": "nan",
         "rooms.standard.academic": 5,
         "rooms.standard.unused": 0,
         "rooms.nonstandard.academic": 0,
         "rooms.nonstandard.unused": 0,
         "teachers.instructor": 0,
         "teachers.mobile": 1,
         "teachers.regular": 3,
         "teachers.sped": 0,
         "MOOE": 92000,
         "_deepnote_index_column": 5
        },
        {
         "school.id": 101131,
         "school.name": "Abagatanen IS",
         "school.region": "Region I",
         "school.region.name": "Ilocos Region",
         "school.province": "PANGASINAN",
         "school.cityhall": "PANGASINAN",
         "school.division": "Pangasinan I, Lingayen",
         "school.citymuni": "AGNO",
         "school.district": "Agno",
         "school.legdistrict": "1st District",
         "school.type": "School with no Annexes",
         "school.abbrev": "nan",
         "school.previousname": "Abagatanen ES-",
         "school.mother.id": 101131,
         "school.address": "ABAGATANEN",
         "school.established": "1/1/1955",
         "school.classification": "Elementary",
         "school.classification2": "DepED Managed",
         "school.curricularclass": "Elementary",
         "school.organization": "Monograde",
         "school.cityincome": "P 35 M or more but less than P 45 M",
         "school.cityclass": "nan",
         "school.urban": "Partially Urban",
         "School ID_x": 101131,
         "Kinder Male": 18,
         "Kinder Female": 18,
         "Grade 1 Male": 14,
         "Grade 1 Female": 18,
         "Grade 2 Male": 27,
         "Grade 2 Female": 17,
         "Grade 3 Male": 28,
         "Grade 3 Female": 16,
         "Grade 4 Male": 16,
         "Grade 4 Female": 20,
         "Grade 5 Male": 19,
         "Grade 5 Female": 12,
         "Grade 6 Male": 10,
         "Grade 6 Female": 13,
         "SPED NG Male": 0,
         "SPED NG Female": 0,
         "Grade 7 Male": "nan",
         "Grade 7 Female": "nan",
         "Grade 8 Male": "nan",
         "Grade 8 Female": "nan",
         "Grade 9 Male": "nan",
         "Grade 9 Female": "nan",
         "Grade 10 Male": "nan",
         "Grade 10 Female": "nan",
         "Grade 11 Male": "nan",
         "Grade 11 Female": "nan",
         "Grade 12 Male": "nan",
         "Grade 12 Female": "nan",
         "rooms.standard.academic": 6,
         "rooms.standard.unused": 0,
         "rooms.nonstandard.academic": 0,
         "rooms.nonstandard.unused": 0,
         "teachers.instructor": 0,
         "teachers.mobile": 0,
         "teachers.regular": 6,
         "teachers.sped": 0,
         "MOOE": 148000,
         "_deepnote_index_column": 6
        },
        {
         "school.id": 102252,
         "school.name": "Abanon Central School",
         "school.region": "Region I",
         "school.region.name": "Ilocos Region",
         "school.province": "PANGASINAN",
         "school.cityhall": "PANGASINAN",
         "school.division": "San Carlos City",
         "school.citymuni": "SAN CARLOS CITY",
         "school.district": "San Carlos City District IV",
         "school.legdistrict": "3rd District",
         "school.type": "School with no Annexes",
         "school.abbrev": "Abanon CS",
         "school.previousname": "Abanon Central Elementary School",
         "school.mother.id": 102252,
         "school.address": "-Brgy. Abanon, San Carlos City",
         "school.established": "1/1/2000",
         "school.classification": "Elementary",
         "school.classification2": "DepED Managed",
         "school.curricularclass": "Elementary",
         "school.organization": "Monograde",
         "school.cityincome": "P 240 M or more but less than P 320 M",
         "school.cityclass": "Component City",
         "school.urban": "Partially Urban",
         "School ID_x": 102252,
         "Kinder Male": 53,
         "Kinder Female": 49,
         "Grade 1 Male": 61,
         "Grade 1 Female": 68,
         "Grade 2 Male": 85,
         "Grade 2 Female": 53,
         "Grade 3 Male": 65,
         "Grade 3 Female": 64,
         "Grade 4 Male": 71,
         "Grade 4 Female": 58,
         "Grade 5 Male": 56,
         "Grade 5 Female": 56,
         "Grade 6 Male": 58,
         "Grade 6 Female": 51,
         "SPED NG Male": 5,
         "SPED NG Female": 1,
         "Grade 7 Male": "nan",
         "Grade 7 Female": "nan",
         "Grade 8 Male": "nan",
         "Grade 8 Female": "nan",
         "Grade 9 Male": "nan",
         "Grade 9 Female": "nan",
         "Grade 10 Male": "nan",
         "Grade 10 Female": "nan",
         "Grade 11 Male": "nan",
         "Grade 11 Female": "nan",
         "Grade 12 Male": "nan",
         "Grade 12 Female": "nan",
         "rooms.standard.academic": 24,
         "rooms.standard.unused": 0,
         "rooms.nonstandard.academic": 0,
         "rooms.nonstandard.unused": 0,
         "teachers.instructor": 0,
         "teachers.mobile": 4,
         "teachers.regular": 22,
         "teachers.sped": 1,
         "MOOE": 440000,
         "_deepnote_index_column": 7
        }
       ],
       "rows_bottom": [
        {
         "school.id": 320605,
         "school.name": "Upper Bicutan National High School",
         "school.region": "NCR",
         "school.region.name": "National Capital Region",
         "school.province": "NCR FOURTH DISTRICT",
         "school.cityhall": "TAGUIG CITY",
         "school.division": "Taguig",
         "school.citymuni": "TAGUIG CITY",
         "school.district": "Taguig District II",
         "school.legdistrict": "2nd District",
         "school.type": "School with no Annexes",
         "school.abbrev": "UBNHS",
         "school.previousname": "-",
         "school.mother.id": 320605,
         "school.address": "General Santos Avenue",
         "school.established": "1/1/2005",
         "school.classification": "Secondary",
         "school.classification2": "DepED Managed",
         "school.curricularclass": "Secondary",
         "school.organization": "Monograde",
         "school.cityincome": "P 400 M or more",
         "school.cityclass": "Highly Urbanized City",
         "school.urban": "Urban",
         "School ID_x": 320605,
         "Kinder Male": "nan",
         "Kinder Female": "nan",
         "Grade 1 Male": "nan",
         "Grade 1 Female": "nan",
         "Grade 2 Male": "nan",
         "Grade 2 Female": "nan",
         "Grade 3 Male": "nan",
         "Grade 3 Female": "nan",
         "Grade 4 Male": "nan",
         "Grade 4 Female": "nan",
         "Grade 5 Male": "nan",
         "Grade 5 Female": "nan",
         "Grade 6 Male": "nan",
         "Grade 6 Female": "nan",
         "SPED NG Male": "nan",
         "SPED NG Female": "nan",
         "Grade 7 Male": 695,
         "Grade 7 Female": 595,
         "Grade 8 Male": 536,
         "Grade 8 Female": 548,
         "Grade 9 Male": 548,
         "Grade 9 Female": 543,
         "Grade 10 Male": 511,
         "Grade 10 Female": 473,
         "Grade 11 Male": 0,
         "Grade 11 Female": 0,
         "Grade 12 Male": 0,
         "Grade 12 Female": 0,
         "rooms.standard.academic": 27,
         "rooms.standard.unused": 0,
         "rooms.nonstandard.academic": 2,
         "rooms.nonstandard.unused": 0,
         "teachers.instructor": 0,
         "teachers.mobile": 2,
         "teachers.regular": 99,
         "teachers.sped": 0,
         "MOOE": 3355000,
         "_deepnote_index_column": 46595
        },
        {
         "school.id": 320401,
         "school.name": "Valenzuela City Science HS",
         "school.region": "NCR",
         "school.region.name": "National Capital Region",
         "school.province": "NCR THIRD DISTRICT",
         "school.cityhall": "CITY OF VALENZUELA",
         "school.division": "Valenzuela City",
         "school.citymuni": "CITY OF VALENZUELA",
         "school.district": "Valenzuela City Central District",
         "school.legdistrict": "1st District",
         "school.type": "School with no Annexes",
         "school.abbrev": "nan",
         "school.previousname": "-",
         "school.mother.id": 320401,
         "school.address": "A. Marcelo",
         "school.established": "1/1/2003",
         "school.classification": "Secondary",
         "school.classification2": "DepED Managed",
         "school.curricularclass": "Secondary",
         "school.organization": "Monograde",
         "school.cityincome": "P 400 M or more",
         "school.cityclass": "Highly Urbanized City",
         "school.urban": "Urban",
         "School ID_x": 320401,
         "Kinder Male": "nan",
         "Kinder Female": "nan",
         "Grade 1 Male": "nan",
         "Grade 1 Female": "nan",
         "Grade 2 Male": "nan",
         "Grade 2 Female": "nan",
         "Grade 3 Male": "nan",
         "Grade 3 Female": "nan",
         "Grade 4 Male": "nan",
         "Grade 4 Female": "nan",
         "Grade 5 Male": "nan",
         "Grade 5 Female": "nan",
         "Grade 6 Male": "nan",
         "Grade 6 Female": "nan",
         "SPED NG Male": "nan",
         "SPED NG Female": "nan",
         "Grade 7 Male": 102,
         "Grade 7 Female": 180,
         "Grade 8 Male": 93,
         "Grade 8 Female": 142,
         "Grade 9 Male": 69,
         "Grade 9 Female": 79,
         "Grade 10 Male": 52,
         "Grade 10 Female": 52,
         "Grade 11 Male": 0,
         "Grade 11 Female": 0,
         "Grade 12 Male": 0,
         "Grade 12 Female": 0,
         "rooms.standard.academic": 12,
         "rooms.standard.unused": 0,
         "rooms.nonstandard.academic": 0,
         "rooms.nonstandard.unused": 0,
         "teachers.instructor": 0,
         "teachers.mobile": 2,
         "teachers.regular": 16,
         "teachers.sped": 0,
         "MOOE": 621000,
         "_deepnote_index_column": 46596
        },
        {
         "school.id": 305441,
         "school.name": "Valenzuela NHS",
         "school.region": "NCR",
         "school.region.name": "National Capital Region",
         "school.province": "NCR THIRD DISTRICT",
         "school.cityhall": "CITY OF VALENZUELA",
         "school.division": "Valenzuela City",
         "school.citymuni": "CITY OF VALENZUELA",
         "school.district": "Valenzuela City Central District",
         "school.legdistrict": "2nd District",
         "school.type": "School with no Annexes",
         "school.abbrev": "nan",
         "school.previousname": "-",
         "school.mother.id": 305441,
         "school.address": "A. FERNANDO ST., MARULAS,",
         "school.established": "1/1/1969",
         "school.classification": "Secondary",
         "school.classification2": "DepED Managed",
         "school.curricularclass": "Secondary",
         "school.organization": "Monograde",
         "school.cityincome": "P 400 M or more",
         "school.cityclass": "Highly Urbanized City",
         "school.urban": "Urban",
         "School ID_x": 305441,
         "Kinder Male": "nan",
         "Kinder Female": "nan",
         "Grade 1 Male": "nan",
         "Grade 1 Female": "nan",
         "Grade 2 Male": "nan",
         "Grade 2 Female": "nan",
         "Grade 3 Male": "nan",
         "Grade 3 Female": "nan",
         "Grade 4 Male": "nan",
         "Grade 4 Female": "nan",
         "Grade 5 Male": "nan",
         "Grade 5 Female": "nan",
         "Grade 6 Male": "nan",
         "Grade 6 Female": "nan",
         "SPED NG Male": "nan",
         "SPED NG Female": "nan",
         "Grade 7 Male": 461,
         "Grade 7 Female": 405,
         "Grade 8 Male": 424,
         "Grade 8 Female": 391,
         "Grade 9 Male": 423,
         "Grade 9 Female": 395,
         "Grade 10 Male": 363,
         "Grade 10 Female": 356,
         "Grade 11 Male": 0,
         "Grade 11 Female": 0,
         "Grade 12 Male": 0,
         "Grade 12 Female": 0,
         "rooms.standard.academic": 33,
         "rooms.standard.unused": 0,
         "rooms.nonstandard.academic": 0,
         "rooms.nonstandard.unused": 0,
         "teachers.instructor": 0,
         "teachers.mobile": 18,
         "teachers.regular": 84,
         "teachers.sped": 1,
         "MOOE": 2924000,
         "_deepnote_index_column": 46597
        },
        {
         "school.id": 305308,
         "school.name": "Valeriano E. Fugoso Memorial High School",
         "school.region": "NCR",
         "school.region.name": "National Capital Region",
         "school.province": "MANILA, NCR, FIRST DISTRICT",
         "school.cityhall": "MANILA, NCR, FIRST DISTRICT",
         "school.division": "Manila",
         "school.citymuni": "SAMPALOC",
         "school.district": "Sampaloc V",
         "school.legdistrict": "4th District",
         "school.type": "School with no Annexes",
         "school.abbrev": "Fugoso HS",
         "school.previousname": "-",
         "school.mother.id": 305308,
         "school.address": "Boys Town Complex, Parang, Marikina City",
         "school.established": "1/1/1947",
         "school.classification": "Secondary",
         "school.classification2": "DepED Managed",
         "school.curricularclass": "Secondary",
         "school.organization": "Monograde",
         "school.cityincome": "nan",
         "school.cityclass": "Highly Urbanized City",
         "school.urban": "Urban",
         "School ID_x": 305308,
         "Kinder Male": "nan",
         "Kinder Female": "nan",
         "Grade 1 Male": "nan",
         "Grade 1 Female": "nan",
         "Grade 2 Male": "nan",
         "Grade 2 Female": "nan",
         "Grade 3 Male": "nan",
         "Grade 3 Female": "nan",
         "Grade 4 Male": "nan",
         "Grade 4 Female": "nan",
         "Grade 5 Male": "nan",
         "Grade 5 Female": "nan",
         "Grade 6 Male": "nan",
         "Grade 6 Female": "nan",
         "SPED NG Male": "nan",
         "SPED NG Female": "nan",
         "Grade 7 Male": 92,
         "Grade 7 Female": 132,
         "Grade 8 Male": 85,
         "Grade 8 Female": 106,
         "Grade 9 Male": 76,
         "Grade 9 Female": 112,
         "Grade 10 Male": 58,
         "Grade 10 Female": 83,
         "Grade 11 Male": 0,
         "Grade 11 Female": 0,
         "Grade 12 Male": 0,
         "Grade 12 Female": 0,
         "rooms.standard.academic": 17,
         "rooms.standard.unused": 0,
         "rooms.nonstandard.academic": 0,
         "rooms.nonstandard.unused": 0,
         "teachers.instructor": 0,
         "teachers.mobile": 7,
         "teachers.regular": 39,
         "teachers.sped": 0,
         "MOOE": 986000,
         "_deepnote_index_column": 46598
        },
        {
         "school.id": 320402,
         "school.name": "Vicente Trinidad NHS (Punturin NHS)",
         "school.region": "NCR",
         "school.region.name": "National Capital Region",
         "school.province": "NCR THIRD DISTRICT",
         "school.cityhall": "CITY OF VALENZUELA",
         "school.division": "Valenzuela City",
         "school.citymuni": "CITY OF VALENZUELA",
         "school.district": "Valenzuela City Central District",
         "school.legdistrict": "1st District",
         "school.type": "School with no Annexes",
         "school.abbrev": "VPTNHS",
         "school.previousname": "Punturin National High School",
         "school.mother.id": 320402,
         "school.address": "Ruby st., Sta. Lucia Village Phase V",
         "school.established": "1/1/2003",
         "school.classification": "Secondary",
         "school.classification2": "DepED Managed",
         "school.curricularclass": "Secondary",
         "school.organization": "Monograde",
         "school.cityincome": "P 400 M or more",
         "school.cityclass": "Highly Urbanized City",
         "school.urban": "Urban",
         "School ID_x": 320402,
         "Kinder Male": "nan",
         "Kinder Female": "nan",
         "Grade 1 Male": "nan",
         "Grade 1 Female": "nan",
         "Grade 2 Male": "nan",
         "Grade 2 Female": "nan",
         "Grade 3 Male": "nan",
         "Grade 3 Female": "nan",
         "Grade 4 Male": "nan",
         "Grade 4 Female": "nan",
         "Grade 5 Male": "nan",
         "Grade 5 Female": "nan",
         "Grade 6 Male": "nan",
         "Grade 6 Female": "nan",
         "SPED NG Male": "nan",
         "SPED NG Female": "nan",
         "Grade 7 Male": 267,
         "Grade 7 Female": 270,
         "Grade 8 Male": 296,
         "Grade 8 Female": 275,
         "Grade 9 Male": 265,
         "Grade 9 Female": 267,
         "Grade 10 Male": 239,
         "Grade 10 Female": 234,
         "Grade 11 Male": 0,
         "Grade 11 Female": 0,
         "Grade 12 Male": 0,
         "Grade 12 Female": 0,
         "rooms.standard.academic": 23,
         "rooms.standard.unused": 0,
         "rooms.nonstandard.academic": 0,
         "rooms.nonstandard.unused": 0,
         "teachers.instructor": 0,
         "teachers.mobile": 4,
         "teachers.regular": 41,
         "teachers.sped": 0,
         "MOOE": 1798000,
         "_deepnote_index_column": 46599
        },
        {
         "school.id": 305315,
         "school.name": "Victoriano Mapa High School",
         "school.region": "NCR",
         "school.region.name": "National Capital Region",
         "school.province": "MANILA, NCR, FIRST DISTRICT",
         "school.cityhall": "MANILA, NCR, FIRST DISTRICT",
         "school.division": "Manila",
         "school.citymuni": "SAN MIGUEL",
         "school.district": "Sta. Cruz V",
         "school.legdistrict": "6th District",
         "school.type": "School with no Annexes",
         "school.abbrev": "VMHS",
         "school.previousname": "MANILA EAST HS",
         "school.mother.id": 305315,
         "school.address": "300 San Rafael St., San Miguel,",
         "school.established": "1/1/1923",
         "school.classification": "Secondary",
         "school.classification2": "DepED Managed",
         "school.curricularclass": "Secondary",
         "school.organization": "Monograde",
         "school.cityincome": "nan",
         "school.cityclass": "Highly Urbanized City",
         "school.urban": "Urban",
         "School ID_x": 305315,
         "Kinder Male": "nan",
         "Kinder Female": "nan",
         "Grade 1 Male": "nan",
         "Grade 1 Female": "nan",
         "Grade 2 Male": "nan",
         "Grade 2 Female": "nan",
         "Grade 3 Male": "nan",
         "Grade 3 Female": "nan",
         "Grade 4 Male": "nan",
         "Grade 4 Female": "nan",
         "Grade 5 Male": "nan",
         "Grade 5 Female": "nan",
         "Grade 6 Male": "nan",
         "Grade 6 Female": "nan",
         "SPED NG Male": "nan",
         "SPED NG Female": "nan",
         "Grade 7 Male": 516,
         "Grade 7 Female": 549,
         "Grade 8 Male": 472,
         "Grade 8 Female": 532,
         "Grade 9 Male": 412,
         "Grade 9 Female": 457,
         "Grade 10 Male": 401,
         "Grade 10 Female": 441,
         "Grade 11 Male": 0,
         "Grade 11 Female": 0,
         "Grade 12 Male": 0,
         "Grade 12 Female": 0,
         "rooms.standard.academic": 39,
         "rooms.standard.unused": 0,
         "rooms.nonstandard.academic": 0,
         "rooms.nonstandard.unused": 0,
         "teachers.instructor": 0,
         "teachers.mobile": 27,
         "teachers.regular": 164,
         "teachers.sped": 0,
         "MOOE": 3971000,
         "_deepnote_index_column": 46600
        },
        {
         "school.id": 320407,
         "school.name": "Wawangpulo National High School",
         "school.region": "NCR",
         "school.region.name": "National Capital Region",
         "school.province": "NCR THIRD DISTRICT",
         "school.cityhall": "CITY OF VALENZUELA",
         "school.division": "Valenzuela City",
         "school.citymuni": "CITY OF VALENZUELA",
         "school.district": "Valenzuela City North District",
         "school.legdistrict": "1st District",
         "school.type": "School with no Annexes",
         "school.abbrev": "nan",
         "school.previousname": "Valenzuela NHS-Wawang Pulo Annex",
         "school.mother.id": 320407,
         "school.address": "F. Andaya St.",
         "school.established": "1/1/2008",
         "school.classification": "Secondary",
         "school.classification2": "DepED Managed",
         "school.curricularclass": "Secondary",
         "school.organization": "Monograde",
         "school.cityincome": "P 400 M or more",
         "school.cityclass": "Highly Urbanized City",
         "school.urban": "Urban",
         "School ID_x": 320407,
         "Kinder Male": "nan",
         "Kinder Female": "nan",
         "Grade 1 Male": "nan",
         "Grade 1 Female": "nan",
         "Grade 2 Male": "nan",
         "Grade 2 Female": "nan",
         "Grade 3 Male": "nan",
         "Grade 3 Female": "nan",
         "Grade 4 Male": "nan",
         "Grade 4 Female": "nan",
         "Grade 5 Male": "nan",
         "Grade 5 Female": "nan",
         "Grade 6 Male": "nan",
         "Grade 6 Female": "nan",
         "SPED NG Male": "nan",
         "SPED NG Female": "nan",
         "Grade 7 Male": 98,
         "Grade 7 Female": 76,
         "Grade 8 Male": 106,
         "Grade 8 Female": 54,
         "Grade 9 Male": 80,
         "Grade 9 Female": 58,
         "Grade 10 Male": 55,
         "Grade 10 Female": 44,
         "Grade 11 Male": 0,
         "Grade 11 Female": 0,
         "Grade 12 Male": 0,
         "Grade 12 Female": 0,
         "rooms.standard.academic": 11,
         "rooms.standard.unused": 0,
         "rooms.nonstandard.academic": 0,
         "rooms.nonstandard.unused": 0,
         "teachers.instructor": 0,
         "teachers.mobile": 0,
         "teachers.regular": 6,
         "teachers.sped": 0,
         "MOOE": 539000,
         "_deepnote_index_column": 46601
        },
        {
         "school.id": 305465,
         "school.name": "Western Bicutan NHS",
         "school.region": "NCR",
         "school.region.name": "National Capital Region",
         "school.province": "NCR FOURTH DISTRICT",
         "school.cityhall": "TAGUIG CITY",
         "school.division": "Taguig",
         "school.citymuni": "TAGUIG CITY",
         "school.district": "Taguig District III",
         "school.legdistrict": "2nd District",
         "school.type": "School with no Annexes",
         "school.abbrev": "WBNHS",
         "school.previousname": "N/.A",
         "school.mother.id": 305465,
         "school.address": "EPVillage,Phase 1,Pinagsama,Taguig City",
         "school.established": "1/1/1997",
         "school.classification": "Secondary",
         "school.classification2": "DepED Managed",
         "school.curricularclass": "Secondary",
         "school.organization": "Monograde",
         "school.cityincome": "P 400 M or more",
         "school.cityclass": "Highly Urbanized City",
         "school.urban": "Urban",
         "School ID_x": 305465,
         "Kinder Male": "nan",
         "Kinder Female": "nan",
         "Grade 1 Male": "nan",
         "Grade 1 Female": "nan",
         "Grade 2 Male": "nan",
         "Grade 2 Female": "nan",
         "Grade 3 Male": "nan",
         "Grade 3 Female": "nan",
         "Grade 4 Male": "nan",
         "Grade 4 Female": "nan",
         "Grade 5 Male": "nan",
         "Grade 5 Female": "nan",
         "Grade 6 Male": "nan",
         "Grade 6 Female": "nan",
         "SPED NG Male": "nan",
         "SPED NG Female": "nan",
         "Grade 7 Male": 635,
         "Grade 7 Female": 627,
         "Grade 8 Male": 623,
         "Grade 8 Female": 634,
         "Grade 9 Male": 543,
         "Grade 9 Female": 546,
         "Grade 10 Male": 504,
         "Grade 10 Female": 501,
         "Grade 11 Male": 0,
         "Grade 11 Female": 0,
         "Grade 12 Male": 0,
         "Grade 12 Female": 0,
         "rooms.standard.academic": 44,
         "rooms.standard.unused": 0,
         "rooms.nonstandard.academic": 0,
         "rooms.nonstandard.unused": 0,
         "teachers.instructor": 0,
         "teachers.mobile": 1,
         "teachers.regular": 96,
         "teachers.sped": 0,
         "MOOE": 3595000,
         "_deepnote_index_column": 46602
        }
       ]
      },
      "text/plain": "       school.id                               school.name school.region  \\\n0         101746                           A. Diaz, Sr. ES      Region I   \n1         102193             A. P. Santos ES (SPED Center)      Region I   \n2         101283                           A.P. Guevara IS      Region I   \n3         100216                                Ab-Abut ES      Region I   \n4         100043                                  Abaca ES      Region I   \n...          ...                                       ...           ...   \n46598     305308  Valeriano E. Fugoso Memorial High School           NCR   \n46599     320402       Vicente Trinidad NHS (Punturin NHS)           NCR   \n46600     305315               Victoriano Mapa High School           NCR   \n46601     320407           Wawangpulo National High School           NCR   \n46602     305465                       Western Bicutan NHS           NCR   \n\n            school.region.name              school.province  \\\n0                Ilocos Region                   PANGASINAN   \n1                Ilocos Region                 ILOCOS NORTE   \n2                Ilocos Region                   PANGASINAN   \n3                Ilocos Region                 ILOCOS NORTE   \n4                Ilocos Region                 ILOCOS NORTE   \n...                        ...                          ...   \n46598  National Capital Region  MANILA, NCR, FIRST DISTRICT   \n46599  National Capital Region           NCR THIRD DISTRICT   \n46600  National Capital Region  MANILA, NCR, FIRST DISTRICT   \n46601  National Capital Region           NCR THIRD DISTRICT   \n46602  National Capital Region          NCR FOURTH DISTRICT   \n\n                   school.cityhall           school.division  \\\n0                       PANGASINAN  Pangasinan II, Binalonan   \n1                     ILOCOS NORTE                Laoag City   \n2                       PANGASINAN    Pangasinan I, Lingayen   \n3                     ILOCOS NORTE              Ilocos Norte   \n4                     ILOCOS NORTE              Ilocos Norte   \n...                            ...                       ...   \n46598  MANILA, NCR, FIRST DISTRICT                    Manila   \n46599           CITY OF VALENZUELA           Valenzuela City   \n46600  MANILA, NCR, FIRST DISTRICT                    Manila   \n46601           CITY OF VALENZUELA           Valenzuela City   \n46602                  TAGUIG CITY                    Taguig   \n\n            school.citymuni                   school.district  \\\n0                  BAUTISTA                          Bautista   \n1      LAOAG CITY (Capital)            Laoag City District II   \n2                 BAYAMBANG                      Bayambang II   \n3                    PIDDIG                            Piddig   \n4                    BANGUI                            Bangui   \n...                     ...                               ...   \n46598              SAMPALOC                        Sampaloc V   \n46599    CITY OF VALENZUELA  Valenzuela City Central District   \n46600            SAN MIGUEL                       Sta. Cruz V   \n46601    CITY OF VALENZUELA    Valenzuela City North District   \n46602           TAGUIG CITY               Taguig District III   \n\n      school.legdistrict  ... Grade 12 Female rooms.standard.academic  \\\n0           5th District  ...             NaN                    15.0   \n1           1st District  ...             NaN                    13.0   \n2           3rd District  ...             NaN                     7.0   \n3           1st District  ...             NaN                     6.0   \n4           1st District  ...             NaN                     9.0   \n...                  ...  ...             ...                     ...   \n46598       4th District  ...             0.0                    17.0   \n46599       1st District  ...             0.0                    23.0   \n46600       6th District  ...             0.0                    39.0   \n46601       1st District  ...             0.0                    11.0   \n46602       2nd District  ...             0.0                    44.0   \n\n      rooms.standard.unused  rooms.nonstandard.academic  \\\n0                       0.0                         0.0   \n1                       3.0                         0.0   \n2                       0.0                         0.0   \n3                       0.0                         0.0   \n4                       0.0                         0.0   \n...                     ...                         ...   \n46598                   0.0                         0.0   \n46599                   0.0                         0.0   \n46600                   0.0                         0.0   \n46601                   0.0                         0.0   \n46602                   0.0                         0.0   \n\n      rooms.nonstandard.unused teachers.instructor teachers.mobile  \\\n0                          0.0                 0.0             1.0   \n1                          0.0                 0.0             2.0   \n2                          0.0                 0.0             1.0   \n3                          0.0                 0.0             1.0   \n4                          0.0                 0.0             1.0   \n...                        ...                 ...             ...   \n46598                      0.0                 0.0             7.0   \n46599                      0.0                 0.0             4.0   \n46600                      0.0                 0.0            27.0   \n46601                      0.0                 0.0             0.0   \n46602                      0.0                 0.0             1.0   \n\n      teachers.regular teachers.sped       MOOE  \n0                 20.0           0.0   341000.0  \n1                 12.0           4.0   275000.0  \n2                  6.0           0.0   132000.0  \n3                  6.0           0.0   135000.0  \n4                  8.0           0.0   182000.0  \n...                ...           ...        ...  \n46598             39.0           0.0   986000.0  \n46599             41.0           0.0  1798000.0  \n46600            164.0           0.0  3971000.0  \n46601              6.0           0.0   539000.0  \n46602             96.0           0.0  3595000.0  \n\n[46603 rows x 61 columns]",
      "text/html": "<div>\n<style scoped>\n    .dataframe tbody tr th:only-of-type {\n        vertical-align: middle;\n    }\n\n    .dataframe tbody tr th {\n        vertical-align: top;\n    }\n\n    .dataframe thead th {\n        text-align: right;\n    }\n</style>\n<table border=\"1\" class=\"dataframe\">\n  <thead>\n    <tr style=\"text-align: right;\">\n      <th></th>\n      <th>school.id</th>\n      <th>school.name</th>\n      <th>school.region</th>\n      <th>school.region.name</th>\n      <th>school.province</th>\n      <th>school.cityhall</th>\n      <th>school.division</th>\n      <th>school.citymuni</th>\n      <th>school.district</th>\n      <th>school.legdistrict</th>\n      <th>...</th>\n      <th>Grade 12 Female</th>\n      <th>rooms.standard.academic</th>\n      <th>rooms.standard.unused</th>\n      <th>rooms.nonstandard.academic</th>\n      <th>rooms.nonstandard.unused</th>\n      <th>teachers.instructor</th>\n      <th>teachers.mobile</th>\n      <th>teachers.regular</th>\n      <th>teachers.sped</th>\n      <th>MOOE</th>\n    </tr>\n  </thead>\n  <tbody>\n    <tr>\n      <th>0</th>\n      <td>101746</td>\n      <td>A. Diaz, Sr. ES</td>\n      <td>Region I</td>\n      <td>Ilocos Region</td>\n      <td>PANGASINAN</td>\n      <td>PANGASINAN</td>\n      <td>Pangasinan II, Binalonan</td>\n      <td>BAUTISTA</td>\n      <td>Bautista</td>\n      <td>5th District</td>\n      <td>...</td>\n      <td>NaN</td>\n      <td>15.0</td>\n      <td>0.0</td>\n      <td>0.0</td>\n      <td>0.0</td>\n      <td>0.0</td>\n      <td>1.0</td>\n      <td>20.0</td>\n      <td>0.0</td>\n      <td>341000.0</td>\n    </tr>\n    <tr>\n      <th>1</th>\n      <td>102193</td>\n      <td>A. P. Santos ES (SPED Center)</td>\n      <td>Region I</td>\n      <td>Ilocos Region</td>\n      <td>ILOCOS NORTE</td>\n      <td>ILOCOS NORTE</td>\n      <td>Laoag City</td>\n      <td>LAOAG CITY (Capital)</td>\n      <td>Laoag City District II</td>\n      <td>1st District</td>\n      <td>...</td>\n      <td>NaN</td>\n      <td>13.0</td>\n      <td>3.0</td>\n      <td>0.0</td>\n      <td>0.0</td>\n      <td>0.0</td>\n      <td>2.0</td>\n      <td>12.0</td>\n      <td>4.0</td>\n      <td>275000.0</td>\n    </tr>\n    <tr>\n      <th>2</th>\n      <td>101283</td>\n      <td>A.P. Guevara IS</td>\n      <td>Region I</td>\n      <td>Ilocos Region</td>\n      <td>PANGASINAN</td>\n      <td>PANGASINAN</td>\n      <td>Pangasinan I, Lingayen</td>\n      <td>BAYAMBANG</td>\n      <td>Bayambang II</td>\n      <td>3rd District</td>\n      <td>...</td>\n      <td>NaN</td>\n      <td>7.0</td>\n      <td>0.0</td>\n      <td>0.0</td>\n      <td>0.0</td>\n      <td>0.0</td>\n      <td>1.0</td>\n      <td>6.0</td>\n      <td>0.0</td>\n      <td>132000.0</td>\n    </tr>\n    <tr>\n      <th>3</th>\n      <td>100216</td>\n      <td>Ab-Abut ES</td>\n      <td>Region I</td>\n      <td>Ilocos Region</td>\n      <td>ILOCOS NORTE</td>\n      <td>ILOCOS NORTE</td>\n      <td>Ilocos Norte</td>\n      <td>PIDDIG</td>\n      <td>Piddig</td>\n      <td>1st District</td>\n      <td>...</td>\n      <td>NaN</td>\n      <td>6.0</td>\n      <td>0.0</td>\n      <td>0.0</td>\n      <td>0.0</td>\n      <td>0.0</td>\n      <td>1.0</td>\n      <td>6.0</td>\n      <td>0.0</td>\n      <td>135000.0</td>\n    </tr>\n    <tr>\n      <th>4</th>\n      <td>100043</td>\n      <td>Abaca ES</td>\n      <td>Region I</td>\n      <td>Ilocos Region</td>\n      <td>ILOCOS NORTE</td>\n      <td>ILOCOS NORTE</td>\n      <td>Ilocos Norte</td>\n      <td>BANGUI</td>\n      <td>Bangui</td>\n      <td>1st District</td>\n      <td>...</td>\n      <td>NaN</td>\n      <td>9.0</td>\n      <td>0.0</td>\n      <td>0.0</td>\n      <td>0.0</td>\n      <td>0.0</td>\n      <td>1.0</td>\n      <td>8.0</td>\n      <td>0.0</td>\n      <td>182000.0</td>\n    </tr>\n    <tr>\n      <th>...</th>\n      <td>...</td>\n      <td>...</td>\n      <td>...</td>\n      <td>...</td>\n      <td>...</td>\n      <td>...</td>\n      <td>...</td>\n      <td>...</td>\n      <td>...</td>\n      <td>...</td>\n      <td>...</td>\n      <td>...</td>\n      <td>...</td>\n      <td>...</td>\n      <td>...</td>\n      <td>...</td>\n      <td>...</td>\n      <td>...</td>\n      <td>...</td>\n      <td>...</td>\n      <td>...</td>\n    </tr>\n    <tr>\n      <th>46598</th>\n      <td>305308</td>\n      <td>Valeriano E. Fugoso Memorial High School</td>\n      <td>NCR</td>\n      <td>National Capital Region</td>\n      <td>MANILA, NCR, FIRST DISTRICT</td>\n      <td>MANILA, NCR, FIRST DISTRICT</td>\n      <td>Manila</td>\n      <td>SAMPALOC</td>\n      <td>Sampaloc V</td>\n      <td>4th District</td>\n      <td>...</td>\n      <td>0.0</td>\n      <td>17.0</td>\n      <td>0.0</td>\n      <td>0.0</td>\n      <td>0.0</td>\n      <td>0.0</td>\n      <td>7.0</td>\n      <td>39.0</td>\n      <td>0.0</td>\n      <td>986000.0</td>\n    </tr>\n    <tr>\n      <th>46599</th>\n      <td>320402</td>\n      <td>Vicente Trinidad NHS (Punturin NHS)</td>\n      <td>NCR</td>\n      <td>National Capital Region</td>\n      <td>NCR THIRD DISTRICT</td>\n      <td>CITY OF VALENZUELA</td>\n      <td>Valenzuela City</td>\n      <td>CITY OF VALENZUELA</td>\n      <td>Valenzuela City Central District</td>\n      <td>1st District</td>\n      <td>...</td>\n      <td>0.0</td>\n      <td>23.0</td>\n      <td>0.0</td>\n      <td>0.0</td>\n      <td>0.0</td>\n      <td>0.0</td>\n      <td>4.0</td>\n      <td>41.0</td>\n      <td>0.0</td>\n      <td>1798000.0</td>\n    </tr>\n    <tr>\n      <th>46600</th>\n      <td>305315</td>\n      <td>Victoriano Mapa High School</td>\n      <td>NCR</td>\n      <td>National Capital Region</td>\n      <td>MANILA, NCR, FIRST DISTRICT</td>\n      <td>MANILA, NCR, FIRST DISTRICT</td>\n      <td>Manila</td>\n      <td>SAN MIGUEL</td>\n      <td>Sta. Cruz V</td>\n      <td>6th District</td>\n      <td>...</td>\n      <td>0.0</td>\n      <td>39.0</td>\n      <td>0.0</td>\n      <td>0.0</td>\n      <td>0.0</td>\n      <td>0.0</td>\n      <td>27.0</td>\n      <td>164.0</td>\n      <td>0.0</td>\n      <td>3971000.0</td>\n    </tr>\n    <tr>\n      <th>46601</th>\n      <td>320407</td>\n      <td>Wawangpulo National High School</td>\n      <td>NCR</td>\n      <td>National Capital Region</td>\n      <td>NCR THIRD DISTRICT</td>\n      <td>CITY OF VALENZUELA</td>\n      <td>Valenzuela City</td>\n      <td>CITY OF VALENZUELA</td>\n      <td>Valenzuela City North District</td>\n      <td>1st District</td>\n      <td>...</td>\n      <td>0.0</td>\n      <td>11.0</td>\n      <td>0.0</td>\n      <td>0.0</td>\n      <td>0.0</td>\n      <td>0.0</td>\n      <td>0.0</td>\n      <td>6.0</td>\n      <td>0.0</td>\n      <td>539000.0</td>\n    </tr>\n    <tr>\n      <th>46602</th>\n      <td>305465</td>\n      <td>Western Bicutan NHS</td>\n      <td>NCR</td>\n      <td>National Capital Region</td>\n      <td>NCR FOURTH DISTRICT</td>\n      <td>TAGUIG CITY</td>\n      <td>Taguig</td>\n      <td>TAGUIG CITY</td>\n      <td>Taguig District III</td>\n      <td>2nd District</td>\n      <td>...</td>\n      <td>0.0</td>\n      <td>44.0</td>\n      <td>0.0</td>\n      <td>0.0</td>\n      <td>0.0</td>\n      <td>0.0</td>\n      <td>1.0</td>\n      <td>96.0</td>\n      <td>0.0</td>\n      <td>3595000.0</td>\n    </tr>\n  </tbody>\n</table>\n<p>46603 rows × 61 columns</p>\n</div>"
     },
     "metadata": {}
    }
   ]
  },
  {
   "cell_type": "code",
   "metadata": {
    "cell_id": "00018-c2af77f1-9a0f-4ab6-8143-8ba2a5526f21",
    "deepnote_to_be_reexecuted": false,
    "source_hash": "21322e4f",
    "execution_start": 1621509793232,
    "execution_millis": 3,
    "deepnote_cell_type": "code"
   },
   "source": "df_sped = master_df[(master_df[\"SPED NG Male\"] > 0) | (master_df[\"SPED NG Female\"] > 0) | (master_df[\"teachers.sped\"] > 0)]",
   "execution_count": 25,
   "outputs": []
  },
  {
   "cell_type": "code",
   "metadata": {
    "cell_id": "00019-cfab87de-0269-46c9-a88d-621d5739e206",
    "deepnote_to_be_reexecuted": false,
    "source_hash": "381b3519",
    "execution_start": 1621509793237,
    "execution_millis": 10,
    "deepnote_cell_type": "code"
   },
   "source": "df_sped.shape",
   "execution_count": 26,
   "outputs": [
    {
     "output_type": "execute_result",
     "execution_count": 26,
     "data": {
      "text/plain": "(900, 63)"
     },
     "metadata": {}
    }
   ]
  },
  {
   "cell_type": "code",
   "metadata": {
    "cell_id": "00020-4fa0f52d-8dc7-4628-a09d-da8ee6d21dc0",
    "deepnote_to_be_reexecuted": false,
    "source_hash": "38c6aba5",
    "execution_start": 1621509793255,
    "execution_millis": 21,
    "deepnote_cell_type": "code"
   },
   "source": "df_sped.info()",
   "execution_count": 27,
   "outputs": [
    {
     "name": "stdout",
     "text": "<class 'pandas.core.frame.DataFrame'>\nInt64Index: 900 entries, 1 to 46597\nData columns (total 63 columns):\n #   Column                      Non-Null Count  Dtype  \n---  ------                      --------------  -----  \n 0   school.id                   900 non-null    int64  \n 1   school.name                 900 non-null    object \n 2   school.region               900 non-null    object \n 3   school.region.name          900 non-null    object \n 4   school.province             900 non-null    object \n 5   school.cityhall             900 non-null    object \n 6   school.division             900 non-null    object \n 7   school.citymuni             900 non-null    object \n 8   school.district             900 non-null    object \n 9   school.legdistrict          900 non-null    object \n 10  school.type                 900 non-null    object \n 11  school.abbrev               493 non-null    object \n 12  school.previousname         820 non-null    object \n 13  school.mother.id            900 non-null    float64\n 14  school.address              890 non-null    object \n 15  school.established          900 non-null    object \n 16  school.classification       900 non-null    object \n 17  school.classification2      900 non-null    object \n 18  school.curricularclass      900 non-null    object \n 19  school.organization         900 non-null    object \n 20  school.cityincome           874 non-null    object \n 21  school.cityclass            315 non-null    object \n 22  school.urban                899 non-null    object \n 23  School ID_x                 900 non-null    float64\n 24  Kinder Male                 847 non-null    float64\n 25  Kinder Female               847 non-null    float64\n 26  Grade 1 Male                847 non-null    float64\n 27  Grade 1 Female              847 non-null    float64\n 28  Grade 2 Male                847 non-null    float64\n 29  Grade 2 Female              847 non-null    float64\n 30  Grade 3 Male                847 non-null    float64\n 31  Grade 3 Female              847 non-null    float64\n 32  Grade 4 Male                847 non-null    float64\n 33  Grade 4 Female              847 non-null    float64\n 34  Grade 5 Male                847 non-null    float64\n 35  Grade 5 Female              847 non-null    float64\n 36  Grade 6 Male                847 non-null    float64\n 37  Grade 6 Female              847 non-null    float64\n 38  SPED NG Male                345 non-null    float64\n 39  SPED NG Female              345 non-null    float64\n 40  Grade 7 Male                53 non-null     float64\n 41  Grade 7 Female              53 non-null     float64\n 42  Grade 8 Male                53 non-null     float64\n 43  Grade 8 Female              53 non-null     float64\n 44  Grade 9 Male                53 non-null     float64\n 45  Grade 9 Female              53 non-null     float64\n 46  Grade 10 Male               53 non-null     float64\n 47  Grade 10 Female             53 non-null     float64\n 48  Grade 11 Male               53 non-null     float64\n 49  Grade 11 Female             53 non-null     float64\n 50  Grade 12 Male               53 non-null     float64\n 51  Grade 12 Female             53 non-null     float64\n 52   school.mooe                896 non-null    float64\n 53  School ID_y                 899 non-null    float64\n 54  rooms.standard.academic     899 non-null    float64\n 55  rooms.standard.unused       899 non-null    float64\n 56  rooms.nonstandard.academic  899 non-null    float64\n 57  rooms.nonstandard.unused    899 non-null    float64\n 58  teachers.instructor         899 non-null    float64\n 59  teachers.mobile             899 non-null    float64\n 60  teachers.regular            899 non-null    float64\n 61  teachers.sped               899 non-null    float64\n 62  MOOE                        896 non-null    float64\ndtypes: float64(41), int64(1), object(21)\nmemory usage: 450.0+ KB\n",
     "output_type": "stream"
    }
   ]
  },
  {
   "cell_type": "code",
   "metadata": {
    "cell_id": "00021-08393628-eee4-4e3e-a8e0-152162e3ed15",
    "deepnote_to_be_reexecuted": false,
    "source_hash": "98d31987",
    "execution_start": 1621509793299,
    "execution_millis": 12,
    "deepnote_cell_type": "code"
   },
   "source": "#Number of Schools with SPED students per region\ndf_sped[\"school.region\"].value_counts()",
   "execution_count": 28,
   "outputs": [
    {
     "output_type": "execute_result",
     "execution_count": 28,
     "data": {
      "text/plain": "Region III     141\nRegion IV-A    122\nRegion I       116\nNCR             80\nRegion II       69\nRegion VII      56\nRegion IX       47\nRegion XI       39\nRegion IV-B     37\nRegion V        36\nRegion VIII     33\nRegion VI       32\nRegion XII      27\nRegion XIII     25\nRegion X        25\nCAR             12\nARMM             3\nName: school.region, dtype: int64"
     },
     "metadata": {}
    }
   ]
  },
  {
   "cell_type": "code",
   "metadata": {
    "cell_id": "00022-d5178b78-b29c-4c5e-bb9e-575df7535bf8",
    "deepnote_to_be_reexecuted": false,
    "source_hash": "115b2231",
    "execution_start": 1621509793300,
    "execution_millis": 11,
    "deepnote_cell_type": "code"
   },
   "source": "#Number of SPED teachers per region\ndf_sped.groupby(\"school.region\")[\"teachers.sped\"].sum()",
   "execution_count": 29,
   "outputs": [
    {
     "output_type": "execute_result",
     "execution_count": 29,
     "data": {
      "text/plain": "school.region\nARMM            11.0\nCAR             57.0\nNCR            491.0\nRegion I       130.0\nRegion II       60.0\nRegion III     155.0\nRegion IV-A    179.0\nRegion IV-B     83.0\nRegion IX      116.0\nRegion V       105.0\nRegion VI      102.0\nRegion VII     128.0\nRegion VIII     91.0\nRegion X        69.0\nRegion XI      111.0\nRegion XII      82.0\nRegion XIII     91.0\nName: teachers.sped, dtype: float64"
     },
     "metadata": {}
    }
   ]
  },
  {
   "cell_type": "code",
   "metadata": {
    "cell_id": "00023-dbd410ee-ed17-41bb-af27-4c910d42102c",
    "deepnote_to_be_reexecuted": false,
    "source_hash": "df26f589",
    "execution_start": 1621509793301,
    "execution_millis": 11,
    "deepnote_cell_type": "code"
   },
   "source": "df_sped[\"school.urban\"].value_counts()",
   "execution_count": 30,
   "outputs": [
    {
     "output_type": "execute_result",
     "execution_count": 30,
     "data": {
      "text/plain": "Partially Urban    690\nUrban              194\nRural               15\nName: school.urban, dtype: int64"
     },
     "metadata": {}
    }
   ]
  },
  {
   "cell_type": "code",
   "metadata": {
    "cell_id": "00024-37470b3d-34ca-4c50-8f5b-a95eff274fe5",
    "deepnote_to_be_reexecuted": false,
    "source_hash": "121686cf",
    "execution_start": 1621509793308,
    "execution_millis": 4,
    "deepnote_cell_type": "code"
   },
   "source": "df_nonsped = master_df[(master_df[\"SPED NG Male\"] == 0) & (master_df[\"SPED NG Female\"] == 0) & (master_df[\"teachers.sped\"] == 0)]",
   "execution_count": 31,
   "outputs": []
  },
  {
   "cell_type": "code",
   "metadata": {
    "cell_id": "00025-ec855d21-713a-4940-b207-e3a1c8e20ade",
    "deepnote_to_be_reexecuted": false,
    "source_hash": "715f2293",
    "execution_start": 1621509793334,
    "execution_millis": 15,
    "deepnote_cell_type": "code"
   },
   "source": "df_nonsped.shape",
   "execution_count": 32,
   "outputs": [
    {
     "output_type": "execute_result",
     "execution_count": 32,
     "data": {
      "text/plain": "(7524, 63)"
     },
     "metadata": {}
    }
   ]
  },
  {
   "cell_type": "code",
   "metadata": {
    "cell_id": "00026-084de1d7-bbfe-41f0-b496-5e3845aeba2a",
    "deepnote_to_be_reexecuted": false,
    "source_hash": "f475b919",
    "execution_start": 1621509793334,
    "execution_millis": 15,
    "deepnote_cell_type": "code"
   },
   "source": "df_sped[\"MOOE\"].sum()/master_df[\"MOOE\"].sum()",
   "execution_count": 33,
   "outputs": [
    {
     "output_type": "execute_result",
     "execution_count": 33,
     "data": {
      "text/plain": "0.05311386136623035"
     },
     "metadata": {}
    }
   ]
  },
  {
   "cell_type": "code",
   "metadata": {
    "cell_id": "00027-cdd0cc35-5d7b-4c8f-9cf7-1e76992fc0b0",
    "deepnote_to_be_reexecuted": false,
    "source_hash": "e9258198",
    "execution_start": 1621509793335,
    "execution_millis": 0,
    "deepnote_cell_type": "code"
   },
   "source": "#Insight: Of the total MOOE, only 8.48% is allocated to SPED schools",
   "execution_count": 34,
   "outputs": []
  },
  {
   "cell_type": "code",
   "metadata": {
    "cell_id": "00028-2645f223-9053-4537-a7bf-db0a6889786c",
    "deepnote_to_be_reexecuted": false,
    "source_hash": "25f5b23a",
    "execution_start": 1621509793337,
    "execution_millis": 0,
    "deepnote_cell_type": "code"
   },
   "source": "#Possible clustering:\n#We identify clusters based on demand and supply i.e. use teacher student ratios to identify schools with high demand of students and ",
   "execution_count": 35,
   "outputs": []
  },
  {
   "cell_type": "code",
   "metadata": {
    "cell_id": "00029-6fa9be33-56bc-4d34-aeda-777b9075015b",
    "deepnote_to_be_reexecuted": false,
    "source_hash": "15c3bf11",
    "execution_start": 1621509793341,
    "execution_millis": 101,
    "deepnote_cell_type": "code"
   },
   "source": "enrol_all.head()",
   "execution_count": 36,
   "outputs": [
    {
     "output_type": "execute_result",
     "execution_count": 36,
     "data": {
      "application/vnd.deepnote.dataframe.v2+json": {
       "row_count": 5,
       "column_count": 29,
       "columns": [
        {
         "name": "School ID",
         "dtype": "int64",
         "stats": {
          "unique_count": 5,
          "nan_count": 0,
          "min": "100001",
          "max": "100005",
          "histogram": [
           {
            "bin_start": 100001,
            "bin_end": 100001.4,
            "count": 1
           },
           {
            "bin_start": 100001.4,
            "bin_end": 100001.8,
            "count": 0
           },
           {
            "bin_start": 100001.8,
            "bin_end": 100002.2,
            "count": 1
           },
           {
            "bin_start": 100002.2,
            "bin_end": 100002.6,
            "count": 0
           },
           {
            "bin_start": 100002.6,
            "bin_end": 100003,
            "count": 0
           },
           {
            "bin_start": 100003,
            "bin_end": 100003.4,
            "count": 1
           },
           {
            "bin_start": 100003.4,
            "bin_end": 100003.8,
            "count": 0
           },
           {
            "bin_start": 100003.8,
            "bin_end": 100004.2,
            "count": 1
           },
           {
            "bin_start": 100004.2,
            "bin_end": 100004.6,
            "count": 0
           },
           {
            "bin_start": 100004.6,
            "bin_end": 100005,
            "count": 1
           }
          ]
         }
        },
        {
         "name": "Kinder Male",
         "dtype": "float64",
         "stats": {
          "unique_count": 4,
          "nan_count": 0,
          "min": "4.0",
          "max": "41.0",
          "histogram": [
           {
            "bin_start": 4,
            "bin_end": 7.7,
            "count": 1
           },
           {
            "bin_start": 7.7,
            "bin_end": 11.4,
            "count": 3
           },
           {
            "bin_start": 11.4,
            "bin_end": 15.100000000000001,
            "count": 0
           },
           {
            "bin_start": 15.100000000000001,
            "bin_end": 18.8,
            "count": 0
           },
           {
            "bin_start": 18.8,
            "bin_end": 22.5,
            "count": 0
           },
           {
            "bin_start": 22.5,
            "bin_end": 26.200000000000003,
            "count": 0
           },
           {
            "bin_start": 26.200000000000003,
            "bin_end": 29.900000000000002,
            "count": 0
           },
           {
            "bin_start": 29.900000000000002,
            "bin_end": 33.6,
            "count": 0
           },
           {
            "bin_start": 33.6,
            "bin_end": 37.300000000000004,
            "count": 0
           },
           {
            "bin_start": 37.300000000000004,
            "bin_end": 41,
            "count": 1
           }
          ]
         }
        },
        {
         "name": "Kinder Female",
         "dtype": "float64",
         "stats": {
          "unique_count": 5,
          "nan_count": 0,
          "min": "2.0",
          "max": "25.0",
          "histogram": [
           {
            "bin_start": 2,
            "bin_end": 4.3,
            "count": 2
           },
           {
            "bin_start": 4.3,
            "bin_end": 6.6,
            "count": 0
           },
           {
            "bin_start": 6.6,
            "bin_end": 8.899999999999999,
            "count": 1
           },
           {
            "bin_start": 8.899999999999999,
            "bin_end": 11.2,
            "count": 1
           },
           {
            "bin_start": 11.2,
            "bin_end": 13.5,
            "count": 0
           },
           {
            "bin_start": 13.5,
            "bin_end": 15.799999999999999,
            "count": 0
           },
           {
            "bin_start": 15.799999999999999,
            "bin_end": 18.099999999999998,
            "count": 0
           },
           {
            "bin_start": 18.099999999999998,
            "bin_end": 20.4,
            "count": 0
           },
           {
            "bin_start": 20.4,
            "bin_end": 22.7,
            "count": 0
           },
           {
            "bin_start": 22.7,
            "bin_end": 25,
            "count": 1
           }
          ]
         }
        },
        {
         "name": "Grade 1 Male",
         "dtype": "float64",
         "stats": {
          "unique_count": 5,
          "nan_count": 0,
          "min": "5.0",
          "max": "38.0",
          "histogram": [
           {
            "bin_start": 5,
            "bin_end": 8.3,
            "count": 2
           },
           {
            "bin_start": 8.3,
            "bin_end": 11.6,
            "count": 1
           },
           {
            "bin_start": 11.6,
            "bin_end": 14.899999999999999,
            "count": 1
           },
           {
            "bin_start": 14.899999999999999,
            "bin_end": 18.2,
            "count": 0
           },
           {
            "bin_start": 18.2,
            "bin_end": 21.5,
            "count": 0
           },
           {
            "bin_start": 21.5,
            "bin_end": 24.799999999999997,
            "count": 0
           },
           {
            "bin_start": 24.799999999999997,
            "bin_end": 28.099999999999998,
            "count": 0
           },
           {
            "bin_start": 28.099999999999998,
            "bin_end": 31.4,
            "count": 0
           },
           {
            "bin_start": 31.4,
            "bin_end": 34.7,
            "count": 0
           },
           {
            "bin_start": 34.7,
            "bin_end": 38,
            "count": 1
           }
          ]
         }
        },
        {
         "name": "Grade 1 Female",
         "dtype": "float64",
         "stats": {
          "unique_count": 5,
          "nan_count": 0,
          "min": "2.0",
          "max": "33.0",
          "histogram": [
           {
            "bin_start": 2,
            "bin_end": 5.1,
            "count": 1
           },
           {
            "bin_start": 5.1,
            "bin_end": 8.2,
            "count": 1
           },
           {
            "bin_start": 8.2,
            "bin_end": 11.3,
            "count": 0
           },
           {
            "bin_start": 11.3,
            "bin_end": 14.4,
            "count": 1
           },
           {
            "bin_start": 14.4,
            "bin_end": 17.5,
            "count": 1
           },
           {
            "bin_start": 17.5,
            "bin_end": 20.6,
            "count": 0
           },
           {
            "bin_start": 20.6,
            "bin_end": 23.7,
            "count": 0
           },
           {
            "bin_start": 23.7,
            "bin_end": 26.8,
            "count": 0
           },
           {
            "bin_start": 26.8,
            "bin_end": 29.900000000000002,
            "count": 0
           },
           {
            "bin_start": 29.900000000000002,
            "bin_end": 33,
            "count": 1
           }
          ]
         }
        },
        {
         "name": "Grade 2 Male",
         "dtype": "float64",
         "stats": {
          "unique_count": 5,
          "nan_count": 0,
          "min": "4.0",
          "max": "41.0",
          "histogram": [
           {
            "bin_start": 4,
            "bin_end": 7.7,
            "count": 2
           },
           {
            "bin_start": 7.7,
            "bin_end": 11.4,
            "count": 0
           },
           {
            "bin_start": 11.4,
            "bin_end": 15.100000000000001,
            "count": 2
           },
           {
            "bin_start": 15.100000000000001,
            "bin_end": 18.8,
            "count": 0
           },
           {
            "bin_start": 18.8,
            "bin_end": 22.5,
            "count": 0
           },
           {
            "bin_start": 22.5,
            "bin_end": 26.200000000000003,
            "count": 0
           },
           {
            "bin_start": 26.200000000000003,
            "bin_end": 29.900000000000002,
            "count": 0
           },
           {
            "bin_start": 29.900000000000002,
            "bin_end": 33.6,
            "count": 0
           },
           {
            "bin_start": 33.6,
            "bin_end": 37.300000000000004,
            "count": 0
           },
           {
            "bin_start": 37.300000000000004,
            "bin_end": 41,
            "count": 1
           }
          ]
         }
        },
        {
         "name": "Grade 2 Female",
         "dtype": "float64",
         "stats": {
          "unique_count": 5,
          "nan_count": 0,
          "min": "6.0",
          "max": "40.0",
          "histogram": [
           {
            "bin_start": 6,
            "bin_end": 9.4,
            "count": 2
           },
           {
            "bin_start": 9.4,
            "bin_end": 12.8,
            "count": 1
           },
           {
            "bin_start": 12.8,
            "bin_end": 16.2,
            "count": 1
           },
           {
            "bin_start": 16.2,
            "bin_end": 19.6,
            "count": 0
           },
           {
            "bin_start": 19.6,
            "bin_end": 23,
            "count": 0
           },
           {
            "bin_start": 23,
            "bin_end": 26.4,
            "count": 0
           },
           {
            "bin_start": 26.4,
            "bin_end": 29.8,
            "count": 0
           },
           {
            "bin_start": 29.8,
            "bin_end": 33.2,
            "count": 0
           },
           {
            "bin_start": 33.2,
            "bin_end": 36.599999999999994,
            "count": 0
           },
           {
            "bin_start": 36.599999999999994,
            "bin_end": 40,
            "count": 1
           }
          ]
         }
        },
        {
         "name": "Grade 3 Male",
         "dtype": "float64",
         "stats": {
          "unique_count": 5,
          "nan_count": 0,
          "min": "3.0",
          "max": "28.0",
          "histogram": [
           {
            "bin_start": 3,
            "bin_end": 5.5,
            "count": 1
           },
           {
            "bin_start": 5.5,
            "bin_end": 8,
            "count": 0
           },
           {
            "bin_start": 8,
            "bin_end": 10.5,
            "count": 2
           },
           {
            "bin_start": 10.5,
            "bin_end": 13,
            "count": 0
           },
           {
            "bin_start": 13,
            "bin_end": 15.5,
            "count": 0
           },
           {
            "bin_start": 15.5,
            "bin_end": 18,
            "count": 1
           },
           {
            "bin_start": 18,
            "bin_end": 20.5,
            "count": 0
           },
           {
            "bin_start": 20.5,
            "bin_end": 23,
            "count": 0
           },
           {
            "bin_start": 23,
            "bin_end": 25.5,
            "count": 0
           },
           {
            "bin_start": 25.5,
            "bin_end": 28,
            "count": 1
           }
          ]
         }
        },
        {
         "name": "Grade 3 Female",
         "dtype": "float64",
         "stats": {
          "unique_count": 4,
          "nan_count": 0,
          "min": "5.0",
          "max": "31.0",
          "histogram": [
           {
            "bin_start": 5,
            "bin_end": 7.6,
            "count": 2
           },
           {
            "bin_start": 7.6,
            "bin_end": 10.2,
            "count": 1
           },
           {
            "bin_start": 10.2,
            "bin_end": 12.8,
            "count": 0
           },
           {
            "bin_start": 12.8,
            "bin_end": 15.4,
            "count": 0
           },
           {
            "bin_start": 15.4,
            "bin_end": 18,
            "count": 1
           },
           {
            "bin_start": 18,
            "bin_end": 20.6,
            "count": 0
           },
           {
            "bin_start": 20.6,
            "bin_end": 23.2,
            "count": 0
           },
           {
            "bin_start": 23.2,
            "bin_end": 25.8,
            "count": 0
           },
           {
            "bin_start": 25.8,
            "bin_end": 28.400000000000002,
            "count": 0
           },
           {
            "bin_start": 28.400000000000002,
            "bin_end": 31,
            "count": 1
           }
          ]
         }
        },
        {
         "name": "Grade 4 Male",
         "dtype": "float64",
         "stats": {
          "unique_count": 4,
          "nan_count": 0,
          "min": "7.0",
          "max": "38.0",
          "histogram": [
           {
            "bin_start": 7,
            "bin_end": 10.1,
            "count": 1
           },
           {
            "bin_start": 10.1,
            "bin_end": 13.2,
            "count": 1
           },
           {
            "bin_start": 13.2,
            "bin_end": 16.3,
            "count": 2
           },
           {
            "bin_start": 16.3,
            "bin_end": 19.4,
            "count": 0
           },
           {
            "bin_start": 19.4,
            "bin_end": 22.5,
            "count": 0
           },
           {
            "bin_start": 22.5,
            "bin_end": 25.6,
            "count": 0
           },
           {
            "bin_start": 25.6,
            "bin_end": 28.7,
            "count": 0
           },
           {
            "bin_start": 28.7,
            "bin_end": 31.8,
            "count": 0
           },
           {
            "bin_start": 31.8,
            "bin_end": 34.900000000000006,
            "count": 0
           },
           {
            "bin_start": 34.900000000000006,
            "bin_end": 38,
            "count": 1
           }
          ]
         }
        },
        {
         "name": "Grade 4 Female",
         "dtype": "float64",
         "stats": {
          "unique_count": 3,
          "nan_count": 0,
          "min": "5.0",
          "max": "30.0",
          "histogram": [
           {
            "bin_start": 5,
            "bin_end": 7.5,
            "count": 2
           },
           {
            "bin_start": 7.5,
            "bin_end": 10,
            "count": 0
           },
           {
            "bin_start": 10,
            "bin_end": 12.5,
            "count": 2
           },
           {
            "bin_start": 12.5,
            "bin_end": 15,
            "count": 0
           },
           {
            "bin_start": 15,
            "bin_end": 17.5,
            "count": 0
           },
           {
            "bin_start": 17.5,
            "bin_end": 20,
            "count": 0
           },
           {
            "bin_start": 20,
            "bin_end": 22.5,
            "count": 0
           },
           {
            "bin_start": 22.5,
            "bin_end": 25,
            "count": 0
           },
           {
            "bin_start": 25,
            "bin_end": 27.5,
            "count": 0
           },
           {
            "bin_start": 27.5,
            "bin_end": 30,
            "count": 1
           }
          ]
         }
        },
        {
         "name": "Grade 5 Male",
         "dtype": "float64",
         "stats": {
          "unique_count": 5,
          "nan_count": 0,
          "min": "3.0",
          "max": "26.0",
          "histogram": [
           {
            "bin_start": 3,
            "bin_end": 5.3,
            "count": 2
           },
           {
            "bin_start": 5.3,
            "bin_end": 7.6,
            "count": 1
           },
           {
            "bin_start": 7.6,
            "bin_end": 9.899999999999999,
            "count": 1
           },
           {
            "bin_start": 9.899999999999999,
            "bin_end": 12.2,
            "count": 0
           },
           {
            "bin_start": 12.2,
            "bin_end": 14.5,
            "count": 0
           },
           {
            "bin_start": 14.5,
            "bin_end": 16.799999999999997,
            "count": 0
           },
           {
            "bin_start": 16.799999999999997,
            "bin_end": 19.099999999999998,
            "count": 0
           },
           {
            "bin_start": 19.099999999999998,
            "bin_end": 21.4,
            "count": 0
           },
           {
            "bin_start": 21.4,
            "bin_end": 23.7,
            "count": 0
           },
           {
            "bin_start": 23.7,
            "bin_end": 26,
            "count": 1
           }
          ]
         }
        },
        {
         "name": "Grade 5 Female",
         "dtype": "float64",
         "stats": {
          "unique_count": 5,
          "nan_count": 0,
          "min": "2.0",
          "max": "31.0",
          "histogram": [
           {
            "bin_start": 2,
            "bin_end": 4.9,
            "count": 2
           },
           {
            "bin_start": 4.9,
            "bin_end": 7.8,
            "count": 1
           },
           {
            "bin_start": 7.8,
            "bin_end": 10.7,
            "count": 0
           },
           {
            "bin_start": 10.7,
            "bin_end": 13.6,
            "count": 1
           },
           {
            "bin_start": 13.6,
            "bin_end": 16.5,
            "count": 0
           },
           {
            "bin_start": 16.5,
            "bin_end": 19.4,
            "count": 0
           },
           {
            "bin_start": 19.4,
            "bin_end": 22.3,
            "count": 0
           },
           {
            "bin_start": 22.3,
            "bin_end": 25.2,
            "count": 0
           },
           {
            "bin_start": 25.2,
            "bin_end": 28.099999999999998,
            "count": 0
           },
           {
            "bin_start": 28.099999999999998,
            "bin_end": 31,
            "count": 1
           }
          ]
         }
        },
        {
         "name": "Grade 6 Male",
         "dtype": "float64",
         "stats": {
          "unique_count": 5,
          "nan_count": 0,
          "min": "3.0",
          "max": "22.0",
          "histogram": [
           {
            "bin_start": 3,
            "bin_end": 4.9,
            "count": 1
           },
           {
            "bin_start": 4.9,
            "bin_end": 6.8,
            "count": 0
           },
           {
            "bin_start": 6.8,
            "bin_end": 8.7,
            "count": 0
           },
           {
            "bin_start": 8.7,
            "bin_end": 10.6,
            "count": 1
           },
           {
            "bin_start": 10.6,
            "bin_end": 12.5,
            "count": 1
           },
           {
            "bin_start": 12.5,
            "bin_end": 14.399999999999999,
            "count": 1
           },
           {
            "bin_start": 14.399999999999999,
            "bin_end": 16.299999999999997,
            "count": 0
           },
           {
            "bin_start": 16.299999999999997,
            "bin_end": 18.2,
            "count": 0
           },
           {
            "bin_start": 18.2,
            "bin_end": 20.099999999999998,
            "count": 0
           },
           {
            "bin_start": 20.099999999999998,
            "bin_end": 22,
            "count": 1
           }
          ]
         }
        },
        {
         "name": "Grade 6 Female",
         "dtype": "float64",
         "stats": {
          "unique_count": 4,
          "nan_count": 0,
          "min": "5.0",
          "max": "32.0",
          "histogram": [
           {
            "bin_start": 5,
            "bin_end": 7.7,
            "count": 3
           },
           {
            "bin_start": 7.7,
            "bin_end": 10.4,
            "count": 1
           },
           {
            "bin_start": 10.4,
            "bin_end": 13.100000000000001,
            "count": 0
           },
           {
            "bin_start": 13.100000000000001,
            "bin_end": 15.8,
            "count": 0
           },
           {
            "bin_start": 15.8,
            "bin_end": 18.5,
            "count": 0
           },
           {
            "bin_start": 18.5,
            "bin_end": 21.200000000000003,
            "count": 0
           },
           {
            "bin_start": 21.200000000000003,
            "bin_end": 23.900000000000002,
            "count": 0
           },
           {
            "bin_start": 23.900000000000002,
            "bin_end": 26.6,
            "count": 0
           },
           {
            "bin_start": 26.6,
            "bin_end": 29.3,
            "count": 0
           },
           {
            "bin_start": 29.3,
            "bin_end": 32,
            "count": 1
           }
          ]
         }
        },
        {
         "name": "SPED NG Male",
         "dtype": "float64",
         "stats": {
          "unique_count": 1,
          "nan_count": 0,
          "min": "0.0",
          "max": "0.0",
          "histogram": [
           {
            "bin_start": -0.5,
            "bin_end": -0.4,
            "count": 0
           },
           {
            "bin_start": -0.4,
            "bin_end": -0.3,
            "count": 0
           },
           {
            "bin_start": -0.3,
            "bin_end": -0.19999999999999996,
            "count": 0
           },
           {
            "bin_start": -0.19999999999999996,
            "bin_end": -0.09999999999999998,
            "count": 0
           },
           {
            "bin_start": -0.09999999999999998,
            "bin_end": 0,
            "count": 0
           },
           {
            "bin_start": 0,
            "bin_end": 0.10000000000000009,
            "count": 5
           },
           {
            "bin_start": 0.10000000000000009,
            "bin_end": 0.20000000000000007,
            "count": 0
           },
           {
            "bin_start": 0.20000000000000007,
            "bin_end": 0.30000000000000004,
            "count": 0
           },
           {
            "bin_start": 0.30000000000000004,
            "bin_end": 0.4,
            "count": 0
           },
           {
            "bin_start": 0.4,
            "bin_end": 0.5,
            "count": 0
           }
          ]
         }
        },
        {
         "name": "SPED NG Female",
         "dtype": "float64",
         "stats": {
          "unique_count": 1,
          "nan_count": 0,
          "min": "0.0",
          "max": "0.0",
          "histogram": [
           {
            "bin_start": -0.5,
            "bin_end": -0.4,
            "count": 0
           },
           {
            "bin_start": -0.4,
            "bin_end": -0.3,
            "count": 0
           },
           {
            "bin_start": -0.3,
            "bin_end": -0.19999999999999996,
            "count": 0
           },
           {
            "bin_start": -0.19999999999999996,
            "bin_end": -0.09999999999999998,
            "count": 0
           },
           {
            "bin_start": -0.09999999999999998,
            "bin_end": 0,
            "count": 0
           },
           {
            "bin_start": 0,
            "bin_end": 0.10000000000000009,
            "count": 5
           },
           {
            "bin_start": 0.10000000000000009,
            "bin_end": 0.20000000000000007,
            "count": 0
           },
           {
            "bin_start": 0.20000000000000007,
            "bin_end": 0.30000000000000004,
            "count": 0
           },
           {
            "bin_start": 0.30000000000000004,
            "bin_end": 0.4,
            "count": 0
           },
           {
            "bin_start": 0.4,
            "bin_end": 0.5,
            "count": 0
           }
          ]
         }
        },
        {
         "name": "Grade 7 Male",
         "dtype": "float64",
         "stats": {
          "unique_count": 0,
          "nan_count": 5,
          "min": null,
          "max": null,
          "histogram": [
           {
            "bin_start": 0,
            "bin_end": 0.1,
            "count": 0
           },
           {
            "bin_start": 0.1,
            "bin_end": 0.2,
            "count": 0
           },
           {
            "bin_start": 0.2,
            "bin_end": 0.30000000000000004,
            "count": 0
           },
           {
            "bin_start": 0.30000000000000004,
            "bin_end": 0.4,
            "count": 0
           },
           {
            "bin_start": 0.4,
            "bin_end": 0.5,
            "count": 0
           },
           {
            "bin_start": 0.5,
            "bin_end": 0.6000000000000001,
            "count": 0
           },
           {
            "bin_start": 0.6000000000000001,
            "bin_end": 0.7000000000000001,
            "count": 0
           },
           {
            "bin_start": 0.7000000000000001,
            "bin_end": 0.8,
            "count": 0
           },
           {
            "bin_start": 0.8,
            "bin_end": 0.9,
            "count": 0
           },
           {
            "bin_start": 0.9,
            "bin_end": 1,
            "count": 0
           }
          ]
         }
        },
        {
         "name": "Grade 7 Female",
         "dtype": "float64",
         "stats": {
          "unique_count": 0,
          "nan_count": 5,
          "min": null,
          "max": null,
          "histogram": [
           {
            "bin_start": 0,
            "bin_end": 0.1,
            "count": 0
           },
           {
            "bin_start": 0.1,
            "bin_end": 0.2,
            "count": 0
           },
           {
            "bin_start": 0.2,
            "bin_end": 0.30000000000000004,
            "count": 0
           },
           {
            "bin_start": 0.30000000000000004,
            "bin_end": 0.4,
            "count": 0
           },
           {
            "bin_start": 0.4,
            "bin_end": 0.5,
            "count": 0
           },
           {
            "bin_start": 0.5,
            "bin_end": 0.6000000000000001,
            "count": 0
           },
           {
            "bin_start": 0.6000000000000001,
            "bin_end": 0.7000000000000001,
            "count": 0
           },
           {
            "bin_start": 0.7000000000000001,
            "bin_end": 0.8,
            "count": 0
           },
           {
            "bin_start": 0.8,
            "bin_end": 0.9,
            "count": 0
           },
           {
            "bin_start": 0.9,
            "bin_end": 1,
            "count": 0
           }
          ]
         }
        },
        {
         "name": "Grade 8 Male",
         "dtype": "float64",
         "stats": {
          "unique_count": 0,
          "nan_count": 5,
          "min": null,
          "max": null,
          "histogram": [
           {
            "bin_start": 0,
            "bin_end": 0.1,
            "count": 0
           },
           {
            "bin_start": 0.1,
            "bin_end": 0.2,
            "count": 0
           },
           {
            "bin_start": 0.2,
            "bin_end": 0.30000000000000004,
            "count": 0
           },
           {
            "bin_start": 0.30000000000000004,
            "bin_end": 0.4,
            "count": 0
           },
           {
            "bin_start": 0.4,
            "bin_end": 0.5,
            "count": 0
           },
           {
            "bin_start": 0.5,
            "bin_end": 0.6000000000000001,
            "count": 0
           },
           {
            "bin_start": 0.6000000000000001,
            "bin_end": 0.7000000000000001,
            "count": 0
           },
           {
            "bin_start": 0.7000000000000001,
            "bin_end": 0.8,
            "count": 0
           },
           {
            "bin_start": 0.8,
            "bin_end": 0.9,
            "count": 0
           },
           {
            "bin_start": 0.9,
            "bin_end": 1,
            "count": 0
           }
          ]
         }
        },
        {
         "name": "Grade 8 Female",
         "dtype": "float64",
         "stats": {
          "unique_count": 0,
          "nan_count": 5,
          "min": null,
          "max": null,
          "histogram": [
           {
            "bin_start": 0,
            "bin_end": 0.1,
            "count": 0
           },
           {
            "bin_start": 0.1,
            "bin_end": 0.2,
            "count": 0
           },
           {
            "bin_start": 0.2,
            "bin_end": 0.30000000000000004,
            "count": 0
           },
           {
            "bin_start": 0.30000000000000004,
            "bin_end": 0.4,
            "count": 0
           },
           {
            "bin_start": 0.4,
            "bin_end": 0.5,
            "count": 0
           },
           {
            "bin_start": 0.5,
            "bin_end": 0.6000000000000001,
            "count": 0
           },
           {
            "bin_start": 0.6000000000000001,
            "bin_end": 0.7000000000000001,
            "count": 0
           },
           {
            "bin_start": 0.7000000000000001,
            "bin_end": 0.8,
            "count": 0
           },
           {
            "bin_start": 0.8,
            "bin_end": 0.9,
            "count": 0
           },
           {
            "bin_start": 0.9,
            "bin_end": 1,
            "count": 0
           }
          ]
         }
        },
        {
         "name": "Grade 9 Male",
         "dtype": "float64",
         "stats": {
          "unique_count": 0,
          "nan_count": 5,
          "min": null,
          "max": null,
          "histogram": [
           {
            "bin_start": 0,
            "bin_end": 0.1,
            "count": 0
           },
           {
            "bin_start": 0.1,
            "bin_end": 0.2,
            "count": 0
           },
           {
            "bin_start": 0.2,
            "bin_end": 0.30000000000000004,
            "count": 0
           },
           {
            "bin_start": 0.30000000000000004,
            "bin_end": 0.4,
            "count": 0
           },
           {
            "bin_start": 0.4,
            "bin_end": 0.5,
            "count": 0
           },
           {
            "bin_start": 0.5,
            "bin_end": 0.6000000000000001,
            "count": 0
           },
           {
            "bin_start": 0.6000000000000001,
            "bin_end": 0.7000000000000001,
            "count": 0
           },
           {
            "bin_start": 0.7000000000000001,
            "bin_end": 0.8,
            "count": 0
           },
           {
            "bin_start": 0.8,
            "bin_end": 0.9,
            "count": 0
           },
           {
            "bin_start": 0.9,
            "bin_end": 1,
            "count": 0
           }
          ]
         }
        },
        {
         "name": "Grade 9 Female",
         "dtype": "float64",
         "stats": {
          "unique_count": 0,
          "nan_count": 5,
          "min": null,
          "max": null,
          "histogram": [
           {
            "bin_start": 0,
            "bin_end": 0.1,
            "count": 0
           },
           {
            "bin_start": 0.1,
            "bin_end": 0.2,
            "count": 0
           },
           {
            "bin_start": 0.2,
            "bin_end": 0.30000000000000004,
            "count": 0
           },
           {
            "bin_start": 0.30000000000000004,
            "bin_end": 0.4,
            "count": 0
           },
           {
            "bin_start": 0.4,
            "bin_end": 0.5,
            "count": 0
           },
           {
            "bin_start": 0.5,
            "bin_end": 0.6000000000000001,
            "count": 0
           },
           {
            "bin_start": 0.6000000000000001,
            "bin_end": 0.7000000000000001,
            "count": 0
           },
           {
            "bin_start": 0.7000000000000001,
            "bin_end": 0.8,
            "count": 0
           },
           {
            "bin_start": 0.8,
            "bin_end": 0.9,
            "count": 0
           },
           {
            "bin_start": 0.9,
            "bin_end": 1,
            "count": 0
           }
          ]
         }
        },
        {
         "name": "Grade 10 Male",
         "dtype": "float64",
         "stats": {
          "unique_count": 0,
          "nan_count": 5,
          "min": null,
          "max": null,
          "histogram": [
           {
            "bin_start": 0,
            "bin_end": 0.1,
            "count": 0
           },
           {
            "bin_start": 0.1,
            "bin_end": 0.2,
            "count": 0
           },
           {
            "bin_start": 0.2,
            "bin_end": 0.30000000000000004,
            "count": 0
           },
           {
            "bin_start": 0.30000000000000004,
            "bin_end": 0.4,
            "count": 0
           },
           {
            "bin_start": 0.4,
            "bin_end": 0.5,
            "count": 0
           },
           {
            "bin_start": 0.5,
            "bin_end": 0.6000000000000001,
            "count": 0
           },
           {
            "bin_start": 0.6000000000000001,
            "bin_end": 0.7000000000000001,
            "count": 0
           },
           {
            "bin_start": 0.7000000000000001,
            "bin_end": 0.8,
            "count": 0
           },
           {
            "bin_start": 0.8,
            "bin_end": 0.9,
            "count": 0
           },
           {
            "bin_start": 0.9,
            "bin_end": 1,
            "count": 0
           }
          ]
         }
        },
        {
         "name": "Grade 10 Female",
         "dtype": "float64",
         "stats": {
          "unique_count": 0,
          "nan_count": 5,
          "min": null,
          "max": null,
          "histogram": [
           {
            "bin_start": 0,
            "bin_end": 0.1,
            "count": 0
           },
           {
            "bin_start": 0.1,
            "bin_end": 0.2,
            "count": 0
           },
           {
            "bin_start": 0.2,
            "bin_end": 0.30000000000000004,
            "count": 0
           },
           {
            "bin_start": 0.30000000000000004,
            "bin_end": 0.4,
            "count": 0
           },
           {
            "bin_start": 0.4,
            "bin_end": 0.5,
            "count": 0
           },
           {
            "bin_start": 0.5,
            "bin_end": 0.6000000000000001,
            "count": 0
           },
           {
            "bin_start": 0.6000000000000001,
            "bin_end": 0.7000000000000001,
            "count": 0
           },
           {
            "bin_start": 0.7000000000000001,
            "bin_end": 0.8,
            "count": 0
           },
           {
            "bin_start": 0.8,
            "bin_end": 0.9,
            "count": 0
           },
           {
            "bin_start": 0.9,
            "bin_end": 1,
            "count": 0
           }
          ]
         }
        },
        {
         "name": "Grade 11 Male",
         "dtype": "float64",
         "stats": {
          "unique_count": 0,
          "nan_count": 5,
          "min": null,
          "max": null,
          "histogram": [
           {
            "bin_start": 0,
            "bin_end": 0.1,
            "count": 0
           },
           {
            "bin_start": 0.1,
            "bin_end": 0.2,
            "count": 0
           },
           {
            "bin_start": 0.2,
            "bin_end": 0.30000000000000004,
            "count": 0
           },
           {
            "bin_start": 0.30000000000000004,
            "bin_end": 0.4,
            "count": 0
           },
           {
            "bin_start": 0.4,
            "bin_end": 0.5,
            "count": 0
           },
           {
            "bin_start": 0.5,
            "bin_end": 0.6000000000000001,
            "count": 0
           },
           {
            "bin_start": 0.6000000000000001,
            "bin_end": 0.7000000000000001,
            "count": 0
           },
           {
            "bin_start": 0.7000000000000001,
            "bin_end": 0.8,
            "count": 0
           },
           {
            "bin_start": 0.8,
            "bin_end": 0.9,
            "count": 0
           },
           {
            "bin_start": 0.9,
            "bin_end": 1,
            "count": 0
           }
          ]
         }
        },
        {
         "name": "Grade 11 Female",
         "dtype": "float64",
         "stats": {
          "unique_count": 0,
          "nan_count": 5,
          "min": null,
          "max": null,
          "histogram": [
           {
            "bin_start": 0,
            "bin_end": 0.1,
            "count": 0
           },
           {
            "bin_start": 0.1,
            "bin_end": 0.2,
            "count": 0
           },
           {
            "bin_start": 0.2,
            "bin_end": 0.30000000000000004,
            "count": 0
           },
           {
            "bin_start": 0.30000000000000004,
            "bin_end": 0.4,
            "count": 0
           },
           {
            "bin_start": 0.4,
            "bin_end": 0.5,
            "count": 0
           },
           {
            "bin_start": 0.5,
            "bin_end": 0.6000000000000001,
            "count": 0
           },
           {
            "bin_start": 0.6000000000000001,
            "bin_end": 0.7000000000000001,
            "count": 0
           },
           {
            "bin_start": 0.7000000000000001,
            "bin_end": 0.8,
            "count": 0
           },
           {
            "bin_start": 0.8,
            "bin_end": 0.9,
            "count": 0
           },
           {
            "bin_start": 0.9,
            "bin_end": 1,
            "count": 0
           }
          ]
         }
        },
        {
         "name": "Grade 12 Male",
         "dtype": "float64",
         "stats": {
          "unique_count": 0,
          "nan_count": 5,
          "min": null,
          "max": null,
          "histogram": [
           {
            "bin_start": 0,
            "bin_end": 0.1,
            "count": 0
           },
           {
            "bin_start": 0.1,
            "bin_end": 0.2,
            "count": 0
           },
           {
            "bin_start": 0.2,
            "bin_end": 0.30000000000000004,
            "count": 0
           },
           {
            "bin_start": 0.30000000000000004,
            "bin_end": 0.4,
            "count": 0
           },
           {
            "bin_start": 0.4,
            "bin_end": 0.5,
            "count": 0
           },
           {
            "bin_start": 0.5,
            "bin_end": 0.6000000000000001,
            "count": 0
           },
           {
            "bin_start": 0.6000000000000001,
            "bin_end": 0.7000000000000001,
            "count": 0
           },
           {
            "bin_start": 0.7000000000000001,
            "bin_end": 0.8,
            "count": 0
           },
           {
            "bin_start": 0.8,
            "bin_end": 0.9,
            "count": 0
           },
           {
            "bin_start": 0.9,
            "bin_end": 1,
            "count": 0
           }
          ]
         }
        },
        {
         "name": "Grade 12 Female",
         "dtype": "float64",
         "stats": {
          "unique_count": 0,
          "nan_count": 5,
          "min": null,
          "max": null,
          "histogram": [
           {
            "bin_start": 0,
            "bin_end": 0.1,
            "count": 0
           },
           {
            "bin_start": 0.1,
            "bin_end": 0.2,
            "count": 0
           },
           {
            "bin_start": 0.2,
            "bin_end": 0.30000000000000004,
            "count": 0
           },
           {
            "bin_start": 0.30000000000000004,
            "bin_end": 0.4,
            "count": 0
           },
           {
            "bin_start": 0.4,
            "bin_end": 0.5,
            "count": 0
           },
           {
            "bin_start": 0.5,
            "bin_end": 0.6000000000000001,
            "count": 0
           },
           {
            "bin_start": 0.6000000000000001,
            "bin_end": 0.7000000000000001,
            "count": 0
           },
           {
            "bin_start": 0.7000000000000001,
            "bin_end": 0.8,
            "count": 0
           },
           {
            "bin_start": 0.8,
            "bin_end": 0.9,
            "count": 0
           },
           {
            "bin_start": 0.9,
            "bin_end": 1,
            "count": 0
           }
          ]
         }
        },
        {
         "name": "_deepnote_index_column",
         "dtype": "int64"
        }
       ],
       "rows_top": [
        {
         "School ID": 100001,
         "Kinder Male": 9,
         "Kinder Female": 7,
         "Grade 1 Male": 7,
         "Grade 1 Female": 2,
         "Grade 2 Male": 7,
         "Grade 2 Female": 7,
         "Grade 3 Male": 9,
         "Grade 3 Female": 5,
         "Grade 4 Male": 7,
         "Grade 4 Female": 5,
         "Grade 5 Male": 3,
         "Grade 5 Female": 2,
         "Grade 6 Male": 14,
         "Grade 6 Female": 6,
         "SPED NG Male": 0,
         "SPED NG Female": 0,
         "Grade 7 Male": "nan",
         "Grade 7 Female": "nan",
         "Grade 8 Male": "nan",
         "Grade 8 Female": "nan",
         "Grade 9 Male": "nan",
         "Grade 9 Female": "nan",
         "Grade 10 Male": "nan",
         "Grade 10 Female": "nan",
         "Grade 11 Male": "nan",
         "Grade 11 Female": "nan",
         "Grade 12 Male": "nan",
         "Grade 12 Female": "nan",
         "_deepnote_index_column": 0
        },
        {
         "School ID": 100002,
         "Kinder Male": 41,
         "Kinder Female": 25,
         "Grade 1 Male": 38,
         "Grade 1 Female": 33,
         "Grade 2 Male": 41,
         "Grade 2 Female": 40,
         "Grade 3 Male": 28,
         "Grade 3 Female": 31,
         "Grade 4 Male": 38,
         "Grade 4 Female": 30,
         "Grade 5 Male": 26,
         "Grade 5 Female": 31,
         "Grade 6 Male": 22,
         "Grade 6 Female": 32,
         "SPED NG Male": 0,
         "SPED NG Female": 0,
         "Grade 7 Male": "nan",
         "Grade 7 Female": "nan",
         "Grade 8 Male": "nan",
         "Grade 8 Female": "nan",
         "Grade 9 Male": "nan",
         "Grade 9 Female": "nan",
         "Grade 10 Male": "nan",
         "Grade 10 Female": "nan",
         "Grade 11 Male": "nan",
         "Grade 11 Female": "nan",
         "Grade 12 Male": "nan",
         "Grade 12 Female": "nan",
         "_deepnote_index_column": 1
        },
        {
         "School ID": 100003,
         "Kinder Male": 8,
         "Kinder Female": 10,
         "Grade 1 Male": 13,
         "Grade 1 Female": 15,
         "Grade 2 Male": 13,
         "Grade 2 Female": 13,
         "Grade 3 Male": 16,
         "Grade 3 Female": 16,
         "Grade 4 Male": 14,
         "Grade 4 Female": 11,
         "Grade 5 Male": 9,
         "Grade 5 Female": 12,
         "Grade 6 Male": 12,
         "Grade 6 Female": 5,
         "SPED NG Male": 0,
         "SPED NG Female": 0,
         "Grade 7 Male": "nan",
         "Grade 7 Female": "nan",
         "Grade 8 Male": "nan",
         "Grade 8 Female": "nan",
         "Grade 9 Male": "nan",
         "Grade 9 Female": "nan",
         "Grade 10 Male": "nan",
         "Grade 10 Female": "nan",
         "Grade 11 Male": "nan",
         "Grade 11 Female": "nan",
         "Grade 12 Male": "nan",
         "Grade 12 Female": "nan",
         "_deepnote_index_column": 2
        },
        {
         "School ID": 100004,
         "Kinder Male": 8,
         "Kinder Female": 4,
         "Grade 1 Male": 9,
         "Grade 1 Female": 12,
         "Grade 2 Male": 12,
         "Grade 2 Female": 10,
         "Grade 3 Male": 10,
         "Grade 3 Female": 5,
         "Grade 4 Male": 14,
         "Grade 4 Female": 11,
         "Grade 5 Male": 5,
         "Grade 5 Female": 7,
         "Grade 6 Male": 10,
         "Grade 6 Female": 5,
         "SPED NG Male": 0,
         "SPED NG Female": 0,
         "Grade 7 Male": "nan",
         "Grade 7 Female": "nan",
         "Grade 8 Male": "nan",
         "Grade 8 Female": "nan",
         "Grade 9 Male": "nan",
         "Grade 9 Female": "nan",
         "Grade 10 Male": "nan",
         "Grade 10 Female": "nan",
         "Grade 11 Male": "nan",
         "Grade 11 Female": "nan",
         "Grade 12 Male": "nan",
         "Grade 12 Female": "nan",
         "_deepnote_index_column": 3
        },
        {
         "School ID": 100005,
         "Kinder Male": 4,
         "Kinder Female": 2,
         "Grade 1 Male": 5,
         "Grade 1 Female": 7,
         "Grade 2 Male": 4,
         "Grade 2 Female": 6,
         "Grade 3 Male": 3,
         "Grade 3 Female": 8,
         "Grade 4 Male": 11,
         "Grade 4 Female": 5,
         "Grade 5 Male": 7,
         "Grade 5 Female": 4,
         "Grade 6 Male": 3,
         "Grade 6 Female": 8,
         "SPED NG Male": 0,
         "SPED NG Female": 0,
         "Grade 7 Male": "nan",
         "Grade 7 Female": "nan",
         "Grade 8 Male": "nan",
         "Grade 8 Female": "nan",
         "Grade 9 Male": "nan",
         "Grade 9 Female": "nan",
         "Grade 10 Male": "nan",
         "Grade 10 Female": "nan",
         "Grade 11 Male": "nan",
         "Grade 11 Female": "nan",
         "Grade 12 Male": "nan",
         "Grade 12 Female": "nan",
         "_deepnote_index_column": 4
        }
       ],
       "rows_bottom": null
      },
      "text/plain": "   School ID  Kinder Male  Kinder Female  Grade 1 Male  Grade 1 Female  \\\n0     100001          9.0            7.0           7.0             2.0   \n1     100002         41.0           25.0          38.0            33.0   \n2     100003          8.0           10.0          13.0            15.0   \n3     100004          8.0            4.0           9.0            12.0   \n4     100005          4.0            2.0           5.0             7.0   \n\n   Grade 2 Male  Grade 2 Female  Grade 3 Male  Grade 3 Female  Grade 4 Male  \\\n0           7.0             7.0           9.0             5.0           7.0   \n1          41.0            40.0          28.0            31.0          38.0   \n2          13.0            13.0          16.0            16.0          14.0   \n3          12.0            10.0          10.0             5.0          14.0   \n4           4.0             6.0           3.0             8.0          11.0   \n\n   ...  Grade 8 Male  Grade 8 Female  Grade 9 Male  Grade 9 Female  \\\n0  ...           NaN             NaN           NaN             NaN   \n1  ...           NaN             NaN           NaN             NaN   \n2  ...           NaN             NaN           NaN             NaN   \n3  ...           NaN             NaN           NaN             NaN   \n4  ...           NaN             NaN           NaN             NaN   \n\n   Grade 10 Male  Grade 10 Female  Grade 11 Male  Grade 11 Female  \\\n0            NaN              NaN            NaN              NaN   \n1            NaN              NaN            NaN              NaN   \n2            NaN              NaN            NaN              NaN   \n3            NaN              NaN            NaN              NaN   \n4            NaN              NaN            NaN              NaN   \n\n   Grade 12 Male  Grade 12 Female  \n0            NaN              NaN  \n1            NaN              NaN  \n2            NaN              NaN  \n3            NaN              NaN  \n4            NaN              NaN  \n\n[5 rows x 29 columns]",
      "text/html": "<div>\n<style scoped>\n    .dataframe tbody tr th:only-of-type {\n        vertical-align: middle;\n    }\n\n    .dataframe tbody tr th {\n        vertical-align: top;\n    }\n\n    .dataframe thead th {\n        text-align: right;\n    }\n</style>\n<table border=\"1\" class=\"dataframe\">\n  <thead>\n    <tr style=\"text-align: right;\">\n      <th></th>\n      <th>School ID</th>\n      <th>Kinder Male</th>\n      <th>Kinder Female</th>\n      <th>Grade 1 Male</th>\n      <th>Grade 1 Female</th>\n      <th>Grade 2 Male</th>\n      <th>Grade 2 Female</th>\n      <th>Grade 3 Male</th>\n      <th>Grade 3 Female</th>\n      <th>Grade 4 Male</th>\n      <th>...</th>\n      <th>Grade 8 Male</th>\n      <th>Grade 8 Female</th>\n      <th>Grade 9 Male</th>\n      <th>Grade 9 Female</th>\n      <th>Grade 10 Male</th>\n      <th>Grade 10 Female</th>\n      <th>Grade 11 Male</th>\n      <th>Grade 11 Female</th>\n      <th>Grade 12 Male</th>\n      <th>Grade 12 Female</th>\n    </tr>\n  </thead>\n  <tbody>\n    <tr>\n      <th>0</th>\n      <td>100001</td>\n      <td>9.0</td>\n      <td>7.0</td>\n      <td>7.0</td>\n      <td>2.0</td>\n      <td>7.0</td>\n      <td>7.0</td>\n      <td>9.0</td>\n      <td>5.0</td>\n      <td>7.0</td>\n      <td>...</td>\n      <td>NaN</td>\n      <td>NaN</td>\n      <td>NaN</td>\n      <td>NaN</td>\n      <td>NaN</td>\n      <td>NaN</td>\n      <td>NaN</td>\n      <td>NaN</td>\n      <td>NaN</td>\n      <td>NaN</td>\n    </tr>\n    <tr>\n      <th>1</th>\n      <td>100002</td>\n      <td>41.0</td>\n      <td>25.0</td>\n      <td>38.0</td>\n      <td>33.0</td>\n      <td>41.0</td>\n      <td>40.0</td>\n      <td>28.0</td>\n      <td>31.0</td>\n      <td>38.0</td>\n      <td>...</td>\n      <td>NaN</td>\n      <td>NaN</td>\n      <td>NaN</td>\n      <td>NaN</td>\n      <td>NaN</td>\n      <td>NaN</td>\n      <td>NaN</td>\n      <td>NaN</td>\n      <td>NaN</td>\n      <td>NaN</td>\n    </tr>\n    <tr>\n      <th>2</th>\n      <td>100003</td>\n      <td>8.0</td>\n      <td>10.0</td>\n      <td>13.0</td>\n      <td>15.0</td>\n      <td>13.0</td>\n      <td>13.0</td>\n      <td>16.0</td>\n      <td>16.0</td>\n      <td>14.0</td>\n      <td>...</td>\n      <td>NaN</td>\n      <td>NaN</td>\n      <td>NaN</td>\n      <td>NaN</td>\n      <td>NaN</td>\n      <td>NaN</td>\n      <td>NaN</td>\n      <td>NaN</td>\n      <td>NaN</td>\n      <td>NaN</td>\n    </tr>\n    <tr>\n      <th>3</th>\n      <td>100004</td>\n      <td>8.0</td>\n      <td>4.0</td>\n      <td>9.0</td>\n      <td>12.0</td>\n      <td>12.0</td>\n      <td>10.0</td>\n      <td>10.0</td>\n      <td>5.0</td>\n      <td>14.0</td>\n      <td>...</td>\n      <td>NaN</td>\n      <td>NaN</td>\n      <td>NaN</td>\n      <td>NaN</td>\n      <td>NaN</td>\n      <td>NaN</td>\n      <td>NaN</td>\n      <td>NaN</td>\n      <td>NaN</td>\n      <td>NaN</td>\n    </tr>\n    <tr>\n      <th>4</th>\n      <td>100005</td>\n      <td>4.0</td>\n      <td>2.0</td>\n      <td>5.0</td>\n      <td>7.0</td>\n      <td>4.0</td>\n      <td>6.0</td>\n      <td>3.0</td>\n      <td>8.0</td>\n      <td>11.0</td>\n      <td>...</td>\n      <td>NaN</td>\n      <td>NaN</td>\n      <td>NaN</td>\n      <td>NaN</td>\n      <td>NaN</td>\n      <td>NaN</td>\n      <td>NaN</td>\n      <td>NaN</td>\n      <td>NaN</td>\n      <td>NaN</td>\n    </tr>\n  </tbody>\n</table>\n<p>5 rows × 29 columns</p>\n</div>"
     },
     "metadata": {}
    }
   ]
  },
  {
   "cell_type": "code",
   "metadata": {
    "cell_id": "00030-ea007844-e4a6-4cd6-b223-7fa6484c64fa",
    "deepnote_to_be_reexecuted": false,
    "source_hash": "7b483b09",
    "execution_start": 1621509793430,
    "execution_millis": 4,
    "deepnote_cell_type": "code"
   },
   "source": "enrol_all = enrol_all.fillna(0)",
   "execution_count": 37,
   "outputs": []
  },
  {
   "cell_type": "code",
   "metadata": {
    "cell_id": "00031-f88c4537-0d32-473c-918a-32d89ea2e5f9",
    "deepnote_to_be_reexecuted": false,
    "source_hash": "e1a859f2",
    "execution_start": 1621509793466,
    "execution_millis": 6,
    "deepnote_cell_type": "code"
   },
   "source": "mooe.head()",
   "execution_count": 38,
   "outputs": [
    {
     "output_type": "execute_result",
     "execution_count": 38,
     "data": {
      "application/vnd.deepnote.dataframe.v2+json": {
       "row_count": 5,
       "column_count": 2,
       "columns": [
        {
         "name": "school.id",
         "dtype": "float64",
         "stats": {
          "unique_count": 5,
          "nan_count": 0,
          "min": "134966.0",
          "max": "305075.0",
          "histogram": [
           {
            "bin_start": 134966,
            "bin_end": 151976.9,
            "count": 4
           },
           {
            "bin_start": 151976.9,
            "bin_end": 168987.8,
            "count": 0
           },
           {
            "bin_start": 168987.8,
            "bin_end": 185998.7,
            "count": 0
           },
           {
            "bin_start": 185998.7,
            "bin_end": 203009.6,
            "count": 0
           },
           {
            "bin_start": 203009.6,
            "bin_end": 220020.5,
            "count": 0
           },
           {
            "bin_start": 220020.5,
            "bin_end": 237031.40000000002,
            "count": 0
           },
           {
            "bin_start": 237031.40000000002,
            "bin_end": 254042.30000000002,
            "count": 0
           },
           {
            "bin_start": 254042.30000000002,
            "bin_end": 271053.2,
            "count": 0
           },
           {
            "bin_start": 271053.2,
            "bin_end": 288064.1,
            "count": 0
           },
           {
            "bin_start": 288064.1,
            "bin_end": 305075,
            "count": 1
           }
          ]
         }
        },
        {
         "name": " school.mooe ",
         "dtype": "float64",
         "stats": {
          "unique_count": 5,
          "nan_count": 0,
          "min": "144000.0",
          "max": "2182000.0",
          "histogram": [
           {
            "bin_start": 144000,
            "bin_end": 347800,
            "count": 4
           },
           {
            "bin_start": 347800,
            "bin_end": 551600,
            "count": 0
           },
           {
            "bin_start": 551600,
            "bin_end": 755400,
            "count": 0
           },
           {
            "bin_start": 755400,
            "bin_end": 959200,
            "count": 0
           },
           {
            "bin_start": 959200,
            "bin_end": 1163000,
            "count": 0
           },
           {
            "bin_start": 1163000,
            "bin_end": 1366800,
            "count": 0
           },
           {
            "bin_start": 1366800,
            "bin_end": 1570600,
            "count": 0
           },
           {
            "bin_start": 1570600,
            "bin_end": 1774400,
            "count": 0
           },
           {
            "bin_start": 1774400,
            "bin_end": 1978200,
            "count": 0
           },
           {
            "bin_start": 1978200,
            "bin_end": 2182000,
            "count": 1
           }
          ]
         }
        },
        {
         "name": "_deepnote_index_column",
         "dtype": "int64"
        }
       ],
       "rows_top": [
        {
         "school.id": 305075,
         " school.mooe ": 2182000,
         "_deepnote_index_column": 0
        },
        {
         "school.id": 134966,
         " school.mooe ": 227000,
         "_deepnote_index_column": 1
        },
        {
         "school.id": 134967,
         " school.mooe ": 144000,
         "_deepnote_index_column": 2
        },
        {
         "school.id": 134968,
         " school.mooe ": 339000,
         "_deepnote_index_column": 3
        },
        {
         "school.id": 134969,
         " school.mooe ": 178000,
         "_deepnote_index_column": 4
        }
       ],
       "rows_bottom": null
      },
      "text/plain": "   school.id   school.mooe \n0   305075.0      2182000.0\n1   134966.0       227000.0\n2   134967.0       144000.0\n3   134968.0       339000.0\n4   134969.0       178000.0",
      "text/html": "<div>\n<style scoped>\n    .dataframe tbody tr th:only-of-type {\n        vertical-align: middle;\n    }\n\n    .dataframe tbody tr th {\n        vertical-align: top;\n    }\n\n    .dataframe thead th {\n        text-align: right;\n    }\n</style>\n<table border=\"1\" class=\"dataframe\">\n  <thead>\n    <tr style=\"text-align: right;\">\n      <th></th>\n      <th>school.id</th>\n      <th>school.mooe</th>\n    </tr>\n  </thead>\n  <tbody>\n    <tr>\n      <th>0</th>\n      <td>305075.0</td>\n      <td>2182000.0</td>\n    </tr>\n    <tr>\n      <th>1</th>\n      <td>134966.0</td>\n      <td>227000.0</td>\n    </tr>\n    <tr>\n      <th>2</th>\n      <td>134967.0</td>\n      <td>144000.0</td>\n    </tr>\n    <tr>\n      <th>3</th>\n      <td>134968.0</td>\n      <td>339000.0</td>\n    </tr>\n    <tr>\n      <th>4</th>\n      <td>134969.0</td>\n      <td>178000.0</td>\n    </tr>\n  </tbody>\n</table>\n</div>"
     },
     "metadata": {}
    }
   ]
  },
  {
   "cell_type": "code",
   "metadata": {
    "cell_id": "00032-d68e6f5e-e8d1-4d74-b5a0-ee34e1cd4530",
    "deepnote_to_be_reexecuted": false,
    "source_hash": "344e26b7",
    "execution_start": 1621509793467,
    "execution_millis": 0,
    "deepnote_cell_type": "code"
   },
   "source": "mooe = mooe[[\"school.id\", \" school.mooe \"]]",
   "execution_count": 39,
   "outputs": []
  },
  {
   "cell_type": "code",
   "metadata": {
    "scrolled": true,
    "cell_id": "00033-a0be541e-166f-465d-ae9e-6cf368862ec4",
    "deepnote_to_be_reexecuted": false,
    "source_hash": "30cd77d6",
    "execution_start": 1621509793494,
    "execution_millis": 206,
    "deepnote_cell_type": "code"
   },
   "source": "df_sped",
   "execution_count": 40,
   "outputs": [
    {
     "output_type": "execute_result",
     "execution_count": 40,
     "data": {
      "application/vnd.deepnote.dataframe.v2+json": {
       "row_count": 900,
       "column_count": 63,
       "columns": [
        {
         "name": "school.id",
         "dtype": "int64",
         "stats": {
          "unique_count": 900,
          "nan_count": 0,
          "min": "100010",
          "max": "324729",
          "histogram": [
           {
            "bin_start": 100010,
            "bin_end": 122481.9,
            "count": 564
           },
           {
            "bin_start": 122481.9,
            "bin_end": 144953.8,
            "count": 229
           },
           {
            "bin_start": 144953.8,
            "bin_end": 167425.7,
            "count": 5
           },
           {
            "bin_start": 167425.7,
            "bin_end": 189897.6,
            "count": 11
           },
           {
            "bin_start": 189897.6,
            "bin_end": 212369.5,
            "count": 24
           },
           {
            "bin_start": 212369.5,
            "bin_end": 234841.40000000002,
            "count": 11
           },
           {
            "bin_start": 234841.40000000002,
            "bin_end": 257313.30000000002,
            "count": 3
           },
           {
            "bin_start": 257313.30000000002,
            "bin_end": 279785.2,
            "count": 0
           },
           {
            "bin_start": 279785.2,
            "bin_end": 302257.1,
            "count": 25
           },
           {
            "bin_start": 302257.1,
            "bin_end": 324729,
            "count": 28
           }
          ]
         }
        },
        {
         "name": "school.name",
         "dtype": "object",
         "stats": {
          "unique_count": 882,
          "nan_count": 0,
          "categories": [
           {
            "name": "San Jose ES",
            "count": 5
           },
           {
            "name": "Alaminos CS",
            "count": 2
           },
           {
            "name": "880 others",
            "count": 893
           }
          ]
         }
        },
        {
         "name": "school.region",
         "dtype": "object",
         "stats": {
          "unique_count": 17,
          "nan_count": 0,
          "categories": [
           {
            "name": "Region III",
            "count": 141
           },
           {
            "name": "Region IV-A",
            "count": 122
           },
           {
            "name": "15 others",
            "count": 637
           }
          ]
         }
        },
        {
         "name": "school.region.name",
         "dtype": "object",
         "stats": {
          "unique_count": 17,
          "nan_count": 0,
          "categories": [
           {
            "name": "Central Luzon",
            "count": 141
           },
           {
            "name": "CALABARZON",
            "count": 122
           },
           {
            "name": "15 others",
            "count": 637
           }
          ]
         }
        },
        {
         "name": "school.province",
         "dtype": "object",
         "stats": {
          "unique_count": 80,
          "nan_count": 0,
          "categories": [
           {
            "name": "PANGASINAN",
            "count": 80
           },
           {
            "name": "BATANGAS",
            "count": 53
           },
           {
            "name": "78 others",
            "count": 767
           }
          ]
         }
        },
        {
         "name": "school.cityhall",
         "dtype": "object",
         "stats": {
          "unique_count": 102,
          "nan_count": 0,
          "categories": [
           {
            "name": "PANGASINAN",
            "count": 80
           },
           {
            "name": "BATANGAS",
            "count": 53
           },
           {
            "name": "100 others",
            "count": 767
           }
          ]
         }
        },
        {
         "name": "school.division",
         "dtype": "object",
         "stats": {
          "unique_count": 194,
          "nan_count": 0,
          "categories": [
           {
            "name": "Batangas",
            "count": 45
           },
           {
            "name": "San Carlos City",
            "count": 29
           },
           {
            "name": "192 others",
            "count": 826
           }
          ]
         }
        },
        {
         "name": "school.citymuni",
         "dtype": "object",
         "stats": {
          "unique_count": 543,
          "nan_count": 0,
          "categories": [
           {
            "name": "SAN CARLOS CITY",
            "count": 29
           },
           {
            "name": "QUEZON CITY",
            "count": 21
           },
           {
            "name": "541 others",
            "count": 850
           }
          ]
         }
        },
        {
         "name": "school.district",
         "dtype": "object",
         "stats": {
          "unique_count": 703,
          "nan_count": 0,
          "categories": [
           {
            "name": "San Carlos City District I",
            "count": 12
           },
           {
            "name": "San Carlos City District II",
            "count": 9
           },
           {
            "name": "701 others",
            "count": 879
           }
          ]
         }
        },
        {
         "name": "school.legdistrict",
         "dtype": "object",
         "stats": {
          "unique_count": 8,
          "nan_count": 0,
          "categories": [
           {
            "name": "2nd District",
            "count": 265
           },
           {
            "name": "1st District",
            "count": 264
           },
           {
            "name": "6 others",
            "count": 371
           }
          ]
         }
        },
        {
         "name": "school.type",
         "dtype": "object",
         "stats": {
          "unique_count": 4,
          "nan_count": 0,
          "categories": [
           {
            "name": "School with no Annexes",
            "count": 860
           },
           {
            "name": "Mother school",
            "count": 38
           },
           {
            "name": "2 others",
            "count": 2
           }
          ]
         }
        },
        {
         "name": "school.abbrev",
         "dtype": "object",
         "stats": {
          "unique_count": 366,
          "nan_count": 407,
          "categories": [
           {
            "name": "none",
            "count": 24
           },
           {
            "name": "365 others",
            "count": 469
           },
           {
            "name": "Missing",
            "count": 407
           }
          ]
         }
        },
        {
         "name": "school.previousname",
         "dtype": "object",
         "stats": {
          "unique_count": 253,
          "nan_count": 80,
          "categories": [
           {
            "name": "-",
            "count": 508
           },
           {
            "name": "252 others",
            "count": 312
           },
           {
            "name": "Missing",
            "count": 80
           }
          ]
         }
        },
        {
         "name": "school.mother.id",
         "dtype": "float64",
         "stats": {
          "unique_count": 900,
          "nan_count": 0,
          "min": "100010.0",
          "max": "324729.0",
          "histogram": [
           {
            "bin_start": 100010,
            "bin_end": 122481.9,
            "count": 564
           },
           {
            "bin_start": 122481.9,
            "bin_end": 144953.8,
            "count": 229
           },
           {
            "bin_start": 144953.8,
            "bin_end": 167425.7,
            "count": 5
           },
           {
            "bin_start": 167425.7,
            "bin_end": 189897.6,
            "count": 11
           },
           {
            "bin_start": 189897.6,
            "bin_end": 212369.5,
            "count": 24
           },
           {
            "bin_start": 212369.5,
            "bin_end": 234841.40000000002,
            "count": 11
           },
           {
            "bin_start": 234841.40000000002,
            "bin_end": 257313.30000000002,
            "count": 3
           },
           {
            "bin_start": 257313.30000000002,
            "bin_end": 279785.2,
            "count": 0
           },
           {
            "bin_start": 279785.2,
            "bin_end": 302257.1,
            "count": 25
           },
           {
            "bin_start": 302257.1,
            "bin_end": 324729,
            "count": 28
           }
          ]
         }
        },
        {
         "name": "school.address",
         "dtype": "object",
         "stats": {
          "unique_count": 683,
          "nan_count": 10,
          "categories": [
           {
            "name": "-",
            "count": 104
           },
           {
            "name": "682 others",
            "count": 786
           },
           {
            "name": "Missing",
            "count": 10
           }
          ]
         }
        },
        {
         "name": "school.established",
         "dtype": "object",
         "stats": {
          "unique_count": 167,
          "nan_count": 0,
          "categories": [
           {
            "name": "1/1/2000",
            "count": 111
           },
           {
            "name": "1/1/2002",
            "count": 23
           },
           {
            "name": "165 others",
            "count": 766
           }
          ]
         }
        },
        {
         "name": "school.classification",
         "dtype": "object",
         "stats": {
          "unique_count": 2,
          "nan_count": 0,
          "categories": [
           {
            "name": "Elementary",
            "count": 847
           },
           {
            "name": "Secondary",
            "count": 53
           }
          ]
         }
        },
        {
         "name": "school.classification2",
         "dtype": "object",
         "stats": {
          "unique_count": 2,
          "nan_count": 0,
          "categories": [
           {
            "name": "DepED Managed",
            "count": 896
           },
           {
            "name": "Local Government",
            "count": 4
           }
          ]
         }
        },
        {
         "name": "school.curricularclass",
         "dtype": "object",
         "stats": {
          "unique_count": 5,
          "nan_count": 0,
          "categories": [
           {
            "name": "Elementary",
            "count": 558
           },
           {
            "name": "Kinder & Elementary",
            "count": 269
           },
           {
            "name": "3 others",
            "count": 73
           }
          ]
         }
        },
        {
         "name": "school.organization",
         "dtype": "object",
         "stats": {
          "unique_count": 3,
          "nan_count": 0,
          "categories": [
           {
            "name": "Monograde",
            "count": 840
           },
           {
            "name": "Combined Monograde and Multigrade",
            "count": 54
           },
           {
            "name": "Multigrade",
            "count": 6
           }
          ]
         }
        },
        {
         "name": "school.cityincome",
         "dtype": "object",
         "stats": {
          "unique_count": 12,
          "nan_count": 26,
          "categories": [
           {
            "name": "P 55 M or more",
            "count": 285
           },
           {
            "name": "11 others",
            "count": 589
           },
           {
            "name": "Missing",
            "count": 26
           }
          ]
         }
        },
        {
         "name": "school.cityclass",
         "dtype": "object",
         "stats": {
          "unique_count": 3,
          "nan_count": 585,
          "categories": [
           {
            "name": "Component City",
            "count": 173
           },
           {
            "name": "2 others",
            "count": 142
           },
           {
            "name": "Missing",
            "count": 585
           }
          ]
         }
        },
        {
         "name": "school.urban",
         "dtype": "object",
         "stats": {
          "unique_count": 3,
          "nan_count": 1,
          "categories": [
           {
            "name": "Partially Urban",
            "count": 690
           },
           {
            "name": "2 others",
            "count": 209
           },
           {
            "name": "Missing",
            "count": 1
           }
          ]
         }
        },
        {
         "name": "School ID_x",
         "dtype": "float64",
         "stats": {
          "unique_count": 900,
          "nan_count": 0,
          "min": "100010.0",
          "max": "324729.0",
          "histogram": [
           {
            "bin_start": 100010,
            "bin_end": 122481.9,
            "count": 564
           },
           {
            "bin_start": 122481.9,
            "bin_end": 144953.8,
            "count": 229
           },
           {
            "bin_start": 144953.8,
            "bin_end": 167425.7,
            "count": 5
           },
           {
            "bin_start": 167425.7,
            "bin_end": 189897.6,
            "count": 11
           },
           {
            "bin_start": 189897.6,
            "bin_end": 212369.5,
            "count": 24
           },
           {
            "bin_start": 212369.5,
            "bin_end": 234841.40000000002,
            "count": 11
           },
           {
            "bin_start": 234841.40000000002,
            "bin_end": 257313.30000000002,
            "count": 3
           },
           {
            "bin_start": 257313.30000000002,
            "bin_end": 279785.2,
            "count": 0
           },
           {
            "bin_start": 279785.2,
            "bin_end": 302257.1,
            "count": 25
           },
           {
            "bin_start": 302257.1,
            "bin_end": 324729,
            "count": 28
           }
          ]
         }
        },
        {
         "name": "Kinder Male",
         "dtype": "float64",
         "stats": {
          "unique_count": 238,
          "nan_count": 53,
          "min": "0.0",
          "max": "617.0",
          "histogram": [
           {
            "bin_start": 0,
            "bin_end": 61.7,
            "count": 386
           },
           {
            "bin_start": 61.7,
            "bin_end": 123.4,
            "count": 267
           },
           {
            "bin_start": 123.4,
            "bin_end": 185.10000000000002,
            "count": 109
           },
           {
            "bin_start": 185.10000000000002,
            "bin_end": 246.8,
            "count": 52
           },
           {
            "bin_start": 246.8,
            "bin_end": 308.5,
            "count": 17
           },
           {
            "bin_start": 308.5,
            "bin_end": 370.20000000000005,
            "count": 8
           },
           {
            "bin_start": 370.20000000000005,
            "bin_end": 431.90000000000003,
            "count": 6
           },
           {
            "bin_start": 431.90000000000003,
            "bin_end": 493.6,
            "count": 0
           },
           {
            "bin_start": 493.6,
            "bin_end": 555.3000000000001,
            "count": 1
           },
           {
            "bin_start": 555.3000000000001,
            "bin_end": 617,
            "count": 1
           }
          ]
         }
        },
        {
         "name": "Kinder Female",
         "dtype": "float64",
         "stats": {
          "unique_count": 230,
          "nan_count": 53,
          "min": "0.0",
          "max": "583.0",
          "histogram": [
           {
            "bin_start": 0,
            "bin_end": 58.3,
            "count": 383
           },
           {
            "bin_start": 58.3,
            "bin_end": 116.6,
            "count": 262
           },
           {
            "bin_start": 116.6,
            "bin_end": 174.89999999999998,
            "count": 109
           },
           {
            "bin_start": 174.89999999999998,
            "bin_end": 233.2,
            "count": 56
           },
           {
            "bin_start": 233.2,
            "bin_end": 291.5,
            "count": 19
           },
           {
            "bin_start": 291.5,
            "bin_end": 349.79999999999995,
            "count": 9
           },
           {
            "bin_start": 349.79999999999995,
            "bin_end": 408.09999999999997,
            "count": 5
           },
           {
            "bin_start": 408.09999999999997,
            "bin_end": 466.4,
            "count": 2
           },
           {
            "bin_start": 466.4,
            "bin_end": 524.6999999999999,
            "count": 1
           },
           {
            "bin_start": 524.6999999999999,
            "bin_end": 583,
            "count": 1
           }
          ]
         }
        },
        {
         "name": "Grade 1 Male",
         "dtype": "float64",
         "stats": {
          "unique_count": 291,
          "nan_count": 53,
          "min": "3.0",
          "max": "814.0",
          "histogram": [
           {
            "bin_start": 3,
            "bin_end": 84.1,
            "count": 409
           },
           {
            "bin_start": 84.1,
            "bin_end": 165.2,
            "count": 235
           },
           {
            "bin_start": 165.2,
            "bin_end": 246.29999999999998,
            "count": 114
           },
           {
            "bin_start": 246.29999999999998,
            "bin_end": 327.4,
            "count": 48
           },
           {
            "bin_start": 327.4,
            "bin_end": 408.5,
            "count": 16
           },
           {
            "bin_start": 408.5,
            "bin_end": 489.59999999999997,
            "count": 12
           },
           {
            "bin_start": 489.59999999999997,
            "bin_end": 570.6999999999999,
            "count": 3
           },
           {
            "bin_start": 570.6999999999999,
            "bin_end": 651.8,
            "count": 3
           },
           {
            "bin_start": 651.8,
            "bin_end": 732.9,
            "count": 4
           },
           {
            "bin_start": 732.9,
            "bin_end": 814,
            "count": 3
           }
          ]
         }
        },
        {
         "name": "Grade 1 Female",
         "dtype": "float64",
         "stats": {
          "unique_count": 283,
          "nan_count": 53,
          "min": "1.0",
          "max": "691.0",
          "histogram": [
           {
            "bin_start": 1,
            "bin_end": 70,
            "count": 372
           },
           {
            "bin_start": 70,
            "bin_end": 139,
            "count": 243
           },
           {
            "bin_start": 139,
            "bin_end": 208,
            "count": 115
           },
           {
            "bin_start": 208,
            "bin_end": 277,
            "count": 56
           },
           {
            "bin_start": 277,
            "bin_end": 346,
            "count": 27
           },
           {
            "bin_start": 346,
            "bin_end": 415,
            "count": 15
           },
           {
            "bin_start": 415,
            "bin_end": 484,
            "count": 9
           },
           {
            "bin_start": 484,
            "bin_end": 553,
            "count": 2
           },
           {
            "bin_start": 553,
            "bin_end": 622,
            "count": 1
           },
           {
            "bin_start": 622,
            "bin_end": 691,
            "count": 7
           }
          ]
         }
        },
        {
         "name": "Grade 2 Male",
         "dtype": "float64",
         "stats": {
          "unique_count": 290,
          "nan_count": 53,
          "min": "1.0",
          "max": "783.0",
          "histogram": [
           {
            "bin_start": 1,
            "bin_end": 79.2,
            "count": 386
           },
           {
            "bin_start": 79.2,
            "bin_end": 157.4,
            "count": 256
           },
           {
            "bin_start": 157.4,
            "bin_end": 235.60000000000002,
            "count": 104
           },
           {
            "bin_start": 235.60000000000002,
            "bin_end": 313.8,
            "count": 51
           },
           {
            "bin_start": 313.8,
            "bin_end": 392,
            "count": 24
           },
           {
            "bin_start": 392,
            "bin_end": 470.20000000000005,
            "count": 13
           },
           {
            "bin_start": 470.20000000000005,
            "bin_end": 548.4,
            "count": 4
           },
           {
            "bin_start": 548.4,
            "bin_end": 626.6,
            "count": 3
           },
           {
            "bin_start": 626.6,
            "bin_end": 704.8000000000001,
            "count": 3
           },
           {
            "bin_start": 704.8000000000001,
            "bin_end": 783,
            "count": 3
           }
          ]
         }
        },
        {
         "name": "Grade 2 Female",
         "dtype": "float64",
         "stats": {
          "unique_count": 272,
          "nan_count": 53,
          "min": "2.0",
          "max": "694.0",
          "histogram": [
           {
            "bin_start": 2,
            "bin_end": 71.2,
            "count": 382
           },
           {
            "bin_start": 71.2,
            "bin_end": 140.4,
            "count": 246
           },
           {
            "bin_start": 140.4,
            "bin_end": 209.60000000000002,
            "count": 104
           },
           {
            "bin_start": 209.60000000000002,
            "bin_end": 278.8,
            "count": 65
           },
           {
            "bin_start": 278.8,
            "bin_end": 348,
            "count": 21
           },
           {
            "bin_start": 348,
            "bin_end": 417.20000000000005,
            "count": 13
           },
           {
            "bin_start": 417.20000000000005,
            "bin_end": 486.40000000000003,
            "count": 5
           },
           {
            "bin_start": 486.40000000000003,
            "bin_end": 555.6,
            "count": 5
           },
           {
            "bin_start": 555.6,
            "bin_end": 624.8000000000001,
            "count": 2
           },
           {
            "bin_start": 624.8000000000001,
            "bin_end": 694,
            "count": 4
           }
          ]
         }
        },
        {
         "name": "Grade 3 Male",
         "dtype": "float64",
         "stats": {
          "unique_count": 318,
          "nan_count": 53,
          "min": "0.0",
          "max": "871.0",
          "histogram": [
           {
            "bin_start": 0,
            "bin_end": 87.1,
            "count": 387
           },
           {
            "bin_start": 87.1,
            "bin_end": 174.2,
            "count": 241
           },
           {
            "bin_start": 174.2,
            "bin_end": 261.29999999999995,
            "count": 114
           },
           {
            "bin_start": 261.29999999999995,
            "bin_end": 348.4,
            "count": 61
           },
           {
            "bin_start": 348.4,
            "bin_end": 435.5,
            "count": 25
           },
           {
            "bin_start": 435.5,
            "bin_end": 522.5999999999999,
            "count": 7
           },
           {
            "bin_start": 522.5999999999999,
            "bin_end": 609.6999999999999,
            "count": 4
           },
           {
            "bin_start": 609.6999999999999,
            "bin_end": 696.8,
            "count": 4
           },
           {
            "bin_start": 696.8,
            "bin_end": 783.9,
            "count": 3
           },
           {
            "bin_start": 783.9,
            "bin_end": 871,
            "count": 1
           }
          ]
         }
        },
        {
         "name": "Grade 3 Female",
         "dtype": "float64",
         "stats": {
          "unique_count": 288,
          "nan_count": 53,
          "min": "0.0",
          "max": "752.0",
          "histogram": [
           {
            "bin_start": 0,
            "bin_end": 75.2,
            "count": 374
           },
           {
            "bin_start": 75.2,
            "bin_end": 150.4,
            "count": 248
           },
           {
            "bin_start": 150.4,
            "bin_end": 225.60000000000002,
            "count": 116
           },
           {
            "bin_start": 225.60000000000002,
            "bin_end": 300.8,
            "count": 60
           },
           {
            "bin_start": 300.8,
            "bin_end": 376,
            "count": 26
           },
           {
            "bin_start": 376,
            "bin_end": 451.20000000000005,
            "count": 8
           },
           {
            "bin_start": 451.20000000000005,
            "bin_end": 526.4,
            "count": 5
           },
           {
            "bin_start": 526.4,
            "bin_end": 601.6,
            "count": 3
           },
           {
            "bin_start": 601.6,
            "bin_end": 676.8000000000001,
            "count": 4
           },
           {
            "bin_start": 676.8000000000001,
            "bin_end": 752,
            "count": 3
           }
          ]
         }
        },
        {
         "name": "Grade 4 Male",
         "dtype": "float64",
         "stats": {
          "unique_count": 293,
          "nan_count": 53,
          "min": "0.0",
          "max": "766.0",
          "histogram": [
           {
            "bin_start": 0,
            "bin_end": 76.6,
            "count": 359
           },
           {
            "bin_start": 76.6,
            "bin_end": 153.2,
            "count": 264
           },
           {
            "bin_start": 153.2,
            "bin_end": 229.79999999999998,
            "count": 118
           },
           {
            "bin_start": 229.79999999999998,
            "bin_end": 306.4,
            "count": 59
           },
           {
            "bin_start": 306.4,
            "bin_end": 383,
            "count": 23
           },
           {
            "bin_start": 383,
            "bin_end": 459.59999999999997,
            "count": 11
           },
           {
            "bin_start": 459.59999999999997,
            "bin_end": 536.1999999999999,
            "count": 4
           },
           {
            "bin_start": 536.1999999999999,
            "bin_end": 612.8,
            "count": 3
           },
           {
            "bin_start": 612.8,
            "bin_end": 689.4,
            "count": 3
           },
           {
            "bin_start": 689.4,
            "bin_end": 766,
            "count": 3
           }
          ]
         }
        },
        {
         "name": "Grade 4 Female",
         "dtype": "float64",
         "stats": {
          "unique_count": 290,
          "nan_count": 53,
          "min": "0.0",
          "max": "737.0",
          "histogram": [
           {
            "bin_start": 0,
            "bin_end": 73.7,
            "count": 362
           },
           {
            "bin_start": 73.7,
            "bin_end": 147.4,
            "count": 260
           },
           {
            "bin_start": 147.4,
            "bin_end": 221.10000000000002,
            "count": 122
           },
           {
            "bin_start": 221.10000000000002,
            "bin_end": 294.8,
            "count": 58
           },
           {
            "bin_start": 294.8,
            "bin_end": 368.5,
            "count": 22
           },
           {
            "bin_start": 368.5,
            "bin_end": 442.20000000000005,
            "count": 11
           },
           {
            "bin_start": 442.20000000000005,
            "bin_end": 515.9,
            "count": 1
           },
           {
            "bin_start": 515.9,
            "bin_end": 589.6,
            "count": 5
           },
           {
            "bin_start": 589.6,
            "bin_end": 663.3000000000001,
            "count": 3
           },
           {
            "bin_start": 663.3000000000001,
            "bin_end": 737,
            "count": 3
           }
          ]
         }
        },
        {
         "name": "Grade 5 Male",
         "dtype": "float64",
         "stats": {
          "unique_count": 272,
          "nan_count": 53,
          "min": "0.0",
          "max": "717.0",
          "histogram": [
           {
            "bin_start": 0,
            "bin_end": 71.7,
            "count": 364
           },
           {
            "bin_start": 71.7,
            "bin_end": 143.4,
            "count": 266
           },
           {
            "bin_start": 143.4,
            "bin_end": 215.10000000000002,
            "count": 113
           },
           {
            "bin_start": 215.10000000000002,
            "bin_end": 286.8,
            "count": 59
           },
           {
            "bin_start": 286.8,
            "bin_end": 358.5,
            "count": 22
           },
           {
            "bin_start": 358.5,
            "bin_end": 430.20000000000005,
            "count": 10
           },
           {
            "bin_start": 430.20000000000005,
            "bin_end": 501.90000000000003,
            "count": 3
           },
           {
            "bin_start": 501.90000000000003,
            "bin_end": 573.6,
            "count": 4
           },
           {
            "bin_start": 573.6,
            "bin_end": 645.3000000000001,
            "count": 2
           },
           {
            "bin_start": 645.3000000000001,
            "bin_end": 717,
            "count": 4
           }
          ]
         }
        },
        {
         "name": "Grade 5 Female",
         "dtype": "float64",
         "stats": {
          "unique_count": 276,
          "nan_count": 53,
          "min": "0.0",
          "max": "724.0",
          "histogram": [
           {
            "bin_start": 0,
            "bin_end": 72.4,
            "count": 380
           },
           {
            "bin_start": 72.4,
            "bin_end": 144.8,
            "count": 258
           },
           {
            "bin_start": 144.8,
            "bin_end": 217.20000000000002,
            "count": 115
           },
           {
            "bin_start": 217.20000000000002,
            "bin_end": 289.6,
            "count": 50
           },
           {
            "bin_start": 289.6,
            "bin_end": 362,
            "count": 27
           },
           {
            "bin_start": 362,
            "bin_end": 434.40000000000003,
            "count": 4
           },
           {
            "bin_start": 434.40000000000003,
            "bin_end": 506.80000000000007,
            "count": 3
           },
           {
            "bin_start": 506.80000000000007,
            "bin_end": 579.2,
            "count": 5
           },
           {
            "bin_start": 579.2,
            "bin_end": 651.6,
            "count": 3
           },
           {
            "bin_start": 651.6,
            "bin_end": 724,
            "count": 2
           }
          ]
         }
        },
        {
         "name": "Grade 6 Male",
         "dtype": "float64",
         "stats": {
          "unique_count": 266,
          "nan_count": 53,
          "min": "0.0",
          "max": "713.0",
          "histogram": [
           {
            "bin_start": 0,
            "bin_end": 71.3,
            "count": 379
           },
           {
            "bin_start": 71.3,
            "bin_end": 142.6,
            "count": 259
           },
           {
            "bin_start": 142.6,
            "bin_end": 213.89999999999998,
            "count": 110
           },
           {
            "bin_start": 213.89999999999998,
            "bin_end": 285.2,
            "count": 59
           },
           {
            "bin_start": 285.2,
            "bin_end": 356.5,
            "count": 19
           },
           {
            "bin_start": 356.5,
            "bin_end": 427.79999999999995,
            "count": 8
           },
           {
            "bin_start": 427.79999999999995,
            "bin_end": 499.09999999999997,
            "count": 5
           },
           {
            "bin_start": 499.09999999999997,
            "bin_end": 570.4,
            "count": 2
           },
           {
            "bin_start": 570.4,
            "bin_end": 641.6999999999999,
            "count": 4
           },
           {
            "bin_start": 641.6999999999999,
            "bin_end": 713,
            "count": 2
           }
          ]
         }
        },
        {
         "name": "Grade 6 Female",
         "dtype": "float64",
         "stats": {
          "unique_count": 275,
          "nan_count": 53,
          "min": "0.0",
          "max": "660.0",
          "histogram": [
           {
            "bin_start": 0,
            "bin_end": 66,
            "count": 353
           },
           {
            "bin_start": 66,
            "bin_end": 132,
            "count": 262
           },
           {
            "bin_start": 132,
            "bin_end": 198,
            "count": 121
           },
           {
            "bin_start": 198,
            "bin_end": 264,
            "count": 58
           },
           {
            "bin_start": 264,
            "bin_end": 330,
            "count": 29
           },
           {
            "bin_start": 330,
            "bin_end": 396,
            "count": 8
           },
           {
            "bin_start": 396,
            "bin_end": 462,
            "count": 5
           },
           {
            "bin_start": 462,
            "bin_end": 528,
            "count": 6
           },
           {
            "bin_start": 528,
            "bin_end": 594,
            "count": 2
           },
           {
            "bin_start": 594,
            "bin_end": 660,
            "count": 3
           }
          ]
         }
        },
        {
         "name": "SPED NG Male",
         "dtype": "float64",
         "stats": {
          "unique_count": 58,
          "nan_count": 555,
          "min": "0.0",
          "max": "116.0",
          "histogram": [
           {
            "bin_start": 0,
            "bin_end": 11.6,
            "count": 202
           },
           {
            "bin_start": 11.6,
            "bin_end": 23.2,
            "count": 80
           },
           {
            "bin_start": 23.2,
            "bin_end": 34.8,
            "count": 32
           },
           {
            "bin_start": 34.8,
            "bin_end": 46.4,
            "count": 10
           },
           {
            "bin_start": 46.4,
            "bin_end": 58,
            "count": 9
           },
           {
            "bin_start": 58,
            "bin_end": 69.6,
            "count": 3
           },
           {
            "bin_start": 69.6,
            "bin_end": 81.2,
            "count": 4
           },
           {
            "bin_start": 81.2,
            "bin_end": 92.8,
            "count": 1
           },
           {
            "bin_start": 92.8,
            "bin_end": 104.39999999999999,
            "count": 2
           },
           {
            "bin_start": 104.39999999999999,
            "bin_end": 116,
            "count": 2
           }
          ]
         }
        },
        {
         "name": "SPED NG Female",
         "dtype": "float64",
         "stats": {
          "unique_count": 47,
          "nan_count": 555,
          "min": "0.0",
          "max": "106.0",
          "histogram": [
           {
            "bin_start": 0,
            "bin_end": 10.6,
            "count": 235
           },
           {
            "bin_start": 10.6,
            "bin_end": 21.2,
            "count": 67
           },
           {
            "bin_start": 21.2,
            "bin_end": 31.799999999999997,
            "count": 23
           },
           {
            "bin_start": 31.799999999999997,
            "bin_end": 42.4,
            "count": 9
           },
           {
            "bin_start": 42.4,
            "bin_end": 53,
            "count": 3
           },
           {
            "bin_start": 53,
            "bin_end": 63.599999999999994,
            "count": 2
           },
           {
            "bin_start": 63.599999999999994,
            "bin_end": 74.2,
            "count": 1
           },
           {
            "bin_start": 74.2,
            "bin_end": 84.8,
            "count": 3
           },
           {
            "bin_start": 84.8,
            "bin_end": 95.39999999999999,
            "count": 0
           },
           {
            "bin_start": 95.39999999999999,
            "bin_end": 106,
            "count": 2
           }
          ]
         }
        },
        {
         "name": "Grade 7 Male",
         "dtype": "float64",
         "stats": {
          "unique_count": 51,
          "nan_count": 847,
          "min": "0.0",
          "max": "1203.0",
          "histogram": [
           {
            "bin_start": 0,
            "bin_end": 120.3,
            "count": 20
           },
           {
            "bin_start": 120.3,
            "bin_end": 240.6,
            "count": 6
           },
           {
            "bin_start": 240.6,
            "bin_end": 360.9,
            "count": 7
           },
           {
            "bin_start": 360.9,
            "bin_end": 481.2,
            "count": 5
           },
           {
            "bin_start": 481.2,
            "bin_end": 601.5,
            "count": 4
           },
           {
            "bin_start": 601.5,
            "bin_end": 721.8,
            "count": 3
           },
           {
            "bin_start": 721.8,
            "bin_end": 842.1,
            "count": 3
           },
           {
            "bin_start": 842.1,
            "bin_end": 962.4,
            "count": 2
           },
           {
            "bin_start": 962.4,
            "bin_end": 1082.7,
            "count": 0
           },
           {
            "bin_start": 1082.7,
            "bin_end": 1203,
            "count": 3
           }
          ]
         }
        },
        {
         "name": "Grade 7 Female",
         "dtype": "float64",
         "stats": {
          "unique_count": 51,
          "nan_count": 847,
          "min": "0.0",
          "max": "1311.0",
          "histogram": [
           {
            "bin_start": 0,
            "bin_end": 131.1,
            "count": 23
           },
           {
            "bin_start": 131.1,
            "bin_end": 262.2,
            "count": 7
           },
           {
            "bin_start": 262.2,
            "bin_end": 393.29999999999995,
            "count": 4
           },
           {
            "bin_start": 393.29999999999995,
            "bin_end": 524.4,
            "count": 5
           },
           {
            "bin_start": 524.4,
            "bin_end": 655.5,
            "count": 5
           },
           {
            "bin_start": 655.5,
            "bin_end": 786.5999999999999,
            "count": 4
           },
           {
            "bin_start": 786.5999999999999,
            "bin_end": 917.6999999999999,
            "count": 1
           },
           {
            "bin_start": 917.6999999999999,
            "bin_end": 1048.8,
            "count": 1
           },
           {
            "bin_start": 1048.8,
            "bin_end": 1179.8999999999999,
            "count": 0
           },
           {
            "bin_start": 1179.8999999999999,
            "bin_end": 1311,
            "count": 3
           }
          ]
         }
        },
        {
         "name": "Grade 8 Male",
         "dtype": "float64",
         "stats": {
          "unique_count": 51,
          "nan_count": 847,
          "min": "0.0",
          "max": "1132.0",
          "histogram": [
           {
            "bin_start": 0,
            "bin_end": 113.2,
            "count": 21
           },
           {
            "bin_start": 113.2,
            "bin_end": 226.4,
            "count": 5
           },
           {
            "bin_start": 226.4,
            "bin_end": 339.6,
            "count": 6
           },
           {
            "bin_start": 339.6,
            "bin_end": 452.8,
            "count": 7
           },
           {
            "bin_start": 452.8,
            "bin_end": 566,
            "count": 3
           },
           {
            "bin_start": 566,
            "bin_end": 679.2,
            "count": 2
           },
           {
            "bin_start": 679.2,
            "bin_end": 792.4,
            "count": 4
           },
           {
            "bin_start": 792.4,
            "bin_end": 905.6,
            "count": 2
           },
           {
            "bin_start": 905.6,
            "bin_end": 1018.8000000000001,
            "count": 0
           },
           {
            "bin_start": 1018.8000000000001,
            "bin_end": 1132,
            "count": 3
           }
          ]
         }
        },
        {
         "name": "Grade 8 Female",
         "dtype": "float64",
         "stats": {
          "unique_count": 50,
          "nan_count": 847,
          "min": "0.0",
          "max": "1285.0",
          "histogram": [
           {
            "bin_start": 0,
            "bin_end": 128.5,
            "count": 23
           },
           {
            "bin_start": 128.5,
            "bin_end": 257,
            "count": 5
           },
           {
            "bin_start": 257,
            "bin_end": 385.5,
            "count": 6
           },
           {
            "bin_start": 385.5,
            "bin_end": 514,
            "count": 6
           },
           {
            "bin_start": 514,
            "bin_end": 642.5,
            "count": 4
           },
           {
            "bin_start": 642.5,
            "bin_end": 771,
            "count": 4
           },
           {
            "bin_start": 771,
            "bin_end": 899.5,
            "count": 0
           },
           {
            "bin_start": 899.5,
            "bin_end": 1028,
            "count": 2
           },
           {
            "bin_start": 1028,
            "bin_end": 1156.5,
            "count": 0
           },
           {
            "bin_start": 1156.5,
            "bin_end": 1285,
            "count": 3
           }
          ]
         }
        },
        {
         "name": "Grade 9 Male",
         "dtype": "float64",
         "stats": {
          "unique_count": 51,
          "nan_count": 847,
          "min": "0.0",
          "max": "1014.0",
          "histogram": [
           {
            "bin_start": 0,
            "bin_end": 101.4,
            "count": 21
           },
           {
            "bin_start": 101.4,
            "bin_end": 202.8,
            "count": 6
           },
           {
            "bin_start": 202.8,
            "bin_end": 304.20000000000005,
            "count": 6
           },
           {
            "bin_start": 304.20000000000005,
            "bin_end": 405.6,
            "count": 5
           },
           {
            "bin_start": 405.6,
            "bin_end": 507,
            "count": 3
           },
           {
            "bin_start": 507,
            "bin_end": 608.4000000000001,
            "count": 5
           },
           {
            "bin_start": 608.4000000000001,
            "bin_end": 709.8000000000001,
            "count": 2
           },
           {
            "bin_start": 709.8000000000001,
            "bin_end": 811.2,
            "count": 2
           },
           {
            "bin_start": 811.2,
            "bin_end": 912.6,
            "count": 1
           },
           {
            "bin_start": 912.6,
            "bin_end": 1014,
            "count": 2
           }
          ]
         }
        },
        {
         "name": "Grade 9 Female",
         "dtype": "float64",
         "stats": {
          "unique_count": 53,
          "nan_count": 847,
          "min": "0.0",
          "max": "1259.0",
          "histogram": [
           {
            "bin_start": 0,
            "bin_end": 125.9,
            "count": 23
           },
           {
            "bin_start": 125.9,
            "bin_end": 251.8,
            "count": 8
           },
           {
            "bin_start": 251.8,
            "bin_end": 377.70000000000005,
            "count": 3
           },
           {
            "bin_start": 377.70000000000005,
            "bin_end": 503.6,
            "count": 6
           },
           {
            "bin_start": 503.6,
            "bin_end": 629.5,
            "count": 5
           },
           {
            "bin_start": 629.5,
            "bin_end": 755.4000000000001,
            "count": 3
           },
           {
            "bin_start": 755.4000000000001,
            "bin_end": 881.3000000000001,
            "count": 1
           },
           {
            "bin_start": 881.3000000000001,
            "bin_end": 1007.2,
            "count": 0
           },
           {
            "bin_start": 1007.2,
            "bin_end": 1133.1000000000001,
            "count": 2
           },
           {
            "bin_start": 1133.1000000000001,
            "bin_end": 1259,
            "count": 2
           }
          ]
         }
        },
        {
         "name": "Grade 10 Male",
         "dtype": "float64",
         "stats": {
          "unique_count": 49,
          "nan_count": 847,
          "min": "0.0",
          "max": "978.0",
          "histogram": [
           {
            "bin_start": 0,
            "bin_end": 97.8,
            "count": 21
           },
           {
            "bin_start": 97.8,
            "bin_end": 195.6,
            "count": 6
           },
           {
            "bin_start": 195.6,
            "bin_end": 293.4,
            "count": 8
           },
           {
            "bin_start": 293.4,
            "bin_end": 391.2,
            "count": 5
           },
           {
            "bin_start": 391.2,
            "bin_end": 489,
            "count": 2
           },
           {
            "bin_start": 489,
            "bin_end": 586.8,
            "count": 3
           },
           {
            "bin_start": 586.8,
            "bin_end": 684.6,
            "count": 3
           },
           {
            "bin_start": 684.6,
            "bin_end": 782.4,
            "count": 1
           },
           {
            "bin_start": 782.4,
            "bin_end": 880.1999999999999,
            "count": 2
           },
           {
            "bin_start": 880.1999999999999,
            "bin_end": 978,
            "count": 2
           }
          ]
         }
        },
        {
         "name": "Grade 10 Female",
         "dtype": "float64",
         "stats": {
          "unique_count": 50,
          "nan_count": 847,
          "min": "0.0",
          "max": "1138.0",
          "histogram": [
           {
            "bin_start": 0,
            "bin_end": 113.8,
            "count": 22
           },
           {
            "bin_start": 113.8,
            "bin_end": 227.6,
            "count": 7
           },
           {
            "bin_start": 227.6,
            "bin_end": 341.4,
            "count": 6
           },
           {
            "bin_start": 341.4,
            "bin_end": 455.2,
            "count": 5
           },
           {
            "bin_start": 455.2,
            "bin_end": 569,
            "count": 5
           },
           {
            "bin_start": 569,
            "bin_end": 682.8,
            "count": 1
           },
           {
            "bin_start": 682.8,
            "bin_end": 796.6,
            "count": 2
           },
           {
            "bin_start": 796.6,
            "bin_end": 910.4,
            "count": 1
           },
           {
            "bin_start": 910.4,
            "bin_end": 1024.2,
            "count": 1
           },
           {
            "bin_start": 1024.2,
            "bin_end": 1138,
            "count": 3
           }
          ]
         }
        },
        {
         "name": "Grade 11 Male",
         "dtype": "float64",
         "stats": {
          "unique_count": 5,
          "nan_count": 847,
          "min": "0.0",
          "max": "34.0",
          "histogram": [
           {
            "bin_start": 0,
            "bin_end": 3.4,
            "count": 50
           },
           {
            "bin_start": 3.4,
            "bin_end": 6.8,
            "count": 0
           },
           {
            "bin_start": 6.8,
            "bin_end": 10.2,
            "count": 0
           },
           {
            "bin_start": 10.2,
            "bin_end": 13.6,
            "count": 0
           },
           {
            "bin_start": 13.6,
            "bin_end": 17,
            "count": 0
           },
           {
            "bin_start": 17,
            "bin_end": 20.4,
            "count": 1
           },
           {
            "bin_start": 20.4,
            "bin_end": 23.8,
            "count": 0
           },
           {
            "bin_start": 23.8,
            "bin_end": 27.2,
            "count": 0
           },
           {
            "bin_start": 27.2,
            "bin_end": 30.599999999999998,
            "count": 1
           },
           {
            "bin_start": 30.599999999999998,
            "bin_end": 34,
            "count": 1
           }
          ]
         }
        },
        {
         "name": "Grade 11 Female",
         "dtype": "float64",
         "stats": {
          "unique_count": 5,
          "nan_count": 847,
          "min": "0.0",
          "max": "39.0",
          "histogram": [
           {
            "bin_start": 0,
            "bin_end": 3.9,
            "count": 50
           },
           {
            "bin_start": 3.9,
            "bin_end": 7.8,
            "count": 0
           },
           {
            "bin_start": 7.8,
            "bin_end": 11.7,
            "count": 0
           },
           {
            "bin_start": 11.7,
            "bin_end": 15.6,
            "count": 0
           },
           {
            "bin_start": 15.6,
            "bin_end": 19.5,
            "count": 1
           },
           {
            "bin_start": 19.5,
            "bin_end": 23.4,
            "count": 0
           },
           {
            "bin_start": 23.4,
            "bin_end": 27.3,
            "count": 1
           },
           {
            "bin_start": 27.3,
            "bin_end": 31.2,
            "count": 0
           },
           {
            "bin_start": 31.2,
            "bin_end": 35.1,
            "count": 0
           },
           {
            "bin_start": 35.1,
            "bin_end": 39,
            "count": 1
           }
          ]
         }
        },
        {
         "name": "Grade 12 Male",
         "dtype": "float64",
         "stats": {
          "unique_count": 2,
          "nan_count": 847,
          "min": "0.0",
          "max": "5.0",
          "histogram": [
           {
            "bin_start": 0,
            "bin_end": 0.5,
            "count": 52
           },
           {
            "bin_start": 0.5,
            "bin_end": 1,
            "count": 0
           },
           {
            "bin_start": 1,
            "bin_end": 1.5,
            "count": 0
           },
           {
            "bin_start": 1.5,
            "bin_end": 2,
            "count": 0
           },
           {
            "bin_start": 2,
            "bin_end": 2.5,
            "count": 0
           },
           {
            "bin_start": 2.5,
            "bin_end": 3,
            "count": 0
           },
           {
            "bin_start": 3,
            "bin_end": 3.5,
            "count": 0
           },
           {
            "bin_start": 3.5,
            "bin_end": 4,
            "count": 0
           },
           {
            "bin_start": 4,
            "bin_end": 4.5,
            "count": 0
           },
           {
            "bin_start": 4.5,
            "bin_end": 5,
            "count": 1
           }
          ]
         }
        },
        {
         "name": "Grade 12 Female",
         "dtype": "float64",
         "stats": {
          "unique_count": 2,
          "nan_count": 847,
          "min": "0.0",
          "max": "8.0",
          "histogram": [
           {
            "bin_start": 0,
            "bin_end": 0.8,
            "count": 52
           },
           {
            "bin_start": 0.8,
            "bin_end": 1.6,
            "count": 0
           },
           {
            "bin_start": 1.6,
            "bin_end": 2.4000000000000004,
            "count": 0
           },
           {
            "bin_start": 2.4000000000000004,
            "bin_end": 3.2,
            "count": 0
           },
           {
            "bin_start": 3.2,
            "bin_end": 4,
            "count": 0
           },
           {
            "bin_start": 4,
            "bin_end": 4.800000000000001,
            "count": 0
           },
           {
            "bin_start": 4.800000000000001,
            "bin_end": 5.6000000000000005,
            "count": 0
           },
           {
            "bin_start": 5.6000000000000005,
            "bin_end": 6.4,
            "count": 0
           },
           {
            "bin_start": 6.4,
            "bin_end": 7.2,
            "count": 0
           },
           {
            "bin_start": 7.2,
            "bin_end": 8,
            "count": 1
           }
          ]
         }
        },
        {
         "name": " school.mooe ",
         "dtype": "float64",
         "stats": {
          "unique_count": 653,
          "nan_count": 4,
          "min": "47000.0",
          "max": "9813000.0",
          "histogram": [
           {
            "bin_start": 47000,
            "bin_end": 1023600,
            "count": 692
           },
           {
            "bin_start": 1023600,
            "bin_end": 2000200,
            "count": 157
           },
           {
            "bin_start": 2000200,
            "bin_end": 2976800,
            "count": 23
           },
           {
            "bin_start": 2976800,
            "bin_end": 3953400,
            "count": 11
           },
           {
            "bin_start": 3953400,
            "bin_end": 4930000,
            "count": 4
           },
           {
            "bin_start": 4930000,
            "bin_end": 5906600,
            "count": 2
           },
           {
            "bin_start": 5906600,
            "bin_end": 6883200,
            "count": 2
           },
           {
            "bin_start": 6883200,
            "bin_end": 7859800,
            "count": 4
           },
           {
            "bin_start": 7859800,
            "bin_end": 8836400,
            "count": 0
           },
           {
            "bin_start": 8836400,
            "bin_end": 9813000,
            "count": 1
           }
          ]
         }
        },
        {
         "name": "School ID_y",
         "dtype": "float64",
         "stats": {
          "unique_count": 899,
          "nan_count": 1,
          "min": "100010.0",
          "max": "324729.0",
          "histogram": [
           {
            "bin_start": 100010,
            "bin_end": 122481.9,
            "count": 564
           },
           {
            "bin_start": 122481.9,
            "bin_end": 144953.8,
            "count": 229
           },
           {
            "bin_start": 144953.8,
            "bin_end": 167425.7,
            "count": 5
           },
           {
            "bin_start": 167425.7,
            "bin_end": 189897.6,
            "count": 11
           },
           {
            "bin_start": 189897.6,
            "bin_end": 212369.5,
            "count": 24
           },
           {
            "bin_start": 212369.5,
            "bin_end": 234841.40000000002,
            "count": 10
           },
           {
            "bin_start": 234841.40000000002,
            "bin_end": 257313.30000000002,
            "count": 3
           },
           {
            "bin_start": 257313.30000000002,
            "bin_end": 279785.2,
            "count": 0
           },
           {
            "bin_start": 279785.2,
            "bin_end": 302257.1,
            "count": 25
           },
           {
            "bin_start": 302257.1,
            "bin_end": 324729,
            "count": 28
           }
          ]
         }
        },
        {
         "name": "rooms.standard.academic",
         "dtype": "float64",
         "stats": {
          "unique_count": 95,
          "nan_count": 1,
          "min": "0.0",
          "max": "137.0",
          "histogram": [
           {
            "bin_start": 0,
            "bin_end": 13.7,
            "count": 261
           },
           {
            "bin_start": 13.7,
            "bin_end": 27.4,
            "count": 277
           },
           {
            "bin_start": 27.4,
            "bin_end": 41.099999999999994,
            "count": 181
           },
           {
            "bin_start": 41.099999999999994,
            "bin_end": 54.8,
            "count": 82
           },
           {
            "bin_start": 54.8,
            "bin_end": 68.5,
            "count": 57
           },
           {
            "bin_start": 68.5,
            "bin_end": 82.19999999999999,
            "count": 20
           },
           {
            "bin_start": 82.19999999999999,
            "bin_end": 95.89999999999999,
            "count": 13
           },
           {
            "bin_start": 95.89999999999999,
            "bin_end": 109.6,
            "count": 3
           },
           {
            "bin_start": 109.6,
            "bin_end": 123.3,
            "count": 3
           },
           {
            "bin_start": 123.3,
            "bin_end": 137,
            "count": 2
           }
          ]
         }
        },
        {
         "name": "rooms.standard.unused",
         "dtype": "float64",
         "stats": {
          "unique_count": 12,
          "nan_count": 1,
          "min": "0.0",
          "max": "13.0",
          "histogram": [
           {
            "bin_start": 0,
            "bin_end": 1.3,
            "count": 833
           },
           {
            "bin_start": 1.3,
            "bin_end": 2.6,
            "count": 18
           },
           {
            "bin_start": 2.6,
            "bin_end": 3.9000000000000004,
            "count": 21
           },
           {
            "bin_start": 3.9000000000000004,
            "bin_end": 5.2,
            "count": 17
           },
           {
            "bin_start": 5.2,
            "bin_end": 6.5,
            "count": 5
           },
           {
            "bin_start": 6.5,
            "bin_end": 7.800000000000001,
            "count": 1
           },
           {
            "bin_start": 7.800000000000001,
            "bin_end": 9.1,
            "count": 1
           },
           {
            "bin_start": 9.1,
            "bin_end": 10.4,
            "count": 1
           },
           {
            "bin_start": 10.4,
            "bin_end": 11.700000000000001,
            "count": 0
           },
           {
            "bin_start": 11.700000000000001,
            "bin_end": 13,
            "count": 2
           }
          ]
         }
        },
        {
         "name": "rooms.nonstandard.academic",
         "dtype": "float64",
         "stats": {
          "unique_count": 15,
          "nan_count": 1,
          "min": "0.0",
          "max": "28.0",
          "histogram": [
           {
            "bin_start": 0,
            "bin_end": 2.8,
            "count": 870
           },
           {
            "bin_start": 2.8,
            "bin_end": 5.6,
            "count": 14
           },
           {
            "bin_start": 5.6,
            "bin_end": 8.399999999999999,
            "count": 5
           },
           {
            "bin_start": 8.399999999999999,
            "bin_end": 11.2,
            "count": 3
           },
           {
            "bin_start": 11.2,
            "bin_end": 14,
            "count": 2
           },
           {
            "bin_start": 14,
            "bin_end": 16.799999999999997,
            "count": 3
           },
           {
            "bin_start": 16.799999999999997,
            "bin_end": 19.599999999999998,
            "count": 0
           },
           {
            "bin_start": 19.599999999999998,
            "bin_end": 22.4,
            "count": 0
           },
           {
            "bin_start": 22.4,
            "bin_end": 25.2,
            "count": 0
           },
           {
            "bin_start": 25.2,
            "bin_end": 28,
            "count": 2
           }
          ]
         }
        },
        {
         "name": "rooms.nonstandard.unused",
         "dtype": "float64",
         "stats": {
          "unique_count": 2,
          "nan_count": 1,
          "min": "0.0",
          "max": "1.0",
          "histogram": [
           {
            "bin_start": 0,
            "bin_end": 0.1,
            "count": 897
           },
           {
            "bin_start": 0.1,
            "bin_end": 0.2,
            "count": 0
           },
           {
            "bin_start": 0.2,
            "bin_end": 0.30000000000000004,
            "count": 0
           },
           {
            "bin_start": 0.30000000000000004,
            "bin_end": 0.4,
            "count": 0
           },
           {
            "bin_start": 0.4,
            "bin_end": 0.5,
            "count": 0
           },
           {
            "bin_start": 0.5,
            "bin_end": 0.6000000000000001,
            "count": 0
           },
           {
            "bin_start": 0.6000000000000001,
            "bin_end": 0.7000000000000001,
            "count": 0
           },
           {
            "bin_start": 0.7000000000000001,
            "bin_end": 0.8,
            "count": 0
           },
           {
            "bin_start": 0.8,
            "bin_end": 0.9,
            "count": 0
           },
           {
            "bin_start": 0.9,
            "bin_end": 1,
            "count": 2
           }
          ]
         }
        },
        {
         "name": "teachers.instructor",
         "dtype": "float64",
         "stats": {
          "unique_count": 1,
          "nan_count": 1,
          "min": "0.0",
          "max": "0.0",
          "histogram": [
           {
            "bin_start": -0.5,
            "bin_end": -0.4,
            "count": 0
           },
           {
            "bin_start": -0.4,
            "bin_end": -0.3,
            "count": 0
           },
           {
            "bin_start": -0.3,
            "bin_end": -0.19999999999999996,
            "count": 0
           },
           {
            "bin_start": -0.19999999999999996,
            "bin_end": -0.09999999999999998,
            "count": 0
           },
           {
            "bin_start": -0.09999999999999998,
            "bin_end": 0,
            "count": 0
           },
           {
            "bin_start": 0,
            "bin_end": 0.10000000000000009,
            "count": 899
           },
           {
            "bin_start": 0.10000000000000009,
            "bin_end": 0.20000000000000007,
            "count": 0
           },
           {
            "bin_start": 0.20000000000000007,
            "bin_end": 0.30000000000000004,
            "count": 0
           },
           {
            "bin_start": 0.30000000000000004,
            "bin_end": 0.4,
            "count": 0
           },
           {
            "bin_start": 0.4,
            "bin_end": 0.5,
            "count": 0
           }
          ]
         }
        },
        {
         "name": "teachers.mobile",
         "dtype": "float64",
         "stats": {
          "unique_count": 35,
          "nan_count": 1,
          "min": "0.0",
          "max": "49.0",
          "histogram": [
           {
            "bin_start": 0,
            "bin_end": 4.9,
            "count": 444
           },
           {
            "bin_start": 4.9,
            "bin_end": 9.8,
            "count": 282
           },
           {
            "bin_start": 9.8,
            "bin_end": 14.700000000000001,
            "count": 113
           },
           {
            "bin_start": 14.700000000000001,
            "bin_end": 19.6,
            "count": 32
           },
           {
            "bin_start": 19.6,
            "bin_end": 24.5,
            "count": 15
           },
           {
            "bin_start": 24.5,
            "bin_end": 29.400000000000002,
            "count": 6
           },
           {
            "bin_start": 29.400000000000002,
            "bin_end": 34.300000000000004,
            "count": 1
           },
           {
            "bin_start": 34.300000000000004,
            "bin_end": 39.2,
            "count": 4
           },
           {
            "bin_start": 39.2,
            "bin_end": 44.1,
            "count": 0
           },
           {
            "bin_start": 44.1,
            "bin_end": 49,
            "count": 2
           }
          ]
         }
        },
        {
         "name": "teachers.regular",
         "dtype": "float64",
         "stats": {
          "unique_count": 132,
          "nan_count": 1,
          "min": "0.0",
          "max": "295.0",
          "histogram": [
           {
            "bin_start": 0,
            "bin_end": 29.5,
            "count": 501
           },
           {
            "bin_start": 29.5,
            "bin_end": 59,
            "count": 254
           },
           {
            "bin_start": 59,
            "bin_end": 88.5,
            "count": 87
           },
           {
            "bin_start": 88.5,
            "bin_end": 118,
            "count": 26
           },
           {
            "bin_start": 118,
            "bin_end": 147.5,
            "count": 15
           },
           {
            "bin_start": 147.5,
            "bin_end": 177,
            "count": 6
           },
           {
            "bin_start": 177,
            "bin_end": 206.5,
            "count": 3
           },
           {
            "bin_start": 206.5,
            "bin_end": 236,
            "count": 3
           },
           {
            "bin_start": 236,
            "bin_end": 265.5,
            "count": 2
           },
           {
            "bin_start": 265.5,
            "bin_end": 295,
            "count": 2
           }
          ]
         }
        },
        {
         "name": "teachers.sped",
         "dtype": "float64",
         "stats": {
          "unique_count": 22,
          "nan_count": 1,
          "min": "0.0",
          "max": "89.0",
          "histogram": [
           {
            "bin_start": 0,
            "bin_end": 8.9,
            "count": 858
           },
           {
            "bin_start": 8.9,
            "bin_end": 17.8,
            "count": 35
           },
           {
            "bin_start": 17.8,
            "bin_end": 26.700000000000003,
            "count": 2
           },
           {
            "bin_start": 26.700000000000003,
            "bin_end": 35.6,
            "count": 1
           },
           {
            "bin_start": 35.6,
            "bin_end": 44.5,
            "count": 0
           },
           {
            "bin_start": 44.5,
            "bin_end": 53.400000000000006,
            "count": 2
           },
           {
            "bin_start": 53.400000000000006,
            "bin_end": 62.300000000000004,
            "count": 0
           },
           {
            "bin_start": 62.300000000000004,
            "bin_end": 71.2,
            "count": 0
           },
           {
            "bin_start": 71.2,
            "bin_end": 80.10000000000001,
            "count": 0
           },
           {
            "bin_start": 80.10000000000001,
            "bin_end": 89,
            "count": 1
           }
          ]
         }
        },
        {
         "name": "MOOE",
         "dtype": "float64",
         "stats": {
          "unique_count": 653,
          "nan_count": 4,
          "min": "47000.0",
          "max": "9813000.0",
          "histogram": [
           {
            "bin_start": 47000,
            "bin_end": 1023600,
            "count": 692
           },
           {
            "bin_start": 1023600,
            "bin_end": 2000200,
            "count": 157
           },
           {
            "bin_start": 2000200,
            "bin_end": 2976800,
            "count": 23
           },
           {
            "bin_start": 2976800,
            "bin_end": 3953400,
            "count": 11
           },
           {
            "bin_start": 3953400,
            "bin_end": 4930000,
            "count": 4
           },
           {
            "bin_start": 4930000,
            "bin_end": 5906600,
            "count": 2
           },
           {
            "bin_start": 5906600,
            "bin_end": 6883200,
            "count": 2
           },
           {
            "bin_start": 6883200,
            "bin_end": 7859800,
            "count": 4
           },
           {
            "bin_start": 7859800,
            "bin_end": 8836400,
            "count": 0
           },
           {
            "bin_start": 8836400,
            "bin_end": 9813000,
            "count": 1
           }
          ]
         }
        },
        {
         "name": "_deepnote_index_column",
         "dtype": "int64"
        }
       ],
       "rows_top": [
        {
         "school.id": 102193,
         "school.name": "A. P. Santos ES (SPED Center)",
         "school.region": "Region I",
         "school.region.name": "Ilocos Region",
         "school.province": "ILOCOS NORTE",
         "school.cityhall": "ILOCOS NORTE",
         "school.division": "Laoag City",
         "school.citymuni": "LAOAG CITY (Capital)",
         "school.district": "Laoag City District II",
         "school.legdistrict": "1st District",
         "school.type": "School with no Annexes",
         "school.abbrev": "APSES",
         "school.previousname": "-",
         "school.mother.id": 102193,
         "school.address": "A.G. Tupaz",
         "school.established": "1/1/1944",
         "school.classification": "Elementary",
         "school.classification2": "DepED Managed",
         "school.curricularclass": "Kinder & Elementary",
         "school.organization": "Monograde",
         "school.cityincome": "P 240 M or more but less than P 320 M",
         "school.cityclass": "Component City",
         "school.urban": "Partially Urban",
         "School ID_x": 102193,
         "Kinder Male": 20,
         "Kinder Female": 24,
         "Grade 1 Male": 38,
         "Grade 1 Female": 30,
         "Grade 2 Male": 37,
         "Grade 2 Female": 18,
         "Grade 3 Male": 29,
         "Grade 3 Female": 33,
         "Grade 4 Male": 23,
         "Grade 4 Female": 41,
         "Grade 5 Male": 39,
         "Grade 5 Female": 27,
         "Grade 6 Male": 26,
         "Grade 6 Female": 26,
         "SPED NG Male": 32,
         "SPED NG Female": 22,
         "Grade 7 Male": "nan",
         "Grade 7 Female": "nan",
         "Grade 8 Male": "nan",
         "Grade 8 Female": "nan",
         "Grade 9 Male": "nan",
         "Grade 9 Female": "nan",
         "Grade 10 Male": "nan",
         "Grade 10 Female": "nan",
         "Grade 11 Male": "nan",
         "Grade 11 Female": "nan",
         "Grade 12 Male": "nan",
         "Grade 12 Female": "nan",
         " school.mooe ": 275000,
         "School ID_y": 102193,
         "rooms.standard.academic": 13,
         "rooms.standard.unused": 3,
         "rooms.nonstandard.academic": 0,
         "rooms.nonstandard.unused": 0,
         "teachers.instructor": 0,
         "teachers.mobile": 2,
         "teachers.regular": 12,
         "teachers.sped": 4,
         "MOOE": 275000,
         "_deepnote_index_column": 1
        },
        {
         "school.id": 102252,
         "school.name": "Abanon Central School",
         "school.region": "Region I",
         "school.region.name": "Ilocos Region",
         "school.province": "PANGASINAN",
         "school.cityhall": "PANGASINAN",
         "school.division": "San Carlos City",
         "school.citymuni": "SAN CARLOS CITY",
         "school.district": "San Carlos City District IV",
         "school.legdistrict": "3rd District",
         "school.type": "School with no Annexes",
         "school.abbrev": "Abanon CS",
         "school.previousname": "Abanon Central Elementary School",
         "school.mother.id": 102252,
         "school.address": "-Brgy. Abanon, San Carlos City",
         "school.established": "1/1/2000",
         "school.classification": "Elementary",
         "school.classification2": "DepED Managed",
         "school.curricularclass": "Elementary",
         "school.organization": "Monograde",
         "school.cityincome": "P 240 M or more but less than P 320 M",
         "school.cityclass": "Component City",
         "school.urban": "Partially Urban",
         "School ID_x": 102252,
         "Kinder Male": 53,
         "Kinder Female": 49,
         "Grade 1 Male": 61,
         "Grade 1 Female": 68,
         "Grade 2 Male": 85,
         "Grade 2 Female": 53,
         "Grade 3 Male": 65,
         "Grade 3 Female": 64,
         "Grade 4 Male": 71,
         "Grade 4 Female": 58,
         "Grade 5 Male": 56,
         "Grade 5 Female": 56,
         "Grade 6 Male": 58,
         "Grade 6 Female": 51,
         "SPED NG Male": 5,
         "SPED NG Female": 1,
         "Grade 7 Male": "nan",
         "Grade 7 Female": "nan",
         "Grade 8 Male": "nan",
         "Grade 8 Female": "nan",
         "Grade 9 Male": "nan",
         "Grade 9 Female": "nan",
         "Grade 10 Male": "nan",
         "Grade 10 Female": "nan",
         "Grade 11 Male": "nan",
         "Grade 11 Female": "nan",
         "Grade 12 Male": "nan",
         "Grade 12 Female": "nan",
         " school.mooe ": 440000,
         "School ID_y": 102252,
         "rooms.standard.academic": 24,
         "rooms.standard.unused": 0,
         "rooms.nonstandard.academic": 0,
         "rooms.nonstandard.unused": 0,
         "teachers.instructor": 0,
         "teachers.mobile": 4,
         "teachers.regular": 22,
         "teachers.sped": 1,
         "MOOE": 440000,
         "_deepnote_index_column": 7
        },
        {
         "school.id": 102226,
         "school.name": "Agdao Integrated School",
         "school.region": "Region I",
         "school.region.name": "Ilocos Region",
         "school.province": "PANGASINAN",
         "school.cityhall": "PANGASINAN",
         "school.division": "San Carlos City",
         "school.citymuni": "SAN CARLOS CITY",
         "school.district": "San Carlos City District II",
         "school.legdistrict": "3rd District",
         "school.type": "School with no Annexes",
         "school.abbrev": "Agdao IS",
         "school.previousname": "Agdao Elementary School",
         "school.mother.id": 102226,
         "school.address": "Brgy. Agdao, San Carlos City, Pangasinan",
         "school.established": "1/1/2000",
         "school.classification": "Elementary",
         "school.classification2": "DepED Managed",
         "school.curricularclass": "Integrated - Elem & Sec",
         "school.organization": "Monograde",
         "school.cityincome": "P 240 M or more but less than P 320 M",
         "school.cityclass": "Component City",
         "school.urban": "Partially Urban",
         "School ID_x": 102226,
         "Kinder Male": 47,
         "Kinder Female": 64,
         "Grade 1 Male": 73,
         "Grade 1 Female": 48,
         "Grade 2 Male": 64,
         "Grade 2 Female": 48,
         "Grade 3 Male": 58,
         "Grade 3 Female": 49,
         "Grade 4 Male": 61,
         "Grade 4 Female": 42,
         "Grade 5 Male": 45,
         "Grade 5 Female": 47,
         "Grade 6 Male": 41,
         "Grade 6 Female": 51,
         "SPED NG Male": 4,
         "SPED NG Female": 3,
         "Grade 7 Male": "nan",
         "Grade 7 Female": "nan",
         "Grade 8 Male": "nan",
         "Grade 8 Female": "nan",
         "Grade 9 Male": "nan",
         "Grade 9 Female": "nan",
         "Grade 10 Male": "nan",
         "Grade 10 Female": "nan",
         "Grade 11 Male": "nan",
         "Grade 11 Female": "nan",
         "Grade 12 Male": "nan",
         "Grade 12 Female": "nan",
         " school.mooe ": 381000,
         "School ID_y": 102226,
         "rooms.standard.academic": 20,
         "rooms.standard.unused": 0,
         "rooms.nonstandard.academic": 0,
         "rooms.nonstandard.unused": 0,
         "teachers.instructor": 0,
         "teachers.mobile": 4,
         "teachers.regular": 20,
         "teachers.sped": 1,
         "MOOE": 381000,
         "_deepnote_index_column": 22
        },
        {
         "school.id": 101132,
         "school.name": "Agno CS",
         "school.region": "Region I",
         "school.region.name": "Ilocos Region",
         "school.province": "PANGASINAN",
         "school.cityhall": "PANGASINAN",
         "school.division": "Pangasinan I, Lingayen",
         "school.citymuni": "AGNO",
         "school.district": "Agno",
         "school.legdistrict": "1st District",
         "school.type": "School with no Annexes",
         "school.abbrev": "ACS",
         "school.previousname": "-",
         "school.mother.id": 101132,
         "school.address": "MABINI",
         "school.established": "1/1/1904",
         "school.classification": "Elementary",
         "school.classification2": "DepED Managed",
         "school.curricularclass": "Elementary",
         "school.organization": "Monograde",
         "school.cityincome": "P 35 M or more but less than P 45 M",
         "school.cityclass": "nan",
         "school.urban": "Partially Urban",
         "School ID_x": 101132,
         "Kinder Male": 41,
         "Kinder Female": 35,
         "Grade 1 Male": 44,
         "Grade 1 Female": 46,
         "Grade 2 Male": 70,
         "Grade 2 Female": 68,
         "Grade 3 Male": 55,
         "Grade 3 Female": 57,
         "Grade 4 Male": 59,
         "Grade 4 Female": 57,
         "Grade 5 Male": 52,
         "Grade 5 Female": 47,
         "Grade 6 Male": 40,
         "Grade 6 Female": 46,
         "SPED NG Male": 9,
         "SPED NG Female": 6,
         "Grade 7 Male": "nan",
         "Grade 7 Female": "nan",
         "Grade 8 Male": "nan",
         "Grade 8 Female": "nan",
         "Grade 9 Male": "nan",
         "Grade 9 Female": "nan",
         "Grade 10 Male": "nan",
         "Grade 10 Female": "nan",
         "Grade 11 Male": "nan",
         "Grade 11 Female": "nan",
         "Grade 12 Male": "nan",
         "Grade 12 Female": "nan",
         " school.mooe ": 392000,
         "School ID_y": 101132,
         "rooms.standard.academic": 23,
         "rooms.standard.unused": 0,
         "rooms.nonstandard.academic": 0,
         "rooms.nonstandard.unused": 0,
         "teachers.instructor": 0,
         "teachers.mobile": 6,
         "teachers.regular": 18,
         "teachers.sped": 1,
         "MOOE": 392000,
         "_deepnote_index_column": 24
        },
        {
         "school.id": 101149,
         "school.name": "Aguilar CS",
         "school.region": "Region I",
         "school.region.name": "Ilocos Region",
         "school.province": "PANGASINAN",
         "school.cityhall": "PANGASINAN",
         "school.division": "Pangasinan I, Lingayen",
         "school.citymuni": "AGUILAR",
         "school.district": "Aguilar",
         "school.legdistrict": "2nd District",
         "school.type": "School with no Annexes",
         "school.abbrev": "nan",
         "school.previousname": "NONE",
         "school.mother.id": 101149,
         "school.address": "Pogomboa",
         "school.established": "1/1/1924",
         "school.classification": "Elementary",
         "school.classification2": "DepED Managed",
         "school.curricularclass": "Elementary",
         "school.organization": "Monograde",
         "school.cityincome": "P 35 M or more but less than P 45 M",
         "school.cityclass": "nan",
         "school.urban": "Partially Urban",
         "School ID_x": 101149,
         "Kinder Male": 57,
         "Kinder Female": 53,
         "Grade 1 Male": 78,
         "Grade 1 Female": 70,
         "Grade 2 Male": 70,
         "Grade 2 Female": 86,
         "Grade 3 Male": 91,
         "Grade 3 Female": 80,
         "Grade 4 Male": 90,
         "Grade 4 Female": 75,
         "Grade 5 Male": 88,
         "Grade 5 Female": 82,
         "Grade 6 Male": 104,
         "Grade 6 Female": 79,
         "SPED NG Male": 9,
         "SPED NG Female": 12,
         "Grade 7 Male": "nan",
         "Grade 7 Female": "nan",
         "Grade 8 Male": "nan",
         "Grade 8 Female": "nan",
         "Grade 9 Male": "nan",
         "Grade 9 Female": "nan",
         "Grade 10 Male": "nan",
         "Grade 10 Female": "nan",
         "Grade 11 Male": "nan",
         "Grade 11 Female": "nan",
         "Grade 12 Male": "nan",
         "Grade 12 Female": "nan",
         " school.mooe ": 536000,
         "School ID_y": 101149,
         "rooms.standard.academic": 18,
         "rooms.standard.unused": 0,
         "rooms.nonstandard.academic": 0,
         "rooms.nonstandard.unused": 0,
         "teachers.instructor": 0,
         "teachers.mobile": 4,
         "teachers.regular": 29,
         "teachers.sped": 1,
         "MOOE": 536000,
         "_deepnote_index_column": 29
        },
        {
         "school.id": 101166,
         "school.name": "Alaminos CS",
         "school.region": "Region I",
         "school.region.name": "Ilocos Region",
         "school.province": "PANGASINAN",
         "school.cityhall": "PANGASINAN",
         "school.division": "Alaminos City",
         "school.citymuni": "CITY OF ALAMINOS",
         "school.district": "District I",
         "school.legdistrict": "1st District",
         "school.type": "School with no Annexes",
         "school.abbrev": "ACS",
         "school.previousname": "-",
         "school.mother.id": 101166,
         "school.address": "SAN JOSE DRIVE",
         "school.established": "1/1/1921",
         "school.classification": "Elementary",
         "school.classification2": "DepED Managed",
         "school.curricularclass": "Elementary",
         "school.organization": "Monograde",
         "school.cityincome": "P 160 M or more but less than P 240 M",
         "school.cityclass": "Component City",
         "school.urban": "Partially Urban",
         "School ID_x": 101166,
         "Kinder Male": 100,
         "Kinder Female": 103,
         "Grade 1 Male": 129,
         "Grade 1 Female": 127,
         "Grade 2 Male": 141,
         "Grade 2 Female": 144,
         "Grade 3 Male": 182,
         "Grade 3 Female": 168,
         "Grade 4 Male": 166,
         "Grade 4 Female": 141,
         "Grade 5 Male": 172,
         "Grade 5 Female": 150,
         "Grade 6 Male": 133,
         "Grade 6 Female": 135,
         "SPED NG Male": 12,
         "SPED NG Female": 11,
         "Grade 7 Male": "nan",
         "Grade 7 Female": "nan",
         "Grade 8 Male": "nan",
         "Grade 8 Female": "nan",
         "Grade 9 Male": "nan",
         "Grade 9 Female": "nan",
         "Grade 10 Male": "nan",
         "Grade 10 Female": "nan",
         "Grade 11 Male": "nan",
         "Grade 11 Female": "nan",
         "Grade 12 Male": "nan",
         "Grade 12 Female": "nan",
         " school.mooe ": 897000,
         "School ID_y": 101166,
         "rooms.standard.academic": 41,
         "rooms.standard.unused": 0,
         "rooms.nonstandard.academic": 0,
         "rooms.nonstandard.unused": 0,
         "teachers.instructor": 0,
         "teachers.mobile": 12,
         "teachers.regular": 39,
         "teachers.sped": 1,
         "MOOE": 897000,
         "_deepnote_index_column": 33
        },
        {
         "school.id": 100972,
         "school.name": "Angcaoay ES",
         "school.region": "Region I",
         "school.region.name": "Ilocos Region",
         "school.province": "LA UNION",
         "school.cityhall": "LA UNION",
         "school.division": "La Union",
         "school.citymuni": "NAGUILIAN",
         "school.district": "Naguilian",
         "school.legdistrict": "2nd District",
         "school.type": "School with no Annexes",
         "school.abbrev": "nan",
         "school.previousname": "-",
         "school.mother.id": 100972,
         "school.address": "-",
         "school.established": "1/1/1955",
         "school.classification": "Elementary",
         "school.classification2": "DepED Managed",
         "school.curricularclass": "Elementary",
         "school.organization": "Monograde",
         "school.cityincome": "P 55 M or more",
         "school.cityclass": "nan",
         "school.urban": "Partially Urban",
         "School ID_x": 100972,
         "Kinder Male": 9,
         "Kinder Female": 6,
         "Grade 1 Male": 9,
         "Grade 1 Female": 7,
         "Grade 2 Male": 9,
         "Grade 2 Female": 7,
         "Grade 3 Male": 14,
         "Grade 3 Female": 10,
         "Grade 4 Male": 6,
         "Grade 4 Female": 7,
         "Grade 5 Male": 3,
         "Grade 5 Female": 6,
         "Grade 6 Male": 9,
         "Grade 6 Female": 6,
         "SPED NG Male": 6,
         "SPED NG Female": 5,
         "Grade 7 Male": "nan",
         "Grade 7 Female": "nan",
         "Grade 8 Male": "nan",
         "Grade 8 Female": "nan",
         "Grade 9 Male": "nan",
         "Grade 9 Female": "nan",
         "Grade 10 Male": "nan",
         "Grade 10 Female": "nan",
         "Grade 11 Male": "nan",
         "Grade 11 Female": "nan",
         "Grade 12 Male": "nan",
         "Grade 12 Female": "nan",
         " school.mooe ": 96000,
         "School ID_y": 100972,
         "rooms.standard.academic": 6,
         "rooms.standard.unused": 0,
         "rooms.nonstandard.academic": 0,
         "rooms.nonstandard.unused": 0,
         "teachers.instructor": 0,
         "teachers.mobile": 0,
         "teachers.regular": 3,
         "teachers.sped": 0,
         "MOOE": 96000,
         "_deepnote_index_column": 95
        }
       ],
       "rows_bottom": [
        {
         "school.id": 319804,
         "school.name": "Jose Fabella Memorial School",
         "school.region": "NCR",
         "school.region.name": "National Capital Region",
         "school.province": "NCR SECOND DISTRICT",
         "school.cityhall": "CITY OF MANDALUYONG",
         "school.division": "Mandaluyong City",
         "school.citymuni": "CITY OF MANDALUYONG",
         "school.district": "Mandaluyong City District II",
         "school.legdistrict": "Lone District",
         "school.type": "School with no Annexes",
         "school.abbrev": "JFMS",
         "school.previousname": "Welfareville School",
         "school.mother.id": 319804,
         "school.address": "WELFAREVILLE COMPOUND",
         "school.established": "1/1/1925",
         "school.classification": "Secondary",
         "school.classification2": "DepED Managed",
         "school.curricularclass": "Integrated - Kinder, Elem & Sec",
         "school.organization": "Monograde",
         "school.cityincome": "P 400 M or more",
         "school.cityclass": "Highly Urbanized City",
         "school.urban": "Urban",
         "School ID_x": 319804,
         "Kinder Male": "nan",
         "Kinder Female": "nan",
         "Grade 1 Male": "nan",
         "Grade 1 Female": "nan",
         "Grade 2 Male": "nan",
         "Grade 2 Female": "nan",
         "Grade 3 Male": "nan",
         "Grade 3 Female": "nan",
         "Grade 4 Male": "nan",
         "Grade 4 Female": "nan",
         "Grade 5 Male": "nan",
         "Grade 5 Female": "nan",
         "Grade 6 Male": "nan",
         "Grade 6 Female": "nan",
         "SPED NG Male": "nan",
         "SPED NG Female": "nan",
         "Grade 7 Male": 155,
         "Grade 7 Female": 109,
         "Grade 8 Male": 156,
         "Grade 8 Female": 97,
         "Grade 9 Male": 130,
         "Grade 9 Female": 86,
         "Grade 10 Male": 118,
         "Grade 10 Female": 93,
         "Grade 11 Male": 0,
         "Grade 11 Female": 0,
         "Grade 12 Male": 0,
         "Grade 12 Female": 0,
         " school.mooe ": 3628000,
         "School ID_y": 319804,
         "rooms.standard.academic": 11,
         "rooms.standard.unused": 0,
         "rooms.nonstandard.academic": 0,
         "rooms.nonstandard.unused": 0,
         "teachers.instructor": 0,
         "teachers.mobile": 0,
         "teachers.regular": 23,
         "teachers.sped": 52,
         "MOOE": 3628000,
         "_deepnote_index_column": 46440
        },
        {
         "school.id": 305402,
         "school.name": "Malanday NHS",
         "school.region": "NCR",
         "school.region.name": "National Capital Region",
         "school.province": "NCR SECOND DISTRICT",
         "school.cityhall": "CITY OF MARIKINA",
         "school.division": "Marikina City",
         "school.citymuni": "CITY OF MARIKINA",
         "school.district": "Marikina City District I",
         "school.legdistrict": "1st District",
         "school.type": "School with no Annexes",
         "school.abbrev": "MNHS",
         "school.previousname": "Concepcion High School",
         "school.mother.id": 305402,
         "school.address": "Purok IV, Malanday",
         "school.established": "1/1/2002",
         "school.classification": "Secondary",
         "school.classification2": "DepED Managed",
         "school.curricularclass": "Secondary",
         "school.organization": "Monograde",
         "school.cityincome": "P 400 M or more",
         "school.cityclass": "Highly Urbanized City",
         "school.urban": "Urban",
         "School ID_x": 305402,
         "Kinder Male": "nan",
         "Kinder Female": "nan",
         "Grade 1 Male": "nan",
         "Grade 1 Female": "nan",
         "Grade 2 Male": "nan",
         "Grade 2 Female": "nan",
         "Grade 3 Male": "nan",
         "Grade 3 Female": "nan",
         "Grade 4 Male": "nan",
         "Grade 4 Female": "nan",
         "Grade 5 Male": "nan",
         "Grade 5 Female": "nan",
         "Grade 6 Male": "nan",
         "Grade 6 Female": "nan",
         "SPED NG Male": "nan",
         "SPED NG Female": "nan",
         "Grade 7 Male": 262,
         "Grade 7 Female": 233,
         "Grade 8 Male": 253,
         "Grade 8 Female": 261,
         "Grade 9 Male": 230,
         "Grade 9 Female": 214,
         "Grade 10 Male": 167,
         "Grade 10 Female": 204,
         "Grade 11 Male": 34,
         "Grade 11 Female": 17,
         "Grade 12 Male": 0,
         "Grade 12 Female": 0,
         " school.mooe ": 2589000,
         "School ID_y": 305402,
         "rooms.standard.academic": 35,
         "rooms.standard.unused": 0,
         "rooms.nonstandard.academic": 0,
         "rooms.nonstandard.unused": 0,
         "teachers.instructor": 0,
         "teachers.mobile": 7,
         "teachers.regular": 45,
         "teachers.sped": 1,
         "MOOE": 2589000,
         "_deepnote_index_column": 46473
        },
        {
         "school.id": 319506,
         "school.name": "National Orthopedic Hospital School for Crippled Children",
         "school.region": "NCR",
         "school.region.name": "National Capital Region",
         "school.province": "NCR SECOND DISTRICT",
         "school.cityhall": "QUEZON CITY",
         "school.division": "Quezon City",
         "school.citymuni": "QUEZON CITY",
         "school.district": "School District I",
         "school.legdistrict": "1st District",
         "school.type": "School with no Annexes",
         "school.abbrev": "NOH-SCC",
         "school.previousname": "nan",
         "school.mother.id": 319506,
         "school.address": "Banawe St.",
         "school.established": "1/1/1947",
         "school.classification": "Secondary",
         "school.classification2": "DepED Managed",
         "school.curricularclass": "Secondary",
         "school.organization": "Monograde",
         "school.cityincome": "Special Class",
         "school.cityclass": "Highly Urbanized City",
         "school.urban": "Urban",
         "School ID_x": 319506,
         "Kinder Male": "nan",
         "Kinder Female": "nan",
         "Grade 1 Male": "nan",
         "Grade 1 Female": "nan",
         "Grade 2 Male": "nan",
         "Grade 2 Female": "nan",
         "Grade 3 Male": "nan",
         "Grade 3 Female": "nan",
         "Grade 4 Male": "nan",
         "Grade 4 Female": "nan",
         "Grade 5 Male": "nan",
         "Grade 5 Female": "nan",
         "Grade 6 Male": "nan",
         "Grade 6 Female": "nan",
         "SPED NG Male": "nan",
         "SPED NG Female": "nan",
         "Grade 7 Male": 11,
         "Grade 7 Female": 6,
         "Grade 8 Male": 7,
         "Grade 8 Female": 8,
         "Grade 9 Male": 9,
         "Grade 9 Female": 6,
         "Grade 10 Male": 10,
         "Grade 10 Female": 2,
         "Grade 11 Male": 2,
         "Grade 11 Female": 3,
         "Grade 12 Male": 0,
         "Grade 12 Female": 0,
         " school.mooe ": 1827000,
         "School ID_y": 319506,
         "rooms.standard.academic": 6,
         "rooms.standard.unused": 0,
         "rooms.nonstandard.academic": 0,
         "rooms.nonstandard.unused": 0,
         "teachers.instructor": 0,
         "teachers.mobile": 0,
         "teachers.regular": 2,
         "teachers.sped": 15,
         "MOOE": 1827000,
         "_deepnote_index_column": 46507
        },
        {
         "school.id": 319602,
         "school.name": "Philippine National School for the Blind",
         "school.region": "NCR",
         "school.region.name": "National Capital Region",
         "school.province": "NCR FOURTH DISTRICT",
         "school.cityhall": "PASAY CITY",
         "school.division": "Pasay City",
         "school.citymuni": "PASAY CITY",
         "school.district": "Pasay City West District",
         "school.legdistrict": "Lone District",
         "school.type": "School with no Annexes",
         "school.abbrev": "PNSB",
         "school.previousname": "School for the Deaf and Blind",
         "school.mother.id": 319602,
         "school.address": "Galvez Ave. cor Figueroa St.",
         "school.established": "1/1/1970",
         "school.classification": "Secondary",
         "school.classification2": "DepED Managed",
         "school.curricularclass": "Secondary",
         "school.organization": "Monograde",
         "school.cityincome": "P 400 M or more",
         "school.cityclass": "Highly Urbanized City",
         "school.urban": "Urban",
         "School ID_x": 319602,
         "Kinder Male": "nan",
         "Kinder Female": "nan",
         "Grade 1 Male": "nan",
         "Grade 1 Female": "nan",
         "Grade 2 Male": "nan",
         "Grade 2 Female": "nan",
         "Grade 3 Male": "nan",
         "Grade 3 Female": "nan",
         "Grade 4 Male": "nan",
         "Grade 4 Female": "nan",
         "Grade 5 Male": "nan",
         "Grade 5 Female": "nan",
         "Grade 6 Male": "nan",
         "Grade 6 Female": "nan",
         "SPED NG Male": "nan",
         "SPED NG Female": "nan",
         "Grade 7 Male": 6,
         "Grade 7 Female": 4,
         "Grade 8 Male": 7,
         "Grade 8 Female": 6,
         "Grade 9 Male": 9,
         "Grade 9 Female": 11,
         "Grade 10 Male": 2,
         "Grade 10 Female": 7,
         "Grade 11 Male": 0,
         "Grade 11 Female": 0,
         "Grade 12 Male": 0,
         "Grade 12 Female": 0,
         " school.mooe ": 2058000,
         "School ID_y": 319602,
         "rooms.standard.academic": 5,
         "rooms.standard.unused": 0,
         "rooms.nonstandard.academic": 0,
         "rooms.nonstandard.unused": 0,
         "teachers.instructor": 0,
         "teachers.mobile": 0,
         "teachers.regular": 4,
         "teachers.sped": 22,
         "MOOE": 2058000,
         "_deepnote_index_column": 46534
        },
        {
         "school.id": 319603,
         "school.name": "Philippine School for the Deaf",
         "school.region": "NCR",
         "school.region.name": "National Capital Region",
         "school.province": "NCR FOURTH DISTRICT",
         "school.cityhall": "PASAY CITY",
         "school.division": "Pasay City",
         "school.citymuni": "PASAY CITY",
         "school.district": "Pasay City West District",
         "school.legdistrict": "Lone District",
         "school.type": "School with no Annexes",
         "school.abbrev": "PSD",
         "school.previousname": "Phi",
         "school.mother.id": 319603,
         "school.address": "2620 F.B. Harrison St., San Rafael, Pasay City",
         "school.established": "1/1/2008",
         "school.classification": "Secondary",
         "school.classification2": "DepED Managed",
         "school.curricularclass": "Secondary",
         "school.organization": "Monograde",
         "school.cityincome": "P 400 M or more",
         "school.cityclass": "Highly Urbanized City",
         "school.urban": "Urban",
         "School ID_x": 319603,
         "Kinder Male": "nan",
         "Kinder Female": "nan",
         "Grade 1 Male": "nan",
         "Grade 1 Female": "nan",
         "Grade 2 Male": "nan",
         "Grade 2 Female": "nan",
         "Grade 3 Male": "nan",
         "Grade 3 Female": "nan",
         "Grade 4 Male": "nan",
         "Grade 4 Female": "nan",
         "Grade 5 Male": "nan",
         "Grade 5 Female": "nan",
         "Grade 6 Male": "nan",
         "Grade 6 Female": "nan",
         "SPED NG Male": "nan",
         "SPED NG Female": "nan",
         "Grade 7 Male": 38,
         "Grade 7 Female": 39,
         "Grade 8 Male": 26,
         "Grade 8 Female": 17,
         "Grade 9 Male": 34,
         "Grade 9 Female": 15,
         "Grade 10 Male": 27,
         "Grade 10 Female": 29,
         "Grade 11 Male": 0,
         "Grade 11 Female": 0,
         "Grade 12 Male": 0,
         "Grade 12 Female": 0,
         " school.mooe ": 3179000,
         "School ID_y": 319603,
         "rooms.standard.academic": 25,
         "rooms.standard.unused": 0,
         "rooms.nonstandard.academic": 0,
         "rooms.nonstandard.unused": 0,
         "teachers.instructor": 0,
         "teachers.mobile": 0,
         "teachers.regular": 4,
         "teachers.sped": 89,
         "MOOE": 3179000,
         "_deepnote_index_column": 46535
        },
        {
         "school.id": 305350,
         "school.name": "Quirino HS",
         "school.region": "NCR",
         "school.region.name": "National Capital Region",
         "school.province": "NCR SECOND DISTRICT",
         "school.cityhall": "QUEZON CITY",
         "school.division": "Quezon City",
         "school.citymuni": "QUEZON CITY",
         "school.district": "School District XIV",
         "school.legdistrict": "3rd District",
         "school.type": "School with no Annexes",
         "school.abbrev": "nan",
         "school.previousname": "-",
         "school.mother.id": 305350,
         "school.address": "Molave Street",
         "school.established": "1/1/1952",
         "school.classification": "Secondary",
         "school.classification2": "DepED Managed",
         "school.curricularclass": "Secondary",
         "school.organization": "Monograde",
         "school.cityincome": "Special Class",
         "school.cityclass": "Highly Urbanized City",
         "school.urban": "Urban",
         "School ID_x": 305350,
         "Kinder Male": "nan",
         "Kinder Female": "nan",
         "Grade 1 Male": "nan",
         "Grade 1 Female": "nan",
         "Grade 2 Male": "nan",
         "Grade 2 Female": "nan",
         "Grade 3 Male": "nan",
         "Grade 3 Female": "nan",
         "Grade 4 Male": "nan",
         "Grade 4 Female": "nan",
         "Grade 5 Male": "nan",
         "Grade 5 Female": "nan",
         "Grade 6 Male": "nan",
         "Grade 6 Female": "nan",
         "SPED NG Male": "nan",
         "SPED NG Female": "nan",
         "Grade 7 Male": 409,
         "Grade 7 Female": 407,
         "Grade 8 Male": 398,
         "Grade 8 Female": 387,
         "Grade 9 Male": 377,
         "Grade 9 Female": 387,
         "Grade 10 Male": 340,
         "Grade 10 Female": 300,
         "Grade 11 Male": 0,
         "Grade 11 Female": 0,
         "Grade 12 Male": 0,
         "Grade 12 Female": 0,
         " school.mooe ": 3204000,
         "School ID_y": 305350,
         "rooms.standard.academic": 68,
         "rooms.standard.unused": 0,
         "rooms.nonstandard.academic": 0,
         "rooms.nonstandard.unused": 0,
         "teachers.instructor": 0,
         "teachers.mobile": 22,
         "teachers.regular": 121,
         "teachers.sped": 5,
         "MOOE": 3204000,
         "_deepnote_index_column": 46547
        },
        {
         "school.id": 305414,
         "school.name": "Sagad HS",
         "school.region": "NCR",
         "school.region.name": "National Capital Region",
         "school.province": "NCR SECOND DISTRICT",
         "school.cityhall": "CITY OF PASIG",
         "school.division": "Pasig City",
         "school.citymuni": "CITY OF PASIG",
         "school.district": "Pasig City District I",
         "school.legdistrict": "Lone District",
         "school.type": "School with no Annexes",
         "school.abbrev": "nan",
         "school.previousname": "-",
         "school.mother.id": 305414,
         "school.address": "E. Angeles St.",
         "school.established": "1/1/1978",
         "school.classification": "Secondary",
         "school.classification2": "DepED Managed",
         "school.curricularclass": "Secondary",
         "school.organization": "Monograde",
         "school.cityincome": "P 400 M or more",
         "school.cityclass": "Highly Urbanized City",
         "school.urban": "Urban",
         "School ID_x": 305414,
         "Kinder Male": "nan",
         "Kinder Female": "nan",
         "Grade 1 Male": "nan",
         "Grade 1 Female": "nan",
         "Grade 2 Male": "nan",
         "Grade 2 Female": "nan",
         "Grade 3 Male": "nan",
         "Grade 3 Female": "nan",
         "Grade 4 Male": "nan",
         "Grade 4 Female": "nan",
         "Grade 5 Male": "nan",
         "Grade 5 Female": "nan",
         "Grade 6 Male": "nan",
         "Grade 6 Female": "nan",
         "SPED NG Male": "nan",
         "SPED NG Female": "nan",
         "Grade 7 Male": 391,
         "Grade 7 Female": 327,
         "Grade 8 Male": 354,
         "Grade 8 Female": 292,
         "Grade 9 Male": 314,
         "Grade 9 Female": 253,
         "Grade 10 Male": 238,
         "Grade 10 Female": 267,
         "Grade 11 Male": 0,
         "Grade 11 Female": 0,
         "Grade 12 Male": 0,
         "Grade 12 Female": 0,
         " school.mooe ": 2154000,
         "School ID_y": 305414,
         "rooms.standard.academic": 39,
         "rooms.standard.unused": 0,
         "rooms.nonstandard.academic": 0,
         "rooms.nonstandard.unused": 0,
         "teachers.instructor": 0,
         "teachers.mobile": 7,
         "teachers.regular": 53,
         "teachers.sped": 1,
         "MOOE": 2154000,
         "_deepnote_index_column": 46554
        },
        {
         "school.id": 305441,
         "school.name": "Valenzuela NHS",
         "school.region": "NCR",
         "school.region.name": "National Capital Region",
         "school.province": "NCR THIRD DISTRICT",
         "school.cityhall": "CITY OF VALENZUELA",
         "school.division": "Valenzuela City",
         "school.citymuni": "CITY OF VALENZUELA",
         "school.district": "Valenzuela City Central District",
         "school.legdistrict": "2nd District",
         "school.type": "School with no Annexes",
         "school.abbrev": "nan",
         "school.previousname": "-",
         "school.mother.id": 305441,
         "school.address": "A. FERNANDO ST., MARULAS,",
         "school.established": "1/1/1969",
         "school.classification": "Secondary",
         "school.classification2": "DepED Managed",
         "school.curricularclass": "Secondary",
         "school.organization": "Monograde",
         "school.cityincome": "P 400 M or more",
         "school.cityclass": "Highly Urbanized City",
         "school.urban": "Urban",
         "School ID_x": 305441,
         "Kinder Male": "nan",
         "Kinder Female": "nan",
         "Grade 1 Male": "nan",
         "Grade 1 Female": "nan",
         "Grade 2 Male": "nan",
         "Grade 2 Female": "nan",
         "Grade 3 Male": "nan",
         "Grade 3 Female": "nan",
         "Grade 4 Male": "nan",
         "Grade 4 Female": "nan",
         "Grade 5 Male": "nan",
         "Grade 5 Female": "nan",
         "Grade 6 Male": "nan",
         "Grade 6 Female": "nan",
         "SPED NG Male": "nan",
         "SPED NG Female": "nan",
         "Grade 7 Male": 461,
         "Grade 7 Female": 405,
         "Grade 8 Male": 424,
         "Grade 8 Female": 391,
         "Grade 9 Male": 423,
         "Grade 9 Female": 395,
         "Grade 10 Male": 363,
         "Grade 10 Female": 356,
         "Grade 11 Male": 0,
         "Grade 11 Female": 0,
         "Grade 12 Male": 0,
         "Grade 12 Female": 0,
         " school.mooe ": 2924000,
         "School ID_y": 305441,
         "rooms.standard.academic": 33,
         "rooms.standard.unused": 0,
         "rooms.nonstandard.academic": 0,
         "rooms.nonstandard.unused": 0,
         "teachers.instructor": 0,
         "teachers.mobile": 18,
         "teachers.regular": 84,
         "teachers.sped": 1,
         "MOOE": 2924000,
         "_deepnote_index_column": 46597
        }
       ]
      },
      "text/plain": "       school.id                               school.name school.region  \\\n1         102193             A. P. Santos ES (SPED Center)      Region I   \n7         102252                     Abanon Central School      Region I   \n22        102226                   Agdao Integrated School      Region I   \n24        101132                                   Agno CS      Region I   \n29        101149                                Aguilar CS      Region I   \n...          ...                                       ...           ...   \n46534     319602  Philippine National School for the Blind           NCR   \n46535     319603            Philippine School for the Deaf           NCR   \n46547     305350                                Quirino HS           NCR   \n46554     305414                                  Sagad HS           NCR   \n46597     305441                            Valenzuela NHS           NCR   \n\n            school.region.name      school.province     school.cityhall  \\\n1                Ilocos Region         ILOCOS NORTE        ILOCOS NORTE   \n7                Ilocos Region           PANGASINAN          PANGASINAN   \n22               Ilocos Region           PANGASINAN          PANGASINAN   \n24               Ilocos Region           PANGASINAN          PANGASINAN   \n29               Ilocos Region           PANGASINAN          PANGASINAN   \n...                        ...                  ...                 ...   \n46534  National Capital Region  NCR FOURTH DISTRICT          PASAY CITY   \n46535  National Capital Region  NCR FOURTH DISTRICT          PASAY CITY   \n46547  National Capital Region  NCR SECOND DISTRICT         QUEZON CITY   \n46554  National Capital Region  NCR SECOND DISTRICT       CITY OF PASIG   \n46597  National Capital Region   NCR THIRD DISTRICT  CITY OF VALENZUELA   \n\n              school.division       school.citymuni  \\\n1                  Laoag City  LAOAG CITY (Capital)   \n7             San Carlos City       SAN CARLOS CITY   \n22            San Carlos City       SAN CARLOS CITY   \n24     Pangasinan I, Lingayen                  AGNO   \n29     Pangasinan I, Lingayen               AGUILAR   \n...                       ...                   ...   \n46534              Pasay City            PASAY CITY   \n46535              Pasay City            PASAY CITY   \n46547             Quezon City           QUEZON CITY   \n46554              Pasig City         CITY OF PASIG   \n46597         Valenzuela City    CITY OF VALENZUELA   \n\n                        school.district school.legdistrict  ... School ID_y  \\\n1                Laoag City District II       1st District  ...    102193.0   \n7           San Carlos City District IV       3rd District  ...    102252.0   \n22          San Carlos City District II       3rd District  ...    102226.0   \n24                                 Agno       1st District  ...    101132.0   \n29                              Aguilar       2nd District  ...    101149.0   \n...                                 ...                ...  ...         ...   \n46534          Pasay City West District      Lone District  ...    319602.0   \n46535          Pasay City West District      Lone District  ...    319603.0   \n46547               School District XIV       3rd District  ...    305350.0   \n46554             Pasig City District I      Lone District  ...    305414.0   \n46597  Valenzuela City Central District       2nd District  ...    305441.0   \n\n      rooms.standard.academic rooms.standard.unused  \\\n1                        13.0                   3.0   \n7                        24.0                   0.0   \n22                       20.0                   0.0   \n24                       23.0                   0.0   \n29                       18.0                   0.0   \n...                       ...                   ...   \n46534                     5.0                   0.0   \n46535                    25.0                   0.0   \n46547                    68.0                   0.0   \n46554                    39.0                   0.0   \n46597                    33.0                   0.0   \n\n       rooms.nonstandard.academic rooms.nonstandard.unused  \\\n1                             0.0                      0.0   \n7                             0.0                      0.0   \n22                            0.0                      0.0   \n24                            0.0                      0.0   \n29                            0.0                      0.0   \n...                           ...                      ...   \n46534                         0.0                      0.0   \n46535                         0.0                      0.0   \n46547                         0.0                      0.0   \n46554                         0.0                      0.0   \n46597                         0.0                      0.0   \n\n      teachers.instructor teachers.mobile teachers.regular teachers.sped  \\\n1                     0.0             2.0             12.0           4.0   \n7                     0.0             4.0             22.0           1.0   \n22                    0.0             4.0             20.0           1.0   \n24                    0.0             6.0             18.0           1.0   \n29                    0.0             4.0             29.0           1.0   \n...                   ...             ...              ...           ...   \n46534                 0.0             0.0              4.0          22.0   \n46535                 0.0             0.0              4.0          89.0   \n46547                 0.0            22.0            121.0           5.0   \n46554                 0.0             7.0             53.0           1.0   \n46597                 0.0            18.0             84.0           1.0   \n\n            MOOE  \n1       275000.0  \n7       440000.0  \n22      381000.0  \n24      392000.0  \n29      536000.0  \n...          ...  \n46534  2058000.0  \n46535  3179000.0  \n46547  3204000.0  \n46554  2154000.0  \n46597  2924000.0  \n\n[900 rows x 63 columns]",
      "text/html": "<div>\n<style scoped>\n    .dataframe tbody tr th:only-of-type {\n        vertical-align: middle;\n    }\n\n    .dataframe tbody tr th {\n        vertical-align: top;\n    }\n\n    .dataframe thead th {\n        text-align: right;\n    }\n</style>\n<table border=\"1\" class=\"dataframe\">\n  <thead>\n    <tr style=\"text-align: right;\">\n      <th></th>\n      <th>school.id</th>\n      <th>school.name</th>\n      <th>school.region</th>\n      <th>school.region.name</th>\n      <th>school.province</th>\n      <th>school.cityhall</th>\n      <th>school.division</th>\n      <th>school.citymuni</th>\n      <th>school.district</th>\n      <th>school.legdistrict</th>\n      <th>...</th>\n      <th>School ID_y</th>\n      <th>rooms.standard.academic</th>\n      <th>rooms.standard.unused</th>\n      <th>rooms.nonstandard.academic</th>\n      <th>rooms.nonstandard.unused</th>\n      <th>teachers.instructor</th>\n      <th>teachers.mobile</th>\n      <th>teachers.regular</th>\n      <th>teachers.sped</th>\n      <th>MOOE</th>\n    </tr>\n  </thead>\n  <tbody>\n    <tr>\n      <th>1</th>\n      <td>102193</td>\n      <td>A. P. Santos ES (SPED Center)</td>\n      <td>Region I</td>\n      <td>Ilocos Region</td>\n      <td>ILOCOS NORTE</td>\n      <td>ILOCOS NORTE</td>\n      <td>Laoag City</td>\n      <td>LAOAG CITY (Capital)</td>\n      <td>Laoag City District II</td>\n      <td>1st District</td>\n      <td>...</td>\n      <td>102193.0</td>\n      <td>13.0</td>\n      <td>3.0</td>\n      <td>0.0</td>\n      <td>0.0</td>\n      <td>0.0</td>\n      <td>2.0</td>\n      <td>12.0</td>\n      <td>4.0</td>\n      <td>275000.0</td>\n    </tr>\n    <tr>\n      <th>7</th>\n      <td>102252</td>\n      <td>Abanon Central School</td>\n      <td>Region I</td>\n      <td>Ilocos Region</td>\n      <td>PANGASINAN</td>\n      <td>PANGASINAN</td>\n      <td>San Carlos City</td>\n      <td>SAN CARLOS CITY</td>\n      <td>San Carlos City District IV</td>\n      <td>3rd District</td>\n      <td>...</td>\n      <td>102252.0</td>\n      <td>24.0</td>\n      <td>0.0</td>\n      <td>0.0</td>\n      <td>0.0</td>\n      <td>0.0</td>\n      <td>4.0</td>\n      <td>22.0</td>\n      <td>1.0</td>\n      <td>440000.0</td>\n    </tr>\n    <tr>\n      <th>22</th>\n      <td>102226</td>\n      <td>Agdao Integrated School</td>\n      <td>Region I</td>\n      <td>Ilocos Region</td>\n      <td>PANGASINAN</td>\n      <td>PANGASINAN</td>\n      <td>San Carlos City</td>\n      <td>SAN CARLOS CITY</td>\n      <td>San Carlos City District II</td>\n      <td>3rd District</td>\n      <td>...</td>\n      <td>102226.0</td>\n      <td>20.0</td>\n      <td>0.0</td>\n      <td>0.0</td>\n      <td>0.0</td>\n      <td>0.0</td>\n      <td>4.0</td>\n      <td>20.0</td>\n      <td>1.0</td>\n      <td>381000.0</td>\n    </tr>\n    <tr>\n      <th>24</th>\n      <td>101132</td>\n      <td>Agno CS</td>\n      <td>Region I</td>\n      <td>Ilocos Region</td>\n      <td>PANGASINAN</td>\n      <td>PANGASINAN</td>\n      <td>Pangasinan I, Lingayen</td>\n      <td>AGNO</td>\n      <td>Agno</td>\n      <td>1st District</td>\n      <td>...</td>\n      <td>101132.0</td>\n      <td>23.0</td>\n      <td>0.0</td>\n      <td>0.0</td>\n      <td>0.0</td>\n      <td>0.0</td>\n      <td>6.0</td>\n      <td>18.0</td>\n      <td>1.0</td>\n      <td>392000.0</td>\n    </tr>\n    <tr>\n      <th>29</th>\n      <td>101149</td>\n      <td>Aguilar CS</td>\n      <td>Region I</td>\n      <td>Ilocos Region</td>\n      <td>PANGASINAN</td>\n      <td>PANGASINAN</td>\n      <td>Pangasinan I, Lingayen</td>\n      <td>AGUILAR</td>\n      <td>Aguilar</td>\n      <td>2nd District</td>\n      <td>...</td>\n      <td>101149.0</td>\n      <td>18.0</td>\n      <td>0.0</td>\n      <td>0.0</td>\n      <td>0.0</td>\n      <td>0.0</td>\n      <td>4.0</td>\n      <td>29.0</td>\n      <td>1.0</td>\n      <td>536000.0</td>\n    </tr>\n    <tr>\n      <th>...</th>\n      <td>...</td>\n      <td>...</td>\n      <td>...</td>\n      <td>...</td>\n      <td>...</td>\n      <td>...</td>\n      <td>...</td>\n      <td>...</td>\n      <td>...</td>\n      <td>...</td>\n      <td>...</td>\n      <td>...</td>\n      <td>...</td>\n      <td>...</td>\n      <td>...</td>\n      <td>...</td>\n      <td>...</td>\n      <td>...</td>\n      <td>...</td>\n      <td>...</td>\n      <td>...</td>\n    </tr>\n    <tr>\n      <th>46534</th>\n      <td>319602</td>\n      <td>Philippine National School for the Blind</td>\n      <td>NCR</td>\n      <td>National Capital Region</td>\n      <td>NCR FOURTH DISTRICT</td>\n      <td>PASAY CITY</td>\n      <td>Pasay City</td>\n      <td>PASAY CITY</td>\n      <td>Pasay City West District</td>\n      <td>Lone District</td>\n      <td>...</td>\n      <td>319602.0</td>\n      <td>5.0</td>\n      <td>0.0</td>\n      <td>0.0</td>\n      <td>0.0</td>\n      <td>0.0</td>\n      <td>0.0</td>\n      <td>4.0</td>\n      <td>22.0</td>\n      <td>2058000.0</td>\n    </tr>\n    <tr>\n      <th>46535</th>\n      <td>319603</td>\n      <td>Philippine School for the Deaf</td>\n      <td>NCR</td>\n      <td>National Capital Region</td>\n      <td>NCR FOURTH DISTRICT</td>\n      <td>PASAY CITY</td>\n      <td>Pasay City</td>\n      <td>PASAY CITY</td>\n      <td>Pasay City West District</td>\n      <td>Lone District</td>\n      <td>...</td>\n      <td>319603.0</td>\n      <td>25.0</td>\n      <td>0.0</td>\n      <td>0.0</td>\n      <td>0.0</td>\n      <td>0.0</td>\n      <td>0.0</td>\n      <td>4.0</td>\n      <td>89.0</td>\n      <td>3179000.0</td>\n    </tr>\n    <tr>\n      <th>46547</th>\n      <td>305350</td>\n      <td>Quirino HS</td>\n      <td>NCR</td>\n      <td>National Capital Region</td>\n      <td>NCR SECOND DISTRICT</td>\n      <td>QUEZON CITY</td>\n      <td>Quezon City</td>\n      <td>QUEZON CITY</td>\n      <td>School District XIV</td>\n      <td>3rd District</td>\n      <td>...</td>\n      <td>305350.0</td>\n      <td>68.0</td>\n      <td>0.0</td>\n      <td>0.0</td>\n      <td>0.0</td>\n      <td>0.0</td>\n      <td>22.0</td>\n      <td>121.0</td>\n      <td>5.0</td>\n      <td>3204000.0</td>\n    </tr>\n    <tr>\n      <th>46554</th>\n      <td>305414</td>\n      <td>Sagad HS</td>\n      <td>NCR</td>\n      <td>National Capital Region</td>\n      <td>NCR SECOND DISTRICT</td>\n      <td>CITY OF PASIG</td>\n      <td>Pasig City</td>\n      <td>CITY OF PASIG</td>\n      <td>Pasig City District I</td>\n      <td>Lone District</td>\n      <td>...</td>\n      <td>305414.0</td>\n      <td>39.0</td>\n      <td>0.0</td>\n      <td>0.0</td>\n      <td>0.0</td>\n      <td>0.0</td>\n      <td>7.0</td>\n      <td>53.0</td>\n      <td>1.0</td>\n      <td>2154000.0</td>\n    </tr>\n    <tr>\n      <th>46597</th>\n      <td>305441</td>\n      <td>Valenzuela NHS</td>\n      <td>NCR</td>\n      <td>National Capital Region</td>\n      <td>NCR THIRD DISTRICT</td>\n      <td>CITY OF VALENZUELA</td>\n      <td>Valenzuela City</td>\n      <td>CITY OF VALENZUELA</td>\n      <td>Valenzuela City Central District</td>\n      <td>2nd District</td>\n      <td>...</td>\n      <td>305441.0</td>\n      <td>33.0</td>\n      <td>0.0</td>\n      <td>0.0</td>\n      <td>0.0</td>\n      <td>0.0</td>\n      <td>18.0</td>\n      <td>84.0</td>\n      <td>1.0</td>\n      <td>2924000.0</td>\n    </tr>\n  </tbody>\n</table>\n<p>900 rows × 63 columns</p>\n</div>"
     },
     "metadata": {}
    }
   ]
  },
  {
   "cell_type": "code",
   "metadata": {
    "cell_id": "00034-618a9846-27a6-4f8f-9a67-d17fc59b11fd",
    "deepnote_to_be_reexecuted": false,
    "source_hash": "b623e53d",
    "execution_start": 1621509793694,
    "execution_millis": 535566,
    "deepnote_cell_type": "code"
   },
   "source": "",
   "execution_count": 40,
   "outputs": []
  },
  {
   "cell_type": "markdown",
   "source": "<a style='text-decoration:none;line-height:16px;display:flex;color:#5B5B62;padding:10px;justify-content:end;' href='https://deepnote.com?utm_source=created-in-deepnote-cell&projectId=6d87636b-43a9-448d-bfae-856d2b705cc3' target=\"_blank\">\n<img alt='Created in deepnote.com' style='display:inline;max-height:16px;margin:0px;margin-right:7.5px;' src='data:image/svg+xml;base64,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' > </img>\nCreated in <span style='font-weight:600;margin-left:4px;'>Deepnote</span></a>",
   "metadata": {
    "tags": [],
    "created_in_deepnote_cell": true,
    "deepnote_cell_type": "markdown"
   }
  }
 ],
 "nbformat": 4,
 "nbformat_minor": 4,
 "metadata": {
  "kernelspec": {
   "display_name": "Python 3",
   "language": "python",
   "name": "python3"
  },
  "language_info": {
   "codemirror_mode": {
    "name": "ipython",
    "version": 3
   },
   "file_extension": ".py",
   "mimetype": "text/x-python",
   "name": "python",
   "nbconvert_exporter": "python",
   "pygments_lexer": "ipython3",
   "version": "3.8.3"
  },
  "deepnote_notebook_id": "6993ce9f-49ad-49b6-8dfc-fccb8f3f0d19",
  "deepnote": {},
  "deepnote_execution_queue": []
 }
}