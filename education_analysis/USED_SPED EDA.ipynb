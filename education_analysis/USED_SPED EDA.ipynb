{
 "cells": [
  {
   "cell_type": "code",
   "metadata": {
    "cell_id": "00000-46078528-1e61-475a-8ed9-ab5a6ea12b44",
    "deepnote_to_be_reexecuted": false,
    "source_hash": "f4170944",
    "execution_start": 1621511444176,
    "execution_millis": 1174,
    "deepnote_cell_type": "code"
   },
   "source": "# Start writing code here...\nimport pandas as pd\nimport numpy as np\nimport matplotlib.pyplot as plt\nimport geopandas as gpd\n\nimport seaborn as sns\n\nimport matplotlib.pyplot as plt\nimport matplotlib.mlab as mlab\nimport matplotlib\nplt.style.use('ggplot')\nfrom matplotlib.pyplot import figure",
   "execution_count": 1,
   "outputs": []
  },
  {
   "cell_type": "code",
   "source": "def explore_data(df):\n    print(\"**** Dimensions or Shape (rows x columns)\")\n    display(df.shape)\n    print(\"**** Column Names\")\n    display(df.columns)\n    print(\"**** Data Types\")\n    display(df.dtypes)\n    print(\"**** Descriptive Statistics\")\n    display(df.describe())\n    print(\"**** Head\")\n    display(df.head())\n    print(\"**** Null Checks\")\n    display(df.isnull().sum())\n",
   "metadata": {
    "tags": [],
    "cell_id": "00001-890b820f-b1ad-40f1-b453-8b29c6d75dbb",
    "deepnote_to_be_reexecuted": false,
    "source_hash": "4faf3018",
    "execution_start": 1621511445350,
    "execution_millis": 0,
    "deepnote_cell_type": "code"
   },
   "outputs": [],
   "execution_count": 2
  },
  {
   "cell_type": "markdown",
   "source": "# Data Loading",
   "metadata": {
    "tags": [],
    "cell_id": "00001-39322aa4-2b54-49de-9a37-f845618dc4ac",
    "deepnote_cell_type": "markdown"
   }
  },
  {
   "cell_type": "code",
   "metadata": {
    "cell_id": "00001-23e653f7-2694-41e6-be79-ffeef9f168e8",
    "deepnote_to_be_reexecuted": false,
    "source_hash": "e5f1fe01",
    "execution_start": 1621511445351,
    "execution_millis": 652,
    "deepnote_cell_type": "code"
   },
   "source": "enrol_e = pd.read_csv(\"Enrollment Master Data_2015_E.csv\")[:-1].astype(int)\nenrol_s = (pd.read_csv('Enrollment Master Data_2015_S.csv')[:-1]\n                  .replace(\",\", \"\", regex=True)\n                  .astype(int)\n)\nmasterlist = pd.read_csv(\"Masterlist of Schools.csv\")\nmooe = (pd.read_csv('MOOE data.csv', usecols=[\"school.id\", \" school.mooe \"])\n             .replace(\",\", \"\", regex=True).astype(float))\nroom = pd.read_csv('Rooms data.csv')\nteacher = pd.read_csv(\"Teachers data.csv\")\n",
   "execution_count": 3,
   "outputs": []
  },
  {
   "cell_type": "code",
   "source": "masterlist['school.region'].value_counts()",
   "metadata": {
    "tags": [],
    "cell_id": "00004-78eec7cb-fb7a-4f9c-8bdd-c6d46c0382ba",
    "deepnote_to_be_reexecuted": false,
    "source_hash": "1c383665",
    "execution_start": 1621511446004,
    "execution_millis": 88,
    "deepnote_cell_type": "code"
   },
   "outputs": [
    {
     "output_type": "execute_result",
     "execution_count": 4,
     "data": {
      "text/plain": "Region VIII    4132\nRegion VI      4050\nRegion V       3798\nRegion VII     3737\nRegion III     3621\nRegion IV-A    3392\nRegion I       2926\nRegion II      2583\nARMM           2514\nRegion IX      2488\nRegion X       2441\nRegion IV-B    2198\nRegion XII     2168\nCARAGA         2038\nRegion XI      1933\nCAR            1816\nNCR             768\nName: school.region, dtype: int64"
     },
     "metadata": {}
    }
   ],
   "execution_count": 4
  },
  {
   "cell_type": "code",
   "source": "# replace CARAGA to REGION XIII\nmasterlist['school.region'] = masterlist['school.region'].str.replace('CARAGA','Region XIII')\n",
   "metadata": {
    "tags": [],
    "cell_id": "00004-6390b3c8-28f8-4008-9d2f-6bf0c2f744cb",
    "deepnote_to_be_reexecuted": false,
    "source_hash": "3bc37551",
    "execution_start": 1621511446004,
    "execution_millis": 1,
    "deepnote_cell_type": "code"
   },
   "outputs": [],
   "execution_count": 5
  },
  {
   "cell_type": "code",
   "source": "masterlist['school.region'].value_counts()",
   "metadata": {
    "tags": [],
    "cell_id": "00006-40dfb647-46db-41e7-85c0-60e4d8d42ee2",
    "deepnote_to_be_reexecuted": false,
    "source_hash": "1c383665",
    "execution_start": 1621511446005,
    "execution_millis": 87,
    "deepnote_cell_type": "code"
   },
   "outputs": [
    {
     "output_type": "execute_result",
     "execution_count": 6,
     "data": {
      "text/plain": "Region VIII    4132\nRegion VI      4050\nRegion V       3798\nRegion VII     3737\nRegion III     3621\nRegion IV-A    3392\nRegion I       2926\nRegion II      2583\nARMM           2514\nRegion IX      2488\nRegion X       2441\nRegion IV-B    2198\nRegion XII     2168\nRegion XIII    2038\nRegion XI      1933\nCAR            1816\nNCR             768\nName: school.region, dtype: int64"
     },
     "metadata": {}
    }
   ],
   "execution_count": 6
  },
  {
   "cell_type": "markdown",
   "source": "## Data cleaning",
   "metadata": {
    "tags": [],
    "cell_id": "00003-75787256-f2c3-423e-9d83-906dcbb650c0",
    "deepnote_cell_type": "markdown"
   }
  },
  {
   "cell_type": "code",
   "metadata": {
    "cell_id": "00002-d36bfc7f-75f4-454c-a608-8284770d469a",
    "deepnote_to_be_reexecuted": false,
    "source_hash": "f9e502ae",
    "execution_start": 1621511446043,
    "execution_millis": 0,
    "deepnote_cell_type": "code"
   },
   "source": "enrol_all = pd.concat([enrol_e, enrol_s], ignore_index = True)",
   "execution_count": 7,
   "outputs": []
  },
  {
   "cell_type": "code",
   "metadata": {
    "cell_id": "00003-6ee05c0b-f3e1-4df6-ae7e-518e0f7f2060",
    "deepnote_to_be_reexecuted": false,
    "source_hash": "341824ae",
    "execution_start": 1621511446043,
    "execution_millis": 50,
    "deepnote_cell_type": "code"
   },
   "source": "enrol_all.columns",
   "execution_count": 8,
   "outputs": [
    {
     "output_type": "execute_result",
     "execution_count": 8,
     "data": {
      "text/plain": "Index(['School ID', 'Kinder Male', 'Kinder Female', 'Grade 1 Male',\n       'Grade 1 Female', 'Grade 2 Male', 'Grade 2 Female', 'Grade 3 Male',\n       'Grade 3 Female', 'Grade 4 Male', 'Grade 4 Female', 'Grade 5 Male',\n       'Grade 5 Female', 'Grade 6 Male', 'Grade 6 Female', 'SPED NG Male',\n       'SPED NG Female', 'Grade 7 Male', 'Grade 7 Female', 'Grade 8 Male',\n       'Grade 8 Female', 'Grade 9 Male', 'Grade 9 Female', 'Grade 10 Male',\n       'Grade 10 Female', 'Grade 11 Male', 'Grade 11 Female', 'Grade 12 Male',\n       'Grade 12 Female'],\n      dtype='object')"
     },
     "metadata": {}
    }
   ]
  },
  {
   "cell_type": "code",
   "metadata": {
    "cell_id": "00004-1128f151-b12a-4440-b66d-7857bbf38f3a",
    "deepnote_to_be_reexecuted": false,
    "source_hash": "5262d655",
    "execution_start": 1621511446044,
    "execution_millis": 49,
    "deepnote_cell_type": "code"
   },
   "source": "masterlist.columns",
   "execution_count": 9,
   "outputs": [
    {
     "output_type": "execute_result",
     "execution_count": 9,
     "data": {
      "text/plain": "Index(['school.id', 'school.name', 'school.region', 'school.region.name',\n       'school.province', 'school.cityhall', 'school.division',\n       'school.citymuni', 'school.district', 'school.legdistrict',\n       'school.type', 'school.abbrev', 'school.previousname',\n       'school.mother.id', 'school.address', 'school.established',\n       'school.classification', 'school.classification2',\n       'school.curricularclass', 'school.organization', 'school.cityincome',\n       'school.cityclass', 'school.urban'],\n      dtype='object')"
     },
     "metadata": {}
    }
   ]
  },
  {
   "cell_type": "code",
   "metadata": {
    "cell_id": "00005-2451b362-c968-4a99-a1eb-4ce5958e749c",
    "deepnote_to_be_reexecuted": false,
    "source_hash": "8e0324a7",
    "execution_start": 1621511446052,
    "execution_millis": 41,
    "deepnote_cell_type": "code"
   },
   "source": "masterlist.shape",
   "execution_count": 10,
   "outputs": [
    {
     "output_type": "execute_result",
     "execution_count": 10,
     "data": {
      "text/plain": "(46603, 23)"
     },
     "metadata": {}
    }
   ]
  },
  {
   "cell_type": "code",
   "metadata": {
    "cell_id": "00006-43fb2948-18d0-47e9-b2eb-ddec72fcf8c8",
    "deepnote_to_be_reexecuted": false,
    "source_hash": "48dedaa5",
    "execution_start": 1621511446060,
    "execution_millis": 33,
    "deepnote_cell_type": "code"
   },
   "source": "mooe.columns",
   "execution_count": 11,
   "outputs": [
    {
     "output_type": "execute_result",
     "execution_count": 11,
     "data": {
      "text/plain": "Index(['school.id', ' school.mooe '], dtype='object')"
     },
     "metadata": {}
    }
   ]
  },
  {
   "cell_type": "code",
   "metadata": {
    "cell_id": "00007-42ec97c3-27f9-4f9a-9f9e-90040a163dac",
    "deepnote_to_be_reexecuted": false,
    "source_hash": "8ec6d29e",
    "execution_start": 1621511446062,
    "execution_millis": 14,
    "deepnote_cell_type": "code"
   },
   "source": "room.columns",
   "execution_count": 12,
   "outputs": [
    {
     "output_type": "execute_result",
     "execution_count": 12,
     "data": {
      "text/plain": "Index(['School ID', 'rooms.standard.academic', 'rooms.standard.unused',\n       'rooms.nonstandard.academic', 'rooms.nonstandard.unused'],\n      dtype='object')"
     },
     "metadata": {}
    }
   ]
  },
  {
   "cell_type": "code",
   "metadata": {
    "cell_id": "00008-04d9f4fe-7678-425c-a86a-3a6b6176bba1",
    "deepnote_to_be_reexecuted": false,
    "source_hash": "ab12144c",
    "execution_start": 1621511446080,
    "execution_millis": 15,
    "deepnote_cell_type": "code"
   },
   "source": "teacher.columns",
   "execution_count": 13,
   "outputs": [
    {
     "output_type": "execute_result",
     "execution_count": 13,
     "data": {
      "text/plain": "Index(['school.id', 'teachers.instructor', 'teachers.mobile',\n       'teachers.regular', 'teachers.sped'],\n      dtype='object')"
     },
     "metadata": {}
    }
   ]
  },
  {
   "cell_type": "code",
   "metadata": {
    "cell_id": "00009-3489423b-dfff-4d84-843f-9e39c05b9c0c",
    "deepnote_to_be_reexecuted": false,
    "source_hash": "901fd986",
    "execution_start": 1621511446129,
    "execution_millis": 45,
    "deepnote_cell_type": "code"
   },
   "source": "#School ID - enrol_all, room\n#school.id - masterlist, mooe, teacher\nmaster_df = pd.merge(masterlist, enrol_all, left_on =\"school.id\", right_on = \"School ID\", how = \"left\")",
   "execution_count": 14,
   "outputs": []
  },
  {
   "cell_type": "code",
   "metadata": {
    "cell_id": "00010-6b82afa1-f279-4de5-8915-ae5bb0bdc2f9",
    "deepnote_to_be_reexecuted": false,
    "source_hash": "f7e130f3",
    "execution_start": 1621511446174,
    "execution_millis": 173,
    "deepnote_cell_type": "code"
   },
   "source": "master_df.head()",
   "execution_count": 15,
   "outputs": [
    {
     "output_type": "execute_result",
     "execution_count": 15,
     "data": {
      "application/vnd.deepnote.dataframe.v2+json": {
       "row_count": 5,
       "column_count": 52,
       "columns": [
        {
         "name": "school.id",
         "dtype": "int64",
         "stats": {
          "unique_count": 5,
          "nan_count": 0,
          "min": "100043",
          "max": "102193",
          "histogram": [
           {
            "bin_start": 100043,
            "bin_end": 100258,
            "count": 2
           },
           {
            "bin_start": 100258,
            "bin_end": 100473,
            "count": 0
           },
           {
            "bin_start": 100473,
            "bin_end": 100688,
            "count": 0
           },
           {
            "bin_start": 100688,
            "bin_end": 100903,
            "count": 0
           },
           {
            "bin_start": 100903,
            "bin_end": 101118,
            "count": 0
           },
           {
            "bin_start": 101118,
            "bin_end": 101333,
            "count": 1
           },
           {
            "bin_start": 101333,
            "bin_end": 101548,
            "count": 0
           },
           {
            "bin_start": 101548,
            "bin_end": 101763,
            "count": 1
           },
           {
            "bin_start": 101763,
            "bin_end": 101978,
            "count": 0
           },
           {
            "bin_start": 101978,
            "bin_end": 102193,
            "count": 1
           }
          ]
         }
        },
        {
         "name": "school.name",
         "dtype": "object",
         "stats": {
          "unique_count": 5,
          "nan_count": 0,
          "categories": [
           {
            "name": "A. Diaz, Sr. ES",
            "count": 1
           },
           {
            "name": "A. P. Santos ES (SPED Center)",
            "count": 1
           },
           {
            "name": "3 others",
            "count": 3
           }
          ]
         }
        },
        {
         "name": "school.region",
         "dtype": "object",
         "stats": {
          "unique_count": 1,
          "nan_count": 0,
          "categories": [
           {
            "name": "Region I",
            "count": 5
           }
          ]
         }
        },
        {
         "name": "school.region.name",
         "dtype": "object",
         "stats": {
          "unique_count": 1,
          "nan_count": 0,
          "categories": [
           {
            "name": "Ilocos Region",
            "count": 5
           }
          ]
         }
        },
        {
         "name": "school.province",
         "dtype": "object",
         "stats": {
          "unique_count": 2,
          "nan_count": 0,
          "categories": [
           {
            "name": "ILOCOS NORTE",
            "count": 3
           },
           {
            "name": "PANGASINAN",
            "count": 2
           }
          ]
         }
        },
        {
         "name": "school.cityhall",
         "dtype": "object",
         "stats": {
          "unique_count": 2,
          "nan_count": 0,
          "categories": [
           {
            "name": "ILOCOS NORTE",
            "count": 3
           },
           {
            "name": "PANGASINAN",
            "count": 2
           }
          ]
         }
        },
        {
         "name": "school.division",
         "dtype": "object",
         "stats": {
          "unique_count": 4,
          "nan_count": 0,
          "categories": [
           {
            "name": "Ilocos Norte",
            "count": 2
           },
           {
            "name": "Pangasinan II, Binalonan",
            "count": 1
           },
           {
            "name": "2 others",
            "count": 2
           }
          ]
         }
        },
        {
         "name": "school.citymuni",
         "dtype": "object",
         "stats": {
          "unique_count": 5,
          "nan_count": 0,
          "categories": [
           {
            "name": "BAUTISTA",
            "count": 1
           },
           {
            "name": "LAOAG CITY (Capital)",
            "count": 1
           },
           {
            "name": "3 others",
            "count": 3
           }
          ]
         }
        },
        {
         "name": "school.district",
         "dtype": "object",
         "stats": {
          "unique_count": 5,
          "nan_count": 0,
          "categories": [
           {
            "name": "Bautista",
            "count": 1
           },
           {
            "name": "Laoag City District II",
            "count": 1
           },
           {
            "name": "3 others",
            "count": 3
           }
          ]
         }
        },
        {
         "name": "school.legdistrict",
         "dtype": "object",
         "stats": {
          "unique_count": 3,
          "nan_count": 0,
          "categories": [
           {
            "name": "1st District",
            "count": 3
           },
           {
            "name": "5th District",
            "count": 1
           },
           {
            "name": "3rd District",
            "count": 1
           }
          ]
         }
        },
        {
         "name": "school.type",
         "dtype": "object",
         "stats": {
          "unique_count": 1,
          "nan_count": 0,
          "categories": [
           {
            "name": "School with no Annexes",
            "count": 5
           }
          ]
         }
        },
        {
         "name": "school.abbrev",
         "dtype": "object",
         "stats": {
          "unique_count": 3,
          "nan_count": 1,
          "categories": [
           {
            "name": "AES",
            "count": 2
           },
           {
            "name": "2 others",
            "count": 2
           },
           {
            "name": "Missing",
            "count": 1
           }
          ]
         }
        },
        {
         "name": "school.previousname",
         "dtype": "object",
         "stats": {
          "unique_count": 3,
          "nan_count": 0,
          "categories": [
           {
            "name": "none",
            "count": 2
           },
           {
            "name": "-",
            "count": 2
           },
           {
            "name": "A.P. Guevarra IS",
            "count": 1
           }
          ]
         }
        },
        {
         "name": "school.mother.id",
         "dtype": "float64",
         "stats": {
          "unique_count": 5,
          "nan_count": 0,
          "min": "100043.0",
          "max": "102193.0",
          "histogram": [
           {
            "bin_start": 100043,
            "bin_end": 100258,
            "count": 2
           },
           {
            "bin_start": 100258,
            "bin_end": 100473,
            "count": 0
           },
           {
            "bin_start": 100473,
            "bin_end": 100688,
            "count": 0
           },
           {
            "bin_start": 100688,
            "bin_end": 100903,
            "count": 0
           },
           {
            "bin_start": 100903,
            "bin_end": 101118,
            "count": 0
           },
           {
            "bin_start": 101118,
            "bin_end": 101333,
            "count": 1
           },
           {
            "bin_start": 101333,
            "bin_end": 101548,
            "count": 0
           },
           {
            "bin_start": 101548,
            "bin_end": 101763,
            "count": 1
           },
           {
            "bin_start": 101763,
            "bin_end": 101978,
            "count": 0
           },
           {
            "bin_start": 101978,
            "bin_end": 102193,
            "count": 1
           }
          ]
         }
        },
        {
         "name": "school.address",
         "dtype": "object",
         "stats": {
          "unique_count": 5,
          "nan_count": 0,
          "categories": [
           {
            "name": "Brgy. Dias Bautista, Pang",
            "count": 1
           },
           {
            "name": "A.G. Tupaz",
            "count": 1
           },
           {
            "name": "3 others",
            "count": 3
           }
          ]
         }
        },
        {
         "name": "school.established",
         "dtype": "object",
         "stats": {
          "unique_count": 5,
          "nan_count": 0,
          "categories": [
           {
            "name": "1/1/1930",
            "count": 1
           },
           {
            "name": "1/1/1944",
            "count": 1
           },
           {
            "name": "3 others",
            "count": 3
           }
          ]
         }
        },
        {
         "name": "school.classification",
         "dtype": "object",
         "stats": {
          "unique_count": 1,
          "nan_count": 0,
          "categories": [
           {
            "name": "Elementary",
            "count": 5
           }
          ]
         }
        },
        {
         "name": "school.classification2",
         "dtype": "object",
         "stats": {
          "unique_count": 1,
          "nan_count": 0,
          "categories": [
           {
            "name": "DepED Managed",
            "count": 5
           }
          ]
         }
        },
        {
         "name": "school.curricularclass",
         "dtype": "object",
         "stats": {
          "unique_count": 2,
          "nan_count": 0,
          "categories": [
           {
            "name": "Elementary",
            "count": 4
           },
           {
            "name": "Kinder & Elementary",
            "count": 1
           }
          ]
         }
        },
        {
         "name": "school.organization",
         "dtype": "object",
         "stats": {
          "unique_count": 1,
          "nan_count": 0,
          "categories": [
           {
            "name": "Monograde",
            "count": 5
           }
          ]
         }
        },
        {
         "name": "school.cityincome",
         "dtype": "object",
         "stats": {
          "unique_count": 4,
          "nan_count": 0,
          "categories": [
           {
            "name": "P 25 M or more but less than P 35 M",
            "count": 2
           },
           {
            "name": "P 240 M or more but less than P 320 M",
            "count": 1
           },
           {
            "name": "2 others",
            "count": 2
           }
          ]
         }
        },
        {
         "name": "school.cityclass",
         "dtype": "object",
         "stats": {
          "unique_count": 1,
          "nan_count": 4,
          "categories": [
           {
            "name": "Component City",
            "count": 1
           },
           {
            "name": "Missing",
            "count": 4
           }
          ]
         }
        },
        {
         "name": "school.urban",
         "dtype": "object",
         "stats": {
          "unique_count": 1,
          "nan_count": 0,
          "categories": [
           {
            "name": "Partially Urban",
            "count": 5
           }
          ]
         }
        },
        {
         "name": "School ID",
         "dtype": "float64",
         "stats": {
          "unique_count": 5,
          "nan_count": 0,
          "min": "100043.0",
          "max": "102193.0",
          "histogram": [
           {
            "bin_start": 100043,
            "bin_end": 100258,
            "count": 2
           },
           {
            "bin_start": 100258,
            "bin_end": 100473,
            "count": 0
           },
           {
            "bin_start": 100473,
            "bin_end": 100688,
            "count": 0
           },
           {
            "bin_start": 100688,
            "bin_end": 100903,
            "count": 0
           },
           {
            "bin_start": 100903,
            "bin_end": 101118,
            "count": 0
           },
           {
            "bin_start": 101118,
            "bin_end": 101333,
            "count": 1
           },
           {
            "bin_start": 101333,
            "bin_end": 101548,
            "count": 0
           },
           {
            "bin_start": 101548,
            "bin_end": 101763,
            "count": 1
           },
           {
            "bin_start": 101763,
            "bin_end": 101978,
            "count": 0
           },
           {
            "bin_start": 101978,
            "bin_end": 102193,
            "count": 1
           }
          ]
         }
        },
        {
         "name": "Kinder Male",
         "dtype": "float64",
         "stats": {
          "unique_count": 5,
          "nan_count": 0,
          "min": "10.0",
          "max": "57.0",
          "histogram": [
           {
            "bin_start": 10,
            "bin_end": 14.7,
            "count": 2
           },
           {
            "bin_start": 14.7,
            "bin_end": 19.4,
            "count": 1
           },
           {
            "bin_start": 19.4,
            "bin_end": 24.1,
            "count": 1
           },
           {
            "bin_start": 24.1,
            "bin_end": 28.8,
            "count": 0
           },
           {
            "bin_start": 28.8,
            "bin_end": 33.5,
            "count": 0
           },
           {
            "bin_start": 33.5,
            "bin_end": 38.2,
            "count": 0
           },
           {
            "bin_start": 38.2,
            "bin_end": 42.9,
            "count": 0
           },
           {
            "bin_start": 42.9,
            "bin_end": 47.6,
            "count": 0
           },
           {
            "bin_start": 47.6,
            "bin_end": 52.300000000000004,
            "count": 0
           },
           {
            "bin_start": 52.300000000000004,
            "bin_end": 57,
            "count": 1
           }
          ]
         }
        },
        {
         "name": "Kinder Female",
         "dtype": "float64",
         "stats": {
          "unique_count": 5,
          "nan_count": 0,
          "min": "6.0",
          "max": "45.0",
          "histogram": [
           {
            "bin_start": 6,
            "bin_end": 9.9,
            "count": 1
           },
           {
            "bin_start": 9.9,
            "bin_end": 13.8,
            "count": 2
           },
           {
            "bin_start": 13.8,
            "bin_end": 17.7,
            "count": 0
           },
           {
            "bin_start": 17.7,
            "bin_end": 21.6,
            "count": 0
           },
           {
            "bin_start": 21.6,
            "bin_end": 25.5,
            "count": 1
           },
           {
            "bin_start": 25.5,
            "bin_end": 29.4,
            "count": 0
           },
           {
            "bin_start": 29.4,
            "bin_end": 33.3,
            "count": 0
           },
           {
            "bin_start": 33.3,
            "bin_end": 37.2,
            "count": 0
           },
           {
            "bin_start": 37.2,
            "bin_end": 41.1,
            "count": 0
           },
           {
            "bin_start": 41.1,
            "bin_end": 45,
            "count": 1
           }
          ]
         }
        },
        {
         "name": "Grade 1 Male",
         "dtype": "float64",
         "stats": {
          "unique_count": 5,
          "nan_count": 0,
          "min": "10.0",
          "max": "56.0",
          "histogram": [
           {
            "bin_start": 10,
            "bin_end": 14.6,
            "count": 2
           },
           {
            "bin_start": 14.6,
            "bin_end": 19.2,
            "count": 0
           },
           {
            "bin_start": 19.2,
            "bin_end": 23.799999999999997,
            "count": 1
           },
           {
            "bin_start": 23.799999999999997,
            "bin_end": 28.4,
            "count": 0
           },
           {
            "bin_start": 28.4,
            "bin_end": 33,
            "count": 0
           },
           {
            "bin_start": 33,
            "bin_end": 37.599999999999994,
            "count": 0
           },
           {
            "bin_start": 37.599999999999994,
            "bin_end": 42.199999999999996,
            "count": 1
           },
           {
            "bin_start": 42.199999999999996,
            "bin_end": 46.8,
            "count": 0
           },
           {
            "bin_start": 46.8,
            "bin_end": 51.4,
            "count": 0
           },
           {
            "bin_start": 51.4,
            "bin_end": 56,
            "count": 1
           }
          ]
         }
        },
        {
         "name": "Grade 1 Female",
         "dtype": "float64",
         "stats": {
          "unique_count": 5,
          "nan_count": 0,
          "min": "10.0",
          "max": "58.0",
          "histogram": [
           {
            "bin_start": 10,
            "bin_end": 14.8,
            "count": 1
           },
           {
            "bin_start": 14.8,
            "bin_end": 19.6,
            "count": 1
           },
           {
            "bin_start": 19.6,
            "bin_end": 24.4,
            "count": 0
           },
           {
            "bin_start": 24.4,
            "bin_end": 29.2,
            "count": 1
           },
           {
            "bin_start": 29.2,
            "bin_end": 34,
            "count": 1
           },
           {
            "bin_start": 34,
            "bin_end": 38.8,
            "count": 0
           },
           {
            "bin_start": 38.8,
            "bin_end": 43.6,
            "count": 0
           },
           {
            "bin_start": 43.6,
            "bin_end": 48.4,
            "count": 0
           },
           {
            "bin_start": 48.4,
            "bin_end": 53.199999999999996,
            "count": 0
           },
           {
            "bin_start": 53.199999999999996,
            "bin_end": 58,
            "count": 1
           }
          ]
         }
        },
        {
         "name": "Grade 2 Male",
         "dtype": "float64",
         "stats": {
          "unique_count": 5,
          "nan_count": 0,
          "min": "9.0",
          "max": "63.0",
          "histogram": [
           {
            "bin_start": 9,
            "bin_end": 14.4,
            "count": 1
           },
           {
            "bin_start": 14.4,
            "bin_end": 19.8,
            "count": 1
           },
           {
            "bin_start": 19.8,
            "bin_end": 25.200000000000003,
            "count": 1
           },
           {
            "bin_start": 25.200000000000003,
            "bin_end": 30.6,
            "count": 0
           },
           {
            "bin_start": 30.6,
            "bin_end": 36,
            "count": 0
           },
           {
            "bin_start": 36,
            "bin_end": 41.400000000000006,
            "count": 1
           },
           {
            "bin_start": 41.400000000000006,
            "bin_end": 46.800000000000004,
            "count": 0
           },
           {
            "bin_start": 46.800000000000004,
            "bin_end": 52.2,
            "count": 0
           },
           {
            "bin_start": 52.2,
            "bin_end": 57.6,
            "count": 0
           },
           {
            "bin_start": 57.6,
            "bin_end": 63,
            "count": 1
           }
          ]
         }
        },
        {
         "name": "Grade 2 Female",
         "dtype": "float64",
         "stats": {
          "unique_count": 5,
          "nan_count": 0,
          "min": "11.0",
          "max": "61.0",
          "histogram": [
           {
            "bin_start": 11,
            "bin_end": 16,
            "count": 3
           },
           {
            "bin_start": 16,
            "bin_end": 21,
            "count": 1
           },
           {
            "bin_start": 21,
            "bin_end": 26,
            "count": 0
           },
           {
            "bin_start": 26,
            "bin_end": 31,
            "count": 0
           },
           {
            "bin_start": 31,
            "bin_end": 36,
            "count": 0
           },
           {
            "bin_start": 36,
            "bin_end": 41,
            "count": 0
           },
           {
            "bin_start": 41,
            "bin_end": 46,
            "count": 0
           },
           {
            "bin_start": 46,
            "bin_end": 51,
            "count": 0
           },
           {
            "bin_start": 51,
            "bin_end": 56,
            "count": 0
           },
           {
            "bin_start": 56,
            "bin_end": 61,
            "count": 1
           }
          ]
         }
        },
        {
         "name": "Grade 3 Male",
         "dtype": "float64",
         "stats": {
          "unique_count": 5,
          "nan_count": 0,
          "min": "15.0",
          "max": "55.0",
          "histogram": [
           {
            "bin_start": 15,
            "bin_end": 19,
            "count": 2
           },
           {
            "bin_start": 19,
            "bin_end": 23,
            "count": 1
           },
           {
            "bin_start": 23,
            "bin_end": 27,
            "count": 0
           },
           {
            "bin_start": 27,
            "bin_end": 31,
            "count": 1
           },
           {
            "bin_start": 31,
            "bin_end": 35,
            "count": 0
           },
           {
            "bin_start": 35,
            "bin_end": 39,
            "count": 0
           },
           {
            "bin_start": 39,
            "bin_end": 43,
            "count": 0
           },
           {
            "bin_start": 43,
            "bin_end": 47,
            "count": 0
           },
           {
            "bin_start": 47,
            "bin_end": 51,
            "count": 0
           },
           {
            "bin_start": 51,
            "bin_end": 55,
            "count": 1
           }
          ]
         }
        },
        {
         "name": "Grade 3 Female",
         "dtype": "float64",
         "stats": {
          "unique_count": 5,
          "nan_count": 0,
          "min": "12.0",
          "max": "61.0",
          "histogram": [
           {
            "bin_start": 12,
            "bin_end": 16.9,
            "count": 2
           },
           {
            "bin_start": 16.9,
            "bin_end": 21.8,
            "count": 0
           },
           {
            "bin_start": 21.8,
            "bin_end": 26.700000000000003,
            "count": 1
           },
           {
            "bin_start": 26.700000000000003,
            "bin_end": 31.6,
            "count": 0
           },
           {
            "bin_start": 31.6,
            "bin_end": 36.5,
            "count": 1
           },
           {
            "bin_start": 36.5,
            "bin_end": 41.400000000000006,
            "count": 0
           },
           {
            "bin_start": 41.400000000000006,
            "bin_end": 46.300000000000004,
            "count": 0
           },
           {
            "bin_start": 46.300000000000004,
            "bin_end": 51.2,
            "count": 0
           },
           {
            "bin_start": 51.2,
            "bin_end": 56.1,
            "count": 0
           },
           {
            "bin_start": 56.1,
            "bin_end": 61,
            "count": 1
           }
          ]
         }
        },
        {
         "name": "Grade 4 Male",
         "dtype": "float64",
         "stats": {
          "unique_count": 5,
          "nan_count": 0,
          "min": "12.0",
          "max": "62.0",
          "histogram": [
           {
            "bin_start": 12,
            "bin_end": 17,
            "count": 2
           },
           {
            "bin_start": 17,
            "bin_end": 22,
            "count": 0
           },
           {
            "bin_start": 22,
            "bin_end": 27,
            "count": 2
           },
           {
            "bin_start": 27,
            "bin_end": 32,
            "count": 0
           },
           {
            "bin_start": 32,
            "bin_end": 37,
            "count": 0
           },
           {
            "bin_start": 37,
            "bin_end": 42,
            "count": 0
           },
           {
            "bin_start": 42,
            "bin_end": 47,
            "count": 0
           },
           {
            "bin_start": 47,
            "bin_end": 52,
            "count": 0
           },
           {
            "bin_start": 52,
            "bin_end": 57,
            "count": 0
           },
           {
            "bin_start": 57,
            "bin_end": 62,
            "count": 1
           }
          ]
         }
        },
        {
         "name": "Grade 4 Female",
         "dtype": "float64",
         "stats": {
          "unique_count": 4,
          "nan_count": 0,
          "min": "11.0",
          "max": "55.0",
          "histogram": [
           {
            "bin_start": 11,
            "bin_end": 15.4,
            "count": 3
           },
           {
            "bin_start": 15.4,
            "bin_end": 19.8,
            "count": 0
           },
           {
            "bin_start": 19.8,
            "bin_end": 24.200000000000003,
            "count": 0
           },
           {
            "bin_start": 24.200000000000003,
            "bin_end": 28.6,
            "count": 0
           },
           {
            "bin_start": 28.6,
            "bin_end": 33,
            "count": 0
           },
           {
            "bin_start": 33,
            "bin_end": 37.400000000000006,
            "count": 0
           },
           {
            "bin_start": 37.400000000000006,
            "bin_end": 41.800000000000004,
            "count": 1
           },
           {
            "bin_start": 41.800000000000004,
            "bin_end": 46.2,
            "count": 0
           },
           {
            "bin_start": 46.2,
            "bin_end": 50.6,
            "count": 0
           },
           {
            "bin_start": 50.6,
            "bin_end": 55,
            "count": 1
           }
          ]
         }
        },
        {
         "name": "Grade 5 Male",
         "dtype": "float64",
         "stats": {
          "unique_count": 5,
          "nan_count": 0,
          "min": "16.0",
          "max": "61.0",
          "histogram": [
           {
            "bin_start": 16,
            "bin_end": 20.5,
            "count": 1
           },
           {
            "bin_start": 20.5,
            "bin_end": 25,
            "count": 1
           },
           {
            "bin_start": 25,
            "bin_end": 29.5,
            "count": 1
           },
           {
            "bin_start": 29.5,
            "bin_end": 34,
            "count": 0
           },
           {
            "bin_start": 34,
            "bin_end": 38.5,
            "count": 0
           },
           {
            "bin_start": 38.5,
            "bin_end": 43,
            "count": 1
           },
           {
            "bin_start": 43,
            "bin_end": 47.5,
            "count": 0
           },
           {
            "bin_start": 47.5,
            "bin_end": 52,
            "count": 0
           },
           {
            "bin_start": 52,
            "bin_end": 56.5,
            "count": 0
           },
           {
            "bin_start": 56.5,
            "bin_end": 61,
            "count": 1
           }
          ]
         }
        },
        {
         "name": "Grade 5 Female",
         "dtype": "float64",
         "stats": {
          "unique_count": 5,
          "nan_count": 0,
          "min": "7.0",
          "max": "48.0",
          "histogram": [
           {
            "bin_start": 7,
            "bin_end": 11.1,
            "count": 1
           },
           {
            "bin_start": 11.1,
            "bin_end": 15.2,
            "count": 1
           },
           {
            "bin_start": 15.2,
            "bin_end": 19.299999999999997,
            "count": 1
           },
           {
            "bin_start": 19.299999999999997,
            "bin_end": 23.4,
            "count": 0
           },
           {
            "bin_start": 23.4,
            "bin_end": 27.5,
            "count": 1
           },
           {
            "bin_start": 27.5,
            "bin_end": 31.599999999999998,
            "count": 0
           },
           {
            "bin_start": 31.599999999999998,
            "bin_end": 35.699999999999996,
            "count": 0
           },
           {
            "bin_start": 35.699999999999996,
            "bin_end": 39.8,
            "count": 0
           },
           {
            "bin_start": 39.8,
            "bin_end": 43.9,
            "count": 0
           },
           {
            "bin_start": 43.9,
            "bin_end": 48,
            "count": 1
           }
          ]
         }
        },
        {
         "name": "Grade 6 Male",
         "dtype": "float64",
         "stats": {
          "unique_count": 4,
          "nan_count": 0,
          "min": "7.0",
          "max": "48.0",
          "histogram": [
           {
            "bin_start": 7,
            "bin_end": 11.1,
            "count": 1
           },
           {
            "bin_start": 11.1,
            "bin_end": 15.2,
            "count": 1
           },
           {
            "bin_start": 15.2,
            "bin_end": 19.299999999999997,
            "count": 0
           },
           {
            "bin_start": 19.299999999999997,
            "bin_end": 23.4,
            "count": 0
           },
           {
            "bin_start": 23.4,
            "bin_end": 27.5,
            "count": 2
           },
           {
            "bin_start": 27.5,
            "bin_end": 31.599999999999998,
            "count": 0
           },
           {
            "bin_start": 31.599999999999998,
            "bin_end": 35.699999999999996,
            "count": 0
           },
           {
            "bin_start": 35.699999999999996,
            "bin_end": 39.8,
            "count": 0
           },
           {
            "bin_start": 39.8,
            "bin_end": 43.9,
            "count": 0
           },
           {
            "bin_start": 43.9,
            "bin_end": 48,
            "count": 1
           }
          ]
         }
        },
        {
         "name": "Grade 6 Female",
         "dtype": "float64",
         "stats": {
          "unique_count": 5,
          "nan_count": 0,
          "min": "9.0",
          "max": "51.0",
          "histogram": [
           {
            "bin_start": 9,
            "bin_end": 13.2,
            "count": 2
           },
           {
            "bin_start": 13.2,
            "bin_end": 17.4,
            "count": 1
           },
           {
            "bin_start": 17.4,
            "bin_end": 21.6,
            "count": 0
           },
           {
            "bin_start": 21.6,
            "bin_end": 25.8,
            "count": 0
           },
           {
            "bin_start": 25.8,
            "bin_end": 30,
            "count": 1
           },
           {
            "bin_start": 30,
            "bin_end": 34.2,
            "count": 0
           },
           {
            "bin_start": 34.2,
            "bin_end": 38.400000000000006,
            "count": 0
           },
           {
            "bin_start": 38.400000000000006,
            "bin_end": 42.6,
            "count": 0
           },
           {
            "bin_start": 42.6,
            "bin_end": 46.800000000000004,
            "count": 0
           },
           {
            "bin_start": 46.800000000000004,
            "bin_end": 51,
            "count": 1
           }
          ]
         }
        },
        {
         "name": "SPED NG Male",
         "dtype": "float64",
         "stats": {
          "unique_count": 2,
          "nan_count": 0,
          "min": "0.0",
          "max": "32.0",
          "histogram": [
           {
            "bin_start": 0,
            "bin_end": 3.2,
            "count": 4
           },
           {
            "bin_start": 3.2,
            "bin_end": 6.4,
            "count": 0
           },
           {
            "bin_start": 6.4,
            "bin_end": 9.600000000000001,
            "count": 0
           },
           {
            "bin_start": 9.600000000000001,
            "bin_end": 12.8,
            "count": 0
           },
           {
            "bin_start": 12.8,
            "bin_end": 16,
            "count": 0
           },
           {
            "bin_start": 16,
            "bin_end": 19.200000000000003,
            "count": 0
           },
           {
            "bin_start": 19.200000000000003,
            "bin_end": 22.400000000000002,
            "count": 0
           },
           {
            "bin_start": 22.400000000000002,
            "bin_end": 25.6,
            "count": 0
           },
           {
            "bin_start": 25.6,
            "bin_end": 28.8,
            "count": 0
           },
           {
            "bin_start": 28.8,
            "bin_end": 32,
            "count": 1
           }
          ]
         }
        },
        {
         "name": "SPED NG Female",
         "dtype": "float64",
         "stats": {
          "unique_count": 2,
          "nan_count": 0,
          "min": "0.0",
          "max": "22.0",
          "histogram": [
           {
            "bin_start": 0,
            "bin_end": 2.2,
            "count": 4
           },
           {
            "bin_start": 2.2,
            "bin_end": 4.4,
            "count": 0
           },
           {
            "bin_start": 4.4,
            "bin_end": 6.6000000000000005,
            "count": 0
           },
           {
            "bin_start": 6.6000000000000005,
            "bin_end": 8.8,
            "count": 0
           },
           {
            "bin_start": 8.8,
            "bin_end": 11,
            "count": 0
           },
           {
            "bin_start": 11,
            "bin_end": 13.200000000000001,
            "count": 0
           },
           {
            "bin_start": 13.200000000000001,
            "bin_end": 15.400000000000002,
            "count": 0
           },
           {
            "bin_start": 15.400000000000002,
            "bin_end": 17.6,
            "count": 0
           },
           {
            "bin_start": 17.6,
            "bin_end": 19.8,
            "count": 0
           },
           {
            "bin_start": 19.8,
            "bin_end": 22,
            "count": 1
           }
          ]
         }
        },
        {
         "name": "Grade 7 Male",
         "dtype": "float64",
         "stats": {
          "unique_count": 0,
          "nan_count": 5,
          "min": null,
          "max": null,
          "histogram": [
           {
            "bin_start": 0,
            "bin_end": 0.1,
            "count": 0
           },
           {
            "bin_start": 0.1,
            "bin_end": 0.2,
            "count": 0
           },
           {
            "bin_start": 0.2,
            "bin_end": 0.30000000000000004,
            "count": 0
           },
           {
            "bin_start": 0.30000000000000004,
            "bin_end": 0.4,
            "count": 0
           },
           {
            "bin_start": 0.4,
            "bin_end": 0.5,
            "count": 0
           },
           {
            "bin_start": 0.5,
            "bin_end": 0.6000000000000001,
            "count": 0
           },
           {
            "bin_start": 0.6000000000000001,
            "bin_end": 0.7000000000000001,
            "count": 0
           },
           {
            "bin_start": 0.7000000000000001,
            "bin_end": 0.8,
            "count": 0
           },
           {
            "bin_start": 0.8,
            "bin_end": 0.9,
            "count": 0
           },
           {
            "bin_start": 0.9,
            "bin_end": 1,
            "count": 0
           }
          ]
         }
        },
        {
         "name": "Grade 7 Female",
         "dtype": "float64",
         "stats": {
          "unique_count": 0,
          "nan_count": 5,
          "min": null,
          "max": null,
          "histogram": [
           {
            "bin_start": 0,
            "bin_end": 0.1,
            "count": 0
           },
           {
            "bin_start": 0.1,
            "bin_end": 0.2,
            "count": 0
           },
           {
            "bin_start": 0.2,
            "bin_end": 0.30000000000000004,
            "count": 0
           },
           {
            "bin_start": 0.30000000000000004,
            "bin_end": 0.4,
            "count": 0
           },
           {
            "bin_start": 0.4,
            "bin_end": 0.5,
            "count": 0
           },
           {
            "bin_start": 0.5,
            "bin_end": 0.6000000000000001,
            "count": 0
           },
           {
            "bin_start": 0.6000000000000001,
            "bin_end": 0.7000000000000001,
            "count": 0
           },
           {
            "bin_start": 0.7000000000000001,
            "bin_end": 0.8,
            "count": 0
           },
           {
            "bin_start": 0.8,
            "bin_end": 0.9,
            "count": 0
           },
           {
            "bin_start": 0.9,
            "bin_end": 1,
            "count": 0
           }
          ]
         }
        },
        {
         "name": "Grade 8 Male",
         "dtype": "float64",
         "stats": {
          "unique_count": 0,
          "nan_count": 5,
          "min": null,
          "max": null,
          "histogram": [
           {
            "bin_start": 0,
            "bin_end": 0.1,
            "count": 0
           },
           {
            "bin_start": 0.1,
            "bin_end": 0.2,
            "count": 0
           },
           {
            "bin_start": 0.2,
            "bin_end": 0.30000000000000004,
            "count": 0
           },
           {
            "bin_start": 0.30000000000000004,
            "bin_end": 0.4,
            "count": 0
           },
           {
            "bin_start": 0.4,
            "bin_end": 0.5,
            "count": 0
           },
           {
            "bin_start": 0.5,
            "bin_end": 0.6000000000000001,
            "count": 0
           },
           {
            "bin_start": 0.6000000000000001,
            "bin_end": 0.7000000000000001,
            "count": 0
           },
           {
            "bin_start": 0.7000000000000001,
            "bin_end": 0.8,
            "count": 0
           },
           {
            "bin_start": 0.8,
            "bin_end": 0.9,
            "count": 0
           },
           {
            "bin_start": 0.9,
            "bin_end": 1,
            "count": 0
           }
          ]
         }
        },
        {
         "name": "Grade 8 Female",
         "dtype": "float64",
         "stats": {
          "unique_count": 0,
          "nan_count": 5,
          "min": null,
          "max": null,
          "histogram": [
           {
            "bin_start": 0,
            "bin_end": 0.1,
            "count": 0
           },
           {
            "bin_start": 0.1,
            "bin_end": 0.2,
            "count": 0
           },
           {
            "bin_start": 0.2,
            "bin_end": 0.30000000000000004,
            "count": 0
           },
           {
            "bin_start": 0.30000000000000004,
            "bin_end": 0.4,
            "count": 0
           },
           {
            "bin_start": 0.4,
            "bin_end": 0.5,
            "count": 0
           },
           {
            "bin_start": 0.5,
            "bin_end": 0.6000000000000001,
            "count": 0
           },
           {
            "bin_start": 0.6000000000000001,
            "bin_end": 0.7000000000000001,
            "count": 0
           },
           {
            "bin_start": 0.7000000000000001,
            "bin_end": 0.8,
            "count": 0
           },
           {
            "bin_start": 0.8,
            "bin_end": 0.9,
            "count": 0
           },
           {
            "bin_start": 0.9,
            "bin_end": 1,
            "count": 0
           }
          ]
         }
        },
        {
         "name": "Grade 9 Male",
         "dtype": "float64",
         "stats": {
          "unique_count": 0,
          "nan_count": 5,
          "min": null,
          "max": null,
          "histogram": [
           {
            "bin_start": 0,
            "bin_end": 0.1,
            "count": 0
           },
           {
            "bin_start": 0.1,
            "bin_end": 0.2,
            "count": 0
           },
           {
            "bin_start": 0.2,
            "bin_end": 0.30000000000000004,
            "count": 0
           },
           {
            "bin_start": 0.30000000000000004,
            "bin_end": 0.4,
            "count": 0
           },
           {
            "bin_start": 0.4,
            "bin_end": 0.5,
            "count": 0
           },
           {
            "bin_start": 0.5,
            "bin_end": 0.6000000000000001,
            "count": 0
           },
           {
            "bin_start": 0.6000000000000001,
            "bin_end": 0.7000000000000001,
            "count": 0
           },
           {
            "bin_start": 0.7000000000000001,
            "bin_end": 0.8,
            "count": 0
           },
           {
            "bin_start": 0.8,
            "bin_end": 0.9,
            "count": 0
           },
           {
            "bin_start": 0.9,
            "bin_end": 1,
            "count": 0
           }
          ]
         }
        },
        {
         "name": "Grade 9 Female",
         "dtype": "float64",
         "stats": {
          "unique_count": 0,
          "nan_count": 5,
          "min": null,
          "max": null,
          "histogram": [
           {
            "bin_start": 0,
            "bin_end": 0.1,
            "count": 0
           },
           {
            "bin_start": 0.1,
            "bin_end": 0.2,
            "count": 0
           },
           {
            "bin_start": 0.2,
            "bin_end": 0.30000000000000004,
            "count": 0
           },
           {
            "bin_start": 0.30000000000000004,
            "bin_end": 0.4,
            "count": 0
           },
           {
            "bin_start": 0.4,
            "bin_end": 0.5,
            "count": 0
           },
           {
            "bin_start": 0.5,
            "bin_end": 0.6000000000000001,
            "count": 0
           },
           {
            "bin_start": 0.6000000000000001,
            "bin_end": 0.7000000000000001,
            "count": 0
           },
           {
            "bin_start": 0.7000000000000001,
            "bin_end": 0.8,
            "count": 0
           },
           {
            "bin_start": 0.8,
            "bin_end": 0.9,
            "count": 0
           },
           {
            "bin_start": 0.9,
            "bin_end": 1,
            "count": 0
           }
          ]
         }
        },
        {
         "name": "Grade 10 Male",
         "dtype": "float64",
         "stats": {
          "unique_count": 0,
          "nan_count": 5,
          "min": null,
          "max": null,
          "histogram": [
           {
            "bin_start": 0,
            "bin_end": 0.1,
            "count": 0
           },
           {
            "bin_start": 0.1,
            "bin_end": 0.2,
            "count": 0
           },
           {
            "bin_start": 0.2,
            "bin_end": 0.30000000000000004,
            "count": 0
           },
           {
            "bin_start": 0.30000000000000004,
            "bin_end": 0.4,
            "count": 0
           },
           {
            "bin_start": 0.4,
            "bin_end": 0.5,
            "count": 0
           },
           {
            "bin_start": 0.5,
            "bin_end": 0.6000000000000001,
            "count": 0
           },
           {
            "bin_start": 0.6000000000000001,
            "bin_end": 0.7000000000000001,
            "count": 0
           },
           {
            "bin_start": 0.7000000000000001,
            "bin_end": 0.8,
            "count": 0
           },
           {
            "bin_start": 0.8,
            "bin_end": 0.9,
            "count": 0
           },
           {
            "bin_start": 0.9,
            "bin_end": 1,
            "count": 0
           }
          ]
         }
        },
        {
         "name": "Grade 10 Female",
         "dtype": "float64",
         "stats": {
          "unique_count": 0,
          "nan_count": 5,
          "min": null,
          "max": null,
          "histogram": [
           {
            "bin_start": 0,
            "bin_end": 0.1,
            "count": 0
           },
           {
            "bin_start": 0.1,
            "bin_end": 0.2,
            "count": 0
           },
           {
            "bin_start": 0.2,
            "bin_end": 0.30000000000000004,
            "count": 0
           },
           {
            "bin_start": 0.30000000000000004,
            "bin_end": 0.4,
            "count": 0
           },
           {
            "bin_start": 0.4,
            "bin_end": 0.5,
            "count": 0
           },
           {
            "bin_start": 0.5,
            "bin_end": 0.6000000000000001,
            "count": 0
           },
           {
            "bin_start": 0.6000000000000001,
            "bin_end": 0.7000000000000001,
            "count": 0
           },
           {
            "bin_start": 0.7000000000000001,
            "bin_end": 0.8,
            "count": 0
           },
           {
            "bin_start": 0.8,
            "bin_end": 0.9,
            "count": 0
           },
           {
            "bin_start": 0.9,
            "bin_end": 1,
            "count": 0
           }
          ]
         }
        },
        {
         "name": "Grade 11 Male",
         "dtype": "float64",
         "stats": {
          "unique_count": 0,
          "nan_count": 5,
          "min": null,
          "max": null,
          "histogram": [
           {
            "bin_start": 0,
            "bin_end": 0.1,
            "count": 0
           },
           {
            "bin_start": 0.1,
            "bin_end": 0.2,
            "count": 0
           },
           {
            "bin_start": 0.2,
            "bin_end": 0.30000000000000004,
            "count": 0
           },
           {
            "bin_start": 0.30000000000000004,
            "bin_end": 0.4,
            "count": 0
           },
           {
            "bin_start": 0.4,
            "bin_end": 0.5,
            "count": 0
           },
           {
            "bin_start": 0.5,
            "bin_end": 0.6000000000000001,
            "count": 0
           },
           {
            "bin_start": 0.6000000000000001,
            "bin_end": 0.7000000000000001,
            "count": 0
           },
           {
            "bin_start": 0.7000000000000001,
            "bin_end": 0.8,
            "count": 0
           },
           {
            "bin_start": 0.8,
            "bin_end": 0.9,
            "count": 0
           },
           {
            "bin_start": 0.9,
            "bin_end": 1,
            "count": 0
           }
          ]
         }
        },
        {
         "name": "Grade 11 Female",
         "dtype": "float64",
         "stats": {
          "unique_count": 0,
          "nan_count": 5,
          "min": null,
          "max": null,
          "histogram": [
           {
            "bin_start": 0,
            "bin_end": 0.1,
            "count": 0
           },
           {
            "bin_start": 0.1,
            "bin_end": 0.2,
            "count": 0
           },
           {
            "bin_start": 0.2,
            "bin_end": 0.30000000000000004,
            "count": 0
           },
           {
            "bin_start": 0.30000000000000004,
            "bin_end": 0.4,
            "count": 0
           },
           {
            "bin_start": 0.4,
            "bin_end": 0.5,
            "count": 0
           },
           {
            "bin_start": 0.5,
            "bin_end": 0.6000000000000001,
            "count": 0
           },
           {
            "bin_start": 0.6000000000000001,
            "bin_end": 0.7000000000000001,
            "count": 0
           },
           {
            "bin_start": 0.7000000000000001,
            "bin_end": 0.8,
            "count": 0
           },
           {
            "bin_start": 0.8,
            "bin_end": 0.9,
            "count": 0
           },
           {
            "bin_start": 0.9,
            "bin_end": 1,
            "count": 0
           }
          ]
         }
        },
        {
         "name": "Grade 12 Male",
         "dtype": "float64",
         "stats": {
          "unique_count": 0,
          "nan_count": 5,
          "min": null,
          "max": null,
          "histogram": [
           {
            "bin_start": 0,
            "bin_end": 0.1,
            "count": 0
           },
           {
            "bin_start": 0.1,
            "bin_end": 0.2,
            "count": 0
           },
           {
            "bin_start": 0.2,
            "bin_end": 0.30000000000000004,
            "count": 0
           },
           {
            "bin_start": 0.30000000000000004,
            "bin_end": 0.4,
            "count": 0
           },
           {
            "bin_start": 0.4,
            "bin_end": 0.5,
            "count": 0
           },
           {
            "bin_start": 0.5,
            "bin_end": 0.6000000000000001,
            "count": 0
           },
           {
            "bin_start": 0.6000000000000001,
            "bin_end": 0.7000000000000001,
            "count": 0
           },
           {
            "bin_start": 0.7000000000000001,
            "bin_end": 0.8,
            "count": 0
           },
           {
            "bin_start": 0.8,
            "bin_end": 0.9,
            "count": 0
           },
           {
            "bin_start": 0.9,
            "bin_end": 1,
            "count": 0
           }
          ]
         }
        },
        {
         "name": "Grade 12 Female",
         "dtype": "float64",
         "stats": {
          "unique_count": 0,
          "nan_count": 5,
          "min": null,
          "max": null,
          "histogram": [
           {
            "bin_start": 0,
            "bin_end": 0.1,
            "count": 0
           },
           {
            "bin_start": 0.1,
            "bin_end": 0.2,
            "count": 0
           },
           {
            "bin_start": 0.2,
            "bin_end": 0.30000000000000004,
            "count": 0
           },
           {
            "bin_start": 0.30000000000000004,
            "bin_end": 0.4,
            "count": 0
           },
           {
            "bin_start": 0.4,
            "bin_end": 0.5,
            "count": 0
           },
           {
            "bin_start": 0.5,
            "bin_end": 0.6000000000000001,
            "count": 0
           },
           {
            "bin_start": 0.6000000000000001,
            "bin_end": 0.7000000000000001,
            "count": 0
           },
           {
            "bin_start": 0.7000000000000001,
            "bin_end": 0.8,
            "count": 0
           },
           {
            "bin_start": 0.8,
            "bin_end": 0.9,
            "count": 0
           },
           {
            "bin_start": 0.9,
            "bin_end": 1,
            "count": 0
           }
          ]
         }
        },
        {
         "name": "_deepnote_index_column",
         "dtype": "int64"
        }
       ],
       "rows_top": [
        {
         "school.id": 101746,
         "school.name": "A. Diaz, Sr. ES",
         "school.region": "Region I",
         "school.region.name": "Ilocos Region",
         "school.province": "PANGASINAN",
         "school.cityhall": "PANGASINAN",
         "school.division": "Pangasinan II, Binalonan",
         "school.citymuni": "BAUTISTA",
         "school.district": "Bautista",
         "school.legdistrict": "5th District",
         "school.type": "School with no Annexes",
         "school.abbrev": "ADSES",
         "school.previousname": "none",
         "school.mother.id": 101746,
         "school.address": "Brgy. Dias Bautista, Pang",
         "school.established": "1/1/1930",
         "school.classification": "Elementary",
         "school.classification2": "DepED Managed",
         "school.curricularclass": "Elementary",
         "school.organization": "Monograde",
         "school.cityincome": "P 25 M or more but less than P 35 M",
         "school.cityclass": "nan",
         "school.urban": "Partially Urban",
         "School ID": 101746,
         "Kinder Male": 57,
         "Kinder Female": 45,
         "Grade 1 Male": 56,
         "Grade 1 Female": 58,
         "Grade 2 Male": 63,
         "Grade 2 Female": 61,
         "Grade 3 Male": 55,
         "Grade 3 Female": 61,
         "Grade 4 Male": 62,
         "Grade 4 Female": 55,
         "Grade 5 Male": 61,
         "Grade 5 Female": 48,
         "Grade 6 Male": 48,
         "Grade 6 Female": 51,
         "SPED NG Male": 0,
         "SPED NG Female": 0,
         "Grade 7 Male": "nan",
         "Grade 7 Female": "nan",
         "Grade 8 Male": "nan",
         "Grade 8 Female": "nan",
         "Grade 9 Male": "nan",
         "Grade 9 Female": "nan",
         "Grade 10 Male": "nan",
         "Grade 10 Female": "nan",
         "Grade 11 Male": "nan",
         "Grade 11 Female": "nan",
         "Grade 12 Male": "nan",
         "Grade 12 Female": "nan",
         "_deepnote_index_column": 0
        },
        {
         "school.id": 102193,
         "school.name": "A. P. Santos ES (SPED Center)",
         "school.region": "Region I",
         "school.region.name": "Ilocos Region",
         "school.province": "ILOCOS NORTE",
         "school.cityhall": "ILOCOS NORTE",
         "school.division": "Laoag City",
         "school.citymuni": "LAOAG CITY (Capital)",
         "school.district": "Laoag City District II",
         "school.legdistrict": "1st District",
         "school.type": "School with no Annexes",
         "school.abbrev": "APSES",
         "school.previousname": "-",
         "school.mother.id": 102193,
         "school.address": "A.G. Tupaz",
         "school.established": "1/1/1944",
         "school.classification": "Elementary",
         "school.classification2": "DepED Managed",
         "school.curricularclass": "Kinder & Elementary",
         "school.organization": "Monograde",
         "school.cityincome": "P 240 M or more but less than P 320 M",
         "school.cityclass": "Component City",
         "school.urban": "Partially Urban",
         "School ID": 102193,
         "Kinder Male": 20,
         "Kinder Female": 24,
         "Grade 1 Male": 38,
         "Grade 1 Female": 30,
         "Grade 2 Male": 37,
         "Grade 2 Female": 18,
         "Grade 3 Male": 29,
         "Grade 3 Female": 33,
         "Grade 4 Male": 23,
         "Grade 4 Female": 41,
         "Grade 5 Male": 39,
         "Grade 5 Female": 27,
         "Grade 6 Male": 26,
         "Grade 6 Female": 26,
         "SPED NG Male": 32,
         "SPED NG Female": 22,
         "Grade 7 Male": "nan",
         "Grade 7 Female": "nan",
         "Grade 8 Male": "nan",
         "Grade 8 Female": "nan",
         "Grade 9 Male": "nan",
         "Grade 9 Female": "nan",
         "Grade 10 Male": "nan",
         "Grade 10 Female": "nan",
         "Grade 11 Male": "nan",
         "Grade 11 Female": "nan",
         "Grade 12 Male": "nan",
         "Grade 12 Female": "nan",
         "_deepnote_index_column": 1
        },
        {
         "school.id": 101283,
         "school.name": "A.P. Guevara IS",
         "school.region": "Region I",
         "school.region.name": "Ilocos Region",
         "school.province": "PANGASINAN",
         "school.cityhall": "PANGASINAN",
         "school.division": "Pangasinan I, Lingayen",
         "school.citymuni": "BAYAMBANG",
         "school.district": "Bayambang II",
         "school.legdistrict": "3rd District",
         "school.type": "School with no Annexes",
         "school.abbrev": "nan",
         "school.previousname": "A.P. Guevarra IS",
         "school.mother.id": 101283,
         "school.address": "-",
         "school.established": "1/1/1945",
         "school.classification": "Elementary",
         "school.classification2": "DepED Managed",
         "school.curricularclass": "Elementary",
         "school.organization": "Monograde",
         "school.cityincome": "P 55 M or more",
         "school.cityclass": "nan",
         "school.urban": "Partially Urban",
         "School ID": 101283,
         "Kinder Male": 16,
         "Kinder Female": 11,
         "Grade 1 Male": 11,
         "Grade 1 Female": 10,
         "Grade 2 Male": 9,
         "Grade 2 Female": 13,
         "Grade 3 Male": 15,
         "Grade 3 Female": 13,
         "Grade 4 Male": 14,
         "Grade 4 Female": 11,
         "Grade 5 Male": 23,
         "Grade 5 Female": 13,
         "Grade 6 Male": 7,
         "Grade 6 Female": 9,
         "SPED NG Male": 0,
         "SPED NG Female": 0,
         "Grade 7 Male": "nan",
         "Grade 7 Female": "nan",
         "Grade 8 Male": "nan",
         "Grade 8 Female": "nan",
         "Grade 9 Male": "nan",
         "Grade 9 Female": "nan",
         "Grade 10 Male": "nan",
         "Grade 10 Female": "nan",
         "Grade 11 Male": "nan",
         "Grade 11 Female": "nan",
         "Grade 12 Male": "nan",
         "Grade 12 Female": "nan",
         "_deepnote_index_column": 2
        },
        {
         "school.id": 100216,
         "school.name": "Ab-Abut ES",
         "school.region": "Region I",
         "school.region.name": "Ilocos Region",
         "school.province": "ILOCOS NORTE",
         "school.cityhall": "ILOCOS NORTE",
         "school.division": "Ilocos Norte",
         "school.citymuni": "PIDDIG",
         "school.district": "Piddig",
         "school.legdistrict": "1st District",
         "school.type": "School with no Annexes",
         "school.abbrev": "AES",
         "school.previousname": "-",
         "school.mother.id": 100216,
         "school.address": "Sucsuquen",
         "school.established": "1/1/1964",
         "school.classification": "Elementary",
         "school.classification2": "DepED Managed",
         "school.curricularclass": "Elementary",
         "school.organization": "Monograde",
         "school.cityincome": "P 35 M or more but less than P 45 M",
         "school.cityclass": "nan",
         "school.urban": "Partially Urban",
         "School ID": 100216,
         "Kinder Male": 10,
         "Kinder Female": 6,
         "Grade 1 Male": 10,
         "Grade 1 Female": 17,
         "Grade 2 Male": 22,
         "Grade 2 Female": 11,
         "Grade 3 Male": 22,
         "Grade 3 Female": 12,
         "Grade 4 Male": 12,
         "Grade 4 Female": 11,
         "Grade 5 Male": 16,
         "Grade 5 Female": 7,
         "Grade 6 Male": 13,
         "Grade 6 Female": 10,
         "SPED NG Male": 0,
         "SPED NG Female": 0,
         "Grade 7 Male": "nan",
         "Grade 7 Female": "nan",
         "Grade 8 Male": "nan",
         "Grade 8 Female": "nan",
         "Grade 9 Male": "nan",
         "Grade 9 Female": "nan",
         "Grade 10 Male": "nan",
         "Grade 10 Female": "nan",
         "Grade 11 Male": "nan",
         "Grade 11 Female": "nan",
         "Grade 12 Male": "nan",
         "Grade 12 Female": "nan",
         "_deepnote_index_column": 3
        },
        {
         "school.id": 100043,
         "school.name": "Abaca ES",
         "school.region": "Region I",
         "school.region.name": "Ilocos Region",
         "school.province": "ILOCOS NORTE",
         "school.cityhall": "ILOCOS NORTE",
         "school.division": "Ilocos Norte",
         "school.citymuni": "BANGUI",
         "school.district": "Bangui",
         "school.legdistrict": "1st District",
         "school.type": "School with no Annexes",
         "school.abbrev": "AES",
         "school.previousname": "none",
         "school.mother.id": 100043,
         "school.address": "None",
         "school.established": "1/1/1979",
         "school.classification": "Elementary",
         "school.classification2": "DepED Managed",
         "school.curricularclass": "Elementary",
         "school.organization": "Monograde",
         "school.cityincome": "P 25 M or more but less than P 35 M",
         "school.cityclass": "nan",
         "school.urban": "Partially Urban",
         "School ID": 100043,
         "Kinder Male": 12,
         "Kinder Female": 13,
         "Grade 1 Male": 22,
         "Grade 1 Female": 26,
         "Grade 2 Male": 17,
         "Grade 2 Female": 14,
         "Grade 3 Male": 16,
         "Grade 3 Female": 22,
         "Grade 4 Male": 24,
         "Grade 4 Female": 15,
         "Grade 5 Male": 28,
         "Grade 5 Female": 19,
         "Grade 6 Male": 26,
         "Grade 6 Female": 17,
         "SPED NG Male": 0,
         "SPED NG Female": 0,
         "Grade 7 Male": "nan",
         "Grade 7 Female": "nan",
         "Grade 8 Male": "nan",
         "Grade 8 Female": "nan",
         "Grade 9 Male": "nan",
         "Grade 9 Female": "nan",
         "Grade 10 Male": "nan",
         "Grade 10 Female": "nan",
         "Grade 11 Male": "nan",
         "Grade 11 Female": "nan",
         "Grade 12 Male": "nan",
         "Grade 12 Female": "nan",
         "_deepnote_index_column": 4
        }
       ],
       "rows_bottom": null
      },
      "text/plain": "   school.id                    school.name school.region school.region.name  \\\n0     101746                A. Diaz, Sr. ES      Region I      Ilocos Region   \n1     102193  A. P. Santos ES (SPED Center)      Region I      Ilocos Region   \n2     101283                A.P. Guevara IS      Region I      Ilocos Region   \n3     100216                     Ab-Abut ES      Region I      Ilocos Region   \n4     100043                       Abaca ES      Region I      Ilocos Region   \n\n  school.province school.cityhall           school.division  \\\n0      PANGASINAN      PANGASINAN  Pangasinan II, Binalonan   \n1    ILOCOS NORTE    ILOCOS NORTE                Laoag City   \n2      PANGASINAN      PANGASINAN    Pangasinan I, Lingayen   \n3    ILOCOS NORTE    ILOCOS NORTE              Ilocos Norte   \n4    ILOCOS NORTE    ILOCOS NORTE              Ilocos Norte   \n\n        school.citymuni         school.district school.legdistrict  ...  \\\n0              BAUTISTA                Bautista       5th District  ...   \n1  LAOAG CITY (Capital)  Laoag City District II       1st District  ...   \n2             BAYAMBANG            Bayambang II       3rd District  ...   \n3                PIDDIG                  Piddig       1st District  ...   \n4                BANGUI                  Bangui       1st District  ...   \n\n  Grade 8 Male Grade 8 Female Grade 9 Male  Grade 9 Female Grade 10 Male  \\\n0          NaN            NaN          NaN             NaN           NaN   \n1          NaN            NaN          NaN             NaN           NaN   \n2          NaN            NaN          NaN             NaN           NaN   \n3          NaN            NaN          NaN             NaN           NaN   \n4          NaN            NaN          NaN             NaN           NaN   \n\n  Grade 10 Female Grade 11 Male Grade 11 Female Grade 12 Male Grade 12 Female  \n0             NaN           NaN             NaN           NaN             NaN  \n1             NaN           NaN             NaN           NaN             NaN  \n2             NaN           NaN             NaN           NaN             NaN  \n3             NaN           NaN             NaN           NaN             NaN  \n4             NaN           NaN             NaN           NaN             NaN  \n\n[5 rows x 52 columns]",
      "text/html": "<div>\n<style scoped>\n    .dataframe tbody tr th:only-of-type {\n        vertical-align: middle;\n    }\n\n    .dataframe tbody tr th {\n        vertical-align: top;\n    }\n\n    .dataframe thead th {\n        text-align: right;\n    }\n</style>\n<table border=\"1\" class=\"dataframe\">\n  <thead>\n    <tr style=\"text-align: right;\">\n      <th></th>\n      <th>school.id</th>\n      <th>school.name</th>\n      <th>school.region</th>\n      <th>school.region.name</th>\n      <th>school.province</th>\n      <th>school.cityhall</th>\n      <th>school.division</th>\n      <th>school.citymuni</th>\n      <th>school.district</th>\n      <th>school.legdistrict</th>\n      <th>...</th>\n      <th>Grade 8 Male</th>\n      <th>Grade 8 Female</th>\n      <th>Grade 9 Male</th>\n      <th>Grade 9 Female</th>\n      <th>Grade 10 Male</th>\n      <th>Grade 10 Female</th>\n      <th>Grade 11 Male</th>\n      <th>Grade 11 Female</th>\n      <th>Grade 12 Male</th>\n      <th>Grade 12 Female</th>\n    </tr>\n  </thead>\n  <tbody>\n    <tr>\n      <th>0</th>\n      <td>101746</td>\n      <td>A. Diaz, Sr. ES</td>\n      <td>Region I</td>\n      <td>Ilocos Region</td>\n      <td>PANGASINAN</td>\n      <td>PANGASINAN</td>\n      <td>Pangasinan II, Binalonan</td>\n      <td>BAUTISTA</td>\n      <td>Bautista</td>\n      <td>5th District</td>\n      <td>...</td>\n      <td>NaN</td>\n      <td>NaN</td>\n      <td>NaN</td>\n      <td>NaN</td>\n      <td>NaN</td>\n      <td>NaN</td>\n      <td>NaN</td>\n      <td>NaN</td>\n      <td>NaN</td>\n      <td>NaN</td>\n    </tr>\n    <tr>\n      <th>1</th>\n      <td>102193</td>\n      <td>A. P. Santos ES (SPED Center)</td>\n      <td>Region I</td>\n      <td>Ilocos Region</td>\n      <td>ILOCOS NORTE</td>\n      <td>ILOCOS NORTE</td>\n      <td>Laoag City</td>\n      <td>LAOAG CITY (Capital)</td>\n      <td>Laoag City District II</td>\n      <td>1st District</td>\n      <td>...</td>\n      <td>NaN</td>\n      <td>NaN</td>\n      <td>NaN</td>\n      <td>NaN</td>\n      <td>NaN</td>\n      <td>NaN</td>\n      <td>NaN</td>\n      <td>NaN</td>\n      <td>NaN</td>\n      <td>NaN</td>\n    </tr>\n    <tr>\n      <th>2</th>\n      <td>101283</td>\n      <td>A.P. Guevara IS</td>\n      <td>Region I</td>\n      <td>Ilocos Region</td>\n      <td>PANGASINAN</td>\n      <td>PANGASINAN</td>\n      <td>Pangasinan I, Lingayen</td>\n      <td>BAYAMBANG</td>\n      <td>Bayambang II</td>\n      <td>3rd District</td>\n      <td>...</td>\n      <td>NaN</td>\n      <td>NaN</td>\n      <td>NaN</td>\n      <td>NaN</td>\n      <td>NaN</td>\n      <td>NaN</td>\n      <td>NaN</td>\n      <td>NaN</td>\n      <td>NaN</td>\n      <td>NaN</td>\n    </tr>\n    <tr>\n      <th>3</th>\n      <td>100216</td>\n      <td>Ab-Abut ES</td>\n      <td>Region I</td>\n      <td>Ilocos Region</td>\n      <td>ILOCOS NORTE</td>\n      <td>ILOCOS NORTE</td>\n      <td>Ilocos Norte</td>\n      <td>PIDDIG</td>\n      <td>Piddig</td>\n      <td>1st District</td>\n      <td>...</td>\n      <td>NaN</td>\n      <td>NaN</td>\n      <td>NaN</td>\n      <td>NaN</td>\n      <td>NaN</td>\n      <td>NaN</td>\n      <td>NaN</td>\n      <td>NaN</td>\n      <td>NaN</td>\n      <td>NaN</td>\n    </tr>\n    <tr>\n      <th>4</th>\n      <td>100043</td>\n      <td>Abaca ES</td>\n      <td>Region I</td>\n      <td>Ilocos Region</td>\n      <td>ILOCOS NORTE</td>\n      <td>ILOCOS NORTE</td>\n      <td>Ilocos Norte</td>\n      <td>BANGUI</td>\n      <td>Bangui</td>\n      <td>1st District</td>\n      <td>...</td>\n      <td>NaN</td>\n      <td>NaN</td>\n      <td>NaN</td>\n      <td>NaN</td>\n      <td>NaN</td>\n      <td>NaN</td>\n      <td>NaN</td>\n      <td>NaN</td>\n      <td>NaN</td>\n      <td>NaN</td>\n    </tr>\n  </tbody>\n</table>\n<p>5 rows × 52 columns</p>\n</div>"
     },
     "metadata": {}
    }
   ]
  },
  {
   "cell_type": "code",
   "metadata": {
    "cell_id": "00011-859f522d-8566-45b2-a3bf-289a9720d72a",
    "deepnote_to_be_reexecuted": false,
    "source_hash": "6e102559",
    "execution_start": 1621511446343,
    "execution_millis": 60,
    "deepnote_cell_type": "code"
   },
   "source": "master_df = pd.merge(master_df, mooe, on =\"school.id\", how = \"left\")",
   "execution_count": 16,
   "outputs": []
  },
  {
   "cell_type": "code",
   "metadata": {
    "cell_id": "00012-a14f8264-2be7-4270-bdf5-e9ea96476f14",
    "deepnote_to_be_reexecuted": false,
    "source_hash": "98c6b011",
    "execution_start": 1621511446405,
    "execution_millis": 242,
    "deepnote_cell_type": "code"
   },
   "source": "master_df",
   "execution_count": 17,
   "outputs": [
    {
     "output_type": "execute_result",
     "execution_count": 17,
     "data": {
      "application/vnd.deepnote.dataframe.v2+json": {
       "row_count": 46603,
       "column_count": 53,
       "columns": [
        {
         "name": "school.id",
         "dtype": "int64",
         "stats": {
          "unique_count": 46603,
          "nan_count": 0,
          "min": "100001",
          "max": "900279",
          "histogram": [
           {
            "bin_start": 100001,
            "bin_end": 180028.8,
            "count": 37079
           },
           {
            "bin_start": 180028.8,
            "bin_end": 260056.6,
            "count": 1603
           },
           {
            "bin_start": 260056.6,
            "bin_end": 340084.4,
            "count": 7919
           },
           {
            "bin_start": 340084.4,
            "bin_end": 420112.2,
            "count": 1
           },
           {
            "bin_start": 420112.2,
            "bin_end": 500140,
            "count": 0
           },
           {
            "bin_start": 500140,
            "bin_end": 580167.8,
            "count": 0
           },
           {
            "bin_start": 580167.8,
            "bin_end": 660195.6,
            "count": 0
           },
           {
            "bin_start": 660195.6,
            "bin_end": 740223.4,
            "count": 0
           },
           {
            "bin_start": 740223.4,
            "bin_end": 820251.2000000001,
            "count": 0
           },
           {
            "bin_start": 820251.2000000001,
            "bin_end": 900279,
            "count": 1
           }
          ]
         }
        },
        {
         "name": "school.name",
         "dtype": "object",
         "stats": {
          "unique_count": 36901,
          "nan_count": 0,
          "categories": [
           {
            "name": "San Isidro ES",
            "count": 192
           },
           {
            "name": "San Jose ES",
            "count": 155
           },
           {
            "name": "36899 others",
            "count": 46256
           }
          ]
         }
        },
        {
         "name": "school.region",
         "dtype": "object"
        },
        {
         "name": "school.region.name",
         "dtype": "object"
        },
        {
         "name": "school.province",
         "dtype": "object"
        },
        {
         "name": "school.cityhall",
         "dtype": "object"
        },
        {
         "name": "school.division",
         "dtype": "object"
        },
        {
         "name": "school.citymuni",
         "dtype": "object"
        },
        {
         "name": "school.district",
         "dtype": "object"
        },
        {
         "name": "school.legdistrict",
         "dtype": "object"
        },
        {
         "name": "school.type",
         "dtype": "object"
        },
        {
         "name": "school.abbrev",
         "dtype": "object"
        },
        {
         "name": "school.previousname",
         "dtype": "object"
        },
        {
         "name": "school.mother.id",
         "dtype": "float64"
        },
        {
         "name": "school.address",
         "dtype": "object"
        },
        {
         "name": "school.established",
         "dtype": "object"
        },
        {
         "name": "school.classification",
         "dtype": "object"
        },
        {
         "name": "school.classification2",
         "dtype": "object"
        },
        {
         "name": "school.curricularclass",
         "dtype": "object"
        },
        {
         "name": "school.organization",
         "dtype": "object"
        },
        {
         "name": "school.cityincome",
         "dtype": "object"
        },
        {
         "name": "school.cityclass",
         "dtype": "object"
        },
        {
         "name": "school.urban",
         "dtype": "object"
        },
        {
         "name": "School ID",
         "dtype": "float64"
        },
        {
         "name": "Kinder Male",
         "dtype": "float64"
        },
        {
         "name": "Kinder Female",
         "dtype": "float64"
        },
        {
         "name": "Grade 1 Male",
         "dtype": "float64"
        },
        {
         "name": "Grade 1 Female",
         "dtype": "float64"
        },
        {
         "name": "Grade 2 Male",
         "dtype": "float64"
        },
        {
         "name": "Grade 2 Female",
         "dtype": "float64"
        },
        {
         "name": "Grade 3 Male",
         "dtype": "float64"
        },
        {
         "name": "Grade 3 Female",
         "dtype": "float64"
        },
        {
         "name": "Grade 4 Male",
         "dtype": "float64"
        },
        {
         "name": "Grade 4 Female",
         "dtype": "float64"
        },
        {
         "name": "Grade 5 Male",
         "dtype": "float64"
        },
        {
         "name": "Grade 5 Female",
         "dtype": "float64"
        },
        {
         "name": "Grade 6 Male",
         "dtype": "float64"
        },
        {
         "name": "Grade 6 Female",
         "dtype": "float64"
        },
        {
         "name": "SPED NG Male",
         "dtype": "float64"
        },
        {
         "name": "SPED NG Female",
         "dtype": "float64"
        },
        {
         "name": "Grade 7 Male",
         "dtype": "float64"
        },
        {
         "name": "Grade 7 Female",
         "dtype": "float64"
        },
        {
         "name": "Grade 8 Male",
         "dtype": "float64"
        },
        {
         "name": "Grade 8 Female",
         "dtype": "float64"
        },
        {
         "name": "Grade 9 Male",
         "dtype": "float64"
        },
        {
         "name": "Grade 9 Female",
         "dtype": "float64"
        },
        {
         "name": "Grade 10 Male",
         "dtype": "float64"
        },
        {
         "name": "Grade 10 Female",
         "dtype": "float64"
        },
        {
         "name": "Grade 11 Male",
         "dtype": "float64"
        },
        {
         "name": "Grade 11 Female",
         "dtype": "float64"
        },
        {
         "name": "Grade 12 Male",
         "dtype": "float64"
        },
        {
         "name": "Grade 12 Female",
         "dtype": "float64"
        },
        {
         "name": " school.mooe ",
         "dtype": "float64"
        },
        {
         "name": "_deepnote_index_column",
         "dtype": "int64"
        }
       ],
       "rows_top": [
        {
         "school.id": 101746,
         "school.name": "A. Diaz, Sr. ES",
         "school.region": "Region I",
         "school.region.name": "Ilocos Region",
         "school.province": "PANGASINAN",
         "school.cityhall": "PANGASINAN",
         "school.division": "Pangasinan II, Binalonan",
         "school.citymuni": "BAUTISTA",
         "school.district": "Bautista",
         "school.legdistrict": "5th District",
         "school.type": "School with no Annexes",
         "school.abbrev": "ADSES",
         "school.previousname": "none",
         "school.mother.id": 101746,
         "school.address": "Brgy. Dias Bautista, Pang",
         "school.established": "1/1/1930",
         "school.classification": "Elementary",
         "school.classification2": "DepED Managed",
         "school.curricularclass": "Elementary",
         "school.organization": "Monograde",
         "school.cityincome": "P 25 M or more but less than P 35 M",
         "school.cityclass": "nan",
         "school.urban": "Partially Urban",
         "School ID": 101746,
         "Kinder Male": 57,
         "Kinder Female": 45,
         "Grade 1 Male": 56,
         "Grade 1 Female": 58,
         "Grade 2 Male": 63,
         "Grade 2 Female": 61,
         "Grade 3 Male": 55,
         "Grade 3 Female": 61,
         "Grade 4 Male": 62,
         "Grade 4 Female": 55,
         "Grade 5 Male": 61,
         "Grade 5 Female": 48,
         "Grade 6 Male": 48,
         "Grade 6 Female": 51,
         "SPED NG Male": 0,
         "SPED NG Female": 0,
         "Grade 7 Male": "nan",
         "Grade 7 Female": "nan",
         "Grade 8 Male": "nan",
         "Grade 8 Female": "nan",
         "Grade 9 Male": "nan",
         "Grade 9 Female": "nan",
         "Grade 10 Male": "nan",
         "Grade 10 Female": "nan",
         "Grade 11 Male": "nan",
         "Grade 11 Female": "nan",
         "Grade 12 Male": "nan",
         "Grade 12 Female": "nan",
         " school.mooe ": 341000,
         "_deepnote_index_column": 0
        },
        {
         "school.id": 102193,
         "school.name": "A. P. Santos ES (SPED Center)",
         "school.region": "Region I",
         "school.region.name": "Ilocos Region",
         "school.province": "ILOCOS NORTE",
         "school.cityhall": "ILOCOS NORTE",
         "school.division": "Laoag City",
         "school.citymuni": "LAOAG CITY (Capital)",
         "school.district": "Laoag City District II",
         "school.legdistrict": "1st District",
         "school.type": "School with no Annexes",
         "school.abbrev": "APSES",
         "school.previousname": "-",
         "school.mother.id": 102193,
         "school.address": "A.G. Tupaz",
         "school.established": "1/1/1944",
         "school.classification": "Elementary",
         "school.classification2": "DepED Managed",
         "school.curricularclass": "Kinder & Elementary",
         "school.organization": "Monograde",
         "school.cityincome": "P 240 M or more but less than P 320 M",
         "school.cityclass": "Component City",
         "school.urban": "Partially Urban",
         "School ID": 102193,
         "Kinder Male": 20,
         "Kinder Female": 24,
         "Grade 1 Male": 38,
         "Grade 1 Female": 30,
         "Grade 2 Male": 37,
         "Grade 2 Female": 18,
         "Grade 3 Male": 29,
         "Grade 3 Female": 33,
         "Grade 4 Male": 23,
         "Grade 4 Female": 41,
         "Grade 5 Male": 39,
         "Grade 5 Female": 27,
         "Grade 6 Male": 26,
         "Grade 6 Female": 26,
         "SPED NG Male": 32,
         "SPED NG Female": 22,
         "Grade 7 Male": "nan",
         "Grade 7 Female": "nan",
         "Grade 8 Male": "nan",
         "Grade 8 Female": "nan",
         "Grade 9 Male": "nan",
         "Grade 9 Female": "nan",
         "Grade 10 Male": "nan",
         "Grade 10 Female": "nan",
         "Grade 11 Male": "nan",
         "Grade 11 Female": "nan",
         "Grade 12 Male": "nan",
         "Grade 12 Female": "nan",
         " school.mooe ": 275000,
         "_deepnote_index_column": 1
        },
        {
         "school.id": 101283,
         "school.name": "A.P. Guevara IS",
         "school.region": "Region I",
         "school.region.name": "Ilocos Region",
         "school.province": "PANGASINAN",
         "school.cityhall": "PANGASINAN",
         "school.division": "Pangasinan I, Lingayen",
         "school.citymuni": "BAYAMBANG",
         "school.district": "Bayambang II",
         "school.legdistrict": "3rd District",
         "school.type": "School with no Annexes",
         "school.abbrev": "nan",
         "school.previousname": "A.P. Guevarra IS",
         "school.mother.id": 101283,
         "school.address": "-",
         "school.established": "1/1/1945",
         "school.classification": "Elementary",
         "school.classification2": "DepED Managed",
         "school.curricularclass": "Elementary",
         "school.organization": "Monograde",
         "school.cityincome": "P 55 M or more",
         "school.cityclass": "nan",
         "school.urban": "Partially Urban",
         "School ID": 101283,
         "Kinder Male": 16,
         "Kinder Female": 11,
         "Grade 1 Male": 11,
         "Grade 1 Female": 10,
         "Grade 2 Male": 9,
         "Grade 2 Female": 13,
         "Grade 3 Male": 15,
         "Grade 3 Female": 13,
         "Grade 4 Male": 14,
         "Grade 4 Female": 11,
         "Grade 5 Male": 23,
         "Grade 5 Female": 13,
         "Grade 6 Male": 7,
         "Grade 6 Female": 9,
         "SPED NG Male": 0,
         "SPED NG Female": 0,
         "Grade 7 Male": "nan",
         "Grade 7 Female": "nan",
         "Grade 8 Male": "nan",
         "Grade 8 Female": "nan",
         "Grade 9 Male": "nan",
         "Grade 9 Female": "nan",
         "Grade 10 Male": "nan",
         "Grade 10 Female": "nan",
         "Grade 11 Male": "nan",
         "Grade 11 Female": "nan",
         "Grade 12 Male": "nan",
         "Grade 12 Female": "nan",
         " school.mooe ": 132000,
         "_deepnote_index_column": 2
        },
        {
         "school.id": 100216,
         "school.name": "Ab-Abut ES",
         "school.region": "Region I",
         "school.region.name": "Ilocos Region",
         "school.province": "ILOCOS NORTE",
         "school.cityhall": "ILOCOS NORTE",
         "school.division": "Ilocos Norte",
         "school.citymuni": "PIDDIG",
         "school.district": "Piddig",
         "school.legdistrict": "1st District",
         "school.type": "School with no Annexes",
         "school.abbrev": "AES",
         "school.previousname": "-",
         "school.mother.id": 100216,
         "school.address": "Sucsuquen",
         "school.established": "1/1/1964",
         "school.classification": "Elementary",
         "school.classification2": "DepED Managed",
         "school.curricularclass": "Elementary",
         "school.organization": "Monograde",
         "school.cityincome": "P 35 M or more but less than P 45 M",
         "school.cityclass": "nan",
         "school.urban": "Partially Urban",
         "School ID": 100216,
         "Kinder Male": 10,
         "Kinder Female": 6,
         "Grade 1 Male": 10,
         "Grade 1 Female": 17,
         "Grade 2 Male": 22,
         "Grade 2 Female": 11,
         "Grade 3 Male": 22,
         "Grade 3 Female": 12,
         "Grade 4 Male": 12,
         "Grade 4 Female": 11,
         "Grade 5 Male": 16,
         "Grade 5 Female": 7,
         "Grade 6 Male": 13,
         "Grade 6 Female": 10,
         "SPED NG Male": 0,
         "SPED NG Female": 0,
         "Grade 7 Male": "nan",
         "Grade 7 Female": "nan",
         "Grade 8 Male": "nan",
         "Grade 8 Female": "nan",
         "Grade 9 Male": "nan",
         "Grade 9 Female": "nan",
         "Grade 10 Male": "nan",
         "Grade 10 Female": "nan",
         "Grade 11 Male": "nan",
         "Grade 11 Female": "nan",
         "Grade 12 Male": "nan",
         "Grade 12 Female": "nan",
         " school.mooe ": 135000,
         "_deepnote_index_column": 3
        },
        {
         "school.id": 100043,
         "school.name": "Abaca ES",
         "school.region": "Region I",
         "school.region.name": "Ilocos Region",
         "school.province": "ILOCOS NORTE",
         "school.cityhall": "ILOCOS NORTE",
         "school.division": "Ilocos Norte",
         "school.citymuni": "BANGUI",
         "school.district": "Bangui",
         "school.legdistrict": "1st District",
         "school.type": "School with no Annexes",
         "school.abbrev": "AES",
         "school.previousname": "none",
         "school.mother.id": 100043,
         "school.address": "None",
         "school.established": "1/1/1979",
         "school.classification": "Elementary",
         "school.classification2": "DepED Managed",
         "school.curricularclass": "Elementary",
         "school.organization": "Monograde",
         "school.cityincome": "P 25 M or more but less than P 35 M",
         "school.cityclass": "nan",
         "school.urban": "Partially Urban",
         "School ID": 100043,
         "Kinder Male": 12,
         "Kinder Female": 13,
         "Grade 1 Male": 22,
         "Grade 1 Female": 26,
         "Grade 2 Male": 17,
         "Grade 2 Female": 14,
         "Grade 3 Male": 16,
         "Grade 3 Female": 22,
         "Grade 4 Male": 24,
         "Grade 4 Female": 15,
         "Grade 5 Male": 28,
         "Grade 5 Female": 19,
         "Grade 6 Male": 26,
         "Grade 6 Female": 17,
         "SPED NG Male": 0,
         "SPED NG Female": 0,
         "Grade 7 Male": "nan",
         "Grade 7 Female": "nan",
         "Grade 8 Male": "nan",
         "Grade 8 Female": "nan",
         "Grade 9 Male": "nan",
         "Grade 9 Female": "nan",
         "Grade 10 Male": "nan",
         "Grade 10 Female": "nan",
         "Grade 11 Male": "nan",
         "Grade 11 Female": "nan",
         "Grade 12 Male": "nan",
         "Grade 12 Female": "nan",
         " school.mooe ": 182000,
         "_deepnote_index_column": 4
        },
        {
         "school.id": 100554,
         "school.name": "Abaccan ES",
         "school.region": "Region I",
         "school.region.name": "Ilocos Region",
         "school.province": "ILOCOS SUR",
         "school.cityhall": "ILOCOS SUR",
         "school.division": "Ilocos Sur",
         "school.citymuni": "SIGAY",
         "school.district": "Salcedo-Galimuyod-Sigay-Del Pilar",
         "school.legdistrict": "2nd District",
         "school.type": "School with no Annexes",
         "school.abbrev": "nan",
         "school.previousname": "-",
         "school.mother.id": 100554,
         "school.address": "-n/a",
         "school.established": "1/1/2000",
         "school.classification": "Elementary",
         "school.classification2": "DepED Managed",
         "school.curricularclass": "Kinder & Elementary",
         "school.organization": "Combined Monograde and Multigrade",
         "school.cityincome": "P 15 M or more but less than P 25 M",
         "school.cityclass": "nan",
         "school.urban": "Rural",
         "School ID": 100554,
         "Kinder Male": 1,
         "Kinder Female": 1,
         "Grade 1 Male": 0,
         "Grade 1 Female": 2,
         "Grade 2 Male": 3,
         "Grade 2 Female": 0,
         "Grade 3 Male": 5,
         "Grade 3 Female": 4,
         "Grade 4 Male": 3,
         "Grade 4 Female": 7,
         "Grade 5 Male": 2,
         "Grade 5 Female": 3,
         "Grade 6 Male": 4,
         "Grade 6 Female": 3,
         "SPED NG Male": 0,
         "SPED NG Female": 0,
         "Grade 7 Male": "nan",
         "Grade 7 Female": "nan",
         "Grade 8 Male": "nan",
         "Grade 8 Female": "nan",
         "Grade 9 Male": "nan",
         "Grade 9 Female": "nan",
         "Grade 10 Male": "nan",
         "Grade 10 Female": "nan",
         "Grade 11 Male": "nan",
         "Grade 11 Female": "nan",
         "Grade 12 Male": "nan",
         "Grade 12 Female": "nan",
         " school.mooe ": 92000,
         "_deepnote_index_column": 5
        },
        {
         "school.id": 101131,
         "school.name": "Abagatanen IS",
         "school.region": "Region I",
         "school.region.name": "Ilocos Region",
         "school.province": "PANGASINAN",
         "school.cityhall": "PANGASINAN",
         "school.division": "Pangasinan I, Lingayen",
         "school.citymuni": "AGNO",
         "school.district": "Agno",
         "school.legdistrict": "1st District",
         "school.type": "School with no Annexes",
         "school.abbrev": "nan",
         "school.previousname": "Abagatanen ES-",
         "school.mother.id": 101131,
         "school.address": "ABAGATANEN",
         "school.established": "1/1/1955",
         "school.classification": "Elementary",
         "school.classification2": "DepED Managed",
         "school.curricularclass": "Elementary",
         "school.organization": "Monograde",
         "school.cityincome": "P 35 M or more but less than P 45 M",
         "school.cityclass": "nan",
         "school.urban": "Partially Urban",
         "School ID": 101131,
         "Kinder Male": 18,
         "Kinder Female": 18,
         "Grade 1 Male": 14,
         "Grade 1 Female": 18,
         "Grade 2 Male": 27,
         "Grade 2 Female": 17,
         "Grade 3 Male": 28,
         "Grade 3 Female": 16,
         "Grade 4 Male": 16,
         "Grade 4 Female": 20,
         "Grade 5 Male": 19,
         "Grade 5 Female": 12,
         "Grade 6 Male": 10,
         "Grade 6 Female": 13,
         "SPED NG Male": 0,
         "SPED NG Female": 0,
         "Grade 7 Male": "nan",
         "Grade 7 Female": "nan",
         "Grade 8 Male": "nan",
         "Grade 8 Female": "nan",
         "Grade 9 Male": "nan",
         "Grade 9 Female": "nan",
         "Grade 10 Male": "nan",
         "Grade 10 Female": "nan",
         "Grade 11 Male": "nan",
         "Grade 11 Female": "nan",
         "Grade 12 Male": "nan",
         "Grade 12 Female": "nan",
         " school.mooe ": 148000,
         "_deepnote_index_column": 6
        },
        {
         "school.id": 102252,
         "school.name": "Abanon Central School",
         "school.region": "Region I",
         "school.region.name": "Ilocos Region",
         "school.province": "PANGASINAN",
         "school.cityhall": "PANGASINAN",
         "school.division": "San Carlos City",
         "school.citymuni": "SAN CARLOS CITY",
         "school.district": "San Carlos City District IV",
         "school.legdistrict": "3rd District",
         "school.type": "School with no Annexes",
         "school.abbrev": "Abanon CS",
         "school.previousname": "Abanon Central Elementary School",
         "school.mother.id": 102252,
         "school.address": "-Brgy. Abanon, San Carlos City",
         "school.established": "1/1/2000",
         "school.classification": "Elementary",
         "school.classification2": "DepED Managed",
         "school.curricularclass": "Elementary",
         "school.organization": "Monograde",
         "school.cityincome": "P 240 M or more but less than P 320 M",
         "school.cityclass": "Component City",
         "school.urban": "Partially Urban",
         "School ID": 102252,
         "Kinder Male": 53,
         "Kinder Female": 49,
         "Grade 1 Male": 61,
         "Grade 1 Female": 68,
         "Grade 2 Male": 85,
         "Grade 2 Female": 53,
         "Grade 3 Male": 65,
         "Grade 3 Female": 64,
         "Grade 4 Male": 71,
         "Grade 4 Female": 58,
         "Grade 5 Male": 56,
         "Grade 5 Female": 56,
         "Grade 6 Male": 58,
         "Grade 6 Female": 51,
         "SPED NG Male": 5,
         "SPED NG Female": 1,
         "Grade 7 Male": "nan",
         "Grade 7 Female": "nan",
         "Grade 8 Male": "nan",
         "Grade 8 Female": "nan",
         "Grade 9 Male": "nan",
         "Grade 9 Female": "nan",
         "Grade 10 Male": "nan",
         "Grade 10 Female": "nan",
         "Grade 11 Male": "nan",
         "Grade 11 Female": "nan",
         "Grade 12 Male": "nan",
         "Grade 12 Female": "nan",
         " school.mooe ": 440000,
         "_deepnote_index_column": 7
        },
        {
         "school.id": 100307,
         "school.name": "Abkir ES",
         "school.region": "Region I",
         "school.region.name": "Ilocos Region",
         "school.province": "ILOCOS NORTE",
         "school.cityhall": "ILOCOS NORTE",
         "school.division": "Ilocos Norte",
         "school.citymuni": "VINTAR",
         "school.district": "Vintar II",
         "school.legdistrict": "1st District",
         "school.type": "School with no Annexes",
         "school.abbrev": "AES",
         "school.previousname": "-",
         "school.mother.id": 100307,
         "school.address": "Abkir",
         "school.established": "1/1/1947",
         "school.classification": "Elementary",
         "school.classification2": "DepED Managed",
         "school.curricularclass": "Elementary",
         "school.organization": "Monograde",
         "school.cityincome": "P 55 M or more",
         "school.cityclass": "nan",
         "school.urban": "Partially Urban",
         "School ID": 100307,
         "Kinder Male": 5,
         "Kinder Female": 18,
         "Grade 1 Male": 11,
         "Grade 1 Female": 6,
         "Grade 2 Male": 11,
         "Grade 2 Female": 6,
         "Grade 3 Male": 13,
         "Grade 3 Female": 7,
         "Grade 4 Male": 12,
         "Grade 4 Female": 10,
         "Grade 5 Male": 10,
         "Grade 5 Female": 10,
         "Grade 6 Male": 10,
         "Grade 6 Female": 8,
         "SPED NG Male": 0,
         "SPED NG Female": 0,
         "Grade 7 Male": "nan",
         "Grade 7 Female": "nan",
         "Grade 8 Male": "nan",
         "Grade 8 Female": "nan",
         "Grade 9 Male": "nan",
         "Grade 9 Female": "nan",
         "Grade 10 Male": "nan",
         "Grade 10 Female": "nan",
         "Grade 11 Male": "nan",
         "Grade 11 Female": "nan",
         "Grade 12 Male": "nan",
         "Grade 12 Female": "nan",
         " school.mooe ": 119000,
         "_deepnote_index_column": 8
        }
       ],
       "rows_bottom": [
        {
         "school.id": 305451,
         "school.name": "Tugatog NHS",
         "school.region": "NCR",
         "school.region.name": "National Capital Region",
         "school.province": "NCR THIRD DISTRICT",
         "school.cityhall": "CITY OF MALABON",
         "school.division": "Malabon City",
         "school.citymuni": "CITY OF MALABON",
         "school.district": "Malabon District V",
         "school.legdistrict": "Lone District",
         "school.type": "School with no Annexes",
         "school.abbrev": "TNHS",
         "school.previousname": "-",
         "school.mother.id": 305451,
         "school.address": "Dr. Lascano",
         "school.established": "1/1/1969",
         "school.classification": "Secondary",
         "school.classification2": "DepED Managed",
         "school.curricularclass": "Secondary",
         "school.organization": "Monograde",
         "school.cityincome": "P 400 M or more",
         "school.cityclass": "Highly Urbanized City",
         "school.urban": "Urban",
         "School ID": 305451,
         "Kinder Male": "nan",
         "Kinder Female": "nan",
         "Grade 1 Male": "nan",
         "Grade 1 Female": "nan",
         "Grade 2 Male": "nan",
         "Grade 2 Female": "nan",
         "Grade 3 Male": "nan",
         "Grade 3 Female": "nan",
         "Grade 4 Male": "nan",
         "Grade 4 Female": "nan",
         "Grade 5 Male": "nan",
         "Grade 5 Female": "nan",
         "Grade 6 Male": "nan",
         "Grade 6 Female": "nan",
         "SPED NG Male": 0,
         "SPED NG Female": 0,
         "Grade 7 Male": 382,
         "Grade 7 Female": 292,
         "Grade 8 Male": 310,
         "Grade 8 Female": 350,
         "Grade 9 Male": 316,
         "Grade 9 Female": 326,
         "Grade 10 Male": 329,
         "Grade 10 Female": 317,
         "Grade 11 Male": 0,
         "Grade 11 Female": 0,
         "Grade 12 Male": 0,
         "Grade 12 Female": 0,
         " school.mooe ": 2236000,
         "_deepnote_index_column": 46594
        },
        {
         "school.id": 320605,
         "school.name": "Upper Bicutan National High School",
         "school.region": "NCR",
         "school.region.name": "National Capital Region",
         "school.province": "NCR FOURTH DISTRICT",
         "school.cityhall": "TAGUIG CITY",
         "school.division": "Taguig",
         "school.citymuni": "TAGUIG CITY",
         "school.district": "Taguig District II",
         "school.legdistrict": "2nd District",
         "school.type": "School with no Annexes",
         "school.abbrev": "UBNHS",
         "school.previousname": "-",
         "school.mother.id": 320605,
         "school.address": "General Santos Avenue",
         "school.established": "1/1/2005",
         "school.classification": "Secondary",
         "school.classification2": "DepED Managed",
         "school.curricularclass": "Secondary",
         "school.organization": "Monograde",
         "school.cityincome": "P 400 M or more",
         "school.cityclass": "Highly Urbanized City",
         "school.urban": "Urban",
         "School ID": 320605,
         "Kinder Male": "nan",
         "Kinder Female": "nan",
         "Grade 1 Male": "nan",
         "Grade 1 Female": "nan",
         "Grade 2 Male": "nan",
         "Grade 2 Female": "nan",
         "Grade 3 Male": "nan",
         "Grade 3 Female": "nan",
         "Grade 4 Male": "nan",
         "Grade 4 Female": "nan",
         "Grade 5 Male": "nan",
         "Grade 5 Female": "nan",
         "Grade 6 Male": "nan",
         "Grade 6 Female": "nan",
         "SPED NG Male": 0,
         "SPED NG Female": 0,
         "Grade 7 Male": 695,
         "Grade 7 Female": 595,
         "Grade 8 Male": 536,
         "Grade 8 Female": 548,
         "Grade 9 Male": 548,
         "Grade 9 Female": 543,
         "Grade 10 Male": 511,
         "Grade 10 Female": 473,
         "Grade 11 Male": 0,
         "Grade 11 Female": 0,
         "Grade 12 Male": 0,
         "Grade 12 Female": 0,
         " school.mooe ": 3355000,
         "_deepnote_index_column": 46595
        },
        {
         "school.id": 320401,
         "school.name": "Valenzuela City Science HS",
         "school.region": "NCR",
         "school.region.name": "National Capital Region",
         "school.province": "NCR THIRD DISTRICT",
         "school.cityhall": "CITY OF VALENZUELA",
         "school.division": "Valenzuela City",
         "school.citymuni": "CITY OF VALENZUELA",
         "school.district": "Valenzuela City Central District",
         "school.legdistrict": "1st District",
         "school.type": "School with no Annexes",
         "school.abbrev": "nan",
         "school.previousname": "-",
         "school.mother.id": 320401,
         "school.address": "A. Marcelo",
         "school.established": "1/1/2003",
         "school.classification": "Secondary",
         "school.classification2": "DepED Managed",
         "school.curricularclass": "Secondary",
         "school.organization": "Monograde",
         "school.cityincome": "P 400 M or more",
         "school.cityclass": "Highly Urbanized City",
         "school.urban": "Urban",
         "School ID": 320401,
         "Kinder Male": "nan",
         "Kinder Female": "nan",
         "Grade 1 Male": "nan",
         "Grade 1 Female": "nan",
         "Grade 2 Male": "nan",
         "Grade 2 Female": "nan",
         "Grade 3 Male": "nan",
         "Grade 3 Female": "nan",
         "Grade 4 Male": "nan",
         "Grade 4 Female": "nan",
         "Grade 5 Male": "nan",
         "Grade 5 Female": "nan",
         "Grade 6 Male": "nan",
         "Grade 6 Female": "nan",
         "SPED NG Male": 0,
         "SPED NG Female": 0,
         "Grade 7 Male": 102,
         "Grade 7 Female": 180,
         "Grade 8 Male": 93,
         "Grade 8 Female": 142,
         "Grade 9 Male": 69,
         "Grade 9 Female": 79,
         "Grade 10 Male": 52,
         "Grade 10 Female": 52,
         "Grade 11 Male": 0,
         "Grade 11 Female": 0,
         "Grade 12 Male": 0,
         "Grade 12 Female": 0,
         " school.mooe ": 621000,
         "_deepnote_index_column": 46596
        },
        {
         "school.id": 305441,
         "school.name": "Valenzuela NHS",
         "school.region": "NCR",
         "school.region.name": "National Capital Region",
         "school.province": "NCR THIRD DISTRICT",
         "school.cityhall": "CITY OF VALENZUELA",
         "school.division": "Valenzuela City",
         "school.citymuni": "CITY OF VALENZUELA",
         "school.district": "Valenzuela City Central District",
         "school.legdistrict": "2nd District",
         "school.type": "School with no Annexes",
         "school.abbrev": "nan",
         "school.previousname": "-",
         "school.mother.id": 305441,
         "school.address": "A. FERNANDO ST., MARULAS,",
         "school.established": "1/1/1969",
         "school.classification": "Secondary",
         "school.classification2": "DepED Managed",
         "school.curricularclass": "Secondary",
         "school.organization": "Monograde",
         "school.cityincome": "P 400 M or more",
         "school.cityclass": "Highly Urbanized City",
         "school.urban": "Urban",
         "School ID": 305441,
         "Kinder Male": "nan",
         "Kinder Female": "nan",
         "Grade 1 Male": "nan",
         "Grade 1 Female": "nan",
         "Grade 2 Male": "nan",
         "Grade 2 Female": "nan",
         "Grade 3 Male": "nan",
         "Grade 3 Female": "nan",
         "Grade 4 Male": "nan",
         "Grade 4 Female": "nan",
         "Grade 5 Male": "nan",
         "Grade 5 Female": "nan",
         "Grade 6 Male": "nan",
         "Grade 6 Female": "nan",
         "SPED NG Male": 9,
         "SPED NG Female": 7,
         "Grade 7 Male": 461,
         "Grade 7 Female": 405,
         "Grade 8 Male": 424,
         "Grade 8 Female": 391,
         "Grade 9 Male": 423,
         "Grade 9 Female": 395,
         "Grade 10 Male": 363,
         "Grade 10 Female": 356,
         "Grade 11 Male": 0,
         "Grade 11 Female": 0,
         "Grade 12 Male": 0,
         "Grade 12 Female": 0,
         " school.mooe ": 2924000,
         "_deepnote_index_column": 46597
        },
        {
         "school.id": 305308,
         "school.name": "Valeriano E. Fugoso Memorial High School",
         "school.region": "NCR",
         "school.region.name": "National Capital Region",
         "school.province": "MANILA, NCR, FIRST DISTRICT",
         "school.cityhall": "MANILA, NCR, FIRST DISTRICT",
         "school.division": "Manila",
         "school.citymuni": "SAMPALOC",
         "school.district": "Sampaloc V",
         "school.legdistrict": "4th District",
         "school.type": "School with no Annexes",
         "school.abbrev": "Fugoso HS",
         "school.previousname": "-",
         "school.mother.id": 305308,
         "school.address": "Boys Town Complex, Parang, Marikina City",
         "school.established": "1/1/1947",
         "school.classification": "Secondary",
         "school.classification2": "DepED Managed",
         "school.curricularclass": "Secondary",
         "school.organization": "Monograde",
         "school.cityincome": "nan",
         "school.cityclass": "Highly Urbanized City",
         "school.urban": "Urban",
         "School ID": 305308,
         "Kinder Male": "nan",
         "Kinder Female": "nan",
         "Grade 1 Male": "nan",
         "Grade 1 Female": "nan",
         "Grade 2 Male": "nan",
         "Grade 2 Female": "nan",
         "Grade 3 Male": "nan",
         "Grade 3 Female": "nan",
         "Grade 4 Male": "nan",
         "Grade 4 Female": "nan",
         "Grade 5 Male": "nan",
         "Grade 5 Female": "nan",
         "Grade 6 Male": "nan",
         "Grade 6 Female": "nan",
         "SPED NG Male": 0,
         "SPED NG Female": 0,
         "Grade 7 Male": 92,
         "Grade 7 Female": 132,
         "Grade 8 Male": 85,
         "Grade 8 Female": 106,
         "Grade 9 Male": 76,
         "Grade 9 Female": 112,
         "Grade 10 Male": 58,
         "Grade 10 Female": 83,
         "Grade 11 Male": 0,
         "Grade 11 Female": 0,
         "Grade 12 Male": 0,
         "Grade 12 Female": 0,
         " school.mooe ": 986000,
         "_deepnote_index_column": 46598
        },
        {
         "school.id": 320402,
         "school.name": "Vicente Trinidad NHS (Punturin NHS)",
         "school.region": "NCR",
         "school.region.name": "National Capital Region",
         "school.province": "NCR THIRD DISTRICT",
         "school.cityhall": "CITY OF VALENZUELA",
         "school.division": "Valenzuela City",
         "school.citymuni": "CITY OF VALENZUELA",
         "school.district": "Valenzuela City Central District",
         "school.legdistrict": "1st District",
         "school.type": "School with no Annexes",
         "school.abbrev": "VPTNHS",
         "school.previousname": "Punturin National High School",
         "school.mother.id": 320402,
         "school.address": "Ruby st., Sta. Lucia Village Phase V",
         "school.established": "1/1/2003",
         "school.classification": "Secondary",
         "school.classification2": "DepED Managed",
         "school.curricularclass": "Secondary",
         "school.organization": "Monograde",
         "school.cityincome": "P 400 M or more",
         "school.cityclass": "Highly Urbanized City",
         "school.urban": "Urban",
         "School ID": 320402,
         "Kinder Male": "nan",
         "Kinder Female": "nan",
         "Grade 1 Male": "nan",
         "Grade 1 Female": "nan",
         "Grade 2 Male": "nan",
         "Grade 2 Female": "nan",
         "Grade 3 Male": "nan",
         "Grade 3 Female": "nan",
         "Grade 4 Male": "nan",
         "Grade 4 Female": "nan",
         "Grade 5 Male": "nan",
         "Grade 5 Female": "nan",
         "Grade 6 Male": "nan",
         "Grade 6 Female": "nan",
         "SPED NG Male": 0,
         "SPED NG Female": 0,
         "Grade 7 Male": 267,
         "Grade 7 Female": 270,
         "Grade 8 Male": 296,
         "Grade 8 Female": 275,
         "Grade 9 Male": 265,
         "Grade 9 Female": 267,
         "Grade 10 Male": 239,
         "Grade 10 Female": 234,
         "Grade 11 Male": 0,
         "Grade 11 Female": 0,
         "Grade 12 Male": 0,
         "Grade 12 Female": 0,
         " school.mooe ": 1798000,
         "_deepnote_index_column": 46599
        },
        {
         "school.id": 305315,
         "school.name": "Victoriano Mapa High School",
         "school.region": "NCR",
         "school.region.name": "National Capital Region",
         "school.province": "MANILA, NCR, FIRST DISTRICT",
         "school.cityhall": "MANILA, NCR, FIRST DISTRICT",
         "school.division": "Manila",
         "school.citymuni": "SAN MIGUEL",
         "school.district": "Sta. Cruz V",
         "school.legdistrict": "6th District",
         "school.type": "School with no Annexes",
         "school.abbrev": "VMHS",
         "school.previousname": "MANILA EAST HS",
         "school.mother.id": 305315,
         "school.address": "300 San Rafael St., San Miguel,",
         "school.established": "1/1/1923",
         "school.classification": "Secondary",
         "school.classification2": "DepED Managed",
         "school.curricularclass": "Secondary",
         "school.organization": "Monograde",
         "school.cityincome": "nan",
         "school.cityclass": "Highly Urbanized City",
         "school.urban": "Urban",
         "School ID": 305315,
         "Kinder Male": "nan",
         "Kinder Female": "nan",
         "Grade 1 Male": "nan",
         "Grade 1 Female": "nan",
         "Grade 2 Male": "nan",
         "Grade 2 Female": "nan",
         "Grade 3 Male": "nan",
         "Grade 3 Female": "nan",
         "Grade 4 Male": "nan",
         "Grade 4 Female": "nan",
         "Grade 5 Male": "nan",
         "Grade 5 Female": "nan",
         "Grade 6 Male": "nan",
         "Grade 6 Female": "nan",
         "SPED NG Male": 0,
         "SPED NG Female": 0,
         "Grade 7 Male": 516,
         "Grade 7 Female": 549,
         "Grade 8 Male": 472,
         "Grade 8 Female": 532,
         "Grade 9 Male": 412,
         "Grade 9 Female": 457,
         "Grade 10 Male": 401,
         "Grade 10 Female": 441,
         "Grade 11 Male": 0,
         "Grade 11 Female": 0,
         "Grade 12 Male": 0,
         "Grade 12 Female": 0,
         " school.mooe ": 3971000,
         "_deepnote_index_column": 46600
        },
        {
         "school.id": 320407,
         "school.name": "Wawangpulo National High School",
         "school.region": "NCR",
         "school.region.name": "National Capital Region",
         "school.province": "NCR THIRD DISTRICT",
         "school.cityhall": "CITY OF VALENZUELA",
         "school.division": "Valenzuela City",
         "school.citymuni": "CITY OF VALENZUELA",
         "school.district": "Valenzuela City North District",
         "school.legdistrict": "1st District",
         "school.type": "School with no Annexes",
         "school.abbrev": "nan",
         "school.previousname": "Valenzuela NHS-Wawang Pulo Annex",
         "school.mother.id": 320407,
         "school.address": "F. Andaya St.",
         "school.established": "1/1/2008",
         "school.classification": "Secondary",
         "school.classification2": "DepED Managed",
         "school.curricularclass": "Secondary",
         "school.organization": "Monograde",
         "school.cityincome": "P 400 M or more",
         "school.cityclass": "Highly Urbanized City",
         "school.urban": "Urban",
         "School ID": 320407,
         "Kinder Male": "nan",
         "Kinder Female": "nan",
         "Grade 1 Male": "nan",
         "Grade 1 Female": "nan",
         "Grade 2 Male": "nan",
         "Grade 2 Female": "nan",
         "Grade 3 Male": "nan",
         "Grade 3 Female": "nan",
         "Grade 4 Male": "nan",
         "Grade 4 Female": "nan",
         "Grade 5 Male": "nan",
         "Grade 5 Female": "nan",
         "Grade 6 Male": "nan",
         "Grade 6 Female": "nan",
         "SPED NG Male": 0,
         "SPED NG Female": 0,
         "Grade 7 Male": 98,
         "Grade 7 Female": 76,
         "Grade 8 Male": 106,
         "Grade 8 Female": 54,
         "Grade 9 Male": 80,
         "Grade 9 Female": 58,
         "Grade 10 Male": 55,
         "Grade 10 Female": 44,
         "Grade 11 Male": 0,
         "Grade 11 Female": 0,
         "Grade 12 Male": 0,
         "Grade 12 Female": 0,
         " school.mooe ": 539000,
         "_deepnote_index_column": 46601
        },
        {
         "school.id": 305465,
         "school.name": "Western Bicutan NHS",
         "school.region": "NCR",
         "school.region.name": "National Capital Region",
         "school.province": "NCR FOURTH DISTRICT",
         "school.cityhall": "TAGUIG CITY",
         "school.division": "Taguig",
         "school.citymuni": "TAGUIG CITY",
         "school.district": "Taguig District III",
         "school.legdistrict": "2nd District",
         "school.type": "School with no Annexes",
         "school.abbrev": "WBNHS",
         "school.previousname": "N/.A",
         "school.mother.id": 305465,
         "school.address": "EPVillage,Phase 1,Pinagsama,Taguig City",
         "school.established": "1/1/1997",
         "school.classification": "Secondary",
         "school.classification2": "DepED Managed",
         "school.curricularclass": "Secondary",
         "school.organization": "Monograde",
         "school.cityincome": "P 400 M or more",
         "school.cityclass": "Highly Urbanized City",
         "school.urban": "Urban",
         "School ID": 305465,
         "Kinder Male": "nan",
         "Kinder Female": "nan",
         "Grade 1 Male": "nan",
         "Grade 1 Female": "nan",
         "Grade 2 Male": "nan",
         "Grade 2 Female": "nan",
         "Grade 3 Male": "nan",
         "Grade 3 Female": "nan",
         "Grade 4 Male": "nan",
         "Grade 4 Female": "nan",
         "Grade 5 Male": "nan",
         "Grade 5 Female": "nan",
         "Grade 6 Male": "nan",
         "Grade 6 Female": "nan",
         "SPED NG Male": 0,
         "SPED NG Female": 0,
         "Grade 7 Male": 635,
         "Grade 7 Female": 627,
         "Grade 8 Male": 623,
         "Grade 8 Female": 634,
         "Grade 9 Male": 543,
         "Grade 9 Female": 546,
         "Grade 10 Male": 504,
         "Grade 10 Female": 501,
         "Grade 11 Male": 0,
         "Grade 11 Female": 0,
         "Grade 12 Male": 0,
         "Grade 12 Female": 0,
         " school.mooe ": 3595000,
         "_deepnote_index_column": 46602
        }
       ]
      },
      "text/plain": "       school.id                               school.name school.region  \\\n0         101746                           A. Diaz, Sr. ES      Region I   \n1         102193             A. P. Santos ES (SPED Center)      Region I   \n2         101283                           A.P. Guevara IS      Region I   \n3         100216                                Ab-Abut ES      Region I   \n4         100043                                  Abaca ES      Region I   \n...          ...                                       ...           ...   \n46598     305308  Valeriano E. Fugoso Memorial High School           NCR   \n46599     320402       Vicente Trinidad NHS (Punturin NHS)           NCR   \n46600     305315               Victoriano Mapa High School           NCR   \n46601     320407           Wawangpulo National High School           NCR   \n46602     305465                       Western Bicutan NHS           NCR   \n\n            school.region.name              school.province  \\\n0                Ilocos Region                   PANGASINAN   \n1                Ilocos Region                 ILOCOS NORTE   \n2                Ilocos Region                   PANGASINAN   \n3                Ilocos Region                 ILOCOS NORTE   \n4                Ilocos Region                 ILOCOS NORTE   \n...                        ...                          ...   \n46598  National Capital Region  MANILA, NCR, FIRST DISTRICT   \n46599  National Capital Region           NCR THIRD DISTRICT   \n46600  National Capital Region  MANILA, NCR, FIRST DISTRICT   \n46601  National Capital Region           NCR THIRD DISTRICT   \n46602  National Capital Region          NCR FOURTH DISTRICT   \n\n                   school.cityhall           school.division  \\\n0                       PANGASINAN  Pangasinan II, Binalonan   \n1                     ILOCOS NORTE                Laoag City   \n2                       PANGASINAN    Pangasinan I, Lingayen   \n3                     ILOCOS NORTE              Ilocos Norte   \n4                     ILOCOS NORTE              Ilocos Norte   \n...                            ...                       ...   \n46598  MANILA, NCR, FIRST DISTRICT                    Manila   \n46599           CITY OF VALENZUELA           Valenzuela City   \n46600  MANILA, NCR, FIRST DISTRICT                    Manila   \n46601           CITY OF VALENZUELA           Valenzuela City   \n46602                  TAGUIG CITY                    Taguig   \n\n            school.citymuni                   school.district  \\\n0                  BAUTISTA                          Bautista   \n1      LAOAG CITY (Capital)            Laoag City District II   \n2                 BAYAMBANG                      Bayambang II   \n3                    PIDDIG                            Piddig   \n4                    BANGUI                            Bangui   \n...                     ...                               ...   \n46598              SAMPALOC                        Sampaloc V   \n46599    CITY OF VALENZUELA  Valenzuela City Central District   \n46600            SAN MIGUEL                       Sta. Cruz V   \n46601    CITY OF VALENZUELA    Valenzuela City North District   \n46602           TAGUIG CITY               Taguig District III   \n\n      school.legdistrict  ... Grade 8 Female Grade 9 Male Grade 9 Female  \\\n0           5th District  ...            NaN          NaN            NaN   \n1           1st District  ...            NaN          NaN            NaN   \n2           3rd District  ...            NaN          NaN            NaN   \n3           1st District  ...            NaN          NaN            NaN   \n4           1st District  ...            NaN          NaN            NaN   \n...                  ...  ...            ...          ...            ...   \n46598       4th District  ...          106.0         76.0          112.0   \n46599       1st District  ...          275.0        265.0          267.0   \n46600       6th District  ...          532.0        412.0          457.0   \n46601       1st District  ...           54.0         80.0           58.0   \n46602       2nd District  ...          634.0        543.0          546.0   \n\n       Grade 10 Male Grade 10 Female Grade 11 Male Grade 11 Female  \\\n0                NaN             NaN           NaN             NaN   \n1                NaN             NaN           NaN             NaN   \n2                NaN             NaN           NaN             NaN   \n3                NaN             NaN           NaN             NaN   \n4                NaN             NaN           NaN             NaN   \n...              ...             ...           ...             ...   \n46598           58.0            83.0           0.0             0.0   \n46599          239.0           234.0           0.0             0.0   \n46600          401.0           441.0           0.0             0.0   \n46601           55.0            44.0           0.0             0.0   \n46602          504.0           501.0           0.0             0.0   \n\n      Grade 12 Male Grade 12 Female  school.mooe   \n0               NaN             NaN      341000.0  \n1               NaN             NaN      275000.0  \n2               NaN             NaN      132000.0  \n3               NaN             NaN      135000.0  \n4               NaN             NaN      182000.0  \n...             ...             ...           ...  \n46598           0.0             0.0      986000.0  \n46599           0.0             0.0     1798000.0  \n46600           0.0             0.0     3971000.0  \n46601           0.0             0.0      539000.0  \n46602           0.0             0.0     3595000.0  \n\n[46603 rows x 53 columns]",
      "text/html": "<div>\n<style scoped>\n    .dataframe tbody tr th:only-of-type {\n        vertical-align: middle;\n    }\n\n    .dataframe tbody tr th {\n        vertical-align: top;\n    }\n\n    .dataframe thead th {\n        text-align: right;\n    }\n</style>\n<table border=\"1\" class=\"dataframe\">\n  <thead>\n    <tr style=\"text-align: right;\">\n      <th></th>\n      <th>school.id</th>\n      <th>school.name</th>\n      <th>school.region</th>\n      <th>school.region.name</th>\n      <th>school.province</th>\n      <th>school.cityhall</th>\n      <th>school.division</th>\n      <th>school.citymuni</th>\n      <th>school.district</th>\n      <th>school.legdistrict</th>\n      <th>...</th>\n      <th>Grade 8 Female</th>\n      <th>Grade 9 Male</th>\n      <th>Grade 9 Female</th>\n      <th>Grade 10 Male</th>\n      <th>Grade 10 Female</th>\n      <th>Grade 11 Male</th>\n      <th>Grade 11 Female</th>\n      <th>Grade 12 Male</th>\n      <th>Grade 12 Female</th>\n      <th>school.mooe</th>\n    </tr>\n  </thead>\n  <tbody>\n    <tr>\n      <th>0</th>\n      <td>101746</td>\n      <td>A. Diaz, Sr. ES</td>\n      <td>Region I</td>\n      <td>Ilocos Region</td>\n      <td>PANGASINAN</td>\n      <td>PANGASINAN</td>\n      <td>Pangasinan II, Binalonan</td>\n      <td>BAUTISTA</td>\n      <td>Bautista</td>\n      <td>5th District</td>\n      <td>...</td>\n      <td>NaN</td>\n      <td>NaN</td>\n      <td>NaN</td>\n      <td>NaN</td>\n      <td>NaN</td>\n      <td>NaN</td>\n      <td>NaN</td>\n      <td>NaN</td>\n      <td>NaN</td>\n      <td>341000.0</td>\n    </tr>\n    <tr>\n      <th>1</th>\n      <td>102193</td>\n      <td>A. P. Santos ES (SPED Center)</td>\n      <td>Region I</td>\n      <td>Ilocos Region</td>\n      <td>ILOCOS NORTE</td>\n      <td>ILOCOS NORTE</td>\n      <td>Laoag City</td>\n      <td>LAOAG CITY (Capital)</td>\n      <td>Laoag City District II</td>\n      <td>1st District</td>\n      <td>...</td>\n      <td>NaN</td>\n      <td>NaN</td>\n      <td>NaN</td>\n      <td>NaN</td>\n      <td>NaN</td>\n      <td>NaN</td>\n      <td>NaN</td>\n      <td>NaN</td>\n      <td>NaN</td>\n      <td>275000.0</td>\n    </tr>\n    <tr>\n      <th>2</th>\n      <td>101283</td>\n      <td>A.P. Guevara IS</td>\n      <td>Region I</td>\n      <td>Ilocos Region</td>\n      <td>PANGASINAN</td>\n      <td>PANGASINAN</td>\n      <td>Pangasinan I, Lingayen</td>\n      <td>BAYAMBANG</td>\n      <td>Bayambang II</td>\n      <td>3rd District</td>\n      <td>...</td>\n      <td>NaN</td>\n      <td>NaN</td>\n      <td>NaN</td>\n      <td>NaN</td>\n      <td>NaN</td>\n      <td>NaN</td>\n      <td>NaN</td>\n      <td>NaN</td>\n      <td>NaN</td>\n      <td>132000.0</td>\n    </tr>\n    <tr>\n      <th>3</th>\n      <td>100216</td>\n      <td>Ab-Abut ES</td>\n      <td>Region I</td>\n      <td>Ilocos Region</td>\n      <td>ILOCOS NORTE</td>\n      <td>ILOCOS NORTE</td>\n      <td>Ilocos Norte</td>\n      <td>PIDDIG</td>\n      <td>Piddig</td>\n      <td>1st District</td>\n      <td>...</td>\n      <td>NaN</td>\n      <td>NaN</td>\n      <td>NaN</td>\n      <td>NaN</td>\n      <td>NaN</td>\n      <td>NaN</td>\n      <td>NaN</td>\n      <td>NaN</td>\n      <td>NaN</td>\n      <td>135000.0</td>\n    </tr>\n    <tr>\n      <th>4</th>\n      <td>100043</td>\n      <td>Abaca ES</td>\n      <td>Region I</td>\n      <td>Ilocos Region</td>\n      <td>ILOCOS NORTE</td>\n      <td>ILOCOS NORTE</td>\n      <td>Ilocos Norte</td>\n      <td>BANGUI</td>\n      <td>Bangui</td>\n      <td>1st District</td>\n      <td>...</td>\n      <td>NaN</td>\n      <td>NaN</td>\n      <td>NaN</td>\n      <td>NaN</td>\n      <td>NaN</td>\n      <td>NaN</td>\n      <td>NaN</td>\n      <td>NaN</td>\n      <td>NaN</td>\n      <td>182000.0</td>\n    </tr>\n    <tr>\n      <th>...</th>\n      <td>...</td>\n      <td>...</td>\n      <td>...</td>\n      <td>...</td>\n      <td>...</td>\n      <td>...</td>\n      <td>...</td>\n      <td>...</td>\n      <td>...</td>\n      <td>...</td>\n      <td>...</td>\n      <td>...</td>\n      <td>...</td>\n      <td>...</td>\n      <td>...</td>\n      <td>...</td>\n      <td>...</td>\n      <td>...</td>\n      <td>...</td>\n      <td>...</td>\n      <td>...</td>\n    </tr>\n    <tr>\n      <th>46598</th>\n      <td>305308</td>\n      <td>Valeriano E. Fugoso Memorial High School</td>\n      <td>NCR</td>\n      <td>National Capital Region</td>\n      <td>MANILA, NCR, FIRST DISTRICT</td>\n      <td>MANILA, NCR, FIRST DISTRICT</td>\n      <td>Manila</td>\n      <td>SAMPALOC</td>\n      <td>Sampaloc V</td>\n      <td>4th District</td>\n      <td>...</td>\n      <td>106.0</td>\n      <td>76.0</td>\n      <td>112.0</td>\n      <td>58.0</td>\n      <td>83.0</td>\n      <td>0.0</td>\n      <td>0.0</td>\n      <td>0.0</td>\n      <td>0.0</td>\n      <td>986000.0</td>\n    </tr>\n    <tr>\n      <th>46599</th>\n      <td>320402</td>\n      <td>Vicente Trinidad NHS (Punturin NHS)</td>\n      <td>NCR</td>\n      <td>National Capital Region</td>\n      <td>NCR THIRD DISTRICT</td>\n      <td>CITY OF VALENZUELA</td>\n      <td>Valenzuela City</td>\n      <td>CITY OF VALENZUELA</td>\n      <td>Valenzuela City Central District</td>\n      <td>1st District</td>\n      <td>...</td>\n      <td>275.0</td>\n      <td>265.0</td>\n      <td>267.0</td>\n      <td>239.0</td>\n      <td>234.0</td>\n      <td>0.0</td>\n      <td>0.0</td>\n      <td>0.0</td>\n      <td>0.0</td>\n      <td>1798000.0</td>\n    </tr>\n    <tr>\n      <th>46600</th>\n      <td>305315</td>\n      <td>Victoriano Mapa High School</td>\n      <td>NCR</td>\n      <td>National Capital Region</td>\n      <td>MANILA, NCR, FIRST DISTRICT</td>\n      <td>MANILA, NCR, FIRST DISTRICT</td>\n      <td>Manila</td>\n      <td>SAN MIGUEL</td>\n      <td>Sta. Cruz V</td>\n      <td>6th District</td>\n      <td>...</td>\n      <td>532.0</td>\n      <td>412.0</td>\n      <td>457.0</td>\n      <td>401.0</td>\n      <td>441.0</td>\n      <td>0.0</td>\n      <td>0.0</td>\n      <td>0.0</td>\n      <td>0.0</td>\n      <td>3971000.0</td>\n    </tr>\n    <tr>\n      <th>46601</th>\n      <td>320407</td>\n      <td>Wawangpulo National High School</td>\n      <td>NCR</td>\n      <td>National Capital Region</td>\n      <td>NCR THIRD DISTRICT</td>\n      <td>CITY OF VALENZUELA</td>\n      <td>Valenzuela City</td>\n      <td>CITY OF VALENZUELA</td>\n      <td>Valenzuela City North District</td>\n      <td>1st District</td>\n      <td>...</td>\n      <td>54.0</td>\n      <td>80.0</td>\n      <td>58.0</td>\n      <td>55.0</td>\n      <td>44.0</td>\n      <td>0.0</td>\n      <td>0.0</td>\n      <td>0.0</td>\n      <td>0.0</td>\n      <td>539000.0</td>\n    </tr>\n    <tr>\n      <th>46602</th>\n      <td>305465</td>\n      <td>Western Bicutan NHS</td>\n      <td>NCR</td>\n      <td>National Capital Region</td>\n      <td>NCR FOURTH DISTRICT</td>\n      <td>TAGUIG CITY</td>\n      <td>Taguig</td>\n      <td>TAGUIG CITY</td>\n      <td>Taguig District III</td>\n      <td>2nd District</td>\n      <td>...</td>\n      <td>634.0</td>\n      <td>543.0</td>\n      <td>546.0</td>\n      <td>504.0</td>\n      <td>501.0</td>\n      <td>0.0</td>\n      <td>0.0</td>\n      <td>0.0</td>\n      <td>0.0</td>\n      <td>3595000.0</td>\n    </tr>\n  </tbody>\n</table>\n<p>46603 rows × 53 columns</p>\n</div>"
     },
     "metadata": {}
    }
   ]
  },
  {
   "cell_type": "code",
   "metadata": {
    "cell_id": "00013-2d14db4e-aed0-4e9f-b343-eafed27737d4",
    "deepnote_to_be_reexecuted": false,
    "source_hash": "dd742395",
    "execution_start": 1621511446644,
    "execution_millis": 22,
    "deepnote_cell_type": "code"
   },
   "source": "master_df = pd.merge(master_df, room, left_on =\"school.id\", right_on = \"School ID\", how = \"left\")",
   "execution_count": 18,
   "outputs": []
  },
  {
   "cell_type": "code",
   "metadata": {
    "cell_id": "00014-7da516dd-a874-4d6a-a917-b78d0c0697dd",
    "deepnote_to_be_reexecuted": false,
    "source_hash": "98c6b011",
    "execution_start": 1621511446674,
    "execution_millis": 229,
    "deepnote_cell_type": "code"
   },
   "source": "master_df",
   "execution_count": 19,
   "outputs": [
    {
     "output_type": "execute_result",
     "execution_count": 19,
     "data": {
      "application/vnd.deepnote.dataframe.v2+json": {
       "row_count": 46603,
       "column_count": 58,
       "columns": [
        {
         "name": "school.id",
         "dtype": "int64",
         "stats": {
          "unique_count": 46603,
          "nan_count": 0,
          "min": "100001",
          "max": "900279",
          "histogram": [
           {
            "bin_start": 100001,
            "bin_end": 180028.8,
            "count": 37079
           },
           {
            "bin_start": 180028.8,
            "bin_end": 260056.6,
            "count": 1603
           },
           {
            "bin_start": 260056.6,
            "bin_end": 340084.4,
            "count": 7919
           },
           {
            "bin_start": 340084.4,
            "bin_end": 420112.2,
            "count": 1
           },
           {
            "bin_start": 420112.2,
            "bin_end": 500140,
            "count": 0
           },
           {
            "bin_start": 500140,
            "bin_end": 580167.8,
            "count": 0
           },
           {
            "bin_start": 580167.8,
            "bin_end": 660195.6,
            "count": 0
           },
           {
            "bin_start": 660195.6,
            "bin_end": 740223.4,
            "count": 0
           },
           {
            "bin_start": 740223.4,
            "bin_end": 820251.2000000001,
            "count": 0
           },
           {
            "bin_start": 820251.2000000001,
            "bin_end": 900279,
            "count": 1
           }
          ]
         }
        },
        {
         "name": "school.name",
         "dtype": "object",
         "stats": {
          "unique_count": 36901,
          "nan_count": 0,
          "categories": [
           {
            "name": "San Isidro ES",
            "count": 192
           },
           {
            "name": "San Jose ES",
            "count": 155
           },
           {
            "name": "36899 others",
            "count": 46256
           }
          ]
         }
        },
        {
         "name": "school.region",
         "dtype": "object"
        },
        {
         "name": "school.region.name",
         "dtype": "object"
        },
        {
         "name": "school.province",
         "dtype": "object"
        },
        {
         "name": "school.cityhall",
         "dtype": "object"
        },
        {
         "name": "school.division",
         "dtype": "object"
        },
        {
         "name": "school.citymuni",
         "dtype": "object"
        },
        {
         "name": "school.district",
         "dtype": "object"
        },
        {
         "name": "school.legdistrict",
         "dtype": "object"
        },
        {
         "name": "school.type",
         "dtype": "object"
        },
        {
         "name": "school.abbrev",
         "dtype": "object"
        },
        {
         "name": "school.previousname",
         "dtype": "object"
        },
        {
         "name": "school.mother.id",
         "dtype": "float64"
        },
        {
         "name": "school.address",
         "dtype": "object"
        },
        {
         "name": "school.established",
         "dtype": "object"
        },
        {
         "name": "school.classification",
         "dtype": "object"
        },
        {
         "name": "school.classification2",
         "dtype": "object"
        },
        {
         "name": "school.curricularclass",
         "dtype": "object"
        },
        {
         "name": "school.organization",
         "dtype": "object"
        },
        {
         "name": "school.cityincome",
         "dtype": "object"
        },
        {
         "name": "school.cityclass",
         "dtype": "object"
        },
        {
         "name": "school.urban",
         "dtype": "object"
        },
        {
         "name": "School ID_x",
         "dtype": "float64"
        },
        {
         "name": "Kinder Male",
         "dtype": "float64"
        },
        {
         "name": "Kinder Female",
         "dtype": "float64"
        },
        {
         "name": "Grade 1 Male",
         "dtype": "float64"
        },
        {
         "name": "Grade 1 Female",
         "dtype": "float64"
        },
        {
         "name": "Grade 2 Male",
         "dtype": "float64"
        },
        {
         "name": "Grade 2 Female",
         "dtype": "float64"
        },
        {
         "name": "Grade 3 Male",
         "dtype": "float64"
        },
        {
         "name": "Grade 3 Female",
         "dtype": "float64"
        },
        {
         "name": "Grade 4 Male",
         "dtype": "float64"
        },
        {
         "name": "Grade 4 Female",
         "dtype": "float64"
        },
        {
         "name": "Grade 5 Male",
         "dtype": "float64"
        },
        {
         "name": "Grade 5 Female",
         "dtype": "float64"
        },
        {
         "name": "Grade 6 Male",
         "dtype": "float64"
        },
        {
         "name": "Grade 6 Female",
         "dtype": "float64"
        },
        {
         "name": "SPED NG Male",
         "dtype": "float64"
        },
        {
         "name": "SPED NG Female",
         "dtype": "float64"
        },
        {
         "name": "Grade 7 Male",
         "dtype": "float64"
        },
        {
         "name": "Grade 7 Female",
         "dtype": "float64"
        },
        {
         "name": "Grade 8 Male",
         "dtype": "float64"
        },
        {
         "name": "Grade 8 Female",
         "dtype": "float64"
        },
        {
         "name": "Grade 9 Male",
         "dtype": "float64"
        },
        {
         "name": "Grade 9 Female",
         "dtype": "float64"
        },
        {
         "name": "Grade 10 Male",
         "dtype": "float64"
        },
        {
         "name": "Grade 10 Female",
         "dtype": "float64"
        },
        {
         "name": "Grade 11 Male",
         "dtype": "float64"
        },
        {
         "name": "Grade 11 Female",
         "dtype": "float64"
        },
        {
         "name": "Grade 12 Male",
         "dtype": "float64"
        },
        {
         "name": "Grade 12 Female",
         "dtype": "float64"
        },
        {
         "name": " school.mooe ",
         "dtype": "float64"
        },
        {
         "name": "School ID_y",
         "dtype": "float64"
        },
        {
         "name": "rooms.standard.academic",
         "dtype": "float64"
        },
        {
         "name": "rooms.standard.unused",
         "dtype": "float64"
        },
        {
         "name": "rooms.nonstandard.academic",
         "dtype": "float64"
        },
        {
         "name": "rooms.nonstandard.unused",
         "dtype": "float64"
        },
        {
         "name": "_deepnote_index_column",
         "dtype": "int64"
        }
       ],
       "rows_top": [
        {
         "school.id": 101746,
         "school.name": "A. Diaz, Sr. ES",
         "school.region": "Region I",
         "school.region.name": "Ilocos Region",
         "school.province": "PANGASINAN",
         "school.cityhall": "PANGASINAN",
         "school.division": "Pangasinan II, Binalonan",
         "school.citymuni": "BAUTISTA",
         "school.district": "Bautista",
         "school.legdistrict": "5th District",
         "school.type": "School with no Annexes",
         "school.abbrev": "ADSES",
         "school.previousname": "none",
         "school.mother.id": 101746,
         "school.address": "Brgy. Dias Bautista, Pang",
         "school.established": "1/1/1930",
         "school.classification": "Elementary",
         "school.classification2": "DepED Managed",
         "school.curricularclass": "Elementary",
         "school.organization": "Monograde",
         "school.cityincome": "P 25 M or more but less than P 35 M",
         "school.cityclass": "nan",
         "school.urban": "Partially Urban",
         "School ID_x": 101746,
         "Kinder Male": 57,
         "Kinder Female": 45,
         "Grade 1 Male": 56,
         "Grade 1 Female": 58,
         "Grade 2 Male": 63,
         "Grade 2 Female": 61,
         "Grade 3 Male": 55,
         "Grade 3 Female": 61,
         "Grade 4 Male": 62,
         "Grade 4 Female": 55,
         "Grade 5 Male": 61,
         "Grade 5 Female": 48,
         "Grade 6 Male": 48,
         "Grade 6 Female": 51,
         "SPED NG Male": 0,
         "SPED NG Female": 0,
         "Grade 7 Male": "nan",
         "Grade 7 Female": "nan",
         "Grade 8 Male": "nan",
         "Grade 8 Female": "nan",
         "Grade 9 Male": "nan",
         "Grade 9 Female": "nan",
         "Grade 10 Male": "nan",
         "Grade 10 Female": "nan",
         "Grade 11 Male": "nan",
         "Grade 11 Female": "nan",
         "Grade 12 Male": "nan",
         "Grade 12 Female": "nan",
         " school.mooe ": 341000,
         "School ID_y": 101746,
         "rooms.standard.academic": 15,
         "rooms.standard.unused": 0,
         "rooms.nonstandard.academic": 0,
         "rooms.nonstandard.unused": 0,
         "_deepnote_index_column": 0
        },
        {
         "school.id": 102193,
         "school.name": "A. P. Santos ES (SPED Center)",
         "school.region": "Region I",
         "school.region.name": "Ilocos Region",
         "school.province": "ILOCOS NORTE",
         "school.cityhall": "ILOCOS NORTE",
         "school.division": "Laoag City",
         "school.citymuni": "LAOAG CITY (Capital)",
         "school.district": "Laoag City District II",
         "school.legdistrict": "1st District",
         "school.type": "School with no Annexes",
         "school.abbrev": "APSES",
         "school.previousname": "-",
         "school.mother.id": 102193,
         "school.address": "A.G. Tupaz",
         "school.established": "1/1/1944",
         "school.classification": "Elementary",
         "school.classification2": "DepED Managed",
         "school.curricularclass": "Kinder & Elementary",
         "school.organization": "Monograde",
         "school.cityincome": "P 240 M or more but less than P 320 M",
         "school.cityclass": "Component City",
         "school.urban": "Partially Urban",
         "School ID_x": 102193,
         "Kinder Male": 20,
         "Kinder Female": 24,
         "Grade 1 Male": 38,
         "Grade 1 Female": 30,
         "Grade 2 Male": 37,
         "Grade 2 Female": 18,
         "Grade 3 Male": 29,
         "Grade 3 Female": 33,
         "Grade 4 Male": 23,
         "Grade 4 Female": 41,
         "Grade 5 Male": 39,
         "Grade 5 Female": 27,
         "Grade 6 Male": 26,
         "Grade 6 Female": 26,
         "SPED NG Male": 32,
         "SPED NG Female": 22,
         "Grade 7 Male": "nan",
         "Grade 7 Female": "nan",
         "Grade 8 Male": "nan",
         "Grade 8 Female": "nan",
         "Grade 9 Male": "nan",
         "Grade 9 Female": "nan",
         "Grade 10 Male": "nan",
         "Grade 10 Female": "nan",
         "Grade 11 Male": "nan",
         "Grade 11 Female": "nan",
         "Grade 12 Male": "nan",
         "Grade 12 Female": "nan",
         " school.mooe ": 275000,
         "School ID_y": 102193,
         "rooms.standard.academic": 13,
         "rooms.standard.unused": 3,
         "rooms.nonstandard.academic": 0,
         "rooms.nonstandard.unused": 0,
         "_deepnote_index_column": 1
        },
        {
         "school.id": 101283,
         "school.name": "A.P. Guevara IS",
         "school.region": "Region I",
         "school.region.name": "Ilocos Region",
         "school.province": "PANGASINAN",
         "school.cityhall": "PANGASINAN",
         "school.division": "Pangasinan I, Lingayen",
         "school.citymuni": "BAYAMBANG",
         "school.district": "Bayambang II",
         "school.legdistrict": "3rd District",
         "school.type": "School with no Annexes",
         "school.abbrev": "nan",
         "school.previousname": "A.P. Guevarra IS",
         "school.mother.id": 101283,
         "school.address": "-",
         "school.established": "1/1/1945",
         "school.classification": "Elementary",
         "school.classification2": "DepED Managed",
         "school.curricularclass": "Elementary",
         "school.organization": "Monograde",
         "school.cityincome": "P 55 M or more",
         "school.cityclass": "nan",
         "school.urban": "Partially Urban",
         "School ID_x": 101283,
         "Kinder Male": 16,
         "Kinder Female": 11,
         "Grade 1 Male": 11,
         "Grade 1 Female": 10,
         "Grade 2 Male": 9,
         "Grade 2 Female": 13,
         "Grade 3 Male": 15,
         "Grade 3 Female": 13,
         "Grade 4 Male": 14,
         "Grade 4 Female": 11,
         "Grade 5 Male": 23,
         "Grade 5 Female": 13,
         "Grade 6 Male": 7,
         "Grade 6 Female": 9,
         "SPED NG Male": 0,
         "SPED NG Female": 0,
         "Grade 7 Male": "nan",
         "Grade 7 Female": "nan",
         "Grade 8 Male": "nan",
         "Grade 8 Female": "nan",
         "Grade 9 Male": "nan",
         "Grade 9 Female": "nan",
         "Grade 10 Male": "nan",
         "Grade 10 Female": "nan",
         "Grade 11 Male": "nan",
         "Grade 11 Female": "nan",
         "Grade 12 Male": "nan",
         "Grade 12 Female": "nan",
         " school.mooe ": 132000,
         "School ID_y": 101283,
         "rooms.standard.academic": 7,
         "rooms.standard.unused": 0,
         "rooms.nonstandard.academic": 0,
         "rooms.nonstandard.unused": 0,
         "_deepnote_index_column": 2
        },
        {
         "school.id": 100216,
         "school.name": "Ab-Abut ES",
         "school.region": "Region I",
         "school.region.name": "Ilocos Region",
         "school.province": "ILOCOS NORTE",
         "school.cityhall": "ILOCOS NORTE",
         "school.division": "Ilocos Norte",
         "school.citymuni": "PIDDIG",
         "school.district": "Piddig",
         "school.legdistrict": "1st District",
         "school.type": "School with no Annexes",
         "school.abbrev": "AES",
         "school.previousname": "-",
         "school.mother.id": 100216,
         "school.address": "Sucsuquen",
         "school.established": "1/1/1964",
         "school.classification": "Elementary",
         "school.classification2": "DepED Managed",
         "school.curricularclass": "Elementary",
         "school.organization": "Monograde",
         "school.cityincome": "P 35 M or more but less than P 45 M",
         "school.cityclass": "nan",
         "school.urban": "Partially Urban",
         "School ID_x": 100216,
         "Kinder Male": 10,
         "Kinder Female": 6,
         "Grade 1 Male": 10,
         "Grade 1 Female": 17,
         "Grade 2 Male": 22,
         "Grade 2 Female": 11,
         "Grade 3 Male": 22,
         "Grade 3 Female": 12,
         "Grade 4 Male": 12,
         "Grade 4 Female": 11,
         "Grade 5 Male": 16,
         "Grade 5 Female": 7,
         "Grade 6 Male": 13,
         "Grade 6 Female": 10,
         "SPED NG Male": 0,
         "SPED NG Female": 0,
         "Grade 7 Male": "nan",
         "Grade 7 Female": "nan",
         "Grade 8 Male": "nan",
         "Grade 8 Female": "nan",
         "Grade 9 Male": "nan",
         "Grade 9 Female": "nan",
         "Grade 10 Male": "nan",
         "Grade 10 Female": "nan",
         "Grade 11 Male": "nan",
         "Grade 11 Female": "nan",
         "Grade 12 Male": "nan",
         "Grade 12 Female": "nan",
         " school.mooe ": 135000,
         "School ID_y": 100216,
         "rooms.standard.academic": 6,
         "rooms.standard.unused": 0,
         "rooms.nonstandard.academic": 0,
         "rooms.nonstandard.unused": 0,
         "_deepnote_index_column": 3
        },
        {
         "school.id": 100043,
         "school.name": "Abaca ES",
         "school.region": "Region I",
         "school.region.name": "Ilocos Region",
         "school.province": "ILOCOS NORTE",
         "school.cityhall": "ILOCOS NORTE",
         "school.division": "Ilocos Norte",
         "school.citymuni": "BANGUI",
         "school.district": "Bangui",
         "school.legdistrict": "1st District",
         "school.type": "School with no Annexes",
         "school.abbrev": "AES",
         "school.previousname": "none",
         "school.mother.id": 100043,
         "school.address": "None",
         "school.established": "1/1/1979",
         "school.classification": "Elementary",
         "school.classification2": "DepED Managed",
         "school.curricularclass": "Elementary",
         "school.organization": "Monograde",
         "school.cityincome": "P 25 M or more but less than P 35 M",
         "school.cityclass": "nan",
         "school.urban": "Partially Urban",
         "School ID_x": 100043,
         "Kinder Male": 12,
         "Kinder Female": 13,
         "Grade 1 Male": 22,
         "Grade 1 Female": 26,
         "Grade 2 Male": 17,
         "Grade 2 Female": 14,
         "Grade 3 Male": 16,
         "Grade 3 Female": 22,
         "Grade 4 Male": 24,
         "Grade 4 Female": 15,
         "Grade 5 Male": 28,
         "Grade 5 Female": 19,
         "Grade 6 Male": 26,
         "Grade 6 Female": 17,
         "SPED NG Male": 0,
         "SPED NG Female": 0,
         "Grade 7 Male": "nan",
         "Grade 7 Female": "nan",
         "Grade 8 Male": "nan",
         "Grade 8 Female": "nan",
         "Grade 9 Male": "nan",
         "Grade 9 Female": "nan",
         "Grade 10 Male": "nan",
         "Grade 10 Female": "nan",
         "Grade 11 Male": "nan",
         "Grade 11 Female": "nan",
         "Grade 12 Male": "nan",
         "Grade 12 Female": "nan",
         " school.mooe ": 182000,
         "School ID_y": 100043,
         "rooms.standard.academic": 9,
         "rooms.standard.unused": 0,
         "rooms.nonstandard.academic": 0,
         "rooms.nonstandard.unused": 0,
         "_deepnote_index_column": 4
        },
        {
         "school.id": 100554,
         "school.name": "Abaccan ES",
         "school.region": "Region I",
         "school.region.name": "Ilocos Region",
         "school.province": "ILOCOS SUR",
         "school.cityhall": "ILOCOS SUR",
         "school.division": "Ilocos Sur",
         "school.citymuni": "SIGAY",
         "school.district": "Salcedo-Galimuyod-Sigay-Del Pilar",
         "school.legdistrict": "2nd District",
         "school.type": "School with no Annexes",
         "school.abbrev": "nan",
         "school.previousname": "-",
         "school.mother.id": 100554,
         "school.address": "-n/a",
         "school.established": "1/1/2000",
         "school.classification": "Elementary",
         "school.classification2": "DepED Managed",
         "school.curricularclass": "Kinder & Elementary",
         "school.organization": "Combined Monograde and Multigrade",
         "school.cityincome": "P 15 M or more but less than P 25 M",
         "school.cityclass": "nan",
         "school.urban": "Rural",
         "School ID_x": 100554,
         "Kinder Male": 1,
         "Kinder Female": 1,
         "Grade 1 Male": 0,
         "Grade 1 Female": 2,
         "Grade 2 Male": 3,
         "Grade 2 Female": 0,
         "Grade 3 Male": 5,
         "Grade 3 Female": 4,
         "Grade 4 Male": 3,
         "Grade 4 Female": 7,
         "Grade 5 Male": 2,
         "Grade 5 Female": 3,
         "Grade 6 Male": 4,
         "Grade 6 Female": 3,
         "SPED NG Male": 0,
         "SPED NG Female": 0,
         "Grade 7 Male": "nan",
         "Grade 7 Female": "nan",
         "Grade 8 Male": "nan",
         "Grade 8 Female": "nan",
         "Grade 9 Male": "nan",
         "Grade 9 Female": "nan",
         "Grade 10 Male": "nan",
         "Grade 10 Female": "nan",
         "Grade 11 Male": "nan",
         "Grade 11 Female": "nan",
         "Grade 12 Male": "nan",
         "Grade 12 Female": "nan",
         " school.mooe ": 92000,
         "School ID_y": 100554,
         "rooms.standard.academic": 5,
         "rooms.standard.unused": 0,
         "rooms.nonstandard.academic": 0,
         "rooms.nonstandard.unused": 0,
         "_deepnote_index_column": 5
        },
        {
         "school.id": 101131,
         "school.name": "Abagatanen IS",
         "school.region": "Region I",
         "school.region.name": "Ilocos Region",
         "school.province": "PANGASINAN",
         "school.cityhall": "PANGASINAN",
         "school.division": "Pangasinan I, Lingayen",
         "school.citymuni": "AGNO",
         "school.district": "Agno",
         "school.legdistrict": "1st District",
         "school.type": "School with no Annexes",
         "school.abbrev": "nan",
         "school.previousname": "Abagatanen ES-",
         "school.mother.id": 101131,
         "school.address": "ABAGATANEN",
         "school.established": "1/1/1955",
         "school.classification": "Elementary",
         "school.classification2": "DepED Managed",
         "school.curricularclass": "Elementary",
         "school.organization": "Monograde",
         "school.cityincome": "P 35 M or more but less than P 45 M",
         "school.cityclass": "nan",
         "school.urban": "Partially Urban",
         "School ID_x": 101131,
         "Kinder Male": 18,
         "Kinder Female": 18,
         "Grade 1 Male": 14,
         "Grade 1 Female": 18,
         "Grade 2 Male": 27,
         "Grade 2 Female": 17,
         "Grade 3 Male": 28,
         "Grade 3 Female": 16,
         "Grade 4 Male": 16,
         "Grade 4 Female": 20,
         "Grade 5 Male": 19,
         "Grade 5 Female": 12,
         "Grade 6 Male": 10,
         "Grade 6 Female": 13,
         "SPED NG Male": 0,
         "SPED NG Female": 0,
         "Grade 7 Male": "nan",
         "Grade 7 Female": "nan",
         "Grade 8 Male": "nan",
         "Grade 8 Female": "nan",
         "Grade 9 Male": "nan",
         "Grade 9 Female": "nan",
         "Grade 10 Male": "nan",
         "Grade 10 Female": "nan",
         "Grade 11 Male": "nan",
         "Grade 11 Female": "nan",
         "Grade 12 Male": "nan",
         "Grade 12 Female": "nan",
         " school.mooe ": 148000,
         "School ID_y": 101131,
         "rooms.standard.academic": 6,
         "rooms.standard.unused": 0,
         "rooms.nonstandard.academic": 0,
         "rooms.nonstandard.unused": 0,
         "_deepnote_index_column": 6
        },
        {
         "school.id": 102252,
         "school.name": "Abanon Central School",
         "school.region": "Region I",
         "school.region.name": "Ilocos Region",
         "school.province": "PANGASINAN",
         "school.cityhall": "PANGASINAN",
         "school.division": "San Carlos City",
         "school.citymuni": "SAN CARLOS CITY",
         "school.district": "San Carlos City District IV",
         "school.legdistrict": "3rd District",
         "school.type": "School with no Annexes",
         "school.abbrev": "Abanon CS",
         "school.previousname": "Abanon Central Elementary School",
         "school.mother.id": 102252,
         "school.address": "-Brgy. Abanon, San Carlos City",
         "school.established": "1/1/2000",
         "school.classification": "Elementary",
         "school.classification2": "DepED Managed",
         "school.curricularclass": "Elementary",
         "school.organization": "Monograde",
         "school.cityincome": "P 240 M or more but less than P 320 M",
         "school.cityclass": "Component City",
         "school.urban": "Partially Urban",
         "School ID_x": 102252,
         "Kinder Male": 53,
         "Kinder Female": 49,
         "Grade 1 Male": 61,
         "Grade 1 Female": 68,
         "Grade 2 Male": 85,
         "Grade 2 Female": 53,
         "Grade 3 Male": 65,
         "Grade 3 Female": 64,
         "Grade 4 Male": 71,
         "Grade 4 Female": 58,
         "Grade 5 Male": 56,
         "Grade 5 Female": 56,
         "Grade 6 Male": 58,
         "Grade 6 Female": 51,
         "SPED NG Male": 5,
         "SPED NG Female": 1,
         "Grade 7 Male": "nan",
         "Grade 7 Female": "nan",
         "Grade 8 Male": "nan",
         "Grade 8 Female": "nan",
         "Grade 9 Male": "nan",
         "Grade 9 Female": "nan",
         "Grade 10 Male": "nan",
         "Grade 10 Female": "nan",
         "Grade 11 Male": "nan",
         "Grade 11 Female": "nan",
         "Grade 12 Male": "nan",
         "Grade 12 Female": "nan",
         " school.mooe ": 440000,
         "School ID_y": 102252,
         "rooms.standard.academic": 24,
         "rooms.standard.unused": 0,
         "rooms.nonstandard.academic": 0,
         "rooms.nonstandard.unused": 0,
         "_deepnote_index_column": 7
        }
       ],
       "rows_bottom": [
        {
         "school.id": 305451,
         "school.name": "Tugatog NHS",
         "school.region": "NCR",
         "school.region.name": "National Capital Region",
         "school.province": "NCR THIRD DISTRICT",
         "school.cityhall": "CITY OF MALABON",
         "school.division": "Malabon City",
         "school.citymuni": "CITY OF MALABON",
         "school.district": "Malabon District V",
         "school.legdistrict": "Lone District",
         "school.type": "School with no Annexes",
         "school.abbrev": "TNHS",
         "school.previousname": "-",
         "school.mother.id": 305451,
         "school.address": "Dr. Lascano",
         "school.established": "1/1/1969",
         "school.classification": "Secondary",
         "school.classification2": "DepED Managed",
         "school.curricularclass": "Secondary",
         "school.organization": "Monograde",
         "school.cityincome": "P 400 M or more",
         "school.cityclass": "Highly Urbanized City",
         "school.urban": "Urban",
         "School ID_x": 305451,
         "Kinder Male": "nan",
         "Kinder Female": "nan",
         "Grade 1 Male": "nan",
         "Grade 1 Female": "nan",
         "Grade 2 Male": "nan",
         "Grade 2 Female": "nan",
         "Grade 3 Male": "nan",
         "Grade 3 Female": "nan",
         "Grade 4 Male": "nan",
         "Grade 4 Female": "nan",
         "Grade 5 Male": "nan",
         "Grade 5 Female": "nan",
         "Grade 6 Male": "nan",
         "Grade 6 Female": "nan",
         "SPED NG Male": 0,
         "SPED NG Female": 0,
         "Grade 7 Male": 382,
         "Grade 7 Female": 292,
         "Grade 8 Male": 310,
         "Grade 8 Female": 350,
         "Grade 9 Male": 316,
         "Grade 9 Female": 326,
         "Grade 10 Male": 329,
         "Grade 10 Female": 317,
         "Grade 11 Male": 0,
         "Grade 11 Female": 0,
         "Grade 12 Male": 0,
         "Grade 12 Female": 0,
         " school.mooe ": 2236000,
         "School ID_y": 305451,
         "rooms.standard.academic": 23,
         "rooms.standard.unused": 0,
         "rooms.nonstandard.academic": 0,
         "rooms.nonstandard.unused": 0,
         "_deepnote_index_column": 46594
        },
        {
         "school.id": 320605,
         "school.name": "Upper Bicutan National High School",
         "school.region": "NCR",
         "school.region.name": "National Capital Region",
         "school.province": "NCR FOURTH DISTRICT",
         "school.cityhall": "TAGUIG CITY",
         "school.division": "Taguig",
         "school.citymuni": "TAGUIG CITY",
         "school.district": "Taguig District II",
         "school.legdistrict": "2nd District",
         "school.type": "School with no Annexes",
         "school.abbrev": "UBNHS",
         "school.previousname": "-",
         "school.mother.id": 320605,
         "school.address": "General Santos Avenue",
         "school.established": "1/1/2005",
         "school.classification": "Secondary",
         "school.classification2": "DepED Managed",
         "school.curricularclass": "Secondary",
         "school.organization": "Monograde",
         "school.cityincome": "P 400 M or more",
         "school.cityclass": "Highly Urbanized City",
         "school.urban": "Urban",
         "School ID_x": 320605,
         "Kinder Male": "nan",
         "Kinder Female": "nan",
         "Grade 1 Male": "nan",
         "Grade 1 Female": "nan",
         "Grade 2 Male": "nan",
         "Grade 2 Female": "nan",
         "Grade 3 Male": "nan",
         "Grade 3 Female": "nan",
         "Grade 4 Male": "nan",
         "Grade 4 Female": "nan",
         "Grade 5 Male": "nan",
         "Grade 5 Female": "nan",
         "Grade 6 Male": "nan",
         "Grade 6 Female": "nan",
         "SPED NG Male": 0,
         "SPED NG Female": 0,
         "Grade 7 Male": 695,
         "Grade 7 Female": 595,
         "Grade 8 Male": 536,
         "Grade 8 Female": 548,
         "Grade 9 Male": 548,
         "Grade 9 Female": 543,
         "Grade 10 Male": 511,
         "Grade 10 Female": 473,
         "Grade 11 Male": 0,
         "Grade 11 Female": 0,
         "Grade 12 Male": 0,
         "Grade 12 Female": 0,
         " school.mooe ": 3355000,
         "School ID_y": 320605,
         "rooms.standard.academic": 27,
         "rooms.standard.unused": 0,
         "rooms.nonstandard.academic": 2,
         "rooms.nonstandard.unused": 0,
         "_deepnote_index_column": 46595
        },
        {
         "school.id": 320401,
         "school.name": "Valenzuela City Science HS",
         "school.region": "NCR",
         "school.region.name": "National Capital Region",
         "school.province": "NCR THIRD DISTRICT",
         "school.cityhall": "CITY OF VALENZUELA",
         "school.division": "Valenzuela City",
         "school.citymuni": "CITY OF VALENZUELA",
         "school.district": "Valenzuela City Central District",
         "school.legdistrict": "1st District",
         "school.type": "School with no Annexes",
         "school.abbrev": "nan",
         "school.previousname": "-",
         "school.mother.id": 320401,
         "school.address": "A. Marcelo",
         "school.established": "1/1/2003",
         "school.classification": "Secondary",
         "school.classification2": "DepED Managed",
         "school.curricularclass": "Secondary",
         "school.organization": "Monograde",
         "school.cityincome": "P 400 M or more",
         "school.cityclass": "Highly Urbanized City",
         "school.urban": "Urban",
         "School ID_x": 320401,
         "Kinder Male": "nan",
         "Kinder Female": "nan",
         "Grade 1 Male": "nan",
         "Grade 1 Female": "nan",
         "Grade 2 Male": "nan",
         "Grade 2 Female": "nan",
         "Grade 3 Male": "nan",
         "Grade 3 Female": "nan",
         "Grade 4 Male": "nan",
         "Grade 4 Female": "nan",
         "Grade 5 Male": "nan",
         "Grade 5 Female": "nan",
         "Grade 6 Male": "nan",
         "Grade 6 Female": "nan",
         "SPED NG Male": 0,
         "SPED NG Female": 0,
         "Grade 7 Male": 102,
         "Grade 7 Female": 180,
         "Grade 8 Male": 93,
         "Grade 8 Female": 142,
         "Grade 9 Male": 69,
         "Grade 9 Female": 79,
         "Grade 10 Male": 52,
         "Grade 10 Female": 52,
         "Grade 11 Male": 0,
         "Grade 11 Female": 0,
         "Grade 12 Male": 0,
         "Grade 12 Female": 0,
         " school.mooe ": 621000,
         "School ID_y": 320401,
         "rooms.standard.academic": 12,
         "rooms.standard.unused": 0,
         "rooms.nonstandard.academic": 0,
         "rooms.nonstandard.unused": 0,
         "_deepnote_index_column": 46596
        },
        {
         "school.id": 305441,
         "school.name": "Valenzuela NHS",
         "school.region": "NCR",
         "school.region.name": "National Capital Region",
         "school.province": "NCR THIRD DISTRICT",
         "school.cityhall": "CITY OF VALENZUELA",
         "school.division": "Valenzuela City",
         "school.citymuni": "CITY OF VALENZUELA",
         "school.district": "Valenzuela City Central District",
         "school.legdistrict": "2nd District",
         "school.type": "School with no Annexes",
         "school.abbrev": "nan",
         "school.previousname": "-",
         "school.mother.id": 305441,
         "school.address": "A. FERNANDO ST., MARULAS,",
         "school.established": "1/1/1969",
         "school.classification": "Secondary",
         "school.classification2": "DepED Managed",
         "school.curricularclass": "Secondary",
         "school.organization": "Monograde",
         "school.cityincome": "P 400 M or more",
         "school.cityclass": "Highly Urbanized City",
         "school.urban": "Urban",
         "School ID_x": 305441,
         "Kinder Male": "nan",
         "Kinder Female": "nan",
         "Grade 1 Male": "nan",
         "Grade 1 Female": "nan",
         "Grade 2 Male": "nan",
         "Grade 2 Female": "nan",
         "Grade 3 Male": "nan",
         "Grade 3 Female": "nan",
         "Grade 4 Male": "nan",
         "Grade 4 Female": "nan",
         "Grade 5 Male": "nan",
         "Grade 5 Female": "nan",
         "Grade 6 Male": "nan",
         "Grade 6 Female": "nan",
         "SPED NG Male": 9,
         "SPED NG Female": 7,
         "Grade 7 Male": 461,
         "Grade 7 Female": 405,
         "Grade 8 Male": 424,
         "Grade 8 Female": 391,
         "Grade 9 Male": 423,
         "Grade 9 Female": 395,
         "Grade 10 Male": 363,
         "Grade 10 Female": 356,
         "Grade 11 Male": 0,
         "Grade 11 Female": 0,
         "Grade 12 Male": 0,
         "Grade 12 Female": 0,
         " school.mooe ": 2924000,
         "School ID_y": 305441,
         "rooms.standard.academic": 33,
         "rooms.standard.unused": 0,
         "rooms.nonstandard.academic": 0,
         "rooms.nonstandard.unused": 0,
         "_deepnote_index_column": 46597
        },
        {
         "school.id": 305308,
         "school.name": "Valeriano E. Fugoso Memorial High School",
         "school.region": "NCR",
         "school.region.name": "National Capital Region",
         "school.province": "MANILA, NCR, FIRST DISTRICT",
         "school.cityhall": "MANILA, NCR, FIRST DISTRICT",
         "school.division": "Manila",
         "school.citymuni": "SAMPALOC",
         "school.district": "Sampaloc V",
         "school.legdistrict": "4th District",
         "school.type": "School with no Annexes",
         "school.abbrev": "Fugoso HS",
         "school.previousname": "-",
         "school.mother.id": 305308,
         "school.address": "Boys Town Complex, Parang, Marikina City",
         "school.established": "1/1/1947",
         "school.classification": "Secondary",
         "school.classification2": "DepED Managed",
         "school.curricularclass": "Secondary",
         "school.organization": "Monograde",
         "school.cityincome": "nan",
         "school.cityclass": "Highly Urbanized City",
         "school.urban": "Urban",
         "School ID_x": 305308,
         "Kinder Male": "nan",
         "Kinder Female": "nan",
         "Grade 1 Male": "nan",
         "Grade 1 Female": "nan",
         "Grade 2 Male": "nan",
         "Grade 2 Female": "nan",
         "Grade 3 Male": "nan",
         "Grade 3 Female": "nan",
         "Grade 4 Male": "nan",
         "Grade 4 Female": "nan",
         "Grade 5 Male": "nan",
         "Grade 5 Female": "nan",
         "Grade 6 Male": "nan",
         "Grade 6 Female": "nan",
         "SPED NG Male": 0,
         "SPED NG Female": 0,
         "Grade 7 Male": 92,
         "Grade 7 Female": 132,
         "Grade 8 Male": 85,
         "Grade 8 Female": 106,
         "Grade 9 Male": 76,
         "Grade 9 Female": 112,
         "Grade 10 Male": 58,
         "Grade 10 Female": 83,
         "Grade 11 Male": 0,
         "Grade 11 Female": 0,
         "Grade 12 Male": 0,
         "Grade 12 Female": 0,
         " school.mooe ": 986000,
         "School ID_y": 305308,
         "rooms.standard.academic": 17,
         "rooms.standard.unused": 0,
         "rooms.nonstandard.academic": 0,
         "rooms.nonstandard.unused": 0,
         "_deepnote_index_column": 46598
        },
        {
         "school.id": 320402,
         "school.name": "Vicente Trinidad NHS (Punturin NHS)",
         "school.region": "NCR",
         "school.region.name": "National Capital Region",
         "school.province": "NCR THIRD DISTRICT",
         "school.cityhall": "CITY OF VALENZUELA",
         "school.division": "Valenzuela City",
         "school.citymuni": "CITY OF VALENZUELA",
         "school.district": "Valenzuela City Central District",
         "school.legdistrict": "1st District",
         "school.type": "School with no Annexes",
         "school.abbrev": "VPTNHS",
         "school.previousname": "Punturin National High School",
         "school.mother.id": 320402,
         "school.address": "Ruby st., Sta. Lucia Village Phase V",
         "school.established": "1/1/2003",
         "school.classification": "Secondary",
         "school.classification2": "DepED Managed",
         "school.curricularclass": "Secondary",
         "school.organization": "Monograde",
         "school.cityincome": "P 400 M or more",
         "school.cityclass": "Highly Urbanized City",
         "school.urban": "Urban",
         "School ID_x": 320402,
         "Kinder Male": "nan",
         "Kinder Female": "nan",
         "Grade 1 Male": "nan",
         "Grade 1 Female": "nan",
         "Grade 2 Male": "nan",
         "Grade 2 Female": "nan",
         "Grade 3 Male": "nan",
         "Grade 3 Female": "nan",
         "Grade 4 Male": "nan",
         "Grade 4 Female": "nan",
         "Grade 5 Male": "nan",
         "Grade 5 Female": "nan",
         "Grade 6 Male": "nan",
         "Grade 6 Female": "nan",
         "SPED NG Male": 0,
         "SPED NG Female": 0,
         "Grade 7 Male": 267,
         "Grade 7 Female": 270,
         "Grade 8 Male": 296,
         "Grade 8 Female": 275,
         "Grade 9 Male": 265,
         "Grade 9 Female": 267,
         "Grade 10 Male": 239,
         "Grade 10 Female": 234,
         "Grade 11 Male": 0,
         "Grade 11 Female": 0,
         "Grade 12 Male": 0,
         "Grade 12 Female": 0,
         " school.mooe ": 1798000,
         "School ID_y": 320402,
         "rooms.standard.academic": 23,
         "rooms.standard.unused": 0,
         "rooms.nonstandard.academic": 0,
         "rooms.nonstandard.unused": 0,
         "_deepnote_index_column": 46599
        },
        {
         "school.id": 305315,
         "school.name": "Victoriano Mapa High School",
         "school.region": "NCR",
         "school.region.name": "National Capital Region",
         "school.province": "MANILA, NCR, FIRST DISTRICT",
         "school.cityhall": "MANILA, NCR, FIRST DISTRICT",
         "school.division": "Manila",
         "school.citymuni": "SAN MIGUEL",
         "school.district": "Sta. Cruz V",
         "school.legdistrict": "6th District",
         "school.type": "School with no Annexes",
         "school.abbrev": "VMHS",
         "school.previousname": "MANILA EAST HS",
         "school.mother.id": 305315,
         "school.address": "300 San Rafael St., San Miguel,",
         "school.established": "1/1/1923",
         "school.classification": "Secondary",
         "school.classification2": "DepED Managed",
         "school.curricularclass": "Secondary",
         "school.organization": "Monograde",
         "school.cityincome": "nan",
         "school.cityclass": "Highly Urbanized City",
         "school.urban": "Urban",
         "School ID_x": 305315,
         "Kinder Male": "nan",
         "Kinder Female": "nan",
         "Grade 1 Male": "nan",
         "Grade 1 Female": "nan",
         "Grade 2 Male": "nan",
         "Grade 2 Female": "nan",
         "Grade 3 Male": "nan",
         "Grade 3 Female": "nan",
         "Grade 4 Male": "nan",
         "Grade 4 Female": "nan",
         "Grade 5 Male": "nan",
         "Grade 5 Female": "nan",
         "Grade 6 Male": "nan",
         "Grade 6 Female": "nan",
         "SPED NG Male": 0,
         "SPED NG Female": 0,
         "Grade 7 Male": 516,
         "Grade 7 Female": 549,
         "Grade 8 Male": 472,
         "Grade 8 Female": 532,
         "Grade 9 Male": 412,
         "Grade 9 Female": 457,
         "Grade 10 Male": 401,
         "Grade 10 Female": 441,
         "Grade 11 Male": 0,
         "Grade 11 Female": 0,
         "Grade 12 Male": 0,
         "Grade 12 Female": 0,
         " school.mooe ": 3971000,
         "School ID_y": 305315,
         "rooms.standard.academic": 39,
         "rooms.standard.unused": 0,
         "rooms.nonstandard.academic": 0,
         "rooms.nonstandard.unused": 0,
         "_deepnote_index_column": 46600
        },
        {
         "school.id": 320407,
         "school.name": "Wawangpulo National High School",
         "school.region": "NCR",
         "school.region.name": "National Capital Region",
         "school.province": "NCR THIRD DISTRICT",
         "school.cityhall": "CITY OF VALENZUELA",
         "school.division": "Valenzuela City",
         "school.citymuni": "CITY OF VALENZUELA",
         "school.district": "Valenzuela City North District",
         "school.legdistrict": "1st District",
         "school.type": "School with no Annexes",
         "school.abbrev": "nan",
         "school.previousname": "Valenzuela NHS-Wawang Pulo Annex",
         "school.mother.id": 320407,
         "school.address": "F. Andaya St.",
         "school.established": "1/1/2008",
         "school.classification": "Secondary",
         "school.classification2": "DepED Managed",
         "school.curricularclass": "Secondary",
         "school.organization": "Monograde",
         "school.cityincome": "P 400 M or more",
         "school.cityclass": "Highly Urbanized City",
         "school.urban": "Urban",
         "School ID_x": 320407,
         "Kinder Male": "nan",
         "Kinder Female": "nan",
         "Grade 1 Male": "nan",
         "Grade 1 Female": "nan",
         "Grade 2 Male": "nan",
         "Grade 2 Female": "nan",
         "Grade 3 Male": "nan",
         "Grade 3 Female": "nan",
         "Grade 4 Male": "nan",
         "Grade 4 Female": "nan",
         "Grade 5 Male": "nan",
         "Grade 5 Female": "nan",
         "Grade 6 Male": "nan",
         "Grade 6 Female": "nan",
         "SPED NG Male": 0,
         "SPED NG Female": 0,
         "Grade 7 Male": 98,
         "Grade 7 Female": 76,
         "Grade 8 Male": 106,
         "Grade 8 Female": 54,
         "Grade 9 Male": 80,
         "Grade 9 Female": 58,
         "Grade 10 Male": 55,
         "Grade 10 Female": 44,
         "Grade 11 Male": 0,
         "Grade 11 Female": 0,
         "Grade 12 Male": 0,
         "Grade 12 Female": 0,
         " school.mooe ": 539000,
         "School ID_y": 320407,
         "rooms.standard.academic": 11,
         "rooms.standard.unused": 0,
         "rooms.nonstandard.academic": 0,
         "rooms.nonstandard.unused": 0,
         "_deepnote_index_column": 46601
        },
        {
         "school.id": 305465,
         "school.name": "Western Bicutan NHS",
         "school.region": "NCR",
         "school.region.name": "National Capital Region",
         "school.province": "NCR FOURTH DISTRICT",
         "school.cityhall": "TAGUIG CITY",
         "school.division": "Taguig",
         "school.citymuni": "TAGUIG CITY",
         "school.district": "Taguig District III",
         "school.legdistrict": "2nd District",
         "school.type": "School with no Annexes",
         "school.abbrev": "WBNHS",
         "school.previousname": "N/.A",
         "school.mother.id": 305465,
         "school.address": "EPVillage,Phase 1,Pinagsama,Taguig City",
         "school.established": "1/1/1997",
         "school.classification": "Secondary",
         "school.classification2": "DepED Managed",
         "school.curricularclass": "Secondary",
         "school.organization": "Monograde",
         "school.cityincome": "P 400 M or more",
         "school.cityclass": "Highly Urbanized City",
         "school.urban": "Urban",
         "School ID_x": 305465,
         "Kinder Male": "nan",
         "Kinder Female": "nan",
         "Grade 1 Male": "nan",
         "Grade 1 Female": "nan",
         "Grade 2 Male": "nan",
         "Grade 2 Female": "nan",
         "Grade 3 Male": "nan",
         "Grade 3 Female": "nan",
         "Grade 4 Male": "nan",
         "Grade 4 Female": "nan",
         "Grade 5 Male": "nan",
         "Grade 5 Female": "nan",
         "Grade 6 Male": "nan",
         "Grade 6 Female": "nan",
         "SPED NG Male": 0,
         "SPED NG Female": 0,
         "Grade 7 Male": 635,
         "Grade 7 Female": 627,
         "Grade 8 Male": 623,
         "Grade 8 Female": 634,
         "Grade 9 Male": 543,
         "Grade 9 Female": 546,
         "Grade 10 Male": 504,
         "Grade 10 Female": 501,
         "Grade 11 Male": 0,
         "Grade 11 Female": 0,
         "Grade 12 Male": 0,
         "Grade 12 Female": 0,
         " school.mooe ": 3595000,
         "School ID_y": 305465,
         "rooms.standard.academic": 44,
         "rooms.standard.unused": 0,
         "rooms.nonstandard.academic": 0,
         "rooms.nonstandard.unused": 0,
         "_deepnote_index_column": 46602
        }
       ]
      },
      "text/plain": "       school.id                               school.name school.region  \\\n0         101746                           A. Diaz, Sr. ES      Region I   \n1         102193             A. P. Santos ES (SPED Center)      Region I   \n2         101283                           A.P. Guevara IS      Region I   \n3         100216                                Ab-Abut ES      Region I   \n4         100043                                  Abaca ES      Region I   \n...          ...                                       ...           ...   \n46598     305308  Valeriano E. Fugoso Memorial High School           NCR   \n46599     320402       Vicente Trinidad NHS (Punturin NHS)           NCR   \n46600     305315               Victoriano Mapa High School           NCR   \n46601     320407           Wawangpulo National High School           NCR   \n46602     305465                       Western Bicutan NHS           NCR   \n\n            school.region.name              school.province  \\\n0                Ilocos Region                   PANGASINAN   \n1                Ilocos Region                 ILOCOS NORTE   \n2                Ilocos Region                   PANGASINAN   \n3                Ilocos Region                 ILOCOS NORTE   \n4                Ilocos Region                 ILOCOS NORTE   \n...                        ...                          ...   \n46598  National Capital Region  MANILA, NCR, FIRST DISTRICT   \n46599  National Capital Region           NCR THIRD DISTRICT   \n46600  National Capital Region  MANILA, NCR, FIRST DISTRICT   \n46601  National Capital Region           NCR THIRD DISTRICT   \n46602  National Capital Region          NCR FOURTH DISTRICT   \n\n                   school.cityhall           school.division  \\\n0                       PANGASINAN  Pangasinan II, Binalonan   \n1                     ILOCOS NORTE                Laoag City   \n2                       PANGASINAN    Pangasinan I, Lingayen   \n3                     ILOCOS NORTE              Ilocos Norte   \n4                     ILOCOS NORTE              Ilocos Norte   \n...                            ...                       ...   \n46598  MANILA, NCR, FIRST DISTRICT                    Manila   \n46599           CITY OF VALENZUELA           Valenzuela City   \n46600  MANILA, NCR, FIRST DISTRICT                    Manila   \n46601           CITY OF VALENZUELA           Valenzuela City   \n46602                  TAGUIG CITY                    Taguig   \n\n            school.citymuni                   school.district  \\\n0                  BAUTISTA                          Bautista   \n1      LAOAG CITY (Capital)            Laoag City District II   \n2                 BAYAMBANG                      Bayambang II   \n3                    PIDDIG                            Piddig   \n4                    BANGUI                            Bangui   \n...                     ...                               ...   \n46598              SAMPALOC                        Sampaloc V   \n46599    CITY OF VALENZUELA  Valenzuela City Central District   \n46600            SAN MIGUEL                       Sta. Cruz V   \n46601    CITY OF VALENZUELA    Valenzuela City North District   \n46602           TAGUIG CITY               Taguig District III   \n\n      school.legdistrict  ... Grade 11 Male Grade 11 Female Grade 12 Male  \\\n0           5th District  ...           NaN             NaN           NaN   \n1           1st District  ...           NaN             NaN           NaN   \n2           3rd District  ...           NaN             NaN           NaN   \n3           1st District  ...           NaN             NaN           NaN   \n4           1st District  ...           NaN             NaN           NaN   \n...                  ...  ...           ...             ...           ...   \n46598       4th District  ...           0.0             0.0           0.0   \n46599       1st District  ...           0.0             0.0           0.0   \n46600       6th District  ...           0.0             0.0           0.0   \n46601       1st District  ...           0.0             0.0           0.0   \n46602       2nd District  ...           0.0             0.0           0.0   \n\n       Grade 12 Female  school.mooe  School ID_y rooms.standard.academic  \\\n0                  NaN      341000.0    101746.0                    15.0   \n1                  NaN      275000.0    102193.0                    13.0   \n2                  NaN      132000.0    101283.0                     7.0   \n3                  NaN      135000.0    100216.0                     6.0   \n4                  NaN      182000.0    100043.0                     9.0   \n...                ...           ...         ...                     ...   \n46598              0.0      986000.0    305308.0                    17.0   \n46599              0.0     1798000.0    320402.0                    23.0   \n46600              0.0     3971000.0    305315.0                    39.0   \n46601              0.0      539000.0    320407.0                    11.0   \n46602              0.0     3595000.0    305465.0                    44.0   \n\n      rooms.standard.unused rooms.nonstandard.academic  \\\n0                       0.0                        0.0   \n1                       3.0                        0.0   \n2                       0.0                        0.0   \n3                       0.0                        0.0   \n4                       0.0                        0.0   \n...                     ...                        ...   \n46598                   0.0                        0.0   \n46599                   0.0                        0.0   \n46600                   0.0                        0.0   \n46601                   0.0                        0.0   \n46602                   0.0                        0.0   \n\n      rooms.nonstandard.unused  \n0                          0.0  \n1                          0.0  \n2                          0.0  \n3                          0.0  \n4                          0.0  \n...                        ...  \n46598                      0.0  \n46599                      0.0  \n46600                      0.0  \n46601                      0.0  \n46602                      0.0  \n\n[46603 rows x 58 columns]",
      "text/html": "<div>\n<style scoped>\n    .dataframe tbody tr th:only-of-type {\n        vertical-align: middle;\n    }\n\n    .dataframe tbody tr th {\n        vertical-align: top;\n    }\n\n    .dataframe thead th {\n        text-align: right;\n    }\n</style>\n<table border=\"1\" class=\"dataframe\">\n  <thead>\n    <tr style=\"text-align: right;\">\n      <th></th>\n      <th>school.id</th>\n      <th>school.name</th>\n      <th>school.region</th>\n      <th>school.region.name</th>\n      <th>school.province</th>\n      <th>school.cityhall</th>\n      <th>school.division</th>\n      <th>school.citymuni</th>\n      <th>school.district</th>\n      <th>school.legdistrict</th>\n      <th>...</th>\n      <th>Grade 11 Male</th>\n      <th>Grade 11 Female</th>\n      <th>Grade 12 Male</th>\n      <th>Grade 12 Female</th>\n      <th>school.mooe</th>\n      <th>School ID_y</th>\n      <th>rooms.standard.academic</th>\n      <th>rooms.standard.unused</th>\n      <th>rooms.nonstandard.academic</th>\n      <th>rooms.nonstandard.unused</th>\n    </tr>\n  </thead>\n  <tbody>\n    <tr>\n      <th>0</th>\n      <td>101746</td>\n      <td>A. Diaz, Sr. ES</td>\n      <td>Region I</td>\n      <td>Ilocos Region</td>\n      <td>PANGASINAN</td>\n      <td>PANGASINAN</td>\n      <td>Pangasinan II, Binalonan</td>\n      <td>BAUTISTA</td>\n      <td>Bautista</td>\n      <td>5th District</td>\n      <td>...</td>\n      <td>NaN</td>\n      <td>NaN</td>\n      <td>NaN</td>\n      <td>NaN</td>\n      <td>341000.0</td>\n      <td>101746.0</td>\n      <td>15.0</td>\n      <td>0.0</td>\n      <td>0.0</td>\n      <td>0.0</td>\n    </tr>\n    <tr>\n      <th>1</th>\n      <td>102193</td>\n      <td>A. P. Santos ES (SPED Center)</td>\n      <td>Region I</td>\n      <td>Ilocos Region</td>\n      <td>ILOCOS NORTE</td>\n      <td>ILOCOS NORTE</td>\n      <td>Laoag City</td>\n      <td>LAOAG CITY (Capital)</td>\n      <td>Laoag City District II</td>\n      <td>1st District</td>\n      <td>...</td>\n      <td>NaN</td>\n      <td>NaN</td>\n      <td>NaN</td>\n      <td>NaN</td>\n      <td>275000.0</td>\n      <td>102193.0</td>\n      <td>13.0</td>\n      <td>3.0</td>\n      <td>0.0</td>\n      <td>0.0</td>\n    </tr>\n    <tr>\n      <th>2</th>\n      <td>101283</td>\n      <td>A.P. Guevara IS</td>\n      <td>Region I</td>\n      <td>Ilocos Region</td>\n      <td>PANGASINAN</td>\n      <td>PANGASINAN</td>\n      <td>Pangasinan I, Lingayen</td>\n      <td>BAYAMBANG</td>\n      <td>Bayambang II</td>\n      <td>3rd District</td>\n      <td>...</td>\n      <td>NaN</td>\n      <td>NaN</td>\n      <td>NaN</td>\n      <td>NaN</td>\n      <td>132000.0</td>\n      <td>101283.0</td>\n      <td>7.0</td>\n      <td>0.0</td>\n      <td>0.0</td>\n      <td>0.0</td>\n    </tr>\n    <tr>\n      <th>3</th>\n      <td>100216</td>\n      <td>Ab-Abut ES</td>\n      <td>Region I</td>\n      <td>Ilocos Region</td>\n      <td>ILOCOS NORTE</td>\n      <td>ILOCOS NORTE</td>\n      <td>Ilocos Norte</td>\n      <td>PIDDIG</td>\n      <td>Piddig</td>\n      <td>1st District</td>\n      <td>...</td>\n      <td>NaN</td>\n      <td>NaN</td>\n      <td>NaN</td>\n      <td>NaN</td>\n      <td>135000.0</td>\n      <td>100216.0</td>\n      <td>6.0</td>\n      <td>0.0</td>\n      <td>0.0</td>\n      <td>0.0</td>\n    </tr>\n    <tr>\n      <th>4</th>\n      <td>100043</td>\n      <td>Abaca ES</td>\n      <td>Region I</td>\n      <td>Ilocos Region</td>\n      <td>ILOCOS NORTE</td>\n      <td>ILOCOS NORTE</td>\n      <td>Ilocos Norte</td>\n      <td>BANGUI</td>\n      <td>Bangui</td>\n      <td>1st District</td>\n      <td>...</td>\n      <td>NaN</td>\n      <td>NaN</td>\n      <td>NaN</td>\n      <td>NaN</td>\n      <td>182000.0</td>\n      <td>100043.0</td>\n      <td>9.0</td>\n      <td>0.0</td>\n      <td>0.0</td>\n      <td>0.0</td>\n    </tr>\n    <tr>\n      <th>...</th>\n      <td>...</td>\n      <td>...</td>\n      <td>...</td>\n      <td>...</td>\n      <td>...</td>\n      <td>...</td>\n      <td>...</td>\n      <td>...</td>\n      <td>...</td>\n      <td>...</td>\n      <td>...</td>\n      <td>...</td>\n      <td>...</td>\n      <td>...</td>\n      <td>...</td>\n      <td>...</td>\n      <td>...</td>\n      <td>...</td>\n      <td>...</td>\n      <td>...</td>\n      <td>...</td>\n    </tr>\n    <tr>\n      <th>46598</th>\n      <td>305308</td>\n      <td>Valeriano E. Fugoso Memorial High School</td>\n      <td>NCR</td>\n      <td>National Capital Region</td>\n      <td>MANILA, NCR, FIRST DISTRICT</td>\n      <td>MANILA, NCR, FIRST DISTRICT</td>\n      <td>Manila</td>\n      <td>SAMPALOC</td>\n      <td>Sampaloc V</td>\n      <td>4th District</td>\n      <td>...</td>\n      <td>0.0</td>\n      <td>0.0</td>\n      <td>0.0</td>\n      <td>0.0</td>\n      <td>986000.0</td>\n      <td>305308.0</td>\n      <td>17.0</td>\n      <td>0.0</td>\n      <td>0.0</td>\n      <td>0.0</td>\n    </tr>\n    <tr>\n      <th>46599</th>\n      <td>320402</td>\n      <td>Vicente Trinidad NHS (Punturin NHS)</td>\n      <td>NCR</td>\n      <td>National Capital Region</td>\n      <td>NCR THIRD DISTRICT</td>\n      <td>CITY OF VALENZUELA</td>\n      <td>Valenzuela City</td>\n      <td>CITY OF VALENZUELA</td>\n      <td>Valenzuela City Central District</td>\n      <td>1st District</td>\n      <td>...</td>\n      <td>0.0</td>\n      <td>0.0</td>\n      <td>0.0</td>\n      <td>0.0</td>\n      <td>1798000.0</td>\n      <td>320402.0</td>\n      <td>23.0</td>\n      <td>0.0</td>\n      <td>0.0</td>\n      <td>0.0</td>\n    </tr>\n    <tr>\n      <th>46600</th>\n      <td>305315</td>\n      <td>Victoriano Mapa High School</td>\n      <td>NCR</td>\n      <td>National Capital Region</td>\n      <td>MANILA, NCR, FIRST DISTRICT</td>\n      <td>MANILA, NCR, FIRST DISTRICT</td>\n      <td>Manila</td>\n      <td>SAN MIGUEL</td>\n      <td>Sta. Cruz V</td>\n      <td>6th District</td>\n      <td>...</td>\n      <td>0.0</td>\n      <td>0.0</td>\n      <td>0.0</td>\n      <td>0.0</td>\n      <td>3971000.0</td>\n      <td>305315.0</td>\n      <td>39.0</td>\n      <td>0.0</td>\n      <td>0.0</td>\n      <td>0.0</td>\n    </tr>\n    <tr>\n      <th>46601</th>\n      <td>320407</td>\n      <td>Wawangpulo National High School</td>\n      <td>NCR</td>\n      <td>National Capital Region</td>\n      <td>NCR THIRD DISTRICT</td>\n      <td>CITY OF VALENZUELA</td>\n      <td>Valenzuela City</td>\n      <td>CITY OF VALENZUELA</td>\n      <td>Valenzuela City North District</td>\n      <td>1st District</td>\n      <td>...</td>\n      <td>0.0</td>\n      <td>0.0</td>\n      <td>0.0</td>\n      <td>0.0</td>\n      <td>539000.0</td>\n      <td>320407.0</td>\n      <td>11.0</td>\n      <td>0.0</td>\n      <td>0.0</td>\n      <td>0.0</td>\n    </tr>\n    <tr>\n      <th>46602</th>\n      <td>305465</td>\n      <td>Western Bicutan NHS</td>\n      <td>NCR</td>\n      <td>National Capital Region</td>\n      <td>NCR FOURTH DISTRICT</td>\n      <td>TAGUIG CITY</td>\n      <td>Taguig</td>\n      <td>TAGUIG CITY</td>\n      <td>Taguig District III</td>\n      <td>2nd District</td>\n      <td>...</td>\n      <td>0.0</td>\n      <td>0.0</td>\n      <td>0.0</td>\n      <td>0.0</td>\n      <td>3595000.0</td>\n      <td>305465.0</td>\n      <td>44.0</td>\n      <td>0.0</td>\n      <td>0.0</td>\n      <td>0.0</td>\n    </tr>\n  </tbody>\n</table>\n<p>46603 rows × 58 columns</p>\n</div>"
     },
     "metadata": {}
    }
   ]
  },
  {
   "cell_type": "code",
   "metadata": {
    "cell_id": "00015-8d5018ac-ea20-4b42-9cb4-6ee0033f2f9a",
    "deepnote_to_be_reexecuted": false,
    "source_hash": "fe0242af",
    "execution_start": 1621511446926,
    "execution_millis": 0,
    "deepnote_cell_type": "code"
   },
   "source": "master_df = pd.merge(master_df, teacher, on =\"school.id\", how = \"left\")",
   "execution_count": 20,
   "outputs": []
  },
  {
   "cell_type": "code",
   "metadata": {
    "cell_id": "00016-df73ddd8-0ebc-42cf-8187-9b89e6410a6c",
    "deepnote_to_be_reexecuted": false,
    "source_hash": "98c6b011",
    "execution_start": 1621511446926,
    "execution_millis": 233,
    "deepnote_cell_type": "code"
   },
   "source": "master_df",
   "execution_count": 21,
   "outputs": [
    {
     "output_type": "execute_result",
     "execution_count": 21,
     "data": {
      "application/vnd.deepnote.dataframe.v2+json": {
       "row_count": 46603,
       "column_count": 62,
       "columns": [
        {
         "name": "school.id",
         "dtype": "int64",
         "stats": {
          "unique_count": 46603,
          "nan_count": 0,
          "min": "100001",
          "max": "900279",
          "histogram": [
           {
            "bin_start": 100001,
            "bin_end": 180028.8,
            "count": 37079
           },
           {
            "bin_start": 180028.8,
            "bin_end": 260056.6,
            "count": 1603
           },
           {
            "bin_start": 260056.6,
            "bin_end": 340084.4,
            "count": 7919
           },
           {
            "bin_start": 340084.4,
            "bin_end": 420112.2,
            "count": 1
           },
           {
            "bin_start": 420112.2,
            "bin_end": 500140,
            "count": 0
           },
           {
            "bin_start": 500140,
            "bin_end": 580167.8,
            "count": 0
           },
           {
            "bin_start": 580167.8,
            "bin_end": 660195.6,
            "count": 0
           },
           {
            "bin_start": 660195.6,
            "bin_end": 740223.4,
            "count": 0
           },
           {
            "bin_start": 740223.4,
            "bin_end": 820251.2000000001,
            "count": 0
           },
           {
            "bin_start": 820251.2000000001,
            "bin_end": 900279,
            "count": 1
           }
          ]
         }
        },
        {
         "name": "school.name",
         "dtype": "object",
         "stats": {
          "unique_count": 36901,
          "nan_count": 0,
          "categories": [
           {
            "name": "San Isidro ES",
            "count": 192
           },
           {
            "name": "San Jose ES",
            "count": 155
           },
           {
            "name": "36899 others",
            "count": 46256
           }
          ]
         }
        },
        {
         "name": "school.region",
         "dtype": "object"
        },
        {
         "name": "school.region.name",
         "dtype": "object"
        },
        {
         "name": "school.province",
         "dtype": "object"
        },
        {
         "name": "school.cityhall",
         "dtype": "object"
        },
        {
         "name": "school.division",
         "dtype": "object"
        },
        {
         "name": "school.citymuni",
         "dtype": "object"
        },
        {
         "name": "school.district",
         "dtype": "object"
        },
        {
         "name": "school.legdistrict",
         "dtype": "object"
        },
        {
         "name": "school.type",
         "dtype": "object"
        },
        {
         "name": "school.abbrev",
         "dtype": "object"
        },
        {
         "name": "school.previousname",
         "dtype": "object"
        },
        {
         "name": "school.mother.id",
         "dtype": "float64"
        },
        {
         "name": "school.address",
         "dtype": "object"
        },
        {
         "name": "school.established",
         "dtype": "object"
        },
        {
         "name": "school.classification",
         "dtype": "object"
        },
        {
         "name": "school.classification2",
         "dtype": "object"
        },
        {
         "name": "school.curricularclass",
         "dtype": "object"
        },
        {
         "name": "school.organization",
         "dtype": "object"
        },
        {
         "name": "school.cityincome",
         "dtype": "object"
        },
        {
         "name": "school.cityclass",
         "dtype": "object"
        },
        {
         "name": "school.urban",
         "dtype": "object"
        },
        {
         "name": "School ID_x",
         "dtype": "float64"
        },
        {
         "name": "Kinder Male",
         "dtype": "float64"
        },
        {
         "name": "Kinder Female",
         "dtype": "float64"
        },
        {
         "name": "Grade 1 Male",
         "dtype": "float64"
        },
        {
         "name": "Grade 1 Female",
         "dtype": "float64"
        },
        {
         "name": "Grade 2 Male",
         "dtype": "float64"
        },
        {
         "name": "Grade 2 Female",
         "dtype": "float64"
        },
        {
         "name": "Grade 3 Male",
         "dtype": "float64"
        },
        {
         "name": "Grade 3 Female",
         "dtype": "float64"
        },
        {
         "name": "Grade 4 Male",
         "dtype": "float64"
        },
        {
         "name": "Grade 4 Female",
         "dtype": "float64"
        },
        {
         "name": "Grade 5 Male",
         "dtype": "float64"
        },
        {
         "name": "Grade 5 Female",
         "dtype": "float64"
        },
        {
         "name": "Grade 6 Male",
         "dtype": "float64"
        },
        {
         "name": "Grade 6 Female",
         "dtype": "float64"
        },
        {
         "name": "SPED NG Male",
         "dtype": "float64"
        },
        {
         "name": "SPED NG Female",
         "dtype": "float64"
        },
        {
         "name": "Grade 7 Male",
         "dtype": "float64"
        },
        {
         "name": "Grade 7 Female",
         "dtype": "float64"
        },
        {
         "name": "Grade 8 Male",
         "dtype": "float64"
        },
        {
         "name": "Grade 8 Female",
         "dtype": "float64"
        },
        {
         "name": "Grade 9 Male",
         "dtype": "float64"
        },
        {
         "name": "Grade 9 Female",
         "dtype": "float64"
        },
        {
         "name": "Grade 10 Male",
         "dtype": "float64"
        },
        {
         "name": "Grade 10 Female",
         "dtype": "float64"
        },
        {
         "name": "Grade 11 Male",
         "dtype": "float64"
        },
        {
         "name": "Grade 11 Female",
         "dtype": "float64"
        },
        {
         "name": "Grade 12 Male",
         "dtype": "float64"
        },
        {
         "name": "Grade 12 Female",
         "dtype": "float64"
        },
        {
         "name": " school.mooe ",
         "dtype": "float64"
        },
        {
         "name": "School ID_y",
         "dtype": "float64"
        },
        {
         "name": "rooms.standard.academic",
         "dtype": "float64"
        },
        {
         "name": "rooms.standard.unused",
         "dtype": "float64"
        },
        {
         "name": "rooms.nonstandard.academic",
         "dtype": "float64"
        },
        {
         "name": "rooms.nonstandard.unused",
         "dtype": "float64"
        },
        {
         "name": "teachers.instructor",
         "dtype": "float64"
        },
        {
         "name": "teachers.mobile",
         "dtype": "float64"
        },
        {
         "name": "teachers.regular",
         "dtype": "float64"
        },
        {
         "name": "teachers.sped",
         "dtype": "float64"
        },
        {
         "name": "_deepnote_index_column",
         "dtype": "int64"
        }
       ],
       "rows_top": [
        {
         "school.id": 101746,
         "school.name": "A. Diaz, Sr. ES",
         "school.region": "Region I",
         "school.region.name": "Ilocos Region",
         "school.province": "PANGASINAN",
         "school.cityhall": "PANGASINAN",
         "school.division": "Pangasinan II, Binalonan",
         "school.citymuni": "BAUTISTA",
         "school.district": "Bautista",
         "school.legdistrict": "5th District",
         "school.type": "School with no Annexes",
         "school.abbrev": "ADSES",
         "school.previousname": "none",
         "school.mother.id": 101746,
         "school.address": "Brgy. Dias Bautista, Pang",
         "school.established": "1/1/1930",
         "school.classification": "Elementary",
         "school.classification2": "DepED Managed",
         "school.curricularclass": "Elementary",
         "school.organization": "Monograde",
         "school.cityincome": "P 25 M or more but less than P 35 M",
         "school.cityclass": "nan",
         "school.urban": "Partially Urban",
         "School ID_x": 101746,
         "Kinder Male": 57,
         "Kinder Female": 45,
         "Grade 1 Male": 56,
         "Grade 1 Female": 58,
         "Grade 2 Male": 63,
         "Grade 2 Female": 61,
         "Grade 3 Male": 55,
         "Grade 3 Female": 61,
         "Grade 4 Male": 62,
         "Grade 4 Female": 55,
         "Grade 5 Male": 61,
         "Grade 5 Female": 48,
         "Grade 6 Male": 48,
         "Grade 6 Female": 51,
         "SPED NG Male": 0,
         "SPED NG Female": 0,
         "Grade 7 Male": "nan",
         "Grade 7 Female": "nan",
         "Grade 8 Male": "nan",
         "Grade 8 Female": "nan",
         "Grade 9 Male": "nan",
         "Grade 9 Female": "nan",
         "Grade 10 Male": "nan",
         "Grade 10 Female": "nan",
         "Grade 11 Male": "nan",
         "Grade 11 Female": "nan",
         "Grade 12 Male": "nan",
         "Grade 12 Female": "nan",
         " school.mooe ": 341000,
         "School ID_y": 101746,
         "rooms.standard.academic": 15,
         "rooms.standard.unused": 0,
         "rooms.nonstandard.academic": 0,
         "rooms.nonstandard.unused": 0,
         "teachers.instructor": 0,
         "teachers.mobile": 1,
         "teachers.regular": 20,
         "teachers.sped": 0,
         "_deepnote_index_column": 0
        },
        {
         "school.id": 102193,
         "school.name": "A. P. Santos ES (SPED Center)",
         "school.region": "Region I",
         "school.region.name": "Ilocos Region",
         "school.province": "ILOCOS NORTE",
         "school.cityhall": "ILOCOS NORTE",
         "school.division": "Laoag City",
         "school.citymuni": "LAOAG CITY (Capital)",
         "school.district": "Laoag City District II",
         "school.legdistrict": "1st District",
         "school.type": "School with no Annexes",
         "school.abbrev": "APSES",
         "school.previousname": "-",
         "school.mother.id": 102193,
         "school.address": "A.G. Tupaz",
         "school.established": "1/1/1944",
         "school.classification": "Elementary",
         "school.classification2": "DepED Managed",
         "school.curricularclass": "Kinder & Elementary",
         "school.organization": "Monograde",
         "school.cityincome": "P 240 M or more but less than P 320 M",
         "school.cityclass": "Component City",
         "school.urban": "Partially Urban",
         "School ID_x": 102193,
         "Kinder Male": 20,
         "Kinder Female": 24,
         "Grade 1 Male": 38,
         "Grade 1 Female": 30,
         "Grade 2 Male": 37,
         "Grade 2 Female": 18,
         "Grade 3 Male": 29,
         "Grade 3 Female": 33,
         "Grade 4 Male": 23,
         "Grade 4 Female": 41,
         "Grade 5 Male": 39,
         "Grade 5 Female": 27,
         "Grade 6 Male": 26,
         "Grade 6 Female": 26,
         "SPED NG Male": 32,
         "SPED NG Female": 22,
         "Grade 7 Male": "nan",
         "Grade 7 Female": "nan",
         "Grade 8 Male": "nan",
         "Grade 8 Female": "nan",
         "Grade 9 Male": "nan",
         "Grade 9 Female": "nan",
         "Grade 10 Male": "nan",
         "Grade 10 Female": "nan",
         "Grade 11 Male": "nan",
         "Grade 11 Female": "nan",
         "Grade 12 Male": "nan",
         "Grade 12 Female": "nan",
         " school.mooe ": 275000,
         "School ID_y": 102193,
         "rooms.standard.academic": 13,
         "rooms.standard.unused": 3,
         "rooms.nonstandard.academic": 0,
         "rooms.nonstandard.unused": 0,
         "teachers.instructor": 0,
         "teachers.mobile": 2,
         "teachers.regular": 12,
         "teachers.sped": 4,
         "_deepnote_index_column": 1
        },
        {
         "school.id": 101283,
         "school.name": "A.P. Guevara IS",
         "school.region": "Region I",
         "school.region.name": "Ilocos Region",
         "school.province": "PANGASINAN",
         "school.cityhall": "PANGASINAN",
         "school.division": "Pangasinan I, Lingayen",
         "school.citymuni": "BAYAMBANG",
         "school.district": "Bayambang II",
         "school.legdistrict": "3rd District",
         "school.type": "School with no Annexes",
         "school.abbrev": "nan",
         "school.previousname": "A.P. Guevarra IS",
         "school.mother.id": 101283,
         "school.address": "-",
         "school.established": "1/1/1945",
         "school.classification": "Elementary",
         "school.classification2": "DepED Managed",
         "school.curricularclass": "Elementary",
         "school.organization": "Monograde",
         "school.cityincome": "P 55 M or more",
         "school.cityclass": "nan",
         "school.urban": "Partially Urban",
         "School ID_x": 101283,
         "Kinder Male": 16,
         "Kinder Female": 11,
         "Grade 1 Male": 11,
         "Grade 1 Female": 10,
         "Grade 2 Male": 9,
         "Grade 2 Female": 13,
         "Grade 3 Male": 15,
         "Grade 3 Female": 13,
         "Grade 4 Male": 14,
         "Grade 4 Female": 11,
         "Grade 5 Male": 23,
         "Grade 5 Female": 13,
         "Grade 6 Male": 7,
         "Grade 6 Female": 9,
         "SPED NG Male": 0,
         "SPED NG Female": 0,
         "Grade 7 Male": "nan",
         "Grade 7 Female": "nan",
         "Grade 8 Male": "nan",
         "Grade 8 Female": "nan",
         "Grade 9 Male": "nan",
         "Grade 9 Female": "nan",
         "Grade 10 Male": "nan",
         "Grade 10 Female": "nan",
         "Grade 11 Male": "nan",
         "Grade 11 Female": "nan",
         "Grade 12 Male": "nan",
         "Grade 12 Female": "nan",
         " school.mooe ": 132000,
         "School ID_y": 101283,
         "rooms.standard.academic": 7,
         "rooms.standard.unused": 0,
         "rooms.nonstandard.academic": 0,
         "rooms.nonstandard.unused": 0,
         "teachers.instructor": 0,
         "teachers.mobile": 1,
         "teachers.regular": 6,
         "teachers.sped": 0,
         "_deepnote_index_column": 2
        },
        {
         "school.id": 100216,
         "school.name": "Ab-Abut ES",
         "school.region": "Region I",
         "school.region.name": "Ilocos Region",
         "school.province": "ILOCOS NORTE",
         "school.cityhall": "ILOCOS NORTE",
         "school.division": "Ilocos Norte",
         "school.citymuni": "PIDDIG",
         "school.district": "Piddig",
         "school.legdistrict": "1st District",
         "school.type": "School with no Annexes",
         "school.abbrev": "AES",
         "school.previousname": "-",
         "school.mother.id": 100216,
         "school.address": "Sucsuquen",
         "school.established": "1/1/1964",
         "school.classification": "Elementary",
         "school.classification2": "DepED Managed",
         "school.curricularclass": "Elementary",
         "school.organization": "Monograde",
         "school.cityincome": "P 35 M or more but less than P 45 M",
         "school.cityclass": "nan",
         "school.urban": "Partially Urban",
         "School ID_x": 100216,
         "Kinder Male": 10,
         "Kinder Female": 6,
         "Grade 1 Male": 10,
         "Grade 1 Female": 17,
         "Grade 2 Male": 22,
         "Grade 2 Female": 11,
         "Grade 3 Male": 22,
         "Grade 3 Female": 12,
         "Grade 4 Male": 12,
         "Grade 4 Female": 11,
         "Grade 5 Male": 16,
         "Grade 5 Female": 7,
         "Grade 6 Male": 13,
         "Grade 6 Female": 10,
         "SPED NG Male": 0,
         "SPED NG Female": 0,
         "Grade 7 Male": "nan",
         "Grade 7 Female": "nan",
         "Grade 8 Male": "nan",
         "Grade 8 Female": "nan",
         "Grade 9 Male": "nan",
         "Grade 9 Female": "nan",
         "Grade 10 Male": "nan",
         "Grade 10 Female": "nan",
         "Grade 11 Male": "nan",
         "Grade 11 Female": "nan",
         "Grade 12 Male": "nan",
         "Grade 12 Female": "nan",
         " school.mooe ": 135000,
         "School ID_y": 100216,
         "rooms.standard.academic": 6,
         "rooms.standard.unused": 0,
         "rooms.nonstandard.academic": 0,
         "rooms.nonstandard.unused": 0,
         "teachers.instructor": 0,
         "teachers.mobile": 1,
         "teachers.regular": 6,
         "teachers.sped": 0,
         "_deepnote_index_column": 3
        },
        {
         "school.id": 100043,
         "school.name": "Abaca ES",
         "school.region": "Region I",
         "school.region.name": "Ilocos Region",
         "school.province": "ILOCOS NORTE",
         "school.cityhall": "ILOCOS NORTE",
         "school.division": "Ilocos Norte",
         "school.citymuni": "BANGUI",
         "school.district": "Bangui",
         "school.legdistrict": "1st District",
         "school.type": "School with no Annexes",
         "school.abbrev": "AES",
         "school.previousname": "none",
         "school.mother.id": 100043,
         "school.address": "None",
         "school.established": "1/1/1979",
         "school.classification": "Elementary",
         "school.classification2": "DepED Managed",
         "school.curricularclass": "Elementary",
         "school.organization": "Monograde",
         "school.cityincome": "P 25 M or more but less than P 35 M",
         "school.cityclass": "nan",
         "school.urban": "Partially Urban",
         "School ID_x": 100043,
         "Kinder Male": 12,
         "Kinder Female": 13,
         "Grade 1 Male": 22,
         "Grade 1 Female": 26,
         "Grade 2 Male": 17,
         "Grade 2 Female": 14,
         "Grade 3 Male": 16,
         "Grade 3 Female": 22,
         "Grade 4 Male": 24,
         "Grade 4 Female": 15,
         "Grade 5 Male": 28,
         "Grade 5 Female": 19,
         "Grade 6 Male": 26,
         "Grade 6 Female": 17,
         "SPED NG Male": 0,
         "SPED NG Female": 0,
         "Grade 7 Male": "nan",
         "Grade 7 Female": "nan",
         "Grade 8 Male": "nan",
         "Grade 8 Female": "nan",
         "Grade 9 Male": "nan",
         "Grade 9 Female": "nan",
         "Grade 10 Male": "nan",
         "Grade 10 Female": "nan",
         "Grade 11 Male": "nan",
         "Grade 11 Female": "nan",
         "Grade 12 Male": "nan",
         "Grade 12 Female": "nan",
         " school.mooe ": 182000,
         "School ID_y": 100043,
         "rooms.standard.academic": 9,
         "rooms.standard.unused": 0,
         "rooms.nonstandard.academic": 0,
         "rooms.nonstandard.unused": 0,
         "teachers.instructor": 0,
         "teachers.mobile": 1,
         "teachers.regular": 8,
         "teachers.sped": 0,
         "_deepnote_index_column": 4
        },
        {
         "school.id": 100554,
         "school.name": "Abaccan ES",
         "school.region": "Region I",
         "school.region.name": "Ilocos Region",
         "school.province": "ILOCOS SUR",
         "school.cityhall": "ILOCOS SUR",
         "school.division": "Ilocos Sur",
         "school.citymuni": "SIGAY",
         "school.district": "Salcedo-Galimuyod-Sigay-Del Pilar",
         "school.legdistrict": "2nd District",
         "school.type": "School with no Annexes",
         "school.abbrev": "nan",
         "school.previousname": "-",
         "school.mother.id": 100554,
         "school.address": "-n/a",
         "school.established": "1/1/2000",
         "school.classification": "Elementary",
         "school.classification2": "DepED Managed",
         "school.curricularclass": "Kinder & Elementary",
         "school.organization": "Combined Monograde and Multigrade",
         "school.cityincome": "P 15 M or more but less than P 25 M",
         "school.cityclass": "nan",
         "school.urban": "Rural",
         "School ID_x": 100554,
         "Kinder Male": 1,
         "Kinder Female": 1,
         "Grade 1 Male": 0,
         "Grade 1 Female": 2,
         "Grade 2 Male": 3,
         "Grade 2 Female": 0,
         "Grade 3 Male": 5,
         "Grade 3 Female": 4,
         "Grade 4 Male": 3,
         "Grade 4 Female": 7,
         "Grade 5 Male": 2,
         "Grade 5 Female": 3,
         "Grade 6 Male": 4,
         "Grade 6 Female": 3,
         "SPED NG Male": 0,
         "SPED NG Female": 0,
         "Grade 7 Male": "nan",
         "Grade 7 Female": "nan",
         "Grade 8 Male": "nan",
         "Grade 8 Female": "nan",
         "Grade 9 Male": "nan",
         "Grade 9 Female": "nan",
         "Grade 10 Male": "nan",
         "Grade 10 Female": "nan",
         "Grade 11 Male": "nan",
         "Grade 11 Female": "nan",
         "Grade 12 Male": "nan",
         "Grade 12 Female": "nan",
         " school.mooe ": 92000,
         "School ID_y": 100554,
         "rooms.standard.academic": 5,
         "rooms.standard.unused": 0,
         "rooms.nonstandard.academic": 0,
         "rooms.nonstandard.unused": 0,
         "teachers.instructor": 0,
         "teachers.mobile": 1,
         "teachers.regular": 3,
         "teachers.sped": 0,
         "_deepnote_index_column": 5
        },
        {
         "school.id": 101131,
         "school.name": "Abagatanen IS",
         "school.region": "Region I",
         "school.region.name": "Ilocos Region",
         "school.province": "PANGASINAN",
         "school.cityhall": "PANGASINAN",
         "school.division": "Pangasinan I, Lingayen",
         "school.citymuni": "AGNO",
         "school.district": "Agno",
         "school.legdistrict": "1st District",
         "school.type": "School with no Annexes",
         "school.abbrev": "nan",
         "school.previousname": "Abagatanen ES-",
         "school.mother.id": 101131,
         "school.address": "ABAGATANEN",
         "school.established": "1/1/1955",
         "school.classification": "Elementary",
         "school.classification2": "DepED Managed",
         "school.curricularclass": "Elementary",
         "school.organization": "Monograde",
         "school.cityincome": "P 35 M or more but less than P 45 M",
         "school.cityclass": "nan",
         "school.urban": "Partially Urban",
         "School ID_x": 101131,
         "Kinder Male": 18,
         "Kinder Female": 18,
         "Grade 1 Male": 14,
         "Grade 1 Female": 18,
         "Grade 2 Male": 27,
         "Grade 2 Female": 17,
         "Grade 3 Male": 28,
         "Grade 3 Female": 16,
         "Grade 4 Male": 16,
         "Grade 4 Female": 20,
         "Grade 5 Male": 19,
         "Grade 5 Female": 12,
         "Grade 6 Male": 10,
         "Grade 6 Female": 13,
         "SPED NG Male": 0,
         "SPED NG Female": 0,
         "Grade 7 Male": "nan",
         "Grade 7 Female": "nan",
         "Grade 8 Male": "nan",
         "Grade 8 Female": "nan",
         "Grade 9 Male": "nan",
         "Grade 9 Female": "nan",
         "Grade 10 Male": "nan",
         "Grade 10 Female": "nan",
         "Grade 11 Male": "nan",
         "Grade 11 Female": "nan",
         "Grade 12 Male": "nan",
         "Grade 12 Female": "nan",
         " school.mooe ": 148000,
         "School ID_y": 101131,
         "rooms.standard.academic": 6,
         "rooms.standard.unused": 0,
         "rooms.nonstandard.academic": 0,
         "rooms.nonstandard.unused": 0,
         "teachers.instructor": 0,
         "teachers.mobile": 0,
         "teachers.regular": 6,
         "teachers.sped": 0,
         "_deepnote_index_column": 6
        },
        {
         "school.id": 102252,
         "school.name": "Abanon Central School",
         "school.region": "Region I",
         "school.region.name": "Ilocos Region",
         "school.province": "PANGASINAN",
         "school.cityhall": "PANGASINAN",
         "school.division": "San Carlos City",
         "school.citymuni": "SAN CARLOS CITY",
         "school.district": "San Carlos City District IV",
         "school.legdistrict": "3rd District",
         "school.type": "School with no Annexes",
         "school.abbrev": "Abanon CS",
         "school.previousname": "Abanon Central Elementary School",
         "school.mother.id": 102252,
         "school.address": "-Brgy. Abanon, San Carlos City",
         "school.established": "1/1/2000",
         "school.classification": "Elementary",
         "school.classification2": "DepED Managed",
         "school.curricularclass": "Elementary",
         "school.organization": "Monograde",
         "school.cityincome": "P 240 M or more but less than P 320 M",
         "school.cityclass": "Component City",
         "school.urban": "Partially Urban",
         "School ID_x": 102252,
         "Kinder Male": 53,
         "Kinder Female": 49,
         "Grade 1 Male": 61,
         "Grade 1 Female": 68,
         "Grade 2 Male": 85,
         "Grade 2 Female": 53,
         "Grade 3 Male": 65,
         "Grade 3 Female": 64,
         "Grade 4 Male": 71,
         "Grade 4 Female": 58,
         "Grade 5 Male": 56,
         "Grade 5 Female": 56,
         "Grade 6 Male": 58,
         "Grade 6 Female": 51,
         "SPED NG Male": 5,
         "SPED NG Female": 1,
         "Grade 7 Male": "nan",
         "Grade 7 Female": "nan",
         "Grade 8 Male": "nan",
         "Grade 8 Female": "nan",
         "Grade 9 Male": "nan",
         "Grade 9 Female": "nan",
         "Grade 10 Male": "nan",
         "Grade 10 Female": "nan",
         "Grade 11 Male": "nan",
         "Grade 11 Female": "nan",
         "Grade 12 Male": "nan",
         "Grade 12 Female": "nan",
         " school.mooe ": 440000,
         "School ID_y": 102252,
         "rooms.standard.academic": 24,
         "rooms.standard.unused": 0,
         "rooms.nonstandard.academic": 0,
         "rooms.nonstandard.unused": 0,
         "teachers.instructor": 0,
         "teachers.mobile": 4,
         "teachers.regular": 22,
         "teachers.sped": 1,
         "_deepnote_index_column": 7
        }
       ],
       "rows_bottom": [
        {
         "school.id": 320605,
         "school.name": "Upper Bicutan National High School",
         "school.region": "NCR",
         "school.region.name": "National Capital Region",
         "school.province": "NCR FOURTH DISTRICT",
         "school.cityhall": "TAGUIG CITY",
         "school.division": "Taguig",
         "school.citymuni": "TAGUIG CITY",
         "school.district": "Taguig District II",
         "school.legdistrict": "2nd District",
         "school.type": "School with no Annexes",
         "school.abbrev": "UBNHS",
         "school.previousname": "-",
         "school.mother.id": 320605,
         "school.address": "General Santos Avenue",
         "school.established": "1/1/2005",
         "school.classification": "Secondary",
         "school.classification2": "DepED Managed",
         "school.curricularclass": "Secondary",
         "school.organization": "Monograde",
         "school.cityincome": "P 400 M or more",
         "school.cityclass": "Highly Urbanized City",
         "school.urban": "Urban",
         "School ID_x": 320605,
         "Kinder Male": "nan",
         "Kinder Female": "nan",
         "Grade 1 Male": "nan",
         "Grade 1 Female": "nan",
         "Grade 2 Male": "nan",
         "Grade 2 Female": "nan",
         "Grade 3 Male": "nan",
         "Grade 3 Female": "nan",
         "Grade 4 Male": "nan",
         "Grade 4 Female": "nan",
         "Grade 5 Male": "nan",
         "Grade 5 Female": "nan",
         "Grade 6 Male": "nan",
         "Grade 6 Female": "nan",
         "SPED NG Male": 0,
         "SPED NG Female": 0,
         "Grade 7 Male": 695,
         "Grade 7 Female": 595,
         "Grade 8 Male": 536,
         "Grade 8 Female": 548,
         "Grade 9 Male": 548,
         "Grade 9 Female": 543,
         "Grade 10 Male": 511,
         "Grade 10 Female": 473,
         "Grade 11 Male": 0,
         "Grade 11 Female": 0,
         "Grade 12 Male": 0,
         "Grade 12 Female": 0,
         " school.mooe ": 3355000,
         "School ID_y": 320605,
         "rooms.standard.academic": 27,
         "rooms.standard.unused": 0,
         "rooms.nonstandard.academic": 2,
         "rooms.nonstandard.unused": 0,
         "teachers.instructor": 0,
         "teachers.mobile": 2,
         "teachers.regular": 99,
         "teachers.sped": 0,
         "_deepnote_index_column": 46595
        },
        {
         "school.id": 320401,
         "school.name": "Valenzuela City Science HS",
         "school.region": "NCR",
         "school.region.name": "National Capital Region",
         "school.province": "NCR THIRD DISTRICT",
         "school.cityhall": "CITY OF VALENZUELA",
         "school.division": "Valenzuela City",
         "school.citymuni": "CITY OF VALENZUELA",
         "school.district": "Valenzuela City Central District",
         "school.legdistrict": "1st District",
         "school.type": "School with no Annexes",
         "school.abbrev": "nan",
         "school.previousname": "-",
         "school.mother.id": 320401,
         "school.address": "A. Marcelo",
         "school.established": "1/1/2003",
         "school.classification": "Secondary",
         "school.classification2": "DepED Managed",
         "school.curricularclass": "Secondary",
         "school.organization": "Monograde",
         "school.cityincome": "P 400 M or more",
         "school.cityclass": "Highly Urbanized City",
         "school.urban": "Urban",
         "School ID_x": 320401,
         "Kinder Male": "nan",
         "Kinder Female": "nan",
         "Grade 1 Male": "nan",
         "Grade 1 Female": "nan",
         "Grade 2 Male": "nan",
         "Grade 2 Female": "nan",
         "Grade 3 Male": "nan",
         "Grade 3 Female": "nan",
         "Grade 4 Male": "nan",
         "Grade 4 Female": "nan",
         "Grade 5 Male": "nan",
         "Grade 5 Female": "nan",
         "Grade 6 Male": "nan",
         "Grade 6 Female": "nan",
         "SPED NG Male": 0,
         "SPED NG Female": 0,
         "Grade 7 Male": 102,
         "Grade 7 Female": 180,
         "Grade 8 Male": 93,
         "Grade 8 Female": 142,
         "Grade 9 Male": 69,
         "Grade 9 Female": 79,
         "Grade 10 Male": 52,
         "Grade 10 Female": 52,
         "Grade 11 Male": 0,
         "Grade 11 Female": 0,
         "Grade 12 Male": 0,
         "Grade 12 Female": 0,
         " school.mooe ": 621000,
         "School ID_y": 320401,
         "rooms.standard.academic": 12,
         "rooms.standard.unused": 0,
         "rooms.nonstandard.academic": 0,
         "rooms.nonstandard.unused": 0,
         "teachers.instructor": 0,
         "teachers.mobile": 2,
         "teachers.regular": 16,
         "teachers.sped": 0,
         "_deepnote_index_column": 46596
        },
        {
         "school.id": 305441,
         "school.name": "Valenzuela NHS",
         "school.region": "NCR",
         "school.region.name": "National Capital Region",
         "school.province": "NCR THIRD DISTRICT",
         "school.cityhall": "CITY OF VALENZUELA",
         "school.division": "Valenzuela City",
         "school.citymuni": "CITY OF VALENZUELA",
         "school.district": "Valenzuela City Central District",
         "school.legdistrict": "2nd District",
         "school.type": "School with no Annexes",
         "school.abbrev": "nan",
         "school.previousname": "-",
         "school.mother.id": 305441,
         "school.address": "A. FERNANDO ST., MARULAS,",
         "school.established": "1/1/1969",
         "school.classification": "Secondary",
         "school.classification2": "DepED Managed",
         "school.curricularclass": "Secondary",
         "school.organization": "Monograde",
         "school.cityincome": "P 400 M or more",
         "school.cityclass": "Highly Urbanized City",
         "school.urban": "Urban",
         "School ID_x": 305441,
         "Kinder Male": "nan",
         "Kinder Female": "nan",
         "Grade 1 Male": "nan",
         "Grade 1 Female": "nan",
         "Grade 2 Male": "nan",
         "Grade 2 Female": "nan",
         "Grade 3 Male": "nan",
         "Grade 3 Female": "nan",
         "Grade 4 Male": "nan",
         "Grade 4 Female": "nan",
         "Grade 5 Male": "nan",
         "Grade 5 Female": "nan",
         "Grade 6 Male": "nan",
         "Grade 6 Female": "nan",
         "SPED NG Male": 9,
         "SPED NG Female": 7,
         "Grade 7 Male": 461,
         "Grade 7 Female": 405,
         "Grade 8 Male": 424,
         "Grade 8 Female": 391,
         "Grade 9 Male": 423,
         "Grade 9 Female": 395,
         "Grade 10 Male": 363,
         "Grade 10 Female": 356,
         "Grade 11 Male": 0,
         "Grade 11 Female": 0,
         "Grade 12 Male": 0,
         "Grade 12 Female": 0,
         " school.mooe ": 2924000,
         "School ID_y": 305441,
         "rooms.standard.academic": 33,
         "rooms.standard.unused": 0,
         "rooms.nonstandard.academic": 0,
         "rooms.nonstandard.unused": 0,
         "teachers.instructor": 0,
         "teachers.mobile": 18,
         "teachers.regular": 84,
         "teachers.sped": 1,
         "_deepnote_index_column": 46597
        },
        {
         "school.id": 305308,
         "school.name": "Valeriano E. Fugoso Memorial High School",
         "school.region": "NCR",
         "school.region.name": "National Capital Region",
         "school.province": "MANILA, NCR, FIRST DISTRICT",
         "school.cityhall": "MANILA, NCR, FIRST DISTRICT",
         "school.division": "Manila",
         "school.citymuni": "SAMPALOC",
         "school.district": "Sampaloc V",
         "school.legdistrict": "4th District",
         "school.type": "School with no Annexes",
         "school.abbrev": "Fugoso HS",
         "school.previousname": "-",
         "school.mother.id": 305308,
         "school.address": "Boys Town Complex, Parang, Marikina City",
         "school.established": "1/1/1947",
         "school.classification": "Secondary",
         "school.classification2": "DepED Managed",
         "school.curricularclass": "Secondary",
         "school.organization": "Monograde",
         "school.cityincome": "nan",
         "school.cityclass": "Highly Urbanized City",
         "school.urban": "Urban",
         "School ID_x": 305308,
         "Kinder Male": "nan",
         "Kinder Female": "nan",
         "Grade 1 Male": "nan",
         "Grade 1 Female": "nan",
         "Grade 2 Male": "nan",
         "Grade 2 Female": "nan",
         "Grade 3 Male": "nan",
         "Grade 3 Female": "nan",
         "Grade 4 Male": "nan",
         "Grade 4 Female": "nan",
         "Grade 5 Male": "nan",
         "Grade 5 Female": "nan",
         "Grade 6 Male": "nan",
         "Grade 6 Female": "nan",
         "SPED NG Male": 0,
         "SPED NG Female": 0,
         "Grade 7 Male": 92,
         "Grade 7 Female": 132,
         "Grade 8 Male": 85,
         "Grade 8 Female": 106,
         "Grade 9 Male": 76,
         "Grade 9 Female": 112,
         "Grade 10 Male": 58,
         "Grade 10 Female": 83,
         "Grade 11 Male": 0,
         "Grade 11 Female": 0,
         "Grade 12 Male": 0,
         "Grade 12 Female": 0,
         " school.mooe ": 986000,
         "School ID_y": 305308,
         "rooms.standard.academic": 17,
         "rooms.standard.unused": 0,
         "rooms.nonstandard.academic": 0,
         "rooms.nonstandard.unused": 0,
         "teachers.instructor": 0,
         "teachers.mobile": 7,
         "teachers.regular": 39,
         "teachers.sped": 0,
         "_deepnote_index_column": 46598
        },
        {
         "school.id": 320402,
         "school.name": "Vicente Trinidad NHS (Punturin NHS)",
         "school.region": "NCR",
         "school.region.name": "National Capital Region",
         "school.province": "NCR THIRD DISTRICT",
         "school.cityhall": "CITY OF VALENZUELA",
         "school.division": "Valenzuela City",
         "school.citymuni": "CITY OF VALENZUELA",
         "school.district": "Valenzuela City Central District",
         "school.legdistrict": "1st District",
         "school.type": "School with no Annexes",
         "school.abbrev": "VPTNHS",
         "school.previousname": "Punturin National High School",
         "school.mother.id": 320402,
         "school.address": "Ruby st., Sta. Lucia Village Phase V",
         "school.established": "1/1/2003",
         "school.classification": "Secondary",
         "school.classification2": "DepED Managed",
         "school.curricularclass": "Secondary",
         "school.organization": "Monograde",
         "school.cityincome": "P 400 M or more",
         "school.cityclass": "Highly Urbanized City",
         "school.urban": "Urban",
         "School ID_x": 320402,
         "Kinder Male": "nan",
         "Kinder Female": "nan",
         "Grade 1 Male": "nan",
         "Grade 1 Female": "nan",
         "Grade 2 Male": "nan",
         "Grade 2 Female": "nan",
         "Grade 3 Male": "nan",
         "Grade 3 Female": "nan",
         "Grade 4 Male": "nan",
         "Grade 4 Female": "nan",
         "Grade 5 Male": "nan",
         "Grade 5 Female": "nan",
         "Grade 6 Male": "nan",
         "Grade 6 Female": "nan",
         "SPED NG Male": 0,
         "SPED NG Female": 0,
         "Grade 7 Male": 267,
         "Grade 7 Female": 270,
         "Grade 8 Male": 296,
         "Grade 8 Female": 275,
         "Grade 9 Male": 265,
         "Grade 9 Female": 267,
         "Grade 10 Male": 239,
         "Grade 10 Female": 234,
         "Grade 11 Male": 0,
         "Grade 11 Female": 0,
         "Grade 12 Male": 0,
         "Grade 12 Female": 0,
         " school.mooe ": 1798000,
         "School ID_y": 320402,
         "rooms.standard.academic": 23,
         "rooms.standard.unused": 0,
         "rooms.nonstandard.academic": 0,
         "rooms.nonstandard.unused": 0,
         "teachers.instructor": 0,
         "teachers.mobile": 4,
         "teachers.regular": 41,
         "teachers.sped": 0,
         "_deepnote_index_column": 46599
        },
        {
         "school.id": 305315,
         "school.name": "Victoriano Mapa High School",
         "school.region": "NCR",
         "school.region.name": "National Capital Region",
         "school.province": "MANILA, NCR, FIRST DISTRICT",
         "school.cityhall": "MANILA, NCR, FIRST DISTRICT",
         "school.division": "Manila",
         "school.citymuni": "SAN MIGUEL",
         "school.district": "Sta. Cruz V",
         "school.legdistrict": "6th District",
         "school.type": "School with no Annexes",
         "school.abbrev": "VMHS",
         "school.previousname": "MANILA EAST HS",
         "school.mother.id": 305315,
         "school.address": "300 San Rafael St., San Miguel,",
         "school.established": "1/1/1923",
         "school.classification": "Secondary",
         "school.classification2": "DepED Managed",
         "school.curricularclass": "Secondary",
         "school.organization": "Monograde",
         "school.cityincome": "nan",
         "school.cityclass": "Highly Urbanized City",
         "school.urban": "Urban",
         "School ID_x": 305315,
         "Kinder Male": "nan",
         "Kinder Female": "nan",
         "Grade 1 Male": "nan",
         "Grade 1 Female": "nan",
         "Grade 2 Male": "nan",
         "Grade 2 Female": "nan",
         "Grade 3 Male": "nan",
         "Grade 3 Female": "nan",
         "Grade 4 Male": "nan",
         "Grade 4 Female": "nan",
         "Grade 5 Male": "nan",
         "Grade 5 Female": "nan",
         "Grade 6 Male": "nan",
         "Grade 6 Female": "nan",
         "SPED NG Male": 0,
         "SPED NG Female": 0,
         "Grade 7 Male": 516,
         "Grade 7 Female": 549,
         "Grade 8 Male": 472,
         "Grade 8 Female": 532,
         "Grade 9 Male": 412,
         "Grade 9 Female": 457,
         "Grade 10 Male": 401,
         "Grade 10 Female": 441,
         "Grade 11 Male": 0,
         "Grade 11 Female": 0,
         "Grade 12 Male": 0,
         "Grade 12 Female": 0,
         " school.mooe ": 3971000,
         "School ID_y": 305315,
         "rooms.standard.academic": 39,
         "rooms.standard.unused": 0,
         "rooms.nonstandard.academic": 0,
         "rooms.nonstandard.unused": 0,
         "teachers.instructor": 0,
         "teachers.mobile": 27,
         "teachers.regular": 164,
         "teachers.sped": 0,
         "_deepnote_index_column": 46600
        },
        {
         "school.id": 320407,
         "school.name": "Wawangpulo National High School",
         "school.region": "NCR",
         "school.region.name": "National Capital Region",
         "school.province": "NCR THIRD DISTRICT",
         "school.cityhall": "CITY OF VALENZUELA",
         "school.division": "Valenzuela City",
         "school.citymuni": "CITY OF VALENZUELA",
         "school.district": "Valenzuela City North District",
         "school.legdistrict": "1st District",
         "school.type": "School with no Annexes",
         "school.abbrev": "nan",
         "school.previousname": "Valenzuela NHS-Wawang Pulo Annex",
         "school.mother.id": 320407,
         "school.address": "F. Andaya St.",
         "school.established": "1/1/2008",
         "school.classification": "Secondary",
         "school.classification2": "DepED Managed",
         "school.curricularclass": "Secondary",
         "school.organization": "Monograde",
         "school.cityincome": "P 400 M or more",
         "school.cityclass": "Highly Urbanized City",
         "school.urban": "Urban",
         "School ID_x": 320407,
         "Kinder Male": "nan",
         "Kinder Female": "nan",
         "Grade 1 Male": "nan",
         "Grade 1 Female": "nan",
         "Grade 2 Male": "nan",
         "Grade 2 Female": "nan",
         "Grade 3 Male": "nan",
         "Grade 3 Female": "nan",
         "Grade 4 Male": "nan",
         "Grade 4 Female": "nan",
         "Grade 5 Male": "nan",
         "Grade 5 Female": "nan",
         "Grade 6 Male": "nan",
         "Grade 6 Female": "nan",
         "SPED NG Male": 0,
         "SPED NG Female": 0,
         "Grade 7 Male": 98,
         "Grade 7 Female": 76,
         "Grade 8 Male": 106,
         "Grade 8 Female": 54,
         "Grade 9 Male": 80,
         "Grade 9 Female": 58,
         "Grade 10 Male": 55,
         "Grade 10 Female": 44,
         "Grade 11 Male": 0,
         "Grade 11 Female": 0,
         "Grade 12 Male": 0,
         "Grade 12 Female": 0,
         " school.mooe ": 539000,
         "School ID_y": 320407,
         "rooms.standard.academic": 11,
         "rooms.standard.unused": 0,
         "rooms.nonstandard.academic": 0,
         "rooms.nonstandard.unused": 0,
         "teachers.instructor": 0,
         "teachers.mobile": 0,
         "teachers.regular": 6,
         "teachers.sped": 0,
         "_deepnote_index_column": 46601
        },
        {
         "school.id": 305465,
         "school.name": "Western Bicutan NHS",
         "school.region": "NCR",
         "school.region.name": "National Capital Region",
         "school.province": "NCR FOURTH DISTRICT",
         "school.cityhall": "TAGUIG CITY",
         "school.division": "Taguig",
         "school.citymuni": "TAGUIG CITY",
         "school.district": "Taguig District III",
         "school.legdistrict": "2nd District",
         "school.type": "School with no Annexes",
         "school.abbrev": "WBNHS",
         "school.previousname": "N/.A",
         "school.mother.id": 305465,
         "school.address": "EPVillage,Phase 1,Pinagsama,Taguig City",
         "school.established": "1/1/1997",
         "school.classification": "Secondary",
         "school.classification2": "DepED Managed",
         "school.curricularclass": "Secondary",
         "school.organization": "Monograde",
         "school.cityincome": "P 400 M or more",
         "school.cityclass": "Highly Urbanized City",
         "school.urban": "Urban",
         "School ID_x": 305465,
         "Kinder Male": "nan",
         "Kinder Female": "nan",
         "Grade 1 Male": "nan",
         "Grade 1 Female": "nan",
         "Grade 2 Male": "nan",
         "Grade 2 Female": "nan",
         "Grade 3 Male": "nan",
         "Grade 3 Female": "nan",
         "Grade 4 Male": "nan",
         "Grade 4 Female": "nan",
         "Grade 5 Male": "nan",
         "Grade 5 Female": "nan",
         "Grade 6 Male": "nan",
         "Grade 6 Female": "nan",
         "SPED NG Male": 0,
         "SPED NG Female": 0,
         "Grade 7 Male": 635,
         "Grade 7 Female": 627,
         "Grade 8 Male": 623,
         "Grade 8 Female": 634,
         "Grade 9 Male": 543,
         "Grade 9 Female": 546,
         "Grade 10 Male": 504,
         "Grade 10 Female": 501,
         "Grade 11 Male": 0,
         "Grade 11 Female": 0,
         "Grade 12 Male": 0,
         "Grade 12 Female": 0,
         " school.mooe ": 3595000,
         "School ID_y": 305465,
         "rooms.standard.academic": 44,
         "rooms.standard.unused": 0,
         "rooms.nonstandard.academic": 0,
         "rooms.nonstandard.unused": 0,
         "teachers.instructor": 0,
         "teachers.mobile": 1,
         "teachers.regular": 96,
         "teachers.sped": 0,
         "_deepnote_index_column": 46602
        }
       ]
      },
      "text/plain": "       school.id                               school.name school.region  \\\n0         101746                           A. Diaz, Sr. ES      Region I   \n1         102193             A. P. Santos ES (SPED Center)      Region I   \n2         101283                           A.P. Guevara IS      Region I   \n3         100216                                Ab-Abut ES      Region I   \n4         100043                                  Abaca ES      Region I   \n...          ...                                       ...           ...   \n46598     305308  Valeriano E. Fugoso Memorial High School           NCR   \n46599     320402       Vicente Trinidad NHS (Punturin NHS)           NCR   \n46600     305315               Victoriano Mapa High School           NCR   \n46601     320407           Wawangpulo National High School           NCR   \n46602     305465                       Western Bicutan NHS           NCR   \n\n            school.region.name              school.province  \\\n0                Ilocos Region                   PANGASINAN   \n1                Ilocos Region                 ILOCOS NORTE   \n2                Ilocos Region                   PANGASINAN   \n3                Ilocos Region                 ILOCOS NORTE   \n4                Ilocos Region                 ILOCOS NORTE   \n...                        ...                          ...   \n46598  National Capital Region  MANILA, NCR, FIRST DISTRICT   \n46599  National Capital Region           NCR THIRD DISTRICT   \n46600  National Capital Region  MANILA, NCR, FIRST DISTRICT   \n46601  National Capital Region           NCR THIRD DISTRICT   \n46602  National Capital Region          NCR FOURTH DISTRICT   \n\n                   school.cityhall           school.division  \\\n0                       PANGASINAN  Pangasinan II, Binalonan   \n1                     ILOCOS NORTE                Laoag City   \n2                       PANGASINAN    Pangasinan I, Lingayen   \n3                     ILOCOS NORTE              Ilocos Norte   \n4                     ILOCOS NORTE              Ilocos Norte   \n...                            ...                       ...   \n46598  MANILA, NCR, FIRST DISTRICT                    Manila   \n46599           CITY OF VALENZUELA           Valenzuela City   \n46600  MANILA, NCR, FIRST DISTRICT                    Manila   \n46601           CITY OF VALENZUELA           Valenzuela City   \n46602                  TAGUIG CITY                    Taguig   \n\n            school.citymuni                   school.district  \\\n0                  BAUTISTA                          Bautista   \n1      LAOAG CITY (Capital)            Laoag City District II   \n2                 BAYAMBANG                      Bayambang II   \n3                    PIDDIG                            Piddig   \n4                    BANGUI                            Bangui   \n...                     ...                               ...   \n46598              SAMPALOC                        Sampaloc V   \n46599    CITY OF VALENZUELA  Valenzuela City Central District   \n46600            SAN MIGUEL                       Sta. Cruz V   \n46601    CITY OF VALENZUELA    Valenzuela City North District   \n46602           TAGUIG CITY               Taguig District III   \n\n      school.legdistrict  ...  school.mooe  School ID_y  \\\n0           5th District  ...      341000.0    101746.0   \n1           1st District  ...      275000.0    102193.0   \n2           3rd District  ...      132000.0    101283.0   \n3           1st District  ...      135000.0    100216.0   \n4           1st District  ...      182000.0    100043.0   \n...                  ...  ...           ...         ...   \n46598       4th District  ...      986000.0    305308.0   \n46599       1st District  ...     1798000.0    320402.0   \n46600       6th District  ...     3971000.0    305315.0   \n46601       1st District  ...      539000.0    320407.0   \n46602       2nd District  ...     3595000.0    305465.0   \n\n      rooms.standard.academic  rooms.standard.unused  \\\n0                        15.0                    0.0   \n1                        13.0                    3.0   \n2                         7.0                    0.0   \n3                         6.0                    0.0   \n4                         9.0                    0.0   \n...                       ...                    ...   \n46598                    17.0                    0.0   \n46599                    23.0                    0.0   \n46600                    39.0                    0.0   \n46601                    11.0                    0.0   \n46602                    44.0                    0.0   \n\n      rooms.nonstandard.academic rooms.nonstandard.unused teachers.instructor  \\\n0                            0.0                      0.0                 0.0   \n1                            0.0                      0.0                 0.0   \n2                            0.0                      0.0                 0.0   \n3                            0.0                      0.0                 0.0   \n4                            0.0                      0.0                 0.0   \n...                          ...                      ...                 ...   \n46598                        0.0                      0.0                 0.0   \n46599                        0.0                      0.0                 0.0   \n46600                        0.0                      0.0                 0.0   \n46601                        0.0                      0.0                 0.0   \n46602                        0.0                      0.0                 0.0   \n\n      teachers.mobile teachers.regular teachers.sped  \n0                 1.0             20.0           0.0  \n1                 2.0             12.0           4.0  \n2                 1.0              6.0           0.0  \n3                 1.0              6.0           0.0  \n4                 1.0              8.0           0.0  \n...               ...              ...           ...  \n46598             7.0             39.0           0.0  \n46599             4.0             41.0           0.0  \n46600            27.0            164.0           0.0  \n46601             0.0              6.0           0.0  \n46602             1.0             96.0           0.0  \n\n[46603 rows x 62 columns]",
      "text/html": "<div>\n<style scoped>\n    .dataframe tbody tr th:only-of-type {\n        vertical-align: middle;\n    }\n\n    .dataframe tbody tr th {\n        vertical-align: top;\n    }\n\n    .dataframe thead th {\n        text-align: right;\n    }\n</style>\n<table border=\"1\" class=\"dataframe\">\n  <thead>\n    <tr style=\"text-align: right;\">\n      <th></th>\n      <th>school.id</th>\n      <th>school.name</th>\n      <th>school.region</th>\n      <th>school.region.name</th>\n      <th>school.province</th>\n      <th>school.cityhall</th>\n      <th>school.division</th>\n      <th>school.citymuni</th>\n      <th>school.district</th>\n      <th>school.legdistrict</th>\n      <th>...</th>\n      <th>school.mooe</th>\n      <th>School ID_y</th>\n      <th>rooms.standard.academic</th>\n      <th>rooms.standard.unused</th>\n      <th>rooms.nonstandard.academic</th>\n      <th>rooms.nonstandard.unused</th>\n      <th>teachers.instructor</th>\n      <th>teachers.mobile</th>\n      <th>teachers.regular</th>\n      <th>teachers.sped</th>\n    </tr>\n  </thead>\n  <tbody>\n    <tr>\n      <th>0</th>\n      <td>101746</td>\n      <td>A. Diaz, Sr. ES</td>\n      <td>Region I</td>\n      <td>Ilocos Region</td>\n      <td>PANGASINAN</td>\n      <td>PANGASINAN</td>\n      <td>Pangasinan II, Binalonan</td>\n      <td>BAUTISTA</td>\n      <td>Bautista</td>\n      <td>5th District</td>\n      <td>...</td>\n      <td>341000.0</td>\n      <td>101746.0</td>\n      <td>15.0</td>\n      <td>0.0</td>\n      <td>0.0</td>\n      <td>0.0</td>\n      <td>0.0</td>\n      <td>1.0</td>\n      <td>20.0</td>\n      <td>0.0</td>\n    </tr>\n    <tr>\n      <th>1</th>\n      <td>102193</td>\n      <td>A. P. Santos ES (SPED Center)</td>\n      <td>Region I</td>\n      <td>Ilocos Region</td>\n      <td>ILOCOS NORTE</td>\n      <td>ILOCOS NORTE</td>\n      <td>Laoag City</td>\n      <td>LAOAG CITY (Capital)</td>\n      <td>Laoag City District II</td>\n      <td>1st District</td>\n      <td>...</td>\n      <td>275000.0</td>\n      <td>102193.0</td>\n      <td>13.0</td>\n      <td>3.0</td>\n      <td>0.0</td>\n      <td>0.0</td>\n      <td>0.0</td>\n      <td>2.0</td>\n      <td>12.0</td>\n      <td>4.0</td>\n    </tr>\n    <tr>\n      <th>2</th>\n      <td>101283</td>\n      <td>A.P. Guevara IS</td>\n      <td>Region I</td>\n      <td>Ilocos Region</td>\n      <td>PANGASINAN</td>\n      <td>PANGASINAN</td>\n      <td>Pangasinan I, Lingayen</td>\n      <td>BAYAMBANG</td>\n      <td>Bayambang II</td>\n      <td>3rd District</td>\n      <td>...</td>\n      <td>132000.0</td>\n      <td>101283.0</td>\n      <td>7.0</td>\n      <td>0.0</td>\n      <td>0.0</td>\n      <td>0.0</td>\n      <td>0.0</td>\n      <td>1.0</td>\n      <td>6.0</td>\n      <td>0.0</td>\n    </tr>\n    <tr>\n      <th>3</th>\n      <td>100216</td>\n      <td>Ab-Abut ES</td>\n      <td>Region I</td>\n      <td>Ilocos Region</td>\n      <td>ILOCOS NORTE</td>\n      <td>ILOCOS NORTE</td>\n      <td>Ilocos Norte</td>\n      <td>PIDDIG</td>\n      <td>Piddig</td>\n      <td>1st District</td>\n      <td>...</td>\n      <td>135000.0</td>\n      <td>100216.0</td>\n      <td>6.0</td>\n      <td>0.0</td>\n      <td>0.0</td>\n      <td>0.0</td>\n      <td>0.0</td>\n      <td>1.0</td>\n      <td>6.0</td>\n      <td>0.0</td>\n    </tr>\n    <tr>\n      <th>4</th>\n      <td>100043</td>\n      <td>Abaca ES</td>\n      <td>Region I</td>\n      <td>Ilocos Region</td>\n      <td>ILOCOS NORTE</td>\n      <td>ILOCOS NORTE</td>\n      <td>Ilocos Norte</td>\n      <td>BANGUI</td>\n      <td>Bangui</td>\n      <td>1st District</td>\n      <td>...</td>\n      <td>182000.0</td>\n      <td>100043.0</td>\n      <td>9.0</td>\n      <td>0.0</td>\n      <td>0.0</td>\n      <td>0.0</td>\n      <td>0.0</td>\n      <td>1.0</td>\n      <td>8.0</td>\n      <td>0.0</td>\n    </tr>\n    <tr>\n      <th>...</th>\n      <td>...</td>\n      <td>...</td>\n      <td>...</td>\n      <td>...</td>\n      <td>...</td>\n      <td>...</td>\n      <td>...</td>\n      <td>...</td>\n      <td>...</td>\n      <td>...</td>\n      <td>...</td>\n      <td>...</td>\n      <td>...</td>\n      <td>...</td>\n      <td>...</td>\n      <td>...</td>\n      <td>...</td>\n      <td>...</td>\n      <td>...</td>\n      <td>...</td>\n      <td>...</td>\n    </tr>\n    <tr>\n      <th>46598</th>\n      <td>305308</td>\n      <td>Valeriano E. Fugoso Memorial High School</td>\n      <td>NCR</td>\n      <td>National Capital Region</td>\n      <td>MANILA, NCR, FIRST DISTRICT</td>\n      <td>MANILA, NCR, FIRST DISTRICT</td>\n      <td>Manila</td>\n      <td>SAMPALOC</td>\n      <td>Sampaloc V</td>\n      <td>4th District</td>\n      <td>...</td>\n      <td>986000.0</td>\n      <td>305308.0</td>\n      <td>17.0</td>\n      <td>0.0</td>\n      <td>0.0</td>\n      <td>0.0</td>\n      <td>0.0</td>\n      <td>7.0</td>\n      <td>39.0</td>\n      <td>0.0</td>\n    </tr>\n    <tr>\n      <th>46599</th>\n      <td>320402</td>\n      <td>Vicente Trinidad NHS (Punturin NHS)</td>\n      <td>NCR</td>\n      <td>National Capital Region</td>\n      <td>NCR THIRD DISTRICT</td>\n      <td>CITY OF VALENZUELA</td>\n      <td>Valenzuela City</td>\n      <td>CITY OF VALENZUELA</td>\n      <td>Valenzuela City Central District</td>\n      <td>1st District</td>\n      <td>...</td>\n      <td>1798000.0</td>\n      <td>320402.0</td>\n      <td>23.0</td>\n      <td>0.0</td>\n      <td>0.0</td>\n      <td>0.0</td>\n      <td>0.0</td>\n      <td>4.0</td>\n      <td>41.0</td>\n      <td>0.0</td>\n    </tr>\n    <tr>\n      <th>46600</th>\n      <td>305315</td>\n      <td>Victoriano Mapa High School</td>\n      <td>NCR</td>\n      <td>National Capital Region</td>\n      <td>MANILA, NCR, FIRST DISTRICT</td>\n      <td>MANILA, NCR, FIRST DISTRICT</td>\n      <td>Manila</td>\n      <td>SAN MIGUEL</td>\n      <td>Sta. Cruz V</td>\n      <td>6th District</td>\n      <td>...</td>\n      <td>3971000.0</td>\n      <td>305315.0</td>\n      <td>39.0</td>\n      <td>0.0</td>\n      <td>0.0</td>\n      <td>0.0</td>\n      <td>0.0</td>\n      <td>27.0</td>\n      <td>164.0</td>\n      <td>0.0</td>\n    </tr>\n    <tr>\n      <th>46601</th>\n      <td>320407</td>\n      <td>Wawangpulo National High School</td>\n      <td>NCR</td>\n      <td>National Capital Region</td>\n      <td>NCR THIRD DISTRICT</td>\n      <td>CITY OF VALENZUELA</td>\n      <td>Valenzuela City</td>\n      <td>CITY OF VALENZUELA</td>\n      <td>Valenzuela City North District</td>\n      <td>1st District</td>\n      <td>...</td>\n      <td>539000.0</td>\n      <td>320407.0</td>\n      <td>11.0</td>\n      <td>0.0</td>\n      <td>0.0</td>\n      <td>0.0</td>\n      <td>0.0</td>\n      <td>0.0</td>\n      <td>6.0</td>\n      <td>0.0</td>\n    </tr>\n    <tr>\n      <th>46602</th>\n      <td>305465</td>\n      <td>Western Bicutan NHS</td>\n      <td>NCR</td>\n      <td>National Capital Region</td>\n      <td>NCR FOURTH DISTRICT</td>\n      <td>TAGUIG CITY</td>\n      <td>Taguig</td>\n      <td>TAGUIG CITY</td>\n      <td>Taguig District III</td>\n      <td>2nd District</td>\n      <td>...</td>\n      <td>3595000.0</td>\n      <td>305465.0</td>\n      <td>44.0</td>\n      <td>0.0</td>\n      <td>0.0</td>\n      <td>0.0</td>\n      <td>0.0</td>\n      <td>1.0</td>\n      <td>96.0</td>\n      <td>0.0</td>\n    </tr>\n  </tbody>\n</table>\n<p>46603 rows × 62 columns</p>\n</div>"
     },
     "metadata": {}
    }
   ]
  },
  {
   "cell_type": "code",
   "source": "master_df.columns",
   "metadata": {
    "tags": [],
    "cell_id": "00021-f4ad8906-ea6a-4907-8dd0-842b815ee615",
    "deepnote_to_be_reexecuted": false,
    "source_hash": "c4a5fdd2",
    "execution_start": 1621511447146,
    "execution_millis": 0,
    "deepnote_cell_type": "code"
   },
   "outputs": [
    {
     "output_type": "execute_result",
     "execution_count": 22,
     "data": {
      "text/plain": "Index(['school.id', 'school.name', 'school.region', 'school.region.name',\n       'school.province', 'school.cityhall', 'school.division',\n       'school.citymuni', 'school.district', 'school.legdistrict',\n       'school.type', 'school.abbrev', 'school.previousname',\n       'school.mother.id', 'school.address', 'school.established',\n       'school.classification', 'school.classification2',\n       'school.curricularclass', 'school.organization', 'school.cityincome',\n       'school.cityclass', 'school.urban', 'School ID_x', 'Kinder Male',\n       'Kinder Female', 'Grade 1 Male', 'Grade 1 Female', 'Grade 2 Male',\n       'Grade 2 Female', 'Grade 3 Male', 'Grade 3 Female', 'Grade 4 Male',\n       'Grade 4 Female', 'Grade 5 Male', 'Grade 5 Female', 'Grade 6 Male',\n       'Grade 6 Female', 'SPED NG Male', 'SPED NG Female', 'Grade 7 Male',\n       'Grade 7 Female', 'Grade 8 Male', 'Grade 8 Female', 'Grade 9 Male',\n       'Grade 9 Female', 'Grade 10 Male', 'Grade 10 Female', 'Grade 11 Male',\n       'Grade 11 Female', 'Grade 12 Male', 'Grade 12 Female', ' school.mooe ',\n       'School ID_y', 'rooms.standard.academic', 'rooms.standard.unused',\n       'rooms.nonstandard.academic', 'rooms.nonstandard.unused',\n       'teachers.instructor', 'teachers.mobile', 'teachers.regular',\n       'teachers.sped'],\n      dtype='object')"
     },
     "metadata": {}
    }
   ],
   "execution_count": 22
  },
  {
   "cell_type": "code",
   "source": "",
   "metadata": {
    "tags": [],
    "cell_id": "00022-bd1cec78-2d2b-4965-a9e3-0599cb175a32",
    "deepnote_to_be_reexecuted": false,
    "source_hash": "b623e53d",
    "execution_start": 1621511447150,
    "execution_millis": 1,
    "deepnote_cell_type": "code"
   },
   "outputs": [],
   "execution_count": 22
  },
  {
   "cell_type": "code",
   "metadata": {
    "cell_id": "00017-ad47569d-eb80-469e-8af9-8ab9c1082d0f",
    "deepnote_to_be_reexecuted": false,
    "source_hash": "1e1ef51",
    "execution_start": 1621511447153,
    "execution_millis": 252,
    "deepnote_cell_type": "code"
   },
   "source": "master_df[\"MOOE\"] = master_df[\" school.mooe \"]\nmaster_df[\"MOOE\"] = pd.to_numeric(master_df[\"MOOE\"].replace(\",\", \"\", regex = True))\nmaster_df.drop([\"School ID_y\", \" school.mooe \"], axis = 1)",
   "execution_count": 23,
   "outputs": [
    {
     "output_type": "execute_result",
     "execution_count": 23,
     "data": {
      "application/vnd.deepnote.dataframe.v2+json": {
       "row_count": 46603,
       "column_count": 61,
       "columns": [
        {
         "name": "school.id",
         "dtype": "int64",
         "stats": {
          "unique_count": 46603,
          "nan_count": 0,
          "min": "100001",
          "max": "900279",
          "histogram": [
           {
            "bin_start": 100001,
            "bin_end": 180028.8,
            "count": 37079
           },
           {
            "bin_start": 180028.8,
            "bin_end": 260056.6,
            "count": 1603
           },
           {
            "bin_start": 260056.6,
            "bin_end": 340084.4,
            "count": 7919
           },
           {
            "bin_start": 340084.4,
            "bin_end": 420112.2,
            "count": 1
           },
           {
            "bin_start": 420112.2,
            "bin_end": 500140,
            "count": 0
           },
           {
            "bin_start": 500140,
            "bin_end": 580167.8,
            "count": 0
           },
           {
            "bin_start": 580167.8,
            "bin_end": 660195.6,
            "count": 0
           },
           {
            "bin_start": 660195.6,
            "bin_end": 740223.4,
            "count": 0
           },
           {
            "bin_start": 740223.4,
            "bin_end": 820251.2000000001,
            "count": 0
           },
           {
            "bin_start": 820251.2000000001,
            "bin_end": 900279,
            "count": 1
           }
          ]
         }
        },
        {
         "name": "school.name",
         "dtype": "object",
         "stats": {
          "unique_count": 36901,
          "nan_count": 0,
          "categories": [
           {
            "name": "San Isidro ES",
            "count": 192
           },
           {
            "name": "San Jose ES",
            "count": 155
           },
           {
            "name": "36899 others",
            "count": 46256
           }
          ]
         }
        },
        {
         "name": "school.region",
         "dtype": "object"
        },
        {
         "name": "school.region.name",
         "dtype": "object"
        },
        {
         "name": "school.province",
         "dtype": "object"
        },
        {
         "name": "school.cityhall",
         "dtype": "object"
        },
        {
         "name": "school.division",
         "dtype": "object"
        },
        {
         "name": "school.citymuni",
         "dtype": "object"
        },
        {
         "name": "school.district",
         "dtype": "object"
        },
        {
         "name": "school.legdistrict",
         "dtype": "object"
        },
        {
         "name": "school.type",
         "dtype": "object"
        },
        {
         "name": "school.abbrev",
         "dtype": "object"
        },
        {
         "name": "school.previousname",
         "dtype": "object"
        },
        {
         "name": "school.mother.id",
         "dtype": "float64"
        },
        {
         "name": "school.address",
         "dtype": "object"
        },
        {
         "name": "school.established",
         "dtype": "object"
        },
        {
         "name": "school.classification",
         "dtype": "object"
        },
        {
         "name": "school.classification2",
         "dtype": "object"
        },
        {
         "name": "school.curricularclass",
         "dtype": "object"
        },
        {
         "name": "school.organization",
         "dtype": "object"
        },
        {
         "name": "school.cityincome",
         "dtype": "object"
        },
        {
         "name": "school.cityclass",
         "dtype": "object"
        },
        {
         "name": "school.urban",
         "dtype": "object"
        },
        {
         "name": "School ID_x",
         "dtype": "float64"
        },
        {
         "name": "Kinder Male",
         "dtype": "float64"
        },
        {
         "name": "Kinder Female",
         "dtype": "float64"
        },
        {
         "name": "Grade 1 Male",
         "dtype": "float64"
        },
        {
         "name": "Grade 1 Female",
         "dtype": "float64"
        },
        {
         "name": "Grade 2 Male",
         "dtype": "float64"
        },
        {
         "name": "Grade 2 Female",
         "dtype": "float64"
        },
        {
         "name": "Grade 3 Male",
         "dtype": "float64"
        },
        {
         "name": "Grade 3 Female",
         "dtype": "float64"
        },
        {
         "name": "Grade 4 Male",
         "dtype": "float64"
        },
        {
         "name": "Grade 4 Female",
         "dtype": "float64"
        },
        {
         "name": "Grade 5 Male",
         "dtype": "float64"
        },
        {
         "name": "Grade 5 Female",
         "dtype": "float64"
        },
        {
         "name": "Grade 6 Male",
         "dtype": "float64"
        },
        {
         "name": "Grade 6 Female",
         "dtype": "float64"
        },
        {
         "name": "SPED NG Male",
         "dtype": "float64"
        },
        {
         "name": "SPED NG Female",
         "dtype": "float64"
        },
        {
         "name": "Grade 7 Male",
         "dtype": "float64"
        },
        {
         "name": "Grade 7 Female",
         "dtype": "float64"
        },
        {
         "name": "Grade 8 Male",
         "dtype": "float64"
        },
        {
         "name": "Grade 8 Female",
         "dtype": "float64"
        },
        {
         "name": "Grade 9 Male",
         "dtype": "float64"
        },
        {
         "name": "Grade 9 Female",
         "dtype": "float64"
        },
        {
         "name": "Grade 10 Male",
         "dtype": "float64"
        },
        {
         "name": "Grade 10 Female",
         "dtype": "float64"
        },
        {
         "name": "Grade 11 Male",
         "dtype": "float64"
        },
        {
         "name": "Grade 11 Female",
         "dtype": "float64"
        },
        {
         "name": "Grade 12 Male",
         "dtype": "float64"
        },
        {
         "name": "Grade 12 Female",
         "dtype": "float64"
        },
        {
         "name": "rooms.standard.academic",
         "dtype": "float64"
        },
        {
         "name": "rooms.standard.unused",
         "dtype": "float64"
        },
        {
         "name": "rooms.nonstandard.academic",
         "dtype": "float64"
        },
        {
         "name": "rooms.nonstandard.unused",
         "dtype": "float64"
        },
        {
         "name": "teachers.instructor",
         "dtype": "float64"
        },
        {
         "name": "teachers.mobile",
         "dtype": "float64"
        },
        {
         "name": "teachers.regular",
         "dtype": "float64"
        },
        {
         "name": "teachers.sped",
         "dtype": "float64"
        },
        {
         "name": "MOOE",
         "dtype": "float64"
        },
        {
         "name": "_deepnote_index_column",
         "dtype": "int64"
        }
       ],
       "rows_top": [
        {
         "school.id": 101746,
         "school.name": "A. Diaz, Sr. ES",
         "school.region": "Region I",
         "school.region.name": "Ilocos Region",
         "school.province": "PANGASINAN",
         "school.cityhall": "PANGASINAN",
         "school.division": "Pangasinan II, Binalonan",
         "school.citymuni": "BAUTISTA",
         "school.district": "Bautista",
         "school.legdistrict": "5th District",
         "school.type": "School with no Annexes",
         "school.abbrev": "ADSES",
         "school.previousname": "none",
         "school.mother.id": 101746,
         "school.address": "Brgy. Dias Bautista, Pang",
         "school.established": "1/1/1930",
         "school.classification": "Elementary",
         "school.classification2": "DepED Managed",
         "school.curricularclass": "Elementary",
         "school.organization": "Monograde",
         "school.cityincome": "P 25 M or more but less than P 35 M",
         "school.cityclass": "nan",
         "school.urban": "Partially Urban",
         "School ID_x": 101746,
         "Kinder Male": 57,
         "Kinder Female": 45,
         "Grade 1 Male": 56,
         "Grade 1 Female": 58,
         "Grade 2 Male": 63,
         "Grade 2 Female": 61,
         "Grade 3 Male": 55,
         "Grade 3 Female": 61,
         "Grade 4 Male": 62,
         "Grade 4 Female": 55,
         "Grade 5 Male": 61,
         "Grade 5 Female": 48,
         "Grade 6 Male": 48,
         "Grade 6 Female": 51,
         "SPED NG Male": 0,
         "SPED NG Female": 0,
         "Grade 7 Male": "nan",
         "Grade 7 Female": "nan",
         "Grade 8 Male": "nan",
         "Grade 8 Female": "nan",
         "Grade 9 Male": "nan",
         "Grade 9 Female": "nan",
         "Grade 10 Male": "nan",
         "Grade 10 Female": "nan",
         "Grade 11 Male": "nan",
         "Grade 11 Female": "nan",
         "Grade 12 Male": "nan",
         "Grade 12 Female": "nan",
         "rooms.standard.academic": 15,
         "rooms.standard.unused": 0,
         "rooms.nonstandard.academic": 0,
         "rooms.nonstandard.unused": 0,
         "teachers.instructor": 0,
         "teachers.mobile": 1,
         "teachers.regular": 20,
         "teachers.sped": 0,
         "MOOE": 341000,
         "_deepnote_index_column": 0
        },
        {
         "school.id": 102193,
         "school.name": "A. P. Santos ES (SPED Center)",
         "school.region": "Region I",
         "school.region.name": "Ilocos Region",
         "school.province": "ILOCOS NORTE",
         "school.cityhall": "ILOCOS NORTE",
         "school.division": "Laoag City",
         "school.citymuni": "LAOAG CITY (Capital)",
         "school.district": "Laoag City District II",
         "school.legdistrict": "1st District",
         "school.type": "School with no Annexes",
         "school.abbrev": "APSES",
         "school.previousname": "-",
         "school.mother.id": 102193,
         "school.address": "A.G. Tupaz",
         "school.established": "1/1/1944",
         "school.classification": "Elementary",
         "school.classification2": "DepED Managed",
         "school.curricularclass": "Kinder & Elementary",
         "school.organization": "Monograde",
         "school.cityincome": "P 240 M or more but less than P 320 M",
         "school.cityclass": "Component City",
         "school.urban": "Partially Urban",
         "School ID_x": 102193,
         "Kinder Male": 20,
         "Kinder Female": 24,
         "Grade 1 Male": 38,
         "Grade 1 Female": 30,
         "Grade 2 Male": 37,
         "Grade 2 Female": 18,
         "Grade 3 Male": 29,
         "Grade 3 Female": 33,
         "Grade 4 Male": 23,
         "Grade 4 Female": 41,
         "Grade 5 Male": 39,
         "Grade 5 Female": 27,
         "Grade 6 Male": 26,
         "Grade 6 Female": 26,
         "SPED NG Male": 32,
         "SPED NG Female": 22,
         "Grade 7 Male": "nan",
         "Grade 7 Female": "nan",
         "Grade 8 Male": "nan",
         "Grade 8 Female": "nan",
         "Grade 9 Male": "nan",
         "Grade 9 Female": "nan",
         "Grade 10 Male": "nan",
         "Grade 10 Female": "nan",
         "Grade 11 Male": "nan",
         "Grade 11 Female": "nan",
         "Grade 12 Male": "nan",
         "Grade 12 Female": "nan",
         "rooms.standard.academic": 13,
         "rooms.standard.unused": 3,
         "rooms.nonstandard.academic": 0,
         "rooms.nonstandard.unused": 0,
         "teachers.instructor": 0,
         "teachers.mobile": 2,
         "teachers.regular": 12,
         "teachers.sped": 4,
         "MOOE": 275000,
         "_deepnote_index_column": 1
        },
        {
         "school.id": 101283,
         "school.name": "A.P. Guevara IS",
         "school.region": "Region I",
         "school.region.name": "Ilocos Region",
         "school.province": "PANGASINAN",
         "school.cityhall": "PANGASINAN",
         "school.division": "Pangasinan I, Lingayen",
         "school.citymuni": "BAYAMBANG",
         "school.district": "Bayambang II",
         "school.legdistrict": "3rd District",
         "school.type": "School with no Annexes",
         "school.abbrev": "nan",
         "school.previousname": "A.P. Guevarra IS",
         "school.mother.id": 101283,
         "school.address": "-",
         "school.established": "1/1/1945",
         "school.classification": "Elementary",
         "school.classification2": "DepED Managed",
         "school.curricularclass": "Elementary",
         "school.organization": "Monograde",
         "school.cityincome": "P 55 M or more",
         "school.cityclass": "nan",
         "school.urban": "Partially Urban",
         "School ID_x": 101283,
         "Kinder Male": 16,
         "Kinder Female": 11,
         "Grade 1 Male": 11,
         "Grade 1 Female": 10,
         "Grade 2 Male": 9,
         "Grade 2 Female": 13,
         "Grade 3 Male": 15,
         "Grade 3 Female": 13,
         "Grade 4 Male": 14,
         "Grade 4 Female": 11,
         "Grade 5 Male": 23,
         "Grade 5 Female": 13,
         "Grade 6 Male": 7,
         "Grade 6 Female": 9,
         "SPED NG Male": 0,
         "SPED NG Female": 0,
         "Grade 7 Male": "nan",
         "Grade 7 Female": "nan",
         "Grade 8 Male": "nan",
         "Grade 8 Female": "nan",
         "Grade 9 Male": "nan",
         "Grade 9 Female": "nan",
         "Grade 10 Male": "nan",
         "Grade 10 Female": "nan",
         "Grade 11 Male": "nan",
         "Grade 11 Female": "nan",
         "Grade 12 Male": "nan",
         "Grade 12 Female": "nan",
         "rooms.standard.academic": 7,
         "rooms.standard.unused": 0,
         "rooms.nonstandard.academic": 0,
         "rooms.nonstandard.unused": 0,
         "teachers.instructor": 0,
         "teachers.mobile": 1,
         "teachers.regular": 6,
         "teachers.sped": 0,
         "MOOE": 132000,
         "_deepnote_index_column": 2
        },
        {
         "school.id": 100216,
         "school.name": "Ab-Abut ES",
         "school.region": "Region I",
         "school.region.name": "Ilocos Region",
         "school.province": "ILOCOS NORTE",
         "school.cityhall": "ILOCOS NORTE",
         "school.division": "Ilocos Norte",
         "school.citymuni": "PIDDIG",
         "school.district": "Piddig",
         "school.legdistrict": "1st District",
         "school.type": "School with no Annexes",
         "school.abbrev": "AES",
         "school.previousname": "-",
         "school.mother.id": 100216,
         "school.address": "Sucsuquen",
         "school.established": "1/1/1964",
         "school.classification": "Elementary",
         "school.classification2": "DepED Managed",
         "school.curricularclass": "Elementary",
         "school.organization": "Monograde",
         "school.cityincome": "P 35 M or more but less than P 45 M",
         "school.cityclass": "nan",
         "school.urban": "Partially Urban",
         "School ID_x": 100216,
         "Kinder Male": 10,
         "Kinder Female": 6,
         "Grade 1 Male": 10,
         "Grade 1 Female": 17,
         "Grade 2 Male": 22,
         "Grade 2 Female": 11,
         "Grade 3 Male": 22,
         "Grade 3 Female": 12,
         "Grade 4 Male": 12,
         "Grade 4 Female": 11,
         "Grade 5 Male": 16,
         "Grade 5 Female": 7,
         "Grade 6 Male": 13,
         "Grade 6 Female": 10,
         "SPED NG Male": 0,
         "SPED NG Female": 0,
         "Grade 7 Male": "nan",
         "Grade 7 Female": "nan",
         "Grade 8 Male": "nan",
         "Grade 8 Female": "nan",
         "Grade 9 Male": "nan",
         "Grade 9 Female": "nan",
         "Grade 10 Male": "nan",
         "Grade 10 Female": "nan",
         "Grade 11 Male": "nan",
         "Grade 11 Female": "nan",
         "Grade 12 Male": "nan",
         "Grade 12 Female": "nan",
         "rooms.standard.academic": 6,
         "rooms.standard.unused": 0,
         "rooms.nonstandard.academic": 0,
         "rooms.nonstandard.unused": 0,
         "teachers.instructor": 0,
         "teachers.mobile": 1,
         "teachers.regular": 6,
         "teachers.sped": 0,
         "MOOE": 135000,
         "_deepnote_index_column": 3
        },
        {
         "school.id": 100043,
         "school.name": "Abaca ES",
         "school.region": "Region I",
         "school.region.name": "Ilocos Region",
         "school.province": "ILOCOS NORTE",
         "school.cityhall": "ILOCOS NORTE",
         "school.division": "Ilocos Norte",
         "school.citymuni": "BANGUI",
         "school.district": "Bangui",
         "school.legdistrict": "1st District",
         "school.type": "School with no Annexes",
         "school.abbrev": "AES",
         "school.previousname": "none",
         "school.mother.id": 100043,
         "school.address": "None",
         "school.established": "1/1/1979",
         "school.classification": "Elementary",
         "school.classification2": "DepED Managed",
         "school.curricularclass": "Elementary",
         "school.organization": "Monograde",
         "school.cityincome": "P 25 M or more but less than P 35 M",
         "school.cityclass": "nan",
         "school.urban": "Partially Urban",
         "School ID_x": 100043,
         "Kinder Male": 12,
         "Kinder Female": 13,
         "Grade 1 Male": 22,
         "Grade 1 Female": 26,
         "Grade 2 Male": 17,
         "Grade 2 Female": 14,
         "Grade 3 Male": 16,
         "Grade 3 Female": 22,
         "Grade 4 Male": 24,
         "Grade 4 Female": 15,
         "Grade 5 Male": 28,
         "Grade 5 Female": 19,
         "Grade 6 Male": 26,
         "Grade 6 Female": 17,
         "SPED NG Male": 0,
         "SPED NG Female": 0,
         "Grade 7 Male": "nan",
         "Grade 7 Female": "nan",
         "Grade 8 Male": "nan",
         "Grade 8 Female": "nan",
         "Grade 9 Male": "nan",
         "Grade 9 Female": "nan",
         "Grade 10 Male": "nan",
         "Grade 10 Female": "nan",
         "Grade 11 Male": "nan",
         "Grade 11 Female": "nan",
         "Grade 12 Male": "nan",
         "Grade 12 Female": "nan",
         "rooms.standard.academic": 9,
         "rooms.standard.unused": 0,
         "rooms.nonstandard.academic": 0,
         "rooms.nonstandard.unused": 0,
         "teachers.instructor": 0,
         "teachers.mobile": 1,
         "teachers.regular": 8,
         "teachers.sped": 0,
         "MOOE": 182000,
         "_deepnote_index_column": 4
        },
        {
         "school.id": 100554,
         "school.name": "Abaccan ES",
         "school.region": "Region I",
         "school.region.name": "Ilocos Region",
         "school.province": "ILOCOS SUR",
         "school.cityhall": "ILOCOS SUR",
         "school.division": "Ilocos Sur",
         "school.citymuni": "SIGAY",
         "school.district": "Salcedo-Galimuyod-Sigay-Del Pilar",
         "school.legdistrict": "2nd District",
         "school.type": "School with no Annexes",
         "school.abbrev": "nan",
         "school.previousname": "-",
         "school.mother.id": 100554,
         "school.address": "-n/a",
         "school.established": "1/1/2000",
         "school.classification": "Elementary",
         "school.classification2": "DepED Managed",
         "school.curricularclass": "Kinder & Elementary",
         "school.organization": "Combined Monograde and Multigrade",
         "school.cityincome": "P 15 M or more but less than P 25 M",
         "school.cityclass": "nan",
         "school.urban": "Rural",
         "School ID_x": 100554,
         "Kinder Male": 1,
         "Kinder Female": 1,
         "Grade 1 Male": 0,
         "Grade 1 Female": 2,
         "Grade 2 Male": 3,
         "Grade 2 Female": 0,
         "Grade 3 Male": 5,
         "Grade 3 Female": 4,
         "Grade 4 Male": 3,
         "Grade 4 Female": 7,
         "Grade 5 Male": 2,
         "Grade 5 Female": 3,
         "Grade 6 Male": 4,
         "Grade 6 Female": 3,
         "SPED NG Male": 0,
         "SPED NG Female": 0,
         "Grade 7 Male": "nan",
         "Grade 7 Female": "nan",
         "Grade 8 Male": "nan",
         "Grade 8 Female": "nan",
         "Grade 9 Male": "nan",
         "Grade 9 Female": "nan",
         "Grade 10 Male": "nan",
         "Grade 10 Female": "nan",
         "Grade 11 Male": "nan",
         "Grade 11 Female": "nan",
         "Grade 12 Male": "nan",
         "Grade 12 Female": "nan",
         "rooms.standard.academic": 5,
         "rooms.standard.unused": 0,
         "rooms.nonstandard.academic": 0,
         "rooms.nonstandard.unused": 0,
         "teachers.instructor": 0,
         "teachers.mobile": 1,
         "teachers.regular": 3,
         "teachers.sped": 0,
         "MOOE": 92000,
         "_deepnote_index_column": 5
        },
        {
         "school.id": 101131,
         "school.name": "Abagatanen IS",
         "school.region": "Region I",
         "school.region.name": "Ilocos Region",
         "school.province": "PANGASINAN",
         "school.cityhall": "PANGASINAN",
         "school.division": "Pangasinan I, Lingayen",
         "school.citymuni": "AGNO",
         "school.district": "Agno",
         "school.legdistrict": "1st District",
         "school.type": "School with no Annexes",
         "school.abbrev": "nan",
         "school.previousname": "Abagatanen ES-",
         "school.mother.id": 101131,
         "school.address": "ABAGATANEN",
         "school.established": "1/1/1955",
         "school.classification": "Elementary",
         "school.classification2": "DepED Managed",
         "school.curricularclass": "Elementary",
         "school.organization": "Monograde",
         "school.cityincome": "P 35 M or more but less than P 45 M",
         "school.cityclass": "nan",
         "school.urban": "Partially Urban",
         "School ID_x": 101131,
         "Kinder Male": 18,
         "Kinder Female": 18,
         "Grade 1 Male": 14,
         "Grade 1 Female": 18,
         "Grade 2 Male": 27,
         "Grade 2 Female": 17,
         "Grade 3 Male": 28,
         "Grade 3 Female": 16,
         "Grade 4 Male": 16,
         "Grade 4 Female": 20,
         "Grade 5 Male": 19,
         "Grade 5 Female": 12,
         "Grade 6 Male": 10,
         "Grade 6 Female": 13,
         "SPED NG Male": 0,
         "SPED NG Female": 0,
         "Grade 7 Male": "nan",
         "Grade 7 Female": "nan",
         "Grade 8 Male": "nan",
         "Grade 8 Female": "nan",
         "Grade 9 Male": "nan",
         "Grade 9 Female": "nan",
         "Grade 10 Male": "nan",
         "Grade 10 Female": "nan",
         "Grade 11 Male": "nan",
         "Grade 11 Female": "nan",
         "Grade 12 Male": "nan",
         "Grade 12 Female": "nan",
         "rooms.standard.academic": 6,
         "rooms.standard.unused": 0,
         "rooms.nonstandard.academic": 0,
         "rooms.nonstandard.unused": 0,
         "teachers.instructor": 0,
         "teachers.mobile": 0,
         "teachers.regular": 6,
         "teachers.sped": 0,
         "MOOE": 148000,
         "_deepnote_index_column": 6
        },
        {
         "school.id": 102252,
         "school.name": "Abanon Central School",
         "school.region": "Region I",
         "school.region.name": "Ilocos Region",
         "school.province": "PANGASINAN",
         "school.cityhall": "PANGASINAN",
         "school.division": "San Carlos City",
         "school.citymuni": "SAN CARLOS CITY",
         "school.district": "San Carlos City District IV",
         "school.legdistrict": "3rd District",
         "school.type": "School with no Annexes",
         "school.abbrev": "Abanon CS",
         "school.previousname": "Abanon Central Elementary School",
         "school.mother.id": 102252,
         "school.address": "-Brgy. Abanon, San Carlos City",
         "school.established": "1/1/2000",
         "school.classification": "Elementary",
         "school.classification2": "DepED Managed",
         "school.curricularclass": "Elementary",
         "school.organization": "Monograde",
         "school.cityincome": "P 240 M or more but less than P 320 M",
         "school.cityclass": "Component City",
         "school.urban": "Partially Urban",
         "School ID_x": 102252,
         "Kinder Male": 53,
         "Kinder Female": 49,
         "Grade 1 Male": 61,
         "Grade 1 Female": 68,
         "Grade 2 Male": 85,
         "Grade 2 Female": 53,
         "Grade 3 Male": 65,
         "Grade 3 Female": 64,
         "Grade 4 Male": 71,
         "Grade 4 Female": 58,
         "Grade 5 Male": 56,
         "Grade 5 Female": 56,
         "Grade 6 Male": 58,
         "Grade 6 Female": 51,
         "SPED NG Male": 5,
         "SPED NG Female": 1,
         "Grade 7 Male": "nan",
         "Grade 7 Female": "nan",
         "Grade 8 Male": "nan",
         "Grade 8 Female": "nan",
         "Grade 9 Male": "nan",
         "Grade 9 Female": "nan",
         "Grade 10 Male": "nan",
         "Grade 10 Female": "nan",
         "Grade 11 Male": "nan",
         "Grade 11 Female": "nan",
         "Grade 12 Male": "nan",
         "Grade 12 Female": "nan",
         "rooms.standard.academic": 24,
         "rooms.standard.unused": 0,
         "rooms.nonstandard.academic": 0,
         "rooms.nonstandard.unused": 0,
         "teachers.instructor": 0,
         "teachers.mobile": 4,
         "teachers.regular": 22,
         "teachers.sped": 1,
         "MOOE": 440000,
         "_deepnote_index_column": 7
        }
       ],
       "rows_bottom": [
        {
         "school.id": 320605,
         "school.name": "Upper Bicutan National High School",
         "school.region": "NCR",
         "school.region.name": "National Capital Region",
         "school.province": "NCR FOURTH DISTRICT",
         "school.cityhall": "TAGUIG CITY",
         "school.division": "Taguig",
         "school.citymuni": "TAGUIG CITY",
         "school.district": "Taguig District II",
         "school.legdistrict": "2nd District",
         "school.type": "School with no Annexes",
         "school.abbrev": "UBNHS",
         "school.previousname": "-",
         "school.mother.id": 320605,
         "school.address": "General Santos Avenue",
         "school.established": "1/1/2005",
         "school.classification": "Secondary",
         "school.classification2": "DepED Managed",
         "school.curricularclass": "Secondary",
         "school.organization": "Monograde",
         "school.cityincome": "P 400 M or more",
         "school.cityclass": "Highly Urbanized City",
         "school.urban": "Urban",
         "School ID_x": 320605,
         "Kinder Male": "nan",
         "Kinder Female": "nan",
         "Grade 1 Male": "nan",
         "Grade 1 Female": "nan",
         "Grade 2 Male": "nan",
         "Grade 2 Female": "nan",
         "Grade 3 Male": "nan",
         "Grade 3 Female": "nan",
         "Grade 4 Male": "nan",
         "Grade 4 Female": "nan",
         "Grade 5 Male": "nan",
         "Grade 5 Female": "nan",
         "Grade 6 Male": "nan",
         "Grade 6 Female": "nan",
         "SPED NG Male": 0,
         "SPED NG Female": 0,
         "Grade 7 Male": 695,
         "Grade 7 Female": 595,
         "Grade 8 Male": 536,
         "Grade 8 Female": 548,
         "Grade 9 Male": 548,
         "Grade 9 Female": 543,
         "Grade 10 Male": 511,
         "Grade 10 Female": 473,
         "Grade 11 Male": 0,
         "Grade 11 Female": 0,
         "Grade 12 Male": 0,
         "Grade 12 Female": 0,
         "rooms.standard.academic": 27,
         "rooms.standard.unused": 0,
         "rooms.nonstandard.academic": 2,
         "rooms.nonstandard.unused": 0,
         "teachers.instructor": 0,
         "teachers.mobile": 2,
         "teachers.regular": 99,
         "teachers.sped": 0,
         "MOOE": 3355000,
         "_deepnote_index_column": 46595
        },
        {
         "school.id": 320401,
         "school.name": "Valenzuela City Science HS",
         "school.region": "NCR",
         "school.region.name": "National Capital Region",
         "school.province": "NCR THIRD DISTRICT",
         "school.cityhall": "CITY OF VALENZUELA",
         "school.division": "Valenzuela City",
         "school.citymuni": "CITY OF VALENZUELA",
         "school.district": "Valenzuela City Central District",
         "school.legdistrict": "1st District",
         "school.type": "School with no Annexes",
         "school.abbrev": "nan",
         "school.previousname": "-",
         "school.mother.id": 320401,
         "school.address": "A. Marcelo",
         "school.established": "1/1/2003",
         "school.classification": "Secondary",
         "school.classification2": "DepED Managed",
         "school.curricularclass": "Secondary",
         "school.organization": "Monograde",
         "school.cityincome": "P 400 M or more",
         "school.cityclass": "Highly Urbanized City",
         "school.urban": "Urban",
         "School ID_x": 320401,
         "Kinder Male": "nan",
         "Kinder Female": "nan",
         "Grade 1 Male": "nan",
         "Grade 1 Female": "nan",
         "Grade 2 Male": "nan",
         "Grade 2 Female": "nan",
         "Grade 3 Male": "nan",
         "Grade 3 Female": "nan",
         "Grade 4 Male": "nan",
         "Grade 4 Female": "nan",
         "Grade 5 Male": "nan",
         "Grade 5 Female": "nan",
         "Grade 6 Male": "nan",
         "Grade 6 Female": "nan",
         "SPED NG Male": 0,
         "SPED NG Female": 0,
         "Grade 7 Male": 102,
         "Grade 7 Female": 180,
         "Grade 8 Male": 93,
         "Grade 8 Female": 142,
         "Grade 9 Male": 69,
         "Grade 9 Female": 79,
         "Grade 10 Male": 52,
         "Grade 10 Female": 52,
         "Grade 11 Male": 0,
         "Grade 11 Female": 0,
         "Grade 12 Male": 0,
         "Grade 12 Female": 0,
         "rooms.standard.academic": 12,
         "rooms.standard.unused": 0,
         "rooms.nonstandard.academic": 0,
         "rooms.nonstandard.unused": 0,
         "teachers.instructor": 0,
         "teachers.mobile": 2,
         "teachers.regular": 16,
         "teachers.sped": 0,
         "MOOE": 621000,
         "_deepnote_index_column": 46596
        },
        {
         "school.id": 305441,
         "school.name": "Valenzuela NHS",
         "school.region": "NCR",
         "school.region.name": "National Capital Region",
         "school.province": "NCR THIRD DISTRICT",
         "school.cityhall": "CITY OF VALENZUELA",
         "school.division": "Valenzuela City",
         "school.citymuni": "CITY OF VALENZUELA",
         "school.district": "Valenzuela City Central District",
         "school.legdistrict": "2nd District",
         "school.type": "School with no Annexes",
         "school.abbrev": "nan",
         "school.previousname": "-",
         "school.mother.id": 305441,
         "school.address": "A. FERNANDO ST., MARULAS,",
         "school.established": "1/1/1969",
         "school.classification": "Secondary",
         "school.classification2": "DepED Managed",
         "school.curricularclass": "Secondary",
         "school.organization": "Monograde",
         "school.cityincome": "P 400 M or more",
         "school.cityclass": "Highly Urbanized City",
         "school.urban": "Urban",
         "School ID_x": 305441,
         "Kinder Male": "nan",
         "Kinder Female": "nan",
         "Grade 1 Male": "nan",
         "Grade 1 Female": "nan",
         "Grade 2 Male": "nan",
         "Grade 2 Female": "nan",
         "Grade 3 Male": "nan",
         "Grade 3 Female": "nan",
         "Grade 4 Male": "nan",
         "Grade 4 Female": "nan",
         "Grade 5 Male": "nan",
         "Grade 5 Female": "nan",
         "Grade 6 Male": "nan",
         "Grade 6 Female": "nan",
         "SPED NG Male": 9,
         "SPED NG Female": 7,
         "Grade 7 Male": 461,
         "Grade 7 Female": 405,
         "Grade 8 Male": 424,
         "Grade 8 Female": 391,
         "Grade 9 Male": 423,
         "Grade 9 Female": 395,
         "Grade 10 Male": 363,
         "Grade 10 Female": 356,
         "Grade 11 Male": 0,
         "Grade 11 Female": 0,
         "Grade 12 Male": 0,
         "Grade 12 Female": 0,
         "rooms.standard.academic": 33,
         "rooms.standard.unused": 0,
         "rooms.nonstandard.academic": 0,
         "rooms.nonstandard.unused": 0,
         "teachers.instructor": 0,
         "teachers.mobile": 18,
         "teachers.regular": 84,
         "teachers.sped": 1,
         "MOOE": 2924000,
         "_deepnote_index_column": 46597
        },
        {
         "school.id": 305308,
         "school.name": "Valeriano E. Fugoso Memorial High School",
         "school.region": "NCR",
         "school.region.name": "National Capital Region",
         "school.province": "MANILA, NCR, FIRST DISTRICT",
         "school.cityhall": "MANILA, NCR, FIRST DISTRICT",
         "school.division": "Manila",
         "school.citymuni": "SAMPALOC",
         "school.district": "Sampaloc V",
         "school.legdistrict": "4th District",
         "school.type": "School with no Annexes",
         "school.abbrev": "Fugoso HS",
         "school.previousname": "-",
         "school.mother.id": 305308,
         "school.address": "Boys Town Complex, Parang, Marikina City",
         "school.established": "1/1/1947",
         "school.classification": "Secondary",
         "school.classification2": "DepED Managed",
         "school.curricularclass": "Secondary",
         "school.organization": "Monograde",
         "school.cityincome": "nan",
         "school.cityclass": "Highly Urbanized City",
         "school.urban": "Urban",
         "School ID_x": 305308,
         "Kinder Male": "nan",
         "Kinder Female": "nan",
         "Grade 1 Male": "nan",
         "Grade 1 Female": "nan",
         "Grade 2 Male": "nan",
         "Grade 2 Female": "nan",
         "Grade 3 Male": "nan",
         "Grade 3 Female": "nan",
         "Grade 4 Male": "nan",
         "Grade 4 Female": "nan",
         "Grade 5 Male": "nan",
         "Grade 5 Female": "nan",
         "Grade 6 Male": "nan",
         "Grade 6 Female": "nan",
         "SPED NG Male": 0,
         "SPED NG Female": 0,
         "Grade 7 Male": 92,
         "Grade 7 Female": 132,
         "Grade 8 Male": 85,
         "Grade 8 Female": 106,
         "Grade 9 Male": 76,
         "Grade 9 Female": 112,
         "Grade 10 Male": 58,
         "Grade 10 Female": 83,
         "Grade 11 Male": 0,
         "Grade 11 Female": 0,
         "Grade 12 Male": 0,
         "Grade 12 Female": 0,
         "rooms.standard.academic": 17,
         "rooms.standard.unused": 0,
         "rooms.nonstandard.academic": 0,
         "rooms.nonstandard.unused": 0,
         "teachers.instructor": 0,
         "teachers.mobile": 7,
         "teachers.regular": 39,
         "teachers.sped": 0,
         "MOOE": 986000,
         "_deepnote_index_column": 46598
        },
        {
         "school.id": 320402,
         "school.name": "Vicente Trinidad NHS (Punturin NHS)",
         "school.region": "NCR",
         "school.region.name": "National Capital Region",
         "school.province": "NCR THIRD DISTRICT",
         "school.cityhall": "CITY OF VALENZUELA",
         "school.division": "Valenzuela City",
         "school.citymuni": "CITY OF VALENZUELA",
         "school.district": "Valenzuela City Central District",
         "school.legdistrict": "1st District",
         "school.type": "School with no Annexes",
         "school.abbrev": "VPTNHS",
         "school.previousname": "Punturin National High School",
         "school.mother.id": 320402,
         "school.address": "Ruby st., Sta. Lucia Village Phase V",
         "school.established": "1/1/2003",
         "school.classification": "Secondary",
         "school.classification2": "DepED Managed",
         "school.curricularclass": "Secondary",
         "school.organization": "Monograde",
         "school.cityincome": "P 400 M or more",
         "school.cityclass": "Highly Urbanized City",
         "school.urban": "Urban",
         "School ID_x": 320402,
         "Kinder Male": "nan",
         "Kinder Female": "nan",
         "Grade 1 Male": "nan",
         "Grade 1 Female": "nan",
         "Grade 2 Male": "nan",
         "Grade 2 Female": "nan",
         "Grade 3 Male": "nan",
         "Grade 3 Female": "nan",
         "Grade 4 Male": "nan",
         "Grade 4 Female": "nan",
         "Grade 5 Male": "nan",
         "Grade 5 Female": "nan",
         "Grade 6 Male": "nan",
         "Grade 6 Female": "nan",
         "SPED NG Male": 0,
         "SPED NG Female": 0,
         "Grade 7 Male": 267,
         "Grade 7 Female": 270,
         "Grade 8 Male": 296,
         "Grade 8 Female": 275,
         "Grade 9 Male": 265,
         "Grade 9 Female": 267,
         "Grade 10 Male": 239,
         "Grade 10 Female": 234,
         "Grade 11 Male": 0,
         "Grade 11 Female": 0,
         "Grade 12 Male": 0,
         "Grade 12 Female": 0,
         "rooms.standard.academic": 23,
         "rooms.standard.unused": 0,
         "rooms.nonstandard.academic": 0,
         "rooms.nonstandard.unused": 0,
         "teachers.instructor": 0,
         "teachers.mobile": 4,
         "teachers.regular": 41,
         "teachers.sped": 0,
         "MOOE": 1798000,
         "_deepnote_index_column": 46599
        },
        {
         "school.id": 305315,
         "school.name": "Victoriano Mapa High School",
         "school.region": "NCR",
         "school.region.name": "National Capital Region",
         "school.province": "MANILA, NCR, FIRST DISTRICT",
         "school.cityhall": "MANILA, NCR, FIRST DISTRICT",
         "school.division": "Manila",
         "school.citymuni": "SAN MIGUEL",
         "school.district": "Sta. Cruz V",
         "school.legdistrict": "6th District",
         "school.type": "School with no Annexes",
         "school.abbrev": "VMHS",
         "school.previousname": "MANILA EAST HS",
         "school.mother.id": 305315,
         "school.address": "300 San Rafael St., San Miguel,",
         "school.established": "1/1/1923",
         "school.classification": "Secondary",
         "school.classification2": "DepED Managed",
         "school.curricularclass": "Secondary",
         "school.organization": "Monograde",
         "school.cityincome": "nan",
         "school.cityclass": "Highly Urbanized City",
         "school.urban": "Urban",
         "School ID_x": 305315,
         "Kinder Male": "nan",
         "Kinder Female": "nan",
         "Grade 1 Male": "nan",
         "Grade 1 Female": "nan",
         "Grade 2 Male": "nan",
         "Grade 2 Female": "nan",
         "Grade 3 Male": "nan",
         "Grade 3 Female": "nan",
         "Grade 4 Male": "nan",
         "Grade 4 Female": "nan",
         "Grade 5 Male": "nan",
         "Grade 5 Female": "nan",
         "Grade 6 Male": "nan",
         "Grade 6 Female": "nan",
         "SPED NG Male": 0,
         "SPED NG Female": 0,
         "Grade 7 Male": 516,
         "Grade 7 Female": 549,
         "Grade 8 Male": 472,
         "Grade 8 Female": 532,
         "Grade 9 Male": 412,
         "Grade 9 Female": 457,
         "Grade 10 Male": 401,
         "Grade 10 Female": 441,
         "Grade 11 Male": 0,
         "Grade 11 Female": 0,
         "Grade 12 Male": 0,
         "Grade 12 Female": 0,
         "rooms.standard.academic": 39,
         "rooms.standard.unused": 0,
         "rooms.nonstandard.academic": 0,
         "rooms.nonstandard.unused": 0,
         "teachers.instructor": 0,
         "teachers.mobile": 27,
         "teachers.regular": 164,
         "teachers.sped": 0,
         "MOOE": 3971000,
         "_deepnote_index_column": 46600
        },
        {
         "school.id": 320407,
         "school.name": "Wawangpulo National High School",
         "school.region": "NCR",
         "school.region.name": "National Capital Region",
         "school.province": "NCR THIRD DISTRICT",
         "school.cityhall": "CITY OF VALENZUELA",
         "school.division": "Valenzuela City",
         "school.citymuni": "CITY OF VALENZUELA",
         "school.district": "Valenzuela City North District",
         "school.legdistrict": "1st District",
         "school.type": "School with no Annexes",
         "school.abbrev": "nan",
         "school.previousname": "Valenzuela NHS-Wawang Pulo Annex",
         "school.mother.id": 320407,
         "school.address": "F. Andaya St.",
         "school.established": "1/1/2008",
         "school.classification": "Secondary",
         "school.classification2": "DepED Managed",
         "school.curricularclass": "Secondary",
         "school.organization": "Monograde",
         "school.cityincome": "P 400 M or more",
         "school.cityclass": "Highly Urbanized City",
         "school.urban": "Urban",
         "School ID_x": 320407,
         "Kinder Male": "nan",
         "Kinder Female": "nan",
         "Grade 1 Male": "nan",
         "Grade 1 Female": "nan",
         "Grade 2 Male": "nan",
         "Grade 2 Female": "nan",
         "Grade 3 Male": "nan",
         "Grade 3 Female": "nan",
         "Grade 4 Male": "nan",
         "Grade 4 Female": "nan",
         "Grade 5 Male": "nan",
         "Grade 5 Female": "nan",
         "Grade 6 Male": "nan",
         "Grade 6 Female": "nan",
         "SPED NG Male": 0,
         "SPED NG Female": 0,
         "Grade 7 Male": 98,
         "Grade 7 Female": 76,
         "Grade 8 Male": 106,
         "Grade 8 Female": 54,
         "Grade 9 Male": 80,
         "Grade 9 Female": 58,
         "Grade 10 Male": 55,
         "Grade 10 Female": 44,
         "Grade 11 Male": 0,
         "Grade 11 Female": 0,
         "Grade 12 Male": 0,
         "Grade 12 Female": 0,
         "rooms.standard.academic": 11,
         "rooms.standard.unused": 0,
         "rooms.nonstandard.academic": 0,
         "rooms.nonstandard.unused": 0,
         "teachers.instructor": 0,
         "teachers.mobile": 0,
         "teachers.regular": 6,
         "teachers.sped": 0,
         "MOOE": 539000,
         "_deepnote_index_column": 46601
        },
        {
         "school.id": 305465,
         "school.name": "Western Bicutan NHS",
         "school.region": "NCR",
         "school.region.name": "National Capital Region",
         "school.province": "NCR FOURTH DISTRICT",
         "school.cityhall": "TAGUIG CITY",
         "school.division": "Taguig",
         "school.citymuni": "TAGUIG CITY",
         "school.district": "Taguig District III",
         "school.legdistrict": "2nd District",
         "school.type": "School with no Annexes",
         "school.abbrev": "WBNHS",
         "school.previousname": "N/.A",
         "school.mother.id": 305465,
         "school.address": "EPVillage,Phase 1,Pinagsama,Taguig City",
         "school.established": "1/1/1997",
         "school.classification": "Secondary",
         "school.classification2": "DepED Managed",
         "school.curricularclass": "Secondary",
         "school.organization": "Monograde",
         "school.cityincome": "P 400 M or more",
         "school.cityclass": "Highly Urbanized City",
         "school.urban": "Urban",
         "School ID_x": 305465,
         "Kinder Male": "nan",
         "Kinder Female": "nan",
         "Grade 1 Male": "nan",
         "Grade 1 Female": "nan",
         "Grade 2 Male": "nan",
         "Grade 2 Female": "nan",
         "Grade 3 Male": "nan",
         "Grade 3 Female": "nan",
         "Grade 4 Male": "nan",
         "Grade 4 Female": "nan",
         "Grade 5 Male": "nan",
         "Grade 5 Female": "nan",
         "Grade 6 Male": "nan",
         "Grade 6 Female": "nan",
         "SPED NG Male": 0,
         "SPED NG Female": 0,
         "Grade 7 Male": 635,
         "Grade 7 Female": 627,
         "Grade 8 Male": 623,
         "Grade 8 Female": 634,
         "Grade 9 Male": 543,
         "Grade 9 Female": 546,
         "Grade 10 Male": 504,
         "Grade 10 Female": 501,
         "Grade 11 Male": 0,
         "Grade 11 Female": 0,
         "Grade 12 Male": 0,
         "Grade 12 Female": 0,
         "rooms.standard.academic": 44,
         "rooms.standard.unused": 0,
         "rooms.nonstandard.academic": 0,
         "rooms.nonstandard.unused": 0,
         "teachers.instructor": 0,
         "teachers.mobile": 1,
         "teachers.regular": 96,
         "teachers.sped": 0,
         "MOOE": 3595000,
         "_deepnote_index_column": 46602
        }
       ]
      },
      "text/plain": "       school.id                               school.name school.region  \\\n0         101746                           A. Diaz, Sr. ES      Region I   \n1         102193             A. P. Santos ES (SPED Center)      Region I   \n2         101283                           A.P. Guevara IS      Region I   \n3         100216                                Ab-Abut ES      Region I   \n4         100043                                  Abaca ES      Region I   \n...          ...                                       ...           ...   \n46598     305308  Valeriano E. Fugoso Memorial High School           NCR   \n46599     320402       Vicente Trinidad NHS (Punturin NHS)           NCR   \n46600     305315               Victoriano Mapa High School           NCR   \n46601     320407           Wawangpulo National High School           NCR   \n46602     305465                       Western Bicutan NHS           NCR   \n\n            school.region.name              school.province  \\\n0                Ilocos Region                   PANGASINAN   \n1                Ilocos Region                 ILOCOS NORTE   \n2                Ilocos Region                   PANGASINAN   \n3                Ilocos Region                 ILOCOS NORTE   \n4                Ilocos Region                 ILOCOS NORTE   \n...                        ...                          ...   \n46598  National Capital Region  MANILA, NCR, FIRST DISTRICT   \n46599  National Capital Region           NCR THIRD DISTRICT   \n46600  National Capital Region  MANILA, NCR, FIRST DISTRICT   \n46601  National Capital Region           NCR THIRD DISTRICT   \n46602  National Capital Region          NCR FOURTH DISTRICT   \n\n                   school.cityhall           school.division  \\\n0                       PANGASINAN  Pangasinan II, Binalonan   \n1                     ILOCOS NORTE                Laoag City   \n2                       PANGASINAN    Pangasinan I, Lingayen   \n3                     ILOCOS NORTE              Ilocos Norte   \n4                     ILOCOS NORTE              Ilocos Norte   \n...                            ...                       ...   \n46598  MANILA, NCR, FIRST DISTRICT                    Manila   \n46599           CITY OF VALENZUELA           Valenzuela City   \n46600  MANILA, NCR, FIRST DISTRICT                    Manila   \n46601           CITY OF VALENZUELA           Valenzuela City   \n46602                  TAGUIG CITY                    Taguig   \n\n            school.citymuni                   school.district  \\\n0                  BAUTISTA                          Bautista   \n1      LAOAG CITY (Capital)            Laoag City District II   \n2                 BAYAMBANG                      Bayambang II   \n3                    PIDDIG                            Piddig   \n4                    BANGUI                            Bangui   \n...                     ...                               ...   \n46598              SAMPALOC                        Sampaloc V   \n46599    CITY OF VALENZUELA  Valenzuela City Central District   \n46600            SAN MIGUEL                       Sta. Cruz V   \n46601    CITY OF VALENZUELA    Valenzuela City North District   \n46602           TAGUIG CITY               Taguig District III   \n\n      school.legdistrict  ... Grade 12 Female rooms.standard.academic  \\\n0           5th District  ...             NaN                    15.0   \n1           1st District  ...             NaN                    13.0   \n2           3rd District  ...             NaN                     7.0   \n3           1st District  ...             NaN                     6.0   \n4           1st District  ...             NaN                     9.0   \n...                  ...  ...             ...                     ...   \n46598       4th District  ...             0.0                    17.0   \n46599       1st District  ...             0.0                    23.0   \n46600       6th District  ...             0.0                    39.0   \n46601       1st District  ...             0.0                    11.0   \n46602       2nd District  ...             0.0                    44.0   \n\n      rooms.standard.unused  rooms.nonstandard.academic  \\\n0                       0.0                         0.0   \n1                       3.0                         0.0   \n2                       0.0                         0.0   \n3                       0.0                         0.0   \n4                       0.0                         0.0   \n...                     ...                         ...   \n46598                   0.0                         0.0   \n46599                   0.0                         0.0   \n46600                   0.0                         0.0   \n46601                   0.0                         0.0   \n46602                   0.0                         0.0   \n\n      rooms.nonstandard.unused teachers.instructor teachers.mobile  \\\n0                          0.0                 0.0             1.0   \n1                          0.0                 0.0             2.0   \n2                          0.0                 0.0             1.0   \n3                          0.0                 0.0             1.0   \n4                          0.0                 0.0             1.0   \n...                        ...                 ...             ...   \n46598                      0.0                 0.0             7.0   \n46599                      0.0                 0.0             4.0   \n46600                      0.0                 0.0            27.0   \n46601                      0.0                 0.0             0.0   \n46602                      0.0                 0.0             1.0   \n\n      teachers.regular teachers.sped       MOOE  \n0                 20.0           0.0   341000.0  \n1                 12.0           4.0   275000.0  \n2                  6.0           0.0   132000.0  \n3                  6.0           0.0   135000.0  \n4                  8.0           0.0   182000.0  \n...                ...           ...        ...  \n46598             39.0           0.0   986000.0  \n46599             41.0           0.0  1798000.0  \n46600            164.0           0.0  3971000.0  \n46601              6.0           0.0   539000.0  \n46602             96.0           0.0  3595000.0  \n\n[46603 rows x 61 columns]",
      "text/html": "<div>\n<style scoped>\n    .dataframe tbody tr th:only-of-type {\n        vertical-align: middle;\n    }\n\n    .dataframe tbody tr th {\n        vertical-align: top;\n    }\n\n    .dataframe thead th {\n        text-align: right;\n    }\n</style>\n<table border=\"1\" class=\"dataframe\">\n  <thead>\n    <tr style=\"text-align: right;\">\n      <th></th>\n      <th>school.id</th>\n      <th>school.name</th>\n      <th>school.region</th>\n      <th>school.region.name</th>\n      <th>school.province</th>\n      <th>school.cityhall</th>\n      <th>school.division</th>\n      <th>school.citymuni</th>\n      <th>school.district</th>\n      <th>school.legdistrict</th>\n      <th>...</th>\n      <th>Grade 12 Female</th>\n      <th>rooms.standard.academic</th>\n      <th>rooms.standard.unused</th>\n      <th>rooms.nonstandard.academic</th>\n      <th>rooms.nonstandard.unused</th>\n      <th>teachers.instructor</th>\n      <th>teachers.mobile</th>\n      <th>teachers.regular</th>\n      <th>teachers.sped</th>\n      <th>MOOE</th>\n    </tr>\n  </thead>\n  <tbody>\n    <tr>\n      <th>0</th>\n      <td>101746</td>\n      <td>A. Diaz, Sr. ES</td>\n      <td>Region I</td>\n      <td>Ilocos Region</td>\n      <td>PANGASINAN</td>\n      <td>PANGASINAN</td>\n      <td>Pangasinan II, Binalonan</td>\n      <td>BAUTISTA</td>\n      <td>Bautista</td>\n      <td>5th District</td>\n      <td>...</td>\n      <td>NaN</td>\n      <td>15.0</td>\n      <td>0.0</td>\n      <td>0.0</td>\n      <td>0.0</td>\n      <td>0.0</td>\n      <td>1.0</td>\n      <td>20.0</td>\n      <td>0.0</td>\n      <td>341000.0</td>\n    </tr>\n    <tr>\n      <th>1</th>\n      <td>102193</td>\n      <td>A. P. Santos ES (SPED Center)</td>\n      <td>Region I</td>\n      <td>Ilocos Region</td>\n      <td>ILOCOS NORTE</td>\n      <td>ILOCOS NORTE</td>\n      <td>Laoag City</td>\n      <td>LAOAG CITY (Capital)</td>\n      <td>Laoag City District II</td>\n      <td>1st District</td>\n      <td>...</td>\n      <td>NaN</td>\n      <td>13.0</td>\n      <td>3.0</td>\n      <td>0.0</td>\n      <td>0.0</td>\n      <td>0.0</td>\n      <td>2.0</td>\n      <td>12.0</td>\n      <td>4.0</td>\n      <td>275000.0</td>\n    </tr>\n    <tr>\n      <th>2</th>\n      <td>101283</td>\n      <td>A.P. Guevara IS</td>\n      <td>Region I</td>\n      <td>Ilocos Region</td>\n      <td>PANGASINAN</td>\n      <td>PANGASINAN</td>\n      <td>Pangasinan I, Lingayen</td>\n      <td>BAYAMBANG</td>\n      <td>Bayambang II</td>\n      <td>3rd District</td>\n      <td>...</td>\n      <td>NaN</td>\n      <td>7.0</td>\n      <td>0.0</td>\n      <td>0.0</td>\n      <td>0.0</td>\n      <td>0.0</td>\n      <td>1.0</td>\n      <td>6.0</td>\n      <td>0.0</td>\n      <td>132000.0</td>\n    </tr>\n    <tr>\n      <th>3</th>\n      <td>100216</td>\n      <td>Ab-Abut ES</td>\n      <td>Region I</td>\n      <td>Ilocos Region</td>\n      <td>ILOCOS NORTE</td>\n      <td>ILOCOS NORTE</td>\n      <td>Ilocos Norte</td>\n      <td>PIDDIG</td>\n      <td>Piddig</td>\n      <td>1st District</td>\n      <td>...</td>\n      <td>NaN</td>\n      <td>6.0</td>\n      <td>0.0</td>\n      <td>0.0</td>\n      <td>0.0</td>\n      <td>0.0</td>\n      <td>1.0</td>\n      <td>6.0</td>\n      <td>0.0</td>\n      <td>135000.0</td>\n    </tr>\n    <tr>\n      <th>4</th>\n      <td>100043</td>\n      <td>Abaca ES</td>\n      <td>Region I</td>\n      <td>Ilocos Region</td>\n      <td>ILOCOS NORTE</td>\n      <td>ILOCOS NORTE</td>\n      <td>Ilocos Norte</td>\n      <td>BANGUI</td>\n      <td>Bangui</td>\n      <td>1st District</td>\n      <td>...</td>\n      <td>NaN</td>\n      <td>9.0</td>\n      <td>0.0</td>\n      <td>0.0</td>\n      <td>0.0</td>\n      <td>0.0</td>\n      <td>1.0</td>\n      <td>8.0</td>\n      <td>0.0</td>\n      <td>182000.0</td>\n    </tr>\n    <tr>\n      <th>...</th>\n      <td>...</td>\n      <td>...</td>\n      <td>...</td>\n      <td>...</td>\n      <td>...</td>\n      <td>...</td>\n      <td>...</td>\n      <td>...</td>\n      <td>...</td>\n      <td>...</td>\n      <td>...</td>\n      <td>...</td>\n      <td>...</td>\n      <td>...</td>\n      <td>...</td>\n      <td>...</td>\n      <td>...</td>\n      <td>...</td>\n      <td>...</td>\n      <td>...</td>\n      <td>...</td>\n    </tr>\n    <tr>\n      <th>46598</th>\n      <td>305308</td>\n      <td>Valeriano E. Fugoso Memorial High School</td>\n      <td>NCR</td>\n      <td>National Capital Region</td>\n      <td>MANILA, NCR, FIRST DISTRICT</td>\n      <td>MANILA, NCR, FIRST DISTRICT</td>\n      <td>Manila</td>\n      <td>SAMPALOC</td>\n      <td>Sampaloc V</td>\n      <td>4th District</td>\n      <td>...</td>\n      <td>0.0</td>\n      <td>17.0</td>\n      <td>0.0</td>\n      <td>0.0</td>\n      <td>0.0</td>\n      <td>0.0</td>\n      <td>7.0</td>\n      <td>39.0</td>\n      <td>0.0</td>\n      <td>986000.0</td>\n    </tr>\n    <tr>\n      <th>46599</th>\n      <td>320402</td>\n      <td>Vicente Trinidad NHS (Punturin NHS)</td>\n      <td>NCR</td>\n      <td>National Capital Region</td>\n      <td>NCR THIRD DISTRICT</td>\n      <td>CITY OF VALENZUELA</td>\n      <td>Valenzuela City</td>\n      <td>CITY OF VALENZUELA</td>\n      <td>Valenzuela City Central District</td>\n      <td>1st District</td>\n      <td>...</td>\n      <td>0.0</td>\n      <td>23.0</td>\n      <td>0.0</td>\n      <td>0.0</td>\n      <td>0.0</td>\n      <td>0.0</td>\n      <td>4.0</td>\n      <td>41.0</td>\n      <td>0.0</td>\n      <td>1798000.0</td>\n    </tr>\n    <tr>\n      <th>46600</th>\n      <td>305315</td>\n      <td>Victoriano Mapa High School</td>\n      <td>NCR</td>\n      <td>National Capital Region</td>\n      <td>MANILA, NCR, FIRST DISTRICT</td>\n      <td>MANILA, NCR, FIRST DISTRICT</td>\n      <td>Manila</td>\n      <td>SAN MIGUEL</td>\n      <td>Sta. Cruz V</td>\n      <td>6th District</td>\n      <td>...</td>\n      <td>0.0</td>\n      <td>39.0</td>\n      <td>0.0</td>\n      <td>0.0</td>\n      <td>0.0</td>\n      <td>0.0</td>\n      <td>27.0</td>\n      <td>164.0</td>\n      <td>0.0</td>\n      <td>3971000.0</td>\n    </tr>\n    <tr>\n      <th>46601</th>\n      <td>320407</td>\n      <td>Wawangpulo National High School</td>\n      <td>NCR</td>\n      <td>National Capital Region</td>\n      <td>NCR THIRD DISTRICT</td>\n      <td>CITY OF VALENZUELA</td>\n      <td>Valenzuela City</td>\n      <td>CITY OF VALENZUELA</td>\n      <td>Valenzuela City North District</td>\n      <td>1st District</td>\n      <td>...</td>\n      <td>0.0</td>\n      <td>11.0</td>\n      <td>0.0</td>\n      <td>0.0</td>\n      <td>0.0</td>\n      <td>0.0</td>\n      <td>0.0</td>\n      <td>6.0</td>\n      <td>0.0</td>\n      <td>539000.0</td>\n    </tr>\n    <tr>\n      <th>46602</th>\n      <td>305465</td>\n      <td>Western Bicutan NHS</td>\n      <td>NCR</td>\n      <td>National Capital Region</td>\n      <td>NCR FOURTH DISTRICT</td>\n      <td>TAGUIG CITY</td>\n      <td>Taguig</td>\n      <td>TAGUIG CITY</td>\n      <td>Taguig District III</td>\n      <td>2nd District</td>\n      <td>...</td>\n      <td>0.0</td>\n      <td>44.0</td>\n      <td>0.0</td>\n      <td>0.0</td>\n      <td>0.0</td>\n      <td>0.0</td>\n      <td>1.0</td>\n      <td>96.0</td>\n      <td>0.0</td>\n      <td>3595000.0</td>\n    </tr>\n  </tbody>\n</table>\n<p>46603 rows × 61 columns</p>\n</div>"
     },
     "metadata": {}
    }
   ]
  },
  {
   "cell_type": "code",
   "metadata": {
    "cell_id": "00018-c2af77f1-9a0f-4ab6-8143-8ba2a5526f21",
    "deepnote_to_be_reexecuted": false,
    "source_hash": "b03cc2e0",
    "execution_start": 1621513067909,
    "execution_millis": 21,
    "deepnote_cell_type": "code"
   },
   "source": "df_sped = master_df[(master_df[\"SPED NG Male\"] > 0) | (master_df[\"SPED NG Female\"] > 0)]\n\ndf_nosped = master_df[(master_df[\"SPED NG Male\"] < 1) & (master_df[\"SPED NG Female\"] < 1)]",
   "execution_count": 93,
   "outputs": []
  },
  {
   "cell_type": "code",
   "metadata": {
    "cell_id": "00019-cfab87de-0269-46c9-a88d-621d5739e206",
    "deepnote_to_be_reexecuted": false,
    "source_hash": "381b3519",
    "execution_start": 1621511447413,
    "execution_millis": 11,
    "deepnote_cell_type": "code"
   },
   "source": "df_sped.shape",
   "execution_count": 25,
   "outputs": [
    {
     "output_type": "execute_result",
     "execution_count": 25,
     "data": {
      "text/plain": "(1229, 63)"
     },
     "metadata": {}
    }
   ]
  },
  {
   "cell_type": "code",
   "metadata": {
    "cell_id": "00020-4fa0f52d-8dc7-4628-a09d-da8ee6d21dc0",
    "deepnote_to_be_reexecuted": false,
    "source_hash": "38c6aba5",
    "execution_start": 1621511447430,
    "execution_millis": 52,
    "deepnote_cell_type": "code"
   },
   "source": "df_sped.info()",
   "execution_count": 26,
   "outputs": [
    {
     "name": "stdout",
     "text": "<class 'pandas.core.frame.DataFrame'>\nInt64Index: 1229 entries, 1 to 46597\nData columns (total 63 columns):\n #   Column                      Non-Null Count  Dtype  \n---  ------                      --------------  -----  \n 0   school.id                   1229 non-null   int64  \n 1   school.name                 1229 non-null   object \n 2   school.region               1229 non-null   object \n 3   school.region.name          1229 non-null   object \n 4   school.province             1229 non-null   object \n 5   school.cityhall             1229 non-null   object \n 6   school.division             1229 non-null   object \n 7   school.citymuni             1229 non-null   object \n 8   school.district             1229 non-null   object \n 9   school.legdistrict          1229 non-null   object \n 10  school.type                 1229 non-null   object \n 11  school.abbrev               660 non-null    object \n 12  school.previousname         1116 non-null   object \n 13  school.mother.id            1229 non-null   float64\n 14  school.address              1218 non-null   object \n 15  school.established          1228 non-null   object \n 16  school.classification       1229 non-null   object \n 17  school.classification2      1229 non-null   object \n 18  school.curricularclass      1229 non-null   object \n 19  school.organization         1229 non-null   object \n 20  school.cityincome           1190 non-null   object \n 21  school.cityclass            448 non-null    object \n 22  school.urban                1228 non-null   object \n 23  School ID_x                 1229 non-null   float64\n 24  Kinder Male                 1150 non-null   float64\n 25  Kinder Female               1150 non-null   float64\n 26  Grade 1 Male                1150 non-null   float64\n 27  Grade 1 Female              1150 non-null   float64\n 28  Grade 2 Male                1150 non-null   float64\n 29  Grade 2 Female              1150 non-null   float64\n 30  Grade 3 Male                1150 non-null   float64\n 31  Grade 3 Female              1150 non-null   float64\n 32  Grade 4 Male                1150 non-null   float64\n 33  Grade 4 Female              1150 non-null   float64\n 34  Grade 5 Male                1150 non-null   float64\n 35  Grade 5 Female              1150 non-null   float64\n 36  Grade 6 Male                1150 non-null   float64\n 37  Grade 6 Female              1150 non-null   float64\n 38  SPED NG Male                1229 non-null   float64\n 39  SPED NG Female              1229 non-null   float64\n 40  Grade 7 Male                79 non-null     float64\n 41  Grade 7 Female              79 non-null     float64\n 42  Grade 8 Male                79 non-null     float64\n 43  Grade 8 Female              79 non-null     float64\n 44  Grade 9 Male                79 non-null     float64\n 45  Grade 9 Female              79 non-null     float64\n 46  Grade 10 Male               79 non-null     float64\n 47  Grade 10 Female             79 non-null     float64\n 48  Grade 11 Male               79 non-null     float64\n 49  Grade 11 Female             79 non-null     float64\n 50  Grade 12 Male               79 non-null     float64\n 51  Grade 12 Female             79 non-null     float64\n 52   school.mooe                1227 non-null   float64\n 53  School ID_y                 1225 non-null   float64\n 54  rooms.standard.academic     1225 non-null   float64\n 55  rooms.standard.unused       1225 non-null   float64\n 56  rooms.nonstandard.academic  1224 non-null   float64\n 57  rooms.nonstandard.unused    1224 non-null   float64\n 58  teachers.instructor         1224 non-null   float64\n 59  teachers.mobile             1224 non-null   float64\n 60  teachers.regular            1224 non-null   float64\n 61  teachers.sped               1224 non-null   float64\n 62  MOOE                        1227 non-null   float64\ndtypes: float64(41), int64(1), object(21)\nmemory usage: 614.5+ KB\n",
     "output_type": "stream"
    }
   ]
  },
  {
   "cell_type": "code",
   "metadata": {
    "cell_id": "00021-08393628-eee4-4e3e-a8e0-152162e3ed15",
    "deepnote_to_be_reexecuted": false,
    "source_hash": "98d31987",
    "execution_start": 1621511447457,
    "execution_millis": 25,
    "deepnote_cell_type": "code"
   },
   "source": "#Number of Schools with SPED students per region\ndf_sped[\"school.region\"].value_counts()",
   "execution_count": 27,
   "outputs": [
    {
     "output_type": "execute_result",
     "execution_count": 27,
     "data": {
      "text/plain": "Region IV-A    174\nNCR            135\nRegion VII     108\nRegion III     102\nRegion I        79\nRegion XI       76\nRegion IV-B     75\nRegion IX       73\nRegion VI       71\nRegion X        63\nRegion V        59\nRegion VIII     56\nRegion XIII     55\nRegion II       46\nRegion XII      41\nCAR             14\nARMM             2\nName: school.region, dtype: int64"
     },
     "metadata": {}
    }
   ]
  },
  {
   "cell_type": "code",
   "metadata": {
    "cell_id": "00022-d5178b78-b29c-4c5e-bb9e-575df7535bf8",
    "deepnote_to_be_reexecuted": false,
    "source_hash": "115b2231",
    "execution_start": 1621511447458,
    "execution_millis": 24,
    "deepnote_cell_type": "code"
   },
   "source": "#Number of SPED teachers per region\ndf_sped.groupby(\"school.region\")[\"teachers.sped\"].sum()",
   "execution_count": 28,
   "outputs": [
    {
     "output_type": "execute_result",
     "execution_count": 28,
     "data": {
      "text/plain": "school.region\nARMM             0.0\nCAR             54.0\nNCR            355.0\nRegion I       110.0\nRegion II       49.0\nRegion III     130.0\nRegion IV-A    160.0\nRegion IV-B     76.0\nRegion IX      105.0\nRegion V        83.0\nRegion VI       89.0\nRegion VII     116.0\nRegion VIII     76.0\nRegion X        58.0\nRegion XI      103.0\nRegion XII      78.0\nRegion XIII     76.0\nName: teachers.sped, dtype: float64"
     },
     "metadata": {}
    }
   ]
  },
  {
   "cell_type": "code",
   "metadata": {
    "cell_id": "00023-dbd410ee-ed17-41bb-af27-4c910d42102c",
    "deepnote_to_be_reexecuted": false,
    "source_hash": "df26f589",
    "execution_start": 1621511447466,
    "execution_millis": 62,
    "deepnote_cell_type": "code"
   },
   "source": "df_sped[\"school.urban\"].value_counts()",
   "execution_count": 29,
   "outputs": [
    {
     "output_type": "execute_result",
     "execution_count": 29,
     "data": {
      "text/plain": "Partially Urban    917\nUrban              284\nRural               27\nName: school.urban, dtype: int64"
     },
     "metadata": {}
    }
   ]
  },
  {
   "cell_type": "code",
   "metadata": {
    "cell_id": "00024-37470b3d-34ca-4c50-8f5b-a95eff274fe5",
    "deepnote_to_be_reexecuted": false,
    "source_hash": "121686cf",
    "execution_start": 1621511447474,
    "execution_millis": 18,
    "deepnote_cell_type": "code"
   },
   "source": "df_nonsped = master_df[(master_df[\"SPED NG Male\"] == 0) & (master_df[\"SPED NG Female\"] == 0) & (master_df[\"teachers.sped\"] == 0)]",
   "execution_count": 30,
   "outputs": []
  },
  {
   "cell_type": "code",
   "metadata": {
    "cell_id": "00025-ec855d21-713a-4940-b207-e3a1c8e20ade",
    "deepnote_to_be_reexecuted": false,
    "source_hash": "715f2293",
    "execution_start": 1621511447492,
    "execution_millis": 36,
    "deepnote_cell_type": "code"
   },
   "source": "df_nonsped.shape",
   "execution_count": 31,
   "outputs": [
    {
     "output_type": "execute_result",
     "execution_count": 31,
     "data": {
      "text/plain": "(43615, 63)"
     },
     "metadata": {}
    }
   ]
  },
  {
   "cell_type": "code",
   "metadata": {
    "cell_id": "00026-084de1d7-bbfe-41f0-b496-5e3845aeba2a",
    "deepnote_to_be_reexecuted": false,
    "source_hash": "f475b919",
    "execution_start": 1621511447500,
    "execution_millis": 28,
    "deepnote_cell_type": "code"
   },
   "source": "df_sped[\"MOOE\"].sum()/master_df[\"MOOE\"].sum()",
   "execution_count": 32,
   "outputs": [
    {
     "output_type": "execute_result",
     "execution_count": 32,
     "data": {
      "text/plain": "0.0739644379928814"
     },
     "metadata": {}
    }
   ]
  },
  {
   "cell_type": "code",
   "metadata": {
    "cell_id": "00027-cdd0cc35-5d7b-4c8f-9cf7-1e76992fc0b0",
    "deepnote_to_be_reexecuted": false,
    "source_hash": "e9258198",
    "execution_start": 1621511447505,
    "execution_millis": 4,
    "deepnote_cell_type": "code"
   },
   "source": "#Insight: Of the total MOOE, only 8.48% is allocated to SPED schools",
   "execution_count": 33,
   "outputs": []
  },
  {
   "cell_type": "code",
   "metadata": {
    "cell_id": "00028-2645f223-9053-4537-a7bf-db0a6889786c",
    "deepnote_to_be_reexecuted": false,
    "source_hash": "25f5b23a",
    "execution_start": 1621511447513,
    "execution_millis": 6,
    "deepnote_cell_type": "code"
   },
   "source": "#Possible clustering:\n#We identify clusters based on demand and supply i.e. use teacher student ratios to identify schools with high demand of students and ",
   "execution_count": 34,
   "outputs": []
  },
  {
   "cell_type": "code",
   "metadata": {
    "cell_id": "00029-6fa9be33-56bc-4d34-aeda-777b9075015b",
    "deepnote_to_be_reexecuted": false,
    "source_hash": "15c3bf11",
    "execution_start": 1621511447521,
    "execution_millis": 84,
    "deepnote_cell_type": "code"
   },
   "source": "enrol_all.head()",
   "execution_count": 35,
   "outputs": [
    {
     "output_type": "execute_result",
     "execution_count": 35,
     "data": {
      "application/vnd.deepnote.dataframe.v2+json": {
       "row_count": 5,
       "column_count": 29,
       "columns": [
        {
         "name": "School ID",
         "dtype": "int64",
         "stats": {
          "unique_count": 5,
          "nan_count": 0,
          "min": "100001",
          "max": "100005",
          "histogram": [
           {
            "bin_start": 100001,
            "bin_end": 100001.4,
            "count": 1
           },
           {
            "bin_start": 100001.4,
            "bin_end": 100001.8,
            "count": 0
           },
           {
            "bin_start": 100001.8,
            "bin_end": 100002.2,
            "count": 1
           },
           {
            "bin_start": 100002.2,
            "bin_end": 100002.6,
            "count": 0
           },
           {
            "bin_start": 100002.6,
            "bin_end": 100003,
            "count": 0
           },
           {
            "bin_start": 100003,
            "bin_end": 100003.4,
            "count": 1
           },
           {
            "bin_start": 100003.4,
            "bin_end": 100003.8,
            "count": 0
           },
           {
            "bin_start": 100003.8,
            "bin_end": 100004.2,
            "count": 1
           },
           {
            "bin_start": 100004.2,
            "bin_end": 100004.6,
            "count": 0
           },
           {
            "bin_start": 100004.6,
            "bin_end": 100005,
            "count": 1
           }
          ]
         }
        },
        {
         "name": "Kinder Male",
         "dtype": "float64",
         "stats": {
          "unique_count": 4,
          "nan_count": 0,
          "min": "4.0",
          "max": "41.0",
          "histogram": [
           {
            "bin_start": 4,
            "bin_end": 7.7,
            "count": 1
           },
           {
            "bin_start": 7.7,
            "bin_end": 11.4,
            "count": 3
           },
           {
            "bin_start": 11.4,
            "bin_end": 15.100000000000001,
            "count": 0
           },
           {
            "bin_start": 15.100000000000001,
            "bin_end": 18.8,
            "count": 0
           },
           {
            "bin_start": 18.8,
            "bin_end": 22.5,
            "count": 0
           },
           {
            "bin_start": 22.5,
            "bin_end": 26.200000000000003,
            "count": 0
           },
           {
            "bin_start": 26.200000000000003,
            "bin_end": 29.900000000000002,
            "count": 0
           },
           {
            "bin_start": 29.900000000000002,
            "bin_end": 33.6,
            "count": 0
           },
           {
            "bin_start": 33.6,
            "bin_end": 37.300000000000004,
            "count": 0
           },
           {
            "bin_start": 37.300000000000004,
            "bin_end": 41,
            "count": 1
           }
          ]
         }
        },
        {
         "name": "Kinder Female",
         "dtype": "float64",
         "stats": {
          "unique_count": 5,
          "nan_count": 0,
          "min": "2.0",
          "max": "25.0",
          "histogram": [
           {
            "bin_start": 2,
            "bin_end": 4.3,
            "count": 2
           },
           {
            "bin_start": 4.3,
            "bin_end": 6.6,
            "count": 0
           },
           {
            "bin_start": 6.6,
            "bin_end": 8.899999999999999,
            "count": 1
           },
           {
            "bin_start": 8.899999999999999,
            "bin_end": 11.2,
            "count": 1
           },
           {
            "bin_start": 11.2,
            "bin_end": 13.5,
            "count": 0
           },
           {
            "bin_start": 13.5,
            "bin_end": 15.799999999999999,
            "count": 0
           },
           {
            "bin_start": 15.799999999999999,
            "bin_end": 18.099999999999998,
            "count": 0
           },
           {
            "bin_start": 18.099999999999998,
            "bin_end": 20.4,
            "count": 0
           },
           {
            "bin_start": 20.4,
            "bin_end": 22.7,
            "count": 0
           },
           {
            "bin_start": 22.7,
            "bin_end": 25,
            "count": 1
           }
          ]
         }
        },
        {
         "name": "Grade 1 Male",
         "dtype": "float64",
         "stats": {
          "unique_count": 5,
          "nan_count": 0,
          "min": "5.0",
          "max": "38.0",
          "histogram": [
           {
            "bin_start": 5,
            "bin_end": 8.3,
            "count": 2
           },
           {
            "bin_start": 8.3,
            "bin_end": 11.6,
            "count": 1
           },
           {
            "bin_start": 11.6,
            "bin_end": 14.899999999999999,
            "count": 1
           },
           {
            "bin_start": 14.899999999999999,
            "bin_end": 18.2,
            "count": 0
           },
           {
            "bin_start": 18.2,
            "bin_end": 21.5,
            "count": 0
           },
           {
            "bin_start": 21.5,
            "bin_end": 24.799999999999997,
            "count": 0
           },
           {
            "bin_start": 24.799999999999997,
            "bin_end": 28.099999999999998,
            "count": 0
           },
           {
            "bin_start": 28.099999999999998,
            "bin_end": 31.4,
            "count": 0
           },
           {
            "bin_start": 31.4,
            "bin_end": 34.7,
            "count": 0
           },
           {
            "bin_start": 34.7,
            "bin_end": 38,
            "count": 1
           }
          ]
         }
        },
        {
         "name": "Grade 1 Female",
         "dtype": "float64",
         "stats": {
          "unique_count": 5,
          "nan_count": 0,
          "min": "2.0",
          "max": "33.0",
          "histogram": [
           {
            "bin_start": 2,
            "bin_end": 5.1,
            "count": 1
           },
           {
            "bin_start": 5.1,
            "bin_end": 8.2,
            "count": 1
           },
           {
            "bin_start": 8.2,
            "bin_end": 11.3,
            "count": 0
           },
           {
            "bin_start": 11.3,
            "bin_end": 14.4,
            "count": 1
           },
           {
            "bin_start": 14.4,
            "bin_end": 17.5,
            "count": 1
           },
           {
            "bin_start": 17.5,
            "bin_end": 20.6,
            "count": 0
           },
           {
            "bin_start": 20.6,
            "bin_end": 23.7,
            "count": 0
           },
           {
            "bin_start": 23.7,
            "bin_end": 26.8,
            "count": 0
           },
           {
            "bin_start": 26.8,
            "bin_end": 29.900000000000002,
            "count": 0
           },
           {
            "bin_start": 29.900000000000002,
            "bin_end": 33,
            "count": 1
           }
          ]
         }
        },
        {
         "name": "Grade 2 Male",
         "dtype": "float64",
         "stats": {
          "unique_count": 5,
          "nan_count": 0,
          "min": "4.0",
          "max": "41.0",
          "histogram": [
           {
            "bin_start": 4,
            "bin_end": 7.7,
            "count": 2
           },
           {
            "bin_start": 7.7,
            "bin_end": 11.4,
            "count": 0
           },
           {
            "bin_start": 11.4,
            "bin_end": 15.100000000000001,
            "count": 2
           },
           {
            "bin_start": 15.100000000000001,
            "bin_end": 18.8,
            "count": 0
           },
           {
            "bin_start": 18.8,
            "bin_end": 22.5,
            "count": 0
           },
           {
            "bin_start": 22.5,
            "bin_end": 26.200000000000003,
            "count": 0
           },
           {
            "bin_start": 26.200000000000003,
            "bin_end": 29.900000000000002,
            "count": 0
           },
           {
            "bin_start": 29.900000000000002,
            "bin_end": 33.6,
            "count": 0
           },
           {
            "bin_start": 33.6,
            "bin_end": 37.300000000000004,
            "count": 0
           },
           {
            "bin_start": 37.300000000000004,
            "bin_end": 41,
            "count": 1
           }
          ]
         }
        },
        {
         "name": "Grade 2 Female",
         "dtype": "float64",
         "stats": {
          "unique_count": 5,
          "nan_count": 0,
          "min": "6.0",
          "max": "40.0",
          "histogram": [
           {
            "bin_start": 6,
            "bin_end": 9.4,
            "count": 2
           },
           {
            "bin_start": 9.4,
            "bin_end": 12.8,
            "count": 1
           },
           {
            "bin_start": 12.8,
            "bin_end": 16.2,
            "count": 1
           },
           {
            "bin_start": 16.2,
            "bin_end": 19.6,
            "count": 0
           },
           {
            "bin_start": 19.6,
            "bin_end": 23,
            "count": 0
           },
           {
            "bin_start": 23,
            "bin_end": 26.4,
            "count": 0
           },
           {
            "bin_start": 26.4,
            "bin_end": 29.8,
            "count": 0
           },
           {
            "bin_start": 29.8,
            "bin_end": 33.2,
            "count": 0
           },
           {
            "bin_start": 33.2,
            "bin_end": 36.599999999999994,
            "count": 0
           },
           {
            "bin_start": 36.599999999999994,
            "bin_end": 40,
            "count": 1
           }
          ]
         }
        },
        {
         "name": "Grade 3 Male",
         "dtype": "float64",
         "stats": {
          "unique_count": 5,
          "nan_count": 0,
          "min": "3.0",
          "max": "28.0",
          "histogram": [
           {
            "bin_start": 3,
            "bin_end": 5.5,
            "count": 1
           },
           {
            "bin_start": 5.5,
            "bin_end": 8,
            "count": 0
           },
           {
            "bin_start": 8,
            "bin_end": 10.5,
            "count": 2
           },
           {
            "bin_start": 10.5,
            "bin_end": 13,
            "count": 0
           },
           {
            "bin_start": 13,
            "bin_end": 15.5,
            "count": 0
           },
           {
            "bin_start": 15.5,
            "bin_end": 18,
            "count": 1
           },
           {
            "bin_start": 18,
            "bin_end": 20.5,
            "count": 0
           },
           {
            "bin_start": 20.5,
            "bin_end": 23,
            "count": 0
           },
           {
            "bin_start": 23,
            "bin_end": 25.5,
            "count": 0
           },
           {
            "bin_start": 25.5,
            "bin_end": 28,
            "count": 1
           }
          ]
         }
        },
        {
         "name": "Grade 3 Female",
         "dtype": "float64",
         "stats": {
          "unique_count": 4,
          "nan_count": 0,
          "min": "5.0",
          "max": "31.0",
          "histogram": [
           {
            "bin_start": 5,
            "bin_end": 7.6,
            "count": 2
           },
           {
            "bin_start": 7.6,
            "bin_end": 10.2,
            "count": 1
           },
           {
            "bin_start": 10.2,
            "bin_end": 12.8,
            "count": 0
           },
           {
            "bin_start": 12.8,
            "bin_end": 15.4,
            "count": 0
           },
           {
            "bin_start": 15.4,
            "bin_end": 18,
            "count": 1
           },
           {
            "bin_start": 18,
            "bin_end": 20.6,
            "count": 0
           },
           {
            "bin_start": 20.6,
            "bin_end": 23.2,
            "count": 0
           },
           {
            "bin_start": 23.2,
            "bin_end": 25.8,
            "count": 0
           },
           {
            "bin_start": 25.8,
            "bin_end": 28.400000000000002,
            "count": 0
           },
           {
            "bin_start": 28.400000000000002,
            "bin_end": 31,
            "count": 1
           }
          ]
         }
        },
        {
         "name": "Grade 4 Male",
         "dtype": "float64",
         "stats": {
          "unique_count": 4,
          "nan_count": 0,
          "min": "7.0",
          "max": "38.0",
          "histogram": [
           {
            "bin_start": 7,
            "bin_end": 10.1,
            "count": 1
           },
           {
            "bin_start": 10.1,
            "bin_end": 13.2,
            "count": 1
           },
           {
            "bin_start": 13.2,
            "bin_end": 16.3,
            "count": 2
           },
           {
            "bin_start": 16.3,
            "bin_end": 19.4,
            "count": 0
           },
           {
            "bin_start": 19.4,
            "bin_end": 22.5,
            "count": 0
           },
           {
            "bin_start": 22.5,
            "bin_end": 25.6,
            "count": 0
           },
           {
            "bin_start": 25.6,
            "bin_end": 28.7,
            "count": 0
           },
           {
            "bin_start": 28.7,
            "bin_end": 31.8,
            "count": 0
           },
           {
            "bin_start": 31.8,
            "bin_end": 34.900000000000006,
            "count": 0
           },
           {
            "bin_start": 34.900000000000006,
            "bin_end": 38,
            "count": 1
           }
          ]
         }
        },
        {
         "name": "Grade 4 Female",
         "dtype": "float64",
         "stats": {
          "unique_count": 3,
          "nan_count": 0,
          "min": "5.0",
          "max": "30.0",
          "histogram": [
           {
            "bin_start": 5,
            "bin_end": 7.5,
            "count": 2
           },
           {
            "bin_start": 7.5,
            "bin_end": 10,
            "count": 0
           },
           {
            "bin_start": 10,
            "bin_end": 12.5,
            "count": 2
           },
           {
            "bin_start": 12.5,
            "bin_end": 15,
            "count": 0
           },
           {
            "bin_start": 15,
            "bin_end": 17.5,
            "count": 0
           },
           {
            "bin_start": 17.5,
            "bin_end": 20,
            "count": 0
           },
           {
            "bin_start": 20,
            "bin_end": 22.5,
            "count": 0
           },
           {
            "bin_start": 22.5,
            "bin_end": 25,
            "count": 0
           },
           {
            "bin_start": 25,
            "bin_end": 27.5,
            "count": 0
           },
           {
            "bin_start": 27.5,
            "bin_end": 30,
            "count": 1
           }
          ]
         }
        },
        {
         "name": "Grade 5 Male",
         "dtype": "float64",
         "stats": {
          "unique_count": 5,
          "nan_count": 0,
          "min": "3.0",
          "max": "26.0",
          "histogram": [
           {
            "bin_start": 3,
            "bin_end": 5.3,
            "count": 2
           },
           {
            "bin_start": 5.3,
            "bin_end": 7.6,
            "count": 1
           },
           {
            "bin_start": 7.6,
            "bin_end": 9.899999999999999,
            "count": 1
           },
           {
            "bin_start": 9.899999999999999,
            "bin_end": 12.2,
            "count": 0
           },
           {
            "bin_start": 12.2,
            "bin_end": 14.5,
            "count": 0
           },
           {
            "bin_start": 14.5,
            "bin_end": 16.799999999999997,
            "count": 0
           },
           {
            "bin_start": 16.799999999999997,
            "bin_end": 19.099999999999998,
            "count": 0
           },
           {
            "bin_start": 19.099999999999998,
            "bin_end": 21.4,
            "count": 0
           },
           {
            "bin_start": 21.4,
            "bin_end": 23.7,
            "count": 0
           },
           {
            "bin_start": 23.7,
            "bin_end": 26,
            "count": 1
           }
          ]
         }
        },
        {
         "name": "Grade 5 Female",
         "dtype": "float64",
         "stats": {
          "unique_count": 5,
          "nan_count": 0,
          "min": "2.0",
          "max": "31.0",
          "histogram": [
           {
            "bin_start": 2,
            "bin_end": 4.9,
            "count": 2
           },
           {
            "bin_start": 4.9,
            "bin_end": 7.8,
            "count": 1
           },
           {
            "bin_start": 7.8,
            "bin_end": 10.7,
            "count": 0
           },
           {
            "bin_start": 10.7,
            "bin_end": 13.6,
            "count": 1
           },
           {
            "bin_start": 13.6,
            "bin_end": 16.5,
            "count": 0
           },
           {
            "bin_start": 16.5,
            "bin_end": 19.4,
            "count": 0
           },
           {
            "bin_start": 19.4,
            "bin_end": 22.3,
            "count": 0
           },
           {
            "bin_start": 22.3,
            "bin_end": 25.2,
            "count": 0
           },
           {
            "bin_start": 25.2,
            "bin_end": 28.099999999999998,
            "count": 0
           },
           {
            "bin_start": 28.099999999999998,
            "bin_end": 31,
            "count": 1
           }
          ]
         }
        },
        {
         "name": "Grade 6 Male",
         "dtype": "float64",
         "stats": {
          "unique_count": 5,
          "nan_count": 0,
          "min": "3.0",
          "max": "22.0",
          "histogram": [
           {
            "bin_start": 3,
            "bin_end": 4.9,
            "count": 1
           },
           {
            "bin_start": 4.9,
            "bin_end": 6.8,
            "count": 0
           },
           {
            "bin_start": 6.8,
            "bin_end": 8.7,
            "count": 0
           },
           {
            "bin_start": 8.7,
            "bin_end": 10.6,
            "count": 1
           },
           {
            "bin_start": 10.6,
            "bin_end": 12.5,
            "count": 1
           },
           {
            "bin_start": 12.5,
            "bin_end": 14.399999999999999,
            "count": 1
           },
           {
            "bin_start": 14.399999999999999,
            "bin_end": 16.299999999999997,
            "count": 0
           },
           {
            "bin_start": 16.299999999999997,
            "bin_end": 18.2,
            "count": 0
           },
           {
            "bin_start": 18.2,
            "bin_end": 20.099999999999998,
            "count": 0
           },
           {
            "bin_start": 20.099999999999998,
            "bin_end": 22,
            "count": 1
           }
          ]
         }
        },
        {
         "name": "Grade 6 Female",
         "dtype": "float64",
         "stats": {
          "unique_count": 4,
          "nan_count": 0,
          "min": "5.0",
          "max": "32.0",
          "histogram": [
           {
            "bin_start": 5,
            "bin_end": 7.7,
            "count": 3
           },
           {
            "bin_start": 7.7,
            "bin_end": 10.4,
            "count": 1
           },
           {
            "bin_start": 10.4,
            "bin_end": 13.100000000000001,
            "count": 0
           },
           {
            "bin_start": 13.100000000000001,
            "bin_end": 15.8,
            "count": 0
           },
           {
            "bin_start": 15.8,
            "bin_end": 18.5,
            "count": 0
           },
           {
            "bin_start": 18.5,
            "bin_end": 21.200000000000003,
            "count": 0
           },
           {
            "bin_start": 21.200000000000003,
            "bin_end": 23.900000000000002,
            "count": 0
           },
           {
            "bin_start": 23.900000000000002,
            "bin_end": 26.6,
            "count": 0
           },
           {
            "bin_start": 26.6,
            "bin_end": 29.3,
            "count": 0
           },
           {
            "bin_start": 29.3,
            "bin_end": 32,
            "count": 1
           }
          ]
         }
        },
        {
         "name": "SPED NG Male",
         "dtype": "int64",
         "stats": {
          "unique_count": 1,
          "nan_count": 0,
          "min": "0",
          "max": "0",
          "histogram": [
           {
            "bin_start": -0.5,
            "bin_end": -0.4,
            "count": 0
           },
           {
            "bin_start": -0.4,
            "bin_end": -0.3,
            "count": 0
           },
           {
            "bin_start": -0.3,
            "bin_end": -0.19999999999999996,
            "count": 0
           },
           {
            "bin_start": -0.19999999999999996,
            "bin_end": -0.09999999999999998,
            "count": 0
           },
           {
            "bin_start": -0.09999999999999998,
            "bin_end": 0,
            "count": 0
           },
           {
            "bin_start": 0,
            "bin_end": 0.10000000000000009,
            "count": 5
           },
           {
            "bin_start": 0.10000000000000009,
            "bin_end": 0.20000000000000007,
            "count": 0
           },
           {
            "bin_start": 0.20000000000000007,
            "bin_end": 0.30000000000000004,
            "count": 0
           },
           {
            "bin_start": 0.30000000000000004,
            "bin_end": 0.4,
            "count": 0
           },
           {
            "bin_start": 0.4,
            "bin_end": 0.5,
            "count": 0
           }
          ]
         }
        },
        {
         "name": "SPED NG Female",
         "dtype": "int64",
         "stats": {
          "unique_count": 1,
          "nan_count": 0,
          "min": "0",
          "max": "0",
          "histogram": [
           {
            "bin_start": -0.5,
            "bin_end": -0.4,
            "count": 0
           },
           {
            "bin_start": -0.4,
            "bin_end": -0.3,
            "count": 0
           },
           {
            "bin_start": -0.3,
            "bin_end": -0.19999999999999996,
            "count": 0
           },
           {
            "bin_start": -0.19999999999999996,
            "bin_end": -0.09999999999999998,
            "count": 0
           },
           {
            "bin_start": -0.09999999999999998,
            "bin_end": 0,
            "count": 0
           },
           {
            "bin_start": 0,
            "bin_end": 0.10000000000000009,
            "count": 5
           },
           {
            "bin_start": 0.10000000000000009,
            "bin_end": 0.20000000000000007,
            "count": 0
           },
           {
            "bin_start": 0.20000000000000007,
            "bin_end": 0.30000000000000004,
            "count": 0
           },
           {
            "bin_start": 0.30000000000000004,
            "bin_end": 0.4,
            "count": 0
           },
           {
            "bin_start": 0.4,
            "bin_end": 0.5,
            "count": 0
           }
          ]
         }
        },
        {
         "name": "Grade 7 Male",
         "dtype": "float64",
         "stats": {
          "unique_count": 0,
          "nan_count": 5,
          "min": null,
          "max": null,
          "histogram": [
           {
            "bin_start": 0,
            "bin_end": 0.1,
            "count": 0
           },
           {
            "bin_start": 0.1,
            "bin_end": 0.2,
            "count": 0
           },
           {
            "bin_start": 0.2,
            "bin_end": 0.30000000000000004,
            "count": 0
           },
           {
            "bin_start": 0.30000000000000004,
            "bin_end": 0.4,
            "count": 0
           },
           {
            "bin_start": 0.4,
            "bin_end": 0.5,
            "count": 0
           },
           {
            "bin_start": 0.5,
            "bin_end": 0.6000000000000001,
            "count": 0
           },
           {
            "bin_start": 0.6000000000000001,
            "bin_end": 0.7000000000000001,
            "count": 0
           },
           {
            "bin_start": 0.7000000000000001,
            "bin_end": 0.8,
            "count": 0
           },
           {
            "bin_start": 0.8,
            "bin_end": 0.9,
            "count": 0
           },
           {
            "bin_start": 0.9,
            "bin_end": 1,
            "count": 0
           }
          ]
         }
        },
        {
         "name": "Grade 7 Female",
         "dtype": "float64",
         "stats": {
          "unique_count": 0,
          "nan_count": 5,
          "min": null,
          "max": null,
          "histogram": [
           {
            "bin_start": 0,
            "bin_end": 0.1,
            "count": 0
           },
           {
            "bin_start": 0.1,
            "bin_end": 0.2,
            "count": 0
           },
           {
            "bin_start": 0.2,
            "bin_end": 0.30000000000000004,
            "count": 0
           },
           {
            "bin_start": 0.30000000000000004,
            "bin_end": 0.4,
            "count": 0
           },
           {
            "bin_start": 0.4,
            "bin_end": 0.5,
            "count": 0
           },
           {
            "bin_start": 0.5,
            "bin_end": 0.6000000000000001,
            "count": 0
           },
           {
            "bin_start": 0.6000000000000001,
            "bin_end": 0.7000000000000001,
            "count": 0
           },
           {
            "bin_start": 0.7000000000000001,
            "bin_end": 0.8,
            "count": 0
           },
           {
            "bin_start": 0.8,
            "bin_end": 0.9,
            "count": 0
           },
           {
            "bin_start": 0.9,
            "bin_end": 1,
            "count": 0
           }
          ]
         }
        },
        {
         "name": "Grade 8 Male",
         "dtype": "float64",
         "stats": {
          "unique_count": 0,
          "nan_count": 5,
          "min": null,
          "max": null,
          "histogram": [
           {
            "bin_start": 0,
            "bin_end": 0.1,
            "count": 0
           },
           {
            "bin_start": 0.1,
            "bin_end": 0.2,
            "count": 0
           },
           {
            "bin_start": 0.2,
            "bin_end": 0.30000000000000004,
            "count": 0
           },
           {
            "bin_start": 0.30000000000000004,
            "bin_end": 0.4,
            "count": 0
           },
           {
            "bin_start": 0.4,
            "bin_end": 0.5,
            "count": 0
           },
           {
            "bin_start": 0.5,
            "bin_end": 0.6000000000000001,
            "count": 0
           },
           {
            "bin_start": 0.6000000000000001,
            "bin_end": 0.7000000000000001,
            "count": 0
           },
           {
            "bin_start": 0.7000000000000001,
            "bin_end": 0.8,
            "count": 0
           },
           {
            "bin_start": 0.8,
            "bin_end": 0.9,
            "count": 0
           },
           {
            "bin_start": 0.9,
            "bin_end": 1,
            "count": 0
           }
          ]
         }
        },
        {
         "name": "Grade 8 Female",
         "dtype": "float64",
         "stats": {
          "unique_count": 0,
          "nan_count": 5,
          "min": null,
          "max": null,
          "histogram": [
           {
            "bin_start": 0,
            "bin_end": 0.1,
            "count": 0
           },
           {
            "bin_start": 0.1,
            "bin_end": 0.2,
            "count": 0
           },
           {
            "bin_start": 0.2,
            "bin_end": 0.30000000000000004,
            "count": 0
           },
           {
            "bin_start": 0.30000000000000004,
            "bin_end": 0.4,
            "count": 0
           },
           {
            "bin_start": 0.4,
            "bin_end": 0.5,
            "count": 0
           },
           {
            "bin_start": 0.5,
            "bin_end": 0.6000000000000001,
            "count": 0
           },
           {
            "bin_start": 0.6000000000000001,
            "bin_end": 0.7000000000000001,
            "count": 0
           },
           {
            "bin_start": 0.7000000000000001,
            "bin_end": 0.8,
            "count": 0
           },
           {
            "bin_start": 0.8,
            "bin_end": 0.9,
            "count": 0
           },
           {
            "bin_start": 0.9,
            "bin_end": 1,
            "count": 0
           }
          ]
         }
        },
        {
         "name": "Grade 9 Male",
         "dtype": "float64",
         "stats": {
          "unique_count": 0,
          "nan_count": 5,
          "min": null,
          "max": null,
          "histogram": [
           {
            "bin_start": 0,
            "bin_end": 0.1,
            "count": 0
           },
           {
            "bin_start": 0.1,
            "bin_end": 0.2,
            "count": 0
           },
           {
            "bin_start": 0.2,
            "bin_end": 0.30000000000000004,
            "count": 0
           },
           {
            "bin_start": 0.30000000000000004,
            "bin_end": 0.4,
            "count": 0
           },
           {
            "bin_start": 0.4,
            "bin_end": 0.5,
            "count": 0
           },
           {
            "bin_start": 0.5,
            "bin_end": 0.6000000000000001,
            "count": 0
           },
           {
            "bin_start": 0.6000000000000001,
            "bin_end": 0.7000000000000001,
            "count": 0
           },
           {
            "bin_start": 0.7000000000000001,
            "bin_end": 0.8,
            "count": 0
           },
           {
            "bin_start": 0.8,
            "bin_end": 0.9,
            "count": 0
           },
           {
            "bin_start": 0.9,
            "bin_end": 1,
            "count": 0
           }
          ]
         }
        },
        {
         "name": "Grade 9 Female",
         "dtype": "float64",
         "stats": {
          "unique_count": 0,
          "nan_count": 5,
          "min": null,
          "max": null,
          "histogram": [
           {
            "bin_start": 0,
            "bin_end": 0.1,
            "count": 0
           },
           {
            "bin_start": 0.1,
            "bin_end": 0.2,
            "count": 0
           },
           {
            "bin_start": 0.2,
            "bin_end": 0.30000000000000004,
            "count": 0
           },
           {
            "bin_start": 0.30000000000000004,
            "bin_end": 0.4,
            "count": 0
           },
           {
            "bin_start": 0.4,
            "bin_end": 0.5,
            "count": 0
           },
           {
            "bin_start": 0.5,
            "bin_end": 0.6000000000000001,
            "count": 0
           },
           {
            "bin_start": 0.6000000000000001,
            "bin_end": 0.7000000000000001,
            "count": 0
           },
           {
            "bin_start": 0.7000000000000001,
            "bin_end": 0.8,
            "count": 0
           },
           {
            "bin_start": 0.8,
            "bin_end": 0.9,
            "count": 0
           },
           {
            "bin_start": 0.9,
            "bin_end": 1,
            "count": 0
           }
          ]
         }
        },
        {
         "name": "Grade 10 Male",
         "dtype": "float64",
         "stats": {
          "unique_count": 0,
          "nan_count": 5,
          "min": null,
          "max": null,
          "histogram": [
           {
            "bin_start": 0,
            "bin_end": 0.1,
            "count": 0
           },
           {
            "bin_start": 0.1,
            "bin_end": 0.2,
            "count": 0
           },
           {
            "bin_start": 0.2,
            "bin_end": 0.30000000000000004,
            "count": 0
           },
           {
            "bin_start": 0.30000000000000004,
            "bin_end": 0.4,
            "count": 0
           },
           {
            "bin_start": 0.4,
            "bin_end": 0.5,
            "count": 0
           },
           {
            "bin_start": 0.5,
            "bin_end": 0.6000000000000001,
            "count": 0
           },
           {
            "bin_start": 0.6000000000000001,
            "bin_end": 0.7000000000000001,
            "count": 0
           },
           {
            "bin_start": 0.7000000000000001,
            "bin_end": 0.8,
            "count": 0
           },
           {
            "bin_start": 0.8,
            "bin_end": 0.9,
            "count": 0
           },
           {
            "bin_start": 0.9,
            "bin_end": 1,
            "count": 0
           }
          ]
         }
        },
        {
         "name": "Grade 10 Female",
         "dtype": "float64",
         "stats": {
          "unique_count": 0,
          "nan_count": 5,
          "min": null,
          "max": null,
          "histogram": [
           {
            "bin_start": 0,
            "bin_end": 0.1,
            "count": 0
           },
           {
            "bin_start": 0.1,
            "bin_end": 0.2,
            "count": 0
           },
           {
            "bin_start": 0.2,
            "bin_end": 0.30000000000000004,
            "count": 0
           },
           {
            "bin_start": 0.30000000000000004,
            "bin_end": 0.4,
            "count": 0
           },
           {
            "bin_start": 0.4,
            "bin_end": 0.5,
            "count": 0
           },
           {
            "bin_start": 0.5,
            "bin_end": 0.6000000000000001,
            "count": 0
           },
           {
            "bin_start": 0.6000000000000001,
            "bin_end": 0.7000000000000001,
            "count": 0
           },
           {
            "bin_start": 0.7000000000000001,
            "bin_end": 0.8,
            "count": 0
           },
           {
            "bin_start": 0.8,
            "bin_end": 0.9,
            "count": 0
           },
           {
            "bin_start": 0.9,
            "bin_end": 1,
            "count": 0
           }
          ]
         }
        },
        {
         "name": "Grade 11 Male",
         "dtype": "float64",
         "stats": {
          "unique_count": 0,
          "nan_count": 5,
          "min": null,
          "max": null,
          "histogram": [
           {
            "bin_start": 0,
            "bin_end": 0.1,
            "count": 0
           },
           {
            "bin_start": 0.1,
            "bin_end": 0.2,
            "count": 0
           },
           {
            "bin_start": 0.2,
            "bin_end": 0.30000000000000004,
            "count": 0
           },
           {
            "bin_start": 0.30000000000000004,
            "bin_end": 0.4,
            "count": 0
           },
           {
            "bin_start": 0.4,
            "bin_end": 0.5,
            "count": 0
           },
           {
            "bin_start": 0.5,
            "bin_end": 0.6000000000000001,
            "count": 0
           },
           {
            "bin_start": 0.6000000000000001,
            "bin_end": 0.7000000000000001,
            "count": 0
           },
           {
            "bin_start": 0.7000000000000001,
            "bin_end": 0.8,
            "count": 0
           },
           {
            "bin_start": 0.8,
            "bin_end": 0.9,
            "count": 0
           },
           {
            "bin_start": 0.9,
            "bin_end": 1,
            "count": 0
           }
          ]
         }
        },
        {
         "name": "Grade 11 Female",
         "dtype": "float64",
         "stats": {
          "unique_count": 0,
          "nan_count": 5,
          "min": null,
          "max": null,
          "histogram": [
           {
            "bin_start": 0,
            "bin_end": 0.1,
            "count": 0
           },
           {
            "bin_start": 0.1,
            "bin_end": 0.2,
            "count": 0
           },
           {
            "bin_start": 0.2,
            "bin_end": 0.30000000000000004,
            "count": 0
           },
           {
            "bin_start": 0.30000000000000004,
            "bin_end": 0.4,
            "count": 0
           },
           {
            "bin_start": 0.4,
            "bin_end": 0.5,
            "count": 0
           },
           {
            "bin_start": 0.5,
            "bin_end": 0.6000000000000001,
            "count": 0
           },
           {
            "bin_start": 0.6000000000000001,
            "bin_end": 0.7000000000000001,
            "count": 0
           },
           {
            "bin_start": 0.7000000000000001,
            "bin_end": 0.8,
            "count": 0
           },
           {
            "bin_start": 0.8,
            "bin_end": 0.9,
            "count": 0
           },
           {
            "bin_start": 0.9,
            "bin_end": 1,
            "count": 0
           }
          ]
         }
        },
        {
         "name": "Grade 12 Male",
         "dtype": "float64",
         "stats": {
          "unique_count": 0,
          "nan_count": 5,
          "min": null,
          "max": null,
          "histogram": [
           {
            "bin_start": 0,
            "bin_end": 0.1,
            "count": 0
           },
           {
            "bin_start": 0.1,
            "bin_end": 0.2,
            "count": 0
           },
           {
            "bin_start": 0.2,
            "bin_end": 0.30000000000000004,
            "count": 0
           },
           {
            "bin_start": 0.30000000000000004,
            "bin_end": 0.4,
            "count": 0
           },
           {
            "bin_start": 0.4,
            "bin_end": 0.5,
            "count": 0
           },
           {
            "bin_start": 0.5,
            "bin_end": 0.6000000000000001,
            "count": 0
           },
           {
            "bin_start": 0.6000000000000001,
            "bin_end": 0.7000000000000001,
            "count": 0
           },
           {
            "bin_start": 0.7000000000000001,
            "bin_end": 0.8,
            "count": 0
           },
           {
            "bin_start": 0.8,
            "bin_end": 0.9,
            "count": 0
           },
           {
            "bin_start": 0.9,
            "bin_end": 1,
            "count": 0
           }
          ]
         }
        },
        {
         "name": "Grade 12 Female",
         "dtype": "float64",
         "stats": {
          "unique_count": 0,
          "nan_count": 5,
          "min": null,
          "max": null,
          "histogram": [
           {
            "bin_start": 0,
            "bin_end": 0.1,
            "count": 0
           },
           {
            "bin_start": 0.1,
            "bin_end": 0.2,
            "count": 0
           },
           {
            "bin_start": 0.2,
            "bin_end": 0.30000000000000004,
            "count": 0
           },
           {
            "bin_start": 0.30000000000000004,
            "bin_end": 0.4,
            "count": 0
           },
           {
            "bin_start": 0.4,
            "bin_end": 0.5,
            "count": 0
           },
           {
            "bin_start": 0.5,
            "bin_end": 0.6000000000000001,
            "count": 0
           },
           {
            "bin_start": 0.6000000000000001,
            "bin_end": 0.7000000000000001,
            "count": 0
           },
           {
            "bin_start": 0.7000000000000001,
            "bin_end": 0.8,
            "count": 0
           },
           {
            "bin_start": 0.8,
            "bin_end": 0.9,
            "count": 0
           },
           {
            "bin_start": 0.9,
            "bin_end": 1,
            "count": 0
           }
          ]
         }
        },
        {
         "name": "_deepnote_index_column",
         "dtype": "int64"
        }
       ],
       "rows_top": [
        {
         "School ID": 100001,
         "Kinder Male": 9,
         "Kinder Female": 7,
         "Grade 1 Male": 7,
         "Grade 1 Female": 2,
         "Grade 2 Male": 7,
         "Grade 2 Female": 7,
         "Grade 3 Male": 9,
         "Grade 3 Female": 5,
         "Grade 4 Male": 7,
         "Grade 4 Female": 5,
         "Grade 5 Male": 3,
         "Grade 5 Female": 2,
         "Grade 6 Male": 14,
         "Grade 6 Female": 6,
         "SPED NG Male": 0,
         "SPED NG Female": 0,
         "Grade 7 Male": "nan",
         "Grade 7 Female": "nan",
         "Grade 8 Male": "nan",
         "Grade 8 Female": "nan",
         "Grade 9 Male": "nan",
         "Grade 9 Female": "nan",
         "Grade 10 Male": "nan",
         "Grade 10 Female": "nan",
         "Grade 11 Male": "nan",
         "Grade 11 Female": "nan",
         "Grade 12 Male": "nan",
         "Grade 12 Female": "nan",
         "_deepnote_index_column": 0
        },
        {
         "School ID": 100002,
         "Kinder Male": 41,
         "Kinder Female": 25,
         "Grade 1 Male": 38,
         "Grade 1 Female": 33,
         "Grade 2 Male": 41,
         "Grade 2 Female": 40,
         "Grade 3 Male": 28,
         "Grade 3 Female": 31,
         "Grade 4 Male": 38,
         "Grade 4 Female": 30,
         "Grade 5 Male": 26,
         "Grade 5 Female": 31,
         "Grade 6 Male": 22,
         "Grade 6 Female": 32,
         "SPED NG Male": 0,
         "SPED NG Female": 0,
         "Grade 7 Male": "nan",
         "Grade 7 Female": "nan",
         "Grade 8 Male": "nan",
         "Grade 8 Female": "nan",
         "Grade 9 Male": "nan",
         "Grade 9 Female": "nan",
         "Grade 10 Male": "nan",
         "Grade 10 Female": "nan",
         "Grade 11 Male": "nan",
         "Grade 11 Female": "nan",
         "Grade 12 Male": "nan",
         "Grade 12 Female": "nan",
         "_deepnote_index_column": 1
        },
        {
         "School ID": 100003,
         "Kinder Male": 8,
         "Kinder Female": 10,
         "Grade 1 Male": 13,
         "Grade 1 Female": 15,
         "Grade 2 Male": 13,
         "Grade 2 Female": 13,
         "Grade 3 Male": 16,
         "Grade 3 Female": 16,
         "Grade 4 Male": 14,
         "Grade 4 Female": 11,
         "Grade 5 Male": 9,
         "Grade 5 Female": 12,
         "Grade 6 Male": 12,
         "Grade 6 Female": 5,
         "SPED NG Male": 0,
         "SPED NG Female": 0,
         "Grade 7 Male": "nan",
         "Grade 7 Female": "nan",
         "Grade 8 Male": "nan",
         "Grade 8 Female": "nan",
         "Grade 9 Male": "nan",
         "Grade 9 Female": "nan",
         "Grade 10 Male": "nan",
         "Grade 10 Female": "nan",
         "Grade 11 Male": "nan",
         "Grade 11 Female": "nan",
         "Grade 12 Male": "nan",
         "Grade 12 Female": "nan",
         "_deepnote_index_column": 2
        },
        {
         "School ID": 100004,
         "Kinder Male": 8,
         "Kinder Female": 4,
         "Grade 1 Male": 9,
         "Grade 1 Female": 12,
         "Grade 2 Male": 12,
         "Grade 2 Female": 10,
         "Grade 3 Male": 10,
         "Grade 3 Female": 5,
         "Grade 4 Male": 14,
         "Grade 4 Female": 11,
         "Grade 5 Male": 5,
         "Grade 5 Female": 7,
         "Grade 6 Male": 10,
         "Grade 6 Female": 5,
         "SPED NG Male": 0,
         "SPED NG Female": 0,
         "Grade 7 Male": "nan",
         "Grade 7 Female": "nan",
         "Grade 8 Male": "nan",
         "Grade 8 Female": "nan",
         "Grade 9 Male": "nan",
         "Grade 9 Female": "nan",
         "Grade 10 Male": "nan",
         "Grade 10 Female": "nan",
         "Grade 11 Male": "nan",
         "Grade 11 Female": "nan",
         "Grade 12 Male": "nan",
         "Grade 12 Female": "nan",
         "_deepnote_index_column": 3
        },
        {
         "School ID": 100005,
         "Kinder Male": 4,
         "Kinder Female": 2,
         "Grade 1 Male": 5,
         "Grade 1 Female": 7,
         "Grade 2 Male": 4,
         "Grade 2 Female": 6,
         "Grade 3 Male": 3,
         "Grade 3 Female": 8,
         "Grade 4 Male": 11,
         "Grade 4 Female": 5,
         "Grade 5 Male": 7,
         "Grade 5 Female": 4,
         "Grade 6 Male": 3,
         "Grade 6 Female": 8,
         "SPED NG Male": 0,
         "SPED NG Female": 0,
         "Grade 7 Male": "nan",
         "Grade 7 Female": "nan",
         "Grade 8 Male": "nan",
         "Grade 8 Female": "nan",
         "Grade 9 Male": "nan",
         "Grade 9 Female": "nan",
         "Grade 10 Male": "nan",
         "Grade 10 Female": "nan",
         "Grade 11 Male": "nan",
         "Grade 11 Female": "nan",
         "Grade 12 Male": "nan",
         "Grade 12 Female": "nan",
         "_deepnote_index_column": 4
        }
       ],
       "rows_bottom": null
      },
      "text/plain": "   School ID  Kinder Male  Kinder Female  Grade 1 Male  Grade 1 Female  \\\n0     100001          9.0            7.0           7.0             2.0   \n1     100002         41.0           25.0          38.0            33.0   \n2     100003          8.0           10.0          13.0            15.0   \n3     100004          8.0            4.0           9.0            12.0   \n4     100005          4.0            2.0           5.0             7.0   \n\n   Grade 2 Male  Grade 2 Female  Grade 3 Male  Grade 3 Female  Grade 4 Male  \\\n0           7.0             7.0           9.0             5.0           7.0   \n1          41.0            40.0          28.0            31.0          38.0   \n2          13.0            13.0          16.0            16.0          14.0   \n3          12.0            10.0          10.0             5.0          14.0   \n4           4.0             6.0           3.0             8.0          11.0   \n\n   ...  Grade 8 Male  Grade 8 Female  Grade 9 Male  Grade 9 Female  \\\n0  ...           NaN             NaN           NaN             NaN   \n1  ...           NaN             NaN           NaN             NaN   \n2  ...           NaN             NaN           NaN             NaN   \n3  ...           NaN             NaN           NaN             NaN   \n4  ...           NaN             NaN           NaN             NaN   \n\n   Grade 10 Male  Grade 10 Female  Grade 11 Male  Grade 11 Female  \\\n0            NaN              NaN            NaN              NaN   \n1            NaN              NaN            NaN              NaN   \n2            NaN              NaN            NaN              NaN   \n3            NaN              NaN            NaN              NaN   \n4            NaN              NaN            NaN              NaN   \n\n   Grade 12 Male  Grade 12 Female  \n0            NaN              NaN  \n1            NaN              NaN  \n2            NaN              NaN  \n3            NaN              NaN  \n4            NaN              NaN  \n\n[5 rows x 29 columns]",
      "text/html": "<div>\n<style scoped>\n    .dataframe tbody tr th:only-of-type {\n        vertical-align: middle;\n    }\n\n    .dataframe tbody tr th {\n        vertical-align: top;\n    }\n\n    .dataframe thead th {\n        text-align: right;\n    }\n</style>\n<table border=\"1\" class=\"dataframe\">\n  <thead>\n    <tr style=\"text-align: right;\">\n      <th></th>\n      <th>School ID</th>\n      <th>Kinder Male</th>\n      <th>Kinder Female</th>\n      <th>Grade 1 Male</th>\n      <th>Grade 1 Female</th>\n      <th>Grade 2 Male</th>\n      <th>Grade 2 Female</th>\n      <th>Grade 3 Male</th>\n      <th>Grade 3 Female</th>\n      <th>Grade 4 Male</th>\n      <th>...</th>\n      <th>Grade 8 Male</th>\n      <th>Grade 8 Female</th>\n      <th>Grade 9 Male</th>\n      <th>Grade 9 Female</th>\n      <th>Grade 10 Male</th>\n      <th>Grade 10 Female</th>\n      <th>Grade 11 Male</th>\n      <th>Grade 11 Female</th>\n      <th>Grade 12 Male</th>\n      <th>Grade 12 Female</th>\n    </tr>\n  </thead>\n  <tbody>\n    <tr>\n      <th>0</th>\n      <td>100001</td>\n      <td>9.0</td>\n      <td>7.0</td>\n      <td>7.0</td>\n      <td>2.0</td>\n      <td>7.0</td>\n      <td>7.0</td>\n      <td>9.0</td>\n      <td>5.0</td>\n      <td>7.0</td>\n      <td>...</td>\n      <td>NaN</td>\n      <td>NaN</td>\n      <td>NaN</td>\n      <td>NaN</td>\n      <td>NaN</td>\n      <td>NaN</td>\n      <td>NaN</td>\n      <td>NaN</td>\n      <td>NaN</td>\n      <td>NaN</td>\n    </tr>\n    <tr>\n      <th>1</th>\n      <td>100002</td>\n      <td>41.0</td>\n      <td>25.0</td>\n      <td>38.0</td>\n      <td>33.0</td>\n      <td>41.0</td>\n      <td>40.0</td>\n      <td>28.0</td>\n      <td>31.0</td>\n      <td>38.0</td>\n      <td>...</td>\n      <td>NaN</td>\n      <td>NaN</td>\n      <td>NaN</td>\n      <td>NaN</td>\n      <td>NaN</td>\n      <td>NaN</td>\n      <td>NaN</td>\n      <td>NaN</td>\n      <td>NaN</td>\n      <td>NaN</td>\n    </tr>\n    <tr>\n      <th>2</th>\n      <td>100003</td>\n      <td>8.0</td>\n      <td>10.0</td>\n      <td>13.0</td>\n      <td>15.0</td>\n      <td>13.0</td>\n      <td>13.0</td>\n      <td>16.0</td>\n      <td>16.0</td>\n      <td>14.0</td>\n      <td>...</td>\n      <td>NaN</td>\n      <td>NaN</td>\n      <td>NaN</td>\n      <td>NaN</td>\n      <td>NaN</td>\n      <td>NaN</td>\n      <td>NaN</td>\n      <td>NaN</td>\n      <td>NaN</td>\n      <td>NaN</td>\n    </tr>\n    <tr>\n      <th>3</th>\n      <td>100004</td>\n      <td>8.0</td>\n      <td>4.0</td>\n      <td>9.0</td>\n      <td>12.0</td>\n      <td>12.0</td>\n      <td>10.0</td>\n      <td>10.0</td>\n      <td>5.0</td>\n      <td>14.0</td>\n      <td>...</td>\n      <td>NaN</td>\n      <td>NaN</td>\n      <td>NaN</td>\n      <td>NaN</td>\n      <td>NaN</td>\n      <td>NaN</td>\n      <td>NaN</td>\n      <td>NaN</td>\n      <td>NaN</td>\n      <td>NaN</td>\n    </tr>\n    <tr>\n      <th>4</th>\n      <td>100005</td>\n      <td>4.0</td>\n      <td>2.0</td>\n      <td>5.0</td>\n      <td>7.0</td>\n      <td>4.0</td>\n      <td>6.0</td>\n      <td>3.0</td>\n      <td>8.0</td>\n      <td>11.0</td>\n      <td>...</td>\n      <td>NaN</td>\n      <td>NaN</td>\n      <td>NaN</td>\n      <td>NaN</td>\n      <td>NaN</td>\n      <td>NaN</td>\n      <td>NaN</td>\n      <td>NaN</td>\n      <td>NaN</td>\n      <td>NaN</td>\n    </tr>\n  </tbody>\n</table>\n<p>5 rows × 29 columns</p>\n</div>"
     },
     "metadata": {}
    }
   ]
  },
  {
   "cell_type": "code",
   "metadata": {
    "cell_id": "00030-ea007844-e4a6-4cd6-b223-7fa6484c64fa",
    "deepnote_to_be_reexecuted": false,
    "source_hash": "7b483b09",
    "execution_start": 1621511447603,
    "execution_millis": 9,
    "deepnote_cell_type": "code"
   },
   "source": "enrol_all = enrol_all.fillna(0)",
   "execution_count": 36,
   "outputs": []
  },
  {
   "cell_type": "code",
   "metadata": {
    "cell_id": "00031-f88c4537-0d32-473c-918a-32d89ea2e5f9",
    "deepnote_to_be_reexecuted": false,
    "source_hash": "e1a859f2",
    "execution_start": 1621511447626,
    "execution_millis": 20,
    "deepnote_cell_type": "code"
   },
   "source": "mooe.head()",
   "execution_count": 37,
   "outputs": [
    {
     "output_type": "execute_result",
     "execution_count": 37,
     "data": {
      "application/vnd.deepnote.dataframe.v2+json": {
       "row_count": 5,
       "column_count": 2,
       "columns": [
        {
         "name": "school.id",
         "dtype": "float64",
         "stats": {
          "unique_count": 5,
          "nan_count": 0,
          "min": "134966.0",
          "max": "305075.0",
          "histogram": [
           {
            "bin_start": 134966,
            "bin_end": 151976.9,
            "count": 4
           },
           {
            "bin_start": 151976.9,
            "bin_end": 168987.8,
            "count": 0
           },
           {
            "bin_start": 168987.8,
            "bin_end": 185998.7,
            "count": 0
           },
           {
            "bin_start": 185998.7,
            "bin_end": 203009.6,
            "count": 0
           },
           {
            "bin_start": 203009.6,
            "bin_end": 220020.5,
            "count": 0
           },
           {
            "bin_start": 220020.5,
            "bin_end": 237031.40000000002,
            "count": 0
           },
           {
            "bin_start": 237031.40000000002,
            "bin_end": 254042.30000000002,
            "count": 0
           },
           {
            "bin_start": 254042.30000000002,
            "bin_end": 271053.2,
            "count": 0
           },
           {
            "bin_start": 271053.2,
            "bin_end": 288064.1,
            "count": 0
           },
           {
            "bin_start": 288064.1,
            "bin_end": 305075,
            "count": 1
           }
          ]
         }
        },
        {
         "name": " school.mooe ",
         "dtype": "float64",
         "stats": {
          "unique_count": 5,
          "nan_count": 0,
          "min": "144000.0",
          "max": "2182000.0",
          "histogram": [
           {
            "bin_start": 144000,
            "bin_end": 347800,
            "count": 4
           },
           {
            "bin_start": 347800,
            "bin_end": 551600,
            "count": 0
           },
           {
            "bin_start": 551600,
            "bin_end": 755400,
            "count": 0
           },
           {
            "bin_start": 755400,
            "bin_end": 959200,
            "count": 0
           },
           {
            "bin_start": 959200,
            "bin_end": 1163000,
            "count": 0
           },
           {
            "bin_start": 1163000,
            "bin_end": 1366800,
            "count": 0
           },
           {
            "bin_start": 1366800,
            "bin_end": 1570600,
            "count": 0
           },
           {
            "bin_start": 1570600,
            "bin_end": 1774400,
            "count": 0
           },
           {
            "bin_start": 1774400,
            "bin_end": 1978200,
            "count": 0
           },
           {
            "bin_start": 1978200,
            "bin_end": 2182000,
            "count": 1
           }
          ]
         }
        },
        {
         "name": "_deepnote_index_column",
         "dtype": "int64"
        }
       ],
       "rows_top": [
        {
         "school.id": 305075,
         " school.mooe ": 2182000,
         "_deepnote_index_column": 0
        },
        {
         "school.id": 134966,
         " school.mooe ": 227000,
         "_deepnote_index_column": 1
        },
        {
         "school.id": 134967,
         " school.mooe ": 144000,
         "_deepnote_index_column": 2
        },
        {
         "school.id": 134968,
         " school.mooe ": 339000,
         "_deepnote_index_column": 3
        },
        {
         "school.id": 134969,
         " school.mooe ": 178000,
         "_deepnote_index_column": 4
        }
       ],
       "rows_bottom": null
      },
      "text/plain": "   school.id   school.mooe \n0   305075.0      2182000.0\n1   134966.0       227000.0\n2   134967.0       144000.0\n3   134968.0       339000.0\n4   134969.0       178000.0",
      "text/html": "<div>\n<style scoped>\n    .dataframe tbody tr th:only-of-type {\n        vertical-align: middle;\n    }\n\n    .dataframe tbody tr th {\n        vertical-align: top;\n    }\n\n    .dataframe thead th {\n        text-align: right;\n    }\n</style>\n<table border=\"1\" class=\"dataframe\">\n  <thead>\n    <tr style=\"text-align: right;\">\n      <th></th>\n      <th>school.id</th>\n      <th>school.mooe</th>\n    </tr>\n  </thead>\n  <tbody>\n    <tr>\n      <th>0</th>\n      <td>305075.0</td>\n      <td>2182000.0</td>\n    </tr>\n    <tr>\n      <th>1</th>\n      <td>134966.0</td>\n      <td>227000.0</td>\n    </tr>\n    <tr>\n      <th>2</th>\n      <td>134967.0</td>\n      <td>144000.0</td>\n    </tr>\n    <tr>\n      <th>3</th>\n      <td>134968.0</td>\n      <td>339000.0</td>\n    </tr>\n    <tr>\n      <th>4</th>\n      <td>134969.0</td>\n      <td>178000.0</td>\n    </tr>\n  </tbody>\n</table>\n</div>"
     },
     "metadata": {}
    }
   ]
  },
  {
   "cell_type": "code",
   "metadata": {
    "cell_id": "00032-d68e6f5e-e8d1-4d74-b5a0-ee34e1cd4530",
    "deepnote_to_be_reexecuted": false,
    "source_hash": "344e26b7",
    "execution_start": 1621511447687,
    "execution_millis": 0,
    "deepnote_cell_type": "code"
   },
   "source": "mooe = mooe[[\"school.id\", \" school.mooe \"]]",
   "execution_count": 38,
   "outputs": []
  },
  {
   "cell_type": "code",
   "metadata": {
    "scrolled": true,
    "cell_id": "00033-a0be541e-166f-465d-ae9e-6cf368862ec4",
    "deepnote_to_be_reexecuted": false,
    "source_hash": "30cd77d6",
    "execution_start": 1621511447730,
    "execution_millis": 225,
    "deepnote_cell_type": "code"
   },
   "source": "df_sped",
   "execution_count": 39,
   "outputs": [
    {
     "output_type": "execute_result",
     "execution_count": 39,
     "data": {
      "application/vnd.deepnote.dataframe.v2+json": {
       "row_count": 1229,
       "column_count": 63,
       "columns": [
        {
         "name": "school.id",
         "dtype": "int64",
         "stats": {
          "unique_count": 1229,
          "nan_count": 0,
          "min": "100010",
          "max": "321107",
          "histogram": [
           {
            "bin_start": 100010,
            "bin_end": 122119.7,
            "count": 672
           },
           {
            "bin_start": 122119.7,
            "bin_end": 144229.4,
            "count": 412
           },
           {
            "bin_start": 144229.4,
            "bin_end": 166339.1,
            "count": 5
           },
           {
            "bin_start": 166339.1,
            "bin_end": 188448.8,
            "count": 10
           },
           {
            "bin_start": 188448.8,
            "bin_end": 210558.5,
            "count": 32
           },
           {
            "bin_start": 210558.5,
            "bin_end": 232668.2,
            "count": 14
           },
           {
            "bin_start": 232668.2,
            "bin_end": 254777.9,
            "count": 5
           },
           {
            "bin_start": 254777.9,
            "bin_end": 276887.6,
            "count": 0
           },
           {
            "bin_start": 276887.6,
            "bin_end": 298997.30000000005,
            "count": 0
           },
           {
            "bin_start": 298997.30000000005,
            "bin_end": 321107,
            "count": 79
           }
          ]
         }
        },
        {
         "name": "school.name",
         "dtype": "object",
         "stats": {
          "unique_count": 1205,
          "nan_count": 0,
          "categories": [
           {
            "name": "San Jose ES",
            "count": 3
           },
           {
            "name": "Alaminos CS",
            "count": 2
           },
           {
            "name": "1203 others",
            "count": 1224
           }
          ]
         }
        },
        {
         "name": "school.region",
         "dtype": "object",
         "stats": {
          "unique_count": 17,
          "nan_count": 0,
          "categories": [
           {
            "name": "Region IV-A",
            "count": 174
           },
           {
            "name": "NCR",
            "count": 135
           },
           {
            "name": "15 others",
            "count": 920
           }
          ]
         }
        },
        {
         "name": "school.region.name",
         "dtype": "object",
         "stats": {
          "unique_count": 17,
          "nan_count": 0,
          "categories": [
           {
            "name": "CALABARZON",
            "count": 174
           },
           {
            "name": "National Capital Region",
            "count": 135
           },
           {
            "name": "15 others",
            "count": 920
           }
          ]
         }
        },
        {
         "name": "school.province",
         "dtype": "object",
         "stats": {
          "unique_count": 83,
          "nan_count": 0,
          "categories": [
           {
            "name": "PANGASINAN",
            "count": 58
           },
           {
            "name": "ZAMBOANGA DEL SUR",
            "count": 52
           },
           {
            "name": "81 others",
            "count": 1119
           }
          ]
         }
        },
        {
         "name": "school.cityhall",
         "dtype": "object",
         "stats": {
          "unique_count": 106,
          "nan_count": 0,
          "categories": [
           {
            "name": "PANGASINAN",
            "count": 58
           },
           {
            "name": "BATANGAS",
            "count": 49
           },
           {
            "name": "104 others",
            "count": 1122
           }
          ]
         }
        },
        {
         "name": "school.division",
         "dtype": "object",
         "stats": {
          "unique_count": 201,
          "nan_count": 0,
          "categories": [
           {
            "name": "Batangas",
            "count": 40
           },
           {
            "name": "Quezon",
            "count": 39
           },
           {
            "name": "199 others",
            "count": 1150
           }
          ]
         }
        },
        {
         "name": "school.citymuni",
         "dtype": "object",
         "stats": {
          "unique_count": 677,
          "nan_count": 0,
          "categories": [
           {
            "name": "QUEZON CITY",
            "count": 34
           },
           {
            "name": "ZAMBOANGA CITY",
            "count": 22
           },
           {
            "name": "675 others",
            "count": 1173
           }
          ]
         }
        },
        {
         "name": "school.district",
         "dtype": "object",
         "stats": {
          "unique_count": 927,
          "nan_count": 0,
          "categories": [
           {
            "name": "San Carlos City District II",
            "count": 9
           },
           {
            "name": "Valenzuela City Central District",
            "count": 9
           },
           {
            "name": "925 others",
            "count": 1211
           }
          ]
         }
        },
        {
         "name": "school.legdistrict",
         "dtype": "object",
         "stats": {
          "unique_count": 8,
          "nan_count": 0,
          "categories": [
           {
            "name": "1st District",
            "count": 376
           },
           {
            "name": "2nd District",
            "count": 370
           },
           {
            "name": "6 others",
            "count": 483
           }
          ]
         }
        },
        {
         "name": "school.type",
         "dtype": "object",
         "stats": {
          "unique_count": 4,
          "nan_count": 0,
          "categories": [
           {
            "name": "School with no Annexes",
            "count": 1171
           },
           {
            "name": "Mother school",
            "count": 52
           },
           {
            "name": "2 others",
            "count": 6
           }
          ]
         }
        },
        {
         "name": "school.abbrev",
         "dtype": "object",
         "stats": {
          "unique_count": 457,
          "nan_count": 569,
          "categories": [
           {
            "name": "none",
            "count": 33
           },
           {
            "name": "456 others",
            "count": 627
           },
           {
            "name": "Missing",
            "count": 569
           }
          ]
         }
        },
        {
         "name": "school.previousname",
         "dtype": "object",
         "stats": {
          "unique_count": 336,
          "nan_count": 113,
          "categories": [
           {
            "name": "-",
            "count": 677
           },
           {
            "name": "335 others",
            "count": 439
           },
           {
            "name": "Missing",
            "count": 113
           }
          ]
         }
        },
        {
         "name": "school.mother.id",
         "dtype": "float64",
         "stats": {
          "unique_count": 1228,
          "nan_count": 0,
          "min": "100010.0",
          "max": "321107.0",
          "histogram": [
           {
            "bin_start": 100010,
            "bin_end": 122119.7,
            "count": 673
           },
           {
            "bin_start": 122119.7,
            "bin_end": 144229.4,
            "count": 413
           },
           {
            "bin_start": 144229.4,
            "bin_end": 166339.1,
            "count": 4
           },
           {
            "bin_start": 166339.1,
            "bin_end": 188448.8,
            "count": 10
           },
           {
            "bin_start": 188448.8,
            "bin_end": 210558.5,
            "count": 31
           },
           {
            "bin_start": 210558.5,
            "bin_end": 232668.2,
            "count": 14
           },
           {
            "bin_start": 232668.2,
            "bin_end": 254777.9,
            "count": 5
           },
           {
            "bin_start": 254777.9,
            "bin_end": 276887.6,
            "count": 0
           },
           {
            "bin_start": 276887.6,
            "bin_end": 298997.30000000005,
            "count": 0
           },
           {
            "bin_start": 298997.30000000005,
            "bin_end": 321107,
            "count": 79
           }
          ]
         }
        },
        {
         "name": "school.address",
         "dtype": "object",
         "stats": {
          "unique_count": 946,
          "nan_count": 11,
          "categories": [
           {
            "name": "-",
            "count": 130
           },
           {
            "name": "945 others",
            "count": 1088
           },
           {
            "name": "Missing",
            "count": 11
           }
          ]
         }
        },
        {
         "name": "school.established",
         "dtype": "object",
         "stats": {
          "unique_count": 186,
          "nan_count": 1,
          "categories": [
           {
            "name": "1/1/2000",
            "count": 121
           },
           {
            "name": "185 others",
            "count": 1107
           },
           {
            "name": "Missing",
            "count": 1
           }
          ]
         }
        },
        {
         "name": "school.classification",
         "dtype": "object",
         "stats": {
          "unique_count": 2,
          "nan_count": 0,
          "categories": [
           {
            "name": "Elementary",
            "count": 1150
           },
           {
            "name": "Secondary",
            "count": 79
           }
          ]
         }
        },
        {
         "name": "school.classification2",
         "dtype": "object",
         "stats": {
          "unique_count": 2,
          "nan_count": 0,
          "categories": [
           {
            "name": "DepED Managed",
            "count": 1214
           },
           {
            "name": "Local Government",
            "count": 15
           }
          ]
         }
        },
        {
         "name": "school.curricularclass",
         "dtype": "object",
         "stats": {
          "unique_count": 5,
          "nan_count": 0,
          "categories": [
           {
            "name": "Elementary",
            "count": 753
           },
           {
            "name": "Kinder & Elementary",
            "count": 377
           },
           {
            "name": "3 others",
            "count": 99
           }
          ]
         }
        },
        {
         "name": "school.organization",
         "dtype": "object",
         "stats": {
          "unique_count": 3,
          "nan_count": 0,
          "categories": [
           {
            "name": "Monograde",
            "count": 1169
           },
           {
            "name": "Combined Monograde and Multigrade",
            "count": 55
           },
           {
            "name": "Multigrade",
            "count": 5
           }
          ]
         }
        },
        {
         "name": "school.cityincome",
         "dtype": "object",
         "stats": {
          "unique_count": 12,
          "nan_count": 39,
          "categories": [
           {
            "name": "P 55 M or more",
            "count": 339
           },
           {
            "name": "11 others",
            "count": 851
           },
           {
            "name": "Missing",
            "count": 39
           }
          ]
         }
        },
        {
         "name": "school.cityclass",
         "dtype": "object",
         "stats": {
          "unique_count": 3,
          "nan_count": 781,
          "categories": [
           {
            "name": "Highly Urbanized City",
            "count": 232
           },
           {
            "name": "2 others",
            "count": 216
           },
           {
            "name": "Missing",
            "count": 781
           }
          ]
         }
        },
        {
         "name": "school.urban",
         "dtype": "object",
         "stats": {
          "unique_count": 3,
          "nan_count": 1,
          "categories": [
           {
            "name": "Partially Urban",
            "count": 917
           },
           {
            "name": "2 others",
            "count": 311
           },
           {
            "name": "Missing",
            "count": 1
           }
          ]
         }
        },
        {
         "name": "School ID_x",
         "dtype": "float64",
         "stats": {
          "unique_count": 1229,
          "nan_count": 0,
          "min": "100010.0",
          "max": "321107.0",
          "histogram": [
           {
            "bin_start": 100010,
            "bin_end": 122119.7,
            "count": 672
           },
           {
            "bin_start": 122119.7,
            "bin_end": 144229.4,
            "count": 412
           },
           {
            "bin_start": 144229.4,
            "bin_end": 166339.1,
            "count": 5
           },
           {
            "bin_start": 166339.1,
            "bin_end": 188448.8,
            "count": 10
           },
           {
            "bin_start": 188448.8,
            "bin_end": 210558.5,
            "count": 32
           },
           {
            "bin_start": 210558.5,
            "bin_end": 232668.2,
            "count": 14
           },
           {
            "bin_start": 232668.2,
            "bin_end": 254777.9,
            "count": 5
           },
           {
            "bin_start": 254777.9,
            "bin_end": 276887.6,
            "count": 0
           },
           {
            "bin_start": 276887.6,
            "bin_end": 298997.30000000005,
            "count": 0
           },
           {
            "bin_start": 298997.30000000005,
            "bin_end": 321107,
            "count": 79
           }
          ]
         }
        },
        {
         "name": "Kinder Male",
         "dtype": "float64",
         "stats": {
          "unique_count": 270,
          "nan_count": 79,
          "min": "0.0",
          "max": "617.0",
          "histogram": [
           {
            "bin_start": 0,
            "bin_end": 61.7,
            "count": 500
           },
           {
            "bin_start": 61.7,
            "bin_end": 123.4,
            "count": 357
           },
           {
            "bin_start": 123.4,
            "bin_end": 185.10000000000002,
            "count": 155
           },
           {
            "bin_start": 185.10000000000002,
            "bin_end": 246.8,
            "count": 76
           },
           {
            "bin_start": 246.8,
            "bin_end": 308.5,
            "count": 35
           },
           {
            "bin_start": 308.5,
            "bin_end": 370.20000000000005,
            "count": 16
           },
           {
            "bin_start": 370.20000000000005,
            "bin_end": 431.90000000000003,
            "count": 8
           },
           {
            "bin_start": 431.90000000000003,
            "bin_end": 493.6,
            "count": 0
           },
           {
            "bin_start": 493.6,
            "bin_end": 555.3000000000001,
            "count": 1
           },
           {
            "bin_start": 555.3000000000001,
            "bin_end": 617,
            "count": 2
           }
          ]
         }
        },
        {
         "name": "Kinder Female",
         "dtype": "float64",
         "stats": {
          "unique_count": 271,
          "nan_count": 79,
          "min": "0.0",
          "max": "597.0",
          "histogram": [
           {
            "bin_start": 0,
            "bin_end": 59.7,
            "count": 495
           },
           {
            "bin_start": 59.7,
            "bin_end": 119.4,
            "count": 364
           },
           {
            "bin_start": 119.4,
            "bin_end": 179.10000000000002,
            "count": 151
           },
           {
            "bin_start": 179.10000000000002,
            "bin_end": 238.8,
            "count": 78
           },
           {
            "bin_start": 238.8,
            "bin_end": 298.5,
            "count": 29
           },
           {
            "bin_start": 298.5,
            "bin_end": 358.20000000000005,
            "count": 22
           },
           {
            "bin_start": 358.20000000000005,
            "bin_end": 417.90000000000003,
            "count": 5
           },
           {
            "bin_start": 417.90000000000003,
            "bin_end": 477.6,
            "count": 3
           },
           {
            "bin_start": 477.6,
            "bin_end": 537.3000000000001,
            "count": 1
           },
           {
            "bin_start": 537.3000000000001,
            "bin_end": 597,
            "count": 2
           }
          ]
         }
        },
        {
         "name": "Grade 1 Male",
         "dtype": "float64",
         "stats": {
          "unique_count": 351,
          "nan_count": 79,
          "min": "1.0",
          "max": "912.0",
          "histogram": [
           {
            "bin_start": 1,
            "bin_end": 92.1,
            "count": 575
           },
           {
            "bin_start": 92.1,
            "bin_end": 183.2,
            "count": 318
           },
           {
            "bin_start": 183.2,
            "bin_end": 274.29999999999995,
            "count": 133
           },
           {
            "bin_start": 274.29999999999995,
            "bin_end": 365.4,
            "count": 61
           },
           {
            "bin_start": 365.4,
            "bin_end": 456.5,
            "count": 32
           },
           {
            "bin_start": 456.5,
            "bin_end": 547.5999999999999,
            "count": 13
           },
           {
            "bin_start": 547.5999999999999,
            "bin_end": 638.6999999999999,
            "count": 4
           },
           {
            "bin_start": 638.6999999999999,
            "bin_end": 729.8,
            "count": 6
           },
           {
            "bin_start": 729.8,
            "bin_end": 820.9,
            "count": 6
           },
           {
            "bin_start": 820.9,
            "bin_end": 912,
            "count": 2
           }
          ]
         }
        },
        {
         "name": "Grade 1 Female",
         "dtype": "float64",
         "stats": {
          "unique_count": 333,
          "nan_count": 79,
          "min": "3.0",
          "max": "822.0",
          "histogram": [
           {
            "bin_start": 3,
            "bin_end": 84.9,
            "count": 566
           },
           {
            "bin_start": 84.9,
            "bin_end": 166.8,
            "count": 315
           },
           {
            "bin_start": 166.8,
            "bin_end": 248.70000000000002,
            "count": 133
           },
           {
            "bin_start": 248.70000000000002,
            "bin_end": 330.6,
            "count": 69
           },
           {
            "bin_start": 330.6,
            "bin_end": 412.5,
            "count": 32
           },
           {
            "bin_start": 412.5,
            "bin_end": 494.40000000000003,
            "count": 16
           },
           {
            "bin_start": 494.40000000000003,
            "bin_end": 576.3000000000001,
            "count": 6
           },
           {
            "bin_start": 576.3000000000001,
            "bin_end": 658.2,
            "count": 9
           },
           {
            "bin_start": 658.2,
            "bin_end": 740.1,
            "count": 2
           },
           {
            "bin_start": 740.1,
            "bin_end": 822,
            "count": 2
           }
          ]
         }
        },
        {
         "name": "Grade 2 Male",
         "dtype": "float64",
         "stats": {
          "unique_count": 340,
          "nan_count": 79,
          "min": "1.0",
          "max": "796.0",
          "histogram": [
           {
            "bin_start": 1,
            "bin_end": 80.5,
            "count": 500
           },
           {
            "bin_start": 80.5,
            "bin_end": 160,
            "count": 341
           },
           {
            "bin_start": 160,
            "bin_end": 239.5,
            "count": 148
           },
           {
            "bin_start": 239.5,
            "bin_end": 319,
            "count": 74
           },
           {
            "bin_start": 319,
            "bin_end": 398.5,
            "count": 38
           },
           {
            "bin_start": 398.5,
            "bin_end": 478,
            "count": 22
           },
           {
            "bin_start": 478,
            "bin_end": 557.5,
            "count": 10
           },
           {
            "bin_start": 557.5,
            "bin_end": 637,
            "count": 5
           },
           {
            "bin_start": 637,
            "bin_end": 716.5,
            "count": 7
           },
           {
            "bin_start": 716.5,
            "bin_end": 796,
            "count": 5
           }
          ]
         }
        },
        {
         "name": "Grade 2 Female",
         "dtype": "float64",
         "stats": {
          "unique_count": 326,
          "nan_count": 79,
          "min": "0.0",
          "max": "791.0",
          "histogram": [
           {
            "bin_start": 0,
            "bin_end": 79.1,
            "count": 536
           },
           {
            "bin_start": 79.1,
            "bin_end": 158.2,
            "count": 336
           },
           {
            "bin_start": 158.2,
            "bin_end": 237.29999999999998,
            "count": 136
           },
           {
            "bin_start": 237.29999999999998,
            "bin_end": 316.4,
            "count": 72
           },
           {
            "bin_start": 316.4,
            "bin_end": 395.5,
            "count": 36
           },
           {
            "bin_start": 395.5,
            "bin_end": 474.59999999999997,
            "count": 12
           },
           {
            "bin_start": 474.59999999999997,
            "bin_end": 553.6999999999999,
            "count": 10
           },
           {
            "bin_start": 553.6999999999999,
            "bin_end": 632.8,
            "count": 6
           },
           {
            "bin_start": 632.8,
            "bin_end": 711.9,
            "count": 4
           },
           {
            "bin_start": 711.9,
            "bin_end": 791,
            "count": 2
           }
          ]
         }
        },
        {
         "name": "Grade 3 Male",
         "dtype": "float64",
         "stats": {
          "unique_count": 371,
          "nan_count": 79,
          "min": "1.0",
          "max": "883.0",
          "histogram": [
           {
            "bin_start": 1,
            "bin_end": 89.2,
            "count": 496
           },
           {
            "bin_start": 89.2,
            "bin_end": 177.4,
            "count": 338
           },
           {
            "bin_start": 177.4,
            "bin_end": 265.6,
            "count": 159
           },
           {
            "bin_start": 265.6,
            "bin_end": 353.8,
            "count": 72
           },
           {
            "bin_start": 353.8,
            "bin_end": 442,
            "count": 46
           },
           {
            "bin_start": 442,
            "bin_end": 530.2,
            "count": 16
           },
           {
            "bin_start": 530.2,
            "bin_end": 618.4,
            "count": 9
           },
           {
            "bin_start": 618.4,
            "bin_end": 706.6,
            "count": 5
           },
           {
            "bin_start": 706.6,
            "bin_end": 794.8000000000001,
            "count": 4
           },
           {
            "bin_start": 794.8000000000001,
            "bin_end": 883,
            "count": 5
           }
          ]
         }
        },
        {
         "name": "Grade 3 Female",
         "dtype": "float64",
         "stats": {
          "unique_count": 339,
          "nan_count": 79,
          "min": "1.0",
          "max": "791.0",
          "histogram": [
           {
            "bin_start": 1,
            "bin_end": 80,
            "count": 499
           },
           {
            "bin_start": 80,
            "bin_end": 159,
            "count": 336
           },
           {
            "bin_start": 159,
            "bin_end": 238,
            "count": 154
           },
           {
            "bin_start": 238,
            "bin_end": 317,
            "count": 81
           },
           {
            "bin_start": 317,
            "bin_end": 396,
            "count": 41
           },
           {
            "bin_start": 396,
            "bin_end": 475,
            "count": 14
           },
           {
            "bin_start": 475,
            "bin_end": 554,
            "count": 10
           },
           {
            "bin_start": 554,
            "bin_end": 633,
            "count": 3
           },
           {
            "bin_start": 633,
            "bin_end": 712,
            "count": 5
           },
           {
            "bin_start": 712,
            "bin_end": 791,
            "count": 7
           }
          ]
         }
        },
        {
         "name": "Grade 4 Male",
         "dtype": "float64",
         "stats": {
          "unique_count": 341,
          "nan_count": 79,
          "min": "0.0",
          "max": "865.0",
          "histogram": [
           {
            "bin_start": 0,
            "bin_end": 86.5,
            "count": 519
           },
           {
            "bin_start": 86.5,
            "bin_end": 173,
            "count": 348
           },
           {
            "bin_start": 173,
            "bin_end": 259.5,
            "count": 151
           },
           {
            "bin_start": 259.5,
            "bin_end": 346,
            "count": 68
           },
           {
            "bin_start": 346,
            "bin_end": 432.5,
            "count": 31
           },
           {
            "bin_start": 432.5,
            "bin_end": 519,
            "count": 10
           },
           {
            "bin_start": 519,
            "bin_end": 605.5,
            "count": 11
           },
           {
            "bin_start": 605.5,
            "bin_end": 692,
            "count": 5
           },
           {
            "bin_start": 692,
            "bin_end": 778.5,
            "count": 5
           },
           {
            "bin_start": 778.5,
            "bin_end": 865,
            "count": 2
           }
          ]
         }
        },
        {
         "name": "Grade 4 Female",
         "dtype": "float64",
         "stats": {
          "unique_count": 340,
          "nan_count": 79,
          "min": "0.0",
          "max": "799.0",
          "histogram": [
           {
            "bin_start": 0,
            "bin_end": 79.9,
            "count": 507
           },
           {
            "bin_start": 79.9,
            "bin_end": 159.8,
            "count": 347
           },
           {
            "bin_start": 159.8,
            "bin_end": 239.70000000000002,
            "count": 156
           },
           {
            "bin_start": 239.70000000000002,
            "bin_end": 319.6,
            "count": 72
           },
           {
            "bin_start": 319.6,
            "bin_end": 399.5,
            "count": 33
           },
           {
            "bin_start": 399.5,
            "bin_end": 479.40000000000003,
            "count": 14
           },
           {
            "bin_start": 479.40000000000003,
            "bin_end": 559.3000000000001,
            "count": 7
           },
           {
            "bin_start": 559.3000000000001,
            "bin_end": 639.2,
            "count": 7
           },
           {
            "bin_start": 639.2,
            "bin_end": 719.1,
            "count": 4
           },
           {
            "bin_start": 719.1,
            "bin_end": 799,
            "count": 3
           }
          ]
         }
        },
        {
         "name": "Grade 5 Male",
         "dtype": "float64",
         "stats": {
          "unique_count": 325,
          "nan_count": 79,
          "min": "0.0",
          "max": "803.0",
          "histogram": [
           {
            "bin_start": 0,
            "bin_end": 80.3,
            "count": 532
           },
           {
            "bin_start": 80.3,
            "bin_end": 160.6,
            "count": 332
           },
           {
            "bin_start": 160.6,
            "bin_end": 240.89999999999998,
            "count": 152
           },
           {
            "bin_start": 240.89999999999998,
            "bin_end": 321.2,
            "count": 67
           },
           {
            "bin_start": 321.2,
            "bin_end": 401.5,
            "count": 37
           },
           {
            "bin_start": 401.5,
            "bin_end": 481.79999999999995,
            "count": 10
           },
           {
            "bin_start": 481.79999999999995,
            "bin_end": 562.1,
            "count": 8
           },
           {
            "bin_start": 562.1,
            "bin_end": 642.4,
            "count": 4
           },
           {
            "bin_start": 642.4,
            "bin_end": 722.6999999999999,
            "count": 7
           },
           {
            "bin_start": 722.6999999999999,
            "bin_end": 803,
            "count": 1
           }
          ]
         }
        },
        {
         "name": "Grade 5 Female",
         "dtype": "float64",
         "stats": {
          "unique_count": 321,
          "nan_count": 79,
          "min": "0.0",
          "max": "770.0",
          "histogram": [
           {
            "bin_start": 0,
            "bin_end": 77,
            "count": 522
           },
           {
            "bin_start": 77,
            "bin_end": 154,
            "count": 337
           },
           {
            "bin_start": 154,
            "bin_end": 231,
            "count": 155
           },
           {
            "bin_start": 231,
            "bin_end": 308,
            "count": 62
           },
           {
            "bin_start": 308,
            "bin_end": 385,
            "count": 41
           },
           {
            "bin_start": 385,
            "bin_end": 462,
            "count": 13
           },
           {
            "bin_start": 462,
            "bin_end": 539,
            "count": 6
           },
           {
            "bin_start": 539,
            "bin_end": 616,
            "count": 6
           },
           {
            "bin_start": 616,
            "bin_end": 693,
            "count": 6
           },
           {
            "bin_start": 693,
            "bin_end": 770,
            "count": 2
           }
          ]
         }
        },
        {
         "name": "Grade 6 Male",
         "dtype": "float64",
         "stats": {
          "unique_count": 317,
          "nan_count": 79,
          "min": "0.0",
          "max": "817.0",
          "histogram": [
           {
            "bin_start": 0,
            "bin_end": 81.7,
            "count": 565
           },
           {
            "bin_start": 81.7,
            "bin_end": 163.4,
            "count": 332
           },
           {
            "bin_start": 163.4,
            "bin_end": 245.10000000000002,
            "count": 138
           },
           {
            "bin_start": 245.10000000000002,
            "bin_end": 326.8,
            "count": 64
           },
           {
            "bin_start": 326.8,
            "bin_end": 408.5,
            "count": 26
           },
           {
            "bin_start": 408.5,
            "bin_end": 490.20000000000005,
            "count": 10
           },
           {
            "bin_start": 490.20000000000005,
            "bin_end": 571.9,
            "count": 3
           },
           {
            "bin_start": 571.9,
            "bin_end": 653.6,
            "count": 8
           },
           {
            "bin_start": 653.6,
            "bin_end": 735.3000000000001,
            "count": 3
           },
           {
            "bin_start": 735.3000000000001,
            "bin_end": 817,
            "count": 1
           }
          ]
         }
        },
        {
         "name": "Grade 6 Female",
         "dtype": "float64",
         "stats": {
          "unique_count": 314,
          "nan_count": 79,
          "min": "0.0",
          "max": "770.0",
          "histogram": [
           {
            "bin_start": 0,
            "bin_end": 77,
            "count": 536
           },
           {
            "bin_start": 77,
            "bin_end": 154,
            "count": 337
           },
           {
            "bin_start": 154,
            "bin_end": 231,
            "count": 150
           },
           {
            "bin_start": 231,
            "bin_end": 308,
            "count": 67
           },
           {
            "bin_start": 308,
            "bin_end": 385,
            "count": 28
           },
           {
            "bin_start": 385,
            "bin_end": 462,
            "count": 12
           },
           {
            "bin_start": 462,
            "bin_end": 539,
            "count": 10
           },
           {
            "bin_start": 539,
            "bin_end": 616,
            "count": 4
           },
           {
            "bin_start": 616,
            "bin_end": 693,
            "count": 5
           },
           {
            "bin_start": 693,
            "bin_end": 770,
            "count": 1
           }
          ]
         }
        },
        {
         "name": "SPED NG Male",
         "dtype": "float64",
         "stats": {
          "unique_count": 104,
          "nan_count": 0,
          "min": "0.0",
          "max": "228.0",
          "histogram": [
           {
            "bin_start": 0,
            "bin_end": 22.8,
            "count": 900
           },
           {
            "bin_start": 22.8,
            "bin_end": 45.6,
            "count": 213
           },
           {
            "bin_start": 45.6,
            "bin_end": 68.4,
            "count": 66
           },
           {
            "bin_start": 68.4,
            "bin_end": 91.2,
            "count": 26
           },
           {
            "bin_start": 91.2,
            "bin_end": 114,
            "count": 13
           },
           {
            "bin_start": 114,
            "bin_end": 136.8,
            "count": 6
           },
           {
            "bin_start": 136.8,
            "bin_end": 159.6,
            "count": 2
           },
           {
            "bin_start": 159.6,
            "bin_end": 182.4,
            "count": 0
           },
           {
            "bin_start": 182.4,
            "bin_end": 205.20000000000002,
            "count": 2
           },
           {
            "bin_start": 205.20000000000002,
            "bin_end": 228,
            "count": 1
           }
          ]
         }
        },
        {
         "name": "SPED NG Female",
         "dtype": "float64",
         "stats": {
          "unique_count": 74,
          "nan_count": 0,
          "min": "0.0",
          "max": "126.0",
          "histogram": [
           {
            "bin_start": 0,
            "bin_end": 12.6,
            "count": 820
           },
           {
            "bin_start": 12.6,
            "bin_end": 25.2,
            "count": 271
           },
           {
            "bin_start": 25.2,
            "bin_end": 37.8,
            "count": 75
           },
           {
            "bin_start": 37.8,
            "bin_end": 50.4,
            "count": 34
           },
           {
            "bin_start": 50.4,
            "bin_end": 63,
            "count": 9
           },
           {
            "bin_start": 63,
            "bin_end": 75.6,
            "count": 8
           },
           {
            "bin_start": 75.6,
            "bin_end": 88.2,
            "count": 4
           },
           {
            "bin_start": 88.2,
            "bin_end": 100.8,
            "count": 3
           },
           {
            "bin_start": 100.8,
            "bin_end": 113.39999999999999,
            "count": 3
           },
           {
            "bin_start": 113.39999999999999,
            "bin_end": 126,
            "count": 2
           }
          ]
         }
        },
        {
         "name": "Grade 7 Male",
         "dtype": "float64",
         "stats": {
          "unique_count": 75,
          "nan_count": 1150,
          "min": "11.0",
          "max": "1203.0",
          "histogram": [
           {
            "bin_start": 11,
            "bin_end": 130.2,
            "count": 26
           },
           {
            "bin_start": 130.2,
            "bin_end": 249.4,
            "count": 17
           },
           {
            "bin_start": 249.4,
            "bin_end": 368.6,
            "count": 15
           },
           {
            "bin_start": 368.6,
            "bin_end": 487.8,
            "count": 9
           },
           {
            "bin_start": 487.8,
            "bin_end": 607,
            "count": 1
           },
           {
            "bin_start": 607,
            "bin_end": 726.2,
            "count": 3
           },
           {
            "bin_start": 726.2,
            "bin_end": 845.4,
            "count": 4
           },
           {
            "bin_start": 845.4,
            "bin_end": 964.6,
            "count": 1
           },
           {
            "bin_start": 964.6,
            "bin_end": 1083.8,
            "count": 2
           },
           {
            "bin_start": 1083.8,
            "bin_end": 1203,
            "count": 1
           }
          ]
         }
        },
        {
         "name": "Grade 7 Female",
         "dtype": "float64",
         "stats": {
          "unique_count": 73,
          "nan_count": 1150,
          "min": "5.0",
          "max": "1249.0",
          "histogram": [
           {
            "bin_start": 5,
            "bin_end": 129.4,
            "count": 26
           },
           {
            "bin_start": 129.4,
            "bin_end": 253.8,
            "count": 19
           },
           {
            "bin_start": 253.8,
            "bin_end": 378.20000000000005,
            "count": 12
           },
           {
            "bin_start": 378.20000000000005,
            "bin_end": 502.6,
            "count": 9
           },
           {
            "bin_start": 502.6,
            "bin_end": 627,
            "count": 3
           },
           {
            "bin_start": 627,
            "bin_end": 751.4000000000001,
            "count": 3
           },
           {
            "bin_start": 751.4000000000001,
            "bin_end": 875.8000000000001,
            "count": 2
           },
           {
            "bin_start": 875.8000000000001,
            "bin_end": 1000.2,
            "count": 3
           },
           {
            "bin_start": 1000.2,
            "bin_end": 1124.6000000000001,
            "count": 1
           },
           {
            "bin_start": 1124.6000000000001,
            "bin_end": 1249,
            "count": 1
           }
          ]
         }
        },
        {
         "name": "Grade 8 Male",
         "dtype": "float64",
         "stats": {
          "unique_count": 73,
          "nan_count": 1150,
          "min": "5.0",
          "max": "1127.0",
          "histogram": [
           {
            "bin_start": 5,
            "bin_end": 117.2,
            "count": 24
           },
           {
            "bin_start": 117.2,
            "bin_end": 229.4,
            "count": 19
           },
           {
            "bin_start": 229.4,
            "bin_end": 341.6,
            "count": 16
           },
           {
            "bin_start": 341.6,
            "bin_end": 453.8,
            "count": 9
           },
           {
            "bin_start": 453.8,
            "bin_end": 566,
            "count": 0
           },
           {
            "bin_start": 566,
            "bin_end": 678.2,
            "count": 4
           },
           {
            "bin_start": 678.2,
            "bin_end": 790.4,
            "count": 2
           },
           {
            "bin_start": 790.4,
            "bin_end": 902.6,
            "count": 3
           },
           {
            "bin_start": 902.6,
            "bin_end": 1014.8000000000001,
            "count": 0
           },
           {
            "bin_start": 1014.8000000000001,
            "bin_end": 1127,
            "count": 2
           }
          ]
         }
        },
        {
         "name": "Grade 8 Female",
         "dtype": "float64",
         "stats": {
          "unique_count": 76,
          "nan_count": 1150,
          "min": "4.0",
          "max": "1285.0",
          "histogram": [
           {
            "bin_start": 4,
            "bin_end": 132.1,
            "count": 27
           },
           {
            "bin_start": 132.1,
            "bin_end": 260.2,
            "count": 22
           },
           {
            "bin_start": 260.2,
            "bin_end": 388.29999999999995,
            "count": 13
           },
           {
            "bin_start": 388.29999999999995,
            "bin_end": 516.4,
            "count": 6
           },
           {
            "bin_start": 516.4,
            "bin_end": 644.5,
            "count": 2
           },
           {
            "bin_start": 644.5,
            "bin_end": 772.5999999999999,
            "count": 3
           },
           {
            "bin_start": 772.5999999999999,
            "bin_end": 900.6999999999999,
            "count": 2
           },
           {
            "bin_start": 900.6999999999999,
            "bin_end": 1028.8,
            "count": 3
           },
           {
            "bin_start": 1028.8,
            "bin_end": 1156.8999999999999,
            "count": 0
           },
           {
            "bin_start": 1156.8999999999999,
            "bin_end": 1285,
            "count": 1
           }
          ]
         }
        },
        {
         "name": "Grade 9 Male",
         "dtype": "float64",
         "stats": {
          "unique_count": 76,
          "nan_count": 1150,
          "min": "0.0",
          "max": "1012.0",
          "histogram": [
           {
            "bin_start": 0,
            "bin_end": 101.2,
            "count": 26
           },
           {
            "bin_start": 101.2,
            "bin_end": 202.4,
            "count": 20
           },
           {
            "bin_start": 202.4,
            "bin_end": 303.6,
            "count": 16
           },
           {
            "bin_start": 303.6,
            "bin_end": 404.8,
            "count": 4
           },
           {
            "bin_start": 404.8,
            "bin_end": 506,
            "count": 2
           },
           {
            "bin_start": 506,
            "bin_end": 607.2,
            "count": 3
           },
           {
            "bin_start": 607.2,
            "bin_end": 708.4,
            "count": 6
           },
           {
            "bin_start": 708.4,
            "bin_end": 809.6,
            "count": 0
           },
           {
            "bin_start": 809.6,
            "bin_end": 910.8000000000001,
            "count": 1
           },
           {
            "bin_start": 910.8000000000001,
            "bin_end": 1012,
            "count": 1
           }
          ]
         }
        },
        {
         "name": "Grade 9 Female",
         "dtype": "float64",
         "stats": {
          "unique_count": 75,
          "nan_count": 1150,
          "min": "0.0",
          "max": "1205.0",
          "histogram": [
           {
            "bin_start": 0,
            "bin_end": 120.5,
            "count": 31
           },
           {
            "bin_start": 120.5,
            "bin_end": 241,
            "count": 17
           },
           {
            "bin_start": 241,
            "bin_end": 361.5,
            "count": 16
           },
           {
            "bin_start": 361.5,
            "bin_end": 482,
            "count": 4
           },
           {
            "bin_start": 482,
            "bin_end": 602.5,
            "count": 1
           },
           {
            "bin_start": 602.5,
            "bin_end": 723,
            "count": 3
           },
           {
            "bin_start": 723,
            "bin_end": 843.5,
            "count": 5
           },
           {
            "bin_start": 843.5,
            "bin_end": 964,
            "count": 1
           },
           {
            "bin_start": 964,
            "bin_end": 1084.5,
            "count": 0
           },
           {
            "bin_start": 1084.5,
            "bin_end": 1205,
            "count": 1
           }
          ]
         }
        },
        {
         "name": "Grade 10 Male",
         "dtype": "float64",
         "stats": {
          "unique_count": 69,
          "nan_count": 1150,
          "min": "0.0",
          "max": "809.0",
          "histogram": [
           {
            "bin_start": 0,
            "bin_end": 80.9,
            "count": 25
           },
           {
            "bin_start": 80.9,
            "bin_end": 161.8,
            "count": 19
           },
           {
            "bin_start": 161.8,
            "bin_end": 242.70000000000002,
            "count": 14
           },
           {
            "bin_start": 242.70000000000002,
            "bin_end": 323.6,
            "count": 6
           },
           {
            "bin_start": 323.6,
            "bin_end": 404.5,
            "count": 3
           },
           {
            "bin_start": 404.5,
            "bin_end": 485.40000000000003,
            "count": 2
           },
           {
            "bin_start": 485.40000000000003,
            "bin_end": 566.3000000000001,
            "count": 2
           },
           {
            "bin_start": 566.3000000000001,
            "bin_end": 647.2,
            "count": 4
           },
           {
            "bin_start": 647.2,
            "bin_end": 728.1,
            "count": 2
           },
           {
            "bin_start": 728.1,
            "bin_end": 809,
            "count": 2
           }
          ]
         }
        },
        {
         "name": "Grade 10 Female",
         "dtype": "float64",
         "stats": {
          "unique_count": 67,
          "nan_count": 1150,
          "min": "0.0",
          "max": "1025.0",
          "histogram": [
           {
            "bin_start": 0,
            "bin_end": 102.5,
            "count": 28
           },
           {
            "bin_start": 102.5,
            "bin_end": 205,
            "count": 19
           },
           {
            "bin_start": 205,
            "bin_end": 307.5,
            "count": 15
           },
           {
            "bin_start": 307.5,
            "bin_end": 410,
            "count": 6
           },
           {
            "bin_start": 410,
            "bin_end": 512.5,
            "count": 1
           },
           {
            "bin_start": 512.5,
            "bin_end": 615,
            "count": 3
           },
           {
            "bin_start": 615,
            "bin_end": 717.5,
            "count": 2
           },
           {
            "bin_start": 717.5,
            "bin_end": 820,
            "count": 2
           },
           {
            "bin_start": 820,
            "bin_end": 922.5,
            "count": 2
           },
           {
            "bin_start": 922.5,
            "bin_end": 1025,
            "count": 1
           }
          ]
         }
        },
        {
         "name": "Grade 11 Male",
         "dtype": "float64",
         "stats": {
          "unique_count": 4,
          "nan_count": 1150,
          "min": "0.0",
          "max": "46.0",
          "histogram": [
           {
            "bin_start": 0,
            "bin_end": 4.6,
            "count": 76
           },
           {
            "bin_start": 4.6,
            "bin_end": 9.2,
            "count": 0
           },
           {
            "bin_start": 9.2,
            "bin_end": 13.799999999999999,
            "count": 1
           },
           {
            "bin_start": 13.799999999999999,
            "bin_end": 18.4,
            "count": 0
           },
           {
            "bin_start": 18.4,
            "bin_end": 23,
            "count": 0
           },
           {
            "bin_start": 23,
            "bin_end": 27.599999999999998,
            "count": 0
           },
           {
            "bin_start": 27.599999999999998,
            "bin_end": 32.199999999999996,
            "count": 1
           },
           {
            "bin_start": 32.199999999999996,
            "bin_end": 36.8,
            "count": 0
           },
           {
            "bin_start": 36.8,
            "bin_end": 41.4,
            "count": 0
           },
           {
            "bin_start": 41.4,
            "bin_end": 46,
            "count": 1
           }
          ]
         }
        },
        {
         "name": "Grade 11 Female",
         "dtype": "float64",
         "stats": {
          "unique_count": 4,
          "nan_count": 1150,
          "min": "0.0",
          "max": "47.0",
          "histogram": [
           {
            "bin_start": 0,
            "bin_end": 4.7,
            "count": 76
           },
           {
            "bin_start": 4.7,
            "bin_end": 9.4,
            "count": 0
           },
           {
            "bin_start": 9.4,
            "bin_end": 14.100000000000001,
            "count": 0
           },
           {
            "bin_start": 14.100000000000001,
            "bin_end": 18.8,
            "count": 0
           },
           {
            "bin_start": 18.8,
            "bin_end": 23.5,
            "count": 1
           },
           {
            "bin_start": 23.5,
            "bin_end": 28.200000000000003,
            "count": 1
           },
           {
            "bin_start": 28.200000000000003,
            "bin_end": 32.9,
            "count": 0
           },
           {
            "bin_start": 32.9,
            "bin_end": 37.6,
            "count": 0
           },
           {
            "bin_start": 37.6,
            "bin_end": 42.300000000000004,
            "count": 0
           },
           {
            "bin_start": 42.300000000000004,
            "bin_end": 47,
            "count": 1
           }
          ]
         }
        },
        {
         "name": "Grade 12 Male",
         "dtype": "float64",
         "stats": {
          "unique_count": 4,
          "nan_count": 1150,
          "min": "0.0",
          "max": "15.0",
          "histogram": [
           {
            "bin_start": 0,
            "bin_end": 1.5,
            "count": 75
           },
           {
            "bin_start": 1.5,
            "bin_end": 3,
            "count": 0
           },
           {
            "bin_start": 3,
            "bin_end": 4.5,
            "count": 0
           },
           {
            "bin_start": 4.5,
            "bin_end": 6,
            "count": 2
           },
           {
            "bin_start": 6,
            "bin_end": 7.5,
            "count": 0
           },
           {
            "bin_start": 7.5,
            "bin_end": 9,
            "count": 0
           },
           {
            "bin_start": 9,
            "bin_end": 10.5,
            "count": 1
           },
           {
            "bin_start": 10.5,
            "bin_end": 12,
            "count": 0
           },
           {
            "bin_start": 12,
            "bin_end": 13.5,
            "count": 0
           },
           {
            "bin_start": 13.5,
            "bin_end": 15,
            "count": 1
           }
          ]
         }
        },
        {
         "name": "Grade 12 Female",
         "dtype": "float64",
         "stats": {
          "unique_count": 5,
          "nan_count": 1150,
          "min": "0.0",
          "max": "19.0",
          "histogram": [
           {
            "bin_start": 0,
            "bin_end": 1.9,
            "count": 75
           },
           {
            "bin_start": 1.9,
            "bin_end": 3.8,
            "count": 1
           },
           {
            "bin_start": 3.8,
            "bin_end": 5.699999999999999,
            "count": 0
           },
           {
            "bin_start": 5.699999999999999,
            "bin_end": 7.6,
            "count": 1
           },
           {
            "bin_start": 7.6,
            "bin_end": 9.5,
            "count": 1
           },
           {
            "bin_start": 9.5,
            "bin_end": 11.399999999999999,
            "count": 0
           },
           {
            "bin_start": 11.399999999999999,
            "bin_end": 13.299999999999999,
            "count": 0
           },
           {
            "bin_start": 13.299999999999999,
            "bin_end": 15.2,
            "count": 0
           },
           {
            "bin_start": 15.2,
            "bin_end": 17.099999999999998,
            "count": 0
           },
           {
            "bin_start": 17.099999999999998,
            "bin_end": 19,
            "count": 1
           }
          ]
         }
        },
        {
         "name": " school.mooe ",
         "dtype": "float64",
         "stats": {
          "unique_count": 834,
          "nan_count": 2,
          "min": "47000.0",
          "max": "9813000.0",
          "histogram": [
           {
            "bin_start": 47000,
            "bin_end": 1023600,
            "count": 933
           },
           {
            "bin_start": 1023600,
            "bin_end": 2000200,
            "count": 228
           },
           {
            "bin_start": 2000200,
            "bin_end": 2976800,
            "count": 40
           },
           {
            "bin_start": 2976800,
            "bin_end": 3953400,
            "count": 13
           },
           {
            "bin_start": 3953400,
            "bin_end": 4930000,
            "count": 7
           },
           {
            "bin_start": 4930000,
            "bin_end": 5906600,
            "count": 2
           },
           {
            "bin_start": 5906600,
            "bin_end": 6883200,
            "count": 2
           },
           {
            "bin_start": 6883200,
            "bin_end": 7859800,
            "count": 1
           },
           {
            "bin_start": 7859800,
            "bin_end": 8836400,
            "count": 0
           },
           {
            "bin_start": 8836400,
            "bin_end": 9813000,
            "count": 1
           }
          ]
         }
        },
        {
         "name": "School ID_y",
         "dtype": "float64",
         "stats": {
          "unique_count": 1225,
          "nan_count": 4,
          "min": "100010.0",
          "max": "321107.0",
          "histogram": [
           {
            "bin_start": 100010,
            "bin_end": 122119.7,
            "count": 672
           },
           {
            "bin_start": 122119.7,
            "bin_end": 144229.4,
            "count": 412
           },
           {
            "bin_start": 144229.4,
            "bin_end": 166339.1,
            "count": 5
           },
           {
            "bin_start": 166339.1,
            "bin_end": 188448.8,
            "count": 10
           },
           {
            "bin_start": 188448.8,
            "bin_end": 210558.5,
            "count": 30
           },
           {
            "bin_start": 210558.5,
            "bin_end": 232668.2,
            "count": 13
           },
           {
            "bin_start": 232668.2,
            "bin_end": 254777.9,
            "count": 5
           },
           {
            "bin_start": 254777.9,
            "bin_end": 276887.6,
            "count": 0
           },
           {
            "bin_start": 276887.6,
            "bin_end": 298997.30000000005,
            "count": 0
           },
           {
            "bin_start": 298997.30000000005,
            "bin_end": 321107,
            "count": 78
           }
          ]
         }
        },
        {
         "name": "rooms.standard.academic",
         "dtype": "float64",
         "stats": {
          "unique_count": 99,
          "nan_count": 4,
          "min": "0.0",
          "max": "137.0",
          "histogram": [
           {
            "bin_start": 0,
            "bin_end": 13.7,
            "count": 310
           },
           {
            "bin_start": 13.7,
            "bin_end": 27.4,
            "count": 415
           },
           {
            "bin_start": 27.4,
            "bin_end": 41.099999999999994,
            "count": 264
           },
           {
            "bin_start": 41.099999999999994,
            "bin_end": 54.8,
            "count": 111
           },
           {
            "bin_start": 54.8,
            "bin_end": 68.5,
            "count": 66
           },
           {
            "bin_start": 68.5,
            "bin_end": 82.19999999999999,
            "count": 32
           },
           {
            "bin_start": 82.19999999999999,
            "bin_end": 95.89999999999999,
            "count": 18
           },
           {
            "bin_start": 95.89999999999999,
            "bin_end": 109.6,
            "count": 4
           },
           {
            "bin_start": 109.6,
            "bin_end": 123.3,
            "count": 3
           },
           {
            "bin_start": 123.3,
            "bin_end": 137,
            "count": 2
           }
          ]
         }
        },
        {
         "name": "rooms.standard.unused",
         "dtype": "float64",
         "stats": {
          "unique_count": 15,
          "nan_count": 4,
          "min": "0.0",
          "max": "14.0",
          "histogram": [
           {
            "bin_start": 0,
            "bin_end": 1.4,
            "count": 1132
           },
           {
            "bin_start": 1.4,
            "bin_end": 2.8,
            "count": 29
           },
           {
            "bin_start": 2.8,
            "bin_end": 4.199999999999999,
            "count": 37
           },
           {
            "bin_start": 4.199999999999999,
            "bin_end": 5.6,
            "count": 10
           },
           {
            "bin_start": 5.6,
            "bin_end": 7,
            "count": 6
           },
           {
            "bin_start": 7,
            "bin_end": 8.399999999999999,
            "count": 4
           },
           {
            "bin_start": 8.399999999999999,
            "bin_end": 9.799999999999999,
            "count": 1
           },
           {
            "bin_start": 9.799999999999999,
            "bin_end": 11.2,
            "count": 3
           },
           {
            "bin_start": 11.2,
            "bin_end": 12.6,
            "count": 1
           },
           {
            "bin_start": 12.6,
            "bin_end": 14,
            "count": 2
           }
          ]
         }
        },
        {
         "name": "rooms.nonstandard.academic",
         "dtype": "float64",
         "stats": {
          "unique_count": 20,
          "nan_count": 5,
          "min": "0.0",
          "max": "43.0",
          "histogram": [
           {
            "bin_start": 0,
            "bin_end": 4.3,
            "count": 1191
           },
           {
            "bin_start": 4.3,
            "bin_end": 8.6,
            "count": 18
           },
           {
            "bin_start": 8.6,
            "bin_end": 12.899999999999999,
            "count": 7
           },
           {
            "bin_start": 12.899999999999999,
            "bin_end": 17.2,
            "count": 5
           },
           {
            "bin_start": 17.2,
            "bin_end": 21.5,
            "count": 0
           },
           {
            "bin_start": 21.5,
            "bin_end": 25.799999999999997,
            "count": 0
           },
           {
            "bin_start": 25.799999999999997,
            "bin_end": 30.099999999999998,
            "count": 2
           },
           {
            "bin_start": 30.099999999999998,
            "bin_end": 34.4,
            "count": 0
           },
           {
            "bin_start": 34.4,
            "bin_end": 38.699999999999996,
            "count": 0
           },
           {
            "bin_start": 38.699999999999996,
            "bin_end": 43,
            "count": 1
           }
          ]
         }
        },
        {
         "name": "rooms.nonstandard.unused",
         "dtype": "float64",
         "stats": {
          "unique_count": 2,
          "nan_count": 5,
          "min": "0.0",
          "max": "1.0",
          "histogram": [
           {
            "bin_start": 0,
            "bin_end": 0.1,
            "count": 1221
           },
           {
            "bin_start": 0.1,
            "bin_end": 0.2,
            "count": 0
           },
           {
            "bin_start": 0.2,
            "bin_end": 0.30000000000000004,
            "count": 0
           },
           {
            "bin_start": 0.30000000000000004,
            "bin_end": 0.4,
            "count": 0
           },
           {
            "bin_start": 0.4,
            "bin_end": 0.5,
            "count": 0
           },
           {
            "bin_start": 0.5,
            "bin_end": 0.6000000000000001,
            "count": 0
           },
           {
            "bin_start": 0.6000000000000001,
            "bin_end": 0.7000000000000001,
            "count": 0
           },
           {
            "bin_start": 0.7000000000000001,
            "bin_end": 0.8,
            "count": 0
           },
           {
            "bin_start": 0.8,
            "bin_end": 0.9,
            "count": 0
           },
           {
            "bin_start": 0.9,
            "bin_end": 1,
            "count": 3
           }
          ]
         }
        },
        {
         "name": "teachers.instructor",
         "dtype": "float64",
         "stats": {
          "unique_count": 1,
          "nan_count": 5,
          "min": "0.0",
          "max": "0.0",
          "histogram": [
           {
            "bin_start": -0.5,
            "bin_end": -0.4,
            "count": 0
           },
           {
            "bin_start": -0.4,
            "bin_end": -0.3,
            "count": 0
           },
           {
            "bin_start": -0.3,
            "bin_end": -0.19999999999999996,
            "count": 0
           },
           {
            "bin_start": -0.19999999999999996,
            "bin_end": -0.09999999999999998,
            "count": 0
           },
           {
            "bin_start": -0.09999999999999998,
            "bin_end": 0,
            "count": 0
           },
           {
            "bin_start": 0,
            "bin_end": 0.10000000000000009,
            "count": 1224
           },
           {
            "bin_start": 0.10000000000000009,
            "bin_end": 0.20000000000000007,
            "count": 0
           },
           {
            "bin_start": 0.20000000000000007,
            "bin_end": 0.30000000000000004,
            "count": 0
           },
           {
            "bin_start": 0.30000000000000004,
            "bin_end": 0.4,
            "count": 0
           },
           {
            "bin_start": 0.4,
            "bin_end": 0.5,
            "count": 0
           }
          ]
         }
        },
        {
         "name": "teachers.mobile",
         "dtype": "float64",
         "stats": {
          "unique_count": 29,
          "nan_count": 5,
          "min": "0.0",
          "max": "47.0",
          "histogram": [
           {
            "bin_start": 0,
            "bin_end": 4.7,
            "count": 598
           },
           {
            "bin_start": 4.7,
            "bin_end": 9.4,
            "count": 416
           },
           {
            "bin_start": 9.4,
            "bin_end": 14.100000000000001,
            "count": 145
           },
           {
            "bin_start": 14.100000000000001,
            "bin_end": 18.8,
            "count": 40
           },
           {
            "bin_start": 18.8,
            "bin_end": 23.5,
            "count": 19
           },
           {
            "bin_start": 23.5,
            "bin_end": 28.200000000000003,
            "count": 4
           },
           {
            "bin_start": 28.200000000000003,
            "bin_end": 32.9,
            "count": 0
           },
           {
            "bin_start": 32.9,
            "bin_end": 37.6,
            "count": 0
           },
           {
            "bin_start": 37.6,
            "bin_end": 42.300000000000004,
            "count": 1
           },
           {
            "bin_start": 42.300000000000004,
            "bin_end": 47,
            "count": 1
           }
          ]
         }
        },
        {
         "name": "teachers.regular",
         "dtype": "float64",
         "stats": {
          "unique_count": 146,
          "nan_count": 5,
          "min": "0.0",
          "max": "276.0",
          "histogram": [
           {
            "bin_start": 0,
            "bin_end": 27.6,
            "count": 619
           },
           {
            "bin_start": 27.6,
            "bin_end": 55.2,
            "count": 384
           },
           {
            "bin_start": 55.2,
            "bin_end": 82.80000000000001,
            "count": 117
           },
           {
            "bin_start": 82.80000000000001,
            "bin_end": 110.4,
            "count": 48
           },
           {
            "bin_start": 110.4,
            "bin_end": 138,
            "count": 28
           },
           {
            "bin_start": 138,
            "bin_end": 165.60000000000002,
            "count": 14
           },
           {
            "bin_start": 165.60000000000002,
            "bin_end": 193.20000000000002,
            "count": 7
           },
           {
            "bin_start": 193.20000000000002,
            "bin_end": 220.8,
            "count": 1
           },
           {
            "bin_start": 220.8,
            "bin_end": 248.4,
            "count": 4
           },
           {
            "bin_start": 248.4,
            "bin_end": 276,
            "count": 2
           }
          ]
         }
        },
        {
         "name": "teachers.sped",
         "dtype": "float64",
         "stats": {
          "unique_count": 19,
          "nan_count": 5,
          "min": "0.0",
          "max": "52.0",
          "histogram": [
           {
            "bin_start": 0,
            "bin_end": 5.2,
            "count": 1154
           },
           {
            "bin_start": 5.2,
            "bin_end": 10.4,
            "count": 48
           },
           {
            "bin_start": 10.4,
            "bin_end": 15.600000000000001,
            "count": 18
           },
           {
            "bin_start": 15.600000000000001,
            "bin_end": 20.8,
            "count": 1
           },
           {
            "bin_start": 20.8,
            "bin_end": 26,
            "count": 0
           },
           {
            "bin_start": 26,
            "bin_end": 31.200000000000003,
            "count": 1
           },
           {
            "bin_start": 31.200000000000003,
            "bin_end": 36.4,
            "count": 0
           },
           {
            "bin_start": 36.4,
            "bin_end": 41.6,
            "count": 0
           },
           {
            "bin_start": 41.6,
            "bin_end": 46.800000000000004,
            "count": 1
           },
           {
            "bin_start": 46.800000000000004,
            "bin_end": 52,
            "count": 1
           }
          ]
         }
        },
        {
         "name": "MOOE",
         "dtype": "float64",
         "stats": {
          "unique_count": 834,
          "nan_count": 2,
          "min": "47000.0",
          "max": "9813000.0",
          "histogram": [
           {
            "bin_start": 47000,
            "bin_end": 1023600,
            "count": 933
           },
           {
            "bin_start": 1023600,
            "bin_end": 2000200,
            "count": 228
           },
           {
            "bin_start": 2000200,
            "bin_end": 2976800,
            "count": 40
           },
           {
            "bin_start": 2976800,
            "bin_end": 3953400,
            "count": 13
           },
           {
            "bin_start": 3953400,
            "bin_end": 4930000,
            "count": 7
           },
           {
            "bin_start": 4930000,
            "bin_end": 5906600,
            "count": 2
           },
           {
            "bin_start": 5906600,
            "bin_end": 6883200,
            "count": 2
           },
           {
            "bin_start": 6883200,
            "bin_end": 7859800,
            "count": 1
           },
           {
            "bin_start": 7859800,
            "bin_end": 8836400,
            "count": 0
           },
           {
            "bin_start": 8836400,
            "bin_end": 9813000,
            "count": 1
           }
          ]
         }
        },
        {
         "name": "_deepnote_index_column",
         "dtype": "int64"
        }
       ],
       "rows_top": [
        {
         "school.id": 102193,
         "school.name": "A. P. Santos ES (SPED Center)",
         "school.region": "Region I",
         "school.region.name": "Ilocos Region",
         "school.province": "ILOCOS NORTE",
         "school.cityhall": "ILOCOS NORTE",
         "school.division": "Laoag City",
         "school.citymuni": "LAOAG CITY (Capital)",
         "school.district": "Laoag City District II",
         "school.legdistrict": "1st District",
         "school.type": "School with no Annexes",
         "school.abbrev": "APSES",
         "school.previousname": "-",
         "school.mother.id": 102193,
         "school.address": "A.G. Tupaz",
         "school.established": "1/1/1944",
         "school.classification": "Elementary",
         "school.classification2": "DepED Managed",
         "school.curricularclass": "Kinder & Elementary",
         "school.organization": "Monograde",
         "school.cityincome": "P 240 M or more but less than P 320 M",
         "school.cityclass": "Component City",
         "school.urban": "Partially Urban",
         "School ID_x": 102193,
         "Kinder Male": 20,
         "Kinder Female": 24,
         "Grade 1 Male": 38,
         "Grade 1 Female": 30,
         "Grade 2 Male": 37,
         "Grade 2 Female": 18,
         "Grade 3 Male": 29,
         "Grade 3 Female": 33,
         "Grade 4 Male": 23,
         "Grade 4 Female": 41,
         "Grade 5 Male": 39,
         "Grade 5 Female": 27,
         "Grade 6 Male": 26,
         "Grade 6 Female": 26,
         "SPED NG Male": 32,
         "SPED NG Female": 22,
         "Grade 7 Male": "nan",
         "Grade 7 Female": "nan",
         "Grade 8 Male": "nan",
         "Grade 8 Female": "nan",
         "Grade 9 Male": "nan",
         "Grade 9 Female": "nan",
         "Grade 10 Male": "nan",
         "Grade 10 Female": "nan",
         "Grade 11 Male": "nan",
         "Grade 11 Female": "nan",
         "Grade 12 Male": "nan",
         "Grade 12 Female": "nan",
         " school.mooe ": 275000,
         "School ID_y": 102193,
         "rooms.standard.academic": 13,
         "rooms.standard.unused": 3,
         "rooms.nonstandard.academic": 0,
         "rooms.nonstandard.unused": 0,
         "teachers.instructor": 0,
         "teachers.mobile": 2,
         "teachers.regular": 12,
         "teachers.sped": 4,
         "MOOE": 275000,
         "_deepnote_index_column": 1
        },
        {
         "school.id": 102252,
         "school.name": "Abanon Central School",
         "school.region": "Region I",
         "school.region.name": "Ilocos Region",
         "school.province": "PANGASINAN",
         "school.cityhall": "PANGASINAN",
         "school.division": "San Carlos City",
         "school.citymuni": "SAN CARLOS CITY",
         "school.district": "San Carlos City District IV",
         "school.legdistrict": "3rd District",
         "school.type": "School with no Annexes",
         "school.abbrev": "Abanon CS",
         "school.previousname": "Abanon Central Elementary School",
         "school.mother.id": 102252,
         "school.address": "-Brgy. Abanon, San Carlos City",
         "school.established": "1/1/2000",
         "school.classification": "Elementary",
         "school.classification2": "DepED Managed",
         "school.curricularclass": "Elementary",
         "school.organization": "Monograde",
         "school.cityincome": "P 240 M or more but less than P 320 M",
         "school.cityclass": "Component City",
         "school.urban": "Partially Urban",
         "School ID_x": 102252,
         "Kinder Male": 53,
         "Kinder Female": 49,
         "Grade 1 Male": 61,
         "Grade 1 Female": 68,
         "Grade 2 Male": 85,
         "Grade 2 Female": 53,
         "Grade 3 Male": 65,
         "Grade 3 Female": 64,
         "Grade 4 Male": 71,
         "Grade 4 Female": 58,
         "Grade 5 Male": 56,
         "Grade 5 Female": 56,
         "Grade 6 Male": 58,
         "Grade 6 Female": 51,
         "SPED NG Male": 5,
         "SPED NG Female": 1,
         "Grade 7 Male": "nan",
         "Grade 7 Female": "nan",
         "Grade 8 Male": "nan",
         "Grade 8 Female": "nan",
         "Grade 9 Male": "nan",
         "Grade 9 Female": "nan",
         "Grade 10 Male": "nan",
         "Grade 10 Female": "nan",
         "Grade 11 Male": "nan",
         "Grade 11 Female": "nan",
         "Grade 12 Male": "nan",
         "Grade 12 Female": "nan",
         " school.mooe ": 440000,
         "School ID_y": 102252,
         "rooms.standard.academic": 24,
         "rooms.standard.unused": 0,
         "rooms.nonstandard.academic": 0,
         "rooms.nonstandard.unused": 0,
         "teachers.instructor": 0,
         "teachers.mobile": 4,
         "teachers.regular": 22,
         "teachers.sped": 1,
         "MOOE": 440000,
         "_deepnote_index_column": 7
        },
        {
         "school.id": 102226,
         "school.name": "Agdao Integrated School",
         "school.region": "Region I",
         "school.region.name": "Ilocos Region",
         "school.province": "PANGASINAN",
         "school.cityhall": "PANGASINAN",
         "school.division": "San Carlos City",
         "school.citymuni": "SAN CARLOS CITY",
         "school.district": "San Carlos City District II",
         "school.legdistrict": "3rd District",
         "school.type": "School with no Annexes",
         "school.abbrev": "Agdao IS",
         "school.previousname": "Agdao Elementary School",
         "school.mother.id": 102226,
         "school.address": "Brgy. Agdao, San Carlos City, Pangasinan",
         "school.established": "1/1/2000",
         "school.classification": "Elementary",
         "school.classification2": "DepED Managed",
         "school.curricularclass": "Integrated - Elem & Sec",
         "school.organization": "Monograde",
         "school.cityincome": "P 240 M or more but less than P 320 M",
         "school.cityclass": "Component City",
         "school.urban": "Partially Urban",
         "School ID_x": 102226,
         "Kinder Male": 47,
         "Kinder Female": 64,
         "Grade 1 Male": 73,
         "Grade 1 Female": 48,
         "Grade 2 Male": 64,
         "Grade 2 Female": 48,
         "Grade 3 Male": 58,
         "Grade 3 Female": 49,
         "Grade 4 Male": 61,
         "Grade 4 Female": 42,
         "Grade 5 Male": 45,
         "Grade 5 Female": 47,
         "Grade 6 Male": 41,
         "Grade 6 Female": 51,
         "SPED NG Male": 4,
         "SPED NG Female": 3,
         "Grade 7 Male": "nan",
         "Grade 7 Female": "nan",
         "Grade 8 Male": "nan",
         "Grade 8 Female": "nan",
         "Grade 9 Male": "nan",
         "Grade 9 Female": "nan",
         "Grade 10 Male": "nan",
         "Grade 10 Female": "nan",
         "Grade 11 Male": "nan",
         "Grade 11 Female": "nan",
         "Grade 12 Male": "nan",
         "Grade 12 Female": "nan",
         " school.mooe ": 381000,
         "School ID_y": 102226,
         "rooms.standard.academic": 20,
         "rooms.standard.unused": 0,
         "rooms.nonstandard.academic": 0,
         "rooms.nonstandard.unused": 0,
         "teachers.instructor": 0,
         "teachers.mobile": 4,
         "teachers.regular": 20,
         "teachers.sped": 1,
         "MOOE": 381000,
         "_deepnote_index_column": 22
        },
        {
         "school.id": 101132,
         "school.name": "Agno CS",
         "school.region": "Region I",
         "school.region.name": "Ilocos Region",
         "school.province": "PANGASINAN",
         "school.cityhall": "PANGASINAN",
         "school.division": "Pangasinan I, Lingayen",
         "school.citymuni": "AGNO",
         "school.district": "Agno",
         "school.legdistrict": "1st District",
         "school.type": "School with no Annexes",
         "school.abbrev": "ACS",
         "school.previousname": "-",
         "school.mother.id": 101132,
         "school.address": "MABINI",
         "school.established": "1/1/1904",
         "school.classification": "Elementary",
         "school.classification2": "DepED Managed",
         "school.curricularclass": "Elementary",
         "school.organization": "Monograde",
         "school.cityincome": "P 35 M or more but less than P 45 M",
         "school.cityclass": "nan",
         "school.urban": "Partially Urban",
         "School ID_x": 101132,
         "Kinder Male": 41,
         "Kinder Female": 35,
         "Grade 1 Male": 44,
         "Grade 1 Female": 46,
         "Grade 2 Male": 70,
         "Grade 2 Female": 68,
         "Grade 3 Male": 55,
         "Grade 3 Female": 57,
         "Grade 4 Male": 59,
         "Grade 4 Female": 57,
         "Grade 5 Male": 52,
         "Grade 5 Female": 47,
         "Grade 6 Male": 40,
         "Grade 6 Female": 46,
         "SPED NG Male": 9,
         "SPED NG Female": 6,
         "Grade 7 Male": "nan",
         "Grade 7 Female": "nan",
         "Grade 8 Male": "nan",
         "Grade 8 Female": "nan",
         "Grade 9 Male": "nan",
         "Grade 9 Female": "nan",
         "Grade 10 Male": "nan",
         "Grade 10 Female": "nan",
         "Grade 11 Male": "nan",
         "Grade 11 Female": "nan",
         "Grade 12 Male": "nan",
         "Grade 12 Female": "nan",
         " school.mooe ": 392000,
         "School ID_y": 101132,
         "rooms.standard.academic": 23,
         "rooms.standard.unused": 0,
         "rooms.nonstandard.academic": 0,
         "rooms.nonstandard.unused": 0,
         "teachers.instructor": 0,
         "teachers.mobile": 6,
         "teachers.regular": 18,
         "teachers.sped": 1,
         "MOOE": 392000,
         "_deepnote_index_column": 24
        },
        {
         "school.id": 101149,
         "school.name": "Aguilar CS",
         "school.region": "Region I",
         "school.region.name": "Ilocos Region",
         "school.province": "PANGASINAN",
         "school.cityhall": "PANGASINAN",
         "school.division": "Pangasinan I, Lingayen",
         "school.citymuni": "AGUILAR",
         "school.district": "Aguilar",
         "school.legdistrict": "2nd District",
         "school.type": "School with no Annexes",
         "school.abbrev": "nan",
         "school.previousname": "NONE",
         "school.mother.id": 101149,
         "school.address": "Pogomboa",
         "school.established": "1/1/1924",
         "school.classification": "Elementary",
         "school.classification2": "DepED Managed",
         "school.curricularclass": "Elementary",
         "school.organization": "Monograde",
         "school.cityincome": "P 35 M or more but less than P 45 M",
         "school.cityclass": "nan",
         "school.urban": "Partially Urban",
         "School ID_x": 101149,
         "Kinder Male": 57,
         "Kinder Female": 53,
         "Grade 1 Male": 78,
         "Grade 1 Female": 70,
         "Grade 2 Male": 70,
         "Grade 2 Female": 86,
         "Grade 3 Male": 91,
         "Grade 3 Female": 80,
         "Grade 4 Male": 90,
         "Grade 4 Female": 75,
         "Grade 5 Male": 88,
         "Grade 5 Female": 82,
         "Grade 6 Male": 104,
         "Grade 6 Female": 79,
         "SPED NG Male": 9,
         "SPED NG Female": 12,
         "Grade 7 Male": "nan",
         "Grade 7 Female": "nan",
         "Grade 8 Male": "nan",
         "Grade 8 Female": "nan",
         "Grade 9 Male": "nan",
         "Grade 9 Female": "nan",
         "Grade 10 Male": "nan",
         "Grade 10 Female": "nan",
         "Grade 11 Male": "nan",
         "Grade 11 Female": "nan",
         "Grade 12 Male": "nan",
         "Grade 12 Female": "nan",
         " school.mooe ": 536000,
         "School ID_y": 101149,
         "rooms.standard.academic": 18,
         "rooms.standard.unused": 0,
         "rooms.nonstandard.academic": 0,
         "rooms.nonstandard.unused": 0,
         "teachers.instructor": 0,
         "teachers.mobile": 4,
         "teachers.regular": 29,
         "teachers.sped": 1,
         "MOOE": 536000,
         "_deepnote_index_column": 29
        },
        {
         "school.id": 101166,
         "school.name": "Alaminos CS",
         "school.region": "Region I",
         "school.region.name": "Ilocos Region",
         "school.province": "PANGASINAN",
         "school.cityhall": "PANGASINAN",
         "school.division": "Alaminos City",
         "school.citymuni": "CITY OF ALAMINOS",
         "school.district": "District I",
         "school.legdistrict": "1st District",
         "school.type": "School with no Annexes",
         "school.abbrev": "ACS",
         "school.previousname": "-",
         "school.mother.id": 101166,
         "school.address": "SAN JOSE DRIVE",
         "school.established": "1/1/1921",
         "school.classification": "Elementary",
         "school.classification2": "DepED Managed",
         "school.curricularclass": "Elementary",
         "school.organization": "Monograde",
         "school.cityincome": "P 160 M or more but less than P 240 M",
         "school.cityclass": "Component City",
         "school.urban": "Partially Urban",
         "School ID_x": 101166,
         "Kinder Male": 100,
         "Kinder Female": 103,
         "Grade 1 Male": 129,
         "Grade 1 Female": 127,
         "Grade 2 Male": 141,
         "Grade 2 Female": 144,
         "Grade 3 Male": 182,
         "Grade 3 Female": 168,
         "Grade 4 Male": 166,
         "Grade 4 Female": 141,
         "Grade 5 Male": 172,
         "Grade 5 Female": 150,
         "Grade 6 Male": 133,
         "Grade 6 Female": 135,
         "SPED NG Male": 12,
         "SPED NG Female": 11,
         "Grade 7 Male": "nan",
         "Grade 7 Female": "nan",
         "Grade 8 Male": "nan",
         "Grade 8 Female": "nan",
         "Grade 9 Male": "nan",
         "Grade 9 Female": "nan",
         "Grade 10 Male": "nan",
         "Grade 10 Female": "nan",
         "Grade 11 Male": "nan",
         "Grade 11 Female": "nan",
         "Grade 12 Male": "nan",
         "Grade 12 Female": "nan",
         " school.mooe ": 897000,
         "School ID_y": 101166,
         "rooms.standard.academic": 41,
         "rooms.standard.unused": 0,
         "rooms.nonstandard.academic": 0,
         "rooms.nonstandard.unused": 0,
         "teachers.instructor": 0,
         "teachers.mobile": 12,
         "teachers.regular": 39,
         "teachers.sped": 1,
         "MOOE": 897000,
         "_deepnote_index_column": 33
        },
        {
         "school.id": 102227,
         "school.name": "Ano Elementary School",
         "school.region": "Region I",
         "school.region.name": "Ilocos Region",
         "school.province": "PANGASINAN",
         "school.cityhall": "PANGASINAN",
         "school.division": "San Carlos City",
         "school.citymuni": "SAN CARLOS CITY",
         "school.district": "San Carlos City District II",
         "school.legdistrict": "3rd District",
         "school.type": "School with no Annexes",
         "school.abbrev": "Ano ES",
         "school.previousname": "-",
         "school.mother.id": 102227,
         "school.address": "Brgy. Ano, San Carlos City, Pangasinan",
         "school.established": "1/1/2000",
         "school.classification": "Elementary",
         "school.classification2": "DepED Managed",
         "school.curricularclass": "Elementary",
         "school.organization": "Monograde",
         "school.cityincome": "P 240 M or more but less than P 320 M",
         "school.cityclass": "Component City",
         "school.urban": "Partially Urban",
         "School ID_x": 102227,
         "Kinder Male": 22,
         "Kinder Female": 24,
         "Grade 1 Male": 38,
         "Grade 1 Female": 20,
         "Grade 2 Male": 29,
         "Grade 2 Female": 34,
         "Grade 3 Male": 32,
         "Grade 3 Female": 19,
         "Grade 4 Male": 27,
         "Grade 4 Female": 37,
         "Grade 5 Male": 29,
         "Grade 5 Female": 30,
         "Grade 6 Male": 29,
         "Grade 6 Female": 29,
         "SPED NG Male": 0,
         "SPED NG Female": 2,
         "Grade 7 Male": "nan",
         "Grade 7 Female": "nan",
         "Grade 8 Male": "nan",
         "Grade 8 Female": "nan",
         "Grade 9 Male": "nan",
         "Grade 9 Female": "nan",
         "Grade 10 Male": "nan",
         "Grade 10 Female": "nan",
         "Grade 11 Male": "nan",
         "Grade 11 Female": "nan",
         "Grade 12 Male": "nan",
         "Grade 12 Female": "nan",
         " school.mooe ": 247000,
         "School ID_y": 102227,
         "rooms.standard.academic": 13,
         "rooms.standard.unused": 0,
         "rooms.nonstandard.academic": 0,
         "rooms.nonstandard.unused": 0,
         "teachers.instructor": 0,
         "teachers.mobile": 0,
         "teachers.regular": 15,
         "teachers.sped": 1,
         "MOOE": 247000,
         "_deepnote_index_column": 98
        }
       ],
       "rows_bottom": [
        {
         "school.id": 305437,
         "school.name": "Dalandanan NHS",
         "school.region": "NCR",
         "school.region.name": "National Capital Region",
         "school.province": "NCR THIRD DISTRICT",
         "school.cityhall": "CITY OF VALENZUELA",
         "school.division": "Valenzuela City",
         "school.citymuni": "CITY OF VALENZUELA",
         "school.district": "Valenzuela City Central District",
         "school.legdistrict": "1st District",
         "school.type": "Mother school",
         "school.abbrev": "nan",
         "school.previousname": "-",
         "school.mother.id": 305437,
         "school.address": "25 G. Lazaro",
         "school.established": "1/1/1996",
         "school.classification": "Secondary",
         "school.classification2": "DepED Managed",
         "school.curricularclass": "Secondary",
         "school.organization": "Monograde",
         "school.cityincome": "P 400 M or more",
         "school.cityclass": "Highly Urbanized City",
         "school.urban": "Urban",
         "School ID_x": 305437,
         "Kinder Male": "nan",
         "Kinder Female": "nan",
         "Grade 1 Male": "nan",
         "Grade 1 Female": "nan",
         "Grade 2 Male": "nan",
         "Grade 2 Female": "nan",
         "Grade 3 Male": "nan",
         "Grade 3 Female": "nan",
         "Grade 4 Male": "nan",
         "Grade 4 Female": "nan",
         "Grade 5 Male": "nan",
         "Grade 5 Female": "nan",
         "Grade 6 Male": "nan",
         "Grade 6 Female": "nan",
         "SPED NG Male": 32,
         "SPED NG Female": 15,
         "Grade 7 Male": 676,
         "Grade 7 Female": 593,
         "Grade 8 Male": 598,
         "Grade 8 Female": 597,
         "Grade 9 Male": 573,
         "Grade 9 Female": 585,
         "Grade 10 Male": 569,
         "Grade 10 Female": 560,
         "Grade 11 Male": 0,
         "Grade 11 Female": 0,
         "Grade 12 Male": 0,
         "Grade 12 Female": 0,
         " school.mooe ": 4149000,
         "School ID_y": 305437,
         "rooms.standard.academic": 34,
         "rooms.standard.unused": 0,
         "rooms.nonstandard.academic": 0,
         "rooms.nonstandard.unused": 0,
         "teachers.instructor": 0,
         "teachers.mobile": 13,
         "teachers.regular": 140,
         "teachers.sped": 0,
         "MOOE": 4149000,
         "_deepnote_index_column": 46403
        },
        {
         "school.id": 319803,
         "school.name": "Eulogio Rodriguez Integ. Sch.",
         "school.region": "NCR",
         "school.region.name": "National Capital Region",
         "school.province": "NCR SECOND DISTRICT",
         "school.cityhall": "CITY OF MANDALUYONG",
         "school.division": "Mandaluyong City",
         "school.citymuni": "CITY OF MANDALUYONG",
         "school.district": "Mandaluyong City District I",
         "school.legdistrict": "Lone District",
         "school.type": "School with no Annexes",
         "school.abbrev": "ERIS",
         "school.previousname": "-",
         "school.mother.id": 319803,
         "school.address": "-Cavo F. Sanchez St.",
         "school.established": "1/1/2008",
         "school.classification": "Secondary",
         "school.classification2": "DepED Managed",
         "school.curricularclass": "Integrated - Kinder, Elem & Sec",
         "school.organization": "Monograde",
         "school.cityincome": "P 400 M or more",
         "school.cityclass": "Highly Urbanized City",
         "school.urban": "Urban",
         "School ID_x": 319803,
         "Kinder Male": "nan",
         "Kinder Female": "nan",
         "Grade 1 Male": "nan",
         "Grade 1 Female": "nan",
         "Grade 2 Male": "nan",
         "Grade 2 Female": "nan",
         "Grade 3 Male": "nan",
         "Grade 3 Female": "nan",
         "Grade 4 Male": "nan",
         "Grade 4 Female": "nan",
         "Grade 5 Male": "nan",
         "Grade 5 Female": "nan",
         "Grade 6 Male": "nan",
         "Grade 6 Female": "nan",
         "SPED NG Male": 14,
         "SPED NG Female": 9,
         "Grade 7 Male": 235,
         "Grade 7 Female": 238,
         "Grade 8 Male": 256,
         "Grade 8 Female": 222,
         "Grade 9 Male": 307,
         "Grade 9 Female": 241,
         "Grade 10 Male": 234,
         "Grade 10 Female": 224,
         "Grade 11 Male": 0,
         "Grade 11 Female": 0,
         "Grade 12 Male": 0,
         "Grade 12 Female": 0,
         " school.mooe ": 3017000,
         "School ID_y": 319803,
         "rooms.standard.academic": 32,
         "rooms.standard.unused": 0,
         "rooms.nonstandard.academic": 0,
         "rooms.nonstandard.unused": 0,
         "teachers.instructor": 0,
         "teachers.mobile": 0,
         "teachers.regular": 64,
         "teachers.sped": 0,
         "MOOE": 3017000,
         "_deepnote_index_column": 46416
        },
        {
         "school.id": 305411,
         "school.name": "Fort Bonifacio HS",
         "school.region": "NCR",
         "school.region.name": "National Capital Region",
         "school.province": "NCR FOURTH DISTRICT",
         "school.cityhall": "CITY OF MAKATI",
         "school.division": "Makati City",
         "school.citymuni": "CITY OF MAKATI",
         "school.district": "Makati City District II",
         "school.legdistrict": "2nd District",
         "school.type": "Mother school",
         "school.abbrev": "FBHS",
         "school.previousname": "Fort Andres Bonifacio College - High School Department",
         "school.mother.id": 305411,
         "school.address": "J. P. Rizal Extension, West Rembo",
         "school.established": "1/1/1946",
         "school.classification": "Secondary",
         "school.classification2": "DepED Managed",
         "school.curricularclass": "Secondary",
         "school.organization": "Monograde",
         "school.cityincome": "P 400 M or more",
         "school.cityclass": "Highly Urbanized City",
         "school.urban": "Urban",
         "School ID_x": 305411,
         "Kinder Male": "nan",
         "Kinder Female": "nan",
         "Grade 1 Male": "nan",
         "Grade 1 Female": "nan",
         "Grade 2 Male": "nan",
         "Grade 2 Female": "nan",
         "Grade 3 Male": "nan",
         "Grade 3 Female": "nan",
         "Grade 4 Male": "nan",
         "Grade 4 Female": "nan",
         "Grade 5 Male": "nan",
         "Grade 5 Female": "nan",
         "Grade 6 Male": "nan",
         "Grade 6 Female": "nan",
         "SPED NG Male": 3,
         "SPED NG Female": 1,
         "Grade 7 Male": 1033,
         "Grade 7 Female": 942,
         "Grade 8 Male": 1127,
         "Grade 8 Female": 997,
         "Grade 9 Male": 1012,
         "Grade 9 Female": 928,
         "Grade 10 Male": 809,
         "Grade 10 Female": 839,
         "Grade 11 Male": 0,
         "Grade 11 Female": 0,
         "Grade 12 Male": 0,
         "Grade 12 Female": 0,
         " school.mooe ": 6697000,
         "School ID_y": 305411,
         "rooms.standard.academic": 74,
         "rooms.standard.unused": 0,
         "rooms.nonstandard.academic": 0,
         "rooms.nonstandard.unused": 0,
         "teachers.instructor": 0,
         "teachers.mobile": 21,
         "teachers.regular": 226,
         "teachers.sped": 0,
         "MOOE": 6697000,
         "_deepnote_index_column": 46423
        },
        {
         "school.id": 305443,
         "school.name": "Gen. T. de Leon NHS",
         "school.region": "NCR",
         "school.region.name": "National Capital Region",
         "school.province": "NCR THIRD DISTRICT",
         "school.cityhall": "CITY OF VALENZUELA",
         "school.division": "Valenzuela City",
         "school.citymuni": "CITY OF VALENZUELA",
         "school.district": "Valenzuela City East District",
         "school.legdistrict": "2nd District",
         "school.type": "School with no Annexes",
         "school.abbrev": "nan",
         "school.previousname": "Gen. T. del Leon NHS",
         "school.mother.id": 305443,
         "school.address": "Corner Mercado St.,",
         "school.established": "1/1/2008",
         "school.classification": "Secondary",
         "school.classification2": "DepED Managed",
         "school.curricularclass": "Secondary",
         "school.organization": "Monograde",
         "school.cityincome": "P 400 M or more",
         "school.cityclass": "Highly Urbanized City",
         "school.urban": "Urban",
         "School ID_x": 305443,
         "Kinder Male": "nan",
         "Kinder Female": "nan",
         "Grade 1 Male": "nan",
         "Grade 1 Female": "nan",
         "Grade 2 Male": "nan",
         "Grade 2 Female": "nan",
         "Grade 3 Male": "nan",
         "Grade 3 Female": "nan",
         "Grade 4 Male": "nan",
         "Grade 4 Female": "nan",
         "Grade 5 Male": "nan",
         "Grade 5 Female": "nan",
         "Grade 6 Male": "nan",
         "Grade 6 Female": "nan",
         "SPED NG Male": 30,
         "SPED NG Female": 24,
         "Grade 7 Male": 684,
         "Grade 7 Female": 690,
         "Grade 8 Male": 750,
         "Grade 8 Female": 689,
         "Grade 9 Male": 654,
         "Grade 9 Female": 634,
         "Grade 10 Male": 557,
         "Grade 10 Female": 602,
         "Grade 11 Male": 0,
         "Grade 11 Female": 0,
         "Grade 12 Male": 0,
         "Grade 12 Female": 0,
         " school.mooe ": 4542000,
         "School ID_y": 305443,
         "rooms.standard.academic": 50,
         "rooms.standard.unused": 2,
         "rooms.nonstandard.academic": 0,
         "rooms.nonstandard.unused": 0,
         "teachers.instructor": 0,
         "teachers.mobile": 16,
         "teachers.regular": 125,
         "teachers.sped": 0,
         "MOOE": 4542000,
         "_deepnote_index_column": 46430
        },
        {
         "school.id": 319804,
         "school.name": "Jose Fabella Memorial School",
         "school.region": "NCR",
         "school.region.name": "National Capital Region",
         "school.province": "NCR SECOND DISTRICT",
         "school.cityhall": "CITY OF MANDALUYONG",
         "school.division": "Mandaluyong City",
         "school.citymuni": "CITY OF MANDALUYONG",
         "school.district": "Mandaluyong City District II",
         "school.legdistrict": "Lone District",
         "school.type": "School with no Annexes",
         "school.abbrev": "JFMS",
         "school.previousname": "Welfareville School",
         "school.mother.id": 319804,
         "school.address": "WELFAREVILLE COMPOUND",
         "school.established": "1/1/1925",
         "school.classification": "Secondary",
         "school.classification2": "DepED Managed",
         "school.curricularclass": "Integrated - Kinder, Elem & Sec",
         "school.organization": "Monograde",
         "school.cityincome": "P 400 M or more",
         "school.cityclass": "Highly Urbanized City",
         "school.urban": "Urban",
         "School ID_x": 319804,
         "Kinder Male": "nan",
         "Kinder Female": "nan",
         "Grade 1 Male": "nan",
         "Grade 1 Female": "nan",
         "Grade 2 Male": "nan",
         "Grade 2 Female": "nan",
         "Grade 3 Male": "nan",
         "Grade 3 Female": "nan",
         "Grade 4 Male": "nan",
         "Grade 4 Female": "nan",
         "Grade 5 Male": "nan",
         "Grade 5 Female": "nan",
         "Grade 6 Male": "nan",
         "Grade 6 Female": "nan",
         "SPED NG Male": 5,
         "SPED NG Female": 2,
         "Grade 7 Male": 155,
         "Grade 7 Female": 109,
         "Grade 8 Male": 156,
         "Grade 8 Female": 97,
         "Grade 9 Male": 130,
         "Grade 9 Female": 86,
         "Grade 10 Male": 118,
         "Grade 10 Female": 93,
         "Grade 11 Male": 0,
         "Grade 11 Female": 0,
         "Grade 12 Male": 0,
         "Grade 12 Female": 0,
         " school.mooe ": 3628000,
         "School ID_y": 319804,
         "rooms.standard.academic": 11,
         "rooms.standard.unused": 0,
         "rooms.nonstandard.academic": 0,
         "rooms.nonstandard.unused": 0,
         "teachers.instructor": 0,
         "teachers.mobile": 0,
         "teachers.regular": 23,
         "teachers.sped": 52,
         "MOOE": 3628000,
         "_deepnote_index_column": 46440
        },
        {
         "school.id": 305444,
         "school.name": "Maysan National High School",
         "school.region": "NCR",
         "school.region.name": "National Capital Region",
         "school.province": "NCR THIRD DISTRICT",
         "school.cityhall": "CITY OF VALENZUELA",
         "school.division": "Valenzuela City",
         "school.citymuni": "CITY OF VALENZUELA",
         "school.district": "Valenzuela City East District",
         "school.legdistrict": "2nd District",
         "school.type": "School with no Annexes",
         "school.abbrev": "nan",
         "school.previousname": "Maysan NHS",
         "school.mother.id": 305444,
         "school.address": "-104 Maysan Road",
         "school.established": "1/1/2002",
         "school.classification": "Secondary",
         "school.classification2": "DepED Managed",
         "school.curricularclass": "Secondary",
         "school.organization": "Monograde",
         "school.cityincome": "P 400 M or more",
         "school.cityclass": "Highly Urbanized City",
         "school.urban": "Urban",
         "School ID_x": 305444,
         "Kinder Male": "nan",
         "Kinder Female": "nan",
         "Grade 1 Male": "nan",
         "Grade 1 Female": "nan",
         "Grade 2 Male": "nan",
         "Grade 2 Female": "nan",
         "Grade 3 Male": "nan",
         "Grade 3 Female": "nan",
         "Grade 4 Male": "nan",
         "Grade 4 Female": "nan",
         "Grade 5 Male": "nan",
         "Grade 5 Female": "nan",
         "Grade 6 Male": "nan",
         "Grade 6 Female": "nan",
         "SPED NG Male": 7,
         "SPED NG Female": 9,
         "Grade 7 Male": 294,
         "Grade 7 Female": 297,
         "Grade 8 Male": 258,
         "Grade 8 Female": 279,
         "Grade 9 Male": 222,
         "Grade 9 Female": 260,
         "Grade 10 Male": 230,
         "Grade 10 Female": 226,
         "Grade 11 Male": 0,
         "Grade 11 Female": 0,
         "Grade 12 Male": 0,
         "Grade 12 Female": 0,
         " school.mooe ": 1876000,
         "School ID_y": 305444,
         "rooms.standard.academic": 26,
         "rooms.standard.unused": 1,
         "rooms.nonstandard.academic": 0,
         "rooms.nonstandard.unused": 0,
         "teachers.instructor": 0,
         "teachers.mobile": 9,
         "teachers.regular": 54,
         "teachers.sped": 0,
         "MOOE": 1876000,
         "_deepnote_index_column": 46496
        },
        {
         "school.id": 305446,
         "school.name": "Sitero Francisco Mem. NHS",
         "school.region": "NCR",
         "school.region.name": "National Capital Region",
         "school.province": "NCR THIRD DISTRICT",
         "school.cityhall": "CITY OF VALENZUELA",
         "school.division": "Valenzuela City",
         "school.citymuni": "CITY OF VALENZUELA",
         "school.district": "Valenzuela City Central District",
         "school.legdistrict": "2nd District",
         "school.type": "School with no Annexes",
         "school.abbrev": "nan",
         "school.previousname": "-",
         "school.mother.id": 305446,
         "school.address": "STA.MONICA SUBDIVISION, UGONG",
         "school.established": "1/1/2002",
         "school.classification": "Secondary",
         "school.classification2": "DepED Managed",
         "school.curricularclass": "Secondary",
         "school.organization": "Monograde",
         "school.cityincome": "P 400 M or more",
         "school.cityclass": "Highly Urbanized City",
         "school.urban": "Urban",
         "School ID_x": 305446,
         "Kinder Male": "nan",
         "Kinder Female": "nan",
         "Grade 1 Male": "nan",
         "Grade 1 Female": "nan",
         "Grade 2 Male": "nan",
         "Grade 2 Female": "nan",
         "Grade 3 Male": "nan",
         "Grade 3 Female": "nan",
         "Grade 4 Male": "nan",
         "Grade 4 Female": "nan",
         "Grade 5 Male": "nan",
         "Grade 5 Female": "nan",
         "Grade 6 Male": "nan",
         "Grade 6 Female": "nan",
         "SPED NG Male": 27,
         "SPED NG Female": 15,
         "Grade 7 Male": 336,
         "Grade 7 Female": 321,
         "Grade 8 Male": 288,
         "Grade 8 Female": 307,
         "Grade 9 Male": 267,
         "Grade 9 Female": 261,
         "Grade 10 Male": 196,
         "Grade 10 Female": 241,
         "Grade 11 Male": 0,
         "Grade 11 Female": 0,
         "Grade 12 Male": 0,
         "Grade 12 Female": 0,
         " school.mooe ": 1647000,
         "School ID_y": 305446,
         "rooms.standard.academic": 16,
         "rooms.standard.unused": 0,
         "rooms.nonstandard.academic": 0,
         "rooms.nonstandard.unused": 0,
         "teachers.instructor": 0,
         "teachers.mobile": 3,
         "teachers.regular": 39,
         "teachers.sped": 0,
         "MOOE": 1647000,
         "_deepnote_index_column": 46571
        },
        {
         "school.id": 305441,
         "school.name": "Valenzuela NHS",
         "school.region": "NCR",
         "school.region.name": "National Capital Region",
         "school.province": "NCR THIRD DISTRICT",
         "school.cityhall": "CITY OF VALENZUELA",
         "school.division": "Valenzuela City",
         "school.citymuni": "CITY OF VALENZUELA",
         "school.district": "Valenzuela City Central District",
         "school.legdistrict": "2nd District",
         "school.type": "School with no Annexes",
         "school.abbrev": "nan",
         "school.previousname": "-",
         "school.mother.id": 305441,
         "school.address": "A. FERNANDO ST., MARULAS,",
         "school.established": "1/1/1969",
         "school.classification": "Secondary",
         "school.classification2": "DepED Managed",
         "school.curricularclass": "Secondary",
         "school.organization": "Monograde",
         "school.cityincome": "P 400 M or more",
         "school.cityclass": "Highly Urbanized City",
         "school.urban": "Urban",
         "School ID_x": 305441,
         "Kinder Male": "nan",
         "Kinder Female": "nan",
         "Grade 1 Male": "nan",
         "Grade 1 Female": "nan",
         "Grade 2 Male": "nan",
         "Grade 2 Female": "nan",
         "Grade 3 Male": "nan",
         "Grade 3 Female": "nan",
         "Grade 4 Male": "nan",
         "Grade 4 Female": "nan",
         "Grade 5 Male": "nan",
         "Grade 5 Female": "nan",
         "Grade 6 Male": "nan",
         "Grade 6 Female": "nan",
         "SPED NG Male": 9,
         "SPED NG Female": 7,
         "Grade 7 Male": 461,
         "Grade 7 Female": 405,
         "Grade 8 Male": 424,
         "Grade 8 Female": 391,
         "Grade 9 Male": 423,
         "Grade 9 Female": 395,
         "Grade 10 Male": 363,
         "Grade 10 Female": 356,
         "Grade 11 Male": 0,
         "Grade 11 Female": 0,
         "Grade 12 Male": 0,
         "Grade 12 Female": 0,
         " school.mooe ": 2924000,
         "School ID_y": 305441,
         "rooms.standard.academic": 33,
         "rooms.standard.unused": 0,
         "rooms.nonstandard.academic": 0,
         "rooms.nonstandard.unused": 0,
         "teachers.instructor": 0,
         "teachers.mobile": 18,
         "teachers.regular": 84,
         "teachers.sped": 1,
         "MOOE": 2924000,
         "_deepnote_index_column": 46597
        }
       ]
      },
      "text/plain": "       school.id                    school.name school.region  \\\n1         102193  A. P. Santos ES (SPED Center)      Region I   \n7         102252          Abanon Central School      Region I   \n22        102226        Agdao Integrated School      Region I   \n24        101132                        Agno CS      Region I   \n29        101149                     Aguilar CS      Region I   \n...          ...                            ...           ...   \n46430     305443            Gen. T. de Leon NHS           NCR   \n46440     319804   Jose Fabella Memorial School           NCR   \n46496     305444    Maysan National High School           NCR   \n46571     305446      Sitero Francisco Mem. NHS           NCR   \n46597     305441                 Valenzuela NHS           NCR   \n\n            school.region.name      school.province      school.cityhall  \\\n1                Ilocos Region         ILOCOS NORTE         ILOCOS NORTE   \n7                Ilocos Region           PANGASINAN           PANGASINAN   \n22               Ilocos Region           PANGASINAN           PANGASINAN   \n24               Ilocos Region           PANGASINAN           PANGASINAN   \n29               Ilocos Region           PANGASINAN           PANGASINAN   \n...                        ...                  ...                  ...   \n46430  National Capital Region   NCR THIRD DISTRICT   CITY OF VALENZUELA   \n46440  National Capital Region  NCR SECOND DISTRICT  CITY OF MANDALUYONG   \n46496  National Capital Region   NCR THIRD DISTRICT   CITY OF VALENZUELA   \n46571  National Capital Region   NCR THIRD DISTRICT   CITY OF VALENZUELA   \n46597  National Capital Region   NCR THIRD DISTRICT   CITY OF VALENZUELA   \n\n              school.division       school.citymuni  \\\n1                  Laoag City  LAOAG CITY (Capital)   \n7             San Carlos City       SAN CARLOS CITY   \n22            San Carlos City       SAN CARLOS CITY   \n24     Pangasinan I, Lingayen                  AGNO   \n29     Pangasinan I, Lingayen               AGUILAR   \n...                       ...                   ...   \n46430         Valenzuela City    CITY OF VALENZUELA   \n46440        Mandaluyong City   CITY OF MANDALUYONG   \n46496         Valenzuela City    CITY OF VALENZUELA   \n46571         Valenzuela City    CITY OF VALENZUELA   \n46597         Valenzuela City    CITY OF VALENZUELA   \n\n                        school.district school.legdistrict  ... School ID_y  \\\n1                Laoag City District II       1st District  ...    102193.0   \n7           San Carlos City District IV       3rd District  ...    102252.0   \n22          San Carlos City District II       3rd District  ...    102226.0   \n24                                 Agno       1st District  ...    101132.0   \n29                              Aguilar       2nd District  ...    101149.0   \n...                                 ...                ...  ...         ...   \n46430     Valenzuela City East District       2nd District  ...    305443.0   \n46440      Mandaluyong City District II      Lone District  ...    319804.0   \n46496     Valenzuela City East District       2nd District  ...    305444.0   \n46571  Valenzuela City Central District       2nd District  ...    305446.0   \n46597  Valenzuela City Central District       2nd District  ...    305441.0   \n\n      rooms.standard.academic rooms.standard.unused  \\\n1                        13.0                   3.0   \n7                        24.0                   0.0   \n22                       20.0                   0.0   \n24                       23.0                   0.0   \n29                       18.0                   0.0   \n...                       ...                   ...   \n46430                    50.0                   2.0   \n46440                    11.0                   0.0   \n46496                    26.0                   1.0   \n46571                    16.0                   0.0   \n46597                    33.0                   0.0   \n\n       rooms.nonstandard.academic rooms.nonstandard.unused  \\\n1                             0.0                      0.0   \n7                             0.0                      0.0   \n22                            0.0                      0.0   \n24                            0.0                      0.0   \n29                            0.0                      0.0   \n...                           ...                      ...   \n46430                         0.0                      0.0   \n46440                         0.0                      0.0   \n46496                         0.0                      0.0   \n46571                         0.0                      0.0   \n46597                         0.0                      0.0   \n\n      teachers.instructor teachers.mobile teachers.regular teachers.sped  \\\n1                     0.0             2.0             12.0           4.0   \n7                     0.0             4.0             22.0           1.0   \n22                    0.0             4.0             20.0           1.0   \n24                    0.0             6.0             18.0           1.0   \n29                    0.0             4.0             29.0           1.0   \n...                   ...             ...              ...           ...   \n46430                 0.0            16.0            125.0           0.0   \n46440                 0.0             0.0             23.0          52.0   \n46496                 0.0             9.0             54.0           0.0   \n46571                 0.0             3.0             39.0           0.0   \n46597                 0.0            18.0             84.0           1.0   \n\n            MOOE  \n1       275000.0  \n7       440000.0  \n22      381000.0  \n24      392000.0  \n29      536000.0  \n...          ...  \n46430  4542000.0  \n46440  3628000.0  \n46496  1876000.0  \n46571  1647000.0  \n46597  2924000.0  \n\n[1229 rows x 63 columns]",
      "text/html": "<div>\n<style scoped>\n    .dataframe tbody tr th:only-of-type {\n        vertical-align: middle;\n    }\n\n    .dataframe tbody tr th {\n        vertical-align: top;\n    }\n\n    .dataframe thead th {\n        text-align: right;\n    }\n</style>\n<table border=\"1\" class=\"dataframe\">\n  <thead>\n    <tr style=\"text-align: right;\">\n      <th></th>\n      <th>school.id</th>\n      <th>school.name</th>\n      <th>school.region</th>\n      <th>school.region.name</th>\n      <th>school.province</th>\n      <th>school.cityhall</th>\n      <th>school.division</th>\n      <th>school.citymuni</th>\n      <th>school.district</th>\n      <th>school.legdistrict</th>\n      <th>...</th>\n      <th>School ID_y</th>\n      <th>rooms.standard.academic</th>\n      <th>rooms.standard.unused</th>\n      <th>rooms.nonstandard.academic</th>\n      <th>rooms.nonstandard.unused</th>\n      <th>teachers.instructor</th>\n      <th>teachers.mobile</th>\n      <th>teachers.regular</th>\n      <th>teachers.sped</th>\n      <th>MOOE</th>\n    </tr>\n  </thead>\n  <tbody>\n    <tr>\n      <th>1</th>\n      <td>102193</td>\n      <td>A. P. Santos ES (SPED Center)</td>\n      <td>Region I</td>\n      <td>Ilocos Region</td>\n      <td>ILOCOS NORTE</td>\n      <td>ILOCOS NORTE</td>\n      <td>Laoag City</td>\n      <td>LAOAG CITY (Capital)</td>\n      <td>Laoag City District II</td>\n      <td>1st District</td>\n      <td>...</td>\n      <td>102193.0</td>\n      <td>13.0</td>\n      <td>3.0</td>\n      <td>0.0</td>\n      <td>0.0</td>\n      <td>0.0</td>\n      <td>2.0</td>\n      <td>12.0</td>\n      <td>4.0</td>\n      <td>275000.0</td>\n    </tr>\n    <tr>\n      <th>7</th>\n      <td>102252</td>\n      <td>Abanon Central School</td>\n      <td>Region I</td>\n      <td>Ilocos Region</td>\n      <td>PANGASINAN</td>\n      <td>PANGASINAN</td>\n      <td>San Carlos City</td>\n      <td>SAN CARLOS CITY</td>\n      <td>San Carlos City District IV</td>\n      <td>3rd District</td>\n      <td>...</td>\n      <td>102252.0</td>\n      <td>24.0</td>\n      <td>0.0</td>\n      <td>0.0</td>\n      <td>0.0</td>\n      <td>0.0</td>\n      <td>4.0</td>\n      <td>22.0</td>\n      <td>1.0</td>\n      <td>440000.0</td>\n    </tr>\n    <tr>\n      <th>22</th>\n      <td>102226</td>\n      <td>Agdao Integrated School</td>\n      <td>Region I</td>\n      <td>Ilocos Region</td>\n      <td>PANGASINAN</td>\n      <td>PANGASINAN</td>\n      <td>San Carlos City</td>\n      <td>SAN CARLOS CITY</td>\n      <td>San Carlos City District II</td>\n      <td>3rd District</td>\n      <td>...</td>\n      <td>102226.0</td>\n      <td>20.0</td>\n      <td>0.0</td>\n      <td>0.0</td>\n      <td>0.0</td>\n      <td>0.0</td>\n      <td>4.0</td>\n      <td>20.0</td>\n      <td>1.0</td>\n      <td>381000.0</td>\n    </tr>\n    <tr>\n      <th>24</th>\n      <td>101132</td>\n      <td>Agno CS</td>\n      <td>Region I</td>\n      <td>Ilocos Region</td>\n      <td>PANGASINAN</td>\n      <td>PANGASINAN</td>\n      <td>Pangasinan I, Lingayen</td>\n      <td>AGNO</td>\n      <td>Agno</td>\n      <td>1st District</td>\n      <td>...</td>\n      <td>101132.0</td>\n      <td>23.0</td>\n      <td>0.0</td>\n      <td>0.0</td>\n      <td>0.0</td>\n      <td>0.0</td>\n      <td>6.0</td>\n      <td>18.0</td>\n      <td>1.0</td>\n      <td>392000.0</td>\n    </tr>\n    <tr>\n      <th>29</th>\n      <td>101149</td>\n      <td>Aguilar CS</td>\n      <td>Region I</td>\n      <td>Ilocos Region</td>\n      <td>PANGASINAN</td>\n      <td>PANGASINAN</td>\n      <td>Pangasinan I, Lingayen</td>\n      <td>AGUILAR</td>\n      <td>Aguilar</td>\n      <td>2nd District</td>\n      <td>...</td>\n      <td>101149.0</td>\n      <td>18.0</td>\n      <td>0.0</td>\n      <td>0.0</td>\n      <td>0.0</td>\n      <td>0.0</td>\n      <td>4.0</td>\n      <td>29.0</td>\n      <td>1.0</td>\n      <td>536000.0</td>\n    </tr>\n    <tr>\n      <th>...</th>\n      <td>...</td>\n      <td>...</td>\n      <td>...</td>\n      <td>...</td>\n      <td>...</td>\n      <td>...</td>\n      <td>...</td>\n      <td>...</td>\n      <td>...</td>\n      <td>...</td>\n      <td>...</td>\n      <td>...</td>\n      <td>...</td>\n      <td>...</td>\n      <td>...</td>\n      <td>...</td>\n      <td>...</td>\n      <td>...</td>\n      <td>...</td>\n      <td>...</td>\n      <td>...</td>\n    </tr>\n    <tr>\n      <th>46430</th>\n      <td>305443</td>\n      <td>Gen. T. de Leon NHS</td>\n      <td>NCR</td>\n      <td>National Capital Region</td>\n      <td>NCR THIRD DISTRICT</td>\n      <td>CITY OF VALENZUELA</td>\n      <td>Valenzuela City</td>\n      <td>CITY OF VALENZUELA</td>\n      <td>Valenzuela City East District</td>\n      <td>2nd District</td>\n      <td>...</td>\n      <td>305443.0</td>\n      <td>50.0</td>\n      <td>2.0</td>\n      <td>0.0</td>\n      <td>0.0</td>\n      <td>0.0</td>\n      <td>16.0</td>\n      <td>125.0</td>\n      <td>0.0</td>\n      <td>4542000.0</td>\n    </tr>\n    <tr>\n      <th>46440</th>\n      <td>319804</td>\n      <td>Jose Fabella Memorial School</td>\n      <td>NCR</td>\n      <td>National Capital Region</td>\n      <td>NCR SECOND DISTRICT</td>\n      <td>CITY OF MANDALUYONG</td>\n      <td>Mandaluyong City</td>\n      <td>CITY OF MANDALUYONG</td>\n      <td>Mandaluyong City District II</td>\n      <td>Lone District</td>\n      <td>...</td>\n      <td>319804.0</td>\n      <td>11.0</td>\n      <td>0.0</td>\n      <td>0.0</td>\n      <td>0.0</td>\n      <td>0.0</td>\n      <td>0.0</td>\n      <td>23.0</td>\n      <td>52.0</td>\n      <td>3628000.0</td>\n    </tr>\n    <tr>\n      <th>46496</th>\n      <td>305444</td>\n      <td>Maysan National High School</td>\n      <td>NCR</td>\n      <td>National Capital Region</td>\n      <td>NCR THIRD DISTRICT</td>\n      <td>CITY OF VALENZUELA</td>\n      <td>Valenzuela City</td>\n      <td>CITY OF VALENZUELA</td>\n      <td>Valenzuela City East District</td>\n      <td>2nd District</td>\n      <td>...</td>\n      <td>305444.0</td>\n      <td>26.0</td>\n      <td>1.0</td>\n      <td>0.0</td>\n      <td>0.0</td>\n      <td>0.0</td>\n      <td>9.0</td>\n      <td>54.0</td>\n      <td>0.0</td>\n      <td>1876000.0</td>\n    </tr>\n    <tr>\n      <th>46571</th>\n      <td>305446</td>\n      <td>Sitero Francisco Mem. NHS</td>\n      <td>NCR</td>\n      <td>National Capital Region</td>\n      <td>NCR THIRD DISTRICT</td>\n      <td>CITY OF VALENZUELA</td>\n      <td>Valenzuela City</td>\n      <td>CITY OF VALENZUELA</td>\n      <td>Valenzuela City Central District</td>\n      <td>2nd District</td>\n      <td>...</td>\n      <td>305446.0</td>\n      <td>16.0</td>\n      <td>0.0</td>\n      <td>0.0</td>\n      <td>0.0</td>\n      <td>0.0</td>\n      <td>3.0</td>\n      <td>39.0</td>\n      <td>0.0</td>\n      <td>1647000.0</td>\n    </tr>\n    <tr>\n      <th>46597</th>\n      <td>305441</td>\n      <td>Valenzuela NHS</td>\n      <td>NCR</td>\n      <td>National Capital Region</td>\n      <td>NCR THIRD DISTRICT</td>\n      <td>CITY OF VALENZUELA</td>\n      <td>Valenzuela City</td>\n      <td>CITY OF VALENZUELA</td>\n      <td>Valenzuela City Central District</td>\n      <td>2nd District</td>\n      <td>...</td>\n      <td>305441.0</td>\n      <td>33.0</td>\n      <td>0.0</td>\n      <td>0.0</td>\n      <td>0.0</td>\n      <td>0.0</td>\n      <td>18.0</td>\n      <td>84.0</td>\n      <td>1.0</td>\n      <td>2924000.0</td>\n    </tr>\n  </tbody>\n</table>\n<p>1229 rows × 63 columns</p>\n</div>"
     },
     "metadata": {}
    }
   ]
  },
  {
   "cell_type": "code",
   "metadata": {
    "cell_id": "00034-618a9846-27a6-4f8f-9a67-d17fc59b11fd",
    "deepnote_to_be_reexecuted": false,
    "source_hash": "3d5b8318",
    "execution_start": 1621511447927,
    "execution_millis": 29,
    "deepnote_cell_type": "code"
   },
   "source": "df_sped[\"school.id\"].nunique()",
   "execution_count": 40,
   "outputs": [
    {
     "output_type": "execute_result",
     "execution_count": 40,
     "data": {
      "text/plain": "1229"
     },
     "metadata": {}
    }
   ]
  },
  {
   "cell_type": "code",
   "source": "master_df['school.name'].unique()",
   "metadata": {
    "tags": [],
    "cell_id": "00043-0237fc21-c0e4-44dc-b41f-bfe8e8c8c2d4",
    "deepnote_to_be_reexecuted": false,
    "source_hash": "e6289349",
    "execution_start": 1621511447933,
    "execution_millis": 183,
    "deepnote_cell_type": "code"
   },
   "outputs": [
    {
     "output_type": "execute_result",
     "execution_count": 41,
     "data": {
      "text/plain": "array(['A. Diaz, Sr. ES', 'A. P. Santos ES (SPED Center)',\n       'A.P. Guevara IS', ..., 'Victoriano Mapa High School',\n       'Wawangpulo National High School', 'Western Bicutan NHS'],\n      dtype=object)"
     },
     "metadata": {}
    }
   ],
   "execution_count": 41
  },
  {
   "cell_type": "code",
   "source": "len(master_df['school.name'].unique())",
   "metadata": {
    "tags": [],
    "cell_id": "00044-ef2f6436-3852-4531-866d-0177d528723e",
    "deepnote_to_be_reexecuted": false,
    "source_hash": "4958ab84",
    "execution_start": 1621511447945,
    "execution_millis": 172,
    "deepnote_cell_type": "code"
   },
   "outputs": [
    {
     "output_type": "execute_result",
     "execution_count": 42,
     "data": {
      "text/plain": "36901"
     },
     "metadata": {}
    }
   ],
   "execution_count": 42
  },
  {
   "cell_type": "markdown",
   "source": "## Feature Engineering",
   "metadata": {
    "tags": [],
    "cell_id": "00045-ee1d8296-00c6-4226-9c27-1c0f6700344e",
    "deepnote_cell_type": "markdown"
   }
  },
  {
   "cell_type": "code",
   "source": "df_sped[\"total_sped_students\"] = df_sped[\"SPED NG Male\"] + df_sped[\"SPED NG Female\"]\ndf_sped[\"st_ratio\"] = df_sped[\"total_sped_students\"]/df_sped[\"teachers.sped\"]\ndf_sped[\"st_ratio\"]",
   "metadata": {
    "tags": [],
    "cell_id": "00048-9058272d-b151-4ebb-a4f7-aac6d531fb3e",
    "deepnote_to_be_reexecuted": false,
    "source_hash": "6b893233",
    "execution_start": 1621512721871,
    "execution_millis": 12,
    "deepnote_cell_type": "code"
   },
   "outputs": [
    {
     "name": "stderr",
     "text": "/shared-libs/python3.7/py-core/lib/python3.7/site-packages/ipykernel_launcher.py:1: SettingWithCopyWarning: \nA value is trying to be set on a copy of a slice from a DataFrame.\nTry using .loc[row_indexer,col_indexer] = value instead\n\nSee the caveats in the documentation: https://pandas.pydata.org/pandas-docs/stable/user_guide/indexing.html#returning-a-view-versus-a-copy\n  \"\"\"Entry point for launching an IPython kernel.\n/shared-libs/python3.7/py-core/lib/python3.7/site-packages/ipykernel_launcher.py:2: SettingWithCopyWarning: \nA value is trying to be set on a copy of a slice from a DataFrame.\nTry using .loc[row_indexer,col_indexer] = value instead\n\nSee the caveats in the documentation: https://pandas.pydata.org/pandas-docs/stable/user_guide/indexing.html#returning-a-view-versus-a-copy\n  \n",
     "output_type": "stream"
    },
    {
     "output_type": "execute_result",
     "execution_count": 82,
     "data": {
      "text/plain": "1        13.500000\n7         6.000000\n22        7.000000\n24       15.000000\n29       21.000000\n           ...    \n46430          inf\n46440     0.134615\n46496          inf\n46571          inf\n46597    16.000000\nName: st_ratio, Length: 1229, dtype: float64"
     },
     "metadata": {}
    }
   ],
   "execution_count": 82
  },
  {
   "cell_type": "code",
   "source": "df_sped[\"MOOE/student\"] = df_sped[\"MOOE\"]/df_sped[\"total_sped_students\"]",
   "metadata": {
    "tags": [],
    "cell_id": "00047-284c9a6f-55c3-46cb-89bb-55b27e22abe5",
    "deepnote_to_be_reexecuted": false,
    "source_hash": "b1063629",
    "execution_start": 1621512166383,
    "execution_millis": 12,
    "deepnote_cell_type": "code"
   },
   "outputs": [
    {
     "name": "stderr",
     "text": "/shared-libs/python3.7/py-core/lib/python3.7/site-packages/ipykernel_launcher.py:1: SettingWithCopyWarning: \nA value is trying to be set on a copy of a slice from a DataFrame.\nTry using .loc[row_indexer,col_indexer] = value instead\n\nSee the caveats in the documentation: https://pandas.pydata.org/pandas-docs/stable/user_guide/indexing.html#returning-a-view-versus-a-copy\n  \"\"\"Entry point for launching an IPython kernel.\n",
     "output_type": "stream"
    }
   ],
   "execution_count": 62
  },
  {
   "cell_type": "code",
   "source": "df_sped[\"MOOE/teacher\"] = df_sped[\"MOOE\"]/df_sped[\"teachers.sped\"]\ndf_sped[\"MOOE/teacher\"]",
   "metadata": {
    "tags": [],
    "cell_id": "00047-15255406-870f-49e2-9d12-5d30b9714011",
    "deepnote_to_be_reexecuted": false,
    "source_hash": "b86b1b8f",
    "execution_start": 1621512281715,
    "execution_millis": 37,
    "deepnote_cell_type": "code"
   },
   "outputs": [
    {
     "name": "stderr",
     "text": "/shared-libs/python3.7/py-core/lib/python3.7/site-packages/ipykernel_launcher.py:1: SettingWithCopyWarning: \nA value is trying to be set on a copy of a slice from a DataFrame.\nTry using .loc[row_indexer,col_indexer] = value instead\n\nSee the caveats in the documentation: https://pandas.pydata.org/pandas-docs/stable/user_guide/indexing.html#returning-a-view-versus-a-copy\n  \"\"\"Entry point for launching an IPython kernel.\n",
     "output_type": "stream"
    },
    {
     "output_type": "execute_result",
     "execution_count": 67,
     "data": {
      "text/plain": "1        6.875000e+04\n7        4.400000e+05\n22       3.810000e+05\n24       3.920000e+05\n29       5.360000e+05\n             ...     \n46430             inf\n46440    6.976923e+04\n46496             inf\n46571             inf\n46597    2.924000e+06\nName: MOOE/teacher, Length: 1229, dtype: float64"
     },
     "metadata": {}
    }
   ],
   "execution_count": 67
  },
  {
   "cell_type": "code",
   "source": "df_sped[\"total_rooms\"] = df_sped[\"rooms.standard.academic\"]+ df_sped['rooms.standard.unused'] + df_sped['rooms.nonstandard.academic'] + df_sped['rooms.nonstandard.unused']",
   "metadata": {
    "tags": [],
    "cell_id": "00049-15367a6c-d256-4908-bf4b-3350ae7dbcb0",
    "deepnote_to_be_reexecuted": false,
    "source_hash": "fc18460c",
    "execution_start": 1621512494979,
    "execution_millis": 11,
    "deepnote_cell_type": "code"
   },
   "outputs": [
    {
     "name": "stderr",
     "text": "/shared-libs/python3.7/py-core/lib/python3.7/site-packages/ipykernel_launcher.py:1: SettingWithCopyWarning: \nA value is trying to be set on a copy of a slice from a DataFrame.\nTry using .loc[row_indexer,col_indexer] = value instead\n\nSee the caveats in the documentation: https://pandas.pydata.org/pandas-docs/stable/user_guide/indexing.html#returning-a-view-versus-a-copy\n  \"\"\"Entry point for launching an IPython kernel.\n",
     "output_type": "stream"
    }
   ],
   "execution_count": 76
  },
  {
   "cell_type": "code",
   "source": "df_sped[\"student/room\"] = df_sped[\"total_sped_students\"]/df_sped[\"total_rooms\"]\ndf_sped[\"MOOE/room\"] = df_sped[\"MOOE\"]/df_sped[\"total_rooms\"]",
   "metadata": {
    "tags": [],
    "cell_id": "00050-1f9f66ce-e488-472c-906f-babefa7fa8d1",
    "deepnote_to_be_reexecuted": false,
    "source_hash": "5873f0a9",
    "execution_start": 1621512602533,
    "execution_millis": 11,
    "deepnote_cell_type": "code"
   },
   "outputs": [
    {
     "name": "stderr",
     "text": "/shared-libs/python3.7/py-core/lib/python3.7/site-packages/ipykernel_launcher.py:1: SettingWithCopyWarning: \nA value is trying to be set on a copy of a slice from a DataFrame.\nTry using .loc[row_indexer,col_indexer] = value instead\n\nSee the caveats in the documentation: https://pandas.pydata.org/pandas-docs/stable/user_guide/indexing.html#returning-a-view-versus-a-copy\n  \"\"\"Entry point for launching an IPython kernel.\n/shared-libs/python3.7/py-core/lib/python3.7/site-packages/ipykernel_launcher.py:2: SettingWithCopyWarning: \nA value is trying to be set on a copy of a slice from a DataFrame.\nTry using .loc[row_indexer,col_indexer] = value instead\n\nSee the caveats in the documentation: https://pandas.pydata.org/pandas-docs/stable/user_guide/indexing.html#returning-a-view-versus-a-copy\n  \n",
     "output_type": "stream"
    }
   ],
   "execution_count": 80
  },
  {
   "cell_type": "code",
   "source": "df_sped[[\"st_ratio\", \"MOOE/student\", \"MOOE/teacher\", \"student/room\", \"MOOE/room\"]]",
   "metadata": {
    "tags": [],
    "cell_id": "00051-80bae8d4-9897-441f-a6ef-5ce7b5ac4806",
    "deepnote_to_be_reexecuted": false,
    "source_hash": "78f8a937",
    "execution_start": 1621512728821,
    "execution_millis": 20,
    "deepnote_cell_type": "code"
   },
   "outputs": [
    {
     "output_type": "execute_result",
     "execution_count": 83,
     "data": {
      "application/vnd.deepnote.dataframe.v2+json": {
       "row_count": 1229,
       "column_count": 5,
       "columns": [
        {
         "name": "st_ratio",
         "dtype": "float64",
         "stats": {
          "unique_count": 229,
          "nan_count": 5,
          "min": "0.1346153846153846",
          "max": "inf",
          "histogram": [
           {
            "bin_start": 0.1346153846153846,
            "bin_end": 20.321153846153845,
            "count": 382
           },
           {
            "bin_start": 20.321153846153845,
            "bin_end": 40.50769230769231,
            "count": 140
           },
           {
            "bin_start": 40.50769230769231,
            "bin_end": 60.69423076923077,
            "count": 53
           },
           {
            "bin_start": 60.69423076923077,
            "bin_end": 80.88076923076923,
            "count": 14
           },
           {
            "bin_start": 80.88076923076923,
            "bin_end": 101.0673076923077,
            "count": 6
           },
           {
            "bin_start": 101.0673076923077,
            "bin_end": 121.25384615384615,
            "count": 0
           },
           {
            "bin_start": 121.25384615384615,
            "bin_end": 141.4403846153846,
            "count": 0
           },
           {
            "bin_start": 141.4403846153846,
            "bin_end": 161.62692307692308,
            "count": 0
           },
           {
            "bin_start": 161.62692307692308,
            "bin_end": 181.81346153846155,
            "count": 0
           },
           {
            "bin_start": 181.81346153846155,
            "bin_end": 202,
            "count": 1
           }
          ]
         }
        },
        {
         "name": "MOOE/student",
         "dtype": "float64",
         "stats": {
          "unique_count": 1141,
          "nan_count": 2,
          "min": "573.170731707317",
          "max": "4906500.0",
          "histogram": [
           {
            "bin_start": 573.170731707317,
            "bin_end": 491165.85365853657,
            "count": 1212
           },
           {
            "bin_start": 491165.85365853657,
            "bin_end": 981758.5365853659,
            "count": 8
           },
           {
            "bin_start": 981758.5365853659,
            "bin_end": 1472351.219512195,
            "count": 0
           },
           {
            "bin_start": 1472351.219512195,
            "bin_end": 1962943.9024390243,
            "count": 1
           },
           {
            "bin_start": 1962943.9024390243,
            "bin_end": 2453536.5853658537,
            "count": 2
           },
           {
            "bin_start": 2453536.5853658537,
            "bin_end": 2944129.268292683,
            "count": 3
           },
           {
            "bin_start": 2944129.268292683,
            "bin_end": 3434721.951219512,
            "count": 0
           },
           {
            "bin_start": 3434721.951219512,
            "bin_end": 3925314.6341463416,
            "count": 0
           },
           {
            "bin_start": 3925314.6341463416,
            "bin_end": 4415907.317073171,
            "count": 0
           },
           {
            "bin_start": 4415907.317073171,
            "bin_end": 4906500,
            "count": 1
           }
          ]
         }
        },
        {
         "name": "MOOE/teacher",
         "dtype": "float64",
         "stats": {
          "unique_count": 528,
          "nan_count": 7,
          "min": "8700.0",
          "max": "inf",
          "histogram": [
           {
            "bin_start": 8700,
            "bin_end": 749430,
            "count": 484
           },
           {
            "bin_start": 749430,
            "bin_end": 1490160,
            "count": 80
           },
           {
            "bin_start": 1490160,
            "bin_end": 2230890,
            "count": 21
           },
           {
            "bin_start": 2230890,
            "bin_end": 2971620,
            "count": 8
           },
           {
            "bin_start": 2971620,
            "bin_end": 3712350,
            "count": 1
           },
           {
            "bin_start": 3712350,
            "bin_end": 4453080,
            "count": 0
           },
           {
            "bin_start": 4453080,
            "bin_end": 5193810,
            "count": 0
           },
           {
            "bin_start": 5193810,
            "bin_end": 5934540,
            "count": 0
           },
           {
            "bin_start": 5934540,
            "bin_end": 6675270,
            "count": 1
           },
           {
            "bin_start": 6675270,
            "bin_end": 7416000,
            "count": 1
           }
          ]
         }
        },
        {
         "name": "student/room",
         "dtype": "float64",
         "stats": {
          "unique_count": 691,
          "nan_count": 5,
          "min": "0.014705882352941176",
          "max": "inf",
          "histogram": [
           {
            "bin_start": 0.014705882352941176,
            "bin_end": 4.379901960784314,
            "count": 1149
           },
           {
            "bin_start": 4.379901960784314,
            "bin_end": 8.745098039215687,
            "count": 37
           },
           {
            "bin_start": 8.745098039215687,
            "bin_end": 13.11029411764706,
            "count": 13
           },
           {
            "bin_start": 13.11029411764706,
            "bin_end": 17.475490196078432,
            "count": 4
           },
           {
            "bin_start": 17.475490196078432,
            "bin_end": 21.840686274509807,
            "count": 2
           },
           {
            "bin_start": 21.840686274509807,
            "bin_end": 26.205882352941178,
            "count": 1
           },
           {
            "bin_start": 26.205882352941178,
            "bin_end": 30.57107843137255,
            "count": 1
           },
           {
            "bin_start": 30.57107843137255,
            "bin_end": 34.93627450980392,
            "count": 2
           },
           {
            "bin_start": 34.93627450980392,
            "bin_end": 39.3014705882353,
            "count": 0
           },
           {
            "bin_start": 39.3014705882353,
            "bin_end": 43.666666666666664,
            "count": 1
           }
          ]
         }
        },
        {
         "name": "MOOE/room",
         "dtype": "float64",
         "stats": {
          "unique_count": 1052,
          "nan_count": 7,
          "min": "7710.526315789473",
          "max": "inf",
          "histogram": [
           {
            "bin_start": 7710.526315789473,
            "bin_end": 39921.29186602871,
            "count": 1030
           },
           {
            "bin_start": 39921.29186602871,
            "bin_end": 72132.05741626794,
            "count": 144
           },
           {
            "bin_start": 72132.05741626794,
            "bin_end": 104342.82296650717,
            "count": 27
           },
           {
            "bin_start": 104342.82296650717,
            "bin_end": 136553.58851674641,
            "count": 5
           },
           {
            "bin_start": 136553.58851674641,
            "bin_end": 168764.35406698563,
            "count": 1
           },
           {
            "bin_start": 168764.35406698563,
            "bin_end": 200975.11961722487,
            "count": 0
           },
           {
            "bin_start": 200975.11961722487,
            "bin_end": 233185.8851674641,
            "count": 1
           },
           {
            "bin_start": 233185.8851674641,
            "bin_end": 265396.65071770333,
            "count": 0
           },
           {
            "bin_start": 265396.65071770333,
            "bin_end": 297607.4162679426,
            "count": 0
           },
           {
            "bin_start": 297607.4162679426,
            "bin_end": 329818.1818181818,
            "count": 1
           }
          ]
         }
        },
        {
         "name": "_deepnote_index_column",
         "dtype": "int64"
        }
       ],
       "rows_top": [
        {
         "st_ratio": 13.5,
         "MOOE/student": 5092.592592592592,
         "MOOE/teacher": 68750,
         "student/room": 3.375,
         "MOOE/room": 17187.5,
         "_deepnote_index_column": 1
        },
        {
         "st_ratio": 6,
         "MOOE/student": 73333.33333333333,
         "MOOE/teacher": 440000,
         "student/room": 0.25,
         "MOOE/room": 18333.333333333332,
         "_deepnote_index_column": 7
        },
        {
         "st_ratio": 7,
         "MOOE/student": 54428.57142857143,
         "MOOE/teacher": 381000,
         "student/room": 0.35,
         "MOOE/room": 19050,
         "_deepnote_index_column": 22
        },
        {
         "st_ratio": 15,
         "MOOE/student": 26133.333333333332,
         "MOOE/teacher": 392000,
         "student/room": 0.6521739130434783,
         "MOOE/room": 17043.478260869564,
         "_deepnote_index_column": 24
        },
        {
         "st_ratio": 21,
         "MOOE/student": 25523.809523809523,
         "MOOE/teacher": 536000,
         "student/room": 1.1666666666666667,
         "MOOE/room": 29777.777777777777,
         "_deepnote_index_column": 29
        },
        {
         "st_ratio": 23,
         "MOOE/student": 39000,
         "MOOE/teacher": 897000,
         "student/room": 0.5609756097560976,
         "MOOE/room": 21878.048780487807,
         "_deepnote_index_column": 33
        },
        {
         "st_ratio": 2,
         "MOOE/student": 123500,
         "MOOE/teacher": 247000,
         "student/room": 0.15384615384615385,
         "MOOE/room": 19000,
         "_deepnote_index_column": 98
        },
        {
         "st_ratio": 11,
         "MOOE/student": 32181.81818181818,
         "MOOE/teacher": 354000,
         "student/room": 0.6875,
         "MOOE/room": 22125,
         "_deepnote_index_column": 191
        },
        {
         "st_ratio": 16.5,
         "MOOE/student": 15363.636363636364,
         "MOOE/teacher": 253500,
         "student/room": 1.2692307692307692,
         "MOOE/room": 19500,
         "_deepnote_index_column": 218
        },
        {
         "st_ratio": 5,
         "MOOE/student": 67000,
         "MOOE/teacher": 335000,
         "student/room": 0.2777777777777778,
         "MOOE/room": 18611.11111111111,
         "_deepnote_index_column": 227
        },
        {
         "st_ratio": "inf",
         "MOOE/student": 24222.222222222223,
         "MOOE/teacher": "inf",
         "student/room": 0.6666666666666666,
         "MOOE/room": 16148.148148148148,
         "_deepnote_index_column": 253
        },
        {
         "st_ratio": "inf",
         "MOOE/student": 4346.153846153846,
         "MOOE/teacher": "inf",
         "student/room": 8.666666666666666,
         "MOOE/room": 37666.666666666664,
         "_deepnote_index_column": 268
        },
        {
         "st_ratio": 18.5,
         "MOOE/student": 10135.135135135135,
         "MOOE/teacher": 187500,
         "student/room": 2.3125,
         "MOOE/room": 23437.5,
         "_deepnote_index_column": 272
        },
        {
         "st_ratio": 16,
         "MOOE/student": 16000,
         "MOOE/teacher": 256000,
         "student/room": 1.1428571428571428,
         "MOOE/room": 18285.714285714286,
         "_deepnote_index_column": 285
        },
        {
         "st_ratio": "inf",
         "MOOE/student": 87000,
         "MOOE/teacher": "inf",
         "student/room": 0.23529411764705882,
         "MOOE/room": 20470.58823529412,
         "_deepnote_index_column": 337
        },
        {
         "st_ratio": 1,
         "MOOE/student": 148000,
         "MOOE/teacher": 148000,
         "student/room": 0.16666666666666666,
         "MOOE/room": 24666.666666666668,
         "_deepnote_index_column": 364
        },
        {
         "st_ratio": "inf",
         "MOOE/student": 14702.127659574468,
         "MOOE/teacher": "inf",
         "student/room": 1.8076923076923077,
         "MOOE/room": 26576.923076923078,
         "_deepnote_index_column": 397
        },
        {
         "st_ratio": 15.5,
         "MOOE/student": 17548.387096774193,
         "MOOE/teacher": 272000,
         "student/room": 1.1071428571428572,
         "MOOE/room": 19428.571428571428,
         "_deepnote_index_column": 402
        },
        {
         "st_ratio": 9,
         "MOOE/student": 27111.11111111111,
         "MOOE/teacher": 244000,
         "student/room": 0.75,
         "MOOE/room": 20333.333333333332,
         "_deepnote_index_column": 427
        },
        {
         "st_ratio": "inf",
         "MOOE/student": 38357.142857142855,
         "MOOE/teacher": "inf",
         "student/room": 0.6363636363636364,
         "MOOE/room": 24409.090909090908,
         "_deepnote_index_column": 473
        },
        {
         "st_ratio": "inf",
         "MOOE/student": 113000,
         "MOOE/teacher": "inf",
         "student/room": 0.16666666666666666,
         "MOOE/room": 18833.333333333332,
         "_deepnote_index_column": 484
        },
        {
         "st_ratio": 5,
         "MOOE/student": 30400,
         "MOOE/teacher": 152000,
         "student/room": 0.8333333333333334,
         "MOOE/room": 25333.333333333332,
         "_deepnote_index_column": 519
        },
        {
         "st_ratio": 40,
         "MOOE/student": 12475,
         "MOOE/teacher": 499000,
         "student/room": 1.6,
         "MOOE/room": 19960,
         "_deepnote_index_column": 525
        },
        {
         "st_ratio": "inf",
         "MOOE/student": 35125,
         "MOOE/teacher": "inf",
         "student/room": 0.6666666666666666,
         "MOOE/room": 23416.666666666668,
         "_deepnote_index_column": 585
        },
        {
         "st_ratio": 1,
         "MOOE/student": 289000,
         "MOOE/teacher": 289000,
         "student/room": 0.1111111111111111,
         "MOOE/room": 32111.11111111111,
         "_deepnote_index_column": 640
        },
        {
         "st_ratio": 10,
         "MOOE/student": 3300,
         "MOOE/teacher": 33000,
         "student/room": "inf",
         "MOOE/room": "inf",
         "_deepnote_index_column": 676
        },
        {
         "st_ratio": 7.142857142857143,
         "MOOE/student": 7860,
         "MOOE/teacher": 56142.857142857145,
         "student/room": 2.7777777777777777,
         "MOOE/room": 21833.333333333332,
         "_deepnote_index_column": 748
        },
        {
         "st_ratio": 13.666666666666666,
         "MOOE/student": 28195.121951219513,
         "MOOE/teacher": 385333.3333333333,
         "student/room": 0.7068965517241379,
         "MOOE/room": 19931.03448275862,
         "_deepnote_index_column": 774
        },
        {
         "st_ratio": 6,
         "MOOE/student": 130500,
         "MOOE/teacher": 783000,
         "student/room": 0.14285714285714285,
         "MOOE/room": 18642.85714285714,
         "_deepnote_index_column": 775
        },
        {
         "st_ratio": 6,
         "MOOE/student": 65333.333333333336,
         "MOOE/teacher": 392000,
         "student/room": 0.3,
         "MOOE/room": 19600,
         "_deepnote_index_column": 782
        },
        {
         "st_ratio": 4,
         "MOOE/student": 47500,
         "MOOE/teacher": 190000,
         "student/room": 0.4444444444444444,
         "MOOE/room": 21111.11111111111,
         "_deepnote_index_column": 808
        },
        {
         "st_ratio": 18,
         "MOOE/student": 10527.777777777777,
         "MOOE/teacher": 189500,
         "student/room": 2.4,
         "MOOE/room": 25266.666666666668,
         "_deepnote_index_column": 853
        },
        {
         "st_ratio": 8,
         "MOOE/student": 49750,
         "MOOE/teacher": 398000,
         "student/room": 0.47058823529411764,
         "MOOE/room": 23411.764705882353,
         "_deepnote_index_column": 912
        },
        {
         "st_ratio": 9,
         "MOOE/student": 32111.11111111111,
         "MOOE/teacher": 289000,
         "student/room": 0.6428571428571429,
         "MOOE/room": 20642.85714285714,
         "_deepnote_index_column": 1062
        },
        {
         "st_ratio": "inf",
         "MOOE/student": 18409.090909090908,
         "MOOE/teacher": "inf",
         "student/room": 1.1578947368421053,
         "MOOE/room": 21315.78947368421,
         "_deepnote_index_column": 1074
        },
        {
         "st_ratio": "inf",
         "MOOE/student": 47928.57142857143,
         "MOOE/teacher": "inf",
         "student/room": 0.7777777777777778,
         "MOOE/room": 37277.77777777778,
         "_deepnote_index_column": 1092
        },
        {
         "st_ratio": 4,
         "MOOE/student": 61250,
         "MOOE/teacher": 245000,
         "student/room": 0.5,
         "MOOE/room": 30625,
         "_deepnote_index_column": 1189
        },
        {
         "st_ratio": 28,
         "MOOE/student": 15732.142857142857,
         "MOOE/teacher": 440500,
         "student/room": 1.6,
         "MOOE/room": 25171.428571428572,
         "_deepnote_index_column": 1192
        },
        {
         "st_ratio": 10,
         "MOOE/student": 44200,
         "MOOE/teacher": 442000,
         "student/room": 0.5,
         "MOOE/room": 22100,
         "_deepnote_index_column": 1236
        },
        {
         "st_ratio": 10,
         "MOOE/student": 47600,
         "MOOE/teacher": 476000,
         "student/room": 0.47619047619047616,
         "MOOE/room": 22666.666666666668,
         "_deepnote_index_column": 1272
        },
        {
         "st_ratio": 12,
         "MOOE/student": 26916.666666666668,
         "MOOE/teacher": 323000,
         "student/room": 0.7058823529411765,
         "MOOE/room": 19000,
         "_deepnote_index_column": 1312
        },
        {
         "st_ratio": 7,
         "MOOE/student": 39428.57142857143,
         "MOOE/teacher": 276000,
         "student/room": 0.5384615384615384,
         "MOOE/room": 21230.76923076923,
         "_deepnote_index_column": 1321
        },
        {
         "st_ratio": "inf",
         "MOOE/student": 34296.2962962963,
         "MOOE/teacher": "inf",
         "student/room": 0.5510204081632653,
         "MOOE/room": 18897.95918367347,
         "_deepnote_index_column": 1329
        },
        {
         "st_ratio": 17,
         "MOOE/student": 7941.176470588235,
         "MOOE/teacher": 135000,
         "student/room": 2.8333333333333335,
         "MOOE/room": 22500,
         "_deepnote_index_column": 1337
        },
        {
         "st_ratio": 2,
         "MOOE/student": 248500,
         "MOOE/teacher": 497000,
         "student/room": 0.12903225806451613,
         "MOOE/room": 32064.516129032258,
         "_deepnote_index_column": 1357
        },
        {
         "st_ratio": 16,
         "MOOE/student": 87875,
         "MOOE/teacher": 1406000,
         "student/room": 0.2711864406779661,
         "MOOE/room": 23830.508474576272,
         "_deepnote_index_column": 1365
        },
        {
         "st_ratio": "inf",
         "MOOE/student": 10400,
         "MOOE/teacher": "inf",
         "student/room": 2.2222222222222223,
         "MOOE/room": 23111.11111111111,
         "_deepnote_index_column": 1366
        },
        {
         "st_ratio": 28,
         "MOOE/student": 29107.14285714286,
         "MOOE/teacher": 815000,
         "student/room": 0.7777777777777778,
         "MOOE/room": 22638.88888888889,
         "_deepnote_index_column": 1368
        },
        {
         "st_ratio": 23,
         "MOOE/student": 25652.17391304348,
         "MOOE/teacher": 590000,
         "student/room": 0.7666666666666667,
         "MOOE/room": 19666.666666666668,
         "_deepnote_index_column": 1379
        },
        {
         "st_ratio": 3,
         "MOOE/student": 49333.333333333336,
         "MOOE/teacher": 148000,
         "student/room": 0.5,
         "MOOE/room": 24666.666666666668,
         "_deepnote_index_column": 1414
        },
        {
         "st_ratio": "inf",
         "MOOE/student": 8708.333333333334,
         "MOOE/teacher": "inf",
         "student/room": 4,
         "MOOE/room": 34833.333333333336,
         "_deepnote_index_column": 1506
        },
        {
         "st_ratio": 32,
         "MOOE/student": 17718.75,
         "MOOE/teacher": 567000,
         "student/room": 0.9696969696969697,
         "MOOE/room": 17181.81818181818,
         "_deepnote_index_column": 1510
        },
        {
         "st_ratio": 4.333333333333333,
         "MOOE/student": 26615.384615384617,
         "MOOE/teacher": 115333.33333333333,
         "student/room": 0.8666666666666667,
         "MOOE/room": 23066.666666666668,
         "_deepnote_index_column": 1514
        },
        {
         "st_ratio": "inf",
         "MOOE/student": 38600,
         "MOOE/teacher": "inf",
         "student/room": 0.5,
         "MOOE/room": 19300,
         "_deepnote_index_column": 1647
        },
        {
         "st_ratio": 7,
         "MOOE/student": 25285.714285714286,
         "MOOE/teacher": 177000,
         "student/room": 0.875,
         "MOOE/room": 22125,
         "_deepnote_index_column": 1691
        },
        {
         "st_ratio": 48,
         "MOOE/student": 18104.166666666668,
         "MOOE/teacher": 869000,
         "student/room": 0.8888888888888888,
         "MOOE/room": 16092.592592592593,
         "_deepnote_index_column": 1822
        },
        {
         "st_ratio": 20,
         "MOOE/student": 10850,
         "MOOE/teacher": 217000,
         "student/room": 2,
         "MOOE/room": 21700,
         "_deepnote_index_column": 1837
        },
        {
         "st_ratio": 12.7,
         "MOOE/student": 4574.8031496062995,
         "MOOE/teacher": 58100,
         "student/room": 5.521739130434782,
         "MOOE/room": 25260.869565217392,
         "_deepnote_index_column": 1924
        },
        {
         "st_ratio": 6,
         "MOOE/student": 54500,
         "MOOE/teacher": 327000,
         "student/room": 0.3333333333333333,
         "MOOE/room": 18166.666666666668,
         "_deepnote_index_column": 2034
        },
        {
         "st_ratio": 7,
         "MOOE/student": 8250,
         "MOOE/teacher": 57750,
         "student/room": 2,
         "MOOE/room": 16500,
         "_deepnote_index_column": 2121
        },
        {
         "st_ratio": 20,
         "MOOE/student": 34550,
         "MOOE/teacher": 691000,
         "student/room": 0.6896551724137931,
         "MOOE/room": 23827.58620689655,
         "_deepnote_index_column": 2176
        },
        {
         "st_ratio": 10,
         "MOOE/student": 36300,
         "MOOE/teacher": 363000,
         "student/room": 0.6666666666666666,
         "MOOE/room": 24200,
         "_deepnote_index_column": 2223
        },
        {
         "st_ratio": 3,
         "MOOE/student": 48666.666666666664,
         "MOOE/teacher": 146000,
         "student/room": 0.5,
         "MOOE/room": 24333.333333333332,
         "_deepnote_index_column": 2261
        },
        {
         "st_ratio": 3,
         "MOOE/student": 52666.666666666664,
         "MOOE/teacher": 158000,
         "student/room": 0.5,
         "MOOE/room": 26333.333333333332,
         "_deepnote_index_column": 2270
        },
        {
         "st_ratio": 6.833333333333333,
         "MOOE/student": 7048.780487804878,
         "MOOE/teacher": 48166.666666666664,
         "student/room": 3.1538461538461537,
         "MOOE/room": 22230.76923076923,
         "_deepnote_index_column": 2295
        },
        {
         "st_ratio": 23,
         "MOOE/student": 27043.478260869564,
         "MOOE/teacher": 622000,
         "student/room": 1.4375,
         "MOOE/room": 38875,
         "_deepnote_index_column": 2345
        },
        {
         "st_ratio": 9.875,
         "MOOE/student": 20949.367088607596,
         "MOOE/teacher": 206875,
         "student/room": 1.0394736842105263,
         "MOOE/room": 21776.315789473683,
         "_deepnote_index_column": 2346
        },
        {
         "st_ratio": "inf",
         "MOOE/student": 34333.333333333336,
         "MOOE/teacher": "inf",
         "student/room": 0.72,
         "MOOE/room": 24720,
         "_deepnote_index_column": 2370
        },
        {
         "st_ratio": 9.5,
         "MOOE/student": 15434.21052631579,
         "MOOE/teacher": 146625,
         "student/room": 1.4615384615384615,
         "MOOE/room": 22557.69230769231,
         "_deepnote_index_column": 2381
        },
        {
         "st_ratio": 44,
         "MOOE/student": 6340.909090909091,
         "MOOE/teacher": 279000,
         "student/room": 3.142857142857143,
         "MOOE/room": 19928.571428571428,
         "_deepnote_index_column": 2383
        },
        {
         "st_ratio": 5,
         "MOOE/student": 58800,
         "MOOE/teacher": 294000,
         "student/room": 0.38461538461538464,
         "MOOE/room": 22615.384615384617,
         "_deepnote_index_column": 2430
        },
        {
         "st_ratio": "inf",
         "MOOE/student": 47777.77777777778,
         "MOOE/teacher": "inf",
         "student/room": 0.3333333333333333,
         "MOOE/room": 15925.925925925925,
         "_deepnote_index_column": 2454
        },
        {
         "st_ratio": 29,
         "MOOE/student": 24931.03448275862,
         "MOOE/teacher": 723000,
         "student/room": 0.6590909090909091,
         "MOOE/room": 16431.81818181818,
         "_deepnote_index_column": 2527
        },
        {
         "st_ratio": "inf",
         "MOOE/student": 15032.258064516129,
         "MOOE/teacher": "inf",
         "student/room": 1.4761904761904763,
         "MOOE/room": 22190.47619047619,
         "_deepnote_index_column": 2539
        },
        {
         "st_ratio": "inf",
         "MOOE/student": 25000,
         "MOOE/teacher": "inf",
         "student/room": 0.68,
         "MOOE/room": 17000,
         "_deepnote_index_column": 2577
        },
        {
         "st_ratio": 7,
         "MOOE/student": 44857.142857142855,
         "MOOE/teacher": 314000,
         "student/room": 0.4117647058823529,
         "MOOE/room": 18470.58823529412,
         "_deepnote_index_column": 2581
        },
        {
         "st_ratio": 64,
         "MOOE/student": 6062.5,
         "MOOE/teacher": 388000,
         "student/room": 3.5555555555555554,
         "MOOE/room": 21555.555555555555,
         "_deepnote_index_column": 2633
        },
        {
         "st_ratio": 16.8,
         "MOOE/student": 10666.666666666666,
         "MOOE/teacher": 179200,
         "student/room": 1.9534883720930232,
         "MOOE/room": 20837.20930232558,
         "_deepnote_index_column": 2707
        },
        {
         "st_ratio": "inf",
         "MOOE/student": 46555.555555555555,
         "MOOE/teacher": "inf",
         "student/room": 0.5294117647058824,
         "MOOE/room": 24647.058823529413,
         "_deepnote_index_column": 2712
        },
        {
         "st_ratio": "inf",
         "MOOE/student": 32333.333333333332,
         "MOOE/teacher": "inf",
         "student/room": 0.46153846153846156,
         "MOOE/room": 14923.076923076924,
         "_deepnote_index_column": 2827
        },
        {
         "st_ratio": 4.5,
         "MOOE/student": 26333.333333333332,
         "MOOE/teacher": 118500,
         "student/room": 0.8181818181818182,
         "MOOE/room": 21545.454545454544,
         "_deepnote_index_column": 2832
        },
        {
         "st_ratio": "inf",
         "MOOE/student": 49600,
         "MOOE/teacher": "inf",
         "student/room": 0.4166666666666667,
         "MOOE/room": 20666.666666666668,
         "_deepnote_index_column": 2947
        },
        {
         "st_ratio": 3.5,
         "MOOE/student": 49785.71428571428,
         "MOOE/teacher": 174250,
         "student/room": 0.5384615384615384,
         "MOOE/room": 26807.69230769231,
         "_deepnote_index_column": 2998
        },
        {
         "st_ratio": "inf",
         "MOOE/student": 30708.333333333332,
         "MOOE/teacher": "inf",
         "student/room": 0.7058823529411765,
         "MOOE/room": 21676.470588235294,
         "_deepnote_index_column": 3011
        },
        {
         "st_ratio": 15,
         "MOOE/student": 46800,
         "MOOE/teacher": 702000,
         "student/room": 0.5555555555555556,
         "MOOE/room": 26000,
         "_deepnote_index_column": 3012
        },
        {
         "st_ratio": "inf",
         "MOOE/student": 108000,
         "MOOE/teacher": "inf",
         "student/room": 0.17857142857142858,
         "MOOE/room": 19285.714285714286,
         "_deepnote_index_column": 3038
        },
        {
         "st_ratio": 8,
         "MOOE/student": 20500,
         "MOOE/teacher": 164000,
         "student/room": 0.9230769230769231,
         "MOOE/room": 18923.076923076922,
         "_deepnote_index_column": 3152
        },
        {
         "st_ratio": "inf",
         "MOOE/student": 32500,
         "MOOE/teacher": "inf",
         "student/room": 0.6666666666666666,
         "MOOE/room": 21666.666666666668,
         "_deepnote_index_column": 3299
        },
        {
         "st_ratio": 1.5,
         "MOOE/student": 134500,
         "MOOE/teacher": 201750,
         "student/room": 0.14634146341463414,
         "MOOE/room": 19682.926829268294,
         "_deepnote_index_column": 3342
        },
        {
         "st_ratio": 13.5,
         "MOOE/student": 24259.25925925926,
         "MOOE/teacher": 327500,
         "student/room": 0.7714285714285715,
         "MOOE/room": 18714.285714285714,
         "_deepnote_index_column": 3344
        },
        {
         "st_ratio": 35,
         "MOOE/student": 9485.714285714286,
         "MOOE/teacher": 332000,
         "student/room": 1.8421052631578947,
         "MOOE/room": 17473.684210526317,
         "_deepnote_index_column": 3345
        },
        {
         "st_ratio": "inf",
         "MOOE/student": 46000,
         "MOOE/teacher": "inf",
         "student/room": 0.5,
         "MOOE/room": 23000,
         "_deepnote_index_column": 3365
        },
        {
         "st_ratio": "inf",
         "MOOE/student": 54500,
         "MOOE/teacher": "inf",
         "student/room": 0.36363636363636365,
         "MOOE/room": 19818.18181818182,
         "_deepnote_index_column": 3404
        },
        {
         "st_ratio": "inf",
         "MOOE/student": 52000,
         "MOOE/teacher": "inf",
         "student/room": 0.625,
         "MOOE/room": 32500,
         "_deepnote_index_column": 3468
        },
        {
         "st_ratio": "inf",
         "MOOE/student": 30266.666666666668,
         "MOOE/teacher": "inf",
         "student/room": 0.5769230769230769,
         "MOOE/room": 17461.53846153846,
         "_deepnote_index_column": 3553
        },
        {
         "st_ratio": "inf",
         "MOOE/student": 18200,
         "MOOE/teacher": "inf",
         "student/room": 1,
         "MOOE/room": 18200,
         "_deepnote_index_column": 3630
        },
        {
         "st_ratio": "inf",
         "MOOE/student": 44666.666666666664,
         "MOOE/teacher": "inf",
         "student/room": 0.42857142857142855,
         "MOOE/room": 19142.85714285714,
         "_deepnote_index_column": 3693
        },
        {
         "st_ratio": "inf",
         "MOOE/student": 54333.333333333336,
         "MOOE/teacher": "inf",
         "student/room": 0.35294117647058826,
         "MOOE/room": 19176.470588235294,
         "_deepnote_index_column": 3754
        },
        {
         "st_ratio": "inf",
         "MOOE/student": 32181.81818181818,
         "MOOE/teacher": "inf",
         "student/room": 0.6111111111111112,
         "MOOE/room": 19666.666666666668,
         "_deepnote_index_column": 3756
        },
        {
         "st_ratio": "inf",
         "MOOE/student": 64600,
         "MOOE/teacher": "inf",
         "student/room": 0.29411764705882354,
         "MOOE/room": 19000,
         "_deepnote_index_column": 3797
        }
       ],
       "rows_bottom": [
        {
         "st_ratio": "59.0",
         "MOOE/student": 39762.71186440678,
         "MOOE/teacher": "2346000.0",
         "student/room": "1.0",
         "MOOE/room": "39762.71186440678",
         "_deepnote_index_column": 38599
        },
        {
         "st_ratio": "28.5",
         "MOOE/student": 13228.070175438597,
         "MOOE/teacher": "377000.0",
         "student/room": "1.9",
         "MOOE/room": "25133.333333333332",
         "_deepnote_index_column": 38612
        },
        {
         "st_ratio": "35.0",
         "MOOE/student": 34714.28571428572,
         "MOOE/teacher": "1215000.0",
         "student/room": "1.4583333333333333",
         "MOOE/room": "50625.0",
         "_deepnote_index_column": 38613
        },
        {
         "st_ratio": "inf",
         "MOOE/student": 48179.48717948718,
         "MOOE/teacher": "inf",
         "student/room": "0.43333333333333335",
         "MOOE/room": "20877.777777777777",
         "_deepnote_index_column": 38616
        },
        {
         "st_ratio": "5.545454545454546",
         "MOOE/student": 6245.901639344263,
         "MOOE/teacher": "34636.36363636364",
         "student/room": "12.2",
         "MOOE/room": "76200.0",
         "_deepnote_index_column": 38620
        },
        {
         "st_ratio": "30.0",
         "MOOE/student": 58633.333333333336,
         "MOOE/teacher": "1759000.0",
         "student/room": "0.6521739130434783",
         "MOOE/room": "38239.13043478261",
         "_deepnote_index_column": 38623
        },
        {
         "st_ratio": "18.0",
         "MOOE/student": 25222.222222222223,
         "MOOE/teacher": "454000.0",
         "student/room": "1.2857142857142858",
         "MOOE/room": "32428.571428571428",
         "_deepnote_index_column": 38626
        },
        {
         "st_ratio": "3.727272727272727",
         "MOOE/student": 46390.243902439026,
         "MOOE/teacher": "172909.0909090909",
         "student/room": "0.4659090909090909",
         "MOOE/room": "21613.636363636364",
         "_deepnote_index_column": 38631
        },
        {
         "st_ratio": "inf",
         "MOOE/student": 75846.15384615384,
         "MOOE/teacher": "inf",
         "student/room": "0.5909090909090909",
         "MOOE/room": "44818.181818181816",
         "_deepnote_index_column": 38638
        },
        {
         "st_ratio": "inf",
         "MOOE/student": 972000,
         "MOOE/teacher": "inf",
         "student/room": "0.04",
         "MOOE/room": "38880.0",
         "_deepnote_index_column": 38647
        },
        {
         "st_ratio": "36.0",
         "MOOE/student": 28944.444444444445,
         "MOOE/teacher": "1042000.0",
         "student/room": "1.2413793103448276",
         "MOOE/room": "35931.03448275862",
         "_deepnote_index_column": 38651
        },
        {
         "st_ratio": "42.0",
         "MOOE/student": 8940.47619047619,
         "MOOE/teacher": "375500.0",
         "student/room": "4.2",
         "MOOE/room": "37550.0",
         "_deepnote_index_column": 38656
        },
        {
         "st_ratio": "17.0",
         "MOOE/student": 32176.470588235294,
         "MOOE/teacher": "547000.0",
         "student/room": "0.9444444444444444",
         "MOOE/room": "30388.88888888889",
         "_deepnote_index_column": 38661
        },
        {
         "st_ratio": "59.0",
         "MOOE/student": 25762.71186440678,
         "MOOE/teacher": "1520000.0",
         "student/room": "1.7878787878787878",
         "MOOE/room": "46060.606060606064",
         "_deepnote_index_column": 38665
        },
        {
         "st_ratio": "59.0",
         "MOOE/student": 26338.98305084746,
         "MOOE/teacher": "1554000.0",
         "student/room": "1.6388888888888888",
         "MOOE/room": "43166.666666666664",
         "_deepnote_index_column": 38671
        },
        {
         "st_ratio": "31.0",
         "MOOE/student": 27935.483870967742,
         "MOOE/teacher": "866000.0",
         "student/room": "1.4090909090909092",
         "MOOE/room": "39363.63636363636",
         "_deepnote_index_column": 38674
        },
        {
         "st_ratio": "30.0",
         "MOOE/student": 88100,
         "MOOE/teacher": "2643000.0",
         "student/room": "0.47619047619047616",
         "MOOE/room": "41952.380952380954",
         "_deepnote_index_column": 38676
        },
        {
         "st_ratio": "34.0",
         "MOOE/student": 9235.29411764706,
         "MOOE/teacher": "314000.0",
         "student/room": "2.8333333333333335",
         "MOOE/room": "26166.666666666668",
         "_deepnote_index_column": 38679
        },
        {
         "st_ratio": "inf",
         "MOOE/student": 37509.80392156863,
         "MOOE/teacher": "inf",
         "student/room": "0.7183098591549296",
         "MOOE/room": "26943.661971830985",
         "_deepnote_index_column": 38683
        },
        {
         "st_ratio": "inf",
         "MOOE/student": 29545.454545454544,
         "MOOE/teacher": "inf",
         "student/room": "1.8333333333333333",
         "MOOE/room": "54166.666666666664",
         "_deepnote_index_column": 38685
        },
        {
         "st_ratio": "inf",
         "MOOE/student": 143285.7142857143,
         "MOOE/teacher": "inf",
         "student/room": "0.3684210526315789",
         "MOOE/room": "52789.47368421053",
         "_deepnote_index_column": 38686
        },
        {
         "st_ratio": "inf",
         "MOOE/student": 5524.5901639344265,
         "MOOE/teacher": "inf",
         "student/room": "8.714285714285714",
         "MOOE/room": "48142.857142857145",
         "_deepnote_index_column": 38707
        },
        {
         "st_ratio": "inf",
         "MOOE/student": 22177.777777777777,
         "MOOE/teacher": "inf",
         "student/room": "2.25",
         "MOOE/room": "49900.0",
         "_deepnote_index_column": 38713
        },
        {
         "st_ratio": "inf",
         "MOOE/student": 169555.55555555556,
         "MOOE/teacher": "inf",
         "student/room": "0.2571428571428571",
         "MOOE/room": "43600.0",
         "_deepnote_index_column": 38718
        },
        {
         "st_ratio": "3.0",
         "MOOE/student": 121666.66666666667,
         "MOOE/teacher": "365000.0",
         "student/room": "0.5",
         "MOOE/room": "60833.333333333336",
         "_deepnote_index_column": 38726
        },
        {
         "st_ratio": "inf",
         "MOOE/student": 52571.42857142857,
         "MOOE/teacher": "inf",
         "student/room": "0.875",
         "MOOE/room": "46000.0",
         "_deepnote_index_column": 38732
        },
        {
         "st_ratio": "inf",
         "MOOE/student": 185142.85714285713,
         "MOOE/teacher": "inf",
         "student/room": "0.5",
         "MOOE/room": "92571.42857142857",
         "_deepnote_index_column": 38789
        },
        {
         "st_ratio": "1.0",
         "MOOE/student": 488000,
         "MOOE/teacher": "488000.0",
         "student/room": "0.1111111111111111",
         "MOOE/room": "54222.22222222222",
         "_deepnote_index_column": 38980
        },
        {
         "st_ratio": "inf",
         "MOOE/student": 164800,
         "MOOE/teacher": "inf",
         "student/room": "0.2702702702702703",
         "MOOE/room": "44540.54054054054",
         "_deepnote_index_column": 39003
        },
        {
         "st_ratio": "4.0",
         "MOOE/student": 172750,
         "MOOE/teacher": "691000.0",
         "student/room": "0.3076923076923077",
         "MOOE/room": "53153.846153846156",
         "_deepnote_index_column": 39043
        },
        {
         "st_ratio": "inf",
         "MOOE/student": 211090.9090909091,
         "MOOE/teacher": "inf",
         "student/room": "0.34375",
         "MOOE/room": "72562.5",
         "_deepnote_index_column": 39646
        },
        {
         "st_ratio": "3.0",
         "MOOE/student": 2472000,
         "MOOE/teacher": "7416000.0",
         "student/room": "0.02727272727272727",
         "MOOE/room": "67418.18181818182",
         "_deepnote_index_column": 39937
        },
        {
         "st_ratio": "inf",
         "MOOE/student": 78750,
         "MOOE/teacher": "inf",
         "student/room": "0.7272727272727273",
         "MOOE/room": "57272.72727272727",
         "_deepnote_index_column": 40081
        },
        {
         "st_ratio": "inf",
         "MOOE/student": 8684.21052631579,
         "MOOE/teacher": "inf",
         "student/room": "nan",
         "MOOE/room": "nan",
         "_deepnote_index_column": 40091
        },
        {
         "st_ratio": "inf",
         "MOOE/student": 310307.6923076923,
         "MOOE/teacher": "inf",
         "student/room": "0.19117647058823528",
         "MOOE/room": "59323.529411764706",
         "_deepnote_index_column": 40262
        },
        {
         "st_ratio": "inf",
         "MOOE/student": 172666.66666666666,
         "MOOE/teacher": "inf",
         "student/room": "0.3",
         "MOOE/room": "51800.0",
         "_deepnote_index_column": 40300
        },
        {
         "st_ratio": "inf",
         "MOOE/student": 495200,
         "MOOE/teacher": "inf",
         "student/room": "0.14705882352941177",
         "MOOE/room": "72823.5294117647",
         "_deepnote_index_column": 40396
        },
        {
         "st_ratio": "inf",
         "MOOE/student": 105900,
         "MOOE/teacher": "inf",
         "student/room": "0.5",
         "MOOE/room": "52950.0",
         "_deepnote_index_column": 40416
        },
        {
         "st_ratio": "nan",
         "MOOE/student": 151461.53846153847,
         "MOOE/teacher": "nan",
         "student/room": "0.48148148148148145",
         "MOOE/room": "72925.92592592593",
         "_deepnote_index_column": 40466
        },
        {
         "st_ratio": "inf",
         "MOOE/student": 462666.6666666667,
         "MOOE/teacher": "inf",
         "student/room": "0.11538461538461539",
         "MOOE/room": "53384.61538461538",
         "_deepnote_index_column": 40492
        },
        {
         "st_ratio": "inf",
         "MOOE/student": 228571.42857142858,
         "MOOE/teacher": "inf",
         "student/room": "0.30434782608695654",
         "MOOE/room": "69565.21739130435",
         "_deepnote_index_column": 40556
        },
        {
         "st_ratio": "nan",
         "MOOE/student": 14274.509803921568,
         "MOOE/teacher": "nan",
         "student/room": "6.375",
         "MOOE/room": "91000.0",
         "_deepnote_index_column": 40557
        },
        {
         "st_ratio": "inf",
         "MOOE/student": 244571.42857142858,
         "MOOE/teacher": "inf",
         "student/room": "0.2413793103448276",
         "MOOE/room": "59034.48275862069",
         "_deepnote_index_column": 40563
        },
        {
         "st_ratio": "inf",
         "MOOE/student": 416500,
         "MOOE/teacher": "inf",
         "student/room": "0.12987012987012986",
         "MOOE/room": "54090.90909090909",
         "_deepnote_index_column": 40567
        },
        {
         "st_ratio": "inf",
         "MOOE/student": 172357.14285714287,
         "MOOE/teacher": "inf",
         "student/room": "0.4827586206896552",
         "MOOE/room": "83206.89655172414",
         "_deepnote_index_column": 40637
        },
        {
         "st_ratio": "3.6666666666666665",
         "MOOE/student": 16090.90909090909,
         "MOOE/teacher": "59000.0",
         "student/room": "inf",
         "MOOE/room": "inf",
         "_deepnote_index_column": 40659
        },
        {
         "st_ratio": "inf",
         "MOOE/student": 174666.66666666666,
         "MOOE/teacher": "inf",
         "student/room": "0.3103448275862069",
         "MOOE/room": "54206.89655172414",
         "_deepnote_index_column": 40663
        },
        {
         "st_ratio": "inf",
         "MOOE/student": 156833.33333333334,
         "MOOE/teacher": "inf",
         "student/room": "0.3157894736842105",
         "MOOE/room": "49526.31578947369",
         "_deepnote_index_column": 40818
        },
        {
         "st_ratio": "inf",
         "MOOE/student": 271800,
         "MOOE/teacher": "inf",
         "student/room": "0.2564102564102564",
         "MOOE/room": "69692.30769230769",
         "_deepnote_index_column": 40858
        },
        {
         "st_ratio": "inf",
         "MOOE/student": 237000,
         "MOOE/teacher": "inf",
         "student/room": "0.3333333333333333",
         "MOOE/room": "79000.0",
         "_deepnote_index_column": 40869
        },
        {
         "st_ratio": "inf",
         "MOOE/student": 10653.846153846154,
         "MOOE/teacher": "inf",
         "student/room": "6.5",
         "MOOE/room": "69250.0",
         "_deepnote_index_column": 41107
        },
        {
         "st_ratio": "inf",
         "MOOE/student": 2728500,
         "MOOE/teacher": "inf",
         "student/room": "0.016",
         "MOOE/room": "43656.0",
         "_deepnote_index_column": 41149
        },
        {
         "st_ratio": "inf",
         "MOOE/student": 6406.25,
         "MOOE/teacher": "inf",
         "student/room": "8.0",
         "MOOE/room": "51250.0",
         "_deepnote_index_column": 41172
        },
        {
         "st_ratio": "inf",
         "MOOE/student": 7000,
         "MOOE/teacher": "inf",
         "student/room": "8.8",
         "MOOE/room": "61600.0",
         "_deepnote_index_column": 41213
        },
        {
         "st_ratio": "inf",
         "MOOE/student": 38285.71428571428,
         "MOOE/teacher": "inf",
         "student/room": "1.4",
         "MOOE/room": "53600.0",
         "_deepnote_index_column": 41224
        },
        {
         "st_ratio": "inf",
         "MOOE/student": 18181.81818181818,
         "MOOE/teacher": "inf",
         "student/room": "9.166666666666666",
         "MOOE/room": "166666.66666666666",
         "_deepnote_index_column": 41378
        },
        {
         "st_ratio": "inf",
         "MOOE/student": 254888.88888888888,
         "MOOE/teacher": "inf",
         "student/room": "0.20930232558139536",
         "MOOE/room": "53348.83720930233",
         "_deepnote_index_column": 41463
        },
        {
         "st_ratio": "inf",
         "MOOE/student": 4031.25,
         "MOOE/teacher": "inf",
         "student/room": "16.0",
         "MOOE/room": "64500.0",
         "_deepnote_index_column": 41541
        },
        {
         "st_ratio": "inf",
         "MOOE/student": 2725500,
         "MOOE/teacher": "inf",
         "student/room": "0.018867924528301886",
         "MOOE/room": "51424.52830188679",
         "_deepnote_index_column": 41838
        },
        {
         "st_ratio": "inf",
         "MOOE/student": 440666.6666666667,
         "MOOE/teacher": "inf",
         "student/room": "0.11538461538461539",
         "MOOE/room": "50846.153846153844",
         "_deepnote_index_column": 42439
        },
        {
         "st_ratio": "inf",
         "MOOE/student": 81615.38461538461,
         "MOOE/teacher": "inf",
         "student/room": "0.8666666666666667",
         "MOOE/room": "70733.33333333333",
         "_deepnote_index_column": 42502
        },
        {
         "st_ratio": "inf",
         "MOOE/student": 167333.33333333334,
         "MOOE/teacher": "inf",
         "student/room": "0.3870967741935484",
         "MOOE/room": "64774.1935483871",
         "_deepnote_index_column": 43288
        },
        {
         "st_ratio": "inf",
         "MOOE/student": 5012.738853503185,
         "MOOE/teacher": "inf",
         "student/room": "8.263157894736842",
         "MOOE/room": "41421.05263157895",
         "_deepnote_index_column": 43516
        },
        {
         "st_ratio": "inf",
         "MOOE/student": 149400,
         "MOOE/teacher": "inf",
         "student/room": "0.35714285714285715",
         "MOOE/room": "53357.142857142855",
         "_deepnote_index_column": 43608
        },
        {
         "st_ratio": "25.0",
         "MOOE/student": 72520,
         "MOOE/teacher": "1813000.0",
         "student/room": "0.8064516129032258",
         "MOOE/room": "58483.87096774193",
         "_deepnote_index_column": 43637
        },
        {
         "st_ratio": "inf",
         "MOOE/student": 4967.213114754099,
         "MOOE/teacher": "inf",
         "student/room": "20.333333333333332",
         "MOOE/room": "101000.0",
         "_deepnote_index_column": 43647
        },
        {
         "st_ratio": "inf",
         "MOOE/student": 109545.45454545454,
         "MOOE/teacher": "inf",
         "student/room": "0.4782608695652174",
         "MOOE/room": "52391.30434782609",
         "_deepnote_index_column": 43674
        },
        {
         "st_ratio": "inf",
         "MOOE/student": 410800,
         "MOOE/teacher": "inf",
         "student/room": "0.14705882352941177",
         "MOOE/room": "60411.76470588235",
         "_deepnote_index_column": 43697
        },
        {
         "st_ratio": "inf",
         "MOOE/student": 20571.428571428572,
         "MOOE/teacher": "inf",
         "student/room": "3.2666666666666666",
         "MOOE/room": "67200.0",
         "_deepnote_index_column": 44274
        },
        {
         "st_ratio": "inf",
         "MOOE/student": 227625,
         "MOOE/teacher": "inf",
         "student/room": "0.21621621621621623",
         "MOOE/room": "49216.21621621621",
         "_deepnote_index_column": 44393
        },
        {
         "st_ratio": "inf",
         "MOOE/student": 28571.428571428572,
         "MOOE/teacher": "inf",
         "student/room": "1.5",
         "MOOE/room": "42857.142857142855",
         "_deepnote_index_column": 44402
        },
        {
         "st_ratio": "inf",
         "MOOE/student": 51111.11111111111,
         "MOOE/teacher": "inf",
         "student/room": "0.9",
         "MOOE/room": "46000.0",
         "_deepnote_index_column": 44421
        },
        {
         "st_ratio": "inf",
         "MOOE/student": 19500,
         "MOOE/teacher": "inf",
         "student/room": "2.4444444444444446",
         "MOOE/room": "47666.666666666664",
         "_deepnote_index_column": 44459
        },
        {
         "st_ratio": "inf",
         "MOOE/student": 62750,
         "MOOE/teacher": "inf",
         "student/room": "0.8",
         "MOOE/room": "50200.0",
         "_deepnote_index_column": 44494
        },
        {
         "st_ratio": "nan",
         "MOOE/student": 73666.66666666667,
         "MOOE/teacher": "nan",
         "student/room": "0.6666666666666666",
         "MOOE/room": "49111.11111111111",
         "_deepnote_index_column": 44497
        },
        {
         "st_ratio": "inf",
         "MOOE/student": 324000,
         "MOOE/teacher": "inf",
         "student/room": "0.25",
         "MOOE/room": "81000.0",
         "_deepnote_index_column": 44578
        },
        {
         "st_ratio": "inf",
         "MOOE/student": 29257.14285714286,
         "MOOE/teacher": "inf",
         "student/room": "2.0588235294117645",
         "MOOE/room": "60235.294117647056",
         "_deepnote_index_column": 44591
        },
        {
         "st_ratio": "inf",
         "MOOE/student": 5004.608294930876,
         "MOOE/teacher": "inf",
         "student/room": "12.055555555555555",
         "MOOE/room": "60333.333333333336",
         "_deepnote_index_column": 44617
        },
        {
         "st_ratio": "0.5",
         "MOOE/student": 4906500,
         "MOOE/teacher": "2453250.0",
         "student/room": "0.014705882352941176",
         "MOOE/room": "72154.41176470589",
         "_deepnote_index_column": 44675
        },
        {
         "st_ratio": "inf",
         "MOOE/student": 1977000,
         "MOOE/teacher": "inf",
         "student/room": "0.03333333333333333",
         "MOOE/room": "65900.0",
         "_deepnote_index_column": 44754
        },
        {
         "st_ratio": "inf",
         "MOOE/student": 234500,
         "MOOE/teacher": "inf",
         "student/room": "0.17391304347826086",
         "MOOE/room": "40782.608695652176",
         "_deepnote_index_column": 44806
        },
        {
         "st_ratio": "inf",
         "MOOE/student": 13893.939393939394,
         "MOOE/teacher": "inf",
         "student/room": "5.5",
         "MOOE/room": "76416.66666666667",
         "_deepnote_index_column": 44819
        },
        {
         "st_ratio": "inf",
         "MOOE/student": 2408500,
         "MOOE/teacher": "inf",
         "student/room": "0.023529411764705882",
         "MOOE/room": "56670.58823529412",
         "_deepnote_index_column": 44876
        },
        {
         "st_ratio": "inf",
         "MOOE/student": 188000,
         "MOOE/teacher": "inf",
         "student/room": "0.29411764705882354",
         "MOOE/room": "55294.117647058825",
         "_deepnote_index_column": 45035
        },
        {
         "st_ratio": "7.0",
         "MOOE/student": 863285.7142857143,
         "MOOE/teacher": "6043000.0",
         "student/room": "0.04929577464788732",
         "MOOE/room": "42556.33802816901",
         "_deepnote_index_column": 45083
        },
        {
         "st_ratio": "inf",
         "MOOE/student": 14708.333333333334,
         "MOOE/teacher": "inf",
         "student/room": "4.0",
         "MOOE/room": "58833.333333333336",
         "_deepnote_index_column": 45414
        },
        {
         "st_ratio": "inf",
         "MOOE/student": 6000,
         "MOOE/teacher": "inf",
         "student/room": "16.5",
         "MOOE/room": "99000.0",
         "_deepnote_index_column": 45622
        },
        {
         "st_ratio": "inf",
         "MOOE/student": 431500,
         "MOOE/teacher": "inf",
         "student/room": "0.2962962962962963",
         "MOOE/room": "127851.85185185185",
         "_deepnote_index_column": 45715
        },
        {
         "st_ratio": "inf",
         "MOOE/student": 65800,
         "MOOE/teacher": "inf",
         "student/room": "1.25",
         "MOOE/room": "82250.0",
         "_deepnote_index_column": 46249
        },
        {
         "st_ratio": "inf",
         "MOOE/student": 87384.61538461539,
         "MOOE/teacher": "inf",
         "student/room": "0.52",
         "MOOE/room": "45440.0",
         "_deepnote_index_column": 46257
        },
        {
         "st_ratio": "inf",
         "MOOE/student": 211250,
         "MOOE/teacher": "inf",
         "student/room": "0.5",
         "MOOE/room": "105625.0",
         "_deepnote_index_column": 46375
        },
        {
         "st_ratio": "inf",
         "MOOE/student": 67783.33333333333,
         "MOOE/teacher": "inf",
         "student/room": "3.0",
         "MOOE/room": "203350.0",
         "_deepnote_index_column": 46387
        },
        {
         "st_ratio": "inf",
         "MOOE/student": 88276.59574468085,
         "MOOE/teacher": "inf",
         "student/room": "1.3823529411764706",
         "MOOE/room": "122029.41176470589",
         "_deepnote_index_column": 46403
        },
        {
         "st_ratio": "inf",
         "MOOE/student": 131173.91304347827,
         "MOOE/teacher": "inf",
         "student/room": "0.71875",
         "MOOE/room": "94281.25",
         "_deepnote_index_column": 46416
        },
        {
         "st_ratio": "inf",
         "MOOE/student": 1674250,
         "MOOE/teacher": "inf",
         "student/room": "0.05405405405405406",
         "MOOE/room": "90500.0",
         "_deepnote_index_column": 46423
        },
        {
         "st_ratio": "inf",
         "MOOE/student": 84111.11111111111,
         "MOOE/teacher": "inf",
         "student/room": "1.0384615384615385",
         "MOOE/room": "87346.15384615384",
         "_deepnote_index_column": 46430
        },
        {
         "st_ratio": "0.1346153846153846",
         "MOOE/student": 518285.71428571426,
         "MOOE/teacher": "69769.23076923077",
         "student/room": "0.6363636363636364",
         "MOOE/room": "329818.1818181818",
         "_deepnote_index_column": 46440
        },
        {
         "st_ratio": "inf",
         "MOOE/student": 117250,
         "MOOE/teacher": "inf",
         "student/room": "0.5925925925925926",
         "MOOE/room": "69481.48148148147",
         "_deepnote_index_column": 46496
        },
        {
         "st_ratio": "inf",
         "MOOE/student": 39214.28571428572,
         "MOOE/teacher": "inf",
         "student/room": "2.625",
         "MOOE/room": "102937.5",
         "_deepnote_index_column": 46571
        },
        {
         "st_ratio": "16.0",
         "MOOE/student": 182750,
         "MOOE/teacher": "2924000.0",
         "student/room": "0.48484848484848486",
         "MOOE/room": "88606.06060606061",
         "_deepnote_index_column": 46597
        }
       ]
      },
      "text/plain": "        st_ratio   MOOE/student  MOOE/teacher  student/room      MOOE/room\n1      13.500000    5092.592593  6.875000e+04      3.375000   17187.500000\n7       6.000000   73333.333333  4.400000e+05      0.250000   18333.333333\n22      7.000000   54428.571429  3.810000e+05      0.350000   19050.000000\n24     15.000000   26133.333333  3.920000e+05      0.652174   17043.478261\n29     21.000000   25523.809524  5.360000e+05      1.166667   29777.777778\n...          ...            ...           ...           ...            ...\n46430        inf   84111.111111           inf      1.038462   87346.153846\n46440   0.134615  518285.714286  6.976923e+04      0.636364  329818.181818\n46496        inf  117250.000000           inf      0.592593   69481.481481\n46571        inf   39214.285714           inf      2.625000  102937.500000\n46597  16.000000  182750.000000  2.924000e+06      0.484848   88606.060606\n\n[1229 rows x 5 columns]",
      "text/html": "<div>\n<style scoped>\n    .dataframe tbody tr th:only-of-type {\n        vertical-align: middle;\n    }\n\n    .dataframe tbody tr th {\n        vertical-align: top;\n    }\n\n    .dataframe thead th {\n        text-align: right;\n    }\n</style>\n<table border=\"1\" class=\"dataframe\">\n  <thead>\n    <tr style=\"text-align: right;\">\n      <th></th>\n      <th>st_ratio</th>\n      <th>MOOE/student</th>\n      <th>MOOE/teacher</th>\n      <th>student/room</th>\n      <th>MOOE/room</th>\n    </tr>\n  </thead>\n  <tbody>\n    <tr>\n      <th>1</th>\n      <td>13.500000</td>\n      <td>5092.592593</td>\n      <td>6.875000e+04</td>\n      <td>3.375000</td>\n      <td>17187.500000</td>\n    </tr>\n    <tr>\n      <th>7</th>\n      <td>6.000000</td>\n      <td>73333.333333</td>\n      <td>4.400000e+05</td>\n      <td>0.250000</td>\n      <td>18333.333333</td>\n    </tr>\n    <tr>\n      <th>22</th>\n      <td>7.000000</td>\n      <td>54428.571429</td>\n      <td>3.810000e+05</td>\n      <td>0.350000</td>\n      <td>19050.000000</td>\n    </tr>\n    <tr>\n      <th>24</th>\n      <td>15.000000</td>\n      <td>26133.333333</td>\n      <td>3.920000e+05</td>\n      <td>0.652174</td>\n      <td>17043.478261</td>\n    </tr>\n    <tr>\n      <th>29</th>\n      <td>21.000000</td>\n      <td>25523.809524</td>\n      <td>5.360000e+05</td>\n      <td>1.166667</td>\n      <td>29777.777778</td>\n    </tr>\n    <tr>\n      <th>...</th>\n      <td>...</td>\n      <td>...</td>\n      <td>...</td>\n      <td>...</td>\n      <td>...</td>\n    </tr>\n    <tr>\n      <th>46430</th>\n      <td>inf</td>\n      <td>84111.111111</td>\n      <td>inf</td>\n      <td>1.038462</td>\n      <td>87346.153846</td>\n    </tr>\n    <tr>\n      <th>46440</th>\n      <td>0.134615</td>\n      <td>518285.714286</td>\n      <td>6.976923e+04</td>\n      <td>0.636364</td>\n      <td>329818.181818</td>\n    </tr>\n    <tr>\n      <th>46496</th>\n      <td>inf</td>\n      <td>117250.000000</td>\n      <td>inf</td>\n      <td>0.592593</td>\n      <td>69481.481481</td>\n    </tr>\n    <tr>\n      <th>46571</th>\n      <td>inf</td>\n      <td>39214.285714</td>\n      <td>inf</td>\n      <td>2.625000</td>\n      <td>102937.500000</td>\n    </tr>\n    <tr>\n      <th>46597</th>\n      <td>16.000000</td>\n      <td>182750.000000</td>\n      <td>2.924000e+06</td>\n      <td>0.484848</td>\n      <td>88606.060606</td>\n    </tr>\n  </tbody>\n</table>\n<p>1229 rows × 5 columns</p>\n</div>"
     },
     "metadata": {}
    }
   ],
   "execution_count": 83
  },
  {
   "cell_type": "code",
   "source": "df1 = df_sped.copy()\ndf1 =df1[df1['teachers.sp'] !=0]",
   "metadata": {
    "tags": [],
    "cell_id": "00048-a9bc03eb-4d12-42c2-907d-3390d7b82801",
    "deepnote_to_be_reexecuted": false,
    "source_hash": "dec6b9a7",
    "execution_start": 1621511887948,
    "execution_millis": 4,
    "deepnote_cell_type": "code"
   },
   "outputs": [],
   "execution_count": 57
  },
  {
   "cell_type": "code",
   "source": "df1[\"total_sped_students\"] = df1[\"SPED NG Male\"] + df1[\"SPED NG Female\"]\ndf1[\"st_ratio\"] = df1[\"total_sped_students\"]/df1[\"teachers.sped\"]\ndf1[\"st_ratio\"]\n\n",
   "metadata": {
    "tags": [],
    "cell_id": "00048-82d0a5c4-8395-4c3e-9b77-f8ae14c714d4",
    "deepnote_to_be_reexecuted": false,
    "source_hash": "18992b6",
    "execution_start": 1621511960508,
    "execution_millis": 13,
    "deepnote_cell_type": "code"
   },
   "outputs": [
    {
     "output_type": "execute_result",
     "execution_count": 59,
     "data": {
      "text/plain": "1        13.500000\n7         6.000000\n22        7.000000\n24       15.000000\n29       21.000000\n           ...    \n44497          NaN\n44675     0.500000\n45083     7.000000\n46440     0.134615\n46597    16.000000\nName: st_ratio, Length: 601, dtype: float64"
     },
     "metadata": {}
    }
   ],
   "execution_count": 59
  },
  {
   "cell_type": "code",
   "source": "",
   "metadata": {
    "tags": [],
    "cell_id": "00049-e89951e7-68ee-477e-8e03-247c119b207e",
    "deepnote_cell_type": "code"
   },
   "outputs": [],
   "execution_count": null
  },
  {
   "cell_type": "markdown",
   "source": "Data Visualization",
   "metadata": {
    "tags": [],
    "cell_id": "00054-a9817b2b-fec0-4c70-88f7-56f26411a6d9",
    "deepnote_cell_type": "markdown"
   }
  },
  {
   "cell_type": "code",
   "source": "plt.figure(figsize=(8,6))\n\nbox = sns.boxplot(x=df_sped[\"MOOE\"])\nbox.ticklabel_format(style='plain', axis='x') # turned off scientific notation\nplt.title(\"MOOE of SPED Schools\")\nplt.show()",
   "metadata": {
    "tags": [],
    "cell_id": "00056-e9b734f7-3956-4d30-bc6a-a191b06ccc60",
    "deepnote_to_be_reexecuted": false,
    "source_hash": "692aa63a",
    "execution_start": 1621512771882,
    "execution_millis": 132,
    "deepnote_cell_type": "code"
   },
   "outputs": [
    {
     "data": {
      "text/plain": "<Figure size 576x432 with 1 Axes>",
      "image/png": "[encoded data removed]"
     },
     "metadata": {
      "image/png": {
       "width": 476,
       "height": 391
      }
     },
     "output_type": "display_data"
    }
   ],
   "execution_count": 86
  },
  {
   "cell_type": "code",
   "source": "plt.figure(figsize=(8,6))\n\nbox = sns.boxplot(x=df_nosped[\"MOOE\"])\nbox.ticklabel_format(style='plain', axis='x')\nplt.title(\"MOOE of non SPED Schools\")\nplt.show()",
   "metadata": {
    "tags": [],
    "cell_id": "00056-a080828a-720e-448a-9f52-053fc0efe535",
    "deepnote_to_be_reexecuted": false,
    "source_hash": "7f3831cd",
    "execution_start": 1621513128622,
    "execution_millis": 198,
    "deepnote_cell_type": "code"
   },
   "outputs": [
    {
     "data": {
      "text/plain": "<Figure size 576x432 with 1 Axes>",
      "image/png": "[encoded data removed]"
     },
     "metadata": {
      "image/png": {
       "width": 464,
       "height": 391
      }
     },
     "output_type": "display_data"
    }
   ],
   "execution_count": 95
  },
  {
   "cell_type": "code",
   "source": "plt.figure(figsize=(8,6))\n\nbox = sns.boxplot(x=df_sped[\"MOOE\"], showfliers = False)\nbox.ticklabel_format(style='plain', axis='x') # turned off scientific notation\nplt.title(\"MOOE of SPED Schools without outliers\")\nplt.show()\n\n",
   "metadata": {
    "tags": [],
    "cell_id": "00057-75fbfbe1-9bbd-4085-9d7d-4248929efbbd",
    "deepnote_to_be_reexecuted": false,
    "source_hash": "ab22ff97",
    "execution_start": 1621515095857,
    "execution_millis": 104,
    "deepnote_cell_type": "code"
   },
   "outputs": [
    {
     "data": {
      "text/plain": "<Figure size 576x432 with 1 Axes>",
      "image/png": "[encoded data removed]"
     },
     "metadata": {
      "image/png": {
       "width": 474,
       "height": 391
      }
     },
     "output_type": "display_data"
    }
   ],
   "execution_count": 163
  },
  {
   "cell_type": "code",
   "source": "plt.figure(figsize=(8,6))\n\nbox = sns.boxplot(x=df_nosped[\"MOOE\"], showfliers = False)\nbox.ticklabel_format(style='plain', axis='x') # turned off scientific notation\nplt.title(\"MOOE of Non Sped Schools without outliers\")\nplt.show()\n\n",
   "metadata": {
    "tags": [],
    "cell_id": "00058-bd9bd05c-a3ff-4cb4-88b8-b0b4740d77ed",
    "deepnote_to_be_reexecuted": false,
    "source_hash": "7e081013",
    "execution_start": 1621515092071,
    "execution_millis": 125,
    "deepnote_cell_type": "code"
   },
   "outputs": [
    {
     "data": {
      "text/plain": "<Figure size 576x432 with 1 Axes>",
      "image/png": "[encoded data removed]"
     },
     "metadata": {
      "image/png": {
       "width": 464,
       "height": 391
      }
     },
     "output_type": "display_data"
    }
   ],
   "execution_count": 162
  },
  {
   "cell_type": "code",
   "source": "plt.figure(figsize=(10,10))\n\nbox = sns.boxplot(x=df_sped[\"MOOE\"], y=df_sped[\"school.urban\"], hue=df_sped[\"school.urban\"], showfliers = False)\nbox.ticklabel_format(style='plain', axis='x') # turned off scientific notation\nplt.title(\"MOOE of SPED Schools without outliers grouped by Urban Type\")\nplt.show()\n\n",
   "metadata": {
    "tags": [],
    "cell_id": "00059-ba506cf6-73df-4061-83fe-55f978e3d581",
    "deepnote_to_be_reexecuted": false,
    "source_hash": "8bddb9f7",
    "execution_start": 1621515033343,
    "execution_millis": 248,
    "deepnote_cell_type": "code"
   },
   "outputs": [
    {
     "data": {
      "text/plain": "<Figure size 720x720 with 1 Axes>",
      "image/png": "[encoded data removed]"
     },
     "metadata": {
      "image/png": {
       "width": 670,
       "height": 609
      }
     },
     "output_type": "display_data"
    }
   ],
   "execution_count": 158
  },
  {
   "cell_type": "code",
   "source": "df_spedincome = df_sped[(df_sped[\"school.cityincome\"] =! \"Below P 15 M\") & (df_sped[\"school.cityincome\"] =! \"P 80 M or more but less than P 160 M\") & (df_sped[\"school.cityincome\"] =! \"Special Class\")]\n\n\nplt.figure(figsize=(10,10))\n\nbox = sns.boxplot(x=df_sped[\"MOOE\"], y=df_sped[\"school.cityincome\"], hue=df_sped[\"school.cityincome\"], showfliers = False)\nbox.ticklabel_format(style='plain', axis='x') # turned off scientific notation\nplt.title(\"MOOE of SPED Schools without outliers grouped by City Income\")\nplt.show()\n\n#= master_df[(master_df[\"SPED NG Male\"] == 0) & (master_df[\"SPED NG Female\"] == 0) & (master_df[\"teachers.sped\"] == 0)]\n\n",
   "metadata": {
    "tags": [],
    "cell_id": "00061-d4e5e0db-84e9-4784-ad80-65a93fb3e5ea",
    "deepnote_to_be_reexecuted": false,
    "source_hash": "9f09045a",
    "execution_start": 1621515901154,
    "execution_millis": 7,
    "deepnote_cell_type": "code"
   },
   "outputs": [
    {
     "output_type": "error",
     "ename": "SyntaxError",
     "evalue": "invalid syntax (<ipython-input-177-9287e648d724>, line 1)",
     "traceback": [
      "\u001b[0;36m  File \u001b[0;32m\"<ipython-input-177-9287e648d724>\"\u001b[0;36m, line \u001b[0;32m1\u001b[0m\n\u001b[0;31m    df_spedincome = df_sped[(df_sped[\"school.cityincome\"] =! \"Below P 15 M\") & (df_sped[\"school.cityincome\"] =! \"P 80 M or more but less than P 160 M\") & (df_sped[\"school.cityincome\"] =! \"Special Class\")]\u001b[0m\n\u001b[0m                                                          ^\u001b[0m\n\u001b[0;31mSyntaxError\u001b[0m\u001b[0;31m:\u001b[0m invalid syntax\n"
     ]
    }
   ],
   "execution_count": 177
  },
  {
   "cell_type": "code",
   "source": "# Side by side box plot \n\nmdf2 = master_df.copy()",
   "metadata": {
    "tags": [],
    "cell_id": "00060-c869d005-d4c6-4378-ba48-0deb14f5b7a5",
    "deepnote_to_be_reexecuted": false,
    "source_hash": "f40dfa82",
    "execution_start": 1621513097767,
    "execution_millis": 6,
    "deepnote_cell_type": "code"
   },
   "outputs": [],
   "execution_count": 94
  },
  {
   "cell_type": "code",
   "source": "mdf2.columns",
   "metadata": {
    "tags": [],
    "cell_id": "00062-6e532bd4-aad3-4440-b6bc-d70a489aa1c0",
    "deepnote_to_be_reexecuted": false,
    "source_hash": "33b3b116",
    "execution_start": 1621514324495,
    "execution_millis": 9,
    "deepnote_cell_type": "code"
   },
   "outputs": [
    {
     "output_type": "execute_result",
     "execution_count": 133,
     "data": {
      "text/plain": "Index(['school.id', 'school.name', 'school.region', 'school.region.name',\n       'school.province', 'school.cityhall', 'school.division',\n       'school.citymuni', 'school.district', 'school.legdistrict',\n       'school.type', 'school.abbrev', 'school.previousname',\n       'school.mother.id', 'school.address', 'school.established',\n       'school.classification', 'school.classification2',\n       'school.curricularclass', 'school.organization', 'school.cityincome',\n       'school.cityclass', 'school.urban', 'School ID_x', 'Kinder Male',\n       'Kinder Female', 'Grade 1 Male', 'Grade 1 Female', 'Grade 2 Male',\n       'Grade 2 Female', 'Grade 3 Male', 'Grade 3 Female', 'Grade 4 Male',\n       'Grade 4 Female', 'Grade 5 Male', 'Grade 5 Female', 'Grade 6 Male',\n       'Grade 6 Female', 'SPED NG Male', 'SPED NG Female', 'Grade 7 Male',\n       'Grade 7 Female', 'Grade 8 Male', 'Grade 8 Female', 'Grade 9 Male',\n       'Grade 9 Female', 'Grade 10 Male', 'Grade 10 Female', 'Grade 11 Male',\n       'Grade 11 Female', 'Grade 12 Male', 'Grade 12 Female', ' school.mooe ',\n       'School ID_y', 'rooms.standard.academic', 'rooms.standard.unused',\n       'rooms.nonstandard.academic', 'rooms.nonstandard.unused',\n       'teachers.instructor', 'teachers.mobile', 'teachers.regular',\n       'teachers.sped', 'MOOE', 'sped'],\n      dtype='object')"
     },
     "metadata": {}
    }
   ],
   "execution_count": 133
  },
  {
   "cell_type": "code",
   "source": "mdf2['sped'] = np.where(((mdf2[\"SPED NG Male\"] > 0) & (mdf2[\"SPED NG Female\"] > 0)), 1,0)\nmdf2['sped']",
   "metadata": {
    "tags": [],
    "cell_id": "00062-76c5a483-0a85-4275-b367-af50d6d156b2",
    "deepnote_to_be_reexecuted": false,
    "source_hash": "1600fbe5",
    "execution_start": 1621514050291,
    "execution_millis": 6,
    "deepnote_cell_type": "code"
   },
   "outputs": [
    {
     "output_type": "execute_result",
     "execution_count": 123,
     "data": {
      "text/plain": "0        0\n1        1\n2        0\n3        0\n4        0\n        ..\n46598    0\n46599    0\n46600    0\n46601    0\n46602    0\nName: sped, Length: 46603, dtype: int64"
     },
     "metadata": {}
    }
   ],
   "execution_count": 123
  },
  {
   "cell_type": "markdown",
   "source": "Rowen you can try this: (make a column na may tag whether sped or not yung school, tas sns.boxplot, groupby the tag)\n\nYou can use the lambda function:\n\n",
   "metadata": {
    "tags": [],
    "cell_id": "00063-4d704ac5-cb7a-42b6-8499-b7adcd5a6bbc",
    "deepnote_cell_type": "markdown"
   }
  },
  {
   "cell_type": "markdown",
   "source": "![Picture title](image-20210520-202034.png)",
   "metadata": {
    "tags": [],
    "cell_id": "00064-8838f8dd-2267-4fd0-a138-f4792c29dd71",
    "deepnote_cell_type": "markdown"
   }
  },
  {
   "cell_type": "code",
   "source": "plt.figure(figsize=(8,6))\nspedbox = sns.boxplot(y='MOOE', x='sped', \n                 data=mdf2, \n                 palette=\"colorblind\",\n                 hue='sped')\n\nspedbox.ticklabel_format(style='plain', axis='y')\nplt.title(\"MOOE of Non-Sped and SPED Schools\").set_fontsize('18')\nplt.show()\n\n# wait guys sorry groupby only works with a Pandas Series dataframe, you use \"hue\" instead not groupby",
   "metadata": {
    "tags": [],
    "cell_id": "00065-2e9f8106-b91d-488a-a42b-47550d88a6a5",
    "deepnote_to_be_reexecuted": false,
    "source_hash": "b036e6aa",
    "execution_start": 1621515618212,
    "execution_millis": 244,
    "deepnote_cell_type": "code"
   },
   "outputs": [
    {
     "data": {
      "text/plain": "<Figure size 576x432 with 1 Axes>",
      "image/png": "[encoded data removed]"
     },
     "metadata": {
      "image/png": {
       "width": 534,
       "height": 394
      }
     },
     "output_type": "display_data"
    }
   ],
   "execution_count": 174
  },
  {
   "cell_type": "code",
   "source": "plt.figure(figsize=(8,6))\nspedbox = sns.boxplot(y='MOOE', x='sped', \n                 data=mdf2, \n                 palette=\"colorblind\",\n                 hue='sped',\n                 showfliers=False)\n\nspedbox.ticklabel_format(style='plain', axis='y')\nplt.title(\"MOOE of Non-Sped and SPED Schools without outliers\").set_fontsize('18')\nplt.show()\n\n# wait guys sorry groupby only works with a Pandas Series dataframe, you use \"hue\" instead not groupby",
   "metadata": {
    "tags": [],
    "cell_id": "00067-ae2b53ca-a6de-4f12-bda1-f6bd6ff29bba",
    "deepnote_to_be_reexecuted": false,
    "source_hash": "96f6124c",
    "execution_start": 1621515624664,
    "execution_millis": 405,
    "deepnote_cell_type": "code"
   },
   "outputs": [
    {
     "data": {
      "text/plain": "<Figure size 576x432 with 1 Axes>",
      "image/png": "[encoded data removed]"
     },
     "metadata": {
      "image/png": {
       "width": 548,
       "height": 394
      }
     },
     "output_type": "display_data"
    }
   ],
   "execution_count": 175
  },
  {
   "cell_type": "markdown",
   "source": "# Model Training",
   "metadata": {
    "tags": [],
    "cell_id": "00065-ba2ef9bf-bc23-4669-af0b-6a958163c2c5",
    "deepnote_cell_type": "markdown"
   }
  },
  {
   "cell_type": "markdown",
   "source": "## ",
   "metadata": {
    "tags": [],
    "cell_id": "00066-6dd9130b-b311-4bbd-84da-5bf865dab392",
    "deepnote_cell_type": "markdown"
   }
  },
  {
   "cell_type": "markdown",
   "source": "",
   "metadata": {
    "tags": [],
    "cell_id": "00067-08a06007-1e7e-449b-a3fc-50db3b34fd25",
    "deepnote_cell_type": "markdown"
   }
  },
  {
   "cell_type": "markdown",
   "source": "<a style='text-decoration:none;line-height:16px;display:flex;color:#5B5B62;padding:10px;justify-content:end;' href='https://deepnote.com?utm_source=created-in-deepnote-cell&projectId=6d87636b-43a9-448d-bfae-856d2b705cc3' target=\"_blank\">\n<img alt='Created in deepnote.com' style='display:inline;max-height:16px;margin:0px;margin-right:7.5px;' src='data:image/svg+xml;base64,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' > </img>\nCreated in <span style='font-weight:600;margin-left:4px;'>Deepnote</span></a>",
   "metadata": {
    "tags": [],
    "created_in_deepnote_cell": true,
    "deepnote_cell_type": "markdown"
   }
  }
 ],
 "nbformat": 4,
 "nbformat_minor": 4,
 "metadata": {
  "kernelspec": {
   "display_name": "Python 3",
   "language": "python",
   "name": "python3"
  },
  "language_info": {
   "codemirror_mode": {
    "name": "ipython",
    "version": 3
   },
   "file_extension": ".py",
   "mimetype": "text/x-python",
   "name": "python",
   "nbconvert_exporter": "python",
   "pygments_lexer": "ipython3",
   "version": "3.8.3"
  },
  "deepnote_notebook_id": "6993ce9f-49ad-49b6-8dfc-fccb8f3f0d19",
  "deepnote": {},
  "deepnote_execution_queue": []
 }
}