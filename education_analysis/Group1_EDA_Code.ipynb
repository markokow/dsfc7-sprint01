{
 "cells": [
  {
   "cell_type": "markdown",
   "metadata": {
    "cell_id": "00000-721f120f-3123-4d66-878f-10017e2cf97a",
    "deepnote_cell_type": "markdown",
    "tags": []
   },
   "source": [
    "# Analysis"
   ]
  },
  {
   "cell_type": "markdown",
   "metadata": {
    "cell_id": "00001-e8fa1844-e5a1-466c-a26a-27b5aad410f1",
    "deepnote_cell_type": "markdown",
    "tags": []
   },
   "source": [
    "## Setup"
   ]
  },
  {
   "cell_type": "code",
   "execution_count": 1,
   "metadata": {
    "cell_id": "00001-c81ca4d9-b99b-4f13-b8f1-d9003ee77eb6",
    "deepnote_cell_type": "code",
    "deepnote_to_be_reexecuted": false,
    "execution_millis": 1344,
    "execution_start": 1620906343210,
    "source_hash": "e825a446",
    "tags": []
   },
   "outputs": [],
   "source": [
    "#!pip install numpy pandas"
   ]
  },
  {
   "cell_type": "code",
   "execution_count": 2,
   "metadata": {
    "cell_id": "00000-081517b9-b650-48b2-9cb7-2a68b48bed1f",
    "deepnote_cell_type": "code",
    "deepnote_to_be_reexecuted": false,
    "execution_millis": 2598,
    "execution_start": 1620906344555,
    "source_hash": "df28bd2f",
    "tags": []
   },
   "outputs": [],
   "source": [
    "#!pip install geopandas folium"
   ]
  },
  {
   "cell_type": "markdown",
   "metadata": {
    "cell_id": "00004-4ca74163-efa8-4cca-a951-b3ba0437a0bc",
    "deepnote_cell_type": "markdown",
    "tags": []
   },
   "source": [
    "## Code"
   ]
  },
  {
   "cell_type": "code",
   "execution_count": 3,
   "metadata": {
    "cell_id": "00001-df5db100-244a-4047-aa4f-565fe8dcf16e",
    "deepnote_cell_type": "code",
    "deepnote_to_be_reexecuted": false,
    "execution_millis": 1334,
    "execution_start": 1620906347162,
    "source_hash": "26e44e96",
    "tags": []
   },
   "outputs": [
    {
     "name": "stderr",
     "output_type": "stream",
     "text": [
      "/home/jupyterhubtest/anaconda3/envs/dsfc7/lib/python3.8/site-packages/geopandas/_compat.py:106: UserWarning: The Shapely GEOS version (3.8.0-CAPI-1.13.1 ) is incompatible with the GEOS version PyGEOS was compiled with (3.9.0-CAPI-1.16.2). Conversions between both will be slow.\n",
      "  warnings.warn(\n"
     ]
    }
   ],
   "source": [
    "# Start writing code here...\n",
    "import pandas as pd\n",
    "import numpy as np\n",
    "import matplotlib.pyplot as plt\n",
    "import geopandas as gpd\n",
    "\n",
    "import seaborn as sns\n",
    "\n",
    "import matplotlib.pyplot as plt\n",
    "import matplotlib.mlab as mlab\n",
    "import matplotlib\n",
    "plt.style.use('ggplot')\n",
    "from matplotlib.pyplot import figure\n",
    "\n",
    "%matplotlib inline"
   ]
  },
  {
   "cell_type": "markdown",
   "metadata": {
    "cell_id": "00007-ec86fb44-aac0-4708-aaed-f0f2b669ebdd",
    "deepnote_cell_type": "markdown",
    "tags": []
   },
   "source": [
    "### Data Loading"
   ]
  },
  {
   "cell_type": "code",
   "execution_count": 6,
   "metadata": {
    "cell_id": "00001-16ae3e74-4a34-4442-8aae-68f9fb21e173",
    "deepnote_cell_type": "code",
    "deepnote_to_be_reexecuted": false,
    "execution_millis": 501,
    "execution_start": 1620906348501,
    "source_hash": "ed4df46c",
    "tags": []
   },
   "outputs": [],
   "source": [
    "# Create the 6 data frames per csv file (Upload the CSV files first!)\n",
    "rooms = pd.read_csv(\"./work/Rooms data.csv\")\n",
    "schools_loc = pd.read_csv(\"./work/Schools Location Data.csv\")\n",
    "teachers = pd.read_csv(\"./work/Teachers data.csv\")\n",
    "mooe = pd.read_csv(\"./work/MOOE data.csv\")\n",
    "masterlist= pd.read_csv(\"./work/Masterlist of Schools.csv\")\n",
    "enrol_e = pd.read_csv(\"./work/Enrollment Master Data_2015_E.csv\")\n",
    "enrol_s = pd.read_csv(\"./work/Enrollment Master Data_2015_S.csv\")\n",
    "\n",
    "region_stats = pd.read_csv(\"./work/regional_stats.csv\")"
   ]
  },
  {
   "cell_type": "code",
   "execution_count": null,
   "metadata": {
    "cell_id": "00008-0d6a8748-33c0-44f6-86aa-63627657cee3",
    "deepnote_cell_type": "code",
    "deepnote_to_be_reexecuted": false,
    "execution_millis": 4,
    "execution_start": 1620906349004,
    "source_hash": "b623e53d",
    "tags": []
   },
   "outputs": [],
   "source": []
  },
  {
   "cell_type": "markdown",
   "metadata": {
    "cell_id": "00007-532a6379-91dd-4d9c-b70e-a89d71bb0c4e",
    "deepnote_cell_type": "markdown",
    "tags": []
   },
   "source": [
    "### Rooms "
   ]
  },
  {
   "cell_type": "code",
   "execution_count": 7,
   "metadata": {
    "cell_id": "00007-663cc930-eb9a-4c14-af3f-51d7e3e53bfb",
    "deepnote_cell_type": "code",
    "deepnote_to_be_reexecuted": false,
    "execution_millis": 22,
    "execution_start": 1620906349013,
    "source_hash": "708327b4",
    "tags": []
   },
   "outputs": [
    {
     "name": "stdout",
     "output_type": "stream",
     "text": [
      "<class 'pandas.core.frame.DataFrame'>\n",
      "RangeIndex: 46412 entries, 0 to 46411\n",
      "Data columns (total 5 columns):\n",
      " #   Column                      Non-Null Count  Dtype  \n",
      "---  ------                      --------------  -----  \n",
      " 0   School ID                   46412 non-null  int64  \n",
      " 1   rooms.standard.academic     46412 non-null  int64  \n",
      " 2   rooms.standard.unused       46412 non-null  int64  \n",
      " 3   rooms.nonstandard.academic  46408 non-null  float64\n",
      " 4   rooms.nonstandard.unused    46408 non-null  float64\n",
      "dtypes: float64(2), int64(3)\n",
      "memory usage: 1.8 MB\n"
     ]
    }
   ],
   "source": [
    "rooms.info()"
   ]
  },
  {
   "cell_type": "code",
   "execution_count": 8,
   "metadata": {
    "cell_id": "00009-ced455f6-4511-4060-a5a0-86e03159ebd7",
    "deepnote_cell_type": "code",
    "deepnote_to_be_reexecuted": false,
    "execution_millis": 27,
    "execution_start": 1620906349029,
    "source_hash": "fb7f13bc",
    "tags": []
   },
   "outputs": [
    {
     "data": {
      "text/plain": [
       "School ID                     0\n",
       "rooms.standard.academic       0\n",
       "rooms.standard.unused         0\n",
       "rooms.nonstandard.academic    4\n",
       "rooms.nonstandard.unused      4\n",
       "dtype: int64"
      ]
     },
     "execution_count": 8,
     "metadata": {},
     "output_type": "execute_result"
    }
   ],
   "source": [
    "rooms.isnull().sum()"
   ]
  },
  {
   "cell_type": "code",
   "execution_count": 9,
   "metadata": {
    "cell_id": "00009-c1e3e524-054b-4c55-9bbd-21b3ae197790",
    "deepnote_cell_type": "code",
    "deepnote_to_be_reexecuted": false,
    "execution_millis": 82,
    "execution_start": 1620906349046,
    "source_hash": "ba503df9",
    "tags": []
   },
   "outputs": [
    {
     "data": {
      "text/html": [
       "<div>\n",
       "<style scoped>\n",
       "    .dataframe tbody tr th:only-of-type {\n",
       "        vertical-align: middle;\n",
       "    }\n",
       "\n",
       "    .dataframe tbody tr th {\n",
       "        vertical-align: top;\n",
       "    }\n",
       "\n",
       "    .dataframe thead th {\n",
       "        text-align: right;\n",
       "    }\n",
       "</style>\n",
       "<table border=\"1\" class=\"dataframe\">\n",
       "  <thead>\n",
       "    <tr style=\"text-align: right;\">\n",
       "      <th></th>\n",
       "      <th>School ID</th>\n",
       "      <th>rooms.standard.academic</th>\n",
       "      <th>rooms.standard.unused</th>\n",
       "      <th>rooms.nonstandard.academic</th>\n",
       "      <th>rooms.nonstandard.unused</th>\n",
       "    </tr>\n",
       "  </thead>\n",
       "  <tbody>\n",
       "    <tr>\n",
       "      <th>0</th>\n",
       "      <td>101746</td>\n",
       "      <td>15</td>\n",
       "      <td>0</td>\n",
       "      <td>0.0</td>\n",
       "      <td>0.0</td>\n",
       "    </tr>\n",
       "    <tr>\n",
       "      <th>1</th>\n",
       "      <td>102193</td>\n",
       "      <td>13</td>\n",
       "      <td>3</td>\n",
       "      <td>0.0</td>\n",
       "      <td>0.0</td>\n",
       "    </tr>\n",
       "    <tr>\n",
       "      <th>2</th>\n",
       "      <td>101283</td>\n",
       "      <td>7</td>\n",
       "      <td>0</td>\n",
       "      <td>0.0</td>\n",
       "      <td>0.0</td>\n",
       "    </tr>\n",
       "    <tr>\n",
       "      <th>3</th>\n",
       "      <td>100216</td>\n",
       "      <td>6</td>\n",
       "      <td>0</td>\n",
       "      <td>0.0</td>\n",
       "      <td>0.0</td>\n",
       "    </tr>\n",
       "    <tr>\n",
       "      <th>4</th>\n",
       "      <td>100043</td>\n",
       "      <td>9</td>\n",
       "      <td>0</td>\n",
       "      <td>0.0</td>\n",
       "      <td>0.0</td>\n",
       "    </tr>\n",
       "  </tbody>\n",
       "</table>\n",
       "</div>"
      ],
      "text/plain": [
       "   School ID  rooms.standard.academic  rooms.standard.unused  \\\n",
       "0     101746                       15                      0   \n",
       "1     102193                       13                      3   \n",
       "2     101283                        7                      0   \n",
       "3     100216                        6                      0   \n",
       "4     100043                        9                      0   \n",
       "\n",
       "   rooms.nonstandard.academic  rooms.nonstandard.unused  \n",
       "0                         0.0                       0.0  \n",
       "1                         0.0                       0.0  \n",
       "2                         0.0                       0.0  \n",
       "3                         0.0                       0.0  \n",
       "4                         0.0                       0.0  "
      ]
     },
     "execution_count": 9,
     "metadata": {},
     "output_type": "execute_result"
    }
   ],
   "source": [
    "rooms.head()"
   ]
  },
  {
   "cell_type": "markdown",
   "metadata": {
    "cell_id": "00009-b7d47030-550a-4fd6-a0a1-ead9bd264fee",
    "deepnote_cell_type": "markdown",
    "tags": []
   },
   "source": [
    "### Schools Location"
   ]
  },
  {
   "cell_type": "code",
   "execution_count": 10,
   "metadata": {
    "cell_id": "00008-9d6d340a-0667-4455-bf14-4457a4c52575",
    "deepnote_cell_type": "code",
    "deepnote_to_be_reexecuted": false,
    "execution_millis": 13,
    "execution_start": 1620906349115,
    "source_hash": "fbe40a7b",
    "tags": []
   },
   "outputs": [
    {
     "name": "stdout",
     "output_type": "stream",
     "text": [
      "<class 'pandas.core.frame.DataFrame'>\n",
      "RangeIndex: 46624 entries, 0 to 46623\n",
      "Data columns (total 12 columns):\n",
      " #   Column             Non-Null Count  Dtype  \n",
      "---  ------             --------------  -----  \n",
      " 0   School ID          46624 non-null  int64  \n",
      " 1   School Name        46624 non-null  object \n",
      " 2   Region             46624 non-null  object \n",
      " 3   Province           46624 non-null  object \n",
      " 4   Municipality       46624 non-null  object \n",
      " 5   Division           46624 non-null  object \n",
      " 6   District           46624 non-null  object \n",
      " 7   Offering           46624 non-null  object \n",
      " 8   Name of Principal  46613 non-null  object \n",
      " 9   Enrolment          46624 non-null  int64  \n",
      " 10  Latitude           46621 non-null  float64\n",
      " 11  Longitude          46621 non-null  float64\n",
      "dtypes: float64(2), int64(2), object(8)\n",
      "memory usage: 4.3+ MB\n"
     ]
    }
   ],
   "source": [
    "schools_loc.info()"
   ]
  },
  {
   "cell_type": "code",
   "execution_count": 11,
   "metadata": {
    "cell_id": "00013-fcd214e2-1ae5-440b-b53d-4534255703f4",
    "deepnote_cell_type": "code",
    "deepnote_to_be_reexecuted": false,
    "execution_millis": 46,
    "execution_start": 1620906349116,
    "source_hash": "60bad9d8",
    "tags": []
   },
   "outputs": [
    {
     "data": {
      "text/plain": [
       "School ID             0\n",
       "School Name           0\n",
       "Region                0\n",
       "Province              0\n",
       "Municipality          0\n",
       "Division              0\n",
       "District              0\n",
       "Offering              0\n",
       "Name of Principal    11\n",
       "Enrolment             0\n",
       "Latitude              3\n",
       "Longitude             3\n",
       "dtype: int64"
      ]
     },
     "execution_count": 11,
     "metadata": {},
     "output_type": "execute_result"
    }
   ],
   "source": [
    "schools_loc.isnull().sum()"
   ]
  },
  {
   "cell_type": "code",
   "execution_count": 12,
   "metadata": {
    "cell_id": "00012-4ba674ea-3e64-4e06-8d51-30b68050e281",
    "deepnote_cell_type": "code",
    "deepnote_to_be_reexecuted": false,
    "execution_millis": 65,
    "execution_start": 1620906349173,
    "source_hash": "4ea7846a",
    "tags": []
   },
   "outputs": [
    {
     "data": {
      "text/html": [
       "<div>\n",
       "<style scoped>\n",
       "    .dataframe tbody tr th:only-of-type {\n",
       "        vertical-align: middle;\n",
       "    }\n",
       "\n",
       "    .dataframe tbody tr th {\n",
       "        vertical-align: top;\n",
       "    }\n",
       "\n",
       "    .dataframe thead th {\n",
       "        text-align: right;\n",
       "    }\n",
       "</style>\n",
       "<table border=\"1\" class=\"dataframe\">\n",
       "  <thead>\n",
       "    <tr style=\"text-align: right;\">\n",
       "      <th></th>\n",
       "      <th>School ID</th>\n",
       "      <th>School Name</th>\n",
       "      <th>Region</th>\n",
       "      <th>Province</th>\n",
       "      <th>Municipality</th>\n",
       "      <th>Division</th>\n",
       "      <th>District</th>\n",
       "      <th>Offering</th>\n",
       "      <th>Name of Principal</th>\n",
       "      <th>Enrolment</th>\n",
       "      <th>Latitude</th>\n",
       "      <th>Longitude</th>\n",
       "    </tr>\n",
       "  </thead>\n",
       "  <tbody>\n",
       "    <tr>\n",
       "      <th>0</th>\n",
       "      <td>100001</td>\n",
       "      <td>Apaleng-Libtong ES</td>\n",
       "      <td>Region I</td>\n",
       "      <td>Ilocos Norte</td>\n",
       "      <td>Bacarra</td>\n",
       "      <td>Ilocos Norte</td>\n",
       "      <td>Bacarra I</td>\n",
       "      <td>ES</td>\n",
       "      <td>Jesusa G. Laeno</td>\n",
       "      <td>90</td>\n",
       "      <td>18.253666</td>\n",
       "      <td>120.606180</td>\n",
       "    </tr>\n",
       "    <tr>\n",
       "      <th>1</th>\n",
       "      <td>100002</td>\n",
       "      <td>Bacarra CES</td>\n",
       "      <td>Region I</td>\n",
       "      <td>Ilocos Norte</td>\n",
       "      <td>Bacarra</td>\n",
       "      <td>Ilocos Norte</td>\n",
       "      <td>Bacarra I</td>\n",
       "      <td>ES</td>\n",
       "      <td>Gene A. Reginaldo</td>\n",
       "      <td>456</td>\n",
       "      <td>18.250964</td>\n",
       "      <td>120.608958</td>\n",
       "    </tr>\n",
       "    <tr>\n",
       "      <th>2</th>\n",
       "      <td>100003</td>\n",
       "      <td>Buyon ES</td>\n",
       "      <td>Region I</td>\n",
       "      <td>Ilocos Norte</td>\n",
       "      <td>Bacarra</td>\n",
       "      <td>Ilocos Norte</td>\n",
       "      <td>Bacarra I</td>\n",
       "      <td>ES</td>\n",
       "      <td>Imelda C. Ilay</td>\n",
       "      <td>167</td>\n",
       "      <td>18.234599</td>\n",
       "      <td>120.616037</td>\n",
       "    </tr>\n",
       "    <tr>\n",
       "      <th>3</th>\n",
       "      <td>100004</td>\n",
       "      <td>Ganagan Elementary School</td>\n",
       "      <td>Region I</td>\n",
       "      <td>Ilocos Norte</td>\n",
       "      <td>Bacarra</td>\n",
       "      <td>Ilocos Norte</td>\n",
       "      <td>Bacarra I</td>\n",
       "      <td>ES</td>\n",
       "      <td>Pedestrelyn Aurora R. Acoba</td>\n",
       "      <td>122</td>\n",
       "      <td>18.250014</td>\n",
       "      <td>120.587169</td>\n",
       "    </tr>\n",
       "    <tr>\n",
       "      <th>4</th>\n",
       "      <td>100005</td>\n",
       "      <td>Macupit ES</td>\n",
       "      <td>Region I</td>\n",
       "      <td>Ilocos Norte</td>\n",
       "      <td>Bacarra</td>\n",
       "      <td>Ilocos Norte</td>\n",
       "      <td>Bacarra I</td>\n",
       "      <td>ES</td>\n",
       "      <td>Venchito F. Galario</td>\n",
       "      <td>77</td>\n",
       "      <td>18.293994</td>\n",
       "      <td>120.641019</td>\n",
       "    </tr>\n",
       "  </tbody>\n",
       "</table>\n",
       "</div>"
      ],
      "text/plain": [
       "   School ID                School Name    Region      Province Municipality  \\\n",
       "0     100001         Apaleng-Libtong ES  Region I  Ilocos Norte      Bacarra   \n",
       "1     100002                Bacarra CES  Region I  Ilocos Norte      Bacarra   \n",
       "2     100003                   Buyon ES  Region I  Ilocos Norte      Bacarra   \n",
       "3     100004  Ganagan Elementary School  Region I  Ilocos Norte      Bacarra   \n",
       "4     100005                 Macupit ES  Region I  Ilocos Norte      Bacarra   \n",
       "\n",
       "       Division   District Offering            Name of Principal  Enrolment  \\\n",
       "0  Ilocos Norte  Bacarra I       ES              Jesusa G. Laeno         90   \n",
       "1  Ilocos Norte  Bacarra I       ES            Gene A. Reginaldo        456   \n",
       "2  Ilocos Norte  Bacarra I       ES               Imelda C. Ilay        167   \n",
       "3  Ilocos Norte  Bacarra I       ES  Pedestrelyn Aurora R. Acoba        122   \n",
       "4  Ilocos Norte  Bacarra I       ES          Venchito F. Galario         77   \n",
       "\n",
       "    Latitude   Longitude  \n",
       "0  18.253666  120.606180  \n",
       "1  18.250964  120.608958  \n",
       "2  18.234599  120.616037  \n",
       "3  18.250014  120.587169  \n",
       "4  18.293994  120.641019  "
      ]
     },
     "execution_count": 12,
     "metadata": {},
     "output_type": "execute_result"
    }
   ],
   "source": [
    "schools_loc.head()"
   ]
  },
  {
   "cell_type": "markdown",
   "metadata": {
    "cell_id": "00011-a966d3ce-b7e1-4eff-8eeb-f13b7d06480b",
    "deepnote_cell_type": "markdown",
    "tags": []
   },
   "source": [
    "### Teachers"
   ]
  },
  {
   "cell_type": "code",
   "execution_count": 13,
   "metadata": {
    "cell_id": "00008-53726606-51b7-4570-9dc9-dee812d7780d",
    "deepnote_cell_type": "code",
    "deepnote_to_be_reexecuted": false,
    "execution_millis": 62,
    "execution_start": 1620906349177,
    "source_hash": "e87de9c4",
    "tags": []
   },
   "outputs": [
    {
     "name": "stdout",
     "output_type": "stream",
     "text": [
      "<class 'pandas.core.frame.DataFrame'>\n",
      "RangeIndex: 45040 entries, 0 to 45039\n",
      "Data columns (total 5 columns):\n",
      " #   Column               Non-Null Count  Dtype\n",
      "---  ------               --------------  -----\n",
      " 0   school.id            45040 non-null  int64\n",
      " 1   teachers.instructor  45040 non-null  int64\n",
      " 2   teachers.mobile      45040 non-null  int64\n",
      " 3   teachers.regular     45040 non-null  int64\n",
      " 4   teachers.sped        45040 non-null  int64\n",
      "dtypes: int64(5)\n",
      "memory usage: 1.7 MB\n"
     ]
    }
   ],
   "source": [
    "teachers.info()"
   ]
  },
  {
   "cell_type": "code",
   "execution_count": 14,
   "metadata": {
    "cell_id": "00017-abb3da2f-7cfc-4327-ace2-ff96e8e363d2",
    "deepnote_cell_type": "code",
    "deepnote_to_be_reexecuted": false,
    "execution_millis": 31,
    "execution_start": 1620906349208,
    "source_hash": "3ed254e8",
    "tags": []
   },
   "outputs": [
    {
     "data": {
      "text/plain": [
       "school.id              0\n",
       "teachers.instructor    0\n",
       "teachers.mobile        0\n",
       "teachers.regular       0\n",
       "teachers.sped          0\n",
       "dtype: int64"
      ]
     },
     "execution_count": 14,
     "metadata": {},
     "output_type": "execute_result"
    }
   ],
   "source": [
    "teachers.isnull().sum()"
   ]
  },
  {
   "cell_type": "code",
   "execution_count": 15,
   "metadata": {
    "cell_id": "00015-4ddaf997-2855-4cd2-aa16-26862e562638",
    "deepnote_cell_type": "code",
    "deepnote_to_be_reexecuted": false,
    "execution_millis": 31,
    "execution_start": 1620906349208,
    "source_hash": "17d78f0d",
    "tags": []
   },
   "outputs": [
    {
     "data": {
      "text/html": [
       "<div>\n",
       "<style scoped>\n",
       "    .dataframe tbody tr th:only-of-type {\n",
       "        vertical-align: middle;\n",
       "    }\n",
       "\n",
       "    .dataframe tbody tr th {\n",
       "        vertical-align: top;\n",
       "    }\n",
       "\n",
       "    .dataframe thead th {\n",
       "        text-align: right;\n",
       "    }\n",
       "</style>\n",
       "<table border=\"1\" class=\"dataframe\">\n",
       "  <thead>\n",
       "    <tr style=\"text-align: right;\">\n",
       "      <th></th>\n",
       "      <th>school.id</th>\n",
       "      <th>teachers.instructor</th>\n",
       "      <th>teachers.mobile</th>\n",
       "      <th>teachers.regular</th>\n",
       "      <th>teachers.sped</th>\n",
       "    </tr>\n",
       "  </thead>\n",
       "  <tbody>\n",
       "    <tr>\n",
       "      <th>0</th>\n",
       "      <td>100001</td>\n",
       "      <td>0</td>\n",
       "      <td>0</td>\n",
       "      <td>2</td>\n",
       "      <td>0</td>\n",
       "    </tr>\n",
       "    <tr>\n",
       "      <th>1</th>\n",
       "      <td>100002</td>\n",
       "      <td>0</td>\n",
       "      <td>6</td>\n",
       "      <td>11</td>\n",
       "      <td>0</td>\n",
       "    </tr>\n",
       "    <tr>\n",
       "      <th>2</th>\n",
       "      <td>100003</td>\n",
       "      <td>0</td>\n",
       "      <td>1</td>\n",
       "      <td>6</td>\n",
       "      <td>0</td>\n",
       "    </tr>\n",
       "    <tr>\n",
       "      <th>3</th>\n",
       "      <td>100004</td>\n",
       "      <td>0</td>\n",
       "      <td>1</td>\n",
       "      <td>6</td>\n",
       "      <td>0</td>\n",
       "    </tr>\n",
       "    <tr>\n",
       "      <th>4</th>\n",
       "      <td>100005</td>\n",
       "      <td>0</td>\n",
       "      <td>1</td>\n",
       "      <td>6</td>\n",
       "      <td>0</td>\n",
       "    </tr>\n",
       "  </tbody>\n",
       "</table>\n",
       "</div>"
      ],
      "text/plain": [
       "   school.id  teachers.instructor  teachers.mobile  teachers.regular  \\\n",
       "0     100001                    0                0                 2   \n",
       "1     100002                    0                6                11   \n",
       "2     100003                    0                1                 6   \n",
       "3     100004                    0                1                 6   \n",
       "4     100005                    0                1                 6   \n",
       "\n",
       "   teachers.sped  \n",
       "0              0  \n",
       "1              0  \n",
       "2              0  \n",
       "3              0  \n",
       "4              0  "
      ]
     },
     "execution_count": 15,
     "metadata": {},
     "output_type": "execute_result"
    }
   ],
   "source": [
    "teachers.head()"
   ]
  },
  {
   "cell_type": "markdown",
   "metadata": {
    "cell_id": "00013-305d450d-4ad1-4364-8227-5df758323322",
    "deepnote_cell_type": "markdown",
    "tags": []
   },
   "source": [
    "### MOOE"
   ]
  },
  {
   "cell_type": "code",
   "execution_count": 16,
   "metadata": {
    "cell_id": "00010-cd21af87-50af-4dea-aa08-f25ef8190d2e",
    "deepnote_cell_type": "code",
    "deepnote_to_be_reexecuted": false,
    "execution_millis": 14,
    "execution_start": 1620906349228,
    "source_hash": "9a404512",
    "tags": []
   },
   "outputs": [
    {
     "name": "stdout",
     "output_type": "stream",
     "text": [
      "<class 'pandas.core.frame.DataFrame'>\n",
      "RangeIndex: 44028 entries, 0 to 44027\n",
      "Data columns (total 5 columns):\n",
      " #   Column             Non-Null Count  Dtype \n",
      "---  ------             --------------  ----- \n",
      " 0   school.id          44028 non-null  int64 \n",
      " 1   school.name        44028 non-null  object\n",
      " 2   school.enrollment  44028 non-null  int64 \n",
      " 3   school.offering    44028 non-null  object\n",
      " 4    school.mooe       44028 non-null  object\n",
      "dtypes: int64(2), object(3)\n",
      "memory usage: 1.7+ MB\n"
     ]
    }
   ],
   "source": [
    "mooe.info()"
   ]
  },
  {
   "cell_type": "code",
   "execution_count": 17,
   "metadata": {
    "cell_id": "00021-d8bcadc4-fa72-4693-ac73-bebdbc38486c",
    "deepnote_cell_type": "code",
    "deepnote_to_be_reexecuted": false,
    "execution_millis": 14,
    "execution_start": 1620906349244,
    "source_hash": "47b4b5f9",
    "tags": []
   },
   "outputs": [
    {
     "data": {
      "text/plain": [
       "school.id            0\n",
       "school.name          0\n",
       "school.enrollment    0\n",
       "school.offering      0\n",
       " school.mooe         0\n",
       "dtype: int64"
      ]
     },
     "execution_count": 17,
     "metadata": {},
     "output_type": "execute_result"
    }
   ],
   "source": [
    "mooe.isnull().sum()"
   ]
  },
  {
   "cell_type": "code",
   "execution_count": 18,
   "metadata": {
    "cell_id": "00018-1b4b723b-1b7a-4e6d-aa92-a6fb5b8a350b",
    "deepnote_cell_type": "code",
    "deepnote_to_be_reexecuted": false,
    "execution_millis": 28,
    "execution_start": 1620906349253,
    "source_hash": "e1a859f2",
    "tags": []
   },
   "outputs": [
    {
     "data": {
      "text/html": [
       "<div>\n",
       "<style scoped>\n",
       "    .dataframe tbody tr th:only-of-type {\n",
       "        vertical-align: middle;\n",
       "    }\n",
       "\n",
       "    .dataframe tbody tr th {\n",
       "        vertical-align: top;\n",
       "    }\n",
       "\n",
       "    .dataframe thead th {\n",
       "        text-align: right;\n",
       "    }\n",
       "</style>\n",
       "<table border=\"1\" class=\"dataframe\">\n",
       "  <thead>\n",
       "    <tr style=\"text-align: right;\">\n",
       "      <th></th>\n",
       "      <th>school.id</th>\n",
       "      <th>school.name</th>\n",
       "      <th>school.enrollment</th>\n",
       "      <th>school.offering</th>\n",
       "      <th>school.mooe</th>\n",
       "    </tr>\n",
       "  </thead>\n",
       "  <tbody>\n",
       "    <tr>\n",
       "      <th>0</th>\n",
       "      <td>305075</td>\n",
       "      <td>Abra HS</td>\n",
       "      <td>2481</td>\n",
       "      <td>Secondary</td>\n",
       "      <td>2,182,000.00</td>\n",
       "    </tr>\n",
       "    <tr>\n",
       "      <th>1</th>\n",
       "      <td>134966</td>\n",
       "      <td>Agtangao ES</td>\n",
       "      <td>376</td>\n",
       "      <td>Elementary</td>\n",
       "      <td>227,000.00</td>\n",
       "    </tr>\n",
       "    <tr>\n",
       "      <th>2</th>\n",
       "      <td>134967</td>\n",
       "      <td>Bacsil ES</td>\n",
       "      <td>218</td>\n",
       "      <td>Elementary</td>\n",
       "      <td>144,000.00</td>\n",
       "    </tr>\n",
       "    <tr>\n",
       "      <th>3</th>\n",
       "      <td>134968</td>\n",
       "      <td>Bangued East CS</td>\n",
       "      <td>443</td>\n",
       "      <td>Elementary</td>\n",
       "      <td>339,000.00</td>\n",
       "    </tr>\n",
       "    <tr>\n",
       "      <th>4</th>\n",
       "      <td>134969</td>\n",
       "      <td>Bangued North ES</td>\n",
       "      <td>307</td>\n",
       "      <td>Elementary</td>\n",
       "      <td>178,000.00</td>\n",
       "    </tr>\n",
       "  </tbody>\n",
       "</table>\n",
       "</div>"
      ],
      "text/plain": [
       "   school.id       school.name  school.enrollment school.offering  \\\n",
       "0     305075           Abra HS               2481       Secondary   \n",
       "1     134966       Agtangao ES                376      Elementary   \n",
       "2     134967         Bacsil ES                218      Elementary   \n",
       "3     134968   Bangued East CS                443      Elementary   \n",
       "4     134969  Bangued North ES                307      Elementary   \n",
       "\n",
       "     school.mooe   \n",
       "0   2,182,000.00   \n",
       "1     227,000.00   \n",
       "2     144,000.00   \n",
       "3     339,000.00   \n",
       "4     178,000.00   "
      ]
     },
     "execution_count": 18,
     "metadata": {},
     "output_type": "execute_result"
    }
   ],
   "source": [
    "mooe.head()"
   ]
  },
  {
   "cell_type": "markdown",
   "metadata": {
    "cell_id": "00015-ba557fa2-fc03-47b3-8881-579aa369b689",
    "deepnote_cell_type": "markdown",
    "tags": []
   },
   "source": [
    "### Masterlist"
   ]
  },
  {
   "cell_type": "code",
   "execution_count": 19,
   "metadata": {
    "cell_id": "00016-58a69ed1-70f6-4acf-bf21-2bd6c638f2a5",
    "deepnote_cell_type": "code",
    "deepnote_to_be_reexecuted": false,
    "execution_millis": 58,
    "execution_start": 1620906349273,
    "source_hash": "26ec55bf",
    "tags": []
   },
   "outputs": [
    {
     "name": "stdout",
     "output_type": "stream",
     "text": [
      "<class 'pandas.core.frame.DataFrame'>\n",
      "RangeIndex: 46603 entries, 0 to 46602\n",
      "Data columns (total 23 columns):\n",
      " #   Column                  Non-Null Count  Dtype  \n",
      "---  ------                  --------------  -----  \n",
      " 0   school.id               46603 non-null  int64  \n",
      " 1   school.name             46603 non-null  object \n",
      " 2   school.region           46603 non-null  object \n",
      " 3   school.region.name      46603 non-null  object \n",
      " 4   school.province         46603 non-null  object \n",
      " 5   school.cityhall         46602 non-null  object \n",
      " 6   school.division         46603 non-null  object \n",
      " 7   school.citymuni         46603 non-null  object \n",
      " 8   school.district         46603 non-null  object \n",
      " 9   school.legdistrict      46603 non-null  object \n",
      " 10  school.type             46603 non-null  object \n",
      " 11  school.abbrev           18167 non-null  object \n",
      " 12  school.previousname     42221 non-null  object \n",
      " 13  school.mother.id        46596 non-null  float64\n",
      " 14  school.address          44621 non-null  object \n",
      " 15  school.established      46594 non-null  object \n",
      " 16  school.classification   46603 non-null  object \n",
      " 17  school.classification2  46603 non-null  object \n",
      " 18  school.curricularclass  46603 non-null  object \n",
      " 19  school.organization     46603 non-null  object \n",
      " 20  school.cityincome       45627 non-null  object \n",
      " 21  school.cityclass        8213 non-null   object \n",
      " 22  school.urban            46600 non-null  object \n",
      "dtypes: float64(1), int64(1), object(21)\n",
      "memory usage: 8.2+ MB\n"
     ]
    }
   ],
   "source": [
    "masterlist.info()"
   ]
  },
  {
   "cell_type": "code",
   "execution_count": 20,
   "metadata": {
    "cell_id": "00025-c5395a20-6266-4744-b961-4cb01df4a7ec",
    "deepnote_cell_type": "code",
    "deepnote_to_be_reexecuted": false,
    "execution_millis": 58,
    "execution_start": 1620906349323,
    "source_hash": "e67c4c1b",
    "tags": []
   },
   "outputs": [
    {
     "data": {
      "text/plain": [
       "school.id                     0\n",
       "school.name                   0\n",
       "school.region                 0\n",
       "school.region.name            0\n",
       "school.province               0\n",
       "school.cityhall               1\n",
       "school.division               0\n",
       "school.citymuni               0\n",
       "school.district               0\n",
       "school.legdistrict            0\n",
       "school.type                   0\n",
       "school.abbrev             28436\n",
       "school.previousname        4382\n",
       "school.mother.id              7\n",
       "school.address             1982\n",
       "school.established            9\n",
       "school.classification         0\n",
       "school.classification2        0\n",
       "school.curricularclass        0\n",
       "school.organization           0\n",
       "school.cityincome           976\n",
       "school.cityclass          38390\n",
       "school.urban                  3\n",
       "dtype: int64"
      ]
     },
     "execution_count": 20,
     "metadata": {},
     "output_type": "execute_result"
    }
   ],
   "source": [
    "masterlist.isnull().sum()"
   ]
  },
  {
   "cell_type": "code",
   "execution_count": 21,
   "metadata": {
    "cell_id": "00021-1bcac9ff-f969-4b17-934a-72bdbeea09de",
    "deepnote_cell_type": "code",
    "deepnote_to_be_reexecuted": false,
    "execution_millis": 24,
    "execution_start": 1620906349431,
    "source_hash": "146bfc63",
    "tags": []
   },
   "outputs": [
    {
     "data": {
      "text/html": [
       "<div>\n",
       "<style scoped>\n",
       "    .dataframe tbody tr th:only-of-type {\n",
       "        vertical-align: middle;\n",
       "    }\n",
       "\n",
       "    .dataframe tbody tr th {\n",
       "        vertical-align: top;\n",
       "    }\n",
       "\n",
       "    .dataframe thead th {\n",
       "        text-align: right;\n",
       "    }\n",
       "</style>\n",
       "<table border=\"1\" class=\"dataframe\">\n",
       "  <thead>\n",
       "    <tr style=\"text-align: right;\">\n",
       "      <th></th>\n",
       "      <th>school.id</th>\n",
       "      <th>school.name</th>\n",
       "      <th>school.region</th>\n",
       "      <th>school.region.name</th>\n",
       "      <th>school.province</th>\n",
       "      <th>school.cityhall</th>\n",
       "      <th>school.division</th>\n",
       "      <th>school.citymuni</th>\n",
       "      <th>school.district</th>\n",
       "      <th>school.legdistrict</th>\n",
       "      <th>...</th>\n",
       "      <th>school.mother.id</th>\n",
       "      <th>school.address</th>\n",
       "      <th>school.established</th>\n",
       "      <th>school.classification</th>\n",
       "      <th>school.classification2</th>\n",
       "      <th>school.curricularclass</th>\n",
       "      <th>school.organization</th>\n",
       "      <th>school.cityincome</th>\n",
       "      <th>school.cityclass</th>\n",
       "      <th>school.urban</th>\n",
       "    </tr>\n",
       "  </thead>\n",
       "  <tbody>\n",
       "    <tr>\n",
       "      <th>0</th>\n",
       "      <td>101746</td>\n",
       "      <td>A. Diaz, Sr. ES</td>\n",
       "      <td>Region I</td>\n",
       "      <td>Ilocos Region</td>\n",
       "      <td>PANGASINAN</td>\n",
       "      <td>PANGASINAN</td>\n",
       "      <td>Pangasinan II, Binalonan</td>\n",
       "      <td>BAUTISTA</td>\n",
       "      <td>Bautista</td>\n",
       "      <td>5th District</td>\n",
       "      <td>...</td>\n",
       "      <td>101746.0</td>\n",
       "      <td>Brgy. Dias Bautista, Pang</td>\n",
       "      <td>1/1/1930</td>\n",
       "      <td>Elementary</td>\n",
       "      <td>DepED Managed</td>\n",
       "      <td>Elementary</td>\n",
       "      <td>Monograde</td>\n",
       "      <td>P 25 M or more but less than P 35 M</td>\n",
       "      <td>NaN</td>\n",
       "      <td>Partially Urban</td>\n",
       "    </tr>\n",
       "    <tr>\n",
       "      <th>1</th>\n",
       "      <td>102193</td>\n",
       "      <td>A. P. Santos ES (SPED Center)</td>\n",
       "      <td>Region I</td>\n",
       "      <td>Ilocos Region</td>\n",
       "      <td>ILOCOS NORTE</td>\n",
       "      <td>ILOCOS NORTE</td>\n",
       "      <td>Laoag City</td>\n",
       "      <td>LAOAG CITY (Capital)</td>\n",
       "      <td>Laoag City District II</td>\n",
       "      <td>1st District</td>\n",
       "      <td>...</td>\n",
       "      <td>102193.0</td>\n",
       "      <td>A.G. Tupaz</td>\n",
       "      <td>1/1/1944</td>\n",
       "      <td>Elementary</td>\n",
       "      <td>DepED Managed</td>\n",
       "      <td>Kinder &amp; Elementary</td>\n",
       "      <td>Monograde</td>\n",
       "      <td>P 240 M or more but less than P 320 M</td>\n",
       "      <td>Component City</td>\n",
       "      <td>Partially Urban</td>\n",
       "    </tr>\n",
       "    <tr>\n",
       "      <th>2</th>\n",
       "      <td>101283</td>\n",
       "      <td>A.P. Guevara IS</td>\n",
       "      <td>Region I</td>\n",
       "      <td>Ilocos Region</td>\n",
       "      <td>PANGASINAN</td>\n",
       "      <td>PANGASINAN</td>\n",
       "      <td>Pangasinan I, Lingayen</td>\n",
       "      <td>BAYAMBANG</td>\n",
       "      <td>Bayambang II</td>\n",
       "      <td>3rd District</td>\n",
       "      <td>...</td>\n",
       "      <td>101283.0</td>\n",
       "      <td>-</td>\n",
       "      <td>1/1/1945</td>\n",
       "      <td>Elementary</td>\n",
       "      <td>DepED Managed</td>\n",
       "      <td>Elementary</td>\n",
       "      <td>Monograde</td>\n",
       "      <td>P 55 M or more</td>\n",
       "      <td>NaN</td>\n",
       "      <td>Partially Urban</td>\n",
       "    </tr>\n",
       "    <tr>\n",
       "      <th>3</th>\n",
       "      <td>100216</td>\n",
       "      <td>Ab-Abut ES</td>\n",
       "      <td>Region I</td>\n",
       "      <td>Ilocos Region</td>\n",
       "      <td>ILOCOS NORTE</td>\n",
       "      <td>ILOCOS NORTE</td>\n",
       "      <td>Ilocos Norte</td>\n",
       "      <td>PIDDIG</td>\n",
       "      <td>Piddig</td>\n",
       "      <td>1st District</td>\n",
       "      <td>...</td>\n",
       "      <td>100216.0</td>\n",
       "      <td>Sucsuquen</td>\n",
       "      <td>1/1/1964</td>\n",
       "      <td>Elementary</td>\n",
       "      <td>DepED Managed</td>\n",
       "      <td>Elementary</td>\n",
       "      <td>Monograde</td>\n",
       "      <td>P 35 M or more but less than P 45 M</td>\n",
       "      <td>NaN</td>\n",
       "      <td>Partially Urban</td>\n",
       "    </tr>\n",
       "    <tr>\n",
       "      <th>4</th>\n",
       "      <td>100043</td>\n",
       "      <td>Abaca ES</td>\n",
       "      <td>Region I</td>\n",
       "      <td>Ilocos Region</td>\n",
       "      <td>ILOCOS NORTE</td>\n",
       "      <td>ILOCOS NORTE</td>\n",
       "      <td>Ilocos Norte</td>\n",
       "      <td>BANGUI</td>\n",
       "      <td>Bangui</td>\n",
       "      <td>1st District</td>\n",
       "      <td>...</td>\n",
       "      <td>100043.0</td>\n",
       "      <td>None</td>\n",
       "      <td>1/1/1979</td>\n",
       "      <td>Elementary</td>\n",
       "      <td>DepED Managed</td>\n",
       "      <td>Elementary</td>\n",
       "      <td>Monograde</td>\n",
       "      <td>P 25 M or more but less than P 35 M</td>\n",
       "      <td>NaN</td>\n",
       "      <td>Partially Urban</td>\n",
       "    </tr>\n",
       "  </tbody>\n",
       "</table>\n",
       "<p>5 rows × 23 columns</p>\n",
       "</div>"
      ],
      "text/plain": [
       "   school.id                    school.name school.region school.region.name  \\\n",
       "0     101746                A. Diaz, Sr. ES      Region I      Ilocos Region   \n",
       "1     102193  A. P. Santos ES (SPED Center)      Region I      Ilocos Region   \n",
       "2     101283                A.P. Guevara IS      Region I      Ilocos Region   \n",
       "3     100216                     Ab-Abut ES      Region I      Ilocos Region   \n",
       "4     100043                       Abaca ES      Region I      Ilocos Region   \n",
       "\n",
       "  school.province school.cityhall           school.division  \\\n",
       "0      PANGASINAN      PANGASINAN  Pangasinan II, Binalonan   \n",
       "1    ILOCOS NORTE    ILOCOS NORTE                Laoag City   \n",
       "2      PANGASINAN      PANGASINAN    Pangasinan I, Lingayen   \n",
       "3    ILOCOS NORTE    ILOCOS NORTE              Ilocos Norte   \n",
       "4    ILOCOS NORTE    ILOCOS NORTE              Ilocos Norte   \n",
       "\n",
       "        school.citymuni         school.district school.legdistrict  ...  \\\n",
       "0              BAUTISTA                Bautista       5th District  ...   \n",
       "1  LAOAG CITY (Capital)  Laoag City District II       1st District  ...   \n",
       "2             BAYAMBANG            Bayambang II       3rd District  ...   \n",
       "3                PIDDIG                  Piddig       1st District  ...   \n",
       "4                BANGUI                  Bangui       1st District  ...   \n",
       "\n",
       "  school.mother.id             school.address school.established  \\\n",
       "0         101746.0  Brgy. Dias Bautista, Pang           1/1/1930   \n",
       "1         102193.0                 A.G. Tupaz           1/1/1944   \n",
       "2         101283.0                          -           1/1/1945   \n",
       "3         100216.0                  Sucsuquen           1/1/1964   \n",
       "4         100043.0                       None           1/1/1979   \n",
       "\n",
       "   school.classification school.classification2 school.curricularclass  \\\n",
       "0             Elementary          DepED Managed             Elementary   \n",
       "1             Elementary          DepED Managed    Kinder & Elementary   \n",
       "2             Elementary          DepED Managed             Elementary   \n",
       "3             Elementary          DepED Managed             Elementary   \n",
       "4             Elementary          DepED Managed             Elementary   \n",
       "\n",
       "  school.organization                      school.cityincome school.cityclass  \\\n",
       "0           Monograde    P 25 M or more but less than P 35 M              NaN   \n",
       "1           Monograde  P 240 M or more but less than P 320 M   Component City   \n",
       "2           Monograde                         P 55 M or more              NaN   \n",
       "3           Monograde    P 35 M or more but less than P 45 M              NaN   \n",
       "4           Monograde    P 25 M or more but less than P 35 M              NaN   \n",
       "\n",
       "      school.urban  \n",
       "0  Partially Urban  \n",
       "1  Partially Urban  \n",
       "2  Partially Urban  \n",
       "3  Partially Urban  \n",
       "4  Partially Urban  \n",
       "\n",
       "[5 rows x 23 columns]"
      ]
     },
     "execution_count": 21,
     "metadata": {},
     "output_type": "execute_result"
    }
   ],
   "source": [
    "masterlist.head()"
   ]
  },
  {
   "cell_type": "markdown",
   "metadata": {
    "cell_id": "00022-50deb9af-c702-493d-94e7-4b40a775e376",
    "deepnote_cell_type": "markdown",
    "tags": []
   },
   "source": [
    "### Enrollment 2015 Elementary"
   ]
  },
  {
   "cell_type": "code",
   "execution_count": 22,
   "metadata": {
    "cell_id": "00023-cf079182-ee1e-470a-b3fd-6d7b296a9c00",
    "deepnote_cell_type": "code",
    "deepnote_to_be_reexecuted": false,
    "execution_millis": 15,
    "execution_start": 1620906349480,
    "source_hash": "5c7ac366",
    "tags": []
   },
   "outputs": [
    {
     "name": "stdout",
     "output_type": "stream",
     "text": [
      "<class 'pandas.core.frame.DataFrame'>\n",
      "RangeIndex: 38649 entries, 0 to 38648\n",
      "Data columns (total 17 columns):\n",
      " #   Column          Non-Null Count  Dtype  \n",
      "---  ------          --------------  -----  \n",
      " 0   School ID       38648 non-null  float64\n",
      " 1   Kinder Male     38648 non-null  float64\n",
      " 2   Kinder Female   38648 non-null  float64\n",
      " 3   Grade 1 Male    38648 non-null  float64\n",
      " 4   Grade 1 Female  38648 non-null  float64\n",
      " 5   Grade 2 Male    38648 non-null  float64\n",
      " 6   Grade 2 Female  38648 non-null  float64\n",
      " 7   Grade 3 Male    38648 non-null  float64\n",
      " 8   Grade 3 Female  38648 non-null  float64\n",
      " 9   Grade 4 Male    38648 non-null  float64\n",
      " 10  Grade 4 Female  38648 non-null  float64\n",
      " 11  Grade 5 Male    38648 non-null  float64\n",
      " 12  Grade 5 Female  38648 non-null  float64\n",
      " 13  Grade 6 Male    38648 non-null  float64\n",
      " 14  Grade 6 Female  38648 non-null  float64\n",
      " 15  SPED NG Male    38648 non-null  float64\n",
      " 16  SPED NG Female  38648 non-null  float64\n",
      "dtypes: float64(17)\n",
      "memory usage: 5.0 MB\n"
     ]
    }
   ],
   "source": [
    "enrol_e.info()"
   ]
  },
  {
   "cell_type": "code",
   "execution_count": 23,
   "metadata": {
    "cell_id": "00029-af03c5c9-1212-4f05-8658-cc83f1f81688",
    "deepnote_cell_type": "code",
    "deepnote_to_be_reexecuted": false,
    "execution_millis": 13,
    "execution_start": 1620906349482,
    "source_hash": "da95acc6",
    "tags": []
   },
   "outputs": [
    {
     "data": {
      "text/plain": [
       "School ID         1\n",
       "Kinder Male       1\n",
       "Kinder Female     1\n",
       "Grade 1 Male      1\n",
       "Grade 1 Female    1\n",
       "Grade 2 Male      1\n",
       "Grade 2 Female    1\n",
       "Grade 3 Male      1\n",
       "Grade 3 Female    1\n",
       "Grade 4 Male      1\n",
       "Grade 4 Female    1\n",
       "Grade 5 Male      1\n",
       "Grade 5 Female    1\n",
       "Grade 6 Male      1\n",
       "Grade 6 Female    1\n",
       "SPED NG Male      1\n",
       "SPED NG Female    1\n",
       "dtype: int64"
      ]
     },
     "execution_count": 23,
     "metadata": {},
     "output_type": "execute_result"
    }
   ],
   "source": [
    "enrol_e.isnull().sum()"
   ]
  },
  {
   "cell_type": "code",
   "execution_count": 24,
   "metadata": {
    "cell_id": "00011-9b6039e2-a262-421e-8a0a-edd26f89fe9b",
    "deepnote_cell_type": "code",
    "deepnote_to_be_reexecuted": false,
    "execution_millis": 43,
    "execution_start": 1620906349517,
    "source_hash": "cd5228bc",
    "tags": []
   },
   "outputs": [
    {
     "data": {
      "text/html": [
       "<div>\n",
       "<style scoped>\n",
       "    .dataframe tbody tr th:only-of-type {\n",
       "        vertical-align: middle;\n",
       "    }\n",
       "\n",
       "    .dataframe tbody tr th {\n",
       "        vertical-align: top;\n",
       "    }\n",
       "\n",
       "    .dataframe thead th {\n",
       "        text-align: right;\n",
       "    }\n",
       "</style>\n",
       "<table border=\"1\" class=\"dataframe\">\n",
       "  <thead>\n",
       "    <tr style=\"text-align: right;\">\n",
       "      <th></th>\n",
       "      <th>School ID</th>\n",
       "      <th>Kinder Male</th>\n",
       "      <th>Kinder Female</th>\n",
       "      <th>Grade 1 Male</th>\n",
       "      <th>Grade 1 Female</th>\n",
       "      <th>Grade 2 Male</th>\n",
       "      <th>Grade 2 Female</th>\n",
       "      <th>Grade 3 Male</th>\n",
       "      <th>Grade 3 Female</th>\n",
       "      <th>Grade 4 Male</th>\n",
       "      <th>Grade 4 Female</th>\n",
       "      <th>Grade 5 Male</th>\n",
       "      <th>Grade 5 Female</th>\n",
       "      <th>Grade 6 Male</th>\n",
       "      <th>Grade 6 Female</th>\n",
       "      <th>SPED NG Male</th>\n",
       "      <th>SPED NG Female</th>\n",
       "    </tr>\n",
       "  </thead>\n",
       "  <tbody>\n",
       "    <tr>\n",
       "      <th>0</th>\n",
       "      <td>100001.0</td>\n",
       "      <td>9.0</td>\n",
       "      <td>7.0</td>\n",
       "      <td>7.0</td>\n",
       "      <td>2.0</td>\n",
       "      <td>7.0</td>\n",
       "      <td>7.0</td>\n",
       "      <td>9.0</td>\n",
       "      <td>5.0</td>\n",
       "      <td>7.0</td>\n",
       "      <td>5.0</td>\n",
       "      <td>3.0</td>\n",
       "      <td>2.0</td>\n",
       "      <td>14.0</td>\n",
       "      <td>6.0</td>\n",
       "      <td>0.0</td>\n",
       "      <td>0.0</td>\n",
       "    </tr>\n",
       "    <tr>\n",
       "      <th>1</th>\n",
       "      <td>100002.0</td>\n",
       "      <td>41.0</td>\n",
       "      <td>25.0</td>\n",
       "      <td>38.0</td>\n",
       "      <td>33.0</td>\n",
       "      <td>41.0</td>\n",
       "      <td>40.0</td>\n",
       "      <td>28.0</td>\n",
       "      <td>31.0</td>\n",
       "      <td>38.0</td>\n",
       "      <td>30.0</td>\n",
       "      <td>26.0</td>\n",
       "      <td>31.0</td>\n",
       "      <td>22.0</td>\n",
       "      <td>32.0</td>\n",
       "      <td>0.0</td>\n",
       "      <td>0.0</td>\n",
       "    </tr>\n",
       "    <tr>\n",
       "      <th>2</th>\n",
       "      <td>100003.0</td>\n",
       "      <td>8.0</td>\n",
       "      <td>10.0</td>\n",
       "      <td>13.0</td>\n",
       "      <td>15.0</td>\n",
       "      <td>13.0</td>\n",
       "      <td>13.0</td>\n",
       "      <td>16.0</td>\n",
       "      <td>16.0</td>\n",
       "      <td>14.0</td>\n",
       "      <td>11.0</td>\n",
       "      <td>9.0</td>\n",
       "      <td>12.0</td>\n",
       "      <td>12.0</td>\n",
       "      <td>5.0</td>\n",
       "      <td>0.0</td>\n",
       "      <td>0.0</td>\n",
       "    </tr>\n",
       "    <tr>\n",
       "      <th>3</th>\n",
       "      <td>100004.0</td>\n",
       "      <td>8.0</td>\n",
       "      <td>4.0</td>\n",
       "      <td>9.0</td>\n",
       "      <td>12.0</td>\n",
       "      <td>12.0</td>\n",
       "      <td>10.0</td>\n",
       "      <td>10.0</td>\n",
       "      <td>5.0</td>\n",
       "      <td>14.0</td>\n",
       "      <td>11.0</td>\n",
       "      <td>5.0</td>\n",
       "      <td>7.0</td>\n",
       "      <td>10.0</td>\n",
       "      <td>5.0</td>\n",
       "      <td>0.0</td>\n",
       "      <td>0.0</td>\n",
       "    </tr>\n",
       "    <tr>\n",
       "      <th>4</th>\n",
       "      <td>100005.0</td>\n",
       "      <td>4.0</td>\n",
       "      <td>2.0</td>\n",
       "      <td>5.0</td>\n",
       "      <td>7.0</td>\n",
       "      <td>4.0</td>\n",
       "      <td>6.0</td>\n",
       "      <td>3.0</td>\n",
       "      <td>8.0</td>\n",
       "      <td>11.0</td>\n",
       "      <td>5.0</td>\n",
       "      <td>7.0</td>\n",
       "      <td>4.0</td>\n",
       "      <td>3.0</td>\n",
       "      <td>8.0</td>\n",
       "      <td>0.0</td>\n",
       "      <td>0.0</td>\n",
       "    </tr>\n",
       "  </tbody>\n",
       "</table>\n",
       "</div>"
      ],
      "text/plain": [
       "   School ID  Kinder Male  Kinder Female  Grade 1 Male  Grade 1 Female  \\\n",
       "0   100001.0          9.0            7.0           7.0             2.0   \n",
       "1   100002.0         41.0           25.0          38.0            33.0   \n",
       "2   100003.0          8.0           10.0          13.0            15.0   \n",
       "3   100004.0          8.0            4.0           9.0            12.0   \n",
       "4   100005.0          4.0            2.0           5.0             7.0   \n",
       "\n",
       "   Grade 2 Male  Grade 2 Female  Grade 3 Male  Grade 3 Female  Grade 4 Male  \\\n",
       "0           7.0             7.0           9.0             5.0           7.0   \n",
       "1          41.0            40.0          28.0            31.0          38.0   \n",
       "2          13.0            13.0          16.0            16.0          14.0   \n",
       "3          12.0            10.0          10.0             5.0          14.0   \n",
       "4           4.0             6.0           3.0             8.0          11.0   \n",
       "\n",
       "   Grade 4 Female  Grade 5 Male  Grade 5 Female  Grade 6 Male  Grade 6 Female  \\\n",
       "0             5.0           3.0             2.0          14.0             6.0   \n",
       "1            30.0          26.0            31.0          22.0            32.0   \n",
       "2            11.0           9.0            12.0          12.0             5.0   \n",
       "3            11.0           5.0             7.0          10.0             5.0   \n",
       "4             5.0           7.0             4.0           3.0             8.0   \n",
       "\n",
       "   SPED NG Male  SPED NG Female  \n",
       "0           0.0             0.0  \n",
       "1           0.0             0.0  \n",
       "2           0.0             0.0  \n",
       "3           0.0             0.0  \n",
       "4           0.0             0.0  "
      ]
     },
     "execution_count": 24,
     "metadata": {},
     "output_type": "execute_result"
    }
   ],
   "source": [
    "enrol_e.head()"
   ]
  },
  {
   "cell_type": "markdown",
   "metadata": {
    "cell_id": "00025-2d4b24cf-5244-4891-a039-1586208b741d",
    "deepnote_cell_type": "markdown",
    "tags": []
   },
   "source": [
    "### Enrollment 2015 Secondary"
   ]
  },
  {
   "cell_type": "code",
   "execution_count": 25,
   "metadata": {
    "cell_id": "00026-fa0131d1-e802-476e-8831-c51ab8d1d435",
    "deepnote_cell_type": "code",
    "deepnote_to_be_reexecuted": false,
    "execution_millis": 29,
    "execution_start": 1620906349531,
    "source_hash": "ad49baf6",
    "tags": []
   },
   "outputs": [
    {
     "name": "stdout",
     "output_type": "stream",
     "text": [
      "<class 'pandas.core.frame.DataFrame'>\n",
      "RangeIndex: 7977 entries, 0 to 7976\n",
      "Data columns (total 15 columns):\n",
      " #   Column           Non-Null Count  Dtype  \n",
      "---  ------           --------------  -----  \n",
      " 0   School ID        7976 non-null   float64\n",
      " 1   Grade 7 Male     7976 non-null   object \n",
      " 2   Grade 7 Female   7976 non-null   object \n",
      " 3   Grade 8 Male     7976 non-null   object \n",
      " 4   Grade 8 Female   7976 non-null   object \n",
      " 5   Grade 9 Male     7976 non-null   object \n",
      " 6   Grade 9 Female   7976 non-null   object \n",
      " 7   Grade 10 Male    7976 non-null   object \n",
      " 8   Grade 10 Female  7976 non-null   object \n",
      " 9   Grade 11 Male    7976 non-null   float64\n",
      " 10  Grade 11 Female  7976 non-null   float64\n",
      " 11  Grade 12 Male    7976 non-null   float64\n",
      " 12  Grade 12 Female  7976 non-null   float64\n",
      " 13  SPED NG Male     7976 non-null   float64\n",
      " 14  SPED NG Female   7976 non-null   float64\n",
      "dtypes: float64(7), object(8)\n",
      "memory usage: 934.9+ KB\n"
     ]
    }
   ],
   "source": [
    "enrol_s.info()"
   ]
  },
  {
   "cell_type": "code",
   "execution_count": 26,
   "metadata": {
    "cell_id": "00033-14edb374-8fac-4de9-9686-cf44466459b0",
    "deepnote_cell_type": "code",
    "deepnote_to_be_reexecuted": false,
    "execution_millis": 19,
    "execution_start": 1620906349548,
    "source_hash": "27bf963a",
    "tags": []
   },
   "outputs": [
    {
     "data": {
      "text/plain": [
       "School ID          1\n",
       "Grade 7 Male       1\n",
       "Grade 7 Female     1\n",
       "Grade 8 Male       1\n",
       "Grade 8 Female     1\n",
       "Grade 9 Male       1\n",
       "Grade 9 Female     1\n",
       "Grade 10 Male      1\n",
       "Grade 10 Female    1\n",
       "Grade 11 Male      1\n",
       "Grade 11 Female    1\n",
       "Grade 12 Male      1\n",
       "Grade 12 Female    1\n",
       "SPED NG Male       1\n",
       "SPED NG Female     1\n",
       "dtype: int64"
      ]
     },
     "execution_count": 26,
     "metadata": {},
     "output_type": "execute_result"
    }
   ],
   "source": [
    "enrol_s.isnull().sum()"
   ]
  },
  {
   "cell_type": "code",
   "execution_count": 27,
   "metadata": {
    "cell_id": "00027-d434134c-c92e-47d3-8b6f-59e01573bfd8",
    "deepnote_cell_type": "code",
    "deepnote_to_be_reexecuted": false,
    "execution_millis": 29,
    "execution_start": 1620906349596,
    "source_hash": "2b563394",
    "tags": []
   },
   "outputs": [
    {
     "data": {
      "text/html": [
       "<div>\n",
       "<style scoped>\n",
       "    .dataframe tbody tr th:only-of-type {\n",
       "        vertical-align: middle;\n",
       "    }\n",
       "\n",
       "    .dataframe tbody tr th {\n",
       "        vertical-align: top;\n",
       "    }\n",
       "\n",
       "    .dataframe thead th {\n",
       "        text-align: right;\n",
       "    }\n",
       "</style>\n",
       "<table border=\"1\" class=\"dataframe\">\n",
       "  <thead>\n",
       "    <tr style=\"text-align: right;\">\n",
       "      <th></th>\n",
       "      <th>School ID</th>\n",
       "      <th>Grade 7 Male</th>\n",
       "      <th>Grade 7 Female</th>\n",
       "      <th>Grade 8 Male</th>\n",
       "      <th>Grade 8 Female</th>\n",
       "      <th>Grade 9 Male</th>\n",
       "      <th>Grade 9 Female</th>\n",
       "      <th>Grade 10 Male</th>\n",
       "      <th>Grade 10 Female</th>\n",
       "      <th>Grade 11 Male</th>\n",
       "      <th>Grade 11 Female</th>\n",
       "      <th>Grade 12 Male</th>\n",
       "      <th>Grade 12 Female</th>\n",
       "      <th>SPED NG Male</th>\n",
       "      <th>SPED NG Female</th>\n",
       "    </tr>\n",
       "  </thead>\n",
       "  <tbody>\n",
       "    <tr>\n",
       "      <th>0</th>\n",
       "      <td>300001.0</td>\n",
       "      <td>20</td>\n",
       "      <td>12</td>\n",
       "      <td>13</td>\n",
       "      <td>17</td>\n",
       "      <td>10</td>\n",
       "      <td>15</td>\n",
       "      <td>17</td>\n",
       "      <td>14</td>\n",
       "      <td>0.0</td>\n",
       "      <td>0.0</td>\n",
       "      <td>0.0</td>\n",
       "      <td>0.0</td>\n",
       "      <td>0.0</td>\n",
       "      <td>0.0</td>\n",
       "    </tr>\n",
       "    <tr>\n",
       "      <th>1</th>\n",
       "      <td>300002.0</td>\n",
       "      <td>240</td>\n",
       "      <td>288</td>\n",
       "      <td>229</td>\n",
       "      <td>258</td>\n",
       "      <td>225</td>\n",
       "      <td>231</td>\n",
       "      <td>261</td>\n",
       "      <td>207</td>\n",
       "      <td>0.0</td>\n",
       "      <td>0.0</td>\n",
       "      <td>0.0</td>\n",
       "      <td>0.0</td>\n",
       "      <td>0.0</td>\n",
       "      <td>0.0</td>\n",
       "    </tr>\n",
       "    <tr>\n",
       "      <th>2</th>\n",
       "      <td>300003.0</td>\n",
       "      <td>89</td>\n",
       "      <td>84</td>\n",
       "      <td>78</td>\n",
       "      <td>88</td>\n",
       "      <td>65</td>\n",
       "      <td>76</td>\n",
       "      <td>54</td>\n",
       "      <td>79</td>\n",
       "      <td>0.0</td>\n",
       "      <td>0.0</td>\n",
       "      <td>0.0</td>\n",
       "      <td>0.0</td>\n",
       "      <td>0.0</td>\n",
       "      <td>0.0</td>\n",
       "    </tr>\n",
       "    <tr>\n",
       "      <th>3</th>\n",
       "      <td>300004.0</td>\n",
       "      <td>38</td>\n",
       "      <td>47</td>\n",
       "      <td>47</td>\n",
       "      <td>54</td>\n",
       "      <td>39</td>\n",
       "      <td>42</td>\n",
       "      <td>52</td>\n",
       "      <td>45</td>\n",
       "      <td>0.0</td>\n",
       "      <td>0.0</td>\n",
       "      <td>0.0</td>\n",
       "      <td>0.0</td>\n",
       "      <td>0.0</td>\n",
       "      <td>0.0</td>\n",
       "    </tr>\n",
       "    <tr>\n",
       "      <th>4</th>\n",
       "      <td>300005.0</td>\n",
       "      <td>78</td>\n",
       "      <td>70</td>\n",
       "      <td>60</td>\n",
       "      <td>61</td>\n",
       "      <td>68</td>\n",
       "      <td>64</td>\n",
       "      <td>53</td>\n",
       "      <td>50</td>\n",
       "      <td>0.0</td>\n",
       "      <td>0.0</td>\n",
       "      <td>0.0</td>\n",
       "      <td>0.0</td>\n",
       "      <td>0.0</td>\n",
       "      <td>0.0</td>\n",
       "    </tr>\n",
       "  </tbody>\n",
       "</table>\n",
       "</div>"
      ],
      "text/plain": [
       "   School ID Grade 7 Male Grade 7 Female Grade 8 Male Grade 8 Female  \\\n",
       "0   300001.0           20             12           13             17   \n",
       "1   300002.0          240            288          229            258   \n",
       "2   300003.0           89             84           78             88   \n",
       "3   300004.0           38             47           47             54   \n",
       "4   300005.0           78             70           60             61   \n",
       "\n",
       "  Grade 9 Male Grade 9 Female Grade 10 Male Grade 10 Female  Grade 11 Male  \\\n",
       "0           10             15            17              14            0.0   \n",
       "1          225            231           261             207            0.0   \n",
       "2           65             76            54              79            0.0   \n",
       "3           39             42            52              45            0.0   \n",
       "4           68             64            53              50            0.0   \n",
       "\n",
       "   Grade 11 Female  Grade 12 Male  Grade 12 Female  SPED NG Male  \\\n",
       "0              0.0            0.0              0.0           0.0   \n",
       "1              0.0            0.0              0.0           0.0   \n",
       "2              0.0            0.0              0.0           0.0   \n",
       "3              0.0            0.0              0.0           0.0   \n",
       "4              0.0            0.0              0.0           0.0   \n",
       "\n",
       "   SPED NG Female  \n",
       "0             0.0  \n",
       "1             0.0  \n",
       "2             0.0  \n",
       "3             0.0  \n",
       "4             0.0  "
      ]
     },
     "execution_count": 27,
     "metadata": {},
     "output_type": "execute_result"
    }
   ],
   "source": [
    "enrol_s.head()"
   ]
  },
  {
   "cell_type": "markdown",
   "metadata": {
    "cell_id": "00037-2bfdc5a4-88e4-44fc-a754-403e0c5188e5",
    "deepnote_cell_type": "markdown",
    "tags": []
   },
   "source": [
    "### Regional Stats"
   ]
  },
  {
   "cell_type": "code",
   "execution_count": 28,
   "metadata": {
    "cell_id": "00038-01096eca-38cd-44a3-864d-98825e9dc35c",
    "deepnote_cell_type": "code",
    "deepnote_to_be_reexecuted": false,
    "execution_millis": 29,
    "execution_start": 1620906349618,
    "source_hash": "1ec66620",
    "tags": []
   },
   "outputs": [
    {
     "name": "stdout",
     "output_type": "stream",
     "text": [
      "<class 'pandas.core.frame.DataFrame'>\n",
      "RangeIndex: 17 entries, 0 to 16\n",
      "Data columns (total 19 columns):\n",
      " #   Column                               Non-Null Count  Dtype  \n",
      "---  ------                               --------------  -----  \n",
      " 0   REGION                               17 non-null     object \n",
      " 1   REGION_NAME                          17 non-null     object \n",
      " 2   NET_ENROLMENT_ELEMENTARY             17 non-null     float64\n",
      " 3   NET_PARTICIPATION_SECONDARY SCHOOLS  17 non-null     float64\n",
      " 4   COHORT_SURVIVAL_ELEMENTARY           17 non-null     float64\n",
      " 5   COHORT_SURVIVAL_SECONDARY            17 non-null     float64\n",
      " 6   GROSS_ENROLLMENT_PRIMARY             17 non-null     int64  \n",
      " 7   TEACHER_PRIMARY                      17 non-null     int64  \n",
      " 8   GROSS_ENROLLMENT_SECONDARY           17 non-null     int64  \n",
      " 9   TEACHER_SECONDARY                    17 non-null     int64  \n",
      " 10  NAT_MATH_PRIMARY                     17 non-null     float64\n",
      " 11  NAT_ENGLISH_PRIMARY                  17 non-null     float64\n",
      " 12  NAT_SCIENCE_PRIMARY                  17 non-null     float64\n",
      " 13  NAT_MATH_SECONDARY                   17 non-null     float64\n",
      " 14  NAT_ENGLISH_SECONDARY                17 non-null     float64\n",
      " 15  NAT_SCIENCE_SECONDARY                17 non-null     float64\n",
      " 16  TEXTBOOKS_DISTRIBUTED                17 non-null     int64  \n",
      " 17  SIMPLE_LITERACY                      17 non-null     float64\n",
      " 18  FUNCTIONAL_LITERACY                  17 non-null     float64\n",
      "dtypes: float64(12), int64(5), object(2)\n",
      "memory usage: 2.6+ KB\n"
     ]
    }
   ],
   "source": [
    "region_stats.info()"
   ]
  },
  {
   "cell_type": "code",
   "execution_count": 29,
   "metadata": {
    "cell_id": "00039-db9e51fd-e06a-45be-abd8-be8d2a090468",
    "deepnote_cell_type": "code",
    "deepnote_to_be_reexecuted": false,
    "execution_millis": 16,
    "execution_start": 1620906349635,
    "source_hash": "a66af3b4",
    "tags": []
   },
   "outputs": [
    {
     "data": {
      "text/plain": [
       "REGION                                 0\n",
       "REGION_NAME                            0\n",
       "NET_ENROLMENT_ELEMENTARY               0\n",
       "NET_PARTICIPATION_SECONDARY SCHOOLS    0\n",
       "COHORT_SURVIVAL_ELEMENTARY             0\n",
       "COHORT_SURVIVAL_SECONDARY              0\n",
       "GROSS_ENROLLMENT_PRIMARY               0\n",
       "TEACHER_PRIMARY                        0\n",
       "GROSS_ENROLLMENT_SECONDARY             0\n",
       "TEACHER_SECONDARY                      0\n",
       "NAT_MATH_PRIMARY                       0\n",
       "NAT_ENGLISH_PRIMARY                    0\n",
       "NAT_SCIENCE_PRIMARY                    0\n",
       "NAT_MATH_SECONDARY                     0\n",
       "NAT_ENGLISH_SECONDARY                  0\n",
       "NAT_SCIENCE_SECONDARY                  0\n",
       "TEXTBOOKS_DISTRIBUTED                  0\n",
       "SIMPLE_LITERACY                        0\n",
       "FUNCTIONAL_LITERACY                    0\n",
       "dtype: int64"
      ]
     },
     "execution_count": 29,
     "metadata": {},
     "output_type": "execute_result"
    }
   ],
   "source": [
    "region_stats.isnull().sum()"
   ]
  },
  {
   "cell_type": "code",
   "execution_count": 30,
   "metadata": {
    "cell_id": "00040-1b8cef85-707c-402c-971f-01106d3b3f54",
    "deepnote_cell_type": "code",
    "deepnote_to_be_reexecuted": false,
    "execution_millis": 38,
    "execution_start": 1620906349684,
    "source_hash": "b2b20fa6",
    "tags": []
   },
   "outputs": [
    {
     "data": {
      "text/html": [
       "<div>\n",
       "<style scoped>\n",
       "    .dataframe tbody tr th:only-of-type {\n",
       "        vertical-align: middle;\n",
       "    }\n",
       "\n",
       "    .dataframe tbody tr th {\n",
       "        vertical-align: top;\n",
       "    }\n",
       "\n",
       "    .dataframe thead th {\n",
       "        text-align: right;\n",
       "    }\n",
       "</style>\n",
       "<table border=\"1\" class=\"dataframe\">\n",
       "  <thead>\n",
       "    <tr style=\"text-align: right;\">\n",
       "      <th></th>\n",
       "      <th>REGION</th>\n",
       "      <th>REGION_NAME</th>\n",
       "      <th>NET_ENROLMENT_ELEMENTARY</th>\n",
       "      <th>NET_PARTICIPATION_SECONDARY SCHOOLS</th>\n",
       "      <th>COHORT_SURVIVAL_ELEMENTARY</th>\n",
       "      <th>COHORT_SURVIVAL_SECONDARY</th>\n",
       "      <th>GROSS_ENROLLMENT_PRIMARY</th>\n",
       "      <th>TEACHER_PRIMARY</th>\n",
       "      <th>GROSS_ENROLLMENT_SECONDARY</th>\n",
       "      <th>TEACHER_SECONDARY</th>\n",
       "      <th>NAT_MATH_PRIMARY</th>\n",
       "      <th>NAT_ENGLISH_PRIMARY</th>\n",
       "      <th>NAT_SCIENCE_PRIMARY</th>\n",
       "      <th>NAT_MATH_SECONDARY</th>\n",
       "      <th>NAT_ENGLISH_SECONDARY</th>\n",
       "      <th>NAT_SCIENCE_SECONDARY</th>\n",
       "      <th>TEXTBOOKS_DISTRIBUTED</th>\n",
       "      <th>SIMPLE_LITERACY</th>\n",
       "      <th>FUNCTIONAL_LITERACY</th>\n",
       "    </tr>\n",
       "  </thead>\n",
       "  <tbody>\n",
       "    <tr>\n",
       "      <th>0</th>\n",
       "      <td>NCR</td>\n",
       "      <td>National Capital Region</td>\n",
       "      <td>90.15</td>\n",
       "      <td>77.76</td>\n",
       "      <td>85.62</td>\n",
       "      <td>81.67</td>\n",
       "      <td>1231890</td>\n",
       "      <td>31314</td>\n",
       "      <td>672462</td>\n",
       "      <td>19210</td>\n",
       "      <td>56.01</td>\n",
       "      <td>56.29</td>\n",
       "      <td>51.67</td>\n",
       "      <td>37.59</td>\n",
       "      <td>47.19</td>\n",
       "      <td>36.10</td>\n",
       "      <td>715872</td>\n",
       "      <td>99.2</td>\n",
       "      <td>94.0</td>\n",
       "    </tr>\n",
       "    <tr>\n",
       "      <th>1</th>\n",
       "      <td>CAR</td>\n",
       "      <td>Cordillera Administrative</td>\n",
       "      <td>99.81</td>\n",
       "      <td>62.70</td>\n",
       "      <td>75.03</td>\n",
       "      <td>78.39</td>\n",
       "      <td>217442</td>\n",
       "      <td>7848</td>\n",
       "      <td>86817</td>\n",
       "      <td>2967</td>\n",
       "      <td>63.73</td>\n",
       "      <td>61.67</td>\n",
       "      <td>53.56</td>\n",
       "      <td>39.92</td>\n",
       "      <td>48.70</td>\n",
       "      <td>38.34</td>\n",
       "      <td>92260</td>\n",
       "      <td>94.8</td>\n",
       "      <td>89.2</td>\n",
       "    </tr>\n",
       "    <tr>\n",
       "      <th>2</th>\n",
       "      <td>I</td>\n",
       "      <td>Ilocos Region</td>\n",
       "      <td>93.81</td>\n",
       "      <td>72.67</td>\n",
       "      <td>83.60</td>\n",
       "      <td>83.58</td>\n",
       "      <td>618666</td>\n",
       "      <td>21604</td>\n",
       "      <td>304807</td>\n",
       "      <td>9032</td>\n",
       "      <td>70.77</td>\n",
       "      <td>66.36</td>\n",
       "      <td>62.00</td>\n",
       "      <td>40.36</td>\n",
       "      <td>44.30</td>\n",
       "      <td>37.11</td>\n",
       "      <td>323011</td>\n",
       "      <td>98.2</td>\n",
       "      <td>91.3</td>\n",
       "    </tr>\n",
       "    <tr>\n",
       "      <th>3</th>\n",
       "      <td>II</td>\n",
       "      <td>Cagayan Valley</td>\n",
       "      <td>95.12</td>\n",
       "      <td>68.25</td>\n",
       "      <td>78.76</td>\n",
       "      <td>81.49</td>\n",
       "      <td>423776</td>\n",
       "      <td>14728</td>\n",
       "      <td>195048</td>\n",
       "      <td>5855</td>\n",
       "      <td>69.44</td>\n",
       "      <td>63.49</td>\n",
       "      <td>59.11</td>\n",
       "      <td>40.27</td>\n",
       "      <td>43.33</td>\n",
       "      <td>37.18</td>\n",
       "      <td>212798</td>\n",
       "      <td>95.0</td>\n",
       "      <td>86.1</td>\n",
       "    </tr>\n",
       "    <tr>\n",
       "      <th>4</th>\n",
       "      <td>III</td>\n",
       "      <td>Central Luzon</td>\n",
       "      <td>90.55</td>\n",
       "      <td>70.22</td>\n",
       "      <td>82.11</td>\n",
       "      <td>81.62</td>\n",
       "      <td>1287192</td>\n",
       "      <td>34952</td>\n",
       "      <td>583896</td>\n",
       "      <td>14534</td>\n",
       "      <td>70.14</td>\n",
       "      <td>67.33</td>\n",
       "      <td>63.06</td>\n",
       "      <td>41.29</td>\n",
       "      <td>45.08</td>\n",
       "      <td>38.57</td>\n",
       "      <td>609378</td>\n",
       "      <td>97.8</td>\n",
       "      <td>92.1</td>\n",
       "    </tr>\n",
       "  </tbody>\n",
       "</table>\n",
       "</div>"
      ],
      "text/plain": [
       "  REGION                REGION_NAME  NET_ENROLMENT_ELEMENTARY  \\\n",
       "0    NCR    National Capital Region                     90.15   \n",
       "1    CAR  Cordillera Administrative                     99.81   \n",
       "2      I              Ilocos Region                     93.81   \n",
       "3     II             Cagayan Valley                     95.12   \n",
       "4    III              Central Luzon                     90.55   \n",
       "\n",
       "   NET_PARTICIPATION_SECONDARY SCHOOLS  COHORT_SURVIVAL_ELEMENTARY  \\\n",
       "0                                77.76                       85.62   \n",
       "1                                62.70                       75.03   \n",
       "2                                72.67                       83.60   \n",
       "3                                68.25                       78.76   \n",
       "4                                70.22                       82.11   \n",
       "\n",
       "   COHORT_SURVIVAL_SECONDARY  GROSS_ENROLLMENT_PRIMARY  TEACHER_PRIMARY  \\\n",
       "0                      81.67                   1231890            31314   \n",
       "1                      78.39                    217442             7848   \n",
       "2                      83.58                    618666            21604   \n",
       "3                      81.49                    423776            14728   \n",
       "4                      81.62                   1287192            34952   \n",
       "\n",
       "   GROSS_ENROLLMENT_SECONDARY  TEACHER_SECONDARY  NAT_MATH_PRIMARY  \\\n",
       "0                      672462              19210             56.01   \n",
       "1                       86817               2967             63.73   \n",
       "2                      304807               9032             70.77   \n",
       "3                      195048               5855             69.44   \n",
       "4                      583896              14534             70.14   \n",
       "\n",
       "   NAT_ENGLISH_PRIMARY  NAT_SCIENCE_PRIMARY  NAT_MATH_SECONDARY  \\\n",
       "0                56.29                51.67               37.59   \n",
       "1                61.67                53.56               39.92   \n",
       "2                66.36                62.00               40.36   \n",
       "3                63.49                59.11               40.27   \n",
       "4                67.33                63.06               41.29   \n",
       "\n",
       "   NAT_ENGLISH_SECONDARY  NAT_SCIENCE_SECONDARY  TEXTBOOKS_DISTRIBUTED  \\\n",
       "0                  47.19                  36.10                 715872   \n",
       "1                  48.70                  38.34                  92260   \n",
       "2                  44.30                  37.11                 323011   \n",
       "3                  43.33                  37.18                 212798   \n",
       "4                  45.08                  38.57                 609378   \n",
       "\n",
       "   SIMPLE_LITERACY  FUNCTIONAL_LITERACY  \n",
       "0             99.2                 94.0  \n",
       "1             94.8                 89.2  \n",
       "2             98.2                 91.3  \n",
       "3             95.0                 86.1  \n",
       "4             97.8                 92.1  "
      ]
     },
     "execution_count": 30,
     "metadata": {},
     "output_type": "execute_result"
    }
   ],
   "source": [
    "region_stats.head()"
   ]
  },
  {
   "cell_type": "code",
   "execution_count": 31,
   "metadata": {
    "cell_id": "00041-7688513c-c696-4b04-b5ca-8f1aaa01fcda",
    "deepnote_cell_type": "code",
    "deepnote_to_be_reexecuted": false,
    "execution_millis": 17,
    "execution_start": 1620906349711,
    "source_hash": "5febff9a",
    "tags": []
   },
   "outputs": [
    {
     "data": {
      "text/plain": [
       "Index(['REGION', 'REGION_NAME', 'NET_ENROLMENT_ELEMENTARY',\n",
       "       'NET_PARTICIPATION_SECONDARY SCHOOLS', 'COHORT_SURVIVAL_ELEMENTARY',\n",
       "       'COHORT_SURVIVAL_SECONDARY', 'GROSS_ENROLLMENT_PRIMARY',\n",
       "       'TEACHER_PRIMARY', 'GROSS_ENROLLMENT_SECONDARY', 'TEACHER_SECONDARY',\n",
       "       'NAT_MATH_PRIMARY', 'NAT_ENGLISH_PRIMARY', 'NAT_SCIENCE_PRIMARY',\n",
       "       'NAT_MATH_SECONDARY', 'NAT_ENGLISH_SECONDARY', 'NAT_SCIENCE_SECONDARY',\n",
       "       'TEXTBOOKS_DISTRIBUTED', 'SIMPLE_LITERACY', 'FUNCTIONAL_LITERACY'],\n",
       "      dtype='object')"
      ]
     },
     "execution_count": 31,
     "metadata": {},
     "output_type": "execute_result"
    }
   ],
   "source": [
    "region_stats.columns"
   ]
  },
  {
   "cell_type": "code",
   "execution_count": 32,
   "metadata": {
    "cell_id": "00042-e286aa40-4b1d-4ec8-aa40-47f94cfeefd6",
    "deepnote_cell_type": "code",
    "deepnote_to_be_reexecuted": false,
    "execution_millis": 11,
    "execution_start": 1620906349724,
    "source_hash": "90a9ef67",
    "tags": []
   },
   "outputs": [
    {
     "data": {
      "text/plain": [
       "REGION\n",
       "ARMM    40.69\n",
       "CAR     75.03\n",
       "I       83.60\n",
       "II      78.76\n",
       "III     82.11\n",
       "IV-A    84.00\n",
       "IV-B    74.68\n",
       "IX      60.93\n",
       "NCR     85.62\n",
       "V       76.62\n",
       "VI      73.59\n",
       "VII     80.33\n",
       "VIII    73.61\n",
       "X       67.92\n",
       "XI      66.23\n",
       "XII     65.03\n",
       "XIII    72.87\n",
       "Name: COHORT_SURVIVAL_ELEMENTARY, dtype: float64"
      ]
     },
     "execution_count": 32,
     "metadata": {},
     "output_type": "execute_result"
    }
   ],
   "source": [
    "grade_level = region_stats.groupby(\"REGION\")[\"COHORT_SURVIVAL_ELEMENTARY\"].min()\n",
    "grade_level"
   ]
  },
  {
   "cell_type": "code",
   "execution_count": 33,
   "metadata": {
    "cell_id": "00041-12918084-4393-412d-a735-1441f7b33d1f",
    "deepnote_cell_type": "code",
    "deepnote_to_be_reexecuted": false,
    "execution_millis": 237,
    "execution_start": 1620906868678,
    "source_hash": "3b584df6",
    "tags": []
   },
   "outputs": [
    {
     "data": {
      "image/png": "[encoded data removed]",
      "text/plain": [
       "<Figure size 864x432 with 1 Axes>"
      ]
     },
     "metadata": {
      "needs_background": "light"
     },
     "output_type": "display_data"
    }
   ],
   "source": [
    "reg_elem = region_stats.groupby(\"REGION\")[\"COHORT_SURVIVAL_ELEMENTARY\"].min().sort_values()\n",
    "\n",
    "plt.figure(figsize=(12,6)) \n",
    "\n",
    "plt.barh(reg_elem.index, reg_elem.values) \n",
    "plt.title(\"Cohort Survival for Elementary\", fontsize=16)\n",
    "plt.ylabel(\"Region\", fontsize=12)\n",
    "plt.xlabel(\"Cohort Survival Rate (%)\", fontsize=12)\n",
    "plt.xticks(range(0,101,10))\n",
    "plt.show()\n"
   ]
  },
  {
   "cell_type": "code",
   "execution_count": 34,
   "metadata": {
    "cell_id": "00044-a9cc7bd8-7b6a-477f-9540-e9ede169999d",
    "deepnote_cell_type": "code",
    "deepnote_to_be_reexecuted": false,
    "execution_millis": 13,
    "execution_start": 1620912193776,
    "source_hash": "aca8d8fd",
    "tags": []
   },
   "outputs": [
    {
     "data": {
      "text/plain": [
       "73.03647058823529"
      ]
     },
     "execution_count": 34,
     "metadata": {},
     "output_type": "execute_result"
    }
   ],
   "source": [
    "reg_elem_sum = sum(region_stats.groupby(\"REGION\")[\"COHORT_SURVIVAL_ELEMENTARY\"].min())\n",
    "reg_elem_count= region_stats[\"REGION\"].nunique()\n",
    "reg_elem_ave= reg_elem_sum/reg_elem_count\n",
    "reg_elem_ave"
   ]
  },
  {
   "cell_type": "code",
   "execution_count": 35,
   "metadata": {
    "cell_id": "00045-8a30fe84-eafa-41ca-a2aa-7c2d75ff293c",
    "deepnote_cell_type": "code",
    "deepnote_to_be_reexecuted": false,
    "execution_millis": 11,
    "execution_start": 1620912490639,
    "source_hash": "a6dd7413",
    "tags": []
   },
   "outputs": [
    {
     "data": {
      "text/plain": [
       "REGION\n",
       "ARMM    68.50\n",
       "CAR     78.39\n",
       "I       83.58\n",
       "II      81.49\n",
       "III     81.62\n",
       "IV-A    83.82\n",
       "IV-B    74.40\n",
       "IX      73.08\n",
       "NCR     81.67\n",
       "V       76.94\n",
       "VI      79.90\n",
       "VII     79.49\n",
       "VIII    73.13\n",
       "X       84.08\n",
       "XI      75.30\n",
       "XII     76.77\n",
       "XIII    74.60\n",
       "Name: COHORT_SURVIVAL_SECONDARY, dtype: float64"
      ]
     },
     "execution_count": 35,
     "metadata": {},
     "output_type": "execute_result"
    }
   ],
   "source": [
    "HS_level = region_stats.groupby(\"REGION\")[\"COHORT_SURVIVAL_SECONDARY\"].min()\n",
    "HS_level"
   ]
  },
  {
   "cell_type": "code",
   "execution_count": 36,
   "metadata": {
    "cell_id": "00044-d80d1332-72d0-4f37-bd6f-47f103d6f712",
    "deepnote_cell_type": "code",
    "deepnote_to_be_reexecuted": false,
    "execution_millis": 247,
    "execution_start": 1620906879070,
    "source_hash": "f4858db3",
    "tags": []
   },
   "outputs": [
    {
     "data": {
      "image/png": "[encoded data removed]",
      "text/plain": [
       "<Figure size 864x432 with 1 Axes>"
      ]
     },
     "metadata": {
      "needs_background": "light"
     },
     "output_type": "display_data"
    }
   ],
   "source": [
    "reg_hs = region_stats.groupby(\"REGION\")[\"COHORT_SURVIVAL_SECONDARY\"].min().sort_values()\n",
    "\n",
    "plt.figure(figsize=(12,6)) \n",
    "\n",
    "plt.barh(reg_hs.index, reg_hs.values) \n",
    "plt.title(\"Cohort Survival for Secondary\", fontsize=16)\n",
    "plt.ylabel(\"Region\", fontsize=12)\n",
    "plt.xlabel(\"Cohort Survival Rate (%)\", fontsize=12)\n",
    "plt.xticks(range(0,101,10))\n",
    "plt.show()"
   ]
  },
  {
   "cell_type": "code",
   "execution_count": 37,
   "metadata": {
    "cell_id": "00046-f93c9f7b-aeb4-4384-a52c-eb2c5d9639af",
    "deepnote_cell_type": "code",
    "deepnote_to_be_reexecuted": false,
    "execution_millis": 24,
    "execution_start": 1620912256420,
    "source_hash": "4b12406e",
    "tags": []
   },
   "outputs": [
    {
     "data": {
      "text/plain": [
       "78.04470588235293"
      ]
     },
     "execution_count": 37,
     "metadata": {},
     "output_type": "execute_result"
    }
   ],
   "source": [
    "x = sum(region_stats.groupby(\"REGION\")[\"COHORT_SURVIVAL_SECONDARY\"].min())\n",
    "y = region_stats[\"REGION\"].nunique()\n",
    "reg_hs_ave= x/y\n",
    "reg_hs_ave"
   ]
  },
  {
   "cell_type": "code",
   "execution_count": null,
   "metadata": {
    "cell_id": "00040-0e8af484-05ec-47a1-b542-567a6c4d3468",
    "deepnote_cell_type": "code",
    "deepnote_to_be_reexecuted": false,
    "execution_millis": 0,
    "execution_start": 1620909592014,
    "source_hash": "b623e53d",
    "tags": []
   },
   "outputs": [],
   "source": []
  },
  {
   "cell_type": "code",
   "execution_count": 39,
   "metadata": {
    "cell_id": "00046-a1503040-bedc-480b-9ae9-e3af5c820cf6",
    "deepnote_cell_type": "code",
    "tags": []
   },
   "outputs": [],
   "source": [
    "#df_all.head()"
   ]
  },
  {
   "cell_type": "markdown",
   "metadata": {
    "cell_id": "00047-92c78d3f-4b1f-4111-8f95-1e5151cd4d03",
    "deepnote_cell_type": "markdown",
    "tags": []
   },
   "source": [
    "## Highlights"
   ]
  },
  {
   "cell_type": "markdown",
   "metadata": {
    "cell_id": "00048-50f6ec4f-c7d2-4c67-bc3c-04dff8b240b7",
    "deepnote_cell_type": "markdown",
    "tags": []
   },
   "source": [
    "\n",
    "Highlight: --ARMM\n",
    "Demographics, resources, budget\n",
    "Enrollees vs # of School\n",
    "Teacher vs Student (st_ratio)\n",
    "enrollee vs school ratio (es_ratio)\n",
    "MOOE -- NO MOOE if ARMM\n",
    "NAT performance comparison\n"
   ]
  },
  {
   "cell_type": "code",
   "execution_count": 40,
   "metadata": {
    "cell_id": "00049-df3c1c0e-4480-49d9-af89-23c36afda9b1",
    "deepnote_cell_type": "code",
    "deepnote_to_be_reexecuted": false,
    "execution_millis": 0,
    "execution_start": 1620907182794,
    "source_hash": "727f94f",
    "tags": []
   },
   "outputs": [],
   "source": [
    "## Code here ARMM"
   ]
  },
  {
   "cell_type": "code",
   "execution_count": 41,
   "metadata": {
    "cell_id": "00050-8bdd10aa-d6c8-4b91-a5c5-09ded770fa8d",
    "deepnote_cell_type": "code",
    "tags": []
   },
   "outputs": [],
   "source": [
    "# Demographics (Male vs. Female)\n"
   ]
  },
  {
   "cell_type": "code",
   "execution_count": 42,
   "metadata": {
    "cell_id": "00054-7f403d88-cc45-42a2-99f4-0ed6a36f724a",
    "deepnote_cell_type": "code",
    "tags": []
   },
   "outputs": [],
   "source": [
    "#NAT Performance Comparison"
   ]
  },
  {
   "cell_type": "code",
   "execution_count": 43,
   "metadata": {
    "cell_id": "00051-3db5e8d9-5116-413c-ad09-469ab805a00c",
    "deepnote_cell_type": "code",
    "deepnote_to_be_reexecuted": false,
    "execution_millis": 16,
    "execution_start": 1620915449416,
    "source_hash": "8c4b0215",
    "tags": []
   },
   "outputs": [
    {
     "ename": "NameError",
     "evalue": "name 'all_data' is not defined",
     "output_type": "error",
     "traceback": [
      "\u001b[0;31m---------------------------------------------------------------------------\u001b[0m",
      "\u001b[0;31mNameError\u001b[0m                                 Traceback (most recent call last)",
      "\u001b[0;32m<ipython-input-43-9976f065bedf>\u001b[0m in \u001b[0;36m<module>\u001b[0;34m\u001b[0m\n\u001b[1;32m      1\u001b[0m \u001b[0;31m# Resources\u001b[0m\u001b[0;34m\u001b[0m\u001b[0;34m\u001b[0m\u001b[0;34m\u001b[0m\u001b[0m\n\u001b[0;32m----> 2\u001b[0;31m resources_df = all_data[['school.region','rooms.standard.academic', 'rooms.standard.unused',\n\u001b[0m\u001b[1;32m      3\u001b[0m        \u001b[0;34m'rooms.nonstandard.academic'\u001b[0m\u001b[0;34m,\u001b[0m \u001b[0;34m'rooms.nonstandard.unused'\u001b[0m\u001b[0;34m,\u001b[0m\u001b[0;34m\u001b[0m\u001b[0;34m\u001b[0m\u001b[0m\n\u001b[1;32m      4\u001b[0m        \u001b[0;34m'teachers.instructor'\u001b[0m\u001b[0;34m,\u001b[0m \u001b[0;34m'teachers.mobile'\u001b[0m\u001b[0;34m,\u001b[0m \u001b[0;34m'teachers.regular'\u001b[0m\u001b[0;34m,\u001b[0m\u001b[0;34m\u001b[0m\u001b[0;34m\u001b[0m\u001b[0m\n\u001b[1;32m      5\u001b[0m        'teachers.sped']]\n",
      "\u001b[0;31mNameError\u001b[0m: name 'all_data' is not defined"
     ]
    }
   ],
   "source": [
    "# Resources\n",
    "resources_df = all_data[['school.region','rooms.standard.academic', 'rooms.standard.unused',\n",
    "       'rooms.nonstandard.academic', 'rooms.nonstandard.unused',\n",
    "       'teachers.instructor', 'teachers.mobile', 'teachers.regular',\n",
    "       'teachers.sped']]\n",
    "\n",
    "resources_df[\"total_facilities\"] = resources_df[\"rooms.standard.academic\"] + resources_df[\"rooms.nonstandard.academic\"] + resources_df['rooms.standard.unused'] + resources_df['rooms.nonstandard.unused']\n",
    "resources_df[\"total_teachers\"] = resources_df['teachers.instructor'] + resources_df['teachers.mobile'] + resources_df['teachers.regular'] + resources_df['teachers.sped']"
   ]
  },
  {
   "cell_type": "code",
   "execution_count": 44,
   "metadata": {
    "cell_id": "00056-7f9be6da-8687-4cd5-a0cc-8466cc408993",
    "deepnote_cell_type": "code",
    "deepnote_to_be_reexecuted": false,
    "execution_millis": 13,
    "execution_start": 1620915980641,
    "source_hash": "a0a40cfc",
    "tags": []
   },
   "outputs": [
    {
     "ename": "NameError",
     "evalue": "name 'resources_df' is not defined",
     "output_type": "error",
     "traceback": [
      "\u001b[0;31m---------------------------------------------------------------------------\u001b[0m",
      "\u001b[0;31mNameError\u001b[0m                                 Traceback (most recent call last)",
      "\u001b[0;32m<ipython-input-44-1f21bdc0a3f9>\u001b[0m in \u001b[0;36m<module>\u001b[0;34m\u001b[0m\n\u001b[0;32m----> 1\u001b[0;31m \u001b[0mres_ncr_armm\u001b[0m \u001b[0;34m=\u001b[0m \u001b[0mresources_df\u001b[0m\u001b[0;34m[\u001b[0m\u001b[0;34m(\u001b[0m\u001b[0mresources_df\u001b[0m\u001b[0;34m[\u001b[0m\u001b[0;34m\"school.region\"\u001b[0m\u001b[0;34m]\u001b[0m \u001b[0;34m==\u001b[0m \u001b[0;34m\"NCR\"\u001b[0m\u001b[0;34m)\u001b[0m \u001b[0;34m|\u001b[0m \u001b[0;34m(\u001b[0m\u001b[0mresources_df\u001b[0m\u001b[0;34m[\u001b[0m\u001b[0;34m\"school.region\"\u001b[0m\u001b[0;34m]\u001b[0m \u001b[0;34m==\u001b[0m \u001b[0;34m\"ARMM\"\u001b[0m\u001b[0;34m)\u001b[0m\u001b[0;34m]\u001b[0m\u001b[0;34m\u001b[0m\u001b[0;34m\u001b[0m\u001b[0m\n\u001b[0m",
      "\u001b[0;31mNameError\u001b[0m: name 'resources_df' is not defined"
     ]
    }
   ],
   "source": [
    "res_ncr_armm = resources_df[(resources_df[\"school.region\"] == \"NCR\") | (resources_df[\"school.region\"] == \"ARMM\")]"
   ]
  },
  {
   "cell_type": "code",
   "execution_count": null,
   "metadata": {
    "cell_id": "00057-1e95d5e8-40e0-4d32-9f0b-799bfd1b4587",
    "deepnote_cell_type": "code",
    "deepnote_to_be_reexecuted": false,
    "execution_millis": 575,
    "execution_start": 1620916643646,
    "source_hash": "c403bbdf",
    "tags": []
   },
   "outputs": [
    {
     "data": {
      "image/png": "[encoded data removed]",
      "text/plain": [
       "<Figure size 864x720 with 1 Axes>"
      ]
     },
     "metadata": {
      "image/png": {
       "height": 609,
       "width": 720
      }
     },
     "output_type": "display_data"
    },
    {
     "data": {
      "image/png": "[encoded data removed]",
      "text/plain": [
       "<Figure size 864x720 with 1 Axes>"
      ]
     },
     "metadata": {
      "image/png": {
       "height": 609,
       "width": 727
      }
     },
     "output_type": "display_data"
    }
   ],
   "source": [
    "plt.figure(figsize=(12,10)) # figsize\n",
    "\n",
    "sns.boxplot(x=\"school.region\", y=\"total_facilities\", data=res_ncr_armm, showfliers = False)\n",
    "plt.title(\"Number of Facilities for ARMM and NCR\")\n",
    "\n",
    "plt.show()\n",
    "\n",
    "plt.figure(figsize=(12,10)) # figsize\n",
    "\n",
    "sns.boxplot(x=\"school.region\", y=\"total_teachers\", data=res_ncr_armm, showfliers = False)\n",
    "plt.title(\"Number of Teaching Staff for ARMM and NCR\")\n",
    "\n",
    "plt.show()"
   ]
  },
  {
   "cell_type": "code",
   "execution_count": null,
   "metadata": {
    "cell_id": "00053-e43bb4d3-19bf-4cf8-82cc-541fac828c7a",
    "deepnote_cell_type": "code",
    "tags": []
   },
   "outputs": [],
   "source": [
    "# Enrollees vs # of School"
   ]
  },
  {
   "cell_type": "code",
   "execution_count": null,
   "metadata": {
    "cell_id": "00054-69cd23f0-ebfc-4acf-bbbe-eac7b49933fd",
    "deepnote_cell_type": "code",
    "tags": []
   },
   "outputs": [],
   "source": [
    "# Teacher vs Students (st_ratio)"
   ]
  },
  {
   "cell_type": "markdown",
   "metadata": {
    "cell_id": "00037-0d3775eb-4cc2-4743-bd06-f8ed2f6b170d",
    "deepnote_cell_type": "markdown",
    "tags": []
   },
   "source": [
    "## Data Prep"
   ]
  },
  {
   "cell_type": "code",
   "execution_count": null,
   "metadata": {
    "cell_id": "00057-c9ee506a-7319-454a-b08f-f146219db3c2",
    "deepnote_cell_type": "code",
    "tags": []
   },
   "outputs": [],
   "source": [
    "# Take note of the final shape of your dataframe -- it's possible that some of the rows will be eliminated bc they're not present (unique ids doesnt match)\n",
    "# I suggest you guys use the master list as the main reference\n",
    "# Create the master Data frame now\n",
    "# Dataframes needed - Masterlist, Enrolment Master Elementary, MOOE, Rooms, Teachers"
   ]
  },
  {
   "cell_type": "code",
   "execution_count": null,
   "metadata": {
    "cell_id": "00058-abf2ab74-1cff-4b7c-b12e-7e964928c02e",
    "deepnote_cell_type": "code",
    "deepnote_to_be_reexecuted": false,
    "execution_millis": 46,
    "execution_start": 1620909610901,
    "source_hash": "e0ca0d10",
    "tags": []
   },
   "outputs": [],
   "source": [
    "#masterlist, mooe, teachers - school.id\n",
    "#enrol_e, rooms - School ID\n",
    "#save the merge to a dataframe then use that to merge with another df (keep the lines of code para may record kayo ng minemerge niyo)\n",
    "all_data = pd.merge(masterlist, enrol_e, left_on = \"school.id\", right_on = \"School ID\", how = \"left\") "
   ]
  },
  {
   "cell_type": "code",
   "execution_count": null,
   "metadata": {
    "cell_id": "00059-e799ad72-5eba-4f16-bf8c-378565ac8fc3",
    "deepnote_cell_type": "code",
    "deepnote_to_be_reexecuted": false,
    "execution_millis": 8,
    "execution_start": 1620909612430,
    "source_hash": "1552362",
    "tags": []
   },
   "outputs": [
    {
     "data": {
      "text/plain": [
       "(46603, 40)"
      ]
     },
     "execution_count": 117,
     "metadata": {},
     "output_type": "execute_result"
    }
   ],
   "source": [
    "all_data.shape"
   ]
  },
  {
   "cell_type": "code",
   "execution_count": null,
   "metadata": {
    "cell_id": "00060-7604cf62-2558-4a41-a9b9-46015716df21",
    "deepnote_cell_type": "code",
    "deepnote_to_be_reexecuted": false,
    "execution_millis": 20,
    "execution_start": 1620909614055,
    "source_hash": "2308d572",
    "tags": []
   },
   "outputs": [],
   "source": [
    "all_data = pd.merge(all_data, rooms, left_on = \"school.id\", right_on = \"School ID\", how = \"left\") "
   ]
  },
  {
   "cell_type": "code",
   "execution_count": null,
   "metadata": {
    "cell_id": "00061-b4103838-70c5-4442-a0da-c36303649e69",
    "deepnote_cell_type": "code",
    "deepnote_to_be_reexecuted": false,
    "execution_millis": 12,
    "execution_start": 1620909615079,
    "source_hash": "1552362",
    "tags": []
   },
   "outputs": [
    {
     "data": {
      "text/plain": [
       "(46603, 45)"
      ]
     },
     "execution_count": 119,
     "metadata": {},
     "output_type": "execute_result"
    }
   ],
   "source": [
    "all_data.shape"
   ]
  },
  {
   "cell_type": "code",
   "execution_count": null,
   "metadata": {
    "cell_id": "00064-076c06fd-fd08-48b0-9759-0485b6bb1229",
    "deepnote_cell_type": "code",
    "deepnote_to_be_reexecuted": false,
    "execution_millis": 23,
    "execution_start": 1620909621098,
    "source_hash": "c6dad029",
    "tags": []
   },
   "outputs": [],
   "source": [
    "all_data = pd.merge(all_data, teachers, on = \"school.id\", how = \"left\")"
   ]
  },
  {
   "cell_type": "code",
   "execution_count": null,
   "metadata": {
    "cell_id": "00065-b5ae5a23-0277-42cd-82e4-859e5be03024",
    "deepnote_cell_type": "code",
    "deepnote_to_be_reexecuted": false,
    "execution_millis": 14,
    "execution_start": 1620909622486,
    "source_hash": "1552362",
    "tags": []
   },
   "outputs": [
    {
     "data": {
      "text/plain": [
       "(46603, 49)"
      ]
     },
     "execution_count": 121,
     "metadata": {},
     "output_type": "execute_result"
    }
   ],
   "source": [
    "all_data.shape"
   ]
  },
  {
   "cell_type": "code",
   "execution_count": null,
   "metadata": {
    "cell_id": "00062-689e94fb-0873-46bc-ad2c-02c14507c581",
    "deepnote_cell_type": "code",
    "deepnote_to_be_reexecuted": false,
    "execution_millis": 240,
    "execution_start": 1620910567077,
    "source_hash": "7d9b516b",
    "tags": []
   },
   "outputs": [
    {
     "data": {
      "application/vnd.deepnote.dataframe.v2+json": {
       "column_count": 29,
       "columns": [
        {
         "dtype": "float64",
         "name": "school.id",
         "stats": {
          "histogram": [
           {
            "bin_end": 131970.6,
            "bin_start": 46603,
            "count": 5
           },
           {
            "bin_end": 217338.2,
            "bin_start": 131970.6,
            "count": 2
           },
           {
            "bin_end": 302705.80000000005,
            "bin_start": 217338.2,
            "count": 0
           },
           {
            "bin_end": 388073.4,
            "bin_start": 302705.80000000005,
            "count": 0
           },
           {
            "bin_end": 473441,
            "bin_start": 388073.4,
            "count": 0
           },
           {
            "bin_end": 558808.6000000001,
            "bin_start": 473441,
            "count": 0
           },
           {
            "bin_end": 644176.2000000001,
            "bin_start": 558808.6000000001,
            "count": 0
           },
           {
            "bin_end": 729543.8,
            "bin_start": 644176.2000000001,
            "count": 0
           },
           {
            "bin_end": 814911.4,
            "bin_start": 729543.8,
            "count": 0
           },
           {
            "bin_end": 900279,
            "bin_start": 814911.4,
            "count": 1
           }
          ],
          "max": "900279.0",
          "min": "46603.0",
          "nan_count": 0,
          "unique_count": 8
         }
        },
        {
         "dtype": "float64",
         "name": "school.mother.id",
         "stats": {
          "histogram": [
           {
            "bin_end": 90027.9,
            "bin_start": 0,
            "count": 3
           },
           {
            "bin_end": 180055.8,
            "bin_start": 90027.9,
            "count": 4
           },
           {
            "bin_end": 270083.69999999995,
            "bin_start": 180055.8,
            "count": 0
           },
           {
            "bin_end": 360111.6,
            "bin_start": 270083.69999999995,
            "count": 0
           },
           {
            "bin_end": 450139.5,
            "bin_start": 360111.6,
            "count": 0
           },
           {
            "bin_end": 540167.3999999999,
            "bin_start": 450139.5,
            "count": 0
           },
           {
            "bin_end": 630195.2999999999,
            "bin_start": 540167.3999999999,
            "count": 0
           },
           {
            "bin_end": 720223.2,
            "bin_start": 630195.2999999999,
            "count": 0
           },
           {
            "bin_end": 810251.1,
            "bin_start": 720223.2,
            "count": 0
           },
           {
            "bin_end": 900279,
            "bin_start": 810251.1,
            "count": 1
           }
          ],
          "max": "900279.0",
          "min": "0.0",
          "nan_count": 0,
          "unique_count": 8
         }
        },
        {
         "dtype": "float64",
         "name": "School ID_x",
         "stats": {
          "histogram": [
           {
            "bin_end": 26250.2,
            "bin_start": 0,
            "count": 1
           },
           {
            "bin_end": 52500.4,
            "bin_start": 26250.2,
            "count": 2
           },
           {
            "bin_end": 78750.6,
            "bin_start": 52500.4,
            "count": 0
           },
           {
            "bin_end": 105000.8,
            "bin_start": 78750.6,
            "count": 2
           },
           {
            "bin_end": 131251,
            "bin_start": 105000.8,
            "count": 2
           },
           {
            "bin_end": 157501.2,
            "bin_start": 131251,
            "count": 0
           },
           {
            "bin_end": 183751.4,
            "bin_start": 157501.2,
            "count": 0
           },
           {
            "bin_end": 210001.6,
            "bin_start": 183751.4,
            "count": 0
           },
           {
            "bin_end": 236251.80000000002,
            "bin_start": 210001.6,
            "count": 0
           },
           {
            "bin_end": 262502,
            "bin_start": 236251.80000000002,
            "count": 1
           }
          ],
          "max": "262502.0",
          "min": "0.0",
          "nan_count": 0,
          "unique_count": 8
         }
        },
        {
         "dtype": "float64",
         "name": "Kinder Male",
         "stats": {
          "histogram": [
           {
            "bin_end": 4660.3,
            "bin_start": 0,
            "count": 7
           },
           {
            "bin_end": 9320.6,
            "bin_start": 4660.3,
            "count": 0
           },
           {
            "bin_end": 13980.900000000001,
            "bin_start": 9320.6,
            "count": 0
           },
           {
            "bin_end": 18641.2,
            "bin_start": 13980.900000000001,
            "count": 0
           },
           {
            "bin_end": 23301.5,
            "bin_start": 18641.2,
            "count": 0
           },
           {
            "bin_end": 27961.800000000003,
            "bin_start": 23301.5,
            "count": 0
           },
           {
            "bin_end": 32622.100000000002,
            "bin_start": 27961.800000000003,
            "count": 0
           },
           {
            "bin_end": 37282.4,
            "bin_start": 32622.100000000002,
            "count": 0
           },
           {
            "bin_end": 41942.700000000004,
            "bin_start": 37282.4,
            "count": 0
           },
           {
            "bin_end": 46603,
            "bin_start": 41942.700000000004,
            "count": 1
           }
          ],
          "max": "46603.0",
          "min": "0.0",
          "nan_count": 0,
          "unique_count": 8
         }
        },
        {
         "dtype": "float64",
         "name": "Kinder Female",
         "stats": {
          "histogram": [
           {
            "bin_end": 4660.3,
            "bin_start": 0,
            "count": 7
           },
           {
            "bin_end": 9320.6,
            "bin_start": 4660.3,
            "count": 0
           },
           {
            "bin_end": 13980.900000000001,
            "bin_start": 9320.6,
            "count": 0
           },
           {
            "bin_end": 18641.2,
            "bin_start": 13980.900000000001,
            "count": 0
           },
           {
            "bin_end": 23301.5,
            "bin_start": 18641.2,
            "count": 0
           },
           {
            "bin_end": 27961.800000000003,
            "bin_start": 23301.5,
            "count": 0
           },
           {
            "bin_end": 32622.100000000002,
            "bin_start": 27961.800000000003,
            "count": 0
           },
           {
            "bin_end": 37282.4,
            "bin_start": 32622.100000000002,
            "count": 0
           },
           {
            "bin_end": 41942.700000000004,
            "bin_start": 37282.4,
            "count": 0
           },
           {
            "bin_end": 46603,
            "bin_start": 41942.700000000004,
            "count": 1
           }
          ],
          "max": "46603.0",
          "min": "0.0",
          "nan_count": 0,
          "unique_count": 8
         }
        },
        {
         "dtype": "float64",
         "name": "Grade 1 Male",
         "stats": {
          "histogram": [
           {
            "bin_end": 4660.3,
            "bin_start": 0,
            "count": 7
           },
           {
            "bin_end": 9320.6,
            "bin_start": 4660.3,
            "count": 0
           },
           {
            "bin_end": 13980.900000000001,
            "bin_start": 9320.6,
            "count": 0
           },
           {
            "bin_end": 18641.2,
            "bin_start": 13980.900000000001,
            "count": 0
           },
           {
            "bin_end": 23301.5,
            "bin_start": 18641.2,
            "count": 0
           },
           {
            "bin_end": 27961.800000000003,
            "bin_start": 23301.5,
            "count": 0
           },
           {
            "bin_end": 32622.100000000002,
            "bin_start": 27961.800000000003,
            "count": 0
           },
           {
            "bin_end": 37282.4,
            "bin_start": 32622.100000000002,
            "count": 0
           },
           {
            "bin_end": 41942.700000000004,
            "bin_start": 37282.4,
            "count": 0
           },
           {
            "bin_end": 46603,
            "bin_start": 41942.700000000004,
            "count": 1
           }
          ],
          "max": "46603.0",
          "min": "0.0",
          "nan_count": 0,
          "unique_count": 8
         }
        },
        {
         "dtype": "float64",
         "name": "Grade 1 Female",
         "stats": {
          "histogram": [
           {
            "bin_end": 4660.3,
            "bin_start": 0,
            "count": 7
           },
           {
            "bin_end": 9320.6,
            "bin_start": 4660.3,
            "count": 0
           },
           {
            "bin_end": 13980.900000000001,
            "bin_start": 9320.6,
            "count": 0
           },
           {
            "bin_end": 18641.2,
            "bin_start": 13980.900000000001,
            "count": 0
           },
           {
            "bin_end": 23301.5,
            "bin_start": 18641.2,
            "count": 0
           },
           {
            "bin_end": 27961.800000000003,
            "bin_start": 23301.5,
            "count": 0
           },
           {
            "bin_end": 32622.100000000002,
            "bin_start": 27961.800000000003,
            "count": 0
           },
           {
            "bin_end": 37282.4,
            "bin_start": 32622.100000000002,
            "count": 0
           },
           {
            "bin_end": 41942.700000000004,
            "bin_start": 37282.4,
            "count": 0
           },
           {
            "bin_end": 46603,
            "bin_start": 41942.700000000004,
            "count": 1
           }
          ],
          "max": "46603.0",
          "min": "0.0",
          "nan_count": 0,
          "unique_count": 8
         }
        },
        {
         "dtype": "float64",
         "name": "Grade 2 Male",
         "stats": {
          "histogram": [
           {
            "bin_end": 4660.3,
            "bin_start": 0,
            "count": 7
           },
           {
            "bin_end": 9320.6,
            "bin_start": 4660.3,
            "count": 0
           },
           {
            "bin_end": 13980.900000000001,
            "bin_start": 9320.6,
            "count": 0
           },
           {
            "bin_end": 18641.2,
            "bin_start": 13980.900000000001,
            "count": 0
           },
           {
            "bin_end": 23301.5,
            "bin_start": 18641.2,
            "count": 0
           },
           {
            "bin_end": 27961.800000000003,
            "bin_start": 23301.5,
            "count": 0
           },
           {
            "bin_end": 32622.100000000002,
            "bin_start": 27961.800000000003,
            "count": 0
           },
           {
            "bin_end": 37282.4,
            "bin_start": 32622.100000000002,
            "count": 0
           },
           {
            "bin_end": 41942.700000000004,
            "bin_start": 37282.4,
            "count": 0
           },
           {
            "bin_end": 46603,
            "bin_start": 41942.700000000004,
            "count": 1
           }
          ],
          "max": "46603.0",
          "min": "0.0",
          "nan_count": 0,
          "unique_count": 8
         }
        },
        {
         "dtype": "float64",
         "name": "Grade 2 Female",
         "stats": {
          "histogram": [
           {
            "bin_end": 4660.3,
            "bin_start": 0,
            "count": 7
           },
           {
            "bin_end": 9320.6,
            "bin_start": 4660.3,
            "count": 0
           },
           {
            "bin_end": 13980.900000000001,
            "bin_start": 9320.6,
            "count": 0
           },
           {
            "bin_end": 18641.2,
            "bin_start": 13980.900000000001,
            "count": 0
           },
           {
            "bin_end": 23301.5,
            "bin_start": 18641.2,
            "count": 0
           },
           {
            "bin_end": 27961.800000000003,
            "bin_start": 23301.5,
            "count": 0
           },
           {
            "bin_end": 32622.100000000002,
            "bin_start": 27961.800000000003,
            "count": 0
           },
           {
            "bin_end": 37282.4,
            "bin_start": 32622.100000000002,
            "count": 0
           },
           {
            "bin_end": 41942.700000000004,
            "bin_start": 37282.4,
            "count": 0
           },
           {
            "bin_end": 46603,
            "bin_start": 41942.700000000004,
            "count": 1
           }
          ],
          "max": "46603.0",
          "min": "0.0",
          "nan_count": 0,
          "unique_count": 8
         }
        },
        {
         "dtype": "float64",
         "name": "Grade 3 Male",
         "stats": {
          "histogram": [
           {
            "bin_end": 4660.3,
            "bin_start": 0,
            "count": 7
           },
           {
            "bin_end": 9320.6,
            "bin_start": 4660.3,
            "count": 0
           },
           {
            "bin_end": 13980.900000000001,
            "bin_start": 9320.6,
            "count": 0
           },
           {
            "bin_end": 18641.2,
            "bin_start": 13980.900000000001,
            "count": 0
           },
           {
            "bin_end": 23301.5,
            "bin_start": 18641.2,
            "count": 0
           },
           {
            "bin_end": 27961.800000000003,
            "bin_start": 23301.5,
            "count": 0
           },
           {
            "bin_end": 32622.100000000002,
            "bin_start": 27961.800000000003,
            "count": 0
           },
           {
            "bin_end": 37282.4,
            "bin_start": 32622.100000000002,
            "count": 0
           },
           {
            "bin_end": 41942.700000000004,
            "bin_start": 37282.4,
            "count": 0
           },
           {
            "bin_end": 46603,
            "bin_start": 41942.700000000004,
            "count": 1
           }
          ],
          "max": "46603.0",
          "min": "0.0",
          "nan_count": 0,
          "unique_count": 8
         }
        },
        {
         "dtype": "float64",
         "name": "Grade 3 Female",
         "stats": {
          "histogram": [
           {
            "bin_end": 4660.3,
            "bin_start": 0,
            "count": 7
           },
           {
            "bin_end": 9320.6,
            "bin_start": 4660.3,
            "count": 0
           },
           {
            "bin_end": 13980.900000000001,
            "bin_start": 9320.6,
            "count": 0
           },
           {
            "bin_end": 18641.2,
            "bin_start": 13980.900000000001,
            "count": 0
           },
           {
            "bin_end": 23301.5,
            "bin_start": 18641.2,
            "count": 0
           },
           {
            "bin_end": 27961.800000000003,
            "bin_start": 23301.5,
            "count": 0
           },
           {
            "bin_end": 32622.100000000002,
            "bin_start": 27961.800000000003,
            "count": 0
           },
           {
            "bin_end": 37282.4,
            "bin_start": 32622.100000000002,
            "count": 0
           },
           {
            "bin_end": 41942.700000000004,
            "bin_start": 37282.4,
            "count": 0
           },
           {
            "bin_end": 46603,
            "bin_start": 41942.700000000004,
            "count": 1
           }
          ],
          "max": "46603.0",
          "min": "0.0",
          "nan_count": 0,
          "unique_count": 8
         }
        },
        {
         "dtype": "float64",
         "name": "Grade 4 Male",
         "stats": {
          "histogram": [
           {
            "bin_end": 4660.3,
            "bin_start": 0,
            "count": 7
           },
           {
            "bin_end": 9320.6,
            "bin_start": 4660.3,
            "count": 0
           },
           {
            "bin_end": 13980.900000000001,
            "bin_start": 9320.6,
            "count": 0
           },
           {
            "bin_end": 18641.2,
            "bin_start": 13980.900000000001,
            "count": 0
           },
           {
            "bin_end": 23301.5,
            "bin_start": 18641.2,
            "count": 0
           },
           {
            "bin_end": 27961.800000000003,
            "bin_start": 23301.5,
            "count": 0
           },
           {
            "bin_end": 32622.100000000002,
            "bin_start": 27961.800000000003,
            "count": 0
           },
           {
            "bin_end": 37282.4,
            "bin_start": 32622.100000000002,
            "count": 0
           },
           {
            "bin_end": 41942.700000000004,
            "bin_start": 37282.4,
            "count": 0
           },
           {
            "bin_end": 46603,
            "bin_start": 41942.700000000004,
            "count": 1
           }
          ],
          "max": "46603.0",
          "min": "0.0",
          "nan_count": 0,
          "unique_count": 8
         }
        },
        {
         "dtype": "float64",
         "name": "Grade 4 Female",
         "stats": {
          "histogram": [
           {
            "bin_end": 4660.3,
            "bin_start": 0,
            "count": 7
           },
           {
            "bin_end": 9320.6,
            "bin_start": 4660.3,
            "count": 0
           },
           {
            "bin_end": 13980.900000000001,
            "bin_start": 9320.6,
            "count": 0
           },
           {
            "bin_end": 18641.2,
            "bin_start": 13980.900000000001,
            "count": 0
           },
           {
            "bin_end": 23301.5,
            "bin_start": 18641.2,
            "count": 0
           },
           {
            "bin_end": 27961.800000000003,
            "bin_start": 23301.5,
            "count": 0
           },
           {
            "bin_end": 32622.100000000002,
            "bin_start": 27961.800000000003,
            "count": 0
           },
           {
            "bin_end": 37282.4,
            "bin_start": 32622.100000000002,
            "count": 0
           },
           {
            "bin_end": 41942.700000000004,
            "bin_start": 37282.4,
            "count": 0
           },
           {
            "bin_end": 46603,
            "bin_start": 41942.700000000004,
            "count": 1
           }
          ],
          "max": "46603.0",
          "min": "0.0",
          "nan_count": 0,
          "unique_count": 8
         }
        },
        {
         "dtype": "float64",
         "name": "Grade 5 Male",
         "stats": {
          "histogram": [
           {
            "bin_end": 4660.3,
            "bin_start": 0,
            "count": 7
           },
           {
            "bin_end": 9320.6,
            "bin_start": 4660.3,
            "count": 0
           },
           {
            "bin_end": 13980.900000000001,
            "bin_start": 9320.6,
            "count": 0
           },
           {
            "bin_end": 18641.2,
            "bin_start": 13980.900000000001,
            "count": 0
           },
           {
            "bin_end": 23301.5,
            "bin_start": 18641.2,
            "count": 0
           },
           {
            "bin_end": 27961.800000000003,
            "bin_start": 23301.5,
            "count": 0
           },
           {
            "bin_end": 32622.100000000002,
            "bin_start": 27961.800000000003,
            "count": 0
           },
           {
            "bin_end": 37282.4,
            "bin_start": 32622.100000000002,
            "count": 0
           },
           {
            "bin_end": 41942.700000000004,
            "bin_start": 37282.4,
            "count": 0
           },
           {
            "bin_end": 46603,
            "bin_start": 41942.700000000004,
            "count": 1
           }
          ],
          "max": "46603.0",
          "min": "0.0",
          "nan_count": 0,
          "unique_count": 8
         }
        },
        {
         "dtype": "float64",
         "name": "Grade 5 Female",
         "stats": {
          "histogram": [
           {
            "bin_end": 4660.3,
            "bin_start": 0,
            "count": 7
           },
           {
            "bin_end": 9320.6,
            "bin_start": 4660.3,
            "count": 0
           },
           {
            "bin_end": 13980.900000000001,
            "bin_start": 9320.6,
            "count": 0
           },
           {
            "bin_end": 18641.2,
            "bin_start": 13980.900000000001,
            "count": 0
           },
           {
            "bin_end": 23301.5,
            "bin_start": 18641.2,
            "count": 0
           },
           {
            "bin_end": 27961.800000000003,
            "bin_start": 23301.5,
            "count": 0
           },
           {
            "bin_end": 32622.100000000002,
            "bin_start": 27961.800000000003,
            "count": 0
           },
           {
            "bin_end": 37282.4,
            "bin_start": 32622.100000000002,
            "count": 0
           },
           {
            "bin_end": 41942.700000000004,
            "bin_start": 37282.4,
            "count": 0
           },
           {
            "bin_end": 46603,
            "bin_start": 41942.700000000004,
            "count": 1
           }
          ],
          "max": "46603.0",
          "min": "0.0",
          "nan_count": 0,
          "unique_count": 8
         }
        },
        {
         "dtype": "float64",
         "name": "Grade 6 Male",
         "stats": {
          "histogram": [
           {
            "bin_end": 4660.3,
            "bin_start": 0,
            "count": 7
           },
           {
            "bin_end": 9320.6,
            "bin_start": 4660.3,
            "count": 0
           },
           {
            "bin_end": 13980.900000000001,
            "bin_start": 9320.6,
            "count": 0
           },
           {
            "bin_end": 18641.2,
            "bin_start": 13980.900000000001,
            "count": 0
           },
           {
            "bin_end": 23301.5,
            "bin_start": 18641.2,
            "count": 0
           },
           {
            "bin_end": 27961.800000000003,
            "bin_start": 23301.5,
            "count": 0
           },
           {
            "bin_end": 32622.100000000002,
            "bin_start": 27961.800000000003,
            "count": 0
           },
           {
            "bin_end": 37282.4,
            "bin_start": 32622.100000000002,
            "count": 0
           },
           {
            "bin_end": 41942.700000000004,
            "bin_start": 37282.4,
            "count": 0
           },
           {
            "bin_end": 46603,
            "bin_start": 41942.700000000004,
            "count": 1
           }
          ],
          "max": "46603.0",
          "min": "0.0",
          "nan_count": 0,
          "unique_count": 7
         }
        },
        {
         "dtype": "float64",
         "name": "Grade 6 Female",
         "stats": {
          "histogram": [
           {
            "bin_end": 4660.3,
            "bin_start": 0,
            "count": 7
           },
           {
            "bin_end": 9320.6,
            "bin_start": 4660.3,
            "count": 0
           },
           {
            "bin_end": 13980.900000000001,
            "bin_start": 9320.6,
            "count": 0
           },
           {
            "bin_end": 18641.2,
            "bin_start": 13980.900000000001,
            "count": 0
           },
           {
            "bin_end": 23301.5,
            "bin_start": 18641.2,
            "count": 0
           },
           {
            "bin_end": 27961.800000000003,
            "bin_start": 23301.5,
            "count": 0
           },
           {
            "bin_end": 32622.100000000002,
            "bin_start": 27961.800000000003,
            "count": 0
           },
           {
            "bin_end": 37282.4,
            "bin_start": 32622.100000000002,
            "count": 0
           },
           {
            "bin_end": 41942.700000000004,
            "bin_start": 37282.4,
            "count": 0
           },
           {
            "bin_end": 46603,
            "bin_start": 41942.700000000004,
            "count": 1
           }
          ],
          "max": "46603.0",
          "min": "0.0",
          "nan_count": 0,
          "unique_count": 7
         }
        },
        {
         "dtype": "float64",
         "name": "SPED NG Male",
         "stats": {
          "histogram": [
           {
            "bin_end": 4660.3,
            "bin_start": 0,
            "count": 7
           },
           {
            "bin_end": 9320.6,
            "bin_start": 4660.3,
            "count": 0
           },
           {
            "bin_end": 13980.900000000001,
            "bin_start": 9320.6,
            "count": 0
           },
           {
            "bin_end": 18641.2,
            "bin_start": 13980.900000000001,
            "count": 0
           },
           {
            "bin_end": 23301.5,
            "bin_start": 18641.2,
            "count": 0
           },
           {
            "bin_end": 27961.800000000003,
            "bin_start": 23301.5,
            "count": 0
           },
           {
            "bin_end": 32622.100000000002,
            "bin_start": 27961.800000000003,
            "count": 0
           },
           {
            "bin_end": 37282.4,
            "bin_start": 32622.100000000002,
            "count": 0
           },
           {
            "bin_end": 41942.700000000004,
            "bin_start": 37282.4,
            "count": 0
           },
           {
            "bin_end": 46603,
            "bin_start": 41942.700000000004,
            "count": 1
           }
          ],
          "max": "46603.0",
          "min": "0.0",
          "nan_count": 0,
          "unique_count": 5
         }
        },
        {
         "dtype": "float64",
         "name": "SPED NG Female",
         "stats": {
          "histogram": [
           {
            "bin_end": 4660.3,
            "bin_start": 0,
            "count": 7
           },
           {
            "bin_end": 9320.6,
            "bin_start": 4660.3,
            "count": 0
           },
           {
            "bin_end": 13980.900000000001,
            "bin_start": 9320.6,
            "count": 0
           },
           {
            "bin_end": 18641.2,
            "bin_start": 13980.900000000001,
            "count": 0
           },
           {
            "bin_end": 23301.5,
            "bin_start": 18641.2,
            "count": 0
           },
           {
            "bin_end": 27961.800000000003,
            "bin_start": 23301.5,
            "count": 0
           },
           {
            "bin_end": 32622.100000000002,
            "bin_start": 27961.800000000003,
            "count": 0
           },
           {
            "bin_end": 37282.4,
            "bin_start": 32622.100000000002,
            "count": 0
           },
           {
            "bin_end": 41942.700000000004,
            "bin_start": 37282.4,
            "count": 0
           },
           {
            "bin_end": 46603,
            "bin_start": 41942.700000000004,
            "count": 1
           }
          ],
          "max": "46603.0",
          "min": "0.0",
          "nan_count": 0,
          "unique_count": 5
         }
        },
        {
         "dtype": "float64",
         "name": "School ID_y",
         "stats": {
          "histogram": [
           {
            "bin_end": 35605.9,
            "bin_start": 0,
            "count": 1
           },
           {
            "bin_end": 71211.8,
            "bin_start": 35605.9,
            "count": 1
           },
           {
            "bin_end": 106817.70000000001,
            "bin_start": 71211.8,
            "count": 1
           },
           {
            "bin_end": 142423.6,
            "bin_start": 106817.70000000001,
            "count": 3
           },
           {
            "bin_end": 178029.5,
            "bin_start": 142423.6,
            "count": 1
           },
           {
            "bin_end": 213635.40000000002,
            "bin_start": 178029.5,
            "count": 0
           },
           {
            "bin_end": 249241.30000000002,
            "bin_start": 213635.40000000002,
            "count": 0
           },
           {
            "bin_end": 284847.2,
            "bin_start": 249241.30000000002,
            "count": 0
           },
           {
            "bin_end": 320453.10000000003,
            "bin_start": 284847.2,
            "count": 0
           },
           {
            "bin_end": 356059,
            "bin_start": 320453.10000000003,
            "count": 1
           }
          ],
          "max": "356059.0",
          "min": "0.0",
          "nan_count": 0,
          "unique_count": 8
         }
        },
        {
         "dtype": "float64",
         "name": "rooms.standard.academic",
         "stats": {
          "histogram": [
           {
            "bin_end": 4660.3,
            "bin_start": 0,
            "count": 7
           },
           {
            "bin_end": 9320.6,
            "bin_start": 4660.3,
            "count": 0
           },
           {
            "bin_end": 13980.900000000001,
            "bin_start": 9320.6,
            "count": 0
           },
           {
            "bin_end": 18641.2,
            "bin_start": 13980.900000000001,
            "count": 0
           },
           {
            "bin_end": 23301.5,
            "bin_start": 18641.2,
            "count": 0
           },
           {
            "bin_end": 27961.800000000003,
            "bin_start": 23301.5,
            "count": 0
           },
           {
            "bin_end": 32622.100000000002,
            "bin_start": 27961.800000000003,
            "count": 0
           },
           {
            "bin_end": 37282.4,
            "bin_start": 32622.100000000002,
            "count": 0
           },
           {
            "bin_end": 41942.700000000004,
            "bin_start": 37282.4,
            "count": 0
           },
           {
            "bin_end": 46603,
            "bin_start": 41942.700000000004,
            "count": 1
           }
          ],
          "max": "46603.0",
          "min": "0.0",
          "nan_count": 0,
          "unique_count": 8
         }
        },
        {
         "dtype": "float64",
         "name": "rooms.standard.unused",
         "stats": {
          "histogram": [
           {
            "bin_end": 4660.3,
            "bin_start": 0,
            "count": 7
           },
           {
            "bin_end": 9320.6,
            "bin_start": 4660.3,
            "count": 0
           },
           {
            "bin_end": 13980.900000000001,
            "bin_start": 9320.6,
            "count": 0
           },
           {
            "bin_end": 18641.2,
            "bin_start": 13980.900000000001,
            "count": 0
           },
           {
            "bin_end": 23301.5,
            "bin_start": 18641.2,
            "count": 0
           },
           {
            "bin_end": 27961.800000000003,
            "bin_start": 23301.5,
            "count": 0
           },
           {
            "bin_end": 32622.100000000002,
            "bin_start": 27961.800000000003,
            "count": 0
           },
           {
            "bin_end": 37282.4,
            "bin_start": 32622.100000000002,
            "count": 0
           },
           {
            "bin_end": 41942.700000000004,
            "bin_start": 37282.4,
            "count": 0
           },
           {
            "bin_end": 46603,
            "bin_start": 41942.700000000004,
            "count": 1
           }
          ],
          "max": "46603.0",
          "min": "0.0",
          "nan_count": 0,
          "unique_count": 5
         }
        },
        {
         "dtype": "float64",
         "name": "rooms.nonstandard.academic",
         "stats": {
          "histogram": [
           {
            "bin_end": 4660.3,
            "bin_start": 0,
            "count": 7
           },
           {
            "bin_end": 9320.6,
            "bin_start": 4660.3,
            "count": 0
           },
           {
            "bin_end": 13980.900000000001,
            "bin_start": 9320.6,
            "count": 0
           },
           {
            "bin_end": 18641.2,
            "bin_start": 13980.900000000001,
            "count": 0
           },
           {
            "bin_end": 23301.5,
            "bin_start": 18641.2,
            "count": 0
           },
           {
            "bin_end": 27961.800000000003,
            "bin_start": 23301.5,
            "count": 0
           },
           {
            "bin_end": 32622.100000000002,
            "bin_start": 27961.800000000003,
            "count": 0
           },
           {
            "bin_end": 37282.4,
            "bin_start": 32622.100000000002,
            "count": 0
           },
           {
            "bin_end": 41942.700000000004,
            "bin_start": 37282.4,
            "count": 0
           },
           {
            "bin_end": 46603,
            "bin_start": 41942.700000000004,
            "count": 1
           }
          ],
          "max": "46603.0",
          "min": "0.0",
          "nan_count": 0,
          "unique_count": 5
         }
        },
        {
         "dtype": "float64",
         "name": "rooms.nonstandard.unused",
         "stats": {
          "histogram": [
           {
            "bin_end": 4660.3,
            "bin_start": 0,
            "count": 7
           },
           {
            "bin_end": 9320.6,
            "bin_start": 4660.3,
            "count": 0
           },
           {
            "bin_end": 13980.900000000001,
            "bin_start": 9320.6,
            "count": 0
           },
           {
            "bin_end": 18641.2,
            "bin_start": 13980.900000000001,
            "count": 0
           },
           {
            "bin_end": 23301.5,
            "bin_start": 18641.2,
            "count": 0
           },
           {
            "bin_end": 27961.800000000003,
            "bin_start": 23301.5,
            "count": 0
           },
           {
            "bin_end": 32622.100000000002,
            "bin_start": 27961.800000000003,
            "count": 0
           },
           {
            "bin_end": 37282.4,
            "bin_start": 32622.100000000002,
            "count": 0
           },
           {
            "bin_end": 41942.700000000004,
            "bin_start": 37282.4,
            "count": 0
           },
           {
            "bin_end": 46603,
            "bin_start": 41942.700000000004,
            "count": 1
           }
          ],
          "max": "46603.0",
          "min": "0.0",
          "nan_count": 0,
          "unique_count": 5
         }
        },
        {
         "dtype": "float64",
         "name": "teachers.instructor",
         "stats": {
          "histogram": [
           {
            "bin_end": 4660.3,
            "bin_start": 0,
            "count": 7
           },
           {
            "bin_end": 9320.6,
            "bin_start": 4660.3,
            "count": 0
           },
           {
            "bin_end": 13980.900000000001,
            "bin_start": 9320.6,
            "count": 0
           },
           {
            "bin_end": 18641.2,
            "bin_start": 13980.900000000001,
            "count": 0
           },
           {
            "bin_end": 23301.5,
            "bin_start": 18641.2,
            "count": 0
           },
           {
            "bin_end": 27961.800000000003,
            "bin_start": 23301.5,
            "count": 0
           },
           {
            "bin_end": 32622.100000000002,
            "bin_start": 27961.800000000003,
            "count": 0
           },
           {
            "bin_end": 37282.4,
            "bin_start": 32622.100000000002,
            "count": 0
           },
           {
            "bin_end": 41942.700000000004,
            "bin_start": 37282.4,
            "count": 0
           },
           {
            "bin_end": 46603,
            "bin_start": 41942.700000000004,
            "count": 1
           }
          ],
          "max": "46603.0",
          "min": "0.0",
          "nan_count": 0,
          "unique_count": 5
         }
        },
        {
         "dtype": "float64",
         "name": "teachers.mobile",
         "stats": {
          "histogram": [
           {
            "bin_end": 4660.3,
            "bin_start": 0,
            "count": 7
           },
           {
            "bin_end": 9320.6,
            "bin_start": 4660.3,
            "count": 0
           },
           {
            "bin_end": 13980.900000000001,
            "bin_start": 9320.6,
            "count": 0
           },
           {
            "bin_end": 18641.2,
            "bin_start": 13980.900000000001,
            "count": 0
           },
           {
            "bin_end": 23301.5,
            "bin_start": 18641.2,
            "count": 0
           },
           {
            "bin_end": 27961.800000000003,
            "bin_start": 23301.5,
            "count": 0
           },
           {
            "bin_end": 32622.100000000002,
            "bin_start": 27961.800000000003,
            "count": 0
           },
           {
            "bin_end": 37282.4,
            "bin_start": 32622.100000000002,
            "count": 0
           },
           {
            "bin_end": 41942.700000000004,
            "bin_start": 37282.4,
            "count": 0
           },
           {
            "bin_end": 46603,
            "bin_start": 41942.700000000004,
            "count": 1
           }
          ],
          "max": "46603.0",
          "min": "0.0",
          "nan_count": 0,
          "unique_count": 6
         }
        },
        {
         "dtype": "float64",
         "name": "teachers.regular",
         "stats": {
          "histogram": [
           {
            "bin_end": 4660.3,
            "bin_start": 0,
            "count": 7
           },
           {
            "bin_end": 9320.6,
            "bin_start": 4660.3,
            "count": 0
           },
           {
            "bin_end": 13980.900000000001,
            "bin_start": 9320.6,
            "count": 0
           },
           {
            "bin_end": 18641.2,
            "bin_start": 13980.900000000001,
            "count": 0
           },
           {
            "bin_end": 23301.5,
            "bin_start": 18641.2,
            "count": 0
           },
           {
            "bin_end": 27961.800000000003,
            "bin_start": 23301.5,
            "count": 0
           },
           {
            "bin_end": 32622.100000000002,
            "bin_start": 27961.800000000003,
            "count": 0
           },
           {
            "bin_end": 37282.4,
            "bin_start": 32622.100000000002,
            "count": 0
           },
           {
            "bin_end": 41942.700000000004,
            "bin_start": 37282.4,
            "count": 0
           },
           {
            "bin_end": 46603,
            "bin_start": 41942.700000000004,
            "count": 1
           }
          ],
          "max": "46603.0",
          "min": "0.0",
          "nan_count": 0,
          "unique_count": 8
         }
        },
        {
         "dtype": "float64",
         "name": "teachers.sped",
         "stats": {
          "histogram": [
           {
            "bin_end": 4660.3,
            "bin_start": 0,
            "count": 7
           },
           {
            "bin_end": 9320.6,
            "bin_start": 4660.3,
            "count": 0
           },
           {
            "bin_end": 13980.900000000001,
            "bin_start": 9320.6,
            "count": 0
           },
           {
            "bin_end": 18641.2,
            "bin_start": 13980.900000000001,
            "count": 0
           },
           {
            "bin_end": 23301.5,
            "bin_start": 18641.2,
            "count": 0
           },
           {
            "bin_end": 27961.800000000003,
            "bin_start": 23301.5,
            "count": 0
           },
           {
            "bin_end": 32622.100000000002,
            "bin_start": 27961.800000000003,
            "count": 0
           },
           {
            "bin_end": 37282.4,
            "bin_start": 32622.100000000002,
            "count": 0
           },
           {
            "bin_end": 41942.700000000004,
            "bin_start": 37282.4,
            "count": 0
           },
           {
            "bin_end": 46603,
            "bin_start": 41942.700000000004,
            "count": 1
           }
          ],
          "max": "46603.0",
          "min": "0.0",
          "nan_count": 0,
          "unique_count": 5
         }
        },
        {
         "dtype": "float64",
         "name": "sum_e",
         "stats": {
          "histogram": [
           {
            "bin_end": 4660.3,
            "bin_start": 0,
            "count": 6
           },
           {
            "bin_end": 9320.6,
            "bin_start": 4660.3,
            "count": 0
           },
           {
            "bin_end": 13980.900000000001,
            "bin_start": 9320.6,
            "count": 1
           },
           {
            "bin_end": 18641.2,
            "bin_start": 13980.900000000001,
            "count": 0
           },
           {
            "bin_end": 23301.5,
            "bin_start": 18641.2,
            "count": 0
           },
           {
            "bin_end": 27961.800000000003,
            "bin_start": 23301.5,
            "count": 0
           },
           {
            "bin_end": 32622.100000000002,
            "bin_start": 27961.800000000003,
            "count": 0
           },
           {
            "bin_end": 37282.4,
            "bin_start": 32622.100000000002,
            "count": 0
           },
           {
            "bin_end": 41942.700000000004,
            "bin_start": 37282.4,
            "count": 0
           },
           {
            "bin_end": 46603,
            "bin_start": 41942.700000000004,
            "count": 1
           }
          ],
          "max": "46603.0",
          "min": "0.0",
          "nan_count": 0,
          "unique_count": 8
         }
        },
        {
         "dtype": "object",
         "name": "_deepnote_index_column"
        }
       ],
       "row_count": 8,
       "rows_bottom": null,
       "rows_top": [
        {
         "Grade 1 Female": 46603,
         "Grade 1 Male": 46603,
         "Grade 2 Female": 46603,
         "Grade 2 Male": 46603,
         "Grade 3 Female": 46603,
         "Grade 3 Male": 46603,
         "Grade 4 Female": 46603,
         "Grade 4 Male": 46603,
         "Grade 5 Female": 46603,
         "Grade 5 Male": 46603,
         "Grade 6 Female": 46603,
         "Grade 6 Male": 46603,
         "Kinder Female": 46603,
         "Kinder Male": 46603,
         "SPED NG Female": 46603,
         "SPED NG Male": 46603,
         "School ID_x": 46603,
         "School ID_y": 46603,
         "_deepnote_index_column": "count",
         "rooms.nonstandard.academic": 46603,
         "rooms.nonstandard.unused": 46603,
         "rooms.standard.academic": 46603,
         "rooms.standard.unused": 46603,
         "school.id": 46603,
         "school.mother.id": 46603,
         "sum_e": 46603,
         "teachers.instructor": 46603,
         "teachers.mobile": 46603,
         "teachers.regular": 46603,
         "teachers.sped": 46603
        },
        {
         "Grade 1 Female": 23.149582644894107,
         "Grade 1 Male": 25.724395425187218,
         "Grade 2 Female": 22.88498594511083,
         "Grade 2 Male": 25.7378065789756,
         "Grade 3 Female": 24.55378409115293,
         "Grade 3 Male": 28.556530695448792,
         "Grade 4 Female": 23.148445379052852,
         "Grade 4 Male": 25.144561508915736,
         "Grade 5 Female": 21.54726090595026,
         "Grade 5 Male": 22.660644164538763,
         "Grade 6 Female": 20.508679698731843,
         "Grade 6 Male": 20.889492092783726,
         "Kinder Female": 18.939789283951676,
         "Kinder Male": 19.941548827328713,
         "SPED NG Female": 0.30867111559341676,
         "SPED NG Male": 0.4769650022530738,
         "School ID_x": 101950.0953157522,
         "School ID_y": 152829.91101431238,
         "_deepnote_index_column": "mean",
         "rooms.nonstandard.academic": 0.23717357251679078,
         "rooms.nonstandard.unused": 0.003197219063150441,
         "rooms.standard.academic": 8.747398236165054,
         "rooms.standard.unused": 0.1490247408965088,
         "school.id": 154257.99210351266,
         "school.mother.id": 153756.83692036994,
         "sum_e": 305.27976739694867,
         "teachers.instructor": 0.0023389052206939467,
         "teachers.mobile": 0.9361199922751754,
         "teachers.regular": 10.760208570263718,
         "teachers.sped": 0.044224620732570864
        },
        {
         "Grade 1 Female": 41.11831270964352,
         "Grade 1 Male": 45.12387285504856,
         "Grade 2 Female": 40.26331338367614,
         "Grade 2 Male": 44.21211402472285,
         "Grade 3 Female": 42.635824947446544,
         "Grade 3 Male": 47.71868289126858,
         "Grade 4 Female": 40.91719436188219,
         "Grade 4 Male": 43.26360601432502,
         "Grade 5 Female": 38.76432901661388,
         "Grade 5 Male": 40.081560899359374,
         "Grade 6 Female": 37.704203390729674,
         "Grade 6 Male": 38.01795040091068,
         "Kinder Female": 29.736238408702118,
         "Kinder Male": 30.755555334268735,
         "SPED NG Female": 2.927513502538374,
         "SPED NG Male": 4.6312456380583304,
         "School ID_x": 50439.0434471199,
         "School ID_y": 71922.39313980877,
         "_deepnote_index_column": "std",
         "rooms.nonstandard.academic": 1.1250654626483902,
         "rooms.nonstandard.unused": 0.08003631186864826,
         "rooms.standard.academic": 9.82197919519523,
         "rooms.standard.unused": 0.7023418308396489,
         "school.id": 71787.9484533398,
         "school.mother.id": 71401.25090209696,
         "sum_e": 519.8668642969856,
         "teachers.instructor": 0.10261850662337896,
         "teachers.mobile": 2.5620693956966454,
         "teachers.regular": 17.04888074945329,
         "teachers.sped": 0.7111744731753946
        },
        {
         "Grade 1 Female": 0,
         "Grade 1 Male": 0,
         "Grade 2 Female": 0,
         "Grade 2 Male": 0,
         "Grade 3 Female": 0,
         "Grade 3 Male": 0,
         "Grade 4 Female": 0,
         "Grade 4 Male": 0,
         "Grade 5 Female": 0,
         "Grade 5 Male": 0,
         "Grade 6 Female": 0,
         "Grade 6 Male": 0,
         "Kinder Female": 0,
         "Kinder Male": 0,
         "SPED NG Female": 0,
         "SPED NG Male": 0,
         "School ID_x": 0,
         "School ID_y": 0,
         "_deepnote_index_column": "min",
         "rooms.nonstandard.academic": 0,
         "rooms.nonstandard.unused": 0,
         "rooms.standard.academic": 0,
         "rooms.standard.unused": 0,
         "school.id": 100001,
         "school.mother.id": 0,
         "sum_e": 0,
         "teachers.instructor": 0,
         "teachers.mobile": 0,
         "teachers.regular": 0,
         "teachers.sped": 0
        },
        {
         "Grade 1 Female": 5,
         "Grade 1 Male": 5,
         "Grade 2 Female": 5,
         "Grade 2 Male": 5,
         "Grade 3 Female": 4,
         "Grade 3 Male": 6,
         "Grade 4 Female": 4,
         "Grade 4 Male": 4,
         "Grade 5 Female": 1,
         "Grade 5 Male": 2,
         "Grade 6 Female": 0,
         "Grade 6 Male": 0,
         "Kinder Female": 4,
         "Kinder Male": 5,
         "SPED NG Female": 0,
         "SPED NG Male": 0,
         "School ID_x": 103686.5,
         "School ID_y": 111522.5,
         "_deepnote_index_column": "25%",
         "rooms.nonstandard.academic": 0,
         "rooms.nonstandard.unused": 0,
         "rooms.standard.academic": 4,
         "rooms.standard.unused": 0,
         "school.id": 111769.5,
         "school.mother.id": 111664.5,
         "sum_e": 67,
         "teachers.instructor": 0,
         "teachers.mobile": 0,
         "teachers.regular": 3,
         "teachers.sped": 0
        },
        {
         "Grade 1 Female": 13,
         "Grade 1 Male": 14,
         "Grade 2 Female": 13,
         "Grade 2 Male": 14,
         "Grade 3 Female": 14,
         "Grade 3 Male": 16,
         "Grade 4 Female": 13,
         "Grade 4 Male": 14,
         "Grade 5 Female": 12,
         "Grade 5 Male": 13,
         "Grade 6 Female": 11,
         "Grade 6 Male": 11,
         "Kinder Female": 11,
         "Kinder Male": 12,
         "SPED NG Female": 0,
         "SPED NG Male": 0,
         "School ID_x": 115493,
         "School ID_y": 123289,
         "_deepnote_index_column": "50%",
         "rooms.nonstandard.academic": 0,
         "rooms.nonstandard.unused": 0,
         "rooms.standard.academic": 6,
         "rooms.standard.unused": 0,
         "school.id": 123537,
         "school.mother.id": 123403,
         "sum_e": 175,
         "teachers.instructor": 0,
         "teachers.mobile": 0,
         "teachers.regular": 6,
         "teachers.sped": 0
        },
        {
         "Grade 1 Female": 25,
         "Grade 1 Male": 28,
         "Grade 2 Female": 25,
         "Grade 2 Male": 29,
         "Grade 3 Female": 27,
         "Grade 3 Male": 32,
         "Grade 4 Female": 26,
         "Grade 4 Male": 28,
         "Grade 5 Female": 24,
         "Grade 5 Male": 25,
         "Grade 6 Female": 23,
         "Grade 6 Male": 23,
         "Kinder Female": 22,
         "Kinder Male": 23,
         "SPED NG Female": 0,
         "SPED NG Male": 0,
         "School ID_x": 127277.5,
         "School ID_y": 135355.5,
         "_deepnote_index_column": "75%",
         "rooms.nonstandard.academic": 0,
         "rooms.nonstandard.unused": 0,
         "rooms.standard.academic": 10,
         "rooms.standard.unused": 0,
         "school.id": 135606.5,
         "school.mother.id": 135422,
         "sum_e": 335,
         "teachers.instructor": 0,
         "teachers.mobile": 1,
         "teachers.regular": 11,
         "teachers.sped": 0
        },
        {
         "Grade 1 Female": 822,
         "Grade 1 Male": 912,
         "Grade 2 Female": 791,
         "Grade 2 Male": 868,
         "Grade 3 Female": 791,
         "Grade 3 Male": 883,
         "Grade 4 Female": 799,
         "Grade 4 Male": 865,
         "Grade 5 Female": 770,
         "Grade 5 Male": 803,
         "Grade 6 Female": 770,
         "Grade 6 Male": 817,
         "Kinder Female": 597,
         "Kinder Male": 617,
         "SPED NG Female": 126,
         "SPED NG Male": 228,
         "School ID_x": 262502,
         "School ID_y": 356059,
         "_deepnote_index_column": "max",
         "rooms.nonstandard.academic": 74,
         "rooms.nonstandard.unused": 7,
         "rooms.standard.academic": 187,
         "rooms.standard.unused": 15,
         "school.id": 900279,
         "school.mother.id": 900279,
         "sum_e": 10037,
         "teachers.instructor": 10,
         "teachers.mobile": 104,
         "teachers.regular": 472,
         "teachers.sped": 89
        }
       ]
      },
      "text/html": [
       "<div>\n",
       "<style scoped>\n",
       "    .dataframe tbody tr th:only-of-type {\n",
       "        vertical-align: middle;\n",
       "    }\n",
       "\n",
       "    .dataframe tbody tr th {\n",
       "        vertical-align: top;\n",
       "    }\n",
       "\n",
       "    .dataframe thead th {\n",
       "        text-align: right;\n",
       "    }\n",
       "</style>\n",
       "<table border=\"1\" class=\"dataframe\">\n",
       "  <thead>\n",
       "    <tr style=\"text-align: right;\">\n",
       "      <th></th>\n",
       "      <th>school.id</th>\n",
       "      <th>school.mother.id</th>\n",
       "      <th>School ID_x</th>\n",
       "      <th>Kinder Male</th>\n",
       "      <th>Kinder Female</th>\n",
       "      <th>Grade 1 Male</th>\n",
       "      <th>Grade 1 Female</th>\n",
       "      <th>Grade 2 Male</th>\n",
       "      <th>Grade 2 Female</th>\n",
       "      <th>Grade 3 Male</th>\n",
       "      <th>...</th>\n",
       "      <th>School ID_y</th>\n",
       "      <th>rooms.standard.academic</th>\n",
       "      <th>rooms.standard.unused</th>\n",
       "      <th>rooms.nonstandard.academic</th>\n",
       "      <th>rooms.nonstandard.unused</th>\n",
       "      <th>teachers.instructor</th>\n",
       "      <th>teachers.mobile</th>\n",
       "      <th>teachers.regular</th>\n",
       "      <th>teachers.sped</th>\n",
       "      <th>sum_e</th>\n",
       "    </tr>\n",
       "  </thead>\n",
       "  <tbody>\n",
       "    <tr>\n",
       "      <th>count</th>\n",
       "      <td>46603.000000</td>\n",
       "      <td>46603.000000</td>\n",
       "      <td>46603.000000</td>\n",
       "      <td>46603.000000</td>\n",
       "      <td>46603.000000</td>\n",
       "      <td>46603.000000</td>\n",
       "      <td>46603.000000</td>\n",
       "      <td>46603.000000</td>\n",
       "      <td>46603.000000</td>\n",
       "      <td>46603.000000</td>\n",
       "      <td>...</td>\n",
       "      <td>46603.000000</td>\n",
       "      <td>46603.000000</td>\n",
       "      <td>46603.000000</td>\n",
       "      <td>46603.000000</td>\n",
       "      <td>46603.000000</td>\n",
       "      <td>46603.000000</td>\n",
       "      <td>46603.000000</td>\n",
       "      <td>46603.000000</td>\n",
       "      <td>46603.000000</td>\n",
       "      <td>46603.000000</td>\n",
       "    </tr>\n",
       "    <tr>\n",
       "      <th>mean</th>\n",
       "      <td>154257.992104</td>\n",
       "      <td>153756.836920</td>\n",
       "      <td>101950.095316</td>\n",
       "      <td>19.941549</td>\n",
       "      <td>18.939789</td>\n",
       "      <td>25.724395</td>\n",
       "      <td>23.149583</td>\n",
       "      <td>25.737807</td>\n",
       "      <td>22.884986</td>\n",
       "      <td>28.556531</td>\n",
       "      <td>...</td>\n",
       "      <td>152829.911014</td>\n",
       "      <td>8.747398</td>\n",
       "      <td>0.149025</td>\n",
       "      <td>0.237174</td>\n",
       "      <td>0.003197</td>\n",
       "      <td>0.002339</td>\n",
       "      <td>0.936120</td>\n",
       "      <td>10.760209</td>\n",
       "      <td>0.044225</td>\n",
       "      <td>305.279767</td>\n",
       "    </tr>\n",
       "    <tr>\n",
       "      <th>std</th>\n",
       "      <td>71787.948453</td>\n",
       "      <td>71401.250902</td>\n",
       "      <td>50439.043447</td>\n",
       "      <td>30.755555</td>\n",
       "      <td>29.736238</td>\n",
       "      <td>45.123873</td>\n",
       "      <td>41.118313</td>\n",
       "      <td>44.212114</td>\n",
       "      <td>40.263313</td>\n",
       "      <td>47.718683</td>\n",
       "      <td>...</td>\n",
       "      <td>71922.393140</td>\n",
       "      <td>9.821979</td>\n",
       "      <td>0.702342</td>\n",
       "      <td>1.125065</td>\n",
       "      <td>0.080036</td>\n",
       "      <td>0.102619</td>\n",
       "      <td>2.562069</td>\n",
       "      <td>17.048881</td>\n",
       "      <td>0.711174</td>\n",
       "      <td>519.866864</td>\n",
       "    </tr>\n",
       "    <tr>\n",
       "      <th>min</th>\n",
       "      <td>100001.000000</td>\n",
       "      <td>0.000000</td>\n",
       "      <td>0.000000</td>\n",
       "      <td>0.000000</td>\n",
       "      <td>0.000000</td>\n",
       "      <td>0.000000</td>\n",
       "      <td>0.000000</td>\n",
       "      <td>0.000000</td>\n",
       "      <td>0.000000</td>\n",
       "      <td>0.000000</td>\n",
       "      <td>...</td>\n",
       "      <td>0.000000</td>\n",
       "      <td>0.000000</td>\n",
       "      <td>0.000000</td>\n",
       "      <td>0.000000</td>\n",
       "      <td>0.000000</td>\n",
       "      <td>0.000000</td>\n",
       "      <td>0.000000</td>\n",
       "      <td>0.000000</td>\n",
       "      <td>0.000000</td>\n",
       "      <td>0.000000</td>\n",
       "    </tr>\n",
       "    <tr>\n",
       "      <th>25%</th>\n",
       "      <td>111769.500000</td>\n",
       "      <td>111664.500000</td>\n",
       "      <td>103686.500000</td>\n",
       "      <td>5.000000</td>\n",
       "      <td>4.000000</td>\n",
       "      <td>5.000000</td>\n",
       "      <td>5.000000</td>\n",
       "      <td>5.000000</td>\n",
       "      <td>5.000000</td>\n",
       "      <td>6.000000</td>\n",
       "      <td>...</td>\n",
       "      <td>111522.500000</td>\n",
       "      <td>4.000000</td>\n",
       "      <td>0.000000</td>\n",
       "      <td>0.000000</td>\n",
       "      <td>0.000000</td>\n",
       "      <td>0.000000</td>\n",
       "      <td>0.000000</td>\n",
       "      <td>3.000000</td>\n",
       "      <td>0.000000</td>\n",
       "      <td>67.000000</td>\n",
       "    </tr>\n",
       "    <tr>\n",
       "      <th>50%</th>\n",
       "      <td>123537.000000</td>\n",
       "      <td>123403.000000</td>\n",
       "      <td>115493.000000</td>\n",
       "      <td>12.000000</td>\n",
       "      <td>11.000000</td>\n",
       "      <td>14.000000</td>\n",
       "      <td>13.000000</td>\n",
       "      <td>14.000000</td>\n",
       "      <td>13.000000</td>\n",
       "      <td>16.000000</td>\n",
       "      <td>...</td>\n",
       "      <td>123289.000000</td>\n",
       "      <td>6.000000</td>\n",
       "      <td>0.000000</td>\n",
       "      <td>0.000000</td>\n",
       "      <td>0.000000</td>\n",
       "      <td>0.000000</td>\n",
       "      <td>0.000000</td>\n",
       "      <td>6.000000</td>\n",
       "      <td>0.000000</td>\n",
       "      <td>175.000000</td>\n",
       "    </tr>\n",
       "    <tr>\n",
       "      <th>75%</th>\n",
       "      <td>135606.500000</td>\n",
       "      <td>135422.000000</td>\n",
       "      <td>127277.500000</td>\n",
       "      <td>23.000000</td>\n",
       "      <td>22.000000</td>\n",
       "      <td>28.000000</td>\n",
       "      <td>25.000000</td>\n",
       "      <td>29.000000</td>\n",
       "      <td>25.000000</td>\n",
       "      <td>32.000000</td>\n",
       "      <td>...</td>\n",
       "      <td>135355.500000</td>\n",
       "      <td>10.000000</td>\n",
       "      <td>0.000000</td>\n",
       "      <td>0.000000</td>\n",
       "      <td>0.000000</td>\n",
       "      <td>0.000000</td>\n",
       "      <td>1.000000</td>\n",
       "      <td>11.000000</td>\n",
       "      <td>0.000000</td>\n",
       "      <td>335.000000</td>\n",
       "    </tr>\n",
       "    <tr>\n",
       "      <th>max</th>\n",
       "      <td>900279.000000</td>\n",
       "      <td>900279.000000</td>\n",
       "      <td>262502.000000</td>\n",
       "      <td>617.000000</td>\n",
       "      <td>597.000000</td>\n",
       "      <td>912.000000</td>\n",
       "      <td>822.000000</td>\n",
       "      <td>868.000000</td>\n",
       "      <td>791.000000</td>\n",
       "      <td>883.000000</td>\n",
       "      <td>...</td>\n",
       "      <td>356059.000000</td>\n",
       "      <td>187.000000</td>\n",
       "      <td>15.000000</td>\n",
       "      <td>74.000000</td>\n",
       "      <td>7.000000</td>\n",
       "      <td>10.000000</td>\n",
       "      <td>104.000000</td>\n",
       "      <td>472.000000</td>\n",
       "      <td>89.000000</td>\n",
       "      <td>10037.000000</td>\n",
       "    </tr>\n",
       "  </tbody>\n",
       "</table>\n",
       "<p>8 rows × 29 columns</p>\n",
       "</div>"
      ],
      "text/plain": [
       "           school.id  school.mother.id    School ID_x   Kinder Male  \\\n",
       "count   46603.000000      46603.000000   46603.000000  46603.000000   \n",
       "mean   154257.992104     153756.836920  101950.095316     19.941549   \n",
       "std     71787.948453      71401.250902   50439.043447     30.755555   \n",
       "min    100001.000000          0.000000       0.000000      0.000000   \n",
       "25%    111769.500000     111664.500000  103686.500000      5.000000   \n",
       "50%    123537.000000     123403.000000  115493.000000     12.000000   \n",
       "75%    135606.500000     135422.000000  127277.500000     23.000000   \n",
       "max    900279.000000     900279.000000  262502.000000    617.000000   \n",
       "\n",
       "       Kinder Female  Grade 1 Male  Grade 1 Female  Grade 2 Male  \\\n",
       "count   46603.000000  46603.000000    46603.000000  46603.000000   \n",
       "mean       18.939789     25.724395       23.149583     25.737807   \n",
       "std        29.736238     45.123873       41.118313     44.212114   \n",
       "min         0.000000      0.000000        0.000000      0.000000   \n",
       "25%         4.000000      5.000000        5.000000      5.000000   \n",
       "50%        11.000000     14.000000       13.000000     14.000000   \n",
       "75%        22.000000     28.000000       25.000000     29.000000   \n",
       "max       597.000000    912.000000      822.000000    868.000000   \n",
       "\n",
       "       Grade 2 Female  Grade 3 Male  ...    School ID_y  \\\n",
       "count    46603.000000  46603.000000  ...   46603.000000   \n",
       "mean        22.884986     28.556531  ...  152829.911014   \n",
       "std         40.263313     47.718683  ...   71922.393140   \n",
       "min          0.000000      0.000000  ...       0.000000   \n",
       "25%          5.000000      6.000000  ...  111522.500000   \n",
       "50%         13.000000     16.000000  ...  123289.000000   \n",
       "75%         25.000000     32.000000  ...  135355.500000   \n",
       "max        791.000000    883.000000  ...  356059.000000   \n",
       "\n",
       "       rooms.standard.academic  rooms.standard.unused  \\\n",
       "count             46603.000000           46603.000000   \n",
       "mean                  8.747398               0.149025   \n",
       "std                   9.821979               0.702342   \n",
       "min                   0.000000               0.000000   \n",
       "25%                   4.000000               0.000000   \n",
       "50%                   6.000000               0.000000   \n",
       "75%                  10.000000               0.000000   \n",
       "max                 187.000000              15.000000   \n",
       "\n",
       "       rooms.nonstandard.academic  rooms.nonstandard.unused  \\\n",
       "count                46603.000000              46603.000000   \n",
       "mean                     0.237174                  0.003197   \n",
       "std                      1.125065                  0.080036   \n",
       "min                      0.000000                  0.000000   \n",
       "25%                      0.000000                  0.000000   \n",
       "50%                      0.000000                  0.000000   \n",
       "75%                      0.000000                  0.000000   \n",
       "max                     74.000000                  7.000000   \n",
       "\n",
       "       teachers.instructor  teachers.mobile  teachers.regular  teachers.sped  \\\n",
       "count         46603.000000     46603.000000      46603.000000   46603.000000   \n",
       "mean              0.002339         0.936120         10.760209       0.044225   \n",
       "std               0.102619         2.562069         17.048881       0.711174   \n",
       "min               0.000000         0.000000          0.000000       0.000000   \n",
       "25%               0.000000         0.000000          3.000000       0.000000   \n",
       "50%               0.000000         0.000000          6.000000       0.000000   \n",
       "75%               0.000000         1.000000         11.000000       0.000000   \n",
       "max              10.000000       104.000000        472.000000      89.000000   \n",
       "\n",
       "              sum_e  \n",
       "count  46603.000000  \n",
       "mean     305.279767  \n",
       "std      519.866864  \n",
       "min        0.000000  \n",
       "25%       67.000000  \n",
       "50%      175.000000  \n",
       "75%      335.000000  \n",
       "max    10037.000000  \n",
       "\n",
       "[8 rows x 29 columns]"
      ]
     },
     "execution_count": 138,
     "metadata": {},
     "output_type": "execute_result"
    }
   ],
   "source": [
    "all_data.describe()"
   ]
  },
  {
   "cell_type": "code",
   "execution_count": null,
   "metadata": {
    "cell_id": "00062-c58c3615-c03d-4c45-b73f-ff3a1ebba089",
    "deepnote_cell_type": "code",
    "deepnote_to_be_reexecuted": false,
    "execution_millis": 45,
    "execution_start": 1620910541860,
    "source_hash": "eba25730",
    "tags": []
   },
   "outputs": [],
   "source": [
    "# Replace all NaN values with 0 and make sure the columns you'll use is numeric (data type)\n",
    "all_data = all_data.fillna(0)"
   ]
  },
  {
   "cell_type": "code",
   "execution_count": null,
   "metadata": {
    "cell_id": "00064-c7bc8447-d024-49bd-a3ee-84a9658334d7",
    "deepnote_cell_type": "code",
    "deepnote_to_be_reexecuted": false,
    "execution_millis": 799,
    "execution_start": 1620914040081,
    "source_hash": "393bc6e5",
    "tags": []
   },
   "outputs": [
    {
     "data": {
      "image/png": "[encoded data removed]",
      "text/plain": [
       "<Figure size 864x720 with 1 Axes>"
      ]
     },
     "metadata": {
      "image/png": {
       "height": 609,
       "width": 727
      }
     },
     "output_type": "display_data"
    },
    {
     "data": {
      "image/png": "[encoded data removed]",
      "text/plain": [
       "<Figure size 864x720 with 1 Axes>"
      ]
     },
     "metadata": {
      "image/png": {
       "height": 609,
       "width": 726
      }
     },
     "output_type": "display_data"
    }
   ],
   "source": [
    "# Feature Engineering Section\n",
    "#1. Total number of elementary students   sum_e\n",
    "#2. Total number of Male elementary students  male_e\n",
    "#3. Total number of Female elementary students female_e\n",
    "#4. Total number of Teachers sum_teacher\n",
    "#5. number of Students to 1 teacher st_ratio\n",
    "#6. Other ratios you guys want to have \n",
    "\n",
    "#summing number of Primary Students\n",
    "all_data[\"sum_e\"] = all_data[\"Kinder Male\"]+all_data[\"Kinder Female\"]+all_data[\"Grade 1 Male\"]+all_data[\"Grade 1 Female\"]+all_data[\"Grade 2 Male\"]+all_data[\"Grade 2 Female\"]+all_data[\"Grade 3 Male\"]+all_data[\"Grade 3 Female\"]+all_data[\"Grade 4 Female\"]+all_data[\"Grade 4 Male\"]+all_data[\"Grade 6 Male\"]+all_data[\"Grade 5 Male\"]+all_data[\"Grade 5 Female\"]+all_data[\"Grade 6 Female\"]+all_data[\"SPED NG Male\"]+all_data[\"SPED NG Female\"]\n",
    "all_data[\"male_e\"] = all_data[\"Kinder Male\"]+all_data[\"Grade 1 Male\"]+all_data[\"Grade 2 Male\"]+all_data[\"Grade 3 Male\"]+all_data[\"Grade 4 Male\"]+all_data[\"Grade 5 Male\"]+all_data[\"Grade 6 Male\"]+all_data[\"SPED NG Male\"]\n",
    "all_data[\"female_e\"] = all_data[\"Kinder Female\"]+all_data[\"Grade 1 Female\"]+all_data[\"Grade 2 Female\"]+all_data[\"Grade 3 Female\"]+all_data[\"Grade 4 Female\"]+all_data[\"Grade 5 Female\"]+all_data[\"Grade 6 Female\"]+all_data[\"SPED NG Female\"]\n",
    "all_data[\"sum_teacher\"] = all_data[\"teachers.instructor\"]+all_data[\"teachers.mobile\"]+all_data[\"teachers.regular\"]+all_data[\"teachers.sped\"]\n",
    "all_data[\"st_ratio\"] = all_data[\"sum_e\"]/all_data[\"sum_teacher\"]\n",
    "all_data[\"st_ratio\"]\n",
    "\n",
    "\n",
    "#Slices only the region and ratio data\n",
    "nc_ar_ratio = all_data[[\"school.region\", \"st_ratio\"]]\n",
    "#Sliced only ARMM and NCR regions\n",
    "nc_ar_ratio = nc_ar_ratio[(nc_ar_ratio[\"school.region\"] == \"NCR\") | (nc_ar_ratio[\"school.region\"] == \"ARMM\")]\n",
    "\n",
    "nc_ar_ratio = nc_ar_ratio[(nc_ar_ratio[\"st_ratio\"] > 20) & (nc_ar_ratio[\"st_ratio\"] < 100000)]\n",
    "\n",
    "\n",
    "\n",
    "plt.figure(figsize=(12,10)) # figsize\n",
    "\n",
    "sns.boxplot(x=\"school.region\", y=\"st_ratio\", data=nc_ar_ratio, showfliers = False)\n",
    "plt.title(\"Student Teacher Ratio for ARMM and NCR\")\n",
    "\n",
    "plt.show()\n",
    "\n",
    "# you add the showfliers = False parameter\n",
    "\n",
    "\n",
    "\n",
    "plt.figure(figsize=(12,10)) # figsize\n",
    "\n",
    "sns.boxplot(x=\"school.region\", y=\"st_ratio\", data=nc_ar_ratio, showfliers = True)\n",
    "plt.title(\"Student Teacher Ratio for ARMM and NCR\")\n",
    "\n",
    "plt.show()\n",
    "\n",
    "# you add the showfliers = False parameter\n",
    "\n",
    "\n"
   ]
  },
  {
   "cell_type": "code",
   "execution_count": null,
   "metadata": {
    "cell_id": "00069-42f2392c-511c-4864-b46e-acd5f785e134",
    "deepnote_cell_type": "code",
    "deepnote_to_be_reexecuted": false,
    "execution_millis": 57,
    "execution_start": 1620914127770,
    "source_hash": "de3354d7",
    "tags": []
   },
   "outputs": [
    {
     "data": {
      "application/vnd.deepnote.dataframe.v2+json": {
       "column_count": 2,
       "columns": [
        {
         "dtype": "object",
         "name": "school.region",
         "stats": {
          "categories": [
           {
            "count": 5,
            "name": "ARMM"
           }
          ],
          "nan_count": 0,
          "unique_count": 1
         }
        },
        {
         "dtype": "float64",
         "name": "st_ratio",
         "stats": {
          "histogram": [
           {
            "bin_end": 34.766666666666666,
            "bin_start": 29.666666666666668,
            "count": 2
           },
           {
            "bin_end": 39.86666666666667,
            "bin_start": 34.766666666666666,
            "count": 1
           },
           {
            "bin_end": 44.96666666666667,
            "bin_start": 39.86666666666667,
            "count": 0
           },
           {
            "bin_end": 50.06666666666666,
            "bin_start": 44.96666666666667,
            "count": 1
           },
           {
            "bin_end": 55.16666666666667,
            "bin_start": 50.06666666666666,
            "count": 0
           },
           {
            "bin_end": 60.266666666666666,
            "bin_start": 55.16666666666667,
            "count": 0
           },
           {
            "bin_end": 65.36666666666666,
            "bin_start": 60.266666666666666,
            "count": 0
           },
           {
            "bin_end": 70.46666666666667,
            "bin_start": 65.36666666666666,
            "count": 0
           },
           {
            "bin_end": 75.56666666666666,
            "bin_start": 70.46666666666667,
            "count": 0
           },
           {
            "bin_end": 80.66666666666667,
            "bin_start": 75.56666666666666,
            "count": 1
           }
          ],
          "max": "80.66666666666667",
          "min": "29.666666666666668",
          "nan_count": 0,
          "unique_count": 5
         }
        },
        {
         "dtype": "int64",
         "name": "_deepnote_index_column"
        }
       ],
       "row_count": 5,
       "rows_bottom": null,
       "rows_top": [
        {
         "_deepnote_index_column": 34437,
         "school.region": "ARMM",
         "st_ratio": 30.5
        },
        {
         "_deepnote_index_column": 34438,
         "school.region": "ARMM",
         "st_ratio": 37.333333333333336
        },
        {
         "_deepnote_index_column": 34441,
         "school.region": "ARMM",
         "st_ratio": 29.666666666666668
        },
        {
         "_deepnote_index_column": 34442,
         "school.region": "ARMM",
         "st_ratio": 47.25
        },
        {
         "_deepnote_index_column": 34443,
         "school.region": "ARMM",
         "st_ratio": 80.66666666666667
        }
       ]
      },
      "text/html": [
       "<div>\n",
       "<style scoped>\n",
       "    .dataframe tbody tr th:only-of-type {\n",
       "        vertical-align: middle;\n",
       "    }\n",
       "\n",
       "    .dataframe tbody tr th {\n",
       "        vertical-align: top;\n",
       "    }\n",
       "\n",
       "    .dataframe thead th {\n",
       "        text-align: right;\n",
       "    }\n",
       "</style>\n",
       "<table border=\"1\" class=\"dataframe\">\n",
       "  <thead>\n",
       "    <tr style=\"text-align: right;\">\n",
       "      <th></th>\n",
       "      <th>school.region</th>\n",
       "      <th>st_ratio</th>\n",
       "    </tr>\n",
       "  </thead>\n",
       "  <tbody>\n",
       "    <tr>\n",
       "      <th>34437</th>\n",
       "      <td>ARMM</td>\n",
       "      <td>30.500000</td>\n",
       "    </tr>\n",
       "    <tr>\n",
       "      <th>34438</th>\n",
       "      <td>ARMM</td>\n",
       "      <td>37.333333</td>\n",
       "    </tr>\n",
       "    <tr>\n",
       "      <th>34441</th>\n",
       "      <td>ARMM</td>\n",
       "      <td>29.666667</td>\n",
       "    </tr>\n",
       "    <tr>\n",
       "      <th>34442</th>\n",
       "      <td>ARMM</td>\n",
       "      <td>47.250000</td>\n",
       "    </tr>\n",
       "    <tr>\n",
       "      <th>34443</th>\n",
       "      <td>ARMM</td>\n",
       "      <td>80.666667</td>\n",
       "    </tr>\n",
       "  </tbody>\n",
       "</table>\n",
       "</div>"
      ],
      "text/plain": [
       "      school.region   st_ratio\n",
       "34437          ARMM  30.500000\n",
       "34438          ARMM  37.333333\n",
       "34441          ARMM  29.666667\n",
       "34442          ARMM  47.250000\n",
       "34443          ARMM  80.666667"
      ]
     },
     "execution_count": 197,
     "metadata": {},
     "output_type": "execute_result"
    }
   ],
   "source": [
    "nc_ar_ratio.head()"
   ]
  },
  {
   "cell_type": "code",
   "execution_count": null,
   "metadata": {
    "cell_id": "00069-3cd9ce53-3c57-4fde-9d6d-a0834159b751",
    "deepnote_cell_type": "code",
    "deepnote_to_be_reexecuted": false,
    "execution_millis": 4,
    "execution_start": 1620914190349,
    "source_hash": "25395c1a",
    "tags": []
   },
   "outputs": [
    {
     "data": {
      "application/vnd.deepnote.dataframe.v2+json": {
       "column_count": 2,
       "columns": [
        {
         "dtype": "object",
         "name": "school.region",
         "stats": {
          "categories": [
           {
            "count": 1900,
            "name": "ARMM"
           }
          ],
          "nan_count": 0,
          "unique_count": 1
         }
        },
        {
         "dtype": "float64",
         "name": "st_ratio",
         "stats": {
          "histogram": [
           {
            "bin_end": 78.39,
            "bin_start": 20.1,
            "count": 1463
           },
           {
            "bin_end": 136.68,
            "bin_start": 78.39,
            "count": 292
           },
           {
            "bin_end": 194.97,
            "bin_start": 136.68,
            "count": 79
           },
           {
            "bin_end": 253.26,
            "bin_start": 194.97,
            "count": 36
           },
           {
            "bin_end": 311.55,
            "bin_start": 253.26,
            "count": 17
           },
           {
            "bin_end": 369.84000000000003,
            "bin_start": 311.55,
            "count": 4
           },
           {
            "bin_end": 428.13,
            "bin_start": 369.84000000000003,
            "count": 4
           },
           {
            "bin_end": 486.42,
            "bin_start": 428.13,
            "count": 2
           },
           {
            "bin_end": 544.71,
            "bin_start": 486.42,
            "count": 2
           },
           {
            "bin_end": 603,
            "bin_start": 544.71,
            "count": 1
           }
          ],
          "max": "603.0",
          "min": "20.1",
          "nan_count": 0,
          "unique_count": 1090
         }
        },
        {
         "dtype": "int64",
         "name": "_deepnote_index_column"
        }
       ],
       "row_count": 1900,
       "rows_bottom": [
        {
         "_deepnote_index_column": 35741,
         "school.region": "ARMM",
         "st_ratio": 29.4
        },
        {
         "_deepnote_index_column": 36534,
         "school.region": "ARMM",
         "st_ratio": 29.333333333333332
        },
        {
         "_deepnote_index_column": 35893,
         "school.region": "ARMM",
         "st_ratio": 29.214285714285715
        },
        {
         "_deepnote_index_column": 36479,
         "school.region": "ARMM",
         "st_ratio": 29.2
        },
        {
         "_deepnote_index_column": 36304,
         "school.region": "ARMM",
         "st_ratio": 29.176470588235293
        },
        {
         "_deepnote_index_column": 36525,
         "school.region": "ARMM",
         "st_ratio": 29.166666666666668
        },
        {
         "_deepnote_index_column": 36059,
         "school.region": "ARMM",
         "st_ratio": 29.166666666666668
        },
        {
         "_deepnote_index_column": 34832,
         "school.region": "ARMM",
         "st_ratio": 29.153846153846153
        },
        {
         "_deepnote_index_column": 35047,
         "school.region": "ARMM",
         "st_ratio": 29.125
        },
        {
         "_deepnote_index_column": 34572,
         "school.region": "ARMM",
         "st_ratio": 29
        },
        {
         "_deepnote_index_column": 35124,
         "school.region": "ARMM",
         "st_ratio": 29
        },
        {
         "_deepnote_index_column": 35553,
         "school.region": "ARMM",
         "st_ratio": 29
        },
        {
         "_deepnote_index_column": 36319,
         "school.region": "ARMM",
         "st_ratio": 29
        },
        {
         "_deepnote_index_column": 34708,
         "school.region": "ARMM",
         "st_ratio": 29
        },
        {
         "_deepnote_index_column": 35486,
         "school.region": "ARMM",
         "st_ratio": 29
        },
        {
         "_deepnote_index_column": 36252,
         "school.region": "ARMM",
         "st_ratio": 29
        },
        {
         "_deepnote_index_column": 35831,
         "school.region": "ARMM",
         "st_ratio": 29
        },
        {
         "_deepnote_index_column": 34579,
         "school.region": "ARMM",
         "st_ratio": 28.88888888888889
        },
        {
         "_deepnote_index_column": 34500,
         "school.region": "ARMM",
         "st_ratio": 28.88888888888889
        },
        {
         "_deepnote_index_column": 35976,
         "school.region": "ARMM",
         "st_ratio": 28.88235294117647
        },
        {
         "_deepnote_index_column": 35450,
         "school.region": "ARMM",
         "st_ratio": 28.8
        },
        {
         "_deepnote_index_column": 35194,
         "school.region": "ARMM",
         "st_ratio": 28.77777777777778
        },
        {
         "_deepnote_index_column": 36387,
         "school.region": "ARMM",
         "st_ratio": 28.77777777777778
        },
        {
         "_deepnote_index_column": 35058,
         "school.region": "ARMM",
         "st_ratio": 28.75
        },
        {
         "_deepnote_index_column": 34839,
         "school.region": "ARMM",
         "st_ratio": 28.636363636363637
        },
        {
         "_deepnote_index_column": 35984,
         "school.region": "ARMM",
         "st_ratio": 28.625
        },
        {
         "_deepnote_index_column": 35256,
         "school.region": "ARMM",
         "st_ratio": 28.61111111111111
        },
        {
         "_deepnote_index_column": 34951,
         "school.region": "ARMM",
         "st_ratio": 28.571428571428573
        },
        {
         "_deepnote_index_column": 34704,
         "school.region": "ARMM",
         "st_ratio": 28.571428571428573
        },
        {
         "_deepnote_index_column": 35013,
         "school.region": "ARMM",
         "st_ratio": 28.5
        },
        {
         "_deepnote_index_column": 34916,
         "school.region": "ARMM",
         "st_ratio": 28.5
        },
        {
         "_deepnote_index_column": 34975,
         "school.region": "ARMM",
         "st_ratio": 28.428571428571427
        },
        {
         "_deepnote_index_column": 35991,
         "school.region": "ARMM",
         "st_ratio": 28.42105263157895
        },
        {
         "_deepnote_index_column": 34768,
         "school.region": "ARMM",
         "st_ratio": 28.375
        },
        {
         "_deepnote_index_column": 35012,
         "school.region": "ARMM",
         "st_ratio": 28.307692307692307
        },
        {
         "_deepnote_index_column": 34495,
         "school.region": "ARMM",
         "st_ratio": 28.3
        },
        {
         "_deepnote_index_column": 35993,
         "school.region": "ARMM",
         "st_ratio": 28.22222222222222
        },
        {
         "_deepnote_index_column": 34571,
         "school.region": "ARMM",
         "st_ratio": 28.2
        },
        {
         "_deepnote_index_column": 36032,
         "school.region": "ARMM",
         "st_ratio": 28.166666666666668
        },
        {
         "_deepnote_index_column": 36088,
         "school.region": "ARMM",
         "st_ratio": 28.157894736842106
        },
        {
         "_deepnote_index_column": 36155,
         "school.region": "ARMM",
         "st_ratio": 28.047619047619047
        },
        {
         "_deepnote_index_column": 35904,
         "school.region": "ARMM",
         "st_ratio": 28.035714285714285
        },
        {
         "_deepnote_index_column": 35551,
         "school.region": "ARMM",
         "st_ratio": 28
        },
        {
         "_deepnote_index_column": 35303,
         "school.region": "ARMM",
         "st_ratio": 28
        },
        {
         "_deepnote_index_column": 36443,
         "school.region": "ARMM",
         "st_ratio": 28
        },
        {
         "_deepnote_index_column": 34598,
         "school.region": "ARMM",
         "st_ratio": 28
        },
        {
         "_deepnote_index_column": 35202,
         "school.region": "ARMM",
         "st_ratio": 28
        },
        {
         "_deepnote_index_column": 35908,
         "school.region": "ARMM",
         "st_ratio": 28
        },
        {
         "_deepnote_index_column": 36625,
         "school.region": "ARMM",
         "st_ratio": 28
        },
        {
         "_deepnote_index_column": 34716,
         "school.region": "ARMM",
         "st_ratio": 27.952380952380953
        },
        {
         "_deepnote_index_column": 36106,
         "school.region": "ARMM",
         "st_ratio": 27.95
        },
        {
         "_deepnote_index_column": 35966,
         "school.region": "ARMM",
         "st_ratio": 27.894736842105264
        },
        {
         "_deepnote_index_column": 34767,
         "school.region": "ARMM",
         "st_ratio": 27.875
        },
        {
         "_deepnote_index_column": 35997,
         "school.region": "ARMM",
         "st_ratio": 27.863636363636363
        },
        {
         "_deepnote_index_column": 34590,
         "school.region": "ARMM",
         "st_ratio": 27.76923076923077
        },
        {
         "_deepnote_index_column": 34905,
         "school.region": "ARMM",
         "st_ratio": 27.75
        },
        {
         "_deepnote_index_column": 35538,
         "school.region": "ARMM",
         "st_ratio": 27.75
        },
        {
         "_deepnote_index_column": 34766,
         "school.region": "ARMM",
         "st_ratio": 27.75
        },
        {
         "_deepnote_index_column": 34840,
         "school.region": "ARMM",
         "st_ratio": 27.666666666666668
        },
        {
         "_deepnote_index_column": 36232,
         "school.region": "ARMM",
         "st_ratio": 27.666666666666668
        },
        {
         "_deepnote_index_column": 34617,
         "school.region": "ARMM",
         "st_ratio": 27.625
        },
        {
         "_deepnote_index_column": 35954,
         "school.region": "ARMM",
         "st_ratio": 27.526315789473685
        },
        {
         "_deepnote_index_column": 34954,
         "school.region": "ARMM",
         "st_ratio": 27.5
        },
        {
         "_deepnote_index_column": 36334,
         "school.region": "ARMM",
         "st_ratio": 27.5
        },
        {
         "_deepnote_index_column": 35068,
         "school.region": "ARMM",
         "st_ratio": 27.5
        },
        {
         "_deepnote_index_column": 35338,
         "school.region": "ARMM",
         "st_ratio": 27.5
        },
        {
         "_deepnote_index_column": 36170,
         "school.region": "ARMM",
         "st_ratio": 27.5
        },
        {
         "_deepnote_index_column": 34927,
         "school.region": "ARMM",
         "st_ratio": 27.4
        },
        {
         "_deepnote_index_column": 34729,
         "school.region": "ARMM",
         "st_ratio": 27.4
        },
        {
         "_deepnote_index_column": 35318,
         "school.region": "ARMM",
         "st_ratio": 27.4
        },
        {
         "_deepnote_index_column": 35654,
         "school.region": "ARMM",
         "st_ratio": 27.4
        },
        {
         "_deepnote_index_column": 36043,
         "school.region": "ARMM",
         "st_ratio": 27.357142857142858
        },
        {
         "_deepnote_index_column": 34705,
         "school.region": "ARMM",
         "st_ratio": 27.333333333333332
        },
        {
         "_deepnote_index_column": 34562,
         "school.region": "ARMM",
         "st_ratio": 27.333333333333332
        },
        {
         "_deepnote_index_column": 36099,
         "school.region": "ARMM",
         "st_ratio": 27.285714285714285
        },
        {
         "_deepnote_index_column": 36184,
         "school.region": "ARMM",
         "st_ratio": 27.25
        },
        {
         "_deepnote_index_column": 36645,
         "school.region": "ARMM",
         "st_ratio": 27.2
        },
        {
         "_deepnote_index_column": 34512,
         "school.region": "ARMM",
         "st_ratio": 27.166666666666668
        },
        {
         "_deepnote_index_column": 34577,
         "school.region": "ARMM",
         "st_ratio": 27.1
        },
        {
         "_deepnote_index_column": 35874,
         "school.region": "ARMM",
         "st_ratio": 27
        },
        {
         "_deepnote_index_column": 35085,
         "school.region": "ARMM",
         "st_ratio": 27
        },
        {
         "_deepnote_index_column": 35764,
         "school.region": "ARMM",
         "st_ratio": 27
        },
        {
         "_deepnote_index_column": 34531,
         "school.region": "ARMM",
         "st_ratio": 26.952380952380953
        },
        {
         "_deepnote_index_column": 34973,
         "school.region": "ARMM",
         "st_ratio": 26.88888888888889
        },
        {
         "_deepnote_index_column": 35067,
         "school.region": "ARMM",
         "st_ratio": 26.875
        },
        {
         "_deepnote_index_column": 34864,
         "school.region": "ARMM",
         "st_ratio": 26.875
        },
        {
         "_deepnote_index_column": 35822,
         "school.region": "ARMM",
         "st_ratio": 26.875
        },
        {
         "_deepnote_index_column": 36309,
         "school.region": "ARMM",
         "st_ratio": 26.875
        },
        {
         "_deepnote_index_column": 35979,
         "school.region": "ARMM",
         "st_ratio": 26.857142857142858
        },
        {
         "_deepnote_index_column": 34608,
         "school.region": "ARMM",
         "st_ratio": 26.833333333333332
        },
        {
         "_deepnote_index_column": 36039,
         "school.region": "ARMM",
         "st_ratio": 26.8
        },
        {
         "_deepnote_index_column": 35229,
         "school.region": "ARMM",
         "st_ratio": 26.75
        },
        {
         "_deepnote_index_column": 34477,
         "school.region": "ARMM",
         "st_ratio": 26.6
        },
        {
         "_deepnote_index_column": 35034,
         "school.region": "ARMM",
         "st_ratio": 26.6
        },
        {
         "_deepnote_index_column": 36462,
         "school.region": "ARMM",
         "st_ratio": 26.555555555555557
        },
        {
         "_deepnote_index_column": 34744,
         "school.region": "ARMM",
         "st_ratio": 26.545454545454547
        },
        {
         "_deepnote_index_column": 35482,
         "school.region": "ARMM",
         "st_ratio": 26.5
        },
        {
         "_deepnote_index_column": 35022,
         "school.region": "ARMM",
         "st_ratio": 26.5
        },
        {
         "_deepnote_index_column": 35169,
         "school.region": "ARMM",
         "st_ratio": 26.444444444444443
        },
        {
         "_deepnote_index_column": 35753,
         "school.region": "ARMM",
         "st_ratio": 26.41176470588235
        },
        {
         "_deepnote_index_column": 35272,
         "school.region": "ARMM",
         "st_ratio": 26.22222222222222
        },
        {
         "_deepnote_index_column": 36163,
         "school.region": "ARMM",
         "st_ratio": 26.166666666666668
        },
        {
         "_deepnote_index_column": 34524,
         "school.region": "ARMM",
         "st_ratio": 26
        },
        {
         "_deepnote_index_column": 35316,
         "school.region": "ARMM",
         "st_ratio": 26
        },
        {
         "_deepnote_index_column": 36460,
         "school.region": "ARMM",
         "st_ratio": 26
        },
        {
         "_deepnote_index_column": 35200,
         "school.region": "ARMM",
         "st_ratio": 25.962962962962962
        },
        {
         "_deepnote_index_column": 36350,
         "school.region": "ARMM",
         "st_ratio": 25.941176470588236
        },
        {
         "_deepnote_index_column": 35886,
         "school.region": "ARMM",
         "st_ratio": 25.705882352941178
        },
        {
         "_deepnote_index_column": 34935,
         "school.region": "ARMM",
         "st_ratio": 25.7
        },
        {
         "_deepnote_index_column": 36598,
         "school.region": "ARMM",
         "st_ratio": 25.636363636363637
        },
        {
         "_deepnote_index_column": 35499,
         "school.region": "ARMM",
         "st_ratio": 25.6
        },
        {
         "_deepnote_index_column": 35424,
         "school.region": "ARMM",
         "st_ratio": 25.5
        },
        {
         "_deepnote_index_column": 34882,
         "school.region": "ARMM",
         "st_ratio": 25.5
        },
        {
         "_deepnote_index_column": 36279,
         "school.region": "ARMM",
         "st_ratio": 25.466666666666665
        },
        {
         "_deepnote_index_column": 35130,
         "school.region": "ARMM",
         "st_ratio": 25.454545454545453
        },
        {
         "_deepnote_index_column": 35208,
         "school.region": "ARMM",
         "st_ratio": 25.4
        },
        {
         "_deepnote_index_column": 35530,
         "school.region": "ARMM",
         "st_ratio": 25.375
        },
        {
         "_deepnote_index_column": 35449,
         "school.region": "ARMM",
         "st_ratio": 25.375
        },
        {
         "_deepnote_index_column": 35183,
         "school.region": "ARMM",
         "st_ratio": 25.31578947368421
        },
        {
         "_deepnote_index_column": 35495,
         "school.region": "ARMM",
         "st_ratio": 25.25
        },
        {
         "_deepnote_index_column": 35056,
         "school.region": "ARMM",
         "st_ratio": 25.19047619047619
        },
        {
         "_deepnote_index_column": 36336,
         "school.region": "ARMM",
         "st_ratio": 25.181818181818183
        },
        {
         "_deepnote_index_column": 34457,
         "school.region": "ARMM",
         "st_ratio": 25.181818181818183
        },
        {
         "_deepnote_index_column": 34604,
         "school.region": "ARMM",
         "st_ratio": 25.166666666666668
        },
        {
         "_deepnote_index_column": 35663,
         "school.region": "ARMM",
         "st_ratio": 25.153846153846153
        },
        {
         "_deepnote_index_column": 36275,
         "school.region": "ARMM",
         "st_ratio": 25.142857142857142
        },
        {
         "_deepnote_index_column": 35869,
         "school.region": "ARMM",
         "st_ratio": 25.11111111111111
        },
        {
         "_deepnote_index_column": 36140,
         "school.region": "ARMM",
         "st_ratio": 25.11111111111111
        },
        {
         "_deepnote_index_column": 34846,
         "school.region": "ARMM",
         "st_ratio": 25.11111111111111
        },
        {
         "_deepnote_index_column": 34944,
         "school.region": "ARMM",
         "st_ratio": 25
        },
        {
         "_deepnote_index_column": 34665,
         "school.region": "ARMM",
         "st_ratio": 25
        },
        {
         "_deepnote_index_column": 35081,
         "school.region": "ARMM",
         "st_ratio": 25
        },
        {
         "_deepnote_index_column": 35960,
         "school.region": "ARMM",
         "st_ratio": 25
        },
        {
         "_deepnote_index_column": 34506,
         "school.region": "ARMM",
         "st_ratio": 25
        },
        {
         "_deepnote_index_column": 35028,
         "school.region": "ARMM",
         "st_ratio": 25
        },
        {
         "_deepnote_index_column": 35514,
         "school.region": "ARMM",
         "st_ratio": 25
        },
        {
         "_deepnote_index_column": 36369,
         "school.region": "ARMM",
         "st_ratio": 25
        },
        {
         "_deepnote_index_column": 36526,
         "school.region": "ARMM",
         "st_ratio": 25
        },
        {
         "_deepnote_index_column": 35310,
         "school.region": "ARMM",
         "st_ratio": 24.9375
        },
        {
         "_deepnote_index_column": 36524,
         "school.region": "ARMM",
         "st_ratio": 24.928571428571427
        },
        {
         "_deepnote_index_column": 35179,
         "school.region": "ARMM",
         "st_ratio": 24.875
        },
        {
         "_deepnote_index_column": 36394,
         "school.region": "ARMM",
         "st_ratio": 24.833333333333332
        },
        {
         "_deepnote_index_column": 34615,
         "school.region": "ARMM",
         "st_ratio": 24.818181818181817
        },
        {
         "_deepnote_index_column": 36349,
         "school.region": "ARMM",
         "st_ratio": 24.77777777777778
        },
        {
         "_deepnote_index_column": 35687,
         "school.region": "ARMM",
         "st_ratio": 24.757575757575758
        },
        {
         "_deepnote_index_column": 36162,
         "school.region": "ARMM",
         "st_ratio": 24.666666666666668
        },
        {
         "_deepnote_index_column": 35494,
         "school.region": "ARMM",
         "st_ratio": 24.666666666666668
        },
        {
         "_deepnote_index_column": 35086,
         "school.region": "ARMM",
         "st_ratio": 24.666666666666668
        },
        {
         "_deepnote_index_column": 34634,
         "school.region": "ARMM",
         "st_ratio": 24.615384615384617
        },
        {
         "_deepnote_index_column": 35463,
         "school.region": "ARMM",
         "st_ratio": 24.6
        },
        {
         "_deepnote_index_column": 36582,
         "school.region": "ARMM",
         "st_ratio": 24.6
        },
        {
         "_deepnote_index_column": 35136,
         "school.region": "ARMM",
         "st_ratio": 24.583333333333332
        },
        {
         "_deepnote_index_column": 35191,
         "school.region": "ARMM",
         "st_ratio": 24.57894736842105
        },
        {
         "_deepnote_index_column": 36325,
         "school.region": "ARMM",
         "st_ratio": 24.333333333333332
        },
        {
         "_deepnote_index_column": 35708,
         "school.region": "ARMM",
         "st_ratio": 24.181818181818183
        },
        {
         "_deepnote_index_column": 36089,
         "school.region": "ARMM",
         "st_ratio": 24.166666666666668
        },
        {
         "_deepnote_index_column": 36423,
         "school.region": "ARMM",
         "st_ratio": 24.125
        },
        {
         "_deepnote_index_column": 34936,
         "school.region": "ARMM",
         "st_ratio": 24.083333333333332
        },
        {
         "_deepnote_index_column": 35877,
         "school.region": "ARMM",
         "st_ratio": 24.057142857142857
        },
        {
         "_deepnote_index_column": 34793,
         "school.region": "ARMM",
         "st_ratio": 24
        },
        {
         "_deepnote_index_column": 35569,
         "school.region": "ARMM",
         "st_ratio": 24
        },
        {
         "_deepnote_index_column": 35927,
         "school.region": "ARMM",
         "st_ratio": 24
        },
        {
         "_deepnote_index_column": 35698,
         "school.region": "ARMM",
         "st_ratio": 24
        },
        {
         "_deepnote_index_column": 35505,
         "school.region": "ARMM",
         "st_ratio": 23.9
        },
        {
         "_deepnote_index_column": 34986,
         "school.region": "ARMM",
         "st_ratio": 23.846153846153847
        },
        {
         "_deepnote_index_column": 34648,
         "school.region": "ARMM",
         "st_ratio": 23.846153846153847
        },
        {
         "_deepnote_index_column": 36067,
         "school.region": "ARMM",
         "st_ratio": 23.625
        },
        {
         "_deepnote_index_column": 35839,
         "school.region": "ARMM",
         "st_ratio": 23.625
        },
        {
         "_deepnote_index_column": 36521,
         "school.region": "ARMM",
         "st_ratio": 23.59090909090909
        },
        {
         "_deepnote_index_column": 35974,
         "school.region": "ARMM",
         "st_ratio": 23.58823529411765
        },
        {
         "_deepnote_index_column": 35180,
         "school.region": "ARMM",
         "st_ratio": 23.571428571428573
        },
        {
         "_deepnote_index_column": 36164,
         "school.region": "ARMM",
         "st_ratio": 23.545454545454547
        },
        {
         "_deepnote_index_column": 36363,
         "school.region": "ARMM",
         "st_ratio": 23.46153846153846
        },
        {
         "_deepnote_index_column": 34567,
         "school.region": "ARMM",
         "st_ratio": 23.444444444444443
        },
        {
         "_deepnote_index_column": 35198,
         "school.region": "ARMM",
         "st_ratio": 23.428571428571427
        },
        {
         "_deepnote_index_column": 36618,
         "school.region": "ARMM",
         "st_ratio": 23.333333333333332
        },
        {
         "_deepnote_index_column": 34550,
         "school.region": "ARMM",
         "st_ratio": 23.333333333333332
        },
        {
         "_deepnote_index_column": 35879,
         "school.region": "ARMM",
         "st_ratio": 23.333333333333332
        },
        {
         "_deepnote_index_column": 36229,
         "school.region": "ARMM",
         "st_ratio": 23.333333333333332
        },
        {
         "_deepnote_index_column": 35560,
         "school.region": "ARMM",
         "st_ratio": 23.333333333333332
        },
        {
         "_deepnote_index_column": 35767,
         "school.region": "ARMM",
         "st_ratio": 23.333333333333332
        },
        {
         "_deepnote_index_column": 35552,
         "school.region": "ARMM",
         "st_ratio": 23.333333333333332
        },
        {
         "_deepnote_index_column": 36444,
         "school.region": "ARMM",
         "st_ratio": 23.238095238095237
        },
        {
         "_deepnote_index_column": 35810,
         "school.region": "ARMM",
         "st_ratio": 23.23076923076923
        },
        {
         "_deepnote_index_column": 36310,
         "school.region": "ARMM",
         "st_ratio": 23.22222222222222
        },
        {
         "_deepnote_index_column": 35176,
         "school.region": "ARMM",
         "st_ratio": 23.181818181818183
        },
        {
         "_deepnote_index_column": 36364,
         "school.region": "ARMM",
         "st_ratio": 23.166666666666668
        },
        {
         "_deepnote_index_column": 34504,
         "school.region": "ARMM",
         "st_ratio": 23.1
        },
        {
         "_deepnote_index_column": 36420,
         "school.region": "ARMM",
         "st_ratio": 23.083333333333332
        },
        {
         "_deepnote_index_column": 36433,
         "school.region": "ARMM",
         "st_ratio": 23
        },
        {
         "_deepnote_index_column": 36144,
         "school.region": "ARMM",
         "st_ratio": 23
        },
        {
         "_deepnote_index_column": 36563,
         "school.region": "ARMM",
         "st_ratio": 23
        },
        {
         "_deepnote_index_column": 36178,
         "school.region": "ARMM",
         "st_ratio": 23
        },
        {
         "_deepnote_index_column": 36576,
         "school.region": "ARMM",
         "st_ratio": 22.848484848484848
        },
        {
         "_deepnote_index_column": 34613,
         "school.region": "ARMM",
         "st_ratio": 22.727272727272727
        },
        {
         "_deepnote_index_column": 35149,
         "school.region": "ARMM",
         "st_ratio": 22.666666666666668
        },
        {
         "_deepnote_index_column": 36122,
         "school.region": "ARMM",
         "st_ratio": 22.615384615384617
        },
        {
         "_deepnote_index_column": 35593,
         "school.region": "ARMM",
         "st_ratio": 22.5
        },
        {
         "_deepnote_index_column": 34594,
         "school.region": "ARMM",
         "st_ratio": 22.5
        },
        {
         "_deepnote_index_column": 35635,
         "school.region": "ARMM",
         "st_ratio": 22.5
        },
        {
         "_deepnote_index_column": 34449,
         "school.region": "ARMM",
         "st_ratio": 22.5
        },
        {
         "_deepnote_index_column": 35539,
         "school.region": "ARMM",
         "st_ratio": 22.5
        },
        {
         "_deepnote_index_column": 36314,
         "school.region": "ARMM",
         "st_ratio": 22.375
        },
        {
         "_deepnote_index_column": 36097,
         "school.region": "ARMM",
         "st_ratio": 22.333333333333332
        },
        {
         "_deepnote_index_column": 36159,
         "school.region": "ARMM",
         "st_ratio": 22.294117647058822
        },
        {
         "_deepnote_index_column": 34861,
         "school.region": "ARMM",
         "st_ratio": 22.25
        },
        {
         "_deepnote_index_column": 34712,
         "school.region": "ARMM",
         "st_ratio": 22.2
        },
        {
         "_deepnote_index_column": 34547,
         "school.region": "ARMM",
         "st_ratio": 22.181818181818183
        },
        {
         "_deepnote_index_column": 36578,
         "school.region": "ARMM",
         "st_ratio": 22.125
        },
        {
         "_deepnote_index_column": 36564,
         "school.region": "ARMM",
         "st_ratio": 22.12
        },
        {
         "_deepnote_index_column": 35070,
         "school.region": "ARMM",
         "st_ratio": 22
        },
        {
         "_deepnote_index_column": 36605,
         "school.region": "ARMM",
         "st_ratio": 22
        },
        {
         "_deepnote_index_column": 36358,
         "school.region": "ARMM",
         "st_ratio": 21.92
        },
        {
         "_deepnote_index_column": 36546,
         "school.region": "ARMM",
         "st_ratio": 21.916666666666668
        },
        {
         "_deepnote_index_column": 35972,
         "school.region": "ARMM",
         "st_ratio": 21.894736842105264
        },
        {
         "_deepnote_index_column": 35703,
         "school.region": "ARMM",
         "st_ratio": 21.857142857142858
        },
        {
         "_deepnote_index_column": 34490,
         "school.region": "ARMM",
         "st_ratio": 21.785714285714285
        },
        {
         "_deepnote_index_column": 34913,
         "school.region": "ARMM",
         "st_ratio": 21.714285714285715
        },
        {
         "_deepnote_index_column": 36542,
         "school.region": "ARMM",
         "st_ratio": 21.705882352941178
        },
        {
         "_deepnote_index_column": 35061,
         "school.region": "ARMM",
         "st_ratio": 21.666666666666668
        },
        {
         "_deepnote_index_column": 34737,
         "school.region": "ARMM",
         "st_ratio": 21.615384615384617
        },
        {
         "_deepnote_index_column": 34943,
         "school.region": "ARMM",
         "st_ratio": 21.59090909090909
        },
        {
         "_deepnote_index_column": 35010,
         "school.region": "ARMM",
         "st_ratio": 21.53846153846154
        },
        {
         "_deepnote_index_column": 35978,
         "school.region": "ARMM",
         "st_ratio": 21.454545454545453
        },
        {
         "_deepnote_index_column": 35226,
         "school.region": "ARMM",
         "st_ratio": 21.333333333333332
        },
        {
         "_deepnote_index_column": 35694,
         "school.region": "ARMM",
         "st_ratio": 21.333333333333332
        },
        {
         "_deepnote_index_column": 35637,
         "school.region": "ARMM",
         "st_ratio": 21.31578947368421
        },
        {
         "_deepnote_index_column": 35706,
         "school.region": "ARMM",
         "st_ratio": 21.3
        },
        {
         "_deepnote_index_column": 34978,
         "school.region": "ARMM",
         "st_ratio": 21.266666666666666
        },
        {
         "_deepnote_index_column": 34810,
         "school.region": "ARMM",
         "st_ratio": 21.071428571428573
        },
        {
         "_deepnote_index_column": 34488,
         "school.region": "ARMM",
         "st_ratio": 21.071428571428573
        },
        {
         "_deepnote_index_column": 35575,
         "school.region": "ARMM",
         "st_ratio": 21
        },
        {
         "_deepnote_index_column": 34595,
         "school.region": "ARMM",
         "st_ratio": 21
        },
        {
         "_deepnote_index_column": 35673,
         "school.region": "ARMM",
         "st_ratio": 21
        },
        {
         "_deepnote_index_column": 35596,
         "school.region": "ARMM",
         "st_ratio": 21
        },
        {
         "_deepnote_index_column": 35941,
         "school.region": "ARMM",
         "st_ratio": 21
        },
        {
         "_deepnote_index_column": 35309,
         "school.region": "ARMM",
         "st_ratio": 21
        },
        {
         "_deepnote_index_column": 34540,
         "school.region": "ARMM",
         "st_ratio": 21
        },
        {
         "_deepnote_index_column": 34993,
         "school.region": "ARMM",
         "st_ratio": 20.76923076923077
        },
        {
         "_deepnote_index_column": 35900,
         "school.region": "ARMM",
         "st_ratio": 20.714285714285715
        },
        {
         "_deepnote_index_column": 35953,
         "school.region": "ARMM",
         "st_ratio": 20.666666666666668
        },
        {
         "_deepnote_index_column": 34858,
         "school.region": "ARMM",
         "st_ratio": 20.653846153846153
        },
        {
         "_deepnote_index_column": 36001,
         "school.region": "ARMM",
         "st_ratio": 20.625
        },
        {
         "_deepnote_index_column": 35021,
         "school.region": "ARMM",
         "st_ratio": 20.62162162162162
        },
        {
         "_deepnote_index_column": 34664,
         "school.region": "ARMM",
         "st_ratio": 20.571428571428573
        },
        {
         "_deepnote_index_column": 34663,
         "school.region": "ARMM",
         "st_ratio": 20.555555555555557
        },
        {
         "_deepnote_index_column": 35464,
         "school.region": "ARMM",
         "st_ratio": 20.5
        },
        {
         "_deepnote_index_column": 36607,
         "school.region": "ARMM",
         "st_ratio": 20.25
        },
        {
         "_deepnote_index_column": 35647,
         "school.region": "ARMM",
         "st_ratio": 20.25
        },
        {
         "_deepnote_index_column": 36220,
         "school.region": "ARMM",
         "st_ratio": 20.1
        }
       ],
       "rows_top": [
        {
         "_deepnote_index_column": 36227,
         "school.region": "ARMM",
         "st_ratio": 603
        },
        {
         "_deepnote_index_column": 34957,
         "school.region": "ARMM",
         "st_ratio": 523.5
        },
        {
         "_deepnote_index_column": 35445,
         "school.region": "ARMM",
         "st_ratio": 498
        },
        {
         "_deepnote_index_column": 35947,
         "school.region": "ARMM",
         "st_ratio": 476
        },
        {
         "_deepnote_index_column": 36228,
         "school.region": "ARMM",
         "st_ratio": 431
        },
        {
         "_deepnote_index_column": 35458,
         "school.region": "ARMM",
         "st_ratio": 421
        },
        {
         "_deepnote_index_column": 36323,
         "school.region": "ARMM",
         "st_ratio": 393
        },
        {
         "_deepnote_index_column": 35801,
         "school.region": "ARMM",
         "st_ratio": 385
        },
        {
         "_deepnote_index_column": 36069,
         "school.region": "ARMM",
         "st_ratio": 372
        },
        {
         "_deepnote_index_column": 36079,
         "school.region": "ARMM",
         "st_ratio": 360
        },
        {
         "_deepnote_index_column": 36587,
         "school.region": "ARMM",
         "st_ratio": 330
        },
        {
         "_deepnote_index_column": 35091,
         "school.region": "ARMM",
         "st_ratio": 326
        },
        {
         "_deepnote_index_column": 35133,
         "school.region": "ARMM",
         "st_ratio": 316
        },
        {
         "_deepnote_index_column": 35508,
         "school.region": "ARMM",
         "st_ratio": 305
        },
        {
         "_deepnote_index_column": 35540,
         "school.region": "ARMM",
         "st_ratio": 298
        },
        {
         "_deepnote_index_column": 36344,
         "school.region": "ARMM",
         "st_ratio": 297
        },
        {
         "_deepnote_index_column": 35307,
         "school.region": "ARMM",
         "st_ratio": 286
        },
        {
         "_deepnote_index_column": 34685,
         "school.region": "ARMM",
         "st_ratio": 282
        },
        {
         "_deepnote_index_column": 34555,
         "school.region": "ARMM",
         "st_ratio": 282
        },
        {
         "_deepnote_index_column": 36175,
         "school.region": "ARMM",
         "st_ratio": 279
        },
        {
         "_deepnote_index_column": 35461,
         "school.region": "ARMM",
         "st_ratio": 278
        },
        {
         "_deepnote_index_column": 36329,
         "school.region": "ARMM",
         "st_ratio": 274
        },
        {
         "_deepnote_index_column": 34482,
         "school.region": "ARMM",
         "st_ratio": 273
        },
        {
         "_deepnote_index_column": 34746,
         "school.region": "ARMM",
         "st_ratio": 272
        },
        {
         "_deepnote_index_column": 36075,
         "school.region": "ARMM",
         "st_ratio": 271
        },
        {
         "_deepnote_index_column": 35268,
         "school.region": "ARMM",
         "st_ratio": 270
        },
        {
         "_deepnote_index_column": 35770,
         "school.region": "ARMM",
         "st_ratio": 266
        },
        {
         "_deepnote_index_column": 35920,
         "school.region": "ARMM",
         "st_ratio": 263
        },
        {
         "_deepnote_index_column": 35699,
         "school.region": "ARMM",
         "st_ratio": 257
        },
        {
         "_deepnote_index_column": 34673,
         "school.region": "ARMM",
         "st_ratio": 257
        },
        {
         "_deepnote_index_column": 34493,
         "school.region": "ARMM",
         "st_ratio": 253
        },
        {
         "_deepnote_index_column": 36539,
         "school.region": "ARMM",
         "st_ratio": 252
        },
        {
         "_deepnote_index_column": 35648,
         "school.region": "ARMM",
         "st_ratio": 252
        },
        {
         "_deepnote_index_column": 35646,
         "school.region": "ARMM",
         "st_ratio": 250
        },
        {
         "_deepnote_index_column": 35368,
         "school.region": "ARMM",
         "st_ratio": 249
        },
        {
         "_deepnote_index_column": 34788,
         "school.region": "ARMM",
         "st_ratio": 242
        },
        {
         "_deepnote_index_column": 36017,
         "school.region": "ARMM",
         "st_ratio": 241
        },
        {
         "_deepnote_index_column": 36071,
         "school.region": "ARMM",
         "st_ratio": 240.33333333333334
        },
        {
         "_deepnote_index_column": 35684,
         "school.region": "ARMM",
         "st_ratio": 240
        },
        {
         "_deepnote_index_column": 34713,
         "school.region": "ARMM",
         "st_ratio": 238
        },
        {
         "_deepnote_index_column": 34632,
         "school.region": "ARMM",
         "st_ratio": 230.5
        },
        {
         "_deepnote_index_column": 35712,
         "school.region": "ARMM",
         "st_ratio": 227
        },
        {
         "_deepnote_index_column": 34800,
         "school.region": "ARMM",
         "st_ratio": 224.5
        },
        {
         "_deepnote_index_column": 36481,
         "school.region": "ARMM",
         "st_ratio": 224
        },
        {
         "_deepnote_index_column": 36466,
         "school.region": "ARMM",
         "st_ratio": 223
        },
        {
         "_deepnote_index_column": 35525,
         "school.region": "ARMM",
         "st_ratio": 223
        },
        {
         "_deepnote_index_column": 34956,
         "school.region": "ARMM",
         "st_ratio": 222
        },
        {
         "_deepnote_index_column": 36543,
         "school.region": "ARMM",
         "st_ratio": 220
        },
        {
         "_deepnote_index_column": 36233,
         "school.region": "ARMM",
         "st_ratio": 220
        },
        {
         "_deepnote_index_column": 36429,
         "school.region": "ARMM",
         "st_ratio": 218
        },
        {
         "_deepnote_index_column": 36562,
         "school.region": "ARMM",
         "st_ratio": 215
        },
        {
         "_deepnote_index_column": 35332,
         "school.region": "ARMM",
         "st_ratio": 215
        },
        {
         "_deepnote_index_column": 34644,
         "school.region": "ARMM",
         "st_ratio": 215
        },
        {
         "_deepnote_index_column": 34565,
         "school.region": "ARMM",
         "st_ratio": 214
        },
        {
         "_deepnote_index_column": 36381,
         "school.region": "ARMM",
         "st_ratio": 211
        },
        {
         "_deepnote_index_column": 35933,
         "school.region": "ARMM",
         "st_ratio": 209
        },
        {
         "_deepnote_index_column": 35276,
         "school.region": "ARMM",
         "st_ratio": 205
        },
        {
         "_deepnote_index_column": 34924,
         "school.region": "ARMM",
         "st_ratio": 202
        },
        {
         "_deepnote_index_column": 36600,
         "school.region": "ARMM",
         "st_ratio": 202
        },
        {
         "_deepnote_index_column": 34485,
         "school.region": "ARMM",
         "st_ratio": 200
        },
        {
         "_deepnote_index_column": 35797,
         "school.region": "ARMM",
         "st_ratio": 199
        },
        {
         "_deepnote_index_column": 36400,
         "school.region": "ARMM",
         "st_ratio": 198
        },
        {
         "_deepnote_index_column": 35282,
         "school.region": "ARMM",
         "st_ratio": 198
        },
        {
         "_deepnote_index_column": 34686,
         "school.region": "ARMM",
         "st_ratio": 197
        },
        {
         "_deepnote_index_column": 36073,
         "school.region": "ARMM",
         "st_ratio": 196
        },
        {
         "_deepnote_index_column": 35279,
         "school.region": "ARMM",
         "st_ratio": 195
        },
        {
         "_deepnote_index_column": 35095,
         "school.region": "ARMM",
         "st_ratio": 194
        },
        {
         "_deepnote_index_column": 35328,
         "school.region": "ARMM",
         "st_ratio": 190.5
        },
        {
         "_deepnote_index_column": 36485,
         "school.region": "ARMM",
         "st_ratio": 189
        },
        {
         "_deepnote_index_column": 34472,
         "school.region": "ARMM",
         "st_ratio": 187.33333333333334
        },
        {
         "_deepnote_index_column": 34475,
         "school.region": "ARMM",
         "st_ratio": 185
        },
        {
         "_deepnote_index_column": 35255,
         "school.region": "ARMM",
         "st_ratio": 185
        },
        {
         "_deepnote_index_column": 35336,
         "school.region": "ARMM",
         "st_ratio": 184
        },
        {
         "_deepnote_index_column": 36613,
         "school.region": "ARMM",
         "st_ratio": 182.5
        },
        {
         "_deepnote_index_column": 34700,
         "school.region": "ARMM",
         "st_ratio": 181.5
        },
        {
         "_deepnote_index_column": 35562,
         "school.region": "ARMM",
         "st_ratio": 181
        },
        {
         "_deepnote_index_column": 35507,
         "school.region": "ARMM",
         "st_ratio": 180
        },
        {
         "_deepnote_index_column": 35416,
         "school.region": "ARMM",
         "st_ratio": 180
        },
        {
         "_deepnote_index_column": 36574,
         "school.region": "ARMM",
         "st_ratio": 178
        },
        {
         "_deepnote_index_column": 35962,
         "school.region": "ARMM",
         "st_ratio": 178
        },
        {
         "_deepnote_index_column": 34994,
         "school.region": "ARMM",
         "st_ratio": 177
        },
        {
         "_deepnote_index_column": 35818,
         "school.region": "ARMM",
         "st_ratio": 176
        },
        {
         "_deepnote_index_column": 35668,
         "school.region": "ARMM",
         "st_ratio": 175.5
        },
        {
         "_deepnote_index_column": 36545,
         "school.region": "ARMM",
         "st_ratio": 172
        },
        {
         "_deepnote_index_column": 36045,
         "school.region": "ARMM",
         "st_ratio": 171.33333333333334
        },
        {
         "_deepnote_index_column": 35867,
         "school.region": "ARMM",
         "st_ratio": 170.5
        },
        {
         "_deepnote_index_column": 34640,
         "school.region": "ARMM",
         "st_ratio": 170
        },
        {
         "_deepnote_index_column": 34701,
         "school.region": "ARMM",
         "st_ratio": 170
        },
        {
         "_deepnote_index_column": 35153,
         "school.region": "ARMM",
         "st_ratio": 169
        },
        {
         "_deepnote_index_column": 36609,
         "school.region": "ARMM",
         "st_ratio": 168
        },
        {
         "_deepnote_index_column": 36318,
         "school.region": "ARMM",
         "st_ratio": 168
        },
        {
         "_deepnote_index_column": 35154,
         "school.region": "ARMM",
         "st_ratio": 166.5
        },
        {
         "_deepnote_index_column": 35676,
         "school.region": "ARMM",
         "st_ratio": 166
        },
        {
         "_deepnote_index_column": 35860,
         "school.region": "ARMM",
         "st_ratio": 166
        },
        {
         "_deepnote_index_column": 34574,
         "school.region": "ARMM",
         "st_ratio": 166
        },
        {
         "_deepnote_index_column": 36402,
         "school.region": "ARMM",
         "st_ratio": 164
        },
        {
         "_deepnote_index_column": 34996,
         "school.region": "ARMM",
         "st_ratio": 164
        },
        {
         "_deepnote_index_column": 36152,
         "school.region": "ARMM",
         "st_ratio": 163
        },
        {
         "_deepnote_index_column": 34460,
         "school.region": "ARMM",
         "st_ratio": 163
        },
        {
         "_deepnote_index_column": 34807,
         "school.region": "ARMM",
         "st_ratio": 163
        },
        {
         "_deepnote_index_column": 35018,
         "school.region": "ARMM",
         "st_ratio": 162.5
        },
        {
         "_deepnote_index_column": 36317,
         "school.region": "ARMM",
         "st_ratio": 160
        },
        {
         "_deepnote_index_column": 36602,
         "school.region": "ARMM",
         "st_ratio": 159
        },
        {
         "_deepnote_index_column": 35017,
         "school.region": "ARMM",
         "st_ratio": 158
        },
        {
         "_deepnote_index_column": 34938,
         "school.region": "ARMM",
         "st_ratio": 158
        },
        {
         "_deepnote_index_column": 36302,
         "school.region": "ARMM",
         "st_ratio": 155
        },
        {
         "_deepnote_index_column": 35865,
         "school.region": "ARMM",
         "st_ratio": 155
        },
        {
         "_deepnote_index_column": 35479,
         "school.region": "ARMM",
         "st_ratio": 153
        },
        {
         "_deepnote_index_column": 35959,
         "school.region": "ARMM",
         "st_ratio": 153
        },
        {
         "_deepnote_index_column": 35161,
         "school.region": "ARMM",
         "st_ratio": 152
        },
        {
         "_deepnote_index_column": 34570,
         "school.region": "ARMM",
         "st_ratio": 151.5
        },
        {
         "_deepnote_index_column": 35117,
         "school.region": "ARMM",
         "st_ratio": 150.5
        },
        {
         "_deepnote_index_column": 35977,
         "school.region": "ARMM",
         "st_ratio": 150
        },
        {
         "_deepnote_index_column": 36215,
         "school.region": "ARMM",
         "st_ratio": 150
        },
        {
         "_deepnote_index_column": 35622,
         "school.region": "ARMM",
         "st_ratio": 150
        },
        {
         "_deepnote_index_column": 34833,
         "school.region": "ARMM",
         "st_ratio": 150
        },
        {
         "_deepnote_index_column": 35963,
         "school.region": "ARMM",
         "st_ratio": 148.33333333333334
        },
        {
         "_deepnote_index_column": 36072,
         "school.region": "ARMM",
         "st_ratio": 148.33333333333334
        },
        {
         "_deepnote_index_column": 35873,
         "school.region": "ARMM",
         "st_ratio": 148
        },
        {
         "_deepnote_index_column": 35725,
         "school.region": "ARMM",
         "st_ratio": 148
        },
        {
         "_deepnote_index_column": 35840,
         "school.region": "ARMM",
         "st_ratio": 147.5
        },
        {
         "_deepnote_index_column": 35397,
         "school.region": "ARMM",
         "st_ratio": 147.5
        },
        {
         "_deepnote_index_column": 35094,
         "school.region": "ARMM",
         "st_ratio": 147
        },
        {
         "_deepnote_index_column": 36416,
         "school.region": "ARMM",
         "st_ratio": 146
        },
        {
         "_deepnote_index_column": 34558,
         "school.region": "ARMM",
         "st_ratio": 145.66666666666666
        },
        {
         "_deepnote_index_column": 34676,
         "school.region": "ARMM",
         "st_ratio": 144
        },
        {
         "_deepnote_index_column": 35364,
         "school.region": "ARMM",
         "st_ratio": 144
        },
        {
         "_deepnote_index_column": 35156,
         "school.region": "ARMM",
         "st_ratio": 144
        },
        {
         "_deepnote_index_column": 35473,
         "school.region": "ARMM",
         "st_ratio": 143.5
        },
        {
         "_deepnote_index_column": 34929,
         "school.region": "ARMM",
         "st_ratio": 142.5
        },
        {
         "_deepnote_index_column": 35618,
         "school.region": "ARMM",
         "st_ratio": 142
        },
        {
         "_deepnote_index_column": 36417,
         "school.region": "ARMM",
         "st_ratio": 142
        },
        {
         "_deepnote_index_column": 36470,
         "school.region": "ARMM",
         "st_ratio": 142
        },
        {
         "_deepnote_index_column": 35455,
         "school.region": "ARMM",
         "st_ratio": 142
        },
        {
         "_deepnote_index_column": 36094,
         "school.region": "ARMM",
         "st_ratio": 141
        },
        {
         "_deepnote_index_column": 36636,
         "school.region": "ARMM",
         "st_ratio": 140.33333333333334
        },
        {
         "_deepnote_index_column": 36619,
         "school.region": "ARMM",
         "st_ratio": 140
        },
        {
         "_deepnote_index_column": 35848,
         "school.region": "ARMM",
         "st_ratio": 140
        },
        {
         "_deepnote_index_column": 34651,
         "school.region": "ARMM",
         "st_ratio": 139.5
        },
        {
         "_deepnote_index_column": 34731,
         "school.region": "ARMM",
         "st_ratio": 139.5
        },
        {
         "_deepnote_index_column": 35892,
         "school.region": "ARMM",
         "st_ratio": 139
        },
        {
         "_deepnote_index_column": 34671,
         "school.region": "ARMM",
         "st_ratio": 138.5
        },
        {
         "_deepnote_index_column": 35269,
         "school.region": "ARMM",
         "st_ratio": 138
        },
        {
         "_deepnote_index_column": 35357,
         "school.region": "ARMM",
         "st_ratio": 137.66666666666666
        },
        {
         "_deepnote_index_column": 36050,
         "school.region": "ARMM",
         "st_ratio": 137.5
        },
        {
         "_deepnote_index_column": 35301,
         "school.region": "ARMM",
         "st_ratio": 136.5
        },
        {
         "_deepnote_index_column": 34494,
         "school.region": "ARMM",
         "st_ratio": 136
        },
        {
         "_deepnote_index_column": 34711,
         "school.region": "ARMM",
         "st_ratio": 134
        },
        {
         "_deepnote_index_column": 36527,
         "school.region": "ARMM",
         "st_ratio": 134
        },
        {
         "_deepnote_index_column": 34484,
         "school.region": "ARMM",
         "st_ratio": 134
        },
        {
         "_deepnote_index_column": 34523,
         "school.region": "ARMM",
         "st_ratio": 134
        },
        {
         "_deepnote_index_column": 35400,
         "school.region": "ARMM",
         "st_ratio": 134
        },
        {
         "_deepnote_index_column": 35465,
         "school.region": "ARMM",
         "st_ratio": 133
        },
        {
         "_deepnote_index_column": 35719,
         "school.region": "ARMM",
         "st_ratio": 133
        },
        {
         "_deepnote_index_column": 36616,
         "school.region": "ARMM",
         "st_ratio": 132
        },
        {
         "_deepnote_index_column": 34611,
         "school.region": "ARMM",
         "st_ratio": 131.5
        },
        {
         "_deepnote_index_column": 36451,
         "school.region": "ARMM",
         "st_ratio": 130
        },
        {
         "_deepnote_index_column": 36226,
         "school.region": "ARMM",
         "st_ratio": 130
        },
        {
         "_deepnote_index_column": 35758,
         "school.region": "ARMM",
         "st_ratio": 129.33333333333334
        },
        {
         "_deepnote_index_column": 35407,
         "school.region": "ARMM",
         "st_ratio": 129
        },
        {
         "_deepnote_index_column": 35771,
         "school.region": "ARMM",
         "st_ratio": 129
        },
        {
         "_deepnote_index_column": 35097,
         "school.region": "ARMM",
         "st_ratio": 129
        },
        {
         "_deepnote_index_column": 34646,
         "school.region": "ARMM",
         "st_ratio": 129
        },
        {
         "_deepnote_index_column": 35843,
         "school.region": "ARMM",
         "st_ratio": 129
        },
        {
         "_deepnote_index_column": 36472,
         "school.region": "ARMM",
         "st_ratio": 128
        },
        {
         "_deepnote_index_column": 35414,
         "school.region": "ARMM",
         "st_ratio": 127.66666666666667
        },
        {
         "_deepnote_index_column": 35071,
         "school.region": "ARMM",
         "st_ratio": 127.5
        },
        {
         "_deepnote_index_column": 36392,
         "school.region": "ARMM",
         "st_ratio": 127
        },
        {
         "_deepnote_index_column": 34981,
         "school.region": "ARMM",
         "st_ratio": 126.5
        },
        {
         "_deepnote_index_column": 36604,
         "school.region": "ARMM",
         "st_ratio": 124.66666666666667
        },
        {
         "_deepnote_index_column": 34850,
         "school.region": "ARMM",
         "st_ratio": 124.33333333333333
        },
        {
         "_deepnote_index_column": 35678,
         "school.region": "ARMM",
         "st_ratio": 124
        },
        {
         "_deepnote_index_column": 36397,
         "school.region": "ARMM",
         "st_ratio": 123.5
        },
        {
         "_deepnote_index_column": 35474,
         "school.region": "ARMM",
         "st_ratio": 123
        },
        {
         "_deepnote_index_column": 34871,
         "school.region": "ARMM",
         "st_ratio": 122.33333333333333
        },
        {
         "_deepnote_index_column": 36060,
         "school.region": "ARMM",
         "st_ratio": 122
        },
        {
         "_deepnote_index_column": 34603,
         "school.region": "ARMM",
         "st_ratio": 122
        },
        {
         "_deepnote_index_column": 35126,
         "school.region": "ARMM",
         "st_ratio": 122
        },
        {
         "_deepnote_index_column": 36577,
         "school.region": "ARMM",
         "st_ratio": 121
        },
        {
         "_deepnote_index_column": 34769,
         "school.region": "ARMM",
         "st_ratio": 121
        },
        {
         "_deepnote_index_column": 35982,
         "school.region": "ARMM",
         "st_ratio": 121
        },
        {
         "_deepnote_index_column": 36565,
         "school.region": "ARMM",
         "st_ratio": 121
        },
        {
         "_deepnote_index_column": 35114,
         "school.region": "ARMM",
         "st_ratio": 120.6
        },
        {
         "_deepnote_index_column": 35967,
         "school.region": "ARMM",
         "st_ratio": 120
        },
        {
         "_deepnote_index_column": 36051,
         "school.region": "ARMM",
         "st_ratio": 120
        },
        {
         "_deepnote_index_column": 36103,
         "school.region": "ARMM",
         "st_ratio": 119
        },
        {
         "_deepnote_index_column": 36588,
         "school.region": "ARMM",
         "st_ratio": 119
        },
        {
         "_deepnote_index_column": 34498,
         "school.region": "ARMM",
         "st_ratio": 119
        },
        {
         "_deepnote_index_column": 34937,
         "school.region": "ARMM",
         "st_ratio": 118.66666666666667
        },
        {
         "_deepnote_index_column": 35484,
         "school.region": "ARMM",
         "st_ratio": 118.33333333333333
        },
        {
         "_deepnote_index_column": 35809,
         "school.region": "ARMM",
         "st_ratio": 118
        },
        {
         "_deepnote_index_column": 34539,
         "school.region": "ARMM",
         "st_ratio": 118
        },
        {
         "_deepnote_index_column": 34931,
         "school.region": "ARMM",
         "st_ratio": 118
        },
        {
         "_deepnote_index_column": 35292,
         "school.region": "ARMM",
         "st_ratio": 117.5
        },
        {
         "_deepnote_index_column": 35266,
         "school.region": "ARMM",
         "st_ratio": 117.33333333333333
        },
        {
         "_deepnote_index_column": 35430,
         "school.region": "ARMM",
         "st_ratio": 117
        },
        {
         "_deepnote_index_column": 36612,
         "school.region": "ARMM",
         "st_ratio": 116.66666666666667
        },
        {
         "_deepnote_index_column": 36450,
         "school.region": "ARMM",
         "st_ratio": 116.5
        },
        {
         "_deepnote_index_column": 34770,
         "school.region": "ARMM",
         "st_ratio": 116
        },
        {
         "_deepnote_index_column": 36313,
         "school.region": "ARMM",
         "st_ratio": 115.5
        },
        {
         "_deepnote_index_column": 36538,
         "school.region": "ARMM",
         "st_ratio": 115
        },
        {
         "_deepnote_index_column": 35425,
         "school.region": "ARMM",
         "st_ratio": 115
        },
        {
         "_deepnote_index_column": 35731,
         "school.region": "ARMM",
         "st_ratio": 115
        },
        {
         "_deepnote_index_column": 35100,
         "school.region": "ARMM",
         "st_ratio": 115
        },
        {
         "_deepnote_index_column": 35404,
         "school.region": "ARMM",
         "st_ratio": 115
        },
        {
         "_deepnote_index_column": 36222,
         "school.region": "ARMM",
         "st_ratio": 114.5
        },
        {
         "_deepnote_index_column": 34849,
         "school.region": "ARMM",
         "st_ratio": 114
        },
        {
         "_deepnote_index_column": 35181,
         "school.region": "ARMM",
         "st_ratio": 114
        },
        {
         "_deepnote_index_column": 35981,
         "school.region": "ARMM",
         "st_ratio": 114
        },
        {
         "_deepnote_index_column": 35559,
         "school.region": "ARMM",
         "st_ratio": 114
        },
        {
         "_deepnote_index_column": 35713,
         "school.region": "ARMM",
         "st_ratio": 113.75
        },
        {
         "_deepnote_index_column": 36174,
         "school.region": "ARMM",
         "st_ratio": 113.5
        },
        {
         "_deepnote_index_column": 35958,
         "school.region": "ARMM",
         "st_ratio": 113
        },
        {
         "_deepnote_index_column": 36095,
         "school.region": "ARMM",
         "st_ratio": 113
        },
        {
         "_deepnote_index_column": 35457,
         "school.region": "ARMM",
         "st_ratio": 112.5
        },
        {
         "_deepnote_index_column": 34483,
         "school.region": "ARMM",
         "st_ratio": 112
        },
        {
         "_deepnote_index_column": 36008,
         "school.region": "ARMM",
         "st_ratio": 112
        },
        {
         "_deepnote_index_column": 34908,
         "school.region": "ARMM",
         "st_ratio": 111.2
        },
        {
         "_deepnote_index_column": 35205,
         "school.region": "ARMM",
         "st_ratio": 111
        },
        {
         "_deepnote_index_column": 35327,
         "school.region": "ARMM",
         "st_ratio": 111
        },
        {
         "_deepnote_index_column": 36536,
         "school.region": "ARMM",
         "st_ratio": 110.66666666666667
        },
        {
         "_deepnote_index_column": 35391,
         "school.region": "ARMM",
         "st_ratio": 110.5
        },
        {
         "_deepnote_index_column": 35211,
         "school.region": "ARMM",
         "st_ratio": 110.5
        },
        {
         "_deepnote_index_column": 36105,
         "school.region": "ARMM",
         "st_ratio": 110
        },
        {
         "_deepnote_index_column": 35957,
         "school.region": "ARMM",
         "st_ratio": 110
        },
        {
         "_deepnote_index_column": 34884,
         "school.region": "ARMM",
         "st_ratio": 109.75
        },
        {
         "_deepnote_index_column": 36296,
         "school.region": "ARMM",
         "st_ratio": 109
        },
        {
         "_deepnote_index_column": 35277,
         "school.region": "ARMM",
         "st_ratio": 109
        },
        {
         "_deepnote_index_column": 36312,
         "school.region": "ARMM",
         "st_ratio": 109
        },
        {
         "_deepnote_index_column": 36044,
         "school.region": "ARMM",
         "st_ratio": 109
        },
        {
         "_deepnote_index_column": 35852,
         "school.region": "ARMM",
         "st_ratio": 109
        },
        {
         "_deepnote_index_column": 34787,
         "school.region": "ARMM",
         "st_ratio": 109
        },
        {
         "_deepnote_index_column": 35649,
         "school.region": "ARMM",
         "st_ratio": 108
        },
        {
         "_deepnote_index_column": 35146,
         "school.region": "ARMM",
         "st_ratio": 108
        },
        {
         "_deepnote_index_column": 36597,
         "school.region": "ARMM",
         "st_ratio": 108
        },
        {
         "_deepnote_index_column": 36483,
         "school.region": "ARMM",
         "st_ratio": 107.75
        },
        {
         "_deepnote_index_column": 35697,
         "school.region": "ARMM",
         "st_ratio": 106.5
        },
        {
         "_deepnote_index_column": 34867,
         "school.region": "ARMM",
         "st_ratio": 106.5
        },
        {
         "_deepnote_index_column": 35204,
         "school.region": "ARMM",
         "st_ratio": 106.33333333333333
        },
        {
         "_deepnote_index_column": 35408,
         "school.region": "ARMM",
         "st_ratio": 106
        },
        {
         "_deepnote_index_column": 36529,
         "school.region": "ARMM",
         "st_ratio": 105.6
        },
        {
         "_deepnote_index_column": 34963,
         "school.region": "ARMM",
         "st_ratio": 105.5
        },
        {
         "_deepnote_index_column": 35528,
         "school.region": "ARMM",
         "st_ratio": 105.5
        },
        {
         "_deepnote_index_column": 36077,
         "school.region": "ARMM",
         "st_ratio": 105
        },
        {
         "_deepnote_index_column": 36258,
         "school.region": "ARMM",
         "st_ratio": 105
        },
        {
         "_deepnote_index_column": 34819,
         "school.region": "ARMM",
         "st_ratio": 105
        },
        {
         "_deepnote_index_column": 34451,
         "school.region": "ARMM",
         "st_ratio": 104.2
        },
        {
         "_deepnote_index_column": 34847,
         "school.region": "ARMM",
         "st_ratio": 104
        },
        {
         "_deepnote_index_column": 35381,
         "school.region": "ARMM",
         "st_ratio": 104
        },
        {
         "_deepnote_index_column": 36439,
         "school.region": "ARMM",
         "st_ratio": 104
        }
       ]
      },
      "text/html": [
       "<div>\n",
       "<style scoped>\n",
       "    .dataframe tbody tr th:only-of-type {\n",
       "        vertical-align: middle;\n",
       "    }\n",
       "\n",
       "    .dataframe tbody tr th {\n",
       "        vertical-align: top;\n",
       "    }\n",
       "\n",
       "    .dataframe thead th {\n",
       "        text-align: right;\n",
       "    }\n",
       "</style>\n",
       "<table border=\"1\" class=\"dataframe\">\n",
       "  <thead>\n",
       "    <tr style=\"text-align: right;\">\n",
       "      <th></th>\n",
       "      <th>school.region</th>\n",
       "      <th>st_ratio</th>\n",
       "    </tr>\n",
       "  </thead>\n",
       "  <tbody>\n",
       "    <tr>\n",
       "      <th>36227</th>\n",
       "      <td>ARMM</td>\n",
       "      <td>603.000000</td>\n",
       "    </tr>\n",
       "    <tr>\n",
       "      <th>34957</th>\n",
       "      <td>ARMM</td>\n",
       "      <td>523.500000</td>\n",
       "    </tr>\n",
       "    <tr>\n",
       "      <th>35445</th>\n",
       "      <td>ARMM</td>\n",
       "      <td>498.000000</td>\n",
       "    </tr>\n",
       "    <tr>\n",
       "      <th>35947</th>\n",
       "      <td>ARMM</td>\n",
       "      <td>476.000000</td>\n",
       "    </tr>\n",
       "    <tr>\n",
       "      <th>36228</th>\n",
       "      <td>ARMM</td>\n",
       "      <td>431.000000</td>\n",
       "    </tr>\n",
       "    <tr>\n",
       "      <th>...</th>\n",
       "      <td>...</td>\n",
       "      <td>...</td>\n",
       "    </tr>\n",
       "    <tr>\n",
       "      <th>34663</th>\n",
       "      <td>ARMM</td>\n",
       "      <td>20.555556</td>\n",
       "    </tr>\n",
       "    <tr>\n",
       "      <th>35464</th>\n",
       "      <td>ARMM</td>\n",
       "      <td>20.500000</td>\n",
       "    </tr>\n",
       "    <tr>\n",
       "      <th>36607</th>\n",
       "      <td>ARMM</td>\n",
       "      <td>20.250000</td>\n",
       "    </tr>\n",
       "    <tr>\n",
       "      <th>35647</th>\n",
       "      <td>ARMM</td>\n",
       "      <td>20.250000</td>\n",
       "    </tr>\n",
       "    <tr>\n",
       "      <th>36220</th>\n",
       "      <td>ARMM</td>\n",
       "      <td>20.100000</td>\n",
       "    </tr>\n",
       "  </tbody>\n",
       "</table>\n",
       "<p>1900 rows × 2 columns</p>\n",
       "</div>"
      ],
      "text/plain": [
       "      school.region    st_ratio\n",
       "36227          ARMM  603.000000\n",
       "34957          ARMM  523.500000\n",
       "35445          ARMM  498.000000\n",
       "35947          ARMM  476.000000\n",
       "36228          ARMM  431.000000\n",
       "...             ...         ...\n",
       "34663          ARMM   20.555556\n",
       "35464          ARMM   20.500000\n",
       "36607          ARMM   20.250000\n",
       "35647          ARMM   20.250000\n",
       "36220          ARMM   20.100000\n",
       "\n",
       "[1900 rows x 2 columns]"
      ]
     },
     "execution_count": 198,
     "metadata": {},
     "output_type": "execute_result"
    }
   ],
   "source": [
    "nc_ar_ratio[nc_ar_ratio[\"school.region\"] == \"ARMM\"].sort_values(ascending = False, by = \"st_ratio\")\n",
    "#Highest st_ratio in NCR: 82.02, 65.13, 64.37\n",
    "#Highest st_ratio in ARMM: 603, 523.15, 498"
   ]
  },
  {
   "cell_type": "code",
   "execution_count": null,
   "metadata": {
    "cell_id": "00064-b7970d89-aafd-434a-83bf-b0bb0e92239a",
    "deepnote_cell_type": "code",
    "deepnote_to_be_reexecuted": false,
    "execution_millis": 11,
    "execution_start": 1620909831057,
    "source_hash": "701f2a44",
    "tags": []
   },
   "outputs": [
    {
     "data": {
      "text/plain": [
       "array(['Region I', 'Region II', 'Region III', 'Region IV-A',\n",
       "       'Region IV-B', 'Region V', 'Region VI', 'Region VII',\n",
       "       'Region VIII', 'Region IX', 'Region X', 'Region XI', 'Region XII',\n",
       "       'CARAGA', 'ARMM', 'CAR', 'NCR'], dtype=object)"
      ]
     },
     "execution_count": 123,
     "metadata": {},
     "output_type": "execute_result"
    }
   ],
   "source": [
    "all_data[\"school.region.name\"].unique()'\n",
    "'"
   ]
  },
  {
   "cell_type": "code",
   "execution_count": null,
   "metadata": {
    "cell_id": "00066-79af0780-8c7a-4617-bd2c-e0af039f33d8",
    "deepnote_cell_type": "code",
    "deepnote_to_be_reexecuted": false,
    "execution_millis": 277,
    "execution_start": 1620910359691,
    "source_hash": "4e56fd34",
    "tags": []
   },
   "outputs": [
    {
     "data": {
      "application/vnd.deepnote.dataframe.v2+json": {
       "column_count": 49,
       "columns": [
        {
         "dtype": "int64",
         "name": "school.id",
         "stats": {
          "histogram": [
           {
            "bin_end": 100258,
            "bin_start": 100043,
            "count": 2
           },
           {
            "bin_end": 100473,
            "bin_start": 100258,
            "count": 0
           },
           {
            "bin_end": 100688,
            "bin_start": 100473,
            "count": 0
           },
           {
            "bin_end": 100903,
            "bin_start": 100688,
            "count": 0
           },
           {
            "bin_end": 101118,
            "bin_start": 100903,
            "count": 0
           },
           {
            "bin_end": 101333,
            "bin_start": 101118,
            "count": 1
           },
           {
            "bin_end": 101548,
            "bin_start": 101333,
            "count": 0
           },
           {
            "bin_end": 101763,
            "bin_start": 101548,
            "count": 1
           },
           {
            "bin_end": 101978,
            "bin_start": 101763,
            "count": 0
           },
           {
            "bin_end": 102193,
            "bin_start": 101978,
            "count": 1
           }
          ],
          "max": "102193",
          "min": "100043",
          "nan_count": 0,
          "unique_count": 5
         }
        },
        {
         "dtype": "object",
         "name": "school.name",
         "stats": {
          "categories": [
           {
            "count": 1,
            "name": "A. Diaz, Sr. ES"
           },
           {
            "count": 1,
            "name": "A. P. Santos ES (SPED Center)"
           },
           {
            "count": 3,
            "name": "3 others"
           }
          ],
          "nan_count": 0,
          "unique_count": 5
         }
        },
        {
         "dtype": "object",
         "name": "school.region",
         "stats": {
          "categories": [
           {
            "count": 5,
            "name": "Region I"
           }
          ],
          "nan_count": 0,
          "unique_count": 1
         }
        },
        {
         "dtype": "object",
         "name": "school.region.name",
         "stats": {
          "categories": [
           {
            "count": 5,
            "name": "Ilocos Region"
           }
          ],
          "nan_count": 0,
          "unique_count": 1
         }
        },
        {
         "dtype": "object",
         "name": "school.province",
         "stats": {
          "categories": [
           {
            "count": 3,
            "name": "ILOCOS NORTE"
           },
           {
            "count": 2,
            "name": "PANGASINAN"
           }
          ],
          "nan_count": 0,
          "unique_count": 2
         }
        },
        {
         "dtype": "object",
         "name": "school.cityhall",
         "stats": {
          "categories": [
           {
            "count": 3,
            "name": "ILOCOS NORTE"
           },
           {
            "count": 2,
            "name": "PANGASINAN"
           }
          ],
          "nan_count": 0,
          "unique_count": 2
         }
        },
        {
         "dtype": "object",
         "name": "school.division",
         "stats": {
          "categories": [
           {
            "count": 2,
            "name": "Ilocos Norte"
           },
           {
            "count": 1,
            "name": "Pangasinan II, Binalonan"
           },
           {
            "count": 2,
            "name": "2 others"
           }
          ],
          "nan_count": 0,
          "unique_count": 4
         }
        },
        {
         "dtype": "object",
         "name": "school.citymuni",
         "stats": {
          "categories": [
           {
            "count": 1,
            "name": "BAUTISTA"
           },
           {
            "count": 1,
            "name": "LAOAG CITY (Capital)"
           },
           {
            "count": 3,
            "name": "3 others"
           }
          ],
          "nan_count": 0,
          "unique_count": 5
         }
        },
        {
         "dtype": "object",
         "name": "school.district",
         "stats": {
          "categories": [
           {
            "count": 1,
            "name": "Bautista"
           },
           {
            "count": 1,
            "name": "Laoag City District II"
           },
           {
            "count": 3,
            "name": "3 others"
           }
          ],
          "nan_count": 0,
          "unique_count": 5
         }
        },
        {
         "dtype": "object",
         "name": "school.legdistrict",
         "stats": {
          "categories": [
           {
            "count": 3,
            "name": "1st District"
           },
           {
            "count": 1,
            "name": "5th District"
           },
           {
            "count": 1,
            "name": "3rd District"
           }
          ],
          "nan_count": 0,
          "unique_count": 3
         }
        },
        {
         "dtype": "object",
         "name": "school.type",
         "stats": {
          "categories": [
           {
            "count": 5,
            "name": "School with no Annexes"
           }
          ],
          "nan_count": 0,
          "unique_count": 1
         }
        },
        {
         "dtype": "object",
         "name": "school.abbrev",
         "stats": {
          "categories": [
           {
            "count": 2,
            "name": "AES"
           },
           {
            "count": 2,
            "name": "2 others"
           },
           {
            "count": 1,
            "name": "Missing"
           }
          ],
          "nan_count": 1,
          "unique_count": 3
         }
        },
        {
         "dtype": "object",
         "name": "school.previousname",
         "stats": {
          "categories": [
           {
            "count": 2,
            "name": "none"
           },
           {
            "count": 2,
            "name": "-"
           },
           {
            "count": 1,
            "name": "A.P. Guevarra IS"
           }
          ],
          "nan_count": 0,
          "unique_count": 3
         }
        },
        {
         "dtype": "float64",
         "name": "school.mother.id",
         "stats": {
          "histogram": [
           {
            "bin_end": 100258,
            "bin_start": 100043,
            "count": 2
           },
           {
            "bin_end": 100473,
            "bin_start": 100258,
            "count": 0
           },
           {
            "bin_end": 100688,
            "bin_start": 100473,
            "count": 0
           },
           {
            "bin_end": 100903,
            "bin_start": 100688,
            "count": 0
           },
           {
            "bin_end": 101118,
            "bin_start": 100903,
            "count": 0
           },
           {
            "bin_end": 101333,
            "bin_start": 101118,
            "count": 1
           },
           {
            "bin_end": 101548,
            "bin_start": 101333,
            "count": 0
           },
           {
            "bin_end": 101763,
            "bin_start": 101548,
            "count": 1
           },
           {
            "bin_end": 101978,
            "bin_start": 101763,
            "count": 0
           },
           {
            "bin_end": 102193,
            "bin_start": 101978,
            "count": 1
           }
          ],
          "max": "102193.0",
          "min": "100043.0",
          "nan_count": 0,
          "unique_count": 5
         }
        },
        {
         "dtype": "object",
         "name": "school.address",
         "stats": {
          "categories": [
           {
            "count": 1,
            "name": "Brgy. Dias Bautista, Pang"
           },
           {
            "count": 1,
            "name": "A.G. Tupaz"
           },
           {
            "count": 3,
            "name": "3 others"
           }
          ],
          "nan_count": 0,
          "unique_count": 5
         }
        },
        {
         "dtype": "object",
         "name": "school.established",
         "stats": {
          "categories": [
           {
            "count": 1,
            "name": "1/1/1930"
           },
           {
            "count": 1,
            "name": "1/1/1944"
           },
           {
            "count": 3,
            "name": "3 others"
           }
          ],
          "nan_count": 0,
          "unique_count": 5
         }
        },
        {
         "dtype": "object",
         "name": "school.classification",
         "stats": {
          "categories": [
           {
            "count": 5,
            "name": "Elementary"
           }
          ],
          "nan_count": 0,
          "unique_count": 1
         }
        },
        {
         "dtype": "object",
         "name": "school.classification2",
         "stats": {
          "categories": [
           {
            "count": 5,
            "name": "DepED Managed"
           }
          ],
          "nan_count": 0,
          "unique_count": 1
         }
        },
        {
         "dtype": "object",
         "name": "school.curricularclass",
         "stats": {
          "categories": [
           {
            "count": 4,
            "name": "Elementary"
           },
           {
            "count": 1,
            "name": "Kinder & Elementary"
           }
          ],
          "nan_count": 0,
          "unique_count": 2
         }
        },
        {
         "dtype": "object",
         "name": "school.organization",
         "stats": {
          "categories": [
           {
            "count": 5,
            "name": "Monograde"
           }
          ],
          "nan_count": 0,
          "unique_count": 1
         }
        },
        {
         "dtype": "object",
         "name": "school.cityincome",
         "stats": {
          "categories": [
           {
            "count": 2,
            "name": "P 25 M or more but less than P 35 M"
           },
           {
            "count": 1,
            "name": "P 240 M or more but less than P 320 M"
           },
           {
            "count": 2,
            "name": "2 others"
           }
          ],
          "nan_count": 0,
          "unique_count": 4
         }
        },
        {
         "dtype": "object",
         "name": "school.cityclass",
         "stats": {
          "categories": [
           {
            "count": 1,
            "name": "Component City"
           },
           {
            "count": 4,
            "name": "Missing"
           }
          ],
          "nan_count": 4,
          "unique_count": 1
         }
        },
        {
         "dtype": "object",
         "name": "school.urban",
         "stats": {
          "categories": [
           {
            "count": 5,
            "name": "Partially Urban"
           }
          ],
          "nan_count": 0,
          "unique_count": 1
         }
        },
        {
         "dtype": "float64",
         "name": "School ID_x",
         "stats": {
          "histogram": [
           {
            "bin_end": 100258,
            "bin_start": 100043,
            "count": 2
           },
           {
            "bin_end": 100473,
            "bin_start": 100258,
            "count": 0
           },
           {
            "bin_end": 100688,
            "bin_start": 100473,
            "count": 0
           },
           {
            "bin_end": 100903,
            "bin_start": 100688,
            "count": 0
           },
           {
            "bin_end": 101118,
            "bin_start": 100903,
            "count": 0
           },
           {
            "bin_end": 101333,
            "bin_start": 101118,
            "count": 1
           },
           {
            "bin_end": 101548,
            "bin_start": 101333,
            "count": 0
           },
           {
            "bin_end": 101763,
            "bin_start": 101548,
            "count": 1
           },
           {
            "bin_end": 101978,
            "bin_start": 101763,
            "count": 0
           },
           {
            "bin_end": 102193,
            "bin_start": 101978,
            "count": 1
           }
          ],
          "max": "102193.0",
          "min": "100043.0",
          "nan_count": 0,
          "unique_count": 5
         }
        },
        {
         "dtype": "float64",
         "name": "Kinder Male",
         "stats": {
          "histogram": [
           {
            "bin_end": 14.7,
            "bin_start": 10,
            "count": 2
           },
           {
            "bin_end": 19.4,
            "bin_start": 14.7,
            "count": 1
           },
           {
            "bin_end": 24.1,
            "bin_start": 19.4,
            "count": 1
           },
           {
            "bin_end": 28.8,
            "bin_start": 24.1,
            "count": 0
           },
           {
            "bin_end": 33.5,
            "bin_start": 28.8,
            "count": 0
           },
           {
            "bin_end": 38.2,
            "bin_start": 33.5,
            "count": 0
           },
           {
            "bin_end": 42.9,
            "bin_start": 38.2,
            "count": 0
           },
           {
            "bin_end": 47.6,
            "bin_start": 42.9,
            "count": 0
           },
           {
            "bin_end": 52.300000000000004,
            "bin_start": 47.6,
            "count": 0
           },
           {
            "bin_end": 57,
            "bin_start": 52.300000000000004,
            "count": 1
           }
          ],
          "max": "57.0",
          "min": "10.0",
          "nan_count": 0,
          "unique_count": 5
         }
        },
        {
         "dtype": "float64",
         "name": "Kinder Female",
         "stats": {
          "histogram": [
           {
            "bin_end": 9.9,
            "bin_start": 6,
            "count": 1
           },
           {
            "bin_end": 13.8,
            "bin_start": 9.9,
            "count": 2
           },
           {
            "bin_end": 17.7,
            "bin_start": 13.8,
            "count": 0
           },
           {
            "bin_end": 21.6,
            "bin_start": 17.7,
            "count": 0
           },
           {
            "bin_end": 25.5,
            "bin_start": 21.6,
            "count": 1
           },
           {
            "bin_end": 29.4,
            "bin_start": 25.5,
            "count": 0
           },
           {
            "bin_end": 33.3,
            "bin_start": 29.4,
            "count": 0
           },
           {
            "bin_end": 37.2,
            "bin_start": 33.3,
            "count": 0
           },
           {
            "bin_end": 41.1,
            "bin_start": 37.2,
            "count": 0
           },
           {
            "bin_end": 45,
            "bin_start": 41.1,
            "count": 1
           }
          ],
          "max": "45.0",
          "min": "6.0",
          "nan_count": 0,
          "unique_count": 5
         }
        },
        {
         "dtype": "float64",
         "name": "Grade 1 Male",
         "stats": {
          "histogram": [
           {
            "bin_end": 14.6,
            "bin_start": 10,
            "count": 2
           },
           {
            "bin_end": 19.2,
            "bin_start": 14.6,
            "count": 0
           },
           {
            "bin_end": 23.799999999999997,
            "bin_start": 19.2,
            "count": 1
           },
           {
            "bin_end": 28.4,
            "bin_start": 23.799999999999997,
            "count": 0
           },
           {
            "bin_end": 33,
            "bin_start": 28.4,
            "count": 0
           },
           {
            "bin_end": 37.599999999999994,
            "bin_start": 33,
            "count": 0
           },
           {
            "bin_end": 42.199999999999996,
            "bin_start": 37.599999999999994,
            "count": 1
           },
           {
            "bin_end": 46.8,
            "bin_start": 42.199999999999996,
            "count": 0
           },
           {
            "bin_end": 51.4,
            "bin_start": 46.8,
            "count": 0
           },
           {
            "bin_end": 56,
            "bin_start": 51.4,
            "count": 1
           }
          ],
          "max": "56.0",
          "min": "10.0",
          "nan_count": 0,
          "unique_count": 5
         }
        },
        {
         "dtype": "float64",
         "name": "Grade 1 Female",
         "stats": {
          "histogram": [
           {
            "bin_end": 14.8,
            "bin_start": 10,
            "count": 1
           },
           {
            "bin_end": 19.6,
            "bin_start": 14.8,
            "count": 1
           },
           {
            "bin_end": 24.4,
            "bin_start": 19.6,
            "count": 0
           },
           {
            "bin_end": 29.2,
            "bin_start": 24.4,
            "count": 1
           },
           {
            "bin_end": 34,
            "bin_start": 29.2,
            "count": 1
           },
           {
            "bin_end": 38.8,
            "bin_start": 34,
            "count": 0
           },
           {
            "bin_end": 43.6,
            "bin_start": 38.8,
            "count": 0
           },
           {
            "bin_end": 48.4,
            "bin_start": 43.6,
            "count": 0
           },
           {
            "bin_end": 53.199999999999996,
            "bin_start": 48.4,
            "count": 0
           },
           {
            "bin_end": 58,
            "bin_start": 53.199999999999996,
            "count": 1
           }
          ],
          "max": "58.0",
          "min": "10.0",
          "nan_count": 0,
          "unique_count": 5
         }
        },
        {
         "dtype": "float64",
         "name": "Grade 2 Male",
         "stats": {
          "histogram": [
           {
            "bin_end": 14.4,
            "bin_start": 9,
            "count": 1
           },
           {
            "bin_end": 19.8,
            "bin_start": 14.4,
            "count": 1
           },
           {
            "bin_end": 25.200000000000003,
            "bin_start": 19.8,
            "count": 1
           },
           {
            "bin_end": 30.6,
            "bin_start": 25.200000000000003,
            "count": 0
           },
           {
            "bin_end": 36,
            "bin_start": 30.6,
            "count": 0
           },
           {
            "bin_end": 41.400000000000006,
            "bin_start": 36,
            "count": 1
           },
           {
            "bin_end": 46.800000000000004,
            "bin_start": 41.400000000000006,
            "count": 0
           },
           {
            "bin_end": 52.2,
            "bin_start": 46.800000000000004,
            "count": 0
           },
           {
            "bin_end": 57.6,
            "bin_start": 52.2,
            "count": 0
           },
           {
            "bin_end": 63,
            "bin_start": 57.6,
            "count": 1
           }
          ],
          "max": "63.0",
          "min": "9.0",
          "nan_count": 0,
          "unique_count": 5
         }
        },
        {
         "dtype": "float64",
         "name": "Grade 2 Female",
         "stats": {
          "histogram": [
           {
            "bin_end": 16,
            "bin_start": 11,
            "count": 3
           },
           {
            "bin_end": 21,
            "bin_start": 16,
            "count": 1
           },
           {
            "bin_end": 26,
            "bin_start": 21,
            "count": 0
           },
           {
            "bin_end": 31,
            "bin_start": 26,
            "count": 0
           },
           {
            "bin_end": 36,
            "bin_start": 31,
            "count": 0
           },
           {
            "bin_end": 41,
            "bin_start": 36,
            "count": 0
           },
           {
            "bin_end": 46,
            "bin_start": 41,
            "count": 0
           },
           {
            "bin_end": 51,
            "bin_start": 46,
            "count": 0
           },
           {
            "bin_end": 56,
            "bin_start": 51,
            "count": 0
           },
           {
            "bin_end": 61,
            "bin_start": 56,
            "count": 1
           }
          ],
          "max": "61.0",
          "min": "11.0",
          "nan_count": 0,
          "unique_count": 5
         }
        },
        {
         "dtype": "float64",
         "name": "Grade 3 Male",
         "stats": {
          "histogram": [
           {
            "bin_end": 19,
            "bin_start": 15,
            "count": 2
           },
           {
            "bin_end": 23,
            "bin_start": 19,
            "count": 1
           },
           {
            "bin_end": 27,
            "bin_start": 23,
            "count": 0
           },
           {
            "bin_end": 31,
            "bin_start": 27,
            "count": 1
           },
           {
            "bin_end": 35,
            "bin_start": 31,
            "count": 0
           },
           {
            "bin_end": 39,
            "bin_start": 35,
            "count": 0
           },
           {
            "bin_end": 43,
            "bin_start": 39,
            "count": 0
           },
           {
            "bin_end": 47,
            "bin_start": 43,
            "count": 0
           },
           {
            "bin_end": 51,
            "bin_start": 47,
            "count": 0
           },
           {
            "bin_end": 55,
            "bin_start": 51,
            "count": 1
           }
          ],
          "max": "55.0",
          "min": "15.0",
          "nan_count": 0,
          "unique_count": 5
         }
        },
        {
         "dtype": "float64",
         "name": "Grade 3 Female",
         "stats": {
          "histogram": [
           {
            "bin_end": 16.9,
            "bin_start": 12,
            "count": 2
           },
           {
            "bin_end": 21.8,
            "bin_start": 16.9,
            "count": 0
           },
           {
            "bin_end": 26.700000000000003,
            "bin_start": 21.8,
            "count": 1
           },
           {
            "bin_end": 31.6,
            "bin_start": 26.700000000000003,
            "count": 0
           },
           {
            "bin_end": 36.5,
            "bin_start": 31.6,
            "count": 1
           },
           {
            "bin_end": 41.400000000000006,
            "bin_start": 36.5,
            "count": 0
           },
           {
            "bin_end": 46.300000000000004,
            "bin_start": 41.400000000000006,
            "count": 0
           },
           {
            "bin_end": 51.2,
            "bin_start": 46.300000000000004,
            "count": 0
           },
           {
            "bin_end": 56.1,
            "bin_start": 51.2,
            "count": 0
           },
           {
            "bin_end": 61,
            "bin_start": 56.1,
            "count": 1
           }
          ],
          "max": "61.0",
          "min": "12.0",
          "nan_count": 0,
          "unique_count": 5
         }
        },
        {
         "dtype": "float64",
         "name": "Grade 4 Male",
         "stats": {
          "histogram": [
           {
            "bin_end": 17,
            "bin_start": 12,
            "count": 2
           },
           {
            "bin_end": 22,
            "bin_start": 17,
            "count": 0
           },
           {
            "bin_end": 27,
            "bin_start": 22,
            "count": 2
           },
           {
            "bin_end": 32,
            "bin_start": 27,
            "count": 0
           },
           {
            "bin_end": 37,
            "bin_start": 32,
            "count": 0
           },
           {
            "bin_end": 42,
            "bin_start": 37,
            "count": 0
           },
           {
            "bin_end": 47,
            "bin_start": 42,
            "count": 0
           },
           {
            "bin_end": 52,
            "bin_start": 47,
            "count": 0
           },
           {
            "bin_end": 57,
            "bin_start": 52,
            "count": 0
           },
           {
            "bin_end": 62,
            "bin_start": 57,
            "count": 1
           }
          ],
          "max": "62.0",
          "min": "12.0",
          "nan_count": 0,
          "unique_count": 5
         }
        },
        {
         "dtype": "float64",
         "name": "Grade 4 Female",
         "stats": {
          "histogram": [
           {
            "bin_end": 15.4,
            "bin_start": 11,
            "count": 3
           },
           {
            "bin_end": 19.8,
            "bin_start": 15.4,
            "count": 0
           },
           {
            "bin_end": 24.200000000000003,
            "bin_start": 19.8,
            "count": 0
           },
           {
            "bin_end": 28.6,
            "bin_start": 24.200000000000003,
            "count": 0
           },
           {
            "bin_end": 33,
            "bin_start": 28.6,
            "count": 0
           },
           {
            "bin_end": 37.400000000000006,
            "bin_start": 33,
            "count": 0
           },
           {
            "bin_end": 41.800000000000004,
            "bin_start": 37.400000000000006,
            "count": 1
           },
           {
            "bin_end": 46.2,
            "bin_start": 41.800000000000004,
            "count": 0
           },
           {
            "bin_end": 50.6,
            "bin_start": 46.2,
            "count": 0
           },
           {
            "bin_end": 55,
            "bin_start": 50.6,
            "count": 1
           }
          ],
          "max": "55.0",
          "min": "11.0",
          "nan_count": 0,
          "unique_count": 4
         }
        },
        {
         "dtype": "float64",
         "name": "Grade 5 Male",
         "stats": {
          "histogram": [
           {
            "bin_end": 20.5,
            "bin_start": 16,
            "count": 1
           },
           {
            "bin_end": 25,
            "bin_start": 20.5,
            "count": 1
           },
           {
            "bin_end": 29.5,
            "bin_start": 25,
            "count": 1
           },
           {
            "bin_end": 34,
            "bin_start": 29.5,
            "count": 0
           },
           {
            "bin_end": 38.5,
            "bin_start": 34,
            "count": 0
           },
           {
            "bin_end": 43,
            "bin_start": 38.5,
            "count": 1
           },
           {
            "bin_end": 47.5,
            "bin_start": 43,
            "count": 0
           },
           {
            "bin_end": 52,
            "bin_start": 47.5,
            "count": 0
           },
           {
            "bin_end": 56.5,
            "bin_start": 52,
            "count": 0
           },
           {
            "bin_end": 61,
            "bin_start": 56.5,
            "count": 1
           }
          ],
          "max": "61.0",
          "min": "16.0",
          "nan_count": 0,
          "unique_count": 5
         }
        },
        {
         "dtype": "float64",
         "name": "Grade 5 Female",
         "stats": {
          "histogram": [
           {
            "bin_end": 11.1,
            "bin_start": 7,
            "count": 1
           },
           {
            "bin_end": 15.2,
            "bin_start": 11.1,
            "count": 1
           },
           {
            "bin_end": 19.299999999999997,
            "bin_start": 15.2,
            "count": 1
           },
           {
            "bin_end": 23.4,
            "bin_start": 19.299999999999997,
            "count": 0
           },
           {
            "bin_end": 27.5,
            "bin_start": 23.4,
            "count": 1
           },
           {
            "bin_end": 31.599999999999998,
            "bin_start": 27.5,
            "count": 0
           },
           {
            "bin_end": 35.699999999999996,
            "bin_start": 31.599999999999998,
            "count": 0
           },
           {
            "bin_end": 39.8,
            "bin_start": 35.699999999999996,
            "count": 0
           },
           {
            "bin_end": 43.9,
            "bin_start": 39.8,
            "count": 0
           },
           {
            "bin_end": 48,
            "bin_start": 43.9,
            "count": 1
           }
          ],
          "max": "48.0",
          "min": "7.0",
          "nan_count": 0,
          "unique_count": 5
         }
        },
        {
         "dtype": "float64",
         "name": "Grade 6 Male",
         "stats": {
          "histogram": [
           {
            "bin_end": 11.1,
            "bin_start": 7,
            "count": 1
           },
           {
            "bin_end": 15.2,
            "bin_start": 11.1,
            "count": 1
           },
           {
            "bin_end": 19.299999999999997,
            "bin_start": 15.2,
            "count": 0
           },
           {
            "bin_end": 23.4,
            "bin_start": 19.299999999999997,
            "count": 0
           },
           {
            "bin_end": 27.5,
            "bin_start": 23.4,
            "count": 2
           },
           {
            "bin_end": 31.599999999999998,
            "bin_start": 27.5,
            "count": 0
           },
           {
            "bin_end": 35.699999999999996,
            "bin_start": 31.599999999999998,
            "count": 0
           },
           {
            "bin_end": 39.8,
            "bin_start": 35.699999999999996,
            "count": 0
           },
           {
            "bin_end": 43.9,
            "bin_start": 39.8,
            "count": 0
           },
           {
            "bin_end": 48,
            "bin_start": 43.9,
            "count": 1
           }
          ],
          "max": "48.0",
          "min": "7.0",
          "nan_count": 0,
          "unique_count": 4
         }
        },
        {
         "dtype": "float64",
         "name": "Grade 6 Female",
         "stats": {
          "histogram": [
           {
            "bin_end": 13.2,
            "bin_start": 9,
            "count": 2
           },
           {
            "bin_end": 17.4,
            "bin_start": 13.2,
            "count": 1
           },
           {
            "bin_end": 21.6,
            "bin_start": 17.4,
            "count": 0
           },
           {
            "bin_end": 25.8,
            "bin_start": 21.6,
            "count": 0
           },
           {
            "bin_end": 30,
            "bin_start": 25.8,
            "count": 1
           },
           {
            "bin_end": 34.2,
            "bin_start": 30,
            "count": 0
           },
           {
            "bin_end": 38.400000000000006,
            "bin_start": 34.2,
            "count": 0
           },
           {
            "bin_end": 42.6,
            "bin_start": 38.400000000000006,
            "count": 0
           },
           {
            "bin_end": 46.800000000000004,
            "bin_start": 42.6,
            "count": 0
           },
           {
            "bin_end": 51,
            "bin_start": 46.800000000000004,
            "count": 1
           }
          ],
          "max": "51.0",
          "min": "9.0",
          "nan_count": 0,
          "unique_count": 5
         }
        },
        {
         "dtype": "float64",
         "name": "SPED NG Male",
         "stats": {
          "histogram": [
           {
            "bin_end": 3.2,
            "bin_start": 0,
            "count": 4
           },
           {
            "bin_end": 6.4,
            "bin_start": 3.2,
            "count": 0
           },
           {
            "bin_end": 9.600000000000001,
            "bin_start": 6.4,
            "count": 0
           },
           {
            "bin_end": 12.8,
            "bin_start": 9.600000000000001,
            "count": 0
           },
           {
            "bin_end": 16,
            "bin_start": 12.8,
            "count": 0
           },
           {
            "bin_end": 19.200000000000003,
            "bin_start": 16,
            "count": 0
           },
           {
            "bin_end": 22.400000000000002,
            "bin_start": 19.200000000000003,
            "count": 0
           },
           {
            "bin_end": 25.6,
            "bin_start": 22.400000000000002,
            "count": 0
           },
           {
            "bin_end": 28.8,
            "bin_start": 25.6,
            "count": 0
           },
           {
            "bin_end": 32,
            "bin_start": 28.8,
            "count": 1
           }
          ],
          "max": "32.0",
          "min": "0.0",
          "nan_count": 0,
          "unique_count": 2
         }
        },
        {
         "dtype": "float64",
         "name": "SPED NG Female",
         "stats": {
          "histogram": [
           {
            "bin_end": 2.2,
            "bin_start": 0,
            "count": 4
           },
           {
            "bin_end": 4.4,
            "bin_start": 2.2,
            "count": 0
           },
           {
            "bin_end": 6.6000000000000005,
            "bin_start": 4.4,
            "count": 0
           },
           {
            "bin_end": 8.8,
            "bin_start": 6.6000000000000005,
            "count": 0
           },
           {
            "bin_end": 11,
            "bin_start": 8.8,
            "count": 0
           },
           {
            "bin_end": 13.200000000000001,
            "bin_start": 11,
            "count": 0
           },
           {
            "bin_end": 15.400000000000002,
            "bin_start": 13.200000000000001,
            "count": 0
           },
           {
            "bin_end": 17.6,
            "bin_start": 15.400000000000002,
            "count": 0
           },
           {
            "bin_end": 19.8,
            "bin_start": 17.6,
            "count": 0
           },
           {
            "bin_end": 22,
            "bin_start": 19.8,
            "count": 1
           }
          ],
          "max": "22.0",
          "min": "0.0",
          "nan_count": 0,
          "unique_count": 2
         }
        },
        {
         "dtype": "float64",
         "name": "School ID_y",
         "stats": {
          "histogram": [
           {
            "bin_end": 100258,
            "bin_start": 100043,
            "count": 2
           },
           {
            "bin_end": 100473,
            "bin_start": 100258,
            "count": 0
           },
           {
            "bin_end": 100688,
            "bin_start": 100473,
            "count": 0
           },
           {
            "bin_end": 100903,
            "bin_start": 100688,
            "count": 0
           },
           {
            "bin_end": 101118,
            "bin_start": 100903,
            "count": 0
           },
           {
            "bin_end": 101333,
            "bin_start": 101118,
            "count": 1
           },
           {
            "bin_end": 101548,
            "bin_start": 101333,
            "count": 0
           },
           {
            "bin_end": 101763,
            "bin_start": 101548,
            "count": 1
           },
           {
            "bin_end": 101978,
            "bin_start": 101763,
            "count": 0
           },
           {
            "bin_end": 102193,
            "bin_start": 101978,
            "count": 1
           }
          ],
          "max": "102193.0",
          "min": "100043.0",
          "nan_count": 0,
          "unique_count": 5
         }
        },
        {
         "dtype": "float64",
         "name": "rooms.standard.academic",
         "stats": {
          "histogram": [
           {
            "bin_end": 6.9,
            "bin_start": 6,
            "count": 1
           },
           {
            "bin_end": 7.8,
            "bin_start": 6.9,
            "count": 1
           },
           {
            "bin_end": 8.7,
            "bin_start": 7.8,
            "count": 0
           },
           {
            "bin_end": 9.6,
            "bin_start": 8.7,
            "count": 1
           },
           {
            "bin_end": 10.5,
            "bin_start": 9.6,
            "count": 0
           },
           {
            "bin_end": 11.4,
            "bin_start": 10.5,
            "count": 0
           },
           {
            "bin_end": 12.3,
            "bin_start": 11.4,
            "count": 0
           },
           {
            "bin_end": 13.2,
            "bin_start": 12.3,
            "count": 1
           },
           {
            "bin_end": 14.1,
            "bin_start": 13.2,
            "count": 0
           },
           {
            "bin_end": 15,
            "bin_start": 14.1,
            "count": 1
           }
          ],
          "max": "15.0",
          "min": "6.0",
          "nan_count": 0,
          "unique_count": 5
         }
        },
        {
         "dtype": "float64",
         "name": "rooms.standard.unused",
         "stats": {
          "histogram": [
           {
            "bin_end": 0.3,
            "bin_start": 0,
            "count": 4
           },
           {
            "bin_end": 0.6,
            "bin_start": 0.3,
            "count": 0
           },
           {
            "bin_end": 0.8999999999999999,
            "bin_start": 0.6,
            "count": 0
           },
           {
            "bin_end": 1.2,
            "bin_start": 0.8999999999999999,
            "count": 0
           },
           {
            "bin_end": 1.5,
            "bin_start": 1.2,
            "count": 0
           },
           {
            "bin_end": 1.7999999999999998,
            "bin_start": 1.5,
            "count": 0
           },
           {
            "bin_end": 2.1,
            "bin_start": 1.7999999999999998,
            "count": 0
           },
           {
            "bin_end": 2.4,
            "bin_start": 2.1,
            "count": 0
           },
           {
            "bin_end": 2.6999999999999997,
            "bin_start": 2.4,
            "count": 0
           },
           {
            "bin_end": 3,
            "bin_start": 2.6999999999999997,
            "count": 1
           }
          ],
          "max": "3.0",
          "min": "0.0",
          "nan_count": 0,
          "unique_count": 2
         }
        },
        {
         "dtype": "float64",
         "name": "rooms.nonstandard.academic",
         "stats": {
          "histogram": [
           {
            "bin_end": -0.4,
            "bin_start": -0.5,
            "count": 0
           },
           {
            "bin_end": -0.3,
            "bin_start": -0.4,
            "count": 0
           },
           {
            "bin_end": -0.19999999999999996,
            "bin_start": -0.3,
            "count": 0
           },
           {
            "bin_end": -0.09999999999999998,
            "bin_start": -0.19999999999999996,
            "count": 0
           },
           {
            "bin_end": 0,
            "bin_start": -0.09999999999999998,
            "count": 0
           },
           {
            "bin_end": 0.10000000000000009,
            "bin_start": 0,
            "count": 5
           },
           {
            "bin_end": 0.20000000000000007,
            "bin_start": 0.10000000000000009,
            "count": 0
           },
           {
            "bin_end": 0.30000000000000004,
            "bin_start": 0.20000000000000007,
            "count": 0
           },
           {
            "bin_end": 0.4,
            "bin_start": 0.30000000000000004,
            "count": 0
           },
           {
            "bin_end": 0.5,
            "bin_start": 0.4,
            "count": 0
           }
          ],
          "max": "0.0",
          "min": "0.0",
          "nan_count": 0,
          "unique_count": 1
         }
        },
        {
         "dtype": "float64",
         "name": "rooms.nonstandard.unused",
         "stats": {
          "histogram": [
           {
            "bin_end": -0.4,
            "bin_start": -0.5,
            "count": 0
           },
           {
            "bin_end": -0.3,
            "bin_start": -0.4,
            "count": 0
           },
           {
            "bin_end": -0.19999999999999996,
            "bin_start": -0.3,
            "count": 0
           },
           {
            "bin_end": -0.09999999999999998,
            "bin_start": -0.19999999999999996,
            "count": 0
           },
           {
            "bin_end": 0,
            "bin_start": -0.09999999999999998,
            "count": 0
           },
           {
            "bin_end": 0.10000000000000009,
            "bin_start": 0,
            "count": 5
           },
           {
            "bin_end": 0.20000000000000007,
            "bin_start": 0.10000000000000009,
            "count": 0
           },
           {
            "bin_end": 0.30000000000000004,
            "bin_start": 0.20000000000000007,
            "count": 0
           },
           {
            "bin_end": 0.4,
            "bin_start": 0.30000000000000004,
            "count": 0
           },
           {
            "bin_end": 0.5,
            "bin_start": 0.4,
            "count": 0
           }
          ],
          "max": "0.0",
          "min": "0.0",
          "nan_count": 0,
          "unique_count": 1
         }
        },
        {
         "dtype": "float64",
         "name": "teachers.instructor",
         "stats": {
          "histogram": [
           {
            "bin_end": -0.4,
            "bin_start": -0.5,
            "count": 0
           },
           {
            "bin_end": -0.3,
            "bin_start": -0.4,
            "count": 0
           },
           {
            "bin_end": -0.19999999999999996,
            "bin_start": -0.3,
            "count": 0
           },
           {
            "bin_end": -0.09999999999999998,
            "bin_start": -0.19999999999999996,
            "count": 0
           },
           {
            "bin_end": 0,
            "bin_start": -0.09999999999999998,
            "count": 0
           },
           {
            "bin_end": 0.10000000000000009,
            "bin_start": 0,
            "count": 5
           },
           {
            "bin_end": 0.20000000000000007,
            "bin_start": 0.10000000000000009,
            "count": 0
           },
           {
            "bin_end": 0.30000000000000004,
            "bin_start": 0.20000000000000007,
            "count": 0
           },
           {
            "bin_end": 0.4,
            "bin_start": 0.30000000000000004,
            "count": 0
           },
           {
            "bin_end": 0.5,
            "bin_start": 0.4,
            "count": 0
           }
          ],
          "max": "0.0",
          "min": "0.0",
          "nan_count": 0,
          "unique_count": 1
         }
        },
        {
         "dtype": "float64",
         "name": "teachers.mobile",
         "stats": {
          "histogram": [
           {
            "bin_end": 1.1,
            "bin_start": 1,
            "count": 4
           },
           {
            "bin_end": 1.2,
            "bin_start": 1.1,
            "count": 0
           },
           {
            "bin_end": 1.3,
            "bin_start": 1.2,
            "count": 0
           },
           {
            "bin_end": 1.4,
            "bin_start": 1.3,
            "count": 0
           },
           {
            "bin_end": 1.5,
            "bin_start": 1.4,
            "count": 0
           },
           {
            "bin_end": 1.6,
            "bin_start": 1.5,
            "count": 0
           },
           {
            "bin_end": 1.7000000000000002,
            "bin_start": 1.6,
            "count": 0
           },
           {
            "bin_end": 1.8,
            "bin_start": 1.7000000000000002,
            "count": 0
           },
           {
            "bin_end": 1.9,
            "bin_start": 1.8,
            "count": 0
           },
           {
            "bin_end": 2,
            "bin_start": 1.9,
            "count": 1
           }
          ],
          "max": "2.0",
          "min": "1.0",
          "nan_count": 0,
          "unique_count": 2
         }
        },
        {
         "dtype": "float64",
         "name": "teachers.regular",
         "stats": {
          "histogram": [
           {
            "bin_end": 7.4,
            "bin_start": 6,
            "count": 2
           },
           {
            "bin_end": 8.8,
            "bin_start": 7.4,
            "count": 1
           },
           {
            "bin_end": 10.2,
            "bin_start": 8.8,
            "count": 0
           },
           {
            "bin_end": 11.6,
            "bin_start": 10.2,
            "count": 0
           },
           {
            "bin_end": 13,
            "bin_start": 11.6,
            "count": 1
           },
           {
            "bin_end": 14.399999999999999,
            "bin_start": 13,
            "count": 0
           },
           {
            "bin_end": 15.799999999999999,
            "bin_start": 14.399999999999999,
            "count": 0
           },
           {
            "bin_end": 17.2,
            "bin_start": 15.799999999999999,
            "count": 0
           },
           {
            "bin_end": 18.6,
            "bin_start": 17.2,
            "count": 0
           },
           {
            "bin_end": 20,
            "bin_start": 18.6,
            "count": 1
           }
          ],
          "max": "20.0",
          "min": "6.0",
          "nan_count": 0,
          "unique_count": 4
         }
        },
        {
         "dtype": "float64",
         "name": "teachers.sped",
         "stats": {
          "histogram": [
           {
            "bin_end": 0.4,
            "bin_start": 0,
            "count": 4
           },
           {
            "bin_end": 0.8,
            "bin_start": 0.4,
            "count": 0
           },
           {
            "bin_end": 1.2000000000000002,
            "bin_start": 0.8,
            "count": 0
           },
           {
            "bin_end": 1.6,
            "bin_start": 1.2000000000000002,
            "count": 0
           },
           {
            "bin_end": 2,
            "bin_start": 1.6,
            "count": 0
           },
           {
            "bin_end": 2.4000000000000004,
            "bin_start": 2,
            "count": 0
           },
           {
            "bin_end": 2.8000000000000003,
            "bin_start": 2.4000000000000004,
            "count": 0
           },
           {
            "bin_end": 3.2,
            "bin_start": 2.8000000000000003,
            "count": 0
           },
           {
            "bin_end": 3.6,
            "bin_start": 3.2,
            "count": 0
           },
           {
            "bin_end": 4,
            "bin_start": 3.6,
            "count": 1
           }
          ],
          "max": "4.0",
          "min": "0.0",
          "nan_count": 0,
          "unique_count": 2
         }
        },
        {
         "dtype": "int64",
         "name": "_deepnote_index_column"
        }
       ],
       "row_count": 5,
       "rows_bottom": null,
       "rows_top": [
        {
         "Grade 1 Female": 58,
         "Grade 1 Male": 56,
         "Grade 2 Female": 61,
         "Grade 2 Male": 63,
         "Grade 3 Female": 61,
         "Grade 3 Male": 55,
         "Grade 4 Female": 55,
         "Grade 4 Male": 62,
         "Grade 5 Female": 48,
         "Grade 5 Male": 61,
         "Grade 6 Female": 51,
         "Grade 6 Male": 48,
         "Kinder Female": 45,
         "Kinder Male": 57,
         "SPED NG Female": 0,
         "SPED NG Male": 0,
         "School ID_x": 101746,
         "School ID_y": 101746,
         "_deepnote_index_column": 0,
         "rooms.nonstandard.academic": 0,
         "rooms.nonstandard.unused": 0,
         "rooms.standard.academic": 15,
         "rooms.standard.unused": 0,
         "school.abbrev": "ADSES",
         "school.address": "Brgy. Dias Bautista, Pang",
         "school.cityclass": "nan",
         "school.cityhall": "PANGASINAN",
         "school.cityincome": "P 25 M or more but less than P 35 M",
         "school.citymuni": "BAUTISTA",
         "school.classification": "Elementary",
         "school.classification2": "DepED Managed",
         "school.curricularclass": "Elementary",
         "school.district": "Bautista",
         "school.division": "Pangasinan II, Binalonan",
         "school.established": "1/1/1930",
         "school.id": 101746,
         "school.legdistrict": "5th District",
         "school.mother.id": 101746,
         "school.name": "A. Diaz, Sr. ES",
         "school.organization": "Monograde",
         "school.previousname": "none",
         "school.province": "PANGASINAN",
         "school.region": "Region I",
         "school.region.name": "Ilocos Region",
         "school.type": "School with no Annexes",
         "school.urban": "Partially Urban",
         "teachers.instructor": 0,
         "teachers.mobile": 1,
         "teachers.regular": 20,
         "teachers.sped": 0
        },
        {
         "Grade 1 Female": 30,
         "Grade 1 Male": 38,
         "Grade 2 Female": 18,
         "Grade 2 Male": 37,
         "Grade 3 Female": 33,
         "Grade 3 Male": 29,
         "Grade 4 Female": 41,
         "Grade 4 Male": 23,
         "Grade 5 Female": 27,
         "Grade 5 Male": 39,
         "Grade 6 Female": 26,
         "Grade 6 Male": 26,
         "Kinder Female": 24,
         "Kinder Male": 20,
         "SPED NG Female": 22,
         "SPED NG Male": 32,
         "School ID_x": 102193,
         "School ID_y": 102193,
         "_deepnote_index_column": 1,
         "rooms.nonstandard.academic": 0,
         "rooms.nonstandard.unused": 0,
         "rooms.standard.academic": 13,
         "rooms.standard.unused": 3,
         "school.abbrev": "APSES",
         "school.address": "A.G. Tupaz",
         "school.cityclass": "Component City",
         "school.cityhall": "ILOCOS NORTE",
         "school.cityincome": "P 240 M or more but less than P 320 M",
         "school.citymuni": "LAOAG CITY (Capital)",
         "school.classification": "Elementary",
         "school.classification2": "DepED Managed",
         "school.curricularclass": "Kinder & Elementary",
         "school.district": "Laoag City District II",
         "school.division": "Laoag City",
         "school.established": "1/1/1944",
         "school.id": 102193,
         "school.legdistrict": "1st District",
         "school.mother.id": 102193,
         "school.name": "A. P. Santos ES (SPED Center)",
         "school.organization": "Monograde",
         "school.previousname": "-",
         "school.province": "ILOCOS NORTE",
         "school.region": "Region I",
         "school.region.name": "Ilocos Region",
         "school.type": "School with no Annexes",
         "school.urban": "Partially Urban",
         "teachers.instructor": 0,
         "teachers.mobile": 2,
         "teachers.regular": 12,
         "teachers.sped": 4
        },
        {
         "Grade 1 Female": 10,
         "Grade 1 Male": 11,
         "Grade 2 Female": 13,
         "Grade 2 Male": 9,
         "Grade 3 Female": 13,
         "Grade 3 Male": 15,
         "Grade 4 Female": 11,
         "Grade 4 Male": 14,
         "Grade 5 Female": 13,
         "Grade 5 Male": 23,
         "Grade 6 Female": 9,
         "Grade 6 Male": 7,
         "Kinder Female": 11,
         "Kinder Male": 16,
         "SPED NG Female": 0,
         "SPED NG Male": 0,
         "School ID_x": 101283,
         "School ID_y": 101283,
         "_deepnote_index_column": 2,
         "rooms.nonstandard.academic": 0,
         "rooms.nonstandard.unused": 0,
         "rooms.standard.academic": 7,
         "rooms.standard.unused": 0,
         "school.abbrev": "nan",
         "school.address": "-",
         "school.cityclass": "nan",
         "school.cityhall": "PANGASINAN",
         "school.cityincome": "P 55 M or more",
         "school.citymuni": "BAYAMBANG",
         "school.classification": "Elementary",
         "school.classification2": "DepED Managed",
         "school.curricularclass": "Elementary",
         "school.district": "Bayambang II",
         "school.division": "Pangasinan I, Lingayen",
         "school.established": "1/1/1945",
         "school.id": 101283,
         "school.legdistrict": "3rd District",
         "school.mother.id": 101283,
         "school.name": "A.P. Guevara IS",
         "school.organization": "Monograde",
         "school.previousname": "A.P. Guevarra IS",
         "school.province": "PANGASINAN",
         "school.region": "Region I",
         "school.region.name": "Ilocos Region",
         "school.type": "School with no Annexes",
         "school.urban": "Partially Urban",
         "teachers.instructor": 0,
         "teachers.mobile": 1,
         "teachers.regular": 6,
         "teachers.sped": 0
        },
        {
         "Grade 1 Female": 17,
         "Grade 1 Male": 10,
         "Grade 2 Female": 11,
         "Grade 2 Male": 22,
         "Grade 3 Female": 12,
         "Grade 3 Male": 22,
         "Grade 4 Female": 11,
         "Grade 4 Male": 12,
         "Grade 5 Female": 7,
         "Grade 5 Male": 16,
         "Grade 6 Female": 10,
         "Grade 6 Male": 13,
         "Kinder Female": 6,
         "Kinder Male": 10,
         "SPED NG Female": 0,
         "SPED NG Male": 0,
         "School ID_x": 100216,
         "School ID_y": 100216,
         "_deepnote_index_column": 3,
         "rooms.nonstandard.academic": 0,
         "rooms.nonstandard.unused": 0,
         "rooms.standard.academic": 6,
         "rooms.standard.unused": 0,
         "school.abbrev": "AES",
         "school.address": "Sucsuquen",
         "school.cityclass": "nan",
         "school.cityhall": "ILOCOS NORTE",
         "school.cityincome": "P 35 M or more but less than P 45 M",
         "school.citymuni": "PIDDIG",
         "school.classification": "Elementary",
         "school.classification2": "DepED Managed",
         "school.curricularclass": "Elementary",
         "school.district": "Piddig",
         "school.division": "Ilocos Norte",
         "school.established": "1/1/1964",
         "school.id": 100216,
         "school.legdistrict": "1st District",
         "school.mother.id": 100216,
         "school.name": "Ab-Abut ES",
         "school.organization": "Monograde",
         "school.previousname": "-",
         "school.province": "ILOCOS NORTE",
         "school.region": "Region I",
         "school.region.name": "Ilocos Region",
         "school.type": "School with no Annexes",
         "school.urban": "Partially Urban",
         "teachers.instructor": 0,
         "teachers.mobile": 1,
         "teachers.regular": 6,
         "teachers.sped": 0
        },
        {
         "Grade 1 Female": 26,
         "Grade 1 Male": 22,
         "Grade 2 Female": 14,
         "Grade 2 Male": 17,
         "Grade 3 Female": 22,
         "Grade 3 Male": 16,
         "Grade 4 Female": 15,
         "Grade 4 Male": 24,
         "Grade 5 Female": 19,
         "Grade 5 Male": 28,
         "Grade 6 Female": 17,
         "Grade 6 Male": 26,
         "Kinder Female": 13,
         "Kinder Male": 12,
         "SPED NG Female": 0,
         "SPED NG Male": 0,
         "School ID_x": 100043,
         "School ID_y": 100043,
         "_deepnote_index_column": 4,
         "rooms.nonstandard.academic": 0,
         "rooms.nonstandard.unused": 0,
         "rooms.standard.academic": 9,
         "rooms.standard.unused": 0,
         "school.abbrev": "AES",
         "school.address": "None",
         "school.cityclass": "nan",
         "school.cityhall": "ILOCOS NORTE",
         "school.cityincome": "P 25 M or more but less than P 35 M",
         "school.citymuni": "BANGUI",
         "school.classification": "Elementary",
         "school.classification2": "DepED Managed",
         "school.curricularclass": "Elementary",
         "school.district": "Bangui",
         "school.division": "Ilocos Norte",
         "school.established": "1/1/1979",
         "school.id": 100043,
         "school.legdistrict": "1st District",
         "school.mother.id": 100043,
         "school.name": "Abaca ES",
         "school.organization": "Monograde",
         "school.previousname": "none",
         "school.province": "ILOCOS NORTE",
         "school.region": "Region I",
         "school.region.name": "Ilocos Region",
         "school.type": "School with no Annexes",
         "school.urban": "Partially Urban",
         "teachers.instructor": 0,
         "teachers.mobile": 1,
         "teachers.regular": 8,
         "teachers.sped": 0
        }
       ]
      },
      "text/html": [
       "<div>\n",
       "<style scoped>\n",
       "    .dataframe tbody tr th:only-of-type {\n",
       "        vertical-align: middle;\n",
       "    }\n",
       "\n",
       "    .dataframe tbody tr th {\n",
       "        vertical-align: top;\n",
       "    }\n",
       "\n",
       "    .dataframe thead th {\n",
       "        text-align: right;\n",
       "    }\n",
       "</style>\n",
       "<table border=\"1\" class=\"dataframe\">\n",
       "  <thead>\n",
       "    <tr style=\"text-align: right;\">\n",
       "      <th></th>\n",
       "      <th>school.id</th>\n",
       "      <th>school.name</th>\n",
       "      <th>school.region</th>\n",
       "      <th>school.region.name</th>\n",
       "      <th>school.province</th>\n",
       "      <th>school.cityhall</th>\n",
       "      <th>school.division</th>\n",
       "      <th>school.citymuni</th>\n",
       "      <th>school.district</th>\n",
       "      <th>school.legdistrict</th>\n",
       "      <th>...</th>\n",
       "      <th>SPED NG Female</th>\n",
       "      <th>School ID_y</th>\n",
       "      <th>rooms.standard.academic</th>\n",
       "      <th>rooms.standard.unused</th>\n",
       "      <th>rooms.nonstandard.academic</th>\n",
       "      <th>rooms.nonstandard.unused</th>\n",
       "      <th>teachers.instructor</th>\n",
       "      <th>teachers.mobile</th>\n",
       "      <th>teachers.regular</th>\n",
       "      <th>teachers.sped</th>\n",
       "    </tr>\n",
       "  </thead>\n",
       "  <tbody>\n",
       "    <tr>\n",
       "      <th>0</th>\n",
       "      <td>101746</td>\n",
       "      <td>A. Diaz, Sr. ES</td>\n",
       "      <td>Region I</td>\n",
       "      <td>Ilocos Region</td>\n",
       "      <td>PANGASINAN</td>\n",
       "      <td>PANGASINAN</td>\n",
       "      <td>Pangasinan II, Binalonan</td>\n",
       "      <td>BAUTISTA</td>\n",
       "      <td>Bautista</td>\n",
       "      <td>5th District</td>\n",
       "      <td>...</td>\n",
       "      <td>0.0</td>\n",
       "      <td>101746.0</td>\n",
       "      <td>15.0</td>\n",
       "      <td>0.0</td>\n",
       "      <td>0.0</td>\n",
       "      <td>0.0</td>\n",
       "      <td>0.0</td>\n",
       "      <td>1.0</td>\n",
       "      <td>20.0</td>\n",
       "      <td>0.0</td>\n",
       "    </tr>\n",
       "    <tr>\n",
       "      <th>1</th>\n",
       "      <td>102193</td>\n",
       "      <td>A. P. Santos ES (SPED Center)</td>\n",
       "      <td>Region I</td>\n",
       "      <td>Ilocos Region</td>\n",
       "      <td>ILOCOS NORTE</td>\n",
       "      <td>ILOCOS NORTE</td>\n",
       "      <td>Laoag City</td>\n",
       "      <td>LAOAG CITY (Capital)</td>\n",
       "      <td>Laoag City District II</td>\n",
       "      <td>1st District</td>\n",
       "      <td>...</td>\n",
       "      <td>22.0</td>\n",
       "      <td>102193.0</td>\n",
       "      <td>13.0</td>\n",
       "      <td>3.0</td>\n",
       "      <td>0.0</td>\n",
       "      <td>0.0</td>\n",
       "      <td>0.0</td>\n",
       "      <td>2.0</td>\n",
       "      <td>12.0</td>\n",
       "      <td>4.0</td>\n",
       "    </tr>\n",
       "    <tr>\n",
       "      <th>2</th>\n",
       "      <td>101283</td>\n",
       "      <td>A.P. Guevara IS</td>\n",
       "      <td>Region I</td>\n",
       "      <td>Ilocos Region</td>\n",
       "      <td>PANGASINAN</td>\n",
       "      <td>PANGASINAN</td>\n",
       "      <td>Pangasinan I, Lingayen</td>\n",
       "      <td>BAYAMBANG</td>\n",
       "      <td>Bayambang II</td>\n",
       "      <td>3rd District</td>\n",
       "      <td>...</td>\n",
       "      <td>0.0</td>\n",
       "      <td>101283.0</td>\n",
       "      <td>7.0</td>\n",
       "      <td>0.0</td>\n",
       "      <td>0.0</td>\n",
       "      <td>0.0</td>\n",
       "      <td>0.0</td>\n",
       "      <td>1.0</td>\n",
       "      <td>6.0</td>\n",
       "      <td>0.0</td>\n",
       "    </tr>\n",
       "    <tr>\n",
       "      <th>3</th>\n",
       "      <td>100216</td>\n",
       "      <td>Ab-Abut ES</td>\n",
       "      <td>Region I</td>\n",
       "      <td>Ilocos Region</td>\n",
       "      <td>ILOCOS NORTE</td>\n",
       "      <td>ILOCOS NORTE</td>\n",
       "      <td>Ilocos Norte</td>\n",
       "      <td>PIDDIG</td>\n",
       "      <td>Piddig</td>\n",
       "      <td>1st District</td>\n",
       "      <td>...</td>\n",
       "      <td>0.0</td>\n",
       "      <td>100216.0</td>\n",
       "      <td>6.0</td>\n",
       "      <td>0.0</td>\n",
       "      <td>0.0</td>\n",
       "      <td>0.0</td>\n",
       "      <td>0.0</td>\n",
       "      <td>1.0</td>\n",
       "      <td>6.0</td>\n",
       "      <td>0.0</td>\n",
       "    </tr>\n",
       "    <tr>\n",
       "      <th>4</th>\n",
       "      <td>100043</td>\n",
       "      <td>Abaca ES</td>\n",
       "      <td>Region I</td>\n",
       "      <td>Ilocos Region</td>\n",
       "      <td>ILOCOS NORTE</td>\n",
       "      <td>ILOCOS NORTE</td>\n",
       "      <td>Ilocos Norte</td>\n",
       "      <td>BANGUI</td>\n",
       "      <td>Bangui</td>\n",
       "      <td>1st District</td>\n",
       "      <td>...</td>\n",
       "      <td>0.0</td>\n",
       "      <td>100043.0</td>\n",
       "      <td>9.0</td>\n",
       "      <td>0.0</td>\n",
       "      <td>0.0</td>\n",
       "      <td>0.0</td>\n",
       "      <td>0.0</td>\n",
       "      <td>1.0</td>\n",
       "      <td>8.0</td>\n",
       "      <td>0.0</td>\n",
       "    </tr>\n",
       "  </tbody>\n",
       "</table>\n",
       "<p>5 rows × 49 columns</p>\n",
       "</div>"
      ],
      "text/plain": [
       "   school.id                    school.name school.region school.region.name  \\\n",
       "0     101746                A. Diaz, Sr. ES      Region I      Ilocos Region   \n",
       "1     102193  A. P. Santos ES (SPED Center)      Region I      Ilocos Region   \n",
       "2     101283                A.P. Guevara IS      Region I      Ilocos Region   \n",
       "3     100216                     Ab-Abut ES      Region I      Ilocos Region   \n",
       "4     100043                       Abaca ES      Region I      Ilocos Region   \n",
       "\n",
       "  school.province school.cityhall           school.division  \\\n",
       "0      PANGASINAN      PANGASINAN  Pangasinan II, Binalonan   \n",
       "1    ILOCOS NORTE    ILOCOS NORTE                Laoag City   \n",
       "2      PANGASINAN      PANGASINAN    Pangasinan I, Lingayen   \n",
       "3    ILOCOS NORTE    ILOCOS NORTE              Ilocos Norte   \n",
       "4    ILOCOS NORTE    ILOCOS NORTE              Ilocos Norte   \n",
       "\n",
       "        school.citymuni         school.district school.legdistrict  ...  \\\n",
       "0              BAUTISTA                Bautista       5th District  ...   \n",
       "1  LAOAG CITY (Capital)  Laoag City District II       1st District  ...   \n",
       "2             BAYAMBANG            Bayambang II       3rd District  ...   \n",
       "3                PIDDIG                  Piddig       1st District  ...   \n",
       "4                BANGUI                  Bangui       1st District  ...   \n",
       "\n",
       "  SPED NG Female School ID_y rooms.standard.academic  rooms.standard.unused  \\\n",
       "0            0.0    101746.0                    15.0                    0.0   \n",
       "1           22.0    102193.0                    13.0                    3.0   \n",
       "2            0.0    101283.0                     7.0                    0.0   \n",
       "3            0.0    100216.0                     6.0                    0.0   \n",
       "4            0.0    100043.0                     9.0                    0.0   \n",
       "\n",
       "  rooms.nonstandard.academic rooms.nonstandard.unused teachers.instructor  \\\n",
       "0                        0.0                      0.0                 0.0   \n",
       "1                        0.0                      0.0                 0.0   \n",
       "2                        0.0                      0.0                 0.0   \n",
       "3                        0.0                      0.0                 0.0   \n",
       "4                        0.0                      0.0                 0.0   \n",
       "\n",
       "  teachers.mobile teachers.regular teachers.sped  \n",
       "0             1.0             20.0           0.0  \n",
       "1             2.0             12.0           4.0  \n",
       "2             1.0              6.0           0.0  \n",
       "3             1.0              6.0           0.0  \n",
       "4             1.0              8.0           0.0  \n",
       "\n",
       "[5 rows x 49 columns]"
      ]
     },
     "execution_count": 131,
     "metadata": {},
     "output_type": "execute_result"
    }
   ],
   "source": [
    "all_data.head()"
   ]
  },
  {
   "cell_type": "code",
   "execution_count": null,
   "metadata": {
    "cell_id": "00066-2fd99e27-0db6-4a75-a7bb-91011c59e9aa",
    "deepnote_cell_type": "code",
    "deepnote_to_be_reexecuted": false,
    "execution_millis": 12,
    "execution_start": 1620909992912,
    "source_hash": "1fa25e28",
    "tags": []
   },
   "outputs": [
    {
     "data": {
      "text/plain": [
       "Index(['school.id', 'school.name', 'school.region', 'school.region.name',\n",
       "       'school.province', 'school.cityhall', 'school.division',\n",
       "       'school.citymuni', 'school.district', 'school.legdistrict',\n",
       "       'school.type', 'school.abbrev', 'school.previousname',\n",
       "       'school.mother.id', 'school.address', 'school.established',\n",
       "       'school.classification', 'school.classification2',\n",
       "       'school.curricularclass', 'school.organization', 'school.cityincome',\n",
       "       'school.cityclass', 'school.urban', 'School ID_x', 'Kinder Male',\n",
       "       'Kinder Female', 'Grade 1 Male', 'Grade 1 Female', 'Grade 2 Male',\n",
       "       'Grade 2 Female', 'Grade 3 Male', 'Grade 3 Female', 'Grade 4 Male',\n",
       "       'Grade 4 Female', 'Grade 5 Male', 'Grade 5 Female', 'Grade 6 Male',\n",
       "       'Grade 6 Female', 'SPED NG Male', 'SPED NG Female', 'School ID_y',\n",
       "       'rooms.standard.academic', 'rooms.standard.unused',\n",
       "       'rooms.nonstandard.academic', 'rooms.nonstandard.unused',\n",
       "       'teachers.instructor', 'teachers.mobile', 'teachers.regular',\n",
       "       'teachers.sped'],\n",
       "      dtype='object')"
      ]
     },
     "execution_count": 128,
     "metadata": {},
     "output_type": "execute_result"
    }
   ],
   "source": [
    "all_data.columns"
   ]
  },
  {
   "cell_type": "code",
   "execution_count": null,
   "metadata": {
    "cell_id": "00064-b74540c6-ea6b-4657-8e84-ee12b0615f39",
    "deepnote_cell_type": "code",
    "deepnote_to_be_reexecuted": false,
    "execution_millis": 25,
    "execution_start": 1620911819065,
    "source_hash": "43bdadba",
    "tags": []
   },
   "outputs": [],
   "source": [
    "ncr_schools = all_data[all_data[\"school.region\"] == \"NCR\"]\n",
    "armm_schools = all_data[all_data[\"school.region\"] == \"ARMM\"]"
   ]
  },
  {
   "cell_type": "code",
   "execution_count": null,
   "metadata": {
    "cell_id": "00066-78613b6a-5e95-466f-a8e8-8784dbce7545",
    "deepnote_cell_type": "code",
    "deepnote_to_be_reexecuted": false,
    "execution_millis": 20,
    "execution_start": 1620909912553,
    "source_hash": "74bb4f2",
    "tags": []
   },
   "outputs": [
    {
     "data": {
      "text/plain": [
       "(2514, 49)"
      ]
     },
     "execution_count": 127,
     "metadata": {},
     "output_type": "execute_result"
    }
   ],
   "source": [
    "armm_schools.shape"
   ]
  },
  {
   "cell_type": "code",
   "execution_count": null,
   "metadata": {
    "cell_id": "00072-fb7f87a8-5ce4-4ac9-b721-78b529720ea2",
    "deepnote_cell_type": "code",
    "deepnote_to_be_reexecuted": false,
    "execution_millis": 273,
    "execution_start": 1620911846558,
    "source_hash": "a250eb36",
    "tags": []
   },
   "outputs": [
    {
     "data": {
      "application/vnd.deepnote.dataframe.v2+json": {
       "column_count": 54,
       "columns": [
        {
         "dtype": "int64",
         "name": "school.id",
         "stats": {
          "histogram": [
           {
            "bin_end": 136456.3,
            "bin_start": 136418,
            "count": 1
           },
           {
            "bin_end": 136494.6,
            "bin_start": 136456.3,
            "count": 0
           },
           {
            "bin_end": 136532.9,
            "bin_start": 136494.6,
            "count": 0
           },
           {
            "bin_end": 136571.2,
            "bin_start": 136532.9,
            "count": 1
           },
           {
            "bin_end": 136609.5,
            "bin_start": 136571.2,
            "count": 1
           },
           {
            "bin_end": 136647.8,
            "bin_start": 136609.5,
            "count": 0
           },
           {
            "bin_end": 136686.1,
            "bin_start": 136647.8,
            "count": 0
           },
           {
            "bin_end": 136724.4,
            "bin_start": 136686.1,
            "count": 0
           },
           {
            "bin_end": 136762.7,
            "bin_start": 136724.4,
            "count": 0
           },
           {
            "bin_end": 136801,
            "bin_start": 136762.7,
            "count": 2
           }
          ],
          "max": "136801",
          "min": "136418",
          "nan_count": 0,
          "unique_count": 5
         }
        },
        {
         "dtype": "object",
         "name": "school.name",
         "stats": {
          "categories": [
           {
            "count": 1,
            "name": "15th Avenue Elementary School"
           },
           {
            "count": 1,
            "name": "A. Bonifacio ES"
           },
           {
            "count": 3,
            "name": "3 others"
           }
          ],
          "nan_count": 0,
          "unique_count": 5
         }
        },
        {
         "dtype": "object",
         "name": "school.region",
         "stats": {
          "categories": [
           {
            "count": 5,
            "name": "NCR"
           }
          ],
          "nan_count": 0,
          "unique_count": 1
         }
        },
        {
         "dtype": "object",
         "name": "school.region.name",
         "stats": {
          "categories": [
           {
            "count": 5,
            "name": "National Capital Region"
           }
          ],
          "nan_count": 0,
          "unique_count": 1
         }
        },
        {
         "dtype": "object",
         "name": "school.province",
         "stats": {
          "categories": [
           {
            "count": 2,
            "name": "NCR THIRD DISTRICT"
           },
           {
            "count": 1,
            "name": "NCR SECOND DISTRICT"
           },
           {
            "count": 2,
            "name": "2 others"
           }
          ],
          "nan_count": 0,
          "unique_count": 4
         }
        },
        {
         "dtype": "object",
         "name": "school.cityhall",
         "stats": {
          "categories": [
           {
            "count": 2,
            "name": "CITY OF VALENZUELA"
           },
           {
            "count": 1,
            "name": "QUEZON CITY"
           },
           {
            "count": 2,
            "name": "2 others"
           }
          ],
          "nan_count": 0,
          "unique_count": 4
         }
        },
        {
         "dtype": "object",
         "name": "school.division",
         "stats": {
          "categories": [
           {
            "count": 2,
            "name": "Valenzuela City"
           },
           {
            "count": 1,
            "name": "Quezon City"
           },
           {
            "count": 2,
            "name": "2 others"
           }
          ],
          "nan_count": 0,
          "unique_count": 4
         }
        },
        {
         "dtype": "object",
         "name": "school.citymuni",
         "stats": {
          "categories": [
           {
            "count": 2,
            "name": "CITY OF VALENZUELA"
           },
           {
            "count": 1,
            "name": "QUEZON CITY"
           },
           {
            "count": 2,
            "name": "2 others"
           }
          ],
          "nan_count": 0,
          "unique_count": 4
         }
        },
        {
         "dtype": "object",
         "name": "school.district",
         "stats": {
          "categories": [
           {
            "count": 2,
            "name": "Valenzuela City North District"
           },
           {
            "count": 1,
            "name": "School District XI"
           },
           {
            "count": 2,
            "name": "2 others"
           }
          ],
          "nan_count": 0,
          "unique_count": 4
         }
        },
        {
         "dtype": "object",
         "name": "school.legdistrict",
         "stats": {
          "categories": [
           {
            "count": 2,
            "name": "1st District"
           },
           {
            "count": 1,
            "name": "3rd District"
           },
           {
            "count": 2,
            "name": "2 others"
           }
          ],
          "nan_count": 0,
          "unique_count": 4
         }
        },
        {
         "dtype": "object",
         "name": "school.type",
         "stats": {
          "categories": [
           {
            "count": 5,
            "name": "School with no Annexes"
           }
          ],
          "nan_count": 0,
          "unique_count": 1
         }
        },
        {
         "dtype": "object",
         "name": "school.abbrev",
         "stats": {
          "categories": [
           {
            "count": 3,
            "name": "0"
           },
           {
            "count": 1,
            "name": "15th Avenue E. S."
           },
           {
            "count": 1,
            "name": "ABES"
           }
          ],
          "nan_count": 0,
          "unique_count": 3
         }
        },
        {
         "dtype": "object",
         "name": "school.previousname",
         "stats": {
          "categories": [
           {
            "count": 3,
            "name": "-"
           },
           {
            "count": 2,
            "name": "0"
           }
          ],
          "nan_count": 0,
          "unique_count": 2
         }
        },
        {
         "dtype": "float64",
         "name": "school.mother.id",
         "stats": {
          "histogram": [
           {
            "bin_end": 136456.3,
            "bin_start": 136418,
            "count": 1
           },
           {
            "bin_end": 136494.6,
            "bin_start": 136456.3,
            "count": 0
           },
           {
            "bin_end": 136532.9,
            "bin_start": 136494.6,
            "count": 0
           },
           {
            "bin_end": 136571.2,
            "bin_start": 136532.9,
            "count": 1
           },
           {
            "bin_end": 136609.5,
            "bin_start": 136571.2,
            "count": 1
           },
           {
            "bin_end": 136647.8,
            "bin_start": 136609.5,
            "count": 0
           },
           {
            "bin_end": 136686.1,
            "bin_start": 136647.8,
            "count": 0
           },
           {
            "bin_end": 136724.4,
            "bin_start": 136686.1,
            "count": 0
           },
           {
            "bin_end": 136762.7,
            "bin_start": 136724.4,
            "count": 0
           },
           {
            "bin_end": 136801,
            "bin_start": 136762.7,
            "count": 2
           }
          ],
          "max": "136801.0",
          "min": "136418.0",
          "nan_count": 0,
          "unique_count": 5
         }
        },
        {
         "dtype": "object",
         "name": "school.address",
         "stats": {
          "categories": [
           {
            "count": 1,
            "name": "#139 15th Avenue Cubao, Quezon City"
           },
           {
            "count": 1,
            "name": "Leveriza St., Pasay City"
           },
           {
            "count": 3,
            "name": "3 others"
           }
          ],
          "nan_count": 0,
          "unique_count": 5
         }
        },
        {
         "dtype": "object",
         "name": "school.established",
         "stats": {
          "categories": [
           {
            "count": 2,
            "name": "1/1/2002"
           },
           {
            "count": 1,
            "name": "1/1/1963"
           },
           {
            "count": 2,
            "name": "2 others"
           }
          ],
          "nan_count": 0,
          "unique_count": 4
         }
        },
        {
         "dtype": "object",
         "name": "school.classification",
         "stats": {
          "categories": [
           {
            "count": 5,
            "name": "Elementary"
           }
          ],
          "nan_count": 0,
          "unique_count": 1
         }
        },
        {
         "dtype": "object",
         "name": "school.classification2",
         "stats": {
          "categories": [
           {
            "count": 5,
            "name": "DepED Managed"
           }
          ],
          "nan_count": 0,
          "unique_count": 1
         }
        },
        {
         "dtype": "object",
         "name": "school.curricularclass",
         "stats": {
          "categories": [
           {
            "count": 4,
            "name": "Elementary"
           },
           {
            "count": 1,
            "name": "Kinder & Elementary"
           }
          ],
          "nan_count": 0,
          "unique_count": 2
         }
        },
        {
         "dtype": "object",
         "name": "school.organization",
         "stats": {
          "categories": [
           {
            "count": 5,
            "name": "Monograde"
           }
          ],
          "nan_count": 0,
          "unique_count": 1
         }
        },
        {
         "dtype": "object",
         "name": "school.cityincome",
         "stats": {
          "categories": [
           {
            "count": 3,
            "name": "P 400 M or more"
           },
           {
            "count": 1,
            "name": "Special Class"
           },
           {
            "count": 1,
            "name": "0"
           }
          ],
          "nan_count": 0,
          "unique_count": 3
         }
        },
        {
         "dtype": "object",
         "name": "school.cityclass",
         "stats": {
          "categories": [
           {
            "count": 5,
            "name": "Highly Urbanized City"
           }
          ],
          "nan_count": 0,
          "unique_count": 1
         }
        },
        {
         "dtype": "object",
         "name": "school.urban",
         "stats": {
          "categories": [
           {
            "count": 5,
            "name": "Urban"
           }
          ],
          "nan_count": 0,
          "unique_count": 1
         }
        },
        {
         "dtype": "float64",
         "name": "School ID_x",
         "stats": {
          "histogram": [
           {
            "bin_end": 136456.3,
            "bin_start": 136418,
            "count": 1
           },
           {
            "bin_end": 136494.6,
            "bin_start": 136456.3,
            "count": 0
           },
           {
            "bin_end": 136532.9,
            "bin_start": 136494.6,
            "count": 0
           },
           {
            "bin_end": 136571.2,
            "bin_start": 136532.9,
            "count": 1
           },
           {
            "bin_end": 136609.5,
            "bin_start": 136571.2,
            "count": 1
           },
           {
            "bin_end": 136647.8,
            "bin_start": 136609.5,
            "count": 0
           },
           {
            "bin_end": 136686.1,
            "bin_start": 136647.8,
            "count": 0
           },
           {
            "bin_end": 136724.4,
            "bin_start": 136686.1,
            "count": 0
           },
           {
            "bin_end": 136762.7,
            "bin_start": 136724.4,
            "count": 0
           },
           {
            "bin_end": 136801,
            "bin_start": 136762.7,
            "count": 2
           }
          ],
          "max": "136801.0",
          "min": "136418.0",
          "nan_count": 0,
          "unique_count": 5
         }
        },
        {
         "dtype": "float64",
         "name": "Kinder Male",
         "stats": {
          "histogram": [
           {
            "bin_end": 44.5,
            "bin_start": 35,
            "count": 1
           },
           {
            "bin_end": 54,
            "bin_start": 44.5,
            "count": 1
           },
           {
            "bin_end": 63.5,
            "bin_start": 54,
            "count": 0
           },
           {
            "bin_end": 73,
            "bin_start": 63.5,
            "count": 0
           },
           {
            "bin_end": 82.5,
            "bin_start": 73,
            "count": 1
           },
           {
            "bin_end": 92,
            "bin_start": 82.5,
            "count": 0
           },
           {
            "bin_end": 101.5,
            "bin_start": 92,
            "count": 0
           },
           {
            "bin_end": 111,
            "bin_start": 101.5,
            "count": 1
           },
           {
            "bin_end": 120.5,
            "bin_start": 111,
            "count": 0
           },
           {
            "bin_end": 130,
            "bin_start": 120.5,
            "count": 1
           }
          ],
          "max": "130.0",
          "min": "35.0",
          "nan_count": 0,
          "unique_count": 5
         }
        },
        {
         "dtype": "float64",
         "name": "Kinder Female",
         "stats": {
          "histogram": [
           {
            "bin_end": 35.7,
            "bin_start": 25,
            "count": 1
           },
           {
            "bin_end": 46.4,
            "bin_start": 35.7,
            "count": 0
           },
           {
            "bin_end": 57.099999999999994,
            "bin_start": 46.4,
            "count": 1
           },
           {
            "bin_end": 67.8,
            "bin_start": 57.099999999999994,
            "count": 0
           },
           {
            "bin_end": 78.5,
            "bin_start": 67.8,
            "count": 1
           },
           {
            "bin_end": 89.19999999999999,
            "bin_start": 78.5,
            "count": 0
           },
           {
            "bin_end": 99.89999999999999,
            "bin_start": 89.19999999999999,
            "count": 1
           },
           {
            "bin_end": 110.6,
            "bin_start": 99.89999999999999,
            "count": 0
           },
           {
            "bin_end": 121.3,
            "bin_start": 110.6,
            "count": 0
           },
           {
            "bin_end": 132,
            "bin_start": 121.3,
            "count": 1
           }
          ],
          "max": "132.0",
          "min": "25.0",
          "nan_count": 0,
          "unique_count": 5
         }
        },
        {
         "dtype": "float64",
         "name": "Grade 1 Male",
         "stats": {
          "histogram": [
           {
            "bin_end": 55,
            "bin_start": 36,
            "count": 1
           },
           {
            "bin_end": 74,
            "bin_start": 55,
            "count": 0
           },
           {
            "bin_end": 93,
            "bin_start": 74,
            "count": 1
           },
           {
            "bin_end": 112,
            "bin_start": 93,
            "count": 1
           },
           {
            "bin_end": 131,
            "bin_start": 112,
            "count": 1
           },
           {
            "bin_end": 150,
            "bin_start": 131,
            "count": 0
           },
           {
            "bin_end": 169,
            "bin_start": 150,
            "count": 0
           },
           {
            "bin_end": 188,
            "bin_start": 169,
            "count": 0
           },
           {
            "bin_end": 207,
            "bin_start": 188,
            "count": 0
           },
           {
            "bin_end": 226,
            "bin_start": 207,
            "count": 1
           }
          ],
          "max": "226.0",
          "min": "36.0",
          "nan_count": 0,
          "unique_count": 5
         }
        },
        {
         "dtype": "float64",
         "name": "Grade 1 Female",
         "stats": {
          "histogram": [
           {
            "bin_end": 60.7,
            "bin_start": 48,
            "count": 1
           },
           {
            "bin_end": 73.4,
            "bin_start": 60.7,
            "count": 1
           },
           {
            "bin_end": 86.1,
            "bin_start": 73.4,
            "count": 0
           },
           {
            "bin_end": 98.8,
            "bin_start": 86.1,
            "count": 2
           },
           {
            "bin_end": 111.5,
            "bin_start": 98.8,
            "count": 0
           },
           {
            "bin_end": 124.19999999999999,
            "bin_start": 111.5,
            "count": 0
           },
           {
            "bin_end": 136.89999999999998,
            "bin_start": 124.19999999999999,
            "count": 0
           },
           {
            "bin_end": 149.6,
            "bin_start": 136.89999999999998,
            "count": 0
           },
           {
            "bin_end": 162.3,
            "bin_start": 149.6,
            "count": 0
           },
           {
            "bin_end": 175,
            "bin_start": 162.3,
            "count": 1
           }
          ],
          "max": "175.0",
          "min": "48.0",
          "nan_count": 0,
          "unique_count": 5
         }
        },
        {
         "dtype": "float64",
         "name": "Grade 2 Male",
         "stats": {
          "histogram": [
           {
            "bin_end": 57.6,
            "bin_start": 41,
            "count": 1
           },
           {
            "bin_end": 74.2,
            "bin_start": 57.6,
            "count": 1
           },
           {
            "bin_end": 90.80000000000001,
            "bin_start": 74.2,
            "count": 1
           },
           {
            "bin_end": 107.4,
            "bin_start": 90.80000000000001,
            "count": 0
           },
           {
            "bin_end": 124,
            "bin_start": 107.4,
            "count": 1
           },
           {
            "bin_end": 140.60000000000002,
            "bin_start": 124,
            "count": 0
           },
           {
            "bin_end": 157.20000000000002,
            "bin_start": 140.60000000000002,
            "count": 0
           },
           {
            "bin_end": 173.8,
            "bin_start": 157.20000000000002,
            "count": 0
           },
           {
            "bin_end": 190.4,
            "bin_start": 173.8,
            "count": 0
           },
           {
            "bin_end": 207,
            "bin_start": 190.4,
            "count": 1
           }
          ],
          "max": "207.0",
          "min": "41.0",
          "nan_count": 0,
          "unique_count": 5
         }
        },
        {
         "dtype": "float64",
         "name": "Grade 2 Female",
         "stats": {
          "histogram": [
           {
            "bin_end": 52.5,
            "bin_start": 38,
            "count": 1
           },
           {
            "bin_end": 67,
            "bin_start": 52.5,
            "count": 1
           },
           {
            "bin_end": 81.5,
            "bin_start": 67,
            "count": 1
           },
           {
            "bin_end": 96,
            "bin_start": 81.5,
            "count": 0
           },
           {
            "bin_end": 110.5,
            "bin_start": 96,
            "count": 1
           },
           {
            "bin_end": 125,
            "bin_start": 110.5,
            "count": 0
           },
           {
            "bin_end": 139.5,
            "bin_start": 125,
            "count": 0
           },
           {
            "bin_end": 154,
            "bin_start": 139.5,
            "count": 0
           },
           {
            "bin_end": 168.5,
            "bin_start": 154,
            "count": 0
           },
           {
            "bin_end": 183,
            "bin_start": 168.5,
            "count": 1
           }
          ],
          "max": "183.0",
          "min": "38.0",
          "nan_count": 0,
          "unique_count": 5
         }
        },
        {
         "dtype": "float64",
         "name": "Grade 3 Male",
         "stats": {
          "histogram": [
           {
            "bin_end": 66.4,
            "bin_start": 54,
            "count": 1
           },
           {
            "bin_end": 78.8,
            "bin_start": 66.4,
            "count": 1
           },
           {
            "bin_end": 91.2,
            "bin_start": 78.8,
            "count": 1
           },
           {
            "bin_end": 103.6,
            "bin_start": 91.2,
            "count": 0
           },
           {
            "bin_end": 116,
            "bin_start": 103.6,
            "count": 0
           },
           {
            "bin_end": 128.4,
            "bin_start": 116,
            "count": 0
           },
           {
            "bin_end": 140.8,
            "bin_start": 128.4,
            "count": 1
           },
           {
            "bin_end": 153.2,
            "bin_start": 140.8,
            "count": 0
           },
           {
            "bin_end": 165.60000000000002,
            "bin_start": 153.2,
            "count": 0
           },
           {
            "bin_end": 178,
            "bin_start": 165.60000000000002,
            "count": 1
           }
          ],
          "max": "178.0",
          "min": "54.0",
          "nan_count": 0,
          "unique_count": 5
         }
        },
        {
         "dtype": "float64",
         "name": "Grade 3 Female",
         "stats": {
          "histogram": [
           {
            "bin_end": 49.1,
            "bin_start": 36,
            "count": 1
           },
           {
            "bin_end": 62.2,
            "bin_start": 49.1,
            "count": 0
           },
           {
            "bin_end": 75.3,
            "bin_start": 62.2,
            "count": 1
           },
           {
            "bin_end": 88.4,
            "bin_start": 75.3,
            "count": 1
           },
           {
            "bin_end": 101.5,
            "bin_start": 88.4,
            "count": 0
           },
           {
            "bin_end": 114.6,
            "bin_start": 101.5,
            "count": 0
           },
           {
            "bin_end": 127.7,
            "bin_start": 114.6,
            "count": 1
           },
           {
            "bin_end": 140.8,
            "bin_start": 127.7,
            "count": 0
           },
           {
            "bin_end": 153.89999999999998,
            "bin_start": 140.8,
            "count": 0
           },
           {
            "bin_end": 167,
            "bin_start": 153.89999999999998,
            "count": 1
           }
          ],
          "max": "167.0",
          "min": "36.0",
          "nan_count": 0,
          "unique_count": 5
         }
        },
        {
         "dtype": "float64",
         "name": "Grade 4 Male",
         "stats": {
          "histogram": [
           {
            "bin_end": 58.3,
            "bin_start": 41,
            "count": 1
           },
           {
            "bin_end": 75.6,
            "bin_start": 58.3,
            "count": 2
           },
           {
            "bin_end": 92.9,
            "bin_start": 75.6,
            "count": 0
           },
           {
            "bin_end": 110.2,
            "bin_start": 92.9,
            "count": 1
           },
           {
            "bin_end": 127.5,
            "bin_start": 110.2,
            "count": 0
           },
           {
            "bin_end": 144.8,
            "bin_start": 127.5,
            "count": 0
           },
           {
            "bin_end": 162.10000000000002,
            "bin_start": 144.8,
            "count": 0
           },
           {
            "bin_end": 179.4,
            "bin_start": 162.10000000000002,
            "count": 0
           },
           {
            "bin_end": 196.70000000000002,
            "bin_start": 179.4,
            "count": 0
           },
           {
            "bin_end": 214,
            "bin_start": 196.70000000000002,
            "count": 1
           }
          ],
          "max": "214.0",
          "min": "41.0",
          "nan_count": 0,
          "unique_count": 5
         }
        },
        {
         "dtype": "float64",
         "name": "Grade 4 Female",
         "stats": {
          "histogram": [
           {
            "bin_end": 48.5,
            "bin_start": 36,
            "count": 1
           },
           {
            "bin_end": 61,
            "bin_start": 48.5,
            "count": 0
           },
           {
            "bin_end": 73.5,
            "bin_start": 61,
            "count": 1
           },
           {
            "bin_end": 86,
            "bin_start": 73.5,
            "count": 1
           },
           {
            "bin_end": 98.5,
            "bin_start": 86,
            "count": 0
           },
           {
            "bin_end": 111,
            "bin_start": 98.5,
            "count": 0
           },
           {
            "bin_end": 123.5,
            "bin_start": 111,
            "count": 1
           },
           {
            "bin_end": 136,
            "bin_start": 123.5,
            "count": 0
           },
           {
            "bin_end": 148.5,
            "bin_start": 136,
            "count": 0
           },
           {
            "bin_end": 161,
            "bin_start": 148.5,
            "count": 1
           }
          ],
          "max": "161.0",
          "min": "36.0",
          "nan_count": 0,
          "unique_count": 5
         }
        },
        {
         "dtype": "float64",
         "name": "Grade 5 Male",
         "stats": {
          "histogram": [
           {
            "bin_end": 45.9,
            "bin_start": 34,
            "count": 1
           },
           {
            "bin_end": 57.8,
            "bin_start": 45.9,
            "count": 0
           },
           {
            "bin_end": 69.7,
            "bin_start": 57.8,
            "count": 1
           },
           {
            "bin_end": 81.6,
            "bin_start": 69.7,
            "count": 1
           },
           {
            "bin_end": 93.5,
            "bin_start": 81.6,
            "count": 0
           },
           {
            "bin_end": 105.4,
            "bin_start": 93.5,
            "count": 0
           },
           {
            "bin_end": 117.3,
            "bin_start": 105.4,
            "count": 1
           },
           {
            "bin_end": 129.2,
            "bin_start": 117.3,
            "count": 0
           },
           {
            "bin_end": 141.10000000000002,
            "bin_start": 129.2,
            "count": 0
           },
           {
            "bin_end": 153,
            "bin_start": 141.10000000000002,
            "count": 1
           }
          ],
          "max": "153.0",
          "min": "34.0",
          "nan_count": 0,
          "unique_count": 5
         }
        },
        {
         "dtype": "float64",
         "name": "Grade 5 Female",
         "stats": {
          "histogram": [
           {
            "bin_end": 52.8,
            "bin_start": 42,
            "count": 1
           },
           {
            "bin_end": 63.6,
            "bin_start": 52.8,
            "count": 2
           },
           {
            "bin_end": 74.4,
            "bin_start": 63.6,
            "count": 0
           },
           {
            "bin_end": 85.2,
            "bin_start": 74.4,
            "count": 0
           },
           {
            "bin_end": 96,
            "bin_start": 85.2,
            "count": 0
           },
           {
            "bin_end": 106.80000000000001,
            "bin_start": 96,
            "count": 1
           },
           {
            "bin_end": 117.60000000000001,
            "bin_start": 106.80000000000001,
            "count": 0
           },
           {
            "bin_end": 128.4,
            "bin_start": 117.60000000000001,
            "count": 0
           },
           {
            "bin_end": 139.2,
            "bin_start": 128.4,
            "count": 0
           },
           {
            "bin_end": 150,
            "bin_start": 139.2,
            "count": 1
           }
          ],
          "max": "150.0",
          "min": "42.0",
          "nan_count": 0,
          "unique_count": 5
         }
        },
        {
         "dtype": "float64",
         "name": "Grade 6 Male",
         "stats": {
          "histogram": [
           {
            "bin_end": 64.2,
            "bin_start": 52,
            "count": 1
           },
           {
            "bin_end": 76.4,
            "bin_start": 64.2,
            "count": 2
           },
           {
            "bin_end": 88.6,
            "bin_start": 76.4,
            "count": 1
           },
           {
            "bin_end": 100.8,
            "bin_start": 88.6,
            "count": 0
           },
           {
            "bin_end": 113,
            "bin_start": 100.8,
            "count": 0
           },
           {
            "bin_end": 125.19999999999999,
            "bin_start": 113,
            "count": 0
           },
           {
            "bin_end": 137.39999999999998,
            "bin_start": 125.19999999999999,
            "count": 0
           },
           {
            "bin_end": 149.6,
            "bin_start": 137.39999999999998,
            "count": 0
           },
           {
            "bin_end": 161.8,
            "bin_start": 149.6,
            "count": 0
           },
           {
            "bin_end": 174,
            "bin_start": 161.8,
            "count": 1
           }
          ],
          "max": "174.0",
          "min": "52.0",
          "nan_count": 0,
          "unique_count": 5
         }
        },
        {
         "dtype": "float64",
         "name": "Grade 6 Female",
         "stats": {
          "histogram": [
           {
            "bin_end": 51.7,
            "bin_start": 41,
            "count": 1
           },
           {
            "bin_end": 62.4,
            "bin_start": 51.7,
            "count": 1
           },
           {
            "bin_end": 73.1,
            "bin_start": 62.4,
            "count": 1
           },
           {
            "bin_end": 83.8,
            "bin_start": 73.1,
            "count": 0
           },
           {
            "bin_end": 94.5,
            "bin_start": 83.8,
            "count": 0
           },
           {
            "bin_end": 105.19999999999999,
            "bin_start": 94.5,
            "count": 0
           },
           {
            "bin_end": 115.89999999999999,
            "bin_start": 105.19999999999999,
            "count": 1
           },
           {
            "bin_end": 126.6,
            "bin_start": 115.89999999999999,
            "count": 0
           },
           {
            "bin_end": 137.3,
            "bin_start": 126.6,
            "count": 0
           },
           {
            "bin_end": 148,
            "bin_start": 137.3,
            "count": 1
           }
          ],
          "max": "148.0",
          "min": "41.0",
          "nan_count": 0,
          "unique_count": 5
         }
        },
        {
         "dtype": "float64",
         "name": "SPED NG Male",
         "stats": {
          "histogram": [
           {
            "bin_end": 1.7,
            "bin_start": 0,
            "count": 4
           },
           {
            "bin_end": 3.4,
            "bin_start": 1.7,
            "count": 0
           },
           {
            "bin_end": 5.1,
            "bin_start": 3.4,
            "count": 0
           },
           {
            "bin_end": 6.8,
            "bin_start": 5.1,
            "count": 0
           },
           {
            "bin_end": 8.5,
            "bin_start": 6.8,
            "count": 0
           },
           {
            "bin_end": 10.2,
            "bin_start": 8.5,
            "count": 0
           },
           {
            "bin_end": 11.9,
            "bin_start": 10.2,
            "count": 0
           },
           {
            "bin_end": 13.6,
            "bin_start": 11.9,
            "count": 0
           },
           {
            "bin_end": 15.299999999999999,
            "bin_start": 13.6,
            "count": 0
           },
           {
            "bin_end": 17,
            "bin_start": 15.299999999999999,
            "count": 1
           }
          ],
          "max": "17.0",
          "min": "0.0",
          "nan_count": 0,
          "unique_count": 2
         }
        },
        {
         "dtype": "float64",
         "name": "SPED NG Female",
         "stats": {
          "histogram": [
           {
            "bin_end": 0.7,
            "bin_start": 0,
            "count": 4
           },
           {
            "bin_end": 1.4,
            "bin_start": 0.7,
            "count": 0
           },
           {
            "bin_end": 2.0999999999999996,
            "bin_start": 1.4,
            "count": 0
           },
           {
            "bin_end": 2.8,
            "bin_start": 2.0999999999999996,
            "count": 0
           },
           {
            "bin_end": 3.5,
            "bin_start": 2.8,
            "count": 0
           },
           {
            "bin_end": 4.199999999999999,
            "bin_start": 3.5,
            "count": 0
           },
           {
            "bin_end": 4.8999999999999995,
            "bin_start": 4.199999999999999,
            "count": 0
           },
           {
            "bin_end": 5.6,
            "bin_start": 4.8999999999999995,
            "count": 0
           },
           {
            "bin_end": 6.3,
            "bin_start": 5.6,
            "count": 0
           },
           {
            "bin_end": 7,
            "bin_start": 6.3,
            "count": 1
           }
          ],
          "max": "7.0",
          "min": "0.0",
          "nan_count": 0,
          "unique_count": 2
         }
        },
        {
         "dtype": "float64",
         "name": "School ID_y",
         "stats": {
          "histogram": [
           {
            "bin_end": 136456.3,
            "bin_start": 136418,
            "count": 1
           },
           {
            "bin_end": 136494.6,
            "bin_start": 136456.3,
            "count": 0
           },
           {
            "bin_end": 136532.9,
            "bin_start": 136494.6,
            "count": 0
           },
           {
            "bin_end": 136571.2,
            "bin_start": 136532.9,
            "count": 1
           },
           {
            "bin_end": 136609.5,
            "bin_start": 136571.2,
            "count": 1
           },
           {
            "bin_end": 136647.8,
            "bin_start": 136609.5,
            "count": 0
           },
           {
            "bin_end": 136686.1,
            "bin_start": 136647.8,
            "count": 0
           },
           {
            "bin_end": 136724.4,
            "bin_start": 136686.1,
            "count": 0
           },
           {
            "bin_end": 136762.7,
            "bin_start": 136724.4,
            "count": 0
           },
           {
            "bin_end": 136801,
            "bin_start": 136762.7,
            "count": 2
           }
          ],
          "max": "136801.0",
          "min": "136418.0",
          "nan_count": 0,
          "unique_count": 5
         }
        },
        {
         "dtype": "float64",
         "name": "rooms.standard.academic",
         "stats": {
          "histogram": [
           {
            "bin_end": 12.9,
            "bin_start": 11,
            "count": 2
           },
           {
            "bin_end": 14.8,
            "bin_start": 12.9,
            "count": 0
           },
           {
            "bin_end": 16.7,
            "bin_start": 14.8,
            "count": 0
           },
           {
            "bin_end": 18.6,
            "bin_start": 16.7,
            "count": 0
           },
           {
            "bin_end": 20.5,
            "bin_start": 18.6,
            "count": 1
           },
           {
            "bin_end": 22.4,
            "bin_start": 20.5,
            "count": 1
           },
           {
            "bin_end": 24.299999999999997,
            "bin_start": 22.4,
            "count": 0
           },
           {
            "bin_end": 26.2,
            "bin_start": 24.299999999999997,
            "count": 0
           },
           {
            "bin_end": 28.099999999999998,
            "bin_start": 26.2,
            "count": 0
           },
           {
            "bin_end": 30,
            "bin_start": 28.099999999999998,
            "count": 1
           }
          ],
          "max": "30.0",
          "min": "11.0",
          "nan_count": 0,
          "unique_count": 4
         }
        },
        {
         "dtype": "float64",
         "name": "rooms.standard.unused",
         "stats": {
          "histogram": [
           {
            "bin_end": -0.4,
            "bin_start": -0.5,
            "count": 0
           },
           {
            "bin_end": -0.3,
            "bin_start": -0.4,
            "count": 0
           },
           {
            "bin_end": -0.19999999999999996,
            "bin_start": -0.3,
            "count": 0
           },
           {
            "bin_end": -0.09999999999999998,
            "bin_start": -0.19999999999999996,
            "count": 0
           },
           {
            "bin_end": 0,
            "bin_start": -0.09999999999999998,
            "count": 0
           },
           {
            "bin_end": 0.10000000000000009,
            "bin_start": 0,
            "count": 5
           },
           {
            "bin_end": 0.20000000000000007,
            "bin_start": 0.10000000000000009,
            "count": 0
           },
           {
            "bin_end": 0.30000000000000004,
            "bin_start": 0.20000000000000007,
            "count": 0
           },
           {
            "bin_end": 0.4,
            "bin_start": 0.30000000000000004,
            "count": 0
           },
           {
            "bin_end": 0.5,
            "bin_start": 0.4,
            "count": 0
           }
          ],
          "max": "0.0",
          "min": "0.0",
          "nan_count": 0,
          "unique_count": 1
         }
        },
        {
         "dtype": "float64",
         "name": "rooms.nonstandard.academic",
         "stats": {
          "histogram": [
           {
            "bin_end": -0.4,
            "bin_start": -0.5,
            "count": 0
           },
           {
            "bin_end": -0.3,
            "bin_start": -0.4,
            "count": 0
           },
           {
            "bin_end": -0.19999999999999996,
            "bin_start": -0.3,
            "count": 0
           },
           {
            "bin_end": -0.09999999999999998,
            "bin_start": -0.19999999999999996,
            "count": 0
           },
           {
            "bin_end": 0,
            "bin_start": -0.09999999999999998,
            "count": 0
           },
           {
            "bin_end": 0.10000000000000009,
            "bin_start": 0,
            "count": 5
           },
           {
            "bin_end": 0.20000000000000007,
            "bin_start": 0.10000000000000009,
            "count": 0
           },
           {
            "bin_end": 0.30000000000000004,
            "bin_start": 0.20000000000000007,
            "count": 0
           },
           {
            "bin_end": 0.4,
            "bin_start": 0.30000000000000004,
            "count": 0
           },
           {
            "bin_end": 0.5,
            "bin_start": 0.4,
            "count": 0
           }
          ],
          "max": "0.0",
          "min": "0.0",
          "nan_count": 0,
          "unique_count": 1
         }
        },
        {
         "dtype": "float64",
         "name": "rooms.nonstandard.unused",
         "stats": {
          "histogram": [
           {
            "bin_end": -0.4,
            "bin_start": -0.5,
            "count": 0
           },
           {
            "bin_end": -0.3,
            "bin_start": -0.4,
            "count": 0
           },
           {
            "bin_end": -0.19999999999999996,
            "bin_start": -0.3,
            "count": 0
           },
           {
            "bin_end": -0.09999999999999998,
            "bin_start": -0.19999999999999996,
            "count": 0
           },
           {
            "bin_end": 0,
            "bin_start": -0.09999999999999998,
            "count": 0
           },
           {
            "bin_end": 0.10000000000000009,
            "bin_start": 0,
            "count": 5
           },
           {
            "bin_end": 0.20000000000000007,
            "bin_start": 0.10000000000000009,
            "count": 0
           },
           {
            "bin_end": 0.30000000000000004,
            "bin_start": 0.20000000000000007,
            "count": 0
           },
           {
            "bin_end": 0.4,
            "bin_start": 0.30000000000000004,
            "count": 0
           },
           {
            "bin_end": 0.5,
            "bin_start": 0.4,
            "count": 0
           }
          ],
          "max": "0.0",
          "min": "0.0",
          "nan_count": 0,
          "unique_count": 1
         }
        },
        {
         "dtype": "float64",
         "name": "teachers.instructor",
         "stats": {
          "histogram": [
           {
            "bin_end": -0.4,
            "bin_start": -0.5,
            "count": 0
           },
           {
            "bin_end": -0.3,
            "bin_start": -0.4,
            "count": 0
           },
           {
            "bin_end": -0.19999999999999996,
            "bin_start": -0.3,
            "count": 0
           },
           {
            "bin_end": -0.09999999999999998,
            "bin_start": -0.19999999999999996,
            "count": 0
           },
           {
            "bin_end": 0,
            "bin_start": -0.09999999999999998,
            "count": 0
           },
           {
            "bin_end": 0.10000000000000009,
            "bin_start": 0,
            "count": 5
           },
           {
            "bin_end": 0.20000000000000007,
            "bin_start": 0.10000000000000009,
            "count": 0
           },
           {
            "bin_end": 0.30000000000000004,
            "bin_start": 0.20000000000000007,
            "count": 0
           },
           {
            "bin_end": 0.4,
            "bin_start": 0.30000000000000004,
            "count": 0
           },
           {
            "bin_end": 0.5,
            "bin_start": 0.4,
            "count": 0
           }
          ],
          "max": "0.0",
          "min": "0.0",
          "nan_count": 0,
          "unique_count": 1
         }
        },
        {
         "dtype": "float64",
         "name": "teachers.mobile",
         "stats": {
          "histogram": [
           {
            "bin_end": 1.6,
            "bin_start": 1,
            "count": 1
           },
           {
            "bin_end": 2.2,
            "bin_start": 1.6,
            "count": 0
           },
           {
            "bin_end": 2.8,
            "bin_start": 2.2,
            "count": 0
           },
           {
            "bin_end": 3.4,
            "bin_start": 2.8,
            "count": 1
           },
           {
            "bin_end": 4,
            "bin_start": 3.4,
            "count": 0
           },
           {
            "bin_end": 4.6,
            "bin_start": 4,
            "count": 0
           },
           {
            "bin_end": 5.2,
            "bin_start": 4.6,
            "count": 1
           },
           {
            "bin_end": 5.8,
            "bin_start": 5.2,
            "count": 0
           },
           {
            "bin_end": 6.3999999999999995,
            "bin_start": 5.8,
            "count": 1
           },
           {
            "bin_end": 7,
            "bin_start": 6.3999999999999995,
            "count": 1
           }
          ],
          "max": "7.0",
          "min": "1.0",
          "nan_count": 0,
          "unique_count": 5
         }
        },
        {
         "dtype": "float64",
         "name": "teachers.regular",
         "stats": {
          "histogram": [
           {
            "bin_end": 15.7,
            "bin_start": 13,
            "count": 1
           },
           {
            "bin_end": 18.4,
            "bin_start": 15.7,
            "count": 0
           },
           {
            "bin_end": 21.1,
            "bin_start": 18.4,
            "count": 1
           },
           {
            "bin_end": 23.8,
            "bin_start": 21.1,
            "count": 0
           },
           {
            "bin_end": 26.5,
            "bin_start": 23.8,
            "count": 0
           },
           {
            "bin_end": 29.200000000000003,
            "bin_start": 26.5,
            "count": 0
           },
           {
            "bin_end": 31.900000000000002,
            "bin_start": 29.200000000000003,
            "count": 0
           },
           {
            "bin_end": 34.6,
            "bin_start": 31.900000000000002,
            "count": 0
           },
           {
            "bin_end": 37.3,
            "bin_start": 34.6,
            "count": 1
           },
           {
            "bin_end": 40,
            "bin_start": 37.3,
            "count": 2
           }
          ],
          "max": "40.0",
          "min": "13.0",
          "nan_count": 0,
          "unique_count": 5
         }
        },
        {
         "dtype": "float64",
         "name": "teachers.sped",
         "stats": {
          "histogram": [
           {
            "bin_end": -0.4,
            "bin_start": -0.5,
            "count": 0
           },
           {
            "bin_end": -0.3,
            "bin_start": -0.4,
            "count": 0
           },
           {
            "bin_end": -0.19999999999999996,
            "bin_start": -0.3,
            "count": 0
           },
           {
            "bin_end": -0.09999999999999998,
            "bin_start": -0.19999999999999996,
            "count": 0
           },
           {
            "bin_end": 0,
            "bin_start": -0.09999999999999998,
            "count": 0
           },
           {
            "bin_end": 0.10000000000000009,
            "bin_start": 0,
            "count": 5
           },
           {
            "bin_end": 0.20000000000000007,
            "bin_start": 0.10000000000000009,
            "count": 0
           },
           {
            "bin_end": 0.30000000000000004,
            "bin_start": 0.20000000000000007,
            "count": 0
           },
           {
            "bin_end": 0.4,
            "bin_start": 0.30000000000000004,
            "count": 0
           },
           {
            "bin_end": 0.5,
            "bin_start": 0.4,
            "count": 0
           }
          ],
          "max": "0.0",
          "min": "0.0",
          "nan_count": 0,
          "unique_count": 1
         }
        },
        {
         "dtype": "float64",
         "name": "sum_e",
         "stats": {
          "histogram": [
           {
            "bin_end": 745.3,
            "bin_start": 559,
            "count": 1
           },
           {
            "bin_end": 931.6,
            "bin_start": 745.3,
            "count": 0
           },
           {
            "bin_end": 1117.9,
            "bin_start": 931.6,
            "count": 2
           },
           {
            "bin_end": 1304.2,
            "bin_start": 1117.9,
            "count": 0
           },
           {
            "bin_end": 1490.5,
            "bin_start": 1304.2,
            "count": 1
           },
           {
            "bin_end": 1676.8000000000002,
            "bin_start": 1490.5,
            "count": 0
           },
           {
            "bin_end": 1863.1000000000001,
            "bin_start": 1676.8000000000002,
            "count": 0
           },
           {
            "bin_end": 2049.4,
            "bin_start": 1863.1000000000001,
            "count": 0
           },
           {
            "bin_end": 2235.7,
            "bin_start": 2049.4,
            "count": 0
           },
           {
            "bin_end": 2422,
            "bin_start": 2235.7,
            "count": 1
           }
          ],
          "max": "2422.0",
          "min": "559.0",
          "nan_count": 0,
          "unique_count": 5
         }
        },
        {
         "dtype": "float64",
         "name": "male_e",
         "stats": {
          "histogram": [
           {
            "bin_end": 393.6,
            "bin_start": 293,
            "count": 1
           },
           {
            "bin_end": 494.2,
            "bin_start": 393.6,
            "count": 1
           },
           {
            "bin_end": 594.8,
            "bin_start": 494.2,
            "count": 1
           },
           {
            "bin_end": 695.4,
            "bin_start": 594.8,
            "count": 0
           },
           {
            "bin_end": 796,
            "bin_start": 695.4,
            "count": 1
           },
           {
            "bin_end": 896.5999999999999,
            "bin_start": 796,
            "count": 0
           },
           {
            "bin_end": 997.1999999999999,
            "bin_start": 896.5999999999999,
            "count": 0
           },
           {
            "bin_end": 1097.8,
            "bin_start": 997.1999999999999,
            "count": 0
           },
           {
            "bin_end": 1198.4,
            "bin_start": 1097.8,
            "count": 0
           },
           {
            "bin_end": 1299,
            "bin_start": 1198.4,
            "count": 1
           }
          ],
          "max": "1299.0",
          "min": "293.0",
          "nan_count": 0,
          "unique_count": 5
         }
        },
        {
         "dtype": "float64",
         "name": "female_e",
         "stats": {
          "histogram": [
           {
            "bin_end": 351.7,
            "bin_start": 266,
            "count": 1
           },
           {
            "bin_end": 437.4,
            "bin_start": 351.7,
            "count": 0
           },
           {
            "bin_end": 523.1,
            "bin_start": 437.4,
            "count": 2
           },
           {
            "bin_end": 608.8,
            "bin_start": 523.1,
            "count": 0
           },
           {
            "bin_end": 694.5,
            "bin_start": 608.8,
            "count": 0
           },
           {
            "bin_end": 780.2,
            "bin_start": 694.5,
            "count": 1
           },
           {
            "bin_end": 865.9,
            "bin_start": 780.2,
            "count": 0
           },
           {
            "bin_end": 951.6,
            "bin_start": 865.9,
            "count": 0
           },
           {
            "bin_end": 1037.3000000000002,
            "bin_start": 951.6,
            "count": 0
           },
           {
            "bin_end": 1123,
            "bin_start": 1037.3000000000002,
            "count": 1
           }
          ],
          "max": "1123.0",
          "min": "266.0",
          "nan_count": 0,
          "unique_count": 5
         }
        },
        {
         "dtype": "float64",
         "name": "sum_teacher",
         "stats": {
          "histogram": [
           {
            "bin_end": 18.9,
            "bin_start": 16,
            "count": 1
           },
           {
            "bin_end": 21.8,
            "bin_start": 18.9,
            "count": 1
           },
           {
            "bin_end": 24.7,
            "bin_start": 21.8,
            "count": 0
           },
           {
            "bin_end": 27.6,
            "bin_start": 24.7,
            "count": 0
           },
           {
            "bin_end": 30.5,
            "bin_start": 27.6,
            "count": 0
           },
           {
            "bin_end": 33.4,
            "bin_start": 30.5,
            "count": 0
           },
           {
            "bin_end": 36.3,
            "bin_start": 33.4,
            "count": 0
           },
           {
            "bin_end": 39.2,
            "bin_start": 36.3,
            "count": 0
           },
           {
            "bin_end": 42.099999999999994,
            "bin_start": 39.2,
            "count": 0
           },
           {
            "bin_end": 45,
            "bin_start": 42.099999999999994,
            "count": 3
           }
          ],
          "max": "45.0",
          "min": "16.0",
          "nan_count": 0,
          "unique_count": 4
         }
        },
        {
         "dtype": "float64",
         "name": "st_ratio",
         "stats": {
          "histogram": [
           {
            "bin_end": 24.302222222222223,
            "bin_start": 21.022222222222222,
            "count": 1
           },
           {
            "bin_end": 27.58222222222222,
            "bin_start": 24.302222222222223,
            "count": 0
           },
           {
            "bin_end": 30.862222222222222,
            "bin_start": 27.58222222222222,
            "count": 0
           },
           {
            "bin_end": 34.14222222222222,
            "bin_start": 30.862222222222222,
            "count": 0
           },
           {
            "bin_end": 37.42222222222222,
            "bin_start": 34.14222222222222,
            "count": 2
           },
           {
            "bin_end": 40.70222222222222,
            "bin_start": 37.42222222222222,
            "count": 0
           },
           {
            "bin_end": 43.98222222222222,
            "bin_start": 40.70222222222222,
            "count": 0
           },
           {
            "bin_end": 47.26222222222222,
            "bin_start": 43.98222222222222,
            "count": 0
           },
           {
            "bin_end": 50.54222222222222,
            "bin_start": 47.26222222222222,
            "count": 0
           },
           {
            "bin_end": 53.82222222222222,
            "bin_start": 50.54222222222222,
            "count": 2
           }
          ],
          "max": "53.82222222222222",
          "min": "21.022222222222222",
          "nan_count": 0,
          "unique_count": 5
         }
        },
        {
         "dtype": "int64",
         "name": "_deepnote_index_column"
        }
       ],
       "row_count": 5,
       "rows_bottom": null,
       "rows_top": [
        {
         "Grade 1 Female": 48,
         "Grade 1 Male": 36,
         "Grade 2 Female": 38,
         "Grade 2 Male": 41,
         "Grade 3 Female": 36,
         "Grade 3 Male": 54,
         "Grade 4 Female": 36,
         "Grade 4 Male": 41,
         "Grade 5 Female": 42,
         "Grade 5 Male": 34,
         "Grade 6 Female": 41,
         "Grade 6 Male": 52,
         "Kinder Female": 25,
         "Kinder Male": 35,
         "SPED NG Female": 0,
         "SPED NG Male": 0,
         "School ID_x": 136566,
         "School ID_y": 136566,
         "_deepnote_index_column": 38172,
         "female_e": 266,
         "male_e": 293,
         "rooms.nonstandard.academic": 0,
         "rooms.nonstandard.unused": 0,
         "rooms.standard.academic": 19,
         "rooms.standard.unused": 0,
         "school.abbrev": "15th Avenue E. S.",
         "school.address": "#139 15th Avenue Cubao, Quezon City",
         "school.cityclass": "Highly Urbanized City",
         "school.cityhall": "QUEZON CITY",
         "school.cityincome": "Special Class",
         "school.citymuni": "QUEZON CITY",
         "school.classification": "Elementary",
         "school.classification2": "DepED Managed",
         "school.curricularclass": "Kinder & Elementary",
         "school.district": "School District XI",
         "school.division": "Quezon City",
         "school.established": "1/1/1963",
         "school.id": 136566,
         "school.legdistrict": "3rd District",
         "school.mother.id": 136566,
         "school.name": "15th Avenue Elementary School",
         "school.organization": "Monograde",
         "school.previousname": "0",
         "school.province": "NCR SECOND DISTRICT",
         "school.region": "NCR",
         "school.region.name": "National Capital Region",
         "school.type": "School with no Annexes",
         "school.urban": "Urban",
         "st_ratio": 34.9375,
         "sum_e": 559,
         "sum_teacher": 16,
         "teachers.instructor": 0,
         "teachers.mobile": 3,
         "teachers.regular": 13,
         "teachers.sped": 0
        },
        {
         "Grade 1 Female": 91,
         "Grade 1 Male": 116,
         "Grade 2 Female": 96,
         "Grade 2 Male": 118,
         "Grade 3 Female": 115,
         "Grade 3 Male": 134,
         "Grade 4 Female": 115,
         "Grade 4 Male": 95,
         "Grade 5 Female": 98,
         "Grade 5 Male": 114,
         "Grade 6 Female": 114,
         "Grade 6 Male": 79,
         "Kinder Female": 99,
         "Kinder Male": 102,
         "SPED NG Female": 0,
         "SPED NG Male": 0,
         "School ID_x": 136602,
         "School ID_y": 136602,
         "_deepnote_index_column": 38173,
         "female_e": 728,
         "male_e": 758,
         "rooms.nonstandard.academic": 0,
         "rooms.nonstandard.unused": 0,
         "rooms.standard.academic": 30,
         "rooms.standard.unused": 0,
         "school.abbrev": "ABES",
         "school.address": "Leveriza St., Pasay City",
         "school.cityclass": "Highly Urbanized City",
         "school.cityhall": "PASAY CITY",
         "school.cityincome": "P 400 M or more",
         "school.citymuni": "PASAY CITY",
         "school.classification": "Elementary",
         "school.classification2": "DepED Managed",
         "school.curricularclass": "Elementary",
         "school.district": "Pasay City West District",
         "school.division": "Pasay City",
         "school.established": "1/1/2002",
         "school.id": 136602,
         "school.legdistrict": "Lone District",
         "school.mother.id": 136602,
         "school.name": "A. Bonifacio ES",
         "school.organization": "Monograde",
         "school.previousname": "0",
         "school.province": "NCR FOURTH DISTRICT",
         "school.region": "NCR",
         "school.region.name": "National Capital Region",
         "school.type": "School with no Annexes",
         "school.urban": "Urban",
         "st_ratio": 34.55813953488372,
         "sum_e": 1486,
         "sum_teacher": 43,
         "teachers.instructor": 0,
         "teachers.mobile": 7,
         "teachers.regular": 36,
         "teachers.sped": 0
        },
        {
         "Grade 1 Female": 93,
         "Grade 1 Male": 88,
         "Grade 2 Female": 60,
         "Grade 2 Male": 68,
         "Grade 3 Female": 67,
         "Grade 3 Male": 78,
         "Grade 4 Female": 65,
         "Grade 4 Male": 66,
         "Grade 5 Female": 54,
         "Grade 5 Male": 65,
         "Grade 6 Female": 72,
         "Grade 6 Male": 67,
         "Kinder Female": 54,
         "Kinder Male": 49,
         "SPED NG Female": 0,
         "SPED NG Male": 0,
         "School ID_x": 136418,
         "School ID_y": 136418,
         "_deepnote_index_column": 38174,
         "female_e": 465,
         "male_e": 481,
         "rooms.nonstandard.academic": 0,
         "rooms.nonstandard.unused": 0,
         "rooms.standard.academic": 11,
         "rooms.standard.unused": 0,
         "school.abbrev": "0",
         "school.address": "S. Teodoro St.",
         "school.cityclass": "Highly Urbanized City",
         "school.cityhall": "TONDO",
         "school.cityincome": "0",
         "school.citymuni": "TONDO",
         "school.classification": "Elementary",
         "school.classification2": "DepED Managed",
         "school.curricularclass": "Elementary",
         "school.district": "Tondo I",
         "school.division": "Manila",
         "school.established": "1/1/2002",
         "school.id": 136418,
         "school.legdistrict": "2nd District",
         "school.mother.id": 136418,
         "school.name": "A. C. Herrera Elementary School",
         "school.organization": "Monograde",
         "school.previousname": "-",
         "school.province": "MANILA, NCR, FIRST DISTRICT",
         "school.region": "NCR",
         "school.region.name": "National Capital Region",
         "school.type": "School with no Annexes",
         "school.urban": "Urban",
         "st_ratio": 21.022222222222222,
         "sum_e": 946,
         "sum_teacher": 45,
         "teachers.instructor": 0,
         "teachers.mobile": 6,
         "teachers.regular": 39,
         "teachers.sped": 0
        },
        {
         "Grade 1 Female": 65,
         "Grade 1 Male": 95,
         "Grade 2 Female": 71,
         "Grade 2 Male": 85,
         "Grade 3 Female": 82,
         "Grade 3 Male": 88,
         "Grade 4 Female": 75,
         "Grade 4 Male": 75,
         "Grade 5 Female": 62,
         "Grade 5 Male": 70,
         "Grade 6 Female": 61,
         "Grade 6 Male": 68,
         "Kinder Female": 78,
         "Kinder Male": 74,
         "SPED NG Female": 0,
         "SPED NG Male": 0,
         "School ID_x": 136800,
         "School ID_y": 136800,
         "_deepnote_index_column": 38175,
         "female_e": 494,
         "male_e": 555,
         "rooms.nonstandard.academic": 0,
         "rooms.nonstandard.unused": 0,
         "rooms.standard.academic": 11,
         "rooms.standard.unused": 0,
         "school.abbrev": "0",
         "school.address": "#2 Ilang Ilang St.,",
         "school.cityclass": "Highly Urbanized City",
         "school.cityhall": "CITY OF VALENZUELA",
         "school.cityincome": "P 400 M or more",
         "school.citymuni": "CITY OF VALENZUELA",
         "school.classification": "Elementary",
         "school.classification2": "DepED Managed",
         "school.curricularclass": "Elementary",
         "school.district": "Valenzuela City North District",
         "school.division": "Valenzuela City",
         "school.established": "1/1/1965",
         "school.id": 136800,
         "school.legdistrict": "1st District",
         "school.mother.id": 136800,
         "school.name": "A. Deato ES",
         "school.organization": "Monograde",
         "school.previousname": "-",
         "school.province": "NCR THIRD DISTRICT",
         "school.region": "NCR",
         "school.region.name": "National Capital Region",
         "school.type": "School with no Annexes",
         "school.urban": "Urban",
         "st_ratio": 52.45,
         "sum_e": 1049,
         "sum_teacher": 20,
         "teachers.instructor": 0,
         "teachers.mobile": 1,
         "teachers.regular": 19,
         "teachers.sped": 0
        },
        {
         "Grade 1 Female": 175,
         "Grade 1 Male": 226,
         "Grade 2 Female": 183,
         "Grade 2 Male": 207,
         "Grade 3 Female": 167,
         "Grade 3 Male": 178,
         "Grade 4 Female": 161,
         "Grade 4 Male": 214,
         "Grade 5 Female": 150,
         "Grade 5 Male": 153,
         "Grade 6 Female": 148,
         "Grade 6 Male": 174,
         "Kinder Female": 132,
         "Kinder Male": 130,
         "SPED NG Female": 7,
         "SPED NG Male": 17,
         "School ID_x": 136801,
         "School ID_y": 136801,
         "_deepnote_index_column": 38176,
         "female_e": 1123,
         "male_e": 1299,
         "rooms.nonstandard.academic": 0,
         "rooms.nonstandard.unused": 0,
         "rooms.standard.academic": 22,
         "rooms.standard.unused": 0,
         "school.abbrev": "0",
         "school.address": "M. H. del Pilar St.,",
         "school.cityclass": "Highly Urbanized City",
         "school.cityhall": "CITY OF VALENZUELA",
         "school.cityincome": "P 400 M or more",
         "school.citymuni": "CITY OF VALENZUELA",
         "school.classification": "Elementary",
         "school.classification2": "DepED Managed",
         "school.curricularclass": "Elementary",
         "school.district": "Valenzuela City North District",
         "school.division": "Valenzuela City",
         "school.established": "1/1/1992",
         "school.id": 136801,
         "school.legdistrict": "1st District",
         "school.mother.id": 136801,
         "school.name": "A. Fernando ES",
         "school.organization": "Monograde",
         "school.previousname": "-",
         "school.province": "NCR THIRD DISTRICT",
         "school.region": "NCR",
         "school.region.name": "National Capital Region",
         "school.type": "School with no Annexes",
         "school.urban": "Urban",
         "st_ratio": 53.82222222222222,
         "sum_e": 2422,
         "sum_teacher": 45,
         "teachers.instructor": 0,
         "teachers.mobile": 5,
         "teachers.regular": 40,
         "teachers.sped": 0
        }
       ]
      },
      "text/html": [
       "<div>\n",
       "<style scoped>\n",
       "    .dataframe tbody tr th:only-of-type {\n",
       "        vertical-align: middle;\n",
       "    }\n",
       "\n",
       "    .dataframe tbody tr th {\n",
       "        vertical-align: top;\n",
       "    }\n",
       "\n",
       "    .dataframe thead th {\n",
       "        text-align: right;\n",
       "    }\n",
       "</style>\n",
       "<table border=\"1\" class=\"dataframe\">\n",
       "  <thead>\n",
       "    <tr style=\"text-align: right;\">\n",
       "      <th></th>\n",
       "      <th>school.id</th>\n",
       "      <th>school.name</th>\n",
       "      <th>school.region</th>\n",
       "      <th>school.region.name</th>\n",
       "      <th>school.province</th>\n",
       "      <th>school.cityhall</th>\n",
       "      <th>school.division</th>\n",
       "      <th>school.citymuni</th>\n",
       "      <th>school.district</th>\n",
       "      <th>school.legdistrict</th>\n",
       "      <th>...</th>\n",
       "      <th>rooms.nonstandard.unused</th>\n",
       "      <th>teachers.instructor</th>\n",
       "      <th>teachers.mobile</th>\n",
       "      <th>teachers.regular</th>\n",
       "      <th>teachers.sped</th>\n",
       "      <th>sum_e</th>\n",
       "      <th>male_e</th>\n",
       "      <th>female_e</th>\n",
       "      <th>sum_teacher</th>\n",
       "      <th>st_ratio</th>\n",
       "    </tr>\n",
       "  </thead>\n",
       "  <tbody>\n",
       "    <tr>\n",
       "      <th>38172</th>\n",
       "      <td>136566</td>\n",
       "      <td>15th Avenue Elementary School</td>\n",
       "      <td>NCR</td>\n",
       "      <td>National Capital Region</td>\n",
       "      <td>NCR SECOND DISTRICT</td>\n",
       "      <td>QUEZON CITY</td>\n",
       "      <td>Quezon City</td>\n",
       "      <td>QUEZON CITY</td>\n",
       "      <td>School District XI</td>\n",
       "      <td>3rd District</td>\n",
       "      <td>...</td>\n",
       "      <td>0.0</td>\n",
       "      <td>0.0</td>\n",
       "      <td>3.0</td>\n",
       "      <td>13.0</td>\n",
       "      <td>0.0</td>\n",
       "      <td>559.0</td>\n",
       "      <td>293.0</td>\n",
       "      <td>266.0</td>\n",
       "      <td>16.0</td>\n",
       "      <td>34.937500</td>\n",
       "    </tr>\n",
       "    <tr>\n",
       "      <th>38173</th>\n",
       "      <td>136602</td>\n",
       "      <td>A. Bonifacio ES</td>\n",
       "      <td>NCR</td>\n",
       "      <td>National Capital Region</td>\n",
       "      <td>NCR FOURTH DISTRICT</td>\n",
       "      <td>PASAY CITY</td>\n",
       "      <td>Pasay City</td>\n",
       "      <td>PASAY CITY</td>\n",
       "      <td>Pasay City West District</td>\n",
       "      <td>Lone District</td>\n",
       "      <td>...</td>\n",
       "      <td>0.0</td>\n",
       "      <td>0.0</td>\n",
       "      <td>7.0</td>\n",
       "      <td>36.0</td>\n",
       "      <td>0.0</td>\n",
       "      <td>1486.0</td>\n",
       "      <td>758.0</td>\n",
       "      <td>728.0</td>\n",
       "      <td>43.0</td>\n",
       "      <td>34.558140</td>\n",
       "    </tr>\n",
       "    <tr>\n",
       "      <th>38174</th>\n",
       "      <td>136418</td>\n",
       "      <td>A. C. Herrera Elementary School</td>\n",
       "      <td>NCR</td>\n",
       "      <td>National Capital Region</td>\n",
       "      <td>MANILA, NCR, FIRST DISTRICT</td>\n",
       "      <td>TONDO</td>\n",
       "      <td>Manila</td>\n",
       "      <td>TONDO</td>\n",
       "      <td>Tondo I</td>\n",
       "      <td>2nd District</td>\n",
       "      <td>...</td>\n",
       "      <td>0.0</td>\n",
       "      <td>0.0</td>\n",
       "      <td>6.0</td>\n",
       "      <td>39.0</td>\n",
       "      <td>0.0</td>\n",
       "      <td>946.0</td>\n",
       "      <td>481.0</td>\n",
       "      <td>465.0</td>\n",
       "      <td>45.0</td>\n",
       "      <td>21.022222</td>\n",
       "    </tr>\n",
       "    <tr>\n",
       "      <th>38175</th>\n",
       "      <td>136800</td>\n",
       "      <td>A. Deato ES</td>\n",
       "      <td>NCR</td>\n",
       "      <td>National Capital Region</td>\n",
       "      <td>NCR THIRD DISTRICT</td>\n",
       "      <td>CITY OF VALENZUELA</td>\n",
       "      <td>Valenzuela City</td>\n",
       "      <td>CITY OF VALENZUELA</td>\n",
       "      <td>Valenzuela City North District</td>\n",
       "      <td>1st District</td>\n",
       "      <td>...</td>\n",
       "      <td>0.0</td>\n",
       "      <td>0.0</td>\n",
       "      <td>1.0</td>\n",
       "      <td>19.0</td>\n",
       "      <td>0.0</td>\n",
       "      <td>1049.0</td>\n",
       "      <td>555.0</td>\n",
       "      <td>494.0</td>\n",
       "      <td>20.0</td>\n",
       "      <td>52.450000</td>\n",
       "    </tr>\n",
       "    <tr>\n",
       "      <th>38176</th>\n",
       "      <td>136801</td>\n",
       "      <td>A. Fernando ES</td>\n",
       "      <td>NCR</td>\n",
       "      <td>National Capital Region</td>\n",
       "      <td>NCR THIRD DISTRICT</td>\n",
       "      <td>CITY OF VALENZUELA</td>\n",
       "      <td>Valenzuela City</td>\n",
       "      <td>CITY OF VALENZUELA</td>\n",
       "      <td>Valenzuela City North District</td>\n",
       "      <td>1st District</td>\n",
       "      <td>...</td>\n",
       "      <td>0.0</td>\n",
       "      <td>0.0</td>\n",
       "      <td>5.0</td>\n",
       "      <td>40.0</td>\n",
       "      <td>0.0</td>\n",
       "      <td>2422.0</td>\n",
       "      <td>1299.0</td>\n",
       "      <td>1123.0</td>\n",
       "      <td>45.0</td>\n",
       "      <td>53.822222</td>\n",
       "    </tr>\n",
       "  </tbody>\n",
       "</table>\n",
       "<p>5 rows × 54 columns</p>\n",
       "</div>"
      ],
      "text/plain": [
       "       school.id                      school.name school.region  \\\n",
       "38172     136566    15th Avenue Elementary School           NCR   \n",
       "38173     136602                  A. Bonifacio ES           NCR   \n",
       "38174     136418  A. C. Herrera Elementary School           NCR   \n",
       "38175     136800                      A. Deato ES           NCR   \n",
       "38176     136801                   A. Fernando ES           NCR   \n",
       "\n",
       "            school.region.name              school.province  \\\n",
       "38172  National Capital Region          NCR SECOND DISTRICT   \n",
       "38173  National Capital Region          NCR FOURTH DISTRICT   \n",
       "38174  National Capital Region  MANILA, NCR, FIRST DISTRICT   \n",
       "38175  National Capital Region           NCR THIRD DISTRICT   \n",
       "38176  National Capital Region           NCR THIRD DISTRICT   \n",
       "\n",
       "          school.cityhall  school.division     school.citymuni  \\\n",
       "38172         QUEZON CITY      Quezon City         QUEZON CITY   \n",
       "38173          PASAY CITY       Pasay City          PASAY CITY   \n",
       "38174               TONDO           Manila               TONDO   \n",
       "38175  CITY OF VALENZUELA  Valenzuela City  CITY OF VALENZUELA   \n",
       "38176  CITY OF VALENZUELA  Valenzuela City  CITY OF VALENZUELA   \n",
       "\n",
       "                      school.district school.legdistrict  ...  \\\n",
       "38172              School District XI       3rd District  ...   \n",
       "38173        Pasay City West District      Lone District  ...   \n",
       "38174                         Tondo I       2nd District  ...   \n",
       "38175  Valenzuela City North District       1st District  ...   \n",
       "38176  Valenzuela City North District       1st District  ...   \n",
       "\n",
       "      rooms.nonstandard.unused teachers.instructor teachers.mobile  \\\n",
       "38172                      0.0                 0.0             3.0   \n",
       "38173                      0.0                 0.0             7.0   \n",
       "38174                      0.0                 0.0             6.0   \n",
       "38175                      0.0                 0.0             1.0   \n",
       "38176                      0.0                 0.0             5.0   \n",
       "\n",
       "       teachers.regular teachers.sped   sum_e  male_e female_e sum_teacher  \\\n",
       "38172              13.0           0.0   559.0   293.0    266.0        16.0   \n",
       "38173              36.0           0.0  1486.0   758.0    728.0        43.0   \n",
       "38174              39.0           0.0   946.0   481.0    465.0        45.0   \n",
       "38175              19.0           0.0  1049.0   555.0    494.0        20.0   \n",
       "38176              40.0           0.0  2422.0  1299.0   1123.0        45.0   \n",
       "\n",
       "        st_ratio  \n",
       "38172  34.937500  \n",
       "38173  34.558140  \n",
       "38174  21.022222  \n",
       "38175  52.450000  \n",
       "38176  53.822222  \n",
       "\n",
       "[5 rows x 54 columns]"
      ]
     },
     "execution_count": 153,
     "metadata": {},
     "output_type": "execute_result"
    }
   ],
   "source": [
    "ncr_schools.head(5)"
   ]
  },
  {
   "cell_type": "code",
   "execution_count": null,
   "metadata": {
    "cell_id": "00073-50eb36e1-0caf-4776-81a4-7e16d77dec8e",
    "deepnote_cell_type": "code",
    "deepnote_to_be_reexecuted": false,
    "execution_millis": 229,
    "execution_start": 1620912097709,
    "source_hash": "16acca2d",
    "tags": []
   },
   "outputs": [
    {
     "data": {
      "application/vnd.deepnote.dataframe.v2+json": {
       "column_count": 54,
       "columns": [
        {
         "dtype": "int64",
         "name": "school.id",
         "stats": {
          "histogram": [
           {
            "bin_end": 141596.2,
            "bin_start": 133212,
            "count": 2
           },
           {
            "bin_end": 149980.4,
            "bin_start": 141596.2,
            "count": 0
           },
           {
            "bin_end": 158364.6,
            "bin_start": 149980.4,
            "count": 0
           },
           {
            "bin_end": 166748.8,
            "bin_start": 158364.6,
            "count": 0
           },
           {
            "bin_end": 175133,
            "bin_start": 166748.8,
            "count": 0
           },
           {
            "bin_end": 183517.2,
            "bin_start": 175133,
            "count": 0
           },
           {
            "bin_end": 191901.40000000002,
            "bin_start": 183517.2,
            "count": 0
           },
           {
            "bin_end": 200285.6,
            "bin_start": 191901.40000000002,
            "count": 0
           },
           {
            "bin_end": 208669.8,
            "bin_start": 200285.6,
            "count": 0
           },
           {
            "bin_end": 217054,
            "bin_start": 208669.8,
            "count": 1
           }
          ],
          "max": "217054",
          "min": "133212",
          "nan_count": 0,
          "unique_count": 3
         }
        },
        {
         "dtype": "object",
         "name": "school.name",
         "stats": {
          "categories": [
           {
            "count": 1,
            "name": "77Th PC ES"
           },
           {
            "count": 1,
            "name": "Abaga PS"
           },
           {
            "count": 1,
            "name": "Abbas Abdulla Primary School"
           }
          ],
          "nan_count": 0,
          "unique_count": 3
         }
        },
        {
         "dtype": "object",
         "name": "school.region",
         "stats": {
          "categories": [
           {
            "count": 3,
            "name": "ARMM"
           }
          ],
          "nan_count": 0,
          "unique_count": 1
         }
        },
        {
         "dtype": "object",
         "name": "school.region.name",
         "stats": {
          "categories": [
           {
            "count": 3,
            "name": "Autonomous Region in Muslim Mindanao"
           }
          ],
          "nan_count": 0,
          "unique_count": 1
         }
        },
        {
         "dtype": "object",
         "name": "school.province",
         "stats": {
          "categories": [
           {
            "count": 2,
            "name": "LANAO DEL SUR"
           },
           {
            "count": 1,
            "name": "SULU"
           }
          ],
          "nan_count": 0,
          "unique_count": 2
         }
        },
        {
         "dtype": "object",
         "name": "school.cityhall",
         "stats": {
          "categories": [
           {
            "count": 2,
            "name": "LANAO DEL SUR"
           },
           {
            "count": 1,
            "name": "SULU"
           }
          ],
          "nan_count": 0,
          "unique_count": 2
         }
        },
        {
         "dtype": "object",
         "name": "school.division",
         "stats": {
          "categories": [
           {
            "count": 2,
            "name": "Lanao del Sur - IB"
           },
           {
            "count": 1,
            "name": "Sulu I"
           }
          ],
          "nan_count": 0,
          "unique_count": 2
         }
        },
        {
         "dtype": "object",
         "name": "school.citymuni",
         "stats": {
          "categories": [
           {
            "count": 1,
            "name": "TARAKA"
           },
           {
            "count": 1,
            "name": "BALINDONG (WATU)"
           },
           {
            "count": 1,
            "name": "INDANAN"
           }
          ],
          "nan_count": 0,
          "unique_count": 3
         }
        },
        {
         "dtype": "object",
         "name": "school.district",
         "stats": {
          "categories": [
           {
            "count": 1,
            "name": "Taraka II"
           },
           {
            "count": 1,
            "name": "Balindong I"
           },
           {
            "count": 1,
            "name": "Talipao"
           }
          ],
          "nan_count": 0,
          "unique_count": 3
         }
        },
        {
         "dtype": "object",
         "name": "school.legdistrict",
         "stats": {
          "categories": [
           {
            "count": 3,
            "name": "1st District"
           }
          ],
          "nan_count": 0,
          "unique_count": 1
         }
        },
        {
         "dtype": "object",
         "name": "school.type",
         "stats": {
          "categories": [
           {
            "count": 3,
            "name": "School with no Annexes"
           }
          ],
          "nan_count": 0,
          "unique_count": 1
         }
        },
        {
         "dtype": "object",
         "name": "school.abbrev",
         "stats": {
          "categories": [
           {
            "count": 3,
            "name": "0"
           }
          ],
          "nan_count": 0,
          "unique_count": 1
         }
        },
        {
         "dtype": "object",
         "name": "school.previousname",
         "stats": {
          "categories": [
           {
            "count": 3,
            "name": "-"
           }
          ],
          "nan_count": 0,
          "unique_count": 1
         }
        },
        {
         "dtype": "float64",
         "name": "school.mother.id",
         "stats": {
          "histogram": [
           {
            "bin_end": 141596.2,
            "bin_start": 133212,
            "count": 2
           },
           {
            "bin_end": 149980.4,
            "bin_start": 141596.2,
            "count": 0
           },
           {
            "bin_end": 158364.6,
            "bin_start": 149980.4,
            "count": 0
           },
           {
            "bin_end": 166748.8,
            "bin_start": 158364.6,
            "count": 0
           },
           {
            "bin_end": 175133,
            "bin_start": 166748.8,
            "count": 0
           },
           {
            "bin_end": 183517.2,
            "bin_start": 175133,
            "count": 0
           },
           {
            "bin_end": 191901.40000000002,
            "bin_start": 183517.2,
            "count": 0
           },
           {
            "bin_end": 200285.6,
            "bin_start": 191901.40000000002,
            "count": 0
           },
           {
            "bin_end": 208669.8,
            "bin_start": 200285.6,
            "count": 0
           },
           {
            "bin_end": 217054,
            "bin_start": 208669.8,
            "count": 1
           }
          ],
          "max": "217054.0",
          "min": "133212.0",
          "nan_count": 0,
          "unique_count": 3
         }
        },
        {
         "dtype": "object",
         "name": "school.address",
         "stats": {
          "categories": [
           {
            "count": 2,
            "name": "-"
           },
           {
            "count": 1,
            "name": "Niog Sangahan, Talipao"
           }
          ],
          "nan_count": 0,
          "unique_count": 2
         }
        },
        {
         "dtype": "object",
         "name": "school.established",
         "stats": {
          "categories": [
           {
            "count": 1,
            "name": "1/1/1989"
           },
           {
            "count": 1,
            "name": "1/1/1960"
           },
           {
            "count": 1,
            "name": "1/1/2008"
           }
          ],
          "nan_count": 0,
          "unique_count": 3
         }
        },
        {
         "dtype": "object",
         "name": "school.classification",
         "stats": {
          "categories": [
           {
            "count": 3,
            "name": "Elementary"
           }
          ],
          "nan_count": 0,
          "unique_count": 1
         }
        },
        {
         "dtype": "object",
         "name": "school.classification2",
         "stats": {
          "categories": [
           {
            "count": 3,
            "name": "DepED Managed"
           }
          ],
          "nan_count": 0,
          "unique_count": 1
         }
        },
        {
         "dtype": "object",
         "name": "school.curricularclass",
         "stats": {
          "categories": [
           {
            "count": 3,
            "name": "Elementary"
           }
          ],
          "nan_count": 0,
          "unique_count": 1
         }
        },
        {
         "dtype": "object",
         "name": "school.organization",
         "stats": {
          "categories": [
           {
            "count": 3,
            "name": "Monograde"
           }
          ],
          "nan_count": 0,
          "unique_count": 1
         }
        },
        {
         "dtype": "object",
         "name": "school.cityincome",
         "stats": {
          "categories": [
           {
            "count": 2,
            "name": "P 25 M or more but less than P 35 M"
           },
           {
            "count": 1,
            "name": "P 35 M or more but less than P 45 M"
           }
          ],
          "nan_count": 0,
          "unique_count": 2
         }
        },
        {
         "dtype": "object",
         "name": "school.cityclass",
         "stats": {
          "categories": [
           {
            "count": 3,
            "name": "0"
           }
          ],
          "nan_count": 0,
          "unique_count": 1
         }
        },
        {
         "dtype": "object",
         "name": "school.urban",
         "stats": {
          "categories": [
           {
            "count": 2,
            "name": "Partially Urban"
           },
           {
            "count": 1,
            "name": "Rural"
           }
          ],
          "nan_count": 0,
          "unique_count": 2
         }
        },
        {
         "dtype": "float64",
         "name": "School ID_x",
         "stats": {
          "histogram": [
           {
            "bin_end": 141596.2,
            "bin_start": 133212,
            "count": 2
           },
           {
            "bin_end": 149980.4,
            "bin_start": 141596.2,
            "count": 0
           },
           {
            "bin_end": 158364.6,
            "bin_start": 149980.4,
            "count": 0
           },
           {
            "bin_end": 166748.8,
            "bin_start": 158364.6,
            "count": 0
           },
           {
            "bin_end": 175133,
            "bin_start": 166748.8,
            "count": 0
           },
           {
            "bin_end": 183517.2,
            "bin_start": 175133,
            "count": 0
           },
           {
            "bin_end": 191901.40000000002,
            "bin_start": 183517.2,
            "count": 0
           },
           {
            "bin_end": 200285.6,
            "bin_start": 191901.40000000002,
            "count": 0
           },
           {
            "bin_end": 208669.8,
            "bin_start": 200285.6,
            "count": 0
           },
           {
            "bin_end": 217054,
            "bin_start": 208669.8,
            "count": 1
           }
          ],
          "max": "217054.0",
          "min": "133212.0",
          "nan_count": 0,
          "unique_count": 3
         }
        },
        {
         "dtype": "float64",
         "name": "Kinder Male",
         "stats": {
          "histogram": [
           {
            "bin_end": 2.6,
            "bin_start": 0,
            "count": 1
           },
           {
            "bin_end": 5.2,
            "bin_start": 2.6,
            "count": 0
           },
           {
            "bin_end": 7.800000000000001,
            "bin_start": 5.2,
            "count": 0
           },
           {
            "bin_end": 10.4,
            "bin_start": 7.800000000000001,
            "count": 0
           },
           {
            "bin_end": 13,
            "bin_start": 10.4,
            "count": 0
           },
           {
            "bin_end": 15.600000000000001,
            "bin_start": 13,
            "count": 0
           },
           {
            "bin_end": 18.2,
            "bin_start": 15.600000000000001,
            "count": 0
           },
           {
            "bin_end": 20.8,
            "bin_start": 18.2,
            "count": 0
           },
           {
            "bin_end": 23.400000000000002,
            "bin_start": 20.8,
            "count": 0
           },
           {
            "bin_end": 26,
            "bin_start": 23.400000000000002,
            "count": 2
           }
          ],
          "max": "26.0",
          "min": "0.0",
          "nan_count": 0,
          "unique_count": 3
         }
        },
        {
         "dtype": "float64",
         "name": "Kinder Female",
         "stats": {
          "histogram": [
           {
            "bin_end": 3,
            "bin_start": 0,
            "count": 1
           },
           {
            "bin_end": 6,
            "bin_start": 3,
            "count": 0
           },
           {
            "bin_end": 9,
            "bin_start": 6,
            "count": 0
           },
           {
            "bin_end": 12,
            "bin_start": 9,
            "count": 0
           },
           {
            "bin_end": 15,
            "bin_start": 12,
            "count": 0
           },
           {
            "bin_end": 18,
            "bin_start": 15,
            "count": 0
           },
           {
            "bin_end": 21,
            "bin_start": 18,
            "count": 0
           },
           {
            "bin_end": 24,
            "bin_start": 21,
            "count": 0
           },
           {
            "bin_end": 27,
            "bin_start": 24,
            "count": 1
           },
           {
            "bin_end": 30,
            "bin_start": 27,
            "count": 1
           }
          ],
          "max": "30.0",
          "min": "0.0",
          "nan_count": 0,
          "unique_count": 3
         }
        },
        {
         "dtype": "float64",
         "name": "Grade 1 Male",
         "stats": {
          "histogram": [
           {
            "bin_end": 11.2,
            "bin_start": 10,
            "count": 1
           },
           {
            "bin_end": 12.4,
            "bin_start": 11.2,
            "count": 0
           },
           {
            "bin_end": 13.6,
            "bin_start": 12.4,
            "count": 0
           },
           {
            "bin_end": 14.8,
            "bin_start": 13.6,
            "count": 0
           },
           {
            "bin_end": 16,
            "bin_start": 14.8,
            "count": 0
           },
           {
            "bin_end": 17.2,
            "bin_start": 16,
            "count": 0
           },
           {
            "bin_end": 18.4,
            "bin_start": 17.2,
            "count": 0
           },
           {
            "bin_end": 19.6,
            "bin_start": 18.4,
            "count": 0
           },
           {
            "bin_end": 20.799999999999997,
            "bin_start": 19.6,
            "count": 1
           },
           {
            "bin_end": 22,
            "bin_start": 20.799999999999997,
            "count": 1
           }
          ],
          "max": "22.0",
          "min": "10.0",
          "nan_count": 0,
          "unique_count": 3
         }
        },
        {
         "dtype": "float64",
         "name": "Grade 1 Female",
         "stats": {
          "histogram": [
           {
            "bin_end": 15.9,
            "bin_start": 15,
            "count": 1
           },
           {
            "bin_end": 16.8,
            "bin_start": 15.9,
            "count": 0
           },
           {
            "bin_end": 17.7,
            "bin_start": 16.8,
            "count": 0
           },
           {
            "bin_end": 18.6,
            "bin_start": 17.7,
            "count": 0
           },
           {
            "bin_end": 19.5,
            "bin_start": 18.6,
            "count": 0
           },
           {
            "bin_end": 20.4,
            "bin_start": 19.5,
            "count": 0
           },
           {
            "bin_end": 21.3,
            "bin_start": 20.4,
            "count": 0
           },
           {
            "bin_end": 22.2,
            "bin_start": 21.3,
            "count": 0
           },
           {
            "bin_end": 23.1,
            "bin_start": 22.2,
            "count": 1
           },
           {
            "bin_end": 24,
            "bin_start": 23.1,
            "count": 1
           }
          ],
          "max": "24.0",
          "min": "15.0",
          "nan_count": 0,
          "unique_count": 3
         }
        },
        {
         "dtype": "float64",
         "name": "Grade 2 Male",
         "stats": {
          "histogram": [
           {
            "bin_end": 2.1,
            "bin_start": 0,
            "count": 1
           },
           {
            "bin_end": 4.2,
            "bin_start": 2.1,
            "count": 0
           },
           {
            "bin_end": 6.300000000000001,
            "bin_start": 4.2,
            "count": 0
           },
           {
            "bin_end": 8.4,
            "bin_start": 6.300000000000001,
            "count": 0
           },
           {
            "bin_end": 10.5,
            "bin_start": 8.4,
            "count": 0
           },
           {
            "bin_end": 12.600000000000001,
            "bin_start": 10.5,
            "count": 0
           },
           {
            "bin_end": 14.700000000000001,
            "bin_start": 12.600000000000001,
            "count": 0
           },
           {
            "bin_end": 16.8,
            "bin_start": 14.700000000000001,
            "count": 0
           },
           {
            "bin_end": 18.900000000000002,
            "bin_start": 16.8,
            "count": 1
           },
           {
            "bin_end": 21,
            "bin_start": 18.900000000000002,
            "count": 1
           }
          ],
          "max": "21.0",
          "min": "0.0",
          "nan_count": 0,
          "unique_count": 3
         }
        },
        {
         "dtype": "float64",
         "name": "Grade 2 Female",
         "stats": {
          "histogram": [
           {
            "bin_end": 2.3,
            "bin_start": 0,
            "count": 1
           },
           {
            "bin_end": 4.6,
            "bin_start": 2.3,
            "count": 0
           },
           {
            "bin_end": 6.8999999999999995,
            "bin_start": 4.6,
            "count": 0
           },
           {
            "bin_end": 9.2,
            "bin_start": 6.8999999999999995,
            "count": 0
           },
           {
            "bin_end": 11.5,
            "bin_start": 9.2,
            "count": 0
           },
           {
            "bin_end": 13.799999999999999,
            "bin_start": 11.5,
            "count": 0
           },
           {
            "bin_end": 16.099999999999998,
            "bin_start": 13.799999999999999,
            "count": 0
           },
           {
            "bin_end": 18.4,
            "bin_start": 16.099999999999998,
            "count": 0
           },
           {
            "bin_end": 20.7,
            "bin_start": 18.4,
            "count": 0
           },
           {
            "bin_end": 23,
            "bin_start": 20.7,
            "count": 2
           }
          ],
          "max": "23.0",
          "min": "0.0",
          "nan_count": 0,
          "unique_count": 3
         }
        },
        {
         "dtype": "float64",
         "name": "Grade 3 Male",
         "stats": {
          "histogram": [
           {
            "bin_end": 2.2,
            "bin_start": 0,
            "count": 1
           },
           {
            "bin_end": 4.4,
            "bin_start": 2.2,
            "count": 0
           },
           {
            "bin_end": 6.6000000000000005,
            "bin_start": 4.4,
            "count": 0
           },
           {
            "bin_end": 8.8,
            "bin_start": 6.6000000000000005,
            "count": 0
           },
           {
            "bin_end": 11,
            "bin_start": 8.8,
            "count": 0
           },
           {
            "bin_end": 13.200000000000001,
            "bin_start": 11,
            "count": 0
           },
           {
            "bin_end": 15.400000000000002,
            "bin_start": 13.200000000000001,
            "count": 0
           },
           {
            "bin_end": 17.6,
            "bin_start": 15.400000000000002,
            "count": 0
           },
           {
            "bin_end": 19.8,
            "bin_start": 17.6,
            "count": 1
           },
           {
            "bin_end": 22,
            "bin_start": 19.8,
            "count": 1
           }
          ],
          "max": "22.0",
          "min": "0.0",
          "nan_count": 0,
          "unique_count": 3
         }
        },
        {
         "dtype": "float64",
         "name": "Grade 3 Female",
         "stats": {
          "histogram": [
           {
            "bin_end": 2.5,
            "bin_start": 0,
            "count": 1
           },
           {
            "bin_end": 5,
            "bin_start": 2.5,
            "count": 0
           },
           {
            "bin_end": 7.5,
            "bin_start": 5,
            "count": 0
           },
           {
            "bin_end": 10,
            "bin_start": 7.5,
            "count": 0
           },
           {
            "bin_end": 12.5,
            "bin_start": 10,
            "count": 0
           },
           {
            "bin_end": 15,
            "bin_start": 12.5,
            "count": 0
           },
           {
            "bin_end": 17.5,
            "bin_start": 15,
            "count": 0
           },
           {
            "bin_end": 20,
            "bin_start": 17.5,
            "count": 0
           },
           {
            "bin_end": 22.5,
            "bin_start": 20,
            "count": 1
           },
           {
            "bin_end": 25,
            "bin_start": 22.5,
            "count": 1
           }
          ],
          "max": "25.0",
          "min": "0.0",
          "nan_count": 0,
          "unique_count": 3
         }
        },
        {
         "dtype": "float64",
         "name": "Grade 4 Male",
         "stats": {
          "histogram": [
           {
            "bin_end": 2.2,
            "bin_start": 0,
            "count": 1
           },
           {
            "bin_end": 4.4,
            "bin_start": 2.2,
            "count": 0
           },
           {
            "bin_end": 6.6000000000000005,
            "bin_start": 4.4,
            "count": 0
           },
           {
            "bin_end": 8.8,
            "bin_start": 6.6000000000000005,
            "count": 0
           },
           {
            "bin_end": 11,
            "bin_start": 8.8,
            "count": 0
           },
           {
            "bin_end": 13.200000000000001,
            "bin_start": 11,
            "count": 0
           },
           {
            "bin_end": 15.400000000000002,
            "bin_start": 13.200000000000001,
            "count": 0
           },
           {
            "bin_end": 17.6,
            "bin_start": 15.400000000000002,
            "count": 0
           },
           {
            "bin_end": 19.8,
            "bin_start": 17.6,
            "count": 0
           },
           {
            "bin_end": 22,
            "bin_start": 19.8,
            "count": 2
           }
          ],
          "max": "22.0",
          "min": "0.0",
          "nan_count": 0,
          "unique_count": 3
         }
        },
        {
         "dtype": "float64",
         "name": "Grade 4 Female",
         "stats": {
          "histogram": [
           {
            "bin_end": 2.1,
            "bin_start": 0,
            "count": 1
           },
           {
            "bin_end": 4.2,
            "bin_start": 2.1,
            "count": 0
           },
           {
            "bin_end": 6.300000000000001,
            "bin_start": 4.2,
            "count": 0
           },
           {
            "bin_end": 8.4,
            "bin_start": 6.300000000000001,
            "count": 0
           },
           {
            "bin_end": 10.5,
            "bin_start": 8.4,
            "count": 0
           },
           {
            "bin_end": 12.600000000000001,
            "bin_start": 10.5,
            "count": 0
           },
           {
            "bin_end": 14.700000000000001,
            "bin_start": 12.600000000000001,
            "count": 0
           },
           {
            "bin_end": 16.8,
            "bin_start": 14.700000000000001,
            "count": 0
           },
           {
            "bin_end": 18.900000000000002,
            "bin_start": 16.8,
            "count": 0
           },
           {
            "bin_end": 21,
            "bin_start": 18.900000000000002,
            "count": 2
           }
          ],
          "max": "21.0",
          "min": "0.0",
          "nan_count": 0,
          "unique_count": 3
         }
        },
        {
         "dtype": "float64",
         "name": "Grade 5 Male",
         "stats": {
          "histogram": [
           {
            "bin_end": 1.7,
            "bin_start": 0,
            "count": 2
           },
           {
            "bin_end": 3.4,
            "bin_start": 1.7,
            "count": 0
           },
           {
            "bin_end": 5.1,
            "bin_start": 3.4,
            "count": 0
           },
           {
            "bin_end": 6.8,
            "bin_start": 5.1,
            "count": 0
           },
           {
            "bin_end": 8.5,
            "bin_start": 6.8,
            "count": 0
           },
           {
            "bin_end": 10.2,
            "bin_start": 8.5,
            "count": 0
           },
           {
            "bin_end": 11.9,
            "bin_start": 10.2,
            "count": 0
           },
           {
            "bin_end": 13.6,
            "bin_start": 11.9,
            "count": 0
           },
           {
            "bin_end": 15.299999999999999,
            "bin_start": 13.6,
            "count": 0
           },
           {
            "bin_end": 17,
            "bin_start": 15.299999999999999,
            "count": 1
           }
          ],
          "max": "17.0",
          "min": "0.0",
          "nan_count": 0,
          "unique_count": 2
         }
        },
        {
         "dtype": "float64",
         "name": "Grade 5 Female",
         "stats": {
          "histogram": [
           {
            "bin_end": 2.6,
            "bin_start": 0,
            "count": 2
           },
           {
            "bin_end": 5.2,
            "bin_start": 2.6,
            "count": 0
           },
           {
            "bin_end": 7.800000000000001,
            "bin_start": 5.2,
            "count": 0
           },
           {
            "bin_end": 10.4,
            "bin_start": 7.800000000000001,
            "count": 0
           },
           {
            "bin_end": 13,
            "bin_start": 10.4,
            "count": 0
           },
           {
            "bin_end": 15.600000000000001,
            "bin_start": 13,
            "count": 0
           },
           {
            "bin_end": 18.2,
            "bin_start": 15.600000000000001,
            "count": 0
           },
           {
            "bin_end": 20.8,
            "bin_start": 18.2,
            "count": 0
           },
           {
            "bin_end": 23.400000000000002,
            "bin_start": 20.8,
            "count": 0
           },
           {
            "bin_end": 26,
            "bin_start": 23.400000000000002,
            "count": 1
           }
          ],
          "max": "26.0",
          "min": "0.0",
          "nan_count": 0,
          "unique_count": 2
         }
        },
        {
         "dtype": "float64",
         "name": "Grade 6 Male",
         "stats": {
          "histogram": [
           {
            "bin_end": 1.5,
            "bin_start": 0,
            "count": 2
           },
           {
            "bin_end": 3,
            "bin_start": 1.5,
            "count": 0
           },
           {
            "bin_end": 4.5,
            "bin_start": 3,
            "count": 0
           },
           {
            "bin_end": 6,
            "bin_start": 4.5,
            "count": 0
           },
           {
            "bin_end": 7.5,
            "bin_start": 6,
            "count": 0
           },
           {
            "bin_end": 9,
            "bin_start": 7.5,
            "count": 0
           },
           {
            "bin_end": 10.5,
            "bin_start": 9,
            "count": 0
           },
           {
            "bin_end": 12,
            "bin_start": 10.5,
            "count": 0
           },
           {
            "bin_end": 13.5,
            "bin_start": 12,
            "count": 0
           },
           {
            "bin_end": 15,
            "bin_start": 13.5,
            "count": 1
           }
          ],
          "max": "15.0",
          "min": "0.0",
          "nan_count": 0,
          "unique_count": 2
         }
        },
        {
         "dtype": "float64",
         "name": "Grade 6 Female",
         "stats": {
          "histogram": [
           {
            "bin_end": 2.4,
            "bin_start": 0,
            "count": 2
           },
           {
            "bin_end": 4.8,
            "bin_start": 2.4,
            "count": 0
           },
           {
            "bin_end": 7.199999999999999,
            "bin_start": 4.8,
            "count": 0
           },
           {
            "bin_end": 9.6,
            "bin_start": 7.199999999999999,
            "count": 0
           },
           {
            "bin_end": 12,
            "bin_start": 9.6,
            "count": 0
           },
           {
            "bin_end": 14.399999999999999,
            "bin_start": 12,
            "count": 0
           },
           {
            "bin_end": 16.8,
            "bin_start": 14.399999999999999,
            "count": 0
           },
           {
            "bin_end": 19.2,
            "bin_start": 16.8,
            "count": 0
           },
           {
            "bin_end": 21.599999999999998,
            "bin_start": 19.2,
            "count": 0
           },
           {
            "bin_end": 24,
            "bin_start": 21.599999999999998,
            "count": 1
           }
          ],
          "max": "24.0",
          "min": "0.0",
          "nan_count": 0,
          "unique_count": 2
         }
        },
        {
         "dtype": "float64",
         "name": "SPED NG Male",
         "stats": {
          "histogram": [
           {
            "bin_end": -0.4,
            "bin_start": -0.5,
            "count": 0
           },
           {
            "bin_end": -0.3,
            "bin_start": -0.4,
            "count": 0
           },
           {
            "bin_end": -0.19999999999999996,
            "bin_start": -0.3,
            "count": 0
           },
           {
            "bin_end": -0.09999999999999998,
            "bin_start": -0.19999999999999996,
            "count": 0
           },
           {
            "bin_end": 0,
            "bin_start": -0.09999999999999998,
            "count": 0
           },
           {
            "bin_end": 0.10000000000000009,
            "bin_start": 0,
            "count": 3
           },
           {
            "bin_end": 0.20000000000000007,
            "bin_start": 0.10000000000000009,
            "count": 0
           },
           {
            "bin_end": 0.30000000000000004,
            "bin_start": 0.20000000000000007,
            "count": 0
           },
           {
            "bin_end": 0.4,
            "bin_start": 0.30000000000000004,
            "count": 0
           },
           {
            "bin_end": 0.5,
            "bin_start": 0.4,
            "count": 0
           }
          ],
          "max": "0.0",
          "min": "0.0",
          "nan_count": 0,
          "unique_count": 1
         }
        },
        {
         "dtype": "float64",
         "name": "SPED NG Female",
         "stats": {
          "histogram": [
           {
            "bin_end": -0.4,
            "bin_start": -0.5,
            "count": 0
           },
           {
            "bin_end": -0.3,
            "bin_start": -0.4,
            "count": 0
           },
           {
            "bin_end": -0.19999999999999996,
            "bin_start": -0.3,
            "count": 0
           },
           {
            "bin_end": -0.09999999999999998,
            "bin_start": -0.19999999999999996,
            "count": 0
           },
           {
            "bin_end": 0,
            "bin_start": -0.09999999999999998,
            "count": 0
           },
           {
            "bin_end": 0.10000000000000009,
            "bin_start": 0,
            "count": 3
           },
           {
            "bin_end": 0.20000000000000007,
            "bin_start": 0.10000000000000009,
            "count": 0
           },
           {
            "bin_end": 0.30000000000000004,
            "bin_start": 0.20000000000000007,
            "count": 0
           },
           {
            "bin_end": 0.4,
            "bin_start": 0.30000000000000004,
            "count": 0
           },
           {
            "bin_end": 0.5,
            "bin_start": 0.4,
            "count": 0
           }
          ],
          "max": "0.0",
          "min": "0.0",
          "nan_count": 0,
          "unique_count": 1
         }
        },
        {
         "dtype": "float64",
         "name": "School ID_y",
         "stats": {
          "histogram": [
           {
            "bin_end": 141596.2,
            "bin_start": 133212,
            "count": 2
           },
           {
            "bin_end": 149980.4,
            "bin_start": 141596.2,
            "count": 0
           },
           {
            "bin_end": 158364.6,
            "bin_start": 149980.4,
            "count": 0
           },
           {
            "bin_end": 166748.8,
            "bin_start": 158364.6,
            "count": 0
           },
           {
            "bin_end": 175133,
            "bin_start": 166748.8,
            "count": 0
           },
           {
            "bin_end": 183517.2,
            "bin_start": 175133,
            "count": 0
           },
           {
            "bin_end": 191901.40000000002,
            "bin_start": 183517.2,
            "count": 0
           },
           {
            "bin_end": 200285.6,
            "bin_start": 191901.40000000002,
            "count": 0
           },
           {
            "bin_end": 208669.8,
            "bin_start": 200285.6,
            "count": 0
           },
           {
            "bin_end": 217054,
            "bin_start": 208669.8,
            "count": 1
           }
          ],
          "max": "217054.0",
          "min": "133212.0",
          "nan_count": 0,
          "unique_count": 3
         }
        },
        {
         "dtype": "float64",
         "name": "rooms.standard.academic",
         "stats": {
          "histogram": [
           {
            "bin_end": 2.4,
            "bin_start": 2,
            "count": 1
           },
           {
            "bin_end": 2.8,
            "bin_start": 2.4,
            "count": 0
           },
           {
            "bin_end": 3.2,
            "bin_start": 2.8,
            "count": 1
           },
           {
            "bin_end": 3.6,
            "bin_start": 3.2,
            "count": 0
           },
           {
            "bin_end": 4,
            "bin_start": 3.6,
            "count": 0
           },
           {
            "bin_end": 4.4,
            "bin_start": 4,
            "count": 0
           },
           {
            "bin_end": 4.800000000000001,
            "bin_start": 4.4,
            "count": 0
           },
           {
            "bin_end": 5.2,
            "bin_start": 4.800000000000001,
            "count": 0
           },
           {
            "bin_end": 5.6,
            "bin_start": 5.2,
            "count": 0
           },
           {
            "bin_end": 6,
            "bin_start": 5.6,
            "count": 1
           }
          ],
          "max": "6.0",
          "min": "2.0",
          "nan_count": 0,
          "unique_count": 3
         }
        },
        {
         "dtype": "float64",
         "name": "rooms.standard.unused",
         "stats": {
          "histogram": [
           {
            "bin_end": -0.4,
            "bin_start": -0.5,
            "count": 0
           },
           {
            "bin_end": -0.3,
            "bin_start": -0.4,
            "count": 0
           },
           {
            "bin_end": -0.19999999999999996,
            "bin_start": -0.3,
            "count": 0
           },
           {
            "bin_end": -0.09999999999999998,
            "bin_start": -0.19999999999999996,
            "count": 0
           },
           {
            "bin_end": 0,
            "bin_start": -0.09999999999999998,
            "count": 0
           },
           {
            "bin_end": 0.10000000000000009,
            "bin_start": 0,
            "count": 3
           },
           {
            "bin_end": 0.20000000000000007,
            "bin_start": 0.10000000000000009,
            "count": 0
           },
           {
            "bin_end": 0.30000000000000004,
            "bin_start": 0.20000000000000007,
            "count": 0
           },
           {
            "bin_end": 0.4,
            "bin_start": 0.30000000000000004,
            "count": 0
           },
           {
            "bin_end": 0.5,
            "bin_start": 0.4,
            "count": 0
           }
          ],
          "max": "0.0",
          "min": "0.0",
          "nan_count": 0,
          "unique_count": 1
         }
        },
        {
         "dtype": "float64",
         "name": "rooms.nonstandard.academic",
         "stats": {
          "histogram": [
           {
            "bin_end": 0.1,
            "bin_start": 0,
            "count": 2
           },
           {
            "bin_end": 0.2,
            "bin_start": 0.1,
            "count": 0
           },
           {
            "bin_end": 0.30000000000000004,
            "bin_start": 0.2,
            "count": 0
           },
           {
            "bin_end": 0.4,
            "bin_start": 0.30000000000000004,
            "count": 0
           },
           {
            "bin_end": 0.5,
            "bin_start": 0.4,
            "count": 0
           },
           {
            "bin_end": 0.6000000000000001,
            "bin_start": 0.5,
            "count": 0
           },
           {
            "bin_end": 0.7000000000000001,
            "bin_start": 0.6000000000000001,
            "count": 0
           },
           {
            "bin_end": 0.8,
            "bin_start": 0.7000000000000001,
            "count": 0
           },
           {
            "bin_end": 0.9,
            "bin_start": 0.8,
            "count": 0
           },
           {
            "bin_end": 1,
            "bin_start": 0.9,
            "count": 1
           }
          ],
          "max": "1.0",
          "min": "0.0",
          "nan_count": 0,
          "unique_count": 2
         }
        },
        {
         "dtype": "float64",
         "name": "rooms.nonstandard.unused",
         "stats": {
          "histogram": [
           {
            "bin_end": -0.4,
            "bin_start": -0.5,
            "count": 0
           },
           {
            "bin_end": -0.3,
            "bin_start": -0.4,
            "count": 0
           },
           {
            "bin_end": -0.19999999999999996,
            "bin_start": -0.3,
            "count": 0
           },
           {
            "bin_end": -0.09999999999999998,
            "bin_start": -0.19999999999999996,
            "count": 0
           },
           {
            "bin_end": 0,
            "bin_start": -0.09999999999999998,
            "count": 0
           },
           {
            "bin_end": 0.10000000000000009,
            "bin_start": 0,
            "count": 3
           },
           {
            "bin_end": 0.20000000000000007,
            "bin_start": 0.10000000000000009,
            "count": 0
           },
           {
            "bin_end": 0.30000000000000004,
            "bin_start": 0.20000000000000007,
            "count": 0
           },
           {
            "bin_end": 0.4,
            "bin_start": 0.30000000000000004,
            "count": 0
           },
           {
            "bin_end": 0.5,
            "bin_start": 0.4,
            "count": 0
           }
          ],
          "max": "0.0",
          "min": "0.0",
          "nan_count": 0,
          "unique_count": 1
         }
        },
        {
         "dtype": "float64",
         "name": "teachers.instructor",
         "stats": {
          "histogram": [
           {
            "bin_end": -0.4,
            "bin_start": -0.5,
            "count": 0
           },
           {
            "bin_end": -0.3,
            "bin_start": -0.4,
            "count": 0
           },
           {
            "bin_end": -0.19999999999999996,
            "bin_start": -0.3,
            "count": 0
           },
           {
            "bin_end": -0.09999999999999998,
            "bin_start": -0.19999999999999996,
            "count": 0
           },
           {
            "bin_end": 0,
            "bin_start": -0.09999999999999998,
            "count": 0
           },
           {
            "bin_end": 0.10000000000000009,
            "bin_start": 0,
            "count": 3
           },
           {
            "bin_end": 0.20000000000000007,
            "bin_start": 0.10000000000000009,
            "count": 0
           },
           {
            "bin_end": 0.30000000000000004,
            "bin_start": 0.20000000000000007,
            "count": 0
           },
           {
            "bin_end": 0.4,
            "bin_start": 0.30000000000000004,
            "count": 0
           },
           {
            "bin_end": 0.5,
            "bin_start": 0.4,
            "count": 0
           }
          ],
          "max": "0.0",
          "min": "0.0",
          "nan_count": 0,
          "unique_count": 1
         }
        },
        {
         "dtype": "float64",
         "name": "teachers.mobile",
         "stats": {
          "histogram": [
           {
            "bin_end": 0.1,
            "bin_start": 0,
            "count": 2
           },
           {
            "bin_end": 0.2,
            "bin_start": 0.1,
            "count": 0
           },
           {
            "bin_end": 0.30000000000000004,
            "bin_start": 0.2,
            "count": 0
           },
           {
            "bin_end": 0.4,
            "bin_start": 0.30000000000000004,
            "count": 0
           },
           {
            "bin_end": 0.5,
            "bin_start": 0.4,
            "count": 0
           },
           {
            "bin_end": 0.6000000000000001,
            "bin_start": 0.5,
            "count": 0
           },
           {
            "bin_end": 0.7000000000000001,
            "bin_start": 0.6000000000000001,
            "count": 0
           },
           {
            "bin_end": 0.8,
            "bin_start": 0.7000000000000001,
            "count": 0
           },
           {
            "bin_end": 0.9,
            "bin_start": 0.8,
            "count": 0
           },
           {
            "bin_end": 1,
            "bin_start": 0.9,
            "count": 1
           }
          ],
          "max": "1.0",
          "min": "0.0",
          "nan_count": 0,
          "unique_count": 2
         }
        },
        {
         "dtype": "float64",
         "name": "teachers.regular",
         "stats": {
          "histogram": [
           {
            "bin_end": 0.9,
            "bin_start": 0,
            "count": 1
           },
           {
            "bin_end": 1.8,
            "bin_start": 0.9,
            "count": 0
           },
           {
            "bin_end": 2.7,
            "bin_start": 1.8,
            "count": 0
           },
           {
            "bin_end": 3.6,
            "bin_start": 2.7,
            "count": 0
           },
           {
            "bin_end": 4.5,
            "bin_start": 3.6,
            "count": 0
           },
           {
            "bin_end": 5.4,
            "bin_start": 4.5,
            "count": 0
           },
           {
            "bin_end": 6.3,
            "bin_start": 5.4,
            "count": 1
           },
           {
            "bin_end": 7.2,
            "bin_start": 6.3,
            "count": 0
           },
           {
            "bin_end": 8.1,
            "bin_start": 7.2,
            "count": 0
           },
           {
            "bin_end": 9,
            "bin_start": 8.1,
            "count": 1
           }
          ],
          "max": "9.0",
          "min": "0.0",
          "nan_count": 0,
          "unique_count": 3
         }
        },
        {
         "dtype": "float64",
         "name": "teachers.sped",
         "stats": {
          "histogram": [
           {
            "bin_end": -0.4,
            "bin_start": -0.5,
            "count": 0
           },
           {
            "bin_end": -0.3,
            "bin_start": -0.4,
            "count": 0
           },
           {
            "bin_end": -0.19999999999999996,
            "bin_start": -0.3,
            "count": 0
           },
           {
            "bin_end": -0.09999999999999998,
            "bin_start": -0.19999999999999996,
            "count": 0
           },
           {
            "bin_end": 0,
            "bin_start": -0.09999999999999998,
            "count": 0
           },
           {
            "bin_end": 0.10000000000000009,
            "bin_start": 0,
            "count": 3
           },
           {
            "bin_end": 0.20000000000000007,
            "bin_start": 0.10000000000000009,
            "count": 0
           },
           {
            "bin_end": 0.30000000000000004,
            "bin_start": 0.20000000000000007,
            "count": 0
           },
           {
            "bin_end": 0.4,
            "bin_start": 0.30000000000000004,
            "count": 0
           },
           {
            "bin_end": 0.5,
            "bin_start": 0.4,
            "count": 0
           }
          ],
          "max": "0.0",
          "min": "0.0",
          "nan_count": 0,
          "unique_count": 1
         }
        },
        {
         "dtype": "float64",
         "name": "sum_e",
         "stats": {
          "histogram": [
           {
            "bin_end": 53,
            "bin_start": 25,
            "count": 1
           },
           {
            "bin_end": 81,
            "bin_start": 53,
            "count": 0
           },
           {
            "bin_end": 109,
            "bin_start": 81,
            "count": 0
           },
           {
            "bin_end": 137,
            "bin_start": 109,
            "count": 0
           },
           {
            "bin_end": 165,
            "bin_start": 137,
            "count": 0
           },
           {
            "bin_end": 193,
            "bin_start": 165,
            "count": 0
           },
           {
            "bin_end": 221,
            "bin_start": 193,
            "count": 0
           },
           {
            "bin_end": 249,
            "bin_start": 221,
            "count": 1
           },
           {
            "bin_end": 277,
            "bin_start": 249,
            "count": 0
           },
           {
            "bin_end": 305,
            "bin_start": 277,
            "count": 1
           }
          ],
          "max": "305.0",
          "min": "25.0",
          "nan_count": 0,
          "unique_count": 3
         }
        },
        {
         "dtype": "float64",
         "name": "male_e",
         "stats": {
          "histogram": [
           {
            "bin_end": 22.3,
            "bin_start": 10,
            "count": 1
           },
           {
            "bin_end": 34.6,
            "bin_start": 22.3,
            "count": 0
           },
           {
            "bin_end": 46.900000000000006,
            "bin_start": 34.6,
            "count": 0
           },
           {
            "bin_end": 59.2,
            "bin_start": 46.900000000000006,
            "count": 0
           },
           {
            "bin_end": 71.5,
            "bin_start": 59.2,
            "count": 0
           },
           {
            "bin_end": 83.80000000000001,
            "bin_start": 71.5,
            "count": 0
           },
           {
            "bin_end": 96.10000000000001,
            "bin_start": 83.80000000000001,
            "count": 0
           },
           {
            "bin_end": 108.4,
            "bin_start": 96.10000000000001,
            "count": 0
           },
           {
            "bin_end": 120.7,
            "bin_start": 108.4,
            "count": 1
           },
           {
            "bin_end": 133,
            "bin_start": 120.7,
            "count": 1
           }
          ],
          "max": "133.0",
          "min": "10.0",
          "nan_count": 0,
          "unique_count": 3
         }
        },
        {
         "dtype": "float64",
         "name": "female_e",
         "stats": {
          "histogram": [
           {
            "bin_end": 30.7,
            "bin_start": 15,
            "count": 1
           },
           {
            "bin_end": 46.4,
            "bin_start": 30.7,
            "count": 0
           },
           {
            "bin_end": 62.099999999999994,
            "bin_start": 46.4,
            "count": 0
           },
           {
            "bin_end": 77.8,
            "bin_start": 62.099999999999994,
            "count": 0
           },
           {
            "bin_end": 93.5,
            "bin_start": 77.8,
            "count": 0
           },
           {
            "bin_end": 109.19999999999999,
            "bin_start": 93.5,
            "count": 0
           },
           {
            "bin_end": 124.89999999999999,
            "bin_start": 109.19999999999999,
            "count": 1
           },
           {
            "bin_end": 140.6,
            "bin_start": 124.89999999999999,
            "count": 0
           },
           {
            "bin_end": 156.29999999999998,
            "bin_start": 140.6,
            "count": 0
           },
           {
            "bin_end": 172,
            "bin_start": 156.29999999999998,
            "count": 1
           }
          ],
          "max": "172.0",
          "min": "15.0",
          "nan_count": 0,
          "unique_count": 3
         }
        },
        {
         "dtype": "float64",
         "name": "sum_teacher",
         "stats": {
          "histogram": [
           {
            "bin_end": 1,
            "bin_start": 0,
            "count": 1
           },
           {
            "bin_end": 2,
            "bin_start": 1,
            "count": 0
           },
           {
            "bin_end": 3,
            "bin_start": 2,
            "count": 0
           },
           {
            "bin_end": 4,
            "bin_start": 3,
            "count": 0
           },
           {
            "bin_end": 5,
            "bin_start": 4,
            "count": 0
           },
           {
            "bin_end": 6,
            "bin_start": 5,
            "count": 0
           },
           {
            "bin_end": 7,
            "bin_start": 6,
            "count": 1
           },
           {
            "bin_end": 8,
            "bin_start": 7,
            "count": 0
           },
           {
            "bin_end": 9,
            "bin_start": 8,
            "count": 0
           },
           {
            "bin_end": 10,
            "bin_start": 9,
            "count": 1
           }
          ],
          "max": "10.0",
          "min": "0.0",
          "nan_count": 0,
          "unique_count": 3
         }
        },
        {
         "dtype": "float64",
         "name": "st_ratio",
         "stats": {
          "histogram": [
           {
            "bin_end": 31.183333333333334,
            "bin_start": 30.5,
            "count": 1
           },
           {
            "bin_end": 31.866666666666667,
            "bin_start": 31.183333333333334,
            "count": 0
           },
           {
            "bin_end": 32.55,
            "bin_start": 31.866666666666667,
            "count": 0
           },
           {
            "bin_end": 33.233333333333334,
            "bin_start": 32.55,
            "count": 0
           },
           {
            "bin_end": 33.91666666666667,
            "bin_start": 33.233333333333334,
            "count": 0
           },
           {
            "bin_end": 34.6,
            "bin_start": 33.91666666666667,
            "count": 0
           },
           {
            "bin_end": 35.28333333333333,
            "bin_start": 34.6,
            "count": 0
           },
           {
            "bin_end": 35.96666666666667,
            "bin_start": 35.28333333333333,
            "count": 0
           },
           {
            "bin_end": 36.650000000000006,
            "bin_start": 35.96666666666667,
            "count": 0
           },
           {
            "bin_end": 37.333333333333336,
            "bin_start": 36.650000000000006,
            "count": 1
           }
          ],
          "max": "inf",
          "min": "30.5",
          "nan_count": 0,
          "unique_count": 3
         }
        },
        {
         "dtype": "int64",
         "name": "_deepnote_index_column"
        }
       ],
       "row_count": 3,
       "rows_bottom": null,
       "rows_top": [
        {
         "Grade 1 Female": 24,
         "Grade 1 Male": 20,
         "Grade 2 Female": 22,
         "Grade 2 Male": 17,
         "Grade 3 Female": 25,
         "Grade 3 Male": 18,
         "Grade 4 Female": 21,
         "Grade 4 Male": 20,
         "Grade 5 Female": 26,
         "Grade 5 Male": 17,
         "Grade 6 Female": 24,
         "Grade 6 Male": 15,
         "Kinder Female": 30,
         "Kinder Male": 26,
         "SPED NG Female": 0,
         "SPED NG Male": 0,
         "School ID_x": 133504,
         "School ID_y": 133504,
         "_deepnote_index_column": 34437,
         "female_e": 172,
         "male_e": 133,
         "rooms.nonstandard.academic": 0,
         "rooms.nonstandard.unused": 0,
         "rooms.standard.academic": 6,
         "rooms.standard.unused": 0,
         "school.abbrev": 0,
         "school.address": "-",
         "school.cityclass": 0,
         "school.cityhall": "LANAO DEL SUR",
         "school.cityincome": "P 25 M or more but less than P 35 M",
         "school.citymuni": "TARAKA",
         "school.classification": "Elementary",
         "school.classification2": "DepED Managed",
         "school.curricularclass": "Elementary",
         "school.district": "Taraka II",
         "school.division": "Lanao del Sur - IB",
         "school.established": "1/1/1989",
         "school.id": 133504,
         "school.legdistrict": "1st District",
         "school.mother.id": 133504,
         "school.name": "77Th PC ES",
         "school.organization": "Monograde",
         "school.previousname": "-",
         "school.province": "LANAO DEL SUR",
         "school.region": "ARMM",
         "school.region.name": "Autonomous Region in Muslim Mindanao",
         "school.type": "School with no Annexes",
         "school.urban": "Partially Urban",
         "st_ratio": 30.5,
         "sum_e": 305,
         "sum_teacher": 10,
         "teachers.instructor": 0,
         "teachers.mobile": 1,
         "teachers.regular": 9,
         "teachers.sped": 0
        },
        {
         "Grade 1 Female": 23,
         "Grade 1 Male": 22,
         "Grade 2 Female": 23,
         "Grade 2 Male": 21,
         "Grade 3 Female": 21,
         "Grade 3 Male": 22,
         "Grade 4 Female": 20,
         "Grade 4 Male": 22,
         "Grade 5 Female": 0,
         "Grade 5 Male": 0,
         "Grade 6 Female": 0,
         "Grade 6 Male": 0,
         "Kinder Female": 26,
         "Kinder Male": 24,
         "SPED NG Female": 0,
         "SPED NG Male": 0,
         "School ID_x": 133212,
         "School ID_y": 133212,
         "_deepnote_index_column": 34438,
         "female_e": 113,
         "male_e": 111,
         "rooms.nonstandard.academic": 1,
         "rooms.nonstandard.unused": 0,
         "rooms.standard.academic": 3,
         "rooms.standard.unused": 0,
         "school.abbrev": 0,
         "school.address": "-",
         "school.cityclass": 0,
         "school.cityhall": "LANAO DEL SUR",
         "school.cityincome": "P 25 M or more but less than P 35 M",
         "school.citymuni": "BALINDONG (WATU)",
         "school.classification": "Elementary",
         "school.classification2": "DepED Managed",
         "school.curricularclass": "Elementary",
         "school.district": "Balindong I",
         "school.division": "Lanao del Sur - IB",
         "school.established": "1/1/1960",
         "school.id": 133212,
         "school.legdistrict": "1st District",
         "school.mother.id": 133212,
         "school.name": "Abaga PS",
         "school.organization": "Monograde",
         "school.previousname": "-",
         "school.province": "LANAO DEL SUR",
         "school.region": "ARMM",
         "school.region.name": "Autonomous Region in Muslim Mindanao",
         "school.type": "School with no Annexes",
         "school.urban": "Rural",
         "st_ratio": 37.333333333333336,
         "sum_e": 224,
         "sum_teacher": 6,
         "teachers.instructor": 0,
         "teachers.mobile": 0,
         "teachers.regular": 6,
         "teachers.sped": 0
        },
        {
         "Grade 1 Female": 15,
         "Grade 1 Male": 10,
         "Grade 2 Female": 0,
         "Grade 2 Male": 0,
         "Grade 3 Female": 0,
         "Grade 3 Male": 0,
         "Grade 4 Female": 0,
         "Grade 4 Male": 0,
         "Grade 5 Female": 0,
         "Grade 5 Male": 0,
         "Grade 6 Female": 0,
         "Grade 6 Male": 0,
         "Kinder Female": 0,
         "Kinder Male": 0,
         "SPED NG Female": 0,
         "SPED NG Male": 0,
         "School ID_x": 217054,
         "School ID_y": 217054,
         "_deepnote_index_column": 34439,
         "female_e": 15,
         "male_e": 10,
         "rooms.nonstandard.academic": 0,
         "rooms.nonstandard.unused": 0,
         "rooms.standard.academic": 2,
         "rooms.standard.unused": 0,
         "school.abbrev": 0,
         "school.address": "Niog Sangahan, Talipao",
         "school.cityclass": 0,
         "school.cityhall": "SULU",
         "school.cityincome": "P 35 M or more but less than P 45 M",
         "school.citymuni": "INDANAN",
         "school.classification": "Elementary",
         "school.classification2": "DepED Managed",
         "school.curricularclass": "Elementary",
         "school.district": "Talipao",
         "school.division": "Sulu I",
         "school.established": "1/1/2008",
         "school.id": 217054,
         "school.legdistrict": "1st District",
         "school.mother.id": 217054,
         "school.name": "Abbas Abdulla Primary School",
         "school.organization": "Monograde",
         "school.previousname": "-",
         "school.province": "SULU",
         "school.region": "ARMM",
         "school.region.name": "Autonomous Region in Muslim Mindanao",
         "school.type": "School with no Annexes",
         "school.urban": "Partially Urban",
         "st_ratio": "inf",
         "sum_e": 25,
         "sum_teacher": 0,
         "teachers.instructor": 0,
         "teachers.mobile": 0,
         "teachers.regular": 0,
         "teachers.sped": 0
        }
       ]
      },
      "text/html": [
       "<div>\n",
       "<style scoped>\n",
       "    .dataframe tbody tr th:only-of-type {\n",
       "        vertical-align: middle;\n",
       "    }\n",
       "\n",
       "    .dataframe tbody tr th {\n",
       "        vertical-align: top;\n",
       "    }\n",
       "\n",
       "    .dataframe thead th {\n",
       "        text-align: right;\n",
       "    }\n",
       "</style>\n",
       "<table border=\"1\" class=\"dataframe\">\n",
       "  <thead>\n",
       "    <tr style=\"text-align: right;\">\n",
       "      <th></th>\n",
       "      <th>school.id</th>\n",
       "      <th>school.name</th>\n",
       "      <th>school.region</th>\n",
       "      <th>school.region.name</th>\n",
       "      <th>school.province</th>\n",
       "      <th>school.cityhall</th>\n",
       "      <th>school.division</th>\n",
       "      <th>school.citymuni</th>\n",
       "      <th>school.district</th>\n",
       "      <th>school.legdistrict</th>\n",
       "      <th>...</th>\n",
       "      <th>rooms.nonstandard.unused</th>\n",
       "      <th>teachers.instructor</th>\n",
       "      <th>teachers.mobile</th>\n",
       "      <th>teachers.regular</th>\n",
       "      <th>teachers.sped</th>\n",
       "      <th>sum_e</th>\n",
       "      <th>male_e</th>\n",
       "      <th>female_e</th>\n",
       "      <th>sum_teacher</th>\n",
       "      <th>st_ratio</th>\n",
       "    </tr>\n",
       "  </thead>\n",
       "  <tbody>\n",
       "    <tr>\n",
       "      <th>34437</th>\n",
       "      <td>133504</td>\n",
       "      <td>77Th PC ES</td>\n",
       "      <td>ARMM</td>\n",
       "      <td>Autonomous Region in Muslim Mindanao</td>\n",
       "      <td>LANAO DEL SUR</td>\n",
       "      <td>LANAO DEL SUR</td>\n",
       "      <td>Lanao del Sur - IB</td>\n",
       "      <td>TARAKA</td>\n",
       "      <td>Taraka II</td>\n",
       "      <td>1st District</td>\n",
       "      <td>...</td>\n",
       "      <td>0.0</td>\n",
       "      <td>0.0</td>\n",
       "      <td>1.0</td>\n",
       "      <td>9.0</td>\n",
       "      <td>0.0</td>\n",
       "      <td>305.0</td>\n",
       "      <td>133.0</td>\n",
       "      <td>172.0</td>\n",
       "      <td>10.0</td>\n",
       "      <td>30.500000</td>\n",
       "    </tr>\n",
       "    <tr>\n",
       "      <th>34438</th>\n",
       "      <td>133212</td>\n",
       "      <td>Abaga PS</td>\n",
       "      <td>ARMM</td>\n",
       "      <td>Autonomous Region in Muslim Mindanao</td>\n",
       "      <td>LANAO DEL SUR</td>\n",
       "      <td>LANAO DEL SUR</td>\n",
       "      <td>Lanao del Sur - IB</td>\n",
       "      <td>BALINDONG (WATU)</td>\n",
       "      <td>Balindong I</td>\n",
       "      <td>1st District</td>\n",
       "      <td>...</td>\n",
       "      <td>0.0</td>\n",
       "      <td>0.0</td>\n",
       "      <td>0.0</td>\n",
       "      <td>6.0</td>\n",
       "      <td>0.0</td>\n",
       "      <td>224.0</td>\n",
       "      <td>111.0</td>\n",
       "      <td>113.0</td>\n",
       "      <td>6.0</td>\n",
       "      <td>37.333333</td>\n",
       "    </tr>\n",
       "    <tr>\n",
       "      <th>34439</th>\n",
       "      <td>217054</td>\n",
       "      <td>Abbas Abdulla Primary School</td>\n",
       "      <td>ARMM</td>\n",
       "      <td>Autonomous Region in Muslim Mindanao</td>\n",
       "      <td>SULU</td>\n",
       "      <td>SULU</td>\n",
       "      <td>Sulu I</td>\n",
       "      <td>INDANAN</td>\n",
       "      <td>Talipao</td>\n",
       "      <td>1st District</td>\n",
       "      <td>...</td>\n",
       "      <td>0.0</td>\n",
       "      <td>0.0</td>\n",
       "      <td>0.0</td>\n",
       "      <td>0.0</td>\n",
       "      <td>0.0</td>\n",
       "      <td>25.0</td>\n",
       "      <td>10.0</td>\n",
       "      <td>15.0</td>\n",
       "      <td>0.0</td>\n",
       "      <td>inf</td>\n",
       "    </tr>\n",
       "  </tbody>\n",
       "</table>\n",
       "<p>3 rows × 54 columns</p>\n",
       "</div>"
      ],
      "text/plain": [
       "       school.id                   school.name school.region  \\\n",
       "34437     133504                    77Th PC ES          ARMM   \n",
       "34438     133212                      Abaga PS          ARMM   \n",
       "34439     217054  Abbas Abdulla Primary School          ARMM   \n",
       "\n",
       "                         school.region.name school.province school.cityhall  \\\n",
       "34437  Autonomous Region in Muslim Mindanao   LANAO DEL SUR   LANAO DEL SUR   \n",
       "34438  Autonomous Region in Muslim Mindanao   LANAO DEL SUR   LANAO DEL SUR   \n",
       "34439  Autonomous Region in Muslim Mindanao            SULU            SULU   \n",
       "\n",
       "          school.division   school.citymuni school.district  \\\n",
       "34437  Lanao del Sur - IB            TARAKA       Taraka II   \n",
       "34438  Lanao del Sur - IB  BALINDONG (WATU)     Balindong I   \n",
       "34439              Sulu I           INDANAN         Talipao   \n",
       "\n",
       "      school.legdistrict  ... rooms.nonstandard.unused teachers.instructor  \\\n",
       "34437       1st District  ...                      0.0                 0.0   \n",
       "34438       1st District  ...                      0.0                 0.0   \n",
       "34439       1st District  ...                      0.0                 0.0   \n",
       "\n",
       "      teachers.mobile  teachers.regular teachers.sped  sum_e male_e female_e  \\\n",
       "34437             1.0               9.0           0.0  305.0  133.0    172.0   \n",
       "34438             0.0               6.0           0.0  224.0  111.0    113.0   \n",
       "34439             0.0               0.0           0.0   25.0   10.0     15.0   \n",
       "\n",
       "      sum_teacher   st_ratio  \n",
       "34437        10.0  30.500000  \n",
       "34438         6.0  37.333333  \n",
       "34439         0.0        inf  \n",
       "\n",
       "[3 rows x 54 columns]"
      ]
     },
     "execution_count": 162,
     "metadata": {},
     "output_type": "execute_result"
    }
   ],
   "source": [
    "armm_schools.head(3)"
   ]
  },
  {
   "cell_type": "markdown",
   "metadata": {
    "cell_id": "00035-448c5816-451b-4ee9-9a62-8fee2e4223cc",
    "deepnote_cell_type": "markdown",
    "tags": []
   },
   "source": [
    "## Graphs"
   ]
  },
  {
   "cell_type": "markdown",
   "metadata": {
    "cell_id": "00038-505ae910-f01b-4108-a729-68ecf9146df1",
    "deepnote_cell_type": "markdown",
    "tags": []
   },
   "source": [
    "### Region Stats"
   ]
  },
  {
   "cell_type": "code",
   "execution_count": null,
   "metadata": {
    "cell_id": "00039-59071f80-0597-43bc-b463-2a5522c0b4df",
    "deepnote_cell_type": "code",
    "deepnote_to_be_reexecuted": true,
    "execution_millis": 68,
    "execution_start": 1620906159511,
    "source_hash": "2ef0495c",
    "tags": []
   },
   "outputs": [
    {
     "data": {
      "application/vnd.deepnote.dataframe.v2+json": {
       "column_count": 19,
       "columns": [
        {
         "dtype": "object",
         "name": "REGION",
         "stats": {
          "categories": [
           {
            "count": 1,
            "name": "NCR"
           },
           {
            "count": 1,
            "name": "CAR"
           },
           {
            "count": 3,
            "name": "3 others"
           }
          ],
          "nan_count": 0,
          "unique_count": 5
         }
        },
        {
         "dtype": "object",
         "name": "REGION_NAME",
         "stats": {
          "categories": [
           {
            "count": 1,
            "name": "National Capital Region"
           },
           {
            "count": 1,
            "name": "Cordillera Administrative"
           },
           {
            "count": 3,
            "name": "3 others"
           }
          ],
          "nan_count": 0,
          "unique_count": 5
         }
        },
        {
         "dtype": "float64",
         "name": "NET_ENROLMENT_ELEMENTARY",
         "stats": {
          "histogram": [
           {
            "bin_end": 91.116,
            "bin_start": 90.15,
            "count": 2
           },
           {
            "bin_end": 92.08200000000001,
            "bin_start": 91.116,
            "count": 0
           },
           {
            "bin_end": 93.048,
            "bin_start": 92.08200000000001,
            "count": 0
           },
           {
            "bin_end": 94.01400000000001,
            "bin_start": 93.048,
            "count": 1
           },
           {
            "bin_end": 94.98,
            "bin_start": 94.01400000000001,
            "count": 0
           },
           {
            "bin_end": 95.946,
            "bin_start": 94.98,
            "count": 1
           },
           {
            "bin_end": 96.912,
            "bin_start": 95.946,
            "count": 0
           },
           {
            "bin_end": 97.878,
            "bin_start": 96.912,
            "count": 0
           },
           {
            "bin_end": 98.84400000000001,
            "bin_start": 97.878,
            "count": 0
           },
           {
            "bin_end": 99.81,
            "bin_start": 98.84400000000001,
            "count": 1
           }
          ],
          "max": "99.81",
          "min": "90.15",
          "nan_count": 0,
          "unique_count": 5
         }
        },
        {
         "dtype": "float64",
         "name": "NET_PARTICIPATION_SECONDARY SCHOOLS",
         "stats": {
          "histogram": [
           {
            "bin_end": 64.206,
            "bin_start": 62.7,
            "count": 1
           },
           {
            "bin_end": 65.712,
            "bin_start": 64.206,
            "count": 0
           },
           {
            "bin_end": 67.218,
            "bin_start": 65.712,
            "count": 0
           },
           {
            "bin_end": 68.724,
            "bin_start": 67.218,
            "count": 1
           },
           {
            "bin_end": 70.23,
            "bin_start": 68.724,
            "count": 1
           },
           {
            "bin_end": 71.736,
            "bin_start": 70.23,
            "count": 0
           },
           {
            "bin_end": 73.242,
            "bin_start": 71.736,
            "count": 1
           },
           {
            "bin_end": 74.748,
            "bin_start": 73.242,
            "count": 0
           },
           {
            "bin_end": 76.254,
            "bin_start": 74.748,
            "count": 0
           },
           {
            "bin_end": 77.76,
            "bin_start": 76.254,
            "count": 1
           }
          ],
          "max": "77.76",
          "min": "62.7",
          "nan_count": 0,
          "unique_count": 5
         }
        },
        {
         "dtype": "float64",
         "name": "COHORT_SURVIVAL_ELEMENTARY",
         "stats": {
          "histogram": [
           {
            "bin_end": 76.089,
            "bin_start": 75.03,
            "count": 1
           },
           {
            "bin_end": 77.148,
            "bin_start": 76.089,
            "count": 0
           },
           {
            "bin_end": 78.20700000000001,
            "bin_start": 77.148,
            "count": 0
           },
           {
            "bin_end": 79.266,
            "bin_start": 78.20700000000001,
            "count": 1
           },
           {
            "bin_end": 80.325,
            "bin_start": 79.266,
            "count": 0
           },
           {
            "bin_end": 81.384,
            "bin_start": 80.325,
            "count": 0
           },
           {
            "bin_end": 82.443,
            "bin_start": 81.384,
            "count": 1
           },
           {
            "bin_end": 83.50200000000001,
            "bin_start": 82.443,
            "count": 0
           },
           {
            "bin_end": 84.561,
            "bin_start": 83.50200000000001,
            "count": 1
           },
           {
            "bin_end": 85.62,
            "bin_start": 84.561,
            "count": 1
           }
          ],
          "max": "85.62",
          "min": "75.03",
          "nan_count": 0,
          "unique_count": 5
         }
        },
        {
         "dtype": "float64",
         "name": "COHORT_SURVIVAL_SECONDARY",
         "stats": {
          "histogram": [
           {
            "bin_end": 78.909,
            "bin_start": 78.39,
            "count": 1
           },
           {
            "bin_end": 79.428,
            "bin_start": 78.909,
            "count": 0
           },
           {
            "bin_end": 79.947,
            "bin_start": 79.428,
            "count": 0
           },
           {
            "bin_end": 80.466,
            "bin_start": 79.947,
            "count": 0
           },
           {
            "bin_end": 80.985,
            "bin_start": 80.466,
            "count": 0
           },
           {
            "bin_end": 81.504,
            "bin_start": 80.985,
            "count": 1
           },
           {
            "bin_end": 82.023,
            "bin_start": 81.504,
            "count": 2
           },
           {
            "bin_end": 82.542,
            "bin_start": 82.023,
            "count": 0
           },
           {
            "bin_end": 83.06099999999999,
            "bin_start": 82.542,
            "count": 0
           },
           {
            "bin_end": 83.58,
            "bin_start": 83.06099999999999,
            "count": 1
           }
          ],
          "max": "83.58",
          "min": "78.39",
          "nan_count": 0,
          "unique_count": 5
         }
        },
        {
         "dtype": "int64",
         "name": "GROSS_ENROLLMENT_PRIMARY",
         "stats": {
          "histogram": [
           {
            "bin_end": 324417,
            "bin_start": 217442,
            "count": 1
           },
           {
            "bin_end": 431392,
            "bin_start": 324417,
            "count": 1
           },
           {
            "bin_end": 538367,
            "bin_start": 431392,
            "count": 0
           },
           {
            "bin_end": 645342,
            "bin_start": 538367,
            "count": 1
           },
           {
            "bin_end": 752317,
            "bin_start": 645342,
            "count": 0
           },
           {
            "bin_end": 859292,
            "bin_start": 752317,
            "count": 0
           },
           {
            "bin_end": 966267,
            "bin_start": 859292,
            "count": 0
           },
           {
            "bin_end": 1073242,
            "bin_start": 966267,
            "count": 0
           },
           {
            "bin_end": 1180217,
            "bin_start": 1073242,
            "count": 0
           },
           {
            "bin_end": 1287192,
            "bin_start": 1180217,
            "count": 2
           }
          ],
          "max": "1287192",
          "min": "217442",
          "nan_count": 0,
          "unique_count": 5
         }
        },
        {
         "dtype": "int64",
         "name": "TEACHER_PRIMARY",
         "stats": {
          "histogram": [
           {
            "bin_end": 10558.4,
            "bin_start": 7848,
            "count": 1
           },
           {
            "bin_end": 13268.8,
            "bin_start": 10558.4,
            "count": 0
           },
           {
            "bin_end": 15979.2,
            "bin_start": 13268.8,
            "count": 1
           },
           {
            "bin_end": 18689.6,
            "bin_start": 15979.2,
            "count": 0
           },
           {
            "bin_end": 21400,
            "bin_start": 18689.6,
            "count": 0
           },
           {
            "bin_end": 24110.4,
            "bin_start": 21400,
            "count": 1
           },
           {
            "bin_end": 26820.8,
            "bin_start": 24110.4,
            "count": 0
           },
           {
            "bin_end": 29531.2,
            "bin_start": 26820.8,
            "count": 0
           },
           {
            "bin_end": 32241.600000000002,
            "bin_start": 29531.2,
            "count": 1
           },
           {
            "bin_end": 34952,
            "bin_start": 32241.600000000002,
            "count": 1
           }
          ],
          "max": "34952",
          "min": "7848",
          "nan_count": 0,
          "unique_count": 5
         }
        },
        {
         "dtype": "int64",
         "name": "GROSS_ENROLLMENT_SECONDARY",
         "stats": {
          "histogram": [
           {
            "bin_end": 145381.5,
            "bin_start": 86817,
            "count": 1
           },
           {
            "bin_end": 203946,
            "bin_start": 145381.5,
            "count": 1
           },
           {
            "bin_end": 262510.5,
            "bin_start": 203946,
            "count": 0
           },
           {
            "bin_end": 321075,
            "bin_start": 262510.5,
            "count": 1
           },
           {
            "bin_end": 379639.5,
            "bin_start": 321075,
            "count": 0
           },
           {
            "bin_end": 438204,
            "bin_start": 379639.5,
            "count": 0
           },
           {
            "bin_end": 496768.5,
            "bin_start": 438204,
            "count": 0
           },
           {
            "bin_end": 555333,
            "bin_start": 496768.5,
            "count": 0
           },
           {
            "bin_end": 613897.5,
            "bin_start": 555333,
            "count": 1
           },
           {
            "bin_end": 672462,
            "bin_start": 613897.5,
            "count": 1
           }
          ],
          "max": "672462",
          "min": "86817",
          "nan_count": 0,
          "unique_count": 5
         }
        },
        {
         "dtype": "int64",
         "name": "TEACHER_SECONDARY",
         "stats": {
          "histogram": [
           {
            "bin_end": 4591.3,
            "bin_start": 2967,
            "count": 1
           },
           {
            "bin_end": 6215.6,
            "bin_start": 4591.3,
            "count": 1
           },
           {
            "bin_end": 7839.9,
            "bin_start": 6215.6,
            "count": 0
           },
           {
            "bin_end": 9464.2,
            "bin_start": 7839.9,
            "count": 1
           },
           {
            "bin_end": 11088.5,
            "bin_start": 9464.2,
            "count": 0
           },
           {
            "bin_end": 12712.8,
            "bin_start": 11088.5,
            "count": 0
           },
           {
            "bin_end": 14337.1,
            "bin_start": 12712.8,
            "count": 0
           },
           {
            "bin_end": 15961.4,
            "bin_start": 14337.1,
            "count": 1
           },
           {
            "bin_end": 17585.699999999997,
            "bin_start": 15961.4,
            "count": 0
           },
           {
            "bin_end": 19210,
            "bin_start": 17585.699999999997,
            "count": 1
           }
          ],
          "max": "19210",
          "min": "2967",
          "nan_count": 0,
          "unique_count": 5
         }
        },
        {
         "dtype": "float64",
         "name": "NAT_MATH_PRIMARY",
         "stats": {
          "histogram": [
           {
            "bin_end": 57.486,
            "bin_start": 56.01,
            "count": 1
           },
           {
            "bin_end": 58.961999999999996,
            "bin_start": 57.486,
            "count": 0
           },
           {
            "bin_end": 60.437999999999995,
            "bin_start": 58.961999999999996,
            "count": 0
           },
           {
            "bin_end": 61.913999999999994,
            "bin_start": 60.437999999999995,
            "count": 0
           },
           {
            "bin_end": 63.39,
            "bin_start": 61.913999999999994,
            "count": 0
           },
           {
            "bin_end": 64.866,
            "bin_start": 63.39,
            "count": 1
           },
           {
            "bin_end": 66.342,
            "bin_start": 64.866,
            "count": 0
           },
           {
            "bin_end": 67.818,
            "bin_start": 66.342,
            "count": 0
           },
           {
            "bin_end": 69.294,
            "bin_start": 67.818,
            "count": 0
           },
           {
            "bin_end": 70.77,
            "bin_start": 69.294,
            "count": 3
           }
          ],
          "max": "70.77",
          "min": "56.01",
          "nan_count": 0,
          "unique_count": 5
         }
        },
        {
         "dtype": "float64",
         "name": "NAT_ENGLISH_PRIMARY",
         "stats": {
          "histogram": [
           {
            "bin_end": 57.394,
            "bin_start": 56.29,
            "count": 1
           },
           {
            "bin_end": 58.498,
            "bin_start": 57.394,
            "count": 0
           },
           {
            "bin_end": 59.602,
            "bin_start": 58.498,
            "count": 0
           },
           {
            "bin_end": 60.705999999999996,
            "bin_start": 59.602,
            "count": 0
           },
           {
            "bin_end": 61.81,
            "bin_start": 60.705999999999996,
            "count": 1
           },
           {
            "bin_end": 62.914,
            "bin_start": 61.81,
            "count": 0
           },
           {
            "bin_end": 64.018,
            "bin_start": 62.914,
            "count": 1
           },
           {
            "bin_end": 65.122,
            "bin_start": 64.018,
            "count": 0
           },
           {
            "bin_end": 66.226,
            "bin_start": 65.122,
            "count": 0
           },
           {
            "bin_end": 67.33,
            "bin_start": 66.226,
            "count": 2
           }
          ],
          "max": "67.33",
          "min": "56.29",
          "nan_count": 0,
          "unique_count": 5
         }
        },
        {
         "dtype": "float64",
         "name": "NAT_SCIENCE_PRIMARY",
         "stats": {
          "histogram": [
           {
            "bin_end": 52.809000000000005,
            "bin_start": 51.67,
            "count": 1
           },
           {
            "bin_end": 53.948,
            "bin_start": 52.809000000000005,
            "count": 1
           },
           {
            "bin_end": 55.087,
            "bin_start": 53.948,
            "count": 0
           },
           {
            "bin_end": 56.226,
            "bin_start": 55.087,
            "count": 0
           },
           {
            "bin_end": 57.365,
            "bin_start": 56.226,
            "count": 0
           },
           {
            "bin_end": 58.504000000000005,
            "bin_start": 57.365,
            "count": 0
           },
           {
            "bin_end": 59.643,
            "bin_start": 58.504000000000005,
            "count": 1
           },
           {
            "bin_end": 60.782000000000004,
            "bin_start": 59.643,
            "count": 0
           },
           {
            "bin_end": 61.921,
            "bin_start": 60.782000000000004,
            "count": 0
           },
           {
            "bin_end": 63.06,
            "bin_start": 61.921,
            "count": 2
           }
          ],
          "max": "63.06",
          "min": "51.67",
          "nan_count": 0,
          "unique_count": 5
         }
        },
        {
         "dtype": "float64",
         "name": "NAT_MATH_SECONDARY",
         "stats": {
          "histogram": [
           {
            "bin_end": 37.96,
            "bin_start": 37.59,
            "count": 1
           },
           {
            "bin_end": 38.330000000000005,
            "bin_start": 37.96,
            "count": 0
           },
           {
            "bin_end": 38.7,
            "bin_start": 38.330000000000005,
            "count": 0
           },
           {
            "bin_end": 39.07,
            "bin_start": 38.7,
            "count": 0
           },
           {
            "bin_end": 39.44,
            "bin_start": 39.07,
            "count": 0
           },
           {
            "bin_end": 39.81,
            "bin_start": 39.44,
            "count": 0
           },
           {
            "bin_end": 40.18,
            "bin_start": 39.81,
            "count": 1
           },
           {
            "bin_end": 40.55,
            "bin_start": 40.18,
            "count": 2
           },
           {
            "bin_end": 40.92,
            "bin_start": 40.55,
            "count": 0
           },
           {
            "bin_end": 41.29,
            "bin_start": 40.92,
            "count": 1
           }
          ],
          "max": "41.29",
          "min": "37.59",
          "nan_count": 0,
          "unique_count": 5
         }
        },
        {
         "dtype": "float64",
         "name": "NAT_ENGLISH_SECONDARY",
         "stats": {
          "histogram": [
           {
            "bin_end": 43.867,
            "bin_start": 43.33,
            "count": 1
           },
           {
            "bin_end": 44.403999999999996,
            "bin_start": 43.867,
            "count": 1
           },
           {
            "bin_end": 44.941,
            "bin_start": 44.403999999999996,
            "count": 0
           },
           {
            "bin_end": 45.478,
            "bin_start": 44.941,
            "count": 1
           },
           {
            "bin_end": 46.015,
            "bin_start": 45.478,
            "count": 0
           },
           {
            "bin_end": 46.552,
            "bin_start": 46.015,
            "count": 0
           },
           {
            "bin_end": 47.089,
            "bin_start": 46.552,
            "count": 0
           },
           {
            "bin_end": 47.626000000000005,
            "bin_start": 47.089,
            "count": 1
           },
           {
            "bin_end": 48.163000000000004,
            "bin_start": 47.626000000000005,
            "count": 0
           },
           {
            "bin_end": 48.7,
            "bin_start": 48.163000000000004,
            "count": 1
           }
          ],
          "max": "48.7",
          "min": "43.33",
          "nan_count": 0,
          "unique_count": 5
         }
        },
        {
         "dtype": "float64",
         "name": "NAT_SCIENCE_SECONDARY",
         "stats": {
          "histogram": [
           {
            "bin_end": 36.347,
            "bin_start": 36.1,
            "count": 1
           },
           {
            "bin_end": 36.594,
            "bin_start": 36.347,
            "count": 0
           },
           {
            "bin_end": 36.841,
            "bin_start": 36.594,
            "count": 0
           },
           {
            "bin_end": 37.088,
            "bin_start": 36.841,
            "count": 0
           },
           {
            "bin_end": 37.335,
            "bin_start": 37.088,
            "count": 2
           },
           {
            "bin_end": 37.582,
            "bin_start": 37.335,
            "count": 0
           },
           {
            "bin_end": 37.829,
            "bin_start": 37.582,
            "count": 0
           },
           {
            "bin_end": 38.076,
            "bin_start": 37.829,
            "count": 0
           },
           {
            "bin_end": 38.323,
            "bin_start": 38.076,
            "count": 0
           },
           {
            "bin_end": 38.57,
            "bin_start": 38.323,
            "count": 2
           }
          ],
          "max": "38.57",
          "min": "36.1",
          "nan_count": 0,
          "unique_count": 5
         }
        },
        {
         "dtype": "int64",
         "name": "TEXTBOOKS_DISTRIBUTED",
         "stats": {
          "histogram": [
           {
            "bin_end": 154621.2,
            "bin_start": 92260,
            "count": 1
           },
           {
            "bin_end": 216982.4,
            "bin_start": 154621.2,
            "count": 1
           },
           {
            "bin_end": 279343.6,
            "bin_start": 216982.4,
            "count": 0
           },
           {
            "bin_end": 341704.8,
            "bin_start": 279343.6,
            "count": 1
           },
           {
            "bin_end": 404066,
            "bin_start": 341704.8,
            "count": 0
           },
           {
            "bin_end": 466427.19999999995,
            "bin_start": 404066,
            "count": 0
           },
           {
            "bin_end": 528788.3999999999,
            "bin_start": 466427.19999999995,
            "count": 0
           },
           {
            "bin_end": 591149.6,
            "bin_start": 528788.3999999999,
            "count": 0
           },
           {
            "bin_end": 653510.7999999999,
            "bin_start": 591149.6,
            "count": 1
           },
           {
            "bin_end": 715872,
            "bin_start": 653510.7999999999,
            "count": 1
           }
          ],
          "max": "715872",
          "min": "92260",
          "nan_count": 0,
          "unique_count": 5
         }
        },
        {
         "dtype": "float64",
         "name": "SIMPLE_LITERACY",
         "stats": {
          "histogram": [
           {
            "bin_end": 95.24,
            "bin_start": 94.8,
            "count": 2
           },
           {
            "bin_end": 95.67999999999999,
            "bin_start": 95.24,
            "count": 0
           },
           {
            "bin_end": 96.12,
            "bin_start": 95.67999999999999,
            "count": 0
           },
           {
            "bin_end": 96.56,
            "bin_start": 96.12,
            "count": 0
           },
           {
            "bin_end": 97,
            "bin_start": 96.56,
            "count": 0
           },
           {
            "bin_end": 97.44,
            "bin_start": 97,
            "count": 0
           },
           {
            "bin_end": 97.88,
            "bin_start": 97.44,
            "count": 1
           },
           {
            "bin_end": 98.32000000000001,
            "bin_start": 97.88,
            "count": 1
           },
           {
            "bin_end": 98.76,
            "bin_start": 98.32000000000001,
            "count": 0
           },
           {
            "bin_end": 99.2,
            "bin_start": 98.76,
            "count": 1
           }
          ],
          "max": "99.2",
          "min": "94.8",
          "nan_count": 0,
          "unique_count": 5
         }
        },
        {
         "dtype": "float64",
         "name": "FUNCTIONAL_LITERACY",
         "stats": {
          "histogram": [
           {
            "bin_end": 86.89,
            "bin_start": 86.1,
            "count": 1
           },
           {
            "bin_end": 87.67999999999999,
            "bin_start": 86.89,
            "count": 0
           },
           {
            "bin_end": 88.47,
            "bin_start": 87.67999999999999,
            "count": 0
           },
           {
            "bin_end": 89.25999999999999,
            "bin_start": 88.47,
            "count": 1
           },
           {
            "bin_end": 90.05,
            "bin_start": 89.25999999999999,
            "count": 0
           },
           {
            "bin_end": 90.84,
            "bin_start": 90.05,
            "count": 0
           },
           {
            "bin_end": 91.63,
            "bin_start": 90.84,
            "count": 1
           },
           {
            "bin_end": 92.42,
            "bin_start": 91.63,
            "count": 1
           },
           {
            "bin_end": 93.21,
            "bin_start": 92.42,
            "count": 0
           },
           {
            "bin_end": 94,
            "bin_start": 93.21,
            "count": 1
           }
          ],
          "max": "94.0",
          "min": "86.1",
          "nan_count": 0,
          "unique_count": 5
         }
        },
        {
         "dtype": "int64",
         "name": "_deepnote_index_column"
        }
       ],
       "row_count": 5,
       "rows_bottom": null,
       "rows_top": [
        {
         "COHORT_SURVIVAL_ELEMENTARY": 85.62,
         "COHORT_SURVIVAL_SECONDARY": 81.67,
         "FUNCTIONAL_LITERACY": 94,
         "GROSS_ENROLLMENT_PRIMARY": 1231890,
         "GROSS_ENROLLMENT_SECONDARY": 672462,
         "NAT_ENGLISH_PRIMARY": 56.29,
         "NAT_ENGLISH_SECONDARY": 47.19,
         "NAT_MATH_PRIMARY": 56.01,
         "NAT_MATH_SECONDARY": 37.59,
         "NAT_SCIENCE_PRIMARY": 51.67,
         "NAT_SCIENCE_SECONDARY": 36.1,
         "NET_ENROLMENT_ELEMENTARY": 90.15,
         "NET_PARTICIPATION_SECONDARY SCHOOLS": 77.76,
         "REGION": "NCR",
         "REGION_NAME": "National Capital Region",
         "SIMPLE_LITERACY": 99.2,
         "TEACHER_PRIMARY": 31314,
         "TEACHER_SECONDARY": 19210,
         "TEXTBOOKS_DISTRIBUTED": 715872,
         "_deepnote_index_column": 0
        },
        {
         "COHORT_SURVIVAL_ELEMENTARY": 75.03,
         "COHORT_SURVIVAL_SECONDARY": 78.39,
         "FUNCTIONAL_LITERACY": 89.2,
         "GROSS_ENROLLMENT_PRIMARY": 217442,
         "GROSS_ENROLLMENT_SECONDARY": 86817,
         "NAT_ENGLISH_PRIMARY": 61.67,
         "NAT_ENGLISH_SECONDARY": 48.7,
         "NAT_MATH_PRIMARY": 63.73,
         "NAT_MATH_SECONDARY": 39.92,
         "NAT_SCIENCE_PRIMARY": 53.56,
         "NAT_SCIENCE_SECONDARY": 38.34,
         "NET_ENROLMENT_ELEMENTARY": 99.81,
         "NET_PARTICIPATION_SECONDARY SCHOOLS": 62.7,
         "REGION": "CAR",
         "REGION_NAME": "Cordillera Administrative",
         "SIMPLE_LITERACY": 94.8,
         "TEACHER_PRIMARY": 7848,
         "TEACHER_SECONDARY": 2967,
         "TEXTBOOKS_DISTRIBUTED": 92260,
         "_deepnote_index_column": 1
        },
        {
         "COHORT_SURVIVAL_ELEMENTARY": 83.6,
         "COHORT_SURVIVAL_SECONDARY": 83.58,
         "FUNCTIONAL_LITERACY": 91.3,
         "GROSS_ENROLLMENT_PRIMARY": 618666,
         "GROSS_ENROLLMENT_SECONDARY": 304807,
         "NAT_ENGLISH_PRIMARY": 66.36,
         "NAT_ENGLISH_SECONDARY": 44.3,
         "NAT_MATH_PRIMARY": 70.77,
         "NAT_MATH_SECONDARY": 40.36,
         "NAT_SCIENCE_PRIMARY": 62,
         "NAT_SCIENCE_SECONDARY": 37.11,
         "NET_ENROLMENT_ELEMENTARY": 93.81,
         "NET_PARTICIPATION_SECONDARY SCHOOLS": 72.67,
         "REGION": "I",
         "REGION_NAME": "Ilocos Region",
         "SIMPLE_LITERACY": 98.2,
         "TEACHER_PRIMARY": 21604,
         "TEACHER_SECONDARY": 9032,
         "TEXTBOOKS_DISTRIBUTED": 323011,
         "_deepnote_index_column": 2
        },
        {
         "COHORT_SURVIVAL_ELEMENTARY": 78.76,
         "COHORT_SURVIVAL_SECONDARY": 81.49,
         "FUNCTIONAL_LITERACY": 86.1,
         "GROSS_ENROLLMENT_PRIMARY": 423776,
         "GROSS_ENROLLMENT_SECONDARY": 195048,
         "NAT_ENGLISH_PRIMARY": 63.49,
         "NAT_ENGLISH_SECONDARY": 43.33,
         "NAT_MATH_PRIMARY": 69.44,
         "NAT_MATH_SECONDARY": 40.27,
         "NAT_SCIENCE_PRIMARY": 59.11,
         "NAT_SCIENCE_SECONDARY": 37.18,
         "NET_ENROLMENT_ELEMENTARY": 95.12,
         "NET_PARTICIPATION_SECONDARY SCHOOLS": 68.25,
         "REGION": "II",
         "REGION_NAME": "Cagayan Valley",
         "SIMPLE_LITERACY": 95,
         "TEACHER_PRIMARY": 14728,
         "TEACHER_SECONDARY": 5855,
         "TEXTBOOKS_DISTRIBUTED": 212798,
         "_deepnote_index_column": 3
        },
        {
         "COHORT_SURVIVAL_ELEMENTARY": 82.11,
         "COHORT_SURVIVAL_SECONDARY": 81.62,
         "FUNCTIONAL_LITERACY": 92.1,
         "GROSS_ENROLLMENT_PRIMARY": 1287192,
         "GROSS_ENROLLMENT_SECONDARY": 583896,
         "NAT_ENGLISH_PRIMARY": 67.33,
         "NAT_ENGLISH_SECONDARY": 45.08,
         "NAT_MATH_PRIMARY": 70.14,
         "NAT_MATH_SECONDARY": 41.29,
         "NAT_SCIENCE_PRIMARY": 63.06,
         "NAT_SCIENCE_SECONDARY": 38.57,
         "NET_ENROLMENT_ELEMENTARY": 90.55,
         "NET_PARTICIPATION_SECONDARY SCHOOLS": 70.22,
         "REGION": "III",
         "REGION_NAME": "Central Luzon",
         "SIMPLE_LITERACY": 97.8,
         "TEACHER_PRIMARY": 34952,
         "TEACHER_SECONDARY": 14534,
         "TEXTBOOKS_DISTRIBUTED": 609378,
         "_deepnote_index_column": 4
        }
       ]
      },
      "text/html": [
       "<div>\n",
       "<style scoped>\n",
       "    .dataframe tbody tr th:only-of-type {\n",
       "        vertical-align: middle;\n",
       "    }\n",
       "\n",
       "    .dataframe tbody tr th {\n",
       "        vertical-align: top;\n",
       "    }\n",
       "\n",
       "    .dataframe thead th {\n",
       "        text-align: right;\n",
       "    }\n",
       "</style>\n",
       "<table border=\"1\" class=\"dataframe\">\n",
       "  <thead>\n",
       "    <tr style=\"text-align: right;\">\n",
       "      <th></th>\n",
       "      <th>REGION</th>\n",
       "      <th>REGION_NAME</th>\n",
       "      <th>NET_ENROLMENT_ELEMENTARY</th>\n",
       "      <th>NET_PARTICIPATION_SECONDARY SCHOOLS</th>\n",
       "      <th>COHORT_SURVIVAL_ELEMENTARY</th>\n",
       "      <th>COHORT_SURVIVAL_SECONDARY</th>\n",
       "      <th>GROSS_ENROLLMENT_PRIMARY</th>\n",
       "      <th>TEACHER_PRIMARY</th>\n",
       "      <th>GROSS_ENROLLMENT_SECONDARY</th>\n",
       "      <th>TEACHER_SECONDARY</th>\n",
       "      <th>NAT_MATH_PRIMARY</th>\n",
       "      <th>NAT_ENGLISH_PRIMARY</th>\n",
       "      <th>NAT_SCIENCE_PRIMARY</th>\n",
       "      <th>NAT_MATH_SECONDARY</th>\n",
       "      <th>NAT_ENGLISH_SECONDARY</th>\n",
       "      <th>NAT_SCIENCE_SECONDARY</th>\n",
       "      <th>TEXTBOOKS_DISTRIBUTED</th>\n",
       "      <th>SIMPLE_LITERACY</th>\n",
       "      <th>FUNCTIONAL_LITERACY</th>\n",
       "    </tr>\n",
       "  </thead>\n",
       "  <tbody>\n",
       "    <tr>\n",
       "      <th>0</th>\n",
       "      <td>NCR</td>\n",
       "      <td>National Capital Region</td>\n",
       "      <td>90.15</td>\n",
       "      <td>77.76</td>\n",
       "      <td>85.62</td>\n",
       "      <td>81.67</td>\n",
       "      <td>1231890</td>\n",
       "      <td>31314</td>\n",
       "      <td>672462</td>\n",
       "      <td>19210</td>\n",
       "      <td>56.01</td>\n",
       "      <td>56.29</td>\n",
       "      <td>51.67</td>\n",
       "      <td>37.59</td>\n",
       "      <td>47.19</td>\n",
       "      <td>36.10</td>\n",
       "      <td>715872</td>\n",
       "      <td>99.2</td>\n",
       "      <td>94.0</td>\n",
       "    </tr>\n",
       "    <tr>\n",
       "      <th>1</th>\n",
       "      <td>CAR</td>\n",
       "      <td>Cordillera Administrative</td>\n",
       "      <td>99.81</td>\n",
       "      <td>62.70</td>\n",
       "      <td>75.03</td>\n",
       "      <td>78.39</td>\n",
       "      <td>217442</td>\n",
       "      <td>7848</td>\n",
       "      <td>86817</td>\n",
       "      <td>2967</td>\n",
       "      <td>63.73</td>\n",
       "      <td>61.67</td>\n",
       "      <td>53.56</td>\n",
       "      <td>39.92</td>\n",
       "      <td>48.70</td>\n",
       "      <td>38.34</td>\n",
       "      <td>92260</td>\n",
       "      <td>94.8</td>\n",
       "      <td>89.2</td>\n",
       "    </tr>\n",
       "    <tr>\n",
       "      <th>2</th>\n",
       "      <td>I</td>\n",
       "      <td>Ilocos Region</td>\n",
       "      <td>93.81</td>\n",
       "      <td>72.67</td>\n",
       "      <td>83.60</td>\n",
       "      <td>83.58</td>\n",
       "      <td>618666</td>\n",
       "      <td>21604</td>\n",
       "      <td>304807</td>\n",
       "      <td>9032</td>\n",
       "      <td>70.77</td>\n",
       "      <td>66.36</td>\n",
       "      <td>62.00</td>\n",
       "      <td>40.36</td>\n",
       "      <td>44.30</td>\n",
       "      <td>37.11</td>\n",
       "      <td>323011</td>\n",
       "      <td>98.2</td>\n",
       "      <td>91.3</td>\n",
       "    </tr>\n",
       "    <tr>\n",
       "      <th>3</th>\n",
       "      <td>II</td>\n",
       "      <td>Cagayan Valley</td>\n",
       "      <td>95.12</td>\n",
       "      <td>68.25</td>\n",
       "      <td>78.76</td>\n",
       "      <td>81.49</td>\n",
       "      <td>423776</td>\n",
       "      <td>14728</td>\n",
       "      <td>195048</td>\n",
       "      <td>5855</td>\n",
       "      <td>69.44</td>\n",
       "      <td>63.49</td>\n",
       "      <td>59.11</td>\n",
       "      <td>40.27</td>\n",
       "      <td>43.33</td>\n",
       "      <td>37.18</td>\n",
       "      <td>212798</td>\n",
       "      <td>95.0</td>\n",
       "      <td>86.1</td>\n",
       "    </tr>\n",
       "    <tr>\n",
       "      <th>4</th>\n",
       "      <td>III</td>\n",
       "      <td>Central Luzon</td>\n",
       "      <td>90.55</td>\n",
       "      <td>70.22</td>\n",
       "      <td>82.11</td>\n",
       "      <td>81.62</td>\n",
       "      <td>1287192</td>\n",
       "      <td>34952</td>\n",
       "      <td>583896</td>\n",
       "      <td>14534</td>\n",
       "      <td>70.14</td>\n",
       "      <td>67.33</td>\n",
       "      <td>63.06</td>\n",
       "      <td>41.29</td>\n",
       "      <td>45.08</td>\n",
       "      <td>38.57</td>\n",
       "      <td>609378</td>\n",
       "      <td>97.8</td>\n",
       "      <td>92.1</td>\n",
       "    </tr>\n",
       "  </tbody>\n",
       "</table>\n",
       "</div>"
      ],
      "text/plain": [
       "  REGION                REGION_NAME  NET_ENROLMENT_ELEMENTARY  \\\n",
       "0    NCR    National Capital Region                     90.15   \n",
       "1    CAR  Cordillera Administrative                     99.81   \n",
       "2      I              Ilocos Region                     93.81   \n",
       "3     II             Cagayan Valley                     95.12   \n",
       "4    III              Central Luzon                     90.55   \n",
       "\n",
       "   NET_PARTICIPATION_SECONDARY SCHOOLS  COHORT_SURVIVAL_ELEMENTARY  \\\n",
       "0                                77.76                       85.62   \n",
       "1                                62.70                       75.03   \n",
       "2                                72.67                       83.60   \n",
       "3                                68.25                       78.76   \n",
       "4                                70.22                       82.11   \n",
       "\n",
       "   COHORT_SURVIVAL_SECONDARY  GROSS_ENROLLMENT_PRIMARY  TEACHER_PRIMARY  \\\n",
       "0                      81.67                   1231890            31314   \n",
       "1                      78.39                    217442             7848   \n",
       "2                      83.58                    618666            21604   \n",
       "3                      81.49                    423776            14728   \n",
       "4                      81.62                   1287192            34952   \n",
       "\n",
       "   GROSS_ENROLLMENT_SECONDARY  TEACHER_SECONDARY  NAT_MATH_PRIMARY  \\\n",
       "0                      672462              19210             56.01   \n",
       "1                       86817               2967             63.73   \n",
       "2                      304807               9032             70.77   \n",
       "3                      195048               5855             69.44   \n",
       "4                      583896              14534             70.14   \n",
       "\n",
       "   NAT_ENGLISH_PRIMARY  NAT_SCIENCE_PRIMARY  NAT_MATH_SECONDARY  \\\n",
       "0                56.29                51.67               37.59   \n",
       "1                61.67                53.56               39.92   \n",
       "2                66.36                62.00               40.36   \n",
       "3                63.49                59.11               40.27   \n",
       "4                67.33                63.06               41.29   \n",
       "\n",
       "   NAT_ENGLISH_SECONDARY  NAT_SCIENCE_SECONDARY  TEXTBOOKS_DISTRIBUTED  \\\n",
       "0                  47.19                  36.10                 715872   \n",
       "1                  48.70                  38.34                  92260   \n",
       "2                  44.30                  37.11                 323011   \n",
       "3                  43.33                  37.18                 212798   \n",
       "4                  45.08                  38.57                 609378   \n",
       "\n",
       "   SIMPLE_LITERACY  FUNCTIONAL_LITERACY  \n",
       "0             99.2                 94.0  \n",
       "1             94.8                 89.2  \n",
       "2             98.2                 91.3  \n",
       "3             95.0                 86.1  \n",
       "4             97.8                 92.1  "
      ]
     },
     "execution_count": 85,
     "metadata": {},
     "output_type": "execute_result"
    }
   ],
   "source": [
    "# Try to make a viz that can highlight cohort survival rates :D\n",
    "# Tip: use seaborn, any data viz will do, up to u guys\n",
    "\n"
   ]
  },
  {
   "cell_type": "code",
   "execution_count": null,
   "metadata": {
    "cell_id": "00040-7f9513ae-6dd1-46e1-af7c-c54cd9a5d290",
    "deepnote_cell_type": "code",
    "deepnote_to_be_reexecuted": true,
    "execution_millis": 117,
    "execution_start": 1620905920245,
    "source_hash": "b623e53d",
    "tags": []
   },
   "outputs": [
    {
     "data": {
      "application/vnd.deepnote.dataframe.v2+json": {
       "column_count": 12,
       "columns": [
        {
         "dtype": "int64",
         "name": "School ID",
         "stats": {
          "histogram": [
           {
            "bin_end": 125606.8,
            "bin_start": 100001,
            "count": 25328
           },
           {
            "bin_end": 151212.6,
            "bin_start": 125606.8,
            "count": 10918
           },
           {
            "bin_end": 176818.4,
            "bin_start": 151212.6,
            "count": 750
           },
           {
            "bin_end": 202424.2,
            "bin_start": 176818.4,
            "count": 640
           },
           {
            "bin_end": 228030,
            "bin_start": 202424.2,
            "count": 867
           },
           {
            "bin_end": 253635.8,
            "bin_start": 228030,
            "count": 124
           },
           {
            "bin_end": 279241.6,
            "bin_start": 253635.8,
            "count": 21
           },
           {
            "bin_end": 304847.4,
            "bin_start": 279241.6,
            "count": 4780
           },
           {
            "bin_end": 330453.19999999995,
            "bin_start": 304847.4,
            "count": 3195
           },
           {
            "bin_end": 356059,
            "bin_start": 330453.19999999995,
            "count": 1
           }
          ],
          "max": "356059",
          "min": "100001",
          "nan_count": 0,
          "unique_count": 46624
         }
        },
        {
         "dtype": "object",
         "name": "School Name",
         "stats": {
          "categories": [
           {
            "count": 188,
            "name": "San Isidro ES"
           },
           {
            "count": 151,
            "name": "San Jose ES"
           },
           {
            "count": 46285,
            "name": "37248 others"
           }
          ],
          "nan_count": 0,
          "unique_count": 37250
         }
        },
        {
         "dtype": "object",
         "name": "Region"
        },
        {
         "dtype": "object",
         "name": "Province"
        },
        {
         "dtype": "object",
         "name": "Municipality"
        },
        {
         "dtype": "object",
         "name": "Division"
        },
        {
         "dtype": "object",
         "name": "District"
        },
        {
         "dtype": "object",
         "name": "Offering"
        },
        {
         "dtype": "object",
         "name": "Name of Principal"
        },
        {
         "dtype": "int64",
         "name": "Enrolment"
        },
        {
         "dtype": "float64",
         "name": "Latitude"
        },
        {
         "dtype": "float64",
         "name": "Longitude"
        },
        {
         "dtype": "int64",
         "name": "_deepnote_index_column"
        }
       ],
       "row_count": 46624,
       "rows_bottom": [
        {
         "District": "Marikina City District I",
         "Division": "Marikina City",
         "Enrolment": 812,
         "Latitude": 14.6224787,
         "Longitude": 121.0895354,
         "Municipality": "City of Marikina",
         "Name of Principal": "Uriel B. Teodoro",
         "Offering": "SS",
         "Province": "NCR Second District",
         "Region": "NCR",
         "School ID": 319904,
         "School Name": "Kalumpang National High School",
         "_deepnote_index_column": 46582
        },
        {
         "District": "Marikina City District I",
         "Division": "Marikina City",
         "Enrolment": 869,
         "Latitude": 14.622798,
         "Longitude": 121.0971046,
         "Municipality": "City of Marikina",
         "Name of Principal": "Emily G. Santos",
         "Offering": "SS",
         "Province": "NCR Second District",
         "Region": "NCR",
         "School ID": 319905,
         "School Name": "San Roque National High School",
         "_deepnote_index_column": 46583
        },
        {
         "District": "Marikina City District I",
         "Division": "Marikina City",
         "Enrolment": 1386,
         "Latitude": 14.63906667,
         "Longitude": 121.0963139,
         "Municipality": "City of Marikina",
         "Name of Principal": "Wilfredo S. Jabal",
         "Offering": "SS",
         "Province": "NCR Second District",
         "Region": "NCR",
         "School ID": 319906,
         "School Name": "Sto. Nino National High School",
         "_deepnote_index_column": 46584
        },
        {
         "District": "Marikina City District I",
         "Division": "Marikina City",
         "Enrolment": 426,
         "Latitude": 0,
         "Longitude": 0,
         "Municipality": "City of Marikina",
         "Name of Principal": "Elizalde Q. Cena",
         "Offering": "SS",
         "Province": "NCR Second District",
         "Region": "NCR",
         "School ID": 319907,
         "School Name": "Jesus Dela Pe�a National High School",
         "_deepnote_index_column": 46585
        },
        {
         "District": "Makati City District V",
         "Division": "Makati City",
         "Enrolment": 3852,
         "Latitude": 14.55611111,
         "Longitude": 121.0472222,
         "Municipality": "City of Makati",
         "Name of Principal": "Dr. Reynaldo S. Estacio",
         "Offering": "SS",
         "Province": "NCR Fourth District",
         "Region": "NCR",
         "School ID": 320001,
         "School Name": "Pitogo HS",
         "_deepnote_index_column": 46586
        },
        {
         "District": "Makati City District III",
         "Division": "Makati City",
         "Enrolment": 2529,
         "Latitude": 14.54638889,
         "Longitude": 121.0122222,
         "Municipality": "City of Makati",
         "Name of Principal": "Samuel C. Bulan",
         "Offering": "SS",
         "Province": "NCR Fourth District",
         "Region": "NCR",
         "School ID": 320002,
         "School Name": "Bangkal HS",
         "_deepnote_index_column": 46587
        },
        {
         "District": "Makati City District II",
         "Division": "Makati City",
         "Enrolment": 2216,
         "Latitude": 14.55685556,
         "Longitude": 121.0640972,
         "Municipality": "City of Makati",
         "Name of Principal": "Job A. Ferrer",
         "Offering": "SS",
         "Province": "NCR Fourth District",
         "Region": "NCR",
         "School ID": 320003,
         "School Name": "Fort Bonifacio HS - Tibagan HS Annex",
         "_deepnote_index_column": 46588
        },
        {
         "District": "Pasig City District I",
         "Division": "Pasig City",
         "Enrolment": 1059,
         "Latitude": 14.57519722,
         "Longitude": 121.0964667,
         "Municipality": "City of Pasig",
         "Name of Principal": "Jay Mathias A. Arellano",
         "Offering": "SS",
         "Province": "NCR Second District",
         "Region": "NCR",
         "School ID": 320101,
         "School Name": "Pasig City Science HS",
         "_deepnote_index_column": 46589
        },
        {
         "District": "Pasig City District I",
         "Division": "Pasig City",
         "Enrolment": 6824,
         "Latitude": 14.557744,
         "Longitude": 121.091409,
         "Municipality": "City of Pasig",
         "Name of Principal": "Florencia T. Laxamana",
         "Offering": "SS",
         "Province": "NCR Second District",
         "Region": "NCR",
         "School ID": 320102,
         "School Name": "Nagpayong High School",
         "_deepnote_index_column": 46590
        },
        {
         "District": "Paranaque City District II",
         "Division": "Paranaque City",
         "Enrolment": 484,
         "Latitude": 14.47916667,
         "Longitude": 120.9991667,
         "Municipality": "City of Para�aque",
         "Name of Principal": "Concepcion C. Bernaldez",
         "Offering": "SS",
         "Province": "NCR Fourth District",
         "Region": "NCR",
         "School ID": 320201,
         "School Name": "Paranaque Science HS",
         "_deepnote_index_column": 46591
        },
        {
         "District": "Paranaque City District I",
         "Division": "Paranaque City",
         "Enrolment": 1424,
         "Latitude": 14.53027778,
         "Longitude": 120.9988889,
         "Municipality": "City of Para�aque",
         "Name of Principal": "Corazon B. Mandar",
         "Offering": "SS",
         "Province": "NCR Fourth District",
         "Region": "NCR",
         "School ID": 320202,
         "School Name": "Baclaran NHS",
         "_deepnote_index_column": 46592
        },
        {
         "District": "Paranaque City District II",
         "Division": "Paranaque City",
         "Enrolment": 3949,
         "Latitude": 14.49277778,
         "Longitude": 121.0097222,
         "Municipality": "City of Para�aque",
         "Name of Principal": "Mr. Gerry C. Catchillar., Ph.D.",
         "Offering": "SS",
         "Province": "NCR Fourth District",
         "Region": "NCR",
         "School ID": 320203,
         "School Name": "Moonwalk National High School",
         "_deepnote_index_column": 46593
        },
        {
         "District": "Paranaque City District II",
         "Division": "Paranaque City",
         "Enrolment": 2139,
         "Latitude": 14.49221944,
         "Longitude": 121.0373083,
         "Municipality": "City of Para�aque",
         "Name of Principal": "Leonisa D. Romano",
         "Offering": "SS",
         "Province": "NCR Fourth District",
         "Region": "NCR",
         "School ID": 320204,
         "School Name": "Sun Valley NHS",
         "_deepnote_index_column": 46594
        },
        {
         "District": "Las Pi�as City II",
         "Division": "Las Pi�as City",
         "Enrolment": 1809,
         "Latitude": 14.43277778,
         "Longitude": 121.0016667,
         "Municipality": "City of Las Pi�as",
         "Name of Principal": "Efren R. Parilla",
         "Offering": "SS",
         "Province": "NCR Fourth District",
         "Region": "NCR",
         "School ID": 320301,
         "School Name": "Las Pinas East NHS - Equitable Annex",
         "_deepnote_index_column": 46595
        },
        {
         "District": "Las Pi�as City I",
         "Division": "Las Pi�as City",
         "Enrolment": 2654,
         "Latitude": 14.457025,
         "Longitude": 120.9982583,
         "Municipality": "City of Las Pi�as",
         "Name of Principal": "Benigno A. Manalo",
         "Offering": "SS",
         "Province": "NCR Fourth District",
         "Region": "NCR",
         "School ID": 320302,
         "School Name": "CAA NHS Annex",
         "_deepnote_index_column": 46596
        },
        {
         "District": "Las Pi�as City I",
         "Division": "Las Pi�as City",
         "Enrolment": 1018,
         "Latitude": 14.47048333,
         "Longitude": 120.9914472,
         "Municipality": "City of Las Pi�as",
         "Name of Principal": "Alita Lebrias",
         "Offering": "SS",
         "Province": "NCR Fourth District",
         "Region": "NCR",
         "School ID": 320303,
         "School Name": "Las Pinas NHS - Gatchalian Annex",
         "_deepnote_index_column": 46597
        },
        {
         "District": "Las Pi�as City II",
         "Division": "Las Pi�as City",
         "Enrolment": 522,
         "Latitude": 14.43316111,
         "Longitude": 120.9845861,
         "Municipality": "City of Las Pi�as",
         "Name of Principal": "Gloria D. Cuevas",
         "Offering": "SS",
         "Province": "NCR Fourth District",
         "Region": "NCR",
         "School ID": 320304,
         "School Name": "Las Pinas City National Science High School",
         "_deepnote_index_column": 46598
        },
        {
         "District": "Las Pi�as City II",
         "Division": "Las Pi�as City",
         "Enrolment": 1703,
         "Latitude": 14.41856389,
         "Longitude": 121.0177,
         "Municipality": "City of Las Pi�as",
         "Name of Principal": "Lanie A. Socorro",
         "Offering": "SS",
         "Province": "NCR Fourth District",
         "Region": "NCR",
         "School ID": 320305,
         "School Name": "T. S. Cruz High School",
         "_deepnote_index_column": 46599
        },
        {
         "District": "Valenzuela City Central District",
         "Division": "Valenzuela City",
         "Enrolment": 769,
         "Latitude": 14.7024245,
         "Longitude": 120.9644001,
         "Municipality": "City of Valenzuela",
         "Name of Principal": "Jameson H. Tan",
         "Offering": "SS",
         "Province": "NCR Third District",
         "Region": "NCR",
         "School ID": 320401,
         "School Name": "Valenzuela City Science HS",
         "_deepnote_index_column": 46600
        },
        {
         "District": "Valenzuela City Central District",
         "Division": "Valenzuela City",
         "Enrolment": 2113,
         "Latitude": 14.73555556,
         "Longitude": 120.9908333,
         "Municipality": "City of Valenzuela",
         "Name of Principal": "Grace L. Pascua",
         "Offering": "SS",
         "Province": "NCR Third District",
         "Region": "NCR",
         "School ID": 320402,
         "School Name": "Vicente Trinidad NHS (Punturin NHS)",
         "_deepnote_index_column": 46601
        },
        {
         "District": "Valenzuela City Central District",
         "Division": "Valenzuela City",
         "Enrolment": 1246,
         "Latitude": 14.70461389,
         "Longitude": 121.0077611,
         "Municipality": "City of Valenzuela",
         "Name of Principal": "Eddie R. Alarte",
         "Offering": "SS",
         "Province": "NCR Third District",
         "Region": "NCR",
         "School ID": 320403,
         "School Name": "Mapulang Lupa NHS",
         "_deepnote_index_column": 46602
        },
        {
         "District": "Valenzuela City Central District",
         "Division": "Valenzuela City",
         "Enrolment": 2130,
         "Latitude": 14.74506944,
         "Longitude": 121.0029583,
         "Municipality": "City of Valenzuela",
         "Name of Principal": "Arneil D. Aro",
         "Offering": "SS",
         "Province": "NCR Third District",
         "Region": "NCR",
         "School ID": 320404,
         "School Name": "Bignay NHS",
         "_deepnote_index_column": 46603
        },
        {
         "District": "Valenzuela City Central District",
         "Division": "Valenzuela City",
         "Enrolment": 571,
         "Latitude": 14.69883889,
         "Longitude": 120.9505694,
         "Municipality": "City of Valenzuela",
         "Name of Principal": "Ma. Christina C. Salonga",
         "Offering": "SS",
         "Province": "NCR Third District",
         "Region": "NCR",
         "School ID": 320405,
         "School Name": "Arkong Bato NHS (P.R. San Diego Annex)",
         "_deepnote_index_column": 46604
        },
        {
         "District": "Valenzuela City Central District",
         "Division": "Valenzuela City",
         "Enrolment": 831,
         "Latitude": 14.71971944,
         "Longitude": 120.9933389,
         "Municipality": "City of Valenzuela",
         "Name of Principal": "Edelina I. Golloso",
         "Offering": "SS",
         "Province": "NCR Third District",
         "Region": "NCR",
         "School ID": 320406,
         "School Name": "Canumay East NHS",
         "_deepnote_index_column": 46605
        },
        {
         "District": "Valenzuela City North District",
         "Division": "Valenzuela City",
         "Enrolment": 571,
         "Latitude": 14.73278056,
         "Longitude": 120.9283361,
         "Municipality": "City of Valenzuela",
         "Name of Principal": "Jonathan O. Lagdamen",
         "Offering": "SS",
         "Province": "NCR Third District",
         "Region": "NCR",
         "School ID": 320407,
         "School Name": "Wawangpulo National High School",
         "_deepnote_index_column": 46606
        },
        {
         "District": "Valenzuela City East District",
         "Division": "Valenzuela City",
         "Enrolment": 1385,
         "Latitude": 14.70774722,
         "Longitude": 121.0030639,
         "Municipality": "City of Valenzuela",
         "Name of Principal": "Djoana L. Poja",
         "Offering": "SS",
         "Province": "NCR Third District",
         "Region": "NCR",
         "School ID": 320408,
         "School Name": "DALANDANAN NHS- Bagbaguin Annex",
         "_deepnote_index_column": 46607
        },
        {
         "District": "Malabon District II",
         "Division": "Malabon City",
         "Enrolment": 2037,
         "Latitude": 14.654444,
         "Longitude": 120.961111,
         "Municipality": "City of Malabon",
         "Name of Principal": "Juanito H. Gayola",
         "Offering": "SS",
         "Province": "NCR Third District",
         "Region": "NCR",
         "School ID": 320501,
         "School Name": "Longos NHS",
         "_deepnote_index_column": 46608
        },
        {
         "District": "Malabon District III",
         "Division": "Malabon City",
         "Enrolment": 781,
         "Latitude": 14.668225,
         "Longitude": 120.949703,
         "Municipality": "City of Malabon",
         "Name of Principal": "Elenita B. Jose",
         "Offering": "SS",
         "Province": "NCR Third District",
         "Region": "NCR",
         "School ID": 320502,
         "School Name": "Malabon NHS - Concepcion Voc-Tech Annex",
         "_deepnote_index_column": 46609
        },
        {
         "District": "Malabon District V",
         "Division": "Malabon City",
         "Enrolment": 1222,
         "Latitude": 14.66731293,
         "Longitude": 120.9688672,
         "Municipality": "City of Malabon",
         "Name of Principal": "Ma. Victoria R. De Gulan",
         "Offering": "SS",
         "Province": "NCR Third District",
         "Region": "NCR",
         "School ID": 320504,
         "School Name": "Tinajeros NHS - Acacia Annex",
         "_deepnote_index_column": 46610
        },
        {
         "District": "Malabon District V",
         "Division": "Malabon City",
         "Enrolment": 1476,
         "Latitude": 14.664442,
         "Longitude": 120.962242,
         "Municipality": "City of Malabon",
         "Name of Principal": "Rosalie T. Cabanilla",
         "Offering": "SS",
         "Province": "NCR Third District",
         "Region": "NCR",
         "School ID": 320505,
         "School Name": "Catmon IS",
         "_deepnote_index_column": 46611
        },
        {
         "District": "Malabon District III",
         "Division": "Malabon City",
         "Enrolment": 550,
         "Latitude": 14.66027735,
         "Longitude": 120.9508395,
         "Municipality": "City of Malabon",
         "Name of Principal": "Elena J. Mendoza",
         "Offering": "SS",
         "Province": "NCR Third District",
         "Region": "NCR",
         "School ID": 320506,
         "School Name": "Col. Ramon Camus Integrated School",
         "_deepnote_index_column": 46612
        },
        {
         "District": "Malabon District II",
         "Division": "Malabon City",
         "Enrolment": 855,
         "Latitude": 14.657267,
         "Longitude": 120.951683,
         "Municipality": "City of Malabon",
         "Name of Principal": "Pricila C. Hernandez",
         "Offering": "SS",
         "Province": "NCR Third District",
         "Region": "NCR",
         "School ID": 320507,
         "School Name": "Tanong IS",
         "_deepnote_index_column": 46613
        },
        {
         "District": "Taguig District I",
         "Division": "Taguig",
         "Enrolment": 893,
         "Latitude": 0,
         "Longitude": 0,
         "Municipality": "Taguig City",
         "Name of Principal": "Nelson S. Quintong",
         "Offering": "SS",
         "Province": "NCR Fourth District",
         "Region": "NCR",
         "School ID": 320601,
         "School Name": "Taguig Science High School",
         "_deepnote_index_column": 46614
        },
        {
         "District": "Taguig District II",
         "Division": "Taguig",
         "Enrolment": 1713,
         "Latitude": 14.49055556,
         "Longitude": 121.0536111,
         "Municipality": "Taguig City",
         "Name of Principal": "Raul Sj. Cortez",
         "Offering": "SS",
         "Province": "NCR Fourth District",
         "Region": "NCR",
         "School ID": 320602,
         "School Name": "Maria Asuncion Rodriguez Ti�ga High School",
         "_deepnote_index_column": 46615
        },
        {
         "District": "Taguig District I",
         "Division": "Taguig",
         "Enrolment": 656,
         "Latitude": 14.52545833,
         "Longitude": 121.0613611,
         "Municipality": "Taguig City",
         "Name of Principal": "George P. Tizon, Ed. D.",
         "Offering": "SS",
         "Province": "NCR Fourth District",
         "Region": "NCR",
         "School ID": 320604,
         "School Name": "Sen. Renato \"Compa�ero\" Cayetano Memorial Science & Technology High School",
         "_deepnote_index_column": 46616
        },
        {
         "District": "Taguig District II",
         "Division": "Taguig",
         "Enrolment": 4449,
         "Latitude": 14.490542,
         "Longitude": 121.054055,
         "Municipality": "Taguig City",
         "Name of Principal": "Gina R. Poblete",
         "Offering": "SS",
         "Province": "NCR Fourth District",
         "Region": "NCR",
         "School ID": 320605,
         "School Name": "Upper Bicutan National High School",
         "_deepnote_index_column": 46617
        },
        {
         "District": "Taguig District II",
         "Division": "Taguig",
         "Enrolment": 3239,
         "Latitude": 14.52152222,
         "Longitude": 121.057875,
         "Municipality": "Taguig City",
         "Name of Principal": "Nelicia S. Abad  Ed.D.",
         "Offering": "SS",
         "Province": "NCR Fourth District",
         "Region": "NCR",
         "School ID": 320606,
         "School Name": "Pres. Diosdado Macapagal HS - Signal VNHS Annex",
         "_deepnote_index_column": 46618
        },
        {
         "District": "Pateros",
         "Division": "Taguig",
         "Enrolment": 364,
         "Latitude": 14.54439167,
         "Longitude": 121.0620778,
         "Municipality": "Pateros",
         "Name of Principal": "Cecilia G. Maramag",
         "Offering": "SS",
         "Province": "NCR Fourth District",
         "Region": "NCR",
         "School ID": 320607,
         "School Name": "Agripino Manalo National HS",
         "_deepnote_index_column": 46619
        },
        {
         "District": "Muntinlupa City District I",
         "Division": "Muntinlupa City",
         "Enrolment": 2805,
         "Latitude": 14.38152222,
         "Longitude": 121.0318639,
         "Municipality": "City of Muntinlupa",
         "Name of Principal": "Rosendo E. Sangalang",
         "Offering": "SS",
         "Province": "NCR Fourth District",
         "Region": "NCR",
         "School ID": 320701,
         "School Name": "Muntinlupa National HS - NBP Annex",
         "_deepnote_index_column": 46620
        },
        {
         "District": "Muntinlupa City District II",
         "Division": "Muntinlupa City",
         "Enrolment": 1529,
         "Latitude": 14.44155278,
         "Longitude": 121.0498389,
         "Municipality": "City of Muntinlupa",
         "Name of Principal": "Angelina B. Sagales",
         "Offering": "SS",
         "Province": "NCR Fourth District",
         "Region": "NCR",
         "School ID": 320702,
         "School Name": "Muntinlupa Business High School - Sucat Annex",
         "_deepnote_index_column": 46621
        },
        {
         "District": "Muntinlupa City District II",
         "Division": "Muntinlupa City",
         "Enrolment": 575,
         "Latitude": 14.391487,
         "Longitude": 121.041695,
         "Municipality": "City of Muntinlupa",
         "Name of Principal": "Marissa M. Andanza",
         "Offering": "SS",
         "Province": "NCR Fourth District",
         "Region": "NCR",
         "School ID": 320703,
         "School Name": "Pedro E. Diaz HS -Lakeview Annex",
         "_deepnote_index_column": 46622
        },
        {
         "District": "Muntinlupa City District II",
         "Division": "Muntinlupa City",
         "Enrolment": 809,
         "Latitude": 14.392025,
         "Longitude": 121.045357,
         "Municipality": "City of Muntinlupa",
         "Name of Principal": "Dean B. Hermoso",
         "Offering": "SS",
         "Province": "NCR Fourth District",
         "Region": "NCR",
         "School ID": 320704,
         "School Name": "Muntinlupa NHS -Tunasan Annex",
         "_deepnote_index_column": 46623
        }
       ],
       "rows_top": [
        {
         "District": "Bacarra I",
         "Division": "Ilocos Norte",
         "Enrolment": 90,
         "Latitude": 18.253666,
         "Longitude": 120.60618,
         "Municipality": "Bacarra",
         "Name of Principal": "Jesusa G. Laeno",
         "Offering": "ES",
         "Province": "Ilocos Norte",
         "Region": "Region I",
         "School ID": 100001,
         "School Name": "Apaleng-Libtong ES",
         "_deepnote_index_column": 0
        },
        {
         "District": "Bacarra I",
         "Division": "Ilocos Norte",
         "Enrolment": 456,
         "Latitude": 18.25096389,
         "Longitude": 120.6089583,
         "Municipality": "Bacarra",
         "Name of Principal": "Gene A. Reginaldo",
         "Offering": "ES",
         "Province": "Ilocos Norte",
         "Region": "Region I",
         "School ID": 100002,
         "School Name": "Bacarra CES",
         "_deepnote_index_column": 1
        },
        {
         "District": "Bacarra I",
         "Division": "Ilocos Norte",
         "Enrolment": 167,
         "Latitude": 18.234599,
         "Longitude": 120.616037,
         "Municipality": "Bacarra",
         "Name of Principal": "Imelda C. Ilay",
         "Offering": "ES",
         "Province": "Ilocos Norte",
         "Region": "Region I",
         "School ID": 100003,
         "School Name": "Buyon ES",
         "_deepnote_index_column": 2
        },
        {
         "District": "Bacarra I",
         "Division": "Ilocos Norte",
         "Enrolment": 122,
         "Latitude": 18.25001389,
         "Longitude": 120.5871694,
         "Municipality": "Bacarra",
         "Name of Principal": "Pedestrelyn Aurora R. Acoba",
         "Offering": "ES",
         "Province": "Ilocos Norte",
         "Region": "Region I",
         "School ID": 100004,
         "School Name": "Ganagan Elementary School",
         "_deepnote_index_column": 3
        },
        {
         "District": "Bacarra I",
         "Division": "Ilocos Norte",
         "Enrolment": 77,
         "Latitude": 18.29399444,
         "Longitude": 120.6410194,
         "Municipality": "Bacarra",
         "Name of Principal": "Venchito F. Galario",
         "Offering": "ES",
         "Province": "Ilocos Norte",
         "Region": "Region I",
         "School ID": 100005,
         "School Name": "Macupit ES",
         "_deepnote_index_column": 4
        },
        {
         "District": "Bacarra I",
         "Division": "Ilocos Norte",
         "Enrolment": 131,
         "Latitude": 18.266611,
         "Longitude": 120.645922,
         "Municipality": "Bacarra",
         "Name of Principal": "Aristedes A. Acoba",
         "Offering": "ES",
         "Province": "Ilocos Norte",
         "Region": "Region I",
         "School ID": 100006,
         "School Name": "Nambaran ES",
         "_deepnote_index_column": 5
        },
        {
         "District": "Bacarra I",
         "Division": "Ilocos Norte",
         "Enrolment": 165,
         "Latitude": 18.23464722,
         "Longitude": 120.6084333,
         "Municipality": "Bacarra",
         "Name of Principal": "Norman O. Ramones",
         "Offering": "ES",
         "Province": "Ilocos Norte",
         "Region": "Region I",
         "School ID": 100007,
         "School Name": "Pasiocan ES",
         "_deepnote_index_column": 6
        },
        {
         "District": "Bacarra I",
         "Division": "Ilocos Norte",
         "Enrolment": 229,
         "Latitude": 18.27008889,
         "Longitude": 120.627225,
         "Municipality": "Bacarra",
         "Name of Principal": "Nestor M. Rimalos",
         "Offering": "ES",
         "Province": "Ilocos Norte",
         "Region": "Region I",
         "School ID": 100008,
         "School Name": "Pulangi ES",
         "_deepnote_index_column": 7
        },
        {
         "District": "Bacarra I",
         "Division": "Ilocos Norte",
         "Enrolment": 140,
         "Latitude": 18.244167,
         "Longitude": 120.593333,
         "Municipality": "Bacarra",
         "Name of Principal": "Jesusa G. Laeno",
         "Offering": "ES",
         "Province": "Ilocos Norte",
         "Region": "Region I",
         "School ID": 100009,
         "School Name": "Sabas-Sagisi Memorial Elem. School",
         "_deepnote_index_column": 8
        },
        {
         "District": "Bacarra I",
         "Division": "Ilocos Norte",
         "Enrolment": 290,
         "Latitude": 18.25187,
         "Longitude": 120.611381,
         "Municipality": "Bacarra",
         "Name of Principal": "Lilia Taciana S. Pascual",
         "Offering": "ES",
         "Province": "Ilocos Norte",
         "Region": "Region I",
         "School ID": 100010,
         "School Name": "SPECIAL EDUCATION CENTER",
         "_deepnote_index_column": 9
        },
        {
         "District": "Bacarra I",
         "Division": "Ilocos Norte",
         "Enrolment": 259,
         "Latitude": 18.25004167,
         "Longitude": 120.6199444,
         "Municipality": "Bacarra",
         "Name of Principal": "Edwina C. Reginaldo",
         "Offering": "ES",
         "Province": "Ilocos Norte",
         "Region": "Region I",
         "School ID": 100011,
         "School Name": "Santo Cristo Elementary School",
         "_deepnote_index_column": 10
        },
        {
         "District": "Bacarra I",
         "Division": "Ilocos Norte",
         "Enrolment": 86,
         "Latitude": 18.258417,
         "Longitude": 120.605722,
         "Municipality": "Bacarra",
         "Name of Principal": "Pedestrelyn Aurora R. Acoba",
         "Offering": "ES",
         "Province": "Ilocos Norte",
         "Region": "Region I",
         "School ID": 100012,
         "School Name": "Tambidao Elementary School",
         "_deepnote_index_column": 11
        },
        {
         "District": "Bacarra II",
         "Division": "Ilocos Norte",
         "Enrolment": 161,
         "Latitude": 18.27523889,
         "Longitude": 120.6031028,
         "Municipality": "Bacarra",
         "Name of Principal": "Cesaria A. Visitacion",
         "Offering": "ES",
         "Province": "Ilocos Norte",
         "Region": "Region I",
         "School ID": 100013,
         "School Name": "Bangsirit ES",
         "_deepnote_index_column": 12
        },
        {
         "District": "Bacarra II",
         "Division": "Ilocos Norte",
         "Enrolment": 271,
         "Latitude": 18.265891,
         "Longitude": 120.585823,
         "Municipality": "Bacarra",
         "Name of Principal": "Judita R. Acoba",
         "Offering": "ES",
         "Province": "Ilocos Norte",
         "Region": "Region I",
         "School ID": 100014,
         "School Name": "Cabaruan ES",
         "_deepnote_index_column": 13
        },
        {
         "District": "Bacarra II",
         "Division": "Ilocos Norte",
         "Enrolment": 361,
         "Latitude": 18.27624167,
         "Longitude": 120.5874333,
         "Municipality": "Bacarra",
         "Name of Principal": "Rogelio V. Baxa, Jr.",
         "Offering": "ES",
         "Province": "Ilocos Norte",
         "Region": "Region I",
         "School ID": 100015,
         "School Name": "Cabulalaan ES",
         "_deepnote_index_column": 14
        },
        {
         "District": "Bacarra II",
         "Division": "Ilocos Norte",
         "Enrolment": 290,
         "Latitude": 18.29059,
         "Longitude": 120.599082,
         "Municipality": "Bacarra",
         "Name of Principal": "Stephen V. Pastor",
         "Offering": "ES",
         "Province": "Ilocos Norte",
         "Region": "Region I",
         "School ID": 100016,
         "School Name": "Cadaratan ES",
         "_deepnote_index_column": 15
        },
        {
         "District": "Bacarra II",
         "Division": "Ilocos Norte",
         "Enrolment": 79,
         "Latitude": 18.286113,
         "Longitude": 120.585398,
         "Municipality": "Bacarra",
         "Name of Principal": "Noemi D. Magaoay",
         "Offering": "ES",
         "Province": "Ilocos Norte",
         "Region": "Region I",
         "School ID": 100017,
         "School Name": "Calioet ES",
         "_deepnote_index_column": 16
        },
        {
         "District": "Bacarra II",
         "Division": "Ilocos Norte",
         "Enrolment": 61,
         "Latitude": 18.2683468,
         "Longitude": 120.5724862,
         "Municipality": "Bacarra",
         "Name of Principal": "Noemi D. Magaoay",
         "Offering": "ES",
         "Province": "Ilocos Norte",
         "Region": "Region I",
         "School ID": 100018,
         "School Name": "Casilian PS",
         "_deepnote_index_column": 17
        },
        {
         "District": "Bacarra II",
         "Division": "Ilocos Norte",
         "Enrolment": 65,
         "Latitude": 18.249988,
         "Longitude": 120.620114,
         "Municipality": "Bacarra",
         "Name of Principal": "Jannet M. Marco",
         "Offering": "ES",
         "Province": "Ilocos Norte",
         "Region": "Region I",
         "School ID": 100019,
         "School Name": "Paninaan Elementary School",
         "_deepnote_index_column": 18
        },
        {
         "District": "Bacarra II",
         "Division": "Ilocos Norte",
         "Enrolment": 228,
         "Latitude": 18.27909444,
         "Longitude": 120.6131083,
         "Municipality": "Bacarra",
         "Name of Principal": "Ferdinand M. Bumagat",
         "Offering": "ES",
         "Province": "Ilocos Norte",
         "Region": "Region I",
         "School ID": 100020,
         "School Name": "Parang E/S",
         "_deepnote_index_column": 19
        },
        {
         "District": "Bacarra II",
         "Division": "Ilocos Norte",
         "Enrolment": 52,
         "Latitude": 18.290778,
         "Longitude": 120.607285,
         "Municipality": "Bacarra",
         "Name of Principal": "Noemi D. Magaoay",
         "Offering": "ES",
         "Province": "Ilocos Norte",
         "Region": "Region I",
         "School ID": 100021,
         "School Name": "Pungto PS",
         "_deepnote_index_column": 20
        },
        {
         "District": "Bacarra II",
         "Division": "Ilocos Norte",
         "Enrolment": 249,
         "Latitude": 18.25608611,
         "Longitude": 120.6057889,
         "Municipality": "Bacarra",
         "Name of Principal": "Judita R. Acoba",
         "Offering": "ES",
         "Province": "Ilocos Norte",
         "Region": "Region I",
         "School ID": 100022,
         "School Name": "San Agustin ES",
         "_deepnote_index_column": 21
        },
        {
         "District": "Bacarra II",
         "Division": "Ilocos Norte",
         "Enrolment": 164,
         "Latitude": 18.28996389,
         "Longitude": 120.6277639,
         "Municipality": "Bacarra",
         "Name of Principal": "Jannet M. Marco",
         "Offering": "ES",
         "Province": "Ilocos Norte",
         "Region": "Region I",
         "School ID": 100023,
         "School Name": "Tubburan ES",
         "_deepnote_index_column": 22
        },
        {
         "District": "Badoc",
         "Division": "Ilocos Norte",
         "Enrolment": 282,
         "Latitude": 17.91098,
         "Longitude": 120.512094,
         "Municipality": "Badoc",
         "Name of Principal": "Flenie A. Galicinao",
         "Offering": "ES",
         "Province": "Ilocos Norte",
         "Region": "Region I",
         "School ID": 100024,
         "School Name": "Ar-Arusip ES",
         "_deepnote_index_column": 23
        },
        {
         "District": "Badoc",
         "Division": "Ilocos Norte",
         "Enrolment": 208,
         "Latitude": 17.930471,
         "Longitude": 120.476138,
         "Municipality": "Badoc",
         "Name of Principal": "Edna L. Allienda",
         "Offering": "ES",
         "Province": "Ilocos Norte",
         "Region": "Region I",
         "School ID": 100025,
         "School Name": "Badoc North Central School",
         "_deepnote_index_column": 24
        },
        {
         "District": "Badoc",
         "Division": "Ilocos Norte",
         "Enrolment": 653,
         "Latitude": 17.925448,
         "Longitude": 120.474966,
         "Municipality": "Badoc",
         "Name of Principal": "Ethelia G. Prieto",
         "Offering": "ES",
         "Province": "Ilocos Norte",
         "Region": "Region I",
         "School ID": 100026,
         "School Name": "Badoc South Central School SPED Center",
         "_deepnote_index_column": 25
        },
        {
         "District": "Badoc",
         "Division": "Ilocos Norte",
         "Enrolment": 136,
         "Latitude": 17.907565,
         "Longitude": 120.570869,
         "Municipality": "Badoc",
         "Name of Principal": "Vincent V. Villa",
         "Offering": "ES",
         "Province": "Ilocos Norte",
         "Region": "Region I",
         "School ID": 100027,
         "School Name": "Camanga ES",
         "_deepnote_index_column": 26
        },
        {
         "District": "Badoc",
         "Division": "Ilocos Norte",
         "Enrolment": 213,
         "Latitude": 17.904863,
         "Longitude": 120.474986,
         "Municipality": "Badoc",
         "Name of Principal": "Annie D. Pagdilao",
         "Offering": "ES",
         "Province": "Ilocos Norte",
         "Region": "Region I",
         "School ID": 100028,
         "School Name": "Caraitan IS",
         "_deepnote_index_column": 27
        },
        {
         "District": "Badoc",
         "Division": "Ilocos Norte",
         "Enrolment": 390,
         "Latitude": 17.964347,
         "Longitude": 120.474283,
         "Municipality": "Badoc",
         "Name of Principal": "Zorayda S. Paguyo",
         "Offering": "ES",
         "Province": "Ilocos Norte",
         "Region": "Region I",
         "School ID": 100029,
         "School Name": "Gabut ES",
         "_deepnote_index_column": 28
        },
        {
         "District": "Badoc",
         "Division": "Ilocos Norte",
         "Enrolment": 110,
         "Latitude": 17.895171,
         "Longitude": 120.512365,
         "Municipality": "Badoc",
         "Name of Principal": "Virginia S. Galapate",
         "Offering": "ES",
         "Province": "Ilocos Norte",
         "Region": "Region I",
         "School ID": 100030,
         "School Name": "Labut ES",
         "_deepnote_index_column": 29
        },
        {
         "District": "Badoc",
         "Division": "Ilocos Norte",
         "Enrolment": 24,
         "Latitude": 17.904961,
         "Longitude": 120.531886,
         "Municipality": "Badoc",
         "Name of Principal": "Carlito P. Apuan",
         "Offering": "ES",
         "Province": "Ilocos Norte",
         "Region": "Region I",
         "School ID": 100031,
         "School Name": "Lasien School",
         "_deepnote_index_column": 30
        },
        {
         "District": "Badoc",
         "Division": "Ilocos Norte",
         "Enrolment": 251,
         "Latitude": 17.938704,
         "Longitude": 120.49207,
         "Municipality": "Badoc",
         "Name of Principal": "Ofelia A. Fernandez",
         "Offering": "ES",
         "Province": "Ilocos Norte",
         "Region": "Region I",
         "School ID": 100032,
         "School Name": "Mabusag-Napu ES",
         "_deepnote_index_column": 31
        },
        {
         "District": "Badoc",
         "Division": "Ilocos Norte",
         "Enrolment": 104,
         "Latitude": 17.905916,
         "Longitude": 120.547813,
         "Municipality": "Badoc",
         "Name of Principal": "Rony A. Gamulo",
         "Offering": "ES",
         "Province": "Ilocos Norte",
         "Region": "Region I",
         "School ID": 100033,
         "School Name": "Madupayas ES",
         "_deepnote_index_column": 32
        },
        {
         "District": "Badoc",
         "Division": "Ilocos Norte",
         "Enrolment": 85,
         "Latitude": 17.914267,
         "Longitude": 120.455271,
         "Municipality": "Badoc",
         "Name of Principal": "Rosito V. Abraham",
         "Offering": "ES",
         "Province": "Ilocos Norte",
         "Region": "Region I",
         "School ID": 100034,
         "School Name": "Morong ES",
         "_deepnote_index_column": 33
        },
        {
         "District": "Badoc",
         "Division": "Ilocos Norte",
         "Enrolment": 216,
         "Latitude": 17.908667,
         "Longitude": 120.524145,
         "Municipality": "Badoc",
         "Name of Principal": "Carlito P.Apuan",
         "Offering": "ES",
         "Province": "Ilocos Norte",
         "Region": "Region I",
         "School ID": 100035,
         "School Name": "Nagrebcan ES",
         "_deepnote_index_column": 34
        },
        {
         "District": "Badoc",
         "Division": "Ilocos Norte",
         "Enrolment": 381,
         "Latitude": 17.917105,
         "Longitude": 120.439914,
         "Municipality": "Badoc",
         "Name of Principal": "Bernard M. Pagaling",
         "Offering": "ES",
         "Province": "Ilocos Norte",
         "Region": "Region I",
         "School ID": 100036,
         "School Name": "Pagsanahan ES",
         "_deepnote_index_column": 35
        },
        {
         "District": "Badoc",
         "Division": "Ilocos Norte",
         "Enrolment": 202,
         "Latitude": 17.913799,
         "Longitude": 120.485522,
         "Municipality": "Badoc",
         "Name of Principal": "Virginia S. Galapate",
         "Offering": "ES",
         "Province": "Ilocos Norte",
         "Region": "Region I",
         "School ID": 100037,
         "School Name": "Paltit ES",
         "_deepnote_index_column": 36
        },
        {
         "District": "Badoc",
         "Division": "Ilocos Norte",
         "Enrolment": 121,
         "Latitude": 17.925736,
         "Longitude": 120.498321,
         "Municipality": "Badoc",
         "Name of Principal": "Rosalinda P. Salmasan",
         "Offering": "ES",
         "Province": "Ilocos Norte",
         "Region": "Region I",
         "School ID": 100038,
         "School Name": "Pasuc-Parang ES",
         "_deepnote_index_column": 37
        },
        {
         "District": "Badoc",
         "Division": "Ilocos Norte",
         "Enrolment": 115,
         "Latitude": 17.929377,
         "Longitude": 120.456097,
         "Municipality": "Badoc",
         "Name of Principal": "Rosito V. Abraham",
         "Offering": "ES",
         "Province": "Ilocos Norte",
         "Region": "Region I",
         "School ID": 100039,
         "School Name": "Saud ES",
         "_deepnote_index_column": 38
        },
        {
         "District": "Badoc",
         "Division": "Ilocos Norte",
         "Enrolment": 136,
         "Latitude": 17.90599,
         "Longitude": 120.467228,
         "Municipality": "Badoc",
         "Name of Principal": "Adelaida A. Padaong",
         "Offering": "ES",
         "Province": "Ilocos Norte",
         "Region": "Region I",
         "School ID": 100040,
         "School Name": "Sta. Cruz ES",
         "_deepnote_index_column": 39
        },
        {
         "District": "Badoc",
         "Division": "Ilocos Norte",
         "Enrolment": 95,
         "Latitude": 17.93343,
         "Longitude": 120.466619,
         "Municipality": "Badoc",
         "Name of Principal": "Annie D. Pagdilao",
         "Offering": "ES",
         "Province": "Ilocos Norte",
         "Region": "Region I",
         "School ID": 100041,
         "School Name": "Turod ES",
         "_deepnote_index_column": 40
        }
       ]
      },
      "text/html": [
       "<div>\n",
       "<style scoped>\n",
       "    .dataframe tbody tr th:only-of-type {\n",
       "        vertical-align: middle;\n",
       "    }\n",
       "\n",
       "    .dataframe tbody tr th {\n",
       "        vertical-align: top;\n",
       "    }\n",
       "\n",
       "    .dataframe thead th {\n",
       "        text-align: right;\n",
       "    }\n",
       "</style>\n",
       "<table border=\"1\" class=\"dataframe\">\n",
       "  <thead>\n",
       "    <tr style=\"text-align: right;\">\n",
       "      <th></th>\n",
       "      <th>School ID</th>\n",
       "      <th>School Name</th>\n",
       "      <th>Region</th>\n",
       "      <th>Province</th>\n",
       "      <th>Municipality</th>\n",
       "      <th>Division</th>\n",
       "      <th>District</th>\n",
       "      <th>Offering</th>\n",
       "      <th>Name of Principal</th>\n",
       "      <th>Enrolment</th>\n",
       "      <th>Latitude</th>\n",
       "      <th>Longitude</th>\n",
       "    </tr>\n",
       "  </thead>\n",
       "  <tbody>\n",
       "    <tr>\n",
       "      <th>0</th>\n",
       "      <td>100001</td>\n",
       "      <td>Apaleng-Libtong ES</td>\n",
       "      <td>Region I</td>\n",
       "      <td>Ilocos Norte</td>\n",
       "      <td>Bacarra</td>\n",
       "      <td>Ilocos Norte</td>\n",
       "      <td>Bacarra I</td>\n",
       "      <td>ES</td>\n",
       "      <td>Jesusa G. Laeno</td>\n",
       "      <td>90</td>\n",
       "      <td>18.253666</td>\n",
       "      <td>120.606180</td>\n",
       "    </tr>\n",
       "    <tr>\n",
       "      <th>1</th>\n",
       "      <td>100002</td>\n",
       "      <td>Bacarra CES</td>\n",
       "      <td>Region I</td>\n",
       "      <td>Ilocos Norte</td>\n",
       "      <td>Bacarra</td>\n",
       "      <td>Ilocos Norte</td>\n",
       "      <td>Bacarra I</td>\n",
       "      <td>ES</td>\n",
       "      <td>Gene A. Reginaldo</td>\n",
       "      <td>456</td>\n",
       "      <td>18.250964</td>\n",
       "      <td>120.608958</td>\n",
       "    </tr>\n",
       "    <tr>\n",
       "      <th>2</th>\n",
       "      <td>100003</td>\n",
       "      <td>Buyon ES</td>\n",
       "      <td>Region I</td>\n",
       "      <td>Ilocos Norte</td>\n",
       "      <td>Bacarra</td>\n",
       "      <td>Ilocos Norte</td>\n",
       "      <td>Bacarra I</td>\n",
       "      <td>ES</td>\n",
       "      <td>Imelda C. Ilay</td>\n",
       "      <td>167</td>\n",
       "      <td>18.234599</td>\n",
       "      <td>120.616037</td>\n",
       "    </tr>\n",
       "    <tr>\n",
       "      <th>3</th>\n",
       "      <td>100004</td>\n",
       "      <td>Ganagan Elementary School</td>\n",
       "      <td>Region I</td>\n",
       "      <td>Ilocos Norte</td>\n",
       "      <td>Bacarra</td>\n",
       "      <td>Ilocos Norte</td>\n",
       "      <td>Bacarra I</td>\n",
       "      <td>ES</td>\n",
       "      <td>Pedestrelyn Aurora R. Acoba</td>\n",
       "      <td>122</td>\n",
       "      <td>18.250014</td>\n",
       "      <td>120.587169</td>\n",
       "    </tr>\n",
       "    <tr>\n",
       "      <th>4</th>\n",
       "      <td>100005</td>\n",
       "      <td>Macupit ES</td>\n",
       "      <td>Region I</td>\n",
       "      <td>Ilocos Norte</td>\n",
       "      <td>Bacarra</td>\n",
       "      <td>Ilocos Norte</td>\n",
       "      <td>Bacarra I</td>\n",
       "      <td>ES</td>\n",
       "      <td>Venchito F. Galario</td>\n",
       "      <td>77</td>\n",
       "      <td>18.293994</td>\n",
       "      <td>120.641019</td>\n",
       "    </tr>\n",
       "    <tr>\n",
       "      <th>...</th>\n",
       "      <td>...</td>\n",
       "      <td>...</td>\n",
       "      <td>...</td>\n",
       "      <td>...</td>\n",
       "      <td>...</td>\n",
       "      <td>...</td>\n",
       "      <td>...</td>\n",
       "      <td>...</td>\n",
       "      <td>...</td>\n",
       "      <td>...</td>\n",
       "      <td>...</td>\n",
       "      <td>...</td>\n",
       "    </tr>\n",
       "    <tr>\n",
       "      <th>46619</th>\n",
       "      <td>320607</td>\n",
       "      <td>Agripino Manalo National HS</td>\n",
       "      <td>NCR</td>\n",
       "      <td>NCR Fourth District</td>\n",
       "      <td>Pateros</td>\n",
       "      <td>Taguig</td>\n",
       "      <td>Pateros</td>\n",
       "      <td>SS</td>\n",
       "      <td>Cecilia G. Maramag</td>\n",
       "      <td>364</td>\n",
       "      <td>14.544392</td>\n",
       "      <td>121.062078</td>\n",
       "    </tr>\n",
       "    <tr>\n",
       "      <th>46620</th>\n",
       "      <td>320701</td>\n",
       "      <td>Muntinlupa National HS - NBP Annex</td>\n",
       "      <td>NCR</td>\n",
       "      <td>NCR Fourth District</td>\n",
       "      <td>City of Muntinlupa</td>\n",
       "      <td>Muntinlupa City</td>\n",
       "      <td>Muntinlupa City District I</td>\n",
       "      <td>SS</td>\n",
       "      <td>Rosendo E. Sangalang</td>\n",
       "      <td>2805</td>\n",
       "      <td>14.381522</td>\n",
       "      <td>121.031864</td>\n",
       "    </tr>\n",
       "    <tr>\n",
       "      <th>46621</th>\n",
       "      <td>320702</td>\n",
       "      <td>Muntinlupa Business High School - Sucat Annex</td>\n",
       "      <td>NCR</td>\n",
       "      <td>NCR Fourth District</td>\n",
       "      <td>City of Muntinlupa</td>\n",
       "      <td>Muntinlupa City</td>\n",
       "      <td>Muntinlupa City District II</td>\n",
       "      <td>SS</td>\n",
       "      <td>Angelina B. Sagales</td>\n",
       "      <td>1529</td>\n",
       "      <td>14.441553</td>\n",
       "      <td>121.049839</td>\n",
       "    </tr>\n",
       "    <tr>\n",
       "      <th>46622</th>\n",
       "      <td>320703</td>\n",
       "      <td>Pedro E. Diaz HS -Lakeview Annex</td>\n",
       "      <td>NCR</td>\n",
       "      <td>NCR Fourth District</td>\n",
       "      <td>City of Muntinlupa</td>\n",
       "      <td>Muntinlupa City</td>\n",
       "      <td>Muntinlupa City District II</td>\n",
       "      <td>SS</td>\n",
       "      <td>Marissa M. Andanza</td>\n",
       "      <td>575</td>\n",
       "      <td>14.391487</td>\n",
       "      <td>121.041695</td>\n",
       "    </tr>\n",
       "    <tr>\n",
       "      <th>46623</th>\n",
       "      <td>320704</td>\n",
       "      <td>Muntinlupa NHS -Tunasan Annex</td>\n",
       "      <td>NCR</td>\n",
       "      <td>NCR Fourth District</td>\n",
       "      <td>City of Muntinlupa</td>\n",
       "      <td>Muntinlupa City</td>\n",
       "      <td>Muntinlupa City District II</td>\n",
       "      <td>SS</td>\n",
       "      <td>Dean B. Hermoso</td>\n",
       "      <td>809</td>\n",
       "      <td>14.392025</td>\n",
       "      <td>121.045357</td>\n",
       "    </tr>\n",
       "  </tbody>\n",
       "</table>\n",
       "<p>46624 rows × 12 columns</p>\n",
       "</div>"
      ],
      "text/plain": [
       "       School ID                                    School Name    Region  \\\n",
       "0         100001                             Apaleng-Libtong ES  Region I   \n",
       "1         100002                                    Bacarra CES  Region I   \n",
       "2         100003                                       Buyon ES  Region I   \n",
       "3         100004                      Ganagan Elementary School  Region I   \n",
       "4         100005                                     Macupit ES  Region I   \n",
       "...          ...                                            ...       ...   \n",
       "46619     320607                    Agripino Manalo National HS       NCR   \n",
       "46620     320701             Muntinlupa National HS - NBP Annex       NCR   \n",
       "46621     320702  Muntinlupa Business High School - Sucat Annex       NCR   \n",
       "46622     320703               Pedro E. Diaz HS -Lakeview Annex       NCR   \n",
       "46623     320704                  Muntinlupa NHS -Tunasan Annex       NCR   \n",
       "\n",
       "                  Province        Municipality         Division  \\\n",
       "0             Ilocos Norte             Bacarra     Ilocos Norte   \n",
       "1             Ilocos Norte             Bacarra     Ilocos Norte   \n",
       "2             Ilocos Norte             Bacarra     Ilocos Norte   \n",
       "3             Ilocos Norte             Bacarra     Ilocos Norte   \n",
       "4             Ilocos Norte             Bacarra     Ilocos Norte   \n",
       "...                    ...                 ...              ...   \n",
       "46619  NCR Fourth District             Pateros           Taguig   \n",
       "46620  NCR Fourth District  City of Muntinlupa  Muntinlupa City   \n",
       "46621  NCR Fourth District  City of Muntinlupa  Muntinlupa City   \n",
       "46622  NCR Fourth District  City of Muntinlupa  Muntinlupa City   \n",
       "46623  NCR Fourth District  City of Muntinlupa  Muntinlupa City   \n",
       "\n",
       "                          District Offering            Name of Principal  \\\n",
       "0                        Bacarra I       ES              Jesusa G. Laeno   \n",
       "1                        Bacarra I       ES            Gene A. Reginaldo   \n",
       "2                        Bacarra I       ES               Imelda C. Ilay   \n",
       "3                        Bacarra I       ES  Pedestrelyn Aurora R. Acoba   \n",
       "4                        Bacarra I       ES          Venchito F. Galario   \n",
       "...                            ...      ...                          ...   \n",
       "46619                      Pateros       SS           Cecilia G. Maramag   \n",
       "46620   Muntinlupa City District I       SS         Rosendo E. Sangalang   \n",
       "46621  Muntinlupa City District II       SS          Angelina B. Sagales   \n",
       "46622  Muntinlupa City District II       SS           Marissa M. Andanza   \n",
       "46623  Muntinlupa City District II       SS              Dean B. Hermoso   \n",
       "\n",
       "       Enrolment   Latitude   Longitude  \n",
       "0             90  18.253666  120.606180  \n",
       "1            456  18.250964  120.608958  \n",
       "2            167  18.234599  120.616037  \n",
       "3            122  18.250014  120.587169  \n",
       "4             77  18.293994  120.641019  \n",
       "...          ...        ...         ...  \n",
       "46619        364  14.544392  121.062078  \n",
       "46620       2805  14.381522  121.031864  \n",
       "46621       1529  14.441553  121.049839  \n",
       "46622        575  14.391487  121.041695  \n",
       "46623        809  14.392025  121.045357  \n",
       "\n",
       "[46624 rows x 12 columns]"
      ]
     },
     "execution_count": 81,
     "metadata": {},
     "output_type": "execute_result"
    }
   ],
   "source": []
  },
  {
   "cell_type": "markdown",
   "metadata": {
    "cell_id": "00036-6eb86935-2c01-4a6e-b171-2efb29a0d902",
    "deepnote_cell_type": "markdown",
    "tags": []
   },
   "source": [
    "## Insights"
   ]
  },
  {
   "cell_type": "code",
   "execution_count": null,
   "metadata": {
    "cell_id": "00038-d8f7b52d-c145-4074-bfa7-96e415f6c114",
    "deepnote_cell_type": "code",
    "deepnote_to_be_reexecuted": true,
    "source_hash": "b623e53d",
    "tags": []
   },
   "outputs": [],
   "source": []
  },
  {
   "cell_type": "markdown",
   "metadata": {
    "cell_id": "00028-c7a62b70-5fd3-4a3b-82e8-3f6f62835514",
    "deepnote_cell_type": "markdown",
    "tags": []
   },
   "source": [
    "## Appendix"
   ]
  },
  {
   "cell_type": "code",
   "execution_count": null,
   "metadata": {
    "cell_id": "00003-ae3af976-6925-4dfd-9250-29925520c00f",
    "deepnote_cell_type": "code",
    "deepnote_to_be_reexecuted": true,
    "source_hash": "12aa75a4",
    "tags": []
   },
   "outputs": [],
   "source": [
    "#Dataframes needed: schools_loc"
   ]
  },
  {
   "cell_type": "code",
   "execution_count": null,
   "metadata": {
    "cell_id": "00002-44de6788-a5b6-424f-97bd-59cf839b3efa",
    "deepnote_cell_type": "code",
    "deepnote_to_be_reexecuted": true,
    "execution_millis": 6,
    "execution_start": 1620902722402,
    "source_hash": "9618a298",
    "tags": []
   },
   "outputs": [
    {
     "data": {
      "text/plain": [
       "School ID                     0\n",
       "rooms.standard.academic       0\n",
       "rooms.standard.unused         0\n",
       "rooms.nonstandard.academic    4\n",
       "rooms.nonstandard.unused      4\n",
       "dtype: int64"
      ]
     },
     "execution_count": 23,
     "metadata": {},
     "output_type": "execute_result"
    }
   ],
   "source": [
    "# Merge the dataframe(s) -- check which dataframes are mergable\n",
    "\n",
    "rooms.head()"
   ]
  },
  {
   "cell_type": "code",
   "execution_count": null,
   "metadata": {
    "cell_id": "00005-10ad5c1a-5799-47c7-9f5e-db14a909af7d",
    "deepnote_cell_type": "code",
    "deepnote_to_be_reexecuted": true,
    "execution_millis": 24,
    "execution_start": 1620902801980,
    "source_hash": "fb7f13bc",
    "tags": []
   },
   "outputs": [
    {
     "data": {
      "text/plain": [
       "School ID                     0\n",
       "rooms.standard.academic       0\n",
       "rooms.standard.unused         0\n",
       "rooms.nonstandard.academic    4\n",
       "rooms.nonstandard.unused      4\n",
       "dtype: int64"
      ]
     },
     "execution_count": 25,
     "metadata": {},
     "output_type": "execute_result"
    }
   ],
   "source": [
    "rooms.isnull().sum()"
   ]
  },
  {
   "cell_type": "code",
   "execution_count": null,
   "metadata": {
    "cell_id": "00003-d48e5a85-a8cd-400a-b61e-728e0f055977",
    "deepnote_cell_type": "code",
    "deepnote_to_be_reexecuted": true,
    "execution_millis": 0,
    "execution_start": 1620903456242,
    "source_hash": "c505926a",
    "tags": []
   },
   "outputs": [],
   "source": [
    "# With your merged dataframe, do preliminary data cleaning\n",
    "#1. Check for nulls and decide if any rows or columns will be dropped\n",
    "#2. Check data type per column and do necessary conversions\n"
   ]
  },
  {
   "cell_type": "code",
   "execution_count": null,
   "metadata": {
    "cell_id": "00005-3da50de2-7139-40c1-aa7b-0d194ccfce25",
    "deepnote_cell_type": "code",
    "deepnote_to_be_reexecuted": true,
    "execution_millis": 15,
    "execution_start": 1620902744678,
    "source_hash": "146bfc63",
    "tags": []
   },
   "outputs": [
    {
     "data": {
      "text/plain": [
       "school.id                     0\n",
       "school.name                   0\n",
       "school.region                 0\n",
       "school.region.name            0\n",
       "school.province               0\n",
       "school.cityhall               1\n",
       "school.division               0\n",
       "school.citymuni               0\n",
       "school.district               0\n",
       "school.legdistrict            0\n",
       "school.type                   0\n",
       "school.abbrev             28436\n",
       "school.previousname        4382\n",
       "school.mother.id              7\n",
       "school.address             1982\n",
       "school.established            9\n",
       "school.classification         0\n",
       "school.classification2        0\n",
       "school.curricularclass        0\n",
       "school.organization           0\n",
       "school.cityincome           976\n",
       "school.cityclass          38390\n",
       "school.urban                  3\n",
       "dtype: int64"
      ]
     },
     "execution_count": 24,
     "metadata": {},
     "output_type": "execute_result"
    }
   ],
   "source": [
    "masterlist.head()"
   ]
  },
  {
   "cell_type": "code",
   "execution_count": null,
   "metadata": {
    "cell_id": "00008-0fe33a7d-67c0-4d5a-b00f-b0e32ca38aa7",
    "deepnote_cell_type": "code",
    "deepnote_to_be_reexecuted": true,
    "execution_millis": 53,
    "execution_start": 1620902817070,
    "source_hash": "e67c4c1b",
    "tags": []
   },
   "outputs": [
    {
     "data": {
      "text/plain": [
       "school.id                     0\n",
       "school.name                   0\n",
       "school.region                 0\n",
       "school.region.name            0\n",
       "school.province               0\n",
       "school.cityhall               1\n",
       "school.division               0\n",
       "school.citymuni               0\n",
       "school.district               0\n",
       "school.legdistrict            0\n",
       "school.type                   0\n",
       "school.abbrev             28436\n",
       "school.previousname        4382\n",
       "school.mother.id              7\n",
       "school.address             1982\n",
       "school.established            9\n",
       "school.classification         0\n",
       "school.classification2        0\n",
       "school.curricularclass        0\n",
       "school.organization           0\n",
       "school.cityincome           976\n",
       "school.cityclass          38390\n",
       "school.urban                  3\n",
       "dtype: int64"
      ]
     },
     "execution_count": 26,
     "metadata": {},
     "output_type": "execute_result"
    }
   ],
   "source": [
    "masterlist.isnull().sum()"
   ]
  },
  {
   "cell_type": "code",
   "execution_count": null,
   "metadata": {
    "cell_id": "00072-dd7e27c1-7bf2-4b63-aa1d-26d1f2618b88",
    "deepnote_cell_type": "code",
    "deepnote_to_be_reexecuted": false,
    "execution_millis": 50,
    "execution_start": 1620907757259,
    "source_hash": "146bfc63",
    "tags": []
   },
   "outputs": [
    {
     "data": {
      "application/vnd.deepnote.dataframe.v2+json": {
       "column_count": 23,
       "columns": [
        {
         "dtype": "int64",
         "name": "school.id",
         "stats": {
          "histogram": [
           {
            "bin_end": 100258,
            "bin_start": 100043,
            "count": 2
           },
           {
            "bin_end": 100473,
            "bin_start": 100258,
            "count": 0
           },
           {
            "bin_end": 100688,
            "bin_start": 100473,
            "count": 0
           },
           {
            "bin_end": 100903,
            "bin_start": 100688,
            "count": 0
           },
           {
            "bin_end": 101118,
            "bin_start": 100903,
            "count": 0
           },
           {
            "bin_end": 101333,
            "bin_start": 101118,
            "count": 1
           },
           {
            "bin_end": 101548,
            "bin_start": 101333,
            "count": 0
           },
           {
            "bin_end": 101763,
            "bin_start": 101548,
            "count": 1
           },
           {
            "bin_end": 101978,
            "bin_start": 101763,
            "count": 0
           },
           {
            "bin_end": 102193,
            "bin_start": 101978,
            "count": 1
           }
          ],
          "max": "102193",
          "min": "100043",
          "nan_count": 0,
          "unique_count": 5
         }
        },
        {
         "dtype": "object",
         "name": "school.name",
         "stats": {
          "categories": [
           {
            "count": 1,
            "name": "A. Diaz, Sr. ES"
           },
           {
            "count": 1,
            "name": "A. P. Santos ES (SPED Center)"
           },
           {
            "count": 3,
            "name": "3 others"
           }
          ],
          "nan_count": 0,
          "unique_count": 5
         }
        },
        {
         "dtype": "object",
         "name": "school.region",
         "stats": {
          "categories": [
           {
            "count": 5,
            "name": "Region I"
           }
          ],
          "nan_count": 0,
          "unique_count": 1
         }
        },
        {
         "dtype": "object",
         "name": "school.region.name",
         "stats": {
          "categories": [
           {
            "count": 5,
            "name": "Ilocos Region"
           }
          ],
          "nan_count": 0,
          "unique_count": 1
         }
        },
        {
         "dtype": "object",
         "name": "school.province",
         "stats": {
          "categories": [
           {
            "count": 3,
            "name": "ILOCOS NORTE"
           },
           {
            "count": 2,
            "name": "PANGASINAN"
           }
          ],
          "nan_count": 0,
          "unique_count": 2
         }
        },
        {
         "dtype": "object",
         "name": "school.cityhall",
         "stats": {
          "categories": [
           {
            "count": 3,
            "name": "ILOCOS NORTE"
           },
           {
            "count": 2,
            "name": "PANGASINAN"
           }
          ],
          "nan_count": 0,
          "unique_count": 2
         }
        },
        {
         "dtype": "object",
         "name": "school.division",
         "stats": {
          "categories": [
           {
            "count": 2,
            "name": "Ilocos Norte"
           },
           {
            "count": 1,
            "name": "Pangasinan II, Binalonan"
           },
           {
            "count": 2,
            "name": "2 others"
           }
          ],
          "nan_count": 0,
          "unique_count": 4
         }
        },
        {
         "dtype": "object",
         "name": "school.citymuni",
         "stats": {
          "categories": [
           {
            "count": 1,
            "name": "BAUTISTA"
           },
           {
            "count": 1,
            "name": "LAOAG CITY (Capital)"
           },
           {
            "count": 3,
            "name": "3 others"
           }
          ],
          "nan_count": 0,
          "unique_count": 5
         }
        },
        {
         "dtype": "object",
         "name": "school.district",
         "stats": {
          "categories": [
           {
            "count": 1,
            "name": "Bautista"
           },
           {
            "count": 1,
            "name": "Laoag City District II"
           },
           {
            "count": 3,
            "name": "3 others"
           }
          ],
          "nan_count": 0,
          "unique_count": 5
         }
        },
        {
         "dtype": "object",
         "name": "school.legdistrict",
         "stats": {
          "categories": [
           {
            "count": 3,
            "name": "1st District"
           },
           {
            "count": 1,
            "name": "5th District"
           },
           {
            "count": 1,
            "name": "3rd District"
           }
          ],
          "nan_count": 0,
          "unique_count": 3
         }
        },
        {
         "dtype": "object",
         "name": "school.type",
         "stats": {
          "categories": [
           {
            "count": 5,
            "name": "School with no Annexes"
           }
          ],
          "nan_count": 0,
          "unique_count": 1
         }
        },
        {
         "dtype": "object",
         "name": "school.abbrev",
         "stats": {
          "categories": [
           {
            "count": 2,
            "name": "AES"
           },
           {
            "count": 2,
            "name": "2 others"
           },
           {
            "count": 1,
            "name": "Missing"
           }
          ],
          "nan_count": 1,
          "unique_count": 3
         }
        },
        {
         "dtype": "object",
         "name": "school.previousname",
         "stats": {
          "categories": [
           {
            "count": 2,
            "name": "none"
           },
           {
            "count": 2,
            "name": "-"
           },
           {
            "count": 1,
            "name": "A.P. Guevarra IS"
           }
          ],
          "nan_count": 0,
          "unique_count": 3
         }
        },
        {
         "dtype": "float64",
         "name": "school.mother.id",
         "stats": {
          "histogram": [
           {
            "bin_end": 100258,
            "bin_start": 100043,
            "count": 2
           },
           {
            "bin_end": 100473,
            "bin_start": 100258,
            "count": 0
           },
           {
            "bin_end": 100688,
            "bin_start": 100473,
            "count": 0
           },
           {
            "bin_end": 100903,
            "bin_start": 100688,
            "count": 0
           },
           {
            "bin_end": 101118,
            "bin_start": 100903,
            "count": 0
           },
           {
            "bin_end": 101333,
            "bin_start": 101118,
            "count": 1
           },
           {
            "bin_end": 101548,
            "bin_start": 101333,
            "count": 0
           },
           {
            "bin_end": 101763,
            "bin_start": 101548,
            "count": 1
           },
           {
            "bin_end": 101978,
            "bin_start": 101763,
            "count": 0
           },
           {
            "bin_end": 102193,
            "bin_start": 101978,
            "count": 1
           }
          ],
          "max": "102193.0",
          "min": "100043.0",
          "nan_count": 0,
          "unique_count": 5
         }
        },
        {
         "dtype": "object",
         "name": "school.address",
         "stats": {
          "categories": [
           {
            "count": 1,
            "name": "Brgy. Dias Bautista, Pang"
           },
           {
            "count": 1,
            "name": "A.G. Tupaz"
           },
           {
            "count": 3,
            "name": "3 others"
           }
          ],
          "nan_count": 0,
          "unique_count": 5
         }
        },
        {
         "dtype": "object",
         "name": "school.established",
         "stats": {
          "categories": [
           {
            "count": 1,
            "name": "1/1/1930"
           },
           {
            "count": 1,
            "name": "1/1/1944"
           },
           {
            "count": 3,
            "name": "3 others"
           }
          ],
          "nan_count": 0,
          "unique_count": 5
         }
        },
        {
         "dtype": "object",
         "name": "school.classification",
         "stats": {
          "categories": [
           {
            "count": 5,
            "name": "Elementary"
           }
          ],
          "nan_count": 0,
          "unique_count": 1
         }
        },
        {
         "dtype": "object",
         "name": "school.classification2",
         "stats": {
          "categories": [
           {
            "count": 5,
            "name": "DepED Managed"
           }
          ],
          "nan_count": 0,
          "unique_count": 1
         }
        },
        {
         "dtype": "object",
         "name": "school.curricularclass",
         "stats": {
          "categories": [
           {
            "count": 4,
            "name": "Elementary"
           },
           {
            "count": 1,
            "name": "Kinder & Elementary"
           }
          ],
          "nan_count": 0,
          "unique_count": 2
         }
        },
        {
         "dtype": "object",
         "name": "school.organization",
         "stats": {
          "categories": [
           {
            "count": 5,
            "name": "Monograde"
           }
          ],
          "nan_count": 0,
          "unique_count": 1
         }
        },
        {
         "dtype": "object",
         "name": "school.cityincome",
         "stats": {
          "categories": [
           {
            "count": 2,
            "name": "P 25 M or more but less than P 35 M"
           },
           {
            "count": 1,
            "name": "P 240 M or more but less than P 320 M"
           },
           {
            "count": 2,
            "name": "2 others"
           }
          ],
          "nan_count": 0,
          "unique_count": 4
         }
        },
        {
         "dtype": "object",
         "name": "school.cityclass",
         "stats": {
          "categories": [
           {
            "count": 1,
            "name": "Component City"
           },
           {
            "count": 4,
            "name": "Missing"
           }
          ],
          "nan_count": 4,
          "unique_count": 1
         }
        },
        {
         "dtype": "object",
         "name": "school.urban",
         "stats": {
          "categories": [
           {
            "count": 5,
            "name": "Partially Urban"
           }
          ],
          "nan_count": 0,
          "unique_count": 1
         }
        },
        {
         "dtype": "int64",
         "name": "_deepnote_index_column"
        }
       ],
       "row_count": 5,
       "rows_bottom": null,
       "rows_top": [
        {
         "_deepnote_index_column": 0,
         "school.abbrev": "ADSES",
         "school.address": "Brgy. Dias Bautista, Pang",
         "school.cityclass": "nan",
         "school.cityhall": "PANGASINAN",
         "school.cityincome": "P 25 M or more but less than P 35 M",
         "school.citymuni": "BAUTISTA",
         "school.classification": "Elementary",
         "school.classification2": "DepED Managed",
         "school.curricularclass": "Elementary",
         "school.district": "Bautista",
         "school.division": "Pangasinan II, Binalonan",
         "school.established": "1/1/1930",
         "school.id": 101746,
         "school.legdistrict": "5th District",
         "school.mother.id": 101746,
         "school.name": "A. Diaz, Sr. ES",
         "school.organization": "Monograde",
         "school.previousname": "none",
         "school.province": "PANGASINAN",
         "school.region": "Region I",
         "school.region.name": "Ilocos Region",
         "school.type": "School with no Annexes",
         "school.urban": "Partially Urban"
        },
        {
         "_deepnote_index_column": 1,
         "school.abbrev": "APSES",
         "school.address": "A.G. Tupaz",
         "school.cityclass": "Component City",
         "school.cityhall": "ILOCOS NORTE",
         "school.cityincome": "P 240 M or more but less than P 320 M",
         "school.citymuni": "LAOAG CITY (Capital)",
         "school.classification": "Elementary",
         "school.classification2": "DepED Managed",
         "school.curricularclass": "Kinder & Elementary",
         "school.district": "Laoag City District II",
         "school.division": "Laoag City",
         "school.established": "1/1/1944",
         "school.id": 102193,
         "school.legdistrict": "1st District",
         "school.mother.id": 102193,
         "school.name": "A. P. Santos ES (SPED Center)",
         "school.organization": "Monograde",
         "school.previousname": "-",
         "school.province": "ILOCOS NORTE",
         "school.region": "Region I",
         "school.region.name": "Ilocos Region",
         "school.type": "School with no Annexes",
         "school.urban": "Partially Urban"
        },
        {
         "_deepnote_index_column": 2,
         "school.abbrev": "nan",
         "school.address": "-",
         "school.cityclass": "nan",
         "school.cityhall": "PANGASINAN",
         "school.cityincome": "P 55 M or more",
         "school.citymuni": "BAYAMBANG",
         "school.classification": "Elementary",
         "school.classification2": "DepED Managed",
         "school.curricularclass": "Elementary",
         "school.district": "Bayambang II",
         "school.division": "Pangasinan I, Lingayen",
         "school.established": "1/1/1945",
         "school.id": 101283,
         "school.legdistrict": "3rd District",
         "school.mother.id": 101283,
         "school.name": "A.P. Guevara IS",
         "school.organization": "Monograde",
         "school.previousname": "A.P. Guevarra IS",
         "school.province": "PANGASINAN",
         "school.region": "Region I",
         "school.region.name": "Ilocos Region",
         "school.type": "School with no Annexes",
         "school.urban": "Partially Urban"
        },
        {
         "_deepnote_index_column": 3,
         "school.abbrev": "AES",
         "school.address": "Sucsuquen",
         "school.cityclass": "nan",
         "school.cityhall": "ILOCOS NORTE",
         "school.cityincome": "P 35 M or more but less than P 45 M",
         "school.citymuni": "PIDDIG",
         "school.classification": "Elementary",
         "school.classification2": "DepED Managed",
         "school.curricularclass": "Elementary",
         "school.district": "Piddig",
         "school.division": "Ilocos Norte",
         "school.established": "1/1/1964",
         "school.id": 100216,
         "school.legdistrict": "1st District",
         "school.mother.id": 100216,
         "school.name": "Ab-Abut ES",
         "school.organization": "Monograde",
         "school.previousname": "-",
         "school.province": "ILOCOS NORTE",
         "school.region": "Region I",
         "school.region.name": "Ilocos Region",
         "school.type": "School with no Annexes",
         "school.urban": "Partially Urban"
        },
        {
         "_deepnote_index_column": 4,
         "school.abbrev": "AES",
         "school.address": "None",
         "school.cityclass": "nan",
         "school.cityhall": "ILOCOS NORTE",
         "school.cityincome": "P 25 M or more but less than P 35 M",
         "school.citymuni": "BANGUI",
         "school.classification": "Elementary",
         "school.classification2": "DepED Managed",
         "school.curricularclass": "Elementary",
         "school.district": "Bangui",
         "school.division": "Ilocos Norte",
         "school.established": "1/1/1979",
         "school.id": 100043,
         "school.legdistrict": "1st District",
         "school.mother.id": 100043,
         "school.name": "Abaca ES",
         "school.organization": "Monograde",
         "school.previousname": "none",
         "school.province": "ILOCOS NORTE",
         "school.region": "Region I",
         "school.region.name": "Ilocos Region",
         "school.type": "School with no Annexes",
         "school.urban": "Partially Urban"
        }
       ]
      },
      "text/html": [
       "<div>\n",
       "<style scoped>\n",
       "    .dataframe tbody tr th:only-of-type {\n",
       "        vertical-align: middle;\n",
       "    }\n",
       "\n",
       "    .dataframe tbody tr th {\n",
       "        vertical-align: top;\n",
       "    }\n",
       "\n",
       "    .dataframe thead th {\n",
       "        text-align: right;\n",
       "    }\n",
       "</style>\n",
       "<table border=\"1\" class=\"dataframe\">\n",
       "  <thead>\n",
       "    <tr style=\"text-align: right;\">\n",
       "      <th></th>\n",
       "      <th>school.id</th>\n",
       "      <th>school.name</th>\n",
       "      <th>school.region</th>\n",
       "      <th>school.region.name</th>\n",
       "      <th>school.province</th>\n",
       "      <th>school.cityhall</th>\n",
       "      <th>school.division</th>\n",
       "      <th>school.citymuni</th>\n",
       "      <th>school.district</th>\n",
       "      <th>school.legdistrict</th>\n",
       "      <th>...</th>\n",
       "      <th>school.mother.id</th>\n",
       "      <th>school.address</th>\n",
       "      <th>school.established</th>\n",
       "      <th>school.classification</th>\n",
       "      <th>school.classification2</th>\n",
       "      <th>school.curricularclass</th>\n",
       "      <th>school.organization</th>\n",
       "      <th>school.cityincome</th>\n",
       "      <th>school.cityclass</th>\n",
       "      <th>school.urban</th>\n",
       "    </tr>\n",
       "  </thead>\n",
       "  <tbody>\n",
       "    <tr>\n",
       "      <th>0</th>\n",
       "      <td>101746</td>\n",
       "      <td>A. Diaz, Sr. ES</td>\n",
       "      <td>Region I</td>\n",
       "      <td>Ilocos Region</td>\n",
       "      <td>PANGASINAN</td>\n",
       "      <td>PANGASINAN</td>\n",
       "      <td>Pangasinan II, Binalonan</td>\n",
       "      <td>BAUTISTA</td>\n",
       "      <td>Bautista</td>\n",
       "      <td>5th District</td>\n",
       "      <td>...</td>\n",
       "      <td>101746.0</td>\n",
       "      <td>Brgy. Dias Bautista, Pang</td>\n",
       "      <td>1/1/1930</td>\n",
       "      <td>Elementary</td>\n",
       "      <td>DepED Managed</td>\n",
       "      <td>Elementary</td>\n",
       "      <td>Monograde</td>\n",
       "      <td>P 25 M or more but less than P 35 M</td>\n",
       "      <td>NaN</td>\n",
       "      <td>Partially Urban</td>\n",
       "    </tr>\n",
       "    <tr>\n",
       "      <th>1</th>\n",
       "      <td>102193</td>\n",
       "      <td>A. P. Santos ES (SPED Center)</td>\n",
       "      <td>Region I</td>\n",
       "      <td>Ilocos Region</td>\n",
       "      <td>ILOCOS NORTE</td>\n",
       "      <td>ILOCOS NORTE</td>\n",
       "      <td>Laoag City</td>\n",
       "      <td>LAOAG CITY (Capital)</td>\n",
       "      <td>Laoag City District II</td>\n",
       "      <td>1st District</td>\n",
       "      <td>...</td>\n",
       "      <td>102193.0</td>\n",
       "      <td>A.G. Tupaz</td>\n",
       "      <td>1/1/1944</td>\n",
       "      <td>Elementary</td>\n",
       "      <td>DepED Managed</td>\n",
       "      <td>Kinder &amp; Elementary</td>\n",
       "      <td>Monograde</td>\n",
       "      <td>P 240 M or more but less than P 320 M</td>\n",
       "      <td>Component City</td>\n",
       "      <td>Partially Urban</td>\n",
       "    </tr>\n",
       "    <tr>\n",
       "      <th>2</th>\n",
       "      <td>101283</td>\n",
       "      <td>A.P. Guevara IS</td>\n",
       "      <td>Region I</td>\n",
       "      <td>Ilocos Region</td>\n",
       "      <td>PANGASINAN</td>\n",
       "      <td>PANGASINAN</td>\n",
       "      <td>Pangasinan I, Lingayen</td>\n",
       "      <td>BAYAMBANG</td>\n",
       "      <td>Bayambang II</td>\n",
       "      <td>3rd District</td>\n",
       "      <td>...</td>\n",
       "      <td>101283.0</td>\n",
       "      <td>-</td>\n",
       "      <td>1/1/1945</td>\n",
       "      <td>Elementary</td>\n",
       "      <td>DepED Managed</td>\n",
       "      <td>Elementary</td>\n",
       "      <td>Monograde</td>\n",
       "      <td>P 55 M or more</td>\n",
       "      <td>NaN</td>\n",
       "      <td>Partially Urban</td>\n",
       "    </tr>\n",
       "    <tr>\n",
       "      <th>3</th>\n",
       "      <td>100216</td>\n",
       "      <td>Ab-Abut ES</td>\n",
       "      <td>Region I</td>\n",
       "      <td>Ilocos Region</td>\n",
       "      <td>ILOCOS NORTE</td>\n",
       "      <td>ILOCOS NORTE</td>\n",
       "      <td>Ilocos Norte</td>\n",
       "      <td>PIDDIG</td>\n",
       "      <td>Piddig</td>\n",
       "      <td>1st District</td>\n",
       "      <td>...</td>\n",
       "      <td>100216.0</td>\n",
       "      <td>Sucsuquen</td>\n",
       "      <td>1/1/1964</td>\n",
       "      <td>Elementary</td>\n",
       "      <td>DepED Managed</td>\n",
       "      <td>Elementary</td>\n",
       "      <td>Monograde</td>\n",
       "      <td>P 35 M or more but less than P 45 M</td>\n",
       "      <td>NaN</td>\n",
       "      <td>Partially Urban</td>\n",
       "    </tr>\n",
       "    <tr>\n",
       "      <th>4</th>\n",
       "      <td>100043</td>\n",
       "      <td>Abaca ES</td>\n",
       "      <td>Region I</td>\n",
       "      <td>Ilocos Region</td>\n",
       "      <td>ILOCOS NORTE</td>\n",
       "      <td>ILOCOS NORTE</td>\n",
       "      <td>Ilocos Norte</td>\n",
       "      <td>BANGUI</td>\n",
       "      <td>Bangui</td>\n",
       "      <td>1st District</td>\n",
       "      <td>...</td>\n",
       "      <td>100043.0</td>\n",
       "      <td>None</td>\n",
       "      <td>1/1/1979</td>\n",
       "      <td>Elementary</td>\n",
       "      <td>DepED Managed</td>\n",
       "      <td>Elementary</td>\n",
       "      <td>Monograde</td>\n",
       "      <td>P 25 M or more but less than P 35 M</td>\n",
       "      <td>NaN</td>\n",
       "      <td>Partially Urban</td>\n",
       "    </tr>\n",
       "  </tbody>\n",
       "</table>\n",
       "<p>5 rows × 23 columns</p>\n",
       "</div>"
      ],
      "text/plain": [
       "   school.id                    school.name school.region school.region.name  \\\n",
       "0     101746                A. Diaz, Sr. ES      Region I      Ilocos Region   \n",
       "1     102193  A. P. Santos ES (SPED Center)      Region I      Ilocos Region   \n",
       "2     101283                A.P. Guevara IS      Region I      Ilocos Region   \n",
       "3     100216                     Ab-Abut ES      Region I      Ilocos Region   \n",
       "4     100043                       Abaca ES      Region I      Ilocos Region   \n",
       "\n",
       "  school.province school.cityhall           school.division  \\\n",
       "0      PANGASINAN      PANGASINAN  Pangasinan II, Binalonan   \n",
       "1    ILOCOS NORTE    ILOCOS NORTE                Laoag City   \n",
       "2      PANGASINAN      PANGASINAN    Pangasinan I, Lingayen   \n",
       "3    ILOCOS NORTE    ILOCOS NORTE              Ilocos Norte   \n",
       "4    ILOCOS NORTE    ILOCOS NORTE              Ilocos Norte   \n",
       "\n",
       "        school.citymuni         school.district school.legdistrict  ...  \\\n",
       "0              BAUTISTA                Bautista       5th District  ...   \n",
       "1  LAOAG CITY (Capital)  Laoag City District II       1st District  ...   \n",
       "2             BAYAMBANG            Bayambang II       3rd District  ...   \n",
       "3                PIDDIG                  Piddig       1st District  ...   \n",
       "4                BANGUI                  Bangui       1st District  ...   \n",
       "\n",
       "  school.mother.id             school.address school.established  \\\n",
       "0         101746.0  Brgy. Dias Bautista, Pang           1/1/1930   \n",
       "1         102193.0                 A.G. Tupaz           1/1/1944   \n",
       "2         101283.0                          -           1/1/1945   \n",
       "3         100216.0                  Sucsuquen           1/1/1964   \n",
       "4         100043.0                       None           1/1/1979   \n",
       "\n",
       "   school.classification school.classification2 school.curricularclass  \\\n",
       "0             Elementary          DepED Managed             Elementary   \n",
       "1             Elementary          DepED Managed    Kinder & Elementary   \n",
       "2             Elementary          DepED Managed             Elementary   \n",
       "3             Elementary          DepED Managed             Elementary   \n",
       "4             Elementary          DepED Managed             Elementary   \n",
       "\n",
       "  school.organization                      school.cityincome school.cityclass  \\\n",
       "0           Monograde    P 25 M or more but less than P 35 M              NaN   \n",
       "1           Monograde  P 240 M or more but less than P 320 M   Component City   \n",
       "2           Monograde                         P 55 M or more              NaN   \n",
       "3           Monograde    P 35 M or more but less than P 45 M              NaN   \n",
       "4           Monograde    P 25 M or more but less than P 35 M              NaN   \n",
       "\n",
       "      school.urban  \n",
       "0  Partially Urban  \n",
       "1  Partially Urban  \n",
       "2  Partially Urban  \n",
       "3  Partially Urban  \n",
       "4  Partially Urban  \n",
       "\n",
       "[5 rows x 23 columns]"
      ]
     },
     "execution_count": 57,
     "metadata": {},
     "output_type": "execute_result"
    }
   ],
   "source": [
    "masterlist.head()"
   ]
  },
  {
   "cell_type": "code",
   "execution_count": null,
   "metadata": {
    "cell_id": "00006-3eaacedd-8274-40e4-bae3-7439966ac47d",
    "deepnote_cell_type": "code",
    "deepnote_to_be_reexecuted": true,
    "execution_millis": 90,
    "execution_start": 1620902223811,
    "source_hash": "4ea7846a",
    "tags": []
   },
   "outputs": [
    {
     "data": {
      "application/vnd.deepnote.dataframe.v2+json": {
       "column_count": 12,
       "columns": [
        {
         "dtype": "int64",
         "name": "School ID",
         "stats": {
          "histogram": [
           {
            "bin_end": 100001.4,
            "bin_start": 100001,
            "count": 1
           },
           {
            "bin_end": 100001.8,
            "bin_start": 100001.4,
            "count": 0
           },
           {
            "bin_end": 100002.2,
            "bin_start": 100001.8,
            "count": 1
           },
           {
            "bin_end": 100002.6,
            "bin_start": 100002.2,
            "count": 0
           },
           {
            "bin_end": 100003,
            "bin_start": 100002.6,
            "count": 0
           },
           {
            "bin_end": 100003.4,
            "bin_start": 100003,
            "count": 1
           },
           {
            "bin_end": 100003.8,
            "bin_start": 100003.4,
            "count": 0
           },
           {
            "bin_end": 100004.2,
            "bin_start": 100003.8,
            "count": 1
           },
           {
            "bin_end": 100004.6,
            "bin_start": 100004.2,
            "count": 0
           },
           {
            "bin_end": 100005,
            "bin_start": 100004.6,
            "count": 1
           }
          ],
          "max": "100005",
          "min": "100001",
          "nan_count": 0,
          "unique_count": 5
         }
        },
        {
         "dtype": "object",
         "name": "School Name",
         "stats": {
          "categories": [
           {
            "count": 1,
            "name": "Apaleng-Libtong ES"
           },
           {
            "count": 1,
            "name": "Bacarra CES"
           },
           {
            "count": 3,
            "name": "3 others"
           }
          ],
          "nan_count": 0,
          "unique_count": 5
         }
        },
        {
         "dtype": "object",
         "name": "Region",
         "stats": {
          "categories": [
           {
            "count": 5,
            "name": "Region I"
           }
          ],
          "nan_count": 0,
          "unique_count": 1
         }
        },
        {
         "dtype": "object",
         "name": "Province",
         "stats": {
          "categories": [
           {
            "count": 5,
            "name": "Ilocos Norte"
           }
          ],
          "nan_count": 0,
          "unique_count": 1
         }
        },
        {
         "dtype": "object",
         "name": "Municipality",
         "stats": {
          "categories": [
           {
            "count": 5,
            "name": "Bacarra"
           }
          ],
          "nan_count": 0,
          "unique_count": 1
         }
        },
        {
         "dtype": "object",
         "name": "Division",
         "stats": {
          "categories": [
           {
            "count": 5,
            "name": "Ilocos Norte"
           }
          ],
          "nan_count": 0,
          "unique_count": 1
         }
        },
        {
         "dtype": "object",
         "name": "District",
         "stats": {
          "categories": [
           {
            "count": 5,
            "name": "Bacarra I"
           }
          ],
          "nan_count": 0,
          "unique_count": 1
         }
        },
        {
         "dtype": "object",
         "name": "Offering",
         "stats": {
          "categories": [
           {
            "count": 5,
            "name": "ES"
           }
          ],
          "nan_count": 0,
          "unique_count": 1
         }
        },
        {
         "dtype": "object",
         "name": "Name of Principal",
         "stats": {
          "categories": [
           {
            "count": 1,
            "name": "Jesusa G. Laeno"
           },
           {
            "count": 1,
            "name": "Gene A. Reginaldo"
           },
           {
            "count": 3,
            "name": "3 others"
           }
          ],
          "nan_count": 0,
          "unique_count": 5
         }
        },
        {
         "dtype": "int64",
         "name": "Enrolment",
         "stats": {
          "histogram": [
           {
            "bin_end": 114.9,
            "bin_start": 77,
            "count": 2
           },
           {
            "bin_end": 152.8,
            "bin_start": 114.9,
            "count": 1
           },
           {
            "bin_end": 190.7,
            "bin_start": 152.8,
            "count": 1
           },
           {
            "bin_end": 228.6,
            "bin_start": 190.7,
            "count": 0
           },
           {
            "bin_end": 266.5,
            "bin_start": 228.6,
            "count": 0
           },
           {
            "bin_end": 304.4,
            "bin_start": 266.5,
            "count": 0
           },
           {
            "bin_end": 342.3,
            "bin_start": 304.4,
            "count": 0
           },
           {
            "bin_end": 380.2,
            "bin_start": 342.3,
            "count": 0
           },
           {
            "bin_end": 418.09999999999997,
            "bin_start": 380.2,
            "count": 0
           },
           {
            "bin_end": 456,
            "bin_start": 418.09999999999997,
            "count": 1
           }
          ],
          "max": "456",
          "min": "77",
          "nan_count": 0,
          "unique_count": 5
         }
        },
        {
         "dtype": "float64",
         "name": "Latitude",
         "stats": {
          "histogram": [
           {
            "bin_end": 18.240538544,
            "bin_start": 18.234599,
            "count": 1
           },
           {
            "bin_end": 18.246478088,
            "bin_start": 18.240538544,
            "count": 0
           },
           {
            "bin_end": 18.252417632,
            "bin_start": 18.246478088,
            "count": 2
           },
           {
            "bin_end": 18.258357176,
            "bin_start": 18.252417632,
            "count": 1
           },
           {
            "bin_end": 18.264296719999997,
            "bin_start": 18.258357176,
            "count": 0
           },
           {
            "bin_end": 18.270236263999998,
            "bin_start": 18.264296719999997,
            "count": 0
           },
           {
            "bin_end": 18.276175807999998,
            "bin_start": 18.270236263999998,
            "count": 0
           },
           {
            "bin_end": 18.282115351999998,
            "bin_start": 18.276175807999998,
            "count": 0
           },
           {
            "bin_end": 18.288054896,
            "bin_start": 18.282115351999998,
            "count": 0
           },
           {
            "bin_end": 18.29399444,
            "bin_start": 18.288054896,
            "count": 1
           }
          ],
          "max": "18.29399444",
          "min": "18.234599",
          "nan_count": 0,
          "unique_count": 5
         }
        },
        {
         "dtype": "float64",
         "name": "Longitude",
         "stats": {
          "histogram": [
           {
            "bin_end": 120.5925544,
            "bin_start": 120.5871694,
            "count": 1
           },
           {
            "bin_end": 120.5979394,
            "bin_start": 120.5925544,
            "count": 0
           },
           {
            "bin_end": 120.60332439999999,
            "bin_start": 120.5979394,
            "count": 0
           },
           {
            "bin_end": 120.6087094,
            "bin_start": 120.60332439999999,
            "count": 1
           },
           {
            "bin_end": 120.6140944,
            "bin_start": 120.6087094,
            "count": 1
           },
           {
            "bin_end": 120.6194794,
            "bin_start": 120.6140944,
            "count": 1
           },
           {
            "bin_end": 120.6248644,
            "bin_start": 120.6194794,
            "count": 0
           },
           {
            "bin_end": 120.6302494,
            "bin_start": 120.6248644,
            "count": 0
           },
           {
            "bin_end": 120.6356344,
            "bin_start": 120.6302494,
            "count": 0
           },
           {
            "bin_end": 120.6410194,
            "bin_start": 120.6356344,
            "count": 1
           }
          ],
          "max": "120.6410194",
          "min": "120.5871694",
          "nan_count": 0,
          "unique_count": 5
         }
        },
        {
         "dtype": "int64",
         "name": "_deepnote_index_column"
        }
       ],
       "row_count": 5,
       "rows_bottom": null,
       "rows_top": [
        {
         "District": "Bacarra I",
         "Division": "Ilocos Norte",
         "Enrolment": 90,
         "Latitude": 18.253666,
         "Longitude": 120.60618,
         "Municipality": "Bacarra",
         "Name of Principal": "Jesusa G. Laeno",
         "Offering": "ES",
         "Province": "Ilocos Norte",
         "Region": "Region I",
         "School ID": 100001,
         "School Name": "Apaleng-Libtong ES",
         "_deepnote_index_column": 0
        },
        {
         "District": "Bacarra I",
         "Division": "Ilocos Norte",
         "Enrolment": 456,
         "Latitude": 18.25096389,
         "Longitude": 120.6089583,
         "Municipality": "Bacarra",
         "Name of Principal": "Gene A. Reginaldo",
         "Offering": "ES",
         "Province": "Ilocos Norte",
         "Region": "Region I",
         "School ID": 100002,
         "School Name": "Bacarra CES",
         "_deepnote_index_column": 1
        },
        {
         "District": "Bacarra I",
         "Division": "Ilocos Norte",
         "Enrolment": 167,
         "Latitude": 18.234599,
         "Longitude": 120.616037,
         "Municipality": "Bacarra",
         "Name of Principal": "Imelda C. Ilay",
         "Offering": "ES",
         "Province": "Ilocos Norte",
         "Region": "Region I",
         "School ID": 100003,
         "School Name": "Buyon ES",
         "_deepnote_index_column": 2
        },
        {
         "District": "Bacarra I",
         "Division": "Ilocos Norte",
         "Enrolment": 122,
         "Latitude": 18.25001389,
         "Longitude": 120.5871694,
         "Municipality": "Bacarra",
         "Name of Principal": "Pedestrelyn Aurora R. Acoba",
         "Offering": "ES",
         "Province": "Ilocos Norte",
         "Region": "Region I",
         "School ID": 100004,
         "School Name": "Ganagan Elementary School",
         "_deepnote_index_column": 3
        },
        {
         "District": "Bacarra I",
         "Division": "Ilocos Norte",
         "Enrolment": 77,
         "Latitude": 18.29399444,
         "Longitude": 120.6410194,
         "Municipality": "Bacarra",
         "Name of Principal": "Venchito F. Galario",
         "Offering": "ES",
         "Province": "Ilocos Norte",
         "Region": "Region I",
         "School ID": 100005,
         "School Name": "Macupit ES",
         "_deepnote_index_column": 4
        }
       ]
      },
      "text/html": [
       "<div>\n",
       "<style scoped>\n",
       "    .dataframe tbody tr th:only-of-type {\n",
       "        vertical-align: middle;\n",
       "    }\n",
       "\n",
       "    .dataframe tbody tr th {\n",
       "        vertical-align: top;\n",
       "    }\n",
       "\n",
       "    .dataframe thead th {\n",
       "        text-align: right;\n",
       "    }\n",
       "</style>\n",
       "<table border=\"1\" class=\"dataframe\">\n",
       "  <thead>\n",
       "    <tr style=\"text-align: right;\">\n",
       "      <th></th>\n",
       "      <th>School ID</th>\n",
       "      <th>School Name</th>\n",
       "      <th>Region</th>\n",
       "      <th>Province</th>\n",
       "      <th>Municipality</th>\n",
       "      <th>Division</th>\n",
       "      <th>District</th>\n",
       "      <th>Offering</th>\n",
       "      <th>Name of Principal</th>\n",
       "      <th>Enrolment</th>\n",
       "      <th>Latitude</th>\n",
       "      <th>Longitude</th>\n",
       "    </tr>\n",
       "  </thead>\n",
       "  <tbody>\n",
       "    <tr>\n",
       "      <th>0</th>\n",
       "      <td>100001</td>\n",
       "      <td>Apaleng-Libtong ES</td>\n",
       "      <td>Region I</td>\n",
       "      <td>Ilocos Norte</td>\n",
       "      <td>Bacarra</td>\n",
       "      <td>Ilocos Norte</td>\n",
       "      <td>Bacarra I</td>\n",
       "      <td>ES</td>\n",
       "      <td>Jesusa G. Laeno</td>\n",
       "      <td>90</td>\n",
       "      <td>18.253666</td>\n",
       "      <td>120.606180</td>\n",
       "    </tr>\n",
       "    <tr>\n",
       "      <th>1</th>\n",
       "      <td>100002</td>\n",
       "      <td>Bacarra CES</td>\n",
       "      <td>Region I</td>\n",
       "      <td>Ilocos Norte</td>\n",
       "      <td>Bacarra</td>\n",
       "      <td>Ilocos Norte</td>\n",
       "      <td>Bacarra I</td>\n",
       "      <td>ES</td>\n",
       "      <td>Gene A. Reginaldo</td>\n",
       "      <td>456</td>\n",
       "      <td>18.250964</td>\n",
       "      <td>120.608958</td>\n",
       "    </tr>\n",
       "    <tr>\n",
       "      <th>2</th>\n",
       "      <td>100003</td>\n",
       "      <td>Buyon ES</td>\n",
       "      <td>Region I</td>\n",
       "      <td>Ilocos Norte</td>\n",
       "      <td>Bacarra</td>\n",
       "      <td>Ilocos Norte</td>\n",
       "      <td>Bacarra I</td>\n",
       "      <td>ES</td>\n",
       "      <td>Imelda C. Ilay</td>\n",
       "      <td>167</td>\n",
       "      <td>18.234599</td>\n",
       "      <td>120.616037</td>\n",
       "    </tr>\n",
       "    <tr>\n",
       "      <th>3</th>\n",
       "      <td>100004</td>\n",
       "      <td>Ganagan Elementary School</td>\n",
       "      <td>Region I</td>\n",
       "      <td>Ilocos Norte</td>\n",
       "      <td>Bacarra</td>\n",
       "      <td>Ilocos Norte</td>\n",
       "      <td>Bacarra I</td>\n",
       "      <td>ES</td>\n",
       "      <td>Pedestrelyn Aurora R. Acoba</td>\n",
       "      <td>122</td>\n",
       "      <td>18.250014</td>\n",
       "      <td>120.587169</td>\n",
       "    </tr>\n",
       "    <tr>\n",
       "      <th>4</th>\n",
       "      <td>100005</td>\n",
       "      <td>Macupit ES</td>\n",
       "      <td>Region I</td>\n",
       "      <td>Ilocos Norte</td>\n",
       "      <td>Bacarra</td>\n",
       "      <td>Ilocos Norte</td>\n",
       "      <td>Bacarra I</td>\n",
       "      <td>ES</td>\n",
       "      <td>Venchito F. Galario</td>\n",
       "      <td>77</td>\n",
       "      <td>18.293994</td>\n",
       "      <td>120.641019</td>\n",
       "    </tr>\n",
       "  </tbody>\n",
       "</table>\n",
       "</div>"
      ],
      "text/plain": [
       "   School ID                School Name    Region      Province Municipality  \\\n",
       "0     100001         Apaleng-Libtong ES  Region I  Ilocos Norte      Bacarra   \n",
       "1     100002                Bacarra CES  Region I  Ilocos Norte      Bacarra   \n",
       "2     100003                   Buyon ES  Region I  Ilocos Norte      Bacarra   \n",
       "3     100004  Ganagan Elementary School  Region I  Ilocos Norte      Bacarra   \n",
       "4     100005                 Macupit ES  Region I  Ilocos Norte      Bacarra   \n",
       "\n",
       "       Division   District Offering            Name of Principal  Enrolment  \\\n",
       "0  Ilocos Norte  Bacarra I       ES              Jesusa G. Laeno         90   \n",
       "1  Ilocos Norte  Bacarra I       ES            Gene A. Reginaldo        456   \n",
       "2  Ilocos Norte  Bacarra I       ES               Imelda C. Ilay        167   \n",
       "3  Ilocos Norte  Bacarra I       ES  Pedestrelyn Aurora R. Acoba        122   \n",
       "4  Ilocos Norte  Bacarra I       ES          Venchito F. Galario         77   \n",
       "\n",
       "    Latitude   Longitude  \n",
       "0  18.253666  120.606180  \n",
       "1  18.250964  120.608958  \n",
       "2  18.234599  120.616037  \n",
       "3  18.250014  120.587169  \n",
       "4  18.293994  120.641019  "
      ]
     },
     "execution_count": 15,
     "metadata": {},
     "output_type": "execute_result"
    }
   ],
   "source": [
    "schools_loc.head()"
   ]
  },
  {
   "cell_type": "code",
   "execution_count": null,
   "metadata": {
    "cell_id": "00010-dbe178ee-0e9a-490e-8b8e-39fd071d772d",
    "deepnote_cell_type": "code",
    "deepnote_to_be_reexecuted": true,
    "execution_millis": 5,
    "execution_start": 1620903071710,
    "source_hash": "60bad9d8",
    "tags": []
   },
   "outputs": [
    {
     "data": {
      "text/plain": [
       "School ID             0\n",
       "School Name           0\n",
       "Region                0\n",
       "Province              0\n",
       "Municipality          0\n",
       "Division              0\n",
       "District              0\n",
       "Offering              0\n",
       "Name of Principal    11\n",
       "Enrolment             0\n",
       "Latitude              3\n",
       "Longitude             3\n",
       "dtype: int64"
      ]
     },
     "execution_count": 29,
     "metadata": {},
     "output_type": "execute_result"
    }
   ],
   "source": [
    "schools_loc.isnull().sum()"
   ]
  },
  {
   "cell_type": "code",
   "execution_count": null,
   "metadata": {
    "cell_id": "00006-0ce14e36-2865-4791-ba51-65ac323d815e",
    "deepnote_cell_type": "code",
    "deepnote_to_be_reexecuted": true,
    "execution_millis": 31,
    "execution_start": 1620902238323,
    "source_hash": "17d78f0d",
    "tags": []
   },
   "outputs": [
    {
     "data": {
      "application/vnd.deepnote.dataframe.v2+json": {
       "column_count": 5,
       "columns": [
        {
         "dtype": "int64",
         "name": "school.id",
         "stats": {
          "histogram": [
           {
            "bin_end": 100001.4,
            "bin_start": 100001,
            "count": 1
           },
           {
            "bin_end": 100001.8,
            "bin_start": 100001.4,
            "count": 0
           },
           {
            "bin_end": 100002.2,
            "bin_start": 100001.8,
            "count": 1
           },
           {
            "bin_end": 100002.6,
            "bin_start": 100002.2,
            "count": 0
           },
           {
            "bin_end": 100003,
            "bin_start": 100002.6,
            "count": 0
           },
           {
            "bin_end": 100003.4,
            "bin_start": 100003,
            "count": 1
           },
           {
            "bin_end": 100003.8,
            "bin_start": 100003.4,
            "count": 0
           },
           {
            "bin_end": 100004.2,
            "bin_start": 100003.8,
            "count": 1
           },
           {
            "bin_end": 100004.6,
            "bin_start": 100004.2,
            "count": 0
           },
           {
            "bin_end": 100005,
            "bin_start": 100004.6,
            "count": 1
           }
          ],
          "max": "100005",
          "min": "100001",
          "nan_count": 0,
          "unique_count": 5
         }
        },
        {
         "dtype": "int64",
         "name": "teachers.instructor",
         "stats": {
          "histogram": [
           {
            "bin_end": -0.4,
            "bin_start": -0.5,
            "count": 0
           },
           {
            "bin_end": -0.3,
            "bin_start": -0.4,
            "count": 0
           },
           {
            "bin_end": -0.19999999999999996,
            "bin_start": -0.3,
            "count": 0
           },
           {
            "bin_end": -0.09999999999999998,
            "bin_start": -0.19999999999999996,
            "count": 0
           },
           {
            "bin_end": 0,
            "bin_start": -0.09999999999999998,
            "count": 0
           },
           {
            "bin_end": 0.10000000000000009,
            "bin_start": 0,
            "count": 5
           },
           {
            "bin_end": 0.20000000000000007,
            "bin_start": 0.10000000000000009,
            "count": 0
           },
           {
            "bin_end": 0.30000000000000004,
            "bin_start": 0.20000000000000007,
            "count": 0
           },
           {
            "bin_end": 0.4,
            "bin_start": 0.30000000000000004,
            "count": 0
           },
           {
            "bin_end": 0.5,
            "bin_start": 0.4,
            "count": 0
           }
          ],
          "max": "0",
          "min": "0",
          "nan_count": 0,
          "unique_count": 1
         }
        },
        {
         "dtype": "int64",
         "name": "teachers.mobile",
         "stats": {
          "histogram": [
           {
            "bin_end": 0.6,
            "bin_start": 0,
            "count": 1
           },
           {
            "bin_end": 1.2,
            "bin_start": 0.6,
            "count": 3
           },
           {
            "bin_end": 1.7999999999999998,
            "bin_start": 1.2,
            "count": 0
           },
           {
            "bin_end": 2.4,
            "bin_start": 1.7999999999999998,
            "count": 0
           },
           {
            "bin_end": 3,
            "bin_start": 2.4,
            "count": 0
           },
           {
            "bin_end": 3.5999999999999996,
            "bin_start": 3,
            "count": 0
           },
           {
            "bin_end": 4.2,
            "bin_start": 3.5999999999999996,
            "count": 0
           },
           {
            "bin_end": 4.8,
            "bin_start": 4.2,
            "count": 0
           },
           {
            "bin_end": 5.3999999999999995,
            "bin_start": 4.8,
            "count": 0
           },
           {
            "bin_end": 6,
            "bin_start": 5.3999999999999995,
            "count": 1
           }
          ],
          "max": "6",
          "min": "0",
          "nan_count": 0,
          "unique_count": 3
         }
        },
        {
         "dtype": "int64",
         "name": "teachers.regular",
         "stats": {
          "histogram": [
           {
            "bin_end": 2.9,
            "bin_start": 2,
            "count": 1
           },
           {
            "bin_end": 3.8,
            "bin_start": 2.9,
            "count": 0
           },
           {
            "bin_end": 4.7,
            "bin_start": 3.8,
            "count": 0
           },
           {
            "bin_end": 5.6,
            "bin_start": 4.7,
            "count": 0
           },
           {
            "bin_end": 6.5,
            "bin_start": 5.6,
            "count": 3
           },
           {
            "bin_end": 7.4,
            "bin_start": 6.5,
            "count": 0
           },
           {
            "bin_end": 8.3,
            "bin_start": 7.4,
            "count": 0
           },
           {
            "bin_end": 9.2,
            "bin_start": 8.3,
            "count": 0
           },
           {
            "bin_end": 10.1,
            "bin_start": 9.2,
            "count": 0
           },
           {
            "bin_end": 11,
            "bin_start": 10.1,
            "count": 1
           }
          ],
          "max": "11",
          "min": "2",
          "nan_count": 0,
          "unique_count": 3
         }
        },
        {
         "dtype": "int64",
         "name": "teachers.sped",
         "stats": {
          "histogram": [
           {
            "bin_end": -0.4,
            "bin_start": -0.5,
            "count": 0
           },
           {
            "bin_end": -0.3,
            "bin_start": -0.4,
            "count": 0
           },
           {
            "bin_end": -0.19999999999999996,
            "bin_start": -0.3,
            "count": 0
           },
           {
            "bin_end": -0.09999999999999998,
            "bin_start": -0.19999999999999996,
            "count": 0
           },
           {
            "bin_end": 0,
            "bin_start": -0.09999999999999998,
            "count": 0
           },
           {
            "bin_end": 0.10000000000000009,
            "bin_start": 0,
            "count": 5
           },
           {
            "bin_end": 0.20000000000000007,
            "bin_start": 0.10000000000000009,
            "count": 0
           },
           {
            "bin_end": 0.30000000000000004,
            "bin_start": 0.20000000000000007,
            "count": 0
           },
           {
            "bin_end": 0.4,
            "bin_start": 0.30000000000000004,
            "count": 0
           },
           {
            "bin_end": 0.5,
            "bin_start": 0.4,
            "count": 0
           }
          ],
          "max": "0",
          "min": "0",
          "nan_count": 0,
          "unique_count": 1
         }
        },
        {
         "dtype": "int64",
         "name": "_deepnote_index_column"
        }
       ],
       "row_count": 5,
       "rows_bottom": null,
       "rows_top": [
        {
         "_deepnote_index_column": 0,
         "school.id": 100001,
         "teachers.instructor": 0,
         "teachers.mobile": 0,
         "teachers.regular": 2,
         "teachers.sped": 0
        },
        {
         "_deepnote_index_column": 1,
         "school.id": 100002,
         "teachers.instructor": 0,
         "teachers.mobile": 6,
         "teachers.regular": 11,
         "teachers.sped": 0
        },
        {
         "_deepnote_index_column": 2,
         "school.id": 100003,
         "teachers.instructor": 0,
         "teachers.mobile": 1,
         "teachers.regular": 6,
         "teachers.sped": 0
        },
        {
         "_deepnote_index_column": 3,
         "school.id": 100004,
         "teachers.instructor": 0,
         "teachers.mobile": 1,
         "teachers.regular": 6,
         "teachers.sped": 0
        },
        {
         "_deepnote_index_column": 4,
         "school.id": 100005,
         "teachers.instructor": 0,
         "teachers.mobile": 1,
         "teachers.regular": 6,
         "teachers.sped": 0
        }
       ]
      },
      "text/html": [
       "<div>\n",
       "<style scoped>\n",
       "    .dataframe tbody tr th:only-of-type {\n",
       "        vertical-align: middle;\n",
       "    }\n",
       "\n",
       "    .dataframe tbody tr th {\n",
       "        vertical-align: top;\n",
       "    }\n",
       "\n",
       "    .dataframe thead th {\n",
       "        text-align: right;\n",
       "    }\n",
       "</style>\n",
       "<table border=\"1\" class=\"dataframe\">\n",
       "  <thead>\n",
       "    <tr style=\"text-align: right;\">\n",
       "      <th></th>\n",
       "      <th>school.id</th>\n",
       "      <th>teachers.instructor</th>\n",
       "      <th>teachers.mobile</th>\n",
       "      <th>teachers.regular</th>\n",
       "      <th>teachers.sped</th>\n",
       "    </tr>\n",
       "  </thead>\n",
       "  <tbody>\n",
       "    <tr>\n",
       "      <th>0</th>\n",
       "      <td>100001</td>\n",
       "      <td>0</td>\n",
       "      <td>0</td>\n",
       "      <td>2</td>\n",
       "      <td>0</td>\n",
       "    </tr>\n",
       "    <tr>\n",
       "      <th>1</th>\n",
       "      <td>100002</td>\n",
       "      <td>0</td>\n",
       "      <td>6</td>\n",
       "      <td>11</td>\n",
       "      <td>0</td>\n",
       "    </tr>\n",
       "    <tr>\n",
       "      <th>2</th>\n",
       "      <td>100003</td>\n",
       "      <td>0</td>\n",
       "      <td>1</td>\n",
       "      <td>6</td>\n",
       "      <td>0</td>\n",
       "    </tr>\n",
       "    <tr>\n",
       "      <th>3</th>\n",
       "      <td>100004</td>\n",
       "      <td>0</td>\n",
       "      <td>1</td>\n",
       "      <td>6</td>\n",
       "      <td>0</td>\n",
       "    </tr>\n",
       "    <tr>\n",
       "      <th>4</th>\n",
       "      <td>100005</td>\n",
       "      <td>0</td>\n",
       "      <td>1</td>\n",
       "      <td>6</td>\n",
       "      <td>0</td>\n",
       "    </tr>\n",
       "  </tbody>\n",
       "</table>\n",
       "</div>"
      ],
      "text/plain": [
       "   school.id  teachers.instructor  teachers.mobile  teachers.regular  \\\n",
       "0     100001                    0                0                 2   \n",
       "1     100002                    0                6                11   \n",
       "2     100003                    0                1                 6   \n",
       "3     100004                    0                1                 6   \n",
       "4     100005                    0                1                 6   \n",
       "\n",
       "   teachers.sped  \n",
       "0              0  \n",
       "1              0  \n",
       "2              0  \n",
       "3              0  \n",
       "4              0  "
      ]
     },
     "execution_count": 16,
     "metadata": {},
     "output_type": "execute_result"
    }
   ],
   "source": [
    "teachers.head()"
   ]
  },
  {
   "cell_type": "code",
   "execution_count": null,
   "metadata": {
    "cell_id": "00012-6ade4b8c-6116-43a4-9636-a5af9555615d",
    "deepnote_cell_type": "code",
    "deepnote_to_be_reexecuted": true,
    "execution_millis": 5,
    "execution_start": 1620903057314,
    "source_hash": "3ed254e8",
    "tags": []
   },
   "outputs": [
    {
     "data": {
      "text/plain": [
       "school.id              0\n",
       "teachers.instructor    0\n",
       "teachers.mobile        0\n",
       "teachers.regular       0\n",
       "teachers.sped          0\n",
       "dtype: int64"
      ]
     },
     "execution_count": 27,
     "metadata": {},
     "output_type": "execute_result"
    }
   ],
   "source": [
    "teachers.isnull().sum()"
   ]
  },
  {
   "cell_type": "code",
   "execution_count": null,
   "metadata": {
    "cell_id": "00008-d9010c68-efef-4d7d-898f-5f61dce7fb40",
    "deepnote_cell_type": "code",
    "deepnote_to_be_reexecuted": true,
    "execution_millis": 9,
    "execution_start": 1620902369875,
    "source_hash": "e1a859f2",
    "tags": []
   },
   "outputs": [
    {
     "data": {
      "application/vnd.deepnote.dataframe.v2+json": {
       "column_count": 5,
       "columns": [
        {
         "dtype": "int64",
         "name": "school.id",
         "stats": {
          "histogram": [
           {
            "bin_end": 151976.9,
            "bin_start": 134966,
            "count": 4
           },
           {
            "bin_end": 168987.8,
            "bin_start": 151976.9,
            "count": 0
           },
           {
            "bin_end": 185998.7,
            "bin_start": 168987.8,
            "count": 0
           },
           {
            "bin_end": 203009.6,
            "bin_start": 185998.7,
            "count": 0
           },
           {
            "bin_end": 220020.5,
            "bin_start": 203009.6,
            "count": 0
           },
           {
            "bin_end": 237031.40000000002,
            "bin_start": 220020.5,
            "count": 0
           },
           {
            "bin_end": 254042.30000000002,
            "bin_start": 237031.40000000002,
            "count": 0
           },
           {
            "bin_end": 271053.2,
            "bin_start": 254042.30000000002,
            "count": 0
           },
           {
            "bin_end": 288064.1,
            "bin_start": 271053.2,
            "count": 0
           },
           {
            "bin_end": 305075,
            "bin_start": 288064.1,
            "count": 1
           }
          ],
          "max": "305075",
          "min": "134966",
          "nan_count": 0,
          "unique_count": 5
         }
        },
        {
         "dtype": "object",
         "name": "school.name",
         "stats": {
          "categories": [
           {
            "count": 1,
            "name": "Abra HS"
           },
           {
            "count": 1,
            "name": "Agtangao ES"
           },
           {
            "count": 3,
            "name": "3 others"
           }
          ],
          "nan_count": 0,
          "unique_count": 5
         }
        },
        {
         "dtype": "int64",
         "name": "school.enrollment",
         "stats": {
          "histogram": [
           {
            "bin_end": 444.3,
            "bin_start": 218,
            "count": 4
           },
           {
            "bin_end": 670.6,
            "bin_start": 444.3,
            "count": 0
           },
           {
            "bin_end": 896.9000000000001,
            "bin_start": 670.6,
            "count": 0
           },
           {
            "bin_end": 1123.2,
            "bin_start": 896.9000000000001,
            "count": 0
           },
           {
            "bin_end": 1349.5,
            "bin_start": 1123.2,
            "count": 0
           },
           {
            "bin_end": 1575.8000000000002,
            "bin_start": 1349.5,
            "count": 0
           },
           {
            "bin_end": 1802.1000000000001,
            "bin_start": 1575.8000000000002,
            "count": 0
           },
           {
            "bin_end": 2028.4,
            "bin_start": 1802.1000000000001,
            "count": 0
           },
           {
            "bin_end": 2254.7,
            "bin_start": 2028.4,
            "count": 0
           },
           {
            "bin_end": 2481,
            "bin_start": 2254.7,
            "count": 1
           }
          ],
          "max": "2481",
          "min": "218",
          "nan_count": 0,
          "unique_count": 5
         }
        },
        {
         "dtype": "object",
         "name": "school.offering",
         "stats": {
          "categories": [
           {
            "count": 4,
            "name": "Elementary"
           },
           {
            "count": 1,
            "name": "Secondary"
           }
          ],
          "nan_count": 0,
          "unique_count": 2
         }
        },
        {
         "dtype": "object",
         "name": " school.mooe ",
         "stats": {
          "categories": [
           {
            "count": 1,
            "name": " 2,182,000.00 "
           },
           {
            "count": 1,
            "name": " 227,000.00 "
           },
           {
            "count": 3,
            "name": "3 others"
           }
          ],
          "nan_count": 0,
          "unique_count": 5
         }
        },
        {
         "dtype": "int64",
         "name": "_deepnote_index_column"
        }
       ],
       "row_count": 5,
       "rows_bottom": null,
       "rows_top": [
        {
         " school.mooe ": " 2,182,000.00 ",
         "_deepnote_index_column": 0,
         "school.enrollment": 2481,
         "school.id": 305075,
         "school.name": "Abra HS",
         "school.offering": "Secondary"
        },
        {
         " school.mooe ": " 227,000.00 ",
         "_deepnote_index_column": 1,
         "school.enrollment": 376,
         "school.id": 134966,
         "school.name": "Agtangao ES",
         "school.offering": "Elementary"
        },
        {
         " school.mooe ": " 144,000.00 ",
         "_deepnote_index_column": 2,
         "school.enrollment": 218,
         "school.id": 134967,
         "school.name": "Bacsil ES",
         "school.offering": "Elementary"
        },
        {
         " school.mooe ": " 339,000.00 ",
         "_deepnote_index_column": 3,
         "school.enrollment": 443,
         "school.id": 134968,
         "school.name": "Bangued East CS",
         "school.offering": "Elementary"
        },
        {
         " school.mooe ": " 178,000.00 ",
         "_deepnote_index_column": 4,
         "school.enrollment": 307,
         "school.id": 134969,
         "school.name": "Bangued North ES",
         "school.offering": "Elementary"
        }
       ]
      },
      "text/html": [
       "<div>\n",
       "<style scoped>\n",
       "    .dataframe tbody tr th:only-of-type {\n",
       "        vertical-align: middle;\n",
       "    }\n",
       "\n",
       "    .dataframe tbody tr th {\n",
       "        vertical-align: top;\n",
       "    }\n",
       "\n",
       "    .dataframe thead th {\n",
       "        text-align: right;\n",
       "    }\n",
       "</style>\n",
       "<table border=\"1\" class=\"dataframe\">\n",
       "  <thead>\n",
       "    <tr style=\"text-align: right;\">\n",
       "      <th></th>\n",
       "      <th>school.id</th>\n",
       "      <th>school.name</th>\n",
       "      <th>school.enrollment</th>\n",
       "      <th>school.offering</th>\n",
       "      <th>school.mooe</th>\n",
       "    </tr>\n",
       "  </thead>\n",
       "  <tbody>\n",
       "    <tr>\n",
       "      <th>0</th>\n",
       "      <td>305075</td>\n",
       "      <td>Abra HS</td>\n",
       "      <td>2481</td>\n",
       "      <td>Secondary</td>\n",
       "      <td>2,182,000.00</td>\n",
       "    </tr>\n",
       "    <tr>\n",
       "      <th>1</th>\n",
       "      <td>134966</td>\n",
       "      <td>Agtangao ES</td>\n",
       "      <td>376</td>\n",
       "      <td>Elementary</td>\n",
       "      <td>227,000.00</td>\n",
       "    </tr>\n",
       "    <tr>\n",
       "      <th>2</th>\n",
       "      <td>134967</td>\n",
       "      <td>Bacsil ES</td>\n",
       "      <td>218</td>\n",
       "      <td>Elementary</td>\n",
       "      <td>144,000.00</td>\n",
       "    </tr>\n",
       "    <tr>\n",
       "      <th>3</th>\n",
       "      <td>134968</td>\n",
       "      <td>Bangued East CS</td>\n",
       "      <td>443</td>\n",
       "      <td>Elementary</td>\n",
       "      <td>339,000.00</td>\n",
       "    </tr>\n",
       "    <tr>\n",
       "      <th>4</th>\n",
       "      <td>134969</td>\n",
       "      <td>Bangued North ES</td>\n",
       "      <td>307</td>\n",
       "      <td>Elementary</td>\n",
       "      <td>178,000.00</td>\n",
       "    </tr>\n",
       "  </tbody>\n",
       "</table>\n",
       "</div>"
      ],
      "text/plain": [
       "   school.id       school.name  school.enrollment school.offering  \\\n",
       "0     305075           Abra HS               2481       Secondary   \n",
       "1     134966       Agtangao ES                376      Elementary   \n",
       "2     134967         Bacsil ES                218      Elementary   \n",
       "3     134968   Bangued East CS                443      Elementary   \n",
       "4     134969  Bangued North ES                307      Elementary   \n",
       "\n",
       "     school.mooe   \n",
       "0   2,182,000.00   \n",
       "1     227,000.00   \n",
       "2     144,000.00   \n",
       "3     339,000.00   \n",
       "4     178,000.00   "
      ]
     },
     "execution_count": 20,
     "metadata": {},
     "output_type": "execute_result"
    }
   ],
   "source": [
    "mooe.head()"
   ]
  },
  {
   "cell_type": "code",
   "execution_count": null,
   "metadata": {
    "cell_id": "00014-9eb802e0-4f51-4e47-8f4f-b51563b9f125",
    "deepnote_cell_type": "code",
    "deepnote_to_be_reexecuted": true,
    "execution_millis": 48,
    "execution_start": 1620903304952,
    "source_hash": "47b4b5f9",
    "tags": []
   },
   "outputs": [
    {
     "data": {
      "text/plain": [
       "school.id            0\n",
       "school.name          0\n",
       "school.enrollment    0\n",
       "school.offering      0\n",
       " school.mooe         0\n",
       "dtype: int64"
      ]
     },
     "execution_count": 36,
     "metadata": {},
     "output_type": "execute_result"
    }
   ],
   "source": [
    "mooe.isnull().sum()"
   ]
  },
  {
   "cell_type": "code",
   "execution_count": null,
   "metadata": {
    "cell_id": "00009-ae104f6c-e478-4d4b-a2f4-8d823cb079fa",
    "deepnote_cell_type": "code",
    "deepnote_to_be_reexecuted": true,
    "execution_millis": 51,
    "execution_start": 1620902390878,
    "source_hash": "cd5228bc",
    "tags": []
   },
   "outputs": [
    {
     "data": {
      "application/vnd.deepnote.dataframe.v2+json": {
       "column_count": 17,
       "columns": [
        {
         "dtype": "float64",
         "name": "School ID",
         "stats": {
          "histogram": [
           {
            "bin_end": 100001.4,
            "bin_start": 100001,
            "count": 1
           },
           {
            "bin_end": 100001.8,
            "bin_start": 100001.4,
            "count": 0
           },
           {
            "bin_end": 100002.2,
            "bin_start": 100001.8,
            "count": 1
           },
           {
            "bin_end": 100002.6,
            "bin_start": 100002.2,
            "count": 0
           },
           {
            "bin_end": 100003,
            "bin_start": 100002.6,
            "count": 0
           },
           {
            "bin_end": 100003.4,
            "bin_start": 100003,
            "count": 1
           },
           {
            "bin_end": 100003.8,
            "bin_start": 100003.4,
            "count": 0
           },
           {
            "bin_end": 100004.2,
            "bin_start": 100003.8,
            "count": 1
           },
           {
            "bin_end": 100004.6,
            "bin_start": 100004.2,
            "count": 0
           },
           {
            "bin_end": 100005,
            "bin_start": 100004.6,
            "count": 1
           }
          ],
          "max": "100005.0",
          "min": "100001.0",
          "nan_count": 0,
          "unique_count": 5
         }
        },
        {
         "dtype": "float64",
         "name": "Kinder Male",
         "stats": {
          "histogram": [
           {
            "bin_end": 7.7,
            "bin_start": 4,
            "count": 1
           },
           {
            "bin_end": 11.4,
            "bin_start": 7.7,
            "count": 3
           },
           {
            "bin_end": 15.100000000000001,
            "bin_start": 11.4,
            "count": 0
           },
           {
            "bin_end": 18.8,
            "bin_start": 15.100000000000001,
            "count": 0
           },
           {
            "bin_end": 22.5,
            "bin_start": 18.8,
            "count": 0
           },
           {
            "bin_end": 26.200000000000003,
            "bin_start": 22.5,
            "count": 0
           },
           {
            "bin_end": 29.900000000000002,
            "bin_start": 26.200000000000003,
            "count": 0
           },
           {
            "bin_end": 33.6,
            "bin_start": 29.900000000000002,
            "count": 0
           },
           {
            "bin_end": 37.300000000000004,
            "bin_start": 33.6,
            "count": 0
           },
           {
            "bin_end": 41,
            "bin_start": 37.300000000000004,
            "count": 1
           }
          ],
          "max": "41.0",
          "min": "4.0",
          "nan_count": 0,
          "unique_count": 4
         }
        },
        {
         "dtype": "float64",
         "name": "Kinder Female",
         "stats": {
          "histogram": [
           {
            "bin_end": 4.3,
            "bin_start": 2,
            "count": 2
           },
           {
            "bin_end": 6.6,
            "bin_start": 4.3,
            "count": 0
           },
           {
            "bin_end": 8.899999999999999,
            "bin_start": 6.6,
            "count": 1
           },
           {
            "bin_end": 11.2,
            "bin_start": 8.899999999999999,
            "count": 1
           },
           {
            "bin_end": 13.5,
            "bin_start": 11.2,
            "count": 0
           },
           {
            "bin_end": 15.799999999999999,
            "bin_start": 13.5,
            "count": 0
           },
           {
            "bin_end": 18.099999999999998,
            "bin_start": 15.799999999999999,
            "count": 0
           },
           {
            "bin_end": 20.4,
            "bin_start": 18.099999999999998,
            "count": 0
           },
           {
            "bin_end": 22.7,
            "bin_start": 20.4,
            "count": 0
           },
           {
            "bin_end": 25,
            "bin_start": 22.7,
            "count": 1
           }
          ],
          "max": "25.0",
          "min": "2.0",
          "nan_count": 0,
          "unique_count": 5
         }
        },
        {
         "dtype": "float64",
         "name": "Grade 1 Male",
         "stats": {
          "histogram": [
           {
            "bin_end": 8.3,
            "bin_start": 5,
            "count": 2
           },
           {
            "bin_end": 11.6,
            "bin_start": 8.3,
            "count": 1
           },
           {
            "bin_end": 14.899999999999999,
            "bin_start": 11.6,
            "count": 1
           },
           {
            "bin_end": 18.2,
            "bin_start": 14.899999999999999,
            "count": 0
           },
           {
            "bin_end": 21.5,
            "bin_start": 18.2,
            "count": 0
           },
           {
            "bin_end": 24.799999999999997,
            "bin_start": 21.5,
            "count": 0
           },
           {
            "bin_end": 28.099999999999998,
            "bin_start": 24.799999999999997,
            "count": 0
           },
           {
            "bin_end": 31.4,
            "bin_start": 28.099999999999998,
            "count": 0
           },
           {
            "bin_end": 34.7,
            "bin_start": 31.4,
            "count": 0
           },
           {
            "bin_end": 38,
            "bin_start": 34.7,
            "count": 1
           }
          ],
          "max": "38.0",
          "min": "5.0",
          "nan_count": 0,
          "unique_count": 5
         }
        },
        {
         "dtype": "float64",
         "name": "Grade 1 Female",
         "stats": {
          "histogram": [
           {
            "bin_end": 5.1,
            "bin_start": 2,
            "count": 1
           },
           {
            "bin_end": 8.2,
            "bin_start": 5.1,
            "count": 1
           },
           {
            "bin_end": 11.3,
            "bin_start": 8.2,
            "count": 0
           },
           {
            "bin_end": 14.4,
            "bin_start": 11.3,
            "count": 1
           },
           {
            "bin_end": 17.5,
            "bin_start": 14.4,
            "count": 1
           },
           {
            "bin_end": 20.6,
            "bin_start": 17.5,
            "count": 0
           },
           {
            "bin_end": 23.7,
            "bin_start": 20.6,
            "count": 0
           },
           {
            "bin_end": 26.8,
            "bin_start": 23.7,
            "count": 0
           },
           {
            "bin_end": 29.900000000000002,
            "bin_start": 26.8,
            "count": 0
           },
           {
            "bin_end": 33,
            "bin_start": 29.900000000000002,
            "count": 1
           }
          ],
          "max": "33.0",
          "min": "2.0",
          "nan_count": 0,
          "unique_count": 5
         }
        },
        {
         "dtype": "float64",
         "name": "Grade 2 Male",
         "stats": {
          "histogram": [
           {
            "bin_end": 7.7,
            "bin_start": 4,
            "count": 2
           },
           {
            "bin_end": 11.4,
            "bin_start": 7.7,
            "count": 0
           },
           {
            "bin_end": 15.100000000000001,
            "bin_start": 11.4,
            "count": 2
           },
           {
            "bin_end": 18.8,
            "bin_start": 15.100000000000001,
            "count": 0
           },
           {
            "bin_end": 22.5,
            "bin_start": 18.8,
            "count": 0
           },
           {
            "bin_end": 26.200000000000003,
            "bin_start": 22.5,
            "count": 0
           },
           {
            "bin_end": 29.900000000000002,
            "bin_start": 26.200000000000003,
            "count": 0
           },
           {
            "bin_end": 33.6,
            "bin_start": 29.900000000000002,
            "count": 0
           },
           {
            "bin_end": 37.300000000000004,
            "bin_start": 33.6,
            "count": 0
           },
           {
            "bin_end": 41,
            "bin_start": 37.300000000000004,
            "count": 1
           }
          ],
          "max": "41.0",
          "min": "4.0",
          "nan_count": 0,
          "unique_count": 5
         }
        },
        {
         "dtype": "float64",
         "name": "Grade 2 Female",
         "stats": {
          "histogram": [
           {
            "bin_end": 9.4,
            "bin_start": 6,
            "count": 2
           },
           {
            "bin_end": 12.8,
            "bin_start": 9.4,
            "count": 1
           },
           {
            "bin_end": 16.2,
            "bin_start": 12.8,
            "count": 1
           },
           {
            "bin_end": 19.6,
            "bin_start": 16.2,
            "count": 0
           },
           {
            "bin_end": 23,
            "bin_start": 19.6,
            "count": 0
           },
           {
            "bin_end": 26.4,
            "bin_start": 23,
            "count": 0
           },
           {
            "bin_end": 29.8,
            "bin_start": 26.4,
            "count": 0
           },
           {
            "bin_end": 33.2,
            "bin_start": 29.8,
            "count": 0
           },
           {
            "bin_end": 36.599999999999994,
            "bin_start": 33.2,
            "count": 0
           },
           {
            "bin_end": 40,
            "bin_start": 36.599999999999994,
            "count": 1
           }
          ],
          "max": "40.0",
          "min": "6.0",
          "nan_count": 0,
          "unique_count": 5
         }
        },
        {
         "dtype": "float64",
         "name": "Grade 3 Male",
         "stats": {
          "histogram": [
           {
            "bin_end": 5.5,
            "bin_start": 3,
            "count": 1
           },
           {
            "bin_end": 8,
            "bin_start": 5.5,
            "count": 0
           },
           {
            "bin_end": 10.5,
            "bin_start": 8,
            "count": 2
           },
           {
            "bin_end": 13,
            "bin_start": 10.5,
            "count": 0
           },
           {
            "bin_end": 15.5,
            "bin_start": 13,
            "count": 0
           },
           {
            "bin_end": 18,
            "bin_start": 15.5,
            "count": 1
           },
           {
            "bin_end": 20.5,
            "bin_start": 18,
            "count": 0
           },
           {
            "bin_end": 23,
            "bin_start": 20.5,
            "count": 0
           },
           {
            "bin_end": 25.5,
            "bin_start": 23,
            "count": 0
           },
           {
            "bin_end": 28,
            "bin_start": 25.5,
            "count": 1
           }
          ],
          "max": "28.0",
          "min": "3.0",
          "nan_count": 0,
          "unique_count": 5
         }
        },
        {
         "dtype": "float64",
         "name": "Grade 3 Female",
         "stats": {
          "histogram": [
           {
            "bin_end": 7.6,
            "bin_start": 5,
            "count": 2
           },
           {
            "bin_end": 10.2,
            "bin_start": 7.6,
            "count": 1
           },
           {
            "bin_end": 12.8,
            "bin_start": 10.2,
            "count": 0
           },
           {
            "bin_end": 15.4,
            "bin_start": 12.8,
            "count": 0
           },
           {
            "bin_end": 18,
            "bin_start": 15.4,
            "count": 1
           },
           {
            "bin_end": 20.6,
            "bin_start": 18,
            "count": 0
           },
           {
            "bin_end": 23.2,
            "bin_start": 20.6,
            "count": 0
           },
           {
            "bin_end": 25.8,
            "bin_start": 23.2,
            "count": 0
           },
           {
            "bin_end": 28.400000000000002,
            "bin_start": 25.8,
            "count": 0
           },
           {
            "bin_end": 31,
            "bin_start": 28.400000000000002,
            "count": 1
           }
          ],
          "max": "31.0",
          "min": "5.0",
          "nan_count": 0,
          "unique_count": 4
         }
        },
        {
         "dtype": "float64",
         "name": "Grade 4 Male",
         "stats": {
          "histogram": [
           {
            "bin_end": 10.1,
            "bin_start": 7,
            "count": 1
           },
           {
            "bin_end": 13.2,
            "bin_start": 10.1,
            "count": 1
           },
           {
            "bin_end": 16.3,
            "bin_start": 13.2,
            "count": 2
           },
           {
            "bin_end": 19.4,
            "bin_start": 16.3,
            "count": 0
           },
           {
            "bin_end": 22.5,
            "bin_start": 19.4,
            "count": 0
           },
           {
            "bin_end": 25.6,
            "bin_start": 22.5,
            "count": 0
           },
           {
            "bin_end": 28.7,
            "bin_start": 25.6,
            "count": 0
           },
           {
            "bin_end": 31.8,
            "bin_start": 28.7,
            "count": 0
           },
           {
            "bin_end": 34.900000000000006,
            "bin_start": 31.8,
            "count": 0
           },
           {
            "bin_end": 38,
            "bin_start": 34.900000000000006,
            "count": 1
           }
          ],
          "max": "38.0",
          "min": "7.0",
          "nan_count": 0,
          "unique_count": 4
         }
        },
        {
         "dtype": "float64",
         "name": "Grade 4 Female",
         "stats": {
          "histogram": [
           {
            "bin_end": 7.5,
            "bin_start": 5,
            "count": 2
           },
           {
            "bin_end": 10,
            "bin_start": 7.5,
            "count": 0
           },
           {
            "bin_end": 12.5,
            "bin_start": 10,
            "count": 2
           },
           {
            "bin_end": 15,
            "bin_start": 12.5,
            "count": 0
           },
           {
            "bin_end": 17.5,
            "bin_start": 15,
            "count": 0
           },
           {
            "bin_end": 20,
            "bin_start": 17.5,
            "count": 0
           },
           {
            "bin_end": 22.5,
            "bin_start": 20,
            "count": 0
           },
           {
            "bin_end": 25,
            "bin_start": 22.5,
            "count": 0
           },
           {
            "bin_end": 27.5,
            "bin_start": 25,
            "count": 0
           },
           {
            "bin_end": 30,
            "bin_start": 27.5,
            "count": 1
           }
          ],
          "max": "30.0",
          "min": "5.0",
          "nan_count": 0,
          "unique_count": 3
         }
        },
        {
         "dtype": "float64",
         "name": "Grade 5 Male",
         "stats": {
          "histogram": [
           {
            "bin_end": 5.3,
            "bin_start": 3,
            "count": 2
           },
           {
            "bin_end": 7.6,
            "bin_start": 5.3,
            "count": 1
           },
           {
            "bin_end": 9.899999999999999,
            "bin_start": 7.6,
            "count": 1
           },
           {
            "bin_end": 12.2,
            "bin_start": 9.899999999999999,
            "count": 0
           },
           {
            "bin_end": 14.5,
            "bin_start": 12.2,
            "count": 0
           },
           {
            "bin_end": 16.799999999999997,
            "bin_start": 14.5,
            "count": 0
           },
           {
            "bin_end": 19.099999999999998,
            "bin_start": 16.799999999999997,
            "count": 0
           },
           {
            "bin_end": 21.4,
            "bin_start": 19.099999999999998,
            "count": 0
           },
           {
            "bin_end": 23.7,
            "bin_start": 21.4,
            "count": 0
           },
           {
            "bin_end": 26,
            "bin_start": 23.7,
            "count": 1
           }
          ],
          "max": "26.0",
          "min": "3.0",
          "nan_count": 0,
          "unique_count": 5
         }
        },
        {
         "dtype": "float64",
         "name": "Grade 5 Female",
         "stats": {
          "histogram": [
           {
            "bin_end": 4.9,
            "bin_start": 2,
            "count": 2
           },
           {
            "bin_end": 7.8,
            "bin_start": 4.9,
            "count": 1
           },
           {
            "bin_end": 10.7,
            "bin_start": 7.8,
            "count": 0
           },
           {
            "bin_end": 13.6,
            "bin_start": 10.7,
            "count": 1
           },
           {
            "bin_end": 16.5,
            "bin_start": 13.6,
            "count": 0
           },
           {
            "bin_end": 19.4,
            "bin_start": 16.5,
            "count": 0
           },
           {
            "bin_end": 22.3,
            "bin_start": 19.4,
            "count": 0
           },
           {
            "bin_end": 25.2,
            "bin_start": 22.3,
            "count": 0
           },
           {
            "bin_end": 28.099999999999998,
            "bin_start": 25.2,
            "count": 0
           },
           {
            "bin_end": 31,
            "bin_start": 28.099999999999998,
            "count": 1
           }
          ],
          "max": "31.0",
          "min": "2.0",
          "nan_count": 0,
          "unique_count": 5
         }
        },
        {
         "dtype": "float64",
         "name": "Grade 6 Male",
         "stats": {
          "histogram": [
           {
            "bin_end": 4.9,
            "bin_start": 3,
            "count": 1
           },
           {
            "bin_end": 6.8,
            "bin_start": 4.9,
            "count": 0
           },
           {
            "bin_end": 8.7,
            "bin_start": 6.8,
            "count": 0
           },
           {
            "bin_end": 10.6,
            "bin_start": 8.7,
            "count": 1
           },
           {
            "bin_end": 12.5,
            "bin_start": 10.6,
            "count": 1
           },
           {
            "bin_end": 14.399999999999999,
            "bin_start": 12.5,
            "count": 1
           },
           {
            "bin_end": 16.299999999999997,
            "bin_start": 14.399999999999999,
            "count": 0
           },
           {
            "bin_end": 18.2,
            "bin_start": 16.299999999999997,
            "count": 0
           },
           {
            "bin_end": 20.099999999999998,
            "bin_start": 18.2,
            "count": 0
           },
           {
            "bin_end": 22,
            "bin_start": 20.099999999999998,
            "count": 1
           }
          ],
          "max": "22.0",
          "min": "3.0",
          "nan_count": 0,
          "unique_count": 5
         }
        },
        {
         "dtype": "float64",
         "name": "Grade 6 Female",
         "stats": {
          "histogram": [
           {
            "bin_end": 7.7,
            "bin_start": 5,
            "count": 3
           },
           {
            "bin_end": 10.4,
            "bin_start": 7.7,
            "count": 1
           },
           {
            "bin_end": 13.100000000000001,
            "bin_start": 10.4,
            "count": 0
           },
           {
            "bin_end": 15.8,
            "bin_start": 13.100000000000001,
            "count": 0
           },
           {
            "bin_end": 18.5,
            "bin_start": 15.8,
            "count": 0
           },
           {
            "bin_end": 21.200000000000003,
            "bin_start": 18.5,
            "count": 0
           },
           {
            "bin_end": 23.900000000000002,
            "bin_start": 21.200000000000003,
            "count": 0
           },
           {
            "bin_end": 26.6,
            "bin_start": 23.900000000000002,
            "count": 0
           },
           {
            "bin_end": 29.3,
            "bin_start": 26.6,
            "count": 0
           },
           {
            "bin_end": 32,
            "bin_start": 29.3,
            "count": 1
           }
          ],
          "max": "32.0",
          "min": "5.0",
          "nan_count": 0,
          "unique_count": 4
         }
        },
        {
         "dtype": "float64",
         "name": "SPED NG Male",
         "stats": {
          "histogram": [
           {
            "bin_end": -0.4,
            "bin_start": -0.5,
            "count": 0
           },
           {
            "bin_end": -0.3,
            "bin_start": -0.4,
            "count": 0
           },
           {
            "bin_end": -0.19999999999999996,
            "bin_start": -0.3,
            "count": 0
           },
           {
            "bin_end": -0.09999999999999998,
            "bin_start": -0.19999999999999996,
            "count": 0
           },
           {
            "bin_end": 0,
            "bin_start": -0.09999999999999998,
            "count": 0
           },
           {
            "bin_end": 0.10000000000000009,
            "bin_start": 0,
            "count": 5
           },
           {
            "bin_end": 0.20000000000000007,
            "bin_start": 0.10000000000000009,
            "count": 0
           },
           {
            "bin_end": 0.30000000000000004,
            "bin_start": 0.20000000000000007,
            "count": 0
           },
           {
            "bin_end": 0.4,
            "bin_start": 0.30000000000000004,
            "count": 0
           },
           {
            "bin_end": 0.5,
            "bin_start": 0.4,
            "count": 0
           }
          ],
          "max": "0.0",
          "min": "0.0",
          "nan_count": 0,
          "unique_count": 1
         }
        },
        {
         "dtype": "float64",
         "name": "SPED NG Female",
         "stats": {
          "histogram": [
           {
            "bin_end": -0.4,
            "bin_start": -0.5,
            "count": 0
           },
           {
            "bin_end": -0.3,
            "bin_start": -0.4,
            "count": 0
           },
           {
            "bin_end": -0.19999999999999996,
            "bin_start": -0.3,
            "count": 0
           },
           {
            "bin_end": -0.09999999999999998,
            "bin_start": -0.19999999999999996,
            "count": 0
           },
           {
            "bin_end": 0,
            "bin_start": -0.09999999999999998,
            "count": 0
           },
           {
            "bin_end": 0.10000000000000009,
            "bin_start": 0,
            "count": 5
           },
           {
            "bin_end": 0.20000000000000007,
            "bin_start": 0.10000000000000009,
            "count": 0
           },
           {
            "bin_end": 0.30000000000000004,
            "bin_start": 0.20000000000000007,
            "count": 0
           },
           {
            "bin_end": 0.4,
            "bin_start": 0.30000000000000004,
            "count": 0
           },
           {
            "bin_end": 0.5,
            "bin_start": 0.4,
            "count": 0
           }
          ],
          "max": "0.0",
          "min": "0.0",
          "nan_count": 0,
          "unique_count": 1
         }
        },
        {
         "dtype": "int64",
         "name": "_deepnote_index_column"
        }
       ],
       "row_count": 5,
       "rows_bottom": null,
       "rows_top": [
        {
         "Grade 1 Female": 2,
         "Grade 1 Male": 7,
         "Grade 2 Female": 7,
         "Grade 2 Male": 7,
         "Grade 3 Female": 5,
         "Grade 3 Male": 9,
         "Grade 4 Female": 5,
         "Grade 4 Male": 7,
         "Grade 5 Female": 2,
         "Grade 5 Male": 3,
         "Grade 6 Female": 6,
         "Grade 6 Male": 14,
         "Kinder Female": 7,
         "Kinder Male": 9,
         "SPED NG Female": 0,
         "SPED NG Male": 0,
         "School ID": 100001,
         "_deepnote_index_column": 0
        },
        {
         "Grade 1 Female": 33,
         "Grade 1 Male": 38,
         "Grade 2 Female": 40,
         "Grade 2 Male": 41,
         "Grade 3 Female": 31,
         "Grade 3 Male": 28,
         "Grade 4 Female": 30,
         "Grade 4 Male": 38,
         "Grade 5 Female": 31,
         "Grade 5 Male": 26,
         "Grade 6 Female": 32,
         "Grade 6 Male": 22,
         "Kinder Female": 25,
         "Kinder Male": 41,
         "SPED NG Female": 0,
         "SPED NG Male": 0,
         "School ID": 100002,
         "_deepnote_index_column": 1
        },
        {
         "Grade 1 Female": 15,
         "Grade 1 Male": 13,
         "Grade 2 Female": 13,
         "Grade 2 Male": 13,
         "Grade 3 Female": 16,
         "Grade 3 Male": 16,
         "Grade 4 Female": 11,
         "Grade 4 Male": 14,
         "Grade 5 Female": 12,
         "Grade 5 Male": 9,
         "Grade 6 Female": 5,
         "Grade 6 Male": 12,
         "Kinder Female": 10,
         "Kinder Male": 8,
         "SPED NG Female": 0,
         "SPED NG Male": 0,
         "School ID": 100003,
         "_deepnote_index_column": 2
        },
        {
         "Grade 1 Female": 12,
         "Grade 1 Male": 9,
         "Grade 2 Female": 10,
         "Grade 2 Male": 12,
         "Grade 3 Female": 5,
         "Grade 3 Male": 10,
         "Grade 4 Female": 11,
         "Grade 4 Male": 14,
         "Grade 5 Female": 7,
         "Grade 5 Male": 5,
         "Grade 6 Female": 5,
         "Grade 6 Male": 10,
         "Kinder Female": 4,
         "Kinder Male": 8,
         "SPED NG Female": 0,
         "SPED NG Male": 0,
         "School ID": 100004,
         "_deepnote_index_column": 3
        },
        {
         "Grade 1 Female": 7,
         "Grade 1 Male": 5,
         "Grade 2 Female": 6,
         "Grade 2 Male": 4,
         "Grade 3 Female": 8,
         "Grade 3 Male": 3,
         "Grade 4 Female": 5,
         "Grade 4 Male": 11,
         "Grade 5 Female": 4,
         "Grade 5 Male": 7,
         "Grade 6 Female": 8,
         "Grade 6 Male": 3,
         "Kinder Female": 2,
         "Kinder Male": 4,
         "SPED NG Female": 0,
         "SPED NG Male": 0,
         "School ID": 100005,
         "_deepnote_index_column": 4
        }
       ]
      },
      "text/html": [
       "<div>\n",
       "<style scoped>\n",
       "    .dataframe tbody tr th:only-of-type {\n",
       "        vertical-align: middle;\n",
       "    }\n",
       "\n",
       "    .dataframe tbody tr th {\n",
       "        vertical-align: top;\n",
       "    }\n",
       "\n",
       "    .dataframe thead th {\n",
       "        text-align: right;\n",
       "    }\n",
       "</style>\n",
       "<table border=\"1\" class=\"dataframe\">\n",
       "  <thead>\n",
       "    <tr style=\"text-align: right;\">\n",
       "      <th></th>\n",
       "      <th>School ID</th>\n",
       "      <th>Kinder Male</th>\n",
       "      <th>Kinder Female</th>\n",
       "      <th>Grade 1 Male</th>\n",
       "      <th>Grade 1 Female</th>\n",
       "      <th>Grade 2 Male</th>\n",
       "      <th>Grade 2 Female</th>\n",
       "      <th>Grade 3 Male</th>\n",
       "      <th>Grade 3 Female</th>\n",
       "      <th>Grade 4 Male</th>\n",
       "      <th>Grade 4 Female</th>\n",
       "      <th>Grade 5 Male</th>\n",
       "      <th>Grade 5 Female</th>\n",
       "      <th>Grade 6 Male</th>\n",
       "      <th>Grade 6 Female</th>\n",
       "      <th>SPED NG Male</th>\n",
       "      <th>SPED NG Female</th>\n",
       "    </tr>\n",
       "  </thead>\n",
       "  <tbody>\n",
       "    <tr>\n",
       "      <th>0</th>\n",
       "      <td>100001.0</td>\n",
       "      <td>9.0</td>\n",
       "      <td>7.0</td>\n",
       "      <td>7.0</td>\n",
       "      <td>2.0</td>\n",
       "      <td>7.0</td>\n",
       "      <td>7.0</td>\n",
       "      <td>9.0</td>\n",
       "      <td>5.0</td>\n",
       "      <td>7.0</td>\n",
       "      <td>5.0</td>\n",
       "      <td>3.0</td>\n",
       "      <td>2.0</td>\n",
       "      <td>14.0</td>\n",
       "      <td>6.0</td>\n",
       "      <td>0.0</td>\n",
       "      <td>0.0</td>\n",
       "    </tr>\n",
       "    <tr>\n",
       "      <th>1</th>\n",
       "      <td>100002.0</td>\n",
       "      <td>41.0</td>\n",
       "      <td>25.0</td>\n",
       "      <td>38.0</td>\n",
       "      <td>33.0</td>\n",
       "      <td>41.0</td>\n",
       "      <td>40.0</td>\n",
       "      <td>28.0</td>\n",
       "      <td>31.0</td>\n",
       "      <td>38.0</td>\n",
       "      <td>30.0</td>\n",
       "      <td>26.0</td>\n",
       "      <td>31.0</td>\n",
       "      <td>22.0</td>\n",
       "      <td>32.0</td>\n",
       "      <td>0.0</td>\n",
       "      <td>0.0</td>\n",
       "    </tr>\n",
       "    <tr>\n",
       "      <th>2</th>\n",
       "      <td>100003.0</td>\n",
       "      <td>8.0</td>\n",
       "      <td>10.0</td>\n",
       "      <td>13.0</td>\n",
       "      <td>15.0</td>\n",
       "      <td>13.0</td>\n",
       "      <td>13.0</td>\n",
       "      <td>16.0</td>\n",
       "      <td>16.0</td>\n",
       "      <td>14.0</td>\n",
       "      <td>11.0</td>\n",
       "      <td>9.0</td>\n",
       "      <td>12.0</td>\n",
       "      <td>12.0</td>\n",
       "      <td>5.0</td>\n",
       "      <td>0.0</td>\n",
       "      <td>0.0</td>\n",
       "    </tr>\n",
       "    <tr>\n",
       "      <th>3</th>\n",
       "      <td>100004.0</td>\n",
       "      <td>8.0</td>\n",
       "      <td>4.0</td>\n",
       "      <td>9.0</td>\n",
       "      <td>12.0</td>\n",
       "      <td>12.0</td>\n",
       "      <td>10.0</td>\n",
       "      <td>10.0</td>\n",
       "      <td>5.0</td>\n",
       "      <td>14.0</td>\n",
       "      <td>11.0</td>\n",
       "      <td>5.0</td>\n",
       "      <td>7.0</td>\n",
       "      <td>10.0</td>\n",
       "      <td>5.0</td>\n",
       "      <td>0.0</td>\n",
       "      <td>0.0</td>\n",
       "    </tr>\n",
       "    <tr>\n",
       "      <th>4</th>\n",
       "      <td>100005.0</td>\n",
       "      <td>4.0</td>\n",
       "      <td>2.0</td>\n",
       "      <td>5.0</td>\n",
       "      <td>7.0</td>\n",
       "      <td>4.0</td>\n",
       "      <td>6.0</td>\n",
       "      <td>3.0</td>\n",
       "      <td>8.0</td>\n",
       "      <td>11.0</td>\n",
       "      <td>5.0</td>\n",
       "      <td>7.0</td>\n",
       "      <td>4.0</td>\n",
       "      <td>3.0</td>\n",
       "      <td>8.0</td>\n",
       "      <td>0.0</td>\n",
       "      <td>0.0</td>\n",
       "    </tr>\n",
       "  </tbody>\n",
       "</table>\n",
       "</div>"
      ],
      "text/plain": [
       "   School ID  Kinder Male  Kinder Female  Grade 1 Male  Grade 1 Female  \\\n",
       "0   100001.0          9.0            7.0           7.0             2.0   \n",
       "1   100002.0         41.0           25.0          38.0            33.0   \n",
       "2   100003.0          8.0           10.0          13.0            15.0   \n",
       "3   100004.0          8.0            4.0           9.0            12.0   \n",
       "4   100005.0          4.0            2.0           5.0             7.0   \n",
       "\n",
       "   Grade 2 Male  Grade 2 Female  Grade 3 Male  Grade 3 Female  Grade 4 Male  \\\n",
       "0           7.0             7.0           9.0             5.0           7.0   \n",
       "1          41.0            40.0          28.0            31.0          38.0   \n",
       "2          13.0            13.0          16.0            16.0          14.0   \n",
       "3          12.0            10.0          10.0             5.0          14.0   \n",
       "4           4.0             6.0           3.0             8.0          11.0   \n",
       "\n",
       "   Grade 4 Female  Grade 5 Male  Grade 5 Female  Grade 6 Male  Grade 6 Female  \\\n",
       "0             5.0           3.0             2.0          14.0             6.0   \n",
       "1            30.0          26.0            31.0          22.0            32.0   \n",
       "2            11.0           9.0            12.0          12.0             5.0   \n",
       "3            11.0           5.0             7.0          10.0             5.0   \n",
       "4             5.0           7.0             4.0           3.0             8.0   \n",
       "\n",
       "   SPED NG Male  SPED NG Female  \n",
       "0           0.0             0.0  \n",
       "1           0.0             0.0  \n",
       "2           0.0             0.0  \n",
       "3           0.0             0.0  \n",
       "4           0.0             0.0  "
      ]
     },
     "execution_count": 21,
     "metadata": {},
     "output_type": "execute_result"
    }
   ],
   "source": [
    "enrol_e.head()"
   ]
  },
  {
   "cell_type": "code",
   "execution_count": null,
   "metadata": {
    "cell_id": "00016-281a3d28-fc17-4419-b0fd-0f12529cb5c2",
    "deepnote_cell_type": "code",
    "deepnote_to_be_reexecuted": true,
    "execution_millis": 5,
    "execution_start": 1620903123246,
    "source_hash": "da95acc6",
    "tags": []
   },
   "outputs": [
    {
     "data": {
      "text/plain": [
       "School ID         1\n",
       "Kinder Male       1\n",
       "Kinder Female     1\n",
       "Grade 1 Male      1\n",
       "Grade 1 Female    1\n",
       "Grade 2 Male      1\n",
       "Grade 2 Female    1\n",
       "Grade 3 Male      1\n",
       "Grade 3 Female    1\n",
       "Grade 4 Male      1\n",
       "Grade 4 Female    1\n",
       "Grade 5 Male      1\n",
       "Grade 5 Female    1\n",
       "Grade 6 Male      1\n",
       "Grade 6 Female    1\n",
       "SPED NG Male      1\n",
       "SPED NG Female    1\n",
       "dtype: int64"
      ]
     },
     "execution_count": 31,
     "metadata": {},
     "output_type": "execute_result"
    }
   ],
   "source": [
    "enrol_e.isnull().sum()"
   ]
  },
  {
   "cell_type": "code",
   "execution_count": null,
   "metadata": {
    "cell_id": "00011-49558dc1-d6fc-4d94-8c53-868f5d486c74",
    "deepnote_cell_type": "code",
    "deepnote_to_be_reexecuted": true,
    "execution_millis": 26,
    "execution_start": 1620903190018,
    "source_hash": "2b563394",
    "tags": []
   },
   "outputs": [
    {
     "data": {
      "application/vnd.deepnote.dataframe.v2+json": {
       "column_count": 15,
       "columns": [
        {
         "dtype": "float64",
         "name": "School ID",
         "stats": {
          "histogram": [
           {
            "bin_end": 300001.4,
            "bin_start": 300001,
            "count": 1
           },
           {
            "bin_end": 300001.8,
            "bin_start": 300001.4,
            "count": 0
           },
           {
            "bin_end": 300002.2,
            "bin_start": 300001.8,
            "count": 1
           },
           {
            "bin_end": 300002.6,
            "bin_start": 300002.2,
            "count": 0
           },
           {
            "bin_end": 300003,
            "bin_start": 300002.6,
            "count": 0
           },
           {
            "bin_end": 300003.4,
            "bin_start": 300003,
            "count": 1
           },
           {
            "bin_end": 300003.8,
            "bin_start": 300003.4,
            "count": 0
           },
           {
            "bin_end": 300004.2,
            "bin_start": 300003.8,
            "count": 1
           },
           {
            "bin_end": 300004.6,
            "bin_start": 300004.2,
            "count": 0
           },
           {
            "bin_end": 300005,
            "bin_start": 300004.6,
            "count": 1
           }
          ],
          "max": "300005.0",
          "min": "300001.0",
          "nan_count": 0,
          "unique_count": 5
         }
        },
        {
         "dtype": "object",
         "name": "Grade 7 Male",
         "stats": {
          "categories": [
           {
            "count": 1,
            "name": "20"
           },
           {
            "count": 1,
            "name": "240"
           },
           {
            "count": 3,
            "name": "3 others"
           }
          ],
          "nan_count": 0,
          "unique_count": 5
         }
        },
        {
         "dtype": "object",
         "name": "Grade 7 Female",
         "stats": {
          "categories": [
           {
            "count": 1,
            "name": "12"
           },
           {
            "count": 1,
            "name": "288"
           },
           {
            "count": 3,
            "name": "3 others"
           }
          ],
          "nan_count": 0,
          "unique_count": 5
         }
        },
        {
         "dtype": "object",
         "name": "Grade 8 Male",
         "stats": {
          "categories": [
           {
            "count": 1,
            "name": "13"
           },
           {
            "count": 1,
            "name": "229"
           },
           {
            "count": 3,
            "name": "3 others"
           }
          ],
          "nan_count": 0,
          "unique_count": 5
         }
        },
        {
         "dtype": "object",
         "name": "Grade 8 Female",
         "stats": {
          "categories": [
           {
            "count": 1,
            "name": "17"
           },
           {
            "count": 1,
            "name": "258"
           },
           {
            "count": 3,
            "name": "3 others"
           }
          ],
          "nan_count": 0,
          "unique_count": 5
         }
        },
        {
         "dtype": "object",
         "name": "Grade 9 Male",
         "stats": {
          "categories": [
           {
            "count": 1,
            "name": "10"
           },
           {
            "count": 1,
            "name": "225"
           },
           {
            "count": 3,
            "name": "3 others"
           }
          ],
          "nan_count": 0,
          "unique_count": 5
         }
        },
        {
         "dtype": "object",
         "name": "Grade 9 Female",
         "stats": {
          "categories": [
           {
            "count": 1,
            "name": "15"
           },
           {
            "count": 1,
            "name": "231"
           },
           {
            "count": 3,
            "name": "3 others"
           }
          ],
          "nan_count": 0,
          "unique_count": 5
         }
        },
        {
         "dtype": "object",
         "name": "Grade 10 Male",
         "stats": {
          "categories": [
           {
            "count": 1,
            "name": "17"
           },
           {
            "count": 1,
            "name": "261"
           },
           {
            "count": 3,
            "name": "3 others"
           }
          ],
          "nan_count": 0,
          "unique_count": 5
         }
        },
        {
         "dtype": "object",
         "name": "Grade 10 Female",
         "stats": {
          "categories": [
           {
            "count": 1,
            "name": "14"
           },
           {
            "count": 1,
            "name": "207"
           },
           {
            "count": 3,
            "name": "3 others"
           }
          ],
          "nan_count": 0,
          "unique_count": 5
         }
        },
        {
         "dtype": "float64",
         "name": "Grade 11 Male",
         "stats": {
          "histogram": [
           {
            "bin_end": -0.4,
            "bin_start": -0.5,
            "count": 0
           },
           {
            "bin_end": -0.3,
            "bin_start": -0.4,
            "count": 0
           },
           {
            "bin_end": -0.19999999999999996,
            "bin_start": -0.3,
            "count": 0
           },
           {
            "bin_end": -0.09999999999999998,
            "bin_start": -0.19999999999999996,
            "count": 0
           },
           {
            "bin_end": 0,
            "bin_start": -0.09999999999999998,
            "count": 0
           },
           {
            "bin_end": 0.10000000000000009,
            "bin_start": 0,
            "count": 5
           },
           {
            "bin_end": 0.20000000000000007,
            "bin_start": 0.10000000000000009,
            "count": 0
           },
           {
            "bin_end": 0.30000000000000004,
            "bin_start": 0.20000000000000007,
            "count": 0
           },
           {
            "bin_end": 0.4,
            "bin_start": 0.30000000000000004,
            "count": 0
           },
           {
            "bin_end": 0.5,
            "bin_start": 0.4,
            "count": 0
           }
          ],
          "max": "0.0",
          "min": "0.0",
          "nan_count": 0,
          "unique_count": 1
         }
        },
        {
         "dtype": "float64",
         "name": "Grade 11 Female",
         "stats": {
          "histogram": [
           {
            "bin_end": -0.4,
            "bin_start": -0.5,
            "count": 0
           },
           {
            "bin_end": -0.3,
            "bin_start": -0.4,
            "count": 0
           },
           {
            "bin_end": -0.19999999999999996,
            "bin_start": -0.3,
            "count": 0
           },
           {
            "bin_end": -0.09999999999999998,
            "bin_start": -0.19999999999999996,
            "count": 0
           },
           {
            "bin_end": 0,
            "bin_start": -0.09999999999999998,
            "count": 0
           },
           {
            "bin_end": 0.10000000000000009,
            "bin_start": 0,
            "count": 5
           },
           {
            "bin_end": 0.20000000000000007,
            "bin_start": 0.10000000000000009,
            "count": 0
           },
           {
            "bin_end": 0.30000000000000004,
            "bin_start": 0.20000000000000007,
            "count": 0
           },
           {
            "bin_end": 0.4,
            "bin_start": 0.30000000000000004,
            "count": 0
           },
           {
            "bin_end": 0.5,
            "bin_start": 0.4,
            "count": 0
           }
          ],
          "max": "0.0",
          "min": "0.0",
          "nan_count": 0,
          "unique_count": 1
         }
        },
        {
         "dtype": "float64",
         "name": "Grade 12 Male",
         "stats": {
          "histogram": [
           {
            "bin_end": -0.4,
            "bin_start": -0.5,
            "count": 0
           },
           {
            "bin_end": -0.3,
            "bin_start": -0.4,
            "count": 0
           },
           {
            "bin_end": -0.19999999999999996,
            "bin_start": -0.3,
            "count": 0
           },
           {
            "bin_end": -0.09999999999999998,
            "bin_start": -0.19999999999999996,
            "count": 0
           },
           {
            "bin_end": 0,
            "bin_start": -0.09999999999999998,
            "count": 0
           },
           {
            "bin_end": 0.10000000000000009,
            "bin_start": 0,
            "count": 5
           },
           {
            "bin_end": 0.20000000000000007,
            "bin_start": 0.10000000000000009,
            "count": 0
           },
           {
            "bin_end": 0.30000000000000004,
            "bin_start": 0.20000000000000007,
            "count": 0
           },
           {
            "bin_end": 0.4,
            "bin_start": 0.30000000000000004,
            "count": 0
           },
           {
            "bin_end": 0.5,
            "bin_start": 0.4,
            "count": 0
           }
          ],
          "max": "0.0",
          "min": "0.0",
          "nan_count": 0,
          "unique_count": 1
         }
        },
        {
         "dtype": "float64",
         "name": "Grade 12 Female",
         "stats": {
          "histogram": [
           {
            "bin_end": -0.4,
            "bin_start": -0.5,
            "count": 0
           },
           {
            "bin_end": -0.3,
            "bin_start": -0.4,
            "count": 0
           },
           {
            "bin_end": -0.19999999999999996,
            "bin_start": -0.3,
            "count": 0
           },
           {
            "bin_end": -0.09999999999999998,
            "bin_start": -0.19999999999999996,
            "count": 0
           },
           {
            "bin_end": 0,
            "bin_start": -0.09999999999999998,
            "count": 0
           },
           {
            "bin_end": 0.10000000000000009,
            "bin_start": 0,
            "count": 5
           },
           {
            "bin_end": 0.20000000000000007,
            "bin_start": 0.10000000000000009,
            "count": 0
           },
           {
            "bin_end": 0.30000000000000004,
            "bin_start": 0.20000000000000007,
            "count": 0
           },
           {
            "bin_end": 0.4,
            "bin_start": 0.30000000000000004,
            "count": 0
           },
           {
            "bin_end": 0.5,
            "bin_start": 0.4,
            "count": 0
           }
          ],
          "max": "0.0",
          "min": "0.0",
          "nan_count": 0,
          "unique_count": 1
         }
        },
        {
         "dtype": "float64",
         "name": "SPED NG Male",
         "stats": {
          "histogram": [
           {
            "bin_end": -0.4,
            "bin_start": -0.5,
            "count": 0
           },
           {
            "bin_end": -0.3,
            "bin_start": -0.4,
            "count": 0
           },
           {
            "bin_end": -0.19999999999999996,
            "bin_start": -0.3,
            "count": 0
           },
           {
            "bin_end": -0.09999999999999998,
            "bin_start": -0.19999999999999996,
            "count": 0
           },
           {
            "bin_end": 0,
            "bin_start": -0.09999999999999998,
            "count": 0
           },
           {
            "bin_end": 0.10000000000000009,
            "bin_start": 0,
            "count": 5
           },
           {
            "bin_end": 0.20000000000000007,
            "bin_start": 0.10000000000000009,
            "count": 0
           },
           {
            "bin_end": 0.30000000000000004,
            "bin_start": 0.20000000000000007,
            "count": 0
           },
           {
            "bin_end": 0.4,
            "bin_start": 0.30000000000000004,
            "count": 0
           },
           {
            "bin_end": 0.5,
            "bin_start": 0.4,
            "count": 0
           }
          ],
          "max": "0.0",
          "min": "0.0",
          "nan_count": 0,
          "unique_count": 1
         }
        },
        {
         "dtype": "float64",
         "name": "SPED NG Female",
         "stats": {
          "histogram": [
           {
            "bin_end": -0.4,
            "bin_start": -0.5,
            "count": 0
           },
           {
            "bin_end": -0.3,
            "bin_start": -0.4,
            "count": 0
           },
           {
            "bin_end": -0.19999999999999996,
            "bin_start": -0.3,
            "count": 0
           },
           {
            "bin_end": -0.09999999999999998,
            "bin_start": -0.19999999999999996,
            "count": 0
           },
           {
            "bin_end": 0,
            "bin_start": -0.09999999999999998,
            "count": 0
           },
           {
            "bin_end": 0.10000000000000009,
            "bin_start": 0,
            "count": 5
           },
           {
            "bin_end": 0.20000000000000007,
            "bin_start": 0.10000000000000009,
            "count": 0
           },
           {
            "bin_end": 0.30000000000000004,
            "bin_start": 0.20000000000000007,
            "count": 0
           },
           {
            "bin_end": 0.4,
            "bin_start": 0.30000000000000004,
            "count": 0
           },
           {
            "bin_end": 0.5,
            "bin_start": 0.4,
            "count": 0
           }
          ],
          "max": "0.0",
          "min": "0.0",
          "nan_count": 0,
          "unique_count": 1
         }
        },
        {
         "dtype": "int64",
         "name": "_deepnote_index_column"
        }
       ],
       "row_count": 5,
       "rows_bottom": null,
       "rows_top": [
        {
         "Grade 10 Female": "14",
         "Grade 10 Male": "17",
         "Grade 11 Female": 0,
         "Grade 11 Male": 0,
         "Grade 12 Female": 0,
         "Grade 12 Male": 0,
         "Grade 7 Female": "12",
         "Grade 7 Male": "20",
         "Grade 8 Female": "17",
         "Grade 8 Male": "13",
         "Grade 9 Female": "15",
         "Grade 9 Male": "10",
         "SPED NG Female": 0,
         "SPED NG Male": 0,
         "School ID": 300001,
         "_deepnote_index_column": 0
        },
        {
         "Grade 10 Female": "207",
         "Grade 10 Male": "261",
         "Grade 11 Female": 0,
         "Grade 11 Male": 0,
         "Grade 12 Female": 0,
         "Grade 12 Male": 0,
         "Grade 7 Female": "288",
         "Grade 7 Male": "240",
         "Grade 8 Female": "258",
         "Grade 8 Male": "229",
         "Grade 9 Female": "231",
         "Grade 9 Male": "225",
         "SPED NG Female": 0,
         "SPED NG Male": 0,
         "School ID": 300002,
         "_deepnote_index_column": 1
        },
        {
         "Grade 10 Female": "79",
         "Grade 10 Male": "54",
         "Grade 11 Female": 0,
         "Grade 11 Male": 0,
         "Grade 12 Female": 0,
         "Grade 12 Male": 0,
         "Grade 7 Female": "84",
         "Grade 7 Male": "89",
         "Grade 8 Female": "88",
         "Grade 8 Male": "78",
         "Grade 9 Female": "76",
         "Grade 9 Male": "65",
         "SPED NG Female": 0,
         "SPED NG Male": 0,
         "School ID": 300003,
         "_deepnote_index_column": 2
        },
        {
         "Grade 10 Female": "45",
         "Grade 10 Male": "52",
         "Grade 11 Female": 0,
         "Grade 11 Male": 0,
         "Grade 12 Female": 0,
         "Grade 12 Male": 0,
         "Grade 7 Female": "47",
         "Grade 7 Male": "38",
         "Grade 8 Female": "54",
         "Grade 8 Male": "47",
         "Grade 9 Female": "42",
         "Grade 9 Male": "39",
         "SPED NG Female": 0,
         "SPED NG Male": 0,
         "School ID": 300004,
         "_deepnote_index_column": 3
        },
        {
         "Grade 10 Female": "50",
         "Grade 10 Male": "53",
         "Grade 11 Female": 0,
         "Grade 11 Male": 0,
         "Grade 12 Female": 0,
         "Grade 12 Male": 0,
         "Grade 7 Female": "70",
         "Grade 7 Male": "78",
         "Grade 8 Female": "61",
         "Grade 8 Male": "60",
         "Grade 9 Female": "64",
         "Grade 9 Male": "68",
         "SPED NG Female": 0,
         "SPED NG Male": 0,
         "School ID": 300005,
         "_deepnote_index_column": 4
        }
       ]
      },
      "text/html": [
       "<div>\n",
       "<style scoped>\n",
       "    .dataframe tbody tr th:only-of-type {\n",
       "        vertical-align: middle;\n",
       "    }\n",
       "\n",
       "    .dataframe tbody tr th {\n",
       "        vertical-align: top;\n",
       "    }\n",
       "\n",
       "    .dataframe thead th {\n",
       "        text-align: right;\n",
       "    }\n",
       "</style>\n",
       "<table border=\"1\" class=\"dataframe\">\n",
       "  <thead>\n",
       "    <tr style=\"text-align: right;\">\n",
       "      <th></th>\n",
       "      <th>School ID</th>\n",
       "      <th>Grade 7 Male</th>\n",
       "      <th>Grade 7 Female</th>\n",
       "      <th>Grade 8 Male</th>\n",
       "      <th>Grade 8 Female</th>\n",
       "      <th>Grade 9 Male</th>\n",
       "      <th>Grade 9 Female</th>\n",
       "      <th>Grade 10 Male</th>\n",
       "      <th>Grade 10 Female</th>\n",
       "      <th>Grade 11 Male</th>\n",
       "      <th>Grade 11 Female</th>\n",
       "      <th>Grade 12 Male</th>\n",
       "      <th>Grade 12 Female</th>\n",
       "      <th>SPED NG Male</th>\n",
       "      <th>SPED NG Female</th>\n",
       "    </tr>\n",
       "  </thead>\n",
       "  <tbody>\n",
       "    <tr>\n",
       "      <th>0</th>\n",
       "      <td>300001.0</td>\n",
       "      <td>20</td>\n",
       "      <td>12</td>\n",
       "      <td>13</td>\n",
       "      <td>17</td>\n",
       "      <td>10</td>\n",
       "      <td>15</td>\n",
       "      <td>17</td>\n",
       "      <td>14</td>\n",
       "      <td>0.0</td>\n",
       "      <td>0.0</td>\n",
       "      <td>0.0</td>\n",
       "      <td>0.0</td>\n",
       "      <td>0.0</td>\n",
       "      <td>0.0</td>\n",
       "    </tr>\n",
       "    <tr>\n",
       "      <th>1</th>\n",
       "      <td>300002.0</td>\n",
       "      <td>240</td>\n",
       "      <td>288</td>\n",
       "      <td>229</td>\n",
       "      <td>258</td>\n",
       "      <td>225</td>\n",
       "      <td>231</td>\n",
       "      <td>261</td>\n",
       "      <td>207</td>\n",
       "      <td>0.0</td>\n",
       "      <td>0.0</td>\n",
       "      <td>0.0</td>\n",
       "      <td>0.0</td>\n",
       "      <td>0.0</td>\n",
       "      <td>0.0</td>\n",
       "    </tr>\n",
       "    <tr>\n",
       "      <th>2</th>\n",
       "      <td>300003.0</td>\n",
       "      <td>89</td>\n",
       "      <td>84</td>\n",
       "      <td>78</td>\n",
       "      <td>88</td>\n",
       "      <td>65</td>\n",
       "      <td>76</td>\n",
       "      <td>54</td>\n",
       "      <td>79</td>\n",
       "      <td>0.0</td>\n",
       "      <td>0.0</td>\n",
       "      <td>0.0</td>\n",
       "      <td>0.0</td>\n",
       "      <td>0.0</td>\n",
       "      <td>0.0</td>\n",
       "    </tr>\n",
       "    <tr>\n",
       "      <th>3</th>\n",
       "      <td>300004.0</td>\n",
       "      <td>38</td>\n",
       "      <td>47</td>\n",
       "      <td>47</td>\n",
       "      <td>54</td>\n",
       "      <td>39</td>\n",
       "      <td>42</td>\n",
       "      <td>52</td>\n",
       "      <td>45</td>\n",
       "      <td>0.0</td>\n",
       "      <td>0.0</td>\n",
       "      <td>0.0</td>\n",
       "      <td>0.0</td>\n",
       "      <td>0.0</td>\n",
       "      <td>0.0</td>\n",
       "    </tr>\n",
       "    <tr>\n",
       "      <th>4</th>\n",
       "      <td>300005.0</td>\n",
       "      <td>78</td>\n",
       "      <td>70</td>\n",
       "      <td>60</td>\n",
       "      <td>61</td>\n",
       "      <td>68</td>\n",
       "      <td>64</td>\n",
       "      <td>53</td>\n",
       "      <td>50</td>\n",
       "      <td>0.0</td>\n",
       "      <td>0.0</td>\n",
       "      <td>0.0</td>\n",
       "      <td>0.0</td>\n",
       "      <td>0.0</td>\n",
       "      <td>0.0</td>\n",
       "    </tr>\n",
       "  </tbody>\n",
       "</table>\n",
       "</div>"
      ],
      "text/plain": [
       "   School ID Grade 7 Male Grade 7 Female Grade 8 Male Grade 8 Female  \\\n",
       "0   300001.0           20             12           13             17   \n",
       "1   300002.0          240            288          229            258   \n",
       "2   300003.0           89             84           78             88   \n",
       "3   300004.0           38             47           47             54   \n",
       "4   300005.0           78             70           60             61   \n",
       "\n",
       "  Grade 9 Male Grade 9 Female Grade 10 Male Grade 10 Female  Grade 11 Male  \\\n",
       "0           10             15            17              14            0.0   \n",
       "1          225            231           261             207            0.0   \n",
       "2           65             76            54              79            0.0   \n",
       "3           39             42            52              45            0.0   \n",
       "4           68             64            53              50            0.0   \n",
       "\n",
       "   Grade 11 Female  Grade 12 Male  Grade 12 Female  SPED NG Male  \\\n",
       "0              0.0            0.0              0.0           0.0   \n",
       "1              0.0            0.0              0.0           0.0   \n",
       "2              0.0            0.0              0.0           0.0   \n",
       "3              0.0            0.0              0.0           0.0   \n",
       "4              0.0            0.0              0.0           0.0   \n",
       "\n",
       "   SPED NG Female  \n",
       "0             0.0  \n",
       "1             0.0  \n",
       "2             0.0  \n",
       "3             0.0  \n",
       "4             0.0  "
      ]
     },
     "execution_count": 35,
     "metadata": {},
     "output_type": "execute_result"
    }
   ],
   "source": [
    "enrol_s.head()"
   ]
  },
  {
   "cell_type": "code",
   "execution_count": null,
   "metadata": {
    "cell_id": "00018-408276b8-770e-4556-bd2e-b0139db27f4f",
    "deepnote_cell_type": "code",
    "deepnote_to_be_reexecuted": true,
    "execution_millis": 8,
    "execution_start": 1620903342822,
    "source_hash": "27bf963a",
    "tags": []
   },
   "outputs": [
    {
     "data": {
      "text/plain": [
       "School ID          1\n",
       "Grade 7 Male       1\n",
       "Grade 7 Female     1\n",
       "Grade 8 Male       1\n",
       "Grade 8 Female     1\n",
       "Grade 9 Male       1\n",
       "Grade 9 Female     1\n",
       "Grade 10 Male      1\n",
       "Grade 10 Female    1\n",
       "Grade 11 Male      1\n",
       "Grade 11 Female    1\n",
       "Grade 12 Male      1\n",
       "Grade 12 Female    1\n",
       "SPED NG Male       1\n",
       "SPED NG Female     1\n",
       "dtype: int64"
      ]
     },
     "execution_count": 37,
     "metadata": {},
     "output_type": "execute_result"
    }
   ],
   "source": [
    "enrol_s.isnull().sum()"
   ]
  },
  {
   "cell_type": "markdown",
   "metadata": {
    "cell_id": "00007-860bde18-6c75-4799-a4fd-2dde13e6e543",
    "deepnote_cell_type": "markdown",
    "tags": []
   },
   "source": []
  },
  {
   "cell_type": "markdown",
   "metadata": {
    "created_in_deepnote_cell": true,
    "deepnote_cell_type": "markdown",
    "tags": []
   },
   "source": [
    "<a style='text-decoration:none;line-height:16px;display:flex;color:#5B5B62;padding:10px;justify-content:end;' href='https://deepnote.com?utm_source=created-in-deepnote-cell&projectId=6d87636b-43a9-448d-bfae-856d2b705cc3' target=\"_blank\">\n",
    "<img alt='Created in deepnote.com' style='display:inline;max-height:16px;margin:0px;margin-right:7.5px;' src='data:image/svg+xml;base64,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' > </img>\n",
    "Created in <span style='font-weight:600;margin-left:4px;'>Deepnote</span></a>"
   ]
  }
 ],
 "metadata": {
  "deepnote": {
   "is_reactive": false
  },
  "deepnote_execution_queue": [],
  "deepnote_notebook_id": "4625f4e1-a368-4dcf-b55a-510f91a0d776",
  "kernelspec": {
   "display_name": "Python 3",
   "language": "python",
   "name": "python3"
  },
  "language_info": {
   "codemirror_mode": {
    "name": "ipython",
    "version": 3
   },
   "file_extension": ".py",
   "mimetype": "text/x-python",
   "name": "python",
   "nbconvert_exporter": "python",
   "pygments_lexer": "ipython3",
   "version": "3.8.2"
  }
 },
 "nbformat": 4,
 "nbformat_minor": 4
}
